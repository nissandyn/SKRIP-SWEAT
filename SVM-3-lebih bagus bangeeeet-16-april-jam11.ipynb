{
 "cells": [
  {
   "cell_type": "code",
   "execution_count": 1,
   "metadata": {
    "collapsed": true
   },
   "outputs": [],
   "source": [
    "\n",
    "%matplotlib inline\n",
    "import pandas as pd\n",
    "import numpy as np\n",
    "import matplotlib.pyplot as plt\n",
    "import seaborn; \n",
    "from scipy import stats\n",
    "import pylab as pl\n",
    "from sklearn.model_selection import train_test_split\n",
    "\n",
    "seaborn.set()"
   ]
  },
  {
   "cell_type": "code",
   "execution_count": 2,
   "metadata": {
    "collapsed": false
   },
   "outputs": [
    {
     "data": {
      "text/html": [
       "<div>\n",
       "<table border=\"1\" class=\"dataframe\">\n",
       "  <thead>\n",
       "    <tr style=\"text-align: right;\">\n",
       "      <th></th>\n",
       "      <th>clump_thickness</th>\n",
       "      <th>cell_size</th>\n",
       "      <th>cell_shape</th>\n",
       "      <th>marginal_adhesion</th>\n",
       "      <th>epitelial_cellsize</th>\n",
       "      <th>bare_nuclei</th>\n",
       "      <th>bland_chromatin</th>\n",
       "      <th>normal_nucleoli</th>\n",
       "      <th>mitoses</th>\n",
       "      <th>jenis</th>\n",
       "    </tr>\n",
       "  </thead>\n",
       "  <tbody>\n",
       "    <tr>\n",
       "      <th>0</th>\n",
       "      <td>5</td>\n",
       "      <td>1</td>\n",
       "      <td>1</td>\n",
       "      <td>1</td>\n",
       "      <td>2</td>\n",
       "      <td>1</td>\n",
       "      <td>3</td>\n",
       "      <td>1</td>\n",
       "      <td>1</td>\n",
       "      <td>2</td>\n",
       "    </tr>\n",
       "    <tr>\n",
       "      <th>1</th>\n",
       "      <td>5</td>\n",
       "      <td>4</td>\n",
       "      <td>4</td>\n",
       "      <td>5</td>\n",
       "      <td>7</td>\n",
       "      <td>10</td>\n",
       "      <td>3</td>\n",
       "      <td>2</td>\n",
       "      <td>1</td>\n",
       "      <td>2</td>\n",
       "    </tr>\n",
       "    <tr>\n",
       "      <th>2</th>\n",
       "      <td>3</td>\n",
       "      <td>1</td>\n",
       "      <td>1</td>\n",
       "      <td>1</td>\n",
       "      <td>2</td>\n",
       "      <td>2</td>\n",
       "      <td>3</td>\n",
       "      <td>1</td>\n",
       "      <td>1</td>\n",
       "      <td>2</td>\n",
       "    </tr>\n",
       "    <tr>\n",
       "      <th>3</th>\n",
       "      <td>6</td>\n",
       "      <td>8</td>\n",
       "      <td>8</td>\n",
       "      <td>1</td>\n",
       "      <td>3</td>\n",
       "      <td>4</td>\n",
       "      <td>3</td>\n",
       "      <td>7</td>\n",
       "      <td>1</td>\n",
       "      <td>2</td>\n",
       "    </tr>\n",
       "    <tr>\n",
       "      <th>4</th>\n",
       "      <td>4</td>\n",
       "      <td>1</td>\n",
       "      <td>1</td>\n",
       "      <td>3</td>\n",
       "      <td>2</td>\n",
       "      <td>1</td>\n",
       "      <td>3</td>\n",
       "      <td>1</td>\n",
       "      <td>1</td>\n",
       "      <td>2</td>\n",
       "    </tr>\n",
       "  </tbody>\n",
       "</table>\n",
       "</div>"
      ],
      "text/plain": [
       "   clump_thickness  cell_size  cell_shape  marginal_adhesion  \\\n",
       "0                5          1           1                  1   \n",
       "1                5          4           4                  5   \n",
       "2                3          1           1                  1   \n",
       "3                6          8           8                  1   \n",
       "4                4          1           1                  3   \n",
       "\n",
       "   epitelial_cellsize bare_nuclei  bland_chromatin  normal_nucleoli  mitoses  \\\n",
       "0                   2           1                3                1        1   \n",
       "1                   7          10                3                2        1   \n",
       "2                   2           2                3                1        1   \n",
       "3                   3           4                3                7        1   \n",
       "4                   2           1                3                1        1   \n",
       "\n",
       "   jenis  \n",
       "0      2  \n",
       "1      2  \n",
       "2      2  \n",
       "3      2  \n",
       "4      2  "
      ]
     },
     "execution_count": 2,
     "metadata": {},
     "output_type": "execute_result"
    }
   ],
   "source": [
    "df = pd.read_csv(\"wbc.csv\")\n",
    "df.head()"
   ]
  },
  {
   "cell_type": "code",
   "execution_count": 3,
   "metadata": {
    "collapsed": false
   },
   "outputs": [],
   "source": [
    "df = df.replace('?',np.nan)"
   ]
  },
  {
   "cell_type": "code",
   "execution_count": 4,
   "metadata": {
    "collapsed": false
   },
   "outputs": [],
   "source": [
    "df['bare_nuclei'] = pd.to_numeric(df.bare_nuclei.fillna(df.bare_nuclei.median()))"
   ]
  },
  {
   "cell_type": "code",
   "execution_count": 5,
   "metadata": {
    "collapsed": false
   },
   "outputs": [
    {
     "name": "stdout",
     "output_type": "stream",
     "text": [
      "<class 'pandas.core.frame.DataFrame'>\n",
      "RangeIndex: 699 entries, 0 to 698\n",
      "Data columns (total 10 columns):\n",
      "clump_thickness       699 non-null int64\n",
      "cell_size             699 non-null int64\n",
      "cell_shape            699 non-null int64\n",
      "marginal_adhesion     699 non-null int64\n",
      "epitelial_cellsize    699 non-null int64\n",
      "bare_nuclei           699 non-null float64\n",
      "bland_chromatin       699 non-null int64\n",
      "normal_nucleoli       699 non-null int64\n",
      "mitoses               699 non-null int64\n",
      "jenis                 699 non-null int64\n",
      "dtypes: float64(1), int64(9)\n",
      "memory usage: 54.7 KB\n"
     ]
    }
   ],
   "source": [
    "df.info()"
   ]
  },
  {
   "cell_type": "code",
   "execution_count": 6,
   "metadata": {
    "collapsed": true
   },
   "outputs": [],
   "source": [
    "X = df.drop([df.columns[-1]], axis=1)\n",
    "y = df.jenis"
   ]
  },
  {
   "cell_type": "code",
   "execution_count": 7,
   "metadata": {
    "collapsed": false
   },
   "outputs": [],
   "source": [
    "X_train, X_test, y_train, y_test = train_test_split(X, y,test_size=0.33, random_state=42)"
   ]
  },
  {
   "cell_type": "code",
   "execution_count": 8,
   "metadata": {
    "collapsed": true
   },
   "outputs": [],
   "source": [
    "from sklearn import svm"
   ]
  },
  {
   "cell_type": "code",
   "execution_count": 9,
   "metadata": {
    "collapsed": false
   },
   "outputs": [
    {
     "data": {
      "text/plain": [
       "SVC(C=1.0, cache_size=200, class_weight=None, coef0=0.0,\n",
       "  decision_function_shape=None, degree=3, gamma='auto', kernel='rbf',\n",
       "  max_iter=-1, probability=False, random_state=None, shrinking=True,\n",
       "  tol=0.001, verbose=False)"
      ]
     },
     "execution_count": 9,
     "metadata": {},
     "output_type": "execute_result"
    }
   ],
   "source": [
    "svc=svm.SVC(kernel='rbf')\n",
    "svc.fit(X_train,y_train)"
   ]
  },
  {
   "cell_type": "code",
   "execution_count": 10,
   "metadata": {
    "collapsed": true
   },
   "outputs": [],
   "source": [
    "from sklearn.metrics import accuracy_score, precision_recall_fscore_support"
   ]
  },
  {
   "cell_type": "code",
   "execution_count": 11,
   "metadata": {
    "collapsed": false
   },
   "outputs": [
    {
     "name": "stdout",
     "output_type": "stream",
     "text": [
      "Akurasi: 0.9610\n",
      "Precision: 0.8953\n",
      "Recall: 1.0000\n",
      "F1: 0.9448\n"
     ]
    }
   ],
   "source": [
    "y_pred = svc.predict(X_test)\n",
    "accuracy = accuracy_score(y_test, y_pred)\n",
    "precision, recall, f1, _ = precision_recall_fscore_support(y_test, y_pred)\n",
    "print (('Akurasi: %.4f') % (accuracy))\n",
    "print (('Precision: %.4f') % (precision[1]))\n",
    "print (('Recall: %.4f') % (recall[1]))\n",
    "print (('F1: %.4f') % (f1[1]))"
   ]
  },
  {
   "cell_type": "code",
   "execution_count": 12,
   "metadata": {
    "collapsed": false
   },
   "outputs": [],
   "source": [
    "from sklearn import metrics"
   ]
  },
  {
   "cell_type": "code",
   "execution_count": 13,
   "metadata": {
    "collapsed": false
   },
   "outputs": [
    {
     "data": {
      "text/plain": [
       "array([[145,   9],\n",
       "       [  0,  77]])"
      ]
     },
     "execution_count": 13,
     "metadata": {},
     "output_type": "execute_result"
    }
   ],
   "source": [
    "metrics.confusion_matrix(y_test, y_pred)"
   ]
  },
  {
   "cell_type": "code",
   "execution_count": 14,
   "metadata": {
    "collapsed": false,
    "scrolled": true
   },
   "outputs": [
    {
     "data": {
      "text/plain": [
       "(0.99786324786324787, 0.96103896103896103)"
      ]
     },
     "execution_count": 14,
     "metadata": {},
     "output_type": "execute_result"
    }
   ],
   "source": [
    "svc.score(X_train,y_train), svc.score(X_test, y_test)"
   ]
  },
  {
   "cell_type": "code",
   "execution_count": 15,
   "metadata": {
    "collapsed": false
   },
   "outputs": [],
   "source": [
    "from sklearn.model_selection import GridSearchCV\n",
    "from __future__ import print_function\n",
    "from sklearn.metrics import classification_report\n",
    "from sklearn.svm import SVC"
   ]
  },
  {
   "cell_type": "code",
   "execution_count": 75,
   "metadata": {
    "collapsed": false
   },
   "outputs": [
    {
     "name": "stdout",
     "output_type": "stream",
     "text": [
      "Automatically created module for IPython interactive environment\n",
      "# Tuning hyper-parameters for recall\n",
      "\n",
      "Best parameters set found on development set:\n",
      "\n",
      "{'C': 4, 'gamma': 0.001, 'kernel': 'rbf'}\n",
      "\n",
      "Grid scores on development set:\n",
      "\n",
      "0.901 (+/-0.054) for {'C': 1, 'gamma': 1, 'kernel': 'rbf'}\n",
      "0.955 (+/-0.037) for {'C': 1, 'gamma': 0.1, 'kernel': 'rbf'}\n",
      "0.953 (+/-0.053) for {'C': 1, 'gamma': 0.001, 'kernel': 'rbf'}\n",
      "0.941 (+/-0.060) for {'C': 1, 'gamma': 0.0001, 'kernel': 'rbf'}\n",
      "0.500 (+/-0.000) for {'C': 1, 'gamma': 1e-05, 'kernel': 'rbf'}\n",
      "0.911 (+/-0.042) for {'C': 2, 'gamma': 1, 'kernel': 'rbf'}\n",
      "0.953 (+/-0.026) for {'C': 2, 'gamma': 0.1, 'kernel': 'rbf'}\n",
      "0.961 (+/-0.040) for {'C': 2, 'gamma': 0.001, 'kernel': 'rbf'}\n",
      "0.956 (+/-0.051) for {'C': 2, 'gamma': 0.0001, 'kernel': 'rbf'}\n",
      "0.683 (+/-0.056) for {'C': 2, 'gamma': 1e-05, 'kernel': 'rbf'}\n",
      "0.911 (+/-0.042) for {'C': 4, 'gamma': 1, 'kernel': 'rbf'}\n",
      "0.953 (+/-0.026) for {'C': 4, 'gamma': 0.1, 'kernel': 'rbf'}\n",
      "0.964 (+/-0.034) for {'C': 4, 'gamma': 0.001, 'kernel': 'rbf'}\n",
      "0.956 (+/-0.051) for {'C': 4, 'gamma': 0.0001, 'kernel': 'rbf'}\n",
      "0.918 (+/-0.057) for {'C': 4, 'gamma': 1e-05, 'kernel': 'rbf'}\n",
      "0.911 (+/-0.042) for {'C': 8, 'gamma': 1, 'kernel': 'rbf'}\n",
      "0.953 (+/-0.026) for {'C': 8, 'gamma': 0.1, 'kernel': 'rbf'}\n",
      "0.961 (+/-0.044) for {'C': 8, 'gamma': 0.001, 'kernel': 'rbf'}\n",
      "0.953 (+/-0.053) for {'C': 8, 'gamma': 0.0001, 'kernel': 'rbf'}\n",
      "0.941 (+/-0.060) for {'C': 8, 'gamma': 1e-05, 'kernel': 'rbf'}\n",
      "0.911 (+/-0.042) for {'C': 10, 'gamma': 1, 'kernel': 'rbf'}\n",
      "0.953 (+/-0.026) for {'C': 10, 'gamma': 0.1, 'kernel': 'rbf'}\n",
      "0.961 (+/-0.044) for {'C': 10, 'gamma': 0.001, 'kernel': 'rbf'}\n",
      "0.953 (+/-0.053) for {'C': 10, 'gamma': 0.0001, 'kernel': 'rbf'}\n",
      "0.941 (+/-0.060) for {'C': 10, 'gamma': 1e-05, 'kernel': 'rbf'}\n",
      "0.911 (+/-0.042) for {'C': 20, 'gamma': 1, 'kernel': 'rbf'}\n",
      "0.953 (+/-0.026) for {'C': 20, 'gamma': 0.1, 'kernel': 'rbf'}\n",
      "0.964 (+/-0.034) for {'C': 20, 'gamma': 0.001, 'kernel': 'rbf'}\n",
      "0.961 (+/-0.040) for {'C': 20, 'gamma': 0.0001, 'kernel': 'rbf'}\n",
      "0.956 (+/-0.051) for {'C': 20, 'gamma': 1e-05, 'kernel': 'rbf'}\n",
      "\n",
      "Detailed classification report:\n",
      "\n",
      "The model is trained on the full development set.\n",
      "The scores are computed on the full evaluation set.\n",
      "\n",
      "             precision    recall  f1-score   support\n",
      "\n",
      "          2       0.96      0.99      0.97       154\n",
      "          4       0.97      0.92      0.95        77\n",
      "\n",
      "avg / total       0.97      0.97      0.97       231\n",
      "\n",
      "\n"
     ]
    }
   ],
   "source": [
    "print(__doc__)\n",
    "\n",
    "# Loading the Digits dataset\n",
    "#digits = datasets.load_digits()\n",
    "\n",
    "# To apply an classifier on this data, we need to flatten the image, to\n",
    "# turn the data in a (samples, feature) matrix:\n",
    "n_samples = len(df)\n",
    "X = df.drop([df.columns[-1]], axis=1)\n",
    "y = df.jenis\n",
    "\n",
    "# Split the dataset in two equal parts\n",
    "X_train, X_test, y_train, y_test = train_test_split(\n",
    "    X, y, test_size=0.33, random_state=42)\n",
    "\n",
    "# Set the parameters by cross-validation\n",
    "#tuned_parameters = [{'kernel': ['rbf'], 'gamma': [2e-15,2e-13,2e-11, 2e-9,2e-7,2e-5, 2e-3,2e-1,2e1,2e3],\n",
    "                    # 'C': [2e-5,2e-3,2e-1, 2e1,2e3,2e5,2e7,2e9,2e11,213,2e15]},]\n",
    "tuned_parameters = [{'kernel': ['rbf'], 'gamma': [1,0.1,0.001,0.0001,0.00001],\n",
    "                     'C': [ 1,2,4,8,10,20]},]\n",
    "scores = ['recall']\n",
    "\n",
    "for score in scores:\n",
    "    print(\"# Tuning hyper-parameters for %s\" % score)\n",
    "    print()\n",
    "\n",
    "    clf = GridSearchCV(SVC(C=1), tuned_parameters, cv=5,\n",
    "                       scoring='%s_macro' % score)\n",
    "    clf.fit(X_train, y_train)\n",
    "\n",
    "    print(\"Best parameters set found on development set:\")\n",
    "    print()\n",
    "    print(clf.best_params_)\n",
    "    print()\n",
    "    print(\"Grid scores on development set:\")\n",
    "    print()\n",
    "    means = clf.cv_results_['mean_test_score']\n",
    "    stds = clf.cv_results_['std_test_score']\n",
    "    for mean, std, params in zip(means, stds, clf.cv_results_['params']):\n",
    "        print(\"%0.3f (+/-%0.03f) for %r\"\n",
    "              % (mean, std * 2, params))\n",
    "    print()\n",
    "\n",
    "    print(\"Detailed classification report:\")\n",
    "    print()\n",
    "    print(\"The model is trained on the full development set.\")\n",
    "    print(\"The scores are computed on the full evaluation set.\")\n",
    "    print()\n",
    "    y_true, y_pred = y_test, clf.predict(X_test)\n",
    "    print(classification_report(y_true, y_pred))\n",
    "    print()"
   ]
  },
  {
   "cell_type": "code",
   "execution_count": 76,
   "metadata": {
    "collapsed": false
   },
   "outputs": [
    {
     "name": "stderr",
     "output_type": "stream",
     "text": [
      "C:\\Users\\Annisa\\Anaconda3\\lib\\site-packages\\sklearn\\model_selection\\_search.py:667: DeprecationWarning: The grid_scores_ attribute was deprecated in version 0.18 in favor of the more elaborate cv_results_ attribute. The grid_scores_ attribute will not be available from 0.20\n",
      "  DeprecationWarning)\n"
     ]
    },
    {
     "data": {
      "text/plain": [
       "[mean: 0.90132, std: 0.02695, params: {'C': 1, 'gamma': 1, 'kernel': 'rbf'},\n",
       " mean: 0.95470, std: 0.01840, params: {'C': 1, 'gamma': 0.1, 'kernel': 'rbf'},\n",
       " mean: 0.95330, std: 0.02630, params: {'C': 1, 'gamma': 0.001, 'kernel': 'rbf'},\n",
       " mean: 0.94113, std: 0.02989, params: {'C': 1, 'gamma': 0.0001, 'kernel': 'rbf'},\n",
       " mean: 0.50000, std: 0.00000, params: {'C': 1, 'gamma': 1e-05, 'kernel': 'rbf'},\n",
       " mean: 0.91119, std: 0.02103, params: {'C': 2, 'gamma': 1, 'kernel': 'rbf'},\n",
       " mean: 0.95330, std: 0.01274, params: {'C': 2, 'gamma': 0.1, 'kernel': 'rbf'},\n",
       " mean: 0.96081, std: 0.02004, params: {'C': 2, 'gamma': 0.001, 'kernel': 'rbf'},\n",
       " mean: 0.95634, std: 0.02540, params: {'C': 2, 'gamma': 0.0001, 'kernel': 'rbf'},\n",
       " mean: 0.68296, std: 0.02789, params: {'C': 2, 'gamma': 1e-05, 'kernel': 'rbf'},\n",
       " mean: 0.91119, std: 0.02103, params: {'C': 4, 'gamma': 1, 'kernel': 'rbf'},\n",
       " mean: 0.95330, std: 0.01274, params: {'C': 4, 'gamma': 0.1, 'kernel': 'rbf'},\n",
       " mean: 0.96388, std: 0.01681, params: {'C': 4, 'gamma': 0.001, 'kernel': 'rbf'},\n",
       " mean: 0.95634, std: 0.02540, params: {'C': 4, 'gamma': 0.0001, 'kernel': 'rbf'},\n",
       " mean: 0.91840, std: 0.02845, params: {'C': 4, 'gamma': 1e-05, 'kernel': 'rbf'},\n",
       " mean: 0.91119, std: 0.02103, params: {'C': 8, 'gamma': 1, 'kernel': 'rbf'},\n",
       " mean: 0.95330, std: 0.01274, params: {'C': 8, 'gamma': 0.1, 'kernel': 'rbf'},\n",
       " mean: 0.96084, std: 0.02179, params: {'C': 8, 'gamma': 0.001, 'kernel': 'rbf'},\n",
       " mean: 0.95330, std: 0.02630, params: {'C': 8, 'gamma': 0.0001, 'kernel': 'rbf'},\n",
       " mean: 0.94113, std: 0.02989, params: {'C': 8, 'gamma': 1e-05, 'kernel': 'rbf'},\n",
       " mean: 0.91119, std: 0.02103, params: {'C': 10, 'gamma': 1, 'kernel': 'rbf'},\n",
       " mean: 0.95330, std: 0.01274, params: {'C': 10, 'gamma': 0.1, 'kernel': 'rbf'},\n",
       " mean: 0.96084, std: 0.02179, params: {'C': 10, 'gamma': 0.001, 'kernel': 'rbf'},\n",
       " mean: 0.95330, std: 0.02630, params: {'C': 10, 'gamma': 0.0001, 'kernel': 'rbf'},\n",
       " mean: 0.94113, std: 0.02989, params: {'C': 10, 'gamma': 1e-05, 'kernel': 'rbf'},\n",
       " mean: 0.91119, std: 0.02103, params: {'C': 20, 'gamma': 1, 'kernel': 'rbf'},\n",
       " mean: 0.95330, std: 0.01274, params: {'C': 20, 'gamma': 0.1, 'kernel': 'rbf'},\n",
       " mean: 0.96388, std: 0.01681, params: {'C': 20, 'gamma': 0.001, 'kernel': 'rbf'},\n",
       " mean: 0.96081, std: 0.02004, params: {'C': 20, 'gamma': 0.0001, 'kernel': 'rbf'},\n",
       " mean: 0.95634, std: 0.02540, params: {'C': 20, 'gamma': 1e-05, 'kernel': 'rbf'}]"
      ]
     },
     "execution_count": 76,
     "metadata": {},
     "output_type": "execute_result"
    }
   ],
   "source": [
    "clf.grid_scores_"
   ]
  },
  {
   "cell_type": "code",
   "execution_count": 77,
   "metadata": {
    "collapsed": false
   },
   "outputs": [
    {
     "name": "stdout",
     "output_type": "stream",
     "text": [
      "Best accuracy obtained: 0.9638844439561653\n",
      "Parameters:\n",
      "\tC: 4\n",
      "\tgamma: 0.001\n",
      "\tkernel: rbf\n"
     ]
    }
   ],
   "source": [
    "print(\"Best accuracy obtained: {0}\".format(clf.best_score_))\n",
    "print(\"Parameters:\")\n",
    "for key, value in clf.best_params_.items():\n",
    "    print(\"\\t{}: {}\".format(key, value))"
   ]
  },
  {
   "cell_type": "code",
   "execution_count": 78,
   "metadata": {
    "collapsed": false
   },
   "outputs": [
    {
     "data": {
      "text/plain": [
       "SVC(C=4.0, cache_size=200, class_weight=None, coef0=0.0,\n",
       "  decision_function_shape=None, degree=3, gamma=0.001, kernel='rbf',\n",
       "  max_iter=-1, probability=False, random_state=None, shrinking=True,\n",
       "  tol=0.001, verbose=False)"
      ]
     },
     "execution_count": 78,
     "metadata": {},
     "output_type": "execute_result"
    }
   ],
   "source": [
    "svc2=svm.SVC(C=4.0, gamma=0.001, kernel='rbf')\n",
    "svc2.fit(X_train,y_train)"
   ]
  },
  {
   "cell_type": "code",
   "execution_count": 79,
   "metadata": {
    "collapsed": false
   },
   "outputs": [
    {
     "name": "stdout",
     "output_type": "stream",
     "text": [
      "Akurasi: 0.9654\n",
      "Precision: 0.9726\n",
      "Recall: 0.9221\n",
      "F1: 0.9467\n"
     ]
    }
   ],
   "source": [
    "y_pred = svc2.predict(X_test)\n",
    "accuracy = accuracy_score(y_test, y_pred)\n",
    "precision, recall, f1, _ = precision_recall_fscore_support(y_test, y_pred)\n",
    "print (('Akurasi: %.4f') % (accuracy))\n",
    "print (('Precision: %.4f') % (precision[1]))\n",
    "print (('Recall: %.4f') % (recall[1]))\n",
    "print (('F1: %.4f') % (f1[1]))"
   ]
  },
  {
   "cell_type": "code",
   "execution_count": 80,
   "metadata": {
    "collapsed": false
   },
   "outputs": [],
   "source": [
    "from sklearn.model_selection import RandomizedSearchCV"
   ]
  },
  {
   "cell_type": "code",
   "execution_count": 81,
   "metadata": {
    "collapsed": true
   },
   "outputs": [],
   "source": [
    "parameters = {\n",
    "    'C':            np.arange( 1, 100+1, 1 ).tolist(),\n",
    "    'kernel':       ['rbf'],                 \n",
    "    'degree':       np.arange( 0, 100+0, 1 ).tolist(),\n",
    "    'gamma':        np.arange( 0.0, 10.0+0.0, 0.1 ).tolist(),\n",
    "    'coef0':        np.arange( 0.0, 10.0+0.0, 0.1 ).tolist(),\n",
    "    'shrinking':    [True],\n",
    "    'probability':  [False],\n",
    "    'tol':          np.arange( 0.001, 0.01+0.001, 0.001 ).tolist(),\n",
    "    'cache_size':   [2000],\n",
    "    'class_weight': [None],\n",
    "    'verbose':      [False],\n",
    "    'max_iter':     [-1],\n",
    "    'random_state': [7],\n",
    "    }"
   ]
  },
  {
   "cell_type": "code",
   "execution_count": 82,
   "metadata": {
    "collapsed": true
   },
   "outputs": [],
   "source": [
    "random_search = RandomizedSearchCV( n_iter              = 500,\n",
    "                                    estimator           = svm.SVC(),\n",
    "                                    param_distributions = parameters,\n",
    "                                    n_jobs              = 4,\n",
    "                                    iid                 = True,\n",
    "                                    refit               = True,\n",
    "                                    cv                  = 5,\n",
    "                                    verbose             = 1,\n",
    "                                    pre_dispatch        = '2*n_jobs'\n",
    "                                    )         \n"
   ]
  },
  {
   "cell_type": "code",
   "execution_count": 83,
   "metadata": {
    "collapsed": false
   },
   "outputs": [
    {
     "name": "stdout",
     "output_type": "stream",
     "text": [
      "Fitting 5 folds for each of 500 candidates, totalling 2500 fits\n"
     ]
    },
    {
     "name": "stderr",
     "output_type": "stream",
     "text": [
      "[Parallel(n_jobs=4)]: Done  48 tasks      | elapsed:    5.9s\n",
      "[Parallel(n_jobs=4)]: Done 576 tasks      | elapsed:   12.6s\n",
      "[Parallel(n_jobs=4)]: Done 1576 tasks      | elapsed:   25.0s\n",
      "[Parallel(n_jobs=4)]: Done 2500 out of 2500 | elapsed:   36.3s finished\n"
     ]
    },
    {
     "data": {
      "text/plain": [
       "RandomizedSearchCV(cv=5, error_score='raise',\n",
       "          estimator=SVC(C=1.0, cache_size=200, class_weight=None, coef0=0.0,\n",
       "  decision_function_shape=None, degree=3, gamma='auto', kernel='rbf',\n",
       "  max_iter=-1, probability=False, random_state=None, shrinking=True,\n",
       "  tol=0.001, verbose=False),\n",
       "          fit_params={}, iid=True, n_iter=500, n_jobs=4,\n",
       "          param_distributions={'C': [1, 2, 3, 4, 5, 6, 7, 8, 9, 10, 11, 12, 13, 14, 15, 16, 17, 18, 19, 20, 21, 22, 23, 24, 25, 26, 27, 28, 29, 30, 31, 32, 33, 34, 35, 36, 37, 38, 39, 40, 41, 42, 43, 44, 45, 46, 47, 48, 49, 50, 51, 52, 53, 54, 55, 56, 57, 58, 59, 60, 61, 62, 63, 64, 65, 66, 67, 68, 69, 70, 71...he_size': [2000], 'class_weight': [None], 'verbose': [False], 'max_iter': [-1], 'random_state': [7]},\n",
       "          pre_dispatch='2*n_jobs', random_state=None, refit=True,\n",
       "          return_train_score=True, scoring=None, verbose=1)"
      ]
     },
     "execution_count": 83,
     "metadata": {},
     "output_type": "execute_result"
    }
   ],
   "source": [
    "random_search.fit(X_train,y_train )\n"
   ]
  },
  {
   "cell_type": "code",
   "execution_count": 84,
   "metadata": {
    "collapsed": false
   },
   "outputs": [
    {
     "name": "stdout",
     "output_type": "stream",
     "text": [
      "SVC(C=73, cache_size=2000, class_weight=None, coef0=7.0,\n",
      "  decision_function_shape=None, degree=18, gamma=0.1, kernel='rbf',\n",
      "  max_iter=-1, probability=False, random_state=7, shrinking=True,\n",
      "  tol=0.008, verbose=False)\n"
     ]
    }
   ],
   "source": [
    "print( random_search.best_estimator_ )"
   ]
  },
  {
   "cell_type": "code",
   "execution_count": 85,
   "metadata": {
    "collapsed": false
   },
   "outputs": [
    {
     "name": "stdout",
     "output_type": "stream",
     "text": [
      "0.946581196581\n"
     ]
    }
   ],
   "source": [
    "print( random_search.best_score_ )"
   ]
  },
  {
   "cell_type": "code",
   "execution_count": 86,
   "metadata": {
    "collapsed": false
   },
   "outputs": [
    {
     "name": "stdout",
     "output_type": "stream",
     "text": [
      "{'verbose': False, 'tol': 0.008, 'shrinking': True, 'random_state': 7, 'probability': False, 'max_iter': -1, 'kernel': 'rbf', 'gamma': 0.1, 'degree': 18, 'coef0': 7.0, 'class_weight': None, 'cache_size': 2000, 'C': 73}\n"
     ]
    }
   ],
   "source": [
    "print( random_search.best_params_ )"
   ]
  },
  {
   "cell_type": "code",
   "execution_count": 87,
   "metadata": {
    "collapsed": true
   },
   "outputs": [],
   "source": [
    "svc3=svm.SVC(C=54, cache_size=2000, class_weight=None, coef0=7.800000000000001,\n",
    "  decision_function_shape=None, degree=27, gamma=0.1, kernel='rbf',\n",
    "  max_iter=-1, probability=False, random_state=None, shrinking=True,\n",
    "  tol=0.004, verbose=False)"
   ]
  },
  {
   "cell_type": "code",
   "execution_count": 88,
   "metadata": {
    "collapsed": false
   },
   "outputs": [
    {
     "data": {
      "text/plain": [
       "SVC(C=54, cache_size=2000, class_weight=None, coef0=7.800000000000001,\n",
       "  decision_function_shape=None, degree=27, gamma=0.1, kernel='rbf',\n",
       "  max_iter=-1, probability=False, random_state=None, shrinking=True,\n",
       "  tol=0.004, verbose=False)"
      ]
     },
     "execution_count": 88,
     "metadata": {},
     "output_type": "execute_result"
    }
   ],
   "source": [
    "svc3.fit(X_train,y_train)"
   ]
  },
  {
   "cell_type": "code",
   "execution_count": 89,
   "metadata": {
    "collapsed": false
   },
   "outputs": [
    {
     "name": "stdout",
     "output_type": "stream",
     "text": [
      "Akurasi: 0.9740\n",
      "Precision: 0.9383\n",
      "Recall: 0.9870\n",
      "F1: 0.9620\n"
     ]
    }
   ],
   "source": [
    "y_pred20 = svc3.predict(X_test)\n",
    "accuracy = accuracy_score(y_test, y_pred20)\n",
    "precision, recall, f1, _ = precision_recall_fscore_support(y_test, y_pred20)\n",
    "print (('Akurasi: %.4f') % (accuracy))\n",
    "print (('Precision: %.4f') % (precision[1]))\n",
    "print (('Recall: %.4f') % (recall[1]))\n",
    "print (('F1: %.4f') % (f1[1]))"
   ]
  },
  {
   "cell_type": "markdown",
   "metadata": {},
   "source": [
    "# SVC3 BAGUS AKURASI DAN SENSITIVITY NYA"
   ]
  },
  {
   "cell_type": "code",
   "execution_count": 90,
   "metadata": {
    "collapsed": false
   },
   "outputs": [],
   "source": [
    "import scipy\n",
    "svc_clf = SVC()\n",
    "svc_search_params = {'C': scipy.stats.expon(scale=1), \n",
    "                     'gamma': scipy.stats.expon(scale=.1),\n",
    "                     'kernel': ['rbf'],\n",
    "                     'class_weight':['balanced',None]}\n",
    "svc_search = RandomizedSearchCV(svc_clf, \n",
    "                                param_distributions=svc_search_params, \n",
    "                                n_iter=25)"
   ]
  },
  {
   "cell_type": "code",
   "execution_count": 91,
   "metadata": {
    "collapsed": false
   },
   "outputs": [
    {
     "data": {
      "text/plain": [
       "RandomizedSearchCV(cv=None, error_score='raise',\n",
       "          estimator=SVC(C=1.0, cache_size=200, class_weight=None, coef0=0.0,\n",
       "  decision_function_shape=None, degree=3, gamma='auto', kernel='rbf',\n",
       "  max_iter=-1, probability=False, random_state=None, shrinking=True,\n",
       "  tol=0.001, verbose=False),\n",
       "          fit_params={}, iid=True, n_iter=25, n_jobs=1,\n",
       "          param_distributions={'C': <scipy.stats._distn_infrastructure.rv_frozen object at 0x000000000A980390>, 'gamma': <scipy.stats._distn_infrastructure.rv_frozen object at 0x000000000A980710>, 'kernel': ['rbf'], 'class_weight': ['balanced', None]},\n",
       "          pre_dispatch='2*n_jobs', random_state=None, refit=True,\n",
       "          return_train_score=True, scoring=None, verbose=0)"
      ]
     },
     "execution_count": 91,
     "metadata": {},
     "output_type": "execute_result"
    }
   ],
   "source": [
    "svc_search.fit(X,y)"
   ]
  },
  {
   "cell_type": "code",
   "execution_count": 92,
   "metadata": {
    "collapsed": false
   },
   "outputs": [
    {
     "name": "stderr",
     "output_type": "stream",
     "text": [
      "C:\\Users\\Annisa\\Anaconda3\\lib\\site-packages\\sklearn\\model_selection\\_search.py:667: DeprecationWarning: The grid_scores_ attribute was deprecated in version 0.18 in favor of the more elaborate cv_results_ attribute. The grid_scores_ attribute will not be available from 0.20\n",
      "  DeprecationWarning)\n"
     ]
    },
    {
     "data": {
      "text/plain": [
       "[mean: 0.79828, std: 0.03828, params: {'C': 0.043218240788556309, 'class_weight': 'balanced', 'gamma': 0.2820786445902147, 'kernel': 'rbf'},\n",
       " mean: 0.95422, std: 0.02095, params: {'C': 0.384854116600721, 'class_weight': 'balanced', 'gamma': 0.04081344100111628, 'kernel': 'rbf'},\n",
       " mean: 0.96710, std: 0.01919, params: {'C': 0.38316241355666747, 'class_weight': None, 'gamma': 0.0080328179578369099, 'kernel': 'rbf'},\n",
       " mean: 0.95136, std: 0.02263, params: {'C': 0.02947981863066668, 'class_weight': 'balanced', 'gamma': 0.032885182924549498, 'kernel': 'rbf'},\n",
       " mean: 0.94278, std: 0.02792, params: {'C': 0.85627916307926832, 'class_weight': None, 'gamma': 0.17841808102132087, 'kernel': 'rbf'},\n",
       " mean: 0.96423, std: 0.02267, params: {'C': 0.60565007462685205, 'class_weight': None, 'gamma': 0.0092911417098277549, 'kernel': 'rbf'},\n",
       " mean: 0.96710, std: 0.01789, params: {'C': 0.33352120033936583, 'class_weight': 'balanced', 'gamma': 0.011732381492940501, 'kernel': 'rbf'},\n",
       " mean: 0.96567, std: 0.01941, params: {'C': 0.63088138143657113, 'class_weight': None, 'gamma': 0.029096523241308864, 'kernel': 'rbf'},\n",
       " mean: 0.94993, std: 0.02443, params: {'C': 0.12285266737577902, 'class_weight': 'balanced', 'gamma': 0.053972539142468738, 'kernel': 'rbf'},\n",
       " mean: 0.95708, std: 0.02629, params: {'C': 1.7401321021332528, 'class_weight': None, 'gamma': 0.12050062435553668, 'kernel': 'rbf'},\n",
       " mean: 0.89413, std: 0.03522, params: {'C': 0.10586153719338895, 'class_weight': None, 'gamma': 0.21324246972561511, 'kernel': 'rbf'},\n",
       " mean: 0.65522, std: 0.00115, params: {'C': 0.0055415492637806438, 'class_weight': None, 'gamma': 0.020976181179221242, 'kernel': 'rbf'},\n",
       " mean: 0.95136, std: 0.02613, params: {'C': 2.4804983414758652, 'class_weight': 'balanced', 'gamma': 0.14873346986676331, 'kernel': 'rbf'},\n",
       " mean: 0.65522, std: 0.00115, params: {'C': 0.014149421241356774, 'class_weight': None, 'gamma': 0.098465480171111716, 'kernel': 'rbf'},\n",
       " mean: 0.95708, std: 0.02629, params: {'C': 4.6166671641554853, 'class_weight': None, 'gamma': 0.1080587514670945, 'kernel': 'rbf'},\n",
       " mean: 0.95422, std: 0.02444, params: {'C': 0.48768342961009931, 'class_weight': 'balanced', 'gamma': 0.04629507602043946, 'kernel': 'rbf'},\n",
       " mean: 0.93276, std: 0.02924, params: {'C': 0.57203293521842258, 'class_weight': None, 'gamma': 0.24623476216563212, 'kernel': 'rbf'},\n",
       " mean: 0.95851, std: 0.02616, params: {'C': 1.2112613879890073, 'class_weight': None, 'gamma': 0.078682159796536921, 'kernel': 'rbf'},\n",
       " mean: 0.94134, std: 0.02610, params: {'C': 0.060352872925224038, 'class_weight': None, 'gamma': 0.07242288954854928, 'kernel': 'rbf'},\n",
       " mean: 0.95994, std: 0.02266, params: {'C': 0.8028217599179166, 'class_weight': 'balanced', 'gamma': 0.036420088609767233, 'kernel': 'rbf'},\n",
       " mean: 0.90272, std: 0.03823, params: {'C': 0.69890143414288219, 'class_weight': None, 'gamma': 0.44132247989314144, 'kernel': 'rbf'},\n",
       " mean: 0.65522, std: 0.00115, params: {'C': 0.0082868505636279049, 'class_weight': None, 'gamma': 0.11589042066633436, 'kernel': 'rbf'},\n",
       " mean: 0.92847, std: 0.03530, params: {'C': 2.0258793924861491, 'class_weight': None, 'gamma': 0.37009538237176282, 'kernel': 'rbf'},\n",
       " mean: 0.92704, std: 0.03042, params: {'C': 0.7192786849694045, 'class_weight': 'balanced', 'gamma': 0.28378463055466968, 'kernel': 'rbf'},\n",
       " mean: 0.95994, std: 0.02448, params: {'C': 0.91985828230204614, 'class_weight': None, 'gamma': 0.046863827161493038, 'kernel': 'rbf'}]"
      ]
     },
     "execution_count": 92,
     "metadata": {},
     "output_type": "execute_result"
    }
   ],
   "source": [
    "svc_search.grid_scores_"
   ]
  },
  {
   "cell_type": "code",
   "execution_count": 93,
   "metadata": {
    "collapsed": false
   },
   "outputs": [
    {
     "data": {
      "text/plain": [
       "SVC(C=0.38316241355666747, cache_size=200, class_weight=None, coef0=0.0,\n",
       "  decision_function_shape=None, degree=3, gamma=0.0080328179578369099,\n",
       "  kernel='rbf', max_iter=-1, probability=False, random_state=None,\n",
       "  shrinking=True, tol=0.001, verbose=False)"
      ]
     },
     "execution_count": 93,
     "metadata": {},
     "output_type": "execute_result"
    }
   ],
   "source": [
    "svc_search.best_estimator_"
   ]
  },
  {
   "cell_type": "code",
   "execution_count": 94,
   "metadata": {
    "collapsed": false
   },
   "outputs": [
    {
     "data": {
      "text/plain": [
       "0.96709585121602293"
      ]
     },
     "execution_count": 94,
     "metadata": {},
     "output_type": "execute_result"
    }
   ],
   "source": [
    "svc_search.best_score_"
   ]
  },
  {
   "cell_type": "code",
   "execution_count": 98,
   "metadata": {
    "collapsed": false
   },
   "outputs": [
    {
     "data": {
      "text/plain": [
       "SVC(C=0.3933156460800332, cache_size=200, class_weight='balanced', coef0=0.0,\n",
       "  decision_function_shape=None, degree=3, gamma=0.003513419649945411,\n",
       "  kernel='rbf', max_iter=-1, probability=False, random_state=7,\n",
       "  shrinking=True, tol=0.001, verbose=False)"
      ]
     },
     "execution_count": 98,
     "metadata": {},
     "output_type": "execute_result"
    }
   ],
   "source": [
    "svc6=SVC(C=0.39331564608003322, cache_size=200, class_weight='balanced', coef0=0.0,\n",
    "  decision_function_shape=None, degree=3, gamma=0.0035134196499454111,\n",
    "  kernel='rbf', max_iter=-1, probability=False, random_state=7,\n",
    "  shrinking=True, tol=0.001, verbose=False)\n",
    "svc6.fit(X_train,y_train)"
   ]
  },
  {
   "cell_type": "code",
   "execution_count": 99,
   "metadata": {
    "collapsed": false
   },
   "outputs": [
    {
     "name": "stdout",
     "output_type": "stream",
     "text": [
      "Akurasi: 0.9697\n",
      "Precision: 0.9487\n",
      "Recall: 0.9610\n",
      "F1: 0.9548\n"
     ]
    }
   ],
   "source": [
    "y_pred30 = svc6.predict(X_test)\n",
    "accuracy = accuracy_score(y_test, y_pred30)\n",
    "precision, recall, f1, _ = precision_recall_fscore_support(y_test, y_pred30)\n",
    "print (('Akurasi: %.4f') % (accuracy))\n",
    "print (('Precision: %.4f') % (precision[1]))\n",
    "print (('Recall: %.4f') % (recall[1]))\n",
    "print (('F1: %.4f') % (f1[1]))"
   ]
  },
  {
   "cell_type": "markdown",
   "metadata": {},
   "source": [
    "# svc6 memiliki akurasi precision recall dan f1 di atas 94% \n"
   ]
  },
  {
   "cell_type": "code",
   "execution_count": 100,
   "metadata": {
    "collapsed": true
   },
   "outputs": [],
   "source": [
    "svc4=svm.SVC(C=0.091149875631783353, cache_size=200, class_weight=None, coef0=0.0,\n",
    "  decision_function_shape=None, degree=3, gamma=0.012540745017286704,\n",
    "  kernel='rbf', max_iter=-1, probability=False, random_state=42,\n",
    "  shrinking=True, tol=0.001, verbose=False)"
   ]
  },
  {
   "cell_type": "code",
   "execution_count": 101,
   "metadata": {
    "collapsed": false
   },
   "outputs": [
    {
     "data": {
      "text/plain": [
       "SVC(C=0.09114987563178335, cache_size=200, class_weight=None, coef0=0.0,\n",
       "  decision_function_shape=None, degree=3, gamma=0.012540745017286704,\n",
       "  kernel='rbf', max_iter=-1, probability=False, random_state=42,\n",
       "  shrinking=True, tol=0.001, verbose=False)"
      ]
     },
     "execution_count": 101,
     "metadata": {},
     "output_type": "execute_result"
    }
   ],
   "source": [
    "svc4.fit(X_train,y_train)"
   ]
  },
  {
   "cell_type": "code",
   "execution_count": 102,
   "metadata": {
    "collapsed": false
   },
   "outputs": [
    {
     "name": "stdout",
     "output_type": "stream",
     "text": [
      "Akurasi: 0.9654\n",
      "Precision: 0.9367\n",
      "Recall: 0.9610\n",
      "F1: 0.9487\n"
     ]
    }
   ],
   "source": [
    "y_pred40 = svc4.predict(X_test)\n",
    "accuracy = accuracy_score(y_test, y_pred40)\n",
    "precision, recall, f1, _ = precision_recall_fscore_support(y_test, y_pred40)\n",
    "print (('Akurasi: %.4f') % (accuracy))\n",
    "print (('Precision: %.4f') % (precision[1]))\n",
    "print (('Recall: %.4f') % (recall[1]))\n",
    "print (('F1: %.4f') % (f1[1]))"
   ]
  },
  {
   "cell_type": "code",
   "execution_count": 103,
   "metadata": {
    "collapsed": false
   },
   "outputs": [
    {
     "name": "stdout",
     "output_type": "stream",
     "text": [
      "Automatically created module for IPython interactive environment\n",
      "# Tuning hyper-parameters for recall\n",
      "\n",
      "Best parameters set found on development set:\n",
      "\n",
      "{'C': 0.2, 'gamma': 0.002, 'kernel': 'rbf'}\n",
      "\n",
      "Grid scores on development set:\n",
      "\n",
      "0.500 (+/-0.000) for {'C': 2e-05, 'gamma': 2e-15, 'kernel': 'rbf'}\n",
      "0.500 (+/-0.000) for {'C': 2e-05, 'gamma': 2e-13, 'kernel': 'rbf'}\n",
      "0.500 (+/-0.000) for {'C': 2e-05, 'gamma': 2e-11, 'kernel': 'rbf'}\n",
      "0.500 (+/-0.000) for {'C': 2e-05, 'gamma': 2e-09, 'kernel': 'rbf'}\n",
      "0.500 (+/-0.000) for {'C': 2e-05, 'gamma': 2e-07, 'kernel': 'rbf'}\n",
      "0.500 (+/-0.000) for {'C': 2e-05, 'gamma': 2e-05, 'kernel': 'rbf'}\n",
      "0.500 (+/-0.000) for {'C': 2e-05, 'gamma': 0.002, 'kernel': 'rbf'}\n",
      "0.500 (+/-0.000) for {'C': 2e-05, 'gamma': 0.2, 'kernel': 'rbf'}\n",
      "0.500 (+/-0.000) for {'C': 2e-05, 'gamma': 20.0, 'kernel': 'rbf'}\n",
      "0.500 (+/-0.000) for {'C': 2e-05, 'gamma': 2000.0, 'kernel': 'rbf'}\n",
      "0.500 (+/-0.000) for {'C': 0.002, 'gamma': 2e-15, 'kernel': 'rbf'}\n",
      "0.500 (+/-0.000) for {'C': 0.002, 'gamma': 2e-13, 'kernel': 'rbf'}\n",
      "0.500 (+/-0.000) for {'C': 0.002, 'gamma': 2e-11, 'kernel': 'rbf'}\n",
      "0.500 (+/-0.000) for {'C': 0.002, 'gamma': 2e-09, 'kernel': 'rbf'}\n",
      "0.500 (+/-0.000) for {'C': 0.002, 'gamma': 2e-07, 'kernel': 'rbf'}\n",
      "0.500 (+/-0.000) for {'C': 0.002, 'gamma': 2e-05, 'kernel': 'rbf'}\n",
      "0.500 (+/-0.000) for {'C': 0.002, 'gamma': 0.002, 'kernel': 'rbf'}\n",
      "0.500 (+/-0.000) for {'C': 0.002, 'gamma': 0.2, 'kernel': 'rbf'}\n",
      "0.500 (+/-0.000) for {'C': 0.002, 'gamma': 20.0, 'kernel': 'rbf'}\n",
      "0.500 (+/-0.000) for {'C': 0.002, 'gamma': 2000.0, 'kernel': 'rbf'}\n",
      "0.500 (+/-0.000) for {'C': 0.2, 'gamma': 2e-15, 'kernel': 'rbf'}\n",
      "0.500 (+/-0.000) for {'C': 0.2, 'gamma': 2e-13, 'kernel': 'rbf'}\n",
      "0.500 (+/-0.000) for {'C': 0.2, 'gamma': 2e-11, 'kernel': 'rbf'}\n",
      "0.500 (+/-0.000) for {'C': 0.2, 'gamma': 2e-09, 'kernel': 'rbf'}\n",
      "0.500 (+/-0.000) for {'C': 0.2, 'gamma': 2e-07, 'kernel': 'rbf'}\n",
      "0.500 (+/-0.000) for {'C': 0.2, 'gamma': 2e-05, 'kernel': 'rbf'}\n",
      "0.956 (+/-0.051) for {'C': 0.2, 'gamma': 0.002, 'kernel': 'rbf'}\n",
      "0.938 (+/-0.039) for {'C': 0.2, 'gamma': 0.2, 'kernel': 'rbf'}\n",
      "0.500 (+/-0.000) for {'C': 0.2, 'gamma': 20.0, 'kernel': 'rbf'}\n",
      "0.500 (+/-0.000) for {'C': 0.2, 'gamma': 2000.0, 'kernel': 'rbf'}\n",
      "\n",
      "Detailed classification report:\n",
      "\n",
      "The model is trained on the full development set.\n",
      "The scores are computed on the full evaluation set.\n",
      "\n",
      "             precision    recall  f1-score   support\n",
      "\n",
      "          2       0.97      0.98      0.97       154\n",
      "          4       0.96      0.94      0.95        77\n",
      "\n",
      "avg / total       0.97      0.97      0.97       231\n",
      "\n",
      "\n"
     ]
    }
   ],
   "source": [
    "print(__doc__)\n",
    "\n",
    "# Loading the Digits dataset\n",
    "#digits = datasets.load_digits()\n",
    "\n",
    "# To apply an classifier on this data, we need to flatten the image, to\n",
    "# turn the data in a (samples, feature) matrix:\n",
    "\n",
    "# Set the parameters by cross-validation\n",
    "tuned_parameters = [{'kernel': ['rbf'], 'gamma': [2e-15,2e-13,2e-11, 2e-9,2e-7,2e-5, 2e-3,2e-1,2e1,2e3],\n",
    "                     'C': [2e-5,2e-3,2e-1]},]\n",
    "\n",
    "scores = ['recall']\n",
    "\n",
    "for score in scores:\n",
    "    print(\"# Tuning hyper-parameters for %s\" % score)\n",
    "    print()\n",
    "\n",
    "    clf2 = GridSearchCV(SVC(C=1), tuned_parameters, cv=5,\n",
    "                       scoring='%s_macro' % score)\n",
    "    clf2.fit(X_train, y_train)\n",
    "\n",
    "    print(\"Best parameters set found on development set:\")\n",
    "    print()\n",
    "    print(clf2.best_params_)\n",
    "    print()\n",
    "    print(\"Grid scores on development set:\")\n",
    "    print()\n",
    "    means = clf2.cv_results_['mean_test_score']\n",
    "    stds = clf2.cv_results_['std_test_score']\n",
    "    for mean, std, params in zip(means, stds, clf2.cv_results_['params']):\n",
    "        print(\"%0.3f (+/-%0.03f) for %r\"\n",
    "              % (mean, std * 2, params))\n",
    "    print()\n",
    "\n",
    "    print(\"Detailed classification report:\")\n",
    "    print()\n",
    "    print(\"The model is trained on the full development set.\")\n",
    "    print(\"The scores are computed on the full evaluation set.\")\n",
    "    print()\n",
    "    y_true, y_pred = y_test, clf2.predict(X_test)\n",
    "    print(classification_report(y_true, y_pred))\n",
    "    print()"
   ]
  },
  {
   "cell_type": "code",
   "execution_count": 104,
   "metadata": {
    "collapsed": false
   },
   "outputs": [
    {
     "name": "stderr",
     "output_type": "stream",
     "text": [
      "C:\\Users\\Annisa\\Anaconda3\\lib\\site-packages\\sklearn\\model_selection\\_search.py:667: DeprecationWarning: The grid_scores_ attribute was deprecated in version 0.18 in favor of the more elaborate cv_results_ attribute. The grid_scores_ attribute will not be available from 0.20\n",
      "  DeprecationWarning)\n"
     ]
    },
    {
     "data": {
      "text/plain": [
       "[mean: 0.90132, std: 0.02695, params: {'C': 1, 'gamma': 1, 'kernel': 'rbf'},\n",
       " mean: 0.95470, std: 0.01840, params: {'C': 1, 'gamma': 0.1, 'kernel': 'rbf'},\n",
       " mean: 0.95330, std: 0.02630, params: {'C': 1, 'gamma': 0.001, 'kernel': 'rbf'},\n",
       " mean: 0.94113, std: 0.02989, params: {'C': 1, 'gamma': 0.0001, 'kernel': 'rbf'},\n",
       " mean: 0.50000, std: 0.00000, params: {'C': 1, 'gamma': 1e-05, 'kernel': 'rbf'},\n",
       " mean: 0.91119, std: 0.02103, params: {'C': 2, 'gamma': 1, 'kernel': 'rbf'},\n",
       " mean: 0.95330, std: 0.01274, params: {'C': 2, 'gamma': 0.1, 'kernel': 'rbf'},\n",
       " mean: 0.96081, std: 0.02004, params: {'C': 2, 'gamma': 0.001, 'kernel': 'rbf'},\n",
       " mean: 0.95634, std: 0.02540, params: {'C': 2, 'gamma': 0.0001, 'kernel': 'rbf'},\n",
       " mean: 0.68296, std: 0.02789, params: {'C': 2, 'gamma': 1e-05, 'kernel': 'rbf'},\n",
       " mean: 0.91119, std: 0.02103, params: {'C': 4, 'gamma': 1, 'kernel': 'rbf'},\n",
       " mean: 0.95330, std: 0.01274, params: {'C': 4, 'gamma': 0.1, 'kernel': 'rbf'},\n",
       " mean: 0.96388, std: 0.01681, params: {'C': 4, 'gamma': 0.001, 'kernel': 'rbf'},\n",
       " mean: 0.95634, std: 0.02540, params: {'C': 4, 'gamma': 0.0001, 'kernel': 'rbf'},\n",
       " mean: 0.91840, std: 0.02845, params: {'C': 4, 'gamma': 1e-05, 'kernel': 'rbf'},\n",
       " mean: 0.91119, std: 0.02103, params: {'C': 8, 'gamma': 1, 'kernel': 'rbf'},\n",
       " mean: 0.95330, std: 0.01274, params: {'C': 8, 'gamma': 0.1, 'kernel': 'rbf'},\n",
       " mean: 0.96084, std: 0.02179, params: {'C': 8, 'gamma': 0.001, 'kernel': 'rbf'},\n",
       " mean: 0.95330, std: 0.02630, params: {'C': 8, 'gamma': 0.0001, 'kernel': 'rbf'},\n",
       " mean: 0.94113, std: 0.02989, params: {'C': 8, 'gamma': 1e-05, 'kernel': 'rbf'},\n",
       " mean: 0.91119, std: 0.02103, params: {'C': 10, 'gamma': 1, 'kernel': 'rbf'},\n",
       " mean: 0.95330, std: 0.01274, params: {'C': 10, 'gamma': 0.1, 'kernel': 'rbf'},\n",
       " mean: 0.96084, std: 0.02179, params: {'C': 10, 'gamma': 0.001, 'kernel': 'rbf'},\n",
       " mean: 0.95330, std: 0.02630, params: {'C': 10, 'gamma': 0.0001, 'kernel': 'rbf'},\n",
       " mean: 0.94113, std: 0.02989, params: {'C': 10, 'gamma': 1e-05, 'kernel': 'rbf'},\n",
       " mean: 0.91119, std: 0.02103, params: {'C': 20, 'gamma': 1, 'kernel': 'rbf'},\n",
       " mean: 0.95330, std: 0.01274, params: {'C': 20, 'gamma': 0.1, 'kernel': 'rbf'},\n",
       " mean: 0.96388, std: 0.01681, params: {'C': 20, 'gamma': 0.001, 'kernel': 'rbf'},\n",
       " mean: 0.96081, std: 0.02004, params: {'C': 20, 'gamma': 0.0001, 'kernel': 'rbf'},\n",
       " mean: 0.95634, std: 0.02540, params: {'C': 20, 'gamma': 1e-05, 'kernel': 'rbf'}]"
      ]
     },
     "execution_count": 104,
     "metadata": {},
     "output_type": "execute_result"
    }
   ],
   "source": [
    "clf.grid_scores_"
   ]
  },
  {
   "cell_type": "code",
   "execution_count": 105,
   "metadata": {
    "collapsed": false
   },
   "outputs": [
    {
     "name": "stdout",
     "output_type": "stream",
     "text": [
      "Best accuracy obtained: 0.9563443785267557\n",
      "Parameters:\n",
      "\tC: 0.2\n",
      "\tgamma: 0.002\n",
      "\tkernel: rbf\n"
     ]
    }
   ],
   "source": [
    "print(\"Best accuracy obtained: {0}\".format(clf2.best_score_))\n",
    "print(\"Parameters:\")\n",
    "for key, value in clf2.best_params_.items():\n",
    "    print(\"\\t{}: {}\".format(key, value))"
   ]
  },
  {
   "cell_type": "code",
   "execution_count": 106,
   "metadata": {
    "collapsed": false
   },
   "outputs": [
    {
     "name": "stdout",
     "output_type": "stream",
     "text": [
      "Automatically created module for IPython interactive environment\n",
      "# Tuning hyper-parameters for recall\n",
      "\n",
      "Best parameters set found on development set:\n",
      "\n",
      "{'C': 20000000.0, 'gamma': 2e-07, 'kernel': 'rbf'}\n",
      "\n",
      "Grid scores on development set:\n",
      "\n",
      "0.500 (+/-0.000) for {'C': 2, 'gamma': 2e-15, 'kernel': 'rbf'}\n",
      "0.500 (+/-0.000) for {'C': 2, 'gamma': 2e-13, 'kernel': 'rbf'}\n",
      "0.500 (+/-0.000) for {'C': 2, 'gamma': 2e-11, 'kernel': 'rbf'}\n",
      "0.500 (+/-0.000) for {'C': 2, 'gamma': 2e-09, 'kernel': 'rbf'}\n",
      "0.500 (+/-0.000) for {'C': 2, 'gamma': 2e-07, 'kernel': 'rbf'}\n",
      "0.918 (+/-0.057) for {'C': 2, 'gamma': 2e-05, 'kernel': 'rbf'}\n",
      "0.964 (+/-0.034) for {'C': 2, 'gamma': 0.002, 'kernel': 'rbf'}\n",
      "0.956 (+/-0.013) for {'C': 2, 'gamma': 0.2, 'kernel': 'rbf'}\n",
      "0.748 (+/-0.253) for {'C': 2, 'gamma': 20.0, 'kernel': 'rbf'}\n",
      "0.732 (+/-0.222) for {'C': 2, 'gamma': 2000.0, 'kernel': 'rbf'}\n",
      "0.500 (+/-0.000) for {'C': 2000.0, 'gamma': 2e-15, 'kernel': 'rbf'}\n",
      "0.500 (+/-0.000) for {'C': 2000.0, 'gamma': 2e-13, 'kernel': 'rbf'}\n",
      "0.500 (+/-0.000) for {'C': 2000.0, 'gamma': 2e-11, 'kernel': 'rbf'}\n",
      "0.500 (+/-0.000) for {'C': 2000.0, 'gamma': 2e-09, 'kernel': 'rbf'}\n",
      "0.956 (+/-0.051) for {'C': 2000.0, 'gamma': 2e-07, 'kernel': 'rbf'}\n",
      "0.962 (+/-0.027) for {'C': 2000.0, 'gamma': 2e-05, 'kernel': 'rbf'}\n",
      "0.913 (+/-0.038) for {'C': 2000.0, 'gamma': 0.002, 'kernel': 'rbf'}\n",
      "0.956 (+/-0.013) for {'C': 2000.0, 'gamma': 0.2, 'kernel': 'rbf'}\n",
      "0.748 (+/-0.253) for {'C': 2000.0, 'gamma': 20.0, 'kernel': 'rbf'}\n",
      "0.732 (+/-0.222) for {'C': 2000.0, 'gamma': 2000.0, 'kernel': 'rbf'}\n",
      "0.500 (+/-0.000) for {'C': 200000.0, 'gamma': 2e-15, 'kernel': 'rbf'}\n",
      "0.500 (+/-0.000) for {'C': 200000.0, 'gamma': 2e-13, 'kernel': 'rbf'}\n",
      "0.500 (+/-0.000) for {'C': 200000.0, 'gamma': 2e-11, 'kernel': 'rbf'}\n",
      "0.956 (+/-0.051) for {'C': 200000.0, 'gamma': 2e-09, 'kernel': 'rbf'}\n",
      "0.962 (+/-0.027) for {'C': 200000.0, 'gamma': 2e-07, 'kernel': 'rbf'}\n",
      "0.959 (+/-0.036) for {'C': 200000.0, 'gamma': 2e-05, 'kernel': 'rbf'}\n",
      "0.907 (+/-0.031) for {'C': 200000.0, 'gamma': 0.002, 'kernel': 'rbf'}\n",
      "0.956 (+/-0.013) for {'C': 200000.0, 'gamma': 0.2, 'kernel': 'rbf'}\n",
      "0.748 (+/-0.253) for {'C': 200000.0, 'gamma': 20.0, 'kernel': 'rbf'}\n",
      "0.732 (+/-0.222) for {'C': 200000.0, 'gamma': 2000.0, 'kernel': 'rbf'}\n",
      "0.500 (+/-0.000) for {'C': 20000000.0, 'gamma': 2e-15, 'kernel': 'rbf'}\n",
      "0.500 (+/-0.000) for {'C': 20000000.0, 'gamma': 2e-13, 'kernel': 'rbf'}\n",
      "0.914 (+/-0.065) for {'C': 20000000.0, 'gamma': 2e-11, 'kernel': 'rbf'}\n",
      "0.965 (+/-0.029) for {'C': 20000000.0, 'gamma': 2e-09, 'kernel': 'rbf'}\n",
      "0.969 (+/-0.032) for {'C': 20000000.0, 'gamma': 2e-07, 'kernel': 'rbf'}\n",
      "0.912 (+/-0.047) for {'C': 20000000.0, 'gamma': 2e-05, 'kernel': 'rbf'}\n",
      "0.907 (+/-0.031) for {'C': 20000000.0, 'gamma': 0.002, 'kernel': 'rbf'}\n",
      "0.956 (+/-0.013) for {'C': 20000000.0, 'gamma': 0.2, 'kernel': 'rbf'}\n",
      "0.748 (+/-0.253) for {'C': 20000000.0, 'gamma': 20.0, 'kernel': 'rbf'}\n",
      "0.732 (+/-0.222) for {'C': 20000000.0, 'gamma': 2000.0, 'kernel': 'rbf'}\n",
      "\n",
      "Detailed classification report:\n",
      "\n",
      "The model is trained on the full development set.\n",
      "The scores are computed on the full evaluation set.\n",
      "\n",
      "             precision    recall  f1-score   support\n",
      "\n",
      "          2       0.95      0.99      0.97       154\n",
      "          4       0.97      0.90      0.93        77\n",
      "\n",
      "avg / total       0.96      0.96      0.96       231\n",
      "\n",
      "\n"
     ]
    }
   ],
   "source": [
    "print(__doc__)\n",
    "\n",
    "# Loading the Digits dataset\n",
    "#digits = datasets.load_digits()\n",
    "\n",
    "# To apply an classifier on this data, we need to flatten the image, to\n",
    "# turn the data in a (samples, feature) matrix:\n",
    "\n",
    "# Set the parameters by cross-validation\n",
    "tuned_parameters = [{'kernel': ['rbf'], 'gamma': [2e-15,2e-13,2e-11, 2e-9,2e-7,2e-5, 2e-3,2e-1,2e1,2e3],\n",
    "                     'C': [2,2e3,2e5,2e7]},]\n",
    "\n",
    "scores = ['recall']\n",
    "\n",
    "for score in scores:\n",
    "    print(\"# Tuning hyper-parameters for %s\" % score)\n",
    "    print()\n",
    "\n",
    "    clf3 = GridSearchCV(SVC(C=1), tuned_parameters, cv=5,\n",
    "                       scoring='%s_macro' % score)\n",
    "    clf3.fit(X_train, y_train)\n",
    "\n",
    "    print(\"Best parameters set found on development set:\")\n",
    "    print()\n",
    "    print(clf3.best_params_)\n",
    "    print()\n",
    "    print(\"Grid scores on development set:\")\n",
    "    print()\n",
    "    means = clf3.cv_results_['mean_test_score']\n",
    "    stds = clf3.cv_results_['std_test_score']\n",
    "    for mean, std, params in zip(means, stds, clf3.cv_results_['params']):\n",
    "        print(\"%0.3f (+/-%0.03f) for %r\"\n",
    "              % (mean, std * 2, params))\n",
    "    print()\n",
    "\n",
    "    print(\"Detailed classification report:\")\n",
    "    print()\n",
    "    print(\"The model is trained on the full development set.\")\n",
    "    print(\"The scores are computed on the full evaluation set.\")\n",
    "    print()\n",
    "    y_true, y_pred = y_test, clf3.predict(X_test)\n",
    "    print(classification_report(y_true, y_pred))\n",
    "    print()"
   ]
  },
  {
   "cell_type": "code",
   "execution_count": 107,
   "metadata": {
    "collapsed": false
   },
   "outputs": [
    {
     "name": "stdout",
     "output_type": "stream",
     "text": [
      "Best accuracy obtained: 0.9685942017909233\n",
      "Parameters:\n",
      "\tC: 20000000.0\n",
      "\tgamma: 2e-07\n",
      "\tkernel: rbf\n"
     ]
    }
   ],
   "source": [
    "print(\"Best accuracy obtained: {0}\".format(clf3.best_score_))\n",
    "print(\"Parameters:\")\n",
    "for key, value in clf3.best_params_.items():\n",
    "    print(\"\\t{}: {}\".format(key, value))"
   ]
  },
  {
   "cell_type": "code",
   "execution_count": 108,
   "metadata": {
    "collapsed": false
   },
   "outputs": [
    {
     "name": "stdout",
     "output_type": "stream",
     "text": [
      "Best accuracy obtained: 0.9649942355994311\n",
      "Parameters:\n",
      "\tC: 2000000000.0\n",
      "\tgamma: 2e-09\n",
      "\tkernel: rbf\n"
     ]
    }
   ],
   "source": [
    "print(\"Best accuracy obtained: {0}\".format(clf4.best_score_))\n",
    "print(\"Parameters:\")\n",
    "for key, value in clf4.best_params_.items():\n",
    "    print(\"\\t{}: {}\".format(key, value))"
   ]
  },
  {
   "cell_type": "code",
   "execution_count": 109,
   "metadata": {
    "collapsed": false
   },
   "outputs": [
    {
     "name": "stdout",
     "output_type": "stream",
     "text": [
      "Automatically created module for IPython interactive environment\n",
      "# Tuning hyper-parameters for recall\n",
      "\n",
      "Best parameters set found on development set:\n",
      "\n",
      "{'C': 200000000000.0, 'gamma': 2e-07, 'kernel': 'rbf'}\n",
      "\n",
      "Grid scores on development set:\n",
      "\n",
      "0.914 (+/-0.065) for {'C': 200000000000.0, 'gamma': 2e-15, 'kernel': 'rbf'}\n",
      "0.924 (+/-0.056) for {'C': 200000000000.0, 'gamma': 2e-13, 'kernel': 'rbf'}\n",
      "0.924 (+/-0.056) for {'C': 200000000000.0, 'gamma': 2e-11, 'kernel': 'rbf'}\n",
      "0.958 (+/-0.029) for {'C': 200000000000.0, 'gamma': 2e-09, 'kernel': 'rbf'}\n",
      "0.961 (+/-0.028) for {'C': 200000000000.0, 'gamma': 2e-07, 'kernel': 'rbf'}\n",
      "0.882 (+/-0.025) for {'C': 200000000000.0, 'gamma': 2e-05, 'kernel': 'rbf'}\n",
      "0.907 (+/-0.031) for {'C': 200000000000.0, 'gamma': 0.002, 'kernel': 'rbf'}\n",
      "0.956 (+/-0.013) for {'C': 200000000000.0, 'gamma': 0.2, 'kernel': 'rbf'}\n",
      "0.748 (+/-0.253) for {'C': 200000000000.0, 'gamma': 20.0, 'kernel': 'rbf'}\n",
      "0.732 (+/-0.222) for {'C': 200000000000.0, 'gamma': 2000.0, 'kernel': 'rbf'}\n",
      "\n",
      "Detailed classification report:\n",
      "\n",
      "The model is trained on the full development set.\n",
      "The scores are computed on the full evaluation set.\n",
      "\n",
      "             precision    recall  f1-score   support\n",
      "\n",
      "          2       0.94      0.99      0.97       154\n",
      "          4       0.97      0.88      0.93        77\n",
      "\n",
      "avg / total       0.95      0.95      0.95       231\n",
      "\n",
      "\n"
     ]
    }
   ],
   "source": [
    "print(__doc__)\n",
    "\n",
    "# Loading the Digits dataset\n",
    "#digits = datasets.load_digits()\n",
    "\n",
    "# To apply an classifier on this data, we need to flatten the image, to\n",
    "# turn the data in a (samples, feature) matrix:\n",
    "\n",
    "# Set the parameters by cross-validation\n",
    "tuned_parameters = [{'kernel': ['rbf'], 'gamma': [2e-15,2e-13,2e-11, 2e-9,2e-7,2e-5, 2e-3,2e-1,2e1,2e3],\n",
    "                     'C': [2e11]},]\n",
    "\n",
    "scores = ['recall']\n",
    "\n",
    "for score in scores:\n",
    "    print(\"# Tuning hyper-parameters for %s\" % score)\n",
    "    print()\n",
    "\n",
    "    clf5 = GridSearchCV(SVC(C=1), tuned_parameters, cv=5,\n",
    "                       scoring='%s_macro' % score)\n",
    "    clf5.fit(X_train, y_train)\n",
    "\n",
    "    print(\"Best parameters set found on development set:\")\n",
    "    print()\n",
    "    print(clf5.best_params_)\n",
    "    print()\n",
    "    print(\"Grid scores on development set:\")\n",
    "    print()\n",
    "    means = clf5.cv_results_['mean_test_score']\n",
    "    stds = clf5.cv_results_['std_test_score']\n",
    "    for mean, std, params in zip(means, stds, clf5.cv_results_['params']):\n",
    "        print(\"%0.3f (+/-%0.03f) for %r\"\n",
    "              % (mean, std * 2, params))\n",
    "    print()\n",
    "\n",
    "    print(\"Detailed classification report:\")\n",
    "    print()\n",
    "    print(\"The model is trained on the full development set.\")\n",
    "    print(\"The scores are computed on the full evaluation set.\")\n",
    "    print()\n",
    "    y_true, y_pred = y_test, clf5.predict(X_test)\n",
    "    print(classification_report(y_true, y_pred))\n",
    "    print()"
   ]
  },
  {
   "cell_type": "code",
   "execution_count": 110,
   "metadata": {
    "collapsed": false
   },
   "outputs": [
    {
     "name": "stdout",
     "output_type": "stream",
     "text": [
      "Best accuracy obtained: 0.9608613456974112\n",
      "Parameters:\n",
      "\tC: 200000000000.0\n",
      "\tgamma: 2e-07\n",
      "\tkernel: rbf\n"
     ]
    }
   ],
   "source": [
    "print(\"Best accuracy obtained: {0}\".format(clf5.best_score_))\n",
    "print(\"Parameters:\")\n",
    "for key, value in clf5.best_params_.items():\n",
    "    print(\"\\t{}: {}\".format(key, value))"
   ]
  },
  {
   "cell_type": "code",
   "execution_count": 111,
   "metadata": {
    "collapsed": false
   },
   "outputs": [
    {
     "name": "stdout",
     "output_type": "stream",
     "text": [
      "Automatically created module for IPython interactive environment\n",
      "# Tuning hyper-parameters for recall\n",
      "\n",
      "Best parameters set found on development set:\n",
      "\n",
      "{'C': 20000000000000.0, 'gamma': 2e-07, 'kernel': 'rbf'}\n",
      "\n",
      "Grid scores on development set:\n",
      "\n",
      "0.924 (+/-0.056) for {'C': 20000000000000.0, 'gamma': 2e-15, 'kernel': 'rbf'}\n",
      "0.924 (+/-0.056) for {'C': 20000000000000.0, 'gamma': 2e-13, 'kernel': 'rbf'}\n",
      "0.924 (+/-0.056) for {'C': 20000000000000.0, 'gamma': 2e-11, 'kernel': 'rbf'}\n",
      "0.955 (+/-0.039) for {'C': 20000000000000.0, 'gamma': 2e-09, 'kernel': 'rbf'}\n",
      "0.959 (+/-0.036) for {'C': 20000000000000.0, 'gamma': 2e-07, 'kernel': 'rbf'}\n",
      "0.882 (+/-0.025) for {'C': 20000000000000.0, 'gamma': 2e-05, 'kernel': 'rbf'}\n",
      "0.907 (+/-0.031) for {'C': 20000000000000.0, 'gamma': 0.002, 'kernel': 'rbf'}\n",
      "0.956 (+/-0.013) for {'C': 20000000000000.0, 'gamma': 0.2, 'kernel': 'rbf'}\n",
      "0.748 (+/-0.253) for {'C': 20000000000000.0, 'gamma': 20.0, 'kernel': 'rbf'}\n",
      "0.732 (+/-0.222) for {'C': 20000000000000.0, 'gamma': 2000.0, 'kernel': 'rbf'}\n",
      "\n",
      "Detailed classification report:\n",
      "\n",
      "The model is trained on the full development set.\n",
      "The scores are computed on the full evaluation set.\n",
      "\n",
      "             precision    recall  f1-score   support\n",
      "\n",
      "          2       0.94      0.99      0.97       154\n",
      "          4       0.97      0.88      0.93        77\n",
      "\n",
      "avg / total       0.95      0.95      0.95       231\n",
      "\n",
      "\n"
     ]
    }
   ],
   "source": [
    "print(__doc__)\n",
    "\n",
    "# Loading the Digits dataset\n",
    "#digits = datasets.load_digits()\n",
    "\n",
    "# To apply an classifier on this data, we need to flatten the image, to\n",
    "# turn the data in a (samples, feature) matrix:\n",
    "\n",
    "# Set the parameters by cross-validation\n",
    "tuned_parameters = [{'kernel': ['rbf'], 'gamma': [2e-15,2e-13,2e-11, 2e-9,2e-7,2e-5, 2e-3,2e-1,2e1,2e3],\n",
    "                     'C': [2e13]},]\n",
    "\n",
    "scores = ['recall']\n",
    "\n",
    "for score in scores:\n",
    "    print(\"# Tuning hyper-parameters for %s\" % score)\n",
    "    print()\n",
    "\n",
    "    clf6 = GridSearchCV(SVC(C=1), tuned_parameters, cv=5,\n",
    "                       scoring='%s_macro' % score)\n",
    "    clf6.fit(X_train, y_train)\n",
    "\n",
    "    print(\"Best parameters set found on development set:\")\n",
    "    print()\n",
    "    print(clf6.best_params_)\n",
    "    print()\n",
    "    print(\"Grid scores on development set:\")\n",
    "    print()\n",
    "    means = clf6.cv_results_['mean_test_score']\n",
    "    stds = clf6.cv_results_['std_test_score']\n",
    "    for mean, std, params in zip(means, stds, clf6.cv_results_['params']):\n",
    "        print(\"%0.3f (+/-%0.03f) for %r\"\n",
    "              % (mean, std * 2, params))\n",
    "    print()\n",
    "\n",
    "    print(\"Detailed classification report:\")\n",
    "    print()\n",
    "    print(\"The model is trained on the full development set.\")\n",
    "    print(\"The scores are computed on the full evaluation set.\")\n",
    "    print()\n",
    "    y_true, y_pred = y_test, clf6.predict(X_test)\n",
    "    print(classification_report(y_true, y_pred))\n",
    "    print()"
   ]
  },
  {
   "cell_type": "code",
   "execution_count": 114,
   "metadata": {
    "collapsed": false
   },
   "outputs": [
    {
     "name": "stdout",
     "output_type": "stream",
     "text": [
      "Best accuracy obtained: 0.9594077863545077\n",
      "Parameters:\n",
      "\tC: 20000000000000.0\n",
      "\tgamma: 2e-07\n",
      "\tkernel: rbf\n"
     ]
    }
   ],
   "source": [
    "print(\"Best accuracy obtained: {0}\".format(clf6.best_score_))\n",
    "print(\"Parameters:\")\n",
    "for key, value in clf6.best_params_.items():\n",
    "    print(\"\\t{}: {}\".format(key, value))"
   ]
  },
  {
   "cell_type": "code",
   "execution_count": 113,
   "metadata": {
    "collapsed": false
   },
   "outputs": [
    {
     "name": "stdout",
     "output_type": "stream",
     "text": [
      "Automatically created module for IPython interactive environment\n",
      "# Tuning hyper-parameters for recall\n",
      "\n",
      "Best parameters set found on development set:\n",
      "\n",
      "{'C': 2000000000000000.0, 'gamma': 2e-09, 'kernel': 'rbf'}\n",
      "\n",
      "Grid scores on development set:\n",
      "\n",
      "0.924 (+/-0.056) for {'C': 2000000000000000.0, 'gamma': 2e-15, 'kernel': 'rbf'}\n",
      "0.924 (+/-0.056) for {'C': 2000000000000000.0, 'gamma': 2e-13, 'kernel': 'rbf'}\n",
      "0.924 (+/-0.056) for {'C': 2000000000000000.0, 'gamma': 2e-11, 'kernel': 'rbf'}\n",
      "0.964 (+/-0.031) for {'C': 2000000000000000.0, 'gamma': 2e-09, 'kernel': 'rbf'}\n",
      "0.961 (+/-0.028) for {'C': 2000000000000000.0, 'gamma': 2e-07, 'kernel': 'rbf'}\n",
      "0.882 (+/-0.025) for {'C': 2000000000000000.0, 'gamma': 2e-05, 'kernel': 'rbf'}\n",
      "0.907 (+/-0.031) for {'C': 2000000000000000.0, 'gamma': 0.002, 'kernel': 'rbf'}\n",
      "0.956 (+/-0.013) for {'C': 2000000000000000.0, 'gamma': 0.2, 'kernel': 'rbf'}\n",
      "0.748 (+/-0.253) for {'C': 2000000000000000.0, 'gamma': 20.0, 'kernel': 'rbf'}\n",
      "0.732 (+/-0.222) for {'C': 2000000000000000.0, 'gamma': 2000.0, 'kernel': 'rbf'}\n",
      "\n",
      "Detailed classification report:\n",
      "\n",
      "The model is trained on the full development set.\n",
      "The scores are computed on the full evaluation set.\n",
      "\n",
      "             precision    recall  f1-score   support\n",
      "\n",
      "          2       0.96      0.98      0.97       154\n",
      "          4       0.96      0.91      0.93        77\n",
      "\n",
      "avg / total       0.96      0.96      0.96       231\n",
      "\n",
      "\n"
     ]
    }
   ],
   "source": [
    "print(__doc__)\n",
    "\n",
    "# Loading the Digits dataset\n",
    "#digits = datasets.load_digits()\n",
    "\n",
    "# To apply an classifier on this data, we need to flatten the image, to\n",
    "# turn the data in a (samples, feature) matrix:\n",
    "\n",
    "# Set the parameters by cross-validation\n",
    "tuned_parameters = [{'kernel': ['rbf'], 'gamma': [2e-15,2e-13,2e-11, 2e-9,2e-7,2e-5, 2e-3,2e-1,2e1,2e3],\n",
    "                     'C': [2e15]},]\n",
    "\n",
    "scores = ['recall']\n",
    "\n",
    "for score in scores:\n",
    "    print(\"# Tuning hyper-parameters for %s\" % score)\n",
    "    print()\n",
    "\n",
    "    clf7 = GridSearchCV(SVC(C=1), tuned_parameters, cv=5,\n",
    "                       scoring='%s_macro' % score)\n",
    "    clf7.fit(X_train, y_train)\n",
    "\n",
    "    print(\"Best parameters set found on development set:\")\n",
    "    print()\n",
    "    print(clf7.best_params_)\n",
    "    print()\n",
    "    print(\"Grid scores on development set:\")\n",
    "    print()\n",
    "    means = clf7.cv_results_['mean_test_score']\n",
    "    stds = clf7.cv_results_['std_test_score']\n",
    "    for mean, std, params in zip(means, stds, clf7.cv_results_['params']):\n",
    "        print(\"%0.3f (+/-%0.03f) for %r\"\n",
    "              % (mean, std * 2, params))\n",
    "    print()\n",
    "\n",
    "    print(\"Detailed classification report:\")\n",
    "    print()\n",
    "    print(\"The model is trained on the full development set.\")\n",
    "    print(\"The scores are computed on the full evaluation set.\")\n",
    "    print()\n",
    "    y_true, y_pred = y_test, clf7.predict(X_test)\n",
    "    print(classification_report(y_true, y_pred))\n",
    "    print()"
   ]
  },
  {
   "cell_type": "code",
   "execution_count": 115,
   "metadata": {
    "collapsed": false
   },
   "outputs": [
    {
     "name": "stdout",
     "output_type": "stream",
     "text": [
      "Best accuracy obtained: 0.9639045987406643\n",
      "Parameters:\n",
      "\tC: 2000000000000000.0\n",
      "\tgamma: 2e-09\n",
      "\tkernel: rbf\n"
     ]
    }
   ],
   "source": [
    "print(\"Best accuracy obtained: {0}\".format(clf7.best_score_))\n",
    "print(\"Parameters:\")\n",
    "for key, value in clf7.best_params_.items():\n",
    "    print(\"\\t{}: {}\".format(key, value))"
   ]
  },
  {
   "cell_type": "code",
   "execution_count": 116,
   "metadata": {
    "collapsed": false
   },
   "outputs": [
    {
     "name": "stdout",
     "output_type": "stream",
     "text": [
      "SVC(C=0.2, cache_size=200, class_weight=None, coef0=0.0,\n",
      "  decision_function_shape=None, degree=3, gamma=0.002, kernel='rbf',\n",
      "  max_iter=-1, probability=False, random_state=None, shrinking=True,\n",
      "  tol=0.001, verbose=False)\n"
     ]
    },
    {
     "data": {
      "text/plain": [
       "0.95634437852675569"
      ]
     },
     "execution_count": 116,
     "metadata": {},
     "output_type": "execute_result"
    }
   ],
   "source": [
    "print( clf2.best_estimator_ )\n",
    "clf2.best_score_"
   ]
  },
  {
   "cell_type": "code",
   "execution_count": 117,
   "metadata": {
    "collapsed": false
   },
   "outputs": [
    {
     "name": "stdout",
     "output_type": "stream",
     "text": [
      "SVC(C=20000000.0, cache_size=200, class_weight=None, coef0=0.0,\n",
      "  decision_function_shape=None, degree=3, gamma=2e-07, kernel='rbf',\n",
      "  max_iter=-1, probability=False, random_state=None, shrinking=True,\n",
      "  tol=0.001, verbose=False)\n"
     ]
    },
    {
     "data": {
      "text/plain": [
       "0.96859420179092326"
      ]
     },
     "execution_count": 117,
     "metadata": {},
     "output_type": "execute_result"
    }
   ],
   "source": [
    "print( clf3.best_estimator_ )\n",
    "clf3.best_score_"
   ]
  },
  {
   "cell_type": "code",
   "execution_count": 118,
   "metadata": {
    "collapsed": false
   },
   "outputs": [
    {
     "data": {
      "text/plain": [
       "SVC(C=20000000.0, cache_size=200, class_weight=None, coef0=0.0,\n",
       "  decision_function_shape=None, degree=3, gamma=2e-07, kernel='rbf',\n",
       "  max_iter=-1, probability=False, random_state=None, shrinking=True,\n",
       "  tol=0.001, verbose=False)"
      ]
     },
     "execution_count": 118,
     "metadata": {},
     "output_type": "execute_result"
    }
   ],
   "source": [
    "svc7=SVC(C=20000000.0, cache_size=200, class_weight=None, coef0=0.0,\n",
    "  decision_function_shape=None, degree=3, gamma=2e-07, kernel='rbf',\n",
    "  max_iter=-1, probability=False, random_state=None, shrinking=True,\n",
    "  tol=0.001, verbose=False)\n",
    "svc7.fit(X_train,y_train)"
   ]
  },
  {
   "cell_type": "code",
   "execution_count": 119,
   "metadata": {
    "collapsed": false
   },
   "outputs": [
    {
     "name": "stdout",
     "output_type": "stream",
     "text": [
      "Akurasi: 0.9567\n",
      "Precision: 0.9718\n",
      "Recall: 0.8961\n",
      "F1: 0.9324\n"
     ]
    }
   ],
   "source": [
    "y_pred = svc7.predict(X_test)\n",
    "accuracy = accuracy_score(y_test, y_pred)\n",
    "precision, recall, f1, _ = precision_recall_fscore_support(y_test, y_pred)\n",
    "print (('Akurasi: %.4f') % (accuracy))\n",
    "print (('Precision: %.4f') % (precision[1]))\n",
    "print (('Recall: %.4f') % (recall[1]))\n",
    "print (('F1: %.4f') % (f1[1]))"
   ]
  },
  {
   "cell_type": "code",
   "execution_count": 120,
   "metadata": {
    "collapsed": false
   },
   "outputs": [
    {
     "name": "stdout",
     "output_type": "stream",
     "text": [
      "SVC(C=2000000000.0, cache_size=200, class_weight=None, coef0=0.0,\n",
      "  decision_function_shape=None, degree=3, gamma=2e-09, kernel='rbf',\n",
      "  max_iter=-1, probability=False, random_state=None, shrinking=True,\n",
      "  tol=0.001, verbose=False)\n"
     ]
    },
    {
     "data": {
      "text/plain": [
       "0.96499423559943109"
      ]
     },
     "execution_count": 120,
     "metadata": {},
     "output_type": "execute_result"
    }
   ],
   "source": [
    "print( clf4.best_estimator_ )\n",
    "clf4.best_score_"
   ]
  },
  {
   "cell_type": "code",
   "execution_count": 121,
   "metadata": {
    "collapsed": false
   },
   "outputs": [
    {
     "name": "stdout",
     "output_type": "stream",
     "text": [
      "SVC(C=200000000000.0, cache_size=200, class_weight=None, coef0=0.0,\n",
      "  decision_function_shape=None, degree=3, gamma=2e-07, kernel='rbf',\n",
      "  max_iter=-1, probability=False, random_state=None, shrinking=True,\n",
      "  tol=0.001, verbose=False)\n"
     ]
    },
    {
     "data": {
      "text/plain": [
       "0.96086134569741122"
      ]
     },
     "execution_count": 121,
     "metadata": {},
     "output_type": "execute_result"
    }
   ],
   "source": [
    "print( clf5.best_estimator_ )\n",
    "clf5.best_score_"
   ]
  },
  {
   "cell_type": "code",
   "execution_count": 122,
   "metadata": {
    "collapsed": false
   },
   "outputs": [
    {
     "name": "stdout",
     "output_type": "stream",
     "text": [
      "SVC(C=20000000000000.0, cache_size=200, class_weight=None, coef0=0.0,\n",
      "  decision_function_shape=None, degree=3, gamma=2e-07, kernel='rbf',\n",
      "  max_iter=-1, probability=False, random_state=None, shrinking=True,\n",
      "  tol=0.001, verbose=False)\n"
     ]
    },
    {
     "data": {
      "text/plain": [
       "0.95940778635450774"
      ]
     },
     "execution_count": 122,
     "metadata": {},
     "output_type": "execute_result"
    }
   ],
   "source": [
    "print( clf6.best_estimator_ )\n",
    "clf6.best_score_"
   ]
  },
  {
   "cell_type": "code",
   "execution_count": 123,
   "metadata": {
    "collapsed": false
   },
   "outputs": [
    {
     "name": "stdout",
     "output_type": "stream",
     "text": [
      "SVC(C=2000000000000000.0, cache_size=200, class_weight=None, coef0=0.0,\n",
      "  decision_function_shape=None, degree=3, gamma=2e-09, kernel='rbf',\n",
      "  max_iter=-1, probability=False, random_state=None, shrinking=True,\n",
      "  tol=0.001, verbose=False)\n"
     ]
    },
    {
     "data": {
      "text/plain": [
       "0.96390459874066425"
      ]
     },
     "execution_count": 123,
     "metadata": {},
     "output_type": "execute_result"
    }
   ],
   "source": [
    "print( clf7.best_estimator_ )\n",
    "clf7.best_score_"
   ]
  },
  {
   "cell_type": "code",
   "execution_count": null,
   "metadata": {
    "collapsed": true
   },
   "outputs": [],
   "source": []
  }
 ],
 "metadata": {
  "anaconda-cloud": {},
  "kernelspec": {
   "display_name": "Python 3",
   "language": "python",
   "name": "python3"
  },
  "language_info": {
   "codemirror_mode": {
    "name": "ipython",
    "version": 3
   },
   "file_extension": ".py",
   "mimetype": "text/x-python",
   "name": "python",
   "nbconvert_exporter": "python",
   "pygments_lexer": "ipython3",
   "version": "3.6.0"
  }
 },
 "nbformat": 4,
 "nbformat_minor": 1
}
