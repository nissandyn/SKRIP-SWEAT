{
 "cells": [
  {
   "cell_type": "code",
   "execution_count": 1,
   "metadata": {
    "collapsed": false
   },
   "outputs": [
    {
     "name": "stderr",
     "output_type": "stream",
     "text": [
      "C:\\Users\\Annisa\\Anaconda3\\lib\\site-packages\\sklearn\\cross_validation.py:44: DeprecationWarning: This module was deprecated in version 0.18 in favor of the model_selection module into which all the refactored classes and functions are moved. Also note that the interface of the new CV iterators are different from that of this module. This module will be removed in 0.20.\n",
      "  \"This module will be removed in 0.20.\", DeprecationWarning)\n"
     ]
    }
   ],
   "source": [
    "%matplotlib inline\n",
    "import pandas as pd\n",
    "import numpy as np\n",
    "import matplotlib.pyplot as plt\n",
    "import seaborn; \n",
    "from scipy import stats\n",
    "import pylab as pl\n",
    "from sklearn.model_selection import train_test_split\n",
    "from xgboost import XGBClassifier\n",
    "from sklearn.model_selection import train_test_split\n",
    "from sklearn.metrics import accuracy_score\n",
    "from sklearn import model_selection\n",
    "seaborn.set()"
   ]
  },
  {
   "cell_type": "code",
   "execution_count": 2,
   "metadata": {
    "collapsed": false
   },
   "outputs": [],
   "source": [
    "df = pd.read_csv(\"wbc.csv\")"
   ]
  },
  {
   "cell_type": "code",
   "execution_count": 3,
   "metadata": {
    "collapsed": false
   },
   "outputs": [
    {
     "name": "stdout",
     "output_type": "stream",
     "text": [
      "<class 'pandas.core.frame.DataFrame'>\n",
      "RangeIndex: 699 entries, 0 to 698\n",
      "Data columns (total 11 columns):\n",
      "index                 699 non-null int64\n",
      "clump_thickness       699 non-null int64\n",
      "cell_size             699 non-null int64\n",
      "cell_shape            699 non-null int64\n",
      "marginal_adhesion     699 non-null int64\n",
      "epitelial_cellsize    699 non-null int64\n",
      "bare_nuclei           699 non-null float64\n",
      "bland_chromatin       699 non-null int64\n",
      "normal_nucleoli       699 non-null int64\n",
      "mitoses               699 non-null int64\n",
      "jenis                 699 non-null int64\n",
      "dtypes: float64(1), int64(10)\n",
      "memory usage: 60.1 KB\n"
     ]
    }
   ],
   "source": [
    "df=df.replace('?',np.nan)\n",
    "df=df.reset_index()\n",
    "df['bare_nuclei'] = pd.to_numeric(df.bare_nuclei.fillna(df.bare_nuclei.median()))\n",
    "df.info()"
   ]
  },
  {
   "cell_type": "code",
   "execution_count": 4,
   "metadata": {
    "collapsed": false
   },
   "outputs": [],
   "source": [
    "X = df.drop([df.columns[-1]], axis=1)\n",
    "y = df.jenis"
   ]
  },
  {
   "cell_type": "code",
   "execution_count": 5,
   "metadata": {
    "collapsed": true
   },
   "outputs": [],
   "source": [
    "test_size=0.33"
   ]
  },
  {
   "cell_type": "code",
   "execution_count": 6,
   "metadata": {
    "collapsed": true
   },
   "outputs": [],
   "source": [
    "random_state=42"
   ]
  },
  {
   "cell_type": "code",
   "execution_count": 7,
   "metadata": {
    "collapsed": false
   },
   "outputs": [],
   "source": [
    "X_train, X_test, y_train, y_test = train_test_split(X, y, test_size=test_size, random_state=random_state)"
   ]
  },
  {
   "cell_type": "code",
   "execution_count": 8,
   "metadata": {
    "collapsed": true
   },
   "outputs": [],
   "source": [
    "from sklearn.metrics import accuracy_score, precision_recall_fscore_support"
   ]
  },
  {
   "cell_type": "code",
   "execution_count": 9,
   "metadata": {
    "collapsed": false
   },
   "outputs": [],
   "source": [
    "from sklearn import metrics"
   ]
  },
  {
   "cell_type": "code",
   "execution_count": 10,
   "metadata": {
    "collapsed": false
   },
   "outputs": [],
   "source": [
    "from sklearn.model_selection import GridSearchCV\n",
    "from __future__ import print_function\n",
    "from sklearn.metrics import classification_report"
   ]
  },
  {
   "cell_type": "code",
   "execution_count": 11,
   "metadata": {
    "collapsed": true
   },
   "outputs": [],
   "source": [
    "classifier = XGBClassifier()"
   ]
  },
  {
   "cell_type": "code",
   "execution_count": 12,
   "metadata": {
    "collapsed": true
   },
   "outputs": [],
   "source": [
    "from sklearn.cross_validation import StratifiedKFold"
   ]
  },
  {
   "cell_type": "code",
   "execution_count": 13,
   "metadata": {
    "collapsed": false
   },
   "outputs": [],
   "source": [
    "cv = StratifiedKFold(y_train, n_folds=10, shuffle=True, random_state=random_state)"
   ]
  },
  {
   "cell_type": "code",
   "execution_count": 14,
   "metadata": {
    "collapsed": false
   },
   "outputs": [
    {
     "name": "stdout",
     "output_type": "stream",
     "text": [
      "Automatically created module for IPython interactive environment\n",
      "# Tuning hyper-parameters for recall\n",
      "\n",
      "Best parameters set found on development set:\n",
      "\n",
      "{'colsample_bytree': 0.6, 'learning_rate': 0.001, 'max_depth': 3, 'n_estimators': 100}\n",
      "\n",
      "Grid scores on development set:\n",
      "\n",
      "0.901 (+/-0.083) for {'colsample_bytree': 0.6, 'learning_rate': 0.001, 'max_depth': 1, 'n_estimators': 50}\n",
      "0.909 (+/-0.093) for {'colsample_bytree': 0.6, 'learning_rate': 0.001, 'max_depth': 1, 'n_estimators': 75}\n",
      "0.909 (+/-0.093) for {'colsample_bytree': 0.6, 'learning_rate': 0.001, 'max_depth': 1, 'n_estimators': 100}\n",
      "0.961 (+/-0.063) for {'colsample_bytree': 0.6, 'learning_rate': 0.001, 'max_depth': 3, 'n_estimators': 50}\n",
      "0.962 (+/-0.067) for {'colsample_bytree': 0.6, 'learning_rate': 0.001, 'max_depth': 3, 'n_estimators': 75}\n",
      "0.965 (+/-0.051) for {'colsample_bytree': 0.6, 'learning_rate': 0.001, 'max_depth': 3, 'n_estimators': 100}\n",
      "0.961 (+/-0.063) for {'colsample_bytree': 0.6, 'learning_rate': 0.001, 'max_depth': 5, 'n_estimators': 50}\n",
      "0.964 (+/-0.067) for {'colsample_bytree': 0.6, 'learning_rate': 0.001, 'max_depth': 5, 'n_estimators': 75}\n",
      "0.962 (+/-0.054) for {'colsample_bytree': 0.6, 'learning_rate': 0.001, 'max_depth': 5, 'n_estimators': 100}\n",
      "0.961 (+/-0.063) for {'colsample_bytree': 0.6, 'learning_rate': 0.001, 'max_depth': 7, 'n_estimators': 50}\n",
      "0.964 (+/-0.067) for {'colsample_bytree': 0.6, 'learning_rate': 0.001, 'max_depth': 7, 'n_estimators': 75}\n",
      "0.962 (+/-0.054) for {'colsample_bytree': 0.6, 'learning_rate': 0.001, 'max_depth': 7, 'n_estimators': 100}\n",
      "0.919 (+/-0.101) for {'colsample_bytree': 0.6, 'learning_rate': 0.01, 'max_depth': 1, 'n_estimators': 50}\n",
      "0.945 (+/-0.081) for {'colsample_bytree': 0.6, 'learning_rate': 0.01, 'max_depth': 1, 'n_estimators': 75}\n",
      "0.954 (+/-0.077) for {'colsample_bytree': 0.6, 'learning_rate': 0.01, 'max_depth': 1, 'n_estimators': 100}\n",
      "0.964 (+/-0.067) for {'colsample_bytree': 0.6, 'learning_rate': 0.01, 'max_depth': 3, 'n_estimators': 50}\n",
      "0.960 (+/-0.069) for {'colsample_bytree': 0.6, 'learning_rate': 0.01, 'max_depth': 3, 'n_estimators': 75}\n",
      "0.962 (+/-0.072) for {'colsample_bytree': 0.6, 'learning_rate': 0.01, 'max_depth': 3, 'n_estimators': 100}\n",
      "0.962 (+/-0.067) for {'colsample_bytree': 0.6, 'learning_rate': 0.01, 'max_depth': 5, 'n_estimators': 50}\n",
      "0.962 (+/-0.072) for {'colsample_bytree': 0.6, 'learning_rate': 0.01, 'max_depth': 5, 'n_estimators': 75}\n",
      "0.962 (+/-0.072) for {'colsample_bytree': 0.6, 'learning_rate': 0.01, 'max_depth': 5, 'n_estimators': 100}\n",
      "0.962 (+/-0.067) for {'colsample_bytree': 0.6, 'learning_rate': 0.01, 'max_depth': 7, 'n_estimators': 50}\n",
      "0.962 (+/-0.072) for {'colsample_bytree': 0.6, 'learning_rate': 0.01, 'max_depth': 7, 'n_estimators': 75}\n",
      "0.962 (+/-0.072) for {'colsample_bytree': 0.6, 'learning_rate': 0.01, 'max_depth': 7, 'n_estimators': 100}\n",
      "0.961 (+/-0.078) for {'colsample_bytree': 0.6, 'learning_rate': 0.1, 'max_depth': 1, 'n_estimators': 50}\n",
      "0.955 (+/-0.082) for {'colsample_bytree': 0.6, 'learning_rate': 0.1, 'max_depth': 1, 'n_estimators': 75}\n",
      "0.950 (+/-0.075) for {'colsample_bytree': 0.6, 'learning_rate': 0.1, 'max_depth': 1, 'n_estimators': 100}\n",
      "0.959 (+/-0.072) for {'colsample_bytree': 0.6, 'learning_rate': 0.1, 'max_depth': 3, 'n_estimators': 50}\n",
      "0.956 (+/-0.077) for {'colsample_bytree': 0.6, 'learning_rate': 0.1, 'max_depth': 3, 'n_estimators': 75}\n",
      "0.959 (+/-0.074) for {'colsample_bytree': 0.6, 'learning_rate': 0.1, 'max_depth': 3, 'n_estimators': 100}\n",
      "0.956 (+/-0.077) for {'colsample_bytree': 0.6, 'learning_rate': 0.1, 'max_depth': 5, 'n_estimators': 50}\n",
      "0.956 (+/-0.077) for {'colsample_bytree': 0.6, 'learning_rate': 0.1, 'max_depth': 5, 'n_estimators': 75}\n",
      "0.954 (+/-0.076) for {'colsample_bytree': 0.6, 'learning_rate': 0.1, 'max_depth': 5, 'n_estimators': 100}\n",
      "0.956 (+/-0.077) for {'colsample_bytree': 0.6, 'learning_rate': 0.1, 'max_depth': 7, 'n_estimators': 50}\n",
      "0.956 (+/-0.077) for {'colsample_bytree': 0.6, 'learning_rate': 0.1, 'max_depth': 7, 'n_estimators': 75}\n",
      "0.954 (+/-0.076) for {'colsample_bytree': 0.6, 'learning_rate': 0.1, 'max_depth': 7, 'n_estimators': 100}\n",
      "0.953 (+/-0.080) for {'colsample_bytree': 0.6, 'learning_rate': 0.2, 'max_depth': 1, 'n_estimators': 50}\n",
      "0.952 (+/-0.073) for {'colsample_bytree': 0.6, 'learning_rate': 0.2, 'max_depth': 1, 'n_estimators': 75}\n",
      "0.952 (+/-0.073) for {'colsample_bytree': 0.6, 'learning_rate': 0.2, 'max_depth': 1, 'n_estimators': 100}\n",
      "0.956 (+/-0.077) for {'colsample_bytree': 0.6, 'learning_rate': 0.2, 'max_depth': 3, 'n_estimators': 50}\n",
      "0.957 (+/-0.069) for {'colsample_bytree': 0.6, 'learning_rate': 0.2, 'max_depth': 3, 'n_estimators': 75}\n",
      "0.957 (+/-0.069) for {'colsample_bytree': 0.6, 'learning_rate': 0.2, 'max_depth': 3, 'n_estimators': 100}\n",
      "0.959 (+/-0.072) for {'colsample_bytree': 0.6, 'learning_rate': 0.2, 'max_depth': 5, 'n_estimators': 50}\n",
      "0.959 (+/-0.072) for {'colsample_bytree': 0.6, 'learning_rate': 0.2, 'max_depth': 5, 'n_estimators': 75}\n",
      "0.959 (+/-0.072) for {'colsample_bytree': 0.6, 'learning_rate': 0.2, 'max_depth': 5, 'n_estimators': 100}\n",
      "0.962 (+/-0.071) for {'colsample_bytree': 0.6, 'learning_rate': 0.2, 'max_depth': 7, 'n_estimators': 50}\n",
      "0.962 (+/-0.071) for {'colsample_bytree': 0.6, 'learning_rate': 0.2, 'max_depth': 7, 'n_estimators': 75}\n",
      "0.962 (+/-0.068) for {'colsample_bytree': 0.6, 'learning_rate': 0.2, 'max_depth': 7, 'n_estimators': 100}\n",
      "0.952 (+/-0.073) for {'colsample_bytree': 0.6, 'learning_rate': 0.3, 'max_depth': 1, 'n_estimators': 50}\n",
      "0.952 (+/-0.073) for {'colsample_bytree': 0.6, 'learning_rate': 0.3, 'max_depth': 1, 'n_estimators': 75}\n",
      "0.950 (+/-0.069) for {'colsample_bytree': 0.6, 'learning_rate': 0.3, 'max_depth': 1, 'n_estimators': 100}\n",
      "0.954 (+/-0.067) for {'colsample_bytree': 0.6, 'learning_rate': 0.3, 'max_depth': 3, 'n_estimators': 50}\n",
      "0.956 (+/-0.058) for {'colsample_bytree': 0.6, 'learning_rate': 0.3, 'max_depth': 3, 'n_estimators': 75}\n",
      "0.956 (+/-0.058) for {'colsample_bytree': 0.6, 'learning_rate': 0.3, 'max_depth': 3, 'n_estimators': 100}\n",
      "0.956 (+/-0.067) for {'colsample_bytree': 0.6, 'learning_rate': 0.3, 'max_depth': 5, 'n_estimators': 50}\n",
      "0.956 (+/-0.067) for {'colsample_bytree': 0.6, 'learning_rate': 0.3, 'max_depth': 5, 'n_estimators': 75}\n",
      "0.956 (+/-0.067) for {'colsample_bytree': 0.6, 'learning_rate': 0.3, 'max_depth': 5, 'n_estimators': 100}\n",
      "0.956 (+/-0.067) for {'colsample_bytree': 0.6, 'learning_rate': 0.3, 'max_depth': 7, 'n_estimators': 50}\n",
      "0.961 (+/-0.065) for {'colsample_bytree': 0.6, 'learning_rate': 0.3, 'max_depth': 7, 'n_estimators': 75}\n",
      "0.961 (+/-0.065) for {'colsample_bytree': 0.6, 'learning_rate': 0.3, 'max_depth': 7, 'n_estimators': 100}\n",
      "0.901 (+/-0.083) for {'colsample_bytree': 0.7, 'learning_rate': 0.001, 'max_depth': 1, 'n_estimators': 50}\n",
      "0.901 (+/-0.083) for {'colsample_bytree': 0.7, 'learning_rate': 0.001, 'max_depth': 1, 'n_estimators': 75}\n",
      "0.909 (+/-0.093) for {'colsample_bytree': 0.7, 'learning_rate': 0.001, 'max_depth': 1, 'n_estimators': 100}\n",
      "0.957 (+/-0.064) for {'colsample_bytree': 0.7, 'learning_rate': 0.001, 'max_depth': 3, 'n_estimators': 50}\n",
      "0.960 (+/-0.069) for {'colsample_bytree': 0.7, 'learning_rate': 0.001, 'max_depth': 3, 'n_estimators': 75}\n",
      "0.957 (+/-0.070) for {'colsample_bytree': 0.7, 'learning_rate': 0.001, 'max_depth': 3, 'n_estimators': 100}\n",
      "0.957 (+/-0.064) for {'colsample_bytree': 0.7, 'learning_rate': 0.001, 'max_depth': 5, 'n_estimators': 50}\n",
      "0.954 (+/-0.065) for {'colsample_bytree': 0.7, 'learning_rate': 0.001, 'max_depth': 5, 'n_estimators': 75}\n",
      "0.957 (+/-0.070) for {'colsample_bytree': 0.7, 'learning_rate': 0.001, 'max_depth': 5, 'n_estimators': 100}\n",
      "0.954 (+/-0.065) for {'colsample_bytree': 0.7, 'learning_rate': 0.001, 'max_depth': 7, 'n_estimators': 50}\n",
      "0.954 (+/-0.065) for {'colsample_bytree': 0.7, 'learning_rate': 0.001, 'max_depth': 7, 'n_estimators': 75}\n",
      "0.957 (+/-0.070) for {'colsample_bytree': 0.7, 'learning_rate': 0.001, 'max_depth': 7, 'n_estimators': 100}\n",
      "0.919 (+/-0.101) for {'colsample_bytree': 0.7, 'learning_rate': 0.01, 'max_depth': 1, 'n_estimators': 50}\n",
      "0.942 (+/-0.077) for {'colsample_bytree': 0.7, 'learning_rate': 0.01, 'max_depth': 1, 'n_estimators': 75}\n",
      "0.956 (+/-0.073) for {'colsample_bytree': 0.7, 'learning_rate': 0.01, 'max_depth': 1, 'n_estimators': 100}\n",
      "0.960 (+/-0.069) for {'colsample_bytree': 0.7, 'learning_rate': 0.01, 'max_depth': 3, 'n_estimators': 50}\n",
      "0.964 (+/-0.072) for {'colsample_bytree': 0.7, 'learning_rate': 0.01, 'max_depth': 3, 'n_estimators': 75}\n",
      "0.964 (+/-0.072) for {'colsample_bytree': 0.7, 'learning_rate': 0.01, 'max_depth': 3, 'n_estimators': 100}\n",
      "0.960 (+/-0.069) for {'colsample_bytree': 0.7, 'learning_rate': 0.01, 'max_depth': 5, 'n_estimators': 50}\n",
      "0.964 (+/-0.072) for {'colsample_bytree': 0.7, 'learning_rate': 0.01, 'max_depth': 5, 'n_estimators': 75}\n",
      "0.964 (+/-0.072) for {'colsample_bytree': 0.7, 'learning_rate': 0.01, 'max_depth': 5, 'n_estimators': 100}\n",
      "0.960 (+/-0.069) for {'colsample_bytree': 0.7, 'learning_rate': 0.01, 'max_depth': 7, 'n_estimators': 50}\n",
      "0.964 (+/-0.072) for {'colsample_bytree': 0.7, 'learning_rate': 0.01, 'max_depth': 7, 'n_estimators': 75}\n",
      "0.964 (+/-0.072) for {'colsample_bytree': 0.7, 'learning_rate': 0.01, 'max_depth': 7, 'n_estimators': 100}\n",
      "0.958 (+/-0.079) for {'colsample_bytree': 0.7, 'learning_rate': 0.1, 'max_depth': 1, 'n_estimators': 50}\n",
      "0.956 (+/-0.077) for {'colsample_bytree': 0.7, 'learning_rate': 0.1, 'max_depth': 1, 'n_estimators': 75}\n",
      "0.953 (+/-0.080) for {'colsample_bytree': 0.7, 'learning_rate': 0.1, 'max_depth': 1, 'n_estimators': 100}\n",
      "0.959 (+/-0.072) for {'colsample_bytree': 0.7, 'learning_rate': 0.1, 'max_depth': 3, 'n_estimators': 50}\n",
      "0.959 (+/-0.074) for {'colsample_bytree': 0.7, 'learning_rate': 0.1, 'max_depth': 3, 'n_estimators': 75}\n",
      "0.954 (+/-0.078) for {'colsample_bytree': 0.7, 'learning_rate': 0.1, 'max_depth': 3, 'n_estimators': 100}\n",
      "0.954 (+/-0.077) for {'colsample_bytree': 0.7, 'learning_rate': 0.1, 'max_depth': 5, 'n_estimators': 50}\n",
      "0.962 (+/-0.068) for {'colsample_bytree': 0.7, 'learning_rate': 0.1, 'max_depth': 5, 'n_estimators': 75}\n",
      "0.961 (+/-0.067) for {'colsample_bytree': 0.7, 'learning_rate': 0.1, 'max_depth': 5, 'n_estimators': 100}\n",
      "0.954 (+/-0.077) for {'colsample_bytree': 0.7, 'learning_rate': 0.1, 'max_depth': 7, 'n_estimators': 50}\n",
      "0.956 (+/-0.077) for {'colsample_bytree': 0.7, 'learning_rate': 0.1, 'max_depth': 7, 'n_estimators': 75}\n",
      "0.959 (+/-0.072) for {'colsample_bytree': 0.7, 'learning_rate': 0.1, 'max_depth': 7, 'n_estimators': 100}\n",
      "0.953 (+/-0.080) for {'colsample_bytree': 0.7, 'learning_rate': 0.2, 'max_depth': 1, 'n_estimators': 50}\n",
      "0.950 (+/-0.075) for {'colsample_bytree': 0.7, 'learning_rate': 0.2, 'max_depth': 1, 'n_estimators': 75}\n",
      "0.951 (+/-0.073) for {'colsample_bytree': 0.7, 'learning_rate': 0.2, 'max_depth': 1, 'n_estimators': 100}\n",
      "0.956 (+/-0.077) for {'colsample_bytree': 0.7, 'learning_rate': 0.2, 'max_depth': 3, 'n_estimators': 50}\n",
      "0.959 (+/-0.075) for {'colsample_bytree': 0.7, 'learning_rate': 0.2, 'max_depth': 3, 'n_estimators': 75}\n",
      "0.961 (+/-0.067) for {'colsample_bytree': 0.7, 'learning_rate': 0.2, 'max_depth': 3, 'n_estimators': 100}\n",
      "0.956 (+/-0.077) for {'colsample_bytree': 0.7, 'learning_rate': 0.2, 'max_depth': 5, 'n_estimators': 50}\n",
      "0.953 (+/-0.082) for {'colsample_bytree': 0.7, 'learning_rate': 0.2, 'max_depth': 5, 'n_estimators': 75}\n",
      "0.954 (+/-0.076) for {'colsample_bytree': 0.7, 'learning_rate': 0.2, 'max_depth': 5, 'n_estimators': 100}\n",
      "0.956 (+/-0.077) for {'colsample_bytree': 0.7, 'learning_rate': 0.2, 'max_depth': 7, 'n_estimators': 50}\n",
      "0.951 (+/-0.080) for {'colsample_bytree': 0.7, 'learning_rate': 0.2, 'max_depth': 7, 'n_estimators': 75}\n",
      "0.954 (+/-0.076) for {'colsample_bytree': 0.7, 'learning_rate': 0.2, 'max_depth': 7, 'n_estimators': 100}\n",
      "0.948 (+/-0.072) for {'colsample_bytree': 0.7, 'learning_rate': 0.3, 'max_depth': 1, 'n_estimators': 50}\n",
      "0.950 (+/-0.071) for {'colsample_bytree': 0.7, 'learning_rate': 0.3, 'max_depth': 1, 'n_estimators': 75}\n",
      "0.948 (+/-0.067) for {'colsample_bytree': 0.7, 'learning_rate': 0.3, 'max_depth': 1, 'n_estimators': 100}\n",
      "0.948 (+/-0.084) for {'colsample_bytree': 0.7, 'learning_rate': 0.3, 'max_depth': 3, 'n_estimators': 50}\n",
      "0.948 (+/-0.082) for {'colsample_bytree': 0.7, 'learning_rate': 0.3, 'max_depth': 3, 'n_estimators': 75}\n",
      "0.951 (+/-0.079) for {'colsample_bytree': 0.7, 'learning_rate': 0.3, 'max_depth': 3, 'n_estimators': 100}\n",
      "0.951 (+/-0.074) for {'colsample_bytree': 0.7, 'learning_rate': 0.3, 'max_depth': 5, 'n_estimators': 50}\n",
      "0.954 (+/-0.069) for {'colsample_bytree': 0.7, 'learning_rate': 0.3, 'max_depth': 5, 'n_estimators': 75}\n",
      "0.959 (+/-0.063) for {'colsample_bytree': 0.7, 'learning_rate': 0.3, 'max_depth': 5, 'n_estimators': 100}\n",
      "0.953 (+/-0.072) for {'colsample_bytree': 0.7, 'learning_rate': 0.3, 'max_depth': 7, 'n_estimators': 50}\n",
      "0.956 (+/-0.069) for {'colsample_bytree': 0.7, 'learning_rate': 0.3, 'max_depth': 7, 'n_estimators': 75}\n",
      "0.959 (+/-0.063) for {'colsample_bytree': 0.7, 'learning_rate': 0.3, 'max_depth': 7, 'n_estimators': 100}\n",
      "0.901 (+/-0.083) for {'colsample_bytree': 0.8, 'learning_rate': 0.001, 'max_depth': 1, 'n_estimators': 50}\n",
      "0.901 (+/-0.083) for {'colsample_bytree': 0.8, 'learning_rate': 0.001, 'max_depth': 1, 'n_estimators': 75}\n",
      "0.900 (+/-0.084) for {'colsample_bytree': 0.8, 'learning_rate': 0.001, 'max_depth': 1, 'n_estimators': 100}\n",
      "0.954 (+/-0.065) for {'colsample_bytree': 0.8, 'learning_rate': 0.001, 'max_depth': 3, 'n_estimators': 50}\n",
      "0.954 (+/-0.065) for {'colsample_bytree': 0.8, 'learning_rate': 0.001, 'max_depth': 3, 'n_estimators': 75}\n",
      "0.951 (+/-0.067) for {'colsample_bytree': 0.8, 'learning_rate': 0.001, 'max_depth': 3, 'n_estimators': 100}\n",
      "0.954 (+/-0.065) for {'colsample_bytree': 0.8, 'learning_rate': 0.001, 'max_depth': 5, 'n_estimators': 50}\n",
      "0.954 (+/-0.065) for {'colsample_bytree': 0.8, 'learning_rate': 0.001, 'max_depth': 5, 'n_estimators': 75}\n",
      "0.954 (+/-0.065) for {'colsample_bytree': 0.8, 'learning_rate': 0.001, 'max_depth': 5, 'n_estimators': 100}\n",
      "0.954 (+/-0.065) for {'colsample_bytree': 0.8, 'learning_rate': 0.001, 'max_depth': 7, 'n_estimators': 50}\n",
      "0.954 (+/-0.065) for {'colsample_bytree': 0.8, 'learning_rate': 0.001, 'max_depth': 7, 'n_estimators': 75}\n",
      "0.954 (+/-0.065) for {'colsample_bytree': 0.8, 'learning_rate': 0.001, 'max_depth': 7, 'n_estimators': 100}\n",
      "0.919 (+/-0.101) for {'colsample_bytree': 0.8, 'learning_rate': 0.01, 'max_depth': 1, 'n_estimators': 50}\n",
      "0.942 (+/-0.077) for {'colsample_bytree': 0.8, 'learning_rate': 0.01, 'max_depth': 1, 'n_estimators': 75}\n",
      "0.959 (+/-0.068) for {'colsample_bytree': 0.8, 'learning_rate': 0.01, 'max_depth': 1, 'n_estimators': 100}\n",
      "0.960 (+/-0.069) for {'colsample_bytree': 0.8, 'learning_rate': 0.01, 'max_depth': 3, 'n_estimators': 50}\n",
      "0.960 (+/-0.069) for {'colsample_bytree': 0.8, 'learning_rate': 0.01, 'max_depth': 3, 'n_estimators': 75}\n",
      "0.964 (+/-0.072) for {'colsample_bytree': 0.8, 'learning_rate': 0.01, 'max_depth': 3, 'n_estimators': 100}\n",
      "0.962 (+/-0.072) for {'colsample_bytree': 0.8, 'learning_rate': 0.01, 'max_depth': 5, 'n_estimators': 50}\n",
      "0.962 (+/-0.072) for {'colsample_bytree': 0.8, 'learning_rate': 0.01, 'max_depth': 5, 'n_estimators': 75}\n",
      "0.962 (+/-0.072) for {'colsample_bytree': 0.8, 'learning_rate': 0.01, 'max_depth': 5, 'n_estimators': 100}\n",
      "0.962 (+/-0.072) for {'colsample_bytree': 0.8, 'learning_rate': 0.01, 'max_depth': 7, 'n_estimators': 50}\n",
      "0.962 (+/-0.072) for {'colsample_bytree': 0.8, 'learning_rate': 0.01, 'max_depth': 7, 'n_estimators': 75}\n",
      "0.964 (+/-0.072) for {'colsample_bytree': 0.8, 'learning_rate': 0.01, 'max_depth': 7, 'n_estimators': 100}\n",
      "0.958 (+/-0.079) for {'colsample_bytree': 0.8, 'learning_rate': 0.1, 'max_depth': 1, 'n_estimators': 50}\n",
      "0.953 (+/-0.080) for {'colsample_bytree': 0.8, 'learning_rate': 0.1, 'max_depth': 1, 'n_estimators': 75}\n",
      "0.953 (+/-0.080) for {'colsample_bytree': 0.8, 'learning_rate': 0.1, 'max_depth': 1, 'n_estimators': 100}\n",
      "0.951 (+/-0.072) for {'colsample_bytree': 0.8, 'learning_rate': 0.1, 'max_depth': 3, 'n_estimators': 50}\n",
      "0.955 (+/-0.070) for {'colsample_bytree': 0.8, 'learning_rate': 0.1, 'max_depth': 3, 'n_estimators': 75}\n",
      "0.953 (+/-0.073) for {'colsample_bytree': 0.8, 'learning_rate': 0.1, 'max_depth': 3, 'n_estimators': 100}\n",
      "0.956 (+/-0.070) for {'colsample_bytree': 0.8, 'learning_rate': 0.1, 'max_depth': 5, 'n_estimators': 50}\n",
      "0.958 (+/-0.065) for {'colsample_bytree': 0.8, 'learning_rate': 0.1, 'max_depth': 5, 'n_estimators': 75}\n",
      "0.959 (+/-0.068) for {'colsample_bytree': 0.8, 'learning_rate': 0.1, 'max_depth': 5, 'n_estimators': 100}\n",
      "0.956 (+/-0.061) for {'colsample_bytree': 0.8, 'learning_rate': 0.1, 'max_depth': 7, 'n_estimators': 50}\n",
      "0.962 (+/-0.071) for {'colsample_bytree': 0.8, 'learning_rate': 0.1, 'max_depth': 7, 'n_estimators': 75}\n",
      "0.959 (+/-0.072) for {'colsample_bytree': 0.8, 'learning_rate': 0.1, 'max_depth': 7, 'n_estimators': 100}\n",
      "0.953 (+/-0.080) for {'colsample_bytree': 0.8, 'learning_rate': 0.2, 'max_depth': 1, 'n_estimators': 50}\n",
      "0.950 (+/-0.075) for {'colsample_bytree': 0.8, 'learning_rate': 0.2, 'max_depth': 1, 'n_estimators': 75}\n",
      "0.951 (+/-0.073) for {'colsample_bytree': 0.8, 'learning_rate': 0.2, 'max_depth': 1, 'n_estimators': 100}\n",
      "0.958 (+/-0.072) for {'colsample_bytree': 0.8, 'learning_rate': 0.2, 'max_depth': 3, 'n_estimators': 50}\n",
      "0.957 (+/-0.073) for {'colsample_bytree': 0.8, 'learning_rate': 0.2, 'max_depth': 3, 'n_estimators': 75}\n",
      "0.957 (+/-0.073) for {'colsample_bytree': 0.8, 'learning_rate': 0.2, 'max_depth': 3, 'n_estimators': 100}\n",
      "0.956 (+/-0.077) for {'colsample_bytree': 0.8, 'learning_rate': 0.2, 'max_depth': 5, 'n_estimators': 50}\n",
      "0.955 (+/-0.075) for {'colsample_bytree': 0.8, 'learning_rate': 0.2, 'max_depth': 5, 'n_estimators': 75}\n",
      "0.955 (+/-0.075) for {'colsample_bytree': 0.8, 'learning_rate': 0.2, 'max_depth': 5, 'n_estimators': 100}\n",
      "0.962 (+/-0.068) for {'colsample_bytree': 0.8, 'learning_rate': 0.2, 'max_depth': 7, 'n_estimators': 50}\n",
      "0.961 (+/-0.067) for {'colsample_bytree': 0.8, 'learning_rate': 0.2, 'max_depth': 7, 'n_estimators': 75}\n",
      "0.961 (+/-0.067) for {'colsample_bytree': 0.8, 'learning_rate': 0.2, 'max_depth': 7, 'n_estimators': 100}\n",
      "0.948 (+/-0.072) for {'colsample_bytree': 0.8, 'learning_rate': 0.3, 'max_depth': 1, 'n_estimators': 50}\n",
      "0.948 (+/-0.067) for {'colsample_bytree': 0.8, 'learning_rate': 0.3, 'max_depth': 1, 'n_estimators': 75}\n",
      "0.948 (+/-0.067) for {'colsample_bytree': 0.8, 'learning_rate': 0.3, 'max_depth': 1, 'n_estimators': 100}\n",
      "0.948 (+/-0.073) for {'colsample_bytree': 0.8, 'learning_rate': 0.3, 'max_depth': 3, 'n_estimators': 50}\n",
      "0.951 (+/-0.079) for {'colsample_bytree': 0.8, 'learning_rate': 0.3, 'max_depth': 3, 'n_estimators': 75}\n",
      "0.951 (+/-0.079) for {'colsample_bytree': 0.8, 'learning_rate': 0.3, 'max_depth': 3, 'n_estimators': 100}\n",
      "0.948 (+/-0.081) for {'colsample_bytree': 0.8, 'learning_rate': 0.3, 'max_depth': 5, 'n_estimators': 50}\n",
      "0.954 (+/-0.075) for {'colsample_bytree': 0.8, 'learning_rate': 0.3, 'max_depth': 5, 'n_estimators': 75}\n",
      "0.954 (+/-0.075) for {'colsample_bytree': 0.8, 'learning_rate': 0.3, 'max_depth': 5, 'n_estimators': 100}\n",
      "0.953 (+/-0.071) for {'colsample_bytree': 0.8, 'learning_rate': 0.3, 'max_depth': 7, 'n_estimators': 50}\n",
      "0.954 (+/-0.074) for {'colsample_bytree': 0.8, 'learning_rate': 0.3, 'max_depth': 7, 'n_estimators': 75}\n",
      "0.961 (+/-0.067) for {'colsample_bytree': 0.8, 'learning_rate': 0.3, 'max_depth': 7, 'n_estimators': 100}\n",
      "0.901 (+/-0.083) for {'colsample_bytree': 0.9, 'learning_rate': 0.001, 'max_depth': 1, 'n_estimators': 50}\n",
      "0.898 (+/-0.084) for {'colsample_bytree': 0.9, 'learning_rate': 0.001, 'max_depth': 1, 'n_estimators': 75}\n",
      "0.900 (+/-0.084) for {'colsample_bytree': 0.9, 'learning_rate': 0.001, 'max_depth': 1, 'n_estimators': 100}\n",
      "0.953 (+/-0.071) for {'colsample_bytree': 0.9, 'learning_rate': 0.001, 'max_depth': 3, 'n_estimators': 50}\n",
      "0.948 (+/-0.060) for {'colsample_bytree': 0.9, 'learning_rate': 0.001, 'max_depth': 3, 'n_estimators': 75}\n",
      "0.951 (+/-0.067) for {'colsample_bytree': 0.9, 'learning_rate': 0.001, 'max_depth': 3, 'n_estimators': 100}\n",
      "0.953 (+/-0.071) for {'colsample_bytree': 0.9, 'learning_rate': 0.001, 'max_depth': 5, 'n_estimators': 50}\n",
      "0.953 (+/-0.071) for {'colsample_bytree': 0.9, 'learning_rate': 0.001, 'max_depth': 5, 'n_estimators': 75}\n",
      "0.953 (+/-0.071) for {'colsample_bytree': 0.9, 'learning_rate': 0.001, 'max_depth': 5, 'n_estimators': 100}\n",
      "0.953 (+/-0.071) for {'colsample_bytree': 0.9, 'learning_rate': 0.001, 'max_depth': 7, 'n_estimators': 50}\n",
      "0.953 (+/-0.071) for {'colsample_bytree': 0.9, 'learning_rate': 0.001, 'max_depth': 7, 'n_estimators': 75}\n",
      "0.953 (+/-0.071) for {'colsample_bytree': 0.9, 'learning_rate': 0.001, 'max_depth': 7, 'n_estimators': 100}\n",
      "0.916 (+/-0.111) for {'colsample_bytree': 0.9, 'learning_rate': 0.01, 'max_depth': 1, 'n_estimators': 50}\n",
      "0.942 (+/-0.077) for {'colsample_bytree': 0.9, 'learning_rate': 0.01, 'max_depth': 1, 'n_estimators': 75}\n",
      "0.959 (+/-0.068) for {'colsample_bytree': 0.9, 'learning_rate': 0.01, 'max_depth': 1, 'n_estimators': 100}\n",
      "0.959 (+/-0.075) for {'colsample_bytree': 0.9, 'learning_rate': 0.01, 'max_depth': 3, 'n_estimators': 50}\n",
      "0.962 (+/-0.072) for {'colsample_bytree': 0.9, 'learning_rate': 0.01, 'max_depth': 3, 'n_estimators': 75}\n",
      "0.962 (+/-0.072) for {'colsample_bytree': 0.9, 'learning_rate': 0.01, 'max_depth': 3, 'n_estimators': 100}\n",
      "0.950 (+/-0.076) for {'colsample_bytree': 0.9, 'learning_rate': 0.01, 'max_depth': 5, 'n_estimators': 50}\n",
      "0.956 (+/-0.071) for {'colsample_bytree': 0.9, 'learning_rate': 0.01, 'max_depth': 5, 'n_estimators': 75}\n",
      "0.956 (+/-0.071) for {'colsample_bytree': 0.9, 'learning_rate': 0.01, 'max_depth': 5, 'n_estimators': 100}\n",
      "0.950 (+/-0.076) for {'colsample_bytree': 0.9, 'learning_rate': 0.01, 'max_depth': 7, 'n_estimators': 50}\n",
      "0.956 (+/-0.071) for {'colsample_bytree': 0.9, 'learning_rate': 0.01, 'max_depth': 7, 'n_estimators': 75}\n",
      "0.956 (+/-0.071) for {'colsample_bytree': 0.9, 'learning_rate': 0.01, 'max_depth': 7, 'n_estimators': 100}\n",
      "0.958 (+/-0.079) for {'colsample_bytree': 0.9, 'learning_rate': 0.1, 'max_depth': 1, 'n_estimators': 50}\n",
      "0.953 (+/-0.080) for {'colsample_bytree': 0.9, 'learning_rate': 0.1, 'max_depth': 1, 'n_estimators': 75}\n",
      "0.950 (+/-0.075) for {'colsample_bytree': 0.9, 'learning_rate': 0.1, 'max_depth': 1, 'n_estimators': 100}\n",
      "0.959 (+/-0.063) for {'colsample_bytree': 0.9, 'learning_rate': 0.1, 'max_depth': 3, 'n_estimators': 50}\n",
      "0.953 (+/-0.072) for {'colsample_bytree': 0.9, 'learning_rate': 0.1, 'max_depth': 3, 'n_estimators': 75}\n",
      "0.953 (+/-0.072) for {'colsample_bytree': 0.9, 'learning_rate': 0.1, 'max_depth': 3, 'n_estimators': 100}\n",
      "0.961 (+/-0.068) for {'colsample_bytree': 0.9, 'learning_rate': 0.1, 'max_depth': 5, 'n_estimators': 50}\n",
      "0.962 (+/-0.068) for {'colsample_bytree': 0.9, 'learning_rate': 0.1, 'max_depth': 5, 'n_estimators': 75}\n",
      "0.959 (+/-0.072) for {'colsample_bytree': 0.9, 'learning_rate': 0.1, 'max_depth': 5, 'n_estimators': 100}\n",
      "0.953 (+/-0.062) for {'colsample_bytree': 0.9, 'learning_rate': 0.1, 'max_depth': 7, 'n_estimators': 50}\n",
      "0.956 (+/-0.067) for {'colsample_bytree': 0.9, 'learning_rate': 0.1, 'max_depth': 7, 'n_estimators': 75}\n",
      "0.959 (+/-0.072) for {'colsample_bytree': 0.9, 'learning_rate': 0.1, 'max_depth': 7, 'n_estimators': 100}\n",
      "0.953 (+/-0.080) for {'colsample_bytree': 0.9, 'learning_rate': 0.2, 'max_depth': 1, 'n_estimators': 50}\n",
      "0.950 (+/-0.075) for {'colsample_bytree': 0.9, 'learning_rate': 0.2, 'max_depth': 1, 'n_estimators': 75}\n",
      "0.953 (+/-0.075) for {'colsample_bytree': 0.9, 'learning_rate': 0.2, 'max_depth': 1, 'n_estimators': 100}\n",
      "0.953 (+/-0.073) for {'colsample_bytree': 0.9, 'learning_rate': 0.2, 'max_depth': 3, 'n_estimators': 50}\n",
      "0.951 (+/-0.072) for {'colsample_bytree': 0.9, 'learning_rate': 0.2, 'max_depth': 3, 'n_estimators': 75}\n",
      "0.951 (+/-0.072) for {'colsample_bytree': 0.9, 'learning_rate': 0.2, 'max_depth': 3, 'n_estimators': 100}\n",
      "0.954 (+/-0.078) for {'colsample_bytree': 0.9, 'learning_rate': 0.2, 'max_depth': 5, 'n_estimators': 50}\n",
      "0.956 (+/-0.078) for {'colsample_bytree': 0.9, 'learning_rate': 0.2, 'max_depth': 5, 'n_estimators': 75}\n",
      "0.954 (+/-0.076) for {'colsample_bytree': 0.9, 'learning_rate': 0.2, 'max_depth': 5, 'n_estimators': 100}\n",
      "0.958 (+/-0.071) for {'colsample_bytree': 0.9, 'learning_rate': 0.2, 'max_depth': 7, 'n_estimators': 50}\n",
      "0.958 (+/-0.071) for {'colsample_bytree': 0.9, 'learning_rate': 0.2, 'max_depth': 7, 'n_estimators': 75}\n",
      "0.958 (+/-0.071) for {'colsample_bytree': 0.9, 'learning_rate': 0.2, 'max_depth': 7, 'n_estimators': 100}\n",
      "0.950 (+/-0.075) for {'colsample_bytree': 0.9, 'learning_rate': 0.3, 'max_depth': 1, 'n_estimators': 50}\n",
      "0.949 (+/-0.077) for {'colsample_bytree': 0.9, 'learning_rate': 0.3, 'max_depth': 1, 'n_estimators': 75}\n",
      "0.948 (+/-0.067) for {'colsample_bytree': 0.9, 'learning_rate': 0.3, 'max_depth': 1, 'n_estimators': 100}\n",
      "0.958 (+/-0.072) for {'colsample_bytree': 0.9, 'learning_rate': 0.3, 'max_depth': 3, 'n_estimators': 50}\n",
      "0.956 (+/-0.067) for {'colsample_bytree': 0.9, 'learning_rate': 0.3, 'max_depth': 3, 'n_estimators': 75}\n",
      "0.959 (+/-0.075) for {'colsample_bytree': 0.9, 'learning_rate': 0.3, 'max_depth': 3, 'n_estimators': 100}\n",
      "0.959 (+/-0.072) for {'colsample_bytree': 0.9, 'learning_rate': 0.3, 'max_depth': 5, 'n_estimators': 50}\n",
      "0.962 (+/-0.068) for {'colsample_bytree': 0.9, 'learning_rate': 0.3, 'max_depth': 5, 'n_estimators': 75}\n",
      "0.961 (+/-0.068) for {'colsample_bytree': 0.9, 'learning_rate': 0.3, 'max_depth': 5, 'n_estimators': 100}\n",
      "0.959 (+/-0.072) for {'colsample_bytree': 0.9, 'learning_rate': 0.3, 'max_depth': 7, 'n_estimators': 50}\n",
      "0.959 (+/-0.072) for {'colsample_bytree': 0.9, 'learning_rate': 0.3, 'max_depth': 7, 'n_estimators': 75}\n",
      "0.959 (+/-0.072) for {'colsample_bytree': 0.9, 'learning_rate': 0.3, 'max_depth': 7, 'n_estimators': 100}\n",
      "\n",
      "Detailed classification report:\n",
      "\n",
      "The model is trained on the full development set.\n",
      "The scores are computed on the full evaluation set.\n",
      "\n",
      "             precision    recall  f1-score   support\n",
      "\n",
      "          2       0.98      0.97      0.98       154\n",
      "          4       0.95      0.96      0.95        77\n",
      "\n",
      "avg / total       0.97      0.97      0.97       231\n",
      "\n",
      "\n"
     ]
    }
   ],
   "source": [
    "print(__doc__)\n",
    "\n",
    "# Loading the Digits dataset\n",
    "#digits = datasets.load_digits()\n",
    "\n",
    "# To apply an classifier on this data, we need to flatten the image, to\n",
    "# turn the data in a (samples, feature) matrix:\n",
    "n_samples = len(df)\n",
    "\n",
    "\n",
    "# Set the parameters by cross-validation\n",
    "\n",
    "tuned_parameters = [{'max_depth': [1,3, 5, 7], 'n_estimators': [50,75,100],\n",
    "                     'learning_rate': [0.001, 0.01, 0.1, 0.2, 0.3],\n",
    "                     'colsample_bytree':[i/10.0 for i in range(6,10)]},]\n",
    "params_fixed = {\n",
    "    'objective': 'binary:logistic',\n",
    "    'silent': 1\n",
    "}\n",
    "scores = ['recall']\n",
    "\n",
    "for score in scores:\n",
    "    print(\"# Tuning hyper-parameters for %s\" % score)\n",
    "    print()\n",
    "\n",
    "    clf = GridSearchCV(estimator=XGBClassifier(**params_fixed, seed=random_state),\n",
    "    param_grid=tuned_parameters, cv=cv, scoring='%s_macro' % score)\n",
    "    clf.fit(X_train, y_train)\n",
    "\n",
    "    print(\"Best parameters set found on development set:\")\n",
    "    print()\n",
    "    print(clf.best_params_)\n",
    "    print()\n",
    "    print(\"Grid scores on development set:\")\n",
    "    print()\n",
    "    means = clf.cv_results_['mean_test_score']\n",
    "    stds = clf.cv_results_['std_test_score']\n",
    "    for mean, std, params in zip(means, stds, clf.cv_results_['params']):\n",
    "        print(\"%0.3f (+/-%0.03f) for %r\"\n",
    "              % (mean, std * 2, params))\n",
    "    print()\n",
    "\n",
    "    print(\"Detailed classification report:\")\n",
    "    print()\n",
    "    print(\"The model is trained on the full development set.\")\n",
    "    print(\"The scores are computed on the full evaluation set.\")\n",
    "    print()\n",
    "    y_true, y_pred = y_test, clf.predict(X_test)\n",
    "    print(classification_report(y_true, y_pred))\n",
    "    print()"
   ]
  },
  {
   "cell_type": "code",
   "execution_count": 15,
   "metadata": {
    "collapsed": false
   },
   "outputs": [
    {
     "name": "stderr",
     "output_type": "stream",
     "text": [
      "C:\\Users\\Annisa\\Anaconda3\\lib\\site-packages\\sklearn\\model_selection\\_search.py:667: DeprecationWarning: The grid_scores_ attribute was deprecated in version 0.18 in favor of the more elaborate cv_results_ attribute. The grid_scores_ attribute will not be available from 0.20\n",
      "  DeprecationWarning)\n"
     ]
    },
    {
     "data": {
      "text/plain": [
       "[mean: 0.90141, std: 0.04140, params: {'colsample_bytree': 0.6, 'learning_rate': 0.001, 'max_depth': 1, 'n_estimators': 50},\n",
       " mean: 0.90909, std: 0.04596, params: {'colsample_bytree': 0.6, 'learning_rate': 0.001, 'max_depth': 1, 'n_estimators': 75},\n",
       " mean: 0.90909, std: 0.04596, params: {'colsample_bytree': 0.6, 'learning_rate': 0.001, 'max_depth': 1, 'n_estimators': 100},\n",
       " mean: 0.96054, std: 0.03157, params: {'colsample_bytree': 0.6, 'learning_rate': 0.001, 'max_depth': 3, 'n_estimators': 50},\n",
       " mean: 0.96190, std: 0.03368, params: {'colsample_bytree': 0.6, 'learning_rate': 0.001, 'max_depth': 3, 'n_estimators': 75},\n",
       " mean: 0.96499, std: 0.02573, params: {'colsample_bytree': 0.6, 'learning_rate': 0.001, 'max_depth': 3, 'n_estimators': 100},\n",
       " mean: 0.96054, std: 0.03157, params: {'colsample_bytree': 0.6, 'learning_rate': 0.001, 'max_depth': 5, 'n_estimators': 50},\n",
       " mean: 0.96356, std: 0.03368, params: {'colsample_bytree': 0.6, 'learning_rate': 0.001, 'max_depth': 5, 'n_estimators': 75},\n",
       " mean: 0.96192, std: 0.02692, params: {'colsample_bytree': 0.6, 'learning_rate': 0.001, 'max_depth': 5, 'n_estimators': 100},\n",
       " mean: 0.96054, std: 0.03157, params: {'colsample_bytree': 0.6, 'learning_rate': 0.001, 'max_depth': 7, 'n_estimators': 50},\n",
       " mean: 0.96356, std: 0.03368, params: {'colsample_bytree': 0.6, 'learning_rate': 0.001, 'max_depth': 7, 'n_estimators': 75},\n",
       " mean: 0.96192, std: 0.02692, params: {'colsample_bytree': 0.6, 'learning_rate': 0.001, 'max_depth': 7, 'n_estimators': 100},\n",
       " mean: 0.91918, std: 0.05023, params: {'colsample_bytree': 0.6, 'learning_rate': 0.01, 'max_depth': 1, 'n_estimators': 50},\n",
       " mean: 0.94529, std: 0.04047, params: {'colsample_bytree': 0.6, 'learning_rate': 0.01, 'max_depth': 1, 'n_estimators': 75},\n",
       " mean: 0.95445, std: 0.03856, params: {'colsample_bytree': 0.6, 'learning_rate': 0.01, 'max_depth': 1, 'n_estimators': 100},\n",
       " mean: 0.96356, std: 0.03368, params: {'colsample_bytree': 0.6, 'learning_rate': 0.01, 'max_depth': 3, 'n_estimators': 50},\n",
       " mean: 0.96026, std: 0.03475, params: {'colsample_bytree': 0.6, 'learning_rate': 0.01, 'max_depth': 3, 'n_estimators': 75},\n",
       " mean: 0.96192, std: 0.03617, params: {'colsample_bytree': 0.6, 'learning_rate': 0.01, 'max_depth': 3, 'n_estimators': 100},\n",
       " mean: 0.96190, std: 0.03382, params: {'colsample_bytree': 0.6, 'learning_rate': 0.01, 'max_depth': 5, 'n_estimators': 50},\n",
       " mean: 0.96192, std: 0.03617, params: {'colsample_bytree': 0.6, 'learning_rate': 0.01, 'max_depth': 5, 'n_estimators': 75},\n",
       " mean: 0.96192, std: 0.03617, params: {'colsample_bytree': 0.6, 'learning_rate': 0.01, 'max_depth': 5, 'n_estimators': 100},\n",
       " mean: 0.96190, std: 0.03382, params: {'colsample_bytree': 0.6, 'learning_rate': 0.01, 'max_depth': 7, 'n_estimators': 50},\n",
       " mean: 0.96192, std: 0.03617, params: {'colsample_bytree': 0.6, 'learning_rate': 0.01, 'max_depth': 7, 'n_estimators': 75},\n",
       " mean: 0.96192, std: 0.03617, params: {'colsample_bytree': 0.6, 'learning_rate': 0.01, 'max_depth': 7, 'n_estimators': 100},\n",
       " mean: 0.96080, std: 0.03892, params: {'colsample_bytree': 0.6, 'learning_rate': 0.1, 'max_depth': 1, 'n_estimators': 50},\n",
       " mean: 0.95471, std: 0.04081, params: {'colsample_bytree': 0.6, 'learning_rate': 0.1, 'max_depth': 1, 'n_estimators': 75},\n",
       " mean: 0.95006, std: 0.03736, params: {'colsample_bytree': 0.6, 'learning_rate': 0.1, 'max_depth': 1, 'n_estimators': 100},\n",
       " mean: 0.95911, std: 0.03619, params: {'colsample_bytree': 0.6, 'learning_rate': 0.1, 'max_depth': 3, 'n_estimators': 50},\n",
       " mean: 0.95609, std: 0.03862, params: {'colsample_bytree': 0.6, 'learning_rate': 0.1, 'max_depth': 3, 'n_estimators': 75},\n",
       " mean: 0.95916, std: 0.03688, params: {'colsample_bytree': 0.6, 'learning_rate': 0.1, 'max_depth': 3, 'n_estimators': 100},\n",
       " mean: 0.95609, std: 0.03862, params: {'colsample_bytree': 0.6, 'learning_rate': 0.1, 'max_depth': 5, 'n_estimators': 50},\n",
       " mean: 0.95609, std: 0.03862, params: {'colsample_bytree': 0.6, 'learning_rate': 0.1, 'max_depth': 5, 'n_estimators': 75},\n",
       " mean: 0.95445, std: 0.03775, params: {'colsample_bytree': 0.6, 'learning_rate': 0.1, 'max_depth': 5, 'n_estimators': 100},\n",
       " mean: 0.95609, std: 0.03862, params: {'colsample_bytree': 0.6, 'learning_rate': 0.1, 'max_depth': 7, 'n_estimators': 50},\n",
       " mean: 0.95609, std: 0.03862, params: {'colsample_bytree': 0.6, 'learning_rate': 0.1, 'max_depth': 7, 'n_estimators': 75},\n",
       " mean: 0.95445, std: 0.03775, params: {'colsample_bytree': 0.6, 'learning_rate': 0.1, 'max_depth': 7, 'n_estimators': 100},\n",
       " mean: 0.95307, std: 0.03993, params: {'colsample_bytree': 0.6, 'learning_rate': 0.2, 'max_depth': 1, 'n_estimators': 50},\n",
       " mean: 0.95171, std: 0.03646, params: {'colsample_bytree': 0.6, 'learning_rate': 0.2, 'max_depth': 1, 'n_estimators': 75},\n",
       " mean: 0.95171, std: 0.03646, params: {'colsample_bytree': 0.6, 'learning_rate': 0.2, 'max_depth': 1, 'n_estimators': 100},\n",
       " mean: 0.95609, std: 0.03862, params: {'colsample_bytree': 0.6, 'learning_rate': 0.2, 'max_depth': 3, 'n_estimators': 50},\n",
       " mean: 0.95747, std: 0.03461, params: {'colsample_bytree': 0.6, 'learning_rate': 0.2, 'max_depth': 3, 'n_estimators': 75},\n",
       " mean: 0.95747, std: 0.03461, params: {'colsample_bytree': 0.6, 'learning_rate': 0.2, 'max_depth': 3, 'n_estimators': 100},\n",
       " mean: 0.95911, std: 0.03619, params: {'colsample_bytree': 0.6, 'learning_rate': 0.2, 'max_depth': 5, 'n_estimators': 50},\n",
       " mean: 0.95911, std: 0.03619, params: {'colsample_bytree': 0.6, 'learning_rate': 0.2, 'max_depth': 5, 'n_estimators': 75},\n",
       " mean: 0.95911, std: 0.03619, params: {'colsample_bytree': 0.6, 'learning_rate': 0.2, 'max_depth': 5, 'n_estimators': 100},\n",
       " mean: 0.96218, std: 0.03555, params: {'colsample_bytree': 0.6, 'learning_rate': 0.2, 'max_depth': 7, 'n_estimators': 50},\n",
       " mean: 0.96218, std: 0.03555, params: {'colsample_bytree': 0.6, 'learning_rate': 0.2, 'max_depth': 7, 'n_estimators': 75},\n",
       " mean: 0.96218, std: 0.03406, params: {'colsample_bytree': 0.6, 'learning_rate': 0.2, 'max_depth': 7, 'n_estimators': 100},\n",
       " mean: 0.95171, std: 0.03646, params: {'colsample_bytree': 0.6, 'learning_rate': 0.3, 'max_depth': 1, 'n_estimators': 50},\n",
       " mean: 0.95171, std: 0.03646, params: {'colsample_bytree': 0.6, 'learning_rate': 0.3, 'max_depth': 1, 'n_estimators': 75},\n",
       " mean: 0.95007, std: 0.03455, params: {'colsample_bytree': 0.6, 'learning_rate': 0.3, 'max_depth': 1, 'n_estimators': 100},\n",
       " mean: 0.95445, std: 0.03339, params: {'colsample_bytree': 0.6, 'learning_rate': 0.3, 'max_depth': 3, 'n_estimators': 50},\n",
       " mean: 0.95589, std: 0.02900, params: {'colsample_bytree': 0.6, 'learning_rate': 0.3, 'max_depth': 3, 'n_estimators': 75},\n",
       " mean: 0.95589, std: 0.02900, params: {'colsample_bytree': 0.6, 'learning_rate': 0.3, 'max_depth': 3, 'n_estimators': 100},\n",
       " mean: 0.95609, std: 0.03385, params: {'colsample_bytree': 0.6, 'learning_rate': 0.3, 'max_depth': 5, 'n_estimators': 50},\n",
       " mean: 0.95583, std: 0.03370, params: {'colsample_bytree': 0.6, 'learning_rate': 0.3, 'max_depth': 5, 'n_estimators': 75},\n",
       " mean: 0.95583, std: 0.03370, params: {'colsample_bytree': 0.6, 'learning_rate': 0.3, 'max_depth': 5, 'n_estimators': 100},\n",
       " mean: 0.95609, std: 0.03385, params: {'colsample_bytree': 0.6, 'learning_rate': 0.3, 'max_depth': 7, 'n_estimators': 50},\n",
       " mean: 0.96054, std: 0.03253, params: {'colsample_bytree': 0.6, 'learning_rate': 0.3, 'max_depth': 7, 'n_estimators': 75},\n",
       " mean: 0.96054, std: 0.03253, params: {'colsample_bytree': 0.6, 'learning_rate': 0.3, 'max_depth': 7, 'n_estimators': 100},\n",
       " mean: 0.90141, std: 0.04140, params: {'colsample_bytree': 0.7, 'learning_rate': 0.001, 'max_depth': 1, 'n_estimators': 50},\n",
       " mean: 0.90141, std: 0.04140, params: {'colsample_bytree': 0.7, 'learning_rate': 0.001, 'max_depth': 1, 'n_estimators': 75},\n",
       " mean: 0.90909, std: 0.04596, params: {'colsample_bytree': 0.7, 'learning_rate': 0.001, 'max_depth': 1, 'n_estimators': 100},\n",
       " mean: 0.95725, std: 0.03226, params: {'colsample_bytree': 0.7, 'learning_rate': 0.001, 'max_depth': 3, 'n_estimators': 50},\n",
       " mean: 0.96026, std: 0.03462, params: {'colsample_bytree': 0.7, 'learning_rate': 0.001, 'max_depth': 3, 'n_estimators': 75},\n",
       " mean: 0.95719, std: 0.03509, params: {'colsample_bytree': 0.7, 'learning_rate': 0.001, 'max_depth': 3, 'n_estimators': 100},\n",
       " mean: 0.95725, std: 0.03226, params: {'colsample_bytree': 0.7, 'learning_rate': 0.001, 'max_depth': 5, 'n_estimators': 50},\n",
       " mean: 0.95418, std: 0.03249, params: {'colsample_bytree': 0.7, 'learning_rate': 0.001, 'max_depth': 5, 'n_estimators': 75},\n",
       " mean: 0.95719, std: 0.03509, params: {'colsample_bytree': 0.7, 'learning_rate': 0.001, 'max_depth': 5, 'n_estimators': 100},\n",
       " mean: 0.95418, std: 0.03249, params: {'colsample_bytree': 0.7, 'learning_rate': 0.001, 'max_depth': 7, 'n_estimators': 50},\n",
       " mean: 0.95418, std: 0.03249, params: {'colsample_bytree': 0.7, 'learning_rate': 0.001, 'max_depth': 7, 'n_estimators': 75},\n",
       " mean: 0.95719, std: 0.03509, params: {'colsample_bytree': 0.7, 'learning_rate': 0.001, 'max_depth': 7, 'n_estimators': 100},\n",
       " mean: 0.91918, std: 0.05023, params: {'colsample_bytree': 0.7, 'learning_rate': 0.01, 'max_depth': 1, 'n_estimators': 50},\n",
       " mean: 0.94222, std: 0.03855, params: {'colsample_bytree': 0.7, 'learning_rate': 0.01, 'max_depth': 1, 'n_estimators': 75},\n",
       " mean: 0.95609, std: 0.03667, params: {'colsample_bytree': 0.7, 'learning_rate': 0.01, 'max_depth': 1, 'n_estimators': 100},\n",
       " mean: 0.96026, std: 0.03462, params: {'colsample_bytree': 0.7, 'learning_rate': 0.01, 'max_depth': 3, 'n_estimators': 50},\n",
       " mean: 0.96357, std: 0.03604, params: {'colsample_bytree': 0.7, 'learning_rate': 0.01, 'max_depth': 3, 'n_estimators': 75},\n",
       " mean: 0.96357, std: 0.03604, params: {'colsample_bytree': 0.7, 'learning_rate': 0.01, 'max_depth': 3, 'n_estimators': 100},\n",
       " mean: 0.96026, std: 0.03462, params: {'colsample_bytree': 0.7, 'learning_rate': 0.01, 'max_depth': 5, 'n_estimators': 50},\n",
       " mean: 0.96357, std: 0.03604, params: {'colsample_bytree': 0.7, 'learning_rate': 0.01, 'max_depth': 5, 'n_estimators': 75},\n",
       " mean: 0.96357, std: 0.03604, params: {'colsample_bytree': 0.7, 'learning_rate': 0.01, 'max_depth': 5, 'n_estimators': 100},\n",
       " mean: 0.96026, std: 0.03462, params: {'colsample_bytree': 0.7, 'learning_rate': 0.01, 'max_depth': 7, 'n_estimators': 50},\n",
       " mean: 0.96357, std: 0.03604, params: {'colsample_bytree': 0.7, 'learning_rate': 0.01, 'max_depth': 7, 'n_estimators': 75},\n",
       " mean: 0.96357, std: 0.03604, params: {'colsample_bytree': 0.7, 'learning_rate': 0.01, 'max_depth': 7, 'n_estimators': 100},\n",
       " mean: 0.95773, std: 0.03940, params: {'colsample_bytree': 0.7, 'learning_rate': 0.1, 'max_depth': 1, 'n_estimators': 50},\n",
       " mean: 0.95609, std: 0.03862, params: {'colsample_bytree': 0.7, 'learning_rate': 0.1, 'max_depth': 1, 'n_estimators': 75},\n",
       " mean: 0.95307, std: 0.03993, params: {'colsample_bytree': 0.7, 'learning_rate': 0.1, 'max_depth': 1, 'n_estimators': 100},\n",
       " mean: 0.95911, std: 0.03619, params: {'colsample_bytree': 0.7, 'learning_rate': 0.1, 'max_depth': 3, 'n_estimators': 50},\n",
       " mean: 0.95916, std: 0.03688, params: {'colsample_bytree': 0.7, 'learning_rate': 0.1, 'max_depth': 3, 'n_estimators': 75},\n",
       " mean: 0.95445, std: 0.03894, params: {'colsample_bytree': 0.7, 'learning_rate': 0.1, 'max_depth': 3, 'n_estimators': 100},\n",
       " mean: 0.95445, std: 0.03848, params: {'colsample_bytree': 0.7, 'learning_rate': 0.1, 'max_depth': 5, 'n_estimators': 50},\n",
       " mean: 0.96218, std: 0.03406, params: {'colsample_bytree': 0.7, 'learning_rate': 0.1, 'max_depth': 5, 'n_estimators': 75},\n",
       " mean: 0.96054, std: 0.03337, params: {'colsample_bytree': 0.7, 'learning_rate': 0.1, 'max_depth': 5, 'n_estimators': 100},\n",
       " mean: 0.95445, std: 0.03848, params: {'colsample_bytree': 0.7, 'learning_rate': 0.1, 'max_depth': 7, 'n_estimators': 50},\n",
       " mean: 0.95609, std: 0.03862, params: {'colsample_bytree': 0.7, 'learning_rate': 0.1, 'max_depth': 7, 'n_estimators': 75},\n",
       " mean: 0.95911, std: 0.03619, params: {'colsample_bytree': 0.7, 'learning_rate': 0.1, 'max_depth': 7, 'n_estimators': 100},\n",
       " mean: 0.95307, std: 0.03993, params: {'colsample_bytree': 0.7, 'learning_rate': 0.2, 'max_depth': 1, 'n_estimators': 50},\n",
       " mean: 0.95006, std: 0.03736, params: {'colsample_bytree': 0.7, 'learning_rate': 0.2, 'max_depth': 1, 'n_estimators': 75},\n",
       " mean: 0.95149, std: 0.03647, params: {'colsample_bytree': 0.7, 'learning_rate': 0.2, 'max_depth': 1, 'n_estimators': 100},\n",
       " mean: 0.95609, std: 0.03862, params: {'colsample_bytree': 0.7, 'learning_rate': 0.2, 'max_depth': 3, 'n_estimators': 50},\n",
       " mean: 0.95911, std: 0.03743, params: {'colsample_bytree': 0.7, 'learning_rate': 0.2, 'max_depth': 3, 'n_estimators': 75},\n",
       " mean: 0.96054, std: 0.03337, params: {'colsample_bytree': 0.7, 'learning_rate': 0.2, 'max_depth': 3, 'n_estimators': 100},\n",
       " mean: 0.95609, std: 0.03862, params: {'colsample_bytree': 0.7, 'learning_rate': 0.2, 'max_depth': 5, 'n_estimators': 50},\n",
       " mean: 0.95302, std: 0.04117, params: {'colsample_bytree': 0.7, 'learning_rate': 0.2, 'max_depth': 5, 'n_estimators': 75},\n",
       " mean: 0.95445, std: 0.03775, params: {'colsample_bytree': 0.7, 'learning_rate': 0.2, 'max_depth': 5, 'n_estimators': 100},\n",
       " mean: 0.95609, std: 0.03862, params: {'colsample_bytree': 0.7, 'learning_rate': 0.2, 'max_depth': 7, 'n_estimators': 50},\n",
       " mean: 0.95138, std: 0.04022, params: {'colsample_bytree': 0.7, 'learning_rate': 0.2, 'max_depth': 7, 'n_estimators': 75},\n",
       " mean: 0.95445, std: 0.03775, params: {'colsample_bytree': 0.7, 'learning_rate': 0.2, 'max_depth': 7, 'n_estimators': 100},\n",
       " mean: 0.94842, std: 0.03620, params: {'colsample_bytree': 0.7, 'learning_rate': 0.3, 'max_depth': 1, 'n_estimators': 50},\n",
       " mean: 0.95007, std: 0.03534, params: {'colsample_bytree': 0.7, 'learning_rate': 0.3, 'max_depth': 1, 'n_estimators': 75},\n",
       " mean: 0.94844, std: 0.03328, params: {'colsample_bytree': 0.7, 'learning_rate': 0.3, 'max_depth': 1, 'n_estimators': 100},\n",
       " mean: 0.94836, std: 0.04181, params: {'colsample_bytree': 0.7, 'learning_rate': 0.3, 'max_depth': 3, 'n_estimators': 50},\n",
       " mean: 0.94836, std: 0.04114, params: {'colsample_bytree': 0.7, 'learning_rate': 0.3, 'max_depth': 3, 'n_estimators': 75},\n",
       " mean: 0.95138, std: 0.03945, params: {'colsample_bytree': 0.7, 'learning_rate': 0.3, 'max_depth': 3, 'n_estimators': 100},\n",
       " mean: 0.95118, std: 0.03697, params: {'colsample_bytree': 0.7, 'learning_rate': 0.3, 'max_depth': 5, 'n_estimators': 50},\n",
       " mean: 0.95425, std: 0.03429, params: {'colsample_bytree': 0.7, 'learning_rate': 0.3, 'max_depth': 5, 'n_estimators': 75},\n",
       " mean: 0.95890, std: 0.03173, params: {'colsample_bytree': 0.7, 'learning_rate': 0.3, 'max_depth': 5, 'n_estimators': 100},\n",
       " mean: 0.95281, std: 0.03602, params: {'colsample_bytree': 0.7, 'learning_rate': 0.3, 'max_depth': 7, 'n_estimators': 50},\n",
       " mean: 0.95589, std: 0.03446, params: {'colsample_bytree': 0.7, 'learning_rate': 0.3, 'max_depth': 7, 'n_estimators': 75},\n",
       " mean: 0.95890, std: 0.03173, params: {'colsample_bytree': 0.7, 'learning_rate': 0.3, 'max_depth': 7, 'n_estimators': 100},\n",
       " mean: 0.90141, std: 0.04140, params: {'colsample_bytree': 0.8, 'learning_rate': 0.001, 'max_depth': 1, 'n_estimators': 50},\n",
       " mean: 0.90141, std: 0.04140, params: {'colsample_bytree': 0.8, 'learning_rate': 0.001, 'max_depth': 1, 'n_estimators': 75},\n",
       " mean: 0.90004, std: 0.04155, params: {'colsample_bytree': 0.8, 'learning_rate': 0.001, 'max_depth': 1, 'n_estimators': 100},\n",
       " mean: 0.95418, std: 0.03249, params: {'colsample_bytree': 0.8, 'learning_rate': 0.001, 'max_depth': 3, 'n_estimators': 50},\n",
       " mean: 0.95418, std: 0.03249, params: {'colsample_bytree': 0.8, 'learning_rate': 0.001, 'max_depth': 3, 'n_estimators': 75},\n",
       " mean: 0.95116, std: 0.03362, params: {'colsample_bytree': 0.8, 'learning_rate': 0.001, 'max_depth': 3, 'n_estimators': 100},\n",
       " mean: 0.95418, std: 0.03249, params: {'colsample_bytree': 0.8, 'learning_rate': 0.001, 'max_depth': 5, 'n_estimators': 50},\n",
       " mean: 0.95418, std: 0.03249, params: {'colsample_bytree': 0.8, 'learning_rate': 0.001, 'max_depth': 5, 'n_estimators': 75},\n",
       " mean: 0.95418, std: 0.03249, params: {'colsample_bytree': 0.8, 'learning_rate': 0.001, 'max_depth': 5, 'n_estimators': 100},\n",
       " mean: 0.95418, std: 0.03249, params: {'colsample_bytree': 0.8, 'learning_rate': 0.001, 'max_depth': 7, 'n_estimators': 50},\n",
       " mean: 0.95418, std: 0.03249, params: {'colsample_bytree': 0.8, 'learning_rate': 0.001, 'max_depth': 7, 'n_estimators': 75},\n",
       " mean: 0.95418, std: 0.03249, params: {'colsample_bytree': 0.8, 'learning_rate': 0.001, 'max_depth': 7, 'n_estimators': 100},\n",
       " mean: 0.91918, std: 0.05023, params: {'colsample_bytree': 0.8, 'learning_rate': 0.01, 'max_depth': 1, 'n_estimators': 50},\n",
       " mean: 0.94222, std: 0.03855, params: {'colsample_bytree': 0.8, 'learning_rate': 0.01, 'max_depth': 1, 'n_estimators': 75},\n",
       " mean: 0.95911, std: 0.03410, params: {'colsample_bytree': 0.8, 'learning_rate': 0.01, 'max_depth': 1, 'n_estimators': 100},\n",
       " mean: 0.96026, std: 0.03462, params: {'colsample_bytree': 0.8, 'learning_rate': 0.01, 'max_depth': 3, 'n_estimators': 50},\n",
       " mean: 0.96026, std: 0.03462, params: {'colsample_bytree': 0.8, 'learning_rate': 0.01, 'max_depth': 3, 'n_estimators': 75},\n",
       " mean: 0.96357, std: 0.03604, params: {'colsample_bytree': 0.8, 'learning_rate': 0.01, 'max_depth': 3, 'n_estimators': 100},\n",
       " mean: 0.96192, std: 0.03604, params: {'colsample_bytree': 0.8, 'learning_rate': 0.01, 'max_depth': 5, 'n_estimators': 50},\n",
       " mean: 0.96192, std: 0.03604, params: {'colsample_bytree': 0.8, 'learning_rate': 0.01, 'max_depth': 5, 'n_estimators': 75},\n",
       " mean: 0.96192, std: 0.03604, params: {'colsample_bytree': 0.8, 'learning_rate': 0.01, 'max_depth': 5, 'n_estimators': 100},\n",
       " mean: 0.96192, std: 0.03604, params: {'colsample_bytree': 0.8, 'learning_rate': 0.01, 'max_depth': 7, 'n_estimators': 50},\n",
       " mean: 0.96192, std: 0.03604, params: {'colsample_bytree': 0.8, 'learning_rate': 0.01, 'max_depth': 7, 'n_estimators': 75},\n",
       " mean: 0.96357, std: 0.03604, params: {'colsample_bytree': 0.8, 'learning_rate': 0.01, 'max_depth': 7, 'n_estimators': 100},\n",
       " mean: 0.95773, std: 0.03940, params: {'colsample_bytree': 0.8, 'learning_rate': 0.1, 'max_depth': 1, 'n_estimators': 50},\n",
       " mean: 0.95307, std: 0.03993, params: {'colsample_bytree': 0.8, 'learning_rate': 0.1, 'max_depth': 1, 'n_estimators': 75},\n",
       " mean: 0.95307, std: 0.03993, params: {'colsample_bytree': 0.8, 'learning_rate': 0.1, 'max_depth': 1, 'n_estimators': 100},\n",
       " mean: 0.95144, std: 0.03591, params: {'colsample_bytree': 0.8, 'learning_rate': 0.1, 'max_depth': 3, 'n_estimators': 50},\n",
       " mean: 0.95478, std: 0.03500, params: {'colsample_bytree': 0.8, 'learning_rate': 0.1, 'max_depth': 3, 'n_estimators': 75},\n",
       " mean: 0.95307, std: 0.03660, params: {'colsample_bytree': 0.8, 'learning_rate': 0.1, 'max_depth': 3, 'n_estimators': 100},\n",
       " mean: 0.95615, std: 0.03521, params: {'colsample_bytree': 0.8, 'learning_rate': 0.1, 'max_depth': 5, 'n_estimators': 50},\n",
       " mean: 0.95780, std: 0.03240, params: {'colsample_bytree': 0.8, 'learning_rate': 0.1, 'max_depth': 5, 'n_estimators': 75},\n",
       " mean: 0.95918, std: 0.03395, params: {'colsample_bytree': 0.8, 'learning_rate': 0.1, 'max_depth': 5, 'n_estimators': 100},\n",
       " mean: 0.95615, std: 0.03091, params: {'colsample_bytree': 0.8, 'learning_rate': 0.1, 'max_depth': 7, 'n_estimators': 50},\n",
       " mean: 0.96223, std: 0.03538, params: {'colsample_bytree': 0.8, 'learning_rate': 0.1, 'max_depth': 7, 'n_estimators': 75},\n",
       " mean: 0.95916, std: 0.03604, params: {'colsample_bytree': 0.8, 'learning_rate': 0.1, 'max_depth': 7, 'n_estimators': 100},\n",
       " mean: 0.95307, std: 0.03993, params: {'colsample_bytree': 0.8, 'learning_rate': 0.2, 'max_depth': 1, 'n_estimators': 50},\n",
       " mean: 0.95006, std: 0.03736, params: {'colsample_bytree': 0.8, 'learning_rate': 0.2, 'max_depth': 1, 'n_estimators': 75},\n",
       " mean: 0.95149, std: 0.03647, params: {'colsample_bytree': 0.8, 'learning_rate': 0.2, 'max_depth': 1, 'n_estimators': 100},\n",
       " mean: 0.95752, std: 0.03611, params: {'colsample_bytree': 0.8, 'learning_rate': 0.2, 'max_depth': 3, 'n_estimators': 50},\n",
       " mean: 0.95747, std: 0.03666, params: {'colsample_bytree': 0.8, 'learning_rate': 0.2, 'max_depth': 3, 'n_estimators': 75},\n",
       " mean: 0.95747, std: 0.03666, params: {'colsample_bytree': 0.8, 'learning_rate': 0.2, 'max_depth': 3, 'n_estimators': 100},\n",
       " mean: 0.95615, std: 0.03849, params: {'colsample_bytree': 0.8, 'learning_rate': 0.2, 'max_depth': 5, 'n_estimators': 50},\n",
       " mean: 0.95451, std: 0.03763, params: {'colsample_bytree': 0.8, 'learning_rate': 0.2, 'max_depth': 5, 'n_estimators': 75},\n",
       " mean: 0.95451, std: 0.03763, params: {'colsample_bytree': 0.8, 'learning_rate': 0.2, 'max_depth': 5, 'n_estimators': 100},\n",
       " mean: 0.96218, std: 0.03406, params: {'colsample_bytree': 0.8, 'learning_rate': 0.2, 'max_depth': 7, 'n_estimators': 50},\n",
       " mean: 0.96054, std: 0.03337, params: {'colsample_bytree': 0.8, 'learning_rate': 0.2, 'max_depth': 7, 'n_estimators': 75},\n",
       " mean: 0.96054, std: 0.03337, params: {'colsample_bytree': 0.8, 'learning_rate': 0.2, 'max_depth': 7, 'n_estimators': 100},\n",
       " mean: 0.94842, std: 0.03620, params: {'colsample_bytree': 0.8, 'learning_rate': 0.3, 'max_depth': 1, 'n_estimators': 50},\n",
       " mean: 0.94844, std: 0.03328, params: {'colsample_bytree': 0.8, 'learning_rate': 0.3, 'max_depth': 1, 'n_estimators': 75},\n",
       " mean: 0.94844, std: 0.03328, params: {'colsample_bytree': 0.8, 'learning_rate': 0.3, 'max_depth': 1, 'n_estimators': 100},\n",
       " mean: 0.94836, std: 0.03670, params: {'colsample_bytree': 0.8, 'learning_rate': 0.3, 'max_depth': 3, 'n_estimators': 50},\n",
       " mean: 0.95138, std: 0.03945, params: {'colsample_bytree': 0.8, 'learning_rate': 0.3, 'max_depth': 3, 'n_estimators': 75},\n",
       " mean: 0.95138, std: 0.03945, params: {'colsample_bytree': 0.8, 'learning_rate': 0.3, 'max_depth': 3, 'n_estimators': 100},\n",
       " mean: 0.94836, std: 0.04046, params: {'colsample_bytree': 0.8, 'learning_rate': 0.3, 'max_depth': 5, 'n_estimators': 50},\n",
       " mean: 0.95445, std: 0.03741, params: {'colsample_bytree': 0.8, 'learning_rate': 0.3, 'max_depth': 5, 'n_estimators': 75},\n",
       " mean: 0.95445, std: 0.03741, params: {'colsample_bytree': 0.8, 'learning_rate': 0.3, 'max_depth': 5, 'n_estimators': 100},\n",
       " mean: 0.95307, std: 0.03534, params: {'colsample_bytree': 0.8, 'learning_rate': 0.3, 'max_depth': 7, 'n_estimators': 50},\n",
       " mean: 0.95445, std: 0.03693, params: {'colsample_bytree': 0.8, 'learning_rate': 0.3, 'max_depth': 7, 'n_estimators': 75},\n",
       " mean: 0.96054, std: 0.03337, params: {'colsample_bytree': 0.8, 'learning_rate': 0.3, 'max_depth': 7, 'n_estimators': 100},\n",
       " mean: 0.90141, std: 0.04140, params: {'colsample_bytree': 0.9, 'learning_rate': 0.001, 'max_depth': 1, 'n_estimators': 50},\n",
       " mean: 0.89840, std: 0.04161, params: {'colsample_bytree': 0.9, 'learning_rate': 0.001, 'max_depth': 1, 'n_estimators': 75},\n",
       " mean: 0.90004, std: 0.04155, params: {'colsample_bytree': 0.9, 'learning_rate': 0.001, 'max_depth': 1, 'n_estimators': 100},\n",
       " mean: 0.95281, std: 0.03549, params: {'colsample_bytree': 0.9, 'learning_rate': 0.001, 'max_depth': 3, 'n_estimators': 50},\n",
       " mean: 0.94809, std: 0.03019, params: {'colsample_bytree': 0.9, 'learning_rate': 0.001, 'max_depth': 3, 'n_estimators': 75},\n",
       " mean: 0.95116, std: 0.03362, params: {'colsample_bytree': 0.9, 'learning_rate': 0.001, 'max_depth': 3, 'n_estimators': 100},\n",
       " mean: 0.95281, std: 0.03549, params: {'colsample_bytree': 0.9, 'learning_rate': 0.001, 'max_depth': 5, 'n_estimators': 50},\n",
       " mean: 0.95281, std: 0.03549, params: {'colsample_bytree': 0.9, 'learning_rate': 0.001, 'max_depth': 5, 'n_estimators': 75},\n",
       " mean: 0.95281, std: 0.03549, params: {'colsample_bytree': 0.9, 'learning_rate': 0.001, 'max_depth': 5, 'n_estimators': 100},\n",
       " mean: 0.95281, std: 0.03549, params: {'colsample_bytree': 0.9, 'learning_rate': 0.001, 'max_depth': 7, 'n_estimators': 50},\n",
       " mean: 0.95281, std: 0.03549, params: {'colsample_bytree': 0.9, 'learning_rate': 0.001, 'max_depth': 7, 'n_estimators': 75},\n",
       " mean: 0.95281, std: 0.03549, params: {'colsample_bytree': 0.9, 'learning_rate': 0.001, 'max_depth': 7, 'n_estimators': 100},\n",
       " mean: 0.91588, std: 0.05516, params: {'colsample_bytree': 0.9, 'learning_rate': 0.01, 'max_depth': 1, 'n_estimators': 50},\n",
       " mean: 0.94193, std: 0.03878, params: {'colsample_bytree': 0.9, 'learning_rate': 0.01, 'max_depth': 1, 'n_estimators': 75},\n",
       " mean: 0.95911, std: 0.03410, params: {'colsample_bytree': 0.9, 'learning_rate': 0.01, 'max_depth': 1, 'n_estimators': 100},\n",
       " mean: 0.95890, std: 0.03766, params: {'colsample_bytree': 0.9, 'learning_rate': 0.01, 'max_depth': 3, 'n_estimators': 50},\n",
       " mean: 0.96192, std: 0.03604, params: {'colsample_bytree': 0.9, 'learning_rate': 0.01, 'max_depth': 3, 'n_estimators': 75},\n",
       " mean: 0.96192, std: 0.03604, params: {'colsample_bytree': 0.9, 'learning_rate': 0.01, 'max_depth': 3, 'n_estimators': 100},\n",
       " mean: 0.94974, std: 0.03797, params: {'colsample_bytree': 0.9, 'learning_rate': 0.01, 'max_depth': 5, 'n_estimators': 50},\n",
       " mean: 0.95589, std: 0.03540, params: {'colsample_bytree': 0.9, 'learning_rate': 0.01, 'max_depth': 5, 'n_estimators': 75},\n",
       " mean: 0.95589, std: 0.03540, params: {'colsample_bytree': 0.9, 'learning_rate': 0.01, 'max_depth': 5, 'n_estimators': 100},\n",
       " mean: 0.94974, std: 0.03797, params: {'colsample_bytree': 0.9, 'learning_rate': 0.01, 'max_depth': 7, 'n_estimators': 50},\n",
       " mean: 0.95589, std: 0.03540, params: {'colsample_bytree': 0.9, 'learning_rate': 0.01, 'max_depth': 7, 'n_estimators': 75},\n",
       " mean: 0.95589, std: 0.03540, params: {'colsample_bytree': 0.9, 'learning_rate': 0.01, 'max_depth': 7, 'n_estimators': 100},\n",
       " mean: 0.95773, std: 0.03940, params: {'colsample_bytree': 0.9, 'learning_rate': 0.1, 'max_depth': 1, 'n_estimators': 50},\n",
       " mean: 0.95307, std: 0.03993, params: {'colsample_bytree': 0.9, 'learning_rate': 0.1, 'max_depth': 1, 'n_estimators': 75},\n",
       " mean: 0.95006, std: 0.03736, params: {'colsample_bytree': 0.9, 'learning_rate': 0.1, 'max_depth': 1, 'n_estimators': 100},\n",
       " mean: 0.95916, std: 0.03185, params: {'colsample_bytree': 0.9, 'learning_rate': 0.1, 'max_depth': 3, 'n_estimators': 50},\n",
       " mean: 0.95313, std: 0.03608, params: {'colsample_bytree': 0.9, 'learning_rate': 0.1, 'max_depth': 3, 'n_estimators': 75},\n",
       " mean: 0.95313, std: 0.03608, params: {'colsample_bytree': 0.9, 'learning_rate': 0.1, 'max_depth': 3, 'n_estimators': 100},\n",
       " mean: 0.96054, std: 0.03420, params: {'colsample_bytree': 0.9, 'learning_rate': 0.1, 'max_depth': 5, 'n_estimators': 50},\n",
       " mean: 0.96218, std: 0.03406, params: {'colsample_bytree': 0.9, 'learning_rate': 0.1, 'max_depth': 5, 'n_estimators': 75},\n",
       " mean: 0.95916, std: 0.03604, params: {'colsample_bytree': 0.9, 'learning_rate': 0.1, 'max_depth': 5, 'n_estimators': 100},\n",
       " mean: 0.95313, std: 0.03091, params: {'colsample_bytree': 0.9, 'learning_rate': 0.1, 'max_depth': 7, 'n_estimators': 50},\n",
       " mean: 0.95615, std: 0.03370, params: {'colsample_bytree': 0.9, 'learning_rate': 0.1, 'max_depth': 7, 'n_estimators': 75},\n",
       " mean: 0.95916, std: 0.03604, params: {'colsample_bytree': 0.9, 'learning_rate': 0.1, 'max_depth': 7, 'n_estimators': 100},\n",
       " mean: 0.95307, std: 0.03993, params: {'colsample_bytree': 0.9, 'learning_rate': 0.2, 'max_depth': 1, 'n_estimators': 50},\n",
       " mean: 0.95006, std: 0.03736, params: {'colsample_bytree': 0.9, 'learning_rate': 0.2, 'max_depth': 1, 'n_estimators': 75},\n",
       " mean: 0.95313, std: 0.03749, params: {'colsample_bytree': 0.9, 'learning_rate': 0.2, 'max_depth': 1, 'n_estimators': 100},\n",
       " mean: 0.95307, std: 0.03660, params: {'colsample_bytree': 0.9, 'learning_rate': 0.2, 'max_depth': 3, 'n_estimators': 50},\n",
       " mean: 0.95144, std: 0.03632, params: {'colsample_bytree': 0.9, 'learning_rate': 0.2, 'max_depth': 3, 'n_estimators': 75},\n",
       " mean: 0.95144, std: 0.03632, params: {'colsample_bytree': 0.9, 'learning_rate': 0.2, 'max_depth': 3, 'n_estimators': 100},\n",
       " mean: 0.95445, std: 0.03887, params: {'colsample_bytree': 0.9, 'learning_rate': 0.2, 'max_depth': 5, 'n_estimators': 50},\n",
       " mean: 0.95609, std: 0.03900, params: {'colsample_bytree': 0.9, 'learning_rate': 0.2, 'max_depth': 5, 'n_estimators': 75},\n",
       " mean: 0.95445, std: 0.03814, params: {'colsample_bytree': 0.9, 'learning_rate': 0.2, 'max_depth': 5, 'n_estimators': 100},\n",
       " mean: 0.95752, std: 0.03525, params: {'colsample_bytree': 0.9, 'learning_rate': 0.2, 'max_depth': 7, 'n_estimators': 50},\n",
       " mean: 0.95752, std: 0.03525, params: {'colsample_bytree': 0.9, 'learning_rate': 0.2, 'max_depth': 7, 'n_estimators': 75},\n",
       " mean: 0.95752, std: 0.03525, params: {'colsample_bytree': 0.9, 'learning_rate': 0.2, 'max_depth': 7, 'n_estimators': 100},\n",
       " mean: 0.95006, std: 0.03736, params: {'colsample_bytree': 0.9, 'learning_rate': 0.3, 'max_depth': 1, 'n_estimators': 50},\n",
       " mean: 0.94864, std: 0.03881, params: {'colsample_bytree': 0.9, 'learning_rate': 0.3, 'max_depth': 1, 'n_estimators': 75},\n",
       " mean: 0.94844, std: 0.03328, params: {'colsample_bytree': 0.9, 'learning_rate': 0.3, 'max_depth': 1, 'n_estimators': 100},\n",
       " mean: 0.95752, std: 0.03603, params: {'colsample_bytree': 0.9, 'learning_rate': 0.3, 'max_depth': 3, 'n_estimators': 50},\n",
       " mean: 0.95615, std: 0.03370, params: {'colsample_bytree': 0.9, 'learning_rate': 0.3, 'max_depth': 3, 'n_estimators': 75},\n",
       " mean: 0.95911, std: 0.03743, params: {'colsample_bytree': 0.9, 'learning_rate': 0.3, 'max_depth': 3, 'n_estimators': 100},\n",
       " mean: 0.95916, std: 0.03604, params: {'colsample_bytree': 0.9, 'learning_rate': 0.3, 'max_depth': 5, 'n_estimators': 50},\n",
       " mean: 0.96218, std: 0.03406, params: {'colsample_bytree': 0.9, 'learning_rate': 0.3, 'max_depth': 5, 'n_estimators': 75},\n",
       " mean: 0.96054, std: 0.03420, params: {'colsample_bytree': 0.9, 'learning_rate': 0.3, 'max_depth': 5, 'n_estimators': 100},\n",
       " mean: 0.95916, std: 0.03604, params: {'colsample_bytree': 0.9, 'learning_rate': 0.3, 'max_depth': 7, 'n_estimators': 50},\n",
       " mean: 0.95916, std: 0.03604, params: {'colsample_bytree': 0.9, 'learning_rate': 0.3, 'max_depth': 7, 'n_estimators': 75},\n",
       " mean: 0.95916, std: 0.03604, params: {'colsample_bytree': 0.9, 'learning_rate': 0.3, 'max_depth': 7, 'n_estimators': 100}]"
      ]
     },
     "execution_count": 15,
     "metadata": {},
     "output_type": "execute_result"
    }
   ],
   "source": [
    "clf.grid_scores_"
   ]
  },
  {
   "cell_type": "code",
   "execution_count": 16,
   "metadata": {
    "collapsed": false
   },
   "outputs": [
    {
     "name": "stdout",
     "output_type": "stream",
     "text": [
      "Best accuracy obtained: 0.9649907150618725\n",
      "Parameters:\n",
      "\tcolsample_bytree: 0.6\n",
      "\tlearning_rate: 0.001\n",
      "\tmax_depth: 3\n",
      "\tn_estimators: 100\n"
     ]
    }
   ],
   "source": [
    "print(\"Best accuracy obtained: {0}\".format(clf.best_score_))\n",
    "print(\"Parameters:\")\n",
    "for key, value in clf.best_params_.items():\n",
    "    print(\"\\t{}: {}\".format(key, value))"
   ]
  },
  {
   "cell_type": "code",
   "execution_count": 17,
   "metadata": {
    "collapsed": false
   },
   "outputs": [
    {
     "data": {
      "text/plain": [
       "XGBClassifier(base_score=0.5, colsample_bylevel=1, colsample_bytree=0.6,\n",
       "       gamma=0, learning_rate=0.001, max_delta_step=0, max_depth=3,\n",
       "       min_child_weight=1, missing=None, n_estimators=100, nthread=-1,\n",
       "       objective='binary:logistic', reg_alpha=0, reg_lambda=1,\n",
       "       scale_pos_weight=1, seed=42, silent=1, subsample=1)"
      ]
     },
     "execution_count": 17,
     "metadata": {},
     "output_type": "execute_result"
    }
   ],
   "source": [
    "clf.best_estimator_"
   ]
  },
  {
   "cell_type": "code",
   "execution_count": 18,
   "metadata": {
    "collapsed": false
   },
   "outputs": [
    {
     "data": {
      "text/plain": [
       "XGBClassifier(base_score=0.5, colsample_bylevel=1, colsample_bytree=0.6,\n",
       "       gamma=0, learning_rate=0.001, max_delta_step=0, max_depth=3,\n",
       "       min_child_weight=1, missing=None, n_estimators=100, nthread=-1,\n",
       "       objective='binary:logistic', reg_alpha=0, reg_lambda=1,\n",
       "       scale_pos_weight=1, seed=42, silent=1, subsample=1)"
      ]
     },
     "execution_count": 18,
     "metadata": {},
     "output_type": "execute_result"
    }
   ],
   "source": [
    "xgb1=XGBClassifier(base_score=0.5, colsample_bylevel=1, colsample_bytree=0.6,\n",
    "       gamma=0, learning_rate=0.001, max_delta_step=0, max_depth=3,\n",
    "       min_child_weight=1, missing=None, n_estimators=100, nthread=-1,\n",
    "       objective='binary:logistic', reg_alpha=0, reg_lambda=1,\n",
    "       scale_pos_weight=1, seed=42, silent=1, subsample=1)\n",
    "xgb1.fit(X_train,y_train)"
   ]
  },
  {
   "cell_type": "code",
   "execution_count": 19,
   "metadata": {
    "collapsed": false
   },
   "outputs": [
    {
     "name": "stdout",
     "output_type": "stream",
     "text": [
      "Akurasi: 0.9697\n",
      "Precision: 0.9487\n",
      "Recall: 0.9610\n",
      "F1: 0.9548\n"
     ]
    }
   ],
   "source": [
    "y_pred1 = xgb1.predict(X_test)\n",
    "accuracy = accuracy_score(y_test, y_pred1)\n",
    "precision, recall, f1, _ = precision_recall_fscore_support(y_test, y_pred1)\n",
    "print (('Akurasi: %.4f') % (accuracy))\n",
    "print (('Precision: %.4f') % (precision[1]))\n",
    "print (('Recall: %.4f') % (recall[1]))\n",
    "print (('F1: %.4f') % (f1[1]))"
   ]
  },
  {
   "cell_type": "markdown",
   "metadata": {},
   "source": [
    "# Setelah mendapatkan nilai learning rate, colsample_bytree, gridsearch kembali dilakukan dengan range yang lebih kecil "
   ]
  },
  {
   "cell_type": "code",
   "execution_count": 33,
   "metadata": {
    "collapsed": true
   },
   "outputs": [],
   "source": [
    "tuned_parameters2 = [{'learning_rate': [i/10000.0 for i in range(5,20,5)],\n",
    "                     'colsample_bytree':[i/100.0 for i in range(50,70,5)]},]"
   ]
  },
  {
   "cell_type": "code",
   "execution_count": 34,
   "metadata": {
    "collapsed": false
   },
   "outputs": [
    {
     "name": "stdout",
     "output_type": "stream",
     "text": [
      "Automatically created module for IPython interactive environment\n",
      "# Tuning hyper-parameters for recall\n",
      "\n",
      "Best parameters set found on development set:\n",
      "\n",
      "{'colsample_bytree': 0.6, 'learning_rate': 0.0005}\n",
      "\n",
      "Grid scores on development set:\n",
      "\n",
      "0.961 (+/-0.056) for {'colsample_bytree': 0.5, 'learning_rate': 0.0005}\n",
      "0.961 (+/-0.056) for {'colsample_bytree': 0.5, 'learning_rate': 0.001}\n",
      "0.961 (+/-0.056) for {'colsample_bytree': 0.5, 'learning_rate': 0.0015}\n",
      "0.961 (+/-0.056) for {'colsample_bytree': 0.55, 'learning_rate': 0.0005}\n",
      "0.961 (+/-0.056) for {'colsample_bytree': 0.55, 'learning_rate': 0.001}\n",
      "0.961 (+/-0.056) for {'colsample_bytree': 0.55, 'learning_rate': 0.0015}\n",
      "0.965 (+/-0.051) for {'colsample_bytree': 0.6, 'learning_rate': 0.0005}\n",
      "0.965 (+/-0.051) for {'colsample_bytree': 0.6, 'learning_rate': 0.001}\n",
      "0.965 (+/-0.051) for {'colsample_bytree': 0.6, 'learning_rate': 0.0015}\n",
      "0.965 (+/-0.051) for {'colsample_bytree': 0.65, 'learning_rate': 0.0005}\n",
      "0.965 (+/-0.051) for {'colsample_bytree': 0.65, 'learning_rate': 0.001}\n",
      "0.965 (+/-0.051) for {'colsample_bytree': 0.65, 'learning_rate': 0.0015}\n",
      "\n",
      "Detailed classification report:\n",
      "\n",
      "The model is trained on the full development set.\n",
      "The scores are computed on the full evaluation set.\n",
      "\n",
      "             precision    recall  f1-score   support\n",
      "\n",
      "          2       0.98      0.97      0.98       154\n",
      "          4       0.95      0.96      0.95        77\n",
      "\n",
      "avg / total       0.97      0.97      0.97       231\n",
      "\n",
      "\n"
     ]
    }
   ],
   "source": [
    "print(__doc__)\n",
    "\n",
    "# Loading the Digits dataset\n",
    "#digits = datasets.load_digits()\n",
    "\n",
    "# To apply an classifier on this data, we need to flatten the image, to\n",
    "# turn the data in a (samples, feature) matrix:\n",
    "n_samples = len(df)\n",
    "\n",
    "\n",
    "# Set the parameters by cross-validation\n",
    "\n",
    "params_fixed = {\n",
    "    'objective': 'binary:logistic',\n",
    "    'max_depth': 3,\n",
    "    'n_estimators': 100,\n",
    "    'silent': 1\n",
    "}\n",
    "scores = ['recall']\n",
    "\n",
    "for score in scores:\n",
    "    print(\"# Tuning hyper-parameters for %s\" % score)\n",
    "    print()\n",
    "\n",
    "    clf2 = GridSearchCV(estimator=XGBClassifier(**params_fixed, seed=random_state),\n",
    "    param_grid=tuned_parameters2, cv=cv, scoring='%s_macro' % score)\n",
    "    clf2.fit(X_train, y_train)\n",
    "\n",
    "    print(\"Best parameters set found on development set:\")\n",
    "    print()\n",
    "    print(clf2.best_params_)\n",
    "    print()\n",
    "    print(\"Grid scores on development set:\")\n",
    "    print()\n",
    "    means = clf2.cv_results_['mean_test_score']\n",
    "    stds = clf2.cv_results_['std_test_score']\n",
    "    for mean, std, params in zip(means, stds, clf2.cv_results_['params']):\n",
    "        print(\"%0.3f (+/-%0.03f) for %r\"\n",
    "              % (mean, std * 2, params))\n",
    "    print()\n",
    "\n",
    "    print(\"Detailed classification report:\")\n",
    "    print()\n",
    "    print(\"The model is trained on the full development set.\")\n",
    "    print(\"The scores are computed on the full evaluation set.\")\n",
    "    print()\n",
    "    y_true, y_pred = y_test, clf2.predict(X_test)\n",
    "    print(classification_report(y_true, y_pred))\n",
    "    print()"
   ]
  },
  {
   "cell_type": "code",
   "execution_count": 35,
   "metadata": {
    "collapsed": false
   },
   "outputs": [
    {
     "data": {
      "text/plain": [
       "{'colsample_bytree': 0.6, 'learning_rate': 0.0005}"
      ]
     },
     "execution_count": 35,
     "metadata": {},
     "output_type": "execute_result"
    }
   ],
   "source": [
    "clf2.best_params_"
   ]
  },
  {
   "cell_type": "code",
   "execution_count": 36,
   "metadata": {
    "collapsed": false
   },
   "outputs": [
    {
     "data": {
      "text/plain": [
       "XGBClassifier(base_score=0.5, colsample_bylevel=1, colsample_bytree=0.6,\n",
       "       gamma=0, learning_rate=0.0005, max_delta_step=0, max_depth=3,\n",
       "       min_child_weight=1, missing=None, n_estimators=100, nthread=-1,\n",
       "       objective='binary:logistic', reg_alpha=0, reg_lambda=1,\n",
       "       scale_pos_weight=1, seed=42, silent=1, subsample=1)"
      ]
     },
     "execution_count": 36,
     "metadata": {},
     "output_type": "execute_result"
    }
   ],
   "source": [
    "clf2.best_estimator_"
   ]
  },
  {
   "cell_type": "code",
   "execution_count": 37,
   "metadata": {
    "collapsed": true
   },
   "outputs": [],
   "source": [
    "xgb2=XGBClassifier(base_score=0.5, colsample_bylevel=1, colsample_bytree=0.6,\n",
    "       gamma=0, learning_rate=0.0005, max_delta_step=0, max_depth=3,\n",
    "       min_child_weight=1, missing=None, n_estimators=100, nthread=-1,\n",
    "       objective='binary:logistic', reg_alpha=0, reg_lambda=1,\n",
    "       scale_pos_weight=1, seed=42, silent=1, subsample=1)"
   ]
  },
  {
   "cell_type": "code",
   "execution_count": 38,
   "metadata": {
    "collapsed": false
   },
   "outputs": [
    {
     "data": {
      "text/plain": [
       "XGBClassifier(base_score=0.5, colsample_bylevel=1, colsample_bytree=0.6,\n",
       "       gamma=0, learning_rate=0.0005, max_delta_step=0, max_depth=3,\n",
       "       min_child_weight=1, missing=None, n_estimators=100, nthread=-1,\n",
       "       objective='binary:logistic', reg_alpha=0, reg_lambda=1,\n",
       "       scale_pos_weight=1, seed=42, silent=1, subsample=1)"
      ]
     },
     "execution_count": 38,
     "metadata": {},
     "output_type": "execute_result"
    }
   ],
   "source": [
    "xgb2.fit(X_train,y_train)"
   ]
  },
  {
   "cell_type": "code",
   "execution_count": 39,
   "metadata": {
    "collapsed": false
   },
   "outputs": [
    {
     "name": "stdout",
     "output_type": "stream",
     "text": [
      "Akurasi: 0.9697\n",
      "Precision: 0.9487\n",
      "Recall: 0.9610\n",
      "F1: 0.9548\n"
     ]
    }
   ],
   "source": [
    "y_pred2 = xgb2.predict(X_test)\n",
    "accuracy = accuracy_score(y_test, y_pred2)\n",
    "precision, recall, f1, _ = precision_recall_fscore_support(y_test, y_pred2)\n",
    "print (('Akurasi: %.4f') % (accuracy))\n",
    "print (('Precision: %.4f') % (precision[1]))\n",
    "print (('Recall: %.4f') % (recall[1]))\n",
    "print (('F1: %.4f') % (f1[1]))"
   ]
  },
  {
   "cell_type": "code",
   "execution_count": 51,
   "metadata": {
    "collapsed": false
   },
   "outputs": [
    {
     "name": "stdout",
     "output_type": "stream",
     "text": [
      "Automatically created module for IPython interactive environment\n",
      "# Tuning hyper-parameters for recall\n",
      "\n",
      "Best parameters set found on development set:\n",
      "\n",
      "{'min_child_weight': 8, 'reg_alpha': 0.1, 'subsample': 0.7}\n",
      "\n",
      "Grid scores on development set:\n",
      "\n",
      "0.947 (+/-0.061) for {'min_child_weight': 6, 'reg_alpha': 0.0001, 'subsample': 0.6}\n",
      "0.947 (+/-0.061) for {'min_child_weight': 6, 'reg_alpha': 0.0001, 'subsample': 0.7}\n",
      "0.947 (+/-0.078) for {'min_child_weight': 6, 'reg_alpha': 0.0001, 'subsample': 0.8}\n",
      "0.943 (+/-0.077) for {'min_child_weight': 6, 'reg_alpha': 0.0001, 'subsample': 0.9}\n",
      "0.947 (+/-0.061) for {'min_child_weight': 6, 'reg_alpha': 0.1, 'subsample': 0.6}\n",
      "0.947 (+/-0.061) for {'min_child_weight': 6, 'reg_alpha': 0.1, 'subsample': 0.7}\n",
      "0.947 (+/-0.078) for {'min_child_weight': 6, 'reg_alpha': 0.1, 'subsample': 0.8}\n",
      "0.943 (+/-0.077) for {'min_child_weight': 6, 'reg_alpha': 0.1, 'subsample': 0.9}\n",
      "0.947 (+/-0.061) for {'min_child_weight': 6, 'reg_alpha': 0.1, 'subsample': 0.6}\n",
      "0.947 (+/-0.061) for {'min_child_weight': 6, 'reg_alpha': 0.1, 'subsample': 0.7}\n",
      "0.947 (+/-0.078) for {'min_child_weight': 6, 'reg_alpha': 0.1, 'subsample': 0.8}\n",
      "0.943 (+/-0.077) for {'min_child_weight': 6, 'reg_alpha': 0.1, 'subsample': 0.9}\n",
      "0.944 (+/-0.062) for {'min_child_weight': 6, 'reg_alpha': 1, 'subsample': 0.6}\n",
      "0.944 (+/-0.074) for {'min_child_weight': 6, 'reg_alpha': 1, 'subsample': 0.7}\n",
      "0.944 (+/-0.081) for {'min_child_weight': 6, 'reg_alpha': 1, 'subsample': 0.8}\n",
      "0.943 (+/-0.077) for {'min_child_weight': 6, 'reg_alpha': 1, 'subsample': 0.9}\n",
      "0.500 (+/-0.000) for {'min_child_weight': 6, 'reg_alpha': 100, 'subsample': 0.6}\n",
      "0.500 (+/-0.000) for {'min_child_weight': 6, 'reg_alpha': 100, 'subsample': 0.7}\n",
      "0.500 (+/-0.000) for {'min_child_weight': 6, 'reg_alpha': 100, 'subsample': 0.8}\n",
      "0.500 (+/-0.000) for {'min_child_weight': 6, 'reg_alpha': 100, 'subsample': 0.9}\n",
      "0.947 (+/-0.070) for {'min_child_weight': 8, 'reg_alpha': 0.0001, 'subsample': 0.6}\n",
      "0.948 (+/-0.065) for {'min_child_weight': 8, 'reg_alpha': 0.0001, 'subsample': 0.7}\n",
      "0.945 (+/-0.066) for {'min_child_weight': 8, 'reg_alpha': 0.0001, 'subsample': 0.8}\n",
      "0.948 (+/-0.073) for {'min_child_weight': 8, 'reg_alpha': 0.0001, 'subsample': 0.9}\n",
      "0.947 (+/-0.070) for {'min_child_weight': 8, 'reg_alpha': 0.1, 'subsample': 0.6}\n",
      "0.950 (+/-0.068) for {'min_child_weight': 8, 'reg_alpha': 0.1, 'subsample': 0.7}\n",
      "0.945 (+/-0.066) for {'min_child_weight': 8, 'reg_alpha': 0.1, 'subsample': 0.8}\n",
      "0.948 (+/-0.073) for {'min_child_weight': 8, 'reg_alpha': 0.1, 'subsample': 0.9}\n",
      "0.947 (+/-0.070) for {'min_child_weight': 8, 'reg_alpha': 0.1, 'subsample': 0.6}\n",
      "0.950 (+/-0.068) for {'min_child_weight': 8, 'reg_alpha': 0.1, 'subsample': 0.7}\n",
      "0.945 (+/-0.066) for {'min_child_weight': 8, 'reg_alpha': 0.1, 'subsample': 0.8}\n",
      "0.948 (+/-0.073) for {'min_child_weight': 8, 'reg_alpha': 0.1, 'subsample': 0.9}\n",
      "0.944 (+/-0.066) for {'min_child_weight': 8, 'reg_alpha': 1, 'subsample': 0.6}\n",
      "0.938 (+/-0.070) for {'min_child_weight': 8, 'reg_alpha': 1, 'subsample': 0.7}\n",
      "0.933 (+/-0.073) for {'min_child_weight': 8, 'reg_alpha': 1, 'subsample': 0.8}\n",
      "0.939 (+/-0.089) for {'min_child_weight': 8, 'reg_alpha': 1, 'subsample': 0.9}\n",
      "0.500 (+/-0.000) for {'min_child_weight': 8, 'reg_alpha': 100, 'subsample': 0.6}\n",
      "0.500 (+/-0.000) for {'min_child_weight': 8, 'reg_alpha': 100, 'subsample': 0.7}\n",
      "0.500 (+/-0.000) for {'min_child_weight': 8, 'reg_alpha': 100, 'subsample': 0.8}\n",
      "0.500 (+/-0.000) for {'min_child_weight': 8, 'reg_alpha': 100, 'subsample': 0.9}\n",
      "0.944 (+/-0.066) for {'min_child_weight': 10, 'reg_alpha': 0.0001, 'subsample': 0.6}\n",
      "0.944 (+/-0.072) for {'min_child_weight': 10, 'reg_alpha': 0.0001, 'subsample': 0.7}\n",
      "0.935 (+/-0.076) for {'min_child_weight': 10, 'reg_alpha': 0.0001, 'subsample': 0.8}\n",
      "0.933 (+/-0.091) for {'min_child_weight': 10, 'reg_alpha': 0.0001, 'subsample': 0.9}\n",
      "0.944 (+/-0.066) for {'min_child_weight': 10, 'reg_alpha': 0.1, 'subsample': 0.6}\n",
      "0.944 (+/-0.072) for {'min_child_weight': 10, 'reg_alpha': 0.1, 'subsample': 0.7}\n",
      "0.935 (+/-0.076) for {'min_child_weight': 10, 'reg_alpha': 0.1, 'subsample': 0.8}\n",
      "0.930 (+/-0.090) for {'min_child_weight': 10, 'reg_alpha': 0.1, 'subsample': 0.9}\n",
      "0.944 (+/-0.066) for {'min_child_weight': 10, 'reg_alpha': 0.1, 'subsample': 0.6}\n",
      "0.944 (+/-0.072) for {'min_child_weight': 10, 'reg_alpha': 0.1, 'subsample': 0.7}\n",
      "0.935 (+/-0.076) for {'min_child_weight': 10, 'reg_alpha': 0.1, 'subsample': 0.8}\n",
      "0.930 (+/-0.090) for {'min_child_weight': 10, 'reg_alpha': 0.1, 'subsample': 0.9}\n",
      "0.944 (+/-0.066) for {'min_child_weight': 10, 'reg_alpha': 1, 'subsample': 0.6}\n",
      "0.941 (+/-0.073) for {'min_child_weight': 10, 'reg_alpha': 1, 'subsample': 0.7}\n",
      "0.932 (+/-0.086) for {'min_child_weight': 10, 'reg_alpha': 1, 'subsample': 0.8}\n",
      "0.928 (+/-0.085) for {'min_child_weight': 10, 'reg_alpha': 1, 'subsample': 0.9}\n",
      "0.500 (+/-0.000) for {'min_child_weight': 10, 'reg_alpha': 100, 'subsample': 0.6}\n",
      "0.500 (+/-0.000) for {'min_child_weight': 10, 'reg_alpha': 100, 'subsample': 0.7}\n",
      "0.500 (+/-0.000) for {'min_child_weight': 10, 'reg_alpha': 100, 'subsample': 0.8}\n",
      "0.500 (+/-0.000) for {'min_child_weight': 10, 'reg_alpha': 100, 'subsample': 0.9}\n",
      "0.939 (+/-0.079) for {'min_child_weight': 12, 'reg_alpha': 0.0001, 'subsample': 0.6}\n",
      "0.944 (+/-0.072) for {'min_child_weight': 12, 'reg_alpha': 0.0001, 'subsample': 0.7}\n",
      "0.944 (+/-0.072) for {'min_child_weight': 12, 'reg_alpha': 0.0001, 'subsample': 0.8}\n",
      "0.938 (+/-0.079) for {'min_child_weight': 12, 'reg_alpha': 0.0001, 'subsample': 0.9}\n",
      "0.939 (+/-0.079) for {'min_child_weight': 12, 'reg_alpha': 0.1, 'subsample': 0.6}\n",
      "0.944 (+/-0.072) for {'min_child_weight': 12, 'reg_alpha': 0.1, 'subsample': 0.7}\n",
      "0.944 (+/-0.072) for {'min_child_weight': 12, 'reg_alpha': 0.1, 'subsample': 0.8}\n",
      "0.938 (+/-0.079) for {'min_child_weight': 12, 'reg_alpha': 0.1, 'subsample': 0.9}\n",
      "0.939 (+/-0.079) for {'min_child_weight': 12, 'reg_alpha': 0.1, 'subsample': 0.6}\n",
      "0.944 (+/-0.072) for {'min_child_weight': 12, 'reg_alpha': 0.1, 'subsample': 0.7}\n",
      "0.944 (+/-0.072) for {'min_child_weight': 12, 'reg_alpha': 0.1, 'subsample': 0.8}\n",
      "0.938 (+/-0.079) for {'min_child_weight': 12, 'reg_alpha': 0.1, 'subsample': 0.9}\n",
      "0.936 (+/-0.085) for {'min_child_weight': 12, 'reg_alpha': 1, 'subsample': 0.6}\n",
      "0.941 (+/-0.073) for {'min_child_weight': 12, 'reg_alpha': 1, 'subsample': 0.7}\n",
      "0.938 (+/-0.070) for {'min_child_weight': 12, 'reg_alpha': 1, 'subsample': 0.8}\n",
      "0.938 (+/-0.083) for {'min_child_weight': 12, 'reg_alpha': 1, 'subsample': 0.9}\n",
      "0.500 (+/-0.000) for {'min_child_weight': 12, 'reg_alpha': 100, 'subsample': 0.6}\n",
      "0.500 (+/-0.000) for {'min_child_weight': 12, 'reg_alpha': 100, 'subsample': 0.7}\n",
      "0.500 (+/-0.000) for {'min_child_weight': 12, 'reg_alpha': 100, 'subsample': 0.8}\n",
      "0.500 (+/-0.000) for {'min_child_weight': 12, 'reg_alpha': 100, 'subsample': 0.9}\n",
      "\n",
      "Detailed classification report:\n",
      "\n",
      "The model is trained on the full development set.\n",
      "The scores are computed on the full evaluation set.\n",
      "\n",
      "             precision    recall  f1-score   support\n",
      "\n",
      "          2       0.97      0.97      0.97       154\n",
      "          4       0.95      0.94      0.94        77\n",
      "\n",
      "avg / total       0.96      0.96      0.96       231\n",
      "\n",
      "\n"
     ]
    }
   ],
   "source": [
    "print(__doc__)\n",
    "\n",
    "# Loading the Digits dataset\n",
    "#digits = datasets.load_digits()\n",
    "\n",
    "# To apply an classifier on this data, we need to flatten the image, to\n",
    "# turn the data in a (samples, feature) matrix:\n",
    "n_samples = len(df)\n",
    "\n",
    "\n",
    "# Set the parameters by cross-validation\n",
    "\n",
    "tuned_parameters3 = [{'min_child_weight': range(6,14,2), 'subsample': [i/10.0 for i in range(6,10)],\n",
    "                     'reg_alpha': [10e-5, 10e-2, 0.1, 1, 100]},]\n",
    "params_fixed = {\n",
    "    'objective': 'binary:logistic',\n",
    "    'colsample_bytree': 0.6,\n",
    "    'learning_rate': 0.0005,\n",
    "    'max_depth': 3,\n",
    "    'n_estimators': 100,\n",
    "    'silent': 1\n",
    "}\n",
    "scores = ['recall']\n",
    "\n",
    "for score in scores:\n",
    "    print(\"# Tuning hyper-parameters for %s\" % score)\n",
    "    print()\n",
    "\n",
    "    clf3 = GridSearchCV(estimator=XGBClassifier(**params_fixed, seed=random_state),\n",
    "    param_grid=tuned_parameters3, cv=cv, scoring='%s_macro' % score)\n",
    "    clf3.fit(X_train, y_train)\n",
    "\n",
    "    print(\"Best parameters set found on development set:\")\n",
    "    print()\n",
    "    print(clf3.best_params_)\n",
    "    print()\n",
    "    print(\"Grid scores on development set:\")\n",
    "    print()\n",
    "    means = clf3.cv_results_['mean_test_score']\n",
    "    stds = clf3.cv_results_['std_test_score']\n",
    "    for mean, std, params in zip(means, stds, clf3.cv_results_['params']):\n",
    "        print(\"%0.3f (+/-%0.03f) for %r\"\n",
    "              % (mean, std * 2, params))\n",
    "    print()\n",
    "\n",
    "    print(\"Detailed classification report:\")\n",
    "    print()\n",
    "    print(\"The model is trained on the full development set.\")\n",
    "    print(\"The scores are computed on the full evaluation set.\")\n",
    "    print()\n",
    "    y_true, y_pred = y_test, clf3.predict(X_test)\n",
    "    print(classification_report(y_true, y_pred))\n",
    "    print()"
   ]
  },
  {
   "cell_type": "code",
   "execution_count": 52,
   "metadata": {
    "collapsed": false
   },
   "outputs": [
    {
     "name": "stderr",
     "output_type": "stream",
     "text": [
      "C:\\Users\\Annisa\\Anaconda3\\lib\\site-packages\\sklearn\\model_selection\\_search.py:667: DeprecationWarning: The grid_scores_ attribute was deprecated in version 0.18 in favor of the more elaborate cv_results_ attribute. The grid_scores_ attribute will not be available from 0.20\n",
      "  DeprecationWarning)\n"
     ]
    },
    {
     "data": {
      "text/plain": [
       "[mean: 0.94671, std: 0.03037, params: {'min_child_weight': 6, 'reg_alpha': 0.0001, 'subsample': 0.6},\n",
       " mean: 0.94671, std: 0.03037, params: {'min_child_weight': 6, 'reg_alpha': 0.0001, 'subsample': 0.7},\n",
       " mean: 0.94671, std: 0.03901, params: {'min_child_weight': 6, 'reg_alpha': 0.0001, 'subsample': 0.8},\n",
       " mean: 0.94343, std: 0.03857, params: {'min_child_weight': 6, 'reg_alpha': 0.0001, 'subsample': 0.9},\n",
       " mean: 0.94671, std: 0.03037, params: {'min_child_weight': 6, 'reg_alpha': 0.1, 'subsample': 0.6},\n",
       " mean: 0.94671, std: 0.03037, params: {'min_child_weight': 6, 'reg_alpha': 0.1, 'subsample': 0.7},\n",
       " mean: 0.94671, std: 0.03901, params: {'min_child_weight': 6, 'reg_alpha': 0.1, 'subsample': 0.8},\n",
       " mean: 0.94343, std: 0.03857, params: {'min_child_weight': 6, 'reg_alpha': 0.1, 'subsample': 0.9},\n",
       " mean: 0.94671, std: 0.03037, params: {'min_child_weight': 6, 'reg_alpha': 0.1, 'subsample': 0.6},\n",
       " mean: 0.94671, std: 0.03037, params: {'min_child_weight': 6, 'reg_alpha': 0.1, 'subsample': 0.7},\n",
       " mean: 0.94671, std: 0.03901, params: {'min_child_weight': 6, 'reg_alpha': 0.1, 'subsample': 0.8},\n",
       " mean: 0.94343, std: 0.03857, params: {'min_child_weight': 6, 'reg_alpha': 0.1, 'subsample': 0.9},\n",
       " mean: 0.94364, std: 0.03124, params: {'min_child_weight': 6, 'reg_alpha': 1, 'subsample': 0.6},\n",
       " mean: 0.94364, std: 0.03714, params: {'min_child_weight': 6, 'reg_alpha': 1, 'subsample': 0.7},\n",
       " mean: 0.94364, std: 0.04082, params: {'min_child_weight': 6, 'reg_alpha': 1, 'subsample': 0.8},\n",
       " mean: 0.94343, std: 0.03857, params: {'min_child_weight': 6, 'reg_alpha': 1, 'subsample': 0.9},\n",
       " mean: 0.50000, std: 0.00000, params: {'min_child_weight': 6, 'reg_alpha': 100, 'subsample': 0.6},\n",
       " mean: 0.50000, std: 0.00000, params: {'min_child_weight': 6, 'reg_alpha': 100, 'subsample': 0.7},\n",
       " mean: 0.50000, std: 0.00000, params: {'min_child_weight': 6, 'reg_alpha': 100, 'subsample': 0.8},\n",
       " mean: 0.50000, std: 0.00000, params: {'min_child_weight': 6, 'reg_alpha': 100, 'subsample': 0.9},\n",
       " mean: 0.94693, std: 0.03503, params: {'min_child_weight': 8, 'reg_alpha': 0.0001, 'subsample': 0.6},\n",
       " mean: 0.94836, std: 0.03265, params: {'min_child_weight': 8, 'reg_alpha': 0.0001, 'subsample': 0.7},\n",
       " mean: 0.94535, std: 0.03322, params: {'min_child_weight': 8, 'reg_alpha': 0.0001, 'subsample': 0.8},\n",
       " mean: 0.94836, std: 0.03678, params: {'min_child_weight': 8, 'reg_alpha': 0.0001, 'subsample': 0.9},\n",
       " mean: 0.94693, std: 0.03503, params: {'min_child_weight': 8, 'reg_alpha': 0.1, 'subsample': 0.6},\n",
       " mean: 0.95000, std: 0.03395, params: {'min_child_weight': 8, 'reg_alpha': 0.1, 'subsample': 0.7},\n",
       " mean: 0.94535, std: 0.03322, params: {'min_child_weight': 8, 'reg_alpha': 0.1, 'subsample': 0.8},\n",
       " mean: 0.94836, std: 0.03678, params: {'min_child_weight': 8, 'reg_alpha': 0.1, 'subsample': 0.9},\n",
       " mean: 0.94693, std: 0.03503, params: {'min_child_weight': 8, 'reg_alpha': 0.1, 'subsample': 0.6},\n",
       " mean: 0.95000, std: 0.03395, params: {'min_child_weight': 8, 'reg_alpha': 0.1, 'subsample': 0.7},\n",
       " mean: 0.94535, std: 0.03322, params: {'min_child_weight': 8, 'reg_alpha': 0.1, 'subsample': 0.8},\n",
       " mean: 0.94836, std: 0.03678, params: {'min_child_weight': 8, 'reg_alpha': 0.1, 'subsample': 0.9},\n",
       " mean: 0.94386, std: 0.03295, params: {'min_child_weight': 8, 'reg_alpha': 1, 'subsample': 0.6},\n",
       " mean: 0.93777, std: 0.03488, params: {'min_child_weight': 8, 'reg_alpha': 1, 'subsample': 0.7},\n",
       " mean: 0.93305, std: 0.03640, params: {'min_child_weight': 8, 'reg_alpha': 1, 'subsample': 0.8},\n",
       " mean: 0.93891, std: 0.04484, params: {'min_child_weight': 8, 'reg_alpha': 1, 'subsample': 0.9},\n",
       " mean: 0.50000, std: 0.00000, params: {'min_child_weight': 8, 'reg_alpha': 100, 'subsample': 0.6},\n",
       " mean: 0.50000, std: 0.00000, params: {'min_child_weight': 8, 'reg_alpha': 100, 'subsample': 0.7},\n",
       " mean: 0.50000, std: 0.00000, params: {'min_child_weight': 8, 'reg_alpha': 100, 'subsample': 0.8},\n",
       " mean: 0.50000, std: 0.00000, params: {'min_child_weight': 8, 'reg_alpha': 100, 'subsample': 0.9},\n",
       " mean: 0.94386, std: 0.03295, params: {'min_child_weight': 10, 'reg_alpha': 0.0001, 'subsample': 0.6},\n",
       " mean: 0.94386, std: 0.03579, params: {'min_child_weight': 10, 'reg_alpha': 0.0001, 'subsample': 0.7},\n",
       " mean: 0.93475, std: 0.03803, params: {'min_child_weight': 10, 'reg_alpha': 0.0001, 'subsample': 0.8},\n",
       " mean: 0.93316, std: 0.04511, params: {'min_child_weight': 10, 'reg_alpha': 0.0001, 'subsample': 0.9},\n",
       " mean: 0.94386, std: 0.03295, params: {'min_child_weight': 10, 'reg_alpha': 0.1, 'subsample': 0.6},\n",
       " mean: 0.94386, std: 0.03579, params: {'min_child_weight': 10, 'reg_alpha': 0.1, 'subsample': 0.7},\n",
       " mean: 0.93475, std: 0.03803, params: {'min_child_weight': 10, 'reg_alpha': 0.1, 'subsample': 0.8},\n",
       " mean: 0.93008, std: 0.04477, params: {'min_child_weight': 10, 'reg_alpha': 0.1, 'subsample': 0.9},\n",
       " mean: 0.94386, std: 0.03295, params: {'min_child_weight': 10, 'reg_alpha': 0.1, 'subsample': 0.6},\n",
       " mean: 0.94386, std: 0.03579, params: {'min_child_weight': 10, 'reg_alpha': 0.1, 'subsample': 0.7},\n",
       " mean: 0.93475, std: 0.03803, params: {'min_child_weight': 10, 'reg_alpha': 0.1, 'subsample': 0.8},\n",
       " mean: 0.93008, std: 0.04477, params: {'min_child_weight': 10, 'reg_alpha': 0.1, 'subsample': 0.9},\n",
       " mean: 0.94386, std: 0.03295, params: {'min_child_weight': 10, 'reg_alpha': 1, 'subsample': 0.6},\n",
       " mean: 0.94079, std: 0.03628, params: {'min_child_weight': 10, 'reg_alpha': 1, 'subsample': 0.7},\n",
       " mean: 0.93168, std: 0.04276, params: {'min_child_weight': 10, 'reg_alpha': 1, 'subsample': 0.8},\n",
       " mean: 0.92843, std: 0.04245, params: {'min_child_weight': 10, 'reg_alpha': 1, 'subsample': 0.9},\n",
       " mean: 0.50000, std: 0.00000, params: {'min_child_weight': 10, 'reg_alpha': 100, 'subsample': 0.6},\n",
       " mean: 0.50000, std: 0.00000, params: {'min_child_weight': 10, 'reg_alpha': 100, 'subsample': 0.7},\n",
       " mean: 0.50000, std: 0.00000, params: {'min_child_weight': 10, 'reg_alpha': 100, 'subsample': 0.8},\n",
       " mean: 0.50000, std: 0.00000, params: {'min_child_weight': 10, 'reg_alpha': 100, 'subsample': 0.9},\n",
       " mean: 0.93893, std: 0.03933, params: {'min_child_weight': 12, 'reg_alpha': 0.0001, 'subsample': 0.6},\n",
       " mean: 0.94386, std: 0.03579, params: {'min_child_weight': 12, 'reg_alpha': 0.0001, 'subsample': 0.7},\n",
       " mean: 0.94386, std: 0.03579, params: {'min_child_weight': 12, 'reg_alpha': 0.0001, 'subsample': 0.8},\n",
       " mean: 0.93757, std: 0.03963, params: {'min_child_weight': 12, 'reg_alpha': 0.0001, 'subsample': 0.9},\n",
       " mean: 0.93893, std: 0.03933, params: {'min_child_weight': 12, 'reg_alpha': 0.1, 'subsample': 0.6},\n",
       " mean: 0.94386, std: 0.03579, params: {'min_child_weight': 12, 'reg_alpha': 0.1, 'subsample': 0.7},\n",
       " mean: 0.94386, std: 0.03579, params: {'min_child_weight': 12, 'reg_alpha': 0.1, 'subsample': 0.8},\n",
       " mean: 0.93757, std: 0.03963, params: {'min_child_weight': 12, 'reg_alpha': 0.1, 'subsample': 0.9},\n",
       " mean: 0.93893, std: 0.03933, params: {'min_child_weight': 12, 'reg_alpha': 0.1, 'subsample': 0.6},\n",
       " mean: 0.94386, std: 0.03579, params: {'min_child_weight': 12, 'reg_alpha': 0.1, 'subsample': 0.7},\n",
       " mean: 0.94386, std: 0.03579, params: {'min_child_weight': 12, 'reg_alpha': 0.1, 'subsample': 0.8},\n",
       " mean: 0.93757, std: 0.03963, params: {'min_child_weight': 12, 'reg_alpha': 0.1, 'subsample': 0.9},\n",
       " mean: 0.93591, std: 0.04222, params: {'min_child_weight': 12, 'reg_alpha': 1, 'subsample': 0.6},\n",
       " mean: 0.94079, std: 0.03628, params: {'min_child_weight': 12, 'reg_alpha': 1, 'subsample': 0.7},\n",
       " mean: 0.93757, std: 0.03499, params: {'min_child_weight': 12, 'reg_alpha': 1, 'subsample': 0.8},\n",
       " mean: 0.93783, std: 0.04152, params: {'min_child_weight': 12, 'reg_alpha': 1, 'subsample': 0.9},\n",
       " mean: 0.50000, std: 0.00000, params: {'min_child_weight': 12, 'reg_alpha': 100, 'subsample': 0.6},\n",
       " mean: 0.50000, std: 0.00000, params: {'min_child_weight': 12, 'reg_alpha': 100, 'subsample': 0.7},\n",
       " mean: 0.50000, std: 0.00000, params: {'min_child_weight': 12, 'reg_alpha': 100, 'subsample': 0.8},\n",
       " mean: 0.50000, std: 0.00000, params: {'min_child_weight': 12, 'reg_alpha': 100, 'subsample': 0.9}]"
      ]
     },
     "execution_count": 52,
     "metadata": {},
     "output_type": "execute_result"
    }
   ],
   "source": [
    "clf3.grid_scores_"
   ]
  },
  {
   "cell_type": "code",
   "execution_count": 53,
   "metadata": {
    "collapsed": false
   },
   "outputs": [
    {
     "name": "stdout",
     "output_type": "stream",
     "text": [
      "Best accuracy obtained: 0.9500025509928262\n",
      "Parameters:\n",
      "\tmin_child_weight: 8\n",
      "\treg_alpha: 0.1\n",
      "\tsubsample: 0.7\n"
     ]
    }
   ],
   "source": [
    "print(\"Best accuracy obtained: {0}\".format(clf3.best_score_))\n",
    "print(\"Parameters:\")\n",
    "for key, value in clf3.best_params_.items():\n",
    "    print(\"\\t{}: {}\".format(key, value))"
   ]
  },
  {
   "cell_type": "code",
   "execution_count": 54,
   "metadata": {
    "collapsed": false
   },
   "outputs": [
    {
     "data": {
      "text/plain": [
       "XGBClassifier(base_score=0.5, colsample_bylevel=1, colsample_bytree=0.6,\n",
       "       gamma=0, learning_rate=0.0005, max_delta_step=0, max_depth=3,\n",
       "       min_child_weight=8, missing=None, n_estimators=100, nthread=-1,\n",
       "       objective='binary:logistic', reg_alpha=0.1, reg_lambda=1,\n",
       "       scale_pos_weight=1, seed=42, silent=1, subsample=0.7)"
      ]
     },
     "execution_count": 54,
     "metadata": {},
     "output_type": "execute_result"
    }
   ],
   "source": [
    "clf3.best_estimator_"
   ]
  },
  {
   "cell_type": "code",
   "execution_count": 61,
   "metadata": {
    "collapsed": false
   },
   "outputs": [
    {
     "data": {
      "text/plain": [
       "XGBClassifier(base_score=0.5, colsample_bylevel=1, colsample_bytree=0.6,\n",
       "       gamma=0, learning_rate=0.0005, max_delta_step=0, max_depth=3,\n",
       "       min_child_weight=8, missing=None, n_estimators=100, nthread=-1,\n",
       "       objective='binary:logistic', reg_alpha=0.1, reg_lambda=1,\n",
       "       scale_pos_weight=1, seed=42, silent=1, subsample=0.7)"
      ]
     },
     "execution_count": 61,
     "metadata": {},
     "output_type": "execute_result"
    }
   ],
   "source": [
    "xgb3=XGBClassifier(base_score=0.5, colsample_bylevel=1, colsample_bytree=0.6,\n",
    "       gamma=0, learning_rate=0.0005, max_delta_step=0, max_depth=3,\n",
    "       min_child_weight=8, missing=None, n_estimators=100, nthread=-1,\n",
    "       objective='binary:logistic', reg_alpha=0.1, reg_lambda=1,\n",
    "       scale_pos_weight=1, seed=42, silent=1, subsample=0.7)\n",
    "xgb3.fit(X_train,y_train)"
   ]
  },
  {
   "cell_type": "code",
   "execution_count": 62,
   "metadata": {
    "collapsed": false
   },
   "outputs": [
    {
     "name": "stdout",
     "output_type": "stream",
     "text": [
      "Akurasi: 0.9610\n",
      "Precision: 0.9474\n",
      "Recall: 0.9351\n",
      "F1: 0.9412\n"
     ]
    }
   ],
   "source": [
    "y_pred3 = xgb3.predict(X_test)\n",
    "accuracy = accuracy_score(y_test, y_pred3)\n",
    "precision, recall, f1, _ = precision_recall_fscore_support(y_test, y_pred3)\n",
    "print (('Akurasi: %.4f') % (accuracy))\n",
    "print (('Precision: %.4f') % (precision[1]))\n",
    "print (('Recall: %.4f') % (recall[1]))\n",
    "print (('F1: %.4f') % (f1[1]))"
   ]
  },
  {
   "cell_type": "code",
   "execution_count": 63,
   "metadata": {
    "collapsed": true
   },
   "outputs": [],
   "source": [
    "tuned_parameters4 = [{'min_child_weight': range(7,10,1), 'subsample': [i/100.0 for i in range(60,85,5)],\n",
    "                     'reg_alpha': [i/100.0 for i in range(5,20,5)]},]"
   ]
  },
  {
   "cell_type": "code",
   "execution_count": 64,
   "metadata": {
    "collapsed": false
   },
   "outputs": [
    {
     "name": "stdout",
     "output_type": "stream",
     "text": [
      "Automatically created module for IPython interactive environment\n",
      "# Tuning hyper-parameters for recall\n",
      "\n",
      "Best parameters set found on development set:\n",
      "\n",
      "{'min_child_weight': 7, 'reg_alpha': 0.05, 'subsample': 0.75}\n",
      "\n",
      "Grid scores on development set:\n",
      "\n",
      "0.948 (+/-0.065) for {'min_child_weight': 7, 'reg_alpha': 0.05, 'subsample': 0.6}\n",
      "0.948 (+/-0.065) for {'min_child_weight': 7, 'reg_alpha': 0.05, 'subsample': 0.65}\n",
      "0.947 (+/-0.061) for {'min_child_weight': 7, 'reg_alpha': 0.05, 'subsample': 0.7}\n",
      "0.951 (+/-0.069) for {'min_child_weight': 7, 'reg_alpha': 0.05, 'subsample': 0.75}\n",
      "0.947 (+/-0.069) for {'min_child_weight': 7, 'reg_alpha': 0.05, 'subsample': 0.8}\n",
      "0.948 (+/-0.065) for {'min_child_weight': 7, 'reg_alpha': 0.1, 'subsample': 0.6}\n",
      "0.948 (+/-0.065) for {'min_child_weight': 7, 'reg_alpha': 0.1, 'subsample': 0.65}\n",
      "0.947 (+/-0.061) for {'min_child_weight': 7, 'reg_alpha': 0.1, 'subsample': 0.7}\n",
      "0.951 (+/-0.069) for {'min_child_weight': 7, 'reg_alpha': 0.1, 'subsample': 0.75}\n",
      "0.947 (+/-0.069) for {'min_child_weight': 7, 'reg_alpha': 0.1, 'subsample': 0.8}\n",
      "0.950 (+/-0.068) for {'min_child_weight': 7, 'reg_alpha': 0.15, 'subsample': 0.6}\n",
      "0.948 (+/-0.065) for {'min_child_weight': 7, 'reg_alpha': 0.15, 'subsample': 0.65}\n",
      "0.947 (+/-0.061) for {'min_child_weight': 7, 'reg_alpha': 0.15, 'subsample': 0.7}\n",
      "0.951 (+/-0.069) for {'min_child_weight': 7, 'reg_alpha': 0.15, 'subsample': 0.75}\n",
      "0.947 (+/-0.069) for {'min_child_weight': 7, 'reg_alpha': 0.15, 'subsample': 0.8}\n",
      "0.947 (+/-0.070) for {'min_child_weight': 8, 'reg_alpha': 0.05, 'subsample': 0.6}\n",
      "0.945 (+/-0.067) for {'min_child_weight': 8, 'reg_alpha': 0.05, 'subsample': 0.65}\n",
      "0.950 (+/-0.068) for {'min_child_weight': 8, 'reg_alpha': 0.05, 'subsample': 0.7}\n",
      "0.945 (+/-0.064) for {'min_child_weight': 8, 'reg_alpha': 0.05, 'subsample': 0.75}\n",
      "0.945 (+/-0.066) for {'min_child_weight': 8, 'reg_alpha': 0.05, 'subsample': 0.8}\n",
      "0.947 (+/-0.070) for {'min_child_weight': 8, 'reg_alpha': 0.1, 'subsample': 0.6}\n",
      "0.945 (+/-0.067) for {'min_child_weight': 8, 'reg_alpha': 0.1, 'subsample': 0.65}\n",
      "0.950 (+/-0.068) for {'min_child_weight': 8, 'reg_alpha': 0.1, 'subsample': 0.7}\n",
      "0.945 (+/-0.064) for {'min_child_weight': 8, 'reg_alpha': 0.1, 'subsample': 0.75}\n",
      "0.945 (+/-0.066) for {'min_child_weight': 8, 'reg_alpha': 0.1, 'subsample': 0.8}\n",
      "0.947 (+/-0.070) for {'min_child_weight': 8, 'reg_alpha': 0.15, 'subsample': 0.6}\n",
      "0.945 (+/-0.067) for {'min_child_weight': 8, 'reg_alpha': 0.15, 'subsample': 0.65}\n",
      "0.950 (+/-0.068) for {'min_child_weight': 8, 'reg_alpha': 0.15, 'subsample': 0.7}\n",
      "0.945 (+/-0.064) for {'min_child_weight': 8, 'reg_alpha': 0.15, 'subsample': 0.75}\n",
      "0.945 (+/-0.066) for {'min_child_weight': 8, 'reg_alpha': 0.15, 'subsample': 0.8}\n",
      "0.947 (+/-0.070) for {'min_child_weight': 9, 'reg_alpha': 0.05, 'subsample': 0.6}\n",
      "0.947 (+/-0.070) for {'min_child_weight': 9, 'reg_alpha': 0.05, 'subsample': 0.65}\n",
      "0.944 (+/-0.077) for {'min_child_weight': 9, 'reg_alpha': 0.05, 'subsample': 0.7}\n",
      "0.941 (+/-0.075) for {'min_child_weight': 9, 'reg_alpha': 0.05, 'subsample': 0.75}\n",
      "0.936 (+/-0.078) for {'min_child_weight': 9, 'reg_alpha': 0.05, 'subsample': 0.8}\n",
      "0.944 (+/-0.066) for {'min_child_weight': 9, 'reg_alpha': 0.1, 'subsample': 0.6}\n",
      "0.947 (+/-0.070) for {'min_child_weight': 9, 'reg_alpha': 0.1, 'subsample': 0.65}\n",
      "0.941 (+/-0.073) for {'min_child_weight': 9, 'reg_alpha': 0.1, 'subsample': 0.7}\n",
      "0.938 (+/-0.070) for {'min_child_weight': 9, 'reg_alpha': 0.1, 'subsample': 0.75}\n",
      "0.936 (+/-0.078) for {'min_child_weight': 9, 'reg_alpha': 0.1, 'subsample': 0.8}\n",
      "0.944 (+/-0.066) for {'min_child_weight': 9, 'reg_alpha': 0.15, 'subsample': 0.6}\n",
      "0.944 (+/-0.066) for {'min_child_weight': 9, 'reg_alpha': 0.15, 'subsample': 0.65}\n",
      "0.941 (+/-0.073) for {'min_child_weight': 9, 'reg_alpha': 0.15, 'subsample': 0.7}\n",
      "0.938 (+/-0.070) for {'min_child_weight': 9, 'reg_alpha': 0.15, 'subsample': 0.75}\n",
      "0.933 (+/-0.080) for {'min_child_weight': 9, 'reg_alpha': 0.15, 'subsample': 0.8}\n",
      "\n",
      "Detailed classification report:\n",
      "\n",
      "The model is trained on the full development set.\n",
      "The scores are computed on the full evaluation set.\n",
      "\n",
      "             precision    recall  f1-score   support\n",
      "\n",
      "          2       0.97      0.97      0.97       154\n",
      "          4       0.95      0.94      0.94        77\n",
      "\n",
      "avg / total       0.96      0.96      0.96       231\n",
      "\n",
      "\n"
     ]
    }
   ],
   "source": [
    "print(__doc__)\n",
    "\n",
    "# Loading the Digits dataset\n",
    "#digits = datasets.load_digits()\n",
    "\n",
    "# To apply an classifier on this data, we need to flatten the image, to\n",
    "# turn the data in a (samples, feature) matrix:\n",
    "n_samples = len(df)\n",
    "\n",
    "\n",
    "# Set the parameters by cross-validation\n",
    "\n",
    "params_fixed = {\n",
    "    'objective': 'binary:logistic',\n",
    "    'colsample_bytree': 0.6,\n",
    "    'learning_rate': 0.0005,\n",
    "    'max_depth': 3,\n",
    "    'n_estimators': 100,\n",
    "    'silent': 1\n",
    "}\n",
    "scores = ['recall']\n",
    "\n",
    "for score in scores:\n",
    "    print(\"# Tuning hyper-parameters for %s\" % score)\n",
    "    print()\n",
    "\n",
    "    clf4 = GridSearchCV(estimator=XGBClassifier(**params_fixed, seed=random_state),\n",
    "    param_grid=tuned_parameters4, cv=cv, scoring='%s_macro' % score)\n",
    "    clf4.fit(X_train, y_train)\n",
    "\n",
    "    print(\"Best parameters set found on development set:\")\n",
    "    print()\n",
    "    print(clf4.best_params_)\n",
    "    print()\n",
    "    print(\"Grid scores on development set:\")\n",
    "    print()\n",
    "    means = clf4.cv_results_['mean_test_score']\n",
    "    stds = clf4.cv_results_['std_test_score']\n",
    "    for mean, std, params in zip(means, stds, clf4.cv_results_['params']):\n",
    "        print(\"%0.3f (+/-%0.03f) for %r\"\n",
    "              % (mean, std * 2, params))\n",
    "    print()\n",
    "\n",
    "    print(\"Detailed classification report:\")\n",
    "    print()\n",
    "    print(\"The model is trained on the full development set.\")\n",
    "    print(\"The scores are computed on the full evaluation set.\")\n",
    "    print()\n",
    "    y_true, y_pred4 = y_test, clf4.predict(X_test)\n",
    "    print(classification_report(y_true, y_pred4))\n",
    "    print()"
   ]
  },
  {
   "cell_type": "code",
   "execution_count": 65,
   "metadata": {
    "collapsed": false
   },
   "outputs": [
    {
     "data": {
      "text/plain": [
       "0.95143595555123073"
      ]
     },
     "execution_count": 65,
     "metadata": {},
     "output_type": "execute_result"
    }
   ],
   "source": [
    "clf4.best_score_"
   ]
  },
  {
   "cell_type": "code",
   "execution_count": 66,
   "metadata": {
    "collapsed": false
   },
   "outputs": [
    {
     "data": {
      "text/plain": [
       "XGBClassifier(base_score=0.5, colsample_bylevel=1, colsample_bytree=0.6,\n",
       "       gamma=0, learning_rate=0.0005, max_delta_step=0, max_depth=3,\n",
       "       min_child_weight=7, missing=None, n_estimators=100, nthread=-1,\n",
       "       objective='binary:logistic', reg_alpha=0.05, reg_lambda=1,\n",
       "       scale_pos_weight=1, seed=42, silent=1, subsample=0.75)"
      ]
     },
     "execution_count": 66,
     "metadata": {},
     "output_type": "execute_result"
    }
   ],
   "source": [
    "clf4.best_estimator_"
   ]
  },
  {
   "cell_type": "code",
   "execution_count": 67,
   "metadata": {
    "collapsed": false
   },
   "outputs": [
    {
     "data": {
      "text/plain": [
       "XGBClassifier(base_score=0.5, colsample_bylevel=1, colsample_bytree=0.6,\n",
       "       gamma=0, learning_rate=0.0005, max_delta_step=0, max_depth=3,\n",
       "       min_child_weight=7, missing=None, n_estimators=100, nthread=-1,\n",
       "       objective='binary:logistic', reg_alpha=0.05, reg_lambda=1,\n",
       "       scale_pos_weight=1, seed=42, silent=1, subsample=0.75)"
      ]
     },
     "execution_count": 67,
     "metadata": {},
     "output_type": "execute_result"
    }
   ],
   "source": [
    "xgb4=XGBClassifier(base_score=0.5, colsample_bylevel=1, colsample_bytree=0.6,\n",
    "       gamma=0, learning_rate=0.0005, max_delta_step=0, max_depth=3,\n",
    "       min_child_weight=7, missing=None, n_estimators=100, nthread=-1,\n",
    "       objective='binary:logistic', reg_alpha=0.05, reg_lambda=1,\n",
    "       scale_pos_weight=1, seed=42, silent=1, subsample=0.75)\n",
    "xgb4.fit(X_train,y_train)"
   ]
  },
  {
   "cell_type": "code",
   "execution_count": 68,
   "metadata": {
    "collapsed": false
   },
   "outputs": [
    {
     "name": "stdout",
     "output_type": "stream",
     "text": [
      "Akurasi: 0.9610\n",
      "Precision: 0.9474\n",
      "Recall: 0.9351\n",
      "F1: 0.9412\n"
     ]
    }
   ],
   "source": [
    "y_pred4 = xgb4.predict(X_test)\n",
    "accuracy = accuracy_score(y_test, y_pred4)\n",
    "precision, recall, f1, _ = precision_recall_fscore_support(y_test, y_pred4)\n",
    "print (('Akurasi: %.4f') % (accuracy))\n",
    "print (('Precision: %.4f') % (precision[1]))\n",
    "print (('Recall: %.4f') % (recall[1]))\n",
    "print (('F1: %.4f') % (f1[1]))"
   ]
  },
  {
   "cell_type": "code",
   "execution_count": 69,
   "metadata": {
    "collapsed": true
   },
   "outputs": [],
   "source": [
    "tuned_parameters5 = [{'gamma':[i/10.0 for i in range(0,5)],},]"
   ]
  },
  {
   "cell_type": "code",
   "execution_count": 70,
   "metadata": {
    "collapsed": false
   },
   "outputs": [
    {
     "name": "stdout",
     "output_type": "stream",
     "text": [
      "Automatically created module for IPython interactive environment\n",
      "# Tuning hyper-parameters for recall\n",
      "\n",
      "Best parameters set found on development set:\n",
      "\n",
      "{'gamma': 0.0}\n",
      "\n",
      "Grid scores on development set:\n",
      "\n",
      "0.951 (+/-0.069) for {'gamma': 0.0}\n",
      "0.951 (+/-0.069) for {'gamma': 0.1}\n",
      "0.951 (+/-0.069) for {'gamma': 0.2}\n",
      "0.951 (+/-0.069) for {'gamma': 0.3}\n",
      "0.951 (+/-0.069) for {'gamma': 0.4}\n",
      "\n",
      "Detailed classification report:\n",
      "\n",
      "The model is trained on the full development set.\n",
      "The scores are computed on the full evaluation set.\n",
      "\n",
      "             precision    recall  f1-score   support\n",
      "\n",
      "          2       0.97      0.97      0.97       154\n",
      "          4       0.95      0.94      0.94        77\n",
      "\n",
      "avg / total       0.96      0.96      0.96       231\n",
      "\n",
      "\n"
     ]
    }
   ],
   "source": [
    "print(__doc__)\n",
    "\n",
    "# Loading the Digits dataset\n",
    "#digits = datasets.load_digits()\n",
    "\n",
    "# To apply an classifier on this data, we need to flatten the image, to\n",
    "# turn the data in a (samples, feature) matrix:\n",
    "n_samples = len(df)\n",
    "\n",
    "\n",
    "# Set the parameters by cross-validation\n",
    "\n",
    "params_fixed = {\n",
    "    'objective': 'binary:logistic',\n",
    "    'colsample_bytree': 0.6,\n",
    "    'learning_rate': 0.0005,\n",
    "    'max_depth': 3,\n",
    "    'n_estimators': 100,\n",
    "    'min_child_weight': 7, \n",
    "    'reg_alpha': 0.05, \n",
    "    'subsample': 0.75,\n",
    "    'silent': 1\n",
    "}\n",
    "scores = ['recall']\n",
    "\n",
    "for score in scores:\n",
    "    print(\"# Tuning hyper-parameters for %s\" % score)\n",
    "    print()\n",
    "\n",
    "    clf5 = GridSearchCV(estimator=XGBClassifier(**params_fixed, seed=random_state),\n",
    "    param_grid=tuned_parameters5, cv=cv, scoring='%s_macro' % score)\n",
    "    clf5.fit(X_train, y_train)\n",
    "\n",
    "    print(\"Best parameters set found on development set:\")\n",
    "    print()\n",
    "    print(clf5.best_params_)\n",
    "    print()\n",
    "    print(\"Grid scores on development set:\")\n",
    "    print()\n",
    "    means = clf5.cv_results_['mean_test_score']\n",
    "    stds = clf5.cv_results_['std_test_score']\n",
    "    for mean, std, params in zip(means, stds, clf5.cv_results_['params']):\n",
    "        print(\"%0.3f (+/-%0.03f) for %r\"\n",
    "              % (mean, std * 2, params))\n",
    "    print()\n",
    "\n",
    "    print(\"Detailed classification report:\")\n",
    "    print()\n",
    "    print(\"The model is trained on the full development set.\")\n",
    "    print(\"The scores are computed on the full evaluation set.\")\n",
    "    print()\n",
    "    y_true, y_pred5 = y_test, clf5.predict(X_test)\n",
    "    print(classification_report(y_true, y_pred5))\n",
    "    print()"
   ]
  },
  {
   "cell_type": "code",
   "execution_count": 71,
   "metadata": {
    "collapsed": false
   },
   "outputs": [
    {
     "data": {
      "text/plain": [
       "XGBClassifier(base_score=0.5, colsample_bylevel=1, colsample_bytree=0.6,\n",
       "       gamma=0, learning_rate=0.0005, max_delta_step=0, max_depth=3,\n",
       "       min_child_weight=7, missing=None, n_estimators=100, nthread=-1,\n",
       "       objective='binary:logistic', reg_alpha=0.05, reg_lambda=1,\n",
       "       scale_pos_weight=1, seed=42, silent=1, subsample=0.75)"
      ]
     },
     "execution_count": 71,
     "metadata": {},
     "output_type": "execute_result"
    }
   ],
   "source": [
    "xgb_gab=XGBClassifier(base_score=0.5, colsample_bylevel=1, colsample_bytree=0.6,\n",
    "       gamma=0, learning_rate=0.0005, max_delta_step=0, max_depth=3,\n",
    "       min_child_weight=7, missing=None, n_estimators=100, nthread=-1,\n",
    "       objective='binary:logistic', reg_alpha=0.05, reg_lambda=1,\n",
    "       scale_pos_weight=1, seed=42, silent=1, subsample=0.75)\n",
    "xgb_gab.fit(X_train,y_train)"
   ]
  },
  {
   "cell_type": "code",
   "execution_count": 72,
   "metadata": {
    "collapsed": false
   },
   "outputs": [
    {
     "name": "stdout",
     "output_type": "stream",
     "text": [
      "Akurasi: 0.9610\n",
      "Precision: 0.9474\n",
      "Recall: 0.9351\n",
      "F1: 0.9412\n"
     ]
    }
   ],
   "source": [
    "y_pred_gab = xgb_gab.predict(X_test)\n",
    "accuracy = accuracy_score(y_test, y_pred_gab)\n",
    "precision, recall, f1, _ = precision_recall_fscore_support(y_test, y_pred_gab)\n",
    "print (('Akurasi: %.4f') % (accuracy))\n",
    "print (('Precision: %.4f') % (precision[1]))\n",
    "print (('Recall: %.4f') % (recall[1]))\n",
    "print (('F1: %.4f') % (f1[1]))"
   ]
  }
 ],
 "metadata": {
  "anaconda-cloud": {},
  "kernelspec": {
   "display_name": "Python 3",
   "language": "python",
   "name": "python3"
  },
  "language_info": {
   "codemirror_mode": {
    "name": "ipython",
    "version": 3
   },
   "file_extension": ".py",
   "mimetype": "text/x-python",
   "name": "python",
   "nbconvert_exporter": "python",
   "pygments_lexer": "ipython3",
   "version": "3.6.0"
  }
 },
 "nbformat": 4,
 "nbformat_minor": 1
}
