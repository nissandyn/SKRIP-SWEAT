{
 "cells": [
  {
   "cell_type": "code",
   "execution_count": 1,
   "metadata": {
    "collapsed": true
   },
   "outputs": [],
   "source": [
    "import pandas as pd\n",
    "import numpy as np\n",
    "import matplotlib.pyplot as plt\n",
    "from scipy import stats\n",
    "import pylab as pl\n",
    "from sklearn.model_selection import train_test_split\n",
    "from sklearn.svm import SVC\n",
    "from sklearn.metrics import accuracy_score, precision_recall_fscore_support\n",
    "from sklearn import metrics\n",
    "from sklearn.model_selection import GridSearchCV\n",
    "from __future__ import print_function\n",
    "from sklearn.metrics import classification_report\n",
    "from sklearn.metrics import confusion_matrix\n",
    "from sklearn.metrics import make_scorer\n",
    "from sklearn.model_selection import cross_val_score\n",
    "from sklearn.metrics import roc_curve, roc_auc_score"
   ]
  },
  {
   "cell_type": "code",
   "execution_count": 2,
   "metadata": {
    "collapsed": true
   },
   "outputs": [],
   "source": [
    "dfA = pd.read_csv(\"wbc.csv\")\n",
    "dfA=dfA.replace('?',np.nan)\n",
    "dfA['bare_nuclei'] = pd.to_numeric(dfA.bare_nuclei.fillna(dfA.bare_nuclei.median()))"
   ]
  },
  {
   "cell_type": "code",
   "execution_count": 3,
   "metadata": {
    "collapsed": true
   },
   "outputs": [],
   "source": [
    "X = dfA.drop([dfA.columns[-1]], axis=1)\n",
    "y = dfA.jenis.map({2: 0, 4: 1})"
   ]
  },
  {
   "cell_type": "code",
   "execution_count": 4,
   "metadata": {
    "collapsed": true
   },
   "outputs": [],
   "source": [
    "RAND_SEED_SPLIT = RAND_SEED_TUNING = 84"
   ]
  },
  {
   "cell_type": "code",
   "execution_count": 5,
   "metadata": {
    "collapsed": true
   },
   "outputs": [],
   "source": [
    "X_train, X_test, y_train, y_test = train_test_split(X, y,test_size=0.33, random_state=RAND_SEED_SPLIT)"
   ]
  },
  {
   "cell_type": "code",
   "execution_count": 6,
   "metadata": {
    "collapsed": false
   },
   "outputs": [],
   "source": [
    "svc=SVC()"
   ]
  },
  {
   "cell_type": "code",
   "execution_count": 7,
   "metadata": {
    "collapsed": true
   },
   "outputs": [],
   "source": [
    "C_range= [2**i for i in [-5, -3, -1, 1, 3, 5, 7, 9, 11, 13, 15]]\n",
    "gamma_range= [2**i for i in [-15, -13, -11, -9, -7, -5, -3, -1, 1, 3]]"
   ]
  },
  {
   "cell_type": "code",
   "execution_count": 8,
   "metadata": {
    "collapsed": true
   },
   "outputs": [],
   "source": [
    "def cost_breast_cancer(y_true, y_pred):\n",
    "    CM = confusion_matrix(y_true, y_pred)\n",
    "    FN = CM[1][0]\n",
    "    FP = CM[0][1]\n",
    "    costBC=((-1*((228.35*FP)+(2850000*FN))))\n",
    "    return costBC"
   ]
  },
  {
   "cell_type": "code",
   "execution_count": 9,
   "metadata": {
    "collapsed": true
   },
   "outputs": [],
   "source": [
    "def specificity(y_true, y_pred):\n",
    "    CM = confusion_matrix(y_true, y_pred)\n",
    "    TN = CM[0][0]\n",
    "    FN = CM[1][0]\n",
    "    TP = CM[1][1]\n",
    "    FP = CM[0][1]\n",
    "    nilai=(TN/(FP+TN))\n",
    "    return nilai"
   ]
  },
  {
   "cell_type": "code",
   "execution_count": 10,
   "metadata": {
    "collapsed": true
   },
   "outputs": [],
   "source": [
    "def output_score(y_true, y_pred):\n",
    "    CM = confusion_matrix(y_true, y_pred)\n",
    "    TN = CM[0][0]\n",
    "    FN = CM[1][0]\n",
    "    TP = CM[1][1]\n",
    "    FP = CM[0][1]\n",
    "    specificity=(TN/(FP+TN))\n",
    "    sensitivity=(TP/(TP+FN))\n",
    "    accuracy=((TP+TN)/(TP+FP+TN+FN))\n",
    "    costBC=((-1*((228.35*FP)+(2850000*FN))))\n",
    "    return (specificity, sensitivity, accuracy, costBC)"
   ]
  },
  {
   "cell_type": "code",
   "execution_count": 11,
   "metadata": {
    "collapsed": false
   },
   "outputs": [],
   "source": [
    "my_custom_scorer=make_scorer(cost_breast_cancer, greater_is_better=True)\n",
    "score_specificity=make_scorer(specificity, greater_is_better=True)\n",
    "output_scoring=make_scorer(output_score, greater_is_better=True)"
   ]
  },
  {
   "cell_type": "code",
   "execution_count": 11,
   "metadata": {
    "collapsed": false
   },
   "outputs": [
    {
     "name": "stdout",
     "output_type": "stream",
     "text": [
      "Automatically created module for IPython interactive environment\n",
      "# Tuning hyper-parameters for make_scorer(cost_breast_cancer)\n",
      "\n",
      "Best parameters set found on development set:\n",
      "\n",
      "{'gamma': 0.125, 'kernel': 'rbf', 'C': 0.5}\n",
      "\n",
      "Grid scores on development set:\n",
      "\n",
      "-47329487.179 (+/-2784178.556) for {'gamma': 3.0517578125e-05, 'kernel': 'rbf', 'C': 0.03125}\n",
      "-47329487.179 (+/-2784178.556) for {'gamma': 0.0001220703125, 'kernel': 'rbf', 'C': 0.03125}\n",
      "-44771794.872 (+/-4444027.676) for {'gamma': 0.00048828125, 'kernel': 'rbf', 'C': 0.03125}\n",
      "-5164239.672 (+/-6631463.620) for {'gamma': 0.001953125, 'kernel': 'rbf', 'C': 0.03125}\n",
      "-1717536.042 (+/-2789393.112) for {'gamma': 0.0078125, 'kernel': 'rbf', 'C': 0.03125}\n",
      "-852976.889 (+/-2610192.197) for {'gamma': 0.03125, 'kernel': 'rbf', 'C': 0.03125}\n",
      "-641.137 (+/-860.823) for {'gamma': 0.125, 'kernel': 'rbf', 'C': 0.03125}\n",
      "-47329487.179 (+/-2784178.556) for {'gamma': 0.5, 'kernel': 'rbf', 'C': 0.03125}\n",
      "-47329487.179 (+/-2784178.556) for {'gamma': 2, 'kernel': 'rbf', 'C': 0.03125}\n",
      "-47329487.179 (+/-2784178.556) for {'gamma': 8, 'kernel': 'rbf', 'C': 0.03125}\n",
      "-47329487.179 (+/-2784178.556) for {'gamma': 3.0517578125e-05, 'kernel': 'rbf', 'C': 0.125}\n",
      "-41355448.718 (+/-7731077.592) for {'gamma': 0.0001220703125, 'kernel': 'rbf', 'C': 0.125}\n",
      "-5444367.877 (+/-7378615.825) for {'gamma': 0.00048828125, 'kernel': 'rbf', 'C': 0.125}\n",
      "-2283813.886 (+/-4252853.253) for {'gamma': 0.001953125, 'kernel': 'rbf', 'C': 0.125}\n",
      "-1145123.077 (+/-2794535.107) for {'gamma': 0.0078125, 'kernel': 'rbf', 'C': 0.125}\n",
      "-852931.024 (+/-2610154.097) for {'gamma': 0.03125, 'kernel': 'rbf', 'C': 0.125}\n",
      "-732.379 (+/-811.303) for {'gamma': 0.125, 'kernel': 'rbf', 'C': 0.125}\n",
      "-1186.639 (+/-733.105) for {'gamma': 0.5, 'kernel': 'rbf', 'C': 0.125}\n",
      "-47329487.179 (+/-2784178.556) for {'gamma': 2, 'kernel': 'rbf', 'C': 0.125}\n",
      "-47329487.179 (+/-2784178.556) for {'gamma': 8, 'kernel': 'rbf', 'C': 0.125}\n",
      "-41075320.513 (+/-8118548.696) for {'gamma': 3.0517578125e-05, 'kernel': 'rbf', 'C': 0.5}\n",
      "-5444367.877 (+/-7378615.825) for {'gamma': 0.0001220703125, 'kernel': 'rbf', 'C': 0.5}\n",
      "-2576121.579 (+/-4733000.928) for {'gamma': 0.00048828125, 'kernel': 'rbf', 'C': 0.5}\n",
      "-2003708.126 (+/-3648246.553) for {'gamma': 0.001953125, 'kernel': 'rbf', 'C': 0.5}\n",
      "-1145123.077 (+/-2794535.107) for {'gamma': 0.0078125, 'kernel': 'rbf', 'C': 0.5}\n",
      "-852907.603 (+/-2610184.689) for {'gamma': 0.03125, 'kernel': 'rbf', 'C': 0.5}\n",
      "-595.271 (+/-795.426) for {'gamma': 0.125, 'kernel': 'rbf', 'C': 0.5}\n",
      "-1302.766 (+/-795.328) for {'gamma': 0.5, 'kernel': 'rbf', 'C': 0.5}\n",
      "-47329487.179 (+/-2784178.556) for {'gamma': 2, 'kernel': 'rbf', 'C': 0.5}\n",
      "-47329487.179 (+/-2784178.556) for {'gamma': 8, 'kernel': 'rbf', 'C': 0.5}\n",
      "-5444367.877 (+/-7378615.825) for {'gamma': 3.0517578125e-05, 'kernel': 'rbf', 'C': 2}\n",
      "-2576121.579 (+/-4733000.928) for {'gamma': 0.0001220703125, 'kernel': 'rbf', 'C': 2}\n",
      "-2003708.126 (+/-3648246.553) for {'gamma': 0.00048828125, 'kernel': 'rbf', 'C': 2}\n",
      "-1431295.649 (+/-3827386.808) for {'gamma': 0.001953125, 'kernel': 'rbf', 'C': 2}\n",
      "-1139033.334 (+/-3784571.430) for {'gamma': 0.0078125, 'kernel': 'rbf', 'C': 2}\n",
      "-1437499.080 (+/-3845458.834) for {'gamma': 0.03125, 'kernel': 'rbf', 'C': 2}\n",
      "-572893.085 (+/-2283874.304) for {'gamma': 0.125, 'kernel': 'rbf', 'C': 2}\n",
      "-937.796 (+/-692.059) for {'gamma': 0.5, 'kernel': 'rbf', 'C': 2}\n",
      "-1735.558 (+/-622.068) for {'gamma': 2, 'kernel': 'rbf', 'C': 2}\n",
      "-2948.057 (+/-689.987) for {'gamma': 8, 'kernel': 'rbf', 'C': 2}\n",
      "-2576121.579 (+/-4733000.928) for {'gamma': 3.0517578125e-05, 'kernel': 'rbf', 'C': 8}\n",
      "-2003708.126 (+/-3648246.553) for {'gamma': 0.0001220703125, 'kernel': 'rbf', 'C': 8}\n",
      "-1711423.854 (+/-4550640.464) for {'gamma': 0.00048828125, 'kernel': 'rbf', 'C': 8}\n",
      "-1419138.606 (+/-4586623.309) for {'gamma': 0.001953125, 'kernel': 'rbf', 'C': 8}\n",
      "-2015955.923 (+/-4462935.579) for {'gamma': 0.0078125, 'kernel': 'rbf', 'C': 8}\n",
      "-2862544.457 (+/-4409070.456) for {'gamma': 0.03125, 'kernel': 'rbf', 'C': 8}\n",
      "-572893.085 (+/-2283874.304) for {'gamma': 0.125, 'kernel': 'rbf', 'C': 8}\n",
      "-937.796 (+/-692.059) for {'gamma': 0.5, 'kernel': 'rbf', 'C': 8}\n",
      "-1735.558 (+/-622.068) for {'gamma': 2, 'kernel': 'rbf', 'C': 8}\n",
      "-2948.057 (+/-689.987) for {'gamma': 8, 'kernel': 'rbf', 'C': 8}\n",
      "-2003708.126 (+/-3648246.553) for {'gamma': 3.0517578125e-05, 'kernel': 'rbf', 'C': 32}\n",
      "-1711423.854 (+/-4550640.464) for {'gamma': 0.0001220703125, 'kernel': 'rbf', 'C': 32}\n",
      "-1419138.606 (+/-4586623.309) for {'gamma': 0.00048828125, 'kernel': 'rbf', 'C': 32}\n",
      "-1431341.026 (+/-3827455.551) for {'gamma': 0.001953125, 'kernel': 'rbf', 'C': 32}\n",
      "-2582324.521 (+/-5937756.087) for {'gamma': 0.0078125, 'kernel': 'rbf', 'C': 32}\n",
      "-3148762.406 (+/-4727417.044) for {'gamma': 0.03125, 'kernel': 'rbf', 'C': 32}\n",
      "-572893.085 (+/-2283874.304) for {'gamma': 0.125, 'kernel': 'rbf', 'C': 32}\n",
      "-937.796 (+/-692.059) for {'gamma': 0.5, 'kernel': 'rbf', 'C': 32}\n",
      "-1735.558 (+/-622.068) for {'gamma': 2, 'kernel': 'rbf', 'C': 32}\n",
      "-2948.057 (+/-689.987) for {'gamma': 8, 'kernel': 'rbf', 'C': 32}\n",
      "-1711423.854 (+/-4550640.464) for {'gamma': 3.0517578125e-05, 'kernel': 'rbf', 'C': 128}\n",
      "-1419116.162 (+/-4586539.508) for {'gamma': 0.0001220703125, 'kernel': 'rbf', 'C': 128}\n",
      "-1419138.606 (+/-4586623.309) for {'gamma': 0.00048828125, 'kernel': 'rbf', 'C': 128}\n",
      "-2576212.333 (+/-5930966.737) for {'gamma': 0.001953125, 'kernel': 'rbf', 'C': 128}\n",
      "-4007393.319 (+/-5790027.281) for {'gamma': 0.0078125, 'kernel': 'rbf', 'C': 128}\n",
      "-3148762.406 (+/-4727417.044) for {'gamma': 0.03125, 'kernel': 'rbf', 'C': 128}\n",
      "-572893.085 (+/-2283874.304) for {'gamma': 0.125, 'kernel': 'rbf', 'C': 128}\n",
      "-937.796 (+/-692.059) for {'gamma': 0.5, 'kernel': 'rbf', 'C': 128}\n",
      "-1735.558 (+/-622.068) for {'gamma': 2, 'kernel': 'rbf', 'C': 128}\n",
      "-2948.057 (+/-689.987) for {'gamma': 8, 'kernel': 'rbf', 'C': 128}\n",
      "-1711423.854 (+/-4550640.464) for {'gamma': 3.0517578125e-05, 'kernel': 'rbf', 'C': 512}\n",
      "-1419138.606 (+/-4586623.309) for {'gamma': 0.0001220703125, 'kernel': 'rbf', 'C': 512}\n",
      "-1711469.231 (+/-4550743.335) for {'gamma': 0.00048828125, 'kernel': 'rbf', 'C': 512}\n",
      "-3715063.670 (+/-5115312.477) for {'gamma': 0.001953125, 'kernel': 'rbf', 'C': 512}\n",
      "-4853867.678 (+/-5121088.269) for {'gamma': 0.0078125, 'kernel': 'rbf', 'C': 512}\n",
      "-3148762.406 (+/-4727417.044) for {'gamma': 0.03125, 'kernel': 'rbf', 'C': 512}\n",
      "-572893.085 (+/-2283874.304) for {'gamma': 0.125, 'kernel': 'rbf', 'C': 512}\n",
      "-937.796 (+/-692.059) for {'gamma': 0.5, 'kernel': 'rbf', 'C': 512}\n",
      "-1735.558 (+/-622.068) for {'gamma': 2, 'kernel': 'rbf', 'C': 512}\n",
      "-2948.057 (+/-689.987) for {'gamma': 8, 'kernel': 'rbf', 'C': 512}\n",
      "-1711446.299 (+/-4550719.160) for {'gamma': 3.0517578125e-05, 'kernel': 'rbf', 'C': 2048}\n",
      "-1419138.606 (+/-4586623.309) for {'gamma': 0.0001220703125, 'kernel': 'rbf', 'C': 2048}\n",
      "-2862430.282 (+/-6224065.762) for {'gamma': 0.00048828125, 'kernel': 'rbf', 'C': 2048}\n",
      "-4555447.798 (+/-4551929.341) for {'gamma': 0.001953125, 'kernel': 'rbf', 'C': 2048}\n",
      "-4853867.678 (+/-5121088.269) for {'gamma': 0.0078125, 'kernel': 'rbf', 'C': 2048}\n",
      "-3148762.406 (+/-4727417.044) for {'gamma': 0.03125, 'kernel': 'rbf', 'C': 2048}\n",
      "-572893.085 (+/-2283874.304) for {'gamma': 0.125, 'kernel': 'rbf', 'C': 2048}\n",
      "-937.796 (+/-692.059) for {'gamma': 0.5, 'kernel': 'rbf', 'C': 2048}\n",
      "-1735.558 (+/-622.068) for {'gamma': 2, 'kernel': 'rbf', 'C': 2048}\n",
      "-2948.057 (+/-689.987) for {'gamma': 8, 'kernel': 'rbf', 'C': 2048}\n",
      "-1711468.743 (+/-4550797.858) for {'gamma': 3.0517578125e-05, 'kernel': 'rbf', 'C': 8192}\n",
      "-1711469.231 (+/-4550743.335) for {'gamma': 0.0001220703125, 'kernel': 'rbf', 'C': 8192}\n",
      "-4281386.403 (+/-5236620.838) for {'gamma': 0.00048828125, 'kernel': 'rbf', 'C': 8192}\n",
      "-5688163.038 (+/-6224027.522) for {'gamma': 0.001953125, 'kernel': 'rbf', 'C': 8192}\n",
      "-4853867.678 (+/-5121088.269) for {'gamma': 0.0078125, 'kernel': 'rbf', 'C': 8192}\n",
      "-3148762.406 (+/-4727417.044) for {'gamma': 0.03125, 'kernel': 'rbf', 'C': 8192}\n",
      "-572893.085 (+/-2283874.304) for {'gamma': 0.125, 'kernel': 'rbf', 'C': 8192}\n",
      "-937.796 (+/-692.059) for {'gamma': 0.5, 'kernel': 'rbf', 'C': 8192}\n",
      "-1735.558 (+/-622.068) for {'gamma': 2, 'kernel': 'rbf', 'C': 8192}\n",
      "-2948.057 (+/-689.987) for {'gamma': 8, 'kernel': 'rbf', 'C': 8192}\n",
      "-1711446.299 (+/-4550777.830) for {'gamma': 3.0517578125e-05, 'kernel': 'rbf', 'C': 32768}\n",
      "-2862430.282 (+/-6224065.762) for {'gamma': 0.0001220703125, 'kernel': 'rbf', 'C': 32768}\n",
      "-5682073.294 (+/-7613535.826) for {'gamma': 0.00048828125, 'kernel': 'rbf', 'C': 32768}\n",
      "-5408012.388 (+/-5368065.955) for {'gamma': 0.001953125, 'kernel': 'rbf', 'C': 32768}\n",
      "-4853867.678 (+/-5121088.269) for {'gamma': 0.0078125, 'kernel': 'rbf', 'C': 32768}\n",
      "-3148762.406 (+/-4727417.044) for {'gamma': 0.03125, 'kernel': 'rbf', 'C': 32768}\n",
      "-572893.085 (+/-2283874.304) for {'gamma': 0.125, 'kernel': 'rbf', 'C': 32768}\n",
      "-937.796 (+/-692.059) for {'gamma': 0.5, 'kernel': 'rbf', 'C': 32768}\n",
      "-1735.558 (+/-622.068) for {'gamma': 2, 'kernel': 'rbf', 'C': 32768}\n",
      "-2948.057 (+/-689.987) for {'gamma': 8, 'kernel': 'rbf', 'C': 32768}\n",
      "\n"
     ]
    }
   ],
   "source": [
    "print(__doc__)\n",
    "\n",
    "tuned_parameters = [{'kernel': ['rbf'], 'gamma': gamma_range,\n",
    "                     'C': C_range},]\n",
    "\n",
    "scores = [my_custom_scorer]\n",
    "\n",
    "for score in scores:\n",
    "    print(\"# Tuning hyper-parameters for %s\" % score)\n",
    "    print()\n",
    "\n",
    "    clf2 = GridSearchCV(svc, tuned_parameters, cv=10,\n",
    "                       scoring=my_custom_scorer)\n",
    "    clf2.fit(X_train, y_train)\n",
    "\n",
    "    print(\"Best parameters set found on development set:\")\n",
    "    print()\n",
    "    print(clf2.best_params_)\n",
    "    print()\n",
    "    print(\"Grid scores on development set:\")\n",
    "    print()\n",
    "    means = clf2.cv_results_['mean_test_score']\n",
    "    stds = clf2.cv_results_['std_test_score']\n",
    "    for mean, std, params in zip(means, stds, clf2.cv_results_['params']):\n",
    "        print(\"%0.3f (+/-%0.03f) for %r\"\n",
    "              % (mean, std * 2, params))\n",
    "    print()\n"
   ]
  },
  {
   "cell_type": "code",
   "execution_count": 12,
   "metadata": {
    "collapsed": false
   },
   "outputs": [
    {
     "name": "stdout",
     "output_type": "stream",
     "text": [
      "Best score cost obtained: -595.2713675213676\n",
      "Parameters:\n",
      "\tgamma: 0.125\n",
      "\tkernel: rbf\n",
      "\tC: 0.5\n"
     ]
    }
   ],
   "source": [
    "print(\"Best score cost obtained: {0}\".format(clf2.best_score_))\n",
    "print(\"Parameters:\")\n",
    "for key, value in clf2.best_params_.items():\n",
    "    print(\"\\t{}: {}\".format(key, value))"
   ]
  },
  {
   "cell_type": "code",
   "execution_count": 13,
   "metadata": {
    "collapsed": false
   },
   "outputs": [
    {
     "data": {
      "text/plain": [
       "SVC(C=0.5, cache_size=200, class_weight=None, coef0=0.0,\n",
       "  decision_function_shape=None, degree=3, gamma=0.125, kernel='rbf',\n",
       "  max_iter=-1, probability=False, random_state=None, shrinking=True,\n",
       "  tol=0.001, verbose=False)"
      ]
     },
     "execution_count": 13,
     "metadata": {},
     "output_type": "execute_result"
    }
   ],
   "source": [
    "clf2.best_estimator_"
   ]
  },
  {
   "cell_type": "code",
   "execution_count": 12,
   "metadata": {
    "collapsed": true
   },
   "outputs": [],
   "source": [
    "bestSVC=SVC(C=0.5, cache_size=200, class_weight=None, coef0=0.0,\n",
    "  decision_function_shape=None, degree=3, gamma=0.125, kernel='rbf',\n",
    "  max_iter=-1, probability=True, random_state=None, shrinking=True,\n",
    "  tol=0.001, verbose=False)"
   ]
  },
  {
   "cell_type": "code",
   "execution_count": 13,
   "metadata": {
    "collapsed": false
   },
   "outputs": [
    {
     "data": {
      "text/plain": [
       "SVC(C=0.5, cache_size=200, class_weight=None, coef0=0.0,\n",
       "  decision_function_shape=None, degree=3, gamma=0.125, kernel='rbf',\n",
       "  max_iter=-1, probability=True, random_state=None, shrinking=True,\n",
       "  tol=0.001, verbose=False)"
      ]
     },
     "execution_count": 13,
     "metadata": {},
     "output_type": "execute_result"
    }
   ],
   "source": [
    "bestSVC.fit(X_train, y_train)"
   ]
  },
  {
   "cell_type": "code",
   "execution_count": 16,
   "metadata": {
    "collapsed": true
   },
   "outputs": [],
   "source": [
    "scores1=cross_val_score(bestSVC,X_train,y_train,cv=10,scoring=score_specificity)"
   ]
  },
  {
   "cell_type": "code",
   "execution_count": 17,
   "metadata": {
    "collapsed": false
   },
   "outputs": [
    {
     "name": "stdout",
     "output_type": "stream",
     "text": [
      "Score cost: 0.9139 (+/- 0.1163)\n"
     ]
    }
   ],
   "source": [
    "print(\"Score cost: %0.4f (+/- %0.4f)\" % (scores1.mean(), scores1.std() * 2))"
   ]
  },
  {
   "cell_type": "code",
   "execution_count": 18,
   "metadata": {
    "collapsed": true
   },
   "outputs": [],
   "source": [
    "scores2=cross_val_score(bestSVC,X_train,y_train,cv=10,scoring=my_custom_scorer)"
   ]
  },
  {
   "cell_type": "code",
   "execution_count": 19,
   "metadata": {
    "collapsed": false
   },
   "outputs": [
    {
     "name": "stdout",
     "output_type": "stream",
     "text": [
      "Score cost: -593.7100 (+/- 796.2837)\n"
     ]
    }
   ],
   "source": [
    "print(\"Score cost: %0.4f (+/- %0.4f)\" % (scores2.mean(), scores2.std() * 2))"
   ]
  },
  {
   "cell_type": "code",
   "execution_count": 20,
   "metadata": {
    "collapsed": true
   },
   "outputs": [],
   "source": [
    "scores3=cross_val_score(bestSVC,X_train,y_train,cv=10,scoring='recall')"
   ]
  },
  {
   "cell_type": "code",
   "execution_count": 21,
   "metadata": {
    "collapsed": false
   },
   "outputs": [
    {
     "name": "stdout",
     "output_type": "stream",
     "text": [
      "Score cost: 1.0000 (+/- 0.0000)\n"
     ]
    }
   ],
   "source": [
    "print(\"Score cost: %0.4f (+/- %0.4f)\" % (scores3.mean(), scores3.std() * 2))"
   ]
  },
  {
   "cell_type": "code",
   "execution_count": 22,
   "metadata": {
    "collapsed": true
   },
   "outputs": [],
   "source": [
    "scores4=cross_val_score(bestSVC,X_train,y_train,cv=10,scoring='accuracy')"
   ]
  },
  {
   "cell_type": "code",
   "execution_count": 23,
   "metadata": {
    "collapsed": false
   },
   "outputs": [
    {
     "name": "stdout",
     "output_type": "stream",
     "text": [
      "Score cost: 0.9446 (+/- 0.0743)\n"
     ]
    }
   ],
   "source": [
    "print(\"Score cost: %0.4f (+/- %0.4f)\" % (scores4.mean(), scores4.std() * 2))"
   ]
  },
  {
   "cell_type": "code",
   "execution_count": 18,
   "metadata": {
    "collapsed": false
   },
   "outputs": [
    {
     "name": "stdout",
     "output_type": "stream",
     "text": [
      "             precision    recall  f1-score   support\n",
      "\n",
      "          0       0.99      0.94      0.96       156\n",
      "          1       0.88      0.99      0.93        75\n",
      "\n",
      "avg / total       0.96      0.95      0.95       231\n",
      "\n",
      "Akurasi: 0.9524\n",
      "Sfecificity: 0.9359\n",
      "Recall: 0.9867\n"
     ]
    },
    {
     "data": {
      "text/plain": [
       "(0.9358974358974359, 0.98666666666666669, 0.95238095238095233, -2852283.5)"
      ]
     },
     "execution_count": 18,
     "metadata": {},
     "output_type": "execute_result"
    }
   ],
   "source": [
    "y_predSVM = bestSVC.predict(X_test)\n",
    "accuracy = accuracy_score(y_test, y_predSVM)\n",
    "precision, recall, f1, _ = precision_recall_fscore_support(y_test, y_predSVM)\n",
    "print(classification_report(y_test, y_predSVM))\n",
    "print (('Akurasi: %.4f') % (accuracy))\n",
    "print (('Sfecificity: %.4f') % (specificity(y_test, y_predSVM)))\n",
    "print (('Recall: %.4f') % (recall[1]))\n",
    "output_score(y_test, y_predSVM)"
   ]
  },
  {
   "cell_type": "code",
   "execution_count": 19,
   "metadata": {
    "collapsed": false
   },
   "outputs": [
    {
     "data": {
      "text/plain": [
       "array([[146,  10],\n",
       "       [  1,  74]])"
      ]
     },
     "execution_count": 19,
     "metadata": {},
     "output_type": "execute_result"
    }
   ],
   "source": [
    "confusion_matrix(y_test, y_predSVM)"
   ]
  },
  {
   "cell_type": "code",
   "execution_count": null,
   "metadata": {
    "collapsed": true
   },
   "outputs": [],
   "source": []
  },
  {
   "cell_type": "code",
   "execution_count": 14,
   "metadata": {
    "collapsed": false
   },
   "outputs": [
    {
     "name": "stderr",
     "output_type": "stream",
     "text": [
      "c:\\users\\annisa\\anaconda3\\envs\\py35\\lib\\site-packages\\sklearn\\cross_validation.py:44: DeprecationWarning: This module was deprecated in version 0.18 in favor of the model_selection module into which all the refactored classes and functions are moved. Also note that the interface of the new CV iterators are different from that of this module. This module will be removed in 0.20.\n",
      "  \"This module will be removed in 0.20.\", DeprecationWarning)\n"
     ]
    }
   ],
   "source": [
    "from xgboost import XGBClassifier"
   ]
  },
  {
   "cell_type": "code",
   "execution_count": 15,
   "metadata": {
    "collapsed": true
   },
   "outputs": [],
   "source": [
    "from sklearn.model_selection import RandomizedSearchCV"
   ]
  },
  {
   "cell_type": "code",
   "execution_count": 16,
   "metadata": {
    "collapsed": true
   },
   "outputs": [],
   "source": [
    "from sklearn.cross_validation import StratifiedKFold"
   ]
  },
  {
   "cell_type": "code",
   "execution_count": 17,
   "metadata": {
    "collapsed": true
   },
   "outputs": [],
   "source": [
    "cv = StratifiedKFold(y_train, n_folds=10, shuffle=True, random_state=RAND_SEED_SPLIT)"
   ]
  },
  {
   "cell_type": "code",
   "execution_count": 18,
   "metadata": {
    "collapsed": true
   },
   "outputs": [],
   "source": [
    "classifier = XGBClassifier()"
   ]
  },
  {
   "cell_type": "code",
   "execution_count": 21,
   "metadata": {
    "collapsed": false
   },
   "outputs": [
    {
     "name": "stdout",
     "output_type": "stream",
     "text": [
      "Automatically created module for IPython interactive environment\n",
      "# Tuning hyper-parameters for make_scorer(cost_breast_cancer)\n",
      "\n",
      "Best parameters set found on development set:\n",
      "\n",
      "{'reg_alpha': 10.0, 'reg_lambda': 0.005, 'subsample': 0.9, 'n_estimators': 50, 'colsample_bytree': 0.5}\n",
      "\n",
      "Grid scores on development set:\n",
      "\n",
      "-1997664.247 (+/-4457001.748) for {'reg_alpha': 10.0, 'reg_lambda': 0.01, 'subsample': 0.6, 'n_estimators': 30, 'colsample_bytree': 0.9}\n",
      "-2003731.058 (+/-5734915.627) for {'reg_alpha': 5.0, 'reg_lambda': 0.0, 'subsample': 0.6, 'n_estimators': 50, 'colsample_bytree': 0.6}\n",
      "-858859.264 (+/-2615273.340) for {'reg_alpha': 10.0, 'reg_lambda': 0.005, 'subsample': 0.9, 'n_estimators': 50, 'colsample_bytree': 0.5}\n",
      "-2283882.196 (+/-4269184.760) for {'reg_alpha': 0.01, 'reg_lambda': 0.01, 'subsample': 0.9, 'n_estimators': 50, 'colsample_bytree': 0.7}\n",
      "-1717513.110 (+/-3782571.063) for {'reg_alpha': 0.0, 'reg_lambda': 0.5, 'subsample': 0.7, 'n_estimators': 30, 'colsample_bytree': 0.9}\n",
      "-1431295.161 (+/-3827455.832) for {'reg_alpha': 1.0, 'reg_lambda': 5.0, 'subsample': 0.7, 'n_estimators': 30, 'colsample_bytree': 0.7}\n",
      "-1151166.956 (+/-3788024.126) for {'reg_alpha': 0.1, 'reg_lambda': 0.1, 'subsample': 0.5, 'n_estimators': 20, 'colsample_bytree': 0.7}\n",
      "-1723626.274 (+/-5229264.338) for {'reg_alpha': 0.1, 'reg_lambda': 0.005, 'subsample': 0.7, 'n_estimators': 20, 'colsample_bytree': 0.9}\n",
      "-1717490.177 (+/-5230449.874) for {'reg_alpha': 0.001, 'reg_lambda': 1.0, 'subsample': 0.7, 'n_estimators': 20, 'colsample_bytree': 0.8}\n",
      "-2564033.334 (+/-3075960.888) for {'reg_alpha': 0.5, 'reg_lambda': 0.001, 'subsample': 0.6, 'n_estimators': 10, 'colsample_bytree': 1.0}\n",
      "\n"
     ]
    }
   ],
   "source": [
    "print(__doc__)\n",
    "\n",
    "# Set the parameters by cross-validation\n",
    "tuned_parameters ={'n_estimators': [10,20,30,50],\n",
    "                    'subsample': [0.5, 0.6, 0.7, 0.8, 0.9, 1.],\n",
    "                    'colsample_bytree': [0.5, 0.6, 0.7, 0.8, 0.9, 1.],\n",
    "                    'reg_alpha': [0., 0.001, 0.005, 0.01, 0.05, 0.1, 0.5, 1., 5., 10.],\n",
    "                    'reg_lambda': [0., 0.001, 0.005, 0.01, 0.05, 0.1, 0.5, 1., 5., 10.]\n",
    "                   }    \n",
    "\n",
    "                  \n",
    "params_fixed = {\n",
    "    'objective': 'binary:logistic',\n",
    "    'silent': 1\n",
    "}\n",
    "scores = [my_custom_scorer]\n",
    "\n",
    "for score in scores:\n",
    "    print(\"# Tuning hyper-parameters for %s\" % score)\n",
    "    print()\n",
    "\n",
    "    clf = RandomizedSearchCV(estimator=XGBClassifier(**params_fixed, seed=RAND_SEED_TUNING),\n",
    "    param_distributions=tuned_parameters, cv=cv, scoring=my_custom_scorer)\n",
    "    clf.fit(X_train, y_train)\n",
    "\n",
    "    print(\"Best parameters set found on development set:\")\n",
    "    print()\n",
    "    print(clf.best_params_)\n",
    "    print()\n",
    "    print(\"Grid scores on development set:\")\n",
    "    print()\n",
    "    means = clf.cv_results_['mean_test_score']\n",
    "    stds = clf.cv_results_['std_test_score']\n",
    "    for mean, std, params in zip(means, stds, clf.cv_results_['params']):\n",
    "        print(\"%0.3f (+/-%0.03f) for %r\"\n",
    "              % (mean, std * 2, params))\n",
    "    print()"
   ]
  },
  {
   "cell_type": "code",
   "execution_count": 22,
   "metadata": {
    "collapsed": false
   },
   "outputs": [
    {
     "name": "stdout",
     "output_type": "stream",
     "text": [
      "Best score cost obtained: -858859.2635683761\n",
      "Parameters:\n",
      "\treg_alpha: 10.0\n",
      "\treg_lambda: 0.005\n",
      "\tsubsample: 0.9\n",
      "\tn_estimators: 50\n",
      "\tcolsample_bytree: 0.5\n"
     ]
    }
   ],
   "source": [
    "print(\"Best score cost obtained: {0}\".format(clf.best_score_))\n",
    "print(\"Parameters:\")\n",
    "for key, value in clf.best_params_.items():\n",
    "    print(\"\\t{}: {}\".format(key, value))"
   ]
  },
  {
   "cell_type": "code",
   "execution_count": 23,
   "metadata": {
    "collapsed": false
   },
   "outputs": [
    {
     "data": {
      "text/plain": [
       "XGBClassifier(base_score=0.5, colsample_bylevel=1, colsample_bytree=0.5,\n",
       "       gamma=0, learning_rate=0.1, max_delta_step=0, max_depth=3,\n",
       "       min_child_weight=1, missing=None, n_estimators=50, nthread=-1,\n",
       "       objective='binary:logistic', reg_alpha=10.0, reg_lambda=0.005,\n",
       "       scale_pos_weight=1, seed=84, silent=1, subsample=0.9)"
      ]
     },
     "execution_count": 23,
     "metadata": {},
     "output_type": "execute_result"
    }
   ],
   "source": [
    "clf.best_estimator_"
   ]
  },
  {
   "cell_type": "code",
   "execution_count": 19,
   "metadata": {
    "collapsed": true
   },
   "outputs": [],
   "source": [
    "bestXGB=XGBClassifier(base_score=0.5, colsample_bylevel=1, colsample_bytree=0.5,\n",
    "       gamma=0, learning_rate=0.1, max_delta_step=0, max_depth=3,\n",
    "       min_child_weight=1, missing=None, n_estimators=50, nthread=-1,\n",
    "       objective='binary:logistic', reg_alpha=10.0, reg_lambda=0.005,\n",
    "       scale_pos_weight=1, seed=84, silent=1, subsample=0.9)"
   ]
  },
  {
   "cell_type": "code",
   "execution_count": 20,
   "metadata": {
    "collapsed": false
   },
   "outputs": [
    {
     "data": {
      "text/plain": [
       "XGBClassifier(base_score=0.5, colsample_bylevel=1, colsample_bytree=0.5,\n",
       "       gamma=0, learning_rate=0.1, max_delta_step=0, max_depth=3,\n",
       "       min_child_weight=1, missing=None, n_estimators=50, nthread=-1,\n",
       "       objective='binary:logistic', reg_alpha=10.0, reg_lambda=0.005,\n",
       "       scale_pos_weight=1, seed=84, silent=1, subsample=0.9)"
      ]
     },
     "execution_count": 20,
     "metadata": {},
     "output_type": "execute_result"
    }
   ],
   "source": [
    "bestXGB.fit(X_train, y_train)"
   ]
  },
  {
   "cell_type": "code",
   "execution_count": 27,
   "metadata": {
    "collapsed": false
   },
   "outputs": [
    {
     "name": "stdout",
     "output_type": "stream",
     "text": [
      "Specificity: 0.9701 (+/- 0.0466)\n",
      "Accuracy: 0.9744 (+/- 0.0373)\n",
      "Recall: 0.9820 (+/- 0.0551)\n",
      "Score cost: -855205.5150 (+/- 2612098.0636)\n"
     ]
    }
   ],
   "source": [
    "scores1=cross_val_score(bestXGB,X_train,y_train,cv=cv,scoring=score_specificity)\n",
    "print(\"Specificity: %0.4f (+/- %0.4f)\" % (scores1.mean(), scores1.std() * 2))\n",
    "scores2=cross_val_score(bestXGB,X_train,y_train,cv=cv,scoring='accuracy')\n",
    "print(\"Accuracy: %0.4f (+/- %0.4f)\" % (scores2.mean(), scores2.std() * 2))\n",
    "scores3=cross_val_score(bestXGB,X_train,y_train,cv=cv,scoring='recall')\n",
    "print(\"Recall: %0.4f (+/- %0.4f)\" % (scores3.mean(), scores3.std() * 2))\n",
    "scores4=cross_val_score(bestXGB,X_train,y_train,cv=cv,scoring=my_custom_scorer)\n",
    "print(\"Score cost: %0.4f (+/- %0.4f)\" % (scores4.mean(), scores4.std() * 2))"
   ]
  },
  {
   "cell_type": "code",
   "execution_count": 28,
   "metadata": {
    "collapsed": false
   },
   "outputs": [
    {
     "name": "stdout",
     "output_type": "stream",
     "text": [
      "             precision    recall  f1-score   support\n",
      "\n",
      "          0       0.98      0.96      0.97       156\n",
      "          1       0.92      0.96      0.94        75\n",
      "\n",
      "avg / total       0.96      0.96      0.96       231\n",
      "\n",
      "Akurasi: 0.9610\n",
      "Specificity: 0.9615\n",
      "Recall: 0.9600\n"
     ]
    },
    {
     "data": {
      "text/plain": [
       "(0.96153846153846156,\n",
       " 0.95999999999999996,\n",
       " 0.96103896103896103,\n",
       " -8551370.0999999996)"
      ]
     },
     "execution_count": 28,
     "metadata": {},
     "output_type": "execute_result"
    }
   ],
   "source": [
    "y_predXGB = bestXGB.predict(X_test)\n",
    "accuracy = accuracy_score(y_test, y_predXGB)\n",
    "precision, recall, f1, _ = precision_recall_fscore_support(y_test, y_predXGB)\n",
    "print(classification_report(y_test, y_predXGB))\n",
    "print (('Akurasi: %.4f') % (accuracy))\n",
    "print (('Specificity: %.4f') % (specificity(y_test, y_predXGB)))\n",
    "print (('Recall: %.4f') % (recall[1]))\n",
    "output_score(y_test, y_predXGB)"
   ]
  },
  {
   "cell_type": "code",
   "execution_count": 25,
   "metadata": {
    "collapsed": false
   },
   "outputs": [
    {
     "data": {
      "text/plain": [
       "array([[150,   6],\n",
       "       [  3,  72]])"
      ]
     },
     "execution_count": 25,
     "metadata": {},
     "output_type": "execute_result"
    }
   ],
   "source": [
    "confusion_matrix(y_test, y_predXGB)"
   ]
  },
  {
   "cell_type": "code",
   "execution_count": 21,
   "metadata": {
    "collapsed": false
   },
   "outputs": [
    {
     "name": "stderr",
     "output_type": "stream",
     "text": [
      "Using Theano backend.\n"
     ]
    }
   ],
   "source": [
    "import numpy as np\n",
    "seed = 7\n",
    "np.random.seed(seed)\n",
    "from keras.models import Sequential\n",
    "from keras.layers import Dense\n",
    "from keras.wrappers.scikit_learn import KerasClassifier\n",
    "from sklearn.model_selection import StratifiedKFold\n",
    "from sklearn.model_selection import cross_val_score\n",
    "from keras.models import Sequential\n",
    "from keras.layers import Dense\n",
    "from keras.utils import np_utils\n",
    "from keras import optimizers"
   ]
  },
  {
   "cell_type": "code",
   "execution_count": 22,
   "metadata": {
    "collapsed": true
   },
   "outputs": [],
   "source": [
    "def create_model8():\n",
    "    model8 = Sequential()\n",
    "    model8.add(Dense(10, input_dim=9, activation='relu'))\n",
    "    model8.add(Dense(10, activation='relu'))\n",
    "    model8.add(Dense(10, activation='relu'))\n",
    "    model8.add(Dense(10, activation='relu'))\n",
    "    model8.add(Dense(10, activation='relu'))\n",
    "    model8.add(Dense(10, activation='relu'))\n",
    "    model8.add(Dense(10, activation='relu'))\n",
    "    model8.add(Dense(10, activation='relu'))\n",
    "    model8.add(Dense(1, activation='sigmoid'))\n",
    "    adm = optimizers.Adam(lr=0.01, beta_1=0.9, beta_2=0.999, epsilon=1e-08, decay=0.0)\n",
    "    model8.compile(loss='binary_crossentropy', optimizer=adm, metrics=['accuracy'])\n",
    "    return model8"
   ]
  },
  {
   "cell_type": "code",
   "execution_count": 23,
   "metadata": {
    "collapsed": true
   },
   "outputs": [],
   "source": [
    "from sklearn.model_selection import train_test_split\n",
    "X_trainb, X_testb, y_trainb, y_testb = train_test_split(X, y,test_size=0.33, random_state=seed )"
   ]
  },
  {
   "cell_type": "code",
   "execution_count": 24,
   "metadata": {
    "collapsed": true
   },
   "outputs": [],
   "source": [
    "from keras.models import load_model"
   ]
  },
  {
   "cell_type": "code",
   "execution_count": 25,
   "metadata": {
    "collapsed": true
   },
   "outputs": [],
   "source": [
    "model=create_model8()"
   ]
  },
  {
   "cell_type": "code",
   "execution_count": 26,
   "metadata": {
    "collapsed": true
   },
   "outputs": [],
   "source": [
    "best_class_weight = {0: 1.0, 1: 8}"
   ]
  },
  {
   "cell_type": "code",
   "execution_count": 27,
   "metadata": {
    "collapsed": true
   },
   "outputs": [],
   "source": [
    "bestNN = KerasClassifier(build_fn=create_model8, epochs= 20, class_weight = best_class_weight, verbose=0)"
   ]
  },
  {
   "cell_type": "code",
   "execution_count": 28,
   "metadata": {
    "collapsed": false
   },
   "outputs": [
    {
     "data": {
      "text/plain": [
       "<keras.callbacks.History at 0xef61b38>"
      ]
     },
     "execution_count": 28,
     "metadata": {},
     "output_type": "execute_result"
    }
   ],
   "source": [
    "bestNN.fit(X_trainb.as_matrix(), y_trainb)"
   ]
  },
  {
   "cell_type": "code",
   "execution_count": 29,
   "metadata": {
    "collapsed": false
   },
   "outputs": [
    {
     "name": "stdout",
     "output_type": "stream",
     "text": [
      "             precision    recall  f1-score   support\n",
      "\n",
      "          0       0.99      0.93      0.96       152\n",
      "          1       0.89      0.99      0.93        79\n",
      "\n",
      "avg / total       0.96      0.95      0.95       231\n",
      "\n",
      "Akurasi: 0.9524\n",
      "Specificity: 0.9342\n",
      "Recall: 0.9873\n"
     ]
    },
    {
     "data": {
      "text/plain": [
       "(0.93421052631578949, 0.98734177215189878, 0.95238095238095233, -2852283.5)"
      ]
     },
     "execution_count": 29,
     "metadata": {},
     "output_type": "execute_result"
    }
   ],
   "source": [
    "y_predNN = bestNN.predict(X_testb.as_matrix())\n",
    "accuracy = accuracy_score(y_testb, y_predNN)\n",
    "precision, recall, f1, _ = precision_recall_fscore_support(y_testb, y_predNN)\n",
    "print(classification_report(y_testb, y_predNN))\n",
    "print (('Akurasi: %.4f') % (accuracy))\n",
    "print (('Specificity: %.4f') % (specificity(y_testb, y_predNN)))\n",
    "print (('Recall: %.4f') % (recall[1]))\n",
    "output_score(y_testb, y_predNN)"
   ]
  },
  {
   "cell_type": "code",
   "execution_count": 30,
   "metadata": {
    "collapsed": false
   },
   "outputs": [
    {
     "data": {
      "text/plain": [
       "array([[142,  10],\n",
       "       [  1,  78]])"
      ]
     },
     "execution_count": 30,
     "metadata": {},
     "output_type": "execute_result"
    }
   ],
   "source": [
    "confusion_matrix(y_testb,y_predNN)"
   ]
  },
  {
   "cell_type": "code",
   "execution_count": 29,
   "metadata": {
    "collapsed": true
   },
   "outputs": [],
   "source": [
    "names=['SVM - Dataset A','XGBoost - Dataset A','MLP - Dataset A','Baseline']"
   ]
  },
  {
   "cell_type": "code",
   "execution_count": 30,
   "metadata": {
    "collapsed": false
   },
   "outputs": [
    {
     "data": {
      "text/plain": [
       "DummyClassifier(constant=None, random_state=None, strategy='most_frequent')"
      ]
     },
     "execution_count": 30,
     "metadata": {},
     "output_type": "execute_result"
    }
   ],
   "source": [
    "from sklearn.dummy import DummyClassifier\n",
    "modelDummy=DummyClassifier(strategy='most_frequent')\n",
    "modelDummy.fit(X_train,y_train)"
   ]
  },
  {
   "cell_type": "code",
   "execution_count": 31,
   "metadata": {
    "collapsed": true
   },
   "outputs": [],
   "source": [
    "score=bestSVC.predict_proba(X_test)\n",
    "score2=bestXGB.predict_proba(X_test)\n",
    "score3=bestNN.predict_proba(X_testb.as_matrix())\n",
    "score4=modelDummy.predict_proba(X_test)"
   ]
  },
  {
   "cell_type": "code",
   "execution_count": 34,
   "metadata": {
    "collapsed": false
   },
   "outputs": [
    {
     "data": {
      "image/png": "[encoded data removed]",
      "text/plain": [
       "<matplotlib.figure.Figure at 0xedae550>"
      ]
     },
     "metadata": {},
     "output_type": "display_data"
    }
   ],
   "source": [
    "import matplotlib.pyplot as plt\n",
    "from sklearn.metrics import roc_curve, roc_auc_score\n",
    "fig, ax = plt.subplots(figsize=(9,5))\n",
    "\n",
    "fpr, tpr, thresholds = roc_curve(y_test, score[:,1],pos_label=1)\n",
    "fpr2, tpr2, thresholds2 = roc_curve(y_test, score2[:,1],pos_label=1)\n",
    "fpr3, tpr3, thresholds3 = roc_curve(y_testb, score3[:,1],pos_label=1)\n",
    "fpr4, tpr4, thresholds4 = roc_curve(y_test, score4[:,1],pos_label=1)\n",
    "\n",
    "auc = roc_auc_score(y_test, score[:,1])\n",
    "auc2 = roc_auc_score(y_test, score2[:,1])\n",
    "auc3 = roc_auc_score(y_testb, score3[:,1])\n",
    "auc4 = roc_auc_score(y_test, score4[:,1])\n",
    "\n",
    "ax.plot(fpr*100, tpr*100, label='%s (area = %.2f)' % (names[0], auc*100))\n",
    "ax.plot(fpr2*100, tpr2*100, '-v', label='%s (area = %.2f)' % (names[1], auc2*100))\n",
    "ax.plot(fpr3*100, tpr3*100, '-.', label='%s (area = %.2f)' % (names[2], auc3*100))\n",
    "ax.plot(fpr4*100, tpr4*100,'--', label='%s (area = %.2f)' % (names[3], auc4*100))\n",
    "\n",
    "plt.rc('xtick',labelsize=14)\n",
    "plt.rc('ytick',labelsize=14)\n",
    "plt.title(\"RoC Curves Dataset A\",fontsize=14)\n",
    "plt.legend(prop={'size':12})\n",
    "ax.set_xlabel('False Positive Rate',fontsize=14)\n",
    "ax.set_ylabel('True Positive Rate',fontsize=14)\n",
    "plt.show()"
   ]
  },
  {
   "cell_type": "code",
   "execution_count": 37,
   "metadata": {
    "collapsed": false
   },
   "outputs": [
    {
     "data": {
      "text/plain": [
       "array([  9.55020003e-01,   9.26538671e-01,   9.26193606e-01,\n",
       "         9.06701685e-01,   9.06481894e-01,   9.02313966e-01,\n",
       "         9.00949467e-01,   8.93898444e-01,   8.84523634e-01,\n",
       "         8.74243292e-01,   8.66349499e-01,   8.05141503e-01,\n",
       "         1.40711138e-01,   8.68602084e-02,   8.34649624e-04,\n",
       "         7.43815007e-04,   6.20602688e-04,   6.20594088e-04,\n",
       "         3.66080314e-04,   3.43263957e-04,   2.85941157e-04,\n",
       "         2.73065839e-04,   2.46333843e-04,   2.42711837e-04,\n",
       "         2.36350265e-04,   2.04434786e-04,   2.04398996e-04,\n",
       "         1.91070907e-04,   1.69214714e-04,   1.48497405e-04,\n",
       "         1.38552622e-04,   1.25211160e-04,   1.21479101e-04,\n",
       "         1.16260315e-04,   1.15830425e-04,   1.14371871e-04,\n",
       "         1.13143595e-04,   1.00595601e-04,   9.83553520e-05,\n",
       "         9.40957534e-05,   9.25000831e-05,   8.92707849e-05,\n",
       "         8.82745876e-05,   8.61595597e-05,   7.33207437e-05,\n",
       "         6.81996317e-05,   5.60392796e-05,   5.03354113e-05,\n",
       "         4.72942811e-05,   3.81582530e-05,   3.79986691e-05,\n",
       "         3.65497231e-05,   3.42104858e-05,   3.32137838e-05,\n",
       "         2.71152193e-05,   1.81251924e-05,   1.12472676e-05])"
      ]
     },
     "execution_count": 37,
     "metadata": {},
     "output_type": "execute_result"
    }
   ],
   "source": [
    "thresholds"
   ]
  },
  {
   "cell_type": "code",
   "execution_count": 38,
   "metadata": {
    "collapsed": false
   },
   "outputs": [
    {
     "data": {
      "text/plain": [
       "array([ 1.91570115,  0.91570115,  0.91239154,  0.91010934,  0.90793484,\n",
       "        0.90366226,  0.90326691,  0.90125805,  0.88852143,  0.88850558,\n",
       "        0.88622874,  0.86322445,  0.84651792,  0.84641713,  0.80294573,\n",
       "        0.79677159,  0.74092907,  0.71442664,  0.60055536,  0.59432465,\n",
       "        0.46127951,  0.24284971,  0.2208716 ,  0.08249394,  0.07819505,\n",
       "        0.07396266,  0.07188724,  0.06419814,  0.06265043,  0.05851528,\n",
       "        0.05255019,  0.04906667,  0.03810971,  0.03689033,  0.03608822,\n",
       "        0.03536117,  0.03326815,  0.03305527], dtype=float32)"
      ]
     },
     "execution_count": 38,
     "metadata": {},
     "output_type": "execute_result"
    }
   ],
   "source": [
    "thresholds2"
   ]
  },
  {
   "cell_type": "code",
   "execution_count": 39,
   "metadata": {
    "collapsed": false
   },
   "outputs": [
    {
     "data": {
      "text/plain": [
       "array([  9.99998689e-01,   9.98607814e-01,   9.98517215e-01,\n",
       "         9.98394132e-01,   9.98291492e-01,   9.93848324e-01,\n",
       "         9.90495205e-01,   9.89396095e-01,   9.87140656e-01,\n",
       "         9.83815193e-01,   9.80459929e-01,   9.75746930e-01,\n",
       "         9.72532392e-01,   8.87829840e-01,   8.79564166e-01,\n",
       "         8.71866226e-01,   8.68208170e-01,   8.44334781e-01,\n",
       "         8.16257715e-01,   7.27858245e-01,   3.37698422e-02,\n",
       "         1.78457461e-02,   6.14354271e-04,   6.02891436e-04,\n",
       "         5.66340226e-04,   5.19734924e-04,   5.19353896e-04,\n",
       "         5.18227404e-04,   3.87047709e-04,   3.71119997e-04,\n",
       "         3.47178458e-04,   3.22891778e-04,   3.18909762e-04,\n",
       "         2.59481138e-04,   2.39155212e-04,   2.38627923e-04,\n",
       "         1.83670694e-04,   1.82856398e-04,   1.53848334e-04,\n",
       "         1.15619296e-04,   7.75088338e-05,   5.04265045e-05,\n",
       "         4.38852730e-05,   3.79879129e-05,   2.47264197e-05,\n",
       "         2.11821407e-05,   1.63523764e-05,   1.61102253e-05,\n",
       "         1.57652321e-05,   1.27123913e-05], dtype=float32)"
      ]
     },
     "execution_count": 39,
     "metadata": {},
     "output_type": "execute_result"
    }
   ],
   "source": [
    "thresholds3"
   ]
  },
  {
   "cell_type": "code",
   "execution_count": 40,
   "metadata": {
    "collapsed": false
   },
   "outputs": [
    {
     "data": {
      "text/plain": [
       "array([ 1.,  0.])"
      ]
     },
     "execution_count": 40,
     "metadata": {},
     "output_type": "execute_result"
    }
   ],
   "source": [
    "thresholds4"
   ]
  },
  {
   "cell_type": "code",
   "execution_count": 32,
   "metadata": {
    "collapsed": false
   },
   "outputs": [
    {
     "data": {
      "image/png": "[encoded data removed]",
      "text/plain": [
       "<matplotlib.figure.Figure at 0xef6a748>"
      ]
     },
     "metadata": {},
     "output_type": "display_data"
    }
   ],
   "source": [
    "import matplotlib.pyplot as plt\n",
    "from sklearn.metrics import roc_curve, roc_auc_score\n",
    "fig, ax = plt.subplots(figsize=(9,5))\n",
    "\n",
    "fpr, tpr, thresholds = roc_curve(y_test, score[:,1],pos_label=1)\n",
    "fpr2, tpr2, thresholds2 = roc_curve(y_test, score2[:,1],pos_label=1)\n",
    "fpr3, tpr3, thresholds3 = roc_curve(y_testb, score3[:,1],pos_label=1)\n",
    "fpr4, tpr4, thresholds4 = roc_curve(y_test, score4[:,1],pos_label=1)\n",
    "\n",
    "auc = roc_auc_score(y_test, score[:,1])\n",
    "auc2 = roc_auc_score(y_test, score2[:,1])\n",
    "auc3 = roc_auc_score(y_testb, score3[:,1])\n",
    "auc4 = roc_auc_score(y_test, score4[:,1])\n",
    "\n",
    "ax.plot(fpr*100, tpr*100, label='%s (area = %.2f)' % (names[0], auc*100))\n",
    "ax.plot(fpr2*100, tpr2*100, '-v', label='%s (area = %.2f)' % (names[1], auc2*100))\n",
    "ax.plot(fpr3*100, tpr3*100, '-.', label='%s (area = %.2f)' % (names[2], auc3*100))\n",
    "ax.plot(fpr4*100, tpr4*100,'--', label='%s (area = %.2f)' % (names[3], auc4*100))\n",
    "\n",
    "plt.rc('xtick',labelsize=14)\n",
    "plt.rc('ytick',labelsize=14)\n",
    "plt.title(\"RoC Curves Dataset A\",fontsize=14)\n",
    "plt.legend(prop={'size':12})\n",
    "ax.set_xlabel('False Positive Rate',fontsize=14)\n",
    "ax.set_ylabel('True Positive Rate',fontsize=14)\n",
    "plt.show()"
   ]
  },
  {
   "cell_type": "markdown",
   "metadata": {},
   "source": [
    "# XGBoost Feature Importance"
   ]
  },
  {
   "cell_type": "code",
   "execution_count": 33,
   "metadata": {
    "collapsed": true
   },
   "outputs": [],
   "source": [
    "from xgboost import plot_importance"
   ]
  },
  {
   "cell_type": "code",
   "execution_count": 34,
   "metadata": {
    "collapsed": true
   },
   "outputs": [],
   "source": [
    "from matplotlib import pyplot"
   ]
  },
  {
   "cell_type": "code",
   "execution_count": 35,
   "metadata": {
    "collapsed": false
   },
   "outputs": [
    {
     "data": {
      "image/png": "[encoded data removed]",
      "text/plain": [
       "<matplotlib.figure.Figure at 0xd6db6a0>"
      ]
     },
     "metadata": {},
     "output_type": "display_data"
    }
   ],
   "source": [
    "plot_importance(bestXGB, importance_type='gain')\n",
    "pyplot.show()"
   ]
  },
  {
   "cell_type": "code",
   "execution_count": 36,
   "metadata": {
    "collapsed": true
   },
   "outputs": [],
   "source": [
    "from xgboost import plot_tree"
   ]
  },
  {
   "cell_type": "code",
   "execution_count": 37,
   "metadata": {
    "collapsed": false
   },
   "outputs": [
    {
     "data": {
      "image/png": "[encoded data removed]",
      "text/plain": [
       "<matplotlib.figure.Figure at 0xf33b828>"
      ]
     },
     "metadata": {},
     "output_type": "display_data"
    }
   ],
   "source": [
    "plot_importance(bestXGB)\n",
    "pyplot.show()"
   ]
  },
  {
   "cell_type": "code",
   "execution_count": 38,
   "metadata": {
    "collapsed": false
   },
   "outputs": [
    {
     "data": {
      "image/png": "[encoded data removed]",
      "text/plain": [
       "<matplotlib.figure.Figure at 0x74b6278>"
      ]
     },
     "metadata": {},
     "output_type": "display_data"
    }
   ],
   "source": [
    "import graphviz\n",
    "plot_tree(bestXGB, num_trees=0, rankdir='LR')\n",
    "pyplot.show()"
   ]
  },
  {
   "cell_type": "code",
   "execution_count": 40,
   "metadata": {
    "collapsed": false
   },
   "outputs": [
    {
     "data": {
      "image/svg+xml": [
       "<?xml version=\"1.0\" encoding=\"UTF-8\" standalone=\"no\"?>\r\n",
       "<!DOCTYPE svg PUBLIC \"-//W3C//DTD SVG 1.1//EN\"\r\n",
       " \"http://www.w3.org/Graphics/SVG/1.1/DTD/svg11.dtd\">\r\n",
       "<!-- Generated by graphviz version 2.38.0 (20140413.2041)\r\n",
       " -->\r\n",
       "<!-- Title: %3 Pages: 1 -->\r\n",
       "<svg width=\"592pt\" height=\"350pt\"\r\n",
       " viewBox=\"0.00 0.00 592.48 350.49\" xmlns=\"http://www.w3.org/2000/svg\" xmlns:xlink=\"http://www.w3.org/1999/xlink\">\r\n",
       "<g id=\"graph0\" class=\"graph\" transform=\"scale(1 1) rotate(0) translate(4 346.486)\">\r\n",
       "<title>%3</title>\r\n",
       "<polygon fill=\"white\" stroke=\"none\" points=\"-4,4 -4,-346.486 588.475,-346.486 588.475,4 -4,4\"/>\r\n",
       "<!-- 0 -->\r\n",
       "<g id=\"node1\" class=\"node\"><title>0</title>\r\n",
       "<ellipse fill=\"none\" stroke=\"black\" cx=\"58.4948\" cy=\"-188.243\" rx=\"58.4896\" ry=\"58.4896\"/>\r\n",
       "<text text-anchor=\"middle\" x=\"58.4948\" y=\"-184.543\" font-family=\"Times New Roman,serif\" font-size=\"14.00\">cell_shape&lt;3</text>\r\n",
       "</g>\r\n",
       "<!-- 1 -->\r\n",
       "<g id=\"node2\" class=\"node\"><title>1</title>\r\n",
       "<ellipse fill=\"none\" stroke=\"black\" cx=\"303.232\" cy=\"-261.243\" rx=\"81.4863\" ry=\"81.4863\"/>\r\n",
       "<text text-anchor=\"middle\" x=\"303.232\" y=\"-257.543\" font-family=\"Times New Roman,serif\" font-size=\"14.00\">bland_chromatin&lt;4</text>\r\n",
       "</g>\r\n",
       "<!-- 0&#45;&gt;1 -->\r\n",
       "<g id=\"edge1\" class=\"edge\"><title>0&#45;&gt;1</title>\r\n",
       "<path fill=\"none\" stroke=\"#0000ff\" d=\"M114.879,-204.899C144.553,-213.823 181.787,-225.02 215.227,-235.077\"/>\r\n",
       "<polygon fill=\"#0000ff\" stroke=\"#0000ff\" points=\"214.424,-238.49 225.008,-238.019 216.44,-231.787 214.424,-238.49\"/>\r\n",
       "<text text-anchor=\"middle\" x=\"169.49\" y=\"-235.043\" font-family=\"Times New Roman,serif\" font-size=\"14.00\">yes, missing</text>\r\n",
       "</g>\r\n",
       "<!-- 2 -->\r\n",
       "<g id=\"node3\" class=\"node\"><title>2</title>\r\n",
       "<ellipse fill=\"none\" stroke=\"black\" cx=\"303.232\" cy=\"-81.2428\" rx=\"81.4863\" ry=\"81.4863\"/>\r\n",
       "<text text-anchor=\"middle\" x=\"303.232\" y=\"-77.5428\" font-family=\"Times New Roman,serif\" font-size=\"14.00\">bland_chromatin&lt;3</text>\r\n",
       "</g>\r\n",
       "<!-- 0&#45;&gt;2 -->\r\n",
       "<g id=\"edge2\" class=\"edge\"><title>0&#45;&gt;2</title>\r\n",
       "<path fill=\"none\" stroke=\"#ff0000\" d=\"M112.465,-164.893C143.71,-151.12 183.935,-133.389 219.304,-117.798\"/>\r\n",
       "<polygon fill=\"#ff0000\" stroke=\"#ff0000\" points=\"220.921,-120.91 228.659,-113.674 218.097,-114.505 220.921,-120.91\"/>\r\n",
       "<text text-anchor=\"middle\" x=\"169.49\" y=\"-157.043\" font-family=\"Times New Roman,serif\" font-size=\"14.00\">no</text>\r\n",
       "</g>\r\n",
       "<!-- 3 -->\r\n",
       "<g id=\"node4\" class=\"node\"><title>3</title>\r\n",
       "<polygon fill=\"none\" stroke=\"black\" points=\"583.475,-306.243 490.475,-306.243 490.475,-270.243 583.475,-270.243 583.475,-306.243\"/>\r\n",
       "<text text-anchor=\"middle\" x=\"536.975\" y=\"-284.543\" font-family=\"Times New Roman,serif\" font-size=\"14.00\">leaf=&#45;0.18289</text>\r\n",
       "</g>\r\n",
       "<!-- 1&#45;&gt;3 -->\r\n",
       "<g id=\"edge3\" class=\"edge\"><title>1&#45;&gt;3</title>\r\n",
       "<path fill=\"none\" stroke=\"#0000ff\" d=\"M383.985,-270.535C415.586,-274.216 451.169,-278.362 479.957,-281.716\"/>\r\n",
       "<polygon fill=\"#0000ff\" stroke=\"#0000ff\" points=\"479.898,-285.233 490.236,-282.914 480.708,-278.28 479.898,-285.233\"/>\r\n",
       "<text text-anchor=\"middle\" x=\"436.975\" y=\"-284.043\" font-family=\"Times New Roman,serif\" font-size=\"14.00\">yes, missing</text>\r\n",
       "</g>\r\n",
       "<!-- 4 -->\r\n",
       "<g id=\"node5\" class=\"node\"><title>4</title>\r\n",
       "<polygon fill=\"none\" stroke=\"black\" points=\"564.975,-252.243 508.975,-252.243 508.975,-216.243 564.975,-216.243 564.975,-252.243\"/>\r\n",
       "<text text-anchor=\"middle\" x=\"536.975\" y=\"-230.543\" font-family=\"Times New Roman,serif\" font-size=\"14.00\">leaf=&#45;0</text>\r\n",
       "</g>\r\n",
       "<!-- 1&#45;&gt;4 -->\r\n",
       "<g id=\"edge4\" class=\"edge\"><title>1&#45;&gt;4</title>\r\n",
       "<path fill=\"none\" stroke=\"#ff0000\" d=\"M383.985,-251.951C422.869,-247.421 467.781,-242.188 498.646,-238.592\"/>\r\n",
       "<polygon fill=\"#ff0000\" stroke=\"#ff0000\" points=\"499.417,-242.026 508.945,-237.392 498.607,-235.073 499.417,-242.026\"/>\r\n",
       "<text text-anchor=\"middle\" x=\"436.975\" y=\"-253.043\" font-family=\"Times New Roman,serif\" font-size=\"14.00\">no</text>\r\n",
       "</g>\r\n",
       "<!-- 5 -->\r\n",
       "<g id=\"node6\" class=\"node\"><title>5</title>\r\n",
       "<polygon fill=\"none\" stroke=\"black\" points=\"564.975,-126.243 508.975,-126.243 508.975,-90.2428 564.975,-90.2428 564.975,-126.243\"/>\r\n",
       "<text text-anchor=\"middle\" x=\"536.975\" y=\"-104.543\" font-family=\"Times New Roman,serif\" font-size=\"14.00\">leaf=&#45;0</text>\r\n",
       "</g>\r\n",
       "<!-- 2&#45;&gt;5 -->\r\n",
       "<g id=\"edge5\" class=\"edge\"><title>2&#45;&gt;5</title>\r\n",
       "<path fill=\"none\" stroke=\"#0000ff\" d=\"M383.985,-90.5347C422.869,-95.0649 467.781,-100.298 498.646,-103.894\"/>\r\n",
       "<polygon fill=\"#0000ff\" stroke=\"#0000ff\" points=\"498.607,-107.413 508.945,-105.094 499.417,-100.46 498.607,-107.413\"/>\r\n",
       "<text text-anchor=\"middle\" x=\"436.975\" y=\"-104.043\" font-family=\"Times New Roman,serif\" font-size=\"14.00\">yes, missing</text>\r\n",
       "</g>\r\n",
       "<!-- 6 -->\r\n",
       "<g id=\"node7\" class=\"node\"><title>6</title>\r\n",
       "<polygon fill=\"none\" stroke=\"black\" points=\"584.475,-72.2428 489.475,-72.2428 489.475,-36.2428 584.475,-36.2428 584.475,-72.2428\"/>\r\n",
       "<text text-anchor=\"middle\" x=\"536.975\" y=\"-50.5428\" font-family=\"Times New Roman,serif\" font-size=\"14.00\">leaf=0.139223</text>\r\n",
       "</g>\r\n",
       "<!-- 2&#45;&gt;6 -->\r\n",
       "<g id=\"edge6\" class=\"edge\"><title>2&#45;&gt;6</title>\r\n",
       "<path fill=\"none\" stroke=\"#ff0000\" d=\"M383.985,-71.9509C415.236,-68.3099 450.381,-64.2152 478.998,-60.8811\"/>\r\n",
       "<polygon fill=\"#ff0000\" stroke=\"#ff0000\" points=\"479.699,-64.3232 489.227,-59.6894 478.889,-57.3702 479.699,-64.3232\"/>\r\n",
       "<text text-anchor=\"middle\" x=\"436.975\" y=\"-73.0428\" font-family=\"Times New Roman,serif\" font-size=\"14.00\">no</text>\r\n",
       "</g>\r\n",
       "</g>\r\n",
       "</svg>\r\n"
      ],
      "text/plain": [
       "<graphviz.dot.Digraph at 0x75f56a0>"
      ]
     },
     "execution_count": 40,
     "metadata": {},
     "output_type": "execute_result"
    }
   ],
   "source": [
    "import xgboost as xgb\n",
    "import graphviz\n",
    "xgb.to_graphviz(bestXGB, num_trees=0, rankdir='LR' )"
   ]
  },
  {
   "cell_type": "code",
   "execution_count": 41,
   "metadata": {
    "collapsed": false
   },
   "outputs": [
    {
     "data": {
      "image/svg+xml": [
       "<?xml version=\"1.0\" encoding=\"UTF-8\" standalone=\"no\"?>\r\n",
       "<!DOCTYPE svg PUBLIC \"-//W3C//DTD SVG 1.1//EN\"\r\n",
       " \"http://www.w3.org/Graphics/SVG/1.1/DTD/svg11.dtd\">\r\n",
       "<!-- Generated by graphviz version 2.38.0 (20140413.2041)\r\n",
       " -->\r\n",
       "<!-- Title: %3 Pages: 1 -->\r\n",
       "<svg width=\"577pt\" height=\"284pt\"\r\n",
       " viewBox=\"0.00 0.00 576.68 284.34\" xmlns=\"http://www.w3.org/2000/svg\" xmlns:xlink=\"http://www.w3.org/1999/xlink\">\r\n",
       "<g id=\"graph0\" class=\"graph\" transform=\"scale(1 1) rotate(0) translate(4 280.339)\">\r\n",
       "<title>%3</title>\r\n",
       "<polygon fill=\"white\" stroke=\"none\" points=\"-4,4 -4,-280.339 572.677,-280.339 572.677,4 -4,4\"/>\r\n",
       "<!-- 0 -->\r\n",
       "<g id=\"node1\" class=\"node\"><title>0</title>\r\n",
       "<ellipse fill=\"none\" stroke=\"black\" cx=\"51.3454\" cy=\"-137.345\" rx=\"51.1914\" ry=\"51.1914\"/>\r\n",
       "<text text-anchor=\"middle\" x=\"51.3454\" y=\"-133.645\" font-family=\"Times New Roman,serif\" font-size=\"14.00\">cell_size&lt;3</text>\r\n",
       "</g>\r\n",
       "<!-- 1 -->\r\n",
       "<g id=\"node2\" class=\"node\"><title>1</title>\r\n",
       "<ellipse fill=\"none\" stroke=\"black\" cx=\"285.684\" cy=\"-198.345\" rx=\"77.9862\" ry=\"77.9862\"/>\r\n",
       "<text text-anchor=\"middle\" x=\"285.684\" y=\"-194.645\" font-family=\"Times New Roman,serif\" font-size=\"14.00\">normal_nucleoli&lt;4</text>\r\n",
       "</g>\r\n",
       "<!-- 0&#45;&gt;1 -->\r\n",
       "<g id=\"edge1\" class=\"edge\"><title>0&#45;&gt;1</title>\r\n",
       "<path fill=\"none\" stroke=\"#0000ff\" d=\"M101.335,-150.207C130.053,-157.747 167.117,-167.478 200.397,-176.216\"/>\r\n",
       "<polygon fill=\"#0000ff\" stroke=\"#0000ff\" points=\"199.569,-179.617 210.13,-178.771 201.347,-172.847 199.569,-179.617\"/>\r\n",
       "<text text-anchor=\"middle\" x=\"155.191\" y=\"-176.145\" font-family=\"Times New Roman,serif\" font-size=\"14.00\">yes, missing</text>\r\n",
       "</g>\r\n",
       "<!-- 2 -->\r\n",
       "<g id=\"node3\" class=\"node\"><title>2</title>\r\n",
       "<ellipse fill=\"none\" stroke=\"black\" cx=\"285.684\" cy=\"-51.3454\" rx=\"51.1914\" ry=\"51.1914\"/>\r\n",
       "<text text-anchor=\"middle\" x=\"285.684\" y=\"-47.6454\" font-family=\"Times New Roman,serif\" font-size=\"14.00\">cell_size&lt;4</text>\r\n",
       "</g>\r\n",
       "<!-- 0&#45;&gt;2 -->\r\n",
       "<g id=\"edge2\" class=\"edge\"><title>0&#45;&gt;2</title>\r\n",
       "<path fill=\"none\" stroke=\"#ff0000\" d=\"M99.6427,-119.838C136.582,-106.165 188.061,-87.1103 227.346,-72.5691\"/>\r\n",
       "<polygon fill=\"#ff0000\" stroke=\"#ff0000\" points=\"228.891,-75.7292 237.055,-68.9754 226.461,-69.1645 228.891,-75.7292\"/>\r\n",
       "<text text-anchor=\"middle\" x=\"155.191\" y=\"-115.145\" font-family=\"Times New Roman,serif\" font-size=\"14.00\">no</text>\r\n",
       "</g>\r\n",
       "<!-- 3 -->\r\n",
       "<g id=\"node4\" class=\"node\"><title>3</title>\r\n",
       "<polygon fill=\"none\" stroke=\"black\" points=\"568.677,-247.345 468.677,-247.345 468.677,-211.345 568.677,-211.345 568.677,-247.345\"/>\r\n",
       "<text text-anchor=\"middle\" x=\"518.677\" y=\"-225.645\" font-family=\"Times New Roman,serif\" font-size=\"14.00\">leaf=&#45;0.166248</text>\r\n",
       "</g>\r\n",
       "<!-- 1&#45;&gt;3 -->\r\n",
       "<g id=\"edge3\" class=\"edge\"><title>1&#45;&gt;3</title>\r\n",
       "<path fill=\"none\" stroke=\"#0000ff\" d=\"M363.28,-208.625C394.294,-212.787 429.546,-217.518 458.527,-221.407\"/>\r\n",
       "<polygon fill=\"#0000ff\" stroke=\"#0000ff\" points=\"458.123,-224.884 468.499,-222.746 459.054,-217.947 458.123,-224.884\"/>\r\n",
       "<text text-anchor=\"middle\" x=\"416.177\" y=\"-223.145\" font-family=\"Times New Roman,serif\" font-size=\"14.00\">yes, missing</text>\r\n",
       "</g>\r\n",
       "<!-- 4 -->\r\n",
       "<g id=\"node5\" class=\"node\"><title>4</title>\r\n",
       "<polygon fill=\"none\" stroke=\"black\" points=\"546.677,-193.345 490.677,-193.345 490.677,-157.345 546.677,-157.345 546.677,-193.345\"/>\r\n",
       "<text text-anchor=\"middle\" x=\"518.677\" y=\"-171.645\" font-family=\"Times New Roman,serif\" font-size=\"14.00\">leaf=&#45;0</text>\r\n",
       "</g>\r\n",
       "<!-- 1&#45;&gt;4 -->\r\n",
       "<g id=\"edge4\" class=\"edge\"><title>1&#45;&gt;4</title>\r\n",
       "<path fill=\"none\" stroke=\"#ff0000\" d=\"M363.601,-190.687C402.984,-186.765 449.129,-182.171 480.581,-179.039\"/>\r\n",
       "<polygon fill=\"#ff0000\" stroke=\"#ff0000\" points=\"481.049,-182.51 490.653,-178.036 480.355,-175.544 481.049,-182.51\"/>\r\n",
       "<text text-anchor=\"middle\" x=\"416.177\" y=\"-191.145\" font-family=\"Times New Roman,serif\" font-size=\"14.00\">no</text>\r\n",
       "</g>\r\n",
       "<!-- 5 -->\r\n",
       "<g id=\"node6\" class=\"node\"><title>5</title>\r\n",
       "<polygon fill=\"none\" stroke=\"black\" points=\"546.677,-116.345 490.677,-116.345 490.677,-80.3454 546.677,-80.3454 546.677,-116.345\"/>\r\n",
       "<text text-anchor=\"middle\" x=\"518.677\" y=\"-94.6454\" font-family=\"Times New Roman,serif\" font-size=\"14.00\">leaf=&#45;0</text>\r\n",
       "</g>\r\n",
       "<!-- 2&#45;&gt;5 -->\r\n",
       "<g id=\"edge5\" class=\"edge\"><title>2&#45;&gt;5</title>\r\n",
       "<path fill=\"none\" stroke=\"#0000ff\" d=\"M336.238,-61.4281C379.56,-70.2428 441.496,-82.845 480.636,-90.8088\"/>\r\n",
       "<polygon fill=\"#0000ff\" stroke=\"#0000ff\" points=\"480.056,-94.2624 490.553,-92.8266 481.452,-87.4029 480.056,-94.2624\"/>\r\n",
       "<text text-anchor=\"middle\" x=\"416.177\" y=\"-88.1454\" font-family=\"Times New Roman,serif\" font-size=\"14.00\">yes, missing</text>\r\n",
       "</g>\r\n",
       "<!-- 6 -->\r\n",
       "<g id=\"node7\" class=\"node\"><title>6</title>\r\n",
       "<polygon fill=\"none\" stroke=\"black\" points=\"566.177,-62.3454 471.177,-62.3454 471.177,-26.3454 566.177,-26.3454 566.177,-62.3454\"/>\r\n",
       "<text text-anchor=\"middle\" x=\"518.677\" y=\"-40.6454\" font-family=\"Times New Roman,serif\" font-size=\"14.00\">leaf=0.138648</text>\r\n",
       "</g>\r\n",
       "<!-- 2&#45;&gt;6 -->\r\n",
       "<g id=\"edge6\" class=\"edge\"><title>2&#45;&gt;6</title>\r\n",
       "<path fill=\"none\" stroke=\"#ff0000\" d=\"M337.091,-49.8179C373.493,-48.7148 422.704,-47.2235 460.56,-46.0763\"/>\r\n",
       "<polygon fill=\"#ff0000\" stroke=\"#ff0000\" points=\"461.028,-49.5638 470.917,-45.7625 460.815,-42.5671 461.028,-49.5638\"/>\r\n",
       "<text text-anchor=\"middle\" x=\"416.177\" y=\"-51.1454\" font-family=\"Times New Roman,serif\" font-size=\"14.00\">no</text>\r\n",
       "</g>\r\n",
       "</g>\r\n",
       "</svg>\r\n"
      ],
      "text/plain": [
       "<graphviz.dot.Digraph at 0x75f90b8>"
      ]
     },
     "execution_count": 41,
     "metadata": {},
     "output_type": "execute_result"
    }
   ],
   "source": [
    "xgb.to_graphviz(bestXGB, num_trees=1, rankdir='LR' )"
   ]
  },
  {
   "cell_type": "code",
   "execution_count": 42,
   "metadata": {
    "collapsed": false
   },
   "outputs": [
    {
     "data": {
      "image/svg+xml": [
       "<?xml version=\"1.0\" encoding=\"UTF-8\" standalone=\"no\"?>\r\n",
       "<!DOCTYPE svg PUBLIC \"-//W3C//DTD SVG 1.1//EN\"\r\n",
       " \"http://www.w3.org/Graphics/SVG/1.1/DTD/svg11.dtd\">\r\n",
       "<!-- Generated by graphviz version 2.38.0 (20140413.2041)\r\n",
       " -->\r\n",
       "<!-- Title: %3 Pages: 1 -->\r\n",
       "<svg width=\"818pt\" height=\"313pt\"\r\n",
       " viewBox=\"0.00 0.00 818.16 313.09\" xmlns=\"http://www.w3.org/2000/svg\" xmlns:xlink=\"http://www.w3.org/1999/xlink\">\r\n",
       "<g id=\"graph0\" class=\"graph\" transform=\"scale(1 1) rotate(0) translate(4 309.088)\">\r\n",
       "<title>%3</title>\r\n",
       "<polygon fill=\"white\" stroke=\"none\" points=\"-4,4 -4,-309.088 814.165,-309.088 814.165,4 -4,4\"/>\r\n",
       "<!-- 0 -->\r\n",
       "<g id=\"node1\" class=\"node\"><title>0</title>\r\n",
       "<ellipse fill=\"none\" stroke=\"black\" cx=\"51.3454\" cy=\"-51.3454\" rx=\"51.1914\" ry=\"51.1914\"/>\r\n",
       "<text text-anchor=\"middle\" x=\"51.3454\" y=\"-47.6454\" font-family=\"Times New Roman,serif\" font-size=\"14.00\">cell_size&lt;4</text>\r\n",
       "</g>\r\n",
       "<!-- 1 -->\r\n",
       "<g id=\"node2\" class=\"node\"><title>1</title>\r\n",
       "<ellipse fill=\"none\" stroke=\"black\" cx=\"266.186\" cy=\"-112.345\" rx=\"58.4896\" ry=\"58.4896\"/>\r\n",
       "<text text-anchor=\"middle\" x=\"266.186\" y=\"-108.645\" font-family=\"Times New Roman,serif\" font-size=\"14.00\">cell_shape&lt;4</text>\r\n",
       "</g>\r\n",
       "<!-- 0&#45;&gt;1 -->\r\n",
       "<g id=\"edge1\" class=\"edge\"><title>0&#45;&gt;1</title>\r\n",
       "<path fill=\"none\" stroke=\"#0000ff\" d=\"M100.909,-65.2636C130.262,-73.6764 168.054,-84.5074 199.988,-93.6597\"/>\r\n",
       "<polygon fill=\"#0000ff\" stroke=\"#0000ff\" points=\"199.117,-97.051 209.694,-96.4416 201.046,-90.3219 199.117,-97.051\"/>\r\n",
       "<text text-anchor=\"middle\" x=\"155.191\" y=\"-93.1454\" font-family=\"Times New Roman,serif\" font-size=\"14.00\">yes, missing</text>\r\n",
       "</g>\r\n",
       "<!-- 2 -->\r\n",
       "<g id=\"node3\" class=\"node\"><title>2</title>\r\n",
       "<polygon fill=\"none\" stroke=\"black\" points=\"313.686,-36.3454 218.686,-36.3454 218.686,-0.345444 313.686,-0.345444 313.686,-36.3454\"/>\r\n",
       "<text text-anchor=\"middle\" x=\"266.186\" y=\"-14.6454\" font-family=\"Times New Roman,serif\" font-size=\"14.00\">leaf=0.125966</text>\r\n",
       "</g>\r\n",
       "<!-- 0&#45;&gt;2 -->\r\n",
       "<g id=\"edge2\" class=\"edge\"><title>0&#45;&gt;2</title>\r\n",
       "<path fill=\"none\" stroke=\"#ff0000\" d=\"M102.247,-43.6084C134.093,-38.6708 175.452,-32.2583 208.531,-27.1294\"/>\r\n",
       "<polygon fill=\"#ff0000\" stroke=\"#ff0000\" points=\"209.166,-30.5729 218.512,-25.582 208.094,-23.6556 209.166,-30.5729\"/>\r\n",
       "<text text-anchor=\"middle\" x=\"155.191\" y=\"-45.1454\" font-family=\"Times New Roman,serif\" font-size=\"14.00\">no</text>\r\n",
       "</g>\r\n",
       "<!-- 3 -->\r\n",
       "<g id=\"node4\" class=\"node\"><title>3</title>\r\n",
       "<ellipse fill=\"none\" stroke=\"black\" cx=\"517.423\" cy=\"-217.345\" rx=\"87.9851\" ry=\"87.9851\"/>\r\n",
       "<text text-anchor=\"middle\" x=\"517.423\" y=\"-213.645\" font-family=\"Times New Roman,serif\" font-size=\"14.00\">marginal_adhesion&lt;4</text>\r\n",
       "</g>\r\n",
       "<!-- 1&#45;&gt;3 -->\r\n",
       "<g id=\"edge3\" class=\"edge\"><title>1&#45;&gt;3</title>\r\n",
       "<path fill=\"none\" stroke=\"#0000ff\" d=\"M320.348,-134.742C351.32,-147.79 391.186,-164.585 426.875,-179.62\"/>\r\n",
       "<polygon fill=\"#0000ff\" stroke=\"#0000ff\" points=\"425.758,-182.948 436.333,-183.605 428.476,-176.497 425.758,-182.948\"/>\r\n",
       "<text text-anchor=\"middle\" x=\"377.181\" y=\"-175.145\" font-family=\"Times New Roman,serif\" font-size=\"14.00\">yes, missing</text>\r\n",
       "</g>\r\n",
       "<!-- 4 -->\r\n",
       "<g id=\"node5\" class=\"node\"><title>4</title>\r\n",
       "<polygon fill=\"none\" stroke=\"black\" points=\"545.423,-111.345 489.423,-111.345 489.423,-75.3454 545.423,-75.3454 545.423,-111.345\"/>\r\n",
       "<text text-anchor=\"middle\" x=\"517.423\" y=\"-89.6454\" font-family=\"Times New Roman,serif\" font-size=\"14.00\">leaf=&#45;0</text>\r\n",
       "</g>\r\n",
       "<!-- 1&#45;&gt;4 -->\r\n",
       "<g id=\"edge4\" class=\"edge\"><title>1&#45;&gt;4</title>\r\n",
       "<path fill=\"none\" stroke=\"#ff0000\" d=\"M324.679,-107.963C372.156,-104.343 438.161,-99.3115 479.04,-96.1952\"/>\r\n",
       "<polygon fill=\"#ff0000\" stroke=\"#ff0000\" points=\"479.41,-99.6773 489.115,-95.4272 478.878,-92.6975 479.41,-99.6773\"/>\r\n",
       "<text text-anchor=\"middle\" x=\"377.181\" y=\"-110.145\" font-family=\"Times New Roman,serif\" font-size=\"14.00\">no</text>\r\n",
       "</g>\r\n",
       "<!-- 5 -->\r\n",
       "<g id=\"node6\" class=\"node\"><title>5</title>\r\n",
       "<polygon fill=\"none\" stroke=\"black\" points=\"810.165,-262.345 710.165,-262.345 710.165,-226.345 810.165,-226.345 810.165,-262.345\"/>\r\n",
       "<text text-anchor=\"middle\" x=\"760.165\" y=\"-240.645\" font-family=\"Times New Roman,serif\" font-size=\"14.00\">leaf=&#45;0.147795</text>\r\n",
       "</g>\r\n",
       "<!-- 3&#45;&gt;5 -->\r\n",
       "<g id=\"edge5\" class=\"edge\"><title>3&#45;&gt;5</title>\r\n",
       "<path fill=\"none\" stroke=\"#0000ff\" d=\"M604.656,-227.017C636.139,-230.548 671.018,-234.459 699.658,-237.672\"/>\r\n",
       "<polygon fill=\"#0000ff\" stroke=\"#0000ff\" points=\"699.582,-241.185 709.909,-238.821 700.362,-234.228 699.582,-241.185\"/>\r\n",
       "<text text-anchor=\"middle\" x=\"657.665\" y=\"-241.145\" font-family=\"Times New Roman,serif\" font-size=\"14.00\">yes, missing</text>\r\n",
       "</g>\r\n",
       "<!-- 6 -->\r\n",
       "<g id=\"node7\" class=\"node\"><title>6</title>\r\n",
       "<polygon fill=\"none\" stroke=\"black\" points=\"788.165,-208.345 732.165,-208.345 732.165,-172.345 788.165,-172.345 788.165,-208.345\"/>\r\n",
       "<text text-anchor=\"middle\" x=\"760.165\" y=\"-186.645\" font-family=\"Times New Roman,serif\" font-size=\"14.00\">leaf=&#45;0</text>\r\n",
       "</g>\r\n",
       "<!-- 3&#45;&gt;6 -->\r\n",
       "<g id=\"edge6\" class=\"edge\"><title>3&#45;&gt;6</title>\r\n",
       "<path fill=\"none\" stroke=\"#ff0000\" d=\"M604.656,-207.674C644.9,-203.161 690.694,-198.025 721.912,-194.524\"/>\r\n",
       "<polygon fill=\"#ff0000\" stroke=\"#ff0000\" points=\"722.363,-197.995 731.911,-193.402 721.583,-191.039 722.363,-197.995\"/>\r\n",
       "<text text-anchor=\"middle\" x=\"657.665\" y=\"-210.145\" font-family=\"Times New Roman,serif\" font-size=\"14.00\">no</text>\r\n",
       "</g>\r\n",
       "</g>\r\n",
       "</svg>\r\n"
      ],
      "text/plain": [
       "<graphviz.dot.Digraph at 0x75f57b8>"
      ]
     },
     "execution_count": 42,
     "metadata": {},
     "output_type": "execute_result"
    }
   ],
   "source": [
    "xgb.to_graphviz(bestXGB, num_trees=2, rankdir='LR' )"
   ]
  },
  {
   "cell_type": "code",
   "execution_count": 43,
   "metadata": {
    "collapsed": false
   },
   "outputs": [
    {
     "data": {
      "image/svg+xml": [
       "<?xml version=\"1.0\" encoding=\"UTF-8\" standalone=\"no\"?>\r\n",
       "<!DOCTYPE svg PUBLIC \"-//W3C//DTD SVG 1.1//EN\"\r\n",
       " \"http://www.w3.org/Graphics/SVG/1.1/DTD/svg11.dtd\">\r\n",
       "<!-- Generated by graphviz version 2.38.0 (20140413.2041)\r\n",
       " -->\r\n",
       "<!-- Title: %3 Pages: 1 -->\r\n",
       "<svg width=\"812pt\" height=\"346pt\"\r\n",
       " viewBox=\"0.00 0.00 812.46 346.34\" xmlns=\"http://www.w3.org/2000/svg\" xmlns:xlink=\"http://www.w3.org/1999/xlink\">\r\n",
       "<g id=\"graph0\" class=\"graph\" transform=\"scale(1 1) rotate(0) translate(4 342.339)\">\r\n",
       "<title>%3</title>\r\n",
       "<polygon fill=\"white\" stroke=\"none\" points=\"-4,4 -4,-342.339 808.465,-342.339 808.465,4 -4,4\"/>\r\n",
       "<!-- 0 -->\r\n",
       "<g id=\"node1\" class=\"node\"><title>0</title>\r\n",
       "<ellipse fill=\"none\" stroke=\"black\" cx=\"68.8939\" cy=\"-186.243\" rx=\"68.7879\" ry=\"68.7879\"/>\r\n",
       "<text text-anchor=\"middle\" x=\"68.8939\" y=\"-182.543\" font-family=\"Times New Roman,serif\" font-size=\"14.00\">bare_nuclei&lt;2.5</text>\r\n",
       "</g>\r\n",
       "<!-- 1 -->\r\n",
       "<g id=\"node2\" class=\"node\"><title>1</title>\r\n",
       "<ellipse fill=\"none\" stroke=\"black\" cx=\"324.031\" cy=\"-258.243\" rx=\"77.9862\" ry=\"77.9862\"/>\r\n",
       "<text text-anchor=\"middle\" x=\"324.031\" y=\"-254.543\" font-family=\"Times New Roman,serif\" font-size=\"14.00\">normal_nucleoli&lt;4</text>\r\n",
       "</g>\r\n",
       "<!-- 0&#45;&gt;1 -->\r\n",
       "<g id=\"edge1\" class=\"edge\"><title>0&#45;&gt;1</title>\r\n",
       "<path fill=\"none\" stroke=\"#0000ff\" d=\"M135.412,-204.878C167.011,-213.866 205.286,-224.753 239.003,-234.343\"/>\r\n",
       "<polygon fill=\"#0000ff\" stroke=\"#0000ff\" points=\"238.268,-237.772 248.844,-237.142 240.183,-231.04 238.268,-237.772\"/>\r\n",
       "<text text-anchor=\"middle\" x=\"190.288\" y=\"-233.043\" font-family=\"Times New Roman,serif\" font-size=\"14.00\">yes, missing</text>\r\n",
       "</g>\r\n",
       "<!-- 2 -->\r\n",
       "<g id=\"node3\" class=\"node\"><title>2</title>\r\n",
       "<ellipse fill=\"none\" stroke=\"black\" cx=\"324.031\" cy=\"-81.2428\" rx=\"81.4863\" ry=\"81.4863\"/>\r\n",
       "<text text-anchor=\"middle\" x=\"324.031\" y=\"-77.5428\" font-family=\"Times New Roman,serif\" font-size=\"14.00\">bland_chromatin&lt;3</text>\r\n",
       "</g>\r\n",
       "<!-- 0&#45;&gt;2 -->\r\n",
       "<g id=\"edge2\" class=\"edge\"><title>0&#45;&gt;2</title>\r\n",
       "<path fill=\"none\" stroke=\"#ff0000\" d=\"M132.792,-160.153C164.914,-146.829 204.435,-130.436 239.116,-116.05\"/>\r\n",
       "<polygon fill=\"#ff0000\" stroke=\"#ff0000\" points=\"240.864,-119.114 248.76,-112.05 238.182,-112.649 240.864,-119.114\"/>\r\n",
       "<text text-anchor=\"middle\" x=\"190.288\" y=\"-154.043\" font-family=\"Times New Roman,serif\" font-size=\"14.00\">no</text>\r\n",
       "</g>\r\n",
       "<!-- 3 -->\r\n",
       "<g id=\"node4\" class=\"node\"><title>3</title>\r\n",
       "<ellipse fill=\"none\" stroke=\"black\" cx=\"558.369\" cy=\"-290.243\" rx=\"48.1917\" ry=\"48.1917\"/>\r\n",
       "<text text-anchor=\"middle\" x=\"558.369\" y=\"-286.543\" font-family=\"Times New Roman,serif\" font-size=\"14.00\">mitoses&lt;3</text>\r\n",
       "</g>\r\n",
       "<!-- 1&#45;&gt;3 -->\r\n",
       "<g id=\"edge3\" class=\"edge\"><title>1&#45;&gt;3</title>\r\n",
       "<path fill=\"none\" stroke=\"#0000ff\" d=\"M401.429,-268.765C433.61,-273.197 470.421,-278.267 500.195,-282.368\"/>\r\n",
       "<polygon fill=\"#0000ff\" stroke=\"#0000ff\" points=\"500.029,-285.878 510.413,-283.776 500.984,-278.944 500.029,-285.878\"/>\r\n",
       "<text text-anchor=\"middle\" x=\"457.773\" y=\"-284.043\" font-family=\"Times New Roman,serif\" font-size=\"14.00\">yes, missing</text>\r\n",
       "</g>\r\n",
       "<!-- 4 -->\r\n",
       "<g id=\"node5\" class=\"node\"><title>4</title>\r\n",
       "<polygon fill=\"none\" stroke=\"black\" points=\"586.369,-224.243 530.369,-224.243 530.369,-188.243 586.369,-188.243 586.369,-224.243\"/>\r\n",
       "<text text-anchor=\"middle\" x=\"558.369\" y=\"-202.543\" font-family=\"Times New Roman,serif\" font-size=\"14.00\">leaf=&#45;0</text>\r\n",
       "</g>\r\n",
       "<!-- 1&#45;&gt;4 -->\r\n",
       "<g id=\"edge4\" class=\"edge\"><title>1&#45;&gt;4</title>\r\n",
       "<path fill=\"none\" stroke=\"#ff0000\" d=\"M400.464,-241.36C440.637,-232.369 488.252,-221.712 520.408,-214.515\"/>\r\n",
       "<polygon fill=\"#ff0000\" stroke=\"#ff0000\" points=\"521.282,-217.906 530.276,-212.306 519.753,-211.075 521.282,-217.906\"/>\r\n",
       "<text text-anchor=\"middle\" x=\"457.773\" y=\"-239.043\" font-family=\"Times New Roman,serif\" font-size=\"14.00\">no</text>\r\n",
       "</g>\r\n",
       "<!-- 5 -->\r\n",
       "<g id=\"node8\" class=\"node\"><title>5</title>\r\n",
       "<polygon fill=\"none\" stroke=\"black\" points=\"586.369,-149.243 530.369,-149.243 530.369,-113.243 586.369,-113.243 586.369,-149.243\"/>\r\n",
       "<text text-anchor=\"middle\" x=\"558.369\" y=\"-127.543\" font-family=\"Times New Roman,serif\" font-size=\"14.00\">leaf=&#45;0</text>\r\n",
       "</g>\r\n",
       "<!-- 2&#45;&gt;5 -->\r\n",
       "<g id=\"edge7\" class=\"edge\"><title>2&#45;&gt;5</title>\r\n",
       "<path fill=\"none\" stroke=\"#0000ff\" d=\"M403.69,-98.1705C443.076,-106.647 488.906,-116.509 520.201,-123.244\"/>\r\n",
       "<polygon fill=\"#0000ff\" stroke=\"#0000ff\" points=\"519.714,-126.719 530.227,-125.402 521.187,-119.876 519.714,-126.719\"/>\r\n",
       "<text text-anchor=\"middle\" x=\"457.773\" y=\"-121.043\" font-family=\"Times New Roman,serif\" font-size=\"14.00\">yes, missing</text>\r\n",
       "</g>\r\n",
       "<!-- 6 -->\r\n",
       "<g id=\"node9\" class=\"node\"><title>6</title>\r\n",
       "<polygon fill=\"none\" stroke=\"black\" points=\"605.869,-95.2428 510.869,-95.2428 510.869,-59.2428 605.869,-59.2428 605.869,-95.2428\"/>\r\n",
       "<text text-anchor=\"middle\" x=\"558.369\" y=\"-73.5428\" font-family=\"Times New Roman,serif\" font-size=\"14.00\">leaf=0.112246</text>\r\n",
       "</g>\r\n",
       "<!-- 2&#45;&gt;6 -->\r\n",
       "<g id=\"edge8\" class=\"edge\"><title>2&#45;&gt;6</title>\r\n",
       "<path fill=\"none\" stroke=\"#ff0000\" d=\"M405.314,-79.8606C436.621,-79.3216 471.784,-78.7162 500.405,-78.2235\"/>\r\n",
       "<polygon fill=\"#ff0000\" stroke=\"#ff0000\" points=\"500.695,-81.7191 510.634,-78.0474 500.575,-74.7202 500.695,-81.7191\"/>\r\n",
       "<text text-anchor=\"middle\" x=\"457.773\" y=\"-84.0428\" font-family=\"Times New Roman,serif\" font-size=\"14.00\">no</text>\r\n",
       "</g>\r\n",
       "<!-- 7 -->\r\n",
       "<g id=\"node6\" class=\"node\"><title>7</title>\r\n",
       "<polygon fill=\"none\" stroke=\"black\" points=\"804.465,-335.243 711.465,-335.243 711.465,-299.243 804.465,-299.243 804.465,-335.243\"/>\r\n",
       "<text text-anchor=\"middle\" x=\"757.965\" y=\"-313.543\" font-family=\"Times New Roman,serif\" font-size=\"14.00\">leaf=&#45;0.14141</text>\r\n",
       "</g>\r\n",
       "<!-- 3&#45;&gt;7 -->\r\n",
       "<g id=\"edge5\" class=\"edge\"><title>3&#45;&gt;7</title>\r\n",
       "<path fill=\"none\" stroke=\"#0000ff\" d=\"M606.197,-296.641C634.577,-300.519 670.956,-305.49 700.868,-309.578\"/>\r\n",
       "<polygon fill=\"#0000ff\" stroke=\"#0000ff\" points=\"700.773,-313.097 711.155,-310.983 701.721,-306.162 700.773,-313.097\"/>\r\n",
       "<text text-anchor=\"middle\" x=\"658.965\" y=\"-312.043\" font-family=\"Times New Roman,serif\" font-size=\"14.00\">yes, missing</text>\r\n",
       "</g>\r\n",
       "<!-- 8 -->\r\n",
       "<g id=\"node7\" class=\"node\"><title>8</title>\r\n",
       "<polygon fill=\"none\" stroke=\"black\" points=\"785.965,-281.243 729.965,-281.243 729.965,-245.243 785.965,-245.243 785.965,-281.243\"/>\r\n",
       "<text text-anchor=\"middle\" x=\"757.965\" y=\"-259.543\" font-family=\"Times New Roman,serif\" font-size=\"14.00\">leaf=&#45;0</text>\r\n",
       "</g>\r\n",
       "<!-- 3&#45;&gt;8 -->\r\n",
       "<g id=\"edge6\" class=\"edge\"><title>3&#45;&gt;8</title>\r\n",
       "<path fill=\"none\" stroke=\"#ff0000\" d=\"M605.93,-282.947C612.158,-282.013 618.464,-281.089 624.465,-280.243 656.599,-275.714 693.19,-271.057 719.766,-267.765\"/>\r\n",
       "<polygon fill=\"#ff0000\" stroke=\"#ff0000\" points=\"720.289,-271.227 729.786,-266.53 719.432,-264.28 720.289,-271.227\"/>\r\n",
       "<text text-anchor=\"middle\" x=\"658.965\" y=\"-284.043\" font-family=\"Times New Roman,serif\" font-size=\"14.00\">no</text>\r\n",
       "</g>\r\n",
       "</g>\r\n",
       "</svg>\r\n"
      ],
      "text/plain": [
       "<graphviz.dot.Digraph at 0x75f56d8>"
      ]
     },
     "execution_count": 43,
     "metadata": {},
     "output_type": "execute_result"
    }
   ],
   "source": [
    "xgb.to_graphviz(bestXGB, num_trees=3, rankdir='LR' )"
   ]
  },
  {
   "cell_type": "code",
   "execution_count": 44,
   "metadata": {
    "collapsed": false
   },
   "outputs": [
    {
     "data": {
      "image/svg+xml": [
       "<?xml version=\"1.0\" encoding=\"UTF-8\" standalone=\"no\"?>\r\n",
       "<!DOCTYPE svg PUBLIC \"-//W3C//DTD SVG 1.1//EN\"\r\n",
       " \"http://www.w3.org/Graphics/SVG/1.1/DTD/svg11.dtd\">\r\n",
       "<!-- Generated by graphviz version 2.38.0 (20140413.2041)\r\n",
       " -->\r\n",
       "<!-- Title: %3 Pages: 1 -->\r\n",
       "<svg width=\"923pt\" height=\"432pt\"\r\n",
       " viewBox=\"0.00 0.00 923.46 431.99\" xmlns=\"http://www.w3.org/2000/svg\" xmlns:xlink=\"http://www.w3.org/1999/xlink\">\r\n",
       "<g id=\"graph0\" class=\"graph\" transform=\"scale(1 1) rotate(0) translate(4 427.985)\">\r\n",
       "<title>%3</title>\r\n",
       "<polygon fill=\"white\" stroke=\"none\" points=\"-4,4 -4,-427.985 919.456,-427.985 919.456,4 -4,4\"/>\r\n",
       "<!-- 0 -->\r\n",
       "<g id=\"node1\" class=\"node\"><title>0</title>\r\n",
       "<ellipse fill=\"none\" stroke=\"black\" cx=\"81.2428\" cy=\"-188.243\" rx=\"81.4863\" ry=\"81.4863\"/>\r\n",
       "<text text-anchor=\"middle\" x=\"81.2428\" y=\"-184.543\" font-family=\"Times New Roman,serif\" font-size=\"14.00\">bland_chromatin&lt;4</text>\r\n",
       "</g>\r\n",
       "<!-- 1 -->\r\n",
       "<g id=\"node2\" class=\"node\"><title>1</title>\r\n",
       "<ellipse fill=\"none\" stroke=\"black\" cx=\"348.728\" cy=\"-261.243\" rx=\"81.4863\" ry=\"81.4863\"/>\r\n",
       "<text text-anchor=\"middle\" x=\"348.728\" y=\"-257.543\" font-family=\"Times New Roman,serif\" font-size=\"14.00\">clump_thickness&lt;7</text>\r\n",
       "</g>\r\n",
       "<!-- 0&#45;&gt;1 -->\r\n",
       "<g id=\"edge1\" class=\"edge\"><title>0&#45;&gt;1</title>\r\n",
       "<path fill=\"none\" stroke=\"#0000ff\" d=\"M159.746,-209.554C191.231,-218.211 227.763,-228.256 260.203,-237.176\"/>\r\n",
       "<polygon fill=\"#0000ff\" stroke=\"#0000ff\" points=\"259.559,-240.629 270.129,-239.905 261.415,-233.879 259.559,-240.629\"/>\r\n",
       "<text text-anchor=\"middle\" x=\"214.986\" y=\"-238.043\" font-family=\"Times New Roman,serif\" font-size=\"14.00\">yes, missing</text>\r\n",
       "</g>\r\n",
       "<!-- 2 -->\r\n",
       "<g id=\"node3\" class=\"node\"><title>2</title>\r\n",
       "<ellipse fill=\"none\" stroke=\"black\" cx=\"348.728\" cy=\"-81.2428\" rx=\"81.4863\" ry=\"81.4863\"/>\r\n",
       "<text text-anchor=\"middle\" x=\"348.728\" y=\"-77.5428\" font-family=\"Times New Roman,serif\" font-size=\"14.00\">clump_thickness&lt;4</text>\r\n",
       "</g>\r\n",
       "<!-- 0&#45;&gt;2 -->\r\n",
       "<g id=\"edge2\" class=\"edge\"><title>0&#45;&gt;2</title>\r\n",
       "<path fill=\"none\" stroke=\"#ff0000\" d=\"M156.902,-158.153C190.126,-144.762 229.398,-128.934 263.651,-115.129\"/>\r\n",
       "<polygon fill=\"#ff0000\" stroke=\"#ff0000\" points=\"265.204,-118.277 273.17,-111.292 262.587,-111.784 265.204,-118.277\"/>\r\n",
       "<text text-anchor=\"middle\" x=\"214.986\" y=\"-152.043\" font-family=\"Times New Roman,serif\" font-size=\"14.00\">no</text>\r\n",
       "</g>\r\n",
       "<!-- 3 -->\r\n",
       "<g id=\"node4\" class=\"node\"><title>3</title>\r\n",
       "<ellipse fill=\"none\" stroke=\"black\" cx=\"622.713\" cy=\"-336.243\" rx=\"87.9851\" ry=\"87.9851\"/>\r\n",
       "<text text-anchor=\"middle\" x=\"622.713\" y=\"-332.543\" font-family=\"Times New Roman,serif\" font-size=\"14.00\">marginal_adhesion&lt;6</text>\r\n",
       "</g>\r\n",
       "<!-- 1&#45;&gt;3 -->\r\n",
       "<g id=\"edge3\" class=\"edge\"><title>1&#45;&gt;3</title>\r\n",
       "<path fill=\"none\" stroke=\"#0000ff\" d=\"M427.304,-282.634C458.609,-291.267 495.013,-301.305 527.797,-310.345\"/>\r\n",
       "<polygon fill=\"#0000ff\" stroke=\"#0000ff\" points=\"527.275,-313.832 537.846,-313.116 529.136,-307.084 527.275,-313.832\"/>\r\n",
       "<text text-anchor=\"middle\" x=\"482.471\" y=\"-310.043\" font-family=\"Times New Roman,serif\" font-size=\"14.00\">yes, missing</text>\r\n",
       "</g>\r\n",
       "<!-- 4 -->\r\n",
       "<g id=\"node5\" class=\"node\"><title>4</title>\r\n",
       "<polygon fill=\"none\" stroke=\"black\" points=\"650.713,-230.243 594.713,-230.243 594.713,-194.243 650.713,-194.243 650.713,-230.243\"/>\r\n",
       "<text text-anchor=\"middle\" x=\"622.713\" y=\"-208.543\" font-family=\"Times New Roman,serif\" font-size=\"14.00\">leaf=&#45;0</text>\r\n",
       "</g>\r\n",
       "<!-- 1&#45;&gt;4 -->\r\n",
       "<g id=\"edge4\" class=\"edge\"><title>1&#45;&gt;4</title>\r\n",
       "<path fill=\"none\" stroke=\"#ff0000\" d=\"M428.763,-247.004C480.019,-237.77 544.451,-226.162 584.358,-218.973\"/>\r\n",
       "<polygon fill=\"#ff0000\" stroke=\"#ff0000\" points=\"585.221,-222.374 594.442,-217.156 583.98,-215.484 585.221,-222.374\"/>\r\n",
       "<text text-anchor=\"middle\" x=\"482.471\" y=\"-247.043\" font-family=\"Times New Roman,serif\" font-size=\"14.00\">no</text>\r\n",
       "</g>\r\n",
       "<!-- 5 -->\r\n",
       "<g id=\"node8\" class=\"node\"><title>5</title>\r\n",
       "<polygon fill=\"none\" stroke=\"black\" points=\"650.713,-140.243 594.713,-140.243 594.713,-104.243 650.713,-104.243 650.713,-140.243\"/>\r\n",
       "<text text-anchor=\"middle\" x=\"622.713\" y=\"-118.543\" font-family=\"Times New Roman,serif\" font-size=\"14.00\">leaf=&#45;0</text>\r\n",
       "</g>\r\n",
       "<!-- 2&#45;&gt;5 -->\r\n",
       "<g id=\"edge7\" class=\"edge\"><title>2&#45;&gt;5</title>\r\n",
       "<path fill=\"none\" stroke=\"#0000ff\" d=\"M429.082,-93.3794C435.473,-94.3505 441.83,-95.3144 447.971,-96.2428 494.978,-103.349 549.155,-111.44 584.343,-116.683\"/>\r\n",
       "<polygon fill=\"#0000ff\" stroke=\"#0000ff\" points=\"584.218,-120.203 594.625,-118.214 585.249,-113.279 584.218,-120.203\"/>\r\n",
       "<text text-anchor=\"middle\" x=\"482.471\" y=\"-111.043\" font-family=\"Times New Roman,serif\" font-size=\"14.00\">yes, missing</text>\r\n",
       "</g>\r\n",
       "<!-- 6 -->\r\n",
       "<g id=\"node9\" class=\"node\"><title>6</title>\r\n",
       "<polygon fill=\"none\" stroke=\"black\" points=\"673.713,-86.2428 571.713,-86.2428 571.713,-50.2428 673.713,-50.2428 673.713,-86.2428\"/>\r\n",
       "<text text-anchor=\"middle\" x=\"622.713\" y=\"-64.5428\" font-family=\"Times New Roman,serif\" font-size=\"14.00\">leaf=0.0973857</text>\r\n",
       "</g>\r\n",
       "<!-- 2&#45;&gt;6 -->\r\n",
       "<g id=\"edge8\" class=\"edge\"><title>2&#45;&gt;6</title>\r\n",
       "<path fill=\"none\" stroke=\"#ff0000\" d=\"M430.229,-77.3951C472.217,-75.3882 522.724,-72.9742 561.321,-71.1293\"/>\r\n",
       "<polygon fill=\"#ff0000\" stroke=\"#ff0000\" points=\"561.547,-74.6226 571.369,-70.6491 561.213,-67.6306 561.547,-74.6226\"/>\r\n",
       "<text text-anchor=\"middle\" x=\"482.471\" y=\"-81.0428\" font-family=\"Times New Roman,serif\" font-size=\"14.00\">no</text>\r\n",
       "</g>\r\n",
       "<!-- 7 -->\r\n",
       "<g id=\"node6\" class=\"node\"><title>7</title>\r\n",
       "<polygon fill=\"none\" stroke=\"black\" points=\"915.456,-381.243 815.456,-381.243 815.456,-345.243 915.456,-345.243 915.456,-381.243\"/>\r\n",
       "<text text-anchor=\"middle\" x=\"865.456\" y=\"-359.543\" font-family=\"Times New Roman,serif\" font-size=\"14.00\">leaf=&#45;0.132989</text>\r\n",
       "</g>\r\n",
       "<!-- 3&#45;&gt;7 -->\r\n",
       "<g id=\"edge5\" class=\"edge\"><title>3&#45;&gt;7</title>\r\n",
       "<path fill=\"none\" stroke=\"#0000ff\" d=\"M709.947,-345.914C741.429,-349.445 776.308,-353.357 804.948,-356.569\"/>\r\n",
       "<polygon fill=\"#0000ff\" stroke=\"#0000ff\" points=\"804.872,-360.082 815.2,-357.719 805.653,-353.126 804.872,-360.082\"/>\r\n",
       "<text text-anchor=\"middle\" x=\"762.956\" y=\"-359.043\" font-family=\"Times New Roman,serif\" font-size=\"14.00\">yes, missing</text>\r\n",
       "</g>\r\n",
       "<!-- 8 -->\r\n",
       "<g id=\"node7\" class=\"node\"><title>8</title>\r\n",
       "<polygon fill=\"none\" stroke=\"black\" points=\"893.456,-327.243 837.456,-327.243 837.456,-291.243 893.456,-291.243 893.456,-327.243\"/>\r\n",
       "<text text-anchor=\"middle\" x=\"865.456\" y=\"-305.543\" font-family=\"Times New Roman,serif\" font-size=\"14.00\">leaf=&#45;0</text>\r\n",
       "</g>\r\n",
       "<!-- 3&#45;&gt;8 -->\r\n",
       "<g id=\"edge6\" class=\"edge\"><title>3&#45;&gt;8</title>\r\n",
       "<path fill=\"none\" stroke=\"#ff0000\" d=\"M709.947,-326.571C750.191,-322.058 795.984,-316.922 827.202,-313.421\"/>\r\n",
       "<polygon fill=\"#ff0000\" stroke=\"#ff0000\" points=\"827.654,-316.892 837.202,-312.299 826.874,-309.936 827.654,-316.892\"/>\r\n",
       "<text text-anchor=\"middle\" x=\"762.956\" y=\"-329.043\" font-family=\"Times New Roman,serif\" font-size=\"14.00\">no</text>\r\n",
       "</g>\r\n",
       "</g>\r\n",
       "</svg>\r\n"
      ],
      "text/plain": [
       "<graphviz.dot.Digraph at 0x75f5358>"
      ]
     },
     "execution_count": 44,
     "metadata": {},
     "output_type": "execute_result"
    }
   ],
   "source": [
    "xgb.to_graphviz(bestXGB, num_trees=4, rankdir='LR' )"
   ]
  },
  {
   "cell_type": "code",
   "execution_count": 45,
   "metadata": {
    "collapsed": false
   },
   "outputs": [
    {
     "data": {
      "image/svg+xml": [
       "<?xml version=\"1.0\" encoding=\"UTF-8\" standalone=\"no\"?>\r\n",
       "<!DOCTYPE svg PUBLIC \"-//W3C//DTD SVG 1.1//EN\"\r\n",
       " \"http://www.w3.org/Graphics/SVG/1.1/DTD/svg11.dtd\">\r\n",
       "<!-- Generated by graphviz version 2.38.0 (20140413.2041)\r\n",
       " -->\r\n",
       "<!-- Title: %3 Pages: 1 -->\r\n",
       "<svg width=\"583pt\" height=\"326pt\"\r\n",
       " viewBox=\"0.00 0.00 583.18 326.14\" xmlns=\"http://www.w3.org/2000/svg\" xmlns:xlink=\"http://www.w3.org/1999/xlink\">\r\n",
       "<g id=\"graph0\" class=\"graph\" transform=\"scale(1 1) rotate(0) translate(4 322.137)\">\r\n",
       "<title>%3</title>\r\n",
       "<polygon fill=\"white\" stroke=\"none\" points=\"-4,4 -4,-322.137 579.176,-322.137 579.176,4 -4,4\"/>\r\n",
       "<!-- 0 -->\r\n",
       "<g id=\"node1\" class=\"node\"><title>0</title>\r\n",
       "<ellipse fill=\"none\" stroke=\"black\" cx=\"51.3454\" cy=\"-181.243\" rx=\"51.1914\" ry=\"51.1914\"/>\r\n",
       "<text text-anchor=\"middle\" x=\"51.3454\" y=\"-177.543\" font-family=\"Times New Roman,serif\" font-size=\"14.00\">cell_size&lt;4</text>\r\n",
       "</g>\r\n",
       "<!-- 1 -->\r\n",
       "<g id=\"node2\" class=\"node\"><title>1</title>\r\n",
       "<ellipse fill=\"none\" stroke=\"black\" cx=\"288.934\" cy=\"-249.243\" rx=\"68.7879\" ry=\"68.7879\"/>\r\n",
       "<text text-anchor=\"middle\" x=\"288.934\" y=\"-245.543\" font-family=\"Times New Roman,serif\" font-size=\"14.00\">bare_nuclei&lt;2.5</text>\r\n",
       "</g>\r\n",
       "<!-- 0&#45;&gt;1 -->\r\n",
       "<g id=\"edge1\" class=\"edge\"><title>0&#45;&gt;1</title>\r\n",
       "<path fill=\"none\" stroke=\"#0000ff\" d=\"M100.874,-195.25C133.146,-204.565 176.176,-216.985 212.83,-227.565\"/>\r\n",
       "<polygon fill=\"#0000ff\" stroke=\"#0000ff\" points=\"211.912,-230.943 222.491,-230.353 213.854,-224.217 211.912,-230.943\"/>\r\n",
       "<text text-anchor=\"middle\" x=\"155.191\" y=\"-223.043\" font-family=\"Times New Roman,serif\" font-size=\"14.00\">yes, missing</text>\r\n",
       "</g>\r\n",
       "<!-- 2 -->\r\n",
       "<g id=\"node3\" class=\"node\"><title>2</title>\r\n",
       "<ellipse fill=\"none\" stroke=\"black\" cx=\"288.934\" cy=\"-81.2428\" rx=\"81.4863\" ry=\"81.4863\"/>\r\n",
       "<text text-anchor=\"middle\" x=\"288.934\" y=\"-77.5428\" font-family=\"Times New Roman,serif\" font-size=\"14.00\">bland_chromatin&lt;3</text>\r\n",
       "</g>\r\n",
       "<!-- 0&#45;&gt;2 -->\r\n",
       "<g id=\"edge2\" class=\"edge\"><title>0&#45;&gt;2</title>\r\n",
       "<path fill=\"none\" stroke=\"#ff0000\" d=\"M98.8901,-161.486C128.926,-148.737 168.861,-131.785 204.286,-116.749\"/>\r\n",
       "<polygon fill=\"#ff0000\" stroke=\"#ff0000\" points=\"205.827,-119.897 213.665,-112.768 203.092,-113.453 205.827,-119.897\"/>\r\n",
       "<text text-anchor=\"middle\" x=\"155.191\" y=\"-155.043\" font-family=\"Times New Roman,serif\" font-size=\"14.00\">no</text>\r\n",
       "</g>\r\n",
       "<!-- 3 -->\r\n",
       "<g id=\"node4\" class=\"node\"><title>3</title>\r\n",
       "<polygon fill=\"none\" stroke=\"black\" points=\"575.176,-294.243 475.176,-294.243 475.176,-258.243 575.176,-258.243 575.176,-294.243\"/>\r\n",
       "<text text-anchor=\"middle\" x=\"525.176\" y=\"-272.543\" font-family=\"Times New Roman,serif\" font-size=\"14.00\">leaf=&#45;0.129734</text>\r\n",
       "</g>\r\n",
       "<!-- 1&#45;&gt;3 -->\r\n",
       "<g id=\"edge3\" class=\"edge\"><title>1&#45;&gt;3</title>\r\n",
       "<path fill=\"none\" stroke=\"#0000ff\" d=\"M357.686,-257.052C391.581,-260.959 432.228,-265.644 464.874,-269.407\"/>\r\n",
       "<polygon fill=\"#0000ff\" stroke=\"#0000ff\" points=\"464.839,-272.926 475.174,-270.595 465.641,-265.972 464.839,-272.926\"/>\r\n",
       "<text text-anchor=\"middle\" x=\"422.676\" y=\"-272.043\" font-family=\"Times New Roman,serif\" font-size=\"14.00\">yes, missing</text>\r\n",
       "</g>\r\n",
       "<!-- 4 -->\r\n",
       "<g id=\"node5\" class=\"node\"><title>4</title>\r\n",
       "<polygon fill=\"none\" stroke=\"black\" points=\"553.176,-240.243 497.176,-240.243 497.176,-204.243 553.176,-204.243 553.176,-240.243\"/>\r\n",
       "<text text-anchor=\"middle\" x=\"525.176\" y=\"-218.543\" font-family=\"Times New Roman,serif\" font-size=\"14.00\">leaf=&#45;0</text>\r\n",
       "</g>\r\n",
       "<!-- 1&#45;&gt;4 -->\r\n",
       "<g id=\"edge4\" class=\"edge\"><title>1&#45;&gt;4</title>\r\n",
       "<path fill=\"none\" stroke=\"#ff0000\" d=\"M357.686,-241.433C399.687,-236.592 452.056,-230.556 486.722,-226.56\"/>\r\n",
       "<polygon fill=\"#ff0000\" stroke=\"#ff0000\" points=\"487.348,-230.011 496.882,-225.389 486.547,-223.057 487.348,-230.011\"/>\r\n",
       "<text text-anchor=\"middle\" x=\"422.676\" y=\"-241.043\" font-family=\"Times New Roman,serif\" font-size=\"14.00\">no</text>\r\n",
       "</g>\r\n",
       "<!-- 5 -->\r\n",
       "<g id=\"node6\" class=\"node\"><title>5</title>\r\n",
       "<polygon fill=\"none\" stroke=\"black\" points=\"553.176,-126.243 497.176,-126.243 497.176,-90.2428 553.176,-90.2428 553.176,-126.243\"/>\r\n",
       "<text text-anchor=\"middle\" x=\"525.176\" y=\"-104.543\" font-family=\"Times New Roman,serif\" font-size=\"14.00\">leaf=&#45;0</text>\r\n",
       "</g>\r\n",
       "<!-- 2&#45;&gt;5 -->\r\n",
       "<g id=\"edge5\" class=\"edge\"><title>2&#45;&gt;5</title>\r\n",
       "<path fill=\"none\" stroke=\"#0000ff\" d=\"M369.892,-90.4591C409.544,-95.0296 455.536,-100.331 486.919,-103.948\"/>\r\n",
       "<polygon fill=\"#0000ff\" stroke=\"#0000ff\" points=\"486.637,-107.439 496.972,-105.107 487.439,-100.485 486.637,-107.439\"/>\r\n",
       "<text text-anchor=\"middle\" x=\"422.676\" y=\"-104.043\" font-family=\"Times New Roman,serif\" font-size=\"14.00\">yes, missing</text>\r\n",
       "</g>\r\n",
       "<!-- 6 -->\r\n",
       "<g id=\"node7\" class=\"node\"><title>6</title>\r\n",
       "<polygon fill=\"none\" stroke=\"black\" points=\"572.676,-72.2428 477.676,-72.2428 477.676,-36.2428 572.676,-36.2428 572.676,-72.2428\"/>\r\n",
       "<text text-anchor=\"middle\" x=\"525.176\" y=\"-50.5428\" font-family=\"Times New Roman,serif\" font-size=\"14.00\">leaf=0.103318</text>\r\n",
       "</g>\r\n",
       "<!-- 2&#45;&gt;6 -->\r\n",
       "<g id=\"edge6\" class=\"edge\"><title>2&#45;&gt;6</title>\r\n",
       "<path fill=\"none\" stroke=\"#ff0000\" d=\"M369.892,-72.0264C401.902,-68.3367 438.044,-64.1708 467.297,-60.799\"/>\r\n",
       "<polygon fill=\"#ff0000\" stroke=\"#ff0000\" points=\"467.806,-64.2636 477.339,-59.6415 467.004,-57.3097 467.806,-64.2636\"/>\r\n",
       "<text text-anchor=\"middle\" x=\"422.676\" y=\"-73.0428\" font-family=\"Times New Roman,serif\" font-size=\"14.00\">no</text>\r\n",
       "</g>\r\n",
       "</g>\r\n",
       "</svg>\r\n"
      ],
      "text/plain": [
       "<graphviz.dot.Digraph at 0x75f0be0>"
      ]
     },
     "execution_count": 45,
     "metadata": {},
     "output_type": "execute_result"
    }
   ],
   "source": [
    "xgb.to_graphviz(bestXGB, num_trees=5, rankdir='LR' )"
   ]
  },
  {
   "cell_type": "code",
   "execution_count": 46,
   "metadata": {
    "collapsed": false
   },
   "outputs": [
    {
     "data": {
      "image/svg+xml": [
       "<?xml version=\"1.0\" encoding=\"UTF-8\" standalone=\"no\"?>\r\n",
       "<!DOCTYPE svg PUBLIC \"-//W3C//DTD SVG 1.1//EN\"\r\n",
       " \"http://www.w3.org/Graphics/SVG/1.1/DTD/svg11.dtd\">\r\n",
       "<!-- Generated by graphviz version 2.38.0 (20140413.2041)\r\n",
       " -->\r\n",
       "<!-- Title: %3 Pages: 1 -->\r\n",
       "<svg width=\"598pt\" height=\"304pt\"\r\n",
       " viewBox=\"0.00 0.00 598.18 304.09\" xmlns=\"http://www.w3.org/2000/svg\" xmlns:xlink=\"http://www.w3.org/1999/xlink\">\r\n",
       "<g id=\"graph0\" class=\"graph\" transform=\"scale(1 1) rotate(0) translate(4 300.088)\">\r\n",
       "<title>%3</title>\r\n",
       "<polygon fill=\"white\" stroke=\"none\" points=\"-4,4 -4,-300.088 594.175,-300.088 594.175,4 -4,4\"/>\r\n",
       "<!-- 0 -->\r\n",
       "<g id=\"node1\" class=\"node\"><title>0</title>\r\n",
       "<ellipse fill=\"none\" stroke=\"black\" cx=\"51.3454\" cy=\"-144.345\" rx=\"51.1914\" ry=\"51.1914\"/>\r\n",
       "<text text-anchor=\"middle\" x=\"51.3454\" y=\"-140.645\" font-family=\"Times New Roman,serif\" font-size=\"14.00\">cell_size&lt;3</text>\r\n",
       "</g>\r\n",
       "<!-- 1 -->\r\n",
       "<g id=\"node2\" class=\"node\"><title>1</title>\r\n",
       "<ellipse fill=\"none\" stroke=\"black\" cx=\"295.433\" cy=\"-208.345\" rx=\"87.9851\" ry=\"87.9851\"/>\r\n",
       "<text text-anchor=\"middle\" x=\"295.433\" y=\"-204.645\" font-family=\"Times New Roman,serif\" font-size=\"14.00\">marginal_adhesion&lt;4</text>\r\n",
       "</g>\r\n",
       "<!-- 0&#45;&gt;1 -->\r\n",
       "<g id=\"edge1\" class=\"edge\"><title>0&#45;&gt;1</title>\r\n",
       "<path fill=\"none\" stroke=\"#0000ff\" d=\"M101.335,-157.297C129.755,-164.81 166.505,-174.526 200.307,-183.461\"/>\r\n",
       "<polygon fill=\"#0000ff\" stroke=\"#0000ff\" points=\"199.657,-186.91 210.219,-186.082 201.446,-180.142 199.657,-186.91\"/>\r\n",
       "<text text-anchor=\"middle\" x=\"155.191\" y=\"-183.145\" font-family=\"Times New Roman,serif\" font-size=\"14.00\">yes, missing</text>\r\n",
       "</g>\r\n",
       "<!-- 2 -->\r\n",
       "<g id=\"node3\" class=\"node\"><title>2</title>\r\n",
       "<ellipse fill=\"none\" stroke=\"black\" cx=\"295.433\" cy=\"-51.3454\" rx=\"51.1914\" ry=\"51.1914\"/>\r\n",
       "<text text-anchor=\"middle\" x=\"295.433\" y=\"-47.6454\" font-family=\"Times New Roman,serif\" font-size=\"14.00\">cell_size&lt;4</text>\r\n",
       "</g>\r\n",
       "<!-- 0&#45;&gt;2 -->\r\n",
       "<g id=\"edge2\" class=\"edge\"><title>0&#45;&gt;2</title>\r\n",
       "<path fill=\"none\" stroke=\"#ff0000\" d=\"M99.5971,-126.193C139.171,-110.991 195.762,-89.2509 237.765,-73.1148\"/>\r\n",
       "<polygon fill=\"#ff0000\" stroke=\"#ff0000\" points=\"239.221,-76.3051 247.301,-69.4518 236.711,-69.7707 239.221,-76.3051\"/>\r\n",
       "<text text-anchor=\"middle\" x=\"155.191\" y=\"-120.145\" font-family=\"Times New Roman,serif\" font-size=\"14.00\">no</text>\r\n",
       "</g>\r\n",
       "<!-- 3 -->\r\n",
       "<g id=\"node4\" class=\"node\"><title>3</title>\r\n",
       "<polygon fill=\"none\" stroke=\"black\" points=\"589.175,-254.345 489.175,-254.345 489.175,-218.345 589.175,-218.345 589.175,-254.345\"/>\r\n",
       "<text text-anchor=\"middle\" x=\"539.175\" y=\"-232.645\" font-family=\"Times New Roman,serif\" font-size=\"14.00\">leaf=&#45;0.118563</text>\r\n",
       "</g>\r\n",
       "<!-- 1&#45;&gt;3 -->\r\n",
       "<g id=\"edge3\" class=\"edge\"><title>1&#45;&gt;3</title>\r\n",
       "<path fill=\"none\" stroke=\"#0000ff\" d=\"M382.684,-218.336C414.584,-222.03 449.998,-226.132 478.962,-229.487\"/>\r\n",
       "<polygon fill=\"#0000ff\" stroke=\"#0000ff\" points=\"478.585,-232.967 488.921,-230.641 479.39,-226.013 478.585,-232.967\"/>\r\n",
       "<text text-anchor=\"middle\" x=\"435.675\" y=\"-231.145\" font-family=\"Times New Roman,serif\" font-size=\"14.00\">yes, missing</text>\r\n",
       "</g>\r\n",
       "<!-- 4 -->\r\n",
       "<g id=\"node5\" class=\"node\"><title>4</title>\r\n",
       "<polygon fill=\"none\" stroke=\"black\" points=\"567.175,-200.345 511.175,-200.345 511.175,-164.345 567.175,-164.345 567.175,-200.345\"/>\r\n",
       "<text text-anchor=\"middle\" x=\"539.175\" y=\"-178.645\" font-family=\"Times New Roman,serif\" font-size=\"14.00\">leaf=&#45;0</text>\r\n",
       "</g>\r\n",
       "<!-- 1&#45;&gt;4 -->\r\n",
       "<g id=\"edge4\" class=\"edge\"><title>1&#45;&gt;4</title>\r\n",
       "<path fill=\"none\" stroke=\"#ff0000\" d=\"M382.684,-199.069C423.251,-194.706 469.501,-189.732 500.941,-186.35\"/>\r\n",
       "<polygon fill=\"#ff0000\" stroke=\"#ff0000\" points=\"501.437,-189.817 511.005,-185.268 500.688,-182.857 501.437,-189.817\"/>\r\n",
       "<text text-anchor=\"middle\" x=\"435.675\" y=\"-200.145\" font-family=\"Times New Roman,serif\" font-size=\"14.00\">no</text>\r\n",
       "</g>\r\n",
       "<!-- 5 -->\r\n",
       "<g id=\"node6\" class=\"node\"><title>5</title>\r\n",
       "<polygon fill=\"none\" stroke=\"black\" points=\"567.175,-121.345 511.175,-121.345 511.175,-85.3454 567.175,-85.3454 567.175,-121.345\"/>\r\n",
       "<text text-anchor=\"middle\" x=\"539.175\" y=\"-99.6454\" font-family=\"Times New Roman,serif\" font-size=\"14.00\">leaf=&#45;0</text>\r\n",
       "</g>\r\n",
       "<!-- 2&#45;&gt;5 -->\r\n",
       "<g id=\"edge5\" class=\"edge\"><title>2&#45;&gt;5</title>\r\n",
       "<path fill=\"none\" stroke=\"#0000ff\" d=\"M345.937,-61.9939C391.907,-71.8824 459.336,-86.3867 500.905,-95.3285\"/>\r\n",
       "<polygon fill=\"#0000ff\" stroke=\"#0000ff\" points=\"500.375,-98.7945 510.888,-97.4758 501.847,-91.951 500.375,-98.7945\"/>\r\n",
       "<text text-anchor=\"middle\" x=\"435.675\" y=\"-91.1454\" font-family=\"Times New Roman,serif\" font-size=\"14.00\">yes, missing</text>\r\n",
       "</g>\r\n",
       "<!-- 6 -->\r\n",
       "<g id=\"node7\" class=\"node\"><title>6</title>\r\n",
       "<polygon fill=\"none\" stroke=\"black\" points=\"590.175,-67.3454 488.175,-67.3454 488.175,-31.3454 590.175,-31.3454 590.175,-67.3454\"/>\r\n",
       "<text text-anchor=\"middle\" x=\"539.175\" y=\"-45.6454\" font-family=\"Times New Roman,serif\" font-size=\"14.00\">leaf=0.0912301</text>\r\n",
       "</g>\r\n",
       "<!-- 2&#45;&gt;6 -->\r\n",
       "<g id=\"edge6\" class=\"edge\"><title>2&#45;&gt;6</title>\r\n",
       "<path fill=\"none\" stroke=\"#ff0000\" d=\"M346.816,-50.9286C384.877,-50.6137 437.271,-50.1803 477.613,-49.8465\"/>\r\n",
       "<polygon fill=\"#ff0000\" stroke=\"#ff0000\" points=\"477.887,-53.3444 487.857,-49.7617 477.829,-46.3447 477.887,-53.3444\"/>\r\n",
       "<text text-anchor=\"middle\" x=\"435.675\" y=\"-54.1454\" font-family=\"Times New Roman,serif\" font-size=\"14.00\">no</text>\r\n",
       "</g>\r\n",
       "</g>\r\n",
       "</svg>\r\n"
      ],
      "text/plain": [
       "<graphviz.dot.Digraph at 0x75f0ba8>"
      ]
     },
     "execution_count": 46,
     "metadata": {},
     "output_type": "execute_result"
    }
   ],
   "source": [
    "xgb.to_graphviz(bestXGB, num_trees=6, rankdir='LR' )"
   ]
  },
  {
   "cell_type": "code",
   "execution_count": 47,
   "metadata": {
    "collapsed": false
   },
   "outputs": [
    {
     "data": {
      "image/svg+xml": [
       "<?xml version=\"1.0\" encoding=\"UTF-8\" standalone=\"no\"?>\r\n",
       "<!DOCTYPE svg PUBLIC \"-//W3C//DTD SVG 1.1//EN\"\r\n",
       " \"http://www.w3.org/Graphics/SVG/1.1/DTD/svg11.dtd\">\r\n",
       "<!-- Generated by graphviz version 2.38.0 (20140413.2041)\r\n",
       " -->\r\n",
       "<!-- Title: %3 Pages: 1 -->\r\n",
       "<svg width=\"579pt\" height=\"284pt\"\r\n",
       " viewBox=\"0.00 0.00 578.68 284.34\" xmlns=\"http://www.w3.org/2000/svg\" xmlns:xlink=\"http://www.w3.org/1999/xlink\">\r\n",
       "<g id=\"graph0\" class=\"graph\" transform=\"scale(1 1) rotate(0) translate(4 280.339)\">\r\n",
       "<title>%3</title>\r\n",
       "<polygon fill=\"white\" stroke=\"none\" points=\"-4,4 -4,-280.339 574.677,-280.339 574.677,4 -4,4\"/>\r\n",
       "<!-- 0 -->\r\n",
       "<g id=\"node1\" class=\"node\"><title>0</title>\r\n",
       "<ellipse fill=\"none\" stroke=\"black\" cx=\"51.3454\" cy=\"-137.345\" rx=\"51.1914\" ry=\"51.1914\"/>\r\n",
       "<text text-anchor=\"middle\" x=\"51.3454\" y=\"-133.645\" font-family=\"Times New Roman,serif\" font-size=\"14.00\">cell_size&lt;3</text>\r\n",
       "</g>\r\n",
       "<!-- 1 -->\r\n",
       "<g id=\"node2\" class=\"node\"><title>1</title>\r\n",
       "<ellipse fill=\"none\" stroke=\"black\" cx=\"285.684\" cy=\"-198.345\" rx=\"77.9862\" ry=\"77.9862\"/>\r\n",
       "<text text-anchor=\"middle\" x=\"285.684\" y=\"-194.645\" font-family=\"Times New Roman,serif\" font-size=\"14.00\">normal_nucleoli&lt;3</text>\r\n",
       "</g>\r\n",
       "<!-- 0&#45;&gt;1 -->\r\n",
       "<g id=\"edge1\" class=\"edge\"><title>0&#45;&gt;1</title>\r\n",
       "<path fill=\"none\" stroke=\"#0000ff\" d=\"M101.335,-150.207C130.053,-157.747 167.117,-167.478 200.397,-176.216\"/>\r\n",
       "<polygon fill=\"#0000ff\" stroke=\"#0000ff\" points=\"199.569,-179.617 210.13,-178.771 201.347,-172.847 199.569,-179.617\"/>\r\n",
       "<text text-anchor=\"middle\" x=\"155.191\" y=\"-176.145\" font-family=\"Times New Roman,serif\" font-size=\"14.00\">yes, missing</text>\r\n",
       "</g>\r\n",
       "<!-- 2 -->\r\n",
       "<g id=\"node3\" class=\"node\"><title>2</title>\r\n",
       "<ellipse fill=\"none\" stroke=\"black\" cx=\"285.684\" cy=\"-51.3454\" rx=\"51.1914\" ry=\"51.1914\"/>\r\n",
       "<text text-anchor=\"middle\" x=\"285.684\" y=\"-47.6454\" font-family=\"Times New Roman,serif\" font-size=\"14.00\">cell_size&lt;4</text>\r\n",
       "</g>\r\n",
       "<!-- 0&#45;&gt;2 -->\r\n",
       "<g id=\"edge2\" class=\"edge\"><title>0&#45;&gt;2</title>\r\n",
       "<path fill=\"none\" stroke=\"#ff0000\" d=\"M99.6427,-119.838C136.582,-106.165 188.061,-87.1103 227.346,-72.5691\"/>\r\n",
       "<polygon fill=\"#ff0000\" stroke=\"#ff0000\" points=\"228.891,-75.7292 237.055,-68.9754 226.461,-69.1645 228.891,-75.7292\"/>\r\n",
       "<text text-anchor=\"middle\" x=\"155.191\" y=\"-115.145\" font-family=\"Times New Roman,serif\" font-size=\"14.00\">no</text>\r\n",
       "</g>\r\n",
       "<!-- 3 -->\r\n",
       "<g id=\"node4\" class=\"node\"><title>3</title>\r\n",
       "<polygon fill=\"none\" stroke=\"black\" points=\"569.677,-247.345 469.677,-247.345 469.677,-211.345 569.677,-211.345 569.677,-247.345\"/>\r\n",
       "<text text-anchor=\"middle\" x=\"519.677\" y=\"-225.645\" font-family=\"Times New Roman,serif\" font-size=\"14.00\">leaf=&#45;0.115322</text>\r\n",
       "</g>\r\n",
       "<!-- 1&#45;&gt;3 -->\r\n",
       "<g id=\"edge3\" class=\"edge\"><title>1&#45;&gt;3</title>\r\n",
       "<path fill=\"none\" stroke=\"#0000ff\" d=\"M363.29,-208.582C394.576,-212.763 430.201,-217.523 459.44,-221.43\"/>\r\n",
       "<polygon fill=\"#0000ff\" stroke=\"#0000ff\" points=\"459.123,-224.919 469.498,-222.774 460.05,-217.98 459.123,-224.919\"/>\r\n",
       "<text text-anchor=\"middle\" x=\"416.177\" y=\"-223.145\" font-family=\"Times New Roman,serif\" font-size=\"14.00\">yes, missing</text>\r\n",
       "</g>\r\n",
       "<!-- 4 -->\r\n",
       "<g id=\"node5\" class=\"node\"><title>4</title>\r\n",
       "<polygon fill=\"none\" stroke=\"black\" points=\"547.677,-193.345 491.677,-193.345 491.677,-157.345 547.677,-157.345 547.677,-193.345\"/>\r\n",
       "<text text-anchor=\"middle\" x=\"519.677\" y=\"-171.645\" font-family=\"Times New Roman,serif\" font-size=\"14.00\">leaf=&#45;0</text>\r\n",
       "</g>\r\n",
       "<!-- 1&#45;&gt;4 -->\r\n",
       "<g id=\"edge4\" class=\"edge\"><title>1&#45;&gt;4</title>\r\n",
       "<path fill=\"none\" stroke=\"#ff0000\" d=\"M363.612,-190.719C403.191,-186.795 449.642,-182.19 481.313,-179.05\"/>\r\n",
       "<polygon fill=\"#ff0000\" stroke=\"#ff0000\" points=\"481.85,-182.514 491.456,-178.044 481.16,-175.548 481.85,-182.514\"/>\r\n",
       "<text text-anchor=\"middle\" x=\"416.177\" y=\"-192.145\" font-family=\"Times New Roman,serif\" font-size=\"14.00\">no</text>\r\n",
       "</g>\r\n",
       "<!-- 5 -->\r\n",
       "<g id=\"node6\" class=\"node\"><title>5</title>\r\n",
       "<polygon fill=\"none\" stroke=\"black\" points=\"547.677,-116.345 491.677,-116.345 491.677,-80.3454 547.677,-80.3454 547.677,-116.345\"/>\r\n",
       "<text text-anchor=\"middle\" x=\"519.677\" y=\"-94.6454\" font-family=\"Times New Roman,serif\" font-size=\"14.00\">leaf=&#45;0</text>\r\n",
       "</g>\r\n",
       "<!-- 2&#45;&gt;5 -->\r\n",
       "<g id=\"edge5\" class=\"edge\"><title>2&#45;&gt;5</title>\r\n",
       "<path fill=\"none\" stroke=\"#0000ff\" d=\"M336.168,-61.3705C379.656,-70.1808 441.983,-82.8077 481.383,-90.7899\"/>\r\n",
       "<polygon fill=\"#0000ff\" stroke=\"#0000ff\" points=\"480.87,-94.2571 491.366,-92.8125 482.26,-87.3965 480.87,-94.2571\"/>\r\n",
       "<text text-anchor=\"middle\" x=\"416.177\" y=\"-88.1454\" font-family=\"Times New Roman,serif\" font-size=\"14.00\">yes, missing</text>\r\n",
       "</g>\r\n",
       "<!-- 6 -->\r\n",
       "<g id=\"node7\" class=\"node\"><title>6</title>\r\n",
       "<polygon fill=\"none\" stroke=\"black\" points=\"570.677,-62.3454 468.677,-62.3454 468.677,-26.3454 570.677,-26.3454 570.677,-62.3454\"/>\r\n",
       "<text text-anchor=\"middle\" x=\"519.677\" y=\"-40.6454\" font-family=\"Times New Roman,serif\" font-size=\"14.00\">leaf=0.0887956</text>\r\n",
       "</g>\r\n",
       "<!-- 2&#45;&gt;6 -->\r\n",
       "<g id=\"edge6\" class=\"edge\"><title>2&#45;&gt;6</title>\r\n",
       "<path fill=\"none\" stroke=\"#ff0000\" d=\"M337.023,-49.8265C372.592,-48.7533 420.442,-47.3095 458.103,-46.1732\"/>\r\n",
       "<polygon fill=\"#ff0000\" stroke=\"#ff0000\" points=\"458.546,-49.6615 468.436,-45.8614 458.335,-42.6647 458.546,-49.6615\"/>\r\n",
       "<text text-anchor=\"middle\" x=\"416.177\" y=\"-52.1454\" font-family=\"Times New Roman,serif\" font-size=\"14.00\">no</text>\r\n",
       "</g>\r\n",
       "</g>\r\n",
       "</svg>\r\n"
      ],
      "text/plain": [
       "<graphviz.dot.Digraph at 0x75f0d30>"
      ]
     },
     "execution_count": 47,
     "metadata": {},
     "output_type": "execute_result"
    }
   ],
   "source": [
    "xgb.to_graphviz(bestXGB, num_trees=7, rankdir='LR' )"
   ]
  },
  {
   "cell_type": "code",
   "execution_count": 48,
   "metadata": {
    "collapsed": false
   },
   "outputs": [
    {
     "data": {
      "image/svg+xml": [
       "<?xml version=\"1.0\" encoding=\"UTF-8\" standalone=\"no\"?>\r\n",
       "<!DOCTYPE svg PUBLIC \"-//W3C//DTD SVG 1.1//EN\"\r\n",
       " \"http://www.w3.org/Graphics/SVG/1.1/DTD/svg11.dtd\">\r\n",
       "<!-- Generated by graphviz version 2.38.0 (20140413.2041)\r\n",
       " -->\r\n",
       "<!-- Title: %3 Pages: 1 -->\r\n",
       "<svg width=\"599pt\" height=\"350pt\"\r\n",
       " viewBox=\"0.00 0.00 599.48 350.49\" xmlns=\"http://www.w3.org/2000/svg\" xmlns:xlink=\"http://www.w3.org/1999/xlink\">\r\n",
       "<g id=\"graph0\" class=\"graph\" transform=\"scale(1 1) rotate(0) translate(4 346.486)\">\r\n",
       "<title>%3</title>\r\n",
       "<polygon fill=\"white\" stroke=\"none\" points=\"-4,4 -4,-346.486 595.475,-346.486 595.475,4 -4,4\"/>\r\n",
       "<!-- 0 -->\r\n",
       "<g id=\"node1\" class=\"node\"><title>0</title>\r\n",
       "<ellipse fill=\"none\" stroke=\"black\" cx=\"58.4948\" cy=\"-188.243\" rx=\"58.4896\" ry=\"58.4896\"/>\r\n",
       "<text text-anchor=\"middle\" x=\"58.4948\" y=\"-184.543\" font-family=\"Times New Roman,serif\" font-size=\"14.00\">cell_shape&lt;3</text>\r\n",
       "</g>\r\n",
       "<!-- 1 -->\r\n",
       "<g id=\"node2\" class=\"node\"><title>1</title>\r\n",
       "<ellipse fill=\"none\" stroke=\"black\" cx=\"303.232\" cy=\"-261.243\" rx=\"81.4863\" ry=\"81.4863\"/>\r\n",
       "<text text-anchor=\"middle\" x=\"303.232\" y=\"-257.543\" font-family=\"Times New Roman,serif\" font-size=\"14.00\">bland_chromatin&lt;4</text>\r\n",
       "</g>\r\n",
       "<!-- 0&#45;&gt;1 -->\r\n",
       "<g id=\"edge1\" class=\"edge\"><title>0&#45;&gt;1</title>\r\n",
       "<path fill=\"none\" stroke=\"#0000ff\" d=\"M114.879,-204.899C144.553,-213.823 181.787,-225.02 215.227,-235.077\"/>\r\n",
       "<polygon fill=\"#0000ff\" stroke=\"#0000ff\" points=\"214.424,-238.49 225.008,-238.019 216.44,-231.787 214.424,-238.49\"/>\r\n",
       "<text text-anchor=\"middle\" x=\"169.49\" y=\"-235.043\" font-family=\"Times New Roman,serif\" font-size=\"14.00\">yes, missing</text>\r\n",
       "</g>\r\n",
       "<!-- 2 -->\r\n",
       "<g id=\"node3\" class=\"node\"><title>2</title>\r\n",
       "<ellipse fill=\"none\" stroke=\"black\" cx=\"303.232\" cy=\"-81.2428\" rx=\"81.4863\" ry=\"81.4863\"/>\r\n",
       "<text text-anchor=\"middle\" x=\"303.232\" y=\"-77.5428\" font-family=\"Times New Roman,serif\" font-size=\"14.00\">bland_chromatin&lt;3</text>\r\n",
       "</g>\r\n",
       "<!-- 0&#45;&gt;2 -->\r\n",
       "<g id=\"edge2\" class=\"edge\"><title>0&#45;&gt;2</title>\r\n",
       "<path fill=\"none\" stroke=\"#ff0000\" d=\"M112.465,-164.893C143.71,-151.12 183.935,-133.389 219.304,-117.798\"/>\r\n",
       "<polygon fill=\"#ff0000\" stroke=\"#ff0000\" points=\"220.921,-120.91 228.659,-113.674 218.097,-114.505 220.921,-120.91\"/>\r\n",
       "<text text-anchor=\"middle\" x=\"169.49\" y=\"-157.043\" font-family=\"Times New Roman,serif\" font-size=\"14.00\">no</text>\r\n",
       "</g>\r\n",
       "<!-- 3 -->\r\n",
       "<g id=\"node4\" class=\"node\"><title>3</title>\r\n",
       "<polygon fill=\"none\" stroke=\"black\" points=\"590.475,-306.243 490.475,-306.243 490.475,-270.243 590.475,-270.243 590.475,-306.243\"/>\r\n",
       "<text text-anchor=\"middle\" x=\"540.475\" y=\"-284.543\" font-family=\"Times New Roman,serif\" font-size=\"14.00\">leaf=&#45;0.112409</text>\r\n",
       "</g>\r\n",
       "<!-- 1&#45;&gt;3 -->\r\n",
       "<g id=\"edge3\" class=\"edge\"><title>1&#45;&gt;3</title>\r\n",
       "<path fill=\"none\" stroke=\"#0000ff\" d=\"M384.203,-270.421C415.659,-274.032 451.13,-278.103 480.221,-281.442\"/>\r\n",
       "<polygon fill=\"#0000ff\" stroke=\"#0000ff\" points=\"479.894,-284.927 490.228,-282.59 480.692,-277.973 479.894,-284.927\"/>\r\n",
       "<text text-anchor=\"middle\" x=\"436.975\" y=\"-284.043\" font-family=\"Times New Roman,serif\" font-size=\"14.00\">yes, missing</text>\r\n",
       "</g>\r\n",
       "<!-- 4 -->\r\n",
       "<g id=\"node5\" class=\"node\"><title>4</title>\r\n",
       "<polygon fill=\"none\" stroke=\"black\" points=\"568.475,-252.243 512.475,-252.243 512.475,-216.243 568.475,-216.243 568.475,-252.243\"/>\r\n",
       "<text text-anchor=\"middle\" x=\"540.475\" y=\"-230.543\" font-family=\"Times New Roman,serif\" font-size=\"14.00\">leaf=&#45;0</text>\r\n",
       "</g>\r\n",
       "<!-- 1&#45;&gt;4 -->\r\n",
       "<g id=\"edge4\" class=\"edge\"><title>1&#45;&gt;4</title>\r\n",
       "<path fill=\"none\" stroke=\"#ff0000\" d=\"M384.203,-252.064C424.173,-247.477 470.627,-242.145 502.235,-238.517\"/>\r\n",
       "<polygon fill=\"#ff0000\" stroke=\"#ff0000\" points=\"502.819,-241.973 512.354,-237.356 502.021,-235.019 502.819,-241.973\"/>\r\n",
       "<text text-anchor=\"middle\" x=\"436.975\" y=\"-253.043\" font-family=\"Times New Roman,serif\" font-size=\"14.00\">no</text>\r\n",
       "</g>\r\n",
       "<!-- 5 -->\r\n",
       "<g id=\"node6\" class=\"node\"><title>5</title>\r\n",
       "<polygon fill=\"none\" stroke=\"black\" points=\"568.475,-126.243 512.475,-126.243 512.475,-90.2428 568.475,-90.2428 568.475,-126.243\"/>\r\n",
       "<text text-anchor=\"middle\" x=\"540.475\" y=\"-104.543\" font-family=\"Times New Roman,serif\" font-size=\"14.00\">leaf=&#45;0</text>\r\n",
       "</g>\r\n",
       "<!-- 2&#45;&gt;5 -->\r\n",
       "<g id=\"edge5\" class=\"edge\"><title>2&#45;&gt;5</title>\r\n",
       "<path fill=\"none\" stroke=\"#0000ff\" d=\"M384.203,-90.4214C424.173,-95.009 470.627,-100.341 502.235,-103.969\"/>\r\n",
       "<polygon fill=\"#0000ff\" stroke=\"#0000ff\" points=\"502.021,-107.467 512.354,-105.13 502.819,-100.512 502.021,-107.467\"/>\r\n",
       "<text text-anchor=\"middle\" x=\"436.975\" y=\"-104.043\" font-family=\"Times New Roman,serif\" font-size=\"14.00\">yes, missing</text>\r\n",
       "</g>\r\n",
       "<!-- 6 -->\r\n",
       "<g id=\"node7\" class=\"node\"><title>6</title>\r\n",
       "<polygon fill=\"none\" stroke=\"black\" points=\"591.475,-72.2428 489.475,-72.2428 489.475,-36.2428 591.475,-36.2428 591.475,-72.2428\"/>\r\n",
       "<text text-anchor=\"middle\" x=\"540.475\" y=\"-50.5428\" font-family=\"Times New Roman,serif\" font-size=\"14.00\">leaf=0.0838101</text>\r\n",
       "</g>\r\n",
       "<!-- 2&#45;&gt;6 -->\r\n",
       "<g id=\"edge6\" class=\"edge\"><title>2&#45;&gt;6</title>\r\n",
       "<path fill=\"none\" stroke=\"#ff0000\" d=\"M384.203,-72.0641C415.301,-68.4949 450.325,-64.4751 479.227,-61.1578\"/>\r\n",
       "<polygon fill=\"#ff0000\" stroke=\"#ff0000\" points=\"479.643,-64.6331 489.178,-60.0156 478.844,-57.6788 479.643,-64.6331\"/>\r\n",
       "<text text-anchor=\"middle\" x=\"436.975\" y=\"-73.0428\" font-family=\"Times New Roman,serif\" font-size=\"14.00\">no</text>\r\n",
       "</g>\r\n",
       "</g>\r\n",
       "</svg>\r\n"
      ],
      "text/plain": [
       "<graphviz.dot.Digraph at 0x75f0d68>"
      ]
     },
     "execution_count": 48,
     "metadata": {},
     "output_type": "execute_result"
    }
   ],
   "source": [
    "xgb.to_graphviz(bestXGB, num_trees=8, rankdir='LR' )"
   ]
  },
  {
   "cell_type": "code",
   "execution_count": 49,
   "metadata": {
    "collapsed": false
   },
   "outputs": [
    {
     "data": {
      "image/svg+xml": [
       "<?xml version=\"1.0\" encoding=\"UTF-8\" standalone=\"no\"?>\r\n",
       "<!DOCTYPE svg PUBLIC \"-//W3C//DTD SVG 1.1//EN\"\r\n",
       " \"http://www.w3.org/Graphics/SVG/1.1/DTD/svg11.dtd\">\r\n",
       "<!-- Generated by graphviz version 2.38.0 (20140413.2041)\r\n",
       " -->\r\n",
       "<!-- Title: %3 Pages: 1 -->\r\n",
       "<svg width=\"577pt\" height=\"284pt\"\r\n",
       " viewBox=\"0.00 0.00 576.68 284.34\" xmlns=\"http://www.w3.org/2000/svg\" xmlns:xlink=\"http://www.w3.org/1999/xlink\">\r\n",
       "<g id=\"graph0\" class=\"graph\" transform=\"scale(1 1) rotate(0) translate(4 280.339)\">\r\n",
       "<title>%3</title>\r\n",
       "<polygon fill=\"white\" stroke=\"none\" points=\"-4,4 -4,-280.339 572.677,-280.339 572.677,4 -4,4\"/>\r\n",
       "<!-- 0 -->\r\n",
       "<g id=\"node1\" class=\"node\"><title>0</title>\r\n",
       "<ellipse fill=\"none\" stroke=\"black\" cx=\"51.3454\" cy=\"-137.345\" rx=\"51.1914\" ry=\"51.1914\"/>\r\n",
       "<text text-anchor=\"middle\" x=\"51.3454\" y=\"-133.645\" font-family=\"Times New Roman,serif\" font-size=\"14.00\">cell_size&lt;3</text>\r\n",
       "</g>\r\n",
       "<!-- 1 -->\r\n",
       "<g id=\"node2\" class=\"node\"><title>1</title>\r\n",
       "<ellipse fill=\"none\" stroke=\"black\" cx=\"285.684\" cy=\"-198.345\" rx=\"77.9862\" ry=\"77.9862\"/>\r\n",
       "<text text-anchor=\"middle\" x=\"285.684\" y=\"-194.645\" font-family=\"Times New Roman,serif\" font-size=\"14.00\">normal_nucleoli&lt;3</text>\r\n",
       "</g>\r\n",
       "<!-- 0&#45;&gt;1 -->\r\n",
       "<g id=\"edge1\" class=\"edge\"><title>0&#45;&gt;1</title>\r\n",
       "<path fill=\"none\" stroke=\"#0000ff\" d=\"M101.335,-150.207C130.053,-157.747 167.117,-167.478 200.397,-176.216\"/>\r\n",
       "<polygon fill=\"#0000ff\" stroke=\"#0000ff\" points=\"199.569,-179.617 210.13,-178.771 201.347,-172.847 199.569,-179.617\"/>\r\n",
       "<text text-anchor=\"middle\" x=\"155.191\" y=\"-176.145\" font-family=\"Times New Roman,serif\" font-size=\"14.00\">yes, missing</text>\r\n",
       "</g>\r\n",
       "<!-- 2 -->\r\n",
       "<g id=\"node3\" class=\"node\"><title>2</title>\r\n",
       "<ellipse fill=\"none\" stroke=\"black\" cx=\"285.684\" cy=\"-51.3454\" rx=\"51.1914\" ry=\"51.1914\"/>\r\n",
       "<text text-anchor=\"middle\" x=\"285.684\" y=\"-47.6454\" font-family=\"Times New Roman,serif\" font-size=\"14.00\">cell_size&lt;4</text>\r\n",
       "</g>\r\n",
       "<!-- 0&#45;&gt;2 -->\r\n",
       "<g id=\"edge2\" class=\"edge\"><title>0&#45;&gt;2</title>\r\n",
       "<path fill=\"none\" stroke=\"#ff0000\" d=\"M99.6427,-119.838C136.582,-106.165 188.061,-87.1103 227.346,-72.5691\"/>\r\n",
       "<polygon fill=\"#ff0000\" stroke=\"#ff0000\" points=\"228.891,-75.7292 237.055,-68.9754 226.461,-69.1645 228.891,-75.7292\"/>\r\n",
       "<text text-anchor=\"middle\" x=\"155.191\" y=\"-115.145\" font-family=\"Times New Roman,serif\" font-size=\"14.00\">no</text>\r\n",
       "</g>\r\n",
       "<!-- 3 -->\r\n",
       "<g id=\"node4\" class=\"node\"><title>3</title>\r\n",
       "<polygon fill=\"none\" stroke=\"black\" points=\"568.677,-247.345 468.677,-247.345 468.677,-211.345 568.677,-211.345 568.677,-247.345\"/>\r\n",
       "<text text-anchor=\"middle\" x=\"518.677\" y=\"-225.645\" font-family=\"Times New Roman,serif\" font-size=\"14.00\">leaf=&#45;0.107164</text>\r\n",
       "</g>\r\n",
       "<!-- 1&#45;&gt;3 -->\r\n",
       "<g id=\"edge3\" class=\"edge\"><title>1&#45;&gt;3</title>\r\n",
       "<path fill=\"none\" stroke=\"#0000ff\" d=\"M363.28,-208.625C394.294,-212.787 429.546,-217.518 458.527,-221.407\"/>\r\n",
       "<polygon fill=\"#0000ff\" stroke=\"#0000ff\" points=\"458.123,-224.884 468.499,-222.746 459.054,-217.947 458.123,-224.884\"/>\r\n",
       "<text text-anchor=\"middle\" x=\"416.177\" y=\"-223.145\" font-family=\"Times New Roman,serif\" font-size=\"14.00\">yes, missing</text>\r\n",
       "</g>\r\n",
       "<!-- 4 -->\r\n",
       "<g id=\"node5\" class=\"node\"><title>4</title>\r\n",
       "<polygon fill=\"none\" stroke=\"black\" points=\"546.677,-193.345 490.677,-193.345 490.677,-157.345 546.677,-157.345 546.677,-193.345\"/>\r\n",
       "<text text-anchor=\"middle\" x=\"518.677\" y=\"-171.645\" font-family=\"Times New Roman,serif\" font-size=\"14.00\">leaf=&#45;0</text>\r\n",
       "</g>\r\n",
       "<!-- 1&#45;&gt;4 -->\r\n",
       "<g id=\"edge4\" class=\"edge\"><title>1&#45;&gt;4</title>\r\n",
       "<path fill=\"none\" stroke=\"#ff0000\" d=\"M363.601,-190.687C402.984,-186.765 449.129,-182.171 480.581,-179.039\"/>\r\n",
       "<polygon fill=\"#ff0000\" stroke=\"#ff0000\" points=\"481.049,-182.51 490.653,-178.036 480.355,-175.544 481.049,-182.51\"/>\r\n",
       "<text text-anchor=\"middle\" x=\"416.177\" y=\"-191.145\" font-family=\"Times New Roman,serif\" font-size=\"14.00\">no</text>\r\n",
       "</g>\r\n",
       "<!-- 5 -->\r\n",
       "<g id=\"node6\" class=\"node\"><title>5</title>\r\n",
       "<polygon fill=\"none\" stroke=\"black\" points=\"546.677,-116.345 490.677,-116.345 490.677,-80.3454 546.677,-80.3454 546.677,-116.345\"/>\r\n",
       "<text text-anchor=\"middle\" x=\"518.677\" y=\"-94.6454\" font-family=\"Times New Roman,serif\" font-size=\"14.00\">leaf=&#45;0</text>\r\n",
       "</g>\r\n",
       "<!-- 2&#45;&gt;5 -->\r\n",
       "<g id=\"edge5\" class=\"edge\"><title>2&#45;&gt;5</title>\r\n",
       "<path fill=\"none\" stroke=\"#0000ff\" d=\"M336.238,-61.4281C379.56,-70.2428 441.496,-82.845 480.636,-90.8088\"/>\r\n",
       "<polygon fill=\"#0000ff\" stroke=\"#0000ff\" points=\"480.056,-94.2624 490.553,-92.8266 481.452,-87.4029 480.056,-94.2624\"/>\r\n",
       "<text text-anchor=\"middle\" x=\"416.177\" y=\"-88.1454\" font-family=\"Times New Roman,serif\" font-size=\"14.00\">yes, missing</text>\r\n",
       "</g>\r\n",
       "<!-- 6 -->\r\n",
       "<g id=\"node7\" class=\"node\"><title>6</title>\r\n",
       "<polygon fill=\"none\" stroke=\"black\" points=\"566.177,-62.3454 471.177,-62.3454 471.177,-26.3454 566.177,-26.3454 566.177,-62.3454\"/>\r\n",
       "<text text-anchor=\"middle\" x=\"518.677\" y=\"-40.6454\" font-family=\"Times New Roman,serif\" font-size=\"14.00\">leaf=0.077952</text>\r\n",
       "</g>\r\n",
       "<!-- 2&#45;&gt;6 -->\r\n",
       "<g id=\"edge6\" class=\"edge\"><title>2&#45;&gt;6</title>\r\n",
       "<path fill=\"none\" stroke=\"#ff0000\" d=\"M337.091,-49.8179C373.493,-48.7148 422.704,-47.2235 460.56,-46.0763\"/>\r\n",
       "<polygon fill=\"#ff0000\" stroke=\"#ff0000\" points=\"461.028,-49.5638 470.917,-45.7625 460.815,-42.5671 461.028,-49.5638\"/>\r\n",
       "<text text-anchor=\"middle\" x=\"416.177\" y=\"-51.1454\" font-family=\"Times New Roman,serif\" font-size=\"14.00\">no</text>\r\n",
       "</g>\r\n",
       "</g>\r\n",
       "</svg>\r\n"
      ],
      "text/plain": [
       "<graphviz.dot.Digraph at 0x75f0a58>"
      ]
     },
     "execution_count": 49,
     "metadata": {},
     "output_type": "execute_result"
    }
   ],
   "source": [
    "xgb.to_graphviz(bestXGB, num_trees=9, rankdir='LR' )"
   ]
  },
  {
   "cell_type": "code",
   "execution_count": 50,
   "metadata": {
    "collapsed": false
   },
   "outputs": [
    {
     "data": {
      "image/svg+xml": [
       "<?xml version=\"1.0\" encoding=\"UTF-8\" standalone=\"no\"?>\r\n",
       "<!DOCTYPE svg PUBLIC \"-//W3C//DTD SVG 1.1//EN\"\r\n",
       " \"http://www.w3.org/Graphics/SVG/1.1/DTD/svg11.dtd\">\r\n",
       "<!-- Generated by graphviz version 2.38.0 (20140413.2041)\r\n",
       " -->\r\n",
       "<!-- Title: %3 Pages: 1 -->\r\n",
       "<svg width=\"793pt\" height=\"350pt\"\r\n",
       " viewBox=\"0.00 0.00 792.87 350.49\" xmlns=\"http://www.w3.org/2000/svg\" xmlns:xlink=\"http://www.w3.org/1999/xlink\">\r\n",
       "<g id=\"graph0\" class=\"graph\" transform=\"scale(1 1) rotate(0) translate(4 346.486)\">\r\n",
       "<title>%3</title>\r\n",
       "<polygon fill=\"white\" stroke=\"none\" points=\"-4,4 -4,-346.486 788.867,-346.486 788.867,4 -4,4\"/>\r\n",
       "<!-- 0 -->\r\n",
       "<g id=\"node1\" class=\"node\"><title>0</title>\r\n",
       "<ellipse fill=\"none\" stroke=\"black\" cx=\"51.3454\" cy=\"-188.243\" rx=\"51.1914\" ry=\"51.1914\"/>\r\n",
       "<text text-anchor=\"middle\" x=\"51.3454\" y=\"-184.543\" font-family=\"Times New Roman,serif\" font-size=\"14.00\">cell_size&lt;3</text>\r\n",
       "</g>\r\n",
       "<!-- 1 -->\r\n",
       "<g id=\"node2\" class=\"node\"><title>1</title>\r\n",
       "<ellipse fill=\"none\" stroke=\"black\" cx=\"288.934\" cy=\"-261.243\" rx=\"81.4863\" ry=\"81.4863\"/>\r\n",
       "<text text-anchor=\"middle\" x=\"288.934\" y=\"-257.543\" font-family=\"Times New Roman,serif\" font-size=\"14.00\">bland_chromatin&lt;5</text>\r\n",
       "</g>\r\n",
       "<!-- 0&#45;&gt;1 -->\r\n",
       "<g id=\"edge1\" class=\"edge\"><title>0&#45;&gt;1</title>\r\n",
       "<path fill=\"none\" stroke=\"#0000ff\" d=\"M100.589,-203.192C129.504,-212.151 167.131,-223.811 201.071,-234.327\"/>\r\n",
       "<polygon fill=\"#0000ff\" stroke=\"#0000ff\" points=\"200.414,-237.788 211.002,-237.405 202.486,-231.102 200.414,-237.788\"/>\r\n",
       "<text text-anchor=\"middle\" x=\"155.191\" y=\"-232.043\" font-family=\"Times New Roman,serif\" font-size=\"14.00\">yes, missing</text>\r\n",
       "</g>\r\n",
       "<!-- 2 -->\r\n",
       "<g id=\"node3\" class=\"node\"><title>2</title>\r\n",
       "<ellipse fill=\"none\" stroke=\"black\" cx=\"288.934\" cy=\"-81.2428\" rx=\"81.4863\" ry=\"81.4863\"/>\r\n",
       "<text text-anchor=\"middle\" x=\"288.934\" y=\"-77.5428\" font-family=\"Times New Roman,serif\" font-size=\"14.00\">bland_chromatin&lt;3</text>\r\n",
       "</g>\r\n",
       "<!-- 0&#45;&gt;2 -->\r\n",
       "<g id=\"edge2\" class=\"edge\"><title>0&#45;&gt;2</title>\r\n",
       "<path fill=\"none\" stroke=\"#ff0000\" d=\"M98.3285,-167.358C128.69,-153.568 169.345,-135.104 205.222,-118.809\"/>\r\n",
       "<polygon fill=\"#ff0000\" stroke=\"#ff0000\" points=\"207.057,-121.82 214.715,-114.497 204.163,-115.446 207.057,-121.82\"/>\r\n",
       "<text text-anchor=\"middle\" x=\"155.191\" y=\"-160.043\" font-family=\"Times New Roman,serif\" font-size=\"14.00\">no</text>\r\n",
       "</g>\r\n",
       "<!-- 3 -->\r\n",
       "<g id=\"node4\" class=\"node\"><title>3</title>\r\n",
       "<polygon fill=\"none\" stroke=\"black\" points=\"576.522,-295.243 476.522,-295.243 476.522,-259.243 576.522,-259.243 576.522,-295.243\"/>\r\n",
       "<text text-anchor=\"middle\" x=\"526.522\" y=\"-273.543\" font-family=\"Times New Roman,serif\" font-size=\"14.00\">leaf=&#45;0.100395</text>\r\n",
       "</g>\r\n",
       "<!-- 1&#45;&gt;3 -->\r\n",
       "<g id=\"edge3\" class=\"edge\"><title>1&#45;&gt;3</title>\r\n",
       "<path fill=\"none\" stroke=\"#0000ff\" d=\"M370.022,-266.682C401.524,-268.821 437.047,-271.234 466.181,-273.213\"/>\r\n",
       "<polygon fill=\"#0000ff\" stroke=\"#0000ff\" points=\"465.988,-276.708 476.202,-273.893 466.462,-269.724 465.988,-276.708\"/>\r\n",
       "<text text-anchor=\"middle\" x=\"422.676\" y=\"-276.043\" font-family=\"Times New Roman,serif\" font-size=\"14.00\">yes, missing</text>\r\n",
       "</g>\r\n",
       "<!-- 4 -->\r\n",
       "<g id=\"node5\" class=\"node\"><title>4</title>\r\n",
       "<polygon fill=\"none\" stroke=\"black\" points=\"554.522,-241.243 498.522,-241.243 498.522,-205.243 554.522,-205.243 554.522,-241.243\"/>\r\n",
       "<text text-anchor=\"middle\" x=\"526.522\" y=\"-219.543\" font-family=\"Times New Roman,serif\" font-size=\"14.00\">leaf=&#45;0</text>\r\n",
       "</g>\r\n",
       "<!-- 1&#45;&gt;4 -->\r\n",
       "<g id=\"edge4\" class=\"edge\"><title>1&#45;&gt;4</title>\r\n",
       "<path fill=\"none\" stroke=\"#ff0000\" d=\"M369.365,-248.431C409.57,-241.946 456.468,-234.381 488.297,-229.247\"/>\r\n",
       "<polygon fill=\"#ff0000\" stroke=\"#ff0000\" points=\"489.167,-232.652 498.482,-227.604 488.052,-225.741 489.167,-232.652\"/>\r\n",
       "<text text-anchor=\"middle\" x=\"422.676\" y=\"-248.043\" font-family=\"Times New Roman,serif\" font-size=\"14.00\">no</text>\r\n",
       "</g>\r\n",
       "<!-- 5 -->\r\n",
       "<g id=\"node6\" class=\"node\"><title>5</title>\r\n",
       "<polygon fill=\"none\" stroke=\"black\" points=\"554.522,-170.243 498.522,-170.243 498.522,-134.243 554.522,-134.243 554.522,-170.243\"/>\r\n",
       "<text text-anchor=\"middle\" x=\"526.522\" y=\"-148.543\" font-family=\"Times New Roman,serif\" font-size=\"14.00\">leaf=&#45;0</text>\r\n",
       "</g>\r\n",
       "<!-- 2&#45;&gt;5 -->\r\n",
       "<g id=\"edge5\" class=\"edge\"><title>2&#45;&gt;5</title>\r\n",
       "<path fill=\"none\" stroke=\"#0000ff\" d=\"M367.074,-104.491C407.881,-116.789 456.108,-131.323 488.546,-141.099\"/>\r\n",
       "<polygon fill=\"#0000ff\" stroke=\"#0000ff\" points=\"487.909,-144.563 498.493,-144.097 489.929,-137.86 487.909,-144.563\"/>\r\n",
       "<text text-anchor=\"middle\" x=\"422.676\" y=\"-135.043\" font-family=\"Times New Roman,serif\" font-size=\"14.00\">yes, missing</text>\r\n",
       "</g>\r\n",
       "<!-- 6 -->\r\n",
       "<g id=\"node7\" class=\"node\"><title>6</title>\r\n",
       "<ellipse fill=\"none\" stroke=\"black\" cx=\"526.522\" cy=\"-65.2428\" rx=\"51.1914\" ry=\"51.1914\"/>\r\n",
       "<text text-anchor=\"middle\" x=\"526.522\" y=\"-61.5428\" font-family=\"Times New Roman,serif\" font-size=\"14.00\">cell_size&lt;4</text>\r\n",
       "</g>\r\n",
       "<!-- 2&#45;&gt;6 -->\r\n",
       "<g id=\"edge6\" class=\"edge\"><title>2&#45;&gt;6</title>\r\n",
       "<path fill=\"none\" stroke=\"#ff0000\" d=\"M370.022,-75.8036C401.03,-73.6977 435.934,-71.3272 464.806,-69.3663\"/>\r\n",
       "<polygon fill=\"#ff0000\" stroke=\"#ff0000\" points=\"465.411,-72.8334 475.151,-68.6637 464.937,-65.8495 465.411,-72.8334\"/>\r\n",
       "<text text-anchor=\"middle\" x=\"422.676\" y=\"-77.0428\" font-family=\"Times New Roman,serif\" font-size=\"14.00\">no</text>\r\n",
       "</g>\r\n",
       "<!-- 7 -->\r\n",
       "<g id=\"node8\" class=\"node\"><title>7</title>\r\n",
       "<polygon fill=\"none\" stroke=\"black\" points=\"761.867,-110.243 705.867,-110.243 705.867,-74.2428 761.867,-74.2428 761.867,-110.243\"/>\r\n",
       "<text text-anchor=\"middle\" x=\"733.867\" y=\"-88.5428\" font-family=\"Times New Roman,serif\" font-size=\"14.00\">leaf=&#45;0</text>\r\n",
       "</g>\r\n",
       "<!-- 6&#45;&gt;7 -->\r\n",
       "<g id=\"edge7\" class=\"edge\"><title>6&#45;&gt;7</title>\r\n",
       "<path fill=\"none\" stroke=\"#0000ff\" d=\"M577.492,-71.8132C613.914,-76.6022 662.476,-82.9873 695.551,-87.3362\"/>\r\n",
       "<polygon fill=\"#0000ff\" stroke=\"#0000ff\" points=\"695.339,-90.8384 705.71,-88.672 696.252,-83.8981 695.339,-90.8384\"/>\r\n",
       "<text text-anchor=\"middle\" x=\"630.367\" y=\"-86.0428\" font-family=\"Times New Roman,serif\" font-size=\"14.00\">yes, missing</text>\r\n",
       "</g>\r\n",
       "<!-- 8 -->\r\n",
       "<g id=\"node9\" class=\"node\"><title>8</title>\r\n",
       "<polygon fill=\"none\" stroke=\"black\" points=\"784.867,-56.2428 682.867,-56.2428 682.867,-20.2428 784.867,-20.2428 784.867,-56.2428\"/>\r\n",
       "<text text-anchor=\"middle\" x=\"733.867\" y=\"-34.5428\" font-family=\"Times New Roman,serif\" font-size=\"14.00\">leaf=0.0717315</text>\r\n",
       "</g>\r\n",
       "<!-- 6&#45;&gt;8 -->\r\n",
       "<g id=\"edge8\" class=\"edge\"><title>6&#45;&gt;8</title>\r\n",
       "<path fill=\"none\" stroke=\"#ff0000\" d=\"M577.522,-57.7986C583.697,-56.917 589.925,-56.046 595.867,-55.2428 621.014,-51.8434 648.793,-48.348 672.727,-45.4176\"/>\r\n",
       "<polygon fill=\"#ff0000\" stroke=\"#ff0000\" points=\"673.227,-48.8826 682.73,-44.1982 672.38,-41.9341 673.227,-48.8826\"/>\r\n",
       "<text text-anchor=\"middle\" x=\"630.367\" y=\"-59.0428\" font-family=\"Times New Roman,serif\" font-size=\"14.00\">no</text>\r\n",
       "</g>\r\n",
       "</g>\r\n",
       "</svg>\r\n"
      ],
      "text/plain": [
       "<graphviz.dot.Digraph at 0x75ee908>"
      ]
     },
     "execution_count": 50,
     "metadata": {},
     "output_type": "execute_result"
    }
   ],
   "source": [
    "xgb.to_graphviz(bestXGB, num_trees=10, rankdir='LR' )"
   ]
  },
  {
   "cell_type": "code",
   "execution_count": 51,
   "metadata": {
    "collapsed": false
   },
   "outputs": [
    {
     "data": {
      "image/svg+xml": [
       "<?xml version=\"1.0\" encoding=\"UTF-8\" standalone=\"no\"?>\r\n",
       "<!DOCTYPE svg PUBLIC \"-//W3C//DTD SVG 1.1//EN\"\r\n",
       " \"http://www.w3.org/Graphics/SVG/1.1/DTD/svg11.dtd\">\r\n",
       "<!-- Generated by graphviz version 2.38.0 (20140413.2041)\r\n",
       " -->\r\n",
       "<!-- Title: %3 Pages: 1 -->\r\n",
       "<svg width=\"879pt\" height=\"376pt\"\r\n",
       " viewBox=\"0.00 0.00 879.26 375.59\" xmlns=\"http://www.w3.org/2000/svg\" xmlns:xlink=\"http://www.w3.org/1999/xlink\">\r\n",
       "<g id=\"graph0\" class=\"graph\" transform=\"scale(1 1) rotate(0) translate(4 371.588)\">\r\n",
       "<title>%3</title>\r\n",
       "<polygon fill=\"white\" stroke=\"none\" points=\"-4,4 -4,-371.588 875.26,-371.588 875.26,4 -4,4\"/>\r\n",
       "<!-- 0 -->\r\n",
       "<g id=\"node1\" class=\"node\"><title>0</title>\r\n",
       "<ellipse fill=\"none\" stroke=\"black\" cx=\"68.8939\" cy=\"-137.345\" rx=\"68.7879\" ry=\"68.7879\"/>\r\n",
       "<text text-anchor=\"middle\" x=\"68.8939\" y=\"-133.645\" font-family=\"Times New Roman,serif\" font-size=\"14.00\">bare_nuclei&lt;2.5</text>\r\n",
       "</g>\r\n",
       "<!-- 1 -->\r\n",
       "<g id=\"node2\" class=\"node\"><title>1</title>\r\n",
       "<ellipse fill=\"none\" stroke=\"black\" cx=\"320.781\" cy=\"-198.345\" rx=\"77.9862\" ry=\"77.9862\"/>\r\n",
       "<text text-anchor=\"middle\" x=\"320.781\" y=\"-194.645\" font-family=\"Times New Roman,serif\" font-size=\"14.00\">epitelial_cellsize&lt;4</text>\r\n",
       "</g>\r\n",
       "<!-- 0&#45;&gt;1 -->\r\n",
       "<g id=\"edge1\" class=\"edge\"><title>0&#45;&gt;1</title>\r\n",
       "<path fill=\"none\" stroke=\"#0000ff\" d=\"M136.203,-153.532C166.472,-160.921 202.679,-169.76 234.908,-177.627\"/>\r\n",
       "<polygon fill=\"#0000ff\" stroke=\"#0000ff\" points=\"234.226,-181.063 244.771,-180.035 235.886,-174.263 234.226,-181.063\"/>\r\n",
       "<text text-anchor=\"middle\" x=\"190.288\" y=\"-179.145\" font-family=\"Times New Roman,serif\" font-size=\"14.00\">yes, missing</text>\r\n",
       "</g>\r\n",
       "<!-- 2 -->\r\n",
       "<g id=\"node3\" class=\"node\"><title>2</title>\r\n",
       "<ellipse fill=\"none\" stroke=\"black\" cx=\"320.781\" cy=\"-51.3454\" rx=\"51.1914\" ry=\"51.1914\"/>\r\n",
       "<text text-anchor=\"middle\" x=\"320.781\" y=\"-47.6454\" font-family=\"Times New Roman,serif\" font-size=\"14.00\">cell_size&lt;2</text>\r\n",
       "</g>\r\n",
       "<!-- 0&#45;&gt;2 -->\r\n",
       "<g id=\"edge2\" class=\"edge\"><title>0&#45;&gt;2</title>\r\n",
       "<path fill=\"none\" stroke=\"#ff0000\" d=\"M134.246,-115.198C173.672,-101.63 223.718,-84.4061 261.895,-71.2673\"/>\r\n",
       "<polygon fill=\"#ff0000\" stroke=\"#ff0000\" points=\"263.512,-74.4122 271.829,-67.8484 261.234,-67.7932 263.512,-74.4122\"/>\r\n",
       "<text text-anchor=\"middle\" x=\"190.288\" y=\"-111.145\" font-family=\"Times New Roman,serif\" font-size=\"14.00\">no</text>\r\n",
       "</g>\r\n",
       "<!-- 3 -->\r\n",
       "<g id=\"node4\" class=\"node\"><title>3</title>\r\n",
       "<ellipse fill=\"none\" stroke=\"black\" cx=\"585.017\" cy=\"-286.345\" rx=\"81.4863\" ry=\"81.4863\"/>\r\n",
       "<text text-anchor=\"middle\" x=\"585.017\" y=\"-282.645\" font-family=\"Times New Roman,serif\" font-size=\"14.00\">clump_thickness&lt;8</text>\r\n",
       "</g>\r\n",
       "<!-- 1&#45;&gt;3 -->\r\n",
       "<g id=\"edge3\" class=\"edge\"><title>1&#45;&gt;3</title>\r\n",
       "<path fill=\"none\" stroke=\"#0000ff\" d=\"M394.828,-222.858C426.829,-233.597 464.613,-246.276 497.967,-257.469\"/>\r\n",
       "<polygon fill=\"#0000ff\" stroke=\"#0000ff\" points=\"497.111,-260.874 507.705,-260.737 499.338,-254.237 497.111,-260.874\"/>\r\n",
       "<text text-anchor=\"middle\" x=\"451.274\" y=\"-256.145\" font-family=\"Times New Roman,serif\" font-size=\"14.00\">yes, missing</text>\r\n",
       "</g>\r\n",
       "<!-- 4 -->\r\n",
       "<g id=\"node5\" class=\"node\"><title>4</title>\r\n",
       "<polygon fill=\"none\" stroke=\"black\" points=\"613.017,-187.345 557.017,-187.345 557.017,-151.345 613.017,-151.345 613.017,-187.345\"/>\r\n",
       "<text text-anchor=\"middle\" x=\"585.017\" y=\"-165.645\" font-family=\"Times New Roman,serif\" font-size=\"14.00\">leaf=&#45;0</text>\r\n",
       "</g>\r\n",
       "<!-- 1&#45;&gt;4 -->\r\n",
       "<g id=\"edge4\" class=\"edge\"><title>1&#45;&gt;4</title>\r\n",
       "<path fill=\"none\" stroke=\"#ff0000\" d=\"M398.335,-189.879C447.115,-184.485 508.157,-177.735 546.632,-173.48\"/>\r\n",
       "<polygon fill=\"#ff0000\" stroke=\"#ff0000\" points=\"547.303,-176.927 556.857,-172.349 546.533,-169.969 547.303,-176.927\"/>\r\n",
       "<text text-anchor=\"middle\" x=\"451.274\" y=\"-191.145\" font-family=\"Times New Roman,serif\" font-size=\"14.00\">no</text>\r\n",
       "</g>\r\n",
       "<!-- 5 -->\r\n",
       "<g id=\"node8\" class=\"node\"><title>5</title>\r\n",
       "<polygon fill=\"none\" stroke=\"black\" points=\"613.017,-104.345 557.017,-104.345 557.017,-68.3454 613.017,-68.3454 613.017,-104.345\"/>\r\n",
       "<text text-anchor=\"middle\" x=\"585.017\" y=\"-82.6454\" font-family=\"Times New Roman,serif\" font-size=\"14.00\">leaf=&#45;0</text>\r\n",
       "</g>\r\n",
       "<!-- 2&#45;&gt;5 -->\r\n",
       "<g id=\"edge7\" class=\"edge\"><title>2&#45;&gt;5</title>\r\n",
       "<path fill=\"none\" stroke=\"#0000ff\" d=\"M371.723,-58.0111C422.733,-64.8193 500.767,-75.2343 546.662,-81.3598\"/>\r\n",
       "<polygon fill=\"#0000ff\" stroke=\"#0000ff\" points=\"546.399,-84.8556 556.774,-82.7094 547.325,-77.9171 546.399,-84.8556\"/>\r\n",
       "<text text-anchor=\"middle\" x=\"451.274\" y=\"-77.1454\" font-family=\"Times New Roman,serif\" font-size=\"14.00\">yes, missing</text>\r\n",
       "</g>\r\n",
       "<!-- 6 -->\r\n",
       "<g id=\"node9\" class=\"node\"><title>6</title>\r\n",
       "<polygon fill=\"none\" stroke=\"black\" points=\"636.017,-50.3454 534.017,-50.3454 534.017,-14.3454 636.017,-14.3454 636.017,-50.3454\"/>\r\n",
       "<text text-anchor=\"middle\" x=\"585.017\" y=\"-28.6454\" font-family=\"Times New Roman,serif\" font-size=\"14.00\">leaf=0.0812777</text>\r\n",
       "</g>\r\n",
       "<!-- 2&#45;&gt;6 -->\r\n",
       "<g id=\"edge8\" class=\"edge\"><title>2&#45;&gt;6</title>\r\n",
       "<path fill=\"none\" stroke=\"#ff0000\" d=\"M372.032,-47.7045C415.309,-44.569 477.867,-40.0364 523.812,-36.7075\"/>\r\n",
       "<polygon fill=\"#ff0000\" stroke=\"#ff0000\" points=\"524.214,-40.1876 533.935,-35.974 523.708,-33.2059 524.214,-40.1876\"/>\r\n",
       "<text text-anchor=\"middle\" x=\"451.274\" y=\"-48.1454\" font-family=\"Times New Roman,serif\" font-size=\"14.00\">no</text>\r\n",
       "</g>\r\n",
       "<!-- 7 -->\r\n",
       "<g id=\"node6\" class=\"node\"><title>7</title>\r\n",
       "<polygon fill=\"none\" stroke=\"black\" points=\"871.26,-331.345 771.26,-331.345 771.26,-295.345 871.26,-295.345 871.26,-331.345\"/>\r\n",
       "<text text-anchor=\"middle\" x=\"821.26\" y=\"-309.645\" font-family=\"Times New Roman,serif\" font-size=\"14.00\">leaf=&#45;0.103715</text>\r\n",
       "</g>\r\n",
       "<!-- 3&#45;&gt;7 -->\r\n",
       "<g id=\"edge5\" class=\"edge\"><title>3&#45;&gt;7</title>\r\n",
       "<path fill=\"none\" stroke=\"#0000ff\" d=\"M665.975,-295.562C697.019,-299.14 731.95,-303.166 760.713,-306.482\"/>\r\n",
       "<polygon fill=\"#0000ff\" stroke=\"#0000ff\" points=\"760.678,-310.001 771.013,-307.669 761.479,-303.047 760.678,-310.001\"/>\r\n",
       "<text text-anchor=\"middle\" x=\"718.76\" y=\"-309.145\" font-family=\"Times New Roman,serif\" font-size=\"14.00\">yes, missing</text>\r\n",
       "</g>\r\n",
       "<!-- 8 -->\r\n",
       "<g id=\"node7\" class=\"node\"><title>8</title>\r\n",
       "<polygon fill=\"none\" stroke=\"black\" points=\"849.26,-277.345 793.26,-277.345 793.26,-241.345 849.26,-241.345 849.26,-277.345\"/>\r\n",
       "<text text-anchor=\"middle\" x=\"821.26\" y=\"-255.645\" font-family=\"Times New Roman,serif\" font-size=\"14.00\">leaf=&#45;0</text>\r\n",
       "</g>\r\n",
       "<!-- 3&#45;&gt;8 -->\r\n",
       "<g id=\"edge6\" class=\"edge\"><title>3&#45;&gt;8</title>\r\n",
       "<path fill=\"none\" stroke=\"#ff0000\" d=\"M665.975,-277.129C705.627,-272.559 751.619,-267.257 783.002,-263.64\"/>\r\n",
       "<polygon fill=\"#ff0000\" stroke=\"#ff0000\" points=\"783.522,-267.103 793.055,-262.481 782.72,-260.149 783.522,-267.103\"/>\r\n",
       "<text text-anchor=\"middle\" x=\"718.76\" y=\"-278.145\" font-family=\"Times New Roman,serif\" font-size=\"14.00\">no</text>\r\n",
       "</g>\r\n",
       "</g>\r\n",
       "</svg>\r\n"
      ],
      "text/plain": [
       "<graphviz.dot.Digraph at 0x75ee978>"
      ]
     },
     "execution_count": 51,
     "metadata": {},
     "output_type": "execute_result"
    }
   ],
   "source": [
    "xgb.to_graphviz(bestXGB, num_trees=11, rankdir='LR' )"
   ]
  },
  {
   "cell_type": "code",
   "execution_count": 66,
   "metadata": {
    "collapsed": false
   },
   "outputs": [
    {
     "data": {
      "image/svg+xml": [
       "<?xml version=\"1.0\" encoding=\"UTF-8\" standalone=\"no\"?>\r\n",
       "<!DOCTYPE svg PUBLIC \"-//W3C//DTD SVG 1.1//EN\"\r\n",
       " \"http://www.w3.org/Graphics/SVG/1.1/DTD/svg11.dtd\">\r\n",
       "<!-- Generated by graphviz version 2.38.0 (20140413.2041)\r\n",
       " -->\r\n",
       "<!-- Title: %3 Pages: 1 -->\r\n",
       "<svg width=\"590pt\" height=\"344pt\"\r\n",
       " viewBox=\"0.00 0.00 590.18 344.24\" xmlns=\"http://www.w3.org/2000/svg\" xmlns:xlink=\"http://www.w3.org/1999/xlink\">\r\n",
       "<g id=\"graph0\" class=\"graph\" transform=\"scale(1 1) rotate(0) translate(4 340.236)\">\r\n",
       "<title>%3</title>\r\n",
       "<polygon fill=\"white\" stroke=\"none\" points=\"-4,4 -4,-340.236 586.176,-340.236 586.176,4 -4,4\"/>\r\n",
       "<!-- 0 -->\r\n",
       "<g id=\"node1\" class=\"node\"><title>0</title>\r\n",
       "<ellipse fill=\"none\" stroke=\"black\" cx=\"51.3454\" cy=\"-186.243\" rx=\"51.1914\" ry=\"51.1914\"/>\r\n",
       "<text text-anchor=\"middle\" x=\"51.3454\" y=\"-182.543\" font-family=\"Times New Roman,serif\" font-size=\"14.00\">cell_size&lt;3</text>\r\n",
       "</g>\r\n",
       "<!-- 1 -->\r\n",
       "<g id=\"node2\" class=\"node\"><title>1</title>\r\n",
       "<ellipse fill=\"none\" stroke=\"black\" cx=\"288.934\" cy=\"-258.243\" rx=\"77.9862\" ry=\"77.9862\"/>\r\n",
       "<text text-anchor=\"middle\" x=\"288.934\" y=\"-254.543\" font-family=\"Times New Roman,serif\" font-size=\"14.00\">normal_nucleoli&lt;3</text>\r\n",
       "</g>\r\n",
       "<!-- 0&#45;&gt;1 -->\r\n",
       "<g id=\"edge1\" class=\"edge\"><title>0&#45;&gt;1</title>\r\n",
       "<path fill=\"none\" stroke=\"#0000ff\" d=\"M100.589,-200.987C130.49,-210.125 169.706,-222.11 204.528,-232.752\"/>\r\n",
       "<polygon fill=\"#0000ff\" stroke=\"#0000ff\" points=\"203.635,-236.139 214.221,-235.715 205.681,-229.445 203.635,-236.139\"/>\r\n",
       "<text text-anchor=\"middle\" x=\"155.191\" y=\"-230.043\" font-family=\"Times New Roman,serif\" font-size=\"14.00\">yes, missing</text>\r\n",
       "</g>\r\n",
       "<!-- 2 -->\r\n",
       "<g id=\"node3\" class=\"node\"><title>2</title>\r\n",
       "<ellipse fill=\"none\" stroke=\"black\" cx=\"288.934\" cy=\"-81.2428\" rx=\"81.4863\" ry=\"81.4863\"/>\r\n",
       "<text text-anchor=\"middle\" x=\"288.934\" y=\"-77.5428\" font-family=\"Times New Roman,serif\" font-size=\"14.00\">bland_chromatin&lt;3</text>\r\n",
       "</g>\r\n",
       "<!-- 0&#45;&gt;2 -->\r\n",
       "<g id=\"edge2\" class=\"edge\"><title>0&#45;&gt;2</title>\r\n",
       "<path fill=\"none\" stroke=\"#ff0000\" d=\"M98.609,-165.623C128.87,-152.137 169.266,-134.132 204.971,-118.219\"/>\r\n",
       "<polygon fill=\"#ff0000\" stroke=\"#ff0000\" points=\"206.711,-121.275 214.42,-114.007 203.862,-114.881 206.711,-121.275\"/>\r\n",
       "<text text-anchor=\"middle\" x=\"155.191\" y=\"-158.043\" font-family=\"Times New Roman,serif\" font-size=\"14.00\">no</text>\r\n",
       "</g>\r\n",
       "<!-- 3 -->\r\n",
       "<g id=\"node4\" class=\"node\"><title>3</title>\r\n",
       "<polygon fill=\"none\" stroke=\"black\" points=\"582.176,-303.243 475.176,-303.243 475.176,-267.243 582.176,-267.243 582.176,-303.243\"/>\r\n",
       "<text text-anchor=\"middle\" x=\"528.676\" y=\"-281.543\" font-family=\"Times New Roman,serif\" font-size=\"14.00\">leaf=&#45;0.0933848</text>\r\n",
       "</g>\r\n",
       "<!-- 1&#45;&gt;3 -->\r\n",
       "<g id=\"edge3\" class=\"edge\"><title>1&#45;&gt;3</title>\r\n",
       "<path fill=\"none\" stroke=\"#0000ff\" d=\"M366.466,-266.934C398.296,-270.549 434.785,-274.693 464.99,-278.124\"/>\r\n",
       "<polygon fill=\"#0000ff\" stroke=\"#0000ff\" points=\"464.645,-281.607 474.976,-279.258 465.435,-274.652 464.645,-281.607\"/>\r\n",
       "<text text-anchor=\"middle\" x=\"422.676\" y=\"-280.043\" font-family=\"Times New Roman,serif\" font-size=\"14.00\">yes, missing</text>\r\n",
       "</g>\r\n",
       "<!-- 4 -->\r\n",
       "<g id=\"node5\" class=\"node\"><title>4</title>\r\n",
       "<polygon fill=\"none\" stroke=\"black\" points=\"556.676,-249.243 500.676,-249.243 500.676,-213.243 556.676,-213.243 556.676,-249.243\"/>\r\n",
       "<text text-anchor=\"middle\" x=\"528.676\" y=\"-227.543\" font-family=\"Times New Roman,serif\" font-size=\"14.00\">leaf=&#45;0</text>\r\n",
       "</g>\r\n",
       "<!-- 1&#45;&gt;4 -->\r\n",
       "<g id=\"edge4\" class=\"edge\"><title>1&#45;&gt;4</title>\r\n",
       "<path fill=\"none\" stroke=\"#ff0000\" d=\"M366.466,-249.551C407.988,-244.836 457.439,-239.22 490.524,-235.462\"/>\r\n",
       "<polygon fill=\"#ff0000\" stroke=\"#ff0000\" points=\"491.118,-238.917 500.659,-234.311 490.328,-231.962 491.118,-238.917\"/>\r\n",
       "<text text-anchor=\"middle\" x=\"422.676\" y=\"-250.043\" font-family=\"Times New Roman,serif\" font-size=\"14.00\">no</text>\r\n",
       "</g>\r\n",
       "<!-- 5 -->\r\n",
       "<g id=\"node6\" class=\"node\"><title>5</title>\r\n",
       "<polygon fill=\"none\" stroke=\"black\" points=\"556.676,-126.243 500.676,-126.243 500.676,-90.2428 556.676,-90.2428 556.676,-126.243\"/>\r\n",
       "<text text-anchor=\"middle\" x=\"528.676\" y=\"-104.543\" font-family=\"Times New Roman,serif\" font-size=\"14.00\">leaf=&#45;0</text>\r\n",
       "</g>\r\n",
       "<!-- 2&#45;&gt;5 -->\r\n",
       "<g id=\"edge5\" class=\"edge\"><title>2&#45;&gt;5</title>\r\n",
       "<path fill=\"none\" stroke=\"#0000ff\" d=\"M369.76,-90.3085C410.482,-94.9332 458.081,-100.339 490.291,-103.997\"/>\r\n",
       "<polygon fill=\"#0000ff\" stroke=\"#0000ff\" points=\"490.261,-107.516 500.592,-105.167 491.051,-100.561 490.261,-107.516\"/>\r\n",
       "<text text-anchor=\"middle\" x=\"422.676\" y=\"-103.043\" font-family=\"Times New Roman,serif\" font-size=\"14.00\">yes, missing</text>\r\n",
       "</g>\r\n",
       "<!-- 6 -->\r\n",
       "<g id=\"node7\" class=\"node\"><title>6</title>\r\n",
       "<polygon fill=\"none\" stroke=\"black\" points=\"579.676,-72.2428 477.676,-72.2428 477.676,-36.2428 579.676,-36.2428 579.676,-72.2428\"/>\r\n",
       "<text text-anchor=\"middle\" x=\"528.676\" y=\"-50.5428\" font-family=\"Times New Roman,serif\" font-size=\"14.00\">leaf=0.0686875</text>\r\n",
       "</g>\r\n",
       "<!-- 2&#45;&gt;6 -->\r\n",
       "<g id=\"edge6\" class=\"edge\"><title>2&#45;&gt;6</title>\r\n",
       "<path fill=\"none\" stroke=\"#ff0000\" d=\"M369.76,-72.1771C401.617,-68.5592 437.682,-64.4633 467.296,-61.1001\"/>\r\n",
       "<polygon fill=\"#ff0000\" stroke=\"#ff0000\" points=\"467.943,-64.5492 477.484,-59.943 467.153,-57.5939 467.943,-64.5492\"/>\r\n",
       "<text text-anchor=\"middle\" x=\"422.676\" y=\"-73.0428\" font-family=\"Times New Roman,serif\" font-size=\"14.00\">no</text>\r\n",
       "</g>\r\n",
       "</g>\r\n",
       "</svg>\r\n"
      ],
      "text/plain": [
       "<graphviz.dot.Digraph at 0x76448d0>"
      ]
     },
     "execution_count": 66,
     "metadata": {},
     "output_type": "execute_result"
    }
   ],
   "source": [
    "xgb.to_graphviz(bestXGB, num_trees=12, rankdir='LR' )"
   ]
  },
  {
   "cell_type": "code",
   "execution_count": 67,
   "metadata": {
    "collapsed": false
   },
   "outputs": [
    {
     "data": {
      "image/svg+xml": [
       "<?xml version=\"1.0\" encoding=\"UTF-8\" standalone=\"no\"?>\r\n",
       "<!DOCTYPE svg PUBLIC \"-//W3C//DTD SVG 1.1//EN\"\r\n",
       " \"http://www.w3.org/Graphics/SVG/1.1/DTD/svg11.dtd\">\r\n",
       "<!-- Generated by graphviz version 2.38.0 (20140413.2041)\r\n",
       " -->\r\n",
       "<!-- Title: %3 Pages: 1 -->\r\n",
       "<svg width=\"604pt\" height=\"326pt\"\r\n",
       " viewBox=\"0.00 0.00 604.48 326.14\" xmlns=\"http://www.w3.org/2000/svg\" xmlns:xlink=\"http://www.w3.org/1999/xlink\">\r\n",
       "<g id=\"graph0\" class=\"graph\" transform=\"scale(1 1) rotate(0) translate(4 322.137)\">\r\n",
       "<title>%3</title>\r\n",
       "<polygon fill=\"white\" stroke=\"none\" points=\"-4,4 -4,-322.137 600.475,-322.137 600.475,4 -4,4\"/>\r\n",
       "<!-- 0 -->\r\n",
       "<g id=\"node1\" class=\"node\"><title>0</title>\r\n",
       "<ellipse fill=\"none\" stroke=\"black\" cx=\"58.4948\" cy=\"-168.894\" rx=\"58.4896\" ry=\"58.4896\"/>\r\n",
       "<text text-anchor=\"middle\" x=\"58.4948\" y=\"-165.194\" font-family=\"Times New Roman,serif\" font-size=\"14.00\">cell_shape&lt;3</text>\r\n",
       "</g>\r\n",
       "<!-- 1 -->\r\n",
       "<g id=\"node2\" class=\"node\"><title>1</title>\r\n",
       "<ellipse fill=\"none\" stroke=\"black\" cx=\"303.232\" cy=\"-236.894\" rx=\"81.4863\" ry=\"81.4863\"/>\r\n",
       "<text text-anchor=\"middle\" x=\"303.232\" y=\"-233.194\" font-family=\"Times New Roman,serif\" font-size=\"14.00\">clump_thickness&lt;6</text>\r\n",
       "</g>\r\n",
       "<!-- 0&#45;&gt;1 -->\r\n",
       "<g id=\"edge1\" class=\"edge\"><title>0&#45;&gt;1</title>\r\n",
       "<path fill=\"none\" stroke=\"#0000ff\" d=\"M115.184,-184.494C144.739,-192.774 181.731,-203.137 214.998,-212.456\"/>\r\n",
       "<polygon fill=\"#0000ff\" stroke=\"#0000ff\" points=\"214.157,-215.855 224.73,-215.183 216.045,-209.115 214.157,-215.855\"/>\r\n",
       "<text text-anchor=\"middle\" x=\"169.49\" y=\"-212.694\" font-family=\"Times New Roman,serif\" font-size=\"14.00\">yes, missing</text>\r\n",
       "</g>\r\n",
       "<!-- 2 -->\r\n",
       "<g id=\"node3\" class=\"node\"><title>2</title>\r\n",
       "<ellipse fill=\"none\" stroke=\"black\" cx=\"303.232\" cy=\"-68.8939\" rx=\"68.7879\" ry=\"68.7879\"/>\r\n",
       "<text text-anchor=\"middle\" x=\"303.232\" y=\"-65.1939\" font-family=\"Times New Roman,serif\" font-size=\"14.00\">bare_nuclei&lt;2.5</text>\r\n",
       "</g>\r\n",
       "<!-- 0&#45;&gt;2 -->\r\n",
       "<g id=\"edge2\" class=\"edge\"><title>0&#45;&gt;2</title>\r\n",
       "<path fill=\"none\" stroke=\"#ff0000\" d=\"M112.765,-146.948C147.116,-132.797 192.227,-114.212 229.814,-98.7278\"/>\r\n",
       "<polygon fill=\"#ff0000\" stroke=\"#ff0000\" points=\"231.284,-101.908 239.197,-94.8624 228.618,-95.4354 231.284,-101.908\"/>\r\n",
       "<text text-anchor=\"middle\" x=\"169.49\" y=\"-139.694\" font-family=\"Times New Roman,serif\" font-size=\"14.00\">no</text>\r\n",
       "</g>\r\n",
       "<!-- 3 -->\r\n",
       "<g id=\"node4\" class=\"node\"><title>3</title>\r\n",
       "<polygon fill=\"none\" stroke=\"black\" points=\"596.475,-281.894 489.475,-281.894 489.475,-245.894 596.475,-245.894 596.475,-281.894\"/>\r\n",
       "<text text-anchor=\"middle\" x=\"542.975\" y=\"-260.194\" font-family=\"Times New Roman,serif\" font-size=\"14.00\">leaf=&#45;0.0946347</text>\r\n",
       "</g>\r\n",
       "<!-- 1&#45;&gt;3 -->\r\n",
       "<g id=\"edge3\" class=\"edge\"><title>1&#45;&gt;3</title>\r\n",
       "<path fill=\"none\" stroke=\"#0000ff\" d=\"M384.059,-245.96C415.071,-249.482 450.071,-253.456 479.226,-256.768\"/>\r\n",
       "<polygon fill=\"#0000ff\" stroke=\"#0000ff\" points=\"478.947,-260.258 489.278,-257.909 479.737,-253.303 478.947,-260.258\"/>\r\n",
       "<text text-anchor=\"middle\" x=\"436.975\" y=\"-258.694\" font-family=\"Times New Roman,serif\" font-size=\"14.00\">yes, missing</text>\r\n",
       "</g>\r\n",
       "<!-- 4 -->\r\n",
       "<g id=\"node5\" class=\"node\"><title>4</title>\r\n",
       "<polygon fill=\"none\" stroke=\"black\" points=\"570.975,-227.894 514.975,-227.894 514.975,-191.894 570.975,-191.894 570.975,-227.894\"/>\r\n",
       "<text text-anchor=\"middle\" x=\"542.975\" y=\"-206.194\" font-family=\"Times New Roman,serif\" font-size=\"14.00\">leaf=&#45;0</text>\r\n",
       "</g>\r\n",
       "<!-- 1&#45;&gt;4 -->\r\n",
       "<g id=\"edge4\" class=\"edge\"><title>1&#45;&gt;4</title>\r\n",
       "<path fill=\"none\" stroke=\"#ff0000\" d=\"M384.059,-227.828C424.78,-223.203 472.379,-217.798 504.59,-214.14\"/>\r\n",
       "<polygon fill=\"#ff0000\" stroke=\"#ff0000\" points=\"505.35,-217.576 514.891,-212.97 504.56,-210.621 505.35,-217.576\"/>\r\n",
       "<text text-anchor=\"middle\" x=\"436.975\" y=\"-228.694\" font-family=\"Times New Roman,serif\" font-size=\"14.00\">no</text>\r\n",
       "</g>\r\n",
       "<!-- 5 -->\r\n",
       "<g id=\"node6\" class=\"node\"><title>5</title>\r\n",
       "<polygon fill=\"none\" stroke=\"black\" points=\"570.975,-113.894 514.975,-113.894 514.975,-77.8939 570.975,-77.8939 570.975,-113.894\"/>\r\n",
       "<text text-anchor=\"middle\" x=\"542.975\" y=\"-92.1939\" font-family=\"Times New Roman,serif\" font-size=\"14.00\">leaf=&#45;0</text>\r\n",
       "</g>\r\n",
       "<!-- 2&#45;&gt;5 -->\r\n",
       "<g id=\"edge5\" class=\"edge\"><title>2&#45;&gt;5</title>\r\n",
       "<path fill=\"none\" stroke=\"#0000ff\" d=\"M371.724,-76.5588C414.77,-81.4474 468.946,-87.6001 504.475,-91.6351\"/>\r\n",
       "<polygon fill=\"#0000ff\" stroke=\"#0000ff\" points=\"504.538,-95.1647 514.87,-92.8155 505.328,-88.2094 504.538,-95.1647\"/>\r\n",
       "<text text-anchor=\"middle\" x=\"436.975\" y=\"-90.6939\" font-family=\"Times New Roman,serif\" font-size=\"14.00\">yes, missing</text>\r\n",
       "</g>\r\n",
       "<!-- 6 -->\r\n",
       "<g id=\"node7\" class=\"node\"><title>6</title>\r\n",
       "<polygon fill=\"none\" stroke=\"black\" points=\"593.975,-59.8939 491.975,-59.8939 491.975,-23.8939 593.975,-23.8939 593.975,-59.8939\"/>\r\n",
       "<text text-anchor=\"middle\" x=\"542.975\" y=\"-38.1939\" font-family=\"Times New Roman,serif\" font-size=\"14.00\">leaf=0.0703166</text>\r\n",
       "</g>\r\n",
       "<!-- 2&#45;&gt;6 -->\r\n",
       "<g id=\"edge6\" class=\"edge\"><title>2&#45;&gt;6</title>\r\n",
       "<path fill=\"none\" stroke=\"#ff0000\" d=\"M371.724,-61.229C406.31,-57.3011 448.081,-52.5572 481.593,-48.7514\"/>\r\n",
       "<polygon fill=\"#ff0000\" stroke=\"#ff0000\" points=\"482.169,-52.2085 491.71,-47.6024 481.379,-45.2532 482.169,-52.2085\"/>\r\n",
       "<text text-anchor=\"middle\" x=\"436.975\" y=\"-60.6939\" font-family=\"Times New Roman,serif\" font-size=\"14.00\">no</text>\r\n",
       "</g>\r\n",
       "</g>\r\n",
       "</svg>\r\n"
      ],
      "text/plain": [
       "<graphviz.dot.Digraph at 0x76449e8>"
      ]
     },
     "execution_count": 67,
     "metadata": {},
     "output_type": "execute_result"
    }
   ],
   "source": [
    "xgb.to_graphviz(bestXGB, num_trees=13, rankdir='LR' )"
   ]
  },
  {
   "cell_type": "code",
   "execution_count": 68,
   "metadata": {
    "collapsed": false
   },
   "outputs": [
    {
     "data": {
      "image/svg+xml": [
       "<?xml version=\"1.0\" encoding=\"UTF-8\" standalone=\"no\"?>\r\n",
       "<!DOCTYPE svg PUBLIC \"-//W3C//DTD SVG 1.1//EN\"\r\n",
       " \"http://www.w3.org/Graphics/SVG/1.1/DTD/svg11.dtd\">\r\n",
       "<!-- Generated by graphviz version 2.38.0 (20140413.2041)\r\n",
       " -->\r\n",
       "<!-- Title: %3 Pages: 1 -->\r\n",
       "<svg width=\"924pt\" height=\"420pt\"\r\n",
       " viewBox=\"0.00 0.00 923.96 420.49\" xmlns=\"http://www.w3.org/2000/svg\" xmlns:xlink=\"http://www.w3.org/1999/xlink\">\r\n",
       "<g id=\"graph0\" class=\"graph\" transform=\"scale(1 1) rotate(0) translate(4 416.486)\">\r\n",
       "<title>%3</title>\r\n",
       "<polygon fill=\"white\" stroke=\"none\" points=\"-4,4 -4,-416.486 919.956,-416.486 919.956,4 -4,4\"/>\r\n",
       "<!-- 0 -->\r\n",
       "<g id=\"node1\" class=\"node\"><title>0</title>\r\n",
       "<ellipse fill=\"none\" stroke=\"black\" cx=\"77.9931\" cy=\"-192.243\" rx=\"77.9862\" ry=\"77.9862\"/>\r\n",
       "<text text-anchor=\"middle\" x=\"77.9931\" y=\"-188.543\" font-family=\"Times New Roman,serif\" font-size=\"14.00\">normal_nucleoli&lt;3</text>\r\n",
       "</g>\r\n",
       "<!-- 1 -->\r\n",
       "<g id=\"node2\" class=\"node\"><title>1</title>\r\n",
       "<ellipse fill=\"none\" stroke=\"black\" cx=\"348.728\" cy=\"-268.243\" rx=\"87.9851\" ry=\"87.9851\"/>\r\n",
       "<text text-anchor=\"middle\" x=\"348.728\" y=\"-264.543\" font-family=\"Times New Roman,serif\" font-size=\"14.00\">marginal_adhesion&lt;3</text>\r\n",
       "</g>\r\n",
       "<!-- 0&#45;&gt;1 -->\r\n",
       "<g id=\"edge1\" class=\"edge\"><title>0&#45;&gt;1</title>\r\n",
       "<path fill=\"none\" stroke=\"#0000ff\" d=\"M153.138,-213.211C184.387,-222.049 221.116,-232.436 254.197,-241.791\"/>\r\n",
       "<polygon fill=\"#0000ff\" stroke=\"#0000ff\" points=\"253.302,-245.176 263.878,-244.529 255.207,-238.44 253.302,-245.176\"/>\r\n",
       "<text text-anchor=\"middle\" x=\"208.486\" y=\"-241.043\" font-family=\"Times New Roman,serif\" font-size=\"14.00\">yes, missing</text>\r\n",
       "</g>\r\n",
       "<!-- 2 -->\r\n",
       "<g id=\"node3\" class=\"node\"><title>2</title>\r\n",
       "<ellipse fill=\"none\" stroke=\"black\" cx=\"348.728\" cy=\"-81.2428\" rx=\"81.4863\" ry=\"81.4863\"/>\r\n",
       "<text text-anchor=\"middle\" x=\"348.728\" y=\"-77.5428\" font-family=\"Times New Roman,serif\" font-size=\"14.00\">clump_thickness&lt;5</text>\r\n",
       "</g>\r\n",
       "<!-- 0&#45;&gt;2 -->\r\n",
       "<g id=\"edge2\" class=\"edge\"><title>0&#45;&gt;2</title>\r\n",
       "<path fill=\"none\" stroke=\"#ff0000\" d=\"M150.304,-162.788C185.132,-148.402 227.271,-130.997 263.659,-115.967\"/>\r\n",
       "<polygon fill=\"#ff0000\" stroke=\"#ff0000\" points=\"265.36,-119.052 273.266,-111.999 262.688,-112.582 265.36,-119.052\"/>\r\n",
       "<text text-anchor=\"middle\" x=\"208.486\" y=\"-154.043\" font-family=\"Times New Roman,serif\" font-size=\"14.00\">no</text>\r\n",
       "</g>\r\n",
       "<!-- 3 -->\r\n",
       "<g id=\"node4\" class=\"node\"><title>3</title>\r\n",
       "<ellipse fill=\"none\" stroke=\"black\" cx=\"622.713\" cy=\"-331.243\" rx=\"81.4863\" ry=\"81.4863\"/>\r\n",
       "<text text-anchor=\"middle\" x=\"622.713\" y=\"-327.543\" font-family=\"Times New Roman,serif\" font-size=\"14.00\">clump_thickness&lt;6</text>\r\n",
       "</g>\r\n",
       "<!-- 1&#45;&gt;3 -->\r\n",
       "<g id=\"edge3\" class=\"edge\"><title>1&#45;&gt;3</title>\r\n",
       "<path fill=\"none\" stroke=\"#0000ff\" d=\"M434.295,-287.831C465.81,-295.131 501.646,-303.431 533.481,-310.806\"/>\r\n",
       "<polygon fill=\"#0000ff\" stroke=\"#0000ff\" points=\"532.692,-314.215 543.224,-313.062 534.271,-307.396 532.692,-314.215\"/>\r\n",
       "<text text-anchor=\"middle\" x=\"488.971\" y=\"-311.043\" font-family=\"Times New Roman,serif\" font-size=\"14.00\">yes, missing</text>\r\n",
       "</g>\r\n",
       "<!-- 4 -->\r\n",
       "<g id=\"node5\" class=\"node\"><title>4</title>\r\n",
       "<polygon fill=\"none\" stroke=\"black\" points=\"650.713,-232.243 594.713,-232.243 594.713,-196.243 650.713,-196.243 650.713,-232.243\"/>\r\n",
       "<text text-anchor=\"middle\" x=\"622.713\" y=\"-210.543\" font-family=\"Times New Roman,serif\" font-size=\"14.00\">leaf=&#45;0</text>\r\n",
       "</g>\r\n",
       "<!-- 1&#45;&gt;4 -->\r\n",
       "<g id=\"edge4\" class=\"edge\"><title>1&#45;&gt;4</title>\r\n",
       "<path fill=\"none\" stroke=\"#ff0000\" d=\"M435.04,-251.305C485.165,-241.353 546.01,-229.273 584.307,-221.669\"/>\r\n",
       "<polygon fill=\"#ff0000\" stroke=\"#ff0000\" points=\"585.356,-225.03 594.483,-219.649 583.993,-218.164 585.356,-225.03\"/>\r\n",
       "<text text-anchor=\"middle\" x=\"488.971\" y=\"-250.043\" font-family=\"Times New Roman,serif\" font-size=\"14.00\">no</text>\r\n",
       "</g>\r\n",
       "<!-- 5 -->\r\n",
       "<g id=\"node8\" class=\"node\"><title>5</title>\r\n",
       "<polygon fill=\"none\" stroke=\"black\" points=\"650.713,-144.243 594.713,-144.243 594.713,-108.243 650.713,-108.243 650.713,-144.243\"/>\r\n",
       "<text text-anchor=\"middle\" x=\"622.713\" y=\"-122.543\" font-family=\"Times New Roman,serif\" font-size=\"14.00\">leaf=&#45;0</text>\r\n",
       "</g>\r\n",
       "<!-- 2&#45;&gt;5 -->\r\n",
       "<g id=\"edge7\" class=\"edge\"><title>2&#45;&gt;5</title>\r\n",
       "<path fill=\"none\" stroke=\"#0000ff\" d=\"M429.129,-94.3796C480.37,-102.857 544.657,-113.494 584.461,-120.079\"/>\r\n",
       "<polygon fill=\"#0000ff\" stroke=\"#0000ff\" points=\"584.081,-123.564 594.519,-121.743 585.224,-116.658 584.081,-123.564\"/>\r\n",
       "<text text-anchor=\"middle\" x=\"488.971\" y=\"-113.043\" font-family=\"Times New Roman,serif\" font-size=\"14.00\">yes, missing</text>\r\n",
       "</g>\r\n",
       "<!-- 6 -->\r\n",
       "<g id=\"node9\" class=\"node\"><title>6</title>\r\n",
       "<polygon fill=\"none\" stroke=\"black\" points=\"673.713,-90.2428 571.713,-90.2428 571.713,-54.2428 673.713,-54.2428 673.713,-90.2428\"/>\r\n",
       "<text text-anchor=\"middle\" x=\"622.713\" y=\"-68.5428\" font-family=\"Times New Roman,serif\" font-size=\"14.00\">leaf=0.0611106</text>\r\n",
       "</g>\r\n",
       "<!-- 2&#45;&gt;6 -->\r\n",
       "<g id=\"edge8\" class=\"edge\"><title>2&#45;&gt;6</title>\r\n",
       "<path fill=\"none\" stroke=\"#ff0000\" d=\"M430.229,-78.579C472.217,-77.1896 522.724,-75.5184 561.321,-74.2412\"/>\r\n",
       "<polygon fill=\"#ff0000\" stroke=\"#ff0000\" points=\"561.49,-77.7376 571.369,-73.9087 561.258,-70.7414 561.49,-77.7376\"/>\r\n",
       "<text text-anchor=\"middle\" x=\"488.971\" y=\"-82.0428\" font-family=\"Times New Roman,serif\" font-size=\"14.00\">no</text>\r\n",
       "</g>\r\n",
       "<!-- 7 -->\r\n",
       "<g id=\"node6\" class=\"node\"><title>7</title>\r\n",
       "<polygon fill=\"none\" stroke=\"black\" points=\"915.956,-376.243 808.956,-376.243 808.956,-340.243 915.956,-340.243 915.956,-376.243\"/>\r\n",
       "<text text-anchor=\"middle\" x=\"862.456\" y=\"-354.543\" font-family=\"Times New Roman,serif\" font-size=\"14.00\">leaf=&#45;0.0909272</text>\r\n",
       "</g>\r\n",
       "<!-- 3&#45;&gt;7 -->\r\n",
       "<g id=\"edge5\" class=\"edge\"><title>3&#45;&gt;7</title>\r\n",
       "<path fill=\"none\" stroke=\"#0000ff\" d=\"M703.54,-340.309C734.552,-343.83 769.552,-347.805 798.707,-351.116\"/>\r\n",
       "<polygon fill=\"#0000ff\" stroke=\"#0000ff\" points=\"798.428,-354.607 808.759,-352.258 799.218,-347.652 798.428,-354.607\"/>\r\n",
       "<text text-anchor=\"middle\" x=\"756.456\" y=\"-353.043\" font-family=\"Times New Roman,serif\" font-size=\"14.00\">yes, missing</text>\r\n",
       "</g>\r\n",
       "<!-- 8 -->\r\n",
       "<g id=\"node7\" class=\"node\"><title>8</title>\r\n",
       "<polygon fill=\"none\" stroke=\"black\" points=\"890.456,-322.243 834.456,-322.243 834.456,-286.243 890.456,-286.243 890.456,-322.243\"/>\r\n",
       "<text text-anchor=\"middle\" x=\"862.456\" y=\"-300.543\" font-family=\"Times New Roman,serif\" font-size=\"14.00\">leaf=&#45;0</text>\r\n",
       "</g>\r\n",
       "<!-- 3&#45;&gt;8 -->\r\n",
       "<g id=\"edge6\" class=\"edge\"><title>3&#45;&gt;8</title>\r\n",
       "<path fill=\"none\" stroke=\"#ff0000\" d=\"M703.54,-322.177C744.261,-317.552 791.86,-312.147 824.071,-308.489\"/>\r\n",
       "<polygon fill=\"#ff0000\" stroke=\"#ff0000\" points=\"824.831,-311.925 834.372,-307.319 824.041,-304.97 824.831,-311.925\"/>\r\n",
       "<text text-anchor=\"middle\" x=\"756.456\" y=\"-324.043\" font-family=\"Times New Roman,serif\" font-size=\"14.00\">no</text>\r\n",
       "</g>\r\n",
       "</g>\r\n",
       "</svg>\r\n"
      ],
      "text/plain": [
       "<graphviz.dot.Digraph at 0x7644e10>"
      ]
     },
     "execution_count": 68,
     "metadata": {},
     "output_type": "execute_result"
    }
   ],
   "source": [
    "xgb.to_graphviz(bestXGB, num_trees=14, rankdir='LR' )"
   ]
  },
  {
   "cell_type": "code",
   "execution_count": 69,
   "metadata": {
    "collapsed": false
   },
   "outputs": [
    {
     "data": {
      "image/svg+xml": [
       "<?xml version=\"1.0\" encoding=\"UTF-8\" standalone=\"no\"?>\r\n",
       "<!DOCTYPE svg PUBLIC \"-//W3C//DTD SVG 1.1//EN\"\r\n",
       " \"http://www.w3.org/Graphics/SVG/1.1/DTD/svg11.dtd\">\r\n",
       "<!-- Generated by graphviz version 2.38.0 (20140413.2041)\r\n",
       " -->\r\n",
       "<!-- Title: %3 Pages: 1 -->\r\n",
       "<svg width=\"845pt\" height=\"313pt\"\r\n",
       " viewBox=\"0.00 0.00 844.66 312.99\" xmlns=\"http://www.w3.org/2000/svg\" xmlns:xlink=\"http://www.w3.org/1999/xlink\">\r\n",
       "<g id=\"graph0\" class=\"graph\" transform=\"scale(1 1) rotate(0) translate(4 308.993)\">\r\n",
       "<title>%3</title>\r\n",
       "<polygon fill=\"white\" stroke=\"none\" points=\"-4,4 -4,-308.993 840.663,-308.993 840.663,4 -4,4\"/>\r\n",
       "<!-- 0 -->\r\n",
       "<g id=\"node1\" class=\"node\"><title>0</title>\r\n",
       "<ellipse fill=\"none\" stroke=\"black\" cx=\"51.3454\" cy=\"-56\" rx=\"51.1914\" ry=\"51.1914\"/>\r\n",
       "<text text-anchor=\"middle\" x=\"51.3454\" y=\"-52.3\" font-family=\"Times New Roman,serif\" font-size=\"14.00\">cell_size&lt;4</text>\r\n",
       "</g>\r\n",
       "<!-- 1 -->\r\n",
       "<g id=\"node2\" class=\"node\"><title>1</title>\r\n",
       "<ellipse fill=\"none\" stroke=\"black\" cx=\"285.684\" cy=\"-132\" rx=\"77.9862\" ry=\"77.9862\"/>\r\n",
       "<text text-anchor=\"middle\" x=\"285.684\" y=\"-128.3\" font-family=\"Times New Roman,serif\" font-size=\"14.00\">normal_nucleoli&lt;3</text>\r\n",
       "</g>\r\n",
       "<!-- 0&#45;&gt;1 -->\r\n",
       "<g id=\"edge1\" class=\"edge\"><title>0&#45;&gt;1</title>\r\n",
       "<path fill=\"none\" stroke=\"#0000ff\" d=\"M100.486,-71.7472C129.641,-81.2841 167.623,-93.7082 201.517,-104.795\"/>\r\n",
       "<polygon fill=\"#0000ff\" stroke=\"#0000ff\" points=\"200.83,-108.253 211.422,-108.035 203.006,-101.6 200.83,-108.253\"/>\r\n",
       "<text text-anchor=\"middle\" x=\"155.191\" y=\"-104.8\" font-family=\"Times New Roman,serif\" font-size=\"14.00\">yes, missing</text>\r\n",
       "</g>\r\n",
       "<!-- 2 -->\r\n",
       "<g id=\"node3\" class=\"node\"><title>2</title>\r\n",
       "<polygon fill=\"none\" stroke=\"black\" points=\"336.684,-36 234.684,-36 234.684,-0 336.684,-0 336.684,-36\"/>\r\n",
       "<text text-anchor=\"middle\" x=\"285.684\" y=\"-14.3\" font-family=\"Times New Roman,serif\" font-size=\"14.00\">leaf=0.0466018</text>\r\n",
       "</g>\r\n",
       "<!-- 0&#45;&gt;2 -->\r\n",
       "<g id=\"edge2\" class=\"edge\"><title>0&#45;&gt;2</title>\r\n",
       "<path fill=\"none\" stroke=\"#ff0000\" d=\"M102.188,-47.848C138.051,-41.9825 186.597,-34.0426 224.604,-27.8264\"/>\r\n",
       "<polygon fill=\"#ff0000\" stroke=\"#ff0000\" points=\"225.22,-31.2722 234.524,-26.2039 224.09,-24.364 225.22,-31.2722\"/>\r\n",
       "<text text-anchor=\"middle\" x=\"155.191\" y=\"-48.8\" font-family=\"Times New Roman,serif\" font-size=\"14.00\">no</text>\r\n",
       "</g>\r\n",
       "<!-- 3 -->\r\n",
       "<g id=\"node4\" class=\"node\"><title>3</title>\r\n",
       "<ellipse fill=\"none\" stroke=\"black\" cx=\"546.67\" cy=\"-227\" rx=\"77.9862\" ry=\"77.9862\"/>\r\n",
       "<text text-anchor=\"middle\" x=\"546.67\" y=\"-223.3\" font-family=\"Times New Roman,serif\" font-size=\"14.00\">epitelial_cellsize&lt;4</text>\r\n",
       "</g>\r\n",
       "<!-- 1&#45;&gt;3 -->\r\n",
       "<g id=\"edge3\" class=\"edge\"><title>1&#45;&gt;3</title>\r\n",
       "<path fill=\"none\" stroke=\"#0000ff\" d=\"M359.17,-158.589C391.586,-170.48 429.955,-184.554 463.439,-196.836\"/>\r\n",
       "<polygon fill=\"#0000ff\" stroke=\"#0000ff\" points=\"462.607,-200.259 473.201,-200.417 465.018,-193.688 462.607,-200.259\"/>\r\n",
       "<text text-anchor=\"middle\" x=\"416.177\" y=\"-194.8\" font-family=\"Times New Roman,serif\" font-size=\"14.00\">yes, missing</text>\r\n",
       "</g>\r\n",
       "<!-- 4 -->\r\n",
       "<g id=\"node5\" class=\"node\"><title>4</title>\r\n",
       "<polygon fill=\"none\" stroke=\"black\" points=\"574.67,-131 518.67,-131 518.67,-95 574.67,-95 574.67,-131\"/>\r\n",
       "<text text-anchor=\"middle\" x=\"546.67\" y=\"-109.3\" font-family=\"Times New Roman,serif\" font-size=\"14.00\">leaf=&#45;0</text>\r\n",
       "</g>\r\n",
       "<!-- 1&#45;&gt;4 -->\r\n",
       "<g id=\"edge4\" class=\"edge\"><title>1&#45;&gt;4</title>\r\n",
       "<path fill=\"none\" stroke=\"#ff0000\" d=\"M363.687,-126.351C411.526,-122.841 470.869,-118.488 508.514,-115.726\"/>\r\n",
       "<polygon fill=\"#ff0000\" stroke=\"#ff0000\" points=\"508.811,-119.214 518.528,-114.991 508.299,-112.232 508.811,-119.214\"/>\r\n",
       "<text text-anchor=\"middle\" x=\"416.177\" y=\"-128.8\" font-family=\"Times New Roman,serif\" font-size=\"14.00\">no</text>\r\n",
       "</g>\r\n",
       "<!-- 5 -->\r\n",
       "<g id=\"node6\" class=\"node\"><title>5</title>\r\n",
       "<polygon fill=\"none\" stroke=\"black\" points=\"836.663,-272 729.663,-272 729.663,-236 836.663,-236 836.663,-272\"/>\r\n",
       "<text text-anchor=\"middle\" x=\"783.163\" y=\"-250.3\" font-family=\"Times New Roman,serif\" font-size=\"14.00\">leaf=&#45;0.0851962</text>\r\n",
       "</g>\r\n",
       "<!-- 3&#45;&gt;5 -->\r\n",
       "<g id=\"edge5\" class=\"edge\"><title>3&#45;&gt;5</title>\r\n",
       "<path fill=\"none\" stroke=\"#0000ff\" d=\"M624.452,-235.841C655.159,-239.376 690.087,-243.398 719.254,-246.757\"/>\r\n",
       "<polygon fill=\"#0000ff\" stroke=\"#0000ff\" points=\"718.98,-250.248 729.315,-247.915 719.781,-243.294 718.98,-250.248\"/>\r\n",
       "<text text-anchor=\"middle\" x=\"677.163\" y=\"-249.8\" font-family=\"Times New Roman,serif\" font-size=\"14.00\">yes, missing</text>\r\n",
       "</g>\r\n",
       "<!-- 6 -->\r\n",
       "<g id=\"node7\" class=\"node\"><title>6</title>\r\n",
       "<polygon fill=\"none\" stroke=\"black\" points=\"811.163,-218 755.163,-218 755.163,-182 811.163,-182 811.163,-218\"/>\r\n",
       "<text text-anchor=\"middle\" x=\"783.163\" y=\"-196.3\" font-family=\"Times New Roman,serif\" font-size=\"14.00\">leaf=&#45;0</text>\r\n",
       "</g>\r\n",
       "<!-- 3&#45;&gt;6 -->\r\n",
       "<g id=\"edge6\" class=\"edge\"><title>3&#45;&gt;6</title>\r\n",
       "<path fill=\"none\" stroke=\"#ff0000\" d=\"M624.452,-218.159C664.774,-213.516 712.373,-208.036 744.651,-204.319\"/>\r\n",
       "<polygon fill=\"#ff0000\" stroke=\"#ff0000\" points=\"745.443,-207.751 754.977,-203.13 744.643,-200.797 745.443,-207.751\"/>\r\n",
       "<text text-anchor=\"middle\" x=\"677.163\" y=\"-219.8\" font-family=\"Times New Roman,serif\" font-size=\"14.00\">no</text>\r\n",
       "</g>\r\n",
       "</g>\r\n",
       "</svg>\r\n"
      ],
      "text/plain": [
       "<graphviz.dot.Digraph at 0x7644fd0>"
      ]
     },
     "execution_count": 69,
     "metadata": {},
     "output_type": "execute_result"
    }
   ],
   "source": [
    "xgb.to_graphviz(bestXGB, num_trees=15, rankdir='LR' )"
   ]
  },
  {
   "cell_type": "code",
   "execution_count": 70,
   "metadata": {
    "collapsed": false
   },
   "outputs": [
    {
     "data": {
      "image/svg+xml": [
       "<?xml version=\"1.0\" encoding=\"UTF-8\" standalone=\"no\"?>\r\n",
       "<!DOCTYPE svg PUBLIC \"-//W3C//DTD SVG 1.1//EN\"\r\n",
       " \"http://www.w3.org/Graphics/SVG/1.1/DTD/svg11.dtd\">\r\n",
       "<!-- Generated by graphviz version 2.38.0 (20140413.2041)\r\n",
       " -->\r\n",
       "<!-- Title: %3 Pages: 1 -->\r\n",
       "<svg width=\"599pt\" height=\"350pt\"\r\n",
       " viewBox=\"0.00 0.00 599.48 350.49\" xmlns=\"http://www.w3.org/2000/svg\" xmlns:xlink=\"http://www.w3.org/1999/xlink\">\r\n",
       "<g id=\"graph0\" class=\"graph\" transform=\"scale(1 1) rotate(0) translate(4 346.486)\">\r\n",
       "<title>%3</title>\r\n",
       "<polygon fill=\"white\" stroke=\"none\" points=\"-4,4 -4,-346.486 595.475,-346.486 595.475,4 -4,4\"/>\r\n",
       "<!-- 0 -->\r\n",
       "<g id=\"node1\" class=\"node\"><title>0</title>\r\n",
       "<ellipse fill=\"none\" stroke=\"black\" cx=\"58.4948\" cy=\"-188.243\" rx=\"58.4896\" ry=\"58.4896\"/>\r\n",
       "<text text-anchor=\"middle\" x=\"58.4948\" y=\"-184.543\" font-family=\"Times New Roman,serif\" font-size=\"14.00\">cell_shape&lt;3</text>\r\n",
       "</g>\r\n",
       "<!-- 1 -->\r\n",
       "<g id=\"node2\" class=\"node\"><title>1</title>\r\n",
       "<ellipse fill=\"none\" stroke=\"black\" cx=\"303.232\" cy=\"-261.243\" rx=\"81.4863\" ry=\"81.4863\"/>\r\n",
       "<text text-anchor=\"middle\" x=\"303.232\" y=\"-257.543\" font-family=\"Times New Roman,serif\" font-size=\"14.00\">clump_thickness&lt;6</text>\r\n",
       "</g>\r\n",
       "<!-- 0&#45;&gt;1 -->\r\n",
       "<g id=\"edge1\" class=\"edge\"><title>0&#45;&gt;1</title>\r\n",
       "<path fill=\"none\" stroke=\"#0000ff\" d=\"M114.879,-204.899C144.553,-213.823 181.787,-225.02 215.227,-235.077\"/>\r\n",
       "<polygon fill=\"#0000ff\" stroke=\"#0000ff\" points=\"214.424,-238.49 225.008,-238.019 216.44,-231.787 214.424,-238.49\"/>\r\n",
       "<text text-anchor=\"middle\" x=\"169.49\" y=\"-235.043\" font-family=\"Times New Roman,serif\" font-size=\"14.00\">yes, missing</text>\r\n",
       "</g>\r\n",
       "<!-- 2 -->\r\n",
       "<g id=\"node3\" class=\"node\"><title>2</title>\r\n",
       "<ellipse fill=\"none\" stroke=\"black\" cx=\"303.232\" cy=\"-81.2428\" rx=\"81.4863\" ry=\"81.4863\"/>\r\n",
       "<text text-anchor=\"middle\" x=\"303.232\" y=\"-77.5428\" font-family=\"Times New Roman,serif\" font-size=\"14.00\">bland_chromatin&lt;3</text>\r\n",
       "</g>\r\n",
       "<!-- 0&#45;&gt;2 -->\r\n",
       "<g id=\"edge2\" class=\"edge\"><title>0&#45;&gt;2</title>\r\n",
       "<path fill=\"none\" stroke=\"#ff0000\" d=\"M112.465,-164.893C143.71,-151.12 183.935,-133.389 219.304,-117.798\"/>\r\n",
       "<polygon fill=\"#ff0000\" stroke=\"#ff0000\" points=\"220.921,-120.91 228.659,-113.674 218.097,-114.505 220.921,-120.91\"/>\r\n",
       "<text text-anchor=\"middle\" x=\"169.49\" y=\"-157.043\" font-family=\"Times New Roman,serif\" font-size=\"14.00\">no</text>\r\n",
       "</g>\r\n",
       "<!-- 3 -->\r\n",
       "<g id=\"node4\" class=\"node\"><title>3</title>\r\n",
       "<polygon fill=\"none\" stroke=\"black\" points=\"590.475,-306.243 490.475,-306.243 490.475,-270.243 590.475,-270.243 590.475,-306.243\"/>\r\n",
       "<text text-anchor=\"middle\" x=\"540.475\" y=\"-284.543\" font-family=\"Times New Roman,serif\" font-size=\"14.00\">leaf=&#45;0.084815</text>\r\n",
       "</g>\r\n",
       "<!-- 1&#45;&gt;3 -->\r\n",
       "<g id=\"edge3\" class=\"edge\"><title>1&#45;&gt;3</title>\r\n",
       "<path fill=\"none\" stroke=\"#0000ff\" d=\"M384.203,-270.421C415.659,-274.032 451.13,-278.103 480.221,-281.442\"/>\r\n",
       "<polygon fill=\"#0000ff\" stroke=\"#0000ff\" points=\"479.894,-284.927 490.228,-282.59 480.692,-277.973 479.894,-284.927\"/>\r\n",
       "<text text-anchor=\"middle\" x=\"436.975\" y=\"-284.043\" font-family=\"Times New Roman,serif\" font-size=\"14.00\">yes, missing</text>\r\n",
       "</g>\r\n",
       "<!-- 4 -->\r\n",
       "<g id=\"node5\" class=\"node\"><title>4</title>\r\n",
       "<polygon fill=\"none\" stroke=\"black\" points=\"568.475,-252.243 512.475,-252.243 512.475,-216.243 568.475,-216.243 568.475,-252.243\"/>\r\n",
       "<text text-anchor=\"middle\" x=\"540.475\" y=\"-230.543\" font-family=\"Times New Roman,serif\" font-size=\"14.00\">leaf=&#45;0</text>\r\n",
       "</g>\r\n",
       "<!-- 1&#45;&gt;4 -->\r\n",
       "<g id=\"edge4\" class=\"edge\"><title>1&#45;&gt;4</title>\r\n",
       "<path fill=\"none\" stroke=\"#ff0000\" d=\"M384.203,-252.064C424.173,-247.477 470.627,-242.145 502.235,-238.517\"/>\r\n",
       "<polygon fill=\"#ff0000\" stroke=\"#ff0000\" points=\"502.819,-241.973 512.354,-237.356 502.021,-235.019 502.819,-241.973\"/>\r\n",
       "<text text-anchor=\"middle\" x=\"436.975\" y=\"-253.043\" font-family=\"Times New Roman,serif\" font-size=\"14.00\">no</text>\r\n",
       "</g>\r\n",
       "<!-- 5 -->\r\n",
       "<g id=\"node6\" class=\"node\"><title>5</title>\r\n",
       "<polygon fill=\"none\" stroke=\"black\" points=\"568.475,-126.243 512.475,-126.243 512.475,-90.2428 568.475,-90.2428 568.475,-126.243\"/>\r\n",
       "<text text-anchor=\"middle\" x=\"540.475\" y=\"-104.543\" font-family=\"Times New Roman,serif\" font-size=\"14.00\">leaf=&#45;0</text>\r\n",
       "</g>\r\n",
       "<!-- 2&#45;&gt;5 -->\r\n",
       "<g id=\"edge5\" class=\"edge\"><title>2&#45;&gt;5</title>\r\n",
       "<path fill=\"none\" stroke=\"#0000ff\" d=\"M384.203,-90.4214C424.173,-95.009 470.627,-100.341 502.235,-103.969\"/>\r\n",
       "<polygon fill=\"#0000ff\" stroke=\"#0000ff\" points=\"502.021,-107.467 512.354,-105.13 502.819,-100.512 502.021,-107.467\"/>\r\n",
       "<text text-anchor=\"middle\" x=\"436.975\" y=\"-104.043\" font-family=\"Times New Roman,serif\" font-size=\"14.00\">yes, missing</text>\r\n",
       "</g>\r\n",
       "<!-- 6 -->\r\n",
       "<g id=\"node7\" class=\"node\"><title>6</title>\r\n",
       "<polygon fill=\"none\" stroke=\"black\" points=\"591.475,-72.2428 489.475,-72.2428 489.475,-36.2428 591.475,-36.2428 591.475,-72.2428\"/>\r\n",
       "<text text-anchor=\"middle\" x=\"540.475\" y=\"-50.5428\" font-family=\"Times New Roman,serif\" font-size=\"14.00\">leaf=0.0536807</text>\r\n",
       "</g>\r\n",
       "<!-- 2&#45;&gt;6 -->\r\n",
       "<g id=\"edge6\" class=\"edge\"><title>2&#45;&gt;6</title>\r\n",
       "<path fill=\"none\" stroke=\"#ff0000\" d=\"M384.203,-72.0641C415.301,-68.4949 450.325,-64.4751 479.227,-61.1578\"/>\r\n",
       "<polygon fill=\"#ff0000\" stroke=\"#ff0000\" points=\"479.643,-64.6331 489.178,-60.0156 478.844,-57.6788 479.643,-64.6331\"/>\r\n",
       "<text text-anchor=\"middle\" x=\"436.975\" y=\"-73.0428\" font-family=\"Times New Roman,serif\" font-size=\"14.00\">no</text>\r\n",
       "</g>\r\n",
       "</g>\r\n",
       "</svg>\r\n"
      ],
      "text/plain": [
       "<graphviz.dot.Digraph at 0x762cb70>"
      ]
     },
     "execution_count": 70,
     "metadata": {},
     "output_type": "execute_result"
    }
   ],
   "source": [
    "xgb.to_graphviz(bestXGB, num_trees=16, rankdir='LR' )"
   ]
  },
  {
   "cell_type": "code",
   "execution_count": 71,
   "metadata": {
    "collapsed": false
   },
   "outputs": [
    {
     "data": {
      "image/svg+xml": [
       "<?xml version=\"1.0\" encoding=\"UTF-8\" standalone=\"no\"?>\r\n",
       "<!DOCTYPE svg PUBLIC \"-//W3C//DTD SVG 1.1//EN\"\r\n",
       " \"http://www.w3.org/Graphics/SVG/1.1/DTD/svg11.dtd\">\r\n",
       "<!-- Generated by graphviz version 2.38.0 (20140413.2041)\r\n",
       " -->\r\n",
       "<!-- Title: %3 Pages: 1 -->\r\n",
       "<svg width=\"917pt\" height=\"410pt\"\r\n",
       " viewBox=\"0.00 0.00 917.46 409.99\" xmlns=\"http://www.w3.org/2000/svg\" xmlns:xlink=\"http://www.w3.org/1999/xlink\">\r\n",
       "<g id=\"graph0\" class=\"graph\" transform=\"scale(1 1) rotate(0) translate(4 405.986)\">\r\n",
       "<title>%3</title>\r\n",
       "<polygon fill=\"white\" stroke=\"none\" points=\"-4,4 -4,-405.986 913.457,-405.986 913.457,4 -4,4\"/>\r\n",
       "<!-- 0 -->\r\n",
       "<g id=\"node1\" class=\"node\"><title>0</title>\r\n",
       "<ellipse fill=\"none\" stroke=\"black\" cx=\"77.9931\" cy=\"-187.993\" rx=\"77.9862\" ry=\"77.9862\"/>\r\n",
       "<text text-anchor=\"middle\" x=\"77.9931\" y=\"-184.293\" font-family=\"Times New Roman,serif\" font-size=\"14.00\">epitelial_cellsize&lt;3</text>\r\n",
       "</g>\r\n",
       "<!-- 1 -->\r\n",
       "<g id=\"node2\" class=\"node\"><title>1</title>\r\n",
       "<ellipse fill=\"none\" stroke=\"black\" cx=\"348.728\" cy=\"-261.993\" rx=\"87.9851\" ry=\"87.9851\"/>\r\n",
       "<text text-anchor=\"middle\" x=\"348.728\" y=\"-258.293\" font-family=\"Times New Roman,serif\" font-size=\"14.00\">marginal_adhesion&lt;4</text>\r\n",
       "</g>\r\n",
       "<!-- 0&#45;&gt;1 -->\r\n",
       "<g id=\"edge1\" class=\"edge\"><title>0&#45;&gt;1</title>\r\n",
       "<path fill=\"none\" stroke=\"#0000ff\" d=\"M153.494,-208.508C184.464,-217.036 220.767,-227.032 253.553,-236.061\"/>\r\n",
       "<polygon fill=\"#0000ff\" stroke=\"#0000ff\" points=\"253.036,-239.548 263.606,-238.829 254.894,-232.799 253.036,-239.548\"/>\r\n",
       "<text text-anchor=\"middle\" x=\"208.486\" y=\"-235.793\" font-family=\"Times New Roman,serif\" font-size=\"14.00\">yes, missing</text>\r\n",
       "</g>\r\n",
       "<!-- 2 -->\r\n",
       "<g id=\"node3\" class=\"node\"><title>2</title>\r\n",
       "<ellipse fill=\"none\" stroke=\"black\" cx=\"348.728\" cy=\"-77.9931\" rx=\"77.9862\" ry=\"77.9862\"/>\r\n",
       "<text text-anchor=\"middle\" x=\"348.728\" y=\"-74.2931\" font-family=\"Times New Roman,serif\" font-size=\"14.00\">epitelial_cellsize&lt;4</text>\r\n",
       "</g>\r\n",
       "<!-- 0&#45;&gt;2 -->\r\n",
       "<g id=\"edge2\" class=\"edge\"><title>0&#45;&gt;2</title>\r\n",
       "<path fill=\"none\" stroke=\"#ff0000\" d=\"M150.656,-158.66C186.491,-143.992 229.996,-126.184 267.005,-111.035\"/>\r\n",
       "<polygon fill=\"#ff0000\" stroke=\"#ff0000\" points=\"268.336,-114.272 276.265,-107.245 265.684,-107.794 268.336,-114.272\"/>\r\n",
       "<text text-anchor=\"middle\" x=\"208.486\" y=\"-150.793\" font-family=\"Times New Roman,serif\" font-size=\"14.00\">no</text>\r\n",
       "</g>\r\n",
       "<!-- 3 -->\r\n",
       "<g id=\"node4\" class=\"node\"><title>3</title>\r\n",
       "<ellipse fill=\"none\" stroke=\"black\" cx=\"619.464\" cy=\"-323.993\" rx=\"77.9862\" ry=\"77.9862\"/>\r\n",
       "<text text-anchor=\"middle\" x=\"619.464\" y=\"-320.293\" font-family=\"Times New Roman,serif\" font-size=\"14.00\">normal_nucleoli&lt;4</text>\r\n",
       "</g>\r\n",
       "<!-- 1&#45;&gt;3 -->\r\n",
       "<g id=\"edge3\" class=\"edge\"><title>1&#45;&gt;3</title>\r\n",
       "<path fill=\"none\" stroke=\"#0000ff\" d=\"M434.389,-281.525C465.903,-288.796 501.663,-297.046 533.227,-304.328\"/>\r\n",
       "<polygon fill=\"#0000ff\" stroke=\"#0000ff\" points=\"532.787,-307.818 543.318,-306.656 534.36,-300.998 532.787,-307.818\"/>\r\n",
       "<text text-anchor=\"middle\" x=\"488.971\" y=\"-306.793\" font-family=\"Times New Roman,serif\" font-size=\"14.00\">yes, missing</text>\r\n",
       "</g>\r\n",
       "<!-- 4 -->\r\n",
       "<g id=\"node5\" class=\"node\"><title>4</title>\r\n",
       "<polygon fill=\"none\" stroke=\"black\" points=\"647.464,-227.993 591.464,-227.993 591.464,-191.993 647.464,-191.993 647.464,-227.993\"/>\r\n",
       "<text text-anchor=\"middle\" x=\"619.464\" y=\"-206.293\" font-family=\"Times New Roman,serif\" font-size=\"14.00\">leaf=&#45;0</text>\r\n",
       "</g>\r\n",
       "<!-- 1&#45;&gt;4 -->\r\n",
       "<g id=\"edge4\" class=\"edge\"><title>1&#45;&gt;4</title>\r\n",
       "<path fill=\"none\" stroke=\"#ff0000\" d=\"M435.127,-245.469C484.296,-235.954 543.6,-224.479 581.176,-217.208\"/>\r\n",
       "<polygon fill=\"#ff0000\" stroke=\"#ff0000\" points=\"582.018,-220.61 591.171,-215.274 580.688,-213.738 582.018,-220.61\"/>\r\n",
       "<text text-anchor=\"middle\" x=\"488.971\" y=\"-244.793\" font-family=\"Times New Roman,serif\" font-size=\"14.00\">no</text>\r\n",
       "</g>\r\n",
       "<!-- 5 -->\r\n",
       "<g id=\"node8\" class=\"node\"><title>5</title>\r\n",
       "<polygon fill=\"none\" stroke=\"black\" points=\"647.464,-140.993 591.464,-140.993 591.464,-104.993 647.464,-104.993 647.464,-140.993\"/>\r\n",
       "<text text-anchor=\"middle\" x=\"619.464\" y=\"-119.293\" font-family=\"Times New Roman,serif\" font-size=\"14.00\">leaf=&#45;0</text>\r\n",
       "</g>\r\n",
       "<!-- 2&#45;&gt;5 -->\r\n",
       "<g id=\"edge7\" class=\"edge\"><title>2&#45;&gt;5</title>\r\n",
       "<path fill=\"none\" stroke=\"#0000ff\" d=\"M426.018,-90.7679C476.872,-99.2834 541.468,-110.1 581.381,-116.784\"/>\r\n",
       "<polygon fill=\"#0000ff\" stroke=\"#0000ff\" points=\"581.021,-120.272 591.462,-118.472 582.177,-113.368 581.021,-120.272\"/>\r\n",
       "<text text-anchor=\"middle\" x=\"488.971\" y=\"-111.793\" font-family=\"Times New Roman,serif\" font-size=\"14.00\">yes, missing</text>\r\n",
       "</g>\r\n",
       "<!-- 6 -->\r\n",
       "<g id=\"node9\" class=\"node\"><title>6</title>\r\n",
       "<polygon fill=\"none\" stroke=\"black\" points=\"663.964,-86.9931 574.964,-86.9931 574.964,-50.9931 663.964,-50.9931 663.964,-86.9931\"/>\r\n",
       "<text text-anchor=\"middle\" x=\"619.464\" y=\"-65.2931\" font-family=\"Times New Roman,serif\" font-size=\"14.00\">leaf=0.04213</text>\r\n",
       "</g>\r\n",
       "<!-- 2&#45;&gt;6 -->\r\n",
       "<g id=\"edge8\" class=\"edge\"><title>2&#45;&gt;6</title>\r\n",
       "<path fill=\"none\" stroke=\"#ff0000\" d=\"M426.737,-75.414C470.874,-73.9359 525.175,-72.1173 564.708,-70.7934\"/>\r\n",
       "<polygon fill=\"#ff0000\" stroke=\"#ff0000\" points=\"565.057,-74.2837 574.934,-70.4509 564.823,-67.2877 565.057,-74.2837\"/>\r\n",
       "<text text-anchor=\"middle\" x=\"488.971\" y=\"-78.7931\" font-family=\"Times New Roman,serif\" font-size=\"14.00\">no</text>\r\n",
       "</g>\r\n",
       "<!-- 7 -->\r\n",
       "<g id=\"node6\" class=\"node\"><title>7</title>\r\n",
       "<polygon fill=\"none\" stroke=\"black\" points=\"909.457,-368.993 802.457,-368.993 802.457,-332.993 909.457,-332.993 909.457,-368.993\"/>\r\n",
       "<text text-anchor=\"middle\" x=\"855.957\" y=\"-347.293\" font-family=\"Times New Roman,serif\" font-size=\"14.00\">leaf=&#45;0.0772846</text>\r\n",
       "</g>\r\n",
       "<!-- 3&#45;&gt;7 -->\r\n",
       "<g id=\"edge5\" class=\"edge\"><title>3&#45;&gt;7</title>\r\n",
       "<path fill=\"none\" stroke=\"#0000ff\" d=\"M697.245,-332.834C727.953,-336.37 762.88,-340.391 792.048,-343.75\"/>\r\n",
       "<polygon fill=\"#0000ff\" stroke=\"#0000ff\" points=\"791.773,-347.241 802.108,-344.908 792.574,-340.287 791.773,-347.241\"/>\r\n",
       "<text text-anchor=\"middle\" x=\"749.957\" y=\"-345.793\" font-family=\"Times New Roman,serif\" font-size=\"14.00\">yes, missing</text>\r\n",
       "</g>\r\n",
       "<!-- 8 -->\r\n",
       "<g id=\"node7\" class=\"node\"><title>8</title>\r\n",
       "<polygon fill=\"none\" stroke=\"black\" points=\"883.957,-314.993 827.957,-314.993 827.957,-278.993 883.957,-278.993 883.957,-314.993\"/>\r\n",
       "<text text-anchor=\"middle\" x=\"855.957\" y=\"-293.293\" font-family=\"Times New Roman,serif\" font-size=\"14.00\">leaf=&#45;0</text>\r\n",
       "</g>\r\n",
       "<!-- 3&#45;&gt;8 -->\r\n",
       "<g id=\"edge6\" class=\"edge\"><title>3&#45;&gt;8</title>\r\n",
       "<path fill=\"none\" stroke=\"#ff0000\" d=\"M697.245,-315.152C737.567,-310.51 785.166,-305.029 817.444,-301.312\"/>\r\n",
       "<polygon fill=\"#ff0000\" stroke=\"#ff0000\" points=\"818.237,-304.744 827.771,-300.123 817.436,-297.79 818.237,-304.744\"/>\r\n",
       "<text text-anchor=\"middle\" x=\"749.957\" y=\"-316.793\" font-family=\"Times New Roman,serif\" font-size=\"14.00\">no</text>\r\n",
       "</g>\r\n",
       "</g>\r\n",
       "</svg>\r\n"
      ],
      "text/plain": [
       "<graphviz.dot.Digraph at 0x762cef0>"
      ]
     },
     "execution_count": 71,
     "metadata": {},
     "output_type": "execute_result"
    }
   ],
   "source": [
    "xgb.to_graphviz(bestXGB, num_trees=17, rankdir='LR' )"
   ]
  },
  {
   "cell_type": "code",
   "execution_count": 72,
   "metadata": {
    "collapsed": false
   },
   "outputs": [
    {
     "data": {
      "image/svg+xml": [
       "<?xml version=\"1.0\" encoding=\"UTF-8\" standalone=\"no\"?>\r\n",
       "<!DOCTYPE svg PUBLIC \"-//W3C//DTD SVG 1.1//EN\"\r\n",
       " \"http://www.w3.org/Graphics/SVG/1.1/DTD/svg11.dtd\">\r\n",
       "<!-- Generated by graphviz version 2.38.0 (20140413.2041)\r\n",
       " -->\r\n",
       "<!-- Title: %3 Pages: 1 -->\r\n",
       "<svg width=\"580pt\" height=\"260pt\"\r\n",
       " viewBox=\"0.00 0.00 579.78 259.99\" xmlns=\"http://www.w3.org/2000/svg\" xmlns:xlink=\"http://www.w3.org/1999/xlink\">\r\n",
       "<g id=\"graph0\" class=\"graph\" transform=\"scale(1 1) rotate(0) translate(4 255.99)\">\r\n",
       "<title>%3</title>\r\n",
       "<polygon fill=\"white\" stroke=\"none\" points=\"-4,4 -4,-255.99 575.777,-255.99 575.777,4 -4,4\"/>\r\n",
       "<!-- 0 -->\r\n",
       "<g id=\"node1\" class=\"node\"><title>0</title>\r\n",
       "<ellipse fill=\"none\" stroke=\"black\" cx=\"68.8939\" cy=\"-137.495\" rx=\"68.7879\" ry=\"68.7879\"/>\r\n",
       "<text text-anchor=\"middle\" x=\"68.8939\" y=\"-133.795\" font-family=\"Times New Roman,serif\" font-size=\"14.00\">bare_nuclei&lt;2.5</text>\r\n",
       "</g>\r\n",
       "<!-- 1 -->\r\n",
       "<g id=\"node2\" class=\"node\"><title>1</title>\r\n",
       "<ellipse fill=\"none\" stroke=\"black\" cx=\"301.283\" cy=\"-193.495\" rx=\"58.4896\" ry=\"58.4896\"/>\r\n",
       "<text text-anchor=\"middle\" x=\"301.283\" y=\"-189.795\" font-family=\"Times New Roman,serif\" font-size=\"14.00\">cell_shape&lt;4</text>\r\n",
       "</g>\r\n",
       "<!-- 0&#45;&gt;1 -->\r\n",
       "<g id=\"edge1\" class=\"edge\"><title>0&#45;&gt;1</title>\r\n",
       "<path fill=\"none\" stroke=\"#0000ff\" d=\"M135.914,-153.542C166.75,-161.037 203.372,-169.939 234.214,-177.436\"/>\r\n",
       "<polygon fill=\"#0000ff\" stroke=\"#0000ff\" points=\"233.466,-180.856 244.01,-179.817 235.119,-174.054 233.466,-180.856\"/>\r\n",
       "<text text-anchor=\"middle\" x=\"190.288\" y=\"-178.295\" font-family=\"Times New Roman,serif\" font-size=\"14.00\">yes, missing</text>\r\n",
       "</g>\r\n",
       "<!-- 2 -->\r\n",
       "<g id=\"node3\" class=\"node\"><title>2</title>\r\n",
       "<ellipse fill=\"none\" stroke=\"black\" cx=\"301.283\" cy=\"-58.4948\" rx=\"58.4896\" ry=\"58.4896\"/>\r\n",
       "<text text-anchor=\"middle\" x=\"301.283\" y=\"-54.7948\" font-family=\"Times New Roman,serif\" font-size=\"14.00\">cell_shape&lt;3</text>\r\n",
       "</g>\r\n",
       "<!-- 0&#45;&gt;2 -->\r\n",
       "<g id=\"edge2\" class=\"edge\"><title>0&#45;&gt;2</title>\r\n",
       "<path fill=\"none\" stroke=\"#ff0000\" d=\"M134.376,-115.384C166.105,-104.504 204.245,-91.4258 235.953,-80.5534\"/>\r\n",
       "<polygon fill=\"#ff0000\" stroke=\"#ff0000\" points=\"237.248,-83.8093 245.572,-77.2549 234.978,-77.1877 237.248,-83.8093\"/>\r\n",
       "<text text-anchor=\"middle\" x=\"190.288\" y=\"-111.295\" font-family=\"Times New Roman,serif\" font-size=\"14.00\">no</text>\r\n",
       "</g>\r\n",
       "<!-- 3 -->\r\n",
       "<g id=\"node4\" class=\"node\"><title>3</title>\r\n",
       "<polygon fill=\"none\" stroke=\"black\" points=\"571.777,-245.495 464.777,-245.495 464.777,-209.495 571.777,-209.495 571.777,-245.495\"/>\r\n",
       "<text text-anchor=\"middle\" x=\"518.277\" y=\"-223.795\" font-family=\"Times New Roman,serif\" font-size=\"14.00\">leaf=&#45;0.0785888</text>\r\n",
       "</g>\r\n",
       "<!-- 1&#45;&gt;3 -->\r\n",
       "<g id=\"edge3\" class=\"edge\"><title>1&#45;&gt;3</title>\r\n",
       "<path fill=\"none\" stroke=\"#0000ff\" d=\"M359.333,-202.517C388.727,-207.165 424.63,-212.843 454.774,-217.61\"/>\r\n",
       "<polygon fill=\"#0000ff\" stroke=\"#0000ff\" points=\"454.334,-221.084 464.758,-219.189 455.427,-214.17 454.334,-221.084\"/>\r\n",
       "<text text-anchor=\"middle\" x=\"412.277\" y=\"-219.295\" font-family=\"Times New Roman,serif\" font-size=\"14.00\">yes, missing</text>\r\n",
       "</g>\r\n",
       "<!-- 4 -->\r\n",
       "<g id=\"node5\" class=\"node\"><title>4</title>\r\n",
       "<polygon fill=\"none\" stroke=\"black\" points=\"546.277,-191.495 490.277,-191.495 490.277,-155.495 546.277,-155.495 546.277,-191.495\"/>\r\n",
       "<text text-anchor=\"middle\" x=\"518.277\" y=\"-169.795\" font-family=\"Times New Roman,serif\" font-size=\"14.00\">leaf=&#45;0</text>\r\n",
       "</g>\r\n",
       "<!-- 1&#45;&gt;4 -->\r\n",
       "<g id=\"edge4\" class=\"edge\"><title>1&#45;&gt;4</title>\r\n",
       "<path fill=\"none\" stroke=\"#ff0000\" d=\"M359.615,-188.161C397.778,-184.611 446.815,-180.05 479.992,-176.963\"/>\r\n",
       "<polygon fill=\"#ff0000\" stroke=\"#ff0000\" points=\"480.54,-180.428 490.172,-176.016 479.891,-173.458 480.54,-180.428\"/>\r\n",
       "<text text-anchor=\"middle\" x=\"412.277\" y=\"-189.295\" font-family=\"Times New Roman,serif\" font-size=\"14.00\">no</text>\r\n",
       "</g>\r\n",
       "<!-- 5 -->\r\n",
       "<g id=\"node6\" class=\"node\"><title>5</title>\r\n",
       "<polygon fill=\"none\" stroke=\"black\" points=\"546.277,-117.495 490.277,-117.495 490.277,-81.4948 546.277,-81.4948 546.277,-117.495\"/>\r\n",
       "<text text-anchor=\"middle\" x=\"518.277\" y=\"-95.7948\" font-family=\"Times New Roman,serif\" font-size=\"14.00\">leaf=&#45;0</text>\r\n",
       "</g>\r\n",
       "<!-- 2&#45;&gt;5 -->\r\n",
       "<g id=\"edge5\" class=\"edge\"><title>2&#45;&gt;5</title>\r\n",
       "<path fill=\"none\" stroke=\"#0000ff\" d=\"M358.746,-69.7894C365.163,-71.0504 371.61,-72.3074 377.777,-73.4948 412.421,-80.1646 451.958,-87.5083 480.074,-92.6848\"/>\r\n",
       "<polygon fill=\"#0000ff\" stroke=\"#0000ff\" points=\"479.788,-96.1908 490.256,-94.5567 481.054,-89.3062 479.788,-96.1908\"/>\r\n",
       "<text text-anchor=\"middle\" x=\"412.277\" y=\"-90.2948\" font-family=\"Times New Roman,serif\" font-size=\"14.00\">yes, missing</text>\r\n",
       "</g>\r\n",
       "<!-- 6 -->\r\n",
       "<g id=\"node7\" class=\"node\"><title>6</title>\r\n",
       "<polygon fill=\"none\" stroke=\"black\" points=\"569.277,-63.4948 467.277,-63.4948 467.277,-27.4948 569.277,-27.4948 569.277,-63.4948\"/>\r\n",
       "<text text-anchor=\"middle\" x=\"518.277\" y=\"-41.7948\" font-family=\"Times New Roman,serif\" font-size=\"14.00\">leaf=0.0610851</text>\r\n",
       "</g>\r\n",
       "<!-- 2&#45;&gt;6 -->\r\n",
       "<g id=\"edge6\" class=\"edge\"><title>2&#45;&gt;6</title>\r\n",
       "<path fill=\"none\" stroke=\"#ff0000\" d=\"M359.897,-55.011C389.958,-53.1934 426.706,-50.9714 457.13,-49.1317\"/>\r\n",
       "<polygon fill=\"#ff0000\" stroke=\"#ff0000\" points=\"457.416,-52.6209 467.186,-48.5236 456.993,-45.6337 457.416,-52.6209\"/>\r\n",
       "<text text-anchor=\"middle\" x=\"412.277\" y=\"-58.2948\" font-family=\"Times New Roman,serif\" font-size=\"14.00\">no</text>\r\n",
       "</g>\r\n",
       "</g>\r\n",
       "</svg>\r\n"
      ],
      "text/plain": [
       "<graphviz.dot.Digraph at 0x762c470>"
      ]
     },
     "execution_count": 72,
     "metadata": {},
     "output_type": "execute_result"
    }
   ],
   "source": [
    "xgb.to_graphviz(bestXGB, num_trees=18, rankdir='LR' )"
   ]
  },
  {
   "cell_type": "code",
   "execution_count": 73,
   "metadata": {
    "collapsed": false
   },
   "outputs": [
    {
     "data": {
      "image/svg+xml": [
       "<?xml version=\"1.0\" encoding=\"UTF-8\" standalone=\"no\"?>\r\n",
       "<!DOCTYPE svg PUBLIC \"-//W3C//DTD SVG 1.1//EN\"\r\n",
       " \"http://www.w3.org/Graphics/SVG/1.1/DTD/svg11.dtd\">\r\n",
       "<!-- Generated by graphviz version 2.38.0 (20140413.2041)\r\n",
       " -->\r\n",
       "<!-- Title: %3 Pages: 1 -->\r\n",
       "<svg width=\"604pt\" height=\"344pt\"\r\n",
       " viewBox=\"0.00 0.00 604.48 344.24\" xmlns=\"http://www.w3.org/2000/svg\" xmlns:xlink=\"http://www.w3.org/1999/xlink\">\r\n",
       "<g id=\"graph0\" class=\"graph\" transform=\"scale(1 1) rotate(0) translate(4 340.236)\">\r\n",
       "<title>%3</title>\r\n",
       "<polygon fill=\"white\" stroke=\"none\" points=\"-4,4 -4,-340.236 600.475,-340.236 600.475,4 -4,4\"/>\r\n",
       "<!-- 0 -->\r\n",
       "<g id=\"node1\" class=\"node\"><title>0</title>\r\n",
       "<ellipse fill=\"none\" stroke=\"black\" cx=\"58.4948\" cy=\"-182.993\" rx=\"58.4896\" ry=\"58.4896\"/>\r\n",
       "<text text-anchor=\"middle\" x=\"58.4948\" y=\"-179.293\" font-family=\"Times New Roman,serif\" font-size=\"14.00\">cell_shape&lt;3</text>\r\n",
       "</g>\r\n",
       "<!-- 1 -->\r\n",
       "<g id=\"node2\" class=\"node\"><title>1</title>\r\n",
       "<ellipse fill=\"none\" stroke=\"black\" cx=\"303.232\" cy=\"-254.993\" rx=\"81.4863\" ry=\"81.4863\"/>\r\n",
       "<text text-anchor=\"middle\" x=\"303.232\" y=\"-251.293\" font-family=\"Times New Roman,serif\" font-size=\"14.00\">clump_thickness&lt;6</text>\r\n",
       "</g>\r\n",
       "<!-- 0&#45;&gt;1 -->\r\n",
       "<g id=\"edge1\" class=\"edge\"><title>0&#45;&gt;1</title>\r\n",
       "<path fill=\"none\" stroke=\"#0000ff\" d=\"M114.879,-199.421C144.553,-208.223 181.787,-219.267 215.227,-229.186\"/>\r\n",
       "<polygon fill=\"#0000ff\" stroke=\"#0000ff\" points=\"214.426,-232.599 225.008,-232.087 216.417,-225.888 214.426,-232.599\"/>\r\n",
       "<text text-anchor=\"middle\" x=\"169.49\" y=\"-228.793\" font-family=\"Times New Roman,serif\" font-size=\"14.00\">yes, missing</text>\r\n",
       "</g>\r\n",
       "<!-- 2 -->\r\n",
       "<g id=\"node3\" class=\"node\"><title>2</title>\r\n",
       "<ellipse fill=\"none\" stroke=\"black\" cx=\"303.232\" cy=\"-77.9931\" rx=\"77.9862\" ry=\"77.9862\"/>\r\n",
       "<text text-anchor=\"middle\" x=\"303.232\" y=\"-74.2931\" font-family=\"Times New Roman,serif\" font-size=\"14.00\">epitelial_cellsize&lt;3</text>\r\n",
       "</g>\r\n",
       "<!-- 0&#45;&gt;2 -->\r\n",
       "<g id=\"edge2\" class=\"edge\"><title>0&#45;&gt;2</title>\r\n",
       "<path fill=\"none\" stroke=\"#ff0000\" d=\"M112.465,-160.08C144.478,-146.232 185.919,-128.306 221.904,-112.74\"/>\r\n",
       "<polygon fill=\"#ff0000\" stroke=\"#ff0000\" points=\"223.621,-115.811 231.41,-108.629 220.842,-109.386 223.621,-115.811\"/>\r\n",
       "<text text-anchor=\"middle\" x=\"169.49\" y=\"-152.793\" font-family=\"Times New Roman,serif\" font-size=\"14.00\">no</text>\r\n",
       "</g>\r\n",
       "<!-- 3 -->\r\n",
       "<g id=\"node4\" class=\"node\"><title>3</title>\r\n",
       "<polygon fill=\"none\" stroke=\"black\" points=\"596.475,-299.993 489.475,-299.993 489.475,-263.993 596.475,-263.993 596.475,-299.993\"/>\r\n",
       "<text text-anchor=\"middle\" x=\"542.975\" y=\"-278.293\" font-family=\"Times New Roman,serif\" font-size=\"14.00\">leaf=&#45;0.0744554</text>\r\n",
       "</g>\r\n",
       "<!-- 1&#45;&gt;3 -->\r\n",
       "<g id=\"edge3\" class=\"edge\"><title>1&#45;&gt;3</title>\r\n",
       "<path fill=\"none\" stroke=\"#0000ff\" d=\"M384.059,-264.059C415.071,-267.581 450.071,-271.556 479.226,-274.867\"/>\r\n",
       "<polygon fill=\"#0000ff\" stroke=\"#0000ff\" points=\"478.947,-278.357 489.278,-276.008 479.737,-271.402 478.947,-278.357\"/>\r\n",
       "<text text-anchor=\"middle\" x=\"436.975\" y=\"-276.793\" font-family=\"Times New Roman,serif\" font-size=\"14.00\">yes, missing</text>\r\n",
       "</g>\r\n",
       "<!-- 4 -->\r\n",
       "<g id=\"node5\" class=\"node\"><title>4</title>\r\n",
       "<polygon fill=\"none\" stroke=\"black\" points=\"570.975,-245.993 514.975,-245.993 514.975,-209.993 570.975,-209.993 570.975,-245.993\"/>\r\n",
       "<text text-anchor=\"middle\" x=\"542.975\" y=\"-224.293\" font-family=\"Times New Roman,serif\" font-size=\"14.00\">leaf=&#45;0</text>\r\n",
       "</g>\r\n",
       "<!-- 1&#45;&gt;4 -->\r\n",
       "<g id=\"edge4\" class=\"edge\"><title>1&#45;&gt;4</title>\r\n",
       "<path fill=\"none\" stroke=\"#ff0000\" d=\"M384.059,-245.927C424.78,-241.303 472.379,-235.897 504.59,-232.239\"/>\r\n",
       "<polygon fill=\"#ff0000\" stroke=\"#ff0000\" points=\"505.35,-235.675 514.891,-231.069 504.56,-228.72 505.35,-235.675\"/>\r\n",
       "<text text-anchor=\"middle\" x=\"436.975\" y=\"-246.793\" font-family=\"Times New Roman,serif\" font-size=\"14.00\">no</text>\r\n",
       "</g>\r\n",
       "<!-- 5 -->\r\n",
       "<g id=\"node6\" class=\"node\"><title>5</title>\r\n",
       "<polygon fill=\"none\" stroke=\"black\" points=\"570.975,-122.993 514.975,-122.993 514.975,-86.9931 570.975,-86.9931 570.975,-122.993\"/>\r\n",
       "<text text-anchor=\"middle\" x=\"542.975\" y=\"-101.293\" font-family=\"Times New Roman,serif\" font-size=\"14.00\">leaf=&#45;0</text>\r\n",
       "</g>\r\n",
       "<!-- 2&#45;&gt;5 -->\r\n",
       "<g id=\"edge5\" class=\"edge\"><title>2&#45;&gt;5</title>\r\n",
       "<path fill=\"none\" stroke=\"#0000ff\" d=\"M380.764,-86.6847C422.287,-91.4003 471.738,-97.0164 504.822,-100.774\"/>\r\n",
       "<polygon fill=\"#0000ff\" stroke=\"#0000ff\" points=\"504.627,-104.274 514.958,-101.925 505.417,-97.3186 504.627,-104.274\"/>\r\n",
       "<text text-anchor=\"middle\" x=\"436.975\" y=\"-99.7931\" font-family=\"Times New Roman,serif\" font-size=\"14.00\">yes, missing</text>\r\n",
       "</g>\r\n",
       "<!-- 6 -->\r\n",
       "<g id=\"node7\" class=\"node\"><title>6</title>\r\n",
       "<polygon fill=\"none\" stroke=\"black\" points=\"593.975,-68.9931 491.975,-68.9931 491.975,-32.9931 593.975,-32.9931 593.975,-68.9931\"/>\r\n",
       "<text text-anchor=\"middle\" x=\"542.975\" y=\"-47.2931\" font-family=\"Times New Roman,serif\" font-size=\"14.00\">leaf=0.0402596</text>\r\n",
       "</g>\r\n",
       "<!-- 2&#45;&gt;6 -->\r\n",
       "<g id=\"edge6\" class=\"edge\"><title>2&#45;&gt;6</title>\r\n",
       "<path fill=\"none\" stroke=\"#ff0000\" d=\"M380.764,-69.3015C413.448,-65.5896 451.045,-61.3199 481.705,-57.8379\"/>\r\n",
       "<polygon fill=\"#ff0000\" stroke=\"#ff0000\" points=\"482.278,-61.2953 491.819,-56.6892 481.488,-54.3401 482.278,-61.2953\"/>\r\n",
       "<text text-anchor=\"middle\" x=\"436.975\" y=\"-69.7931\" font-family=\"Times New Roman,serif\" font-size=\"14.00\">no</text>\r\n",
       "</g>\r\n",
       "</g>\r\n",
       "</svg>\r\n"
      ],
      "text/plain": [
       "<graphviz.dot.Digraph at 0x762c400>"
      ]
     },
     "execution_count": 73,
     "metadata": {},
     "output_type": "execute_result"
    }
   ],
   "source": [
    "xgb.to_graphviz(bestXGB, num_trees=19, rankdir='LR' )"
   ]
  },
  {
   "cell_type": "code",
   "execution_count": 74,
   "metadata": {
    "collapsed": false
   },
   "outputs": [
    {
     "data": {
      "image/svg+xml": [
       "<?xml version=\"1.0\" encoding=\"UTF-8\" standalone=\"no\"?>\r\n",
       "<!DOCTYPE svg PUBLIC \"-//W3C//DTD SVG 1.1//EN\"\r\n",
       " \"http://www.w3.org/Graphics/SVG/1.1/DTD/svg11.dtd\">\r\n",
       "<!-- Generated by graphviz version 2.38.0 (20140413.2041)\r\n",
       " -->\r\n",
       "<!-- Title: %3 Pages: 1 -->\r\n",
       "<svg width=\"643pt\" height=\"292pt\"\r\n",
       " viewBox=\"0.00 0.00 643.47 291.59\" xmlns=\"http://www.w3.org/2000/svg\" xmlns:xlink=\"http://www.w3.org/1999/xlink\">\r\n",
       "<g id=\"graph0\" class=\"graph\" transform=\"scale(1 1) rotate(0) translate(4 287.588)\">\r\n",
       "<title>%3</title>\r\n",
       "<polygon fill=\"white\" stroke=\"none\" points=\"-4,4 -4,-287.588 639.472,-287.588 639.472,4 -4,4\"/>\r\n",
       "<!-- 0 -->\r\n",
       "<g id=\"node1\" class=\"node\"><title>0</title>\r\n",
       "<ellipse fill=\"none\" stroke=\"black\" cx=\"77.9931\" cy=\"-170.243\" rx=\"77.9862\" ry=\"77.9862\"/>\r\n",
       "<text text-anchor=\"middle\" x=\"77.9931\" y=\"-166.543\" font-family=\"Times New Roman,serif\" font-size=\"14.00\">epitelial_cellsize&lt;3</text>\r\n",
       "</g>\r\n",
       "<!-- 1 -->\r\n",
       "<g id=\"node2\" class=\"node\"><title>1</title>\r\n",
       "<ellipse fill=\"none\" stroke=\"black\" cx=\"342.229\" cy=\"-232.243\" rx=\"51.1914\" ry=\"51.1914\"/>\r\n",
       "<text text-anchor=\"middle\" x=\"342.229\" y=\"-228.543\" font-family=\"Times New Roman,serif\" font-size=\"14.00\">cell_size&lt;4</text>\r\n",
       "</g>\r\n",
       "<!-- 0&#45;&gt;1 -->\r\n",
       "<g id=\"edge1\" class=\"edge\"><title>0&#45;&gt;1</title>\r\n",
       "<path fill=\"none\" stroke=\"#0000ff\" d=\"M154.139,-188.01C194.847,-197.634 244.415,-209.353 282.301,-218.31\"/>\r\n",
       "<polygon fill=\"#0000ff\" stroke=\"#0000ff\" points=\"281.626,-221.747 292.163,-220.642 283.236,-214.935 281.626,-221.747\"/>\r\n",
       "<text text-anchor=\"middle\" x=\"208.486\" y=\"-212.043\" font-family=\"Times New Roman,serif\" font-size=\"14.00\">yes, missing</text>\r\n",
       "</g>\r\n",
       "<!-- 2 -->\r\n",
       "<g id=\"node3\" class=\"node\"><title>2</title>\r\n",
       "<ellipse fill=\"none\" stroke=\"black\" cx=\"342.229\" cy=\"-81.2428\" rx=\"81.4863\" ry=\"81.4863\"/>\r\n",
       "<text text-anchor=\"middle\" x=\"342.229\" y=\"-77.5428\" font-family=\"Times New Roman,serif\" font-size=\"14.00\">bland_chromatin&lt;3</text>\r\n",
       "</g>\r\n",
       "<!-- 0&#45;&gt;2 -->\r\n",
       "<g id=\"edge2\" class=\"edge\"><title>0&#45;&gt;2</title>\r\n",
       "<path fill=\"none\" stroke=\"#ff0000\" d=\"M152.04,-145.451C184.041,-134.591 221.825,-121.767 255.179,-110.447\"/>\r\n",
       "<polygon fill=\"#ff0000\" stroke=\"#ff0000\" points=\"256.572,-113.67 264.917,-107.142 254.323,-107.042 256.572,-113.67\"/>\r\n",
       "<text text-anchor=\"middle\" x=\"208.486\" y=\"-141.043\" font-family=\"Times New Roman,serif\" font-size=\"14.00\">no</text>\r\n",
       "</g>\r\n",
       "<!-- 3 -->\r\n",
       "<g id=\"node4\" class=\"node\"><title>3</title>\r\n",
       "<polygon fill=\"none\" stroke=\"black\" points=\"635.472,-280.243 528.472,-280.243 528.472,-244.243 635.472,-244.243 635.472,-280.243\"/>\r\n",
       "<text text-anchor=\"middle\" x=\"581.972\" y=\"-258.543\" font-family=\"Times New Roman,serif\" font-size=\"14.00\">leaf=&#45;0.0702448</text>\r\n",
       "</g>\r\n",
       "<!-- 1&#45;&gt;3 -->\r\n",
       "<g id=\"edge3\" class=\"edge\"><title>1&#45;&gt;3</title>\r\n",
       "<path fill=\"none\" stroke=\"#0000ff\" d=\"M393.358,-238.568C429.749,-243.161 479.237,-249.405 518.25,-254.328\"/>\r\n",
       "<polygon fill=\"#0000ff\" stroke=\"#0000ff\" points=\"518.082,-257.835 528.441,-255.614 518.958,-250.89 518.082,-257.835\"/>\r\n",
       "<text text-anchor=\"middle\" x=\"475.972\" y=\"-256.043\" font-family=\"Times New Roman,serif\" font-size=\"14.00\">yes, missing</text>\r\n",
       "</g>\r\n",
       "<!-- 4 -->\r\n",
       "<g id=\"node5\" class=\"node\"><title>4</title>\r\n",
       "<polygon fill=\"none\" stroke=\"black\" points=\"609.972,-226.243 553.972,-226.243 553.972,-190.243 609.972,-190.243 609.972,-226.243\"/>\r\n",
       "<text text-anchor=\"middle\" x=\"581.972\" y=\"-204.543\" font-family=\"Times New Roman,serif\" font-size=\"14.00\">leaf=&#45;0</text>\r\n",
       "</g>\r\n",
       "<!-- 1&#45;&gt;4 -->\r\n",
       "<g id=\"edge4\" class=\"edge\"><title>1&#45;&gt;4</title>\r\n",
       "<path fill=\"none\" stroke=\"#ff0000\" d=\"M393.358,-227.182C438.349,-222.641 503.357,-216.078 543.841,-211.991\"/>\r\n",
       "<polygon fill=\"#ff0000\" stroke=\"#ff0000\" points=\"544.228,-215.47 553.826,-210.983 543.525,-208.505 544.228,-215.47\"/>\r\n",
       "<text text-anchor=\"middle\" x=\"475.972\" y=\"-225.043\" font-family=\"Times New Roman,serif\" font-size=\"14.00\">no</text>\r\n",
       "</g>\r\n",
       "<!-- 5 -->\r\n",
       "<g id=\"node6\" class=\"node\"><title>5</title>\r\n",
       "<polygon fill=\"none\" stroke=\"black\" points=\"609.972,-148.243 553.972,-148.243 553.972,-112.243 609.972,-112.243 609.972,-148.243\"/>\r\n",
       "<text text-anchor=\"middle\" x=\"581.972\" y=\"-126.543\" font-family=\"Times New Roman,serif\" font-size=\"14.00\">leaf=&#45;0</text>\r\n",
       "</g>\r\n",
       "<!-- 2&#45;&gt;5 -->\r\n",
       "<g id=\"edge5\" class=\"edge\"><title>2&#45;&gt;5</title>\r\n",
       "<path fill=\"none\" stroke=\"#0000ff\" d=\"M422.064,-97.491C463.166,-105.962 511.499,-115.924 543.976,-122.618\"/>\r\n",
       "<polygon fill=\"#0000ff\" stroke=\"#0000ff\" points=\"543.433,-126.079 553.933,-124.67 544.846,-119.223 543.433,-126.079\"/>\r\n",
       "<text text-anchor=\"middle\" x=\"475.972\" y=\"-119.043\" font-family=\"Times New Roman,serif\" font-size=\"14.00\">yes, missing</text>\r\n",
       "</g>\r\n",
       "<!-- 6 -->\r\n",
       "<g id=\"node7\" class=\"node\"><title>6</title>\r\n",
       "<polygon fill=\"none\" stroke=\"black\" points=\"632.972,-94.2428 530.972,-94.2428 530.972,-58.2428 632.972,-58.2428 632.972,-94.2428\"/>\r\n",
       "<text text-anchor=\"middle\" x=\"581.972\" y=\"-72.5428\" font-family=\"Times New Roman,serif\" font-size=\"14.00\">leaf=0.0397893</text>\r\n",
       "</g>\r\n",
       "<!-- 2&#45;&gt;6 -->\r\n",
       "<g id=\"edge6\" class=\"edge\"><title>2&#45;&gt;6</title>\r\n",
       "<path fill=\"none\" stroke=\"#ff0000\" d=\"M423.718,-79.55C455.41,-78.8835 491.179,-78.1312 520.587,-77.5127\"/>\r\n",
       "<polygon fill=\"#ff0000\" stroke=\"#ff0000\" points=\"520.783,-81.0095 530.707,-77.2999 520.636,-74.0111 520.783,-81.0095\"/>\r\n",
       "<text text-anchor=\"middle\" x=\"475.972\" y=\"-83.0428\" font-family=\"Times New Roman,serif\" font-size=\"14.00\">no</text>\r\n",
       "</g>\r\n",
       "</g>\r\n",
       "</svg>\r\n"
      ],
      "text/plain": [
       "<graphviz.dot.Digraph at 0x7635d68>"
      ]
     },
     "execution_count": 74,
     "metadata": {},
     "output_type": "execute_result"
    }
   ],
   "source": [
    "xgb.to_graphviz(bestXGB, num_trees=20, rankdir='LR' )"
   ]
  },
  {
   "cell_type": "code",
   "execution_count": 75,
   "metadata": {
    "collapsed": false
   },
   "outputs": [
    {
     "data": {
      "image/svg+xml": [
       "<?xml version=\"1.0\" encoding=\"UTF-8\" standalone=\"no\"?>\r\n",
       "<!DOCTYPE svg PUBLIC \"-//W3C//DTD SVG 1.1//EN\"\r\n",
       " \"http://www.w3.org/Graphics/SVG/1.1/DTD/svg11.dtd\">\r\n",
       "<!-- Generated by graphviz version 2.38.0 (20140413.2041)\r\n",
       " -->\r\n",
       "<!-- Title: %3 Pages: 1 -->\r\n",
       "<svg width=\"590pt\" height=\"224pt\"\r\n",
       " viewBox=\"0.00 0.00 590.18 224.24\" xmlns=\"http://www.w3.org/2000/svg\" xmlns:xlink=\"http://www.w3.org/1999/xlink\">\r\n",
       "<g id=\"graph0\" class=\"graph\" transform=\"scale(1 1) rotate(0) translate(4 220.243)\">\r\n",
       "<title>%3</title>\r\n",
       "<polygon fill=\"white\" stroke=\"none\" points=\"-4,4 -4,-220.243 586.176,-220.243 586.176,4 -4,4\"/>\r\n",
       "<!-- 0 -->\r\n",
       "<g id=\"node1\" class=\"node\"><title>0</title>\r\n",
       "<ellipse fill=\"none\" stroke=\"black\" cx=\"51.3454\" cy=\"-56\" rx=\"51.1914\" ry=\"51.1914\"/>\r\n",
       "<text text-anchor=\"middle\" x=\"51.3454\" y=\"-52.3\" font-family=\"Times New Roman,serif\" font-size=\"14.00\">cell_size&lt;4</text>\r\n",
       "</g>\r\n",
       "<!-- 1 -->\r\n",
       "<g id=\"node2\" class=\"node\"><title>1</title>\r\n",
       "<ellipse fill=\"none\" stroke=\"black\" cx=\"288.934\" cy=\"-135\" rx=\"81.4863\" ry=\"81.4863\"/>\r\n",
       "<text text-anchor=\"middle\" x=\"288.934\" y=\"-131.3\" font-family=\"Times New Roman,serif\" font-size=\"14.00\">bland_chromatin&lt;4</text>\r\n",
       "</g>\r\n",
       "<!-- 0&#45;&gt;1 -->\r\n",
       "<g id=\"edge1\" class=\"edge\"><title>0&#45;&gt;1</title>\r\n",
       "<path fill=\"none\" stroke=\"#0000ff\" d=\"M100.304,-72.0821C129.572,-81.8965 167.842,-94.7297 202.181,-106.244\"/>\r\n",
       "<polygon fill=\"#0000ff\" stroke=\"#0000ff\" points=\"201.157,-109.593 211.751,-109.454 203.383,-102.956 201.157,-109.593\"/>\r\n",
       "<text text-anchor=\"middle\" x=\"155.191\" y=\"-103.8\" font-family=\"Times New Roman,serif\" font-size=\"14.00\">yes, missing</text>\r\n",
       "</g>\r\n",
       "<!-- 2 -->\r\n",
       "<g id=\"node3\" class=\"node\"><title>2</title>\r\n",
       "<polygon fill=\"none\" stroke=\"black\" points=\"339.934,-36 237.934,-36 237.934,-0 339.934,-0 339.934,-36\"/>\r\n",
       "<text text-anchor=\"middle\" x=\"288.934\" y=\"-14.3\" font-family=\"Times New Roman,serif\" font-size=\"14.00\">leaf=0.0394283</text>\r\n",
       "</g>\r\n",
       "<!-- 0&#45;&gt;2 -->\r\n",
       "<g id=\"edge2\" class=\"edge\"><title>0&#45;&gt;2</title>\r\n",
       "<path fill=\"none\" stroke=\"#ff0000\" d=\"M102.308,-47.9412C138.884,-42.0414 188.697,-34.0067 227.513,-27.7458\"/>\r\n",
       "<polygon fill=\"#ff0000\" stroke=\"#ff0000\" points=\"228.323,-31.1604 237.638,-26.1126 227.208,-24.2498 228.323,-31.1604\"/>\r\n",
       "<text text-anchor=\"middle\" x=\"155.191\" y=\"-48.8\" font-family=\"Times New Roman,serif\" font-size=\"14.00\">no</text>\r\n",
       "</g>\r\n",
       "<!-- 3 -->\r\n",
       "<g id=\"node4\" class=\"node\"><title>3</title>\r\n",
       "<polygon fill=\"none\" stroke=\"black\" points=\"582.176,-180 475.176,-180 475.176,-144 582.176,-144 582.176,-180\"/>\r\n",
       "<text text-anchor=\"middle\" x=\"528.676\" y=\"-158.3\" font-family=\"Times New Roman,serif\" font-size=\"14.00\">leaf=&#45;0.0643666</text>\r\n",
       "</g>\r\n",
       "<!-- 1&#45;&gt;3 -->\r\n",
       "<g id=\"edge3\" class=\"edge\"><title>1&#45;&gt;3</title>\r\n",
       "<path fill=\"none\" stroke=\"#0000ff\" d=\"M369.76,-144.066C400.772,-147.588 435.772,-151.563 464.927,-154.874\"/>\r\n",
       "<polygon fill=\"#0000ff\" stroke=\"#0000ff\" points=\"464.648,-158.364 474.979,-156.015 465.438,-151.409 464.648,-158.364\"/>\r\n",
       "<text text-anchor=\"middle\" x=\"422.676\" y=\"-156.8\" font-family=\"Times New Roman,serif\" font-size=\"14.00\">yes, missing</text>\r\n",
       "</g>\r\n",
       "<!-- 4 -->\r\n",
       "<g id=\"node5\" class=\"node\"><title>4</title>\r\n",
       "<polygon fill=\"none\" stroke=\"black\" points=\"556.676,-126 500.676,-126 500.676,-90 556.676,-90 556.676,-126\"/>\r\n",
       "<text text-anchor=\"middle\" x=\"528.676\" y=\"-104.3\" font-family=\"Times New Roman,serif\" font-size=\"14.00\">leaf=&#45;0</text>\r\n",
       "</g>\r\n",
       "<!-- 1&#45;&gt;4 -->\r\n",
       "<g id=\"edge4\" class=\"edge\"><title>1&#45;&gt;4</title>\r\n",
       "<path fill=\"none\" stroke=\"#ff0000\" d=\"M369.76,-125.934C410.482,-121.31 458.081,-115.904 490.291,-112.246\"/>\r\n",
       "<polygon fill=\"#ff0000\" stroke=\"#ff0000\" points=\"491.051,-115.682 500.592,-111.076 490.261,-108.727 491.051,-115.682\"/>\r\n",
       "<text text-anchor=\"middle\" x=\"422.676\" y=\"-126.8\" font-family=\"Times New Roman,serif\" font-size=\"14.00\">no</text>\r\n",
       "</g>\r\n",
       "</g>\r\n",
       "</svg>\r\n"
      ],
      "text/plain": [
       "<graphviz.dot.Digraph at 0x7635f60>"
      ]
     },
     "execution_count": 75,
     "metadata": {},
     "output_type": "execute_result"
    }
   ],
   "source": [
    "xgb.to_graphviz(bestXGB, num_trees=21, rankdir='LR' )"
   ]
  },
  {
   "cell_type": "code",
   "execution_count": 78,
   "metadata": {
    "collapsed": false
   },
   "outputs": [
    {
     "data": {
      "image/svg+xml": [
       "<?xml version=\"1.0\" encoding=\"UTF-8\" standalone=\"no\"?>\r\n",
       "<!DOCTYPE svg PUBLIC \"-//W3C//DTD SVG 1.1//EN\"\r\n",
       " \"http://www.w3.org/Graphics/SVG/1.1/DTD/svg11.dtd\">\r\n",
       "<!-- Generated by graphviz version 2.38.0 (20140413.2041)\r\n",
       " -->\r\n",
       "<!-- Title: %3 Pages: 1 -->\r\n",
       "<svg width=\"604pt\" height=\"350pt\"\r\n",
       " viewBox=\"0.00 0.00 604.48 350.49\" xmlns=\"http://www.w3.org/2000/svg\" xmlns:xlink=\"http://www.w3.org/1999/xlink\">\r\n",
       "<g id=\"graph0\" class=\"graph\" transform=\"scale(1 1) rotate(0) translate(4 346.486)\">\r\n",
       "<title>%3</title>\r\n",
       "<polygon fill=\"white\" stroke=\"none\" points=\"-4,4 -4,-346.486 600.475,-346.486 600.475,4 -4,4\"/>\r\n",
       "<!-- 0 -->\r\n",
       "<g id=\"node1\" class=\"node\"><title>0</title>\r\n",
       "<ellipse fill=\"none\" stroke=\"black\" cx=\"58.4948\" cy=\"-188.243\" rx=\"58.4896\" ry=\"58.4896\"/>\r\n",
       "<text text-anchor=\"middle\" x=\"58.4948\" y=\"-184.543\" font-family=\"Times New Roman,serif\" font-size=\"14.00\">cell_shape&lt;3</text>\r\n",
       "</g>\r\n",
       "<!-- 1 -->\r\n",
       "<g id=\"node2\" class=\"node\"><title>1</title>\r\n",
       "<ellipse fill=\"none\" stroke=\"black\" cx=\"303.232\" cy=\"-261.243\" rx=\"81.4863\" ry=\"81.4863\"/>\r\n",
       "<text text-anchor=\"middle\" x=\"303.232\" y=\"-257.543\" font-family=\"Times New Roman,serif\" font-size=\"14.00\">clump_thickness&lt;6</text>\r\n",
       "</g>\r\n",
       "<!-- 0&#45;&gt;1 -->\r\n",
       "<g id=\"edge1\" class=\"edge\"><title>0&#45;&gt;1</title>\r\n",
       "<path fill=\"none\" stroke=\"#0000ff\" d=\"M114.879,-204.899C144.553,-213.823 181.787,-225.02 215.227,-235.077\"/>\r\n",
       "<polygon fill=\"#0000ff\" stroke=\"#0000ff\" points=\"214.424,-238.49 225.008,-238.019 216.44,-231.787 214.424,-238.49\"/>\r\n",
       "<text text-anchor=\"middle\" x=\"169.49\" y=\"-235.043\" font-family=\"Times New Roman,serif\" font-size=\"14.00\">yes, missing</text>\r\n",
       "</g>\r\n",
       "<!-- 2 -->\r\n",
       "<g id=\"node3\" class=\"node\"><title>2</title>\r\n",
       "<ellipse fill=\"none\" stroke=\"black\" cx=\"303.232\" cy=\"-81.2428\" rx=\"81.4863\" ry=\"81.4863\"/>\r\n",
       "<text text-anchor=\"middle\" x=\"303.232\" y=\"-77.5428\" font-family=\"Times New Roman,serif\" font-size=\"14.00\">clump_thickness&lt;7</text>\r\n",
       "</g>\r\n",
       "<!-- 0&#45;&gt;2 -->\r\n",
       "<g id=\"edge2\" class=\"edge\"><title>0&#45;&gt;2</title>\r\n",
       "<path fill=\"none\" stroke=\"#ff0000\" d=\"M112.465,-164.893C143.71,-151.12 183.935,-133.389 219.304,-117.798\"/>\r\n",
       "<polygon fill=\"#ff0000\" stroke=\"#ff0000\" points=\"220.921,-120.91 228.659,-113.674 218.097,-114.505 220.921,-120.91\"/>\r\n",
       "<text text-anchor=\"middle\" x=\"169.49\" y=\"-157.043\" font-family=\"Times New Roman,serif\" font-size=\"14.00\">no</text>\r\n",
       "</g>\r\n",
       "<!-- 3 -->\r\n",
       "<g id=\"node4\" class=\"node\"><title>3</title>\r\n",
       "<polygon fill=\"none\" stroke=\"black\" points=\"596.475,-306.243 489.475,-306.243 489.475,-270.243 596.475,-270.243 596.475,-306.243\"/>\r\n",
       "<text text-anchor=\"middle\" x=\"542.975\" y=\"-284.543\" font-family=\"Times New Roman,serif\" font-size=\"14.00\">leaf=&#45;0.0668647</text>\r\n",
       "</g>\r\n",
       "<!-- 1&#45;&gt;3 -->\r\n",
       "<g id=\"edge3\" class=\"edge\"><title>1&#45;&gt;3</title>\r\n",
       "<path fill=\"none\" stroke=\"#0000ff\" d=\"M384.059,-270.309C415.071,-273.83 450.071,-277.805 479.226,-281.116\"/>\r\n",
       "<polygon fill=\"#0000ff\" stroke=\"#0000ff\" points=\"478.947,-284.607 489.278,-282.258 479.737,-277.652 478.947,-284.607\"/>\r\n",
       "<text text-anchor=\"middle\" x=\"436.975\" y=\"-283.043\" font-family=\"Times New Roman,serif\" font-size=\"14.00\">yes, missing</text>\r\n",
       "</g>\r\n",
       "<!-- 4 -->\r\n",
       "<g id=\"node5\" class=\"node\"><title>4</title>\r\n",
       "<polygon fill=\"none\" stroke=\"black\" points=\"570.975,-252.243 514.975,-252.243 514.975,-216.243 570.975,-216.243 570.975,-252.243\"/>\r\n",
       "<text text-anchor=\"middle\" x=\"542.975\" y=\"-230.543\" font-family=\"Times New Roman,serif\" font-size=\"14.00\">leaf=&#45;0</text>\r\n",
       "</g>\r\n",
       "<!-- 1&#45;&gt;4 -->\r\n",
       "<g id=\"edge4\" class=\"edge\"><title>1&#45;&gt;4</title>\r\n",
       "<path fill=\"none\" stroke=\"#ff0000\" d=\"M384.059,-252.177C424.78,-247.552 472.379,-242.147 504.59,-238.489\"/>\r\n",
       "<polygon fill=\"#ff0000\" stroke=\"#ff0000\" points=\"505.35,-241.925 514.891,-237.319 504.56,-234.97 505.35,-241.925\"/>\r\n",
       "<text text-anchor=\"middle\" x=\"436.975\" y=\"-253.043\" font-family=\"Times New Roman,serif\" font-size=\"14.00\">no</text>\r\n",
       "</g>\r\n",
       "<!-- 5 -->\r\n",
       "<g id=\"node6\" class=\"node\"><title>5</title>\r\n",
       "<polygon fill=\"none\" stroke=\"black\" points=\"570.975,-126.243 514.975,-126.243 514.975,-90.2428 570.975,-90.2428 570.975,-126.243\"/>\r\n",
       "<text text-anchor=\"middle\" x=\"542.975\" y=\"-104.543\" font-family=\"Times New Roman,serif\" font-size=\"14.00\">leaf=&#45;0</text>\r\n",
       "</g>\r\n",
       "<!-- 2&#45;&gt;5 -->\r\n",
       "<g id=\"edge5\" class=\"edge\"><title>2&#45;&gt;5</title>\r\n",
       "<path fill=\"none\" stroke=\"#0000ff\" d=\"M384.059,-90.3085C424.78,-94.9332 472.379,-100.339 504.59,-103.997\"/>\r\n",
       "<polygon fill=\"#0000ff\" stroke=\"#0000ff\" points=\"504.56,-107.516 514.891,-105.167 505.35,-100.561 504.56,-107.516\"/>\r\n",
       "<text text-anchor=\"middle\" x=\"436.975\" y=\"-103.043\" font-family=\"Times New Roman,serif\" font-size=\"14.00\">yes, missing</text>\r\n",
       "</g>\r\n",
       "<!-- 6 -->\r\n",
       "<g id=\"node7\" class=\"node\"><title>6</title>\r\n",
       "<polygon fill=\"none\" stroke=\"black\" points=\"593.975,-72.2428 491.975,-72.2428 491.975,-36.2428 593.975,-36.2428 593.975,-72.2428\"/>\r\n",
       "<text text-anchor=\"middle\" x=\"542.975\" y=\"-50.5428\" font-family=\"Times New Roman,serif\" font-size=\"14.00\">leaf=0.0452458</text>\r\n",
       "</g>\r\n",
       "<!-- 2&#45;&gt;6 -->\r\n",
       "<g id=\"edge6\" class=\"edge\"><title>2&#45;&gt;6</title>\r\n",
       "<path fill=\"none\" stroke=\"#ff0000\" d=\"M384.059,-72.1771C415.915,-68.5592 451.981,-64.4633 481.595,-61.1001\"/>\r\n",
       "<polygon fill=\"#ff0000\" stroke=\"#ff0000\" points=\"482.242,-64.5492 491.783,-59.943 481.452,-57.5939 482.242,-64.5492\"/>\r\n",
       "<text text-anchor=\"middle\" x=\"436.975\" y=\"-73.0428\" font-family=\"Times New Roman,serif\" font-size=\"14.00\">no</text>\r\n",
       "</g>\r\n",
       "</g>\r\n",
       "</svg>\r\n"
      ],
      "text/plain": [
       "<graphviz.dot.Digraph at 0x764cba8>"
      ]
     },
     "execution_count": 78,
     "metadata": {},
     "output_type": "execute_result"
    }
   ],
   "source": [
    "xgb.to_graphviz(bestXGB, num_trees=22, rankdir='LR' )"
   ]
  },
  {
   "cell_type": "code",
   "execution_count": 79,
   "metadata": {
    "collapsed": false
   },
   "outputs": [
    {
     "data": {
      "image/svg+xml": [
       "<?xml version=\"1.0\" encoding=\"UTF-8\" standalone=\"no\"?>\r\n",
       "<!DOCTYPE svg PUBLIC \"-//W3C//DTD SVG 1.1//EN\"\r\n",
       " \"http://www.w3.org/Graphics/SVG/1.1/DTD/svg11.dtd\">\r\n",
       "<!-- Generated by graphviz version 2.38.0 (20140413.2041)\r\n",
       " -->\r\n",
       "<!-- Title: %3 Pages: 1 -->\r\n",
       "<svg width=\"619pt\" height=\"298pt\"\r\n",
       " viewBox=\"0.00 0.00 618.77 298.49\" xmlns=\"http://www.w3.org/2000/svg\" xmlns:xlink=\"http://www.w3.org/1999/xlink\">\r\n",
       "<g id=\"graph0\" class=\"graph\" transform=\"scale(1 1) rotate(0) translate(4 294.488)\">\r\n",
       "<title>%3</title>\r\n",
       "<polygon fill=\"white\" stroke=\"none\" points=\"-4,4 -4,-294.488 614.774,-294.488 614.774,4 -4,4\"/>\r\n",
       "<!-- 0 -->\r\n",
       "<g id=\"node1\" class=\"node\"><title>0</title>\r\n",
       "<ellipse fill=\"none\" stroke=\"black\" cx=\"68.8939\" cy=\"-149.495\" rx=\"68.7879\" ry=\"68.7879\"/>\r\n",
       "<text text-anchor=\"middle\" x=\"68.8939\" y=\"-145.795\" font-family=\"Times New Roman,serif\" font-size=\"14.00\">bare_nuclei&lt;2.5</text>\r\n",
       "</g>\r\n",
       "<!-- 1 -->\r\n",
       "<g id=\"node2\" class=\"node\"><title>1</title>\r\n",
       "<ellipse fill=\"none\" stroke=\"black\" cx=\"320.781\" cy=\"-212.495\" rx=\"77.9862\" ry=\"77.9862\"/>\r\n",
       "<text text-anchor=\"middle\" x=\"320.781\" y=\"-208.795\" font-family=\"Times New Roman,serif\" font-size=\"14.00\">epitelial_cellsize&lt;4</text>\r\n",
       "</g>\r\n",
       "<!-- 0&#45;&gt;1 -->\r\n",
       "<g id=\"edge1\" class=\"edge\"><title>0&#45;&gt;1</title>\r\n",
       "<path fill=\"none\" stroke=\"#0000ff\" d=\"M135.876,-166.13C166.277,-173.794 202.722,-182.983 235.12,-191.151\"/>\r\n",
       "<polygon fill=\"#0000ff\" stroke=\"#0000ff\" points=\"234.482,-194.599 245.034,-193.65 236.193,-187.812 234.482,-194.599\"/>\r\n",
       "<text text-anchor=\"middle\" x=\"190.288\" y=\"-191.295\" font-family=\"Times New Roman,serif\" font-size=\"14.00\">yes, missing</text>\r\n",
       "</g>\r\n",
       "<!-- 2 -->\r\n",
       "<g id=\"node3\" class=\"node\"><title>2</title>\r\n",
       "<ellipse fill=\"none\" stroke=\"black\" cx=\"320.781\" cy=\"-58.4948\" rx=\"58.4896\" ry=\"58.4896\"/>\r\n",
       "<text text-anchor=\"middle\" x=\"320.781\" y=\"-54.7948\" font-family=\"Times New Roman,serif\" font-size=\"14.00\">cell_shape&lt;3</text>\r\n",
       "</g>\r\n",
       "<!-- 0&#45;&gt;2 -->\r\n",
       "<g id=\"edge2\" class=\"edge\"><title>0&#45;&gt;2</title>\r\n",
       "<path fill=\"none\" stroke=\"#ff0000\" d=\"M133.921,-126.178C171.355,-112.546 218.447,-95.3969 255.862,-81.7717\"/>\r\n",
       "<polygon fill=\"#ff0000\" stroke=\"#ff0000\" points=\"257.448,-84.9191 265.647,-78.2085 255.053,-78.3416 257.448,-84.9191\"/>\r\n",
       "<text text-anchor=\"middle\" x=\"190.288\" y=\"-120.295\" font-family=\"Times New Roman,serif\" font-size=\"14.00\">no</text>\r\n",
       "</g>\r\n",
       "<!-- 3 -->\r\n",
       "<g id=\"node4\" class=\"node\"><title>3</title>\r\n",
       "<polygon fill=\"none\" stroke=\"black\" points=\"610.774,-259.495 503.774,-259.495 503.774,-223.495 610.774,-223.495 610.774,-259.495\"/>\r\n",
       "<text text-anchor=\"middle\" x=\"557.274\" y=\"-237.795\" font-family=\"Times New Roman,serif\" font-size=\"14.00\">leaf=&#45;0.0679312</text>\r\n",
       "</g>\r\n",
       "<!-- 1&#45;&gt;3 -->\r\n",
       "<g id=\"edge3\" class=\"edge\"><title>1&#45;&gt;3</title>\r\n",
       "<path fill=\"none\" stroke=\"#0000ff\" d=\"M398.238,-221.95C429.084,-225.765 464.232,-230.112 493.536,-233.736\"/>\r\n",
       "<polygon fill=\"#0000ff\" stroke=\"#0000ff\" points=\"493.287,-237.232 503.641,-234.986 494.146,-230.285 493.287,-237.232\"/>\r\n",
       "<text text-anchor=\"middle\" x=\"451.274\" y=\"-235.295\" font-family=\"Times New Roman,serif\" font-size=\"14.00\">yes, missing</text>\r\n",
       "</g>\r\n",
       "<!-- 4 -->\r\n",
       "<g id=\"node5\" class=\"node\"><title>4</title>\r\n",
       "<polygon fill=\"none\" stroke=\"black\" points=\"585.274,-205.495 529.274,-205.495 529.274,-169.495 585.274,-169.495 585.274,-205.495\"/>\r\n",
       "<text text-anchor=\"middle\" x=\"557.274\" y=\"-183.795\" font-family=\"Times New Roman,serif\" font-size=\"14.00\">leaf=&#45;0</text>\r\n",
       "</g>\r\n",
       "<!-- 1&#45;&gt;4 -->\r\n",
       "<g id=\"edge4\" class=\"edge\"><title>1&#45;&gt;4</title>\r\n",
       "<path fill=\"none\" stroke=\"#ff0000\" d=\"M398.563,-204.309C438.884,-200.01 486.483,-194.935 518.762,-191.494\"/>\r\n",
       "<polygon fill=\"#ff0000\" stroke=\"#ff0000\" points=\"519.516,-194.934 529.088,-190.393 518.773,-187.973 519.516,-194.934\"/>\r\n",
       "<text text-anchor=\"middle\" x=\"451.274\" y=\"-205.295\" font-family=\"Times New Roman,serif\" font-size=\"14.00\">no</text>\r\n",
       "</g>\r\n",
       "<!-- 5 -->\r\n",
       "<g id=\"node6\" class=\"node\"><title>5</title>\r\n",
       "<polygon fill=\"none\" stroke=\"black\" points=\"585.274,-126.495 529.274,-126.495 529.274,-90.4948 585.274,-90.4948 585.274,-126.495\"/>\r\n",
       "<text text-anchor=\"middle\" x=\"557.274\" y=\"-104.795\" font-family=\"Times New Roman,serif\" font-size=\"14.00\">leaf=&#45;0</text>\r\n",
       "</g>\r\n",
       "<!-- 2&#45;&gt;5 -->\r\n",
       "<g id=\"edge5\" class=\"edge\"><title>2&#45;&gt;5</title>\r\n",
       "<path fill=\"none\" stroke=\"#0000ff\" d=\"M378.246,-70.5347C421.974,-79.8585 481.292,-92.5066 519.183,-100.586\"/>\r\n",
       "<polygon fill=\"#0000ff\" stroke=\"#0000ff\" points=\"518.761,-104.075 529.271,-102.737 520.221,-97.2286 518.761,-104.075\"/>\r\n",
       "<text text-anchor=\"middle\" x=\"451.274\" y=\"-95.2948\" font-family=\"Times New Roman,serif\" font-size=\"14.00\">yes, missing</text>\r\n",
       "</g>\r\n",
       "<!-- 6 -->\r\n",
       "<g id=\"node7\" class=\"node\"><title>6</title>\r\n",
       "<polygon fill=\"none\" stroke=\"black\" points=\"608.274,-72.4948 506.274,-72.4948 506.274,-36.4948 608.274,-36.4948 608.274,-72.4948\"/>\r\n",
       "<text text-anchor=\"middle\" x=\"557.274\" y=\"-50.7948\" font-family=\"Times New Roman,serif\" font-size=\"14.00\">leaf=0.0464717</text>\r\n",
       "</g>\r\n",
       "<!-- 2&#45;&gt;6 -->\r\n",
       "<g id=\"edge6\" class=\"edge\"><title>2&#45;&gt;6</title>\r\n",
       "<path fill=\"none\" stroke=\"#ff0000\" d=\"M379.445,-57.5112C414.744,-56.909 459.857,-56.1395 495.681,-55.5284\"/>\r\n",
       "<polygon fill=\"#ff0000\" stroke=\"#ff0000\" points=\"496.061,-59.0225 506,-55.3524 495.941,-52.0236 496.061,-59.0225\"/>\r\n",
       "<text text-anchor=\"middle\" x=\"451.274\" y=\"-60.2948\" font-family=\"Times New Roman,serif\" font-size=\"14.00\">no</text>\r\n",
       "</g>\r\n",
       "</g>\r\n",
       "</svg>\r\n"
      ],
      "text/plain": [
       "<graphviz.dot.Digraph at 0x764cc50>"
      ]
     },
     "execution_count": 79,
     "metadata": {},
     "output_type": "execute_result"
    }
   ],
   "source": [
    "xgb.to_graphviz(bestXGB, num_trees=23, rankdir='LR' )\n"
   ]
  },
  {
   "cell_type": "code",
   "execution_count": 80,
   "metadata": {
    "collapsed": false
   },
   "outputs": [
    {
     "data": {
      "image/svg+xml": [
       "<?xml version=\"1.0\" encoding=\"UTF-8\" standalone=\"no\"?>\r\n",
       "<!DOCTYPE svg PUBLIC \"-//W3C//DTD SVG 1.1//EN\"\r\n",
       " \"http://www.w3.org/Graphics/SVG/1.1/DTD/svg11.dtd\">\r\n",
       "<!-- Generated by graphviz version 2.38.0 (20140413.2041)\r\n",
       " -->\r\n",
       "<!-- Title: %3 Pages: 1 -->\r\n",
       "<svg width=\"580pt\" height=\"260pt\"\r\n",
       " viewBox=\"0.00 0.00 579.78 259.99\" xmlns=\"http://www.w3.org/2000/svg\" xmlns:xlink=\"http://www.w3.org/1999/xlink\">\r\n",
       "<g id=\"graph0\" class=\"graph\" transform=\"scale(1 1) rotate(0) translate(4 255.99)\">\r\n",
       "<title>%3</title>\r\n",
       "<polygon fill=\"white\" stroke=\"none\" points=\"-4,4 -4,-255.99 575.777,-255.99 575.777,4 -4,4\"/>\r\n",
       "<!-- 0 -->\r\n",
       "<g id=\"node1\" class=\"node\"><title>0</title>\r\n",
       "<ellipse fill=\"none\" stroke=\"black\" cx=\"68.8939\" cy=\"-137.495\" rx=\"68.7879\" ry=\"68.7879\"/>\r\n",
       "<text text-anchor=\"middle\" x=\"68.8939\" y=\"-133.795\" font-family=\"Times New Roman,serif\" font-size=\"14.00\">bare_nuclei&lt;2.5</text>\r\n",
       "</g>\r\n",
       "<!-- 1 -->\r\n",
       "<g id=\"node2\" class=\"node\"><title>1</title>\r\n",
       "<ellipse fill=\"none\" stroke=\"black\" cx=\"301.283\" cy=\"-193.495\" rx=\"58.4896\" ry=\"58.4896\"/>\r\n",
       "<text text-anchor=\"middle\" x=\"301.283\" y=\"-189.795\" font-family=\"Times New Roman,serif\" font-size=\"14.00\">cell_shape&lt;4</text>\r\n",
       "</g>\r\n",
       "<!-- 0&#45;&gt;1 -->\r\n",
       "<g id=\"edge1\" class=\"edge\"><title>0&#45;&gt;1</title>\r\n",
       "<path fill=\"none\" stroke=\"#0000ff\" d=\"M135.914,-153.542C166.75,-161.037 203.372,-169.939 234.214,-177.436\"/>\r\n",
       "<polygon fill=\"#0000ff\" stroke=\"#0000ff\" points=\"233.466,-180.856 244.01,-179.817 235.119,-174.054 233.466,-180.856\"/>\r\n",
       "<text text-anchor=\"middle\" x=\"190.288\" y=\"-178.295\" font-family=\"Times New Roman,serif\" font-size=\"14.00\">yes, missing</text>\r\n",
       "</g>\r\n",
       "<!-- 2 -->\r\n",
       "<g id=\"node3\" class=\"node\"><title>2</title>\r\n",
       "<ellipse fill=\"none\" stroke=\"black\" cx=\"301.283\" cy=\"-58.4948\" rx=\"58.4896\" ry=\"58.4896\"/>\r\n",
       "<text text-anchor=\"middle\" x=\"301.283\" y=\"-54.7948\" font-family=\"Times New Roman,serif\" font-size=\"14.00\">cell_shape&lt;3</text>\r\n",
       "</g>\r\n",
       "<!-- 0&#45;&gt;2 -->\r\n",
       "<g id=\"edge2\" class=\"edge\"><title>0&#45;&gt;2</title>\r\n",
       "<path fill=\"none\" stroke=\"#ff0000\" d=\"M134.376,-115.384C166.105,-104.504 204.245,-91.4258 235.953,-80.5534\"/>\r\n",
       "<polygon fill=\"#ff0000\" stroke=\"#ff0000\" points=\"237.248,-83.8093 245.572,-77.2549 234.978,-77.1877 237.248,-83.8093\"/>\r\n",
       "<text text-anchor=\"middle\" x=\"190.288\" y=\"-111.295\" font-family=\"Times New Roman,serif\" font-size=\"14.00\">no</text>\r\n",
       "</g>\r\n",
       "<!-- 3 -->\r\n",
       "<g id=\"node4\" class=\"node\"><title>3</title>\r\n",
       "<polygon fill=\"none\" stroke=\"black\" points=\"571.777,-245.495 464.777,-245.495 464.777,-209.495 571.777,-209.495 571.777,-245.495\"/>\r\n",
       "<text text-anchor=\"middle\" x=\"518.277\" y=\"-223.795\" font-family=\"Times New Roman,serif\" font-size=\"14.00\">leaf=&#45;0.0606087</text>\r\n",
       "</g>\r\n",
       "<!-- 1&#45;&gt;3 -->\r\n",
       "<g id=\"edge3\" class=\"edge\"><title>1&#45;&gt;3</title>\r\n",
       "<path fill=\"none\" stroke=\"#0000ff\" d=\"M359.333,-202.517C388.727,-207.165 424.63,-212.843 454.774,-217.61\"/>\r\n",
       "<polygon fill=\"#0000ff\" stroke=\"#0000ff\" points=\"454.334,-221.084 464.758,-219.189 455.427,-214.17 454.334,-221.084\"/>\r\n",
       "<text text-anchor=\"middle\" x=\"412.277\" y=\"-219.295\" font-family=\"Times New Roman,serif\" font-size=\"14.00\">yes, missing</text>\r\n",
       "</g>\r\n",
       "<!-- 4 -->\r\n",
       "<g id=\"node5\" class=\"node\"><title>4</title>\r\n",
       "<polygon fill=\"none\" stroke=\"black\" points=\"546.277,-191.495 490.277,-191.495 490.277,-155.495 546.277,-155.495 546.277,-191.495\"/>\r\n",
       "<text text-anchor=\"middle\" x=\"518.277\" y=\"-169.795\" font-family=\"Times New Roman,serif\" font-size=\"14.00\">leaf=&#45;0</text>\r\n",
       "</g>\r\n",
       "<!-- 1&#45;&gt;4 -->\r\n",
       "<g id=\"edge4\" class=\"edge\"><title>1&#45;&gt;4</title>\r\n",
       "<path fill=\"none\" stroke=\"#ff0000\" d=\"M359.615,-188.161C397.778,-184.611 446.815,-180.05 479.992,-176.963\"/>\r\n",
       "<polygon fill=\"#ff0000\" stroke=\"#ff0000\" points=\"480.54,-180.428 490.172,-176.016 479.891,-173.458 480.54,-180.428\"/>\r\n",
       "<text text-anchor=\"middle\" x=\"412.277\" y=\"-189.295\" font-family=\"Times New Roman,serif\" font-size=\"14.00\">no</text>\r\n",
       "</g>\r\n",
       "<!-- 5 -->\r\n",
       "<g id=\"node6\" class=\"node\"><title>5</title>\r\n",
       "<polygon fill=\"none\" stroke=\"black\" points=\"546.277,-117.495 490.277,-117.495 490.277,-81.4948 546.277,-81.4948 546.277,-117.495\"/>\r\n",
       "<text text-anchor=\"middle\" x=\"518.277\" y=\"-95.7948\" font-family=\"Times New Roman,serif\" font-size=\"14.00\">leaf=&#45;0</text>\r\n",
       "</g>\r\n",
       "<!-- 2&#45;&gt;5 -->\r\n",
       "<g id=\"edge5\" class=\"edge\"><title>2&#45;&gt;5</title>\r\n",
       "<path fill=\"none\" stroke=\"#0000ff\" d=\"M358.746,-69.7894C365.163,-71.0504 371.61,-72.3074 377.777,-73.4948 412.421,-80.1646 451.958,-87.5083 480.074,-92.6848\"/>\r\n",
       "<polygon fill=\"#0000ff\" stroke=\"#0000ff\" points=\"479.788,-96.1908 490.256,-94.5567 481.054,-89.3062 479.788,-96.1908\"/>\r\n",
       "<text text-anchor=\"middle\" x=\"412.277\" y=\"-90.2948\" font-family=\"Times New Roman,serif\" font-size=\"14.00\">yes, missing</text>\r\n",
       "</g>\r\n",
       "<!-- 6 -->\r\n",
       "<g id=\"node7\" class=\"node\"><title>6</title>\r\n",
       "<polygon fill=\"none\" stroke=\"black\" points=\"569.277,-63.4948 467.277,-63.4948 467.277,-27.4948 569.277,-27.4948 569.277,-63.4948\"/>\r\n",
       "<text text-anchor=\"middle\" x=\"518.277\" y=\"-41.7948\" font-family=\"Times New Roman,serif\" font-size=\"14.00\">leaf=0.0479515</text>\r\n",
       "</g>\r\n",
       "<!-- 2&#45;&gt;6 -->\r\n",
       "<g id=\"edge6\" class=\"edge\"><title>2&#45;&gt;6</title>\r\n",
       "<path fill=\"none\" stroke=\"#ff0000\" d=\"M359.897,-55.011C389.958,-53.1934 426.706,-50.9714 457.13,-49.1317\"/>\r\n",
       "<polygon fill=\"#ff0000\" stroke=\"#ff0000\" points=\"457.416,-52.6209 467.186,-48.5236 456.993,-45.6337 457.416,-52.6209\"/>\r\n",
       "<text text-anchor=\"middle\" x=\"412.277\" y=\"-58.2948\" font-family=\"Times New Roman,serif\" font-size=\"14.00\">no</text>\r\n",
       "</g>\r\n",
       "</g>\r\n",
       "</svg>\r\n"
      ],
      "text/plain": [
       "<graphviz.dot.Digraph at 0x764cc88>"
      ]
     },
     "execution_count": 80,
     "metadata": {},
     "output_type": "execute_result"
    }
   ],
   "source": [
    "xgb.to_graphviz(bestXGB, num_trees=24, rankdir='LR' )\n"
   ]
  },
  {
   "cell_type": "code",
   "execution_count": 81,
   "metadata": {
    "collapsed": false
   },
   "outputs": [
    {
     "data": {
      "image/svg+xml": [
       "<?xml version=\"1.0\" encoding=\"UTF-8\" standalone=\"no\"?>\r\n",
       "<!DOCTYPE svg PUBLIC \"-//W3C//DTD SVG 1.1//EN\"\r\n",
       " \"http://www.w3.org/Graphics/SVG/1.1/DTD/svg11.dtd\">\r\n",
       "<!-- Generated by graphviz version 2.38.0 (20140413.2041)\r\n",
       " -->\r\n",
       "<!-- Title: %3 Pages: 1 -->\r\n",
       "<svg width=\"603pt\" height=\"358pt\"\r\n",
       " viewBox=\"0.00 0.00 603.18 357.74\" xmlns=\"http://www.w3.org/2000/svg\" xmlns:xlink=\"http://www.w3.org/1999/xlink\">\r\n",
       "<g id=\"graph0\" class=\"graph\" transform=\"scale(1 1) rotate(0) translate(4 353.735)\">\r\n",
       "<title>%3</title>\r\n",
       "<polygon fill=\"white\" stroke=\"none\" points=\"-4,4 -4,-353.735 599.175,-353.735 599.175,4 -4,4\"/>\r\n",
       "<!-- 0 -->\r\n",
       "<g id=\"node1\" class=\"node\"><title>0</title>\r\n",
       "<ellipse fill=\"none\" stroke=\"black\" cx=\"51.3454\" cy=\"-197.742\" rx=\"51.1914\" ry=\"51.1914\"/>\r\n",
       "<text text-anchor=\"middle\" x=\"51.3454\" y=\"-194.042\" font-family=\"Times New Roman,serif\" font-size=\"14.00\">cell_size&lt;4</text>\r\n",
       "</g>\r\n",
       "<!-- 1 -->\r\n",
       "<g id=\"node2\" class=\"node\"><title>1</title>\r\n",
       "<ellipse fill=\"none\" stroke=\"black\" cx=\"295.433\" cy=\"-271.742\" rx=\"77.9862\" ry=\"77.9862\"/>\r\n",
       "<text text-anchor=\"middle\" x=\"295.433\" y=\"-268.042\" font-family=\"Times New Roman,serif\" font-size=\"14.00\">normal_nucleoli&lt;3</text>\r\n",
       "</g>\r\n",
       "<!-- 0&#45;&gt;1 -->\r\n",
       "<g id=\"edge1\" class=\"edge\"><title>0&#45;&gt;1</title>\r\n",
       "<path fill=\"none\" stroke=\"#0000ff\" d=\"M100.754,-212.539C132.166,-222.141 173.936,-234.909 210.642,-246.129\"/>\r\n",
       "<polygon fill=\"#0000ff\" stroke=\"#0000ff\" points=\"209.763,-249.521 220.349,-249.097 211.809,-242.826 209.763,-249.521\"/>\r\n",
       "<text text-anchor=\"middle\" x=\"155.191\" y=\"-242.542\" font-family=\"Times New Roman,serif\" font-size=\"14.00\">yes, missing</text>\r\n",
       "</g>\r\n",
       "<!-- 2 -->\r\n",
       "<g id=\"node3\" class=\"node\"><title>2</title>\r\n",
       "<ellipse fill=\"none\" stroke=\"black\" cx=\"295.433\" cy=\"-87.7422\" rx=\"87.9851\" ry=\"87.9851\"/>\r\n",
       "<text text-anchor=\"middle\" x=\"295.433\" y=\"-84.0422\" font-family=\"Times New Roman,serif\" font-size=\"14.00\">marginal_adhesion&lt;2</text>\r\n",
       "</g>\r\n",
       "<!-- 0&#45;&gt;2 -->\r\n",
       "<g id=\"edge2\" class=\"edge\"><title>0&#45;&gt;2</title>\r\n",
       "<path fill=\"none\" stroke=\"#ff0000\" d=\"M98.4501,-176.793C128.803,-163.002 169.52,-144.5 205.976,-127.936\"/>\r\n",
       "<polygon fill=\"#ff0000\" stroke=\"#ff0000\" points=\"207.487,-131.093 215.144,-123.77 204.591,-124.72 207.487,-131.093\"/>\r\n",
       "<text text-anchor=\"middle\" x=\"155.191\" y=\"-169.542\" font-family=\"Times New Roman,serif\" font-size=\"14.00\">no</text>\r\n",
       "</g>\r\n",
       "<!-- 3 -->\r\n",
       "<g id=\"node4\" class=\"node\"><title>3</title>\r\n",
       "<polygon fill=\"none\" stroke=\"black\" points=\"595.175,-316.742 488.175,-316.742 488.175,-280.742 595.175,-280.742 595.175,-316.742\"/>\r\n",
       "<text text-anchor=\"middle\" x=\"541.675\" y=\"-295.042\" font-family=\"Times New Roman,serif\" font-size=\"14.00\">leaf=&#45;0.0512622</text>\r\n",
       "</g>\r\n",
       "<!-- 1&#45;&gt;3 -->\r\n",
       "<g id=\"edge3\" class=\"edge\"><title>1&#45;&gt;3</title>\r\n",
       "<path fill=\"none\" stroke=\"#0000ff\" d=\"M373.043,-280.211C406.748,-283.937 445.851,-288.26 477.808,-291.792\"/>\r\n",
       "<polygon fill=\"#0000ff\" stroke=\"#0000ff\" points=\"477.593,-295.29 487.917,-292.91 478.362,-288.332 477.593,-295.29\"/>\r\n",
       "<text text-anchor=\"middle\" x=\"435.675\" y=\"-294.542\" font-family=\"Times New Roman,serif\" font-size=\"14.00\">yes, missing</text>\r\n",
       "</g>\r\n",
       "<!-- 4 -->\r\n",
       "<g id=\"node5\" class=\"node\"><title>4</title>\r\n",
       "<polygon fill=\"none\" stroke=\"black\" points=\"569.675,-262.742 513.675,-262.742 513.675,-226.742 569.675,-226.742 569.675,-262.742\"/>\r\n",
       "<text text-anchor=\"middle\" x=\"541.675\" y=\"-241.042\" font-family=\"Times New Roman,serif\" font-size=\"14.00\">leaf=&#45;0</text>\r\n",
       "</g>\r\n",
       "<!-- 1&#45;&gt;4 -->\r\n",
       "<g id=\"edge4\" class=\"edge\"><title>1&#45;&gt;4</title>\r\n",
       "<path fill=\"none\" stroke=\"#ff0000\" d=\"M373.043,-263.273C416.529,-258.466 469.001,-252.666 503.519,-248.85\"/>\r\n",
       "<polygon fill=\"#ff0000\" stroke=\"#ff0000\" points=\"504.07,-252.31 513.625,-247.733 503.301,-245.353 504.07,-252.31\"/>\r\n",
       "<text text-anchor=\"middle\" x=\"435.675\" y=\"-263.542\" font-family=\"Times New Roman,serif\" font-size=\"14.00\">no</text>\r\n",
       "</g>\r\n",
       "<!-- 5 -->\r\n",
       "<g id=\"node6\" class=\"node\"><title>5</title>\r\n",
       "<polygon fill=\"none\" stroke=\"black\" points=\"569.675,-132.742 513.675,-132.742 513.675,-96.7422 569.675,-96.7422 569.675,-132.742\"/>\r\n",
       "<text text-anchor=\"middle\" x=\"541.675\" y=\"-111.042\" font-family=\"Times New Roman,serif\" font-size=\"14.00\">leaf=&#45;0</text>\r\n",
       "</g>\r\n",
       "<!-- 2&#45;&gt;5 -->\r\n",
       "<g id=\"edge5\" class=\"edge\"><title>2&#45;&gt;5</title>\r\n",
       "<path fill=\"none\" stroke=\"#0000ff\" d=\"M382.887,-97.2994C424.19,-101.865 471.459,-107.091 503.407,-110.622\"/>\r\n",
       "<polygon fill=\"#0000ff\" stroke=\"#0000ff\" points=\"503.3,-114.132 513.624,-111.752 504.069,-107.174 503.3,-114.132\"/>\r\n",
       "<text text-anchor=\"middle\" x=\"435.675\" y=\"-111.542\" font-family=\"Times New Roman,serif\" font-size=\"14.00\">yes, missing</text>\r\n",
       "</g>\r\n",
       "<!-- 6 -->\r\n",
       "<g id=\"node7\" class=\"node\"><title>6</title>\r\n",
       "<polygon fill=\"none\" stroke=\"black\" points=\"592.675,-78.7422 490.675,-78.7422 490.675,-42.7422 592.675,-42.7422 592.675,-78.7422\"/>\r\n",
       "<text text-anchor=\"middle\" x=\"541.675\" y=\"-57.0422\" font-family=\"Times New Roman,serif\" font-size=\"14.00\">leaf=0.0301995</text>\r\n",
       "</g>\r\n",
       "<!-- 2&#45;&gt;6 -->\r\n",
       "<g id=\"edge6\" class=\"edge\"><title>2&#45;&gt;6</title>\r\n",
       "<path fill=\"none\" stroke=\"#ff0000\" d=\"M382.887,-78.185C415.172,-74.6161 451.102,-70.6442 480.511,-67.3931\"/>\r\n",
       "<polygon fill=\"#ff0000\" stroke=\"#ff0000\" points=\"481.07,-70.8528 490.625,-66.2751 480.301,-63.8952 481.07,-70.8528\"/>\r\n",
       "<text text-anchor=\"middle\" x=\"435.675\" y=\"-80.5422\" font-family=\"Times New Roman,serif\" font-size=\"14.00\">no</text>\r\n",
       "</g>\r\n",
       "</g>\r\n",
       "</svg>\r\n"
      ],
      "text/plain": [
       "<graphviz.dot.Digraph at 0x762c8d0>"
      ]
     },
     "execution_count": 81,
     "metadata": {},
     "output_type": "execute_result"
    }
   ],
   "source": [
    "xgb.to_graphviz(bestXGB, num_trees=25, rankdir='LR' )\n"
   ]
  },
  {
   "cell_type": "code",
   "execution_count": 82,
   "metadata": {
    "collapsed": false
   },
   "outputs": [
    {
     "data": {
      "image/svg+xml": [
       "<?xml version=\"1.0\" encoding=\"UTF-8\" standalone=\"no\"?>\r\n",
       "<!DOCTYPE svg PUBLIC \"-//W3C//DTD SVG 1.1//EN\"\r\n",
       " \"http://www.w3.org/Graphics/SVG/1.1/DTD/svg11.dtd\">\r\n",
       "<!-- Generated by graphviz version 2.38.0 (20140413.2041)\r\n",
       " -->\r\n",
       "<!-- Title: %3 Pages: 1 -->\r\n",
       "<svg width=\"619pt\" height=\"320pt\"\r\n",
       " viewBox=\"0.00 0.00 618.77 319.89\" xmlns=\"http://www.w3.org/2000/svg\" xmlns:xlink=\"http://www.w3.org/1999/xlink\">\r\n",
       "<g id=\"graph0\" class=\"graph\" transform=\"scale(1 1) rotate(0) translate(4 315.887)\">\r\n",
       "<title>%3</title>\r\n",
       "<polygon fill=\"white\" stroke=\"none\" points=\"-4,4 -4,-315.887 614.774,-315.887 614.774,4 -4,4\"/>\r\n",
       "<!-- 0 -->\r\n",
       "<g id=\"node1\" class=\"node\"><title>0</title>\r\n",
       "<ellipse fill=\"none\" stroke=\"black\" cx=\"68.8939\" cy=\"-166.894\" rx=\"68.7879\" ry=\"68.7879\"/>\r\n",
       "<text text-anchor=\"middle\" x=\"68.8939\" y=\"-163.194\" font-family=\"Times New Roman,serif\" font-size=\"14.00\">bare_nuclei&lt;2.5</text>\r\n",
       "</g>\r\n",
       "<!-- 1 -->\r\n",
       "<g id=\"node2\" class=\"node\"><title>1</title>\r\n",
       "<ellipse fill=\"none\" stroke=\"black\" cx=\"320.781\" cy=\"-233.894\" rx=\"77.9862\" ry=\"77.9862\"/>\r\n",
       "<text text-anchor=\"middle\" x=\"320.781\" y=\"-230.194\" font-family=\"Times New Roman,serif\" font-size=\"14.00\">epitelial_cellsize&lt;4</text>\r\n",
       "</g>\r\n",
       "<!-- 0&#45;&gt;1 -->\r\n",
       "<g id=\"edge1\" class=\"edge\"><title>0&#45;&gt;1</title>\r\n",
       "<path fill=\"none\" stroke=\"#0000ff\" d=\"M135.549,-184.497C166.083,-192.684 202.767,-202.52 235.335,-211.252\"/>\r\n",
       "<polygon fill=\"#0000ff\" stroke=\"#0000ff\" points=\"234.733,-214.714 245.298,-213.924 236.546,-207.953 234.733,-214.714\"/>\r\n",
       "<text text-anchor=\"middle\" x=\"190.288\" y=\"-211.694\" font-family=\"Times New Roman,serif\" font-size=\"14.00\">yes, missing</text>\r\n",
       "</g>\r\n",
       "<!-- 2 -->\r\n",
       "<g id=\"node3\" class=\"node\"><title>2</title>\r\n",
       "<ellipse fill=\"none\" stroke=\"black\" cx=\"320.781\" cy=\"-68.8939\" rx=\"68.7879\" ry=\"68.7879\"/>\r\n",
       "<text text-anchor=\"middle\" x=\"320.781\" y=\"-65.1939\" font-family=\"Times New Roman,serif\" font-size=\"14.00\">bare_nuclei&lt;5.5</text>\r\n",
       "</g>\r\n",
       "<!-- 0&#45;&gt;2 -->\r\n",
       "<g id=\"edge2\" class=\"edge\"><title>0&#45;&gt;2</title>\r\n",
       "<path fill=\"none\" stroke=\"#ff0000\" d=\"M133.274,-142.038C167.917,-128.451 210.978,-111.564 246.993,-97.4396\"/>\r\n",
       "<polygon fill=\"#ff0000\" stroke=\"#ff0000\" points=\"248.437,-100.633 256.468,-93.7236 245.881,-94.1163 248.437,-100.633\"/>\r\n",
       "<text text-anchor=\"middle\" x=\"190.288\" y=\"-136.694\" font-family=\"Times New Roman,serif\" font-size=\"14.00\">no</text>\r\n",
       "</g>\r\n",
       "<!-- 3 -->\r\n",
       "<g id=\"node4\" class=\"node\"><title>3</title>\r\n",
       "<polygon fill=\"none\" stroke=\"black\" points=\"610.774,-278.894 503.774,-278.894 503.774,-242.894 610.774,-242.894 610.774,-278.894\"/>\r\n",
       "<text text-anchor=\"middle\" x=\"557.274\" y=\"-257.194\" font-family=\"Times New Roman,serif\" font-size=\"14.00\">leaf=&#45;0.0584387</text>\r\n",
       "</g>\r\n",
       "<!-- 1&#45;&gt;3 -->\r\n",
       "<g id=\"edge3\" class=\"edge\"><title>1&#45;&gt;3</title>\r\n",
       "<path fill=\"none\" stroke=\"#0000ff\" d=\"M398.563,-242.735C429.27,-246.27 464.198,-250.292 493.365,-253.65\"/>\r\n",
       "<polygon fill=\"#0000ff\" stroke=\"#0000ff\" points=\"493.091,-257.142 503.425,-254.809 493.891,-250.188 493.091,-257.142\"/>\r\n",
       "<text text-anchor=\"middle\" x=\"451.274\" y=\"-255.694\" font-family=\"Times New Roman,serif\" font-size=\"14.00\">yes, missing</text>\r\n",
       "</g>\r\n",
       "<!-- 4 -->\r\n",
       "<g id=\"node5\" class=\"node\"><title>4</title>\r\n",
       "<polygon fill=\"none\" stroke=\"black\" points=\"585.274,-224.894 529.274,-224.894 529.274,-188.894 585.274,-188.894 585.274,-224.894\"/>\r\n",
       "<text text-anchor=\"middle\" x=\"557.274\" y=\"-203.194\" font-family=\"Times New Roman,serif\" font-size=\"14.00\">leaf=&#45;0</text>\r\n",
       "</g>\r\n",
       "<!-- 1&#45;&gt;4 -->\r\n",
       "<g id=\"edge4\" class=\"edge\"><title>1&#45;&gt;4</title>\r\n",
       "<path fill=\"none\" stroke=\"#ff0000\" d=\"M398.563,-225.053C438.884,-220.41 486.483,-214.93 518.762,-211.213\"/>\r\n",
       "<polygon fill=\"#ff0000\" stroke=\"#ff0000\" points=\"519.554,-214.645 529.088,-210.024 518.753,-207.691 519.554,-214.645\"/>\r\n",
       "<text text-anchor=\"middle\" x=\"451.274\" y=\"-225.694\" font-family=\"Times New Roman,serif\" font-size=\"14.00\">no</text>\r\n",
       "</g>\r\n",
       "<!-- 5 -->\r\n",
       "<g id=\"node6\" class=\"node\"><title>5</title>\r\n",
       "<polygon fill=\"none\" stroke=\"black\" points=\"585.274,-113.894 529.274,-113.894 529.274,-77.8939 585.274,-77.8939 585.274,-113.894\"/>\r\n",
       "<text text-anchor=\"middle\" x=\"557.274\" y=\"-92.1939\" font-family=\"Times New Roman,serif\" font-size=\"14.00\">leaf=&#45;0</text>\r\n",
       "</g>\r\n",
       "<!-- 2&#45;&gt;5 -->\r\n",
       "<g id=\"edge5\" class=\"edge\"><title>2&#45;&gt;5</title>\r\n",
       "<path fill=\"none\" stroke=\"#0000ff\" d=\"M389.291,-76.6672C431.471,-81.5239 484.193,-87.5944 518.982,-91.6\"/>\r\n",
       "<polygon fill=\"#0000ff\" stroke=\"#0000ff\" points=\"518.836,-95.1062 529.171,-92.7732 519.637,-88.1522 518.836,-95.1062\"/>\r\n",
       "<text text-anchor=\"middle\" x=\"451.274\" y=\"-91.6939\" font-family=\"Times New Roman,serif\" font-size=\"14.00\">yes, missing</text>\r\n",
       "</g>\r\n",
       "<!-- 6 -->\r\n",
       "<g id=\"node7\" class=\"node\"><title>6</title>\r\n",
       "<polygon fill=\"none\" stroke=\"black\" points=\"608.274,-59.8939 506.274,-59.8939 506.274,-23.8939 608.274,-23.8939 608.274,-59.8939\"/>\r\n",
       "<text text-anchor=\"middle\" x=\"557.274\" y=\"-38.1939\" font-family=\"Times New Roman,serif\" font-size=\"14.00\">leaf=0.0382419</text>\r\n",
       "</g>\r\n",
       "<!-- 2&#45;&gt;6 -->\r\n",
       "<g id=\"edge6\" class=\"edge\"><title>2&#45;&gt;6</title>\r\n",
       "<path fill=\"none\" stroke=\"#ff0000\" d=\"M389.291,-61.1206C422.865,-57.2548 463.119,-52.62 495.691,-48.8696\"/>\r\n",
       "<polygon fill=\"#ff0000\" stroke=\"#ff0000\" points=\"496.444,-52.3061 505.978,-47.6851 495.643,-45.352 496.444,-52.3061\"/>\r\n",
       "<text text-anchor=\"middle\" x=\"451.274\" y=\"-61.6939\" font-family=\"Times New Roman,serif\" font-size=\"14.00\">no</text>\r\n",
       "</g>\r\n",
       "</g>\r\n",
       "</svg>\r\n"
      ],
      "text/plain": [
       "<graphviz.dot.Digraph at 0x764ce10>"
      ]
     },
     "execution_count": 82,
     "metadata": {},
     "output_type": "execute_result"
    }
   ],
   "source": [
    "xgb.to_graphviz(bestXGB, num_trees=26, rankdir='LR' )\n"
   ]
  },
  {
   "cell_type": "code",
   "execution_count": 83,
   "metadata": {
    "collapsed": false
   },
   "outputs": [
    {
     "data": {
      "image/svg+xml": [
       "<?xml version=\"1.0\" encoding=\"UTF-8\" standalone=\"no\"?>\r\n",
       "<!DOCTYPE svg PUBLIC \"-//W3C//DTD SVG 1.1//EN\"\r\n",
       " \"http://www.w3.org/Graphics/SVG/1.1/DTD/svg11.dtd\">\r\n",
       "<!-- Generated by graphviz version 2.38.0 (20140413.2041)\r\n",
       " -->\r\n",
       "<!-- Title: %3 Pages: 1 -->\r\n",
       "<svg width=\"625pt\" height=\"344pt\"\r\n",
       " viewBox=\"0.00 0.00 625.27 344.24\" xmlns=\"http://www.w3.org/2000/svg\" xmlns:xlink=\"http://www.w3.org/1999/xlink\">\r\n",
       "<g id=\"graph0\" class=\"graph\" transform=\"scale(1 1) rotate(0) translate(4 340.236)\">\r\n",
       "<title>%3</title>\r\n",
       "<polygon fill=\"white\" stroke=\"none\" points=\"-4,4 -4,-340.236 621.273,-340.236 621.273,4 -4,4\"/>\r\n",
       "<!-- 0 -->\r\n",
       "<g id=\"node1\" class=\"node\"><title>0</title>\r\n",
       "<ellipse fill=\"none\" stroke=\"black\" cx=\"68.8939\" cy=\"-186.243\" rx=\"68.7879\" ry=\"68.7879\"/>\r\n",
       "<text text-anchor=\"middle\" x=\"68.8939\" y=\"-182.543\" font-family=\"Times New Roman,serif\" font-size=\"14.00\">bare_nuclei&lt;2.5</text>\r\n",
       "</g>\r\n",
       "<!-- 1 -->\r\n",
       "<g id=\"node2\" class=\"node\"><title>1</title>\r\n",
       "<ellipse fill=\"none\" stroke=\"black\" cx=\"324.031\" cy=\"-258.243\" rx=\"77.9862\" ry=\"77.9862\"/>\r\n",
       "<text text-anchor=\"middle\" x=\"324.031\" y=\"-254.543\" font-family=\"Times New Roman,serif\" font-size=\"14.00\">epitelial_cellsize&lt;4</text>\r\n",
       "</g>\r\n",
       "<!-- 0&#45;&gt;1 -->\r\n",
       "<g id=\"edge1\" class=\"edge\"><title>0&#45;&gt;1</title>\r\n",
       "<path fill=\"none\" stroke=\"#0000ff\" d=\"M135.412,-204.878C167.011,-213.866 205.286,-224.753 239.003,-234.343\"/>\r\n",
       "<polygon fill=\"#0000ff\" stroke=\"#0000ff\" points=\"238.268,-237.772 248.844,-237.142 240.183,-231.04 238.268,-237.772\"/>\r\n",
       "<text text-anchor=\"middle\" x=\"190.288\" y=\"-232.043\" font-family=\"Times New Roman,serif\" font-size=\"14.00\">yes, missing</text>\r\n",
       "</g>\r\n",
       "<!-- 2 -->\r\n",
       "<g id=\"node3\" class=\"node\"><title>2</title>\r\n",
       "<ellipse fill=\"none\" stroke=\"black\" cx=\"324.031\" cy=\"-81.2428\" rx=\"81.4863\" ry=\"81.4863\"/>\r\n",
       "<text text-anchor=\"middle\" x=\"324.031\" y=\"-77.5428\" font-family=\"Times New Roman,serif\" font-size=\"14.00\">bland_chromatin&lt;3</text>\r\n",
       "</g>\r\n",
       "<!-- 0&#45;&gt;2 -->\r\n",
       "<g id=\"edge2\" class=\"edge\"><title>0&#45;&gt;2</title>\r\n",
       "<path fill=\"none\" stroke=\"#ff0000\" d=\"M132.792,-160.153C164.914,-146.829 204.435,-130.436 239.116,-116.05\"/>\r\n",
       "<polygon fill=\"#ff0000\" stroke=\"#ff0000\" points=\"240.864,-119.114 248.76,-112.05 238.182,-112.649 240.864,-119.114\"/>\r\n",
       "<text text-anchor=\"middle\" x=\"190.288\" y=\"-153.043\" font-family=\"Times New Roman,serif\" font-size=\"14.00\">no</text>\r\n",
       "</g>\r\n",
       "<!-- 3 -->\r\n",
       "<g id=\"node4\" class=\"node\"><title>3</title>\r\n",
       "<polygon fill=\"none\" stroke=\"black\" points=\"617.273,-303.243 510.273,-303.243 510.273,-267.243 617.273,-267.243 617.273,-303.243\"/>\r\n",
       "<text text-anchor=\"middle\" x=\"563.773\" y=\"-281.543\" font-family=\"Times New Roman,serif\" font-size=\"14.00\">leaf=&#45;0.0546633</text>\r\n",
       "</g>\r\n",
       "<!-- 1&#45;&gt;3 -->\r\n",
       "<g id=\"edge3\" class=\"edge\"><title>1&#45;&gt;3</title>\r\n",
       "<path fill=\"none\" stroke=\"#0000ff\" d=\"M401.563,-266.934C433.393,-270.549 469.882,-274.693 500.086,-278.124\"/>\r\n",
       "<polygon fill=\"#0000ff\" stroke=\"#0000ff\" points=\"499.742,-281.607 510.073,-279.258 500.532,-274.652 499.742,-281.607\"/>\r\n",
       "<text text-anchor=\"middle\" x=\"457.773\" y=\"-280.043\" font-family=\"Times New Roman,serif\" font-size=\"14.00\">yes, missing</text>\r\n",
       "</g>\r\n",
       "<!-- 4 -->\r\n",
       "<g id=\"node5\" class=\"node\"><title>4</title>\r\n",
       "<polygon fill=\"none\" stroke=\"black\" points=\"591.773,-249.243 535.773,-249.243 535.773,-213.243 591.773,-213.243 591.773,-249.243\"/>\r\n",
       "<text text-anchor=\"middle\" x=\"563.773\" y=\"-227.543\" font-family=\"Times New Roman,serif\" font-size=\"14.00\">leaf=&#45;0</text>\r\n",
       "</g>\r\n",
       "<!-- 1&#45;&gt;4 -->\r\n",
       "<g id=\"edge4\" class=\"edge\"><title>1&#45;&gt;4</title>\r\n",
       "<path fill=\"none\" stroke=\"#ff0000\" d=\"M401.563,-249.551C443.085,-244.836 492.536,-239.22 525.62,-235.462\"/>\r\n",
       "<polygon fill=\"#ff0000\" stroke=\"#ff0000\" points=\"526.215,-238.917 535.756,-234.311 525.425,-231.962 526.215,-238.917\"/>\r\n",
       "<text text-anchor=\"middle\" x=\"457.773\" y=\"-250.043\" font-family=\"Times New Roman,serif\" font-size=\"14.00\">no</text>\r\n",
       "</g>\r\n",
       "<!-- 5 -->\r\n",
       "<g id=\"node6\" class=\"node\"><title>5</title>\r\n",
       "<polygon fill=\"none\" stroke=\"black\" points=\"591.773,-126.243 535.773,-126.243 535.773,-90.2428 591.773,-90.2428 591.773,-126.243\"/>\r\n",
       "<text text-anchor=\"middle\" x=\"563.773\" y=\"-104.543\" font-family=\"Times New Roman,serif\" font-size=\"14.00\">leaf=&#45;0</text>\r\n",
       "</g>\r\n",
       "<!-- 2&#45;&gt;5 -->\r\n",
       "<g id=\"edge5\" class=\"edge\"><title>2&#45;&gt;5</title>\r\n",
       "<path fill=\"none\" stroke=\"#0000ff\" d=\"M404.857,-90.3085C445.579,-94.9332 493.177,-100.339 525.388,-103.997\"/>\r\n",
       "<polygon fill=\"#0000ff\" stroke=\"#0000ff\" points=\"525.358,-107.516 535.689,-105.167 526.148,-100.561 525.358,-107.516\"/>\r\n",
       "<text text-anchor=\"middle\" x=\"457.773\" y=\"-103.043\" font-family=\"Times New Roman,serif\" font-size=\"14.00\">yes, missing</text>\r\n",
       "</g>\r\n",
       "<!-- 6 -->\r\n",
       "<g id=\"node7\" class=\"node\"><title>6</title>\r\n",
       "<polygon fill=\"none\" stroke=\"black\" points=\"614.773,-72.2428 512.773,-72.2428 512.773,-36.2428 614.773,-36.2428 614.773,-72.2428\"/>\r\n",
       "<text text-anchor=\"middle\" x=\"563.773\" y=\"-50.5428\" font-family=\"Times New Roman,serif\" font-size=\"14.00\">leaf=0.0425214</text>\r\n",
       "</g>\r\n",
       "<!-- 2&#45;&gt;6 -->\r\n",
       "<g id=\"edge6\" class=\"edge\"><title>2&#45;&gt;6</title>\r\n",
       "<path fill=\"none\" stroke=\"#ff0000\" d=\"M404.857,-72.1771C436.713,-68.5592 472.779,-64.4633 502.393,-61.1001\"/>\r\n",
       "<polygon fill=\"#ff0000\" stroke=\"#ff0000\" points=\"503.04,-64.5492 512.581,-59.943 502.25,-57.5939 503.04,-64.5492\"/>\r\n",
       "<text text-anchor=\"middle\" x=\"457.773\" y=\"-73.0428\" font-family=\"Times New Roman,serif\" font-size=\"14.00\">no</text>\r\n",
       "</g>\r\n",
       "</g>\r\n",
       "</svg>\r\n"
      ],
      "text/plain": [
       "<graphviz.dot.Digraph at 0x75df390>"
      ]
     },
     "execution_count": 83,
     "metadata": {},
     "output_type": "execute_result"
    }
   ],
   "source": [
    "xgb.to_graphviz(bestXGB, num_trees=27, rankdir='LR' )\n"
   ]
  },
  {
   "cell_type": "code",
   "execution_count": 84,
   "metadata": {
    "collapsed": false
   },
   "outputs": [
    {
     "data": {
      "image/svg+xml": [
       "<?xml version=\"1.0\" encoding=\"UTF-8\" standalone=\"no\"?>\r\n",
       "<!DOCTYPE svg PUBLIC \"-//W3C//DTD SVG 1.1//EN\"\r\n",
       " \"http://www.w3.org/Graphics/SVG/1.1/DTD/svg11.dtd\">\r\n",
       "<!-- Generated by graphviz version 2.38.0 (20140413.2041)\r\n",
       " -->\r\n",
       "<!-- Title: %3 Pages: 1 -->\r\n",
       "<svg width=\"565pt\" height=\"235pt\"\r\n",
       " viewBox=\"0.00 0.00 565.48 235.35\" xmlns=\"http://www.w3.org/2000/svg\" xmlns:xlink=\"http://www.w3.org/1999/xlink\">\r\n",
       "<g id=\"graph0\" class=\"graph\" transform=\"scale(1 1) rotate(0) translate(4 231.345)\">\r\n",
       "<title>%3</title>\r\n",
       "<polygon fill=\"white\" stroke=\"none\" points=\"-4,4 -4,-231.345 561.479,-231.345 561.479,4 -4,4\"/>\r\n",
       "<!-- 0 -->\r\n",
       "<g id=\"node1\" class=\"node\"><title>0</title>\r\n",
       "<ellipse fill=\"none\" stroke=\"black\" cx=\"68.8939\" cy=\"-121.345\" rx=\"68.7879\" ry=\"68.7879\"/>\r\n",
       "<text text-anchor=\"middle\" x=\"68.8939\" y=\"-117.645\" font-family=\"Times New Roman,serif\" font-size=\"14.00\">bare_nuclei&lt;2.5</text>\r\n",
       "</g>\r\n",
       "<!-- 1 -->\r\n",
       "<g id=\"node2\" class=\"node\"><title>1</title>\r\n",
       "<ellipse fill=\"none\" stroke=\"black\" cx=\"294.133\" cy=\"-172.345\" rx=\"51.1914\" ry=\"51.1914\"/>\r\n",
       "<text text-anchor=\"middle\" x=\"294.133\" y=\"-168.645\" font-family=\"Times New Roman,serif\" font-size=\"14.00\">cell_size&lt;7</text>\r\n",
       "</g>\r\n",
       "<!-- 0&#45;&gt;1 -->\r\n",
       "<g id=\"edge1\" class=\"edge\"><title>0&#45;&gt;1</title>\r\n",
       "<path fill=\"none\" stroke=\"#0000ff\" d=\"M136.269,-136.509C167.215,-143.579 203.747,-151.925 233.767,-158.783\"/>\r\n",
       "<polygon fill=\"#0000ff\" stroke=\"#0000ff\" points=\"233.152,-162.233 243.68,-161.048 234.711,-155.408 233.152,-162.233\"/>\r\n",
       "<text text-anchor=\"middle\" x=\"190.288\" y=\"-159.145\" font-family=\"Times New Roman,serif\" font-size=\"14.00\">yes, missing</text>\r\n",
       "</g>\r\n",
       "<!-- 2 -->\r\n",
       "<g id=\"node3\" class=\"node\"><title>2</title>\r\n",
       "<ellipse fill=\"none\" stroke=\"black\" cx=\"294.133\" cy=\"-51.3454\" rx=\"51.1914\" ry=\"51.1914\"/>\r\n",
       "<text text-anchor=\"middle\" x=\"294.133\" y=\"-47.6454\" font-family=\"Times New Roman,serif\" font-size=\"14.00\">cell_size&lt;2</text>\r\n",
       "</g>\r\n",
       "<!-- 0&#45;&gt;2 -->\r\n",
       "<g id=\"edge2\" class=\"edge\"><title>0&#45;&gt;2</title>\r\n",
       "<path fill=\"none\" stroke=\"#ff0000\" d=\"M134.764,-101.005C166.476,-91.0606 204.334,-79.1899 235.082,-69.5483\"/>\r\n",
       "<polygon fill=\"#ff0000\" stroke=\"#ff0000\" points=\"236.304,-72.8333 244.798,-66.5016 234.209,-66.154 236.304,-72.8333\"/>\r\n",
       "<text text-anchor=\"middle\" x=\"190.288\" y=\"-97.1454\" font-family=\"Times New Roman,serif\" font-size=\"14.00\">no</text>\r\n",
       "</g>\r\n",
       "<!-- 3 -->\r\n",
       "<g id=\"node4\" class=\"node\"><title>3</title>\r\n",
       "<polygon fill=\"none\" stroke=\"black\" points=\"557.479,-227.345 450.479,-227.345 450.479,-191.345 557.479,-191.345 557.479,-227.345\"/>\r\n",
       "<text text-anchor=\"middle\" x=\"503.979\" y=\"-205.645\" font-family=\"Times New Roman,serif\" font-size=\"14.00\">leaf=&#45;0.0529955</text>\r\n",
       "</g>\r\n",
       "<!-- 1&#45;&gt;3 -->\r\n",
       "<g id=\"edge3\" class=\"edge\"><title>1&#45;&gt;3</title>\r\n",
       "<path fill=\"none\" stroke=\"#0000ff\" d=\"M344.761,-181.891C351.059,-183.071 357.417,-184.248 363.479,-185.345 388.552,-189.886 416.199,-194.686 440.222,-198.79\"/>\r\n",
       "<polygon fill=\"#0000ff\" stroke=\"#0000ff\" points=\"439.831,-202.274 450.277,-200.503 441.007,-195.373 439.831,-202.274\"/>\r\n",
       "<text text-anchor=\"middle\" x=\"397.979\" y=\"-201.145\" font-family=\"Times New Roman,serif\" font-size=\"14.00\">yes, missing</text>\r\n",
       "</g>\r\n",
       "<!-- 4 -->\r\n",
       "<g id=\"node5\" class=\"node\"><title>4</title>\r\n",
       "<polygon fill=\"none\" stroke=\"black\" points=\"531.979,-173.345 475.979,-173.345 475.979,-137.345 531.979,-137.345 531.979,-173.345\"/>\r\n",
       "<text text-anchor=\"middle\" x=\"503.979\" y=\"-151.645\" font-family=\"Times New Roman,serif\" font-size=\"14.00\">leaf=&#45;0</text>\r\n",
       "</g>\r\n",
       "<!-- 1&#45;&gt;4 -->\r\n",
       "<g id=\"edge4\" class=\"edge\"><title>1&#45;&gt;4</title>\r\n",
       "<path fill=\"none\" stroke=\"#ff0000\" d=\"M345.447,-168.23C382.414,-165.207 431.845,-161.164 465.407,-158.419\"/>\r\n",
       "<polygon fill=\"#ff0000\" stroke=\"#ff0000\" points=\"466.028,-161.879 475.71,-157.576 465.458,-154.903 466.028,-161.879\"/>\r\n",
       "<text text-anchor=\"middle\" x=\"397.979\" y=\"-170.145\" font-family=\"Times New Roman,serif\" font-size=\"14.00\">no</text>\r\n",
       "</g>\r\n",
       "<!-- 5 -->\r\n",
       "<g id=\"node6\" class=\"node\"><title>5</title>\r\n",
       "<polygon fill=\"none\" stroke=\"black\" points=\"531.979,-103.345 475.979,-103.345 475.979,-67.3454 531.979,-67.3454 531.979,-103.345\"/>\r\n",
       "<text text-anchor=\"middle\" x=\"503.979\" y=\"-81.6454\" font-family=\"Times New Roman,serif\" font-size=\"14.00\">leaf=&#45;0</text>\r\n",
       "</g>\r\n",
       "<!-- 2&#45;&gt;5 -->\r\n",
       "<g id=\"edge5\" class=\"edge\"><title>2&#45;&gt;5</title>\r\n",
       "<path fill=\"none\" stroke=\"#0000ff\" d=\"M344.763,-60.1637C351.06,-61.2519 357.418,-62.3356 363.479,-63.3454 398.112,-69.1164 437.651,-75.3152 465.769,-79.6573\"/>\r\n",
       "<polygon fill=\"#0000ff\" stroke=\"#0000ff\" points=\"465.536,-83.1626 475.953,-81.2257 466.602,-76.2442 465.536,-83.1626\"/>\r\n",
       "<text text-anchor=\"middle\" x=\"397.979\" y=\"-79.1454\" font-family=\"Times New Roman,serif\" font-size=\"14.00\">yes, missing</text>\r\n",
       "</g>\r\n",
       "<!-- 6 -->\r\n",
       "<g id=\"node7\" class=\"node\"><title>6</title>\r\n",
       "<polygon fill=\"none\" stroke=\"black\" points=\"551.479,-49.3454 456.479,-49.3454 456.479,-13.3454 551.479,-13.3454 551.479,-49.3454\"/>\r\n",
       "<text text-anchor=\"middle\" x=\"503.979\" y=\"-27.6454\" font-family=\"Times New Roman,serif\" font-size=\"14.00\">leaf=0.031386</text>\r\n",
       "</g>\r\n",
       "<!-- 2&#45;&gt;6 -->\r\n",
       "<g id=\"edge6\" class=\"edge\"><title>2&#45;&gt;6</title>\r\n",
       "<path fill=\"none\" stroke=\"#ff0000\" d=\"M345.447,-46.504C375.91,-43.5727 414.836,-39.827 446.371,-36.7925\"/>\r\n",
       "<polygon fill=\"#ff0000\" stroke=\"#ff0000\" points=\"446.711,-40.2761 456.33,-35.8342 446.041,-33.3082 446.711,-40.2761\"/>\r\n",
       "<text text-anchor=\"middle\" x=\"397.979\" y=\"-48.1454\" font-family=\"Times New Roman,serif\" font-size=\"14.00\">no</text>\r\n",
       "</g>\r\n",
       "</g>\r\n",
       "</svg>\r\n"
      ],
      "text/plain": [
       "<graphviz.dot.Digraph at 0x75df780>"
      ]
     },
     "execution_count": 84,
     "metadata": {},
     "output_type": "execute_result"
    }
   ],
   "source": [
    "xgb.to_graphviz(bestXGB, num_trees=28, rankdir='LR' )\n"
   ]
  },
  {
   "cell_type": "code",
   "execution_count": 85,
   "metadata": {
    "collapsed": false
   },
   "outputs": [
    {
     "data": {
      "image/svg+xml": [
       "<?xml version=\"1.0\" encoding=\"UTF-8\" standalone=\"no\"?>\r\n",
       "<!DOCTYPE svg PUBLIC \"-//W3C//DTD SVG 1.1//EN\"\r\n",
       " \"http://www.w3.org/Graphics/SVG/1.1/DTD/svg11.dtd\">\r\n",
       "<!-- Generated by graphviz version 2.38.0 (20140413.2041)\r\n",
       " -->\r\n",
       "<!-- Title: %3 Pages: 1 -->\r\n",
       "<svg width=\"930pt\" height=\"361pt\"\r\n",
       " viewBox=\"0.00 0.00 930.46 360.99\" xmlns=\"http://www.w3.org/2000/svg\" xmlns:xlink=\"http://www.w3.org/1999/xlink\">\r\n",
       "<g id=\"graph0\" class=\"graph\" transform=\"scale(1 1) rotate(0) translate(4 356.985)\">\r\n",
       "<title>%3</title>\r\n",
       "<polygon fill=\"white\" stroke=\"none\" points=\"-4,4 -4,-356.985 926.456,-356.985 926.456,4 -4,4\"/>\r\n",
       "<!-- 0 -->\r\n",
       "<g id=\"node1\" class=\"node\"><title>0</title>\r\n",
       "<ellipse fill=\"none\" stroke=\"black\" cx=\"81.2428\" cy=\"-81.2428\" rx=\"81.4863\" ry=\"81.4863\"/>\r\n",
       "<text text-anchor=\"middle\" x=\"81.2428\" y=\"-77.5428\" font-family=\"Times New Roman,serif\" font-size=\"14.00\">clump_thickness&lt;7</text>\r\n",
       "</g>\r\n",
       "<!-- 1 -->\r\n",
       "<g id=\"node2\" class=\"node\"><title>1</title>\r\n",
       "<ellipse fill=\"none\" stroke=\"black\" cx=\"348.728\" cy=\"-160.243\" rx=\"81.4863\" ry=\"81.4863\"/>\r\n",
       "<text text-anchor=\"middle\" x=\"348.728\" y=\"-156.543\" font-family=\"Times New Roman,serif\" font-size=\"14.00\">bland_chromatin&lt;4</text>\r\n",
       "</g>\r\n",
       "<!-- 0&#45;&gt;1 -->\r\n",
       "<g id=\"edge1\" class=\"edge\"><title>0&#45;&gt;1</title>\r\n",
       "<path fill=\"none\" stroke=\"#0000ff\" d=\"M159.389,-104.199C191.022,-113.612 227.797,-124.555 260.412,-134.26\"/>\r\n",
       "<polygon fill=\"#0000ff\" stroke=\"#0000ff\" points=\"259.807,-137.732 270.39,-137.229 261.803,-131.023 259.807,-137.732\"/>\r\n",
       "<text text-anchor=\"middle\" x=\"214.986\" y=\"-134.043\" font-family=\"Times New Roman,serif\" font-size=\"14.00\">yes, missing</text>\r\n",
       "</g>\r\n",
       "<!-- 2 -->\r\n",
       "<g id=\"node3\" class=\"node\"><title>2</title>\r\n",
       "<polygon fill=\"none\" stroke=\"black\" points=\"396.228,-61.2428 301.228,-61.2428 301.228,-25.2428 396.228,-25.2428 396.228,-61.2428\"/>\r\n",
       "<text text-anchor=\"middle\" x=\"348.728\" y=\"-39.5428\" font-family=\"Times New Roman,serif\" font-size=\"14.00\">leaf=0.035154</text>\r\n",
       "</g>\r\n",
       "<!-- 0&#45;&gt;2 -->\r\n",
       "<g id=\"edge2\" class=\"edge\"><title>0&#45;&gt;2</title>\r\n",
       "<path fill=\"none\" stroke=\"#ff0000\" d=\"M161.897,-69.8415C203.361,-63.9066 253.099,-56.7874 290.68,-51.4084\"/>\r\n",
       "<polygon fill=\"#ff0000\" stroke=\"#ff0000\" points=\"291.537,-54.8214 300.94,-49.9398 290.545,-47.892 291.537,-54.8214\"/>\r\n",
       "<text text-anchor=\"middle\" x=\"214.986\" y=\"-71.0428\" font-family=\"Times New Roman,serif\" font-size=\"14.00\">no</text>\r\n",
       "</g>\r\n",
       "<!-- 3 -->\r\n",
       "<g id=\"node4\" class=\"node\"><title>3</title>\r\n",
       "<ellipse fill=\"none\" stroke=\"black\" cx=\"622.713\" cy=\"-265.243\" rx=\"87.9851\" ry=\"87.9851\"/>\r\n",
       "<text text-anchor=\"middle\" x=\"622.713\" y=\"-261.543\" font-family=\"Times New Roman,serif\" font-size=\"14.00\">marginal_adhesion&lt;6</text>\r\n",
       "</g>\r\n",
       "<!-- 1&#45;&gt;3 -->\r\n",
       "<g id=\"edge3\" class=\"edge\"><title>1&#45;&gt;3</title>\r\n",
       "<path fill=\"none\" stroke=\"#0000ff\" d=\"M424.769,-189.212C457.683,-201.919 496.601,-216.943 531.114,-230.267\"/>\r\n",
       "<polygon fill=\"#0000ff\" stroke=\"#0000ff\" points=\"530.134,-233.64 540.723,-233.976 532.655,-227.11 530.134,-233.64\"/>\r\n",
       "<text text-anchor=\"middle\" x=\"482.471\" y=\"-226.043\" font-family=\"Times New Roman,serif\" font-size=\"14.00\">yes, missing</text>\r\n",
       "</g>\r\n",
       "<!-- 4 -->\r\n",
       "<g id=\"node5\" class=\"node\"><title>4</title>\r\n",
       "<polygon fill=\"none\" stroke=\"black\" points=\"650.713,-159.243 594.713,-159.243 594.713,-123.243 650.713,-123.243 650.713,-159.243\"/>\r\n",
       "<text text-anchor=\"middle\" x=\"622.713\" y=\"-137.543\" font-family=\"Times New Roman,serif\" font-size=\"14.00\">leaf=&#45;0</text>\r\n",
       "</g>\r\n",
       "<!-- 1&#45;&gt;4 -->\r\n",
       "<g id=\"edge4\" class=\"edge\"><title>1&#45;&gt;4</title>\r\n",
       "<path fill=\"none\" stroke=\"#ff0000\" d=\"M429.862,-154.645C481.07,-151.068 545.068,-146.597 584.667,-143.831\"/>\r\n",
       "<polygon fill=\"#ff0000\" stroke=\"#ff0000\" points=\"584.94,-147.32 594.671,-143.132 584.452,-140.337 584.94,-147.32\"/>\r\n",
       "<text text-anchor=\"middle\" x=\"482.471\" y=\"-157.043\" font-family=\"Times New Roman,serif\" font-size=\"14.00\">no</text>\r\n",
       "</g>\r\n",
       "<!-- 5 -->\r\n",
       "<g id=\"node6\" class=\"node\"><title>5</title>\r\n",
       "<polygon fill=\"none\" stroke=\"black\" points=\"922.456,-310.243 815.456,-310.243 815.456,-274.243 922.456,-274.243 922.456,-310.243\"/>\r\n",
       "<text text-anchor=\"middle\" x=\"868.956\" y=\"-288.543\" font-family=\"Times New Roman,serif\" font-size=\"14.00\">leaf=&#45;0.0538882</text>\r\n",
       "</g>\r\n",
       "<!-- 3&#45;&gt;5 -->\r\n",
       "<g id=\"edge5\" class=\"edge\"><title>3&#45;&gt;5</title>\r\n",
       "<path fill=\"none\" stroke=\"#0000ff\" d=\"M710.168,-274.8C741.593,-278.274 776.472,-282.13 805.429,-285.331\"/>\r\n",
       "<polygon fill=\"#0000ff\" stroke=\"#0000ff\" points=\"805.085,-288.814 815.41,-286.434 805.855,-281.856 805.085,-288.814\"/>\r\n",
       "<text text-anchor=\"middle\" x=\"762.956\" y=\"-289.043\" font-family=\"Times New Roman,serif\" font-size=\"14.00\">yes, missing</text>\r\n",
       "</g>\r\n",
       "<!-- 6 -->\r\n",
       "<g id=\"node7\" class=\"node\"><title>6</title>\r\n",
       "<polygon fill=\"none\" stroke=\"black\" points=\"896.956,-256.243 840.956,-256.243 840.956,-220.243 896.956,-220.243 896.956,-256.243\"/>\r\n",
       "<text text-anchor=\"middle\" x=\"868.956\" y=\"-234.543\" font-family=\"Times New Roman,serif\" font-size=\"14.00\">leaf=&#45;0</text>\r\n",
       "</g>\r\n",
       "<!-- 3&#45;&gt;6 -->\r\n",
       "<g id=\"edge6\" class=\"edge\"><title>3&#45;&gt;6</title>\r\n",
       "<path fill=\"none\" stroke=\"#ff0000\" d=\"M710.168,-255.686C751.47,-251.12 798.739,-245.894 830.687,-242.363\"/>\r\n",
       "<polygon fill=\"#ff0000\" stroke=\"#ff0000\" points=\"831.349,-245.811 840.904,-241.233 830.58,-238.853 831.349,-245.811\"/>\r\n",
       "<text text-anchor=\"middle\" x=\"762.956\" y=\"-258.043\" font-family=\"Times New Roman,serif\" font-size=\"14.00\">no</text>\r\n",
       "</g>\r\n",
       "</g>\r\n",
       "</svg>\r\n"
      ],
      "text/plain": [
       "<graphviz.dot.Digraph at 0x75df710>"
      ]
     },
     "execution_count": 85,
     "metadata": {},
     "output_type": "execute_result"
    }
   ],
   "source": [
    "xgb.to_graphviz(bestXGB, num_trees=29, rankdir='LR' )\n"
   ]
  },
  {
   "cell_type": "code",
   "execution_count": 86,
   "metadata": {
    "collapsed": false
   },
   "outputs": [
    {
     "data": {
      "image/svg+xml": [
       "<?xml version=\"1.0\" encoding=\"UTF-8\" standalone=\"no\"?>\r\n",
       "<!DOCTYPE svg PUBLIC \"-//W3C//DTD SVG 1.1//EN\"\r\n",
       " \"http://www.w3.org/Graphics/SVG/1.1/DTD/svg11.dtd\">\r\n",
       "<!-- Generated by graphviz version 2.38.0 (20140413.2041)\r\n",
       " -->\r\n",
       "<!-- Title: %3 Pages: 1 -->\r\n",
       "<svg width=\"612pt\" height=\"376pt\"\r\n",
       " viewBox=\"0.00 0.00 612.47 376.48\" xmlns=\"http://www.w3.org/2000/svg\" xmlns:xlink=\"http://www.w3.org/1999/xlink\">\r\n",
       "<g id=\"graph0\" class=\"graph\" transform=\"scale(1 1) rotate(0) translate(4 372.484)\">\r\n",
       "<title>%3</title>\r\n",
       "<polygon fill=\"white\" stroke=\"none\" points=\"-4,4 -4,-372.484 608.474,-372.484 608.474,4 -4,4\"/>\r\n",
       "<!-- 0 -->\r\n",
       "<g id=\"node1\" class=\"node\"><title>0</title>\r\n",
       "<ellipse fill=\"none\" stroke=\"black\" cx=\"58.4948\" cy=\"-202.742\" rx=\"58.4896\" ry=\"58.4896\"/>\r\n",
       "<text text-anchor=\"middle\" x=\"58.4948\" y=\"-199.042\" font-family=\"Times New Roman,serif\" font-size=\"14.00\">cell_shape&lt;3</text>\r\n",
       "</g>\r\n",
       "<!-- 1 -->\r\n",
       "<g id=\"node2\" class=\"node\"><title>1</title>\r\n",
       "<ellipse fill=\"none\" stroke=\"black\" cx=\"309.732\" cy=\"-280.742\" rx=\"87.9851\" ry=\"87.9851\"/>\r\n",
       "<text text-anchor=\"middle\" x=\"309.732\" y=\"-277.042\" font-family=\"Times New Roman,serif\" font-size=\"14.00\">marginal_adhesion&lt;6</text>\r\n",
       "</g>\r\n",
       "<!-- 0&#45;&gt;1 -->\r\n",
       "<g id=\"edge1\" class=\"edge\"><title>0&#45;&gt;1</title>\r\n",
       "<path fill=\"none\" stroke=\"#0000ff\" d=\"M114.499,-219.956C144.117,-229.225 181.46,-240.912 215.469,-251.555\"/>\r\n",
       "<polygon fill=\"#0000ff\" stroke=\"#0000ff\" points=\"214.844,-255.027 225.433,-254.673 216.935,-248.346 214.844,-255.027\"/>\r\n",
       "<text text-anchor=\"middle\" x=\"169.49\" y=\"-249.542\" font-family=\"Times New Roman,serif\" font-size=\"14.00\">yes, missing</text>\r\n",
       "</g>\r\n",
       "<!-- 2 -->\r\n",
       "<g id=\"node3\" class=\"node\"><title>2</title>\r\n",
       "<ellipse fill=\"none\" stroke=\"black\" cx=\"309.732\" cy=\"-87.7422\" rx=\"87.9851\" ry=\"87.9851\"/>\r\n",
       "<text text-anchor=\"middle\" x=\"309.732\" y=\"-84.0422\" font-family=\"Times New Roman,serif\" font-size=\"14.00\">marginal_adhesion&lt;2</text>\r\n",
       "</g>\r\n",
       "<!-- 0&#45;&gt;2 -->\r\n",
       "<g id=\"edge2\" class=\"edge\"><title>0&#45;&gt;2</title>\r\n",
       "<path fill=\"none\" stroke=\"#ff0000\" d=\"M112.047,-178.494C143.514,-163.975 184.321,-145.146 220.603,-128.406\"/>\r\n",
       "<polygon fill=\"#ff0000\" stroke=\"#ff0000\" points=\"222.108,-131.566 229.721,-124.198 219.175,-125.21 222.108,-131.566\"/>\r\n",
       "<text text-anchor=\"middle\" x=\"169.49\" y=\"-168.542\" font-family=\"Times New Roman,serif\" font-size=\"14.00\">no</text>\r\n",
       "</g>\r\n",
       "<!-- 3 -->\r\n",
       "<g id=\"node4\" class=\"node\"><title>3</title>\r\n",
       "<polygon fill=\"none\" stroke=\"black\" points=\"603.474,-325.742 503.474,-325.742 503.474,-289.742 603.474,-289.742 603.474,-325.742\"/>\r\n",
       "<text text-anchor=\"middle\" x=\"553.474\" y=\"-304.042\" font-family=\"Times New Roman,serif\" font-size=\"14.00\">leaf=&#45;0.036196</text>\r\n",
       "</g>\r\n",
       "<!-- 1&#45;&gt;3 -->\r\n",
       "<g id=\"edge3\" class=\"edge\"><title>1&#45;&gt;3</title>\r\n",
       "<path fill=\"none\" stroke=\"#0000ff\" d=\"M396.983,-290.375C428.883,-293.938 464.297,-297.894 493.26,-301.129\"/>\r\n",
       "<polygon fill=\"#0000ff\" stroke=\"#0000ff\" points=\"492.893,-304.609 503.22,-302.241 493.67,-297.653 492.893,-304.609\"/>\r\n",
       "<text text-anchor=\"middle\" x=\"449.974\" y=\"-303.542\" font-family=\"Times New Roman,serif\" font-size=\"14.00\">yes, missing</text>\r\n",
       "</g>\r\n",
       "<!-- 4 -->\r\n",
       "<g id=\"node5\" class=\"node\"><title>4</title>\r\n",
       "<polygon fill=\"none\" stroke=\"black\" points=\"581.474,-271.742 525.474,-271.742 525.474,-235.742 581.474,-235.742 581.474,-271.742\"/>\r\n",
       "<text text-anchor=\"middle\" x=\"553.474\" y=\"-250.042\" font-family=\"Times New Roman,serif\" font-size=\"14.00\">leaf=&#45;0</text>\r\n",
       "</g>\r\n",
       "<!-- 1&#45;&gt;4 -->\r\n",
       "<g id=\"edge4\" class=\"edge\"><title>1&#45;&gt;4</title>\r\n",
       "<path fill=\"none\" stroke=\"#ff0000\" d=\"M396.983,-271.109C437.55,-266.578 483.8,-261.412 515.239,-257.901\"/>\r\n",
       "<polygon fill=\"#ff0000\" stroke=\"#ff0000\" points=\"515.754,-261.365 525.304,-256.777 514.977,-254.409 515.754,-261.365\"/>\r\n",
       "<text text-anchor=\"middle\" x=\"449.974\" y=\"-272.542\" font-family=\"Times New Roman,serif\" font-size=\"14.00\">no</text>\r\n",
       "</g>\r\n",
       "<!-- 5 -->\r\n",
       "<g id=\"node6\" class=\"node\"><title>5</title>\r\n",
       "<polygon fill=\"none\" stroke=\"black\" points=\"581.474,-132.742 525.474,-132.742 525.474,-96.7422 581.474,-96.7422 581.474,-132.742\"/>\r\n",
       "<text text-anchor=\"middle\" x=\"553.474\" y=\"-111.042\" font-family=\"Times New Roman,serif\" font-size=\"14.00\">leaf=&#45;0</text>\r\n",
       "</g>\r\n",
       "<!-- 2&#45;&gt;5 -->\r\n",
       "<g id=\"edge5\" class=\"edge\"><title>2&#45;&gt;5</title>\r\n",
       "<path fill=\"none\" stroke=\"#0000ff\" d=\"M396.983,-97.3755C437.55,-101.906 483.8,-107.072 515.239,-110.583\"/>\r\n",
       "<polygon fill=\"#0000ff\" stroke=\"#0000ff\" points=\"514.977,-114.076 525.304,-111.708 515.754,-107.119 514.977,-114.076\"/>\r\n",
       "<text text-anchor=\"middle\" x=\"449.974\" y=\"-110.542\" font-family=\"Times New Roman,serif\" font-size=\"14.00\">yes, missing</text>\r\n",
       "</g>\r\n",
       "<!-- 6 -->\r\n",
       "<g id=\"node7\" class=\"node\"><title>6</title>\r\n",
       "<polygon fill=\"none\" stroke=\"black\" points=\"604.474,-78.7422 502.474,-78.7422 502.474,-42.7422 604.474,-42.7422 604.474,-78.7422\"/>\r\n",
       "<text text-anchor=\"middle\" x=\"553.474\" y=\"-57.0422\" font-family=\"Times New Roman,serif\" font-size=\"14.00\">leaf=0.0250982</text>\r\n",
       "</g>\r\n",
       "<!-- 2&#45;&gt;6 -->\r\n",
       "<g id=\"edge6\" class=\"edge\"><title>2&#45;&gt;6</title>\r\n",
       "<path fill=\"none\" stroke=\"#ff0000\" d=\"M396.983,-78.1089C428.381,-74.602 463.184,-70.7149 491.889,-67.5089\"/>\r\n",
       "<polygon fill=\"#ff0000\" stroke=\"#ff0000\" points=\"492.622,-70.9489 502.172,-66.3605 491.845,-63.9922 492.622,-70.9489\"/>\r\n",
       "<text text-anchor=\"middle\" x=\"449.974\" y=\"-79.5422\" font-family=\"Times New Roman,serif\" font-size=\"14.00\">no</text>\r\n",
       "</g>\r\n",
       "</g>\r\n",
       "</svg>\r\n"
      ],
      "text/plain": [
       "<graphviz.dot.Digraph at 0x75df080>"
      ]
     },
     "execution_count": 86,
     "metadata": {},
     "output_type": "execute_result"
    }
   ],
   "source": [
    "xgb.to_graphviz(bestXGB, num_trees=30, rankdir='LR' )\n"
   ]
  },
  {
   "cell_type": "code",
   "execution_count": 87,
   "metadata": {
    "collapsed": false
   },
   "outputs": [
    {
     "data": {
      "image/svg+xml": [
       "<?xml version=\"1.0\" encoding=\"UTF-8\" standalone=\"no\"?>\r\n",
       "<!DOCTYPE svg PUBLIC \"-//W3C//DTD SVG 1.1//EN\"\r\n",
       " \"http://www.w3.org/Graphics/SVG/1.1/DTD/svg11.dtd\">\r\n",
       "<!-- Generated by graphviz version 2.38.0 (20140413.2041)\r\n",
       " -->\r\n",
       "<!-- Title: %3 Pages: 1 -->\r\n",
       "<svg width=\"924pt\" height=\"346pt\"\r\n",
       " viewBox=\"0.00 0.00 923.96 346.24\" xmlns=\"http://www.w3.org/2000/svg\" xmlns:xlink=\"http://www.w3.org/1999/xlink\">\r\n",
       "<g id=\"graph0\" class=\"graph\" transform=\"scale(1 1) rotate(0) translate(4 342.236)\">\r\n",
       "<title>%3</title>\r\n",
       "<polygon fill=\"white\" stroke=\"none\" points=\"-4,4 -4,-342.236 919.956,-342.236 919.956,4 -4,4\"/>\r\n",
       "<!-- 0 -->\r\n",
       "<g id=\"node1\" class=\"node\"><title>0</title>\r\n",
       "<ellipse fill=\"none\" stroke=\"black\" cx=\"81.2428\" cy=\"-81.2428\" rx=\"81.4863\" ry=\"81.4863\"/>\r\n",
       "<text text-anchor=\"middle\" x=\"81.2428\" y=\"-77.5428\" font-family=\"Times New Roman,serif\" font-size=\"14.00\">clump_thickness&lt;7</text>\r\n",
       "</g>\r\n",
       "<!-- 1 -->\r\n",
       "<g id=\"node2\" class=\"node\"><title>1</title>\r\n",
       "<ellipse fill=\"none\" stroke=\"black\" cx=\"355.228\" cy=\"-165.243\" rx=\"87.9851\" ry=\"87.9851\"/>\r\n",
       "<text text-anchor=\"middle\" x=\"355.228\" y=\"-161.543\" font-family=\"Times New Roman,serif\" font-size=\"14.00\">marginal_adhesion&lt;6</text>\r\n",
       "</g>\r\n",
       "<!-- 0&#45;&gt;1 -->\r\n",
       "<g id=\"edge1\" class=\"edge\"><title>0&#45;&gt;1</title>\r\n",
       "<path fill=\"none\" stroke=\"#0000ff\" d=\"M159.092,-104.977C190.833,-114.78 227.911,-126.231 261.172,-136.503\"/>\r\n",
       "<polygon fill=\"#0000ff\" stroke=\"#0000ff\" points=\"260.313,-139.901 270.901,-139.508 262.379,-133.213 260.313,-139.901\"/>\r\n",
       "<text text-anchor=\"middle\" x=\"214.986\" y=\"-135.043\" font-family=\"Times New Roman,serif\" font-size=\"14.00\">yes, missing</text>\r\n",
       "</g>\r\n",
       "<!-- 2 -->\r\n",
       "<g id=\"node3\" class=\"node\"><title>2</title>\r\n",
       "<polygon fill=\"none\" stroke=\"black\" points=\"406.228,-59.2428 304.228,-59.2428 304.228,-23.2428 406.228,-23.2428 406.228,-59.2428\"/>\r\n",
       "<text text-anchor=\"middle\" x=\"355.228\" y=\"-37.5428\" font-family=\"Times New Roman,serif\" font-size=\"14.00\">leaf=0.0282319</text>\r\n",
       "</g>\r\n",
       "<!-- 0&#45;&gt;2 -->\r\n",
       "<g id=\"edge2\" class=\"edge\"><title>0&#45;&gt;2</title>\r\n",
       "<path fill=\"none\" stroke=\"#ff0000\" d=\"M161.643,-69.5656C203.816,-63.3634 254.827,-55.8614 293.751,-50.1369\"/>\r\n",
       "<polygon fill=\"#ff0000\" stroke=\"#ff0000\" points=\"294.498,-53.5649 303.882,-48.647 293.479,-46.6393 294.498,-53.5649\"/>\r\n",
       "<text text-anchor=\"middle\" x=\"214.986\" y=\"-70.0428\" font-family=\"Times New Roman,serif\" font-size=\"14.00\">no</text>\r\n",
       "</g>\r\n",
       "<!-- 3 -->\r\n",
       "<g id=\"node4\" class=\"node\"><title>3</title>\r\n",
       "<ellipse fill=\"none\" stroke=\"black\" cx=\"625.963\" cy=\"-260.243\" rx=\"77.9862\" ry=\"77.9862\"/>\r\n",
       "<text text-anchor=\"middle\" x=\"625.963\" y=\"-256.543\" font-family=\"Times New Roman,serif\" font-size=\"14.00\">normal_nucleoli&lt;8</text>\r\n",
       "</g>\r\n",
       "<!-- 1&#45;&gt;3 -->\r\n",
       "<g id=\"edge3\" class=\"edge\"><title>1&#45;&gt;3</title>\r\n",
       "<path fill=\"none\" stroke=\"#0000ff\" d=\"M438.317,-194.262C471.332,-205.933 509.335,-219.367 542.398,-231.055\"/>\r\n",
       "<polygon fill=\"#0000ff\" stroke=\"#0000ff\" points=\"541.44,-234.429 552.035,-234.462 543.773,-227.829 541.44,-234.429\"/>\r\n",
       "<text text-anchor=\"middle\" x=\"495.47\" y=\"-231.043\" font-family=\"Times New Roman,serif\" font-size=\"14.00\">yes, missing</text>\r\n",
       "</g>\r\n",
       "<!-- 4 -->\r\n",
       "<g id=\"node5\" class=\"node\"><title>4</title>\r\n",
       "<polygon fill=\"none\" stroke=\"black\" points=\"653.963,-164.243 597.963,-164.243 597.963,-128.243 653.963,-128.243 653.963,-164.243\"/>\r\n",
       "<text text-anchor=\"middle\" x=\"625.963\" y=\"-142.543\" font-family=\"Times New Roman,serif\" font-size=\"14.00\">leaf=&#45;0</text>\r\n",
       "</g>\r\n",
       "<!-- 1&#45;&gt;4 -->\r\n",
       "<g id=\"edge4\" class=\"edge\"><title>1&#45;&gt;4</title>\r\n",
       "<path fill=\"none\" stroke=\"#ff0000\" d=\"M443.107,-159.1C491.818,-155.656 550.084,-151.537 587.301,-148.906\"/>\r\n",
       "<polygon fill=\"#ff0000\" stroke=\"#ff0000\" points=\"587.949,-152.369 597.677,-148.172 587.455,-145.386 587.949,-152.369\"/>\r\n",
       "<text text-anchor=\"middle\" x=\"495.47\" y=\"-162.043\" font-family=\"Times New Roman,serif\" font-size=\"14.00\">no</text>\r\n",
       "</g>\r\n",
       "<!-- 5 -->\r\n",
       "<g id=\"node6\" class=\"node\"><title>5</title>\r\n",
       "<polygon fill=\"none\" stroke=\"black\" points=\"915.956,-305.243 808.956,-305.243 808.956,-269.243 915.956,-269.243 915.956,-305.243\"/>\r\n",
       "<text text-anchor=\"middle\" x=\"862.456\" y=\"-283.543\" font-family=\"Times New Roman,serif\" font-size=\"14.00\">leaf=&#45;0.0448059</text>\r\n",
       "</g>\r\n",
       "<!-- 3&#45;&gt;5 -->\r\n",
       "<g id=\"edge5\" class=\"edge\"><title>3&#45;&gt;5</title>\r\n",
       "<path fill=\"none\" stroke=\"#0000ff\" d=\"M703.745,-269.084C734.452,-272.619 769.38,-276.641 798.547,-279.999\"/>\r\n",
       "<polygon fill=\"#0000ff\" stroke=\"#0000ff\" points=\"798.273,-283.491 808.608,-281.158 799.074,-276.537 798.273,-283.491\"/>\r\n",
       "<text text-anchor=\"middle\" x=\"756.456\" y=\"-283.043\" font-family=\"Times New Roman,serif\" font-size=\"14.00\">yes, missing</text>\r\n",
       "</g>\r\n",
       "<!-- 6 -->\r\n",
       "<g id=\"node7\" class=\"node\"><title>6</title>\r\n",
       "<polygon fill=\"none\" stroke=\"black\" points=\"890.456,-251.243 834.456,-251.243 834.456,-215.243 890.456,-215.243 890.456,-251.243\"/>\r\n",
       "<text text-anchor=\"middle\" x=\"862.456\" y=\"-229.543\" font-family=\"Times New Roman,serif\" font-size=\"14.00\">leaf=&#45;0</text>\r\n",
       "</g>\r\n",
       "<!-- 3&#45;&gt;6 -->\r\n",
       "<g id=\"edge6\" class=\"edge\"><title>3&#45;&gt;6</title>\r\n",
       "<path fill=\"none\" stroke=\"#ff0000\" d=\"M703.745,-251.402C744.066,-246.759 791.666,-241.279 823.944,-237.562\"/>\r\n",
       "<polygon fill=\"#ff0000\" stroke=\"#ff0000\" points=\"824.736,-240.994 834.27,-236.373 823.936,-234.04 824.736,-240.994\"/>\r\n",
       "<text text-anchor=\"middle\" x=\"756.456\" y=\"-253.043\" font-family=\"Times New Roman,serif\" font-size=\"14.00\">no</text>\r\n",
       "</g>\r\n",
       "</g>\r\n",
       "</svg>\r\n"
      ],
      "text/plain": [
       "<graphviz.dot.Digraph at 0x75dffd0>"
      ]
     },
     "execution_count": 87,
     "metadata": {},
     "output_type": "execute_result"
    }
   ],
   "source": [
    "xgb.to_graphviz(bestXGB, num_trees=31, rankdir='LR' )\n"
   ]
  },
  {
   "cell_type": "code",
   "execution_count": 88,
   "metadata": {
    "collapsed": false
   },
   "outputs": [
    {
     "data": {
      "image/svg+xml": [
       "<?xml version=\"1.0\" encoding=\"UTF-8\" standalone=\"no\"?>\r\n",
       "<!DOCTYPE svg PUBLIC \"-//W3C//DTD SVG 1.1//EN\"\r\n",
       " \"http://www.w3.org/Graphics/SVG/1.1/DTD/svg11.dtd\">\r\n",
       "<!-- Generated by graphviz version 2.38.0 (20140413.2041)\r\n",
       " -->\r\n",
       "<!-- Title: %3 Pages: 1 -->\r\n",
       "<svg width=\"930pt\" height=\"361pt\"\r\n",
       " viewBox=\"0.00 0.00 930.46 360.99\" xmlns=\"http://www.w3.org/2000/svg\" xmlns:xlink=\"http://www.w3.org/1999/xlink\">\r\n",
       "<g id=\"graph0\" class=\"graph\" transform=\"scale(1 1) rotate(0) translate(4 356.985)\">\r\n",
       "<title>%3</title>\r\n",
       "<polygon fill=\"white\" stroke=\"none\" points=\"-4,4 -4,-356.985 926.456,-356.985 926.456,4 -4,4\"/>\r\n",
       "<!-- 0 -->\r\n",
       "<g id=\"node1\" class=\"node\"><title>0</title>\r\n",
       "<ellipse fill=\"none\" stroke=\"black\" cx=\"81.2428\" cy=\"-81.2428\" rx=\"81.4863\" ry=\"81.4863\"/>\r\n",
       "<text text-anchor=\"middle\" x=\"81.2428\" y=\"-77.5428\" font-family=\"Times New Roman,serif\" font-size=\"14.00\">bland_chromatin&lt;4</text>\r\n",
       "</g>\r\n",
       "<!-- 1 -->\r\n",
       "<g id=\"node2\" class=\"node\"><title>1</title>\r\n",
       "<ellipse fill=\"none\" stroke=\"black\" cx=\"348.728\" cy=\"-160.243\" rx=\"81.4863\" ry=\"81.4863\"/>\r\n",
       "<text text-anchor=\"middle\" x=\"348.728\" y=\"-156.543\" font-family=\"Times New Roman,serif\" font-size=\"14.00\">clump_thickness&lt;7</text>\r\n",
       "</g>\r\n",
       "<!-- 0&#45;&gt;1 -->\r\n",
       "<g id=\"edge1\" class=\"edge\"><title>0&#45;&gt;1</title>\r\n",
       "<path fill=\"none\" stroke=\"#0000ff\" d=\"M159.389,-104.199C191.022,-113.612 227.797,-124.555 260.412,-134.26\"/>\r\n",
       "<polygon fill=\"#0000ff\" stroke=\"#0000ff\" points=\"259.807,-137.732 270.39,-137.229 261.803,-131.023 259.807,-137.732\"/>\r\n",
       "<text text-anchor=\"middle\" x=\"214.986\" y=\"-134.043\" font-family=\"Times New Roman,serif\" font-size=\"14.00\">yes, missing</text>\r\n",
       "</g>\r\n",
       "<!-- 2 -->\r\n",
       "<g id=\"node3\" class=\"node\"><title>2</title>\r\n",
       "<polygon fill=\"none\" stroke=\"black\" points=\"399.728,-61.2428 297.728,-61.2428 297.728,-25.2428 399.728,-25.2428 399.728,-61.2428\"/>\r\n",
       "<text text-anchor=\"middle\" x=\"348.728\" y=\"-39.5428\" font-family=\"Times New Roman,serif\" font-size=\"14.00\">leaf=0.0182291</text>\r\n",
       "</g>\r\n",
       "<!-- 0&#45;&gt;2 -->\r\n",
       "<g id=\"edge2\" class=\"edge\"><title>0&#45;&gt;2</title>\r\n",
       "<path fill=\"none\" stroke=\"#ff0000\" d=\"M161.897,-69.8415C202.105,-64.0865 250.093,-57.2178 287.231,-51.9021\"/>\r\n",
       "<polygon fill=\"#ff0000\" stroke=\"#ff0000\" points=\"287.999,-55.3278 297.402,-50.4462 287.007,-48.3985 287.999,-55.3278\"/>\r\n",
       "<text text-anchor=\"middle\" x=\"214.986\" y=\"-71.0428\" font-family=\"Times New Roman,serif\" font-size=\"14.00\">no</text>\r\n",
       "</g>\r\n",
       "<!-- 3 -->\r\n",
       "<g id=\"node4\" class=\"node\"><title>3</title>\r\n",
       "<ellipse fill=\"none\" stroke=\"black\" cx=\"622.713\" cy=\"-265.243\" rx=\"87.9851\" ry=\"87.9851\"/>\r\n",
       "<text text-anchor=\"middle\" x=\"622.713\" y=\"-261.543\" font-family=\"Times New Roman,serif\" font-size=\"14.00\">marginal_adhesion&lt;4</text>\r\n",
       "</g>\r\n",
       "<!-- 1&#45;&gt;3 -->\r\n",
       "<g id=\"edge3\" class=\"edge\"><title>1&#45;&gt;3</title>\r\n",
       "<path fill=\"none\" stroke=\"#0000ff\" d=\"M424.769,-189.212C457.683,-201.919 496.601,-216.943 531.114,-230.267\"/>\r\n",
       "<polygon fill=\"#0000ff\" stroke=\"#0000ff\" points=\"530.134,-233.64 540.723,-233.976 532.655,-227.11 530.134,-233.64\"/>\r\n",
       "<text text-anchor=\"middle\" x=\"482.471\" y=\"-226.043\" font-family=\"Times New Roman,serif\" font-size=\"14.00\">yes, missing</text>\r\n",
       "</g>\r\n",
       "<!-- 4 -->\r\n",
       "<g id=\"node5\" class=\"node\"><title>4</title>\r\n",
       "<polygon fill=\"none\" stroke=\"black\" points=\"650.713,-159.243 594.713,-159.243 594.713,-123.243 650.713,-123.243 650.713,-159.243\"/>\r\n",
       "<text text-anchor=\"middle\" x=\"622.713\" y=\"-137.543\" font-family=\"Times New Roman,serif\" font-size=\"14.00\">leaf=&#45;0</text>\r\n",
       "</g>\r\n",
       "<!-- 1&#45;&gt;4 -->\r\n",
       "<g id=\"edge4\" class=\"edge\"><title>1&#45;&gt;4</title>\r\n",
       "<path fill=\"none\" stroke=\"#ff0000\" d=\"M429.862,-154.645C481.07,-151.068 545.068,-146.597 584.667,-143.831\"/>\r\n",
       "<polygon fill=\"#ff0000\" stroke=\"#ff0000\" points=\"584.94,-147.32 594.671,-143.132 584.452,-140.337 584.94,-147.32\"/>\r\n",
       "<text text-anchor=\"middle\" x=\"482.471\" y=\"-157.043\" font-family=\"Times New Roman,serif\" font-size=\"14.00\">no</text>\r\n",
       "</g>\r\n",
       "<!-- 5 -->\r\n",
       "<g id=\"node6\" class=\"node\"><title>5</title>\r\n",
       "<polygon fill=\"none\" stroke=\"black\" points=\"922.456,-310.243 815.456,-310.243 815.456,-274.243 922.456,-274.243 922.456,-310.243\"/>\r\n",
       "<text text-anchor=\"middle\" x=\"868.956\" y=\"-288.543\" font-family=\"Times New Roman,serif\" font-size=\"14.00\">leaf=&#45;0.0432755</text>\r\n",
       "</g>\r\n",
       "<!-- 3&#45;&gt;5 -->\r\n",
       "<g id=\"edge5\" class=\"edge\"><title>3&#45;&gt;5</title>\r\n",
       "<path fill=\"none\" stroke=\"#0000ff\" d=\"M710.168,-274.8C741.593,-278.274 776.472,-282.13 805.429,-285.331\"/>\r\n",
       "<polygon fill=\"#0000ff\" stroke=\"#0000ff\" points=\"805.085,-288.814 815.41,-286.434 805.855,-281.856 805.085,-288.814\"/>\r\n",
       "<text text-anchor=\"middle\" x=\"762.956\" y=\"-289.043\" font-family=\"Times New Roman,serif\" font-size=\"14.00\">yes, missing</text>\r\n",
       "</g>\r\n",
       "<!-- 6 -->\r\n",
       "<g id=\"node7\" class=\"node\"><title>6</title>\r\n",
       "<polygon fill=\"none\" stroke=\"black\" points=\"896.956,-256.243 840.956,-256.243 840.956,-220.243 896.956,-220.243 896.956,-256.243\"/>\r\n",
       "<text text-anchor=\"middle\" x=\"868.956\" y=\"-234.543\" font-family=\"Times New Roman,serif\" font-size=\"14.00\">leaf=&#45;0</text>\r\n",
       "</g>\r\n",
       "<!-- 3&#45;&gt;6 -->\r\n",
       "<g id=\"edge6\" class=\"edge\"><title>3&#45;&gt;6</title>\r\n",
       "<path fill=\"none\" stroke=\"#ff0000\" d=\"M710.168,-255.686C751.47,-251.12 798.739,-245.894 830.687,-242.363\"/>\r\n",
       "<polygon fill=\"#ff0000\" stroke=\"#ff0000\" points=\"831.349,-245.811 840.904,-241.233 830.58,-238.853 831.349,-245.811\"/>\r\n",
       "<text text-anchor=\"middle\" x=\"762.956\" y=\"-258.043\" font-family=\"Times New Roman,serif\" font-size=\"14.00\">no</text>\r\n",
       "</g>\r\n",
       "</g>\r\n",
       "</svg>\r\n"
      ],
      "text/plain": [
       "<graphviz.dot.Digraph at 0x75df828>"
      ]
     },
     "execution_count": 88,
     "metadata": {},
     "output_type": "execute_result"
    }
   ],
   "source": [
    "xgb.to_graphviz(bestXGB, num_trees=32, rankdir='LR' )\n"
   ]
  },
  {
   "cell_type": "code",
   "execution_count": 89,
   "metadata": {
    "collapsed": false
   },
   "outputs": [
    {
     "data": {
      "image/svg+xml": [
       "<?xml version=\"1.0\" encoding=\"UTF-8\" standalone=\"no\"?>\r\n",
       "<!DOCTYPE svg PUBLIC \"-//W3C//DTD SVG 1.1//EN\"\r\n",
       " \"http://www.w3.org/Graphics/SVG/1.1/DTD/svg11.dtd\">\r\n",
       "<!-- Generated by graphviz version 2.38.0 (20140413.2041)\r\n",
       " -->\r\n",
       "<!-- Title: %3 Pages: 1 -->\r\n",
       "<svg width=\"851pt\" height=\"285pt\"\r\n",
       " viewBox=\"0.00 0.00 851.16 284.59\" xmlns=\"http://www.w3.org/2000/svg\" xmlns:xlink=\"http://www.w3.org/1999/xlink\">\r\n",
       "<g id=\"graph0\" class=\"graph\" transform=\"scale(1 1) rotate(0) translate(4 280.588)\">\r\n",
       "<title>%3</title>\r\n",
       "<polygon fill=\"white\" stroke=\"none\" points=\"-4,4 -4,-280.588 847.163,-280.588 847.163,4 -4,4\"/>\r\n",
       "<!-- 0 -->\r\n",
       "<g id=\"node1\" class=\"node\"><title>0</title>\r\n",
       "<ellipse fill=\"none\" stroke=\"black\" cx=\"81.2428\" cy=\"-81.2428\" rx=\"81.4863\" ry=\"81.4863\"/>\r\n",
       "<text text-anchor=\"middle\" x=\"81.2428\" y=\"-77.5428\" font-family=\"Times New Roman,serif\" font-size=\"14.00\">bland_chromatin&lt;4</text>\r\n",
       "</g>\r\n",
       "<!-- 1 -->\r\n",
       "<g id=\"node2\" class=\"node\"><title>1</title>\r\n",
       "<ellipse fill=\"none\" stroke=\"black\" cx=\"345.479\" cy=\"-157.243\" rx=\"77.9862\" ry=\"77.9862\"/>\r\n",
       "<text text-anchor=\"middle\" x=\"345.479\" y=\"-153.543\" font-family=\"Times New Roman,serif\" font-size=\"14.00\">normal_nucleoli&lt;3</text>\r\n",
       "</g>\r\n",
       "<!-- 0&#45;&gt;1 -->\r\n",
       "<g id=\"edge1\" class=\"edge\"><title>0&#45;&gt;1</title>\r\n",
       "<path fill=\"none\" stroke=\"#0000ff\" d=\"M159.504,-103.634C191.268,-112.84 228.137,-123.525 260.562,-132.922\"/>\r\n",
       "<polygon fill=\"#0000ff\" stroke=\"#0000ff\" points=\"259.892,-136.372 270.471,-135.794 261.841,-129.649 259.892,-136.372\"/>\r\n",
       "<text text-anchor=\"middle\" x=\"214.986\" y=\"-133.043\" font-family=\"Times New Roman,serif\" font-size=\"14.00\">yes, missing</text>\r\n",
       "</g>\r\n",
       "<!-- 2 -->\r\n",
       "<g id=\"node3\" class=\"node\"><title>2</title>\r\n",
       "<polygon fill=\"none\" stroke=\"black\" points=\"396.479,-61.2428 294.479,-61.2428 294.479,-25.2428 396.479,-25.2428 396.479,-61.2428\"/>\r\n",
       "<text text-anchor=\"middle\" x=\"345.479\" y=\"-39.5428\" font-family=\"Times New Roman,serif\" font-size=\"14.00\">leaf=0.0311126</text>\r\n",
       "</g>\r\n",
       "<!-- 0&#45;&gt;2 -->\r\n",
       "<g id=\"edge2\" class=\"edge\"><title>0&#45;&gt;2</title>\r\n",
       "<path fill=\"none\" stroke=\"#ff0000\" d=\"M161.99,-69.6868C201.383,-63.9785 248.124,-57.2054 284.439,-51.943\"/>\r\n",
       "<polygon fill=\"#ff0000\" stroke=\"#ff0000\" points=\"284.996,-55.3989 294.391,-50.5009 283.992,-48.4713 284.996,-55.3989\"/>\r\n",
       "<text text-anchor=\"middle\" x=\"214.986\" y=\"-71.0428\" font-family=\"Times New Roman,serif\" font-size=\"14.00\">no</text>\r\n",
       "</g>\r\n",
       "<!-- 3 -->\r\n",
       "<g id=\"node4\" class=\"node\"><title>3</title>\r\n",
       "<ellipse fill=\"none\" stroke=\"black\" cx=\"579.817\" cy=\"-225.243\" rx=\"51.1914\" ry=\"51.1914\"/>\r\n",
       "<text text-anchor=\"middle\" x=\"579.817\" y=\"-221.543\" font-family=\"Times New Roman,serif\" font-size=\"14.00\">cell_size&lt;4</text>\r\n",
       "</g>\r\n",
       "<!-- 1&#45;&gt;3 -->\r\n",
       "<g id=\"edge3\" class=\"edge\"><title>1&#45;&gt;3</title>\r\n",
       "<path fill=\"none\" stroke=\"#0000ff\" d=\"M420.631,-178.945C452.846,-188.374 490.044,-199.261 520.271,-208.108\"/>\r\n",
       "<polygon fill=\"#0000ff\" stroke=\"#0000ff\" points=\"519.657,-211.575 530.237,-211.025 521.623,-204.857 519.657,-211.575\"/>\r\n",
       "<text text-anchor=\"middle\" x=\"475.972\" y=\"-209.043\" font-family=\"Times New Roman,serif\" font-size=\"14.00\">yes, missing</text>\r\n",
       "</g>\r\n",
       "<!-- 4 -->\r\n",
       "<g id=\"node5\" class=\"node\"><title>4</title>\r\n",
       "<polygon fill=\"none\" stroke=\"black\" points=\"607.817,-156.243 551.817,-156.243 551.817,-120.243 607.817,-120.243 607.817,-156.243\"/>\r\n",
       "<text text-anchor=\"middle\" x=\"579.817\" y=\"-134.543\" font-family=\"Times New Roman,serif\" font-size=\"14.00\">leaf=&#45;0</text>\r\n",
       "</g>\r\n",
       "<!-- 1&#45;&gt;4 -->\r\n",
       "<g id=\"edge4\" class=\"edge\"><title>1&#45;&gt;4</title>\r\n",
       "<path fill=\"none\" stroke=\"#ff0000\" d=\"M423.521,-150.942C463.16,-147.701 509.679,-143.897 541.398,-141.303\"/>\r\n",
       "<polygon fill=\"#ff0000\" stroke=\"#ff0000\" points=\"541.875,-144.776 551.556,-140.472 541.304,-137.799 541.875,-144.776\"/>\r\n",
       "<text text-anchor=\"middle\" x=\"475.972\" y=\"-154.043\" font-family=\"Times New Roman,serif\" font-size=\"14.00\">no</text>\r\n",
       "</g>\r\n",
       "<!-- 5 -->\r\n",
       "<g id=\"node6\" class=\"node\"><title>5</title>\r\n",
       "<polygon fill=\"none\" stroke=\"black\" points=\"843.163,-270.243 736.163,-270.243 736.163,-234.243 843.163,-234.243 843.163,-270.243\"/>\r\n",
       "<text text-anchor=\"middle\" x=\"789.663\" y=\"-248.543\" font-family=\"Times New Roman,serif\" font-size=\"14.00\">leaf=&#45;0.0388945</text>\r\n",
       "</g>\r\n",
       "<!-- 3&#45;&gt;5 -->\r\n",
       "<g id=\"edge5\" class=\"edge\"><title>3&#45;&gt;5</title>\r\n",
       "<path fill=\"none\" stroke=\"#0000ff\" d=\"M630.866,-231.744C659.465,-235.459 695.587,-240.152 726.052,-244.109\"/>\r\n",
       "<polygon fill=\"#0000ff\" stroke=\"#0000ff\" points=\"725.78,-247.603 736.148,-245.421 726.682,-240.662 725.78,-247.603\"/>\r\n",
       "<text text-anchor=\"middle\" x=\"683.663\" y=\"-247.043\" font-family=\"Times New Roman,serif\" font-size=\"14.00\">yes, missing</text>\r\n",
       "</g>\r\n",
       "<!-- 6 -->\r\n",
       "<g id=\"node7\" class=\"node\"><title>6</title>\r\n",
       "<polygon fill=\"none\" stroke=\"black\" points=\"817.663,-216.243 761.663,-216.243 761.663,-180.243 817.663,-180.243 817.663,-216.243\"/>\r\n",
       "<text text-anchor=\"middle\" x=\"789.663\" y=\"-194.543\" font-family=\"Times New Roman,serif\" font-size=\"14.00\">leaf=&#45;0</text>\r\n",
       "</g>\r\n",
       "<!-- 3&#45;&gt;6 -->\r\n",
       "<g id=\"edge6\" class=\"edge\"><title>3&#45;&gt;6</title>\r\n",
       "<path fill=\"none\" stroke=\"#ff0000\" d=\"M630.833,-218.641C637.006,-217.831 643.229,-217.016 649.163,-216.243 683.839,-211.722 723.373,-206.627 751.478,-203.014\"/>\r\n",
       "<polygon fill=\"#ff0000\" stroke=\"#ff0000\" points=\"752.184,-206.452 761.656,-201.706 751.292,-199.509 752.184,-206.452\"/>\r\n",
       "<text text-anchor=\"middle\" x=\"683.663\" y=\"-220.043\" font-family=\"Times New Roman,serif\" font-size=\"14.00\">no</text>\r\n",
       "</g>\r\n",
       "</g>\r\n",
       "</svg>\r\n"
      ],
      "text/plain": [
       "<graphviz.dot.Digraph at 0x75dfe80>"
      ]
     },
     "execution_count": 89,
     "metadata": {},
     "output_type": "execute_result"
    }
   ],
   "source": [
    "xgb.to_graphviz(bestXGB, num_trees=33, rankdir='LR' )\n"
   ]
  },
  {
   "cell_type": "code",
   "execution_count": 90,
   "metadata": {
    "collapsed": false
   },
   "outputs": [
    {
     "data": {
      "image/svg+xml": [
       "<?xml version=\"1.0\" encoding=\"UTF-8\" standalone=\"no\"?>\r\n",
       "<!DOCTYPE svg PUBLIC \"-//W3C//DTD SVG 1.1//EN\"\r\n",
       " \"http://www.w3.org/Graphics/SVG/1.1/DTD/svg11.dtd\">\r\n",
       "<!-- Generated by graphviz version 2.38.0 (20140413.2041)\r\n",
       " -->\r\n",
       "<!-- Title: %3 Pages: 1 -->\r\n",
       "<svg width=\"565pt\" height=\"235pt\"\r\n",
       " viewBox=\"0.00 0.00 565.48 235.35\" xmlns=\"http://www.w3.org/2000/svg\" xmlns:xlink=\"http://www.w3.org/1999/xlink\">\r\n",
       "<g id=\"graph0\" class=\"graph\" transform=\"scale(1 1) rotate(0) translate(4 231.345)\">\r\n",
       "<title>%3</title>\r\n",
       "<polygon fill=\"white\" stroke=\"none\" points=\"-4,4 -4,-231.345 561.479,-231.345 561.479,4 -4,4\"/>\r\n",
       "<!-- 0 -->\r\n",
       "<g id=\"node1\" class=\"node\"><title>0</title>\r\n",
       "<ellipse fill=\"none\" stroke=\"black\" cx=\"68.8939\" cy=\"-121.345\" rx=\"68.7879\" ry=\"68.7879\"/>\r\n",
       "<text text-anchor=\"middle\" x=\"68.8939\" y=\"-117.645\" font-family=\"Times New Roman,serif\" font-size=\"14.00\">bare_nuclei&lt;1.5</text>\r\n",
       "</g>\r\n",
       "<!-- 1 -->\r\n",
       "<g id=\"node2\" class=\"node\"><title>1</title>\r\n",
       "<ellipse fill=\"none\" stroke=\"black\" cx=\"294.133\" cy=\"-172.345\" rx=\"51.1914\" ry=\"51.1914\"/>\r\n",
       "<text text-anchor=\"middle\" x=\"294.133\" y=\"-168.645\" font-family=\"Times New Roman,serif\" font-size=\"14.00\">cell_size&lt;4</text>\r\n",
       "</g>\r\n",
       "<!-- 0&#45;&gt;1 -->\r\n",
       "<g id=\"edge1\" class=\"edge\"><title>0&#45;&gt;1</title>\r\n",
       "<path fill=\"none\" stroke=\"#0000ff\" d=\"M136.269,-136.509C167.215,-143.579 203.747,-151.925 233.767,-158.783\"/>\r\n",
       "<polygon fill=\"#0000ff\" stroke=\"#0000ff\" points=\"233.152,-162.233 243.68,-161.048 234.711,-155.408 233.152,-162.233\"/>\r\n",
       "<text text-anchor=\"middle\" x=\"190.288\" y=\"-159.145\" font-family=\"Times New Roman,serif\" font-size=\"14.00\">yes, missing</text>\r\n",
       "</g>\r\n",
       "<!-- 2 -->\r\n",
       "<g id=\"node3\" class=\"node\"><title>2</title>\r\n",
       "<ellipse fill=\"none\" stroke=\"black\" cx=\"294.133\" cy=\"-51.3454\" rx=\"51.1914\" ry=\"51.1914\"/>\r\n",
       "<text text-anchor=\"middle\" x=\"294.133\" y=\"-47.6454\" font-family=\"Times New Roman,serif\" font-size=\"14.00\">cell_size&lt;2</text>\r\n",
       "</g>\r\n",
       "<!-- 0&#45;&gt;2 -->\r\n",
       "<g id=\"edge2\" class=\"edge\"><title>0&#45;&gt;2</title>\r\n",
       "<path fill=\"none\" stroke=\"#ff0000\" d=\"M134.764,-101.005C166.476,-91.0606 204.334,-79.1899 235.082,-69.5483\"/>\r\n",
       "<polygon fill=\"#ff0000\" stroke=\"#ff0000\" points=\"236.304,-72.8333 244.798,-66.5016 234.209,-66.154 236.304,-72.8333\"/>\r\n",
       "<text text-anchor=\"middle\" x=\"190.288\" y=\"-97.1454\" font-family=\"Times New Roman,serif\" font-size=\"14.00\">no</text>\r\n",
       "</g>\r\n",
       "<!-- 3 -->\r\n",
       "<g id=\"node4\" class=\"node\"><title>3</title>\r\n",
       "<polygon fill=\"none\" stroke=\"black\" points=\"557.479,-227.345 450.479,-227.345 450.479,-191.345 557.479,-191.345 557.479,-227.345\"/>\r\n",
       "<text text-anchor=\"middle\" x=\"503.979\" y=\"-205.645\" font-family=\"Times New Roman,serif\" font-size=\"14.00\">leaf=&#45;0.0303218</text>\r\n",
       "</g>\r\n",
       "<!-- 1&#45;&gt;3 -->\r\n",
       "<g id=\"edge3\" class=\"edge\"><title>1&#45;&gt;3</title>\r\n",
       "<path fill=\"none\" stroke=\"#0000ff\" d=\"M344.761,-181.891C351.059,-183.071 357.417,-184.248 363.479,-185.345 388.552,-189.886 416.199,-194.686 440.222,-198.79\"/>\r\n",
       "<polygon fill=\"#0000ff\" stroke=\"#0000ff\" points=\"439.831,-202.274 450.277,-200.503 441.007,-195.373 439.831,-202.274\"/>\r\n",
       "<text text-anchor=\"middle\" x=\"397.979\" y=\"-201.145\" font-family=\"Times New Roman,serif\" font-size=\"14.00\">yes, missing</text>\r\n",
       "</g>\r\n",
       "<!-- 4 -->\r\n",
       "<g id=\"node5\" class=\"node\"><title>4</title>\r\n",
       "<polygon fill=\"none\" stroke=\"black\" points=\"531.979,-173.345 475.979,-173.345 475.979,-137.345 531.979,-137.345 531.979,-173.345\"/>\r\n",
       "<text text-anchor=\"middle\" x=\"503.979\" y=\"-151.645\" font-family=\"Times New Roman,serif\" font-size=\"14.00\">leaf=&#45;0</text>\r\n",
       "</g>\r\n",
       "<!-- 1&#45;&gt;4 -->\r\n",
       "<g id=\"edge4\" class=\"edge\"><title>1&#45;&gt;4</title>\r\n",
       "<path fill=\"none\" stroke=\"#ff0000\" d=\"M345.447,-168.23C382.414,-165.207 431.845,-161.164 465.407,-158.419\"/>\r\n",
       "<polygon fill=\"#ff0000\" stroke=\"#ff0000\" points=\"466.028,-161.879 475.71,-157.576 465.458,-154.903 466.028,-161.879\"/>\r\n",
       "<text text-anchor=\"middle\" x=\"397.979\" y=\"-170.145\" font-family=\"Times New Roman,serif\" font-size=\"14.00\">no</text>\r\n",
       "</g>\r\n",
       "<!-- 5 -->\r\n",
       "<g id=\"node6\" class=\"node\"><title>5</title>\r\n",
       "<polygon fill=\"none\" stroke=\"black\" points=\"531.979,-103.345 475.979,-103.345 475.979,-67.3454 531.979,-67.3454 531.979,-103.345\"/>\r\n",
       "<text text-anchor=\"middle\" x=\"503.979\" y=\"-81.6454\" font-family=\"Times New Roman,serif\" font-size=\"14.00\">leaf=&#45;0</text>\r\n",
       "</g>\r\n",
       "<!-- 2&#45;&gt;5 -->\r\n",
       "<g id=\"edge5\" class=\"edge\"><title>2&#45;&gt;5</title>\r\n",
       "<path fill=\"none\" stroke=\"#0000ff\" d=\"M344.763,-60.1637C351.06,-61.2519 357.418,-62.3356 363.479,-63.3454 398.112,-69.1164 437.651,-75.3152 465.769,-79.6573\"/>\r\n",
       "<polygon fill=\"#0000ff\" stroke=\"#0000ff\" points=\"465.536,-83.1626 475.953,-81.2257 466.602,-76.2442 465.536,-83.1626\"/>\r\n",
       "<text text-anchor=\"middle\" x=\"397.979\" y=\"-79.1454\" font-family=\"Times New Roman,serif\" font-size=\"14.00\">yes, missing</text>\r\n",
       "</g>\r\n",
       "<!-- 6 -->\r\n",
       "<g id=\"node7\" class=\"node\"><title>6</title>\r\n",
       "<polygon fill=\"none\" stroke=\"black\" points=\"551.479,-49.3454 456.479,-49.3454 456.479,-13.3454 551.479,-13.3454 551.479,-49.3454\"/>\r\n",
       "<text text-anchor=\"middle\" x=\"503.979\" y=\"-27.6454\" font-family=\"Times New Roman,serif\" font-size=\"14.00\">leaf=0.026653</text>\r\n",
       "</g>\r\n",
       "<!-- 2&#45;&gt;6 -->\r\n",
       "<g id=\"edge6\" class=\"edge\"><title>2&#45;&gt;6</title>\r\n",
       "<path fill=\"none\" stroke=\"#ff0000\" d=\"M345.447,-46.504C375.91,-43.5727 414.836,-39.827 446.371,-36.7925\"/>\r\n",
       "<polygon fill=\"#ff0000\" stroke=\"#ff0000\" points=\"446.711,-40.2761 456.33,-35.8342 446.041,-33.3082 446.711,-40.2761\"/>\r\n",
       "<text text-anchor=\"middle\" x=\"397.979\" y=\"-48.1454\" font-family=\"Times New Roman,serif\" font-size=\"14.00\">no</text>\r\n",
       "</g>\r\n",
       "</g>\r\n",
       "</svg>\r\n"
      ],
      "text/plain": [
       "<graphviz.dot.Digraph at 0x75e5eb8>"
      ]
     },
     "execution_count": 90,
     "metadata": {},
     "output_type": "execute_result"
    }
   ],
   "source": [
    "xgb.to_graphviz(bestXGB, num_trees=34, rankdir='LR' )\n"
   ]
  },
  {
   "cell_type": "code",
   "execution_count": 91,
   "metadata": {
    "collapsed": false
   },
   "outputs": [
    {
     "data": {
      "image/svg+xml": [
       "<?xml version=\"1.0\" encoding=\"UTF-8\" standalone=\"no\"?>\r\n",
       "<!DOCTYPE svg PUBLIC \"-//W3C//DTD SVG 1.1//EN\"\r\n",
       " \"http://www.w3.org/Graphics/SVG/1.1/DTD/svg11.dtd\">\r\n",
       "<!-- Generated by graphviz version 2.38.0 (20140413.2041)\r\n",
       " -->\r\n",
       "<!-- Title: %3 Pages: 1 -->\r\n",
       "<svg width=\"911pt\" height=\"341pt\"\r\n",
       " viewBox=\"0.00 0.00 910.96 341.24\" xmlns=\"http://www.w3.org/2000/svg\" xmlns:xlink=\"http://www.w3.org/1999/xlink\">\r\n",
       "<g id=\"graph0\" class=\"graph\" transform=\"scale(1 1) rotate(0) translate(4 337.236)\">\r\n",
       "<title>%3</title>\r\n",
       "<polygon fill=\"white\" stroke=\"none\" points=\"-4,4 -4,-337.236 906.957,-337.236 906.957,4 -4,4\"/>\r\n",
       "<!-- 0 -->\r\n",
       "<g id=\"node1\" class=\"node\"><title>0</title>\r\n",
       "<ellipse fill=\"none\" stroke=\"black\" cx=\"81.2428\" cy=\"-81.2428\" rx=\"81.4863\" ry=\"81.4863\"/>\r\n",
       "<text text-anchor=\"middle\" x=\"81.2428\" y=\"-77.5428\" font-family=\"Times New Roman,serif\" font-size=\"14.00\">clump_thickness&lt;7</text>\r\n",
       "</g>\r\n",
       "<!-- 1 -->\r\n",
       "<g id=\"node2\" class=\"node\"><title>1</title>\r\n",
       "<ellipse fill=\"none\" stroke=\"black\" cx=\"348.728\" cy=\"-160.243\" rx=\"81.4863\" ry=\"81.4863\"/>\r\n",
       "<text text-anchor=\"middle\" x=\"348.728\" y=\"-156.543\" font-family=\"Times New Roman,serif\" font-size=\"14.00\">bland_chromatin&lt;4</text>\r\n",
       "</g>\r\n",
       "<!-- 0&#45;&gt;1 -->\r\n",
       "<g id=\"edge1\" class=\"edge\"><title>0&#45;&gt;1</title>\r\n",
       "<path fill=\"none\" stroke=\"#0000ff\" d=\"M159.389,-104.199C191.022,-113.612 227.797,-124.555 260.412,-134.26\"/>\r\n",
       "<polygon fill=\"#0000ff\" stroke=\"#0000ff\" points=\"259.807,-137.732 270.39,-137.229 261.803,-131.023 259.807,-137.732\"/>\r\n",
       "<text text-anchor=\"middle\" x=\"214.986\" y=\"-134.043\" font-family=\"Times New Roman,serif\" font-size=\"14.00\">yes, missing</text>\r\n",
       "</g>\r\n",
       "<!-- 2 -->\r\n",
       "<g id=\"node3\" class=\"node\"><title>2</title>\r\n",
       "<polygon fill=\"none\" stroke=\"black\" points=\"399.728,-61.2428 297.728,-61.2428 297.728,-25.2428 399.728,-25.2428 399.728,-61.2428\"/>\r\n",
       "<text text-anchor=\"middle\" x=\"348.728\" y=\"-39.5428\" font-family=\"Times New Roman,serif\" font-size=\"14.00\">leaf=0.0141956</text>\r\n",
       "</g>\r\n",
       "<!-- 0&#45;&gt;2 -->\r\n",
       "<g id=\"edge2\" class=\"edge\"><title>0&#45;&gt;2</title>\r\n",
       "<path fill=\"none\" stroke=\"#ff0000\" d=\"M161.897,-69.8415C202.105,-64.0865 250.093,-57.2178 287.231,-51.9021\"/>\r\n",
       "<polygon fill=\"#ff0000\" stroke=\"#ff0000\" points=\"287.999,-55.3278 297.402,-50.4462 287.007,-48.3985 287.999,-55.3278\"/>\r\n",
       "<text text-anchor=\"middle\" x=\"214.986\" y=\"-71.0428\" font-family=\"Times New Roman,serif\" font-size=\"14.00\">no</text>\r\n",
       "</g>\r\n",
       "<!-- 3 -->\r\n",
       "<g id=\"node4\" class=\"node\"><title>3</title>\r\n",
       "<ellipse fill=\"none\" stroke=\"black\" cx=\"612.964\" cy=\"-255.243\" rx=\"77.9862\" ry=\"77.9862\"/>\r\n",
       "<text text-anchor=\"middle\" x=\"612.964\" y=\"-251.543\" font-family=\"Times New Roman,serif\" font-size=\"14.00\">epitelial_cellsize&lt;5</text>\r\n",
       "</g>\r\n",
       "<!-- 1&#45;&gt;3 -->\r\n",
       "<g id=\"edge3\" class=\"edge\"><title>1&#45;&gt;3</title>\r\n",
       "<path fill=\"none\" stroke=\"#0000ff\" d=\"M425.578,-187.721C458.207,-199.541 496.426,-213.387 529.732,-225.453\"/>\r\n",
       "<polygon fill=\"#0000ff\" stroke=\"#0000ff\" points=\"528.848,-228.855 539.442,-228.97 531.232,-222.273 528.848,-228.855\"/>\r\n",
       "<text text-anchor=\"middle\" x=\"482.471\" y=\"-223.043\" font-family=\"Times New Roman,serif\" font-size=\"14.00\">yes, missing</text>\r\n",
       "</g>\r\n",
       "<!-- 4 -->\r\n",
       "<g id=\"node5\" class=\"node\"><title>4</title>\r\n",
       "<polygon fill=\"none\" stroke=\"black\" points=\"640.964,-159.243 584.964,-159.243 584.964,-123.243 640.964,-123.243 640.964,-159.243\"/>\r\n",
       "<text text-anchor=\"middle\" x=\"612.964\" y=\"-137.543\" font-family=\"Times New Roman,serif\" font-size=\"14.00\">leaf=&#45;0</text>\r\n",
       "</g>\r\n",
       "<!-- 1&#45;&gt;4 -->\r\n",
       "<g id=\"edge4\" class=\"edge\"><title>1&#45;&gt;4</title>\r\n",
       "<path fill=\"none\" stroke=\"#ff0000\" d=\"M429.833,-154.439C478.158,-150.938 537.436,-146.643 574.965,-143.924\"/>\r\n",
       "<polygon fill=\"#ff0000\" stroke=\"#ff0000\" points=\"575.225,-147.414 584.946,-143.2 574.719,-140.432 575.225,-147.414\"/>\r\n",
       "<text text-anchor=\"middle\" x=\"482.471\" y=\"-157.043\" font-family=\"Times New Roman,serif\" font-size=\"14.00\">no</text>\r\n",
       "</g>\r\n",
       "<!-- 5 -->\r\n",
       "<g id=\"node6\" class=\"node\"><title>5</title>\r\n",
       "<polygon fill=\"none\" stroke=\"black\" points=\"902.957,-300.243 795.957,-300.243 795.957,-264.243 902.957,-264.243 902.957,-300.243\"/>\r\n",
       "<text text-anchor=\"middle\" x=\"849.457\" y=\"-278.543\" font-family=\"Times New Roman,serif\" font-size=\"14.00\">leaf=&#45;0.0424332</text>\r\n",
       "</g>\r\n",
       "<!-- 3&#45;&gt;5 -->\r\n",
       "<g id=\"edge5\" class=\"edge\"><title>3&#45;&gt;5</title>\r\n",
       "<path fill=\"none\" stroke=\"#0000ff\" d=\"M690.746,-264.084C721.453,-267.619 756.381,-271.641 785.548,-274.999\"/>\r\n",
       "<polygon fill=\"#0000ff\" stroke=\"#0000ff\" points=\"785.274,-278.491 795.609,-276.158 786.075,-271.537 785.274,-278.491\"/>\r\n",
       "<text text-anchor=\"middle\" x=\"743.457\" y=\"-278.043\" font-family=\"Times New Roman,serif\" font-size=\"14.00\">yes, missing</text>\r\n",
       "</g>\r\n",
       "<!-- 6 -->\r\n",
       "<g id=\"node7\" class=\"node\"><title>6</title>\r\n",
       "<polygon fill=\"none\" stroke=\"black\" points=\"877.457,-246.243 821.457,-246.243 821.457,-210.243 877.457,-210.243 877.457,-246.243\"/>\r\n",
       "<text text-anchor=\"middle\" x=\"849.457\" y=\"-224.543\" font-family=\"Times New Roman,serif\" font-size=\"14.00\">leaf=&#45;0</text>\r\n",
       "</g>\r\n",
       "<!-- 3&#45;&gt;6 -->\r\n",
       "<g id=\"edge6\" class=\"edge\"><title>3&#45;&gt;6</title>\r\n",
       "<path fill=\"none\" stroke=\"#ff0000\" d=\"M690.746,-246.402C731.068,-241.759 778.667,-236.279 810.945,-232.562\"/>\r\n",
       "<polygon fill=\"#ff0000\" stroke=\"#ff0000\" points=\"811.738,-235.994 821.272,-231.373 810.937,-229.04 811.738,-235.994\"/>\r\n",
       "<text text-anchor=\"middle\" x=\"743.457\" y=\"-248.043\" font-family=\"Times New Roman,serif\" font-size=\"14.00\">no</text>\r\n",
       "</g>\r\n",
       "</g>\r\n",
       "</svg>\r\n"
      ],
      "text/plain": [
       "<graphviz.dot.Digraph at 0x75e5b00>"
      ]
     },
     "execution_count": 91,
     "metadata": {},
     "output_type": "execute_result"
    }
   ],
   "source": [
    "xgb.to_graphviz(bestXGB, num_trees=35, rankdir='LR' )\n"
   ]
  },
  {
   "cell_type": "code",
   "execution_count": 92,
   "metadata": {
    "collapsed": false
   },
   "outputs": [
    {
     "data": {
      "image/svg+xml": [
       "<?xml version=\"1.0\" encoding=\"UTF-8\" standalone=\"no\"?>\r\n",
       "<!DOCTYPE svg PUBLIC \"-//W3C//DTD SVG 1.1//EN\"\r\n",
       " \"http://www.w3.org/Graphics/SVG/1.1/DTD/svg11.dtd\">\r\n",
       "<!-- Generated by graphviz version 2.38.0 (20140413.2041)\r\n",
       " -->\r\n",
       "<!-- Title: %3 Pages: 1 -->\r\n",
       "<svg width=\"625pt\" height=\"237pt\"\r\n",
       " viewBox=\"0.00 0.00 625.27 237.14\" xmlns=\"http://www.w3.org/2000/svg\" xmlns:xlink=\"http://www.w3.org/1999/xlink\">\r\n",
       "<g id=\"graph0\" class=\"graph\" transform=\"scale(1 1) rotate(0) translate(4 233.137)\">\r\n",
       "<title>%3</title>\r\n",
       "<polygon fill=\"white\" stroke=\"none\" points=\"-4,4 -4,-233.137 621.273,-233.137 621.273,4 -4,4\"/>\r\n",
       "<!-- 0 -->\r\n",
       "<g id=\"node1\" class=\"node\"><title>0</title>\r\n",
       "<ellipse fill=\"none\" stroke=\"black\" cx=\"68.8939\" cy=\"-68.8939\" rx=\"68.7879\" ry=\"68.7879\"/>\r\n",
       "<text text-anchor=\"middle\" x=\"68.8939\" y=\"-65.1939\" font-family=\"Times New Roman,serif\" font-size=\"14.00\">bare_nuclei&lt;5.5</text>\r\n",
       "</g>\r\n",
       "<!-- 1 -->\r\n",
       "<g id=\"node2\" class=\"node\"><title>1</title>\r\n",
       "<ellipse fill=\"none\" stroke=\"black\" cx=\"324.031\" cy=\"-147.894\" rx=\"81.4863\" ry=\"81.4863\"/>\r\n",
       "<text text-anchor=\"middle\" x=\"324.031\" y=\"-144.194\" font-family=\"Times New Roman,serif\" font-size=\"14.00\">clump_thickness&lt;7</text>\r\n",
       "</g>\r\n",
       "<!-- 0&#45;&gt;1 -->\r\n",
       "<g id=\"edge1\" class=\"edge\"><title>0&#45;&gt;1</title>\r\n",
       "<path fill=\"none\" stroke=\"#0000ff\" d=\"M134.754,-89.1358C165.686,-98.789 203.127,-110.474 236.448,-120.873\"/>\r\n",
       "<polygon fill=\"#0000ff\" stroke=\"#0000ff\" points=\"235.596,-124.273 246.185,-123.911 237.681,-117.591 235.596,-124.273\"/>\r\n",
       "<text text-anchor=\"middle\" x=\"190.288\" y=\"-118.694\" font-family=\"Times New Roman,serif\" font-size=\"14.00\">yes, missing</text>\r\n",
       "</g>\r\n",
       "<!-- 2 -->\r\n",
       "<g id=\"node3\" class=\"node\"><title>2</title>\r\n",
       "<polygon fill=\"none\" stroke=\"black\" points=\"375.031,-48.8939 273.031,-48.8939 273.031,-12.8939 375.031,-12.8939 375.031,-48.8939\"/>\r\n",
       "<text text-anchor=\"middle\" x=\"324.031\" y=\"-27.1939\" font-family=\"Times New Roman,serif\" font-size=\"14.00\">leaf=0.0270656</text>\r\n",
       "</g>\r\n",
       "<!-- 0&#45;&gt;2 -->\r\n",
       "<g id=\"edge2\" class=\"edge\"><title>0&#45;&gt;2</title>\r\n",
       "<path fill=\"none\" stroke=\"#ff0000\" d=\"M137.065,-58.8104C176.025,-52.9618 224.696,-45.6555 262.473,-39.9846\"/>\r\n",
       "<polygon fill=\"#ff0000\" stroke=\"#ff0000\" points=\"263.452,-43.3769 272.822,-38.4311 262.413,-36.4545 263.452,-43.3769\"/>\r\n",
       "<text text-anchor=\"middle\" x=\"190.288\" y=\"-59.6939\" font-family=\"Times New Roman,serif\" font-size=\"14.00\">no</text>\r\n",
       "</g>\r\n",
       "<!-- 3 -->\r\n",
       "<g id=\"node4\" class=\"node\"><title>3</title>\r\n",
       "<polygon fill=\"none\" stroke=\"black\" points=\"617.273,-192.894 510.273,-192.894 510.273,-156.894 617.273,-156.894 617.273,-192.894\"/>\r\n",
       "<text text-anchor=\"middle\" x=\"563.773\" y=\"-171.194\" font-family=\"Times New Roman,serif\" font-size=\"14.00\">leaf=&#45;0.0423281</text>\r\n",
       "</g>\r\n",
       "<!-- 1&#45;&gt;3 -->\r\n",
       "<g id=\"edge3\" class=\"edge\"><title>1&#45;&gt;3</title>\r\n",
       "<path fill=\"none\" stroke=\"#0000ff\" d=\"M404.857,-156.96C435.869,-160.482 470.869,-164.456 500.024,-167.768\"/>\r\n",
       "<polygon fill=\"#0000ff\" stroke=\"#0000ff\" points=\"499.745,-171.258 510.076,-168.909 500.535,-164.303 499.745,-171.258\"/>\r\n",
       "<text text-anchor=\"middle\" x=\"457.773\" y=\"-169.694\" font-family=\"Times New Roman,serif\" font-size=\"14.00\">yes, missing</text>\r\n",
       "</g>\r\n",
       "<!-- 4 -->\r\n",
       "<g id=\"node5\" class=\"node\"><title>4</title>\r\n",
       "<polygon fill=\"none\" stroke=\"black\" points=\"591.773,-138.894 535.773,-138.894 535.773,-102.894 591.773,-102.894 591.773,-138.894\"/>\r\n",
       "<text text-anchor=\"middle\" x=\"563.773\" y=\"-117.194\" font-family=\"Times New Roman,serif\" font-size=\"14.00\">leaf=&#45;0</text>\r\n",
       "</g>\r\n",
       "<!-- 1&#45;&gt;4 -->\r\n",
       "<g id=\"edge4\" class=\"edge\"><title>1&#45;&gt;4</title>\r\n",
       "<path fill=\"none\" stroke=\"#ff0000\" d=\"M404.857,-138.828C445.579,-134.203 493.177,-128.798 525.388,-125.14\"/>\r\n",
       "<polygon fill=\"#ff0000\" stroke=\"#ff0000\" points=\"526.148,-128.576 535.689,-123.97 525.358,-121.621 526.148,-128.576\"/>\r\n",
       "<text text-anchor=\"middle\" x=\"457.773\" y=\"-139.694\" font-family=\"Times New Roman,serif\" font-size=\"14.00\">no</text>\r\n",
       "</g>\r\n",
       "</g>\r\n",
       "</svg>\r\n"
      ],
      "text/plain": [
       "<graphviz.dot.Digraph at 0x75e5e10>"
      ]
     },
     "execution_count": 92,
     "metadata": {},
     "output_type": "execute_result"
    }
   ],
   "source": [
    "xgb.to_graphviz(bestXGB, num_trees=36, rankdir='LR' )\n"
   ]
  },
  {
   "cell_type": "code",
   "execution_count": 93,
   "metadata": {
    "collapsed": false
   },
   "outputs": [
    {
     "data": {
      "image/svg+xml": [
       "<?xml version=\"1.0\" encoding=\"UTF-8\" standalone=\"no\"?>\r\n",
       "<!DOCTYPE svg PUBLIC \"-//W3C//DTD SVG 1.1//EN\"\r\n",
       " \"http://www.w3.org/Graphics/SVG/1.1/DTD/svg11.dtd\">\r\n",
       "<!-- Generated by graphviz version 2.38.0 (20140413.2041)\r\n",
       " -->\r\n",
       "<!-- Title: %3 Pages: 1 -->\r\n",
       "<svg width=\"892pt\" height=\"346pt\"\r\n",
       " viewBox=\"0.00 0.00 892.26 345.64\" xmlns=\"http://www.w3.org/2000/svg\" xmlns:xlink=\"http://www.w3.org/1999/xlink\">\r\n",
       "<g id=\"graph0\" class=\"graph\" transform=\"scale(1 1) rotate(0) translate(4 341.636)\">\r\n",
       "<title>%3</title>\r\n",
       "<polygon fill=\"white\" stroke=\"none\" points=\"-4,4 -4,-341.636 888.258,-341.636 888.258,4 -4,4\"/>\r\n",
       "<!-- 0 -->\r\n",
       "<g id=\"node1\" class=\"node\"><title>0</title>\r\n",
       "<ellipse fill=\"none\" stroke=\"black\" cx=\"68.8939\" cy=\"-68.8939\" rx=\"68.7879\" ry=\"68.7879\"/>\r\n",
       "<text text-anchor=\"middle\" x=\"68.8939\" y=\"-65.1939\" font-family=\"Times New Roman,serif\" font-size=\"14.00\">bare_nuclei&lt;5.5</text>\r\n",
       "</g>\r\n",
       "<!-- 1 -->\r\n",
       "<g id=\"node2\" class=\"node\"><title>1</title>\r\n",
       "<ellipse fill=\"none\" stroke=\"black\" cx=\"320.781\" cy=\"-144.894\" rx=\"77.9862\" ry=\"77.9862\"/>\r\n",
       "<text text-anchor=\"middle\" x=\"320.781\" y=\"-141.194\" font-family=\"Times New Roman,serif\" font-size=\"14.00\">normal_nucleoli&lt;9</text>\r\n",
       "</g>\r\n",
       "<!-- 0&#45;&gt;1 -->\r\n",
       "<g id=\"edge1\" class=\"edge\"><title>0&#45;&gt;1</title>\r\n",
       "<path fill=\"none\" stroke=\"#0000ff\" d=\"M134.896,-88.6636C165.827,-98.0706 203.179,-109.431 236.191,-119.471\"/>\r\n",
       "<polygon fill=\"#0000ff\" stroke=\"#0000ff\" points=\"235.244,-122.841 245.83,-122.403 237.281,-116.144 235.244,-122.841\"/>\r\n",
       "<text text-anchor=\"middle\" x=\"190.288\" y=\"-120.694\" font-family=\"Times New Roman,serif\" font-size=\"14.00\">yes, missing</text>\r\n",
       "</g>\r\n",
       "<!-- 2 -->\r\n",
       "<g id=\"node3\" class=\"node\"><title>2</title>\r\n",
       "<polygon fill=\"none\" stroke=\"black\" points=\"371.781,-48.8939 269.781,-48.8939 269.781,-12.8939 371.781,-12.8939 371.781,-48.8939\"/>\r\n",
       "<text text-anchor=\"middle\" x=\"320.781\" y=\"-27.1939\" font-family=\"Times New Roman,serif\" font-size=\"14.00\">leaf=0.0163241</text>\r\n",
       "</g>\r\n",
       "<!-- 0&#45;&gt;2 -->\r\n",
       "<g id=\"edge2\" class=\"edge\"><title>0&#45;&gt;2</title>\r\n",
       "<path fill=\"none\" stroke=\"#ff0000\" d=\"M137.188,-58.6606C175.242,-52.8737 222.435,-45.6972 259.309,-40.0898\"/>\r\n",
       "<polygon fill=\"#ff0000\" stroke=\"#ff0000\" points=\"260.059,-43.516 269.419,-38.5523 259.007,-36.5956 260.059,-43.516\"/>\r\n",
       "<text text-anchor=\"middle\" x=\"190.288\" y=\"-59.6939\" font-family=\"Times New Roman,serif\" font-size=\"14.00\">no</text>\r\n",
       "</g>\r\n",
       "<!-- 3 -->\r\n",
       "<g id=\"node4\" class=\"node\"><title>3</title>\r\n",
       "<ellipse fill=\"none\" stroke=\"black\" cx=\"591.516\" cy=\"-249.894\" rx=\"87.9851\" ry=\"87.9851\"/>\r\n",
       "<text text-anchor=\"middle\" x=\"591.516\" y=\"-246.194\" font-family=\"Times New Roman,serif\" font-size=\"14.00\">marginal_adhesion&lt;5</text>\r\n",
       "</g>\r\n",
       "<!-- 1&#45;&gt;3 -->\r\n",
       "<g id=\"edge3\" class=\"edge\"><title>1&#45;&gt;3</title>\r\n",
       "<path fill=\"none\" stroke=\"#0000ff\" d=\"M393.797,-173.032C426.341,-185.747 465.155,-200.913 499.673,-214.4\"/>\r\n",
       "<polygon fill=\"#0000ff\" stroke=\"#0000ff\" points=\"498.698,-217.776 509.286,-218.156 501.245,-211.256 498.698,-217.776\"/>\r\n",
       "<text text-anchor=\"middle\" x=\"451.274\" y=\"-210.694\" font-family=\"Times New Roman,serif\" font-size=\"14.00\">yes, missing</text>\r\n",
       "</g>\r\n",
       "<!-- 4 -->\r\n",
       "<g id=\"node5\" class=\"node\"><title>4</title>\r\n",
       "<polygon fill=\"none\" stroke=\"black\" points=\"619.516,-143.894 563.516,-143.894 563.516,-107.894 619.516,-107.894 619.516,-143.894\"/>\r\n",
       "<text text-anchor=\"middle\" x=\"591.516\" y=\"-122.194\" font-family=\"Times New Roman,serif\" font-size=\"14.00\">leaf=&#45;0</text>\r\n",
       "</g>\r\n",
       "<!-- 1&#45;&gt;4 -->\r\n",
       "<g id=\"edge4\" class=\"edge\"><title>1&#45;&gt;4</title>\r\n",
       "<path fill=\"none\" stroke=\"#ff0000\" d=\"M398.79,-139.449C449.476,-135.866 513.567,-131.334 553.302,-128.525\"/>\r\n",
       "<polygon fill=\"#ff0000\" stroke=\"#ff0000\" points=\"553.615,-132.012 563.343,-127.815 553.121,-125.029 553.615,-132.012\"/>\r\n",
       "<text text-anchor=\"middle\" x=\"451.274\" y=\"-141.694\" font-family=\"Times New Roman,serif\" font-size=\"14.00\">no</text>\r\n",
       "</g>\r\n",
       "<!-- 5 -->\r\n",
       "<g id=\"node6\" class=\"node\"><title>5</title>\r\n",
       "<polygon fill=\"none\" stroke=\"black\" points=\"884.258,-294.894 784.258,-294.894 784.258,-258.894 884.258,-258.894 884.258,-294.894\"/>\r\n",
       "<text text-anchor=\"middle\" x=\"834.258\" y=\"-273.194\" font-family=\"Times New Roman,serif\" font-size=\"14.00\">leaf=&#45;0.033383</text>\r\n",
       "</g>\r\n",
       "<!-- 3&#45;&gt;5 -->\r\n",
       "<g id=\"edge5\" class=\"edge\"><title>3&#45;&gt;5</title>\r\n",
       "<path fill=\"none\" stroke=\"#0000ff\" d=\"M678.75,-259.565C710.232,-263.096 745.111,-267.008 773.751,-270.22\"/>\r\n",
       "<polygon fill=\"#0000ff\" stroke=\"#0000ff\" points=\"773.675,-273.733 784.003,-271.37 774.455,-266.777 773.675,-273.733\"/>\r\n",
       "<text text-anchor=\"middle\" x=\"731.758\" y=\"-273.694\" font-family=\"Times New Roman,serif\" font-size=\"14.00\">yes, missing</text>\r\n",
       "</g>\r\n",
       "<!-- 6 -->\r\n",
       "<g id=\"node7\" class=\"node\"><title>6</title>\r\n",
       "<polygon fill=\"none\" stroke=\"black\" points=\"862.258,-240.894 806.258,-240.894 806.258,-204.894 862.258,-204.894 862.258,-240.894\"/>\r\n",
       "<text text-anchor=\"middle\" x=\"834.258\" y=\"-219.194\" font-family=\"Times New Roman,serif\" font-size=\"14.00\">leaf=&#45;0</text>\r\n",
       "</g>\r\n",
       "<!-- 3&#45;&gt;6 -->\r\n",
       "<g id=\"edge6\" class=\"edge\"><title>3&#45;&gt;6</title>\r\n",
       "<path fill=\"none\" stroke=\"#ff0000\" d=\"M678.75,-240.223C718.993,-235.709 764.787,-230.573 796.005,-227.072\"/>\r\n",
       "<polygon fill=\"#ff0000\" stroke=\"#ff0000\" points=\"796.457,-230.543 806.004,-225.951 795.677,-223.587 796.457,-230.543\"/>\r\n",
       "<text text-anchor=\"middle\" x=\"731.758\" y=\"-242.694\" font-family=\"Times New Roman,serif\" font-size=\"14.00\">no</text>\r\n",
       "</g>\r\n",
       "</g>\r\n",
       "</svg>\r\n"
      ],
      "text/plain": [
       "<graphviz.dot.Digraph at 0x75e57b8>"
      ]
     },
     "execution_count": 93,
     "metadata": {},
     "output_type": "execute_result"
    }
   ],
   "source": [
    "xgb.to_graphviz(bestXGB, num_trees=37, rankdir='LR' )\n"
   ]
  },
  {
   "cell_type": "code",
   "execution_count": 94,
   "metadata": {
    "collapsed": false
   },
   "outputs": [
    {
     "data": {
      "image/svg+xml": [
       "<?xml version=\"1.0\" encoding=\"UTF-8\" standalone=\"no\"?>\r\n",
       "<!DOCTYPE svg PUBLIC \"-//W3C//DTD SVG 1.1//EN\"\r\n",
       " \"http://www.w3.org/Graphics/SVG/1.1/DTD/svg11.dtd\">\r\n",
       "<!-- Generated by graphviz version 2.38.0 (20140413.2041)\r\n",
       " -->\r\n",
       "<!-- Title: %3 Pages: 1 -->\r\n",
       "<svg width=\"619pt\" height=\"298pt\"\r\n",
       " viewBox=\"0.00 0.00 618.77 298.49\" xmlns=\"http://www.w3.org/2000/svg\" xmlns:xlink=\"http://www.w3.org/1999/xlink\">\r\n",
       "<g id=\"graph0\" class=\"graph\" transform=\"scale(1 1) rotate(0) translate(4 294.488)\">\r\n",
       "<title>%3</title>\r\n",
       "<polygon fill=\"white\" stroke=\"none\" points=\"-4,4 -4,-294.488 614.774,-294.488 614.774,4 -4,4\"/>\r\n",
       "<!-- 0 -->\r\n",
       "<g id=\"node1\" class=\"node\"><title>0</title>\r\n",
       "<ellipse fill=\"none\" stroke=\"black\" cx=\"68.8939\" cy=\"-149.495\" rx=\"68.7879\" ry=\"68.7879\"/>\r\n",
       "<text text-anchor=\"middle\" x=\"68.8939\" y=\"-145.795\" font-family=\"Times New Roman,serif\" font-size=\"14.00\">bare_nuclei&lt;1.5</text>\r\n",
       "</g>\r\n",
       "<!-- 1 -->\r\n",
       "<g id=\"node2\" class=\"node\"><title>1</title>\r\n",
       "<ellipse fill=\"none\" stroke=\"black\" cx=\"320.781\" cy=\"-212.495\" rx=\"77.9862\" ry=\"77.9862\"/>\r\n",
       "<text text-anchor=\"middle\" x=\"320.781\" y=\"-208.795\" font-family=\"Times New Roman,serif\" font-size=\"14.00\">epitelial_cellsize&lt;5</text>\r\n",
       "</g>\r\n",
       "<!-- 0&#45;&gt;1 -->\r\n",
       "<g id=\"edge1\" class=\"edge\"><title>0&#45;&gt;1</title>\r\n",
       "<path fill=\"none\" stroke=\"#0000ff\" d=\"M135.876,-166.13C166.277,-173.794 202.722,-182.983 235.12,-191.151\"/>\r\n",
       "<polygon fill=\"#0000ff\" stroke=\"#0000ff\" points=\"234.482,-194.599 245.034,-193.65 236.193,-187.812 234.482,-194.599\"/>\r\n",
       "<text text-anchor=\"middle\" x=\"190.288\" y=\"-191.295\" font-family=\"Times New Roman,serif\" font-size=\"14.00\">yes, missing</text>\r\n",
       "</g>\r\n",
       "<!-- 2 -->\r\n",
       "<g id=\"node3\" class=\"node\"><title>2</title>\r\n",
       "<ellipse fill=\"none\" stroke=\"black\" cx=\"320.781\" cy=\"-58.4948\" rx=\"58.4896\" ry=\"58.4896\"/>\r\n",
       "<text text-anchor=\"middle\" x=\"320.781\" y=\"-54.7948\" font-family=\"Times New Roman,serif\" font-size=\"14.00\">cell_shape&lt;3</text>\r\n",
       "</g>\r\n",
       "<!-- 0&#45;&gt;2 -->\r\n",
       "<g id=\"edge2\" class=\"edge\"><title>0&#45;&gt;2</title>\r\n",
       "<path fill=\"none\" stroke=\"#ff0000\" d=\"M133.921,-126.178C171.355,-112.546 218.447,-95.3969 255.862,-81.7717\"/>\r\n",
       "<polygon fill=\"#ff0000\" stroke=\"#ff0000\" points=\"257.448,-84.9191 265.647,-78.2085 255.053,-78.3416 257.448,-84.9191\"/>\r\n",
       "<text text-anchor=\"middle\" x=\"190.288\" y=\"-120.295\" font-family=\"Times New Roman,serif\" font-size=\"14.00\">no</text>\r\n",
       "</g>\r\n",
       "<!-- 3 -->\r\n",
       "<g id=\"node4\" class=\"node\"><title>3</title>\r\n",
       "<polygon fill=\"none\" stroke=\"black\" points=\"610.774,-259.495 503.774,-259.495 503.774,-223.495 610.774,-223.495 610.774,-259.495\"/>\r\n",
       "<text text-anchor=\"middle\" x=\"557.274\" y=\"-237.795\" font-family=\"Times New Roman,serif\" font-size=\"14.00\">leaf=&#45;0.0225401</text>\r\n",
       "</g>\r\n",
       "<!-- 1&#45;&gt;3 -->\r\n",
       "<g id=\"edge3\" class=\"edge\"><title>1&#45;&gt;3</title>\r\n",
       "<path fill=\"none\" stroke=\"#0000ff\" d=\"M398.238,-221.95C429.084,-225.765 464.232,-230.112 493.536,-233.736\"/>\r\n",
       "<polygon fill=\"#0000ff\" stroke=\"#0000ff\" points=\"493.287,-237.232 503.641,-234.986 494.146,-230.285 493.287,-237.232\"/>\r\n",
       "<text text-anchor=\"middle\" x=\"451.274\" y=\"-235.295\" font-family=\"Times New Roman,serif\" font-size=\"14.00\">yes, missing</text>\r\n",
       "</g>\r\n",
       "<!-- 4 -->\r\n",
       "<g id=\"node5\" class=\"node\"><title>4</title>\r\n",
       "<polygon fill=\"none\" stroke=\"black\" points=\"585.274,-205.495 529.274,-205.495 529.274,-169.495 585.274,-169.495 585.274,-205.495\"/>\r\n",
       "<text text-anchor=\"middle\" x=\"557.274\" y=\"-183.795\" font-family=\"Times New Roman,serif\" font-size=\"14.00\">leaf=&#45;0</text>\r\n",
       "</g>\r\n",
       "<!-- 1&#45;&gt;4 -->\r\n",
       "<g id=\"edge4\" class=\"edge\"><title>1&#45;&gt;4</title>\r\n",
       "<path fill=\"none\" stroke=\"#ff0000\" d=\"M398.563,-204.309C438.884,-200.01 486.483,-194.935 518.762,-191.494\"/>\r\n",
       "<polygon fill=\"#ff0000\" stroke=\"#ff0000\" points=\"519.516,-194.934 529.088,-190.393 518.773,-187.973 519.516,-194.934\"/>\r\n",
       "<text text-anchor=\"middle\" x=\"451.274\" y=\"-205.295\" font-family=\"Times New Roman,serif\" font-size=\"14.00\">no</text>\r\n",
       "</g>\r\n",
       "<!-- 5 -->\r\n",
       "<g id=\"node6\" class=\"node\"><title>5</title>\r\n",
       "<polygon fill=\"none\" stroke=\"black\" points=\"585.274,-126.495 529.274,-126.495 529.274,-90.4948 585.274,-90.4948 585.274,-126.495\"/>\r\n",
       "<text text-anchor=\"middle\" x=\"557.274\" y=\"-104.795\" font-family=\"Times New Roman,serif\" font-size=\"14.00\">leaf=&#45;0</text>\r\n",
       "</g>\r\n",
       "<!-- 2&#45;&gt;5 -->\r\n",
       "<g id=\"edge5\" class=\"edge\"><title>2&#45;&gt;5</title>\r\n",
       "<path fill=\"none\" stroke=\"#0000ff\" d=\"M378.246,-70.5347C421.974,-79.8585 481.292,-92.5066 519.183,-100.586\"/>\r\n",
       "<polygon fill=\"#0000ff\" stroke=\"#0000ff\" points=\"518.761,-104.075 529.271,-102.737 520.221,-97.2286 518.761,-104.075\"/>\r\n",
       "<text text-anchor=\"middle\" x=\"451.274\" y=\"-95.2948\" font-family=\"Times New Roman,serif\" font-size=\"14.00\">yes, missing</text>\r\n",
       "</g>\r\n",
       "<!-- 6 -->\r\n",
       "<g id=\"node7\" class=\"node\"><title>6</title>\r\n",
       "<polygon fill=\"none\" stroke=\"black\" points=\"608.274,-72.4948 506.274,-72.4948 506.274,-36.4948 608.274,-36.4948 608.274,-72.4948\"/>\r\n",
       "<text text-anchor=\"middle\" x=\"557.274\" y=\"-50.7948\" font-family=\"Times New Roman,serif\" font-size=\"14.00\">leaf=0.0179852</text>\r\n",
       "</g>\r\n",
       "<!-- 2&#45;&gt;6 -->\r\n",
       "<g id=\"edge6\" class=\"edge\"><title>2&#45;&gt;6</title>\r\n",
       "<path fill=\"none\" stroke=\"#ff0000\" d=\"M379.445,-57.5112C414.744,-56.909 459.857,-56.1395 495.681,-55.5284\"/>\r\n",
       "<polygon fill=\"#ff0000\" stroke=\"#ff0000\" points=\"496.061,-59.0225 506,-55.3524 495.941,-52.0236 496.061,-59.0225\"/>\r\n",
       "<text text-anchor=\"middle\" x=\"451.274\" y=\"-60.2948\" font-family=\"Times New Roman,serif\" font-size=\"14.00\">no</text>\r\n",
       "</g>\r\n",
       "</g>\r\n",
       "</svg>\r\n"
      ],
      "text/plain": [
       "<graphviz.dot.Digraph at 0x75e5198>"
      ]
     },
     "execution_count": 94,
     "metadata": {},
     "output_type": "execute_result"
    }
   ],
   "source": [
    "xgb.to_graphviz(bestXGB, num_trees=38, rankdir='LR' )\n"
   ]
  },
  {
   "cell_type": "code",
   "execution_count": 95,
   "metadata": {
    "collapsed": false
   },
   "outputs": [
    {
     "data": {
      "image/svg+xml": [
       "<?xml version=\"1.0\" encoding=\"UTF-8\" standalone=\"no\"?>\r\n",
       "<!DOCTYPE svg PUBLIC \"-//W3C//DTD SVG 1.1//EN\"\r\n",
       " \"http://www.w3.org/Graphics/SVG/1.1/DTD/svg11.dtd\">\r\n",
       "<!-- Generated by graphviz version 2.38.0 (20140413.2041)\r\n",
       " -->\r\n",
       "<!-- Title: %3 Pages: 1 -->\r\n",
       "<svg width=\"604pt\" height=\"227pt\"\r\n",
       " viewBox=\"0.00 0.00 604.48 226.74\" xmlns=\"http://www.w3.org/2000/svg\" xmlns:xlink=\"http://www.w3.org/1999/xlink\">\r\n",
       "<g id=\"graph0\" class=\"graph\" transform=\"scale(1 1) rotate(0) translate(4 222.738)\">\r\n",
       "<title>%3</title>\r\n",
       "<polygon fill=\"white\" stroke=\"none\" points=\"-4,4 -4,-222.738 600.475,-222.738 600.475,4 -4,4\"/>\r\n",
       "<!-- 0 -->\r\n",
       "<g id=\"node1\" class=\"node\"><title>0</title>\r\n",
       "<ellipse fill=\"none\" stroke=\"black\" cx=\"58.4948\" cy=\"-58.4948\" rx=\"58.4896\" ry=\"58.4896\"/>\r\n",
       "<text text-anchor=\"middle\" x=\"58.4948\" y=\"-54.7948\" font-family=\"Times New Roman,serif\" font-size=\"14.00\">cell_shape&lt;4</text>\r\n",
       "</g>\r\n",
       "<!-- 1 -->\r\n",
       "<g id=\"node2\" class=\"node\"><title>1</title>\r\n",
       "<ellipse fill=\"none\" stroke=\"black\" cx=\"303.232\" cy=\"-137.495\" rx=\"81.4863\" ry=\"81.4863\"/>\r\n",
       "<text text-anchor=\"middle\" x=\"303.232\" y=\"-133.795\" font-family=\"Times New Roman,serif\" font-size=\"14.00\">bland_chromatin&lt;4</text>\r\n",
       "</g>\r\n",
       "<!-- 0&#45;&gt;1 -->\r\n",
       "<g id=\"edge1\" class=\"edge\"><title>0&#45;&gt;1</title>\r\n",
       "<path fill=\"none\" stroke=\"#0000ff\" d=\"M114.273,-76.3225C144.18,-86.0561 181.902,-98.3327 215.689,-109.329\"/>\r\n",
       "<polygon fill=\"#0000ff\" stroke=\"#0000ff\" points=\"214.976,-112.778 225.569,-112.544 217.143,-106.121 214.976,-112.778\"/>\r\n",
       "<text text-anchor=\"middle\" x=\"169.49\" y=\"-108.295\" font-family=\"Times New Roman,serif\" font-size=\"14.00\">yes, missing</text>\r\n",
       "</g>\r\n",
       "<!-- 2 -->\r\n",
       "<g id=\"node3\" class=\"node\"><title>2</title>\r\n",
       "<polygon fill=\"none\" stroke=\"black\" points=\"350.732,-38.4948 255.732,-38.4948 255.732,-2.49481 350.732,-2.49481 350.732,-38.4948\"/>\r\n",
       "<text text-anchor=\"middle\" x=\"303.232\" y=\"-16.7948\" font-family=\"Times New Roman,serif\" font-size=\"14.00\">leaf=0.021287</text>\r\n",
       "</g>\r\n",
       "<!-- 0&#45;&gt;2 -->\r\n",
       "<g id=\"edge2\" class=\"edge\"><title>0&#45;&gt;2</title>\r\n",
       "<path fill=\"none\" stroke=\"#ff0000\" d=\"M116.406,-49.5855C155.253,-43.504 206.512,-35.4796 245.353,-29.3991\"/>\r\n",
       "<polygon fill=\"#ff0000\" stroke=\"#ff0000\" points=\"246.112,-32.823 255.45,-27.8184 245.029,-25.9073 246.112,-32.823\"/>\r\n",
       "<text text-anchor=\"middle\" x=\"169.49\" y=\"-50.2948\" font-family=\"Times New Roman,serif\" font-size=\"14.00\">no</text>\r\n",
       "</g>\r\n",
       "<!-- 3 -->\r\n",
       "<g id=\"node4\" class=\"node\"><title>3</title>\r\n",
       "<polygon fill=\"none\" stroke=\"black\" points=\"596.475,-182.495 489.475,-182.495 489.475,-146.495 596.475,-146.495 596.475,-182.495\"/>\r\n",
       "<text text-anchor=\"middle\" x=\"542.975\" y=\"-160.795\" font-family=\"Times New Roman,serif\" font-size=\"14.00\">leaf=&#45;0.0250141</text>\r\n",
       "</g>\r\n",
       "<!-- 1&#45;&gt;3 -->\r\n",
       "<g id=\"edge3\" class=\"edge\"><title>1&#45;&gt;3</title>\r\n",
       "<path fill=\"none\" stroke=\"#0000ff\" d=\"M384.059,-146.561C415.071,-150.082 450.071,-154.057 479.226,-157.368\"/>\r\n",
       "<polygon fill=\"#0000ff\" stroke=\"#0000ff\" points=\"478.947,-160.859 489.278,-158.51 479.737,-153.904 478.947,-160.859\"/>\r\n",
       "<text text-anchor=\"middle\" x=\"436.975\" y=\"-159.295\" font-family=\"Times New Roman,serif\" font-size=\"14.00\">yes, missing</text>\r\n",
       "</g>\r\n",
       "<!-- 4 -->\r\n",
       "<g id=\"node5\" class=\"node\"><title>4</title>\r\n",
       "<polygon fill=\"none\" stroke=\"black\" points=\"570.975,-128.495 514.975,-128.495 514.975,-92.4948 570.975,-92.4948 570.975,-128.495\"/>\r\n",
       "<text text-anchor=\"middle\" x=\"542.975\" y=\"-106.795\" font-family=\"Times New Roman,serif\" font-size=\"14.00\">leaf=&#45;0</text>\r\n",
       "</g>\r\n",
       "<!-- 1&#45;&gt;4 -->\r\n",
       "<g id=\"edge4\" class=\"edge\"><title>1&#45;&gt;4</title>\r\n",
       "<path fill=\"none\" stroke=\"#ff0000\" d=\"M384.059,-128.429C424.78,-123.804 472.379,-118.399 504.59,-114.741\"/>\r\n",
       "<polygon fill=\"#ff0000\" stroke=\"#ff0000\" points=\"505.35,-118.177 514.891,-113.571 504.56,-111.222 505.35,-118.177\"/>\r\n",
       "<text text-anchor=\"middle\" x=\"436.975\" y=\"-129.295\" font-family=\"Times New Roman,serif\" font-size=\"14.00\">no</text>\r\n",
       "</g>\r\n",
       "</g>\r\n",
       "</svg>\r\n"
      ],
      "text/plain": [
       "<graphviz.dot.Digraph at 0x75eef28>"
      ]
     },
     "execution_count": 95,
     "metadata": {},
     "output_type": "execute_result"
    }
   ],
   "source": [
    "xgb.to_graphviz(bestXGB, num_trees=39, rankdir='LR' )\n"
   ]
  },
  {
   "cell_type": "code",
   "execution_count": 96,
   "metadata": {
    "collapsed": false
   },
   "outputs": [
    {
     "data": {
      "image/svg+xml": [
       "<?xml version=\"1.0\" encoding=\"UTF-8\" standalone=\"no\"?>\r\n",
       "<!DOCTYPE svg PUBLIC \"-//W3C//DTD SVG 1.1//EN\"\r\n",
       " \"http://www.w3.org/Graphics/SVG/1.1/DTD/svg11.dtd\">\r\n",
       "<!-- Generated by graphviz version 2.38.0 (20140413.2041)\r\n",
       " -->\r\n",
       "<!-- Title: %3 Pages: 1 -->\r\n",
       "<svg width=\"758pt\" height=\"226pt\"\r\n",
       " viewBox=\"0.00 0.00 758.48 226.24\" xmlns=\"http://www.w3.org/2000/svg\" xmlns:xlink=\"http://www.w3.org/1999/xlink\">\r\n",
       "<g id=\"graph0\" class=\"graph\" transform=\"scale(1 1) rotate(0) translate(4 222.239)\">\r\n",
       "<title>%3</title>\r\n",
       "<polygon fill=\"white\" stroke=\"none\" points=\"-4,4 -4,-222.239 754.479,-222.239 754.479,4 -4,4\"/>\r\n",
       "<!-- 0 -->\r\n",
       "<g id=\"node1\" class=\"node\"><title>0</title>\r\n",
       "<ellipse fill=\"none\" stroke=\"black\" cx=\"68.8939\" cy=\"-68.8939\" rx=\"68.7879\" ry=\"68.7879\"/>\r\n",
       "<text text-anchor=\"middle\" x=\"68.8939\" y=\"-65.1939\" font-family=\"Times New Roman,serif\" font-size=\"14.00\">bare_nuclei&lt;5.5</text>\r\n",
       "</g>\r\n",
       "<!-- 1 -->\r\n",
       "<g id=\"node2\" class=\"node\"><title>1</title>\r\n",
       "<ellipse fill=\"none\" stroke=\"black\" cx=\"293.788\" cy=\"-122.894\" rx=\"48.1917\" ry=\"48.1917\"/>\r\n",
       "<text text-anchor=\"middle\" x=\"293.788\" y=\"-119.194\" font-family=\"Times New Roman,serif\" font-size=\"14.00\">mitoses&lt;3</text>\r\n",
       "</g>\r\n",
       "<!-- 0&#45;&gt;1 -->\r\n",
       "<g id=\"edge1\" class=\"edge\"><title>0&#45;&gt;1</title>\r\n",
       "<path fill=\"none\" stroke=\"#0000ff\" d=\"M136.166,-84.9495C168.217,-92.7145 206.27,-101.933 236.84,-109.34\"/>\r\n",
       "<polygon fill=\"#0000ff\" stroke=\"#0000ff\" points=\"236.359,-112.824 246.902,-111.777 238.007,-106.021 236.359,-112.824\"/>\r\n",
       "<text text-anchor=\"middle\" x=\"190.288\" y=\"-109.694\" font-family=\"Times New Roman,serif\" font-size=\"14.00\">yes, missing</text>\r\n",
       "</g>\r\n",
       "<!-- 2 -->\r\n",
       "<g id=\"node3\" class=\"node\"><title>2</title>\r\n",
       "<polygon fill=\"none\" stroke=\"black\" points=\"344.788,-56.8939 242.788,-56.8939 242.788,-20.8939 344.788,-20.8939 344.788,-56.8939\"/>\r\n",
       "<text text-anchor=\"middle\" x=\"293.788\" y=\"-35.1939\" font-family=\"Times New Roman,serif\" font-size=\"14.00\">leaf=0.0150145</text>\r\n",
       "</g>\r\n",
       "<!-- 0&#45;&gt;2 -->\r\n",
       "<g id=\"edge2\" class=\"edge\"><title>0&#45;&gt;2</title>\r\n",
       "<path fill=\"none\" stroke=\"#ff0000\" d=\"M137.374,-59.8115C167.633,-55.7388 203.042,-50.973 232.413,-47.0199\"/>\r\n",
       "<polygon fill=\"#ff0000\" stroke=\"#ff0000\" points=\"233.088,-50.4607 242.532,-45.658 232.154,-43.5233 233.088,-50.4607\"/>\r\n",
       "<text text-anchor=\"middle\" x=\"190.288\" y=\"-60.6939\" font-family=\"Times New Roman,serif\" font-size=\"14.00\">no</text>\r\n",
       "</g>\r\n",
       "<!-- 3 -->\r\n",
       "<g id=\"node4\" class=\"node\"><title>3</title>\r\n",
       "<ellipse fill=\"none\" stroke=\"black\" cx=\"501.133\" cy=\"-166.894\" rx=\"51.1914\" ry=\"51.1914\"/>\r\n",
       "<text text-anchor=\"middle\" x=\"501.133\" y=\"-163.194\" font-family=\"Times New Roman,serif\" font-size=\"14.00\">cell_size&lt;7</text>\r\n",
       "</g>\r\n",
       "<!-- 1&#45;&gt;3 -->\r\n",
       "<g id=\"edge3\" class=\"edge\"><title>1&#45;&gt;3</title>\r\n",
       "<path fill=\"none\" stroke=\"#0000ff\" d=\"M340.871,-132.768C370.32,-139.079 408.802,-147.324 440.562,-154.129\"/>\r\n",
       "<polygon fill=\"#0000ff\" stroke=\"#0000ff\" points=\"440.106,-157.611 450.617,-156.284 441.572,-150.766 440.106,-157.611\"/>\r\n",
       "<text text-anchor=\"middle\" x=\"397.288\" y=\"-154.694\" font-family=\"Times New Roman,serif\" font-size=\"14.00\">yes, missing</text>\r\n",
       "</g>\r\n",
       "<!-- 4 -->\r\n",
       "<g id=\"node5\" class=\"node\"><title>4</title>\r\n",
       "<polygon fill=\"none\" stroke=\"black\" points=\"529.133,-97.8939 473.133,-97.8939 473.133,-61.8939 529.133,-61.8939 529.133,-97.8939\"/>\r\n",
       "<text text-anchor=\"middle\" x=\"501.133\" y=\"-76.1939\" font-family=\"Times New Roman,serif\" font-size=\"14.00\">leaf=&#45;0</text>\r\n",
       "</g>\r\n",
       "<!-- 1&#45;&gt;4 -->\r\n",
       "<g id=\"edge4\" class=\"edge\"><title>1&#45;&gt;4</title>\r\n",
       "<path fill=\"none\" stroke=\"#ff0000\" d=\"M340.389,-110.295C347.85,-108.386 355.517,-106.515 362.788,-104.894 396.454,-97.3863 435.136,-90.4996 462.852,-85.8638\"/>\r\n",
       "<polygon fill=\"#ff0000\" stroke=\"#ff0000\" points=\"463.609,-89.2861 472.904,-84.2007 462.467,-82.38 463.609,-89.2861\"/>\r\n",
       "<text text-anchor=\"middle\" x=\"397.288\" y=\"-108.694\" font-family=\"Times New Roman,serif\" font-size=\"14.00\">no</text>\r\n",
       "</g>\r\n",
       "<!-- 5 -->\r\n",
       "<g id=\"node6\" class=\"node\"><title>5</title>\r\n",
       "<polygon fill=\"none\" stroke=\"black\" points=\"750.479,-211.894 657.479,-211.894 657.479,-175.894 750.479,-175.894 750.479,-211.894\"/>\r\n",
       "<text text-anchor=\"middle\" x=\"703.979\" y=\"-190.194\" font-family=\"Times New Roman,serif\" font-size=\"14.00\">leaf=&#45;0.03284</text>\r\n",
       "</g>\r\n",
       "<!-- 3&#45;&gt;5 -->\r\n",
       "<g id=\"edge5\" class=\"edge\"><title>3&#45;&gt;5</title>\r\n",
       "<path fill=\"none\" stroke=\"#0000ff\" d=\"M552.297,-173.637C581.087,-177.508 617.302,-182.376 647.013,-186.37\"/>\r\n",
       "<polygon fill=\"#0000ff\" stroke=\"#0000ff\" points=\"646.851,-189.88 657.228,-187.744 647.784,-182.942 646.851,-189.88\"/>\r\n",
       "<text text-anchor=\"middle\" x=\"604.979\" y=\"-188.694\" font-family=\"Times New Roman,serif\" font-size=\"14.00\">yes, missing</text>\r\n",
       "</g>\r\n",
       "<!-- 6 -->\r\n",
       "<g id=\"node7\" class=\"node\"><title>6</title>\r\n",
       "<polygon fill=\"none\" stroke=\"black\" points=\"731.979,-157.894 675.979,-157.894 675.979,-121.894 731.979,-121.894 731.979,-157.894\"/>\r\n",
       "<text text-anchor=\"middle\" x=\"703.979\" y=\"-136.194\" font-family=\"Times New Roman,serif\" font-size=\"14.00\">leaf=&#45;0</text>\r\n",
       "</g>\r\n",
       "<!-- 3&#45;&gt;6 -->\r\n",
       "<g id=\"edge6\" class=\"edge\"><title>3&#45;&gt;6</title>\r\n",
       "<path fill=\"none\" stroke=\"#ff0000\" d=\"M552.136,-159.474C558.311,-158.588 564.538,-157.709 570.479,-156.894 602.629,-152.48 639.218,-147.812 665.789,-144.487\"/>\r\n",
       "<polygon fill=\"#ff0000\" stroke=\"#ff0000\" points=\"666.317,-147.948 675.807,-143.237 665.451,-141.002 666.317,-147.948\"/>\r\n",
       "<text text-anchor=\"middle\" x=\"604.979\" y=\"-160.694\" font-family=\"Times New Roman,serif\" font-size=\"14.00\">no</text>\r\n",
       "</g>\r\n",
       "</g>\r\n",
       "</svg>\r\n"
      ],
      "text/plain": [
       "<graphviz.dot.Digraph at 0x7644828>"
      ]
     },
     "execution_count": 96,
     "metadata": {},
     "output_type": "execute_result"
    }
   ],
   "source": [
    "xgb.to_graphviz(bestXGB, num_trees=40, rankdir='LR' )\n"
   ]
  },
  {
   "cell_type": "code",
   "execution_count": 97,
   "metadata": {
    "collapsed": false
   },
   "outputs": [
    {
     "data": {
      "image/svg+xml": [
       "<?xml version=\"1.0\" encoding=\"UTF-8\" standalone=\"no\"?>\r\n",
       "<!DOCTYPE svg PUBLIC \"-//W3C//DTD SVG 1.1//EN\"\r\n",
       " \"http://www.w3.org/Graphics/SVG/1.1/DTD/svg11.dtd\">\r\n",
       "<!-- Generated by graphviz version 2.38.0 (20140413.2041)\r\n",
       " -->\r\n",
       "<!-- Title: %3 Pages: 1 -->\r\n",
       "<svg width=\"826pt\" height=\"352pt\"\r\n",
       " viewBox=\"0.00 0.00 826.46 352.34\" xmlns=\"http://www.w3.org/2000/svg\" xmlns:xlink=\"http://www.w3.org/1999/xlink\">\r\n",
       "<g id=\"graph0\" class=\"graph\" transform=\"scale(1 1) rotate(0) translate(4 348.339)\">\r\n",
       "<title>%3</title>\r\n",
       "<polygon fill=\"white\" stroke=\"none\" points=\"-4,4 -4,-348.339 822.465,-348.339 822.465,4 -4,4\"/>\r\n",
       "<!-- 0 -->\r\n",
       "<g id=\"node1\" class=\"node\"><title>0</title>\r\n",
       "<ellipse fill=\"none\" stroke=\"black\" cx=\"68.8939\" cy=\"-121.345\" rx=\"68.7879\" ry=\"68.7879\"/>\r\n",
       "<text text-anchor=\"middle\" x=\"68.8939\" y=\"-117.645\" font-family=\"Times New Roman,serif\" font-size=\"14.00\">bare_nuclei&lt;1.5</text>\r\n",
       "</g>\r\n",
       "<!-- 1 -->\r\n",
       "<g id=\"node2\" class=\"node\"><title>1</title>\r\n",
       "<ellipse fill=\"none\" stroke=\"black\" cx=\"294.133\" cy=\"-172.345\" rx=\"51.1914\" ry=\"51.1914\"/>\r\n",
       "<text text-anchor=\"middle\" x=\"294.133\" y=\"-168.645\" font-family=\"Times New Roman,serif\" font-size=\"14.00\">cell_size&lt;6</text>\r\n",
       "</g>\r\n",
       "<!-- 0&#45;&gt;1 -->\r\n",
       "<g id=\"edge1\" class=\"edge\"><title>0&#45;&gt;1</title>\r\n",
       "<path fill=\"none\" stroke=\"#0000ff\" d=\"M136.269,-136.509C167.215,-143.579 203.747,-151.925 233.767,-158.783\"/>\r\n",
       "<polygon fill=\"#0000ff\" stroke=\"#0000ff\" points=\"233.152,-162.233 243.68,-161.048 234.711,-155.408 233.152,-162.233\"/>\r\n",
       "<text text-anchor=\"middle\" x=\"190.288\" y=\"-160.145\" font-family=\"Times New Roman,serif\" font-size=\"14.00\">yes, missing</text>\r\n",
       "</g>\r\n",
       "<!-- 2 -->\r\n",
       "<g id=\"node3\" class=\"node\"><title>2</title>\r\n",
       "<ellipse fill=\"none\" stroke=\"black\" cx=\"294.133\" cy=\"-51.3454\" rx=\"51.1914\" ry=\"51.1914\"/>\r\n",
       "<text text-anchor=\"middle\" x=\"294.133\" y=\"-47.6454\" font-family=\"Times New Roman,serif\" font-size=\"14.00\">cell_size&lt;2</text>\r\n",
       "</g>\r\n",
       "<!-- 0&#45;&gt;2 -->\r\n",
       "<g id=\"edge2\" class=\"edge\"><title>0&#45;&gt;2</title>\r\n",
       "<path fill=\"none\" stroke=\"#ff0000\" d=\"M134.764,-101.005C166.476,-91.0606 204.334,-79.1899 235.082,-69.5483\"/>\r\n",
       "<polygon fill=\"#ff0000\" stroke=\"#ff0000\" points=\"236.304,-72.8333 244.798,-66.5016 234.209,-66.154 236.304,-72.8333\"/>\r\n",
       "<text text-anchor=\"middle\" x=\"190.288\" y=\"-97.1454\" font-family=\"Times New Roman,serif\" font-size=\"14.00\">no</text>\r\n",
       "</g>\r\n",
       "<!-- 3 -->\r\n",
       "<g id=\"node4\" class=\"node\"><title>3</title>\r\n",
       "<ellipse fill=\"none\" stroke=\"black\" cx=\"528.472\" cy=\"-266.345\" rx=\"77.9862\" ry=\"77.9862\"/>\r\n",
       "<text text-anchor=\"middle\" x=\"528.472\" y=\"-262.645\" font-family=\"Times New Roman,serif\" font-size=\"14.00\">epitelial_cellsize&lt;4</text>\r\n",
       "</g>\r\n",
       "<!-- 1&#45;&gt;3 -->\r\n",
       "<g id=\"edge3\" class=\"edge\"><title>1&#45;&gt;3</title>\r\n",
       "<path fill=\"none\" stroke=\"#0000ff\" d=\"M341.871,-191.255C371.668,-203.31 411.091,-219.26 445.937,-233.358\"/>\r\n",
       "<polygon fill=\"#0000ff\" stroke=\"#0000ff\" points=\"445.05,-236.775 455.633,-237.281 447.675,-230.286 445.05,-236.775\"/>\r\n",
       "<text text-anchor=\"middle\" x=\"397.979\" y=\"-232.145\" font-family=\"Times New Roman,serif\" font-size=\"14.00\">yes, missing</text>\r\n",
       "</g>\r\n",
       "<!-- 4 -->\r\n",
       "<g id=\"node5\" class=\"node\"><title>4</title>\r\n",
       "<polygon fill=\"none\" stroke=\"black\" points=\"556.472,-170.345 500.472,-170.345 500.472,-134.345 556.472,-134.345 556.472,-170.345\"/>\r\n",
       "<text text-anchor=\"middle\" x=\"528.472\" y=\"-148.645\" font-family=\"Times New Roman,serif\" font-size=\"14.00\">leaf=&#45;0</text>\r\n",
       "</g>\r\n",
       "<!-- 1&#45;&gt;4 -->\r\n",
       "<g id=\"edge4\" class=\"edge\"><title>1&#45;&gt;4</title>\r\n",
       "<path fill=\"none\" stroke=\"#ff0000\" d=\"M345.547,-168.006C389.069,-164.259 450.952,-158.932 490.151,-155.558\"/>\r\n",
       "<polygon fill=\"#ff0000\" stroke=\"#ff0000\" points=\"490.666,-159.027 500.329,-154.682 490.066,-152.053 490.666,-159.027\"/>\r\n",
       "<text text-anchor=\"middle\" x=\"397.979\" y=\"-171.145\" font-family=\"Times New Roman,serif\" font-size=\"14.00\">no</text>\r\n",
       "</g>\r\n",
       "<!-- 5 -->\r\n",
       "<g id=\"node8\" class=\"node\"><title>5</title>\r\n",
       "<polygon fill=\"none\" stroke=\"black\" points=\"556.472,-96.3454 500.472,-96.3454 500.472,-60.3454 556.472,-60.3454 556.472,-96.3454\"/>\r\n",
       "<text text-anchor=\"middle\" x=\"528.472\" y=\"-74.6454\" font-family=\"Times New Roman,serif\" font-size=\"14.00\">leaf=&#45;0</text>\r\n",
       "</g>\r\n",
       "<!-- 2&#45;&gt;5 -->\r\n",
       "<g id=\"edge7\" class=\"edge\"><title>2&#45;&gt;5</title>\r\n",
       "<path fill=\"none\" stroke=\"#0000ff\" d=\"M345.261,-57.1708C388.856,-62.237 451.032,-69.4624 490.308,-74.0267\"/>\r\n",
       "<polygon fill=\"#0000ff\" stroke=\"#0000ff\" points=\"489.922,-77.5053 500.26,-75.1831 490.731,-70.5521 489.922,-77.5053\"/>\r\n",
       "<text text-anchor=\"middle\" x=\"397.979\" y=\"-71.1454\" font-family=\"Times New Roman,serif\" font-size=\"14.00\">yes, missing</text>\r\n",
       "</g>\r\n",
       "<!-- 6 -->\r\n",
       "<g id=\"node9\" class=\"node\"><title>6</title>\r\n",
       "<polygon fill=\"none\" stroke=\"black\" points=\"579.472,-42.3454 477.472,-42.3454 477.472,-6.34544 579.472,-6.34544 579.472,-42.3454\"/>\r\n",
       "<text text-anchor=\"middle\" x=\"528.472\" y=\"-20.6454\" font-family=\"Times New Roman,serif\" font-size=\"14.00\">leaf=0.0172686</text>\r\n",
       "</g>\r\n",
       "<!-- 2&#45;&gt;6 -->\r\n",
       "<g id=\"edge8\" class=\"edge\"><title>2&#45;&gt;6</title>\r\n",
       "<path fill=\"none\" stroke=\"#ff0000\" d=\"M345.099,-42.9353C351.28,-42.0036 357.519,-41.115 363.479,-40.3454 397.634,-35.935 435.933,-32.1342 466.925,-29.3452\"/>\r\n",
       "<polygon fill=\"#ff0000\" stroke=\"#ff0000\" points=\"467.487,-32.8091 477.138,-28.4387 466.868,-25.8365 467.487,-32.8091\"/>\r\n",
       "<text text-anchor=\"middle\" x=\"397.979\" y=\"-44.1454\" font-family=\"Times New Roman,serif\" font-size=\"14.00\">no</text>\r\n",
       "</g>\r\n",
       "<!-- 7 -->\r\n",
       "<g id=\"node6\" class=\"node\"><title>7</title>\r\n",
       "<polygon fill=\"none\" stroke=\"black\" points=\"818.465,-311.345 711.465,-311.345 711.465,-275.345 818.465,-275.345 818.465,-311.345\"/>\r\n",
       "<text text-anchor=\"middle\" x=\"764.965\" y=\"-289.645\" font-family=\"Times New Roman,serif\" font-size=\"14.00\">leaf=&#45;0.0108491</text>\r\n",
       "</g>\r\n",
       "<!-- 3&#45;&gt;7 -->\r\n",
       "<g id=\"edge5\" class=\"edge\"><title>3&#45;&gt;7</title>\r\n",
       "<path fill=\"none\" stroke=\"#0000ff\" d=\"M606.254,-275.186C636.961,-278.722 671.889,-282.744 701.056,-286.102\"/>\r\n",
       "<polygon fill=\"#0000ff\" stroke=\"#0000ff\" points=\"700.781,-289.593 711.116,-287.26 701.582,-282.639 700.781,-289.593\"/>\r\n",
       "<text text-anchor=\"middle\" x=\"658.965\" y=\"-288.145\" font-family=\"Times New Roman,serif\" font-size=\"14.00\">yes, missing</text>\r\n",
       "</g>\r\n",
       "<!-- 8 -->\r\n",
       "<g id=\"node7\" class=\"node\"><title>8</title>\r\n",
       "<polygon fill=\"none\" stroke=\"black\" points=\"792.965,-257.345 736.965,-257.345 736.965,-221.345 792.965,-221.345 792.965,-257.345\"/>\r\n",
       "<text text-anchor=\"middle\" x=\"764.965\" y=\"-235.645\" font-family=\"Times New Roman,serif\" font-size=\"14.00\">leaf=&#45;0</text>\r\n",
       "</g>\r\n",
       "<!-- 3&#45;&gt;8 -->\r\n",
       "<g id=\"edge6\" class=\"edge\"><title>3&#45;&gt;8</title>\r\n",
       "<path fill=\"none\" stroke=\"#ff0000\" d=\"M606.254,-257.505C646.575,-252.862 694.174,-247.381 726.453,-243.665\"/>\r\n",
       "<polygon fill=\"#ff0000\" stroke=\"#ff0000\" points=\"727.245,-247.097 736.779,-242.476 726.444,-240.143 727.245,-247.097\"/>\r\n",
       "<text text-anchor=\"middle\" x=\"658.965\" y=\"-259.145\" font-family=\"Times New Roman,serif\" font-size=\"14.00\">no</text>\r\n",
       "</g>\r\n",
       "</g>\r\n",
       "</svg>\r\n"
      ],
      "text/plain": [
       "<graphviz.dot.Digraph at 0x75e5780>"
      ]
     },
     "execution_count": 97,
     "metadata": {},
     "output_type": "execute_result"
    }
   ],
   "source": [
    "xgb.to_graphviz(bestXGB, num_trees=41, rankdir='LR' )\n"
   ]
  },
  {
   "cell_type": "code",
   "execution_count": 98,
   "metadata": {
    "collapsed": false
   },
   "outputs": [
    {
     "data": {
      "image/svg+xml": [
       "<?xml version=\"1.0\" encoding=\"UTF-8\" standalone=\"no\"?>\r\n",
       "<!DOCTYPE svg PUBLIC \"-//W3C//DTD SVG 1.1//EN\"\r\n",
       " \"http://www.w3.org/Graphics/SVG/1.1/DTD/svg11.dtd\">\r\n",
       "<!-- Generated by graphviz version 2.38.0 (20140413.2041)\r\n",
       " -->\r\n",
       "<!-- Title: %3 Pages: 1 -->\r\n",
       "<svg width=\"636pt\" height=\"243pt\"\r\n",
       " viewBox=\"0.00 0.00 636.47 243.24\" xmlns=\"http://www.w3.org/2000/svg\" xmlns:xlink=\"http://www.w3.org/1999/xlink\">\r\n",
       "<g id=\"graph0\" class=\"graph\" transform=\"scale(1 1) rotate(0) translate(4 239.236)\">\r\n",
       "<title>%3</title>\r\n",
       "<polygon fill=\"white\" stroke=\"none\" points=\"-4,4 -4,-239.236 632.472,-239.236 632.472,4 -4,4\"/>\r\n",
       "<!-- 0 -->\r\n",
       "<g id=\"node1\" class=\"node\"><title>0</title>\r\n",
       "<ellipse fill=\"none\" stroke=\"black\" cx=\"81.2428\" cy=\"-81.2428\" rx=\"81.4863\" ry=\"81.4863\"/>\r\n",
       "<text text-anchor=\"middle\" x=\"81.2428\" y=\"-77.5428\" font-family=\"Times New Roman,serif\" font-size=\"14.00\">clump_thickness&lt;7</text>\r\n",
       "</g>\r\n",
       "<!-- 1 -->\r\n",
       "<g id=\"node2\" class=\"node\"><title>1</title>\r\n",
       "<ellipse fill=\"none\" stroke=\"black\" cx=\"345.479\" cy=\"-157.243\" rx=\"77.9862\" ry=\"77.9862\"/>\r\n",
       "<text text-anchor=\"middle\" x=\"345.479\" y=\"-153.543\" font-family=\"Times New Roman,serif\" font-size=\"14.00\">epitelial_cellsize&lt;4</text>\r\n",
       "</g>\r\n",
       "<!-- 0&#45;&gt;1 -->\r\n",
       "<g id=\"edge1\" class=\"edge\"><title>0&#45;&gt;1</title>\r\n",
       "<path fill=\"none\" stroke=\"#0000ff\" d=\"M159.504,-103.634C191.268,-112.84 228.137,-123.525 260.562,-132.922\"/>\r\n",
       "<polygon fill=\"#0000ff\" stroke=\"#0000ff\" points=\"259.892,-136.372 270.471,-135.794 261.841,-129.649 259.892,-136.372\"/>\r\n",
       "<text text-anchor=\"middle\" x=\"214.986\" y=\"-133.043\" font-family=\"Times New Roman,serif\" font-size=\"14.00\">yes, missing</text>\r\n",
       "</g>\r\n",
       "<!-- 2 -->\r\n",
       "<g id=\"node3\" class=\"node\"><title>2</title>\r\n",
       "<polygon fill=\"none\" stroke=\"black\" points=\"396.479,-61.2428 294.479,-61.2428 294.479,-25.2428 396.479,-25.2428 396.479,-61.2428\"/>\r\n",
       "<text text-anchor=\"middle\" x=\"345.479\" y=\"-39.5428\" font-family=\"Times New Roman,serif\" font-size=\"14.00\">leaf=0.0102249</text>\r\n",
       "</g>\r\n",
       "<!-- 0&#45;&gt;2 -->\r\n",
       "<g id=\"edge2\" class=\"edge\"><title>0&#45;&gt;2</title>\r\n",
       "<path fill=\"none\" stroke=\"#ff0000\" d=\"M161.99,-69.6868C201.383,-63.9785 248.124,-57.2054 284.439,-51.943\"/>\r\n",
       "<polygon fill=\"#ff0000\" stroke=\"#ff0000\" points=\"284.996,-55.3989 294.391,-50.5009 283.992,-48.4713 284.996,-55.3989\"/>\r\n",
       "<text text-anchor=\"middle\" x=\"214.986\" y=\"-71.0428\" font-family=\"Times New Roman,serif\" font-size=\"14.00\">no</text>\r\n",
       "</g>\r\n",
       "<!-- 3 -->\r\n",
       "<g id=\"node4\" class=\"node\"><title>3</title>\r\n",
       "<polygon fill=\"none\" stroke=\"black\" points=\"628.472,-202.243 528.472,-202.243 528.472,-166.243 628.472,-166.243 628.472,-202.243\"/>\r\n",
       "<text text-anchor=\"middle\" x=\"578.472\" y=\"-180.543\" font-family=\"Times New Roman,serif\" font-size=\"14.00\">leaf=&#45;0.021315</text>\r\n",
       "</g>\r\n",
       "<!-- 1&#45;&gt;3 -->\r\n",
       "<g id=\"edge3\" class=\"edge\"><title>1&#45;&gt;3</title>\r\n",
       "<path fill=\"none\" stroke=\"#0000ff\" d=\"M423.075,-166.196C454.089,-169.821 489.34,-173.941 518.322,-177.329\"/>\r\n",
       "<polygon fill=\"#0000ff\" stroke=\"#0000ff\" points=\"517.955,-180.81 528.294,-178.495 518.768,-173.857 517.955,-180.81\"/>\r\n",
       "<text text-anchor=\"middle\" x=\"475.972\" y=\"-181.043\" font-family=\"Times New Roman,serif\" font-size=\"14.00\">yes, missing</text>\r\n",
       "</g>\r\n",
       "<!-- 4 -->\r\n",
       "<g id=\"node5\" class=\"node\"><title>4</title>\r\n",
       "<polygon fill=\"none\" stroke=\"black\" points=\"606.472,-148.243 550.472,-148.243 550.472,-112.243 606.472,-112.243 606.472,-148.243\"/>\r\n",
       "<text text-anchor=\"middle\" x=\"578.472\" y=\"-126.543\" font-family=\"Times New Roman,serif\" font-size=\"14.00\">leaf=&#45;0</text>\r\n",
       "</g>\r\n",
       "<!-- 1&#45;&gt;4 -->\r\n",
       "<g id=\"edge4\" class=\"edge\"><title>1&#45;&gt;4</title>\r\n",
       "<path fill=\"none\" stroke=\"#ff0000\" d=\"M423.075,-148.29C462.484,-143.683 508.734,-138.277 540.269,-134.591\"/>\r\n",
       "<polygon fill=\"#ff0000\" stroke=\"#ff0000\" points=\"540.842,-138.048 550.368,-133.411 540.03,-131.096 540.842,-138.048\"/>\r\n",
       "<text text-anchor=\"middle\" x=\"475.972\" y=\"-150.043\" font-family=\"Times New Roman,serif\" font-size=\"14.00\">no</text>\r\n",
       "</g>\r\n",
       "</g>\r\n",
       "</svg>\r\n"
      ],
      "text/plain": [
       "<graphviz.dot.Digraph at 0x75e3d30>"
      ]
     },
     "execution_count": 98,
     "metadata": {},
     "output_type": "execute_result"
    }
   ],
   "source": [
    "xgb.to_graphviz(bestXGB, num_trees=42, rankdir='LR' )\n"
   ]
  },
  {
   "cell_type": "code",
   "execution_count": 99,
   "metadata": {
    "collapsed": false
   },
   "outputs": [
    {
     "data": {
      "image/svg+xml": [
       "<?xml version=\"1.0\" encoding=\"UTF-8\" standalone=\"no\"?>\r\n",
       "<!DOCTYPE svg PUBLIC \"-//W3C//DTD SVG 1.1//EN\"\r\n",
       " \"http://www.w3.org/Graphics/SVG/1.1/DTD/svg11.dtd\">\r\n",
       "<!-- Generated by graphviz version 2.38.0 (20140413.2041)\r\n",
       " -->\r\n",
       "<!-- Title: %3 Pages: 1 -->\r\n",
       "<svg width=\"606pt\" height=\"226pt\"\r\n",
       " viewBox=\"0.00 0.00 606.48 225.74\" xmlns=\"http://www.w3.org/2000/svg\" xmlns:xlink=\"http://www.w3.org/1999/xlink\">\r\n",
       "<g id=\"graph0\" class=\"graph\" transform=\"scale(1 1) rotate(0) translate(4 221.738)\">\r\n",
       "<title>%3</title>\r\n",
       "<polygon fill=\"white\" stroke=\"none\" points=\"-4,4 -4,-221.738 602.475,-221.738 602.475,4 -4,4\"/>\r\n",
       "<!-- 0 -->\r\n",
       "<g id=\"node1\" class=\"node\"><title>0</title>\r\n",
       "<ellipse fill=\"none\" stroke=\"black\" cx=\"58.4948\" cy=\"-159.243\" rx=\"58.4896\" ry=\"58.4896\"/>\r\n",
       "<text text-anchor=\"middle\" x=\"58.4948\" y=\"-155.543\" font-family=\"Times New Roman,serif\" font-size=\"14.00\">cell_shape&lt;3</text>\r\n",
       "</g>\r\n",
       "<!-- 1 -->\r\n",
       "<g id=\"node2\" class=\"node\"><title>1</title>\r\n",
       "<polygon fill=\"none\" stroke=\"black\" points=\"356.732,-216.243 249.732,-216.243 249.732,-180.243 356.732,-180.243 356.732,-216.243\"/>\r\n",
       "<text text-anchor=\"middle\" x=\"303.232\" y=\"-194.543\" font-family=\"Times New Roman,serif\" font-size=\"14.00\">leaf=&#45;0.0115702</text>\r\n",
       "</g>\r\n",
       "<!-- 0&#45;&gt;1 -->\r\n",
       "<g id=\"edge1\" class=\"edge\"><title>0&#45;&gt;1</title>\r\n",
       "<path fill=\"none\" stroke=\"#0000ff\" d=\"M116.406,-168.387C153.324,-174.318 201.451,-182.051 239.477,-188.16\"/>\r\n",
       "<polygon fill=\"#0000ff\" stroke=\"#0000ff\" points=\"238.985,-191.626 249.414,-189.757 240.095,-184.714 238.985,-191.626\"/>\r\n",
       "<text text-anchor=\"middle\" x=\"169.49\" y=\"-185.043\" font-family=\"Times New Roman,serif\" font-size=\"14.00\">yes, missing</text>\r\n",
       "</g>\r\n",
       "<!-- 2 -->\r\n",
       "<g id=\"node3\" class=\"node\"><title>2</title>\r\n",
       "<ellipse fill=\"none\" stroke=\"black\" cx=\"303.232\" cy=\"-81.2428\" rx=\"81.4863\" ry=\"81.4863\"/>\r\n",
       "<text text-anchor=\"middle\" x=\"303.232\" y=\"-77.5428\" font-family=\"Times New Roman,serif\" font-size=\"14.00\">bland_chromatin&lt;3</text>\r\n",
       "</g>\r\n",
       "<!-- 0&#45;&gt;2 -->\r\n",
       "<g id=\"edge2\" class=\"edge\"><title>0&#45;&gt;2</title>\r\n",
       "<path fill=\"none\" stroke=\"#ff0000\" d=\"M114.576,-141.543C144.494,-131.93 182.164,-119.825 215.888,-108.988\"/>\r\n",
       "<polygon fill=\"#ff0000\" stroke=\"#ff0000\" points=\"217.299,-112.211 225.749,-105.82 215.158,-105.547 217.299,-112.211\"/>\r\n",
       "<text text-anchor=\"middle\" x=\"169.49\" y=\"-137.043\" font-family=\"Times New Roman,serif\" font-size=\"14.00\">no</text>\r\n",
       "</g>\r\n",
       "<!-- 3 -->\r\n",
       "<g id=\"node4\" class=\"node\"><title>3</title>\r\n",
       "<polygon fill=\"none\" stroke=\"black\" points=\"571.975,-126.243 515.975,-126.243 515.975,-90.2428 571.975,-90.2428 571.975,-126.243\"/>\r\n",
       "<text text-anchor=\"middle\" x=\"543.975\" y=\"-104.543\" font-family=\"Times New Roman,serif\" font-size=\"14.00\">leaf=&#45;0</text>\r\n",
       "</g>\r\n",
       "<!-- 2&#45;&gt;3 -->\r\n",
       "<g id=\"edge3\" class=\"edge\"><title>2&#45;&gt;3</title>\r\n",
       "<path fill=\"none\" stroke=\"#0000ff\" d=\"M384.062,-90.2709C425.161,-94.9189 473.309,-100.364 505.747,-104.033\"/>\r\n",
       "<polygon fill=\"#0000ff\" stroke=\"#0000ff\" points=\"505.367,-107.512 515.697,-105.158 506.154,-100.556 505.367,-107.512\"/>\r\n",
       "<text text-anchor=\"middle\" x=\"436.975\" y=\"-103.043\" font-family=\"Times New Roman,serif\" font-size=\"14.00\">yes, missing</text>\r\n",
       "</g>\r\n",
       "<!-- 4 -->\r\n",
       "<g id=\"node5\" class=\"node\"><title>4</title>\r\n",
       "<polygon fill=\"none\" stroke=\"black\" points=\"598.475,-72.2428 489.475,-72.2428 489.475,-36.2428 598.475,-36.2428 598.475,-72.2428\"/>\r\n",
       "<text text-anchor=\"middle\" x=\"543.975\" y=\"-50.5428\" font-family=\"Times New Roman,serif\" font-size=\"14.00\">leaf=0.00872803</text>\r\n",
       "</g>\r\n",
       "<!-- 2&#45;&gt;4 -->\r\n",
       "<g id=\"edge4\" class=\"edge\"><title>2&#45;&gt;4</title>\r\n",
       "<path fill=\"none\" stroke=\"#ff0000\" d=\"M384.062,-72.2146C414.983,-68.7177 449.894,-64.7695 479.103,-61.4662\"/>\r\n",
       "<polygon fill=\"#ff0000\" stroke=\"#ff0000\" points=\"479.638,-64.9282 489.181,-60.3265 478.851,-57.9725 479.638,-64.9282\"/>\r\n",
       "<text text-anchor=\"middle\" x=\"436.975\" y=\"-73.0428\" font-family=\"Times New Roman,serif\" font-size=\"14.00\">no</text>\r\n",
       "</g>\r\n",
       "</g>\r\n",
       "</svg>\r\n"
      ],
      "text/plain": [
       "<graphviz.dot.Digraph at 0x75e3550>"
      ]
     },
     "execution_count": 99,
     "metadata": {},
     "output_type": "execute_result"
    }
   ],
   "source": [
    "xgb.to_graphviz(bestXGB, num_trees=43, rankdir='LR' )\n"
   ]
  },
  {
   "cell_type": "code",
   "execution_count": 100,
   "metadata": {
    "collapsed": false
   },
   "outputs": [
    {
     "data": {
      "image/svg+xml": [
       "<?xml version=\"1.0\" encoding=\"UTF-8\" standalone=\"no\"?>\r\n",
       "<!DOCTYPE svg PUBLIC \"-//W3C//DTD SVG 1.1//EN\"\r\n",
       " \"http://www.w3.org/Graphics/SVG/1.1/DTD/svg11.dtd\">\r\n",
       "<!-- Generated by graphviz version 2.38.0 (20140413.2041)\r\n",
       " -->\r\n",
       "<!-- Title: %3 Pages: 1 -->\r\n",
       "<svg width=\"905pt\" height=\"410pt\"\r\n",
       " viewBox=\"0.00 0.00 905.26 409.99\" xmlns=\"http://www.w3.org/2000/svg\" xmlns:xlink=\"http://www.w3.org/1999/xlink\">\r\n",
       "<g id=\"graph0\" class=\"graph\" transform=\"scale(1 1) rotate(0) translate(4 405.986)\">\r\n",
       "<title>%3</title>\r\n",
       "<polygon fill=\"white\" stroke=\"none\" points=\"-4,4 -4,-405.986 901.258,-405.986 901.258,4 -4,4\"/>\r\n",
       "<!-- 0 -->\r\n",
       "<g id=\"node1\" class=\"node\"><title>0</title>\r\n",
       "<ellipse fill=\"none\" stroke=\"black\" cx=\"68.8939\" cy=\"-187.993\" rx=\"68.7879\" ry=\"68.7879\"/>\r\n",
       "<text text-anchor=\"middle\" x=\"68.8939\" y=\"-184.293\" font-family=\"Times New Roman,serif\" font-size=\"14.00\">bare_nuclei&lt;1.5</text>\r\n",
       "</g>\r\n",
       "<!-- 1 -->\r\n",
       "<g id=\"node2\" class=\"node\"><title>1</title>\r\n",
       "<ellipse fill=\"none\" stroke=\"black\" cx=\"330.53\" cy=\"-261.993\" rx=\"87.9851\" ry=\"87.9851\"/>\r\n",
       "<text text-anchor=\"middle\" x=\"330.53\" y=\"-258.293\" font-family=\"Times New Roman,serif\" font-size=\"14.00\">marginal_adhesion&lt;4</text>\r\n",
       "</g>\r\n",
       "<!-- 0&#45;&gt;1 -->\r\n",
       "<g id=\"edge1\" class=\"edge\"><title>0&#45;&gt;1</title>\r\n",
       "<path fill=\"none\" stroke=\"#0000ff\" d=\"M135.411,-206.666C165.901,-215.357 202.723,-225.851 236.065,-235.354\"/>\r\n",
       "<polygon fill=\"#0000ff\" stroke=\"#0000ff\" points=\"235.251,-238.762 245.827,-238.137 237.17,-232.03 235.251,-238.762\"/>\r\n",
       "<text text-anchor=\"middle\" x=\"190.288\" y=\"-235.793\" font-family=\"Times New Roman,serif\" font-size=\"14.00\">yes, missing</text>\r\n",
       "</g>\r\n",
       "<!-- 2 -->\r\n",
       "<g id=\"node3\" class=\"node\"><title>2</title>\r\n",
       "<ellipse fill=\"none\" stroke=\"black\" cx=\"330.53\" cy=\"-77.9931\" rx=\"77.9862\" ry=\"77.9862\"/>\r\n",
       "<text text-anchor=\"middle\" x=\"330.53\" y=\"-74.2931\" font-family=\"Times New Roman,serif\" font-size=\"14.00\">epitelial_cellsize&lt;3</text>\r\n",
       "</g>\r\n",
       "<!-- 0&#45;&gt;2 -->\r\n",
       "<g id=\"edge2\" class=\"edge\"><title>0&#45;&gt;2</title>\r\n",
       "<path fill=\"none\" stroke=\"#ff0000\" d=\"M132.745,-161.365C167.748,-146.535 211.696,-127.916 249.176,-112.036\"/>\r\n",
       "<polygon fill=\"#ff0000\" stroke=\"#ff0000\" points=\"250.714,-115.186 258.556,-108.062 247.983,-108.741 250.714,-115.186\"/>\r\n",
       "<text text-anchor=\"middle\" x=\"190.288\" y=\"-153.793\" font-family=\"Times New Roman,serif\" font-size=\"14.00\">no</text>\r\n",
       "</g>\r\n",
       "<!-- 3 -->\r\n",
       "<g id=\"node4\" class=\"node\"><title>3</title>\r\n",
       "<ellipse fill=\"none\" stroke=\"black\" cx=\"601.265\" cy=\"-323.993\" rx=\"77.9862\" ry=\"77.9862\"/>\r\n",
       "<text text-anchor=\"middle\" x=\"601.265\" y=\"-320.293\" font-family=\"Times New Roman,serif\" font-size=\"14.00\">normal_nucleoli&lt;4</text>\r\n",
       "</g>\r\n",
       "<!-- 1&#45;&gt;3 -->\r\n",
       "<g id=\"edge3\" class=\"edge\"><title>1&#45;&gt;3</title>\r\n",
       "<path fill=\"none\" stroke=\"#0000ff\" d=\"M416.191,-281.525C447.704,-288.796 483.464,-297.046 515.029,-304.328\"/>\r\n",
       "<polygon fill=\"#0000ff\" stroke=\"#0000ff\" points=\"514.588,-307.818 525.119,-306.656 516.162,-300.998 514.588,-307.818\"/>\r\n",
       "<text text-anchor=\"middle\" x=\"470.772\" y=\"-306.793\" font-family=\"Times New Roman,serif\" font-size=\"14.00\">yes, missing</text>\r\n",
       "</g>\r\n",
       "<!-- 4 -->\r\n",
       "<g id=\"node5\" class=\"node\"><title>4</title>\r\n",
       "<polygon fill=\"none\" stroke=\"black\" points=\"629.265,-227.993 573.265,-227.993 573.265,-191.993 629.265,-191.993 629.265,-227.993\"/>\r\n",
       "<text text-anchor=\"middle\" x=\"601.265\" y=\"-206.293\" font-family=\"Times New Roman,serif\" font-size=\"14.00\">leaf=&#45;0</text>\r\n",
       "</g>\r\n",
       "<!-- 1&#45;&gt;4 -->\r\n",
       "<g id=\"edge4\" class=\"edge\"><title>1&#45;&gt;4</title>\r\n",
       "<path fill=\"none\" stroke=\"#ff0000\" d=\"M416.929,-245.469C466.098,-235.954 525.401,-224.479 562.977,-217.208\"/>\r\n",
       "<polygon fill=\"#ff0000\" stroke=\"#ff0000\" points=\"563.82,-220.61 572.973,-215.274 562.49,-213.738 563.82,-220.61\"/>\r\n",
       "<text text-anchor=\"middle\" x=\"470.772\" y=\"-244.793\" font-family=\"Times New Roman,serif\" font-size=\"14.00\">no</text>\r\n",
       "</g>\r\n",
       "<!-- 5 -->\r\n",
       "<g id=\"node8\" class=\"node\"><title>5</title>\r\n",
       "<polygon fill=\"none\" stroke=\"black\" points=\"629.265,-140.993 573.265,-140.993 573.265,-104.993 629.265,-104.993 629.265,-140.993\"/>\r\n",
       "<text text-anchor=\"middle\" x=\"601.265\" y=\"-119.293\" font-family=\"Times New Roman,serif\" font-size=\"14.00\">leaf=&#45;0</text>\r\n",
       "</g>\r\n",
       "<!-- 2&#45;&gt;5 -->\r\n",
       "<g id=\"edge7\" class=\"edge\"><title>2&#45;&gt;5</title>\r\n",
       "<path fill=\"none\" stroke=\"#0000ff\" d=\"M407.82,-90.7679C458.673,-99.2834 523.27,-110.1 563.182,-116.784\"/>\r\n",
       "<polygon fill=\"#0000ff\" stroke=\"#0000ff\" points=\"562.823,-120.272 573.264,-118.472 563.979,-113.368 562.823,-120.272\"/>\r\n",
       "<text text-anchor=\"middle\" x=\"470.772\" y=\"-111.793\" font-family=\"Times New Roman,serif\" font-size=\"14.00\">yes, missing</text>\r\n",
       "</g>\r\n",
       "<!-- 6 -->\r\n",
       "<g id=\"node9\" class=\"node\"><title>6</title>\r\n",
       "<polygon fill=\"none\" stroke=\"black\" points=\"652.265,-86.9931 550.265,-86.9931 550.265,-50.9931 652.265,-50.9931 652.265,-86.9931\"/>\r\n",
       "<text text-anchor=\"middle\" x=\"601.265\" y=\"-65.2931\" font-family=\"Times New Roman,serif\" font-size=\"14.00\">leaf=0.0175013</text>\r\n",
       "</g>\r\n",
       "<!-- 2&#45;&gt;6 -->\r\n",
       "<g id=\"edge8\" class=\"edge\"><title>2&#45;&gt;6</title>\r\n",
       "<path fill=\"none\" stroke=\"#ff0000\" d=\"M408.539,-75.414C450.255,-74.017 501.052,-72.3158 539.877,-71.0155\"/>\r\n",
       "<polygon fill=\"#ff0000\" stroke=\"#ff0000\" points=\"540.106,-74.5099 549.983,-70.677 539.871,-67.5138 540.106,-74.5099\"/>\r\n",
       "<text text-anchor=\"middle\" x=\"470.772\" y=\"-78.7931\" font-family=\"Times New Roman,serif\" font-size=\"14.00\">no</text>\r\n",
       "</g>\r\n",
       "<!-- 7 -->\r\n",
       "<g id=\"node6\" class=\"node\"><title>7</title>\r\n",
       "<polygon fill=\"none\" stroke=\"black\" points=\"897.258,-368.993 784.258,-368.993 784.258,-332.993 897.258,-332.993 897.258,-368.993\"/>\r\n",
       "<text text-anchor=\"middle\" x=\"840.758\" y=\"-347.293\" font-family=\"Times New Roman,serif\" font-size=\"14.00\">leaf=&#45;0.00610998</text>\r\n",
       "</g>\r\n",
       "<!-- 3&#45;&gt;7 -->\r\n",
       "<g id=\"edge5\" class=\"edge\"><title>3&#45;&gt;7</title>\r\n",
       "<path fill=\"none\" stroke=\"#0000ff\" d=\"M679.045,-332.722C709.594,-336.195 744.396,-340.152 773.785,-343.493\"/>\r\n",
       "<polygon fill=\"#0000ff\" stroke=\"#0000ff\" points=\"773.607,-346.995 783.938,-344.647 774.398,-340.04 773.607,-346.995\"/>\r\n",
       "<text text-anchor=\"middle\" x=\"731.758\" y=\"-345.793\" font-family=\"Times New Roman,serif\" font-size=\"14.00\">yes, missing</text>\r\n",
       "</g>\r\n",
       "<!-- 8 -->\r\n",
       "<g id=\"node7\" class=\"node\"><title>8</title>\r\n",
       "<polygon fill=\"none\" stroke=\"black\" points=\"868.758,-314.993 812.758,-314.993 812.758,-278.993 868.758,-278.993 868.758,-314.993\"/>\r\n",
       "<text text-anchor=\"middle\" x=\"840.758\" y=\"-293.293\" font-family=\"Times New Roman,serif\" font-size=\"14.00\">leaf=&#45;0</text>\r\n",
       "</g>\r\n",
       "<!-- 3&#45;&gt;8 -->\r\n",
       "<g id=\"edge6\" class=\"edge\"><title>3&#45;&gt;8</title>\r\n",
       "<path fill=\"none\" stroke=\"#ff0000\" d=\"M679.045,-315.264C720.378,-310.565 769.496,-304.981 802.457,-301.234\"/>\r\n",
       "<polygon fill=\"#ff0000\" stroke=\"#ff0000\" points=\"803.02,-304.692 812.561,-300.085 802.23,-297.737 803.02,-304.692\"/>\r\n",
       "<text text-anchor=\"middle\" x=\"731.758\" y=\"-316.793\" font-family=\"Times New Roman,serif\" font-size=\"14.00\">no</text>\r\n",
       "</g>\r\n",
       "</g>\r\n",
       "</svg>\r\n"
      ],
      "text/plain": [
       "<graphviz.dot.Digraph at 0x75e3470>"
      ]
     },
     "execution_count": 100,
     "metadata": {},
     "output_type": "execute_result"
    }
   ],
   "source": [
    "xgb.to_graphviz(bestXGB, num_trees=44, rankdir='LR' )\n"
   ]
  },
  {
   "cell_type": "code",
   "execution_count": 101,
   "metadata": {
    "collapsed": false
   },
   "outputs": [
    {
     "data": {
      "image/svg+xml": [
       "<?xml version=\"1.0\" encoding=\"UTF-8\" standalone=\"no\"?>\r\n",
       "<!DOCTYPE svg PUBLIC \"-//W3C//DTD SVG 1.1//EN\"\r\n",
       " \"http://www.w3.org/Graphics/SVG/1.1/DTD/svg11.dtd\">\r\n",
       "<!-- Generated by graphviz version 2.38.0 (20140413.2041)\r\n",
       " -->\r\n",
       "<!-- Title: %3 Pages: 1 -->\r\n",
       "<svg width=\"911pt\" height=\"341pt\"\r\n",
       " viewBox=\"0.00 0.00 910.96 341.24\" xmlns=\"http://www.w3.org/2000/svg\" xmlns:xlink=\"http://www.w3.org/1999/xlink\">\r\n",
       "<g id=\"graph0\" class=\"graph\" transform=\"scale(1 1) rotate(0) translate(4 337.236)\">\r\n",
       "<title>%3</title>\r\n",
       "<polygon fill=\"white\" stroke=\"none\" points=\"-4,4 -4,-337.236 906.957,-337.236 906.957,4 -4,4\"/>\r\n",
       "<!-- 0 -->\r\n",
       "<g id=\"node1\" class=\"node\"><title>0</title>\r\n",
       "<ellipse fill=\"none\" stroke=\"black\" cx=\"81.2428\" cy=\"-81.2428\" rx=\"81.4863\" ry=\"81.4863\"/>\r\n",
       "<text text-anchor=\"middle\" x=\"81.2428\" y=\"-77.5428\" font-family=\"Times New Roman,serif\" font-size=\"14.00\">clump_thickness&lt;7</text>\r\n",
       "</g>\r\n",
       "<!-- 1 -->\r\n",
       "<g id=\"node2\" class=\"node\"><title>1</title>\r\n",
       "<ellipse fill=\"none\" stroke=\"black\" cx=\"348.728\" cy=\"-160.243\" rx=\"81.4863\" ry=\"81.4863\"/>\r\n",
       "<text text-anchor=\"middle\" x=\"348.728\" y=\"-156.543\" font-family=\"Times New Roman,serif\" font-size=\"14.00\">bland_chromatin&lt;5</text>\r\n",
       "</g>\r\n",
       "<!-- 0&#45;&gt;1 -->\r\n",
       "<g id=\"edge1\" class=\"edge\"><title>0&#45;&gt;1</title>\r\n",
       "<path fill=\"none\" stroke=\"#0000ff\" d=\"M159.389,-104.199C191.022,-113.612 227.797,-124.555 260.412,-134.26\"/>\r\n",
       "<polygon fill=\"#0000ff\" stroke=\"#0000ff\" points=\"259.807,-137.732 270.39,-137.229 261.803,-131.023 259.807,-137.732\"/>\r\n",
       "<text text-anchor=\"middle\" x=\"214.986\" y=\"-134.043\" font-family=\"Times New Roman,serif\" font-size=\"14.00\">yes, missing</text>\r\n",
       "</g>\r\n",
       "<!-- 2 -->\r\n",
       "<g id=\"node3\" class=\"node\"><title>2</title>\r\n",
       "<polygon fill=\"none\" stroke=\"black\" points=\"403.228,-61.2428 294.228,-61.2428 294.228,-25.2428 403.228,-25.2428 403.228,-61.2428\"/>\r\n",
       "<text text-anchor=\"middle\" x=\"348.728\" y=\"-39.5428\" font-family=\"Times New Roman,serif\" font-size=\"14.00\">leaf=0.00979059</text>\r\n",
       "</g>\r\n",
       "<!-- 0&#45;&gt;2 -->\r\n",
       "<g id=\"edge2\" class=\"edge\"><title>0&#45;&gt;2</title>\r\n",
       "<path fill=\"none\" stroke=\"#ff0000\" d=\"M161.897,-69.8415C200.988,-64.2463 247.433,-57.5985 284.111,-52.3486\"/>\r\n",
       "<polygon fill=\"#ff0000\" stroke=\"#ff0000\" points=\"284.78,-55.7886 294.183,-50.9069 283.788,-48.8592 284.78,-55.7886\"/>\r\n",
       "<text text-anchor=\"middle\" x=\"214.986\" y=\"-71.0428\" font-family=\"Times New Roman,serif\" font-size=\"14.00\">no</text>\r\n",
       "</g>\r\n",
       "<!-- 3 -->\r\n",
       "<g id=\"node4\" class=\"node\"><title>3</title>\r\n",
       "<ellipse fill=\"none\" stroke=\"black\" cx=\"612.964\" cy=\"-255.243\" rx=\"77.9862\" ry=\"77.9862\"/>\r\n",
       "<text text-anchor=\"middle\" x=\"612.964\" y=\"-251.543\" font-family=\"Times New Roman,serif\" font-size=\"14.00\">normal_nucleoli&lt;6</text>\r\n",
       "</g>\r\n",
       "<!-- 1&#45;&gt;3 -->\r\n",
       "<g id=\"edge3\" class=\"edge\"><title>1&#45;&gt;3</title>\r\n",
       "<path fill=\"none\" stroke=\"#0000ff\" d=\"M425.578,-187.721C458.207,-199.541 496.426,-213.387 529.732,-225.453\"/>\r\n",
       "<polygon fill=\"#0000ff\" stroke=\"#0000ff\" points=\"528.848,-228.855 539.442,-228.97 531.232,-222.273 528.848,-228.855\"/>\r\n",
       "<text text-anchor=\"middle\" x=\"482.471\" y=\"-223.043\" font-family=\"Times New Roman,serif\" font-size=\"14.00\">yes, missing</text>\r\n",
       "</g>\r\n",
       "<!-- 4 -->\r\n",
       "<g id=\"node5\" class=\"node\"><title>4</title>\r\n",
       "<polygon fill=\"none\" stroke=\"black\" points=\"640.964,-159.243 584.964,-159.243 584.964,-123.243 640.964,-123.243 640.964,-159.243\"/>\r\n",
       "<text text-anchor=\"middle\" x=\"612.964\" y=\"-137.543\" font-family=\"Times New Roman,serif\" font-size=\"14.00\">leaf=&#45;0</text>\r\n",
       "</g>\r\n",
       "<!-- 1&#45;&gt;4 -->\r\n",
       "<g id=\"edge4\" class=\"edge\"><title>1&#45;&gt;4</title>\r\n",
       "<path fill=\"none\" stroke=\"#ff0000\" d=\"M429.833,-154.439C478.158,-150.938 537.436,-146.643 574.965,-143.924\"/>\r\n",
       "<polygon fill=\"#ff0000\" stroke=\"#ff0000\" points=\"575.225,-147.414 584.946,-143.2 574.719,-140.432 575.225,-147.414\"/>\r\n",
       "<text text-anchor=\"middle\" x=\"482.471\" y=\"-157.043\" font-family=\"Times New Roman,serif\" font-size=\"14.00\">no</text>\r\n",
       "</g>\r\n",
       "<!-- 5 -->\r\n",
       "<g id=\"node6\" class=\"node\"><title>5</title>\r\n",
       "<polygon fill=\"none\" stroke=\"black\" points=\"902.957,-300.243 795.957,-300.243 795.957,-264.243 902.957,-264.243 902.957,-300.243\"/>\r\n",
       "<text text-anchor=\"middle\" x=\"849.457\" y=\"-278.543\" font-family=\"Times New Roman,serif\" font-size=\"14.00\">leaf=&#45;0.0267497</text>\r\n",
       "</g>\r\n",
       "<!-- 3&#45;&gt;5 -->\r\n",
       "<g id=\"edge5\" class=\"edge\"><title>3&#45;&gt;5</title>\r\n",
       "<path fill=\"none\" stroke=\"#0000ff\" d=\"M690.746,-264.084C721.453,-267.619 756.381,-271.641 785.548,-274.999\"/>\r\n",
       "<polygon fill=\"#0000ff\" stroke=\"#0000ff\" points=\"785.274,-278.491 795.609,-276.158 786.075,-271.537 785.274,-278.491\"/>\r\n",
       "<text text-anchor=\"middle\" x=\"743.457\" y=\"-278.043\" font-family=\"Times New Roman,serif\" font-size=\"14.00\">yes, missing</text>\r\n",
       "</g>\r\n",
       "<!-- 6 -->\r\n",
       "<g id=\"node7\" class=\"node\"><title>6</title>\r\n",
       "<polygon fill=\"none\" stroke=\"black\" points=\"877.457,-246.243 821.457,-246.243 821.457,-210.243 877.457,-210.243 877.457,-246.243\"/>\r\n",
       "<text text-anchor=\"middle\" x=\"849.457\" y=\"-224.543\" font-family=\"Times New Roman,serif\" font-size=\"14.00\">leaf=&#45;0</text>\r\n",
       "</g>\r\n",
       "<!-- 3&#45;&gt;6 -->\r\n",
       "<g id=\"edge6\" class=\"edge\"><title>3&#45;&gt;6</title>\r\n",
       "<path fill=\"none\" stroke=\"#ff0000\" d=\"M690.746,-246.402C731.068,-241.759 778.667,-236.279 810.945,-232.562\"/>\r\n",
       "<polygon fill=\"#ff0000\" stroke=\"#ff0000\" points=\"811.738,-235.994 821.272,-231.373 810.937,-229.04 811.738,-235.994\"/>\r\n",
       "<text text-anchor=\"middle\" x=\"743.457\" y=\"-248.043\" font-family=\"Times New Roman,serif\" font-size=\"14.00\">no</text>\r\n",
       "</g>\r\n",
       "</g>\r\n",
       "</svg>\r\n"
      ],
      "text/plain": [
       "<graphviz.dot.Digraph at 0x75d2d30>"
      ]
     },
     "execution_count": 101,
     "metadata": {},
     "output_type": "execute_result"
    }
   ],
   "source": [
    "xgb.to_graphviz(bestXGB, num_trees=45, rankdir='LR' )\n"
   ]
  },
  {
   "cell_type": "code",
   "execution_count": 102,
   "metadata": {
    "collapsed": false
   },
   "outputs": [
    {
     "data": {
      "image/svg+xml": [
       "<?xml version=\"1.0\" encoding=\"UTF-8\" standalone=\"no\"?>\r\n",
       "<!DOCTYPE svg PUBLIC \"-//W3C//DTD SVG 1.1//EN\"\r\n",
       " \"http://www.w3.org/Graphics/SVG/1.1/DTD/svg11.dtd\">\r\n",
       "<!-- Generated by graphviz version 2.38.0 (20140413.2041)\r\n",
       " -->\r\n",
       "<!-- Title: %3 Pages: 1 -->\r\n",
       "<svg width=\"621pt\" height=\"302pt\"\r\n",
       " viewBox=\"0.00 0.00 620.77 301.79\" xmlns=\"http://www.w3.org/2000/svg\" xmlns:xlink=\"http://www.w3.org/1999/xlink\">\r\n",
       "<g id=\"graph0\" class=\"graph\" transform=\"scale(1 1) rotate(0) translate(4 297.788)\">\r\n",
       "<title>%3</title>\r\n",
       "<polygon fill=\"white\" stroke=\"none\" points=\"-4,4 -4,-297.788 616.774,-297.788 616.774,4 -4,4\"/>\r\n",
       "<!-- 0 -->\r\n",
       "<g id=\"node1\" class=\"node\"><title>0</title>\r\n",
       "<ellipse fill=\"none\" stroke=\"black\" cx=\"77.9931\" cy=\"-160.894\" rx=\"77.9862\" ry=\"77.9862\"/>\r\n",
       "<text text-anchor=\"middle\" x=\"77.9931\" y=\"-157.194\" font-family=\"Times New Roman,serif\" font-size=\"14.00\">normal_nucleoli&lt;3</text>\r\n",
       "</g>\r\n",
       "<!-- 1 -->\r\n",
       "<g id=\"node2\" class=\"node\"><title>1</title>\r\n",
       "<ellipse fill=\"none\" stroke=\"black\" cx=\"329.88\" cy=\"-224.894\" rx=\"68.7879\" ry=\"68.7879\"/>\r\n",
       "<text text-anchor=\"middle\" x=\"329.88\" y=\"-221.194\" font-family=\"Times New Roman,serif\" font-size=\"14.00\">bare_nuclei&lt;8.5</text>\r\n",
       "</g>\r\n",
       "<!-- 0&#45;&gt;1 -->\r\n",
       "<g id=\"edge1\" class=\"edge\"><title>0&#45;&gt;1</title>\r\n",
       "<path fill=\"none\" stroke=\"#0000ff\" d=\"M153.629,-180.009C184.904,-188.019 221.227,-197.322 252.668,-205.375\"/>\r\n",
       "<polygon fill=\"#0000ff\" stroke=\"#0000ff\" points=\"252.136,-208.851 262.692,-207.942 253.873,-202.07 252.136,-208.851\"/>\r\n",
       "<text text-anchor=\"middle\" x=\"208.486\" y=\"-205.694\" font-family=\"Times New Roman,serif\" font-size=\"14.00\">yes, missing</text>\r\n",
       "</g>\r\n",
       "<!-- 2 -->\r\n",
       "<g id=\"node3\" class=\"node\"><title>2</title>\r\n",
       "<ellipse fill=\"none\" stroke=\"black\" cx=\"329.88\" cy=\"-68.8939\" rx=\"68.7879\" ry=\"68.7879\"/>\r\n",
       "<text text-anchor=\"middle\" x=\"329.88\" y=\"-65.1939\" font-family=\"Times New Roman,serif\" font-size=\"14.00\">bare_nuclei&lt;1.5</text>\r\n",
       "</g>\r\n",
       "<!-- 0&#45;&gt;2 -->\r\n",
       "<g id=\"edge2\" class=\"edge\"><title>0&#45;&gt;2</title>\r\n",
       "<path fill=\"none\" stroke=\"#ff0000\" d=\"M151.606,-134.16C184.264,-122.137 222.743,-107.97 255.492,-95.913\"/>\r\n",
       "<polygon fill=\"#ff0000\" stroke=\"#ff0000\" points=\"256.836,-99.1477 265.011,-92.4082 254.418,-92.5787 256.836,-99.1477\"/>\r\n",
       "<text text-anchor=\"middle\" x=\"208.486\" y=\"-129.694\" font-family=\"Times New Roman,serif\" font-size=\"14.00\">no</text>\r\n",
       "</g>\r\n",
       "<!-- 3 -->\r\n",
       "<g id=\"node4\" class=\"node\"><title>3</title>\r\n",
       "<polygon fill=\"none\" stroke=\"black\" points=\"611.774,-270.894 504.774,-270.894 504.774,-234.894 611.774,-234.894 611.774,-270.894\"/>\r\n",
       "<text text-anchor=\"middle\" x=\"558.274\" y=\"-249.194\" font-family=\"Times New Roman,serif\" font-size=\"14.00\">leaf=&#45;0.0156395</text>\r\n",
       "</g>\r\n",
       "<!-- 1&#45;&gt;3 -->\r\n",
       "<g id=\"edge3\" class=\"edge\"><title>1&#45;&gt;3</title>\r\n",
       "<path fill=\"none\" stroke=\"#0000ff\" d=\"M398.499,-233.257C428.919,-237.019 464.611,-241.434 494.442,-245.123\"/>\r\n",
       "<polygon fill=\"#0000ff\" stroke=\"#0000ff\" points=\"494.376,-248.641 504.731,-246.395 495.236,-241.694 494.376,-248.641\"/>\r\n",
       "<text text-anchor=\"middle\" x=\"451.274\" y=\"-246.694\" font-family=\"Times New Roman,serif\" font-size=\"14.00\">yes, missing</text>\r\n",
       "</g>\r\n",
       "<!-- 4 -->\r\n",
       "<g id=\"node5\" class=\"node\"><title>4</title>\r\n",
       "<polygon fill=\"none\" stroke=\"black\" points=\"586.274,-216.894 530.274,-216.894 530.274,-180.894 586.274,-180.894 586.274,-216.894\"/>\r\n",
       "<text text-anchor=\"middle\" x=\"558.274\" y=\"-195.194\" font-family=\"Times New Roman,serif\" font-size=\"14.00\">leaf=&#45;0</text>\r\n",
       "</g>\r\n",
       "<!-- 1&#45;&gt;4 -->\r\n",
       "<g id=\"edge4\" class=\"edge\"><title>1&#45;&gt;4</title>\r\n",
       "<path fill=\"none\" stroke=\"#ff0000\" d=\"M398.499,-217.128C438.355,-212.551 487.261,-206.934 520.177,-203.154\"/>\r\n",
       "<polygon fill=\"#ff0000\" stroke=\"#ff0000\" points=\"520.735,-206.613 530.271,-201.995 519.937,-199.659 520.735,-206.613\"/>\r\n",
       "<text text-anchor=\"middle\" x=\"451.274\" y=\"-218.694\" font-family=\"Times New Roman,serif\" font-size=\"14.00\">no</text>\r\n",
       "</g>\r\n",
       "<!-- 5 -->\r\n",
       "<g id=\"node6\" class=\"node\"><title>5</title>\r\n",
       "<polygon fill=\"none\" stroke=\"black\" points=\"586.274,-137.894 530.274,-137.894 530.274,-101.894 586.274,-101.894 586.274,-137.894\"/>\r\n",
       "<text text-anchor=\"middle\" x=\"558.274\" y=\"-116.194\" font-family=\"Times New Roman,serif\" font-size=\"14.00\">leaf=&#45;0</text>\r\n",
       "</g>\r\n",
       "<!-- 2&#45;&gt;5 -->\r\n",
       "<g id=\"edge5\" class=\"edge\"><title>2&#45;&gt;5</title>\r\n",
       "<path fill=\"none\" stroke=\"#0000ff\" d=\"M397.276,-83.851C437.478,-92.9073 487.239,-104.117 520.494,-111.608\"/>\r\n",
       "<polygon fill=\"#0000ff\" stroke=\"#0000ff\" points=\"519.731,-115.024 530.255,-113.807 521.269,-108.195 519.731,-115.024\"/>\r\n",
       "<text text-anchor=\"middle\" x=\"451.274\" y=\"-107.694\" font-family=\"Times New Roman,serif\" font-size=\"14.00\">yes, missing</text>\r\n",
       "</g>\r\n",
       "<!-- 6 -->\r\n",
       "<g id=\"node7\" class=\"node\"><title>6</title>\r\n",
       "<polygon fill=\"none\" stroke=\"black\" points=\"612.774,-83.8939 503.774,-83.8939 503.774,-47.8939 612.774,-47.8939 612.774,-83.8939\"/>\r\n",
       "<text text-anchor=\"middle\" x=\"558.274\" y=\"-62.1939\" font-family=\"Times New Roman,serif\" font-size=\"14.00\">leaf=0.00924061</text>\r\n",
       "</g>\r\n",
       "<!-- 2&#45;&gt;6 -->\r\n",
       "<g id=\"edge6\" class=\"edge\"><title>2&#45;&gt;6</title>\r\n",
       "<path fill=\"none\" stroke=\"#ff0000\" d=\"M398.806,-67.9938C428.748,-67.597 463.751,-67.1332 493.233,-66.7425\"/>\r\n",
       "<polygon fill=\"#ff0000\" stroke=\"#ff0000\" points=\"493.46,-70.2399 503.413,-66.6076 493.368,-63.2405 493.46,-70.2399\"/>\r\n",
       "<text text-anchor=\"middle\" x=\"451.274\" y=\"-71.6939\" font-family=\"Times New Roman,serif\" font-size=\"14.00\">no</text>\r\n",
       "</g>\r\n",
       "</g>\r\n",
       "</svg>\r\n"
      ],
      "text/plain": [
       "<graphviz.dot.Digraph at 0x75d2da0>"
      ]
     },
     "execution_count": 102,
     "metadata": {},
     "output_type": "execute_result"
    }
   ],
   "source": [
    "xgb.to_graphviz(bestXGB, num_trees=46, rankdir='LR' )\n"
   ]
  },
  {
   "cell_type": "code",
   "execution_count": 103,
   "metadata": {
    "collapsed": false
   },
   "outputs": [
    {
     "data": {
      "image/svg+xml": [
       "<?xml version=\"1.0\" encoding=\"UTF-8\" standalone=\"no\"?>\r\n",
       "<!DOCTYPE svg PUBLIC \"-//W3C//DTD SVG 1.1//EN\"\r\n",
       " \"http://www.w3.org/Graphics/SVG/1.1/DTD/svg11.dtd\">\r\n",
       "<!-- Generated by graphviz version 2.38.0 (20140413.2041)\r\n",
       " -->\r\n",
       "<!-- Title: %3 Pages: 1 -->\r\n",
       "<svg width=\"857pt\" height=\"318pt\"\r\n",
       " viewBox=\"0.00 0.00 857.47 318.24\" xmlns=\"http://www.w3.org/2000/svg\" xmlns:xlink=\"http://www.w3.org/1999/xlink\">\r\n",
       "<g id=\"graph0\" class=\"graph\" transform=\"scale(1 1) rotate(0) translate(4 314.236)\">\r\n",
       "<title>%3</title>\r\n",
       "<polygon fill=\"white\" stroke=\"none\" points=\"-4,4 -4,-314.236 853.472,-314.236 853.472,4 -4,4\"/>\r\n",
       "<!-- 0 -->\r\n",
       "<g id=\"node1\" class=\"node\"><title>0</title>\r\n",
       "<ellipse fill=\"none\" stroke=\"black\" cx=\"81.2428\" cy=\"-81.2428\" rx=\"81.4863\" ry=\"81.4863\"/>\r\n",
       "<text text-anchor=\"middle\" x=\"81.2428\" y=\"-77.5428\" font-family=\"Times New Roman,serif\" font-size=\"14.00\">clump_thickness&lt;7</text>\r\n",
       "</g>\r\n",
       "<!-- 1 -->\r\n",
       "<g id=\"node2\" class=\"node\"><title>1</title>\r\n",
       "<ellipse fill=\"none\" stroke=\"black\" cx=\"321.986\" cy=\"-137.243\" rx=\"51.1914\" ry=\"51.1914\"/>\r\n",
       "<text text-anchor=\"middle\" x=\"321.986\" y=\"-133.543\" font-family=\"Times New Roman,serif\" font-size=\"14.00\">cell_size&lt;5</text>\r\n",
       "</g>\r\n",
       "<!-- 0&#45;&gt;1 -->\r\n",
       "<g id=\"edge1\" class=\"edge\"><title>0&#45;&gt;1</title>\r\n",
       "<path fill=\"none\" stroke=\"#0000ff\" d=\"M160.416,-99.5793C193.405,-107.317 231.178,-116.177 261.796,-123.359\"/>\r\n",
       "<polygon fill=\"#0000ff\" stroke=\"#0000ff\" points=\"261.354,-126.85 271.889,-125.727 262.952,-120.035 261.354,-126.85\"/>\r\n",
       "<text text-anchor=\"middle\" x=\"214.986\" y=\"-125.043\" font-family=\"Times New Roman,serif\" font-size=\"14.00\">yes, missing</text>\r\n",
       "</g>\r\n",
       "<!-- 2 -->\r\n",
       "<g id=\"node3\" class=\"node\"><title>2</title>\r\n",
       "<polygon fill=\"none\" stroke=\"black\" points=\"376.486,-68.2428 267.486,-68.2428 267.486,-32.2428 376.486,-32.2428 376.486,-68.2428\"/>\r\n",
       "<text text-anchor=\"middle\" x=\"321.986\" y=\"-46.5428\" font-family=\"Times New Roman,serif\" font-size=\"14.00\">leaf=0.00668388</text>\r\n",
       "</g>\r\n",
       "<!-- 0&#45;&gt;2 -->\r\n",
       "<g id=\"edge2\" class=\"edge\"><title>0&#45;&gt;2</title>\r\n",
       "<path fill=\"none\" stroke=\"#ff0000\" d=\"M162.073,-70.8771C192.993,-66.8622 227.905,-62.329 257.114,-58.5364\"/>\r\n",
       "<polygon fill=\"#ff0000\" stroke=\"#ff0000\" points=\"257.725,-61.9864 267.191,-57.2278 256.824,-55.0447 257.725,-61.9864\"/>\r\n",
       "<text text-anchor=\"middle\" x=\"214.986\" y=\"-72.0428\" font-family=\"Times New Roman,serif\" font-size=\"14.00\">no</text>\r\n",
       "</g>\r\n",
       "<!-- 3 -->\r\n",
       "<g id=\"node4\" class=\"node\"><title>3</title>\r\n",
       "<ellipse fill=\"none\" stroke=\"black\" cx=\"559.479\" cy=\"-232.243\" rx=\"77.9862\" ry=\"77.9862\"/>\r\n",
       "<text text-anchor=\"middle\" x=\"559.479\" y=\"-228.543\" font-family=\"Times New Roman,serif\" font-size=\"14.00\">normal_nucleoli&lt;6</text>\r\n",
       "</g>\r\n",
       "<!-- 1&#45;&gt;3 -->\r\n",
       "<g id=\"edge3\" class=\"edge\"><title>1&#45;&gt;3</title>\r\n",
       "<path fill=\"none\" stroke=\"#0000ff\" d=\"M369.793,-156.125C400.453,-168.494 441.343,-184.989 477.219,-199.462\"/>\r\n",
       "<polygon fill=\"#0000ff\" stroke=\"#0000ff\" points=\"476.122,-202.794 486.706,-203.289 478.741,-196.302 476.122,-202.794\"/>\r\n",
       "<text text-anchor=\"middle\" x=\"428.986\" y=\"-198.043\" font-family=\"Times New Roman,serif\" font-size=\"14.00\">yes, missing</text>\r\n",
       "</g>\r\n",
       "<!-- 4 -->\r\n",
       "<g id=\"node5\" class=\"node\"><title>4</title>\r\n",
       "<polygon fill=\"none\" stroke=\"black\" points=\"587.479,-136.243 531.479,-136.243 531.479,-100.243 587.479,-100.243 587.479,-136.243\"/>\r\n",
       "<text text-anchor=\"middle\" x=\"559.479\" y=\"-114.543\" font-family=\"Times New Roman,serif\" font-size=\"14.00\">leaf=&#45;0</text>\r\n",
       "</g>\r\n",
       "<!-- 1&#45;&gt;4 -->\r\n",
       "<g id=\"edge4\" class=\"edge\"><title>1&#45;&gt;4</title>\r\n",
       "<path fill=\"none\" stroke=\"#ff0000\" d=\"M373.216,-133.19C417.608,-129.608 481.339,-124.467 521.294,-121.243\"/>\r\n",
       "<polygon fill=\"#ff0000\" stroke=\"#ff0000\" points=\"521.718,-124.72 531.404,-120.427 521.155,-117.743 521.718,-124.72\"/>\r\n",
       "<text text-anchor=\"middle\" x=\"428.986\" y=\"-135.043\" font-family=\"Times New Roman,serif\" font-size=\"14.00\">no</text>\r\n",
       "</g>\r\n",
       "<!-- 5 -->\r\n",
       "<g id=\"node6\" class=\"node\"><title>5</title>\r\n",
       "<polygon fill=\"none\" stroke=\"black\" points=\"849.472,-277.243 742.472,-277.243 742.472,-241.243 849.472,-241.243 849.472,-277.243\"/>\r\n",
       "<text text-anchor=\"middle\" x=\"795.972\" y=\"-255.543\" font-family=\"Times New Roman,serif\" font-size=\"14.00\">leaf=&#45;0.0230889</text>\r\n",
       "</g>\r\n",
       "<!-- 3&#45;&gt;5 -->\r\n",
       "<g id=\"edge5\" class=\"edge\"><title>3&#45;&gt;5</title>\r\n",
       "<path fill=\"none\" stroke=\"#0000ff\" d=\"M637.26,-241.084C667.968,-244.619 702.895,-248.641 732.063,-251.999\"/>\r\n",
       "<polygon fill=\"#0000ff\" stroke=\"#0000ff\" points=\"731.788,-255.491 742.123,-253.158 732.589,-248.537 731.788,-255.491\"/>\r\n",
       "<text text-anchor=\"middle\" x=\"689.972\" y=\"-255.043\" font-family=\"Times New Roman,serif\" font-size=\"14.00\">yes, missing</text>\r\n",
       "</g>\r\n",
       "<!-- 6 -->\r\n",
       "<g id=\"node7\" class=\"node\"><title>6</title>\r\n",
       "<polygon fill=\"none\" stroke=\"black\" points=\"823.972,-223.243 767.972,-223.243 767.972,-187.243 823.972,-187.243 823.972,-223.243\"/>\r\n",
       "<text text-anchor=\"middle\" x=\"795.972\" y=\"-201.543\" font-family=\"Times New Roman,serif\" font-size=\"14.00\">leaf=&#45;0</text>\r\n",
       "</g>\r\n",
       "<!-- 3&#45;&gt;6 -->\r\n",
       "<g id=\"edge6\" class=\"edge\"><title>3&#45;&gt;6</title>\r\n",
       "<path fill=\"none\" stroke=\"#ff0000\" d=\"M637.26,-223.402C677.582,-218.759 725.181,-213.279 757.459,-209.562\"/>\r\n",
       "<polygon fill=\"#ff0000\" stroke=\"#ff0000\" points=\"758.252,-212.994 767.786,-208.373 757.451,-206.04 758.252,-212.994\"/>\r\n",
       "<text text-anchor=\"middle\" x=\"689.972\" y=\"-225.043\" font-family=\"Times New Roman,serif\" font-size=\"14.00\">no</text>\r\n",
       "</g>\r\n",
       "</g>\r\n",
       "</svg>\r\n"
      ],
      "text/plain": [
       "<graphviz.dot.Digraph at 0x75b4320>"
      ]
     },
     "execution_count": 103,
     "metadata": {},
     "output_type": "execute_result"
    }
   ],
   "source": [
    "xgb.to_graphviz(bestXGB, num_trees=47, rankdir='LR' )\n"
   ]
  },
  {
   "cell_type": "code",
   "execution_count": 104,
   "metadata": {
    "collapsed": false
   },
   "outputs": [
    {
     "data": {
      "image/svg+xml": [
       "<?xml version=\"1.0\" encoding=\"UTF-8\" standalone=\"no\"?>\r\n",
       "<!DOCTYPE svg PUBLIC \"-//W3C//DTD SVG 1.1//EN\"\r\n",
       " \"http://www.w3.org/Graphics/SVG/1.1/DTD/svg11.dtd\">\r\n",
       "<!-- Generated by graphviz version 2.38.0 (20140413.2041)\r\n",
       " -->\r\n",
       "<!-- Title: %3 Pages: 1 -->\r\n",
       "<svg width=\"610pt\" height=\"285pt\"\r\n",
       " viewBox=\"0.00 0.00 610.48 285.24\" xmlns=\"http://www.w3.org/2000/svg\" xmlns:xlink=\"http://www.w3.org/1999/xlink\">\r\n",
       "<g id=\"graph0\" class=\"graph\" transform=\"scale(1 1) rotate(0) translate(4 281.243)\">\r\n",
       "<title>%3</title>\r\n",
       "<polygon fill=\"white\" stroke=\"none\" points=\"-4,4 -4,-281.243 606.475,-281.243 606.475,4 -4,4\"/>\r\n",
       "<!-- 0 -->\r\n",
       "<g id=\"node1\" class=\"node\"><title>0</title>\r\n",
       "<ellipse fill=\"none\" stroke=\"black\" cx=\"58.4948\" cy=\"-167.243\" rx=\"58.4896\" ry=\"58.4896\"/>\r\n",
       "<text text-anchor=\"middle\" x=\"58.4948\" y=\"-163.543\" font-family=\"Times New Roman,serif\" font-size=\"14.00\">cell_shape&lt;3</text>\r\n",
       "</g>\r\n",
       "<!-- 1 -->\r\n",
       "<g id=\"node2\" class=\"node\"><title>1</title>\r\n",
       "<ellipse fill=\"none\" stroke=\"black\" cx=\"303.232\" cy=\"-228.243\" rx=\"48.1917\" ry=\"48.1917\"/>\r\n",
       "<text text-anchor=\"middle\" x=\"303.232\" y=\"-224.543\" font-family=\"Times New Roman,serif\" font-size=\"14.00\">mitoses&lt;2</text>\r\n",
       "</g>\r\n",
       "<!-- 0&#45;&gt;1 -->\r\n",
       "<g id=\"edge1\" class=\"edge\"><title>0&#45;&gt;1</title>\r\n",
       "<path fill=\"none\" stroke=\"#0000ff\" d=\"M115.489,-181.314C154.773,-191.186 207.081,-204.331 246.342,-214.198\"/>\r\n",
       "<polygon fill=\"#0000ff\" stroke=\"#0000ff\" points=\"245.73,-217.653 256.282,-216.695 247.436,-210.864 245.73,-217.653\"/>\r\n",
       "<text text-anchor=\"middle\" x=\"169.49\" y=\"-206.043\" font-family=\"Times New Roman,serif\" font-size=\"14.00\">yes, missing</text>\r\n",
       "</g>\r\n",
       "<!-- 2 -->\r\n",
       "<g id=\"node3\" class=\"node\"><title>2</title>\r\n",
       "<ellipse fill=\"none\" stroke=\"black\" cx=\"303.232\" cy=\"-81.2428\" rx=\"81.4863\" ry=\"81.4863\"/>\r\n",
       "<text text-anchor=\"middle\" x=\"303.232\" y=\"-77.5428\" font-family=\"Times New Roman,serif\" font-size=\"14.00\">bland_chromatin&lt;3</text>\r\n",
       "</g>\r\n",
       "<!-- 0&#45;&gt;2 -->\r\n",
       "<g id=\"edge2\" class=\"edge\"><title>0&#45;&gt;2</title>\r\n",
       "<path fill=\"none\" stroke=\"#ff0000\" d=\"M113.97,-147.943C144.251,-137.214 182.611,-123.624 216.792,-111.514\"/>\r\n",
       "<polygon fill=\"#ff0000\" stroke=\"#ff0000\" points=\"218.055,-114.78 226.312,-108.141 215.717,-108.181 218.055,-114.78\"/>\r\n",
       "<text text-anchor=\"middle\" x=\"169.49\" y=\"-143.043\" font-family=\"Times New Roman,serif\" font-size=\"14.00\">no</text>\r\n",
       "</g>\r\n",
       "<!-- 3 -->\r\n",
       "<g id=\"node4\" class=\"node\"><title>3</title>\r\n",
       "<polygon fill=\"none\" stroke=\"black\" points=\"602.475,-277.243 489.475,-277.243 489.475,-241.243 602.475,-241.243 602.475,-277.243\"/>\r\n",
       "<text text-anchor=\"middle\" x=\"545.975\" y=\"-255.543\" font-family=\"Times New Roman,serif\" font-size=\"14.00\">leaf=&#45;0.00663962</text>\r\n",
       "</g>\r\n",
       "<!-- 1&#45;&gt;3 -->\r\n",
       "<g id=\"edge3\" class=\"edge\"><title>1&#45;&gt;3</title>\r\n",
       "<path fill=\"none\" stroke=\"#0000ff\" d=\"M351.222,-234.293C387.678,-238.988 438.656,-245.552 479.172,-250.769\"/>\r\n",
       "<polygon fill=\"#0000ff\" stroke=\"#0000ff\" points=\"478.867,-254.259 489.232,-252.065 479.761,-247.316 478.867,-254.259\"/>\r\n",
       "<text text-anchor=\"middle\" x=\"436.975\" y=\"-252.043\" font-family=\"Times New Roman,serif\" font-size=\"14.00\">yes, missing</text>\r\n",
       "</g>\r\n",
       "<!-- 4 -->\r\n",
       "<g id=\"node5\" class=\"node\"><title>4</title>\r\n",
       "<polygon fill=\"none\" stroke=\"black\" points=\"573.975,-223.243 517.975,-223.243 517.975,-187.243 573.975,-187.243 573.975,-223.243\"/>\r\n",
       "<text text-anchor=\"middle\" x=\"545.975\" y=\"-201.543\" font-family=\"Times New Roman,serif\" font-size=\"14.00\">leaf=&#45;0</text>\r\n",
       "</g>\r\n",
       "<!-- 1&#45;&gt;4 -->\r\n",
       "<g id=\"edge4\" class=\"edge\"><title>1&#45;&gt;4</title>\r\n",
       "<path fill=\"none\" stroke=\"#ff0000\" d=\"M351.222,-223.754C397.013,-219.379 465.715,-212.815 507.818,-208.793\"/>\r\n",
       "<polygon fill=\"#ff0000\" stroke=\"#ff0000\" points=\"508.297,-212.263 517.919,-207.828 507.631,-205.295 508.297,-212.263\"/>\r\n",
       "<text text-anchor=\"middle\" x=\"436.975\" y=\"-222.043\" font-family=\"Times New Roman,serif\" font-size=\"14.00\">no</text>\r\n",
       "</g>\r\n",
       "<!-- 5 -->\r\n",
       "<g id=\"node6\" class=\"node\"><title>5</title>\r\n",
       "<polygon fill=\"none\" stroke=\"black\" points=\"573.975,-146.243 517.975,-146.243 517.975,-110.243 573.975,-110.243 573.975,-146.243\"/>\r\n",
       "<text text-anchor=\"middle\" x=\"545.975\" y=\"-124.543\" font-family=\"Times New Roman,serif\" font-size=\"14.00\">leaf=&#45;0</text>\r\n",
       "</g>\r\n",
       "<!-- 2&#45;&gt;5 -->\r\n",
       "<g id=\"edge5\" class=\"edge\"><title>2&#45;&gt;5</title>\r\n",
       "<path fill=\"none\" stroke=\"#0000ff\" d=\"M383.061,-96.6323C425.008,-104.822 474.627,-114.509 507.778,-120.981\"/>\r\n",
       "<polygon fill=\"#0000ff\" stroke=\"#0000ff\" points=\"507.447,-124.482 517.932,-122.963 508.788,-117.612 507.447,-124.482\"/>\r\n",
       "<text text-anchor=\"middle\" x=\"436.975\" y=\"-116.043\" font-family=\"Times New Roman,serif\" font-size=\"14.00\">yes, missing</text>\r\n",
       "</g>\r\n",
       "<!-- 6 -->\r\n",
       "<g id=\"node7\" class=\"node\"><title>6</title>\r\n",
       "<polygon fill=\"none\" stroke=\"black\" points=\"590.475,-92.2428 501.475,-92.2428 501.475,-56.2428 590.475,-56.2428 590.475,-92.2428\"/>\r\n",
       "<text text-anchor=\"middle\" x=\"545.975\" y=\"-70.5428\" font-family=\"Times New Roman,serif\" font-size=\"14.00\">leaf=0.01111</text>\r\n",
       "</g>\r\n",
       "<!-- 2&#45;&gt;6 -->\r\n",
       "<g id=\"edge6\" class=\"edge\"><title>2&#45;&gt;6</title>\r\n",
       "<path fill=\"none\" stroke=\"#ff0000\" d=\"M384.731,-78.9022C419.731,-77.8845 459.802,-76.7193 491.118,-75.8088\"/>\r\n",
       "<polygon fill=\"#ff0000\" stroke=\"#ff0000\" points=\"491.488,-79.2996 501.382,-75.5103 491.285,-72.3025 491.488,-79.2996\"/>\r\n",
       "<text text-anchor=\"middle\" x=\"436.975\" y=\"-82.0428\" font-family=\"Times New Roman,serif\" font-size=\"14.00\">no</text>\r\n",
       "</g>\r\n",
       "</g>\r\n",
       "</svg>\r\n"
      ],
      "text/plain": [
       "<graphviz.dot.Digraph at 0x75b4160>"
      ]
     },
     "execution_count": 104,
     "metadata": {},
     "output_type": "execute_result"
    }
   ],
   "source": [
    "xgb.to_graphviz(bestXGB, num_trees=48, rankdir='LR' )\n"
   ]
  },
  {
   "cell_type": "code",
   "execution_count": 105,
   "metadata": {
    "collapsed": false
   },
   "outputs": [
    {
     "data": {
      "image/svg+xml": [
       "<?xml version=\"1.0\" encoding=\"UTF-8\" standalone=\"no\"?>\r\n",
       "<!DOCTYPE svg PUBLIC \"-//W3C//DTD SVG 1.1//EN\"\r\n",
       " \"http://www.w3.org/Graphics/SVG/1.1/DTD/svg11.dtd\">\r\n",
       "<!-- Generated by graphviz version 2.38.0 (20140413.2041)\r\n",
       " -->\r\n",
       "<!-- Title: %3 Pages: 1 -->\r\n",
       "<svg width=\"904pt\" height=\"338pt\"\r\n",
       " viewBox=\"0.00 0.00 904.46 338.24\" xmlns=\"http://www.w3.org/2000/svg\" xmlns:xlink=\"http://www.w3.org/1999/xlink\">\r\n",
       "<g id=\"graph0\" class=\"graph\" transform=\"scale(1 1) rotate(0) translate(4 334.236)\">\r\n",
       "<title>%3</title>\r\n",
       "<polygon fill=\"white\" stroke=\"none\" points=\"-4,4 -4,-334.236 900.458,-334.236 900.458,4 -4,4\"/>\r\n",
       "<!-- 0 -->\r\n",
       "<g id=\"node1\" class=\"node\"><title>0</title>\r\n",
       "<ellipse fill=\"none\" stroke=\"black\" cx=\"81.2428\" cy=\"-81.2428\" rx=\"81.4863\" ry=\"81.4863\"/>\r\n",
       "<text text-anchor=\"middle\" x=\"81.2428\" y=\"-77.5428\" font-family=\"Times New Roman,serif\" font-size=\"14.00\">clump_thickness&lt;7</text>\r\n",
       "</g>\r\n",
       "<!-- 1 -->\r\n",
       "<g id=\"node2\" class=\"node\"><title>1</title>\r\n",
       "<ellipse fill=\"none\" stroke=\"black\" cx=\"345.479\" cy=\"-157.243\" rx=\"77.9862\" ry=\"77.9862\"/>\r\n",
       "<text text-anchor=\"middle\" x=\"345.479\" y=\"-153.543\" font-family=\"Times New Roman,serif\" font-size=\"14.00\">normal_nucleoli&lt;9</text>\r\n",
       "</g>\r\n",
       "<!-- 0&#45;&gt;1 -->\r\n",
       "<g id=\"edge1\" class=\"edge\"><title>0&#45;&gt;1</title>\r\n",
       "<path fill=\"none\" stroke=\"#0000ff\" d=\"M159.504,-103.634C191.268,-112.84 228.137,-123.525 260.562,-132.922\"/>\r\n",
       "<polygon fill=\"#0000ff\" stroke=\"#0000ff\" points=\"259.892,-136.372 270.471,-135.794 261.841,-129.649 259.892,-136.372\"/>\r\n",
       "<text text-anchor=\"middle\" x=\"214.986\" y=\"-133.043\" font-family=\"Times New Roman,serif\" font-size=\"14.00\">yes, missing</text>\r\n",
       "</g>\r\n",
       "<!-- 2 -->\r\n",
       "<g id=\"node3\" class=\"node\"><title>2</title>\r\n",
       "<polygon fill=\"none\" stroke=\"black\" points=\"399.979,-61.2428 290.979,-61.2428 290.979,-25.2428 399.979,-25.2428 399.979,-61.2428\"/>\r\n",
       "<text text-anchor=\"middle\" x=\"345.479\" y=\"-39.5428\" font-family=\"Times New Roman,serif\" font-size=\"14.00\">leaf=0.00173301</text>\r\n",
       "</g>\r\n",
       "<!-- 0&#45;&gt;2 -->\r\n",
       "<g id=\"edge2\" class=\"edge\"><title>0&#45;&gt;2</title>\r\n",
       "<path fill=\"none\" stroke=\"#ff0000\" d=\"M161.99,-69.6868C199.98,-64.1817 244.804,-57.6864 280.521,-52.5108\"/>\r\n",
       "<polygon fill=\"#ff0000\" stroke=\"#ff0000\" points=\"281.422,-55.9169 290.816,-51.0189 280.418,-48.9892 281.422,-55.9169\"/>\r\n",
       "<text text-anchor=\"middle\" x=\"214.986\" y=\"-71.0428\" font-family=\"Times New Roman,serif\" font-size=\"14.00\">no</text>\r\n",
       "</g>\r\n",
       "<!-- 3 -->\r\n",
       "<g id=\"node4\" class=\"node\"><title>3</title>\r\n",
       "<ellipse fill=\"none\" stroke=\"black\" cx=\"606.465\" cy=\"-252.243\" rx=\"77.9862\" ry=\"77.9862\"/>\r\n",
       "<text text-anchor=\"middle\" x=\"606.465\" y=\"-248.543\" font-family=\"Times New Roman,serif\" font-size=\"14.00\">epitelial_cellsize&lt;8</text>\r\n",
       "</g>\r\n",
       "<!-- 1&#45;&gt;3 -->\r\n",
       "<g id=\"edge3\" class=\"edge\"><title>1&#45;&gt;3</title>\r\n",
       "<path fill=\"none\" stroke=\"#0000ff\" d=\"M418.965,-183.832C451.38,-195.722 489.75,-209.797 523.233,-222.079\"/>\r\n",
       "<polygon fill=\"#0000ff\" stroke=\"#0000ff\" points=\"522.402,-225.502 532.996,-225.66 524.813,-218.93 522.402,-225.502\"/>\r\n",
       "<text text-anchor=\"middle\" x=\"475.972\" y=\"-220.043\" font-family=\"Times New Roman,serif\" font-size=\"14.00\">yes, missing</text>\r\n",
       "</g>\r\n",
       "<!-- 4 -->\r\n",
       "<g id=\"node5\" class=\"node\"><title>4</title>\r\n",
       "<polygon fill=\"none\" stroke=\"black\" points=\"634.465,-156.243 578.465,-156.243 578.465,-120.243 634.465,-120.243 634.465,-156.243\"/>\r\n",
       "<text text-anchor=\"middle\" x=\"606.465\" y=\"-134.543\" font-family=\"Times New Roman,serif\" font-size=\"14.00\">leaf=&#45;0</text>\r\n",
       "</g>\r\n",
       "<!-- 1&#45;&gt;4 -->\r\n",
       "<g id=\"edge4\" class=\"edge\"><title>1&#45;&gt;4</title>\r\n",
       "<path fill=\"none\" stroke=\"#ff0000\" d=\"M423.482,-151.594C471.32,-148.084 530.663,-143.73 568.308,-140.969\"/>\r\n",
       "<polygon fill=\"#ff0000\" stroke=\"#ff0000\" points=\"568.606,-144.456 578.323,-140.234 568.094,-137.475 568.606,-144.456\"/>\r\n",
       "<text text-anchor=\"middle\" x=\"475.972\" y=\"-154.043\" font-family=\"Times New Roman,serif\" font-size=\"14.00\">no</text>\r\n",
       "</g>\r\n",
       "<!-- 5 -->\r\n",
       "<g id=\"node6\" class=\"node\"><title>5</title>\r\n",
       "<polygon fill=\"none\" stroke=\"black\" points=\"896.458,-297.243 789.458,-297.243 789.458,-261.243 896.458,-261.243 896.458,-297.243\"/>\r\n",
       "<text text-anchor=\"middle\" x=\"842.958\" y=\"-275.543\" font-family=\"Times New Roman,serif\" font-size=\"14.00\">leaf=&#45;0.0227812</text>\r\n",
       "</g>\r\n",
       "<!-- 3&#45;&gt;5 -->\r\n",
       "<g id=\"edge5\" class=\"edge\"><title>3&#45;&gt;5</title>\r\n",
       "<path fill=\"none\" stroke=\"#0000ff\" d=\"M684.247,-261.084C714.954,-264.619 749.882,-268.641 779.049,-271.999\"/>\r\n",
       "<polygon fill=\"#0000ff\" stroke=\"#0000ff\" points=\"778.775,-275.491 789.109,-273.158 779.575,-268.537 778.775,-275.491\"/>\r\n",
       "<text text-anchor=\"middle\" x=\"736.958\" y=\"-275.043\" font-family=\"Times New Roman,serif\" font-size=\"14.00\">yes, missing</text>\r\n",
       "</g>\r\n",
       "<!-- 6 -->\r\n",
       "<g id=\"node7\" class=\"node\"><title>6</title>\r\n",
       "<polygon fill=\"none\" stroke=\"black\" points=\"870.958,-243.243 814.958,-243.243 814.958,-207.243 870.958,-207.243 870.958,-243.243\"/>\r\n",
       "<text text-anchor=\"middle\" x=\"842.958\" y=\"-221.543\" font-family=\"Times New Roman,serif\" font-size=\"14.00\">leaf=&#45;0</text>\r\n",
       "</g>\r\n",
       "<!-- 3&#45;&gt;6 -->\r\n",
       "<g id=\"edge6\" class=\"edge\"><title>3&#45;&gt;6</title>\r\n",
       "<path fill=\"none\" stroke=\"#ff0000\" d=\"M684.247,-243.402C724.568,-238.759 772.167,-233.279 804.446,-229.562\"/>\r\n",
       "<polygon fill=\"#ff0000\" stroke=\"#ff0000\" points=\"805.238,-232.994 814.772,-228.373 804.437,-226.04 805.238,-232.994\"/>\r\n",
       "<text text-anchor=\"middle\" x=\"736.958\" y=\"-245.043\" font-family=\"Times New Roman,serif\" font-size=\"14.00\">no</text>\r\n",
       "</g>\r\n",
       "</g>\r\n",
       "</svg>\r\n"
      ],
      "text/plain": [
       "<graphviz.dot.Digraph at 0x75dd7b8>"
      ]
     },
     "execution_count": 105,
     "metadata": {},
     "output_type": "execute_result"
    }
   ],
   "source": [
    "xgb.to_graphviz(bestXGB, num_trees=49, rankdir='LR' )"
   ]
  },
  {
   "cell_type": "code",
   "execution_count": 62,
   "metadata": {
    "collapsed": true
   },
   "outputs": [],
   "source": [
    "tree_list=list(range(0,5))"
   ]
  },
  {
   "cell_type": "code",
   "execution_count": 76,
   "metadata": {
    "collapsed": false
   },
   "outputs": [
    {
     "data": {
      "text/plain": [
       "[0, 1, 2, 3, 4]"
      ]
     },
     "execution_count": 76,
     "metadata": {},
     "output_type": "execute_result"
    }
   ],
   "source": [
    "tree_list"
   ]
  },
  {
   "cell_type": "code",
   "execution_count": 77,
   "metadata": {
    "collapsed": false
   },
   "outputs": [
    {
     "name": "stdout",
     "output_type": "stream",
     "text": [
      "Tree Indeks ke-0\n",
      "Tree Indeks ke-1\n",
      "Tree Indeks ke-2\n",
      "Tree Indeks ke-3\n",
      "Tree Indeks ke-4\n"
     ]
    }
   ],
   "source": [
    "for tree_index in range(len(tree_list)) :\n",
    "    param1=tree_list[tree_index]\n",
    "    print(\"Tree Indeks ke-%r\" % (param1))\n",
    "    xgb.to_graphviz(bestXGB, num_trees=param1, rankdir='LR' )"
   ]
  }
 ],
 "metadata": {
  "kernelspec": {
   "display_name": "Python 3",
   "language": "python",
   "name": "python3"
  },
  "language_info": {
   "codemirror_mode": {
    "name": "ipython",
    "version": 3
   },
   "file_extension": ".py",
   "mimetype": "text/x-python",
   "name": "python",
   "nbconvert_exporter": "python",
   "pygments_lexer": "ipython3",
   "version": "3.5.3"
  }
 },
 "nbformat": 4,
 "nbformat_minor": 2
}
