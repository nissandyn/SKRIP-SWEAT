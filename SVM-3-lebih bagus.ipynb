{
 "cells": [
  {
   "cell_type": "code",
   "execution_count": 27,
   "metadata": {
    "collapsed": true
   },
   "outputs": [],
   "source": [
    "\n",
    "%matplotlib inline\n",
    "import pandas as pd\n",
    "import numpy as np\n",
    "import matplotlib.pyplot as plt\n",
    "import seaborn; \n",
    "from scipy import stats\n",
    "import pylab as pl\n",
    "from sklearn.model_selection import train_test_split\n",
    "\n",
    "seaborn.set()"
   ]
  },
  {
   "cell_type": "code",
   "execution_count": 28,
   "metadata": {
    "collapsed": false
   },
   "outputs": [
    {
     "data": {
      "text/html": [
       "<div>\n",
       "<table border=\"1\" class=\"dataframe\">\n",
       "  <thead>\n",
       "    <tr style=\"text-align: right;\">\n",
       "      <th></th>\n",
       "      <th>clump_thickness</th>\n",
       "      <th>cell_size</th>\n",
       "      <th>cell_shape</th>\n",
       "      <th>marginal_adhesion</th>\n",
       "      <th>epitelial_cellsize</th>\n",
       "      <th>bare_nuclei</th>\n",
       "      <th>bland_chromatin</th>\n",
       "      <th>normal_nucleoli</th>\n",
       "      <th>mitoses</th>\n",
       "      <th>jenis</th>\n",
       "    </tr>\n",
       "  </thead>\n",
       "  <tbody>\n",
       "    <tr>\n",
       "      <th>0</th>\n",
       "      <td>5</td>\n",
       "      <td>1</td>\n",
       "      <td>1</td>\n",
       "      <td>1</td>\n",
       "      <td>2</td>\n",
       "      <td>1</td>\n",
       "      <td>3</td>\n",
       "      <td>1</td>\n",
       "      <td>1</td>\n",
       "      <td>2</td>\n",
       "    </tr>\n",
       "    <tr>\n",
       "      <th>1</th>\n",
       "      <td>5</td>\n",
       "      <td>4</td>\n",
       "      <td>4</td>\n",
       "      <td>5</td>\n",
       "      <td>7</td>\n",
       "      <td>10</td>\n",
       "      <td>3</td>\n",
       "      <td>2</td>\n",
       "      <td>1</td>\n",
       "      <td>2</td>\n",
       "    </tr>\n",
       "    <tr>\n",
       "      <th>2</th>\n",
       "      <td>3</td>\n",
       "      <td>1</td>\n",
       "      <td>1</td>\n",
       "      <td>1</td>\n",
       "      <td>2</td>\n",
       "      <td>2</td>\n",
       "      <td>3</td>\n",
       "      <td>1</td>\n",
       "      <td>1</td>\n",
       "      <td>2</td>\n",
       "    </tr>\n",
       "    <tr>\n",
       "      <th>3</th>\n",
       "      <td>6</td>\n",
       "      <td>8</td>\n",
       "      <td>8</td>\n",
       "      <td>1</td>\n",
       "      <td>3</td>\n",
       "      <td>4</td>\n",
       "      <td>3</td>\n",
       "      <td>7</td>\n",
       "      <td>1</td>\n",
       "      <td>2</td>\n",
       "    </tr>\n",
       "    <tr>\n",
       "      <th>4</th>\n",
       "      <td>4</td>\n",
       "      <td>1</td>\n",
       "      <td>1</td>\n",
       "      <td>3</td>\n",
       "      <td>2</td>\n",
       "      <td>1</td>\n",
       "      <td>3</td>\n",
       "      <td>1</td>\n",
       "      <td>1</td>\n",
       "      <td>2</td>\n",
       "    </tr>\n",
       "  </tbody>\n",
       "</table>\n",
       "</div>"
      ],
      "text/plain": [
       "   clump_thickness  cell_size  cell_shape  marginal_adhesion  \\\n",
       "0                5          1           1                  1   \n",
       "1                5          4           4                  5   \n",
       "2                3          1           1                  1   \n",
       "3                6          8           8                  1   \n",
       "4                4          1           1                  3   \n",
       "\n",
       "   epitelial_cellsize bare_nuclei  bland_chromatin  normal_nucleoli  mitoses  \\\n",
       "0                   2           1                3                1        1   \n",
       "1                   7          10                3                2        1   \n",
       "2                   2           2                3                1        1   \n",
       "3                   3           4                3                7        1   \n",
       "4                   2           1                3                1        1   \n",
       "\n",
       "   jenis  \n",
       "0      2  \n",
       "1      2  \n",
       "2      2  \n",
       "3      2  \n",
       "4      2  "
      ]
     },
     "execution_count": 28,
     "metadata": {},
     "output_type": "execute_result"
    }
   ],
   "source": [
    "df = pd.read_csv(\"wbc.csv\")\n",
    "df.head()"
   ]
  },
  {
   "cell_type": "code",
   "execution_count": 29,
   "metadata": {
    "collapsed": false
   },
   "outputs": [],
   "source": [
    "df = df.replace('?',np.nan)"
   ]
  },
  {
   "cell_type": "code",
   "execution_count": 30,
   "metadata": {
    "collapsed": false
   },
   "outputs": [],
   "source": [
    "df['bare_nuclei'] = pd.to_numeric(df.bare_nuclei.fillna(df.bare_nuclei.median()))"
   ]
  },
  {
   "cell_type": "code",
   "execution_count": 31,
   "metadata": {
    "collapsed": false
   },
   "outputs": [
    {
     "name": "stdout",
     "output_type": "stream",
     "text": [
      "<class 'pandas.core.frame.DataFrame'>\n",
      "RangeIndex: 699 entries, 0 to 698\n",
      "Data columns (total 10 columns):\n",
      "clump_thickness       699 non-null int64\n",
      "cell_size             699 non-null int64\n",
      "cell_shape            699 non-null int64\n",
      "marginal_adhesion     699 non-null int64\n",
      "epitelial_cellsize    699 non-null int64\n",
      "bare_nuclei           699 non-null float64\n",
      "bland_chromatin       699 non-null int64\n",
      "normal_nucleoli       699 non-null int64\n",
      "mitoses               699 non-null int64\n",
      "jenis                 699 non-null int64\n",
      "dtypes: float64(1), int64(9)\n",
      "memory usage: 54.7 KB\n"
     ]
    }
   ],
   "source": [
    "df.info()"
   ]
  },
  {
   "cell_type": "code",
   "execution_count": 32,
   "metadata": {
    "collapsed": true
   },
   "outputs": [],
   "source": [
    "X = df.drop([df.columns[-1]], axis=1)\n",
    "y = df.jenis"
   ]
  },
  {
   "cell_type": "code",
   "execution_count": 33,
   "metadata": {
    "collapsed": false
   },
   "outputs": [],
   "source": [
    "X_train, X_test, y_train, y_test = train_test_split(X, y,test_size=0.33, random_state=42)"
   ]
  },
  {
   "cell_type": "code",
   "execution_count": 34,
   "metadata": {
    "collapsed": true
   },
   "outputs": [],
   "source": [
    "from sklearn import svm"
   ]
  },
  {
   "cell_type": "code",
   "execution_count": 35,
   "metadata": {
    "collapsed": false
   },
   "outputs": [
    {
     "data": {
      "text/plain": [
       "SVC(C=1.0, cache_size=200, class_weight=None, coef0=0.0,\n",
       "  decision_function_shape=None, degree=3, gamma='auto', kernel='rbf',\n",
       "  max_iter=-1, probability=False, random_state=None, shrinking=True,\n",
       "  tol=0.001, verbose=False)"
      ]
     },
     "execution_count": 35,
     "metadata": {},
     "output_type": "execute_result"
    }
   ],
   "source": [
    "svc=svm.SVC(kernel='rbf')\n",
    "svc.fit(X_train,y_train)"
   ]
  },
  {
   "cell_type": "code",
   "execution_count": 36,
   "metadata": {
    "collapsed": true
   },
   "outputs": [],
   "source": [
    "from sklearn.metrics import accuracy_score, precision_recall_fscore_support"
   ]
  },
  {
   "cell_type": "code",
   "execution_count": 37,
   "metadata": {
    "collapsed": false
   },
   "outputs": [
    {
     "name": "stdout",
     "output_type": "stream",
     "text": [
      "Akurasi: 0.9610\n",
      "Precision: 0.8953\n",
      "Recall: 1.0000\n",
      "F1: 0.9448\n"
     ]
    }
   ],
   "source": [
    "y_pred = svc.predict(X_test)\n",
    "accuracy = accuracy_score(y_test, y_pred)\n",
    "precision, recall, f1, _ = precision_recall_fscore_support(y_test, y_pred)\n",
    "print (('Akurasi: %.4f') % (accuracy))\n",
    "print (('Precision: %.4f') % (precision[1]))\n",
    "print (('Recall: %.4f') % (recall[1]))\n",
    "print (('F1: %.4f') % (f1[1]))"
   ]
  },
  {
   "cell_type": "code",
   "execution_count": 38,
   "metadata": {
    "collapsed": false
   },
   "outputs": [],
   "source": [
    "from sklearn import metrics"
   ]
  },
  {
   "cell_type": "code",
   "execution_count": 39,
   "metadata": {
    "collapsed": false
   },
   "outputs": [
    {
     "data": {
      "text/plain": [
       "array([[145,   9],\n",
       "       [  0,  77]])"
      ]
     },
     "execution_count": 39,
     "metadata": {},
     "output_type": "execute_result"
    }
   ],
   "source": [
    "metrics.confusion_matrix(y_test, y_pred)"
   ]
  },
  {
   "cell_type": "code",
   "execution_count": 40,
   "metadata": {
    "collapsed": false,
    "scrolled": true
   },
   "outputs": [
    {
     "data": {
      "text/plain": [
       "(0.99786324786324787, 0.96103896103896103)"
      ]
     },
     "execution_count": 40,
     "metadata": {},
     "output_type": "execute_result"
    }
   ],
   "source": [
    "svc.score(X_train,y_train), svc.score(X_test, y_test)"
   ]
  },
  {
   "cell_type": "code",
   "execution_count": 41,
   "metadata": {
    "collapsed": false
   },
   "outputs": [],
   "source": [
    "from sklearn.model_selection import GridSearchCV\n",
    "from __future__ import print_function\n",
    "from sklearn.metrics import classification_report\n",
    "from sklearn.svm import SVC"
   ]
  },
  {
   "cell_type": "code",
   "execution_count": 49,
   "metadata": {
    "collapsed": false
   },
   "outputs": [
    {
     "name": "stdout",
     "output_type": "stream",
     "text": [
      "Automatically created module for IPython interactive environment\n",
      "# Tuning hyper-parameters for precision\n",
      "\n"
     ]
    },
    {
     "name": "stderr",
     "output_type": "stream",
     "text": [
      "C:\\Users\\Annisa\\Anaconda3\\lib\\site-packages\\sklearn\\metrics\\classification.py:1113: UndefinedMetricWarning: Precision is ill-defined and being set to 0.0 in labels with no predicted samples.\n",
      "  'precision', 'predicted', average, warn_for)\n",
      "C:\\Users\\Annisa\\Anaconda3\\lib\\site-packages\\sklearn\\metrics\\classification.py:1113: UndefinedMetricWarning: Precision is ill-defined and being set to 0.0 in labels with no predicted samples.\n",
      "  'precision', 'predicted', average, warn_for)\n",
      "C:\\Users\\Annisa\\Anaconda3\\lib\\site-packages\\sklearn\\metrics\\classification.py:1113: UndefinedMetricWarning: Precision is ill-defined and being set to 0.0 in labels with no predicted samples.\n",
      "  'precision', 'predicted', average, warn_for)\n",
      "C:\\Users\\Annisa\\Anaconda3\\lib\\site-packages\\sklearn\\metrics\\classification.py:1113: UndefinedMetricWarning: Precision is ill-defined and being set to 0.0 in labels with no predicted samples.\n",
      "  'precision', 'predicted', average, warn_for)\n",
      "C:\\Users\\Annisa\\Anaconda3\\lib\\site-packages\\sklearn\\metrics\\classification.py:1113: UndefinedMetricWarning: Precision is ill-defined and being set to 0.0 in labels with no predicted samples.\n",
      "  'precision', 'predicted', average, warn_for)\n"
     ]
    },
    {
     "name": "stdout",
     "output_type": "stream",
     "text": [
      "Best parameters set found on development set:\n",
      "\n",
      "{'C': 4, 'gamma': 0.001, 'kernel': 'rbf'}\n",
      "\n",
      "Grid scores on development set:\n",
      "\n",
      "0.935 (+/-0.042) for {'C': 1, 'gamma': 0.1, 'kernel': 'rbf'}\n",
      "0.961 (+/-0.031) for {'C': 1, 'gamma': 0.01, 'kernel': 'rbf'}\n",
      "0.958 (+/-0.053) for {'C': 1, 'gamma': 0.001, 'kernel': 'rbf'}\n",
      "0.952 (+/-0.053) for {'C': 1, 'gamma': 0.0001, 'kernel': 'rbf'}\n",
      "0.325 (+/-0.001) for {'C': 1, 'gamma': 1e-05, 'kernel': 'rbf'}\n",
      "0.936 (+/-0.036) for {'C': 2, 'gamma': 0.1, 'kernel': 'rbf'}\n",
      "0.959 (+/-0.030) for {'C': 2, 'gamma': 0.01, 'kernel': 'rbf'}\n",
      "0.960 (+/-0.045) for {'C': 2, 'gamma': 0.001, 'kernel': 'rbf'}\n",
      "0.960 (+/-0.055) for {'C': 2, 'gamma': 0.0001, 'kernel': 'rbf'}\n",
      "0.873 (+/-0.017) for {'C': 2, 'gamma': 1e-05, 'kernel': 'rbf'}\n",
      "0.936 (+/-0.036) for {'C': 4, 'gamma': 0.1, 'kernel': 'rbf'}\n",
      "0.957 (+/-0.024) for {'C': 4, 'gamma': 0.01, 'kernel': 'rbf'}\n",
      "0.962 (+/-0.039) for {'C': 4, 'gamma': 0.001, 'kernel': 'rbf'}\n",
      "0.960 (+/-0.055) for {'C': 4, 'gamma': 0.0001, 'kernel': 'rbf'}\n",
      "0.942 (+/-0.057) for {'C': 4, 'gamma': 1e-05, 'kernel': 'rbf'}\n",
      "0.936 (+/-0.036) for {'C': 8, 'gamma': 0.1, 'kernel': 'rbf'}\n",
      "0.949 (+/-0.027) for {'C': 8, 'gamma': 0.01, 'kernel': 'rbf'}\n",
      "0.961 (+/-0.042) for {'C': 8, 'gamma': 0.001, 'kernel': 'rbf'}\n",
      "0.958 (+/-0.053) for {'C': 8, 'gamma': 0.0001, 'kernel': 'rbf'}\n",
      "0.952 (+/-0.053) for {'C': 8, 'gamma': 1e-05, 'kernel': 'rbf'}\n",
      "0.936 (+/-0.036) for {'C': 10, 'gamma': 0.1, 'kernel': 'rbf'}\n",
      "0.951 (+/-0.027) for {'C': 10, 'gamma': 0.01, 'kernel': 'rbf'}\n",
      "0.961 (+/-0.042) for {'C': 10, 'gamma': 0.001, 'kernel': 'rbf'}\n",
      "0.958 (+/-0.053) for {'C': 10, 'gamma': 0.0001, 'kernel': 'rbf'}\n",
      "0.952 (+/-0.053) for {'C': 10, 'gamma': 1e-05, 'kernel': 'rbf'}\n",
      "0.936 (+/-0.036) for {'C': 20, 'gamma': 0.1, 'kernel': 'rbf'}\n",
      "0.939 (+/-0.030) for {'C': 20, 'gamma': 0.01, 'kernel': 'rbf'}\n",
      "0.962 (+/-0.039) for {'C': 20, 'gamma': 0.001, 'kernel': 'rbf'}\n",
      "0.960 (+/-0.045) for {'C': 20, 'gamma': 0.0001, 'kernel': 'rbf'}\n",
      "0.960 (+/-0.055) for {'C': 20, 'gamma': 1e-05, 'kernel': 'rbf'}\n",
      "\n",
      "Detailed classification report:\n",
      "\n",
      "The model is trained on the full development set.\n",
      "The scores are computed on the full evaluation set.\n",
      "\n",
      "             precision    recall  f1-score   support\n",
      "\n",
      "          2       0.96      0.99      0.97       154\n",
      "          4       0.97      0.92      0.95        77\n",
      "\n",
      "avg / total       0.97      0.97      0.97       231\n",
      "\n",
      "\n"
     ]
    }
   ],
   "source": [
    "print(__doc__)\n",
    "\n",
    "# Loading the Digits dataset\n",
    "#digits = datasets.load_digits()\n",
    "\n",
    "# To apply an classifier on this data, we need to flatten the image, to\n",
    "# turn the data in a (samples, feature) matrix:\n",
    "n_samples = len(df)\n",
    "X = df.drop([df.columns[-1]], axis=1)\n",
    "y = df.jenis\n",
    "\n",
    "# Split the dataset in two equal parts\n",
    "X_train, X_test, y_train, y_test = train_test_split(\n",
    "    X, y, test_size=0.33, random_state=42)\n",
    "\n",
    "# Set the parameters by cross-validation\n",
    "#tuned_parameters = [{'kernel': ['rbf'], 'gamma': [2e-15,2e-13,2e-11, 2e-9,2e-7,2e-5, 2e-3,2e-1,2e1,2e3],\n",
    "                    # 'C': [2e-5,2e-3,2e-1, 2e1,2e3,2e5,2e7,2e9,2e11,213,2e15]},]\n",
    "tuned_parameters = [{'kernel': ['rbf'], 'gamma': [1e-1,1e-2,1e-3,1e-4,1e-5],\n",
    "                     'C': [ 1,2,4,8,10,20]},]\n",
    "scores = ['precision']\n",
    "\n",
    "for score in scores:\n",
    "    print(\"# Tuning hyper-parameters for %s\" % score)\n",
    "    print()\n",
    "\n",
    "    clf = GridSearchCV(SVC(C=1), tuned_parameters, cv=5,\n",
    "                       scoring='%s_macro' % score)\n",
    "    clf.fit(X_train, y_train)\n",
    "\n",
    "    print(\"Best parameters set found on development set:\")\n",
    "    print()\n",
    "    print(clf.best_params_)\n",
    "    print()\n",
    "    print(\"Grid scores on development set:\")\n",
    "    print()\n",
    "    means = clf.cv_results_['mean_test_score']\n",
    "    stds = clf.cv_results_['std_test_score']\n",
    "    for mean, std, params in zip(means, stds, clf.cv_results_['params']):\n",
    "        print(\"%0.3f (+/-%0.03f) for %r\"\n",
    "              % (mean, std * 2, params))\n",
    "    print()\n",
    "\n",
    "    print(\"Detailed classification report:\")\n",
    "    print()\n",
    "    print(\"The model is trained on the full development set.\")\n",
    "    print(\"The scores are computed on the full evaluation set.\")\n",
    "    print()\n",
    "    y_true, y_pred = y_test, clf.predict(X_test)\n",
    "    print(classification_report(y_true, y_pred))\n",
    "    print()"
   ]
  },
  {
   "cell_type": "code",
   "execution_count": 50,
   "metadata": {
    "collapsed": false
   },
   "outputs": [
    {
     "name": "stderr",
     "output_type": "stream",
     "text": [
      "C:\\Users\\Annisa\\Anaconda3\\lib\\site-packages\\sklearn\\model_selection\\_search.py:667: DeprecationWarning: The grid_scores_ attribute was deprecated in version 0.18 in favor of the more elaborate cv_results_ attribute. The grid_scores_ attribute will not be available from 0.20\n",
      "  DeprecationWarning)\n"
     ]
    },
    {
     "data": {
      "text/plain": [
       "[mean: 0.93535, std: 0.02120, params: {'C': 1, 'gamma': 0.1, 'kernel': 'rbf'},\n",
       " mean: 0.96086, std: 0.01542, params: {'C': 1, 'gamma': 0.01, 'kernel': 'rbf'},\n",
       " mean: 0.95841, std: 0.02675, params: {'C': 1, 'gamma': 0.001, 'kernel': 'rbf'},\n",
       " mean: 0.95201, std: 0.02666, params: {'C': 1, 'gamma': 0.0001, 'kernel': 'rbf'},\n",
       " mean: 0.32479, std: 0.00065, params: {'C': 1, 'gamma': 1e-05, 'kernel': 'rbf'},\n",
       " mean: 0.93618, std: 0.01784, params: {'C': 2, 'gamma': 0.1, 'kernel': 'rbf'},\n",
       " mean: 0.95921, std: 0.01497, params: {'C': 2, 'gamma': 0.01, 'kernel': 'rbf'},\n",
       " mean: 0.96029, std: 0.02249, params: {'C': 2, 'gamma': 0.001, 'kernel': 'rbf'},\n",
       " mean: 0.95989, std: 0.02750, params: {'C': 2, 'gamma': 0.0001, 'kernel': 'rbf'},\n",
       " mean: 0.87274, std: 0.00845, params: {'C': 2, 'gamma': 1e-05, 'kernel': 'rbf'},\n",
       " mean: 0.93618, std: 0.01784, params: {'C': 4, 'gamma': 0.1, 'kernel': 'rbf'},\n",
       " mean: 0.95686, std: 0.01191, params: {'C': 4, 'gamma': 0.01, 'kernel': 'rbf'},\n",
       " mean: 0.96229, std: 0.01937, params: {'C': 4, 'gamma': 0.001, 'kernel': 'rbf'},\n",
       " mean: 0.95989, std: 0.02750, params: {'C': 4, 'gamma': 0.0001, 'kernel': 'rbf'},\n",
       " mean: 0.94161, std: 0.02853, params: {'C': 4, 'gamma': 1e-05, 'kernel': 'rbf'},\n",
       " mean: 0.93618, std: 0.01784, params: {'C': 8, 'gamma': 0.1, 'kernel': 'rbf'},\n",
       " mean: 0.94948, std: 0.01329, params: {'C': 8, 'gamma': 0.01, 'kernel': 'rbf'},\n",
       " mean: 0.96057, std: 0.02115, params: {'C': 8, 'gamma': 0.001, 'kernel': 'rbf'},\n",
       " mean: 0.95841, std: 0.02675, params: {'C': 8, 'gamma': 0.0001, 'kernel': 'rbf'},\n",
       " mean: 0.95201, std: 0.02666, params: {'C': 8, 'gamma': 1e-05, 'kernel': 'rbf'},\n",
       " mean: 0.93618, std: 0.01784, params: {'C': 10, 'gamma': 0.1, 'kernel': 'rbf'},\n",
       " mean: 0.95060, std: 0.01368, params: {'C': 10, 'gamma': 0.01, 'kernel': 'rbf'},\n",
       " mean: 0.96057, std: 0.02115, params: {'C': 10, 'gamma': 0.001, 'kernel': 'rbf'},\n",
       " mean: 0.95841, std: 0.02675, params: {'C': 10, 'gamma': 0.0001, 'kernel': 'rbf'},\n",
       " mean: 0.95201, std: 0.02666, params: {'C': 10, 'gamma': 1e-05, 'kernel': 'rbf'},\n",
       " mean: 0.93618, std: 0.01784, params: {'C': 20, 'gamma': 0.1, 'kernel': 'rbf'},\n",
       " mean: 0.93920, std: 0.01483, params: {'C': 20, 'gamma': 0.01, 'kernel': 'rbf'},\n",
       " mean: 0.96229, std: 0.01937, params: {'C': 20, 'gamma': 0.001, 'kernel': 'rbf'},\n",
       " mean: 0.96029, std: 0.02249, params: {'C': 20, 'gamma': 0.0001, 'kernel': 'rbf'},\n",
       " mean: 0.95989, std: 0.02750, params: {'C': 20, 'gamma': 1e-05, 'kernel': 'rbf'}]"
      ]
     },
     "execution_count": 50,
     "metadata": {},
     "output_type": "execute_result"
    }
   ],
   "source": [
    "clf.grid_scores_"
   ]
  },
  {
   "cell_type": "code",
   "execution_count": 51,
   "metadata": {
    "collapsed": false
   },
   "outputs": [
    {
     "name": "stdout",
     "output_type": "stream",
     "text": [
      "Best accuracy obtained: 0.9622898163361356\n",
      "Parameters:\n",
      "\tC: 4\n",
      "\tgamma: 0.001\n",
      "\tkernel: rbf\n"
     ]
    }
   ],
   "source": [
    "print(\"Best accuracy obtained: {0}\".format(clf.best_score_))\n",
    "print(\"Parameters:\")\n",
    "for key, value in clf.best_params_.items():\n",
    "    print(\"\\t{}: {}\".format(key, value))"
   ]
  },
  {
   "cell_type": "code",
   "execution_count": 52,
   "metadata": {
    "collapsed": false
   },
   "outputs": [
    {
     "data": {
      "text/plain": [
       "SVC(C=4.0, cache_size=200, class_weight=None, coef0=0.0,\n",
       "  decision_function_shape=None, degree=3, gamma=0.001, kernel='rbf',\n",
       "  max_iter=-1, probability=False, random_state=None, shrinking=True,\n",
       "  tol=0.001, verbose=False)"
      ]
     },
     "execution_count": 52,
     "metadata": {},
     "output_type": "execute_result"
    }
   ],
   "source": [
    "svc2=svm.SVC(C=4.0, gamma=0.001, kernel='rbf')\n",
    "svc2.fit(X_train,y_train)"
   ]
  },
  {
   "cell_type": "code",
   "execution_count": 53,
   "metadata": {
    "collapsed": false
   },
   "outputs": [
    {
     "name": "stdout",
     "output_type": "stream",
     "text": [
      "Akurasi: 0.9654\n",
      "Precision: 0.9726\n",
      "Recall: 0.9221\n",
      "F1: 0.9467\n"
     ]
    }
   ],
   "source": [
    "y_pred = svc2.predict(X_test)\n",
    "accuracy = accuracy_score(y_test, y_pred)\n",
    "precision, recall, f1, _ = precision_recall_fscore_support(y_test, y_pred)\n",
    "print (('Akurasi: %.4f') % (accuracy))\n",
    "print (('Precision: %.4f') % (precision[1]))\n",
    "print (('Recall: %.4f') % (recall[1]))\n",
    "print (('F1: %.4f') % (f1[1]))"
   ]
  },
  {
   "cell_type": "code",
   "execution_count": null,
   "metadata": {
    "collapsed": true
   },
   "outputs": [],
   "source": []
  }
 ],
 "metadata": {
  "anaconda-cloud": {},
  "kernelspec": {
   "display_name": "Python 3",
   "language": "python",
   "name": "python3"
  },
  "language_info": {
   "codemirror_mode": {
    "name": "ipython",
    "version": 3
   },
   "file_extension": ".py",
   "mimetype": "text/x-python",
   "name": "python",
   "nbconvert_exporter": "python",
   "pygments_lexer": "ipython3",
   "version": "3.6.0"
  }
 },
 "nbformat": 4,
 "nbformat_minor": 1
}
