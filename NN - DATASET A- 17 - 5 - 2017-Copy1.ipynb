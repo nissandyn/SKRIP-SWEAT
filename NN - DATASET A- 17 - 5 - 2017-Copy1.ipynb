{
 "cells": [
  {
   "cell_type": "code",
   "execution_count": 1,
   "metadata": {
    "collapsed": true
   },
   "outputs": [],
   "source": [
    "import numpy as np\n",
    "seed=42\n",
    "np.random.seed(seed)"
   ]
  },
  {
   "cell_type": "code",
   "execution_count": 2,
   "metadata": {
    "collapsed": false
   },
   "outputs": [
    {
     "name": "stderr",
     "output_type": "stream",
     "text": [
      "Using Theano backend.\n"
     ]
    }
   ],
   "source": [
    "from keras.models import Sequential\n",
    "from keras.layers import Dense\n",
    "from keras.wrappers.scikit_learn import KerasClassifier\n",
    "from sklearn.model_selection import StratifiedKFold\n",
    "from sklearn.model_selection import cross_val_score\n",
    "from keras.models import Sequential\n",
    "from keras.layers import Dense\n",
    "from keras.utils import np_utils"
   ]
  },
  {
   "cell_type": "code",
   "execution_count": 3,
   "metadata": {
    "collapsed": true
   },
   "outputs": [],
   "source": [
    "from keras import optimizers"
   ]
  },
  {
   "cell_type": "code",
   "execution_count": 4,
   "metadata": {
    "collapsed": true
   },
   "outputs": [],
   "source": [
    "def create_model8():\n",
    "    model = Sequential()\n",
    "    model.add(Dense(10, input_dim=9, activation='relu'))\n",
    "    model.add(Dense(10, activation='relu'))\n",
    "    model.add(Dense(10, activation='relu'))\n",
    "    model.add(Dense(10, activation='relu'))\n",
    "    model.add(Dense(10, activation='relu'))\n",
    "    model.add(Dense(10, activation='relu'))\n",
    "    model.add(Dense(10, activation='relu'))\n",
    "    model.add(Dense(10, activation='relu'))\n",
    "    model.add(Dense(1, activation='sigmoid'))\n",
    "    adm = optimizers.Adam(lr=0.01, beta_1=0.9, beta_2=0.999, epsilon=1e-08, decay=0.0)\n",
    "    model.compile(loss='binary_crossentropy', optimizer=adm, metrics=['accuracy'])\n",
    "    return model"
   ]
  },
  {
   "cell_type": "code",
   "execution_count": 5,
   "metadata": {
    "collapsed": true
   },
   "outputs": [],
   "source": [
    "model = create_model8()"
   ]
  },
  {
   "cell_type": "code",
   "execution_count": 6,
   "metadata": {
    "collapsed": true
   },
   "outputs": [],
   "source": [
    "from keras.models import load_model"
   ]
  },
  {
   "cell_type": "code",
   "execution_count": 7,
   "metadata": {
    "collapsed": false
   },
   "outputs": [],
   "source": [
    "model.save_weights('my_model_weights.h5')"
   ]
  },
  {
   "cell_type": "code",
   "execution_count": 7,
   "metadata": {
    "collapsed": true
   },
   "outputs": [],
   "source": [
    "class_weight = [{0 : 1., 1: 2},\n",
    "                {0 : 1., 1: 4},\n",
    "                {0 : 1., 1: 8},\n",
    "                {0 : 1., 1: 16},\n",
    "                {0 : 1., 1: 32},\n",
    "                {0 : 1., 1: 64}]"
   ]
  },
  {
   "cell_type": "code",
   "execution_count": 8,
   "metadata": {
    "collapsed": true
   },
   "outputs": [],
   "source": [
    "epochs = [10, 20, 50, 100, 200, 500]"
   ]
  },
  {
   "cell_type": "code",
   "execution_count": 9,
   "metadata": {
    "collapsed": true
   },
   "outputs": [],
   "source": [
    "param_gridNN = dict(epochs=epochs, class_weight=class_weight )"
   ]
  },
  {
   "cell_type": "code",
   "execution_count": 10,
   "metadata": {
    "collapsed": true
   },
   "outputs": [],
   "source": [
    "from sklearn.metrics import confusion_matrix"
   ]
  },
  {
   "cell_type": "code",
   "execution_count": 11,
   "metadata": {
    "collapsed": true
   },
   "outputs": [],
   "source": [
    "modelNN = KerasClassifier(build_fn=create_model8, verbose=0)"
   ]
  },
  {
   "cell_type": "code",
   "execution_count": 12,
   "metadata": {
    "collapsed": true
   },
   "outputs": [],
   "source": [
    "import pandas as pd\n",
    "import numpy as np"
   ]
  },
  {
   "cell_type": "code",
   "execution_count": 13,
   "metadata": {
    "collapsed": false
   },
   "outputs": [],
   "source": [
    "dfA = pd.read_csv(\"wbc.csv\")\n",
    "dfA=dfA.replace('?',np.nan)\n",
    "dfA['bare_nuclei'] = pd.to_numeric(dfA.bare_nuclei.fillna(dfA.bare_nuclei.median()))"
   ]
  },
  {
   "cell_type": "code",
   "execution_count": 14,
   "metadata": {
    "collapsed": true
   },
   "outputs": [],
   "source": [
    "X = dfA.drop([dfA.columns[-1]], axis=1)\n",
    "y = dfA.jenis.map({2: 0, 4: 1})"
   ]
  },
  {
   "cell_type": "code",
   "execution_count": 15,
   "metadata": {
    "collapsed": false
   },
   "outputs": [],
   "source": [
    "from sklearn.model_selection import train_test_split\n",
    "X_train, X_test, y_train, y_test = train_test_split(X, y,test_size=0.33, random_state=seed)"
   ]
  },
  {
   "cell_type": "code",
   "execution_count": 16,
   "metadata": {
    "collapsed": true
   },
   "outputs": [],
   "source": [
    "from sklearn.metrics import confusion_matrix"
   ]
  },
  {
   "cell_type": "code",
   "execution_count": 17,
   "metadata": {
    "collapsed": true
   },
   "outputs": [],
   "source": [
    "def cost_breast_cancer(y_true, y_pred):\n",
    "    CM = confusion_matrix(y_true, y_pred)\n",
    "    FN = CM[1][0]\n",
    "    FP = CM[0][1]\n",
    "    costBC=((-1*((228.35*FP)+(2850000*FN))))\n",
    "    return costBC"
   ]
  },
  {
   "cell_type": "code",
   "execution_count": 18,
   "metadata": {
    "collapsed": true
   },
   "outputs": [],
   "source": [
    "def specificity(y_true, y_pred):\n",
    "    CM = confusion_matrix(y_true, y_pred)\n",
    "    TN = CM[0][0]\n",
    "    FN = CM[1][0]\n",
    "    TP = CM[1][1]\n",
    "    FP = CM[0][1]\n",
    "    nilai=(TN/(FP+TN))\n",
    "    return nilai"
   ]
  },
  {
   "cell_type": "code",
   "execution_count": 19,
   "metadata": {
    "collapsed": false
   },
   "outputs": [],
   "source": [
    "from sklearn.metrics import make_scorer\n",
    "my_custom_scorer=make_scorer(cost_breast_cancer, greater_is_better=True)\n",
    "score_specificity=make_scorer(specificity, greater_is_better=True)"
   ]
  },
  {
   "cell_type": "code",
   "execution_count": 20,
   "metadata": {
    "collapsed": true
   },
   "outputs": [],
   "source": [
    "from sklearn.metrics import accuracy_score, precision_recall_fscore_support\n",
    "from sklearn import metrics\n",
    "from sklearn.model_selection import GridSearchCV\n",
    "from __future__ import print_function\n",
    "from sklearn.metrics import classification_report\n",
    "from sklearn.metrics import confusion_matrix\n",
    "from sklearn.metrics import make_scorer\n",
    "from sklearn.model_selection import cross_val_score\n",
    "from sklearn.metrics import roc_curve, roc_auc_score"
   ]
  },
  {
   "cell_type": "code",
   "execution_count": 22,
   "metadata": {
    "collapsed": false
   },
   "outputs": [
    {
     "name": "stdout",
     "output_type": "stream",
     "text": [
      "Automatically created module for IPython interactive environment\n",
      "# Tuning hyper-parameters for make_scorer(cost_breast_cancer)\n",
      "\n",
      "Best parameters set found on development set:\n",
      "\n",
      "{'epochs': 20, 'class_weight': {0: 1.0, 1: 32}}\n",
      "\n",
      "Grid scores on development set:\n",
      "\n",
      "-1431385.915 (+/-5262873.489) for {'epochs': 10, 'class_weight': {0: 1.0, 1: 2}}\n",
      "-1431408.360 (+/-6875711.663) for {'epochs': 20, 'class_weight': {0: 1.0, 1: 2}}\n",
      "-2003935.012 (+/-6277504.537) for {'epochs': 50, 'class_weight': {0: 1.0, 1: 2}}\n",
      "-1431454.713 (+/-5262748.987) for {'epochs': 100, 'class_weight': {0: 1.0, 1: 2}}\n",
      "-2576371.397 (+/-8637354.594) for {'epochs': 200, 'class_weight': {0: 1.0, 1: 2}}\n",
      "-1997777.447 (+/-5136953.480) for {'epochs': 500, 'class_weight': {0: 1.0, 1: 2}}\n",
      "-859108.107 (+/-2614748.776) for {'epochs': 10, 'class_weight': {0: 1.0, 1: 4}}\n",
      "-281249.950 (+/-1696647.578) for {'epochs': 20, 'class_weight': {0: 1.0, 1: 4}}\n",
      "-572845.756 (+/-2283349.332) for {'epochs': 50, 'class_weight': {0: 1.0, 1: 4}}\n",
      "-2004027.718 (+/-5734410.871) for {'epochs': 100, 'class_weight': {0: 1.0, 1: 4}}\n",
      "-1425479.633 (+/-5262885.784) for {'epochs': 200, 'class_weight': {0: 1.0, 1: 4}}\n",
      "-1145281.166 (+/-5232997.489) for {'epochs': 500, 'class_weight': {0: 1.0, 1: 4}}\n",
      "-1718215.725 (+/-7311072.045) for {'epochs': 10, 'class_weight': {0: 1.0, 1: 8}}\n",
      "-859290.591 (+/-3655543.190) for {'epochs': 20, 'class_weight': {0: 1.0, 1: 8}}\n",
      "-1717809.282 (+/-7311453.759) for {'epochs': 50, 'class_weight': {0: 1.0, 1: 8}}\n",
      "-1145350.940 (+/-6852804.636) for {'epochs': 100, 'class_weight': {0: 1.0, 1: 8}}\n",
      "-1717785.861 (+/-6850763.031) for {'epochs': 200, 'class_weight': {0: 1.0, 1: 8}}\n",
      "-2570327.519 (+/-5383310.781) for {'epochs': 500, 'class_weight': {0: 1.0, 1: 8}}\n",
      "-1717969.810 (+/-7311231.463) for {'epochs': 10, 'class_weight': {0: 1.0, 1: 16}}\n",
      "-1623.334 (+/-3852.936) for {'epochs': 20, 'class_weight': {0: 1.0, 1: 16}}\n",
      "-1212.499 (+/-3968.079) for {'epochs': 50, 'class_weight': {0: 1.0, 1: 16}}\n",
      "-859017.840 (+/-2615067.247) for {'epochs': 100, 'class_weight': {0: 1.0, 1: 16}}\n",
      "-859647.266 (+/-5139219.452) for {'epochs': 200, 'class_weight': {0: 1.0, 1: 16}}\n",
      "-15456707.027 (+/-44873008.567) for {'epochs': 500, 'class_weight': {0: 1.0, 1: 16}}\n",
      "-2334.244 (+/-4659.018) for {'epochs': 10, 'class_weight': {0: 1.0, 1: 32}}\n",
      "-569.899 (+/-620.171) for {'epochs': 20, 'class_weight': {0: 1.0, 1: 32}}\n",
      "-859538.458 (+/-3655310.889) for {'epochs': 50, 'class_weight': {0: 1.0, 1: 32}}\n",
      "-859223.745 (+/-5139653.575) for {'epochs': 100, 'class_weight': {0: 1.0, 1: 32}}\n",
      "-5720064.803 (+/-32407087.296) for {'epochs': 200, 'class_weight': {0: 1.0, 1: 32}}\n",
      "-5615911.200 (+/-30249859.782) for {'epochs': 500, 'class_weight': {0: 1.0, 1: 32}}\n",
      "-288622.943 (+/-1711643.671) for {'epochs': 10, 'class_weight': {0: 1.0, 1: 64}}\n",
      "-286855.182 (+/-1713275.245) for {'epochs': 20, 'class_weight': {0: 1.0, 1: 64}}\n",
      "-1874.617 (+/-4191.443) for {'epochs': 50, 'class_weight': {0: 1.0, 1: 64}}\n",
      "-5152759.384 (+/-27242381.281) for {'epochs': 100, 'class_weight': {0: 1.0, 1: 64}}\n",
      "-860210.334 (+/-5138995.721) for {'epochs': 200, 'class_weight': {0: 1.0, 1: 64}}\n",
      "-288997.671 (+/-1711546.837) for {'epochs': 500, 'class_weight': {0: 1.0, 1: 64}}\n",
      "\n"
     ]
    }
   ],
   "source": [
    "print(__doc__)\n",
    "\n",
    "model.load_weights('my_model_weights.h5')\n",
    "scores = [my_custom_scorer]\n",
    "\n",
    "for score in scores:\n",
    "    print(\"# Tuning hyper-parameters for %s\" % score)\n",
    "    print()\n",
    "\n",
    "    clf3 = GridSearchCV(estimator=modelNN, param_grid=param_gridNN, cv=10, \n",
    "                       scoring=my_custom_scorer)\n",
    "    clf3.fit(X_train.as_matrix(), y_train)\n",
    "\n",
    "    print(\"Best parameters set found on development set:\")\n",
    "    print()\n",
    "    print(clf3.best_params_)\n",
    "    print()\n",
    "    print(\"Grid scores on development set:\")\n",
    "    print()\n",
    "    means3 = clf3.cv_results_['mean_test_score']\n",
    "    stds3 = clf3.cv_results_['std_test_score']\n",
    "    for mean, std, params in zip(means3, stds3, clf3.cv_results_['params']):\n",
    "        print(\"%0.3f (+/-%0.03f) for %r\"\n",
    "              % (mean, std * 2, params))\n",
    "    print()"
   ]
  },
  {
   "cell_type": "code",
   "execution_count": 23,
   "metadata": {
    "collapsed": false
   },
   "outputs": [
    {
     "name": "stdout",
     "output_type": "stream",
     "text": [
      "Best score obtained: -569.8991452991453\n",
      "Parameters:\n",
      "\tepochs: 20\n",
      "\tclass_weight: {0: 1.0, 1: 32}\n"
     ]
    }
   ],
   "source": [
    "print(\"Best score obtained: {0}\".format(clf3.best_score_))\n",
    "print(\"Parameters:\")\n",
    "for key, value in clf3.best_params_.items():\n",
    "    print(\"\\t{}: {}\".format(key, value))"
   ]
  },
  {
   "cell_type": "code",
   "execution_count": 22,
   "metadata": {
    "collapsed": true
   },
   "outputs": [],
   "source": [
    "model.load_weights('my_model_weights.h5')"
   ]
  },
  {
   "cell_type": "code",
   "execution_count": 23,
   "metadata": {
    "collapsed": true
   },
   "outputs": [],
   "source": [
    "best_class_weight = {0: 1.0, 1: 32}"
   ]
  },
  {
   "cell_type": "code",
   "execution_count": 24,
   "metadata": {
    "collapsed": true
   },
   "outputs": [],
   "source": [
    "modelNN2 = KerasClassifier(build_fn=create_model8, epochs= 20, class_weight = best_class_weight, verbose=0)"
   ]
  },
  {
   "cell_type": "code",
   "execution_count": 25,
   "metadata": {
    "collapsed": false
   },
   "outputs": [
    {
     "data": {
      "text/plain": [
       "<keras.callbacks.History at 0xe8af160>"
      ]
     },
     "execution_count": 25,
     "metadata": {},
     "output_type": "execute_result"
    }
   ],
   "source": [
    "modelNN2.fit(X_train.as_matrix(), y_train )"
   ]
  },
  {
   "cell_type": "code",
   "execution_count": 26,
   "metadata": {
    "collapsed": true
   },
   "outputs": [],
   "source": [
    "import warnings\n",
    "warnings.filterwarnings('ignore', message='.*is ill-defined', append=True)\n",
    "warnings.filterwarnings('ignore', category=DeprecationWarning)"
   ]
  },
  {
   "cell_type": "raw",
   "metadata": {
    "collapsed": false
   },
   "source": [
    "scores4=cross_val_score(modelNN2,X_train.as_matrix(),y_train,cv=10,scoring=my_custom_scorer)\n",
    "print(\"Score cost: %0.4f (+/- %0.4f)\" % (scores4.mean(), scores4.std() * 2))"
   ]
  },
  {
   "cell_type": "code",
   "execution_count": 27,
   "metadata": {
    "collapsed": true
   },
   "outputs": [],
   "source": [
    "model.load_weights('my_model_weights.h5')"
   ]
  },
  {
   "cell_type": "code",
   "execution_count": 28,
   "metadata": {
    "collapsed": false
   },
   "outputs": [
    {
     "name": "stdout",
     "output_type": "stream",
     "text": [
      "Specificity: 0.8829 (+/- 0.0790)\n",
      "Accuracy: 0.9274 (+/- 0.0580)\n",
      "Recall: 1.0000 (+/- 0.0000)\n",
      "Score cost: -855936.2350 (+/- 1824523.2391)\n"
     ]
    }
   ],
   "source": [
    "scores1=cross_val_score(modelNN2,X_train.as_matrix(),y_train,cv=10,scoring=score_specificity)\n",
    "print(\"Specificity: %0.4f (+/- %0.4f)\" % (scores1.mean(), scores1.std() ))\n",
    "model.load_weights('my_model_weights.h5')\n",
    "scores2=cross_val_score(modelNN2,X_train.as_matrix(),y_train,cv=10,scoring='accuracy')\n",
    "print(\"Accuracy: %0.4f (+/- %0.4f)\" % (scores2.mean(), scores2.std() ))\n",
    "model.load_weights('my_model_weights.h5')\n",
    "scores3=cross_val_score(modelNN2,X_train.as_matrix(),y_train,cv=10,scoring='recall')\n",
    "print(\"Recall: %0.4f (+/- %0.4f)\" % (scores3.mean(), scores3.std() ))\n",
    "model.load_weights('my_model_weights.h5')\n",
    "scores4=cross_val_score(modelNN2,X_train.as_matrix(),y_train,cv=10,scoring=my_custom_scorer)\n",
    "print(\"Score cost: %0.4f (+/- %0.4f)\" % (scores4.mean(), scores4.std() ))"
   ]
  },
  {
   "cell_type": "code",
   "execution_count": 29,
   "metadata": {
    "collapsed": false
   },
   "outputs": [
    {
     "name": "stdout",
     "output_type": "stream",
     "text": [
      "Automatically created module for IPython interactive environment\n",
      "# Tuning hyper-parameters for make_scorer(cost_breast_cancer)\n",
      "\n",
      "Best parameters set found on development set:\n",
      "\n",
      "{'class_weight': {0: 1.0, 1: 64}, 'epochs': 20}\n",
      "\n",
      "Grid scores on development set:\n",
      "\n",
      "-1425250.307 (+/-1913635.076) for {'class_weight': {0: 1.0, 1: 2}, 'epochs': 10}\n",
      "-1717649.241 (+/-3655766.291) for {'class_weight': {0: 1.0, 1: 2}, 'epochs': 20}\n",
      "-858995.883 (+/-1827838.460) for {'class_weight': {0: 1.0, 1: 2}, 'epochs': 50}\n",
      "-2290153.449 (+/-4742525.347) for {'class_weight': {0: 1.0, 1: 2}, 'epochs': 100}\n",
      "-1145259.209 (+/-2616508.350) for {'class_weight': {0: 1.0, 1: 2}, 'epochs': 200}\n",
      "-6205654.623 (+/-12514863.561) for {'class_weight': {0: 1.0, 1: 2}, 'epochs': 500}\n",
      "-1139215.331 (+/-1395839.661) for {'class_weight': {0: 1.0, 1: 4}, 'epochs': 10}\n",
      "-572869.177 (+/-1713174.615) for {'class_weight': {0: 1.0, 1: 4}, 'epochs': 20}\n",
      "-859729.238 (+/-2569582.398) for {'class_weight': {0: 1.0, 1: 4}, 'epochs': 50}\n",
      "-1431477.158 (+/-2925047.338) for {'class_weight': {0: 1.0, 1: 4}, 'epochs': 100}\n",
      "-1717626.309 (+/-2910414.017) for {'class_weight': {0: 1.0, 1: 4}, 'epochs': 200}\n",
      "-1432060.231 (+/-1913020.849) for {'class_weight': {0: 1.0, 1: 4}, 'epochs': 500}\n",
      "-1699402.943 (+/-2597311.164) for {'class_weight': {0: 1.0, 1: 8}, 'epochs': 10}\n",
      "-566779.433 (+/-1137374.625) for {'class_weight': {0: 1.0, 1: 8}, 'epochs': 20}\n",
      "-1717695.595 (+/-4273046.410) for {'class_weight': {0: 1.0, 1: 8}, 'epochs': 50}\n",
      "-1431522.535 (+/-3437827.317) for {'class_weight': {0: 1.0, 1: 8}, 'epochs': 100}\n",
      "-1431544.980 (+/-2631399.919) for {'class_weight': {0: 1.0, 1: 8}, 'epochs': 200}\n",
      "-5152288.047 (+/-13621378.452) for {'class_weight': {0: 1.0, 1: 8}, 'epochs': 500}\n",
      "-287887.148 (+/-856142.242) for {'class_weight': {0: 1.0, 1: 16}, 'epochs': 10}\n",
      "-286857.134 (+/-856560.581) for {'class_weight': {0: 1.0, 1: 16}, 'epochs': 20}\n",
      "-1431500.090 (+/-4283046.828) for {'class_weight': {0: 1.0, 1: 16}, 'epochs': 50}\n",
      "-572937.487 (+/-1713151.772) for {'class_weight': {0: 1.0, 1: 16}, 'epochs': 100}\n",
      "-5152310.491 (+/-14491828.486) for {'class_weight': {0: 1.0, 1: 16}, 'epochs': 200}\n",
      "-10591025.319 (+/-17915880.479) for {'class_weight': {0: 1.0, 1: 16}, 'epochs': 500}\n",
      "-287724.180 (+/-856196.850) for {'class_weight': {0: 1.0, 1: 32}, 'epochs': 10}\n",
      "-566870.676 (+/-1137330.402) for {'class_weight': {0: 1.0, 1: 32}, 'epochs': 20}\n",
      "-574150.474 (+/-1712748.135) for {'class_weight': {0: 1.0, 1: 32}, 'epochs': 50}\n",
      "-1432277.847 (+/-2631002.126) for {'class_weight': {0: 1.0, 1: 32}, 'epochs': 100}\n",
      "-1145236.277 (+/-2616518.383) for {'class_weight': {0: 1.0, 1: 32}, 'epochs': 200}\n",
      "-9445808.072 (+/-18850589.901) for {'class_weight': {0: 1.0, 1: 32}, 'epochs': 500}\n",
      "-575675.247 (+/-1712238.649) for {'class_weight': {0: 1.0, 1: 64}, 'epochs': 10}\n",
      "-3090.532 (+/-2600.346) for {'class_weight': {0: 1.0, 1: 64}, 'epochs': 20}\n",
      "-286901.047 (+/-856393.377) for {'class_weight': {0: 1.0, 1: 64}, 'epochs': 50}\n",
      "-859087.126 (+/-2569796.120) for {'class_weight': {0: 1.0, 1: 64}, 'epochs': 100}\n",
      "-1147824.243 (+/-2615362.691) for {'class_weight': {0: 1.0, 1: 64}, 'epochs': 200}\n",
      "-14221431.266 (+/-21924485.560) for {'class_weight': {0: 1.0, 1: 64}, 'epochs': 500}\n",
      "\n"
     ]
    }
   ],
   "source": [
    "print(__doc__)\n",
    "\n",
    "model.load_weights('my_model_weights.h5')\n",
    "scores = [my_custom_scorer]\n",
    "\n",
    "for score in scores:\n",
    "    print(\"# Tuning hyper-parameters for %s\" % score)\n",
    "    print()\n",
    "\n",
    "    clf4 = GridSearchCV(estimator=modelNN, param_grid=param_gridNN, cv=10, \n",
    "                       scoring=my_custom_scorer)\n",
    "    clf4.fit(X_train.as_matrix(), y_train)\n",
    "\n",
    "    print(\"Best parameters set found on development set:\")\n",
    "    print()\n",
    "    print(clf4.best_params_)\n",
    "    print()\n",
    "    print(\"Grid scores on development set:\")\n",
    "    print()\n",
    "    means4 = clf4.cv_results_['mean_test_score']\n",
    "    stds4 = clf4.cv_results_['std_test_score']\n",
    "    for mean, std, params in zip(means4, stds4, clf4.cv_results_['params']):\n",
    "        print(\"%0.3f (+/-%0.03f) for %r\"\n",
    "              % (mean, std, params))\n",
    "    print()"
   ]
  },
  {
   "cell_type": "code",
   "execution_count": 30,
   "metadata": {
    "collapsed": false
   },
   "outputs": [
    {
     "name": "stdout",
     "output_type": "stream",
     "text": [
      "Best score obtained: -3090.5318376068367\n",
      "Parameters:\n",
      "\tclass_weight: {0: 1.0, 1: 64}\n",
      "\tepochs: 20\n"
     ]
    }
   ],
   "source": [
    "print(\"Best score obtained: {0}\".format(clf4.best_score_))\n",
    "print(\"Parameters:\")\n",
    "for key, value in clf4.best_params_.items():\n",
    "    print(\"\\t{}: {}\".format(key, value))"
   ]
  },
  {
   "cell_type": "code",
   "execution_count": 29,
   "metadata": {
    "collapsed": true
   },
   "outputs": [],
   "source": [
    "model.load_weights('my_model_weights.h5')"
   ]
  },
  {
   "cell_type": "code",
   "execution_count": 30,
   "metadata": {
    "collapsed": true
   },
   "outputs": [],
   "source": [
    "best_class_weight = {0: 1.0, 1: 64}"
   ]
  },
  {
   "cell_type": "code",
   "execution_count": 31,
   "metadata": {
    "collapsed": true
   },
   "outputs": [],
   "source": [
    "modelNN3 = KerasClassifier(build_fn=create_model8, epochs= 20, class_weight = best_class_weight, verbose=0)"
   ]
  },
  {
   "cell_type": "code",
   "execution_count": 32,
   "metadata": {
    "collapsed": false
   },
   "outputs": [
    {
     "data": {
      "text/plain": [
       "<keras.callbacks.History at 0xf4d4208>"
      ]
     },
     "execution_count": 32,
     "metadata": {},
     "output_type": "execute_result"
    }
   ],
   "source": [
    "modelNN3.fit(X_train.as_matrix(), y_train )"
   ]
  },
  {
   "cell_type": "code",
   "execution_count": 33,
   "metadata": {
    "collapsed": true
   },
   "outputs": [],
   "source": [
    "import warnings\n",
    "warnings.filterwarnings('ignore', message='.*is ill-defined', append=True)\n",
    "warnings.filterwarnings('ignore', category=DeprecationWarning)"
   ]
  },
  {
   "cell_type": "code",
   "execution_count": 34,
   "metadata": {
    "collapsed": false
   },
   "outputs": [
    {
     "name": "stdout",
     "output_type": "stream",
     "text": [
      "Specificity: 0.8260 (+/- 0.2108)\n",
      "Accuracy: 0.8907 (+/- 0.1479)\n",
      "Recall: 0.9871 (+/- 0.0259)\n",
      "Score cost: -571507.1100 (+/- 1139476.5191)\n"
     ]
    }
   ],
   "source": [
    "model.load_weights('my_model_weights.h5')\n",
    "scores1=cross_val_score(modelNN3,X_train.as_matrix(),y_train,cv=10,scoring=score_specificity)\n",
    "print(\"Specificity: %0.4f (+/- %0.4f)\" % (scores1.mean(), scores1.std() ))\n",
    "model.load_weights('my_model_weights.h5')\n",
    "scores2=cross_val_score(modelNN3,X_train.as_matrix(),y_train,cv=10,scoring='accuracy')\n",
    "print(\"Accuracy: %0.4f (+/- %0.4f)\" % (scores2.mean(), scores2.std() ))\n",
    "model.load_weights('my_model_weights.h5')\n",
    "scores3=cross_val_score(modelNN3,X_train.as_matrix(),y_train,cv=10,scoring='recall')\n",
    "print(\"Recall: %0.4f (+/- %0.4f)\" % (scores3.mean(), scores3.std() ))\n",
    "model.load_weights('my_model_weights.h5')\n",
    "scores4=cross_val_score(modelNN3,X_train.as_matrix(),y_train,cv=10,scoring=my_custom_scorer)\n",
    "print(\"Score cost: %0.4f (+/- %0.4f)\" % (scores4.mean(), scores4.std() ))"
   ]
  },
  {
   "cell_type": "code",
   "execution_count": 35,
   "metadata": {
    "collapsed": false
   },
   "outputs": [
    {
     "name": "stdout",
     "output_type": "stream",
     "text": [
      "Automatically created module for IPython interactive environment\n",
      "# Tuning hyper-parameters for make_scorer(cost_breast_cancer)\n",
      "\n",
      "Best parameters set found on development set:\n",
      "\n",
      "{'epochs': 10, 'class_weight': {0: 1.0, 1: 16}}\n",
      "\n",
      "Grid scores on development set:\n",
      "\n",
      "-2290061.718 (+/-3327265.265) for {'epochs': 10, 'class_weight': {0: 1.0, 1: 2}}\n",
      "-1431385.915 (+/-3437903.197) for {'epochs': 20, 'class_weight': {0: 1.0, 1: 2}}\n",
      "-1431340.050 (+/-2300712.717) for {'epochs': 50, 'class_weight': {0: 1.0, 1: 2}}\n",
      "-1997799.403 (+/-3622480.497) for {'epochs': 100, 'class_weight': {0: 1.0, 1: 2}}\n",
      "-1711628.296 (+/-3425928.839) for {'epochs': 200, 'class_weight': {0: 1.0, 1: 2}}\n",
      "-1717649.729 (+/-2910400.196) for {'epochs': 500, 'class_weight': {0: 1.0, 1: 2}}\n",
      "-859200.325 (+/-1827813.951) for {'epochs': 10, 'class_weight': {0: 1.0, 1: 4}}\n",
      "-572822.336 (+/-1141686.401) for {'epochs': 20, 'class_weight': {0: 1.0, 1: 4}}\n",
      "-859087.126 (+/-2569796.118) for {'epochs': 50, 'class_weight': {0: 1.0, 1: 4}}\n",
      "-1717649.729 (+/-4273095.433) for {'epochs': 100, 'class_weight': {0: 1.0, 1: 4}}\n",
      "-1145235.789 (+/-2616493.625) for {'epochs': 200, 'class_weight': {0: 1.0, 1: 4}}\n",
      "-5438687.504 (+/-12923234.883) for {'epochs': 500, 'class_weight': {0: 1.0, 1: 4}}\n",
      "-853089.112 (+/-1304921.521) for {'epochs': 10, 'class_weight': {0: 1.0, 1: 8}}\n",
      "-1717763.416 (+/-3425297.370) for {'epochs': 20, 'class_weight': {0: 1.0, 1: 8}}\n",
      "-286674.161 (+/-856545.407) for {'epochs': 50, 'class_weight': {0: 1.0, 1: 8}}\n",
      "-1431500.578 (+/-4283046.667) for {'epochs': 100, 'class_weight': {0: 1.0, 1: 8}}\n",
      "-1431477.158 (+/-2925002.652) for {'epochs': 200, 'class_weight': {0: 1.0, 1: 8}}\n",
      "-15632782.142 (+/-21610466.694) for {'epochs': 500, 'class_weight': {0: 1.0, 1: 8}}\n",
      "-748.481 (+/-907.151) for {'epochs': 10, 'class_weight': {0: 1.0, 1: 16}}\n",
      "-286810.780 (+/-856499.822) for {'epochs': 20, 'class_weight': {0: 1.0, 1: 16}}\n",
      "-1431499.115 (+/-2631400.026) for {'epochs': 50, 'class_weight': {0: 1.0, 1: 16}}\n",
      "-1145395.829 (+/-2616473.566) for {'epochs': 100, 'class_weight': {0: 1.0, 1: 16}}\n",
      "-859086.638 (+/-2569796.279) for {'epochs': 200, 'class_weight': {0: 1.0, 1: 16}}\n",
      "-5347092.507 (+/-12487414.964) for {'epochs': 500, 'class_weight': {0: 1.0, 1: 16}}\n",
      "-288379.467 (+/-855978.610) for {'epochs': 10, 'class_weight': {0: 1.0, 1: 32}}\n",
      "-287064.015 (+/-856415.511) for {'epochs': 20, 'class_weight': {0: 1.0, 1: 32}}\n",
      "-1146426.819 (+/-2616048.097) for {'epochs': 50, 'class_weight': {0: 1.0, 1: 32}}\n",
      "-859200.813 (+/-2569758.140) for {'epochs': 100, 'class_weight': {0: 1.0, 1: 32}}\n",
      "-1107.595 (+/-1979.414) for {'epochs': 200, 'class_weight': {0: 1.0, 1: 32}}\n",
      "-287981.318 (+/-856112.832) for {'epochs': 500, 'class_weight': {0: 1.0, 1: 32}}\n",
      "-1147133.826 (+/-3425807.274) for {'epochs': 10, 'class_weight': {0: 1.0, 1: 64}}\n",
      "-287465.579 (+/-856282.150) for {'epochs': 20, 'class_weight': {0: 1.0, 1: 64}}\n",
      "-286946.912 (+/-856454.387) for {'epochs': 50, 'class_weight': {0: 1.0, 1: 64}}\n",
      "-573625.952 (+/-1712922.934) for {'epochs': 100, 'class_weight': {0: 1.0, 1: 64}}\n",
      "-1146291.176 (+/-2616082.542) for {'epochs': 200, 'class_weight': {0: 1.0, 1: 64}}\n",
      "-6297833.669 (+/-16191186.344) for {'epochs': 500, 'class_weight': {0: 1.0, 1: 64}}\n",
      "\n"
     ]
    }
   ],
   "source": [
    "print(__doc__)\n",
    "\n",
    "model.load_weights('my_model_weights.h5')\n",
    "scores = [my_custom_scorer]\n",
    "\n",
    "for score in scores:\n",
    "    print(\"# Tuning hyper-parameters for %s\" % score)\n",
    "    print()\n",
    "\n",
    "    clf5 = GridSearchCV(estimator=modelNN, param_grid=param_gridNN, cv=10, \n",
    "                       scoring=my_custom_scorer)\n",
    "    clf5.fit(X_train.as_matrix(), y_train)\n",
    "\n",
    "    print(\"Best parameters set found on development set:\")\n",
    "    print()\n",
    "    print(clf5.best_params_)\n",
    "    print()\n",
    "    print(\"Grid scores on development set:\")\n",
    "    print()\n",
    "    means5 = clf5.cv_results_['mean_test_score']\n",
    "    stds5 = clf5.cv_results_['std_test_score']\n",
    "    for mean, std, params in zip(means5, stds5, clf5.cv_results_['params']):\n",
    "        print(\"%0.3f (+/-%0.03f) for %r\"\n",
    "              % (mean, std, params))\n",
    "    print()"
   ]
  },
  {
   "cell_type": "code",
   "execution_count": 36,
   "metadata": {
    "collapsed": false
   },
   "outputs": [
    {
     "name": "stdout",
     "output_type": "stream",
     "text": [
      "Best score obtained: -748.4805555555556\n",
      "Parameters:\n",
      "\tepochs: 10\n",
      "\tclass_weight: {0: 1.0, 1: 16}\n"
     ]
    }
   ],
   "source": [
    "print(\"Best score obtained: {0}\".format(clf5.best_score_))\n",
    "print(\"Parameters:\")\n",
    "for key, value in clf5.best_params_.items():\n",
    "    print(\"\\t{}: {}\".format(key, value))"
   ]
  },
  {
   "cell_type": "code",
   "execution_count": 37,
   "metadata": {
    "collapsed": true
   },
   "outputs": [],
   "source": [
    "model.load_weights('my_model_weights.h5')"
   ]
  },
  {
   "cell_type": "code",
   "execution_count": 38,
   "metadata": {
    "collapsed": true
   },
   "outputs": [],
   "source": [
    "best_class_weight = {0: 1.0, 1: 16}"
   ]
  },
  {
   "cell_type": "code",
   "execution_count": 39,
   "metadata": {
    "collapsed": true
   },
   "outputs": [],
   "source": [
    "modelNN4 = KerasClassifier(build_fn=create_model8, epochs= 10, class_weight = best_class_weight, verbose=0)"
   ]
  },
  {
   "cell_type": "code",
   "execution_count": 40,
   "metadata": {
    "collapsed": false
   },
   "outputs": [
    {
     "data": {
      "text/plain": [
       "<keras.callbacks.History at 0xed044e0>"
      ]
     },
     "execution_count": 40,
     "metadata": {},
     "output_type": "execute_result"
    }
   ],
   "source": [
    "modelNN4.fit(X_train.as_matrix(), y_train )"
   ]
  },
  {
   "cell_type": "code",
   "execution_count": 41,
   "metadata": {
    "collapsed": true
   },
   "outputs": [],
   "source": [
    "import warnings\n",
    "warnings.filterwarnings('ignore', message='.*is ill-defined', append=True)\n",
    "warnings.filterwarnings('ignore', category=DeprecationWarning)"
   ]
  },
  {
   "cell_type": "code",
   "execution_count": 42,
   "metadata": {
    "collapsed": false
   },
   "outputs": [
    {
     "name": "stdout",
     "output_type": "stream",
     "text": [
      "Specificity: 0.8950 (+/- 0.1150)\n",
      "Accuracy: 0.8836 (+/- 0.1664)\n",
      "Recall: 0.9938 (+/- 0.0187)\n",
      "Score cost: -570707.8850 (+/- 1139760.3100)\n"
     ]
    }
   ],
   "source": [
    "model.load_weights('my_model_weights.h5')\n",
    "scores1=cross_val_score(modelNN4,X_train.as_matrix(),y_train,cv=10,scoring=score_specificity)\n",
    "print(\"Specificity: %0.4f (+/- %0.4f)\" % (scores1.mean(), scores1.std() ))\n",
    "model.load_weights('my_model_weights.h5')\n",
    "scores2=cross_val_score(modelNN4,X_train.as_matrix(),y_train,cv=10,scoring='accuracy')\n",
    "print(\"Accuracy: %0.4f (+/- %0.4f)\" % (scores2.mean(), scores2.std() ))\n",
    "model.load_weights('my_model_weights.h5')\n",
    "scores3=cross_val_score(modelNN4,X_train.as_matrix(),y_train,cv=10,scoring='recall')\n",
    "print(\"Recall: %0.4f (+/- %0.4f)\" % (scores3.mean(), scores3.std() ))\n",
    "model.load_weights('my_model_weights.h5')\n",
    "scores4=cross_val_score(modelNN4,X_train.as_matrix(),y_train,cv=10,scoring=my_custom_scorer)\n",
    "print(\"Score cost: %0.4f (+/- %0.4f)\" % (scores4.mean(), scores4.std() ))"
   ]
  },
  {
   "cell_type": "code",
   "execution_count": 23,
   "metadata": {
    "collapsed": false
   },
   "outputs": [
    {
     "name": "stdout",
     "output_type": "stream",
     "text": [
      "Automatically created module for IPython interactive environment\n",
      "# Tuning hyper-parameters for make_scorer(cost_breast_cancer)\n",
      "\n",
      "Best parameters set found on development set:\n",
      "\n",
      "{'class_weight': {0: 1.0, 1: 16}, 'epochs': 100}\n",
      "\n",
      "Grid scores on development set:\n",
      "\n",
      "-1425410.835 (+/-2631455.313) for {'class_weight': {0: 1.0, 1: 2}, 'epochs': 10}\n",
      "-1431431.781 (+/-2925024.849) for {'class_weight': {0: 1.0, 1: 2}, 'epochs': 20}\n",
      "-859018.328 (+/-1827899.428) for {'class_weight': {0: 1.0, 1: 2}, 'epochs': 50}\n",
      "-1145305.562 (+/-3426417.479) for {'class_weight': {0: 1.0, 1: 2}, 'epochs': 100}\n",
      "-2570258.721 (+/-4320279.306) for {'class_weight': {0: 1.0, 1: 2}, 'epochs': 200}\n",
      "-7332416.252 (+/-14873530.776) for {'class_weight': {0: 1.0, 1: 2}, 'epochs': 500}\n",
      "-286763.939 (+/-856515.480) for {'class_weight': {0: 1.0, 1: 4}, 'epochs': 10}\n",
      "-572823.312 (+/-1141685.912) for {'class_weight': {0: 1.0, 1: 4}, 'epochs': 20}\n",
      "-1717695.595 (+/-3425388.604) for {'class_weight': {0: 1.0, 1: 4}, 'epochs': 50}\n",
      "-1145189.924 (+/-3426456.121) for {'class_weight': {0: 1.0, 1: 4}, 'epochs': 100}\n",
      "-1145304.099 (+/-2616513.692) for {'class_weight': {0: 1.0, 1: 4}, 'epochs': 200}\n",
      "-858950.018 (+/-1827895.758) for {'class_weight': {0: 1.0, 1: 4}, 'epochs': 500}\n",
      "-859221.794 (+/-1827803.905) for {'class_weight': {0: 1.0, 1: 8}, 'epochs': 10}\n",
      "-859131.039 (+/-1827775.001) for {'class_weight': {0: 1.0, 1: 8}, 'epochs': 20}\n",
      "-859018.328 (+/-1827863.675) for {'class_weight': {0: 1.0, 1: 8}, 'epochs': 50}\n",
      "-572869.177 (+/-1141720.131) for {'class_weight': {0: 1.0, 1: 8}, 'epochs': 100}\n",
      "-1711697.581 (+/-3425894.661) for {'class_weight': {0: 1.0, 1: 8}, 'epochs': 200}\n",
      "-1145258.721 (+/-3426433.132) for {'class_weight': {0: 1.0, 1: 8}, 'epochs': 500}\n",
      "-573373.206 (+/-1713082.760) for {'class_weight': {0: 1.0, 1: 16}, 'epochs': 10}\n",
      "-1145328.007 (+/-2616453.272) for {'class_weight': {0: 1.0, 1: 16}, 'epochs': 20}\n",
      "-572846.244 (+/-1713182.266) for {'class_weight': {0: 1.0, 1: 16}, 'epochs': 50}\n",
      "-1029.039 (+/-1819.558) for {'class_weight': {0: 1.0, 1: 16}, 'epochs': 100}\n",
      "-5152870.144 (+/-12819012.304) for {'class_weight': {0: 1.0, 1: 16}, 'epochs': 200}\n",
      "-11448991.188 (+/-20181605.883) for {'class_weight': {0: 1.0, 1: 16}, 'epochs': 500}\n",
      "-859360.853 (+/-1827738.533) for {'class_weight': {0: 1.0, 1: 32}, 'epochs': 10}\n",
      "-1302.766 (+/-1875.829) for {'class_weight': {0: 1.0, 1: 32}, 'epochs': 20}\n",
      "-1146127.720 (+/-2616153.985) for {'class_weight': {0: 1.0, 1: 32}, 'epochs': 50}\n",
      "-5634158.474 (+/-12524458.542) for {'class_weight': {0: 1.0, 1: 32}, 'epochs': 100}\n",
      "-860462.105 (+/-2569337.952) for {'class_weight': {0: 1.0, 1: 32}, 'epochs': 200}\n",
      "-2290221.759 (+/-2794208.213) for {'class_weight': {0: 1.0, 1: 32}, 'epochs': 500}\n",
      "-287176.238 (+/-856530.546) for {'class_weight': {0: 1.0, 1: 64}, 'epochs': 10}\n",
      "-1966.835 (+/-2592.934) for {'class_weight': {0: 1.0, 1: 64}, 'epochs': 20}\n",
      "-287385.071 (+/-856309.083) for {'class_weight': {0: 1.0, 1: 64}, 'epochs': 50}\n",
      "-1146245.310 (+/-3426103.984) for {'class_weight': {0: 1.0, 1: 64}, 'epochs': 100}\n",
      "-4867260.641 (+/-14562046.401) for {'class_weight': {0: 1.0, 1: 64}, 'epochs': 200}\n",
      "-15828183.826 (+/-22145076.203) for {'class_weight': {0: 1.0, 1: 64}, 'epochs': 500}\n",
      "\n"
     ]
    }
   ],
   "source": [
    "print(__doc__)\n",
    "\n",
    "model.load_weights('my_model_weights.h5')\n",
    "scores = [my_custom_scorer]\n",
    "\n",
    "for score in scores:\n",
    "    print(\"# Tuning hyper-parameters for %s\" % score)\n",
    "    print()\n",
    "\n",
    "    clf6 = GridSearchCV(estimator=modelNN, param_grid=param_gridNN, cv=10, \n",
    "                       scoring=my_custom_scorer)\n",
    "    clf6.fit(X_train.as_matrix(), y_train)\n",
    "\n",
    "    print(\"Best parameters set found on development set:\")\n",
    "    print()\n",
    "    print(clf6.best_params_)\n",
    "    print()\n",
    "    print(\"Grid scores on development set:\")\n",
    "    print()\n",
    "    means6 = clf6.cv_results_['mean_test_score']\n",
    "    stds6 = clf6.cv_results_['std_test_score']\n",
    "    for mean, std, params in zip(means6, stds6, clf6.cv_results_['params']):\n",
    "        print(\"%0.3f (+/-%0.03f) for %r\"\n",
    "              % (mean, std, params))\n",
    "    print()"
   ]
  },
  {
   "cell_type": "code",
   "execution_count": 24,
   "metadata": {
    "collapsed": false
   },
   "outputs": [
    {
     "name": "stdout",
     "output_type": "stream",
     "text": [
      "Best score obtained: -1029.0387820512822\n",
      "Parameters:\n",
      "\tclass_weight: {0: 1.0, 1: 16}\n",
      "\tepochs: 100\n"
     ]
    }
   ],
   "source": [
    "print(\"Best score obtained: {0}\".format(clf6.best_score_))\n",
    "print(\"Parameters:\")\n",
    "for key, value in clf6.best_params_.items():\n",
    "    print(\"\\t{}: {}\".format(key, value))"
   ]
  },
  {
   "cell_type": "code",
   "execution_count": 21,
   "metadata": {
    "collapsed": true
   },
   "outputs": [],
   "source": [
    "model.load_weights('my_model_weights.h5')"
   ]
  },
  {
   "cell_type": "code",
   "execution_count": 22,
   "metadata": {
    "collapsed": true
   },
   "outputs": [],
   "source": [
    "best_class_weight = {0: 1.0, 1: 16}"
   ]
  },
  {
   "cell_type": "code",
   "execution_count": 23,
   "metadata": {
    "collapsed": true
   },
   "outputs": [],
   "source": [
    "modelNN5 = KerasClassifier(build_fn=create_model8, epochs= 100, class_weight = best_class_weight, verbose=0)"
   ]
  },
  {
   "cell_type": "code",
   "execution_count": 24,
   "metadata": {
    "collapsed": false
   },
   "outputs": [
    {
     "data": {
      "text/plain": [
       "<keras.callbacks.History at 0xd20c240>"
      ]
     },
     "execution_count": 24,
     "metadata": {},
     "output_type": "execute_result"
    }
   ],
   "source": [
    "modelNN5.fit(X_train.as_matrix(), y_train )"
   ]
  },
  {
   "cell_type": "code",
   "execution_count": 25,
   "metadata": {
    "collapsed": true
   },
   "outputs": [],
   "source": [
    "import warnings\n",
    "warnings.filterwarnings('ignore', message='.*is ill-defined', append=True)\n",
    "warnings.filterwarnings('ignore', category=DeprecationWarning)"
   ]
  },
  {
   "cell_type": "code",
   "execution_count": 26,
   "metadata": {
    "collapsed": false
   },
   "outputs": [
    {
     "name": "stdout",
     "output_type": "stream",
     "text": [
      "Specificity: 0.8979 (+/- 0.1486)\n",
      "Accuracy: 0.9210 (+/- 0.0913)\n",
      "Recall: 0.9875 (+/- 0.0375)\n",
      "Score cost: -856096.0800 (+/- 2564711.3662)\n"
     ]
    }
   ],
   "source": [
    "model.load_weights('my_model_weights.h5')\n",
    "scores1=cross_val_score(modelNN5,X_train.as_matrix(),y_train,cv=10,scoring=score_specificity)\n",
    "print(\"Specificity: %0.4f (+/- %0.4f)\" % (scores1.mean(), scores1.std() ))\n",
    "model.load_weights('my_model_weights.h5')\n",
    "scores2=cross_val_score(modelNN5,X_train.as_matrix(),y_train,cv=10,scoring='accuracy')\n",
    "print(\"Accuracy: %0.4f (+/- %0.4f)\" % (scores2.mean(), scores2.std() ))\n",
    "model.load_weights('my_model_weights.h5')\n",
    "scores3=cross_val_score(modelNN5,X_train.as_matrix(),y_train,cv=10,scoring='recall')\n",
    "print(\"Recall: %0.4f (+/- %0.4f)\" % (scores3.mean(), scores3.std() ))\n",
    "model.load_weights('my_model_weights.h5')\n",
    "scores4=cross_val_score(modelNN5,X_train.as_matrix(),y_train,cv=10,scoring=my_custom_scorer)\n",
    "print(\"Score cost: %0.4f (+/- %0.4f)\" % (scores4.mean(), scores4.std() ))"
   ]
  },
  {
   "cell_type": "code",
   "execution_count": 27,
   "metadata": {
    "collapsed": false
   },
   "outputs": [
    {
     "name": "stdout",
     "output_type": "stream",
     "text": [
      "Automatically created module for IPython interactive environment\n",
      "# Tuning hyper-parameters for make_scorer(cost_breast_cancer)\n",
      "\n",
      "Best parameters set found on development set:\n",
      "\n",
      "{'epochs': 20, 'class_weight': {0: 1.0, 1: 64}}\n",
      "\n",
      "Grid scores on development set:\n",
      "\n",
      "-858904.153 (+/-2569857.250) for {'epochs': 10, 'class_weight': {0: 1.0, 1: 2}}\n",
      "-1431385.428 (+/-3437865.379) for {'epochs': 20, 'class_weight': {0: 1.0, 1: 2}}\n",
      "-1431431.781 (+/-3437865.095) for {'epochs': 50, 'class_weight': {0: 1.0, 1: 2}}\n",
      "-1431523.511 (+/-3437845.920) for {'epochs': 100, 'class_weight': {0: 1.0, 1: 2}}\n",
      "-1431454.225 (+/-2631449.266) for {'epochs': 200, 'class_weight': {0: 1.0, 1: 2}}\n",
      "-2290107.584 (+/-4194851.151) for {'epochs': 500, 'class_weight': {0: 1.0, 1: 2}}\n",
      "-1431498.627 (+/-2300585.705) for {'epochs': 10, 'class_weight': {0: 1.0, 1: 4}}\n",
      "-572823.312 (+/-1141800.372) for {'epochs': 20, 'class_weight': {0: 1.0, 1: 4}}\n",
      "-287179.166 (+/-856378.566) for {'epochs': 50, 'class_weight': {0: 1.0, 1: 4}}\n",
      "-859384.273 (+/-2569697.017) for {'epochs': 100, 'class_weight': {0: 1.0, 1: 4}}\n",
      "-2003935.988 (+/-2867246.731) for {'epochs': 200, 'class_weight': {0: 1.0, 1: 4}}\n",
      "-280515.619 (+/-848563.703) for {'epochs': 500, 'class_weight': {0: 1.0, 1: 4}}\n",
      "-573163.885 (+/-1141572.471) for {'epochs': 10, 'class_weight': {0: 1.0, 1: 8}}\n",
      "-859063.705 (+/-2569803.942) for {'epochs': 20, 'class_weight': {0: 1.0, 1: 8}}\n",
      "-286696.605 (+/-856537.916) for {'epochs': 50, 'class_weight': {0: 1.0, 1: 8}}\n",
      "-6187522.012 (+/-15278645.799) for {'epochs': 100, 'class_weight': {0: 1.0, 1: 8}}\n",
      "-1997754.514 (+/-3389910.217) for {'epochs': 200, 'class_weight': {0: 1.0, 1: 8}}\n",
      "-5724700.524 (+/-14502175.701) for {'epochs': 500, 'class_weight': {0: 1.0, 1: 8}}\n",
      "-859519.917 (+/-2569651.582) for {'epochs': 10, 'class_weight': {0: 1.0, 1: 16}}\n",
      "-1431838.712 (+/-2631265.161) for {'epochs': 20, 'class_weight': {0: 1.0, 1: 16}}\n",
      "-280584.417 (+/-848541.003) for {'epochs': 50, 'class_weight': {0: 1.0, 1: 16}}\n",
      "-288049.140 (+/-856166.437) for {'epochs': 100, 'class_weight': {0: 1.0, 1: 16}}\n",
      "-859040.285 (+/-2569811.774) for {'epochs': 200, 'class_weight': {0: 1.0, 1: 16}}\n",
      "-5438505.507 (+/-13479417.582) for {'epochs': 500, 'class_weight': {0: 1.0, 1: 16}}\n",
      "-1669.687 (+/-1547.394) for {'epochs': 10, 'class_weight': {0: 1.0, 1: 32}}\n",
      "-573027.753 (+/-1141697.927) for {'epochs': 20, 'class_weight': {0: 1.0, 1: 32}}\n",
      "-1145350.940 (+/-3426402.314) for {'epochs': 50, 'class_weight': {0: 1.0, 1: 32}}\n",
      "-859729.238 (+/-1827530.872) for {'epochs': 100, 'class_weight': {0: 1.0, 1: 32}}\n",
      "-859361.341 (+/-1827738.344) for {'epochs': 200, 'class_weight': {0: 1.0, 1: 32}}\n",
      "-11911857.078 (+/-20618469.766) for {'epochs': 500, 'class_weight': {0: 1.0, 1: 32}}\n",
      "-4407.448 (+/-2469.589) for {'epochs': 10, 'class_weight': {0: 1.0, 1: 64}}\n",
      "-1188.103 (+/-919.098) for {'epochs': 20, 'class_weight': {0: 1.0, 1: 64}}\n",
      "-1255.925 (+/-1861.869) for {'epochs': 50, 'class_weight': {0: 1.0, 1: 64}}\n",
      "-573419.071 (+/-1712991.178) for {'epochs': 100, 'class_weight': {0: 1.0, 1: 64}}\n",
      "-287325.544 (+/-856405.846) for {'epochs': 200, 'class_weight': {0: 1.0, 1: 64}}\n",
      "-2519.657 (+/-3054.011) for {'epochs': 500, 'class_weight': {0: 1.0, 1: 64}}\n",
      "\n"
     ]
    }
   ],
   "source": [
    "print(__doc__)\n",
    "\n",
    "model.load_weights('my_model_weights.h5')\n",
    "scores = [my_custom_scorer]\n",
    "\n",
    "for score in scores:\n",
    "    print(\"# Tuning hyper-parameters for %s\" % score)\n",
    "    print()\n",
    "\n",
    "    clf7 = GridSearchCV(estimator=modelNN, param_grid=param_gridNN, cv=10, \n",
    "                       scoring=my_custom_scorer)\n",
    "    clf7.fit(X_train.as_matrix(), y_train)\n",
    "\n",
    "    print(\"Best parameters set found on development set:\")\n",
    "    print()\n",
    "    print(clf7.best_params_)\n",
    "    print()\n",
    "    print(\"Grid scores on development set:\")\n",
    "    print()\n",
    "    means7 = clf7.cv_results_['mean_test_score']\n",
    "    stds7 = clf7.cv_results_['std_test_score']\n",
    "    for mean, std, params in zip(means7, stds7, clf7.cv_results_['params']):\n",
    "        print(\"%0.3f (+/-%0.03f) for %r\"\n",
    "              % (mean, std, params))\n",
    "    print()"
   ]
  },
  {
   "cell_type": "code",
   "execution_count": 28,
   "metadata": {
    "collapsed": false
   },
   "outputs": [
    {
     "name": "stdout",
     "output_type": "stream",
     "text": [
      "Best score obtained: -1188.1030982905982\n",
      "Parameters:\n",
      "\tepochs: 20\n",
      "\tclass_weight: {0: 1.0, 1: 64}\n"
     ]
    }
   ],
   "source": [
    "print(\"Best score obtained: {0}\".format(clf7.best_score_))\n",
    "print(\"Parameters:\")\n",
    "for key, value in clf7.best_params_.items():\n",
    "    print(\"\\t{}: {}\".format(key, value))"
   ]
  },
  {
   "cell_type": "code",
   "execution_count": 29,
   "metadata": {
    "collapsed": true
   },
   "outputs": [],
   "source": [
    "model.load_weights('my_model_weights.h5')"
   ]
  },
  {
   "cell_type": "code",
   "execution_count": 30,
   "metadata": {
    "collapsed": true
   },
   "outputs": [],
   "source": [
    "best_class_weight = {0: 1.0, 1: 64}"
   ]
  },
  {
   "cell_type": "code",
   "execution_count": 31,
   "metadata": {
    "collapsed": true
   },
   "outputs": [],
   "source": [
    "modelNN6 = KerasClassifier(build_fn=create_model8, epochs= 20, class_weight = best_class_weight, verbose=0)"
   ]
  },
  {
   "cell_type": "code",
   "execution_count": 32,
   "metadata": {
    "collapsed": false
   },
   "outputs": [
    {
     "data": {
      "text/plain": [
       "<keras.callbacks.History at 0xed6db70>"
      ]
     },
     "execution_count": 32,
     "metadata": {},
     "output_type": "execute_result"
    }
   ],
   "source": [
    "modelNN6.fit(X_train.as_matrix(), y_train )"
   ]
  },
  {
   "cell_type": "code",
   "execution_count": 33,
   "metadata": {
    "collapsed": true
   },
   "outputs": [],
   "source": [
    "import warnings\n",
    "warnings.filterwarnings('ignore', message='.*is ill-defined', append=True)\n",
    "warnings.filterwarnings('ignore', category=DeprecationWarning)"
   ]
  },
  {
   "cell_type": "code",
   "execution_count": 34,
   "metadata": {
    "collapsed": false
   },
   "outputs": [
    {
     "name": "stdout",
     "output_type": "stream",
     "text": [
      "Specificity: 0.8449 (+/- 0.1270)\n",
      "Accuracy: 0.7676 (+/- 0.2383)\n",
      "Recall: 0.9938 (+/- 0.0187)\n",
      "Score cost: -1461.4400 (+/- 1628.1851)\n"
     ]
    }
   ],
   "source": [
    "model.load_weights('my_model_weights.h5')\n",
    "scores1=cross_val_score(modelNN6,X_train.as_matrix(),y_train,cv=10,scoring=score_specificity)\n",
    "print(\"Specificity: %0.4f (+/- %0.4f)\" % (scores1.mean(), scores1.std() ))\n",
    "model.load_weights('my_model_weights.h5')\n",
    "scores2=cross_val_score(modelNN6,X_train.as_matrix(),y_train,cv=10,scoring='accuracy')\n",
    "print(\"Accuracy: %0.4f (+/- %0.4f)\" % (scores2.mean(), scores2.std() ))\n",
    "model.load_weights('my_model_weights.h5')\n",
    "scores3=cross_val_score(modelNN6,X_train.as_matrix(),y_train,cv=10,scoring='recall')\n",
    "print(\"Recall: %0.4f (+/- %0.4f)\" % (scores3.mean(), scores3.std() ))\n",
    "model.load_weights('my_model_weights.h5')\n",
    "scores4=cross_val_score(modelNN6,X_train.as_matrix(),y_train,cv=10,scoring=my_custom_scorer)\n",
    "print(\"Score cost: %0.4f (+/- %0.4f)\" % (scores4.mean(), scores4.std() ))"
   ]
  },
  {
   "cell_type": "code",
   "execution_count": 35,
   "metadata": {
    "collapsed": false
   },
   "outputs": [
    {
     "name": "stdout",
     "output_type": "stream",
     "text": [
      "Automatically created module for IPython interactive environment\n",
      "# Tuning hyper-parameters for make_scorer(cost_breast_cancer)\n",
      "\n",
      "Best parameters set found on development set:\n",
      "\n",
      "{'epochs': 100, 'class_weight': {0: 1.0, 1: 16}}\n",
      "\n",
      "Grid scores on development set:\n",
      "\n",
      "-286559.498 (+/-856583.729) for {'epochs': 10, 'class_weight': {0: 1.0, 1: 2}}\n",
      "-1997800.867 (+/-3389882.910) for {'epochs': 20, 'class_weight': {0: 1.0, 1: 2}}\n",
      "-1431568.888 (+/-2925069.490) for {'epochs': 50, 'class_weight': {0: 1.0, 1: 2}}\n",
      "-1711491.188 (+/-2282826.982) for {'epochs': 100, 'class_weight': {0: 1.0, 1: 2}}\n",
      "-2290131.004 (+/-4385001.930) for {'epochs': 200, 'class_weight': {0: 1.0, 1: 2}}\n",
      "-1431385.428 (+/-2631461.849) for {'epochs': 500, 'class_weight': {0: 1.0, 1: 2}}\n",
      "-1717762.929 (+/-2910355.861) for {'epochs': 10, 'class_weight': {0: 1.0, 1: 4}}\n",
      "-1717830.750 (+/-3425339.945) for {'epochs': 20, 'class_weight': {0: 1.0, 1: 4}}\n",
      "-1991801.878 (+/-3618718.526) for {'epochs': 50, 'class_weight': {0: 1.0, 1: 4}}\n",
      "-858972.463 (+/-1307563.418) for {'epochs': 100, 'class_weight': {0: 1.0, 1: 4}}\n",
      "-859064.193 (+/-1827877.885) for {'epochs': 200, 'class_weight': {0: 1.0, 1: 4}}\n",
      "-6205723.421 (+/-12836589.770) for {'epochs': 500, 'class_weight': {0: 1.0, 1: 4}}\n",
      "-287339.206 (+/-856325.306) for {'epochs': 10, 'class_weight': {0: 1.0, 1: 8}}\n",
      "-286742.471 (+/-856522.606) for {'epochs': 20, 'class_weight': {0: 1.0, 1: 8}}\n",
      "-1431454.225 (+/-3437855.753) for {'epochs': 50, 'class_weight': {0: 1.0, 1: 8}}\n",
      "-5724745.413 (+/-12830923.340) for {'epochs': 100, 'class_weight': {0: 1.0, 1: 8}}\n",
      "-286651.228 (+/-856553.079) for {'epochs': 200, 'class_weight': {0: 1.0, 1: 8}}\n",
      "-5347115.440 (+/-12617380.970) for {'epochs': 500, 'class_weight': {0: 1.0, 1: 8}}\n",
      "-287061.087 (+/-856416.439) for {'epochs': 10, 'class_weight': {0: 1.0, 1: 16}}\n",
      "-287565.604 (+/-856249.746) for {'epochs': 20, 'class_weight': {0: 1.0, 1: 16}}\n",
      "-286605.851 (+/-856644.532) for {'epochs': 50, 'class_weight': {0: 1.0, 1: 16}}\n",
      "-638.697 (+/-392.930) for {'epochs': 100, 'class_weight': {0: 1.0, 1: 16}}\n",
      "-5153273.660 (+/-13560981.779) for {'epochs': 200, 'class_weight': {0: 1.0, 1: 16}}\n",
      "-1717741.460 (+/-3425384.691) for {'epochs': 500, 'class_weight': {0: 1.0, 1: 16}}\n",
      "-573554.227 (+/-1712945.847) for {'epochs': 10, 'class_weight': {0: 1.0, 1: 32}}\n",
      "-287037.179 (+/-856576.971) for {'epochs': 20, 'class_weight': {0: 1.0, 1: 32}}\n",
      "-859819.505 (+/-2569552.162) for {'epochs': 50, 'class_weight': {0: 1.0, 1: 32}}\n",
      "-1877.057 (+/-2565.185) for {'epochs': 100, 'class_weight': {0: 1.0, 1: 32}}\n",
      "-859751.683 (+/-2569574.839) for {'epochs': 200, 'class_weight': {0: 1.0, 1: 32}}\n",
      "-6475070.051 (+/-15399270.936) for {'epochs': 500, 'class_weight': {0: 1.0, 1: 32}}\n",
      "-3000.265 (+/-2835.360) for {'epochs': 10, 'class_weight': {0: 1.0, 1: 64}}\n",
      "-574652.551 (+/-1712504.156) for {'epochs': 20, 'class_weight': {0: 1.0, 1: 64}}\n",
      "-287957.898 (+/-856119.660) for {'epochs': 50, 'class_weight': {0: 1.0, 1: 64}}\n",
      "-287177.702 (+/-856301.161) for {'epochs': 100, 'class_weight': {0: 1.0, 1: 64}}\n",
      "-1146037.941 (+/-3426173.290) for {'epochs': 200, 'class_weight': {0: 1.0, 1: 64}}\n",
      "-4866046.677 (+/-13636790.574) for {'epochs': 500, 'class_weight': {0: 1.0, 1: 64}}\n",
      "\n"
     ]
    }
   ],
   "source": [
    "print(__doc__)\n",
    "\n",
    "model.load_weights('my_model_weights.h5')\n",
    "scores = [my_custom_scorer]\n",
    "\n",
    "for score in scores:\n",
    "    print(\"# Tuning hyper-parameters for %s\" % score)\n",
    "    print()\n",
    "\n",
    "    clf8 = GridSearchCV(estimator=modelNN, param_grid=param_gridNN, cv=10, \n",
    "                       scoring=my_custom_scorer)\n",
    "    clf8.fit(X_train.as_matrix(), y_train)\n",
    "\n",
    "    print(\"Best parameters set found on development set:\")\n",
    "    print()\n",
    "    print(clf8.best_params_)\n",
    "    print()\n",
    "    print(\"Grid scores on development set:\")\n",
    "    print()\n",
    "    means8 = clf8.cv_results_['mean_test_score']\n",
    "    stds8 = clf8.cv_results_['std_test_score']\n",
    "    for mean, std, params in zip(means8, stds8, clf8.cv_results_['params']):\n",
    "        print(\"%0.3f (+/-%0.03f) for %r\"\n",
    "              % (mean, std, params))\n",
    "    print()"
   ]
  },
  {
   "cell_type": "code",
   "execution_count": 36,
   "metadata": {
    "collapsed": false
   },
   "outputs": [
    {
     "name": "stdout",
     "output_type": "stream",
     "text": [
      "Best score obtained: -638.6969017094018\n",
      "Parameters:\n",
      "\tepochs: 100\n",
      "\tclass_weight: {0: 1.0, 1: 16}\n"
     ]
    }
   ],
   "source": [
    "print(\"Best score obtained: {0}\".format(clf8.best_score_))\n",
    "print(\"Parameters:\")\n",
    "for key, value in clf8.best_params_.items():\n",
    "    print(\"\\t{}: {}\".format(key, value))"
   ]
  },
  {
   "cell_type": "code",
   "execution_count": 37,
   "metadata": {
    "collapsed": true
   },
   "outputs": [],
   "source": [
    "model.load_weights('my_model_weights.h5')"
   ]
  },
  {
   "cell_type": "code",
   "execution_count": 39,
   "metadata": {
    "collapsed": true
   },
   "outputs": [],
   "source": [
    "best_class_weight = {0: 1.0, 1: 16}"
   ]
  },
  {
   "cell_type": "code",
   "execution_count": 40,
   "metadata": {
    "collapsed": true
   },
   "outputs": [],
   "source": [
    "modelNN7 = KerasClassifier(build_fn=create_model8, epochs= 100, class_weight = best_class_weight, verbose=0)"
   ]
  },
  {
   "cell_type": "code",
   "execution_count": 41,
   "metadata": {
    "collapsed": false
   },
   "outputs": [
    {
     "data": {
      "text/plain": [
       "<keras.callbacks.History at 0x12128b00>"
      ]
     },
     "execution_count": 41,
     "metadata": {},
     "output_type": "execute_result"
    }
   ],
   "source": [
    "modelNN7.fit(X_train.as_matrix(), y_train )"
   ]
  },
  {
   "cell_type": "code",
   "execution_count": 42,
   "metadata": {
    "collapsed": true
   },
   "outputs": [],
   "source": [
    "import warnings\n",
    "warnings.filterwarnings('ignore', message='.*is ill-defined', append=True)\n",
    "warnings.filterwarnings('ignore', category=DeprecationWarning)"
   ]
  },
  {
   "cell_type": "code",
   "execution_count": 43,
   "metadata": {
    "collapsed": false
   },
   "outputs": [
    {
     "name": "stdout",
     "output_type": "stream",
     "text": [
      "Specificity: 0.9373 (+/- 0.0271)\n",
      "Accuracy: 0.9401 (+/- 0.0392)\n",
      "Recall: 0.9812 (+/- 0.0563)\n",
      "Score cost: -1425456.7000 (+/- 3431759.6471)\n"
     ]
    }
   ],
   "source": [
    "model.load_weights('my_model_weights.h5')\n",
    "scores1=cross_val_score(modelNN7,X_train.as_matrix(),y_train,cv=10,scoring=score_specificity)\n",
    "print(\"Specificity: %0.4f (+/- %0.4f)\" % (scores1.mean(), scores1.std() ))\n",
    "model.load_weights('my_model_weights.h5')\n",
    "scores2=cross_val_score(modelNN7,X_train.as_matrix(),y_train,cv=10,scoring='accuracy')\n",
    "print(\"Accuracy: %0.4f (+/- %0.4f)\" % (scores2.mean(), scores2.std() ))\n",
    "model.load_weights('my_model_weights.h5')\n",
    "scores3=cross_val_score(modelNN7,X_train.as_matrix(),y_train,cv=10,scoring='recall')\n",
    "print(\"Recall: %0.4f (+/- %0.4f)\" % (scores3.mean(), scores3.std() ))\n",
    "model.load_weights('my_model_weights.h5')\n",
    "scores4=cross_val_score(modelNN7,X_train.as_matrix(),y_train,cv=10,scoring=my_custom_scorer)\n",
    "print(\"Score cost: %0.4f (+/- %0.4f)\" % (scores4.mean(), scores4.std() ))"
   ]
  },
  {
   "cell_type": "code",
   "execution_count": 44,
   "metadata": {
    "collapsed": false
   },
   "outputs": [
    {
     "name": "stdout",
     "output_type": "stream",
     "text": [
      "Automatically created module for IPython interactive environment\n",
      "# Tuning hyper-parameters for make_scorer(cost_breast_cancer)\n",
      "\n",
      "Best parameters set found on development set:\n",
      "\n",
      "{'epochs': 10, 'class_weight': {0: 1.0, 1: 8}}\n",
      "\n",
      "Grid scores on development set:\n",
      "\n",
      "-858904.153 (+/-1307508.291) for {'epochs': 10, 'class_weight': {0: 1.0, 1: 2}}\n",
      "-2862498.592 (+/-4601396.288) for {'epochs': 20, 'class_weight': {0: 1.0, 1: 2}}\n",
      "-2289971.452 (+/-3327366.661) for {'epochs': 50, 'class_weight': {0: 1.0, 1: 2}}\n",
      "-1431522.535 (+/-3437808.316) for {'epochs': 100, 'class_weight': {0: 1.0, 1: 2}}\n",
      "-1145865.215 (+/-1892576.797) for {'epochs': 200, 'class_weight': {0: 1.0, 1: 2}}\n",
      "-1431408.848 (+/-3437855.630) for {'epochs': 500, 'class_weight': {0: 1.0, 1: 2}}\n",
      "-280492.687 (+/-848571.274) for {'epochs': 10, 'class_weight': {0: 1.0, 1: 4}}\n",
      "-1133124.123 (+/-2274680.818) for {'epochs': 20, 'class_weight': {0: 1.0, 1: 4}}\n",
      "-1145167.479 (+/-1892928.931) for {'epochs': 50, 'class_weight': {0: 1.0, 1: 4}}\n",
      "-1145350.940 (+/-3426402.318) for {'epochs': 100, 'class_weight': {0: 1.0, 1: 4}}\n",
      "-1145213.832 (+/-2616528.202) for {'epochs': 200, 'class_weight': {0: 1.0, 1: 4}}\n",
      "-1431430.317 (+/-2631462.278) for {'epochs': 500, 'class_weight': {0: 1.0, 1: 4}}\n",
      "-617.228 (+/-396.599) for {'epochs': 10, 'class_weight': {0: 1.0, 1: 8}}\n",
      "-567489.368 (+/-1137021.575) for {'epochs': 20, 'class_weight': {0: 1.0, 1: 8}}\n",
      "-1717718.527 (+/-2910382.057) for {'epochs': 50, 'class_weight': {0: 1.0, 1: 8}}\n",
      "-859041.748 (+/-2569811.277) for {'epochs': 100, 'class_weight': {0: 1.0, 1: 8}}\n",
      "-7443016.762 (+/-16209061.457) for {'epochs': 200, 'class_weight': {0: 1.0, 1: 8}}\n",
      "-1717694.619 (+/-3425408.177) for {'epochs': 500, 'class_weight': {0: 1.0, 1: 8}}\n",
      "-287314.809 (+/-856408.559) for {'epochs': 10, 'class_weight': {0: 1.0, 1: 16}}\n",
      "-286971.796 (+/-856598.655) for {'epochs': 20, 'class_weight': {0: 1.0, 1: 16}}\n",
      "-859132.503 (+/-2569780.956) for {'epochs': 50, 'class_weight': {0: 1.0, 1: 16}}\n",
      "-859109.082 (+/-1827856.804) for {'epochs': 100, 'class_weight': {0: 1.0, 1: 16}}\n",
      "-287188.436 (+/-856375.918) for {'epochs': 200, 'class_weight': {0: 1.0, 1: 16}}\n",
      "-287269.920 (+/-856348.505) for {'epochs': 500, 'class_weight': {0: 1.0, 1: 16}}\n",
      "-287497.782 (+/-856271.952) for {'epochs': 10, 'class_weight': {0: 1.0, 1: 32}}\n",
      "-286764.427 (+/-856515.305) for {'epochs': 20, 'class_weight': {0: 1.0, 1: 32}}\n",
      "-684.074 (+/-352.937) for {'epochs': 50, 'class_weight': {0: 1.0, 1: 32}}\n",
      "-4774724.920 (+/-12652958.536) for {'epochs': 100, 'class_weight': {0: 1.0, 1: 32}}\n",
      "-859110.058 (+/-2569788.448) for {'epochs': 200, 'class_weight': {0: 1.0, 1: 32}}\n",
      "-5347114.952 (+/-12617386.357) for {'epochs': 500, 'class_weight': {0: 1.0, 1: 32}}\n",
      "-287154.769 (+/-856613.979) for {'epochs': 10, 'class_weight': {0: 1.0, 1: 64}}\n",
      "-1402.791 (+/-1928.779) for {'epochs': 20, 'class_weight': {0: 1.0, 1: 64}}\n",
      "-287748.577 (+/-856187.490) for {'epochs': 50, 'class_weight': {0: 1.0, 1: 64}}\n",
      "-1097.349 (+/-1940.984) for {'epochs': 100, 'class_weight': {0: 1.0, 1: 64}}\n",
      "-1432278.823 (+/-3437531.751) for {'epochs': 200, 'class_weight': {0: 1.0, 1: 64}}\n",
      "-9356721.998 (+/-16821507.849) for {'epochs': 500, 'class_weight': {0: 1.0, 1: 64}}\n",
      "\n"
     ]
    }
   ],
   "source": [
    "print(__doc__)\n",
    "\n",
    "model.load_weights('my_model_weights.h5')\n",
    "scores = [my_custom_scorer]\n",
    "\n",
    "for score in scores:\n",
    "    print(\"# Tuning hyper-parameters for %s\" % score)\n",
    "    print()\n",
    "\n",
    "    clf9 = GridSearchCV(estimator=modelNN, param_grid=param_gridNN, cv=10, \n",
    "                       scoring=my_custom_scorer)\n",
    "    clf9.fit(X_train.as_matrix(), y_train)\n",
    "\n",
    "    print(\"Best parameters set found on development set:\")\n",
    "    print()\n",
    "    print(clf9.best_params_)\n",
    "    print()\n",
    "    print(\"Grid scores on development set:\")\n",
    "    print()\n",
    "    means9 = clf9.cv_results_['mean_test_score']\n",
    "    stds9 = clf9.cv_results_['std_test_score']\n",
    "    for mean, std, params in zip(means9, stds9, clf9.cv_results_['params']):\n",
    "        print(\"%0.3f (+/-%0.03f) for %r\"\n",
    "              % (mean, std, params))\n",
    "    print()"
   ]
  },
  {
   "cell_type": "code",
   "execution_count": 45,
   "metadata": {
    "collapsed": false
   },
   "outputs": [
    {
     "name": "stdout",
     "output_type": "stream",
     "text": [
      "Best score obtained: -617.2280982905982\n",
      "Parameters:\n",
      "\tepochs: 10\n",
      "\tclass_weight: {0: 1.0, 1: 8}\n"
     ]
    }
   ],
   "source": [
    "print(\"Best score obtained: {0}\".format(clf9.best_score_))\n",
    "print(\"Parameters:\")\n",
    "for key, value in clf9.best_params_.items():\n",
    "    print(\"\\t{}: {}\".format(key, value))"
   ]
  },
  {
   "cell_type": "code",
   "execution_count": 46,
   "metadata": {
    "collapsed": true
   },
   "outputs": [],
   "source": [
    "model.load_weights('my_model_weights.h5')"
   ]
  },
  {
   "cell_type": "code",
   "execution_count": 47,
   "metadata": {
    "collapsed": true
   },
   "outputs": [],
   "source": [
    "best_class_weight = {0: 1.0, 1:8}"
   ]
  },
  {
   "cell_type": "code",
   "execution_count": 48,
   "metadata": {
    "collapsed": true
   },
   "outputs": [],
   "source": [
    "modelNN8 = KerasClassifier(build_fn=create_model8, epochs= 10, class_weight = best_class_weight, verbose=0)"
   ]
  },
  {
   "cell_type": "code",
   "execution_count": 49,
   "metadata": {
    "collapsed": false
   },
   "outputs": [
    {
     "data": {
      "text/plain": [
       "<keras.callbacks.History at 0x14b475f8>"
      ]
     },
     "execution_count": 49,
     "metadata": {},
     "output_type": "execute_result"
    }
   ],
   "source": [
    "modelNN8.fit(X_train.as_matrix(), y_train )"
   ]
  },
  {
   "cell_type": "code",
   "execution_count": 50,
   "metadata": {
    "collapsed": true
   },
   "outputs": [],
   "source": [
    "import warnings\n",
    "warnings.filterwarnings('ignore', message='.*is ill-defined', append=True)\n",
    "warnings.filterwarnings('ignore', category=DeprecationWarning)"
   ]
  },
  {
   "cell_type": "code",
   "execution_count": 51,
   "metadata": {
    "collapsed": false
   },
   "outputs": [
    {
     "name": "stdout",
     "output_type": "stream",
     "text": [
      "Specificity: 0.9089 (+/- 0.0683)\n",
      "Accuracy: 0.9400 (+/- 0.0397)\n",
      "Recall: 0.9875 (+/- 0.0375)\n",
      "Score cost: -856324.4300 (+/- 1305517.3265)\n"
     ]
    }
   ],
   "source": [
    "model.load_weights('my_model_weights.h5')\n",
    "scores1=cross_val_score(modelNN8,X_train.as_matrix(),y_train,cv=10,scoring=score_specificity)\n",
    "print(\"Specificity: %0.4f (+/- %0.4f)\" % (scores1.mean(), scores1.std() ))\n",
    "model.load_weights('my_model_weights.h5')\n",
    "scores2=cross_val_score(modelNN8,X_train.as_matrix(),y_train,cv=10,scoring='accuracy')\n",
    "print(\"Accuracy: %0.4f (+/- %0.4f)\" % (scores2.mean(), scores2.std() ))\n",
    "model.load_weights('my_model_weights.h5')\n",
    "scores3=cross_val_score(modelNN8,X_train.as_matrix(),y_train,cv=10,scoring='recall')\n",
    "print(\"Recall: %0.4f (+/- %0.4f)\" % (scores3.mean(), scores3.std() ))\n",
    "model.load_weights('my_model_weights.h5')\n",
    "scores4=cross_val_score(modelNN8,X_train.as_matrix(),y_train,cv=10,scoring=my_custom_scorer)\n",
    "print(\"Score cost: %0.4f (+/- %0.4f)\" % (scores4.mean(), scores4.std() ))"
   ]
  },
  {
   "cell_type": "code",
   "execution_count": 52,
   "metadata": {
    "collapsed": false
   },
   "outputs": [
    {
     "name": "stdout",
     "output_type": "stream",
     "text": [
      "Automatically created module for IPython interactive environment\n",
      "# Tuning hyper-parameters for make_scorer(cost_breast_cancer)\n",
      "\n",
      "Best parameters set found on development set:\n",
      "\n",
      "{'epochs': 10, 'class_weight': {0: 1.0, 1: 16}}\n",
      "\n",
      "Grid scores on development set:\n",
      "\n",
      "-286559.498 (+/-856583.741) for {'epochs': 10, 'class_weight': {0: 1.0, 1: 2}}\n",
      "-1431500.578 (+/-2300612.871) for {'epochs': 20, 'class_weight': {0: 1.0, 1: 2}}\n",
      "-1145190.899 (+/-2616513.257) for {'epochs': 50, 'class_weight': {0: 1.0, 1: 2}}\n",
      "-1717832.702 (+/-3425319.906) for {'epochs': 100, 'class_weight': {0: 1.0, 1: 2}}\n",
      "-2003890.123 (+/-4243796.734) for {'epochs': 200, 'class_weight': {0: 1.0, 1: 2}}\n",
      "-2004542.482 (+/-2566560.817) for {'epochs': 500, 'class_weight': {0: 1.0, 1: 2}}\n",
      "-1145304.586 (+/-2616463.527) for {'epochs': 10, 'class_weight': {0: 1.0, 1: 4}}\n",
      "-859087.126 (+/-2569796.120) for {'epochs': 20, 'class_weight': {0: 1.0, 1: 4}}\n",
      "-572799.891 (+/-1141754.900) for {'epochs': 50, 'class_weight': {0: 1.0, 1: 4}}\n",
      "-1431454.713 (+/-2631473.837) for {'epochs': 100, 'class_weight': {0: 1.0, 1: 4}}\n",
      "-859107.619 (+/-1827821.794) for {'epochs': 200, 'class_weight': {0: 1.0, 1: 4}}\n",
      "-4866721.481 (+/-13636545.152) for {'epochs': 500, 'class_weight': {0: 1.0, 1: 4}}\n",
      "-572960.907 (+/-1713143.941) for {'epochs': 10, 'class_weight': {0: 1.0, 1: 8}}\n",
      "-286650.740 (+/-856553.242) for {'epochs': 20, 'class_weight': {0: 1.0, 1: 8}}\n",
      "-858972.951 (+/-1827849.235) for {'epochs': 50, 'class_weight': {0: 1.0, 1: 8}}\n",
      "-573634.247 (+/-1712920.053) for {'epochs': 100, 'class_weight': {0: 1.0, 1: 8}}\n",
      "-859040.773 (+/-2569811.609) for {'epochs': 200, 'class_weight': {0: 1.0, 1: 8}}\n",
      "-1718337.219 (+/-4272789.053) for {'epochs': 500, 'class_weight': {0: 1.0, 1: 8}}\n",
      "-844.602 (+/-693.819) for {'epochs': 10, 'class_weight': {0: 1.0, 1: 16}}\n",
      "-1145350.452 (+/-2616518.388) for {'epochs': 20, 'class_weight': {0: 1.0, 1: 16}}\n",
      "-287435.327 (+/-856293.037) for {'epochs': 50, 'class_weight': {0: 1.0, 1: 16}}\n",
      "-1431705.996 (+/-4282978.040) for {'epochs': 100, 'class_weight': {0: 1.0, 1: 16}}\n",
      "-6869709.914 (+/-16360810.036) for {'epochs': 200, 'class_weight': {0: 1.0, 1: 16}}\n",
      "-1432921.423 (+/-3437284.072) for {'epochs': 500, 'class_weight': {0: 1.0, 1: 16}}\n",
      "-1145647.111 (+/-3426303.395) for {'epochs': 10, 'class_weight': {0: 1.0, 1: 32}}\n",
      "-288674.175 (+/-855879.901) for {'epochs': 20, 'class_weight': {0: 1.0, 1: 32}}\n",
      "-1431477.158 (+/-2925069.680) for {'epochs': 50, 'class_weight': {0: 1.0, 1: 32}}\n",
      "-286810.780 (+/-856499.816) for {'epochs': 100, 'class_weight': {0: 1.0, 1: 32}}\n",
      "-1145282.142 (+/-2616523.295) for {'epochs': 200, 'class_weight': {0: 1.0, 1: 32}}\n",
      "-6297090.068 (+/-14376880.982) for {'epochs': 500, 'class_weight': {0: 1.0, 1: 32}}\n",
      "-958.777 (+/-628.784) for {'epochs': 10, 'class_weight': {0: 1.0, 1: 64}}\n",
      "-1437.434 (+/-1924.381) for {'epochs': 20, 'class_weight': {0: 1.0, 1: 64}}\n",
      "-573648.397 (+/-1712915.116) for {'epochs': 50, 'class_weight': {0: 1.0, 1: 64}}\n",
      "-573235.610 (+/-1141593.843) for {'epochs': 100, 'class_weight': {0: 1.0, 1: 64}}\n",
      "-860403.554 (+/-1306626.105) for {'epochs': 200, 'class_weight': {0: 1.0, 1: 64}}\n",
      "-8875056.500 (+/-17708621.118) for {'epochs': 500, 'class_weight': {0: 1.0, 1: 64}}\n",
      "\n"
     ]
    }
   ],
   "source": [
    "print(__doc__)\n",
    "\n",
    "model.load_weights('my_model_weights.h5')\n",
    "scores = [my_custom_scorer]\n",
    "\n",
    "for score in scores:\n",
    "    print(\"# Tuning hyper-parameters for %s\" % score)\n",
    "    print()\n",
    "\n",
    "    clf10 = GridSearchCV(estimator=modelNN, param_grid=param_gridNN, cv=10, \n",
    "                       scoring=my_custom_scorer)\n",
    "    clf10.fit(X_train.as_matrix(), y_train)\n",
    "\n",
    "    print(\"Best parameters set found on development set:\")\n",
    "    print()\n",
    "    print(clf10.best_params_)\n",
    "    print()\n",
    "    print(\"Grid scores on development set:\")\n",
    "    print()\n",
    "    means10 = clf10.cv_results_['mean_test_score']\n",
    "    stds10 = clf10.cv_results_['std_test_score']\n",
    "    for mean, std, params in zip(means10, stds10, clf10.cv_results_['params']):\n",
    "        print(\"%0.3f (+/-%0.03f) for %r\"\n",
    "              % (mean, std, params))\n",
    "    print()"
   ]
  },
  {
   "cell_type": "code",
   "execution_count": 53,
   "metadata": {
    "collapsed": false
   },
   "outputs": [
    {
     "name": "stdout",
     "output_type": "stream",
     "text": [
      "Best score obtained: -844.6022435897436\n",
      "Parameters:\n",
      "\tepochs: 10\n",
      "\tclass_weight: {0: 1.0, 1: 16}\n"
     ]
    }
   ],
   "source": [
    "print(\"Best score obtained: {0}\".format(clf10.best_score_))\n",
    "print(\"Parameters:\")\n",
    "for key, value in clf10.best_params_.items():\n",
    "    print(\"\\t{}: {}\".format(key, value))"
   ]
  },
  {
   "cell_type": "code",
   "execution_count": 54,
   "metadata": {
    "collapsed": true
   },
   "outputs": [],
   "source": [
    "model.load_weights('my_model_weights.h5')"
   ]
  },
  {
   "cell_type": "code",
   "execution_count": 55,
   "metadata": {
    "collapsed": true
   },
   "outputs": [],
   "source": [
    "best_class_weight = {0: 1.0, 1:16}"
   ]
  },
  {
   "cell_type": "code",
   "execution_count": 56,
   "metadata": {
    "collapsed": true
   },
   "outputs": [],
   "source": [
    "modelNN9 = KerasClassifier(build_fn=create_model8, epochs= 10, class_weight = best_class_weight, verbose=0)"
   ]
  },
  {
   "cell_type": "code",
   "execution_count": 57,
   "metadata": {
    "collapsed": false
   },
   "outputs": [
    {
     "data": {
      "text/plain": [
       "<keras.callbacks.History at 0x18adc1d0>"
      ]
     },
     "execution_count": 57,
     "metadata": {},
     "output_type": "execute_result"
    }
   ],
   "source": [
    "modelNN9.fit(X_train.as_matrix(), y_train )"
   ]
  },
  {
   "cell_type": "code",
   "execution_count": 58,
   "metadata": {
    "collapsed": true
   },
   "outputs": [],
   "source": [
    "import warnings\n",
    "warnings.filterwarnings('ignore', message='.*is ill-defined', append=True)\n",
    "warnings.filterwarnings('ignore', category=DeprecationWarning)"
   ]
  },
  {
   "cell_type": "code",
   "execution_count": 59,
   "metadata": {
    "collapsed": false
   },
   "outputs": [
    {
     "name": "stdout",
     "output_type": "stream",
     "text": [
      "Specificity: 0.8925 (+/- 0.1121)\n",
      "Accuracy: 0.9315 (+/- 0.0334)\n",
      "Recall: 0.9871 (+/- 0.0259)\n",
      "Score cost: -570662.2150 (+/- 1139840.2282)\n"
     ]
    }
   ],
   "source": [
    "model.load_weights('my_model_weights.h5')\n",
    "scores1=cross_val_score(modelNN9,X_train.as_matrix(),y_train,cv=10,scoring=score_specificity)\n",
    "print(\"Specificity: %0.4f (+/- %0.4f)\" % (scores1.mean(), scores1.std() ))\n",
    "model.load_weights('my_model_weights.h5')\n",
    "scores2=cross_val_score(modelNN9,X_train.as_matrix(),y_train,cv=10,scoring='accuracy')\n",
    "print(\"Accuracy: %0.4f (+/- %0.4f)\" % (scores2.mean(), scores2.std() ))\n",
    "model.load_weights('my_model_weights.h5')\n",
    "scores3=cross_val_score(modelNN9,X_train.as_matrix(),y_train,cv=10,scoring='recall')\n",
    "print(\"Recall: %0.4f (+/- %0.4f)\" % (scores3.mean(), scores3.std() ))\n",
    "model.load_weights('my_model_weights.h5')\n",
    "scores4=cross_val_score(modelNN9,X_train.as_matrix(),y_train,cv=10,scoring=my_custom_scorer)\n",
    "print(\"Score cost: %0.4f (+/- %0.4f)\" % (scores4.mean(), scores4.std() ))"
   ]
  },
  {
   "cell_type": "code",
   "execution_count": 60,
   "metadata": {
    "collapsed": false
   },
   "outputs": [
    {
     "name": "stdout",
     "output_type": "stream",
     "text": [
      "Automatically created module for IPython interactive environment\n",
      "# Tuning hyper-parameters for make_scorer(cost_breast_cancer)\n",
      "\n",
      "Best parameters set found on development set:\n",
      "\n",
      "{'epochs': 50, 'class_weight': {0: 1.0, 1: 64}}\n",
      "\n",
      "Grid scores on development set:\n",
      "\n",
      "-2003890.611 (+/-4243781.105) for {'epochs': 10, 'class_weight': {0: 1.0, 1: 2}}\n",
      "-859798.524 (+/-1827498.298) for {'epochs': 20, 'class_weight': {0: 1.0, 1: 2}}\n",
      "-2003844.258 (+/-4431866.062) for {'epochs': 50, 'class_weight': {0: 1.0, 1: 2}}\n",
      "-2283995.883 (+/-2796219.679) for {'epochs': 100, 'class_weight': {0: 1.0, 1: 2}}\n",
      "-1711603.899 (+/-2615865.715) for {'epochs': 200, 'class_weight': {0: 1.0, 1: 2}}\n",
      "-2277883.207 (+/-4383493.089) for {'epochs': 500, 'class_weight': {0: 1.0, 1: 2}}\n",
      "-853593.629 (+/-1825655.202) for {'epochs': 10, 'class_weight': {0: 1.0, 1: 4}}\n",
      "-566779.433 (+/-1137260.923) for {'epochs': 20, 'class_weight': {0: 1.0, 1: 4}}\n",
      "-859017.352 (+/-2569819.437) for {'epochs': 50, 'class_weight': {0: 1.0, 1: 4}}\n",
      "-1145305.074 (+/-2616513.262) for {'epochs': 100, 'class_weight': {0: 1.0, 1: 4}}\n",
      "-2003844.258 (+/-3388876.910) for {'epochs': 200, 'class_weight': {0: 1.0, 1: 4}}\n",
      "-2576280.155 (+/-4125530.432) for {'epochs': 500, 'class_weight': {0: 1.0, 1: 4}}\n",
      "-1145304.586 (+/-2283486.006) for {'epochs': 10, 'class_weight': {0: 1.0, 1: 8}}\n",
      "-573251.224 (+/-1713047.244) for {'epochs': 20, 'class_weight': {0: 1.0, 1: 8}}\n",
      "-859155.435 (+/-2569773.294) for {'epochs': 50, 'class_weight': {0: 1.0, 1: 8}}\n",
      "-2003913.055 (+/-3621463.761) for {'epochs': 100, 'class_weight': {0: 1.0, 1: 8}}\n",
      "-573026.777 (+/-1141698.452) for {'epochs': 200, 'class_weight': {0: 1.0, 1: 8}}\n",
      "-5432988.590 (+/-13481008.202) for {'epochs': 500, 'class_weight': {0: 1.0, 1: 8}}\n",
      "-853272.573 (+/-1825805.549) for {'epochs': 10, 'class_weight': {0: 1.0, 1: 16}}\n",
      "-1145624.179 (+/-1892756.458) for {'epochs': 20, 'class_weight': {0: 1.0, 1: 16}}\n",
      "-286696.605 (+/-856537.940) for {'epochs': 50, 'class_weight': {0: 1.0, 1: 16}}\n",
      "-1146060.386 (+/-3426242.129) for {'epochs': 100, 'class_weight': {0: 1.0, 1: 16}}\n",
      "-567008.759 (+/-1137260.635) for {'epochs': 200, 'class_weight': {0: 1.0, 1: 16}}\n",
      "-5724744.925 (+/-12638750.372) for {'epochs': 500, 'class_weight': {0: 1.0, 1: 16}}\n",
      "-1572.590 (+/-2073.420) for {'epochs': 10, 'class_weight': {0: 1.0, 1: 32}}\n",
      "-1258.365 (+/-2034.196) for {'epochs': 20, 'class_weight': {0: 1.0, 1: 32}}\n",
      "-286765.403 (+/-856514.949) for {'epochs': 50, 'class_weight': {0: 1.0, 1: 32}}\n",
      "-286719.050 (+/-856606.726) for {'epochs': 100, 'class_weight': {0: 1.0, 1: 32}}\n",
      "-4580561.596 (+/-13705585.581) for {'epochs': 200, 'class_weight': {0: 1.0, 1: 32}}\n",
      "-6011903.598 (+/-13895154.525) for {'epochs': 500, 'class_weight': {0: 1.0, 1: 32}}\n",
      "-2538.198 (+/-2429.407) for {'epochs': 10, 'class_weight': {0: 1.0, 1: 64}}\n",
      "-1870.713 (+/-1926.967) for {'epochs': 20, 'class_weight': {0: 1.0, 1: 64}}\n",
      "-753.360 (+/-457.689) for {'epochs': 50, 'class_weight': {0: 1.0, 1: 64}}\n",
      "-6012247.098 (+/-16173786.648) for {'epochs': 100, 'class_weight': {0: 1.0, 1: 64}}\n",
      "-5902633.178 (+/-15204315.104) for {'epochs': 200, 'class_weight': {0: 1.0, 1: 64}}\n",
      "-5442446.497 (+/-13658195.449) for {'epochs': 500, 'class_weight': {0: 1.0, 1: 64}}\n",
      "\n"
     ]
    }
   ],
   "source": [
    "print(__doc__)\n",
    "\n",
    "model.load_weights('my_model_weights.h5')\n",
    "scores = [my_custom_scorer]\n",
    "\n",
    "for score in scores:\n",
    "    print(\"# Tuning hyper-parameters for %s\" % score)\n",
    "    print()\n",
    "\n",
    "    clf11 = GridSearchCV(estimator=modelNN, param_grid=param_gridNN, cv=10, \n",
    "                       scoring=my_custom_scorer)\n",
    "    clf11.fit(X_train.as_matrix(), y_train)\n",
    "\n",
    "    print(\"Best parameters set found on development set:\")\n",
    "    print()\n",
    "    print(clf11.best_params_)\n",
    "    print()\n",
    "    print(\"Grid scores on development set:\")\n",
    "    print()\n",
    "    means11 = clf11.cv_results_['mean_test_score']\n",
    "    stds11 = clf11.cv_results_['std_test_score']\n",
    "    for mean, std, params in zip(means11, stds11, clf11.cv_results_['params']):\n",
    "        print(\"%0.3f (+/-%0.03f) for %r\"\n",
    "              % (mean, std, params))\n",
    "    print()"
   ]
  },
  {
   "cell_type": "code",
   "execution_count": 61,
   "metadata": {
    "collapsed": false
   },
   "outputs": [
    {
     "name": "stdout",
     "output_type": "stream",
     "text": [
      "Best score obtained: -753.359829059829\n",
      "Parameters:\n",
      "\tepochs: 50\n",
      "\tclass_weight: {0: 1.0, 1: 64}\n"
     ]
    }
   ],
   "source": [
    "print(\"Best score obtained: {0}\".format(clf11.best_score_))\n",
    "print(\"Parameters:\")\n",
    "for key, value in clf11.best_params_.items():\n",
    "    print(\"\\t{}: {}\".format(key, value))"
   ]
  },
  {
   "cell_type": "code",
   "execution_count": 62,
   "metadata": {
    "collapsed": true
   },
   "outputs": [],
   "source": [
    "model.load_weights('my_model_weights.h5')"
   ]
  },
  {
   "cell_type": "code",
   "execution_count": 63,
   "metadata": {
    "collapsed": true
   },
   "outputs": [],
   "source": [
    "best_class_weight = {0: 1.0, 1:64}"
   ]
  },
  {
   "cell_type": "code",
   "execution_count": 64,
   "metadata": {
    "collapsed": true
   },
   "outputs": [],
   "source": [
    "modelNN10 = KerasClassifier(build_fn=create_model8, epochs= 50, class_weight = best_class_weight, verbose=0)"
   ]
  },
  {
   "cell_type": "code",
   "execution_count": 65,
   "metadata": {
    "collapsed": false
   },
   "outputs": [
    {
     "data": {
      "text/plain": [
       "<keras.callbacks.History at 0x18aa8dd8>"
      ]
     },
     "execution_count": 65,
     "metadata": {},
     "output_type": "execute_result"
    }
   ],
   "source": [
    "modelNN10.fit(X_train.as_matrix(), y_train )"
   ]
  },
  {
   "cell_type": "code",
   "execution_count": 66,
   "metadata": {
    "collapsed": true
   },
   "outputs": [],
   "source": [
    "import warnings\n",
    "warnings.filterwarnings('ignore', message='.*is ill-defined', append=True)\n",
    "warnings.filterwarnings('ignore', category=DeprecationWarning)"
   ]
  },
  {
   "cell_type": "code",
   "execution_count": 67,
   "metadata": {
    "collapsed": false
   },
   "outputs": [
    {
     "name": "stdout",
     "output_type": "stream",
     "text": [
      "Specificity: 0.8311 (+/- 0.2800)\n",
      "Accuracy: 0.8646 (+/- 0.1221)\n",
      "Recall: 0.9938 (+/- 0.0187)\n",
      "Score cost: -285822.0600 (+/- 854878.2913)\n"
     ]
    }
   ],
   "source": [
    "model.load_weights('my_model_weights.h5')\n",
    "scores1=cross_val_score(modelNN10,X_train.as_matrix(),y_train,cv=10,scoring=score_specificity)\n",
    "print(\"Specificity: %0.4f (+/- %0.4f)\" % (scores1.mean(), scores1.std() ))\n",
    "model.load_weights('my_model_weights.h5')\n",
    "scores2=cross_val_score(modelNN10,X_train.as_matrix(),y_train,cv=10,scoring='accuracy')\n",
    "print(\"Accuracy: %0.4f (+/- %0.4f)\" % (scores2.mean(), scores2.std() ))\n",
    "model.load_weights('my_model_weights.h5')\n",
    "scores3=cross_val_score(modelNN10,X_train.as_matrix(),y_train,cv=10,scoring='recall')\n",
    "print(\"Recall: %0.4f (+/- %0.4f)\" % (scores3.mean(), scores3.std() ))\n",
    "model.load_weights('my_model_weights.h5')\n",
    "scores4=cross_val_score(modelNN10,X_train.as_matrix(),y_train,cv=10,scoring=my_custom_scorer)\n",
    "print(\"Score cost: %0.4f (+/- %0.4f)\" % (scores4.mean(), scores4.std() ))"
   ]
  },
  {
   "cell_type": "code",
   "execution_count": 68,
   "metadata": {
    "collapsed": false
   },
   "outputs": [
    {
     "name": "stdout",
     "output_type": "stream",
     "text": [
      "Automatically created module for IPython interactive environment\n",
      "# Tuning hyper-parameters for make_scorer(cost_breast_cancer)\n",
      "\n",
      "Best parameters set found on development set:\n",
      "\n",
      "{'epochs': 20, 'class_weight': {0: 1.0, 1: 64}}\n",
      "\n",
      "Grid scores on development set:\n",
      "\n",
      "-1997685.716 (+/-2228305.040) for {'epochs': 10, 'class_weight': {0: 1.0, 1: 2}}\n",
      "-2277906.140 (+/-3562181.633) for {'epochs': 20, 'class_weight': {0: 1.0, 1: 2}}\n",
      "-1145259.697 (+/-2283508.507) for {'epochs': 50, 'class_weight': {0: 1.0, 1: 2}}\n",
      "-858950.018 (+/-1307628.132) for {'epochs': 100, 'class_weight': {0: 1.0, 1: 2}}\n",
      "-1997731.581 (+/-2568486.424) for {'epochs': 200, 'class_weight': {0: 1.0, 1: 2}}\n",
      "-5724678.079 (+/-12638790.988) for {'epochs': 500, 'class_weight': {0: 1.0, 1: 2}}\n",
      "-572914.554 (+/-1141640.164) for {'epochs': 10, 'class_weight': {0: 1.0, 1: 4}}\n",
      "-1717557.999 (+/-2910431.864) for {'epochs': 20, 'class_weight': {0: 1.0, 1: 4}}\n",
      "-1425273.239 (+/-3437936.416) for {'epochs': 50, 'class_weight': {0: 1.0, 1: 4}}\n",
      "-1145235.789 (+/-2616543.575) for {'epochs': 100, 'class_weight': {0: 1.0, 1: 4}}\n",
      "-1431453.737 (+/-1913507.608) for {'epochs': 200, 'class_weight': {0: 1.0, 1: 4}}\n",
      "-1998442.979 (+/-4244366.165) for {'epochs': 500, 'class_weight': {0: 1.0, 1: 4}}\n",
      "-859247.166 (+/-2569742.664) for {'epochs': 10, 'class_weight': {0: 1.0, 1: 8}}\n",
      "-287542.184 (+/-856257.863) for {'epochs': 20, 'class_weight': {0: 1.0, 1: 8}}\n",
      "-1431431.293 (+/-3437789.251) for {'epochs': 50, 'class_weight': {0: 1.0, 1: 8}}\n",
      "-858995.883 (+/-2569826.600) for {'epochs': 100, 'class_weight': {0: 1.0, 1: 8}}\n",
      "-1431522.535 (+/-3437827.317) for {'epochs': 200, 'class_weight': {0: 1.0, 1: 8}}\n",
      "-852996.406 (+/-1825934.504) for {'epochs': 500, 'class_weight': {0: 1.0, 1: 8}}\n",
      "-566893.120 (+/-1137260.554) for {'epochs': 10, 'class_weight': {0: 1.0, 1: 16}}\n",
      "-286788.824 (+/-856583.433) for {'epochs': 20, 'class_weight': {0: 1.0, 1: 16}}\n",
      "-572983.840 (+/-1713136.319) for {'epochs': 50, 'class_weight': {0: 1.0, 1: 16}}\n",
      "-287568.532 (+/-856249.128) for {'epochs': 100, 'class_weight': {0: 1.0, 1: 16}}\n",
      "-859545.777 (+/-1827652.225) for {'epochs': 200, 'class_weight': {0: 1.0, 1: 16}}\n",
      "-9732599.823 (+/-18060699.963) for {'epochs': 500, 'class_weight': {0: 1.0, 1: 16}}\n",
      "-1429.139 (+/-1732.119) for {'epochs': 10, 'class_weight': {0: 1.0, 1: 32}}\n",
      "-573693.774 (+/-1141307.370) for {'epochs': 20, 'class_weight': {0: 1.0, 1: 32}}\n",
      "-286902.023 (+/-856469.519) for {'epochs': 50, 'class_weight': {0: 1.0, 1: 32}}\n",
      "-572846.244 (+/-1141788.883) for {'epochs': 100, 'class_weight': {0: 1.0, 1: 32}}\n",
      "-573120.947 (+/-1141823.065) for {'epochs': 200, 'class_weight': {0: 1.0, 1: 32}}\n",
      "-1145281.654 (+/-3426425.471) for {'epochs': 500, 'class_weight': {0: 1.0, 1: 32}}\n",
      "-3444.767 (+/-2655.298) for {'epochs': 10, 'class_weight': {0: 1.0, 1: 64}}\n",
      "-1300.814 (+/-974.135) for {'epochs': 20, 'class_weight': {0: 1.0, 1: 64}}\n",
      "-1601.378 (+/-1891.993) for {'epochs': 50, 'class_weight': {0: 1.0, 1: 64}}\n",
      "-1726.775 (+/-2672.668) for {'epochs': 100, 'class_weight': {0: 1.0, 1: 64}}\n",
      "-2565.034 (+/-2979.258) for {'epochs': 200, 'class_weight': {0: 1.0, 1: 64}}\n",
      "-4867468.498 (+/-14561977.011) for {'epochs': 500, 'class_weight': {0: 1.0, 1: 64}}\n",
      "\n"
     ]
    }
   ],
   "source": [
    "print(__doc__)\n",
    "\n",
    "model.load_weights('my_model_weights.h5')\n",
    "scores = [my_custom_scorer]\n",
    "\n",
    "for score in scores:\n",
    "    print(\"# Tuning hyper-parameters for %s\" % score)\n",
    "    print()\n",
    "\n",
    "    clf12 = GridSearchCV(estimator=modelNN, param_grid=param_gridNN, cv=10, \n",
    "                       scoring=my_custom_scorer)\n",
    "    clf12.fit(X_train.as_matrix(), y_train)\n",
    "\n",
    "    print(\"Best parameters set found on development set:\")\n",
    "    print()\n",
    "    print(clf12.best_params_)\n",
    "    print()\n",
    "    print(\"Grid scores on development set:\")\n",
    "    print()\n",
    "    means12 = clf12.cv_results_['mean_test_score']\n",
    "    stds12 = clf12.cv_results_['std_test_score']\n",
    "    for mean, std, params in zip(means12, stds12, clf12.cv_results_['params']):\n",
    "        print(\"%0.3f (+/-%0.03f) for %r\"\n",
    "              % (mean, std, params))\n",
    "    print()"
   ]
  },
  {
   "cell_type": "code",
   "execution_count": 69,
   "metadata": {
    "collapsed": false
   },
   "outputs": [
    {
     "name": "stdout",
     "output_type": "stream",
     "text": [
      "Best score obtained: -1300.8143162393162\n",
      "Parameters:\n",
      "\tepochs: 20\n",
      "\tclass_weight: {0: 1.0, 1: 64}\n"
     ]
    }
   ],
   "source": [
    "print(\"Best score obtained: {0}\".format(clf12.best_score_))\n",
    "print(\"Parameters:\")\n",
    "for key, value in clf12.best_params_.items():\n",
    "    print(\"\\t{}: {}\".format(key, value))"
   ]
  },
  {
   "cell_type": "code",
   "execution_count": 70,
   "metadata": {
    "collapsed": true
   },
   "outputs": [],
   "source": [
    "model.load_weights('my_model_weights.h5')"
   ]
  },
  {
   "cell_type": "code",
   "execution_count": 71,
   "metadata": {
    "collapsed": true
   },
   "outputs": [],
   "source": [
    "best_class_weight = {0: 1.0, 1:64}"
   ]
  },
  {
   "cell_type": "code",
   "execution_count": 72,
   "metadata": {
    "collapsed": true
   },
   "outputs": [],
   "source": [
    "modelNN11 = KerasClassifier(build_fn=create_model8, epochs= 20, class_weight = best_class_weight, verbose=0)"
   ]
  },
  {
   "cell_type": "code",
   "execution_count": 73,
   "metadata": {
    "collapsed": false
   },
   "outputs": [
    {
     "data": {
      "text/plain": [
       "<keras.callbacks.History at 0x1a167b70>"
      ]
     },
     "execution_count": 73,
     "metadata": {},
     "output_type": "execute_result"
    }
   ],
   "source": [
    "modelNN11.fit(X_train.as_matrix(), y_train )"
   ]
  },
  {
   "cell_type": "code",
   "execution_count": 74,
   "metadata": {
    "collapsed": false
   },
   "outputs": [
    {
     "name": "stdout",
     "output_type": "stream",
     "text": [
      "Specificity: 0.7587 (+/- 0.3007)\n",
      "Accuracy: 0.9444 (+/- 0.0292)\n",
      "Recall: 1.0000 (+/- 0.0000)\n",
      "Score cost: -1140730.7200 (+/- 3419832.5679)\n"
     ]
    }
   ],
   "source": [
    "import warnings\n",
    "warnings.filterwarnings('ignore', message='.*is ill-defined', append=True)\n",
    "warnings.filterwarnings('ignore', category=DeprecationWarning)\n",
    "model.load_weights('my_model_weights.h5')\n",
    "scores1=cross_val_score(modelNN11,X_train.as_matrix(),y_train,cv=10,scoring=score_specificity)\n",
    "print(\"Specificity: %0.4f (+/- %0.4f)\" % (scores1.mean(), scores1.std() ))\n",
    "model.load_weights('my_model_weights.h5')\n",
    "scores2=cross_val_score(modelNN11,X_train.as_matrix(),y_train,cv=10,scoring='accuracy')\n",
    "print(\"Accuracy: %0.4f (+/- %0.4f)\" % (scores2.mean(), scores2.std() ))\n",
    "model.load_weights('my_model_weights.h5')\n",
    "scores3=cross_val_score(modelNN11,X_train.as_matrix(),y_train,cv=10,scoring='recall')\n",
    "print(\"Recall: %0.4f (+/- %0.4f)\" % (scores3.mean(), scores3.std() ))\n",
    "model.load_weights('my_model_weights.h5')\n",
    "scores4=cross_val_score(modelNN11,X_train.as_matrix(),y_train,cv=10,scoring=my_custom_scorer)\n",
    "print(\"Score cost: %0.4f (+/- %0.4f)\" % (scores4.mean(), scores4.std() ))"
   ]
  },
  {
   "cell_type": "code",
   "execution_count": 75,
   "metadata": {
    "collapsed": false
   },
   "outputs": [
    {
     "name": "stdout",
     "output_type": "stream",
     "text": [
      "Automatically created module for IPython interactive environment\n",
      "# Tuning hyper-parameters for make_scorer(cost_breast_cancer)\n",
      "\n",
      "Best parameters set found on development set:\n",
      "\n",
      "{'epochs': 50, 'class_weight': {0: 1.0, 1: 4}}\n",
      "\n",
      "Grid scores on development set:\n",
      "\n",
      "-1139078.223 (+/-2615889.293) for {'epochs': 10, 'class_weight': {0: 1.0, 1: 2}}\n",
      "-572777.935 (+/-1713128.776) for {'epochs': 20, 'class_weight': {0: 1.0, 1: 2}}\n",
      "-572868.201 (+/-1141606.198) for {'epochs': 50, 'class_weight': {0: 1.0, 1: 2}}\n",
      "-2290085.139 (+/-3564100.653) for {'epochs': 100, 'class_weight': {0: 1.0, 1: 2}}\n",
      "-1425319.104 (+/-2631529.816) for {'epochs': 200, 'class_weight': {0: 1.0, 1: 2}}\n",
      "-7143541.982 (+/-13284888.766) for {'epochs': 500, 'class_weight': {0: 1.0, 1: 2}}\n",
      "-1145236.765 (+/-2616443.234) for {'epochs': 10, 'class_weight': {0: 1.0, 1: 4}}\n",
      "-1145144.546 (+/-1892977.330) for {'epochs': 20, 'class_weight': {0: 1.0, 1: 4}}\n",
      "-456.212 (+/-270.558) for {'epochs': 50, 'class_weight': {0: 1.0, 1: 4}}\n",
      "-1431522.047 (+/-3437827.524) for {'epochs': 100, 'class_weight': {0: 1.0, 1: 4}}\n",
      "-1145167.967 (+/-1892963.161) for {'epochs': 200, 'class_weight': {0: 1.0, 1: 4}}\n",
      "-5152195.340 (+/-12819283.345) for {'epochs': 500, 'class_weight': {0: 1.0, 1: 4}}\n",
      "-286741.983 (+/-856446.513) for {'epochs': 10, 'class_weight': {0: 1.0, 1: 8}}\n",
      "-573051.174 (+/-1713113.794) for {'epochs': 20, 'class_weight': {0: 1.0, 1: 8}}\n",
      "-5438528.440 (+/-12923322.034) for {'epochs': 50, 'class_weight': {0: 1.0, 1: 8}}\n",
      "-6010873.095 (+/-13478412.607) for {'epochs': 100, 'class_weight': {0: 1.0, 1: 8}}\n",
      "-1431430.805 (+/-3437884.518) for {'epochs': 200, 'class_weight': {0: 1.0, 1: 8}}\n",
      "-1431499.603 (+/-3437817.857) for {'epochs': 500, 'class_weight': {0: 1.0, 1: 8}}\n",
      "-566939.961 (+/-1137180.992) for {'epochs': 10, 'class_weight': {0: 1.0, 1: 16}}\n",
      "-1177.369 (+/-1731.344) for {'epochs': 20, 'class_weight': {0: 1.0, 1: 16}}\n",
      "-573420.047 (+/-1712990.748) for {'epochs': 50, 'class_weight': {0: 1.0, 1: 16}}\n",
      "-1145419.249 (+/-1892845.765) for {'epochs': 100, 'class_weight': {0: 1.0, 1: 16}}\n",
      "-6010986.782 (+/-16123746.746) for {'epochs': 200, 'class_weight': {0: 1.0, 1: 16}}\n",
      "-575492.762 (+/-1712300.644) for {'epochs': 500, 'class_weight': {0: 1.0, 1: 16}}\n",
      "-1117.354 (+/-525.729) for {'epochs': 10, 'class_weight': {0: 1.0, 1: 32}}\n",
      "-286947.888 (+/-856454.056) for {'epochs': 20, 'class_weight': {0: 1.0, 1: 32}}\n",
      "-1431888.481 (+/-4282917.107) for {'epochs': 50, 'class_weight': {0: 1.0, 1: 32}}\n",
      "-571.363 (+/-210.316) for {'epochs': 100, 'class_weight': {0: 1.0, 1: 32}}\n",
      "-288049.628 (+/-856089.706) for {'epochs': 200, 'class_weight': {0: 1.0, 1: 32}}\n",
      "-1144.190 (+/-2007.567) for {'epochs': 500, 'class_weight': {0: 1.0, 1: 32}}\n",
      "-2655.789 (+/-2778.500) for {'epochs': 10, 'class_weight': {0: 1.0, 1: 64}}\n",
      "-1662.856 (+/-2095.862) for {'epochs': 20, 'class_weight': {0: 1.0, 1: 64}}\n",
      "-752.872 (+/-353.840) for {'epochs': 50, 'class_weight': {0: 1.0, 1: 64}}\n",
      "-2816.317 (+/-2632.530) for {'epochs': 100, 'class_weight': {0: 1.0, 1: 64}}\n",
      "-287980.342 (+/-856113.006) for {'epochs': 200, 'class_weight': {0: 1.0, 1: 64}}\n",
      "-4203606.426 (+/-12726425.808) for {'epochs': 500, 'class_weight': {0: 1.0, 1: 64}}\n",
      "\n"
     ]
    }
   ],
   "source": [
    "print(__doc__)\n",
    "\n",
    "model.load_weights('my_model_weights.h5')\n",
    "scores = [my_custom_scorer]\n",
    "\n",
    "for score in scores:\n",
    "    print(\"# Tuning hyper-parameters for %s\" % score)\n",
    "    print()\n",
    "\n",
    "    clf13 = GridSearchCV(estimator=modelNN, param_grid=param_gridNN, cv=10, \n",
    "                       scoring=my_custom_scorer)\n",
    "    clf13.fit(X_train.as_matrix(), y_train)\n",
    "\n",
    "    print(\"Best parameters set found on development set:\")\n",
    "    print()\n",
    "    print(clf13.best_params_)\n",
    "    print()\n",
    "    print(\"Grid scores on development set:\")\n",
    "    print()\n",
    "    means13 = clf13.cv_results_['mean_test_score']\n",
    "    stds13 = clf13.cv_results_['std_test_score']\n",
    "    for mean, std, params in zip(means13, stds13, clf13.cv_results_['params']):\n",
    "        print(\"%0.3f (+/-%0.03f) for %r\"\n",
    "              % (mean, std, params))\n",
    "    print()"
   ]
  },
  {
   "cell_type": "code",
   "execution_count": 76,
   "metadata": {
    "collapsed": false
   },
   "outputs": [
    {
     "name": "stdout",
     "output_type": "stream",
     "text": [
      "Best score obtained: -456.21207264957263\n",
      "Parameters:\n",
      "\tepochs: 50\n",
      "\tclass_weight: {0: 1.0, 1: 4}\n"
     ]
    }
   ],
   "source": [
    "print(\"Best score obtained: {0}\".format(clf13.best_score_))\n",
    "print(\"Parameters:\")\n",
    "for key, value in clf13.best_params_.items():\n",
    "    print(\"\\t{}: {}\".format(key, value))"
   ]
  },
  {
   "cell_type": "code",
   "execution_count": 77,
   "metadata": {
    "collapsed": true
   },
   "outputs": [],
   "source": [
    "model.load_weights('my_model_weights.h5')"
   ]
  },
  {
   "cell_type": "code",
   "execution_count": 78,
   "metadata": {
    "collapsed": true
   },
   "outputs": [],
   "source": [
    "best_class_weight = {0: 1.0, 1:4}"
   ]
  },
  {
   "cell_type": "code",
   "execution_count": 79,
   "metadata": {
    "collapsed": true
   },
   "outputs": [],
   "source": [
    "modelNN12 = KerasClassifier(build_fn=create_model8, epochs= 50, class_weight = best_class_weight, verbose=0)"
   ]
  },
  {
   "cell_type": "code",
   "execution_count": 80,
   "metadata": {
    "collapsed": false
   },
   "outputs": [
    {
     "data": {
      "text/plain": [
       "<keras.callbacks.History at 0x1c262f98>"
      ]
     },
     "execution_count": 80,
     "metadata": {},
     "output_type": "execute_result"
    }
   ],
   "source": [
    "modelNN12.fit(X_train.as_matrix(), y_train )"
   ]
  },
  {
   "cell_type": "code",
   "execution_count": 81,
   "metadata": {
    "collapsed": false
   },
   "outputs": [
    {
     "name": "stdout",
     "output_type": "stream",
     "text": [
      "Specificity: 0.9505 (+/- 0.0302)\n",
      "Accuracy: 0.9636 (+/- 0.0139)\n",
      "Recall: 0.9691 (+/- 0.0751)\n",
      "Score cost: -1425502.3700 (+/- 3431740.6858)\n"
     ]
    }
   ],
   "source": [
    "import warnings\n",
    "warnings.filterwarnings('ignore', message='.*is ill-defined', append=True)\n",
    "warnings.filterwarnings('ignore', category=DeprecationWarning)\n",
    "model.load_weights('my_model_weights.h5')\n",
    "scores1=cross_val_score(modelNN12,X_train.as_matrix(),y_train,cv=10,scoring=score_specificity)\n",
    "print(\"Specificity: %0.4f (+/- %0.4f)\" % (scores1.mean(), scores1.std() ))\n",
    "model.load_weights('my_model_weights.h5')\n",
    "scores2=cross_val_score(modelNN12,X_train.as_matrix(),y_train,cv=10,scoring='accuracy')\n",
    "print(\"Accuracy: %0.4f (+/- %0.4f)\" % (scores2.mean(), scores2.std() ))\n",
    "model.load_weights('my_model_weights.h5')\n",
    "scores3=cross_val_score(modelNN12,X_train.as_matrix(),y_train,cv=10,scoring='recall')\n",
    "print(\"Recall: %0.4f (+/- %0.4f)\" % (scores3.mean(), scores3.std() ))\n",
    "model.load_weights('my_model_weights.h5')\n",
    "scores4=cross_val_score(modelNN12,X_train.as_matrix(),y_train,cv=10,scoring=my_custom_scorer)\n",
    "print(\"Score cost: %0.4f (+/- %0.4f)\" % (scores4.mean(), scores4.std() ))"
   ]
  },
  {
   "cell_type": "code",
   "execution_count": null,
   "metadata": {
    "collapsed": true
   },
   "outputs": [],
   "source": []
  },
  {
   "cell_type": "code",
   "execution_count": null,
   "metadata": {
    "collapsed": true
   },
   "outputs": [],
   "source": []
  }
 ],
 "metadata": {
  "kernelspec": {
   "display_name": "Python 3",
   "language": "python",
   "name": "python3"
  },
  "language_info": {
   "codemirror_mode": {
    "name": "ipython",
    "version": 3
   },
   "file_extension": ".py",
   "mimetype": "text/x-python",
   "name": "python",
   "nbconvert_exporter": "python",
   "pygments_lexer": "ipython3",
   "version": "3.5.3"
  }
 },
 "nbformat": 4,
 "nbformat_minor": 2
}
