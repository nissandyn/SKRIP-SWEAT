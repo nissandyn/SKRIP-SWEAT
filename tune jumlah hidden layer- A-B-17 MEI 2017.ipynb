{
 "cells": [
  {
   "cell_type": "code",
   "execution_count": 1,
   "metadata": {
    "collapsed": false
   },
   "outputs": [
    {
     "name": "stderr",
     "output_type": "stream",
     "text": [
      "Using Theano backend.\n"
     ]
    }
   ],
   "source": [
    "from keras.models import Sequential\n",
    "from keras.layers import Dense\n",
    "from keras.wrappers.scikit_learn import KerasClassifier\n",
    "from sklearn.model_selection import StratifiedKFold\n",
    "from sklearn.model_selection import cross_val_score\n",
    "from keras.models import Sequential\n",
    "from keras.layers import Dense\n",
    "from keras.utils import np_utils\n",
    "from keras.wrappers.scikit_learn import KerasClassifier\n",
    "from sklearn.model_selection import StratifiedKFold\n",
    "from sklearn.model_selection import cross_val_score\n",
    "import numpy as np"
   ]
  },
  {
   "cell_type": "code",
   "execution_count": 2,
   "metadata": {
    "collapsed": false
   },
   "outputs": [],
   "source": [
    "from keras import optimizers"
   ]
  },
  {
   "cell_type": "code",
   "execution_count": 3,
   "metadata": {
    "collapsed": false
   },
   "outputs": [],
   "source": [
    "# Function to create model, required for KerasClassifier\n",
    "def create_model1():\n",
    "    model1 = Sequential()\n",
    "    model1.add(Dense(81, input_dim=9, activation='relu'))\n",
    "    model1.add(Dense(1, activation='sigmoid'))\n",
    "    adm = optimizers.Adam(lr=0.01, beta_1=0.9, beta_2=0.999, epsilon=1e-08, decay=0.0)\n",
    "    model1.compile(loss='binary_crossentropy', optimizer=adm, metrics=['accuracy'])\n",
    "    return model1"
   ]
  },
  {
   "cell_type": "code",
   "execution_count": 4,
   "metadata": {
    "collapsed": true
   },
   "outputs": [],
   "source": [
    "seed=84"
   ]
  },
  {
   "cell_type": "code",
   "execution_count": 5,
   "metadata": {
    "collapsed": true
   },
   "outputs": [],
   "source": [
    "np.random.seed(seed)"
   ]
  },
  {
   "cell_type": "code",
   "execution_count": 6,
   "metadata": {
    "collapsed": false
   },
   "outputs": [],
   "source": [
    "import pandas as pd\n",
    "dfb = pd.read_csv(\"wbc.csv\")"
   ]
  },
  {
   "cell_type": "code",
   "execution_count": 7,
   "metadata": {
    "collapsed": false
   },
   "outputs": [],
   "source": [
    "dfb=dfb[dfb.bare_nuclei!='?']\n",
    "dfb['bare_nuclei']=dfb['bare_nuclei'].astype(object).astype(int)"
   ]
  },
  {
   "cell_type": "code",
   "execution_count": 8,
   "metadata": {
    "collapsed": false
   },
   "outputs": [],
   "source": [
    "X = dfb.drop([dfb.columns[-1]], axis=1)\n",
    "y = dfb.jenis.map({2: 0, 4: 1})"
   ]
  },
  {
   "cell_type": "code",
   "execution_count": 9,
   "metadata": {
    "collapsed": false
   },
   "outputs": [],
   "source": [
    "from sklearn.model_selection import train_test_split\n",
    "X_train, X_test, y_train, y_test = train_test_split(X, y, test_size=0.33, random_state=seed)"
   ]
  },
  {
   "cell_type": "raw",
   "metadata": {
    "collapsed": false
   },
   "source": [
    "y_train = np_utils.to_categorical(y_train)"
   ]
  },
  {
   "cell_type": "markdown",
   "metadata": {
    "collapsed": false
   },
   "source": [
    "y_test = np_utils.to_categorical(y_test)\n",
    "#y_test.shape"
   ]
  },
  {
   "cell_type": "code",
   "execution_count": 10,
   "metadata": {
    "collapsed": false
   },
   "outputs": [
    {
     "name": "stdout",
     "output_type": "stream",
     "text": [
      "<class 'pandas.core.series.Series'>\n",
      "<class 'pandas.core.series.Series'>\n"
     ]
    }
   ],
   "source": [
    "print (type(y_train))\n",
    "print (type(y_test))"
   ]
  },
  {
   "cell_type": "code",
   "execution_count": 11,
   "metadata": {
    "collapsed": false
   },
   "outputs": [
    {
     "name": "stdout",
     "output_type": "stream",
     "text": [
      "<class 'pandas.core.frame.DataFrame'>\n"
     ]
    }
   ],
   "source": [
    "print (type(X_train))"
   ]
  },
  {
   "cell_type": "code",
   "execution_count": 12,
   "metadata": {
    "collapsed": true
   },
   "outputs": [],
   "source": [
    "def create_model2():\n",
    "    model2 = Sequential()\n",
    "    model2.add(Dense(23, input_dim=9, activation='relu'))\n",
    "    model2.add(Dense(23, activation='relu'))\n",
    "    model2.add(Dense(1, activation='sigmoid'))\n",
    "    adm = optimizers.Adam(lr=0.01, beta_1=0.9, beta_2=0.999, epsilon=1e-08, decay=0.0)\n",
    "    model2.compile(loss='binary_crossentropy', optimizer=adm, metrics=['accuracy'])\n",
    "    return model2"
   ]
  },
  {
   "cell_type": "code",
   "execution_count": 13,
   "metadata": {
    "collapsed": true
   },
   "outputs": [],
   "source": [
    "def create_model3():\n",
    "    model3 = Sequential()\n",
    "    model3.add(Dense(17, input_dim=9, activation='relu'))\n",
    "    model3.add(Dense(17, activation='relu'))\n",
    "    model3.add(Dense(17, activation='relu'))\n",
    "    model3.add(Dense(1, activation='sigmoid'))\n",
    "    adm = optimizers.Adam(lr=0.01, beta_1=0.9, beta_2=0.999, epsilon=1e-08, decay=0.0)\n",
    "    model3.compile(loss='binary_crossentropy', optimizer=adm, metrics=['accuracy'])\n",
    "    return model3"
   ]
  },
  {
   "cell_type": "code",
   "execution_count": 14,
   "metadata": {
    "collapsed": true
   },
   "outputs": [],
   "source": [
    "def create_model4():\n",
    "    model4 = Sequential()\n",
    "    model4.add(Dense(14, input_dim=9, activation='relu'))\n",
    "    model4.add(Dense(14, activation='relu'))\n",
    "    model4.add(Dense(14, activation='relu'))\n",
    "    model4.add(Dense(14, activation='relu'))\n",
    "    model4.add(Dense(1, activation='sigmoid'))\n",
    "    adm = optimizers.Adam(lr=0.01, beta_1=0.9, beta_2=0.999, epsilon=1e-08, decay=0.0)\n",
    "    model4.compile(loss='binary_crossentropy', optimizer=adm, metrics=['accuracy'])\n",
    "    return model4"
   ]
  },
  {
   "cell_type": "code",
   "execution_count": 15,
   "metadata": {
    "collapsed": true
   },
   "outputs": [],
   "source": [
    "def create_model5():\n",
    "    model5 = Sequential()\n",
    "    model5.add(Dense(12, input_dim=9, activation='relu'))\n",
    "    model5.add(Dense(12, activation='relu'))\n",
    "    model5.add(Dense(12, activation='relu'))\n",
    "    model5.add(Dense(12, activation='relu'))\n",
    "    model5.add(Dense(12, activation='relu'))\n",
    "    model5.add(Dense(1, activation='sigmoid'))\n",
    "    adm = optimizers.Adam(lr=0.01, beta_1=0.9, beta_2=0.999, epsilon=1e-08, decay=0.0)\n",
    "    model5.compile(loss='binary_crossentropy', optimizer=adm, metrics=['accuracy'])\n",
    "    return model5"
   ]
  },
  {
   "cell_type": "code",
   "execution_count": 16,
   "metadata": {
    "collapsed": false
   },
   "outputs": [],
   "source": [
    "def create_model6():\n",
    "    model6 = Sequential()\n",
    "    model6.add(Dense(11, input_dim=9, activation='relu'))\n",
    "    model6.add(Dense(11, activation='relu'))\n",
    "    model6.add(Dense(11, activation='relu'))\n",
    "    model6.add(Dense(11, activation='relu'))\n",
    "    model6.add(Dense(11, activation='relu'))\n",
    "    model6.add(Dense(11, activation='relu'))\n",
    "    model6.add(Dense(1, activation='sigmoid'))\n",
    "    adm = optimizers.Adam(lr=0.01, beta_1=0.9, beta_2=0.999, epsilon=1e-08, decay=0.0)\n",
    "    model6.compile(loss='binary_crossentropy', optimizer=adm, metrics=['accuracy'])\n",
    "    return model6"
   ]
  },
  {
   "cell_type": "code",
   "execution_count": 18,
   "metadata": {
    "collapsed": false
   },
   "outputs": [],
   "source": [
    "def create_model7():\n",
    "    model7 = Sequential()\n",
    "    model7.add(Dense(10, input_dim=9, activation='relu'))\n",
    "    model7.add(Dense(10, activation='relu'))\n",
    "    model7.add(Dense(10, activation='relu'))\n",
    "    model7.add(Dense(10, activation='relu'))\n",
    "    model7.add(Dense(10, activation='relu'))\n",
    "    model7.add(Dense(10, activation='relu'))\n",
    "    model7.add(Dense(10, activation='relu'))\n",
    "    model7.add(Dense(2, activation='softmax'))\n",
    "    adm = optimizers.Adam(lr=0.01, beta_1=0.9, beta_2=0.999, epsilon=1e-08, decay=0.0)\n",
    "    model7.compile(loss='categorical_crossentropy', optimizer=adm, metrics=['accuracy'])\n",
    "    return model7"
   ]
  },
  {
   "cell_type": "code",
   "execution_count": 66,
   "metadata": {
    "collapsed": false
   },
   "outputs": [],
   "source": [
    "def create_model8():\n",
    "    model8 = Sequential()\n",
    "    model8.add(Dense(10, input_dim=9, activation='relu'))\n",
    "    model8.add(Dense(10, activation='relu'))\n",
    "    model8.add(Dense(10, activation='relu'))\n",
    "    model8.add(Dense(10, activation='relu'))\n",
    "    model8.add(Dense(10, activation='relu'))\n",
    "    model8.add(Dense(10, activation='relu'))\n",
    "    model8.add(Dense(10, activation='relu'))\n",
    "    model8.add(Dense(10, activation='relu'))\n",
    "    model8.add(Dense(1, activation='sigmoid'))\n",
    "    adm = optimizers.Adam(lr=0.01, beta_1=0.9, beta_2=0.999, epsilon=1e-08, decay=0.0)\n",
    "    model8.compile(loss='binary_crossentropy', optimizer=adm, metrics=['accuracy'])\n",
    "    return model8"
   ]
  },
  {
   "cell_type": "code",
   "execution_count": 20,
   "metadata": {
    "collapsed": false
   },
   "outputs": [],
   "source": [
    "def create_model9():\n",
    "    model9 = Sequential()\n",
    "    model9.add(Dense(9, input_dim=9, activation='relu'))\n",
    "    model9.add(Dense(9, activation='relu'))\n",
    "    model9.add(Dense(9, activation='relu'))\n",
    "    model9.add(Dense(9, activation='relu'))\n",
    "    model9.add(Dense(9, activation='relu'))\n",
    "    model9.add(Dense(9, activation='relu'))\n",
    "    model9.add(Dense(9, activation='relu'))\n",
    "    model9.add(Dense(9, activation='relu'))\n",
    "    model9.add(Dense(9, activation='relu'))\n",
    "    model9.add(Dense(1, activation='sigmoid'))\n",
    "    adm = optimizers.Adam(lr=0.01, beta_1=0.9, beta_2=0.999, epsilon=1e-08, decay=0.0)\n",
    "    model9.compile(loss='binary_crossentropy', optimizer=adm, metrics=['accuracy'])\n",
    "    return model9"
   ]
  },
  {
   "cell_type": "code",
   "execution_count": 21,
   "metadata": {
    "collapsed": false
   },
   "outputs": [],
   "source": [
    "def create_model10():\n",
    "    model10 = Sequential()\n",
    "    model10.add(Dense(9, input_dim=9, activation='relu'))\n",
    "    model10.add(Dense(9, activation='relu'))\n",
    "    model10.add(Dense(9, activation='relu'))\n",
    "    model10.add(Dense(9, activation='relu'))\n",
    "    model10.add(Dense(9, activation='relu'))\n",
    "    model10.add(Dense(9, activation='relu'))\n",
    "    model10.add(Dense(9, activation='relu'))\n",
    "    model10.add(Dense(9, activation='relu'))\n",
    "    model10.add(Dense(9, activation='relu'))\n",
    "    model10.add(Dense(9, activation='relu'))\n",
    "    model10.add(Dense(1, activation='sigmoid'))\n",
    "    adm = optimizers.Adam(lr=0.01, beta_1=0.9, beta_2=0.999, epsilon=1e-08, decay=0.0)\n",
    "    model10.compile(loss='binary_crossentropy', optimizer=adm, metrics=['accuracy'])\n",
    "    return model10"
   ]
  },
  {
   "cell_type": "code",
   "execution_count": 22,
   "metadata": {
    "collapsed": true
   },
   "outputs": [],
   "source": [
    "model1 = KerasClassifier(build_fn=create_model1, class_weight=None, verbose=0)\n",
    "model2 = KerasClassifier(build_fn=create_model2, class_weight=None, verbose=0)\n",
    "model3 = KerasClassifier(build_fn=create_model3, class_weight=None, verbose=0)\n",
    "model4 = KerasClassifier(build_fn=create_model4, class_weight=None, verbose=0)\n",
    "model5 = KerasClassifier(build_fn=create_model5, class_weight=None, verbose=0)\n",
    "model6 = KerasClassifier(build_fn=create_model6, class_weight=None, verbose=0)\n",
    "model7 = KerasClassifier(build_fn=create_model7, class_weight=None, verbose=0)\n",
    "model8 = KerasClassifier(build_fn=create_model8, class_weight=None, verbose=0)\n",
    "model9 = KerasClassifier(build_fn=create_model9, class_weight=None, verbose=0)\n",
    "model10 = KerasClassifier(build_fn=create_model10, class_weight=None, verbose=0)"
   ]
  },
  {
   "cell_type": "code",
   "execution_count": null,
   "metadata": {
    "collapsed": true
   },
   "outputs": [],
   "source": [
    "model=[model1, model2, model3,model4,model5,model6,model7,model8,model8,model9, model10]"
   ]
  },
  {
   "cell_type": "code",
   "execution_count": 68,
   "metadata": {
    "collapsed": true
   },
   "outputs": [],
   "source": [
    "scores1=cross_val_score(model1, X_train.as_matrix(), y_train, cv=10)\n",
    "scores2=cross_val_score(model2, X_train.as_matrix(), y_train, cv=10)\n",
    "scores3=cross_val_score(model3, X_train.as_matrix(), y_train, cv=10)\n",
    "scores4=cross_val_score(model4, X_train.as_matrix(), y_train, cv=10)\n",
    "scores5=cross_val_score(model5, X_train.as_matrix(), y_train, cv=10)\n",
    "scores6=cross_val_score(model6, X_train.as_matrix(), y_train, cv=10)\n",
    "scores7=cross_val_score(model7, X_train.as_matrix(), y_train, cv=10)\n",
    "scores8=cross_val_score(model8, X_train.as_matrix(), y_train, cv=10)\n",
    "scores9=cross_val_score(model9, X_train.as_matrix(), y_train, cv=10)\n",
    "scores10=cross_val_score(model10, X_train.as_matrix(), y_train, cv=10)"
   ]
  },
  {
   "cell_type": "code",
   "execution_count": 69,
   "metadata": {
    "collapsed": true
   },
   "outputs": [],
   "source": [
    "scores=[scores1.mean(), scores2.mean(), scores3.mean(),scores4.mean(),scores5.mean(),scores6.mean(),scores7.mean(),scores8.mean(),scores9.mean(), scores10.mean()]"
   ]
  },
  {
   "cell_type": "code",
   "execution_count": 70,
   "metadata": {
    "collapsed": false
   },
   "outputs": [
    {
     "data": {
      "text/plain": [
       "[0.95178743910674313,\n",
       " 0.96516908134815194,\n",
       " 0.94980676109088213,\n",
       " 0.96729468470034397,\n",
       " 0.96734299374663313,\n",
       " 0.96294685990914053,\n",
       " 0.96951690588020478,\n",
       " 0.97603864436564236,\n",
       " 0.97169082099688797,\n",
       " 0.97164251065484564]"
      ]
     },
     "execution_count": 70,
     "metadata": {},
     "output_type": "execute_result"
    }
   ],
   "source": [
    "scores"
   ]
  },
  {
   "cell_type": "code",
   "execution_count": 71,
   "metadata": {
    "collapsed": true
   },
   "outputs": [],
   "source": [
    "hiddenLayer = [1, 2, 3, 4, 5,6,7,8,9,10]"
   ]
  },
  {
   "cell_type": "code",
   "execution_count": 72,
   "metadata": {
    "collapsed": true
   },
   "outputs": [],
   "source": [
    "import matplotlib.pyplot as plt"
   ]
  },
  {
   "cell_type": "code",
   "execution_count": 73,
   "metadata": {
    "collapsed": false
   },
   "outputs": [
    {
     "name": "stderr",
     "output_type": "stream",
     "text": [
      "c:\\users\\annisa\\anaconda3\\envs\\py35\\lib\\site-packages\\matplotlib\\axes\\_axes.py:545: UserWarning: No labelled objects found. Use label='...' kwarg on individual plots.\n",
      "  warnings.warn(\"No labelled objects found. \"\n"
     ]
    },
    {
     "data": {
      "image/png": "[encoded data removed]",
      "text/plain": [
       "<matplotlib.figure.Figure at 0xe8b3e48>"
      ]
     },
     "metadata": {},
     "output_type": "display_data"
    }
   ],
   "source": [
    "figure = plt.figure(figsize=(9,5))\n",
    "plt.plot(hiddenLayer, scores, marker='o', color='green')\n",
    "plt.title(\"Akurasi vs Jumlah Hidden Layer\",fontsize=14)\n",
    "plt.xlabel('Jumlah Hidden Layer',fontsize=14)\n",
    "plt.ylabel('Akurasi',fontsize=14)\n",
    "plt.rc('xtick',labelsize=14)\n",
    "plt.rc('ytick',labelsize=14)\n",
    "plt.legend(prop={'size':14})\n",
    "plt.grid()\n",
    "plt.show()"
   ]
  },
  {
   "cell_type": "code",
   "execution_count": 36,
   "metadata": {
    "collapsed": true
   },
   "outputs": [],
   "source": [
    "dfb = pd.read_csv(\"wbc.csv\")\n",
    "dfb=dfb[dfb.bare_nuclei!='?']\n",
    "dfb['bare_nuclei']=dfb['bare_nuclei'].astype(object).astype(int)"
   ]
  },
  {
   "cell_type": "code",
   "execution_count": 37,
   "metadata": {
    "collapsed": true
   },
   "outputs": [],
   "source": [
    "A = dfb.drop([dfb.columns[-1]], axis=1)\n",
    "b = dfb.jenis.map({2: 0, 4: 1})"
   ]
  },
  {
   "cell_type": "code",
   "execution_count": 38,
   "metadata": {
    "collapsed": true
   },
   "outputs": [],
   "source": [
    "from sklearn.model_selection import train_test_split\n",
    "A_train, A_test, b_train, b_test = train_test_split(A, b, test_size=0.33, random_state=seed)"
   ]
  },
  {
   "cell_type": "code",
   "execution_count": 54,
   "metadata": {
    "collapsed": true
   },
   "outputs": [],
   "source": [
    "def create_model1a():\n",
    "    model1 = Sequential()\n",
    "    model1.add(Dense(63, input_dim=9, activation='relu'))\n",
    "    model1.add(Dense(1, activation='sigmoid'))\n",
    "    adm = optimizers.Adam(lr=0.01, beta_1=0.9, beta_2=0.999, epsilon=1e-08, decay=0.0)\n",
    "    model1.compile(loss='binary_crossentropy', optimizer=adm, metrics=['accuracy'])\n",
    "    return model1"
   ]
  },
  {
   "cell_type": "code",
   "execution_count": 55,
   "metadata": {
    "collapsed": true
   },
   "outputs": [],
   "source": [
    "def create_model2a():\n",
    "    model2 = Sequential()\n",
    "    model2.add(Dense(20, input_dim=9, activation='relu'))\n",
    "    model2.add(Dense(20, activation='relu'))\n",
    "    model2.add(Dense(1, activation='sigmoid'))\n",
    "    adm = optimizers.Adam(lr=0.01, beta_1=0.9, beta_2=0.999, epsilon=1e-08, decay=0.0)\n",
    "    model2.compile(loss='binary_crossentropy', optimizer=adm, metrics=['accuracy'])\n",
    "    return model2"
   ]
  },
  {
   "cell_type": "code",
   "execution_count": 56,
   "metadata": {
    "collapsed": true
   },
   "outputs": [],
   "source": [
    "def create_model3a():\n",
    "    model3 = Sequential()\n",
    "    model3.add(Dense(15, input_dim=9, activation='relu'))\n",
    "    model3.add(Dense(15, activation='relu'))\n",
    "    model3.add(Dense(15, activation='relu'))\n",
    "    model3.add(Dense(1, activation='sigmoid'))\n",
    "    adm = optimizers.Adam(lr=0.01, beta_1=0.9, beta_2=0.999, epsilon=1e-08, decay=0.0)\n",
    "    model3.compile(loss='binary_crossentropy', optimizer=adm, metrics=['accuracy'])\n",
    "    return model3"
   ]
  },
  {
   "cell_type": "code",
   "execution_count": 57,
   "metadata": {
    "collapsed": true
   },
   "outputs": [],
   "source": [
    "def create_model4a():\n",
    "    model4 = Sequential()\n",
    "    model4.add(Dense(12, input_dim=9, activation='relu'))\n",
    "    model4.add(Dense(12, activation='relu'))\n",
    "    model4.add(Dense(12, activation='relu'))\n",
    "    model4.add(Dense(12, activation='relu'))\n",
    "    model4.add(Dense(1, activation='sigmoid'))\n",
    "    adm = optimizers.Adam(lr=0.01, beta_1=0.9, beta_2=0.999, epsilon=1e-08, decay=0.0)\n",
    "    model4.compile(loss='binary_crossentropy', optimizer=adm, metrics=['accuracy'])\n",
    "    return model4"
   ]
  },
  {
   "cell_type": "code",
   "execution_count": 58,
   "metadata": {
    "collapsed": true
   },
   "outputs": [],
   "source": [
    "def create_model5a():\n",
    "    model5 = Sequential()\n",
    "    model5.add(Dense(11, input_dim=9, activation='relu'))\n",
    "    model5.add(Dense(11, activation='relu'))\n",
    "    model5.add(Dense(11, activation='relu'))\n",
    "    model5.add(Dense(11, activation='relu'))\n",
    "    model5.add(Dense(11, activation='relu'))\n",
    "    model5.add(Dense(1, activation='sigmoid'))\n",
    "    adm = optimizers.Adam(lr=0.01, beta_1=0.9, beta_2=0.999, epsilon=1e-08, decay=0.0)\n",
    "    model5.compile(loss='binary_crossentropy', optimizer=adm, metrics=['accuracy'])\n",
    "    return model5"
   ]
  },
  {
   "cell_type": "code",
   "execution_count": 59,
   "metadata": {
    "collapsed": true
   },
   "outputs": [],
   "source": [
    "def create_model6a():\n",
    "    model6 = Sequential()\n",
    "    model6.add(Dense(10, input_dim=9, activation='relu'))\n",
    "    model6.add(Dense(10, activation='relu'))\n",
    "    model6.add(Dense(10, activation='relu'))\n",
    "    model6.add(Dense(10, activation='relu'))\n",
    "    model6.add(Dense(10, activation='relu'))\n",
    "    model6.add(Dense(10, activation='relu'))\n",
    "    model6.add(Dense(1, activation='sigmoid'))\n",
    "    adm = optimizers.Adam(lr=0.01, beta_1=0.9, beta_2=0.999, epsilon=1e-08, decay=0.0)\n",
    "    model6.compile(loss='binary_crossentropy', optimizer=adm, metrics=['accuracy'])\n",
    "    return model6"
   ]
  },
  {
   "cell_type": "code",
   "execution_count": 60,
   "metadata": {
    "collapsed": true
   },
   "outputs": [],
   "source": [
    "def create_model7a():\n",
    "    model7 = Sequential()\n",
    "    model7.add(Dense(9, input_dim=9, activation='relu'))\n",
    "    model7.add(Dense(9, activation='relu'))\n",
    "    model7.add(Dense(9, activation='relu'))\n",
    "    model7.add(Dense(9, activation='relu'))\n",
    "    model7.add(Dense(9, activation='relu'))\n",
    "    model7.add(Dense(9, activation='relu'))\n",
    "    model7.add(Dense(9, activation='relu'))\n",
    "    model7.add(Dense(2, activation='softmax'))\n",
    "    adm = optimizers.Adam(lr=0.01, beta_1=0.9, beta_2=0.999, epsilon=1e-08, decay=0.0)\n",
    "    model7.compile(loss='categorical_crossentropy', optimizer=adm, metrics=['accuracy'])\n",
    "    return model7"
   ]
  },
  {
   "cell_type": "code",
   "execution_count": 67,
   "metadata": {
    "collapsed": true
   },
   "outputs": [],
   "source": [
    "def create_model8a():\n",
    "    model8 = Sequential()\n",
    "    model8.add(Dense(8, input_dim=9, activation='relu'))\n",
    "    model8.add(Dense(8, activation='relu'))\n",
    "    model8.add(Dense(8, activation='relu'))\n",
    "    model8.add(Dense(8, activation='relu'))\n",
    "    model8.add(Dense(8, activation='relu'))\n",
    "    model8.add(Dense(8, activation='relu'))\n",
    "    model8.add(Dense(8, activation='relu'))\n",
    "    model8.add(Dense(8, activation='relu'))\n",
    "    model8.add(Dense(1, activation='sigmoid'))\n",
    "    adm = optimizers.Adam(lr=0.01, beta_1=0.9, beta_2=0.999, epsilon=1e-08, decay=0.0)\n",
    "    model8.compile(loss='binary_crossentropy', optimizer=adm, metrics=['accuracy'])\n",
    "    return model8"
   ]
  },
  {
   "cell_type": "code",
   "execution_count": 62,
   "metadata": {
    "collapsed": true
   },
   "outputs": [],
   "source": [
    "def create_model9a():\n",
    "    model9 = Sequential()\n",
    "    model9.add(Dense(8, input_dim=9, activation='relu'))\n",
    "    model9.add(Dense(8, activation='relu'))\n",
    "    model9.add(Dense(8, activation='relu'))\n",
    "    model9.add(Dense(8, activation='relu'))\n",
    "    model9.add(Dense(8, activation='relu'))\n",
    "    model9.add(Dense(8, activation='relu'))\n",
    "    model9.add(Dense(8, activation='relu'))\n",
    "    model9.add(Dense(8, activation='relu'))\n",
    "    model9.add(Dense(8, activation='relu'))\n",
    "    model9.add(Dense(1, activation='sigmoid'))\n",
    "    adm = optimizers.Adam(lr=0.01, beta_1=0.9, beta_2=0.999, epsilon=1e-08, decay=0.0)\n",
    "    model9.compile(loss='binary_crossentropy', optimizer=adm, metrics=['accuracy'])\n",
    "    return model9"
   ]
  },
  {
   "cell_type": "code",
   "execution_count": 63,
   "metadata": {
    "collapsed": false
   },
   "outputs": [],
   "source": [
    "def create_model10a():\n",
    "    model10 = Sequential()\n",
    "    model10.add(Dense(7, input_dim=9, activation='relu'))\n",
    "    model10.add(Dense(7, activation='relu'))\n",
    "    model10.add(Dense(7, activation='relu'))\n",
    "    model10.add(Dense(7, activation='relu'))\n",
    "    model10.add(Dense(7, activation='relu'))\n",
    "    model10.add(Dense(7, activation='relu'))\n",
    "    model10.add(Dense(7, activation='relu'))\n",
    "    model10.add(Dense(7, activation='relu'))\n",
    "    model10.add(Dense(7, activation='relu'))\n",
    "    model10.add(Dense(7, activation='relu'))\n",
    "    model10.add(Dense(1, activation='sigmoid'))\n",
    "    adm = optimizers.Adam(lr=0.01, beta_1=0.9, beta_2=0.999, epsilon=1e-08, decay=0.0)\n",
    "    model10.compile(loss='binary_crossentropy', optimizer=adm, metrics=['accuracy'])\n",
    "    return model10"
   ]
  },
  {
   "cell_type": "code",
   "execution_count": 74,
   "metadata": {
    "collapsed": true
   },
   "outputs": [],
   "source": [
    "model1a = KerasClassifier(build_fn=create_model1a, class_weight=None, verbose=0)\n",
    "model2a = KerasClassifier(build_fn=create_model2a, class_weight=None, verbose=0)\n",
    "model3a = KerasClassifier(build_fn=create_model3a, class_weight=None, verbose=0)\n",
    "model4a = KerasClassifier(build_fn=create_model4a, class_weight=None, verbose=0)\n",
    "model5a = KerasClassifier(build_fn=create_model5a, class_weight=None, verbose=0)\n",
    "model6a = KerasClassifier(build_fn=create_model6a, class_weight=None, verbose=0)\n",
    "model7a = KerasClassifier(build_fn=create_model7a, class_weight=None, verbose=0)\n",
    "model8a = KerasClassifier(build_fn=create_model8a, class_weight=None, verbose=0)\n",
    "model9a = KerasClassifier(build_fn=create_model9a, class_weight=None, verbose=0)\n",
    "model10a = KerasClassifier(build_fn=create_model10a, class_weight=None, verbose=0)"
   ]
  },
  {
   "cell_type": "code",
   "execution_count": 75,
   "metadata": {
    "collapsed": false
   },
   "outputs": [],
   "source": [
    "scores1a=cross_val_score(model1a, A_train.as_matrix(), b_train, cv=10)\n",
    "scores2a=cross_val_score(model2a, A_train.as_matrix(), b_train, cv=10)\n",
    "scores3a=cross_val_score(model3a, A_train.as_matrix(), b_train, cv=10)\n",
    "scores4a=cross_val_score(model4a, A_train.as_matrix(), b_train, cv=10)\n",
    "scores5a=cross_val_score(model5a, A_train.as_matrix(), b_train, cv=10)\n",
    "scores6a=cross_val_score(model6a, A_train.as_matrix(), b_train, cv=10)\n",
    "scores7a=cross_val_score(model7a, A_train.as_matrix(), b_train, cv=10)\n",
    "scores8a=cross_val_score(model8a, A_train.as_matrix(), b_train, cv=10)\n",
    "scores9a=cross_val_score(model9a, A_train.as_matrix(), b_train, cv=10)\n",
    "scores10a=cross_val_score(model10a, A_train.as_matrix(), b_train, cv=10)"
   ]
  },
  {
   "cell_type": "code",
   "execution_count": 76,
   "metadata": {
    "collapsed": true
   },
   "outputs": [],
   "source": [
    "scoresA=[scores1a.mean(), scores2a.mean(), scores3a.mean(),scores4a.mean(),scores5a.mean(),scores6a.mean(),scores7a.mean(),scores8a.mean(),scores9a.mean(), scores10a.mean()]"
   ]
  },
  {
   "cell_type": "code",
   "execution_count": 82,
   "metadata": {
    "collapsed": false
   },
   "outputs": [
    {
     "data": {
      "text/plain": [
       "[0.96512077010196184,\n",
       " 0.96072463418550524,\n",
       " 0.9673429950423863,\n",
       " 0.96082125591195156,\n",
       " 0.96521738923114275,\n",
       " 0.96739130227462111,\n",
       " 0.96521739182264921,\n",
       " 0.95647343008414565,\n",
       " 0.95623188393703418,\n",
       " 0.96956521531809925]"
      ]
     },
     "execution_count": 82,
     "metadata": {},
     "output_type": "execute_result"
    }
   ],
   "source": [
    "scoresA"
   ]
  },
  {
   "cell_type": "code",
   "execution_count": 77,
   "metadata": {
    "collapsed": false
   },
   "outputs": [
    {
     "name": "stderr",
     "output_type": "stream",
     "text": [
      "c:\\users\\annisa\\anaconda3\\envs\\py35\\lib\\site-packages\\matplotlib\\axes\\_axes.py:545: UserWarning: No labelled objects found. Use label='...' kwarg on individual plots.\n",
      "  warnings.warn(\"No labelled objects found. \"\n"
     ]
    },
    {
     "data": {
      "image/png": "[encoded data removed]",
      "text/plain": [
       "<matplotlib.figure.Figure at 0xec67dd8>"
      ]
     },
     "metadata": {},
     "output_type": "display_data"
    }
   ],
   "source": [
    "figure = plt.figure(figsize=(9,5))\n",
    "plt.plot(hiddenLayer, scoresA, marker='o', color='green')\n",
    "plt.title(\"Akurasi vs Jumlah Hidden Layer\",fontsize=14)\n",
    "plt.xlabel('Jumlah Hidden Layer',fontsize=14)\n",
    "plt.ylabel('Akurasi',fontsize=14)\n",
    "plt.rc('xtick',labelsize=14)\n",
    "plt.rc('ytick',labelsize=14)\n",
    "plt.legend(prop={'size':14})\n",
    "plt.grid()\n",
    "plt.show()"
   ]
  },
  {
   "cell_type": "code",
   "execution_count": 80,
   "metadata": {
    "collapsed": false
   },
   "outputs": [
    {
     "data": {
      "image/png": "[encoded data removed]",
      "text/plain": [
       "<matplotlib.figure.Figure at 0xee6bba8>"
      ]
     },
     "metadata": {},
     "output_type": "display_data"
    }
   ],
   "source": [
    "fig, ax = plt.subplots(figsize=(9,5))\n",
    "ax.plot(hiddenLayer, scores, marker='o', label='Dataset A')\n",
    "ax.plot(hiddenLayer, scoresA, marker='o', label='Dataset B')\n",
    "plt.title(\"Akurasi vs Jumlah Hidden Layer\",fontsize=14)\n",
    "plt.xlabel('Jumlah Hidden Layer',fontsize=14)\n",
    "plt.ylabel('Akurasi',fontsize=14)\n",
    "plt.rc('xtick',labelsize=14)\n",
    "plt.rc('ytick',labelsize=14)\n",
    "plt.legend(prop={'size':14})\n",
    "plt.grid()\n",
    "plt.show()"
   ]
  },
  {
   "cell_type": "code",
   "execution_count": 81,
   "metadata": {
    "collapsed": false
   },
   "outputs": [
    {
     "data": {
      "text/plain": [
       "0.97603864436564236"
      ]
     },
     "execution_count": 81,
     "metadata": {},
     "output_type": "execute_result"
    }
   ],
   "source": [
    "scores8.mean()"
   ]
  },
  {
   "cell_type": "code",
   "execution_count": null,
   "metadata": {
    "collapsed": true
   },
   "outputs": [],
   "source": []
  }
 ],
 "metadata": {
  "kernelspec": {
   "display_name": "Python 3",
   "language": "python",
   "name": "python3"
  },
  "language_info": {
   "codemirror_mode": {
    "name": "ipython",
    "version": 3
   },
   "file_extension": ".py",
   "mimetype": "text/x-python",
   "name": "python",
   "nbconvert_exporter": "python",
   "pygments_lexer": "ipython3",
   "version": "3.5.3"
  }
 },
 "nbformat": 4,
 "nbformat_minor": 2
}
