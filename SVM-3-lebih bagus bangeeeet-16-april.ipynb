{
 "cells": [
  {
   "cell_type": "code",
   "execution_count": 1,
   "metadata": {
    "collapsed": true
   },
   "outputs": [],
   "source": [
    "\n",
    "%matplotlib inline\n",
    "import pandas as pd\n",
    "import numpy as np\n",
    "import matplotlib.pyplot as plt\n",
    "import seaborn; \n",
    "from scipy import stats\n",
    "import pylab as pl\n",
    "from sklearn.model_selection import train_test_split\n",
    "\n",
    "seaborn.set()"
   ]
  },
  {
   "cell_type": "code",
   "execution_count": 2,
   "metadata": {
    "collapsed": false
   },
   "outputs": [
    {
     "data": {
      "text/html": [
       "<div>\n",
       "<table border=\"1\" class=\"dataframe\">\n",
       "  <thead>\n",
       "    <tr style=\"text-align: right;\">\n",
       "      <th></th>\n",
       "      <th>clump_thickness</th>\n",
       "      <th>cell_size</th>\n",
       "      <th>cell_shape</th>\n",
       "      <th>marginal_adhesion</th>\n",
       "      <th>epitelial_cellsize</th>\n",
       "      <th>bare_nuclei</th>\n",
       "      <th>bland_chromatin</th>\n",
       "      <th>normal_nucleoli</th>\n",
       "      <th>mitoses</th>\n",
       "      <th>jenis</th>\n",
       "    </tr>\n",
       "  </thead>\n",
       "  <tbody>\n",
       "    <tr>\n",
       "      <th>0</th>\n",
       "      <td>5</td>\n",
       "      <td>1</td>\n",
       "      <td>1</td>\n",
       "      <td>1</td>\n",
       "      <td>2</td>\n",
       "      <td>1</td>\n",
       "      <td>3</td>\n",
       "      <td>1</td>\n",
       "      <td>1</td>\n",
       "      <td>2</td>\n",
       "    </tr>\n",
       "    <tr>\n",
       "      <th>1</th>\n",
       "      <td>5</td>\n",
       "      <td>4</td>\n",
       "      <td>4</td>\n",
       "      <td>5</td>\n",
       "      <td>7</td>\n",
       "      <td>10</td>\n",
       "      <td>3</td>\n",
       "      <td>2</td>\n",
       "      <td>1</td>\n",
       "      <td>2</td>\n",
       "    </tr>\n",
       "    <tr>\n",
       "      <th>2</th>\n",
       "      <td>3</td>\n",
       "      <td>1</td>\n",
       "      <td>1</td>\n",
       "      <td>1</td>\n",
       "      <td>2</td>\n",
       "      <td>2</td>\n",
       "      <td>3</td>\n",
       "      <td>1</td>\n",
       "      <td>1</td>\n",
       "      <td>2</td>\n",
       "    </tr>\n",
       "    <tr>\n",
       "      <th>3</th>\n",
       "      <td>6</td>\n",
       "      <td>8</td>\n",
       "      <td>8</td>\n",
       "      <td>1</td>\n",
       "      <td>3</td>\n",
       "      <td>4</td>\n",
       "      <td>3</td>\n",
       "      <td>7</td>\n",
       "      <td>1</td>\n",
       "      <td>2</td>\n",
       "    </tr>\n",
       "    <tr>\n",
       "      <th>4</th>\n",
       "      <td>4</td>\n",
       "      <td>1</td>\n",
       "      <td>1</td>\n",
       "      <td>3</td>\n",
       "      <td>2</td>\n",
       "      <td>1</td>\n",
       "      <td>3</td>\n",
       "      <td>1</td>\n",
       "      <td>1</td>\n",
       "      <td>2</td>\n",
       "    </tr>\n",
       "  </tbody>\n",
       "</table>\n",
       "</div>"
      ],
      "text/plain": [
       "   clump_thickness  cell_size  cell_shape  marginal_adhesion  \\\n",
       "0                5          1           1                  1   \n",
       "1                5          4           4                  5   \n",
       "2                3          1           1                  1   \n",
       "3                6          8           8                  1   \n",
       "4                4          1           1                  3   \n",
       "\n",
       "   epitelial_cellsize bare_nuclei  bland_chromatin  normal_nucleoli  mitoses  \\\n",
       "0                   2           1                3                1        1   \n",
       "1                   7          10                3                2        1   \n",
       "2                   2           2                3                1        1   \n",
       "3                   3           4                3                7        1   \n",
       "4                   2           1                3                1        1   \n",
       "\n",
       "   jenis  \n",
       "0      2  \n",
       "1      2  \n",
       "2      2  \n",
       "3      2  \n",
       "4      2  "
      ]
     },
     "execution_count": 2,
     "metadata": {},
     "output_type": "execute_result"
    }
   ],
   "source": [
    "df = pd.read_csv(\"wbc.csv\")\n",
    "df.head()"
   ]
  },
  {
   "cell_type": "code",
   "execution_count": 3,
   "metadata": {
    "collapsed": false
   },
   "outputs": [],
   "source": [
    "df = df.replace('?',np.nan)"
   ]
  },
  {
   "cell_type": "code",
   "execution_count": 4,
   "metadata": {
    "collapsed": false
   },
   "outputs": [],
   "source": [
    "df['bare_nuclei'] = pd.to_numeric(df.bare_nuclei.fillna(df.bare_nuclei.median()))"
   ]
  },
  {
   "cell_type": "code",
   "execution_count": 5,
   "metadata": {
    "collapsed": false
   },
   "outputs": [
    {
     "name": "stdout",
     "output_type": "stream",
     "text": [
      "<class 'pandas.core.frame.DataFrame'>\n",
      "RangeIndex: 699 entries, 0 to 698\n",
      "Data columns (total 10 columns):\n",
      "clump_thickness       699 non-null int64\n",
      "cell_size             699 non-null int64\n",
      "cell_shape            699 non-null int64\n",
      "marginal_adhesion     699 non-null int64\n",
      "epitelial_cellsize    699 non-null int64\n",
      "bare_nuclei           699 non-null float64\n",
      "bland_chromatin       699 non-null int64\n",
      "normal_nucleoli       699 non-null int64\n",
      "mitoses               699 non-null int64\n",
      "jenis                 699 non-null int64\n",
      "dtypes: float64(1), int64(9)\n",
      "memory usage: 54.7 KB\n"
     ]
    }
   ],
   "source": [
    "df.info()"
   ]
  },
  {
   "cell_type": "code",
   "execution_count": 6,
   "metadata": {
    "collapsed": true
   },
   "outputs": [],
   "source": [
    "X = df.drop([df.columns[-1]], axis=1)\n",
    "y = df.jenis"
   ]
  },
  {
   "cell_type": "code",
   "execution_count": 7,
   "metadata": {
    "collapsed": false
   },
   "outputs": [],
   "source": [
    "X_train, X_test, y_train, y_test = train_test_split(X, y,test_size=0.33, random_state=42)"
   ]
  },
  {
   "cell_type": "code",
   "execution_count": 8,
   "metadata": {
    "collapsed": true
   },
   "outputs": [],
   "source": [
    "from sklearn import svm"
   ]
  },
  {
   "cell_type": "code",
   "execution_count": 9,
   "metadata": {
    "collapsed": false
   },
   "outputs": [
    {
     "data": {
      "text/plain": [
       "SVC(C=1.0, cache_size=200, class_weight=None, coef0=0.0,\n",
       "  decision_function_shape=None, degree=3, gamma='auto', kernel='rbf',\n",
       "  max_iter=-1, probability=False, random_state=None, shrinking=True,\n",
       "  tol=0.001, verbose=False)"
      ]
     },
     "execution_count": 9,
     "metadata": {},
     "output_type": "execute_result"
    }
   ],
   "source": [
    "svc=svm.SVC(kernel='rbf')\n",
    "svc.fit(X_train,y_train)"
   ]
  },
  {
   "cell_type": "code",
   "execution_count": 10,
   "metadata": {
    "collapsed": true
   },
   "outputs": [],
   "source": [
    "from sklearn.metrics import accuracy_score, precision_recall_fscore_support"
   ]
  },
  {
   "cell_type": "code",
   "execution_count": 11,
   "metadata": {
    "collapsed": false
   },
   "outputs": [
    {
     "name": "stdout",
     "output_type": "stream",
     "text": [
      "Akurasi: 0.9610\n",
      "Precision: 0.8953\n",
      "Recall: 1.0000\n",
      "F1: 0.9448\n"
     ]
    }
   ],
   "source": [
    "y_pred = svc.predict(X_test)\n",
    "accuracy = accuracy_score(y_test, y_pred)\n",
    "precision, recall, f1, _ = precision_recall_fscore_support(y_test, y_pred)\n",
    "print (('Akurasi: %.4f') % (accuracy))\n",
    "print (('Precision: %.4f') % (precision[1]))\n",
    "print (('Recall: %.4f') % (recall[1]))\n",
    "print (('F1: %.4f') % (f1[1]))"
   ]
  },
  {
   "cell_type": "code",
   "execution_count": 12,
   "metadata": {
    "collapsed": false
   },
   "outputs": [],
   "source": [
    "from sklearn import metrics"
   ]
  },
  {
   "cell_type": "code",
   "execution_count": 13,
   "metadata": {
    "collapsed": false
   },
   "outputs": [
    {
     "data": {
      "text/plain": [
       "array([[145,   9],\n",
       "       [  0,  77]])"
      ]
     },
     "execution_count": 13,
     "metadata": {},
     "output_type": "execute_result"
    }
   ],
   "source": [
    "metrics.confusion_matrix(y_test, y_pred)"
   ]
  },
  {
   "cell_type": "code",
   "execution_count": 14,
   "metadata": {
    "collapsed": false,
    "scrolled": true
   },
   "outputs": [
    {
     "data": {
      "text/plain": [
       "(0.99786324786324787, 0.96103896103896103)"
      ]
     },
     "execution_count": 14,
     "metadata": {},
     "output_type": "execute_result"
    }
   ],
   "source": [
    "svc.score(X_train,y_train), svc.score(X_test, y_test)"
   ]
  },
  {
   "cell_type": "code",
   "execution_count": 15,
   "metadata": {
    "collapsed": false
   },
   "outputs": [],
   "source": [
    "from sklearn.model_selection import GridSearchCV\n",
    "from __future__ import print_function\n",
    "from sklearn.metrics import classification_report\n",
    "from sklearn.svm import SVC"
   ]
  },
  {
   "cell_type": "code",
   "execution_count": 16,
   "metadata": {
    "collapsed": false
   },
   "outputs": [
    {
     "name": "stdout",
     "output_type": "stream",
     "text": [
      "Automatically created module for IPython interactive environment\n",
      "# Tuning hyper-parameters for precision\n",
      "\n"
     ]
    },
    {
     "name": "stderr",
     "output_type": "stream",
     "text": [
      "C:\\Users\\Annisa\\Anaconda3\\lib\\site-packages\\sklearn\\metrics\\classification.py:1113: UndefinedMetricWarning: Precision is ill-defined and being set to 0.0 in labels with no predicted samples.\n",
      "  'precision', 'predicted', average, warn_for)\n",
      "C:\\Users\\Annisa\\Anaconda3\\lib\\site-packages\\sklearn\\metrics\\classification.py:1113: UndefinedMetricWarning: Precision is ill-defined and being set to 0.0 in labels with no predicted samples.\n",
      "  'precision', 'predicted', average, warn_for)\n",
      "C:\\Users\\Annisa\\Anaconda3\\lib\\site-packages\\sklearn\\metrics\\classification.py:1113: UndefinedMetricWarning: Precision is ill-defined and being set to 0.0 in labels with no predicted samples.\n",
      "  'precision', 'predicted', average, warn_for)\n",
      "C:\\Users\\Annisa\\Anaconda3\\lib\\site-packages\\sklearn\\metrics\\classification.py:1113: UndefinedMetricWarning: Precision is ill-defined and being set to 0.0 in labels with no predicted samples.\n",
      "  'precision', 'predicted', average, warn_for)\n",
      "C:\\Users\\Annisa\\Anaconda3\\lib\\site-packages\\sklearn\\metrics\\classification.py:1113: UndefinedMetricWarning: Precision is ill-defined and being set to 0.0 in labels with no predicted samples.\n",
      "  'precision', 'predicted', average, warn_for)\n"
     ]
    },
    {
     "name": "stdout",
     "output_type": "stream",
     "text": [
      "Best parameters set found on development set:\n",
      "\n",
      "{'C': 4, 'gamma': 0.001, 'kernel': 'rbf'}\n",
      "\n",
      "Grid scores on development set:\n",
      "\n",
      "0.935 (+/-0.042) for {'C': 1, 'gamma': 0.1, 'kernel': 'rbf'}\n",
      "0.961 (+/-0.031) for {'C': 1, 'gamma': 0.01, 'kernel': 'rbf'}\n",
      "0.958 (+/-0.053) for {'C': 1, 'gamma': 0.001, 'kernel': 'rbf'}\n",
      "0.952 (+/-0.053) for {'C': 1, 'gamma': 0.0001, 'kernel': 'rbf'}\n",
      "0.325 (+/-0.001) for {'C': 1, 'gamma': 1e-05, 'kernel': 'rbf'}\n",
      "0.936 (+/-0.036) for {'C': 2, 'gamma': 0.1, 'kernel': 'rbf'}\n",
      "0.959 (+/-0.030) for {'C': 2, 'gamma': 0.01, 'kernel': 'rbf'}\n",
      "0.960 (+/-0.045) for {'C': 2, 'gamma': 0.001, 'kernel': 'rbf'}\n",
      "0.960 (+/-0.055) for {'C': 2, 'gamma': 0.0001, 'kernel': 'rbf'}\n",
      "0.873 (+/-0.017) for {'C': 2, 'gamma': 1e-05, 'kernel': 'rbf'}\n",
      "0.936 (+/-0.036) for {'C': 4, 'gamma': 0.1, 'kernel': 'rbf'}\n",
      "0.957 (+/-0.024) for {'C': 4, 'gamma': 0.01, 'kernel': 'rbf'}\n",
      "0.962 (+/-0.039) for {'C': 4, 'gamma': 0.001, 'kernel': 'rbf'}\n",
      "0.960 (+/-0.055) for {'C': 4, 'gamma': 0.0001, 'kernel': 'rbf'}\n",
      "0.942 (+/-0.057) for {'C': 4, 'gamma': 1e-05, 'kernel': 'rbf'}\n",
      "0.936 (+/-0.036) for {'C': 8, 'gamma': 0.1, 'kernel': 'rbf'}\n",
      "0.949 (+/-0.027) for {'C': 8, 'gamma': 0.01, 'kernel': 'rbf'}\n",
      "0.961 (+/-0.042) for {'C': 8, 'gamma': 0.001, 'kernel': 'rbf'}\n",
      "0.958 (+/-0.053) for {'C': 8, 'gamma': 0.0001, 'kernel': 'rbf'}\n",
      "0.952 (+/-0.053) for {'C': 8, 'gamma': 1e-05, 'kernel': 'rbf'}\n",
      "0.936 (+/-0.036) for {'C': 10, 'gamma': 0.1, 'kernel': 'rbf'}\n",
      "0.951 (+/-0.027) for {'C': 10, 'gamma': 0.01, 'kernel': 'rbf'}\n",
      "0.961 (+/-0.042) for {'C': 10, 'gamma': 0.001, 'kernel': 'rbf'}\n",
      "0.958 (+/-0.053) for {'C': 10, 'gamma': 0.0001, 'kernel': 'rbf'}\n",
      "0.952 (+/-0.053) for {'C': 10, 'gamma': 1e-05, 'kernel': 'rbf'}\n",
      "0.936 (+/-0.036) for {'C': 20, 'gamma': 0.1, 'kernel': 'rbf'}\n",
      "0.939 (+/-0.030) for {'C': 20, 'gamma': 0.01, 'kernel': 'rbf'}\n",
      "0.962 (+/-0.039) for {'C': 20, 'gamma': 0.001, 'kernel': 'rbf'}\n",
      "0.960 (+/-0.045) for {'C': 20, 'gamma': 0.0001, 'kernel': 'rbf'}\n",
      "0.960 (+/-0.055) for {'C': 20, 'gamma': 1e-05, 'kernel': 'rbf'}\n",
      "\n",
      "Detailed classification report:\n",
      "\n",
      "The model is trained on the full development set.\n",
      "The scores are computed on the full evaluation set.\n",
      "\n",
      "             precision    recall  f1-score   support\n",
      "\n",
      "          2       0.96      0.99      0.97       154\n",
      "          4       0.97      0.92      0.95        77\n",
      "\n",
      "avg / total       0.97      0.97      0.97       231\n",
      "\n",
      "\n"
     ]
    }
   ],
   "source": [
    "print(__doc__)\n",
    "\n",
    "# Loading the Digits dataset\n",
    "#digits = datasets.load_digits()\n",
    "\n",
    "# To apply an classifier on this data, we need to flatten the image, to\n",
    "# turn the data in a (samples, feature) matrix:\n",
    "n_samples = len(df)\n",
    "X = df.drop([df.columns[-1]], axis=1)\n",
    "y = df.jenis\n",
    "\n",
    "# Split the dataset in two equal parts\n",
    "X_train, X_test, y_train, y_test = train_test_split(\n",
    "    X, y, test_size=0.33, random_state=42)\n",
    "\n",
    "# Set the parameters by cross-validation\n",
    "#tuned_parameters = [{'kernel': ['rbf'], 'gamma': [2e-15,2e-13,2e-11, 2e-9,2e-7,2e-5, 2e-3,2e-1,2e1,2e3],\n",
    "                    # 'C': [2e-5,2e-3,2e-1, 2e1,2e3,2e5,2e7,2e9,2e11,213,2e15]},]\n",
    "tuned_parameters = [{'kernel': ['rbf'], 'gamma': [1e-1,1e-2,1e-3,1e-4,1e-5],\n",
    "                     'C': [ 1,2,4,8,10,20]},]\n",
    "scores = ['precision']\n",
    "\n",
    "for score in scores:\n",
    "    print(\"# Tuning hyper-parameters for %s\" % score)\n",
    "    print()\n",
    "\n",
    "    clf = GridSearchCV(SVC(C=1), tuned_parameters, cv=5,\n",
    "                       scoring='%s_macro' % score)\n",
    "    clf.fit(X_train, y_train)\n",
    "\n",
    "    print(\"Best parameters set found on development set:\")\n",
    "    print()\n",
    "    print(clf.best_params_)\n",
    "    print()\n",
    "    print(\"Grid scores on development set:\")\n",
    "    print()\n",
    "    means = clf.cv_results_['mean_test_score']\n",
    "    stds = clf.cv_results_['std_test_score']\n",
    "    for mean, std, params in zip(means, stds, clf.cv_results_['params']):\n",
    "        print(\"%0.3f (+/-%0.03f) for %r\"\n",
    "              % (mean, std * 2, params))\n",
    "    print()\n",
    "\n",
    "    print(\"Detailed classification report:\")\n",
    "    print()\n",
    "    print(\"The model is trained on the full development set.\")\n",
    "    print(\"The scores are computed on the full evaluation set.\")\n",
    "    print()\n",
    "    y_true, y_pred = y_test, clf.predict(X_test)\n",
    "    print(classification_report(y_true, y_pred))\n",
    "    print()"
   ]
  },
  {
   "cell_type": "code",
   "execution_count": 17,
   "metadata": {
    "collapsed": false
   },
   "outputs": [
    {
     "name": "stderr",
     "output_type": "stream",
     "text": [
      "C:\\Users\\Annisa\\Anaconda3\\lib\\site-packages\\sklearn\\model_selection\\_search.py:667: DeprecationWarning: The grid_scores_ attribute was deprecated in version 0.18 in favor of the more elaborate cv_results_ attribute. The grid_scores_ attribute will not be available from 0.20\n",
      "  DeprecationWarning)\n"
     ]
    },
    {
     "data": {
      "text/plain": [
       "[mean: 0.93535, std: 0.02120, params: {'C': 1, 'gamma': 0.1, 'kernel': 'rbf'},\n",
       " mean: 0.96086, std: 0.01542, params: {'C': 1, 'gamma': 0.01, 'kernel': 'rbf'},\n",
       " mean: 0.95841, std: 0.02675, params: {'C': 1, 'gamma': 0.001, 'kernel': 'rbf'},\n",
       " mean: 0.95201, std: 0.02666, params: {'C': 1, 'gamma': 0.0001, 'kernel': 'rbf'},\n",
       " mean: 0.32479, std: 0.00065, params: {'C': 1, 'gamma': 1e-05, 'kernel': 'rbf'},\n",
       " mean: 0.93618, std: 0.01784, params: {'C': 2, 'gamma': 0.1, 'kernel': 'rbf'},\n",
       " mean: 0.95921, std: 0.01497, params: {'C': 2, 'gamma': 0.01, 'kernel': 'rbf'},\n",
       " mean: 0.96029, std: 0.02249, params: {'C': 2, 'gamma': 0.001, 'kernel': 'rbf'},\n",
       " mean: 0.95989, std: 0.02750, params: {'C': 2, 'gamma': 0.0001, 'kernel': 'rbf'},\n",
       " mean: 0.87274, std: 0.00845, params: {'C': 2, 'gamma': 1e-05, 'kernel': 'rbf'},\n",
       " mean: 0.93618, std: 0.01784, params: {'C': 4, 'gamma': 0.1, 'kernel': 'rbf'},\n",
       " mean: 0.95686, std: 0.01191, params: {'C': 4, 'gamma': 0.01, 'kernel': 'rbf'},\n",
       " mean: 0.96229, std: 0.01937, params: {'C': 4, 'gamma': 0.001, 'kernel': 'rbf'},\n",
       " mean: 0.95989, std: 0.02750, params: {'C': 4, 'gamma': 0.0001, 'kernel': 'rbf'},\n",
       " mean: 0.94161, std: 0.02853, params: {'C': 4, 'gamma': 1e-05, 'kernel': 'rbf'},\n",
       " mean: 0.93618, std: 0.01784, params: {'C': 8, 'gamma': 0.1, 'kernel': 'rbf'},\n",
       " mean: 0.94948, std: 0.01329, params: {'C': 8, 'gamma': 0.01, 'kernel': 'rbf'},\n",
       " mean: 0.96057, std: 0.02115, params: {'C': 8, 'gamma': 0.001, 'kernel': 'rbf'},\n",
       " mean: 0.95841, std: 0.02675, params: {'C': 8, 'gamma': 0.0001, 'kernel': 'rbf'},\n",
       " mean: 0.95201, std: 0.02666, params: {'C': 8, 'gamma': 1e-05, 'kernel': 'rbf'},\n",
       " mean: 0.93618, std: 0.01784, params: {'C': 10, 'gamma': 0.1, 'kernel': 'rbf'},\n",
       " mean: 0.95060, std: 0.01368, params: {'C': 10, 'gamma': 0.01, 'kernel': 'rbf'},\n",
       " mean: 0.96057, std: 0.02115, params: {'C': 10, 'gamma': 0.001, 'kernel': 'rbf'},\n",
       " mean: 0.95841, std: 0.02675, params: {'C': 10, 'gamma': 0.0001, 'kernel': 'rbf'},\n",
       " mean: 0.95201, std: 0.02666, params: {'C': 10, 'gamma': 1e-05, 'kernel': 'rbf'},\n",
       " mean: 0.93618, std: 0.01784, params: {'C': 20, 'gamma': 0.1, 'kernel': 'rbf'},\n",
       " mean: 0.93920, std: 0.01483, params: {'C': 20, 'gamma': 0.01, 'kernel': 'rbf'},\n",
       " mean: 0.96229, std: 0.01937, params: {'C': 20, 'gamma': 0.001, 'kernel': 'rbf'},\n",
       " mean: 0.96029, std: 0.02249, params: {'C': 20, 'gamma': 0.0001, 'kernel': 'rbf'},\n",
       " mean: 0.95989, std: 0.02750, params: {'C': 20, 'gamma': 1e-05, 'kernel': 'rbf'}]"
      ]
     },
     "execution_count": 17,
     "metadata": {},
     "output_type": "execute_result"
    }
   ],
   "source": [
    "clf.grid_scores_"
   ]
  },
  {
   "cell_type": "code",
   "execution_count": 18,
   "metadata": {
    "collapsed": false
   },
   "outputs": [
    {
     "name": "stdout",
     "output_type": "stream",
     "text": [
      "Best accuracy obtained: 0.9622898163361356\n",
      "Parameters:\n",
      "\tC: 4\n",
      "\tgamma: 0.001\n",
      "\tkernel: rbf\n"
     ]
    }
   ],
   "source": [
    "print(\"Best accuracy obtained: {0}\".format(clf.best_score_))\n",
    "print(\"Parameters:\")\n",
    "for key, value in clf.best_params_.items():\n",
    "    print(\"\\t{}: {}\".format(key, value))"
   ]
  },
  {
   "cell_type": "code",
   "execution_count": 19,
   "metadata": {
    "collapsed": false
   },
   "outputs": [
    {
     "data": {
      "text/plain": [
       "SVC(C=4.0, cache_size=200, class_weight=None, coef0=0.0,\n",
       "  decision_function_shape=None, degree=3, gamma=0.001, kernel='rbf',\n",
       "  max_iter=-1, probability=False, random_state=None, shrinking=True,\n",
       "  tol=0.001, verbose=False)"
      ]
     },
     "execution_count": 19,
     "metadata": {},
     "output_type": "execute_result"
    }
   ],
   "source": [
    "svc2=svm.SVC(C=4.0, gamma=0.001, kernel='rbf')\n",
    "svc2.fit(X_train,y_train)"
   ]
  },
  {
   "cell_type": "code",
   "execution_count": 20,
   "metadata": {
    "collapsed": false
   },
   "outputs": [
    {
     "name": "stdout",
     "output_type": "stream",
     "text": [
      "Akurasi: 0.9654\n",
      "Precision: 0.9726\n",
      "Recall: 0.9221\n",
      "F1: 0.9467\n"
     ]
    }
   ],
   "source": [
    "y_pred = svc2.predict(X_test)\n",
    "accuracy = accuracy_score(y_test, y_pred)\n",
    "precision, recall, f1, _ = precision_recall_fscore_support(y_test, y_pred)\n",
    "print (('Akurasi: %.4f') % (accuracy))\n",
    "print (('Precision: %.4f') % (precision[1]))\n",
    "print (('Recall: %.4f') % (recall[1]))\n",
    "print (('F1: %.4f') % (f1[1]))"
   ]
  },
  {
   "cell_type": "code",
   "execution_count": 22,
   "metadata": {
    "collapsed": false
   },
   "outputs": [],
   "source": [
    "from sklearn.model_selection import RandomizedSearchCV"
   ]
  },
  {
   "cell_type": "code",
   "execution_count": 50,
   "metadata": {
    "collapsed": true
   },
   "outputs": [],
   "source": [
    "parameters = {\n",
    "    'C':            np.arange( 1, 100+1, 1 ).tolist(),\n",
    "    'kernel':       ['rbf'],                 \n",
    "    'degree':       np.arange( 0, 100+0, 1 ).tolist(),\n",
    "    'gamma':        np.arange( 0.0, 10.0+0.0, 0.1 ).tolist(),\n",
    "    'coef0':        np.arange( 0.0, 10.0+0.0, 0.1 ).tolist(),\n",
    "    'shrinking':    [True],\n",
    "    'probability':  [False],\n",
    "    'tol':          np.arange( 0.001, 0.01+0.001, 0.001 ).tolist(),\n",
    "    'cache_size':   [2000],\n",
    "    'class_weight': [None],\n",
    "    'verbose':      [False],\n",
    "    'max_iter':     [-1],\n",
    "    'random_state': [7],\n",
    "    }"
   ]
  },
  {
   "cell_type": "code",
   "execution_count": 51,
   "metadata": {
    "collapsed": true
   },
   "outputs": [],
   "source": [
    "random_search = RandomizedSearchCV( n_iter              = 500,\n",
    "                                    estimator           = svm.SVC(),\n",
    "                                    param_distributions = parameters,\n",
    "                                    n_jobs              = 4,\n",
    "                                    iid                 = True,\n",
    "                                    refit               = True,\n",
    "                                    cv                  = 5,\n",
    "                                    verbose             = 1,\n",
    "                                    pre_dispatch        = '2*n_jobs'\n",
    "                                    )         \n"
   ]
  },
  {
   "cell_type": "code",
   "execution_count": 52,
   "metadata": {
    "collapsed": false
   },
   "outputs": [
    {
     "name": "stdout",
     "output_type": "stream",
     "text": [
      "Fitting 5 folds for each of 500 candidates, totalling 2500 fits\n"
     ]
    },
    {
     "name": "stderr",
     "output_type": "stream",
     "text": [
      "[Parallel(n_jobs=4)]: Done  50 tasks      | elapsed:    5.5s\n",
      "[Parallel(n_jobs=4)]: Done 650 tasks      | elapsed:   12.8s\n",
      "[Parallel(n_jobs=4)]: Done 1650 tasks      | elapsed:   25.8s\n",
      "[Parallel(n_jobs=4)]: Done 2500 out of 2500 | elapsed:   36.2s finished\n"
     ]
    },
    {
     "data": {
      "text/plain": [
       "RandomizedSearchCV(cv=5, error_score='raise',\n",
       "          estimator=SVC(C=1.0, cache_size=200, class_weight=None, coef0=0.0,\n",
       "  decision_function_shape=None, degree=3, gamma='auto', kernel='rbf',\n",
       "  max_iter=-1, probability=False, random_state=None, shrinking=True,\n",
       "  tol=0.001, verbose=False),\n",
       "          fit_params={}, iid=True, n_iter=500, n_jobs=4,\n",
       "          param_distributions={'C': [1, 2, 3, 4, 5, 6, 7, 8, 9, 10, 11, 12, 13, 14, 15, 16, 17, 18, 19, 20, 21, 22, 23, 24, 25, 26, 27, 28, 29, 30, 31, 32, 33, 34, 35, 36, 37, 38, 39, 40, 41, 42, 43, 44, 45, 46, 47, 48, 49, 50, 51, 52, 53, 54, 55, 56, 57, 58, 59, 60, 61, 62, 63, 64, 65, 66, 67, 68, 69, 70, 71...he_size': [2000], 'class_weight': [None], 'verbose': [False], 'max_iter': [-1], 'random_state': [7]},\n",
       "          pre_dispatch='2*n_jobs', random_state=None, refit=True,\n",
       "          return_train_score=True, scoring=None, verbose=1)"
      ]
     },
     "execution_count": 52,
     "metadata": {},
     "output_type": "execute_result"
    }
   ],
   "source": [
    "random_search.fit(X_train,y_train )\n"
   ]
  },
  {
   "cell_type": "code",
   "execution_count": 53,
   "metadata": {
    "collapsed": false
   },
   "outputs": [
    {
     "name": "stdout",
     "output_type": "stream",
     "text": [
      "SVC(C=67, cache_size=2000, class_weight=None, coef0=3.5,\n",
      "  decision_function_shape=None, degree=70, gamma=0.1, kernel='rbf',\n",
      "  max_iter=-1, probability=False, random_state=7, shrinking=True,\n",
      "  tol=0.004, verbose=False)\n"
     ]
    }
   ],
   "source": [
    "print( random_search.best_estimator_ )"
   ]
  },
  {
   "cell_type": "code",
   "execution_count": 54,
   "metadata": {
    "collapsed": false
   },
   "outputs": [
    {
     "name": "stdout",
     "output_type": "stream",
     "text": [
      "0.946581196581\n"
     ]
    }
   ],
   "source": [
    "print( random_search.best_score_ )"
   ]
  },
  {
   "cell_type": "code",
   "execution_count": 55,
   "metadata": {
    "collapsed": false
   },
   "outputs": [
    {
     "name": "stdout",
     "output_type": "stream",
     "text": [
      "{'verbose': False, 'tol': 0.004, 'shrinking': True, 'random_state': 7, 'probability': False, 'max_iter': -1, 'kernel': 'rbf', 'gamma': 0.1, 'degree': 70, 'coef0': 3.5, 'class_weight': None, 'cache_size': 2000, 'C': 67}\n"
     ]
    }
   ],
   "source": [
    "print( random_search.best_params_ )"
   ]
  },
  {
   "cell_type": "code",
   "execution_count": 56,
   "metadata": {
    "collapsed": true
   },
   "outputs": [],
   "source": [
    "svc3=svm.SVC(C=54, cache_size=2000, class_weight=None, coef0=7.800000000000001,\n",
    "  decision_function_shape=None, degree=27, gamma=0.1, kernel='rbf',\n",
    "  max_iter=-1, probability=False, random_state=None, shrinking=True,\n",
    "  tol=0.004, verbose=False)"
   ]
  },
  {
   "cell_type": "code",
   "execution_count": 57,
   "metadata": {
    "collapsed": false
   },
   "outputs": [
    {
     "data": {
      "text/plain": [
       "SVC(C=54, cache_size=2000, class_weight=None, coef0=7.800000000000001,\n",
       "  decision_function_shape=None, degree=27, gamma=0.1, kernel='rbf',\n",
       "  max_iter=-1, probability=False, random_state=None, shrinking=True,\n",
       "  tol=0.004, verbose=False)"
      ]
     },
     "execution_count": 57,
     "metadata": {},
     "output_type": "execute_result"
    }
   ],
   "source": [
    "svc3.fit(X_train,y_train)"
   ]
  },
  {
   "cell_type": "code",
   "execution_count": 58,
   "metadata": {
    "collapsed": false
   },
   "outputs": [
    {
     "name": "stdout",
     "output_type": "stream",
     "text": [
      "Akurasi: 0.9740\n",
      "Precision: 0.9383\n",
      "Recall: 0.9870\n",
      "F1: 0.9620\n"
     ]
    }
   ],
   "source": [
    "y_pred = svc3.predict(X_test)\n",
    "accuracy = accuracy_score(y_test, y_pred)\n",
    "precision, recall, f1, _ = precision_recall_fscore_support(y_test, y_pred)\n",
    "print (('Akurasi: %.4f') % (accuracy))\n",
    "print (('Precision: %.4f') % (precision[1]))\n",
    "print (('Recall: %.4f') % (recall[1]))\n",
    "print (('F1: %.4f') % (f1[1]))"
   ]
  },
  {
   "cell_type": "markdown",
   "metadata": {
    "collapsed": true
   },
   "source": [
    "# svc3 memiliki akurasi yang lebih tinggi dibanding svc2 namun precision yang lebih rendah"
   ]
  },
  {
   "cell_type": "code",
   "execution_count": 60,
   "metadata": {
    "collapsed": false
   },
   "outputs": [],
   "source": [
    "import scipy\n",
    "svc_clf = SVC()\n",
    "svc_search_params = {'C': scipy.stats.expon(scale=1), \n",
    "                     'gamma': scipy.stats.expon(scale=.1),\n",
    "                     'kernel': ['rbf'],\n",
    "                     'class_weight':['balanced',None]}\n",
    "svc_search = RandomizedSearchCV(svc_clf, \n",
    "                                param_distributions=svc_search_params, \n",
    "                                n_iter=25)"
   ]
  },
  {
   "cell_type": "code",
   "execution_count": 61,
   "metadata": {
    "collapsed": false
   },
   "outputs": [
    {
     "data": {
      "text/plain": [
       "RandomizedSearchCV(cv=None, error_score='raise',\n",
       "          estimator=SVC(C=1.0, cache_size=200, class_weight=None, coef0=0.0,\n",
       "  decision_function_shape=None, degree=3, gamma='auto', kernel='rbf',\n",
       "  max_iter=-1, probability=False, random_state=None, shrinking=True,\n",
       "  tol=0.001, verbose=False),\n",
       "          fit_params={}, iid=True, n_iter=25, n_jobs=1,\n",
       "          param_distributions={'C': <scipy.stats._distn_infrastructure.rv_frozen object at 0x000000000B98C358>, 'gamma': <scipy.stats._distn_infrastructure.rv_frozen object at 0x000000000B98C2E8>, 'kernel': ['rbf'], 'class_weight': ['balanced', None]},\n",
       "          pre_dispatch='2*n_jobs', random_state=None, refit=True,\n",
       "          return_train_score=True, scoring=None, verbose=0)"
      ]
     },
     "execution_count": 61,
     "metadata": {},
     "output_type": "execute_result"
    }
   ],
   "source": [
    "svc_search.fit(X,y)"
   ]
  },
  {
   "cell_type": "code",
   "execution_count": 62,
   "metadata": {
    "collapsed": false
   },
   "outputs": [
    {
     "name": "stderr",
     "output_type": "stream",
     "text": [
      "C:\\Users\\Annisa\\Anaconda3\\lib\\site-packages\\sklearn\\model_selection\\_search.py:667: DeprecationWarning: The grid_scores_ attribute was deprecated in version 0.18 in favor of the more elaborate cv_results_ attribute. The grid_scores_ attribute will not be available from 0.20\n",
      "  DeprecationWarning)\n"
     ]
    },
    {
     "data": {
      "text/plain": [
       "[mean: 0.96710, std: 0.01789, params: {'C': 0.091149875631783353, 'class_weight': None, 'gamma': 0.012540745017286704, 'kernel': 'rbf'},\n",
       " mean: 0.79971, std: 0.04194, params: {'C': 0.032418984654615894, 'class_weight': 'balanced', 'gamma': 0.23991536297502183, 'kernel': 'rbf'},\n",
       " mean: 0.95851, std: 0.01916, params: {'C': 0.1587145474353735, 'class_weight': None, 'gamma': 0.035599380463637781, 'kernel': 'rbf'},\n",
       " mean: 0.93991, std: 0.02626, params: {'C': 0.10680075324394595, 'class_weight': None, 'gamma': 0.085827639581925963, 'kernel': 'rbf'},\n",
       " mean: 0.96423, std: 0.01405, params: {'C': 0.10564849194655297, 'class_weight': 'balanced', 'gamma': 0.020901105005095448, 'kernel': 'rbf'},\n",
       " mean: 0.94134, std: 0.02814, params: {'C': 0.88854668917081869, 'class_weight': 'balanced', 'gamma': 0.17371085551156584, 'kernel': 'rbf'},\n",
       " mean: 0.65522, std: 0.00115, params: {'C': 0.049691050010597655, 'class_weight': None, 'gamma': 0.35719527001514179, 'kernel': 'rbf'},\n",
       " mean: 0.92847, std: 0.02962, params: {'C': 0.069846246659089575, 'class_weight': None, 'gamma': 0.11292911835357167, 'kernel': 'rbf'},\n",
       " mean: 0.95136, std: 0.02467, params: {'C': 0.2922543510376201, 'class_weight': None, 'gamma': 0.061646837150967471, 'kernel': 'rbf'},\n",
       " mean: 0.94564, std: 0.02612, params: {'C': 1.3960389058765958, 'class_weight': None, 'gamma': 0.1810577481233876, 'kernel': 'rbf'},\n",
       " mean: 0.94707, std: 0.02812, params: {'C': 0.32793451729659173, 'class_weight': 'balanced', 'gamma': 0.079122746790939183, 'kernel': 'rbf'},\n",
       " mean: 0.91416, std: 0.03643, params: {'C': 0.63700174708553392, 'class_weight': 'balanced', 'gamma': 0.33396893838434405, 'kernel': 'rbf'},\n",
       " mean: 0.93848, std: 0.02901, params: {'C': 0.59804487677952134, 'class_weight': 'balanced', 'gamma': 0.15820016806989801, 'kernel': 'rbf'},\n",
       " mean: 0.95994, std: 0.02616, params: {'C': 1.8556777083224663, 'class_weight': 'balanced', 'gamma': 0.04990397639649273, 'kernel': 'rbf'},\n",
       " mean: 0.92990, std: 0.02898, params: {'C': 0.041481135553337656, 'class_weight': None, 'gamma': 0.093162413265176283, 'kernel': 'rbf'},\n",
       " mean: 0.96567, std: 0.01596, params: {'C': 0.91454971127931939, 'class_weight': 'balanced', 'gamma': 0.016006719806741058, 'kernel': 'rbf'},\n",
       " mean: 0.96280, std: 0.02447, params: {'C': 0.93541377302819306, 'class_weight': None, 'gamma': 0.0085176294231990423, 'kernel': 'rbf'},\n",
       " mean: 0.96710, std: 0.01450, params: {'C': 1.7244219881935681, 'class_weight': 'balanced', 'gamma': 0.0027007708376887724, 'kernel': 'rbf'},\n",
       " mean: 0.90844, std: 0.03419, params: {'C': 0.24991596886618972, 'class_weight': 'balanced', 'gamma': 0.21958689302609993, 'kernel': 'rbf'},\n",
       " mean: 0.95708, std: 0.01737, params: {'C': 0.20642272446740625, 'class_weight': 'balanced', 'gamma': 0.03361966794559474, 'kernel': 'rbf'},\n",
       " mean: 0.94421, std: 0.02784, params: {'C': 1.2745063248879265, 'class_weight': None, 'gamma': 0.19593491087299608, 'kernel': 'rbf'},\n",
       " mean: 0.93705, std: 0.02704, params: {'C': 0.1064590687600785, 'class_weight': None, 'gamma': 0.10007852595737457, 'kernel': 'rbf'},\n",
       " mean: 0.95851, std: 0.02616, params: {'C': 1.4131209238981604, 'class_weight': None, 'gamma': 0.074607465658287783, 'kernel': 'rbf'},\n",
       " mean: 0.95994, std: 0.02099, params: {'C': 0.42402548353308661, 'class_weight': None, 'gamma': 0.037666501316487633, 'kernel': 'rbf'},\n",
       " mean: 0.93276, std: 0.02924, params: {'C': 0.30801100215651267, 'class_weight': None, 'gamma': 0.20192565441315657, 'kernel': 'rbf'}]"
      ]
     },
     "execution_count": 62,
     "metadata": {},
     "output_type": "execute_result"
    }
   ],
   "source": [
    "svc_search.grid_scores_"
   ]
  },
  {
   "cell_type": "code",
   "execution_count": 63,
   "metadata": {
    "collapsed": false
   },
   "outputs": [
    {
     "data": {
      "text/plain": [
       "SVC(C=0.091149875631783353, cache_size=200, class_weight=None, coef0=0.0,\n",
       "  decision_function_shape=None, degree=3, gamma=0.012540745017286704,\n",
       "  kernel='rbf', max_iter=-1, probability=False, random_state=None,\n",
       "  shrinking=True, tol=0.001, verbose=False)"
      ]
     },
     "execution_count": 63,
     "metadata": {},
     "output_type": "execute_result"
    }
   ],
   "source": [
    "svc_search.best_estimator_"
   ]
  },
  {
   "cell_type": "code",
   "execution_count": 64,
   "metadata": {
    "collapsed": false
   },
   "outputs": [
    {
     "data": {
      "text/plain": [
       "0.96709585121602293"
      ]
     },
     "execution_count": 64,
     "metadata": {},
     "output_type": "execute_result"
    }
   ],
   "source": [
    "svc_search.best_score_"
   ]
  },
  {
   "cell_type": "code",
   "execution_count": 65,
   "metadata": {
    "collapsed": true
   },
   "outputs": [],
   "source": [
    "svc4=svm.SVC(C=0.091149875631783353, cache_size=200, class_weight=None, coef0=0.0,\n",
    "  decision_function_shape=None, degree=3, gamma=0.012540745017286704,\n",
    "  kernel='rbf', max_iter=-1, probability=False, random_state=None,\n",
    "  shrinking=True, tol=0.001, verbose=False)"
   ]
  },
  {
   "cell_type": "code",
   "execution_count": 66,
   "metadata": {
    "collapsed": false
   },
   "outputs": [
    {
     "data": {
      "text/plain": [
       "SVC(C=0.09114987563178335, cache_size=200, class_weight=None, coef0=0.0,\n",
       "  decision_function_shape=None, degree=3, gamma=0.012540745017286704,\n",
       "  kernel='rbf', max_iter=-1, probability=False, random_state=None,\n",
       "  shrinking=True, tol=0.001, verbose=False)"
      ]
     },
     "execution_count": 66,
     "metadata": {},
     "output_type": "execute_result"
    }
   ],
   "source": [
    "svc4.fit(X_train,y_train)"
   ]
  },
  {
   "cell_type": "code",
   "execution_count": 67,
   "metadata": {
    "collapsed": false
   },
   "outputs": [
    {
     "name": "stdout",
     "output_type": "stream",
     "text": [
      "Akurasi: 0.9654\n",
      "Precision: 0.9367\n",
      "Recall: 0.9610\n",
      "F1: 0.9487\n"
     ]
    }
   ],
   "source": [
    "y_pred = svc4.predict(X_test)\n",
    "accuracy = accuracy_score(y_test, y_pred)\n",
    "precision, recall, f1, _ = precision_recall_fscore_support(y_test, y_pred)\n",
    "print (('Akurasi: %.4f') % (accuracy))\n",
    "print (('Precision: %.4f') % (precision[1]))\n",
    "print (('Recall: %.4f') % (recall[1]))\n",
    "print (('F1: %.4f') % (f1[1]))"
   ]
  },
  {
   "cell_type": "code",
   "execution_count": null,
   "metadata": {
    "collapsed": true
   },
   "outputs": [],
   "source": []
  }
 ],
 "metadata": {
  "anaconda-cloud": {},
  "kernelspec": {
   "display_name": "Python 3",
   "language": "python",
   "name": "python3"
  },
  "language_info": {
   "codemirror_mode": {
    "name": "ipython",
    "version": 3
   },
   "file_extension": ".py",
   "mimetype": "text/x-python",
   "name": "python",
   "nbconvert_exporter": "python",
   "pygments_lexer": "ipython3",
   "version": "3.6.0"
  }
 },
 "nbformat": 4,
 "nbformat_minor": 1
}
