{
 "cells": [
  {
   "cell_type": "code",
   "execution_count": 2,
   "metadata": {
    "collapsed": false
   },
   "outputs": [
    {
     "name": "stderr",
     "output_type": "stream",
     "text": [
      "C:\\Users\\Annisa\\Anaconda3\\lib\\site-packages\\sklearn\\cross_validation.py:44: DeprecationWarning: This module was deprecated in version 0.18 in favor of the model_selection module into which all the refactored classes and functions are moved. Also note that the interface of the new CV iterators are different from that of this module. This module will be removed in 0.20.\n",
      "  \"This module will be removed in 0.20.\", DeprecationWarning)\n"
     ]
    }
   ],
   "source": [
    "import pandas as pd\n",
    "from xgboost import XGBClassifier\n",
    "from sklearn.model_selection import train_test_split\n",
    "from sklearn.metrics import accuracy_score"
   ]
  },
  {
   "cell_type": "code",
   "execution_count": 3,
   "metadata": {
    "collapsed": false
   },
   "outputs": [],
   "source": [
    "dataset = pd.read_csv(\"wbc.csv\")\n",
    "import numpy as np\n",
    "dataset = dataset.replace('?',np.nan)\n",
    "dataset['bare_nuclei'] = pd.to_numeric(dataset.bare_nuclei.fillna\n",
    "                                  (dataset.bare_nuclei.median()))"
   ]
  },
  {
   "cell_type": "code",
   "execution_count": 4,
   "metadata": {
    "collapsed": false
   },
   "outputs": [],
   "source": [
    "X = dataset.drop([dataset.columns[-1]], axis=1)\n",
    "y = dataset.jenis"
   ]
  },
  {
   "cell_type": "code",
   "execution_count": 5,
   "metadata": {
    "collapsed": false
   },
   "outputs": [],
   "source": [
    "seed = 7\n",
    "test_size = 0.33\n",
    "X_train, X_test, y_train, y_test = train_test_split(X, y, test_size=test_size, random_state=seed)"
   ]
  },
  {
   "cell_type": "code",
   "execution_count": 6,
   "metadata": {
    "collapsed": false
   },
   "outputs": [
    {
     "data": {
      "text/plain": [
       "XGBClassifier(base_score=0.5, colsample_bylevel=1, colsample_bytree=1,\n",
       "       gamma=0, learning_rate=0.1, max_delta_step=0, max_depth=3,\n",
       "       min_child_weight=1, missing=None, n_estimators=100, nthread=-1,\n",
       "       objective='binary:logistic', reg_alpha=0, reg_lambda=1,\n",
       "       scale_pos_weight=1, seed=0, silent=True, subsample=1)"
      ]
     },
     "execution_count": 6,
     "metadata": {},
     "output_type": "execute_result"
    }
   ],
   "source": [
    "model = XGBClassifier()\n",
    "model.fit(X_train, y_train)"
   ]
  },
  {
   "cell_type": "code",
   "execution_count": 7,
   "metadata": {
    "collapsed": false
   },
   "outputs": [
    {
     "name": "stdout",
     "output_type": "stream",
     "text": [
      "XGBClassifier(base_score=0.5, colsample_bylevel=1, colsample_bytree=1,\n",
      "       gamma=0, learning_rate=0.1, max_delta_step=0, max_depth=3,\n",
      "       min_child_weight=1, missing=None, n_estimators=100, nthread=-1,\n",
      "       objective='binary:logistic', reg_alpha=0, reg_lambda=1,\n",
      "       scale_pos_weight=1, seed=0, silent=True, subsample=1)\n"
     ]
    }
   ],
   "source": [
    "print(model)"
   ]
  },
  {
   "cell_type": "code",
   "execution_count": 8,
   "metadata": {
    "collapsed": true
   },
   "outputs": [],
   "source": [
    "# make predictions for test data\n",
    "y_pred = model.predict(X_test)\n",
    "predictions = [round(value) for value in y_pred]"
   ]
  },
  {
   "cell_type": "code",
   "execution_count": 9,
   "metadata": {
    "collapsed": false
   },
   "outputs": [
    {
     "name": "stdout",
     "output_type": "stream",
     "text": [
      "Accuracy: 94.81%\n"
     ]
    }
   ],
   "source": [
    "# evaluate predictions\n",
    "accuracy = accuracy_score(y_test, predictions)\n",
    "print(\"Accuracy: %.2f%%\" % (accuracy * 100.0))"
   ]
  },
  {
   "cell_type": "code",
   "execution_count": 10,
   "metadata": {
    "collapsed": false
   },
   "outputs": [
    {
     "data": {
      "text/plain": [
       "array([[144,   8],\n",
       "       [  4,  75]])"
      ]
     },
     "execution_count": 10,
     "metadata": {},
     "output_type": "execute_result"
    }
   ],
   "source": [
    "from sklearn import metrics\n",
    "metrics.confusion_matrix(y_test, y_pred)"
   ]
  },
  {
   "cell_type": "code",
   "execution_count": 11,
   "metadata": {
    "collapsed": true
   },
   "outputs": [],
   "source": [
    "from sklearn.metrics import accuracy_score, precision_recall_fscore_support"
   ]
  },
  {
   "cell_type": "code",
   "execution_count": 12,
   "metadata": {
    "collapsed": false
   },
   "outputs": [
    {
     "name": "stdout",
     "output_type": "stream",
     "text": [
      "Akurasi: 0.9481\n",
      "Precision: 0.9036\n",
      "Recall: 0.9494\n",
      "F1: 0.9259\n"
     ]
    }
   ],
   "source": [
    "precision, recall, f1, _ = precision_recall_fscore_support(y_test, y_pred)\n",
    "print (('Akurasi: %.4f') % (accuracy))\n",
    "print (('Precision: %.4f') % (precision[1]))\n",
    "print (('Recall: %.4f') % (recall[1]))\n",
    "print (('F1: %.4f') % (f1[1]))"
   ]
  },
  {
   "cell_type": "code",
   "execution_count": 13,
   "metadata": {
    "collapsed": false
   },
   "outputs": [],
   "source": [
    "params_grid = {\n",
    "    'max_depth': [1,3, 5, 7],\n",
    "    'n_estimators': [50,100],\n",
    "    'learning_rate': [0.001, 0.01, 0.1, 0.2, 0.3]\n",
    "    \n",
    "}"
   ]
  },
  {
   "cell_type": "code",
   "execution_count": 14,
   "metadata": {
    "collapsed": true
   },
   "outputs": [],
   "source": [
    "params_fixed = {\n",
    "    'objective': 'binary:logistic',\n",
    "    'silent': 1\n",
    "}"
   ]
  },
  {
   "cell_type": "code",
   "execution_count": 15,
   "metadata": {
    "collapsed": true
   },
   "outputs": [],
   "source": [
    "from sklearn.cross_validation import StratifiedKFold\n",
    "from sklearn.model_selection import GridSearchCV, RandomizedSearchCV"
   ]
  },
  {
   "cell_type": "code",
   "execution_count": 16,
   "metadata": {
    "collapsed": false
   },
   "outputs": [],
   "source": [
    "cv = StratifiedKFold(y, n_folds=10, shuffle=True, random_state=seed)"
   ]
  },
  {
   "cell_type": "code",
   "execution_count": 17,
   "metadata": {
    "collapsed": false
   },
   "outputs": [],
   "source": [
    "bst_grid = GridSearchCV(\n",
    "    estimator=XGBClassifier(**params_fixed, seed=seed),\n",
    "    param_grid=params_grid,\n",
    "    cv=cv,\n",
    "    scoring='accuracy'\n",
    ")"
   ]
  },
  {
   "cell_type": "code",
   "execution_count": 18,
   "metadata": {
    "collapsed": false
   },
   "outputs": [
    {
     "data": {
      "text/plain": [
       "GridSearchCV(cv=sklearn.cross_validation.StratifiedKFold(labels=[2 2 ..., 4 4], n_folds=10, shuffle=True, random_state=7),\n",
       "       error_score='raise',\n",
       "       estimator=XGBClassifier(base_score=0.5, colsample_bylevel=1, colsample_bytree=1,\n",
       "       gamma=0, learning_rate=0.1, max_delta_step=0, max_depth=3,\n",
       "       min_child_weight=1, missing=None, n_estimators=100, nthread=-1,\n",
       "       objective='binary:logistic', reg_alpha=0, reg_lambda=1,\n",
       "       scale_pos_weight=1, seed=7, silent=1, subsample=1),\n",
       "       fit_params={}, iid=True, n_jobs=1,\n",
       "       param_grid={'max_depth': [1, 3, 5, 7], 'n_estimators': [50, 100], 'learning_rate': [0.001, 0.01, 0.1, 0.2, 0.3]},\n",
       "       pre_dispatch='2*n_jobs', refit=True, return_train_score=True,\n",
       "       scoring='accuracy', verbose=0)"
      ]
     },
     "execution_count": 18,
     "metadata": {},
     "output_type": "execute_result"
    }
   ],
   "source": [
    "bst_grid.fit(X, y)"
   ]
  },
  {
   "cell_type": "code",
   "execution_count": 19,
   "metadata": {
    "collapsed": false
   },
   "outputs": [
    {
     "name": "stderr",
     "output_type": "stream",
     "text": [
      "C:\\Users\\Annisa\\Anaconda3\\lib\\site-packages\\sklearn\\model_selection\\_search.py:667: DeprecationWarning: The grid_scores_ attribute was deprecated in version 0.18 in favor of the more elaborate cv_results_ attribute. The grid_scores_ attribute will not be available from 0.20\n",
      "  DeprecationWarning)\n"
     ]
    },
    {
     "data": {
      "text/plain": [
       "[mean: 0.90987, std: 0.02469, params: {'learning_rate': 0.001, 'max_depth': 1, 'n_estimators': 50},\n",
       " mean: 0.91130, std: 0.02456, params: {'learning_rate': 0.001, 'max_depth': 1, 'n_estimators': 100},\n",
       " mean: 0.93562, std: 0.03565, params: {'learning_rate': 0.001, 'max_depth': 3, 'n_estimators': 50},\n",
       " mean: 0.93848, std: 0.03496, params: {'learning_rate': 0.001, 'max_depth': 3, 'n_estimators': 100},\n",
       " mean: 0.93848, std: 0.02697, params: {'learning_rate': 0.001, 'max_depth': 5, 'n_estimators': 50},\n",
       " mean: 0.93991, std: 0.02827, params: {'learning_rate': 0.001, 'max_depth': 5, 'n_estimators': 100},\n",
       " mean: 0.93705, std: 0.02632, params: {'learning_rate': 0.001, 'max_depth': 7, 'n_estimators': 50},\n",
       " mean: 0.93848, std: 0.02697, params: {'learning_rate': 0.001, 'max_depth': 7, 'n_estimators': 100},\n",
       " mean: 0.94421, std: 0.03083, params: {'learning_rate': 0.01, 'max_depth': 1, 'n_estimators': 50},\n",
       " mean: 0.95279, std: 0.02544, params: {'learning_rate': 0.01, 'max_depth': 1, 'n_estimators': 100},\n",
       " mean: 0.94564, std: 0.03107, params: {'learning_rate': 0.01, 'max_depth': 3, 'n_estimators': 50},\n",
       " mean: 0.95279, std: 0.03056, params: {'learning_rate': 0.01, 'max_depth': 3, 'n_estimators': 100},\n",
       " mean: 0.94707, std: 0.03116, params: {'learning_rate': 0.01, 'max_depth': 5, 'n_estimators': 50},\n",
       " mean: 0.95565, std: 0.02491, params: {'learning_rate': 0.01, 'max_depth': 5, 'n_estimators': 100},\n",
       " mean: 0.94707, std: 0.02842, params: {'learning_rate': 0.01, 'max_depth': 7, 'n_estimators': 50},\n",
       " mean: 0.95422, std: 0.02520, params: {'learning_rate': 0.01, 'max_depth': 7, 'n_estimators': 100},\n",
       " mean: 0.96710, std: 0.02289, params: {'learning_rate': 0.1, 'max_depth': 1, 'n_estimators': 50},\n",
       " mean: 0.95708, std: 0.02542, params: {'learning_rate': 0.1, 'max_depth': 1, 'n_estimators': 100},\n",
       " mean: 0.95851, std: 0.02141, params: {'learning_rate': 0.1, 'max_depth': 3, 'n_estimators': 50},\n",
       " mean: 0.95422, std: 0.02174, params: {'learning_rate': 0.1, 'max_depth': 3, 'n_estimators': 100},\n",
       " mean: 0.95851, std: 0.01724, params: {'learning_rate': 0.1, 'max_depth': 5, 'n_estimators': 50},\n",
       " mean: 0.95994, std: 0.02359, params: {'learning_rate': 0.1, 'max_depth': 5, 'n_estimators': 100},\n",
       " mean: 0.95994, std: 0.01877, params: {'learning_rate': 0.1, 'max_depth': 7, 'n_estimators': 50},\n",
       " mean: 0.95708, std: 0.02103, params: {'learning_rate': 0.1, 'max_depth': 7, 'n_estimators': 100},\n",
       " mean: 0.95851, std: 0.02239, params: {'learning_rate': 0.2, 'max_depth': 1, 'n_estimators': 50},\n",
       " mean: 0.96137, std: 0.02546, params: {'learning_rate': 0.2, 'max_depth': 1, 'n_estimators': 100},\n",
       " mean: 0.95565, std: 0.02505, params: {'learning_rate': 0.2, 'max_depth': 3, 'n_estimators': 50},\n",
       " mean: 0.95851, std: 0.02344, params: {'learning_rate': 0.2, 'max_depth': 3, 'n_estimators': 100},\n",
       " mean: 0.95851, std: 0.01956, params: {'learning_rate': 0.2, 'max_depth': 5, 'n_estimators': 50},\n",
       " mean: 0.95994, std: 0.02372, params: {'learning_rate': 0.2, 'max_depth': 5, 'n_estimators': 100},\n",
       " mean: 0.95422, std: 0.01986, params: {'learning_rate': 0.2, 'max_depth': 7, 'n_estimators': 50},\n",
       " mean: 0.95994, std: 0.02187, params: {'learning_rate': 0.2, 'max_depth': 7, 'n_estimators': 100},\n",
       " mean: 0.95994, std: 0.02359, params: {'learning_rate': 0.3, 'max_depth': 1, 'n_estimators': 50},\n",
       " mean: 0.96137, std: 0.02462, params: {'learning_rate': 0.3, 'max_depth': 1, 'n_estimators': 100},\n",
       " mean: 0.95994, std: 0.01983, params: {'learning_rate': 0.3, 'max_depth': 3, 'n_estimators': 50},\n",
       " mean: 0.95851, std: 0.02667, params: {'learning_rate': 0.3, 'max_depth': 3, 'n_estimators': 100},\n",
       " mean: 0.95994, std: 0.02444, params: {'learning_rate': 0.3, 'max_depth': 5, 'n_estimators': 50},\n",
       " mean: 0.95994, std: 0.02610, params: {'learning_rate': 0.3, 'max_depth': 5, 'n_estimators': 100},\n",
       " mean: 0.95708, std: 0.01554, params: {'learning_rate': 0.3, 'max_depth': 7, 'n_estimators': 50},\n",
       " mean: 0.95851, std: 0.01855, params: {'learning_rate': 0.3, 'max_depth': 7, 'n_estimators': 100}]"
      ]
     },
     "execution_count": 19,
     "metadata": {},
     "output_type": "execute_result"
    }
   ],
   "source": [
    "bst_grid.grid_scores_"
   ]
  },
  {
   "cell_type": "code",
   "execution_count": 20,
   "metadata": {
    "collapsed": false
   },
   "outputs": [
    {
     "name": "stdout",
     "output_type": "stream",
     "text": [
      "Best accuracy obtained: 0.9670958512160229\n",
      "Parameters:\n",
      "\tlearning_rate: 0.1\n",
      "\tmax_depth: 1\n",
      "\tn_estimators: 50\n"
     ]
    }
   ],
   "source": [
    "print(\"Best accuracy obtained: {0}\".format(bst_grid.best_score_))\n",
    "print(\"Parameters:\")\n",
    "for key, value in bst_grid.best_params_.items():\n",
    "    print(\"\\t{}: {}\".format(key, value))\n"
   ]
  },
  {
   "cell_type": "code",
   "execution_count": 21,
   "metadata": {
    "collapsed": true
   },
   "outputs": [],
   "source": [
    "model2=XGBClassifier (base_score=0.5, colsample_bylevel=1, colsample_bytree=1,\n",
    "       gamma=0, learning_rate=0.1, max_delta_step=0, max_depth=1,\n",
    "       min_child_weight=1, missing=None, n_estimators=50, nthread=-1,\n",
    "       objective='binary:logistic', reg_alpha=0, reg_lambda=1,\n",
    "       scale_pos_weight=1, seed=7, silent=1, subsample=1)"
   ]
  },
  {
   "cell_type": "code",
   "execution_count": 22,
   "metadata": {
    "collapsed": false
   },
   "outputs": [
    {
     "data": {
      "text/plain": [
       "XGBClassifier(base_score=0.5, colsample_bylevel=1, colsample_bytree=1,\n",
       "       gamma=0, learning_rate=0.1, max_delta_step=0, max_depth=1,\n",
       "       min_child_weight=1, missing=None, n_estimators=50, nthread=-1,\n",
       "       objective='binary:logistic', reg_alpha=0, reg_lambda=1,\n",
       "       scale_pos_weight=1, seed=7, silent=1, subsample=1)"
      ]
     },
     "execution_count": 22,
     "metadata": {},
     "output_type": "execute_result"
    }
   ],
   "source": [
    "model2.fit(X_train, y_train)"
   ]
  },
  {
   "cell_type": "code",
   "execution_count": 23,
   "metadata": {
    "collapsed": true
   },
   "outputs": [],
   "source": [
    "y_pred = model2.predict(X_test)\n",
    "predictions = [round(value) for value in y_pred]"
   ]
  },
  {
   "cell_type": "code",
   "execution_count": 24,
   "metadata": {
    "collapsed": true
   },
   "outputs": [],
   "source": [
    "accuracy = accuracy_score(y_test, predictions)"
   ]
  },
  {
   "cell_type": "code",
   "execution_count": 25,
   "metadata": {
    "collapsed": false
   },
   "outputs": [
    {
     "name": "stdout",
     "output_type": "stream",
     "text": [
      "Akurasi: 0.9567\n",
      "Precision: 0.9157\n",
      "Recall: 0.9620\n",
      "F1: 0.9383\n"
     ]
    }
   ],
   "source": [
    "accuracy = accuracy_score(y_test, predictions)\n",
    "from sklearn.metrics import accuracy_score, precision_recall_fscore_support\n",
    "precision, recall, f1, _ = precision_recall_fscore_support(y_test, y_pred)\n",
    "print (('Akurasi: %.4f') % (accuracy))\n",
    "print (('Precision: %.4f') % (precision[1]))\n",
    "print (('Recall: %.4f') % (recall[1]))\n",
    "print (('F1: %.4f') % (f1[1]))"
   ]
  },
  {
   "cell_type": "code",
   "execution_count": 26,
   "metadata": {
    "collapsed": false
   },
   "outputs": [
    {
     "data": {
      "text/plain": [
       "array([[145,   7],\n",
       "       [  3,  76]])"
      ]
     },
     "execution_count": 26,
     "metadata": {},
     "output_type": "execute_result"
    }
   ],
   "source": [
    "metrics.confusion_matrix(y_test, y_pred)"
   ]
  },
  {
   "cell_type": "code",
   "execution_count": 27,
   "metadata": {
    "collapsed": true
   },
   "outputs": [],
   "source": [
    "params_grid2 = {\n",
    "    'min_child_weight': [6,8,10,12],\n",
    "    'subsample': [0.2,0.4,0.8,1],\n",
    "    'reg_alpha': [1e-5, 1e-2, 0.1, 1, 100]\n",
    "    \n",
    "}"
   ]
  },
  {
   "cell_type": "code",
   "execution_count": 28,
   "metadata": {
    "collapsed": true
   },
   "outputs": [],
   "source": [
    "params_fixed = {\n",
    "    'objective': 'binary:logistic',\n",
    "    'silent': 1\n",
    "}"
   ]
  },
  {
   "cell_type": "code",
   "execution_count": 29,
   "metadata": {
    "collapsed": true
   },
   "outputs": [],
   "source": [
    "bst_grid2 = GridSearchCV(\n",
    "    estimator=XGBClassifier(**params_fixed, seed=seed),\n",
    "    param_grid=params_grid2,\n",
    "    cv=cv,\n",
    "    scoring='accuracy'\n",
    ")"
   ]
  },
  {
   "cell_type": "code",
   "execution_count": 30,
   "metadata": {
    "collapsed": false
   },
   "outputs": [
    {
     "data": {
      "text/plain": [
       "GridSearchCV(cv=sklearn.cross_validation.StratifiedKFold(labels=[2 2 ..., 4 4], n_folds=10, shuffle=True, random_state=7),\n",
       "       error_score='raise',\n",
       "       estimator=XGBClassifier(base_score=0.5, colsample_bylevel=1, colsample_bytree=1,\n",
       "       gamma=0, learning_rate=0.1, max_delta_step=0, max_depth=3,\n",
       "       min_child_weight=1, missing=None, n_estimators=100, nthread=-1,\n",
       "       objective='binary:logistic', reg_alpha=0, reg_lambda=1,\n",
       "       scale_pos_weight=1, seed=7, silent=1, subsample=1),\n",
       "       fit_params={}, iid=True, n_jobs=1,\n",
       "       param_grid={'min_child_weight': [6, 8, 10, 12], 'subsample': [0.2, 0.4, 0.8, 1], 'reg_alpha': [1e-05, 0.01, 0.1, 1, 100]},\n",
       "       pre_dispatch='2*n_jobs', refit=True, return_train_score=True,\n",
       "       scoring='accuracy', verbose=0)"
      ]
     },
     "execution_count": 30,
     "metadata": {},
     "output_type": "execute_result"
    }
   ],
   "source": [
    "bst_grid2.fit(X, y)"
   ]
  },
  {
   "cell_type": "code",
   "execution_count": 31,
   "metadata": {
    "collapsed": false
   },
   "outputs": [
    {
     "name": "stderr",
     "output_type": "stream",
     "text": [
      "C:\\Users\\Annisa\\Anaconda3\\lib\\site-packages\\sklearn\\model_selection\\_search.py:667: DeprecationWarning: The grid_scores_ attribute was deprecated in version 0.18 in favor of the more elaborate cv_results_ attribute. The grid_scores_ attribute will not be available from 0.20\n",
      "  DeprecationWarning)\n"
     ]
    },
    {
     "data": {
      "text/plain": [
       "[mean: 0.96567, std: 0.01922, params: {'min_child_weight': 6, 'reg_alpha': 1e-05, 'subsample': 0.2},\n",
       " mean: 0.96423, std: 0.02210, params: {'min_child_weight': 6, 'reg_alpha': 1e-05, 'subsample': 0.4},\n",
       " mean: 0.96710, std: 0.02104, params: {'min_child_weight': 6, 'reg_alpha': 1e-05, 'subsample': 0.8},\n",
       " mean: 0.96137, std: 0.02540, params: {'min_child_weight': 6, 'reg_alpha': 1e-05, 'subsample': 1},\n",
       " mean: 0.96423, std: 0.01927, params: {'min_child_weight': 6, 'reg_alpha': 0.01, 'subsample': 0.2},\n",
       " mean: 0.96567, std: 0.02295, params: {'min_child_weight': 6, 'reg_alpha': 0.01, 'subsample': 0.4},\n",
       " mean: 0.96567, std: 0.02122, params: {'min_child_weight': 6, 'reg_alpha': 0.01, 'subsample': 0.8},\n",
       " mean: 0.96137, std: 0.02540, params: {'min_child_weight': 6, 'reg_alpha': 0.01, 'subsample': 1},\n",
       " mean: 0.96280, std: 0.02207, params: {'min_child_weight': 6, 'reg_alpha': 0.1, 'subsample': 0.2},\n",
       " mean: 0.96710, std: 0.02278, params: {'min_child_weight': 6, 'reg_alpha': 0.1, 'subsample': 0.4},\n",
       " mean: 0.96567, std: 0.02122, params: {'min_child_weight': 6, 'reg_alpha': 0.1, 'subsample': 0.8},\n",
       " mean: 0.96280, std: 0.02549, params: {'min_child_weight': 6, 'reg_alpha': 0.1, 'subsample': 1},\n",
       " mean: 0.96280, std: 0.02213, params: {'min_child_weight': 6, 'reg_alpha': 1, 'subsample': 0.2},\n",
       " mean: 0.96423, std: 0.01922, params: {'min_child_weight': 6, 'reg_alpha': 1, 'subsample': 0.4},\n",
       " mean: 0.96567, std: 0.02122, params: {'min_child_weight': 6, 'reg_alpha': 1, 'subsample': 0.8},\n",
       " mean: 0.95994, std: 0.02520, params: {'min_child_weight': 6, 'reg_alpha': 1, 'subsample': 1},\n",
       " mean: 0.65522, std: 0.00313, params: {'min_child_weight': 6, 'reg_alpha': 100, 'subsample': 0.2},\n",
       " mean: 0.65522, std: 0.00313, params: {'min_child_weight': 6, 'reg_alpha': 100, 'subsample': 0.4},\n",
       " mean: 0.65522, std: 0.00313, params: {'min_child_weight': 6, 'reg_alpha': 100, 'subsample': 0.8},\n",
       " mean: 0.65522, std: 0.00313, params: {'min_child_weight': 6, 'reg_alpha': 100, 'subsample': 1},\n",
       " mean: 0.96137, std: 0.01671, params: {'min_child_weight': 8, 'reg_alpha': 1e-05, 'subsample': 0.2},\n",
       " mean: 0.96423, std: 0.01921, params: {'min_child_weight': 8, 'reg_alpha': 1e-05, 'subsample': 0.4},\n",
       " mean: 0.96710, std: 0.02198, params: {'min_child_weight': 8, 'reg_alpha': 1e-05, 'subsample': 0.8},\n",
       " mean: 0.96137, std: 0.02537, params: {'min_child_weight': 8, 'reg_alpha': 1e-05, 'subsample': 1},\n",
       " mean: 0.95994, std: 0.01512, params: {'min_child_weight': 8, 'reg_alpha': 0.01, 'subsample': 0.2},\n",
       " mean: 0.96423, std: 0.01921, params: {'min_child_weight': 8, 'reg_alpha': 0.01, 'subsample': 0.4},\n",
       " mean: 0.96710, std: 0.02198, params: {'min_child_weight': 8, 'reg_alpha': 0.01, 'subsample': 0.8},\n",
       " mean: 0.96137, std: 0.02537, params: {'min_child_weight': 8, 'reg_alpha': 0.01, 'subsample': 1},\n",
       " mean: 0.95851, std: 0.01720, params: {'min_child_weight': 8, 'reg_alpha': 0.1, 'subsample': 0.2},\n",
       " mean: 0.96423, std: 0.01921, params: {'min_child_weight': 8, 'reg_alpha': 0.1, 'subsample': 0.4},\n",
       " mean: 0.96710, std: 0.02198, params: {'min_child_weight': 8, 'reg_alpha': 0.1, 'subsample': 0.8},\n",
       " mean: 0.96280, std: 0.02383, params: {'min_child_weight': 8, 'reg_alpha': 0.1, 'subsample': 1},\n",
       " mean: 0.95708, std: 0.01551, params: {'min_child_weight': 8, 'reg_alpha': 1, 'subsample': 0.2},\n",
       " mean: 0.96280, std: 0.02108, params: {'min_child_weight': 8, 'reg_alpha': 1, 'subsample': 0.4},\n",
       " mean: 0.96710, std: 0.02198, params: {'min_child_weight': 8, 'reg_alpha': 1, 'subsample': 0.8},\n",
       " mean: 0.96137, std: 0.02537, params: {'min_child_weight': 8, 'reg_alpha': 1, 'subsample': 1},\n",
       " mean: 0.65522, std: 0.00313, params: {'min_child_weight': 8, 'reg_alpha': 100, 'subsample': 0.2},\n",
       " mean: 0.65522, std: 0.00313, params: {'min_child_weight': 8, 'reg_alpha': 100, 'subsample': 0.4},\n",
       " mean: 0.65522, std: 0.00313, params: {'min_child_weight': 8, 'reg_alpha': 100, 'subsample': 0.8},\n",
       " mean: 0.65522, std: 0.00313, params: {'min_child_weight': 8, 'reg_alpha': 100, 'subsample': 1},\n",
       " mean: 0.94993, std: 0.02409, params: {'min_child_weight': 10, 'reg_alpha': 1e-05, 'subsample': 0.2},\n",
       " mean: 0.95708, std: 0.02276, params: {'min_child_weight': 10, 'reg_alpha': 1e-05, 'subsample': 0.4},\n",
       " mean: 0.96567, std: 0.01915, params: {'min_child_weight': 10, 'reg_alpha': 1e-05, 'subsample': 0.8},\n",
       " mean: 0.96423, std: 0.02207, params: {'min_child_weight': 10, 'reg_alpha': 1e-05, 'subsample': 1},\n",
       " mean: 0.94993, std: 0.02409, params: {'min_child_weight': 10, 'reg_alpha': 0.01, 'subsample': 0.2},\n",
       " mean: 0.95708, std: 0.02276, params: {'min_child_weight': 10, 'reg_alpha': 0.01, 'subsample': 0.4},\n",
       " mean: 0.96710, std: 0.02004, params: {'min_child_weight': 10, 'reg_alpha': 0.01, 'subsample': 0.8},\n",
       " mean: 0.96423, std: 0.02207, params: {'min_child_weight': 10, 'reg_alpha': 0.01, 'subsample': 1},\n",
       " mean: 0.94850, std: 0.02488, params: {'min_child_weight': 10, 'reg_alpha': 0.1, 'subsample': 0.2},\n",
       " mean: 0.96137, std: 0.01888, params: {'min_child_weight': 10, 'reg_alpha': 0.1, 'subsample': 0.4},\n",
       " mean: 0.96567, std: 0.01915, params: {'min_child_weight': 10, 'reg_alpha': 0.1, 'subsample': 0.8},\n",
       " mean: 0.96567, std: 0.01916, params: {'min_child_weight': 10, 'reg_alpha': 0.1, 'subsample': 1},\n",
       " mean: 0.94850, std: 0.02037, params: {'min_child_weight': 10, 'reg_alpha': 1, 'subsample': 0.2},\n",
       " mean: 0.95851, std: 0.02402, params: {'min_child_weight': 10, 'reg_alpha': 1, 'subsample': 0.4},\n",
       " mean: 0.96710, std: 0.02004, params: {'min_child_weight': 10, 'reg_alpha': 1, 'subsample': 0.8},\n",
       " mean: 0.96710, std: 0.02005, params: {'min_child_weight': 10, 'reg_alpha': 1, 'subsample': 1},\n",
       " mean: 0.65522, std: 0.00313, params: {'min_child_weight': 10, 'reg_alpha': 100, 'subsample': 0.2},\n",
       " mean: 0.65522, std: 0.00313, params: {'min_child_weight': 10, 'reg_alpha': 100, 'subsample': 0.4},\n",
       " mean: 0.65522, std: 0.00313, params: {'min_child_weight': 10, 'reg_alpha': 100, 'subsample': 0.8},\n",
       " mean: 0.65522, std: 0.00313, params: {'min_child_weight': 10, 'reg_alpha': 100, 'subsample': 1},\n",
       " mean: 0.94993, std: 0.02018, params: {'min_child_weight': 12, 'reg_alpha': 1e-05, 'subsample': 0.2},\n",
       " mean: 0.96423, std: 0.01570, params: {'min_child_weight': 12, 'reg_alpha': 1e-05, 'subsample': 0.4},\n",
       " mean: 0.96567, std: 0.01915, params: {'min_child_weight': 12, 'reg_alpha': 1e-05, 'subsample': 0.8},\n",
       " mean: 0.96423, std: 0.01696, params: {'min_child_weight': 12, 'reg_alpha': 1e-05, 'subsample': 1},\n",
       " mean: 0.94993, std: 0.02018, params: {'min_child_weight': 12, 'reg_alpha': 0.01, 'subsample': 0.2},\n",
       " mean: 0.96423, std: 0.01570, params: {'min_child_weight': 12, 'reg_alpha': 0.01, 'subsample': 0.4},\n",
       " mean: 0.96567, std: 0.01915, params: {'min_child_weight': 12, 'reg_alpha': 0.01, 'subsample': 0.8},\n",
       " mean: 0.96423, std: 0.01696, params: {'min_child_weight': 12, 'reg_alpha': 0.01, 'subsample': 1},\n",
       " mean: 0.94850, std: 0.02287, params: {'min_child_weight': 12, 'reg_alpha': 0.1, 'subsample': 0.2},\n",
       " mean: 0.96280, std: 0.01903, params: {'min_child_weight': 12, 'reg_alpha': 0.1, 'subsample': 0.4},\n",
       " mean: 0.96567, std: 0.01915, params: {'min_child_weight': 12, 'reg_alpha': 0.1, 'subsample': 0.8},\n",
       " mean: 0.96710, std: 0.02005, params: {'min_child_weight': 12, 'reg_alpha': 0.1, 'subsample': 1},\n",
       " mean: 0.94707, std: 0.02849, params: {'min_child_weight': 12, 'reg_alpha': 1, 'subsample': 0.2},\n",
       " mean: 0.96567, std: 0.01688, params: {'min_child_weight': 12, 'reg_alpha': 1, 'subsample': 0.4},\n",
       " mean: 0.96567, std: 0.01689, params: {'min_child_weight': 12, 'reg_alpha': 1, 'subsample': 0.8},\n",
       " mean: 0.96567, std: 0.01916, params: {'min_child_weight': 12, 'reg_alpha': 1, 'subsample': 1},\n",
       " mean: 0.65522, std: 0.00313, params: {'min_child_weight': 12, 'reg_alpha': 100, 'subsample': 0.2},\n",
       " mean: 0.65522, std: 0.00313, params: {'min_child_weight': 12, 'reg_alpha': 100, 'subsample': 0.4},\n",
       " mean: 0.65522, std: 0.00313, params: {'min_child_weight': 12, 'reg_alpha': 100, 'subsample': 0.8},\n",
       " mean: 0.65522, std: 0.00313, params: {'min_child_weight': 12, 'reg_alpha': 100, 'subsample': 1}]"
      ]
     },
     "execution_count": 31,
     "metadata": {},
     "output_type": "execute_result"
    }
   ],
   "source": [
    "bst_grid2.grid_scores_"
   ]
  },
  {
   "cell_type": "code",
   "execution_count": 32,
   "metadata": {
    "collapsed": false
   },
   "outputs": [
    {
     "name": "stdout",
     "output_type": "stream",
     "text": [
      "Best accuracy obtained: 0.9670958512160229\n",
      "Parameters:\n",
      "\tmin_child_weight: 6\n",
      "\treg_alpha: 1e-05\n",
      "\tsubsample: 0.8\n"
     ]
    }
   ],
   "source": [
    "print(\"Best accuracy obtained: {0}\".format(bst_grid2.best_score_))\n",
    "print(\"Parameters:\")\n",
    "for key, value in bst_grid2.best_params_.items():\n",
    "    print(\"\\t{}: {}\".format(key, value))"
   ]
  },
  {
   "cell_type": "code",
   "execution_count": 33,
   "metadata": {
    "collapsed": true
   },
   "outputs": [],
   "source": [
    "model3=XGBClassifier (base_score=0.5, colsample_bylevel=1, colsample_bytree=1,\n",
    "       gamma=0, learning_rate=0.1, max_delta_step=0, max_depth=1,\n",
    "       min_child_weight=6, missing=None, n_estimators=50, nthread=-1,\n",
    "       objective='binary:logistic', reg_alpha=1e-05, reg_lambda=1,\n",
    "       scale_pos_weight=1, seed=7, silent=1, subsample=0.8)"
   ]
  },
  {
   "cell_type": "code",
   "execution_count": 34,
   "metadata": {
    "collapsed": false
   },
   "outputs": [
    {
     "data": {
      "text/plain": [
       "XGBClassifier(base_score=0.5, colsample_bylevel=1, colsample_bytree=1,\n",
       "       gamma=0, learning_rate=0.1, max_delta_step=0, max_depth=1,\n",
       "       min_child_weight=6, missing=None, n_estimators=50, nthread=-1,\n",
       "       objective='binary:logistic', reg_alpha=1e-05, reg_lambda=1,\n",
       "       scale_pos_weight=1, seed=7, silent=1, subsample=0.8)"
      ]
     },
     "execution_count": 34,
     "metadata": {},
     "output_type": "execute_result"
    }
   ],
   "source": [
    "model3.fit(X_train,y_train)"
   ]
  },
  {
   "cell_type": "code",
   "execution_count": 35,
   "metadata": {
    "collapsed": true
   },
   "outputs": [],
   "source": [
    "y_pred = model3.predict(X_test)\n",
    "predictions = [round(value) for value in y_pred]"
   ]
  },
  {
   "cell_type": "markdown",
   "metadata": {},
   "source": [
    "# tidak lebih baik dari model2"
   ]
  },
  {
   "cell_type": "code",
   "execution_count": 36,
   "metadata": {
    "collapsed": false
   },
   "outputs": [
    {
     "name": "stdout",
     "output_type": "stream",
     "text": [
      "Akurasi: 0.9524\n",
      "Precision: 0.9146\n",
      "Recall: 0.9494\n",
      "F1: 0.9317\n"
     ]
    }
   ],
   "source": [
    "accuracy = accuracy_score(y_test, predictions)\n",
    "from sklearn.metrics import accuracy_score, precision_recall_fscore_support\n",
    "precision, recall, f1, _ = precision_recall_fscore_support(y_test, y_pred)\n",
    "print (('Akurasi: %.4f') % (accuracy))\n",
    "print (('Precision: %.4f') % (precision[1]))\n",
    "print (('Recall: %.4f') % (recall[1]))\n",
    "print (('F1: %.4f') % (f1[1]))"
   ]
  },
  {
   "cell_type": "code",
   "execution_count": 37,
   "metadata": {
    "collapsed": false
   },
   "outputs": [
    {
     "data": {
      "text/plain": [
       "array([[145,   7],\n",
       "       [  4,  75]])"
      ]
     },
     "execution_count": 37,
     "metadata": {},
     "output_type": "execute_result"
    }
   ],
   "source": [
    "metrics.confusion_matrix(y_test, y_pred)"
   ]
  },
  {
   "cell_type": "code",
   "execution_count": 38,
   "metadata": {
    "collapsed": true
   },
   "outputs": [],
   "source": [
    "import matplotlib.pyplot as plt"
   ]
  },
  {
   "cell_type": "code",
   "execution_count": 39,
   "metadata": {
    "collapsed": false
   },
   "outputs": [
    {
     "name": "stdout",
     "output_type": "stream",
     "text": [
      "[ 0.12559241  0.07109005  0.13744076  0.10663507  0.04976304  0.17535545\n",
      "  0.12085308  0.1943128   0.01895735]\n"
     ]
    }
   ],
   "source": [
    "print (model.feature_importances_)"
   ]
  },
  {
   "cell_type": "code",
   "execution_count": 40,
   "metadata": {
    "collapsed": false
   },
   "outputs": [
    {
     "data": {
      "image/png": "[encoded data removed]",
      "text/plain": [
       "<matplotlib.figure.Figure at 0xa0645f8>"
      ]
     },
     "metadata": {},
     "output_type": "display_data"
    }
   ],
   "source": [
    "plt.bar(range(len(model.feature_importances_)),model.feature_importances_)\n",
    "plt.show()"
   ]
  },
  {
   "cell_type": "code",
   "execution_count": 41,
   "metadata": {
    "collapsed": true
   },
   "outputs": [],
   "source": [
    "import xgboost as xgb"
   ]
  },
  {
   "cell_type": "code",
   "execution_count": 42,
   "metadata": {
    "collapsed": false
   },
   "outputs": [
    {
     "data": {
      "image/png": "[encoded data removed]",
      "text/plain": [
       "<matplotlib.figure.Figure at 0xab2c198>"
      ]
     },
     "metadata": {},
     "output_type": "display_data"
    }
   ],
   "source": [
    "xgb.plot_importance(model,importance_type='gain',xlabel='Information Gain')\n",
    "plt.show()"
   ]
  },
  {
   "cell_type": "code",
   "execution_count": 43,
   "metadata": {
    "collapsed": false
   },
   "outputs": [
    {
     "data": {
      "image/png": "[encoded data removed]",
      "text/plain": [
       "<matplotlib.figure.Figure at 0xa75f0b8>"
      ]
     },
     "metadata": {},
     "output_type": "display_data"
    }
   ],
   "source": [
    "xgb.plot_importance(model2,importance_type='gain',xlabel='Information Gain')\n",
    "plt.show()"
   ]
  },
  {
   "cell_type": "code",
   "execution_count": 46,
   "metadata": {
    "collapsed": true
   },
   "outputs": [],
   "source": [
    "from sklearn.model_selection import RandomizedSearchCV\n",
    "from scipy.stats import randint, uniform"
   ]
  },
  {
   "cell_type": "code",
   "execution_count": 47,
   "metadata": {
    "collapsed": false
   },
   "outputs": [],
   "source": [
    "params_dist_grid = {\n",
    "    'max_depth': [1, 2, 3, 4],\n",
    "    'gamma': [0, 0.5, 1],\n",
    "    'n_estimators': randint(1, 1001), # uniform discrete random distribution\n",
    "    'learning_rate': uniform(), # gaussian distribution\n",
    "    'subsample': uniform(), # gaussian distribution\n",
    "    'colsample_bytree': uniform() # gaussian distribution\n",
    "}"
   ]
  },
  {
   "cell_type": "code",
   "execution_count": 48,
   "metadata": {
    "collapsed": true
   },
   "outputs": [],
   "source": [
    "rs_grid = RandomizedSearchCV(\n",
    "    estimator=XGBClassifier(**params_fixed, seed=seed),\n",
    "    param_distributions=params_dist_grid,\n",
    "    n_iter=10,\n",
    "    cv=cv,\n",
    "    scoring='accuracy',\n",
    "    random_state=seed\n",
    ")"
   ]
  },
  {
   "cell_type": "code",
   "execution_count": null,
   "metadata": {
    "collapsed": true
   },
   "outputs": [],
   "source": [
    "rs_grid.fit(X, y)"
   ]
  },
  {
   "cell_type": "code",
   "execution_count": null,
   "metadata": {
    "collapsed": true
   },
   "outputs": [],
   "source": []
  }
 ],
 "metadata": {
  "kernelspec": {
   "display_name": "Python 3",
   "language": "python",
   "name": "python3"
  },
  "language_info": {
   "codemirror_mode": {
    "name": "ipython",
    "version": 3
   },
   "file_extension": ".py",
   "mimetype": "text/x-python",
   "name": "python",
   "nbconvert_exporter": "python",
   "pygments_lexer": "ipython3",
   "version": "3.6.0"
  }
 },
 "nbformat": 4,
 "nbformat_minor": 2
}
