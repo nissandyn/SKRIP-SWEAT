{
 "cells": [
  {
   "cell_type": "code",
   "execution_count": 1,
   "metadata": {
    "collapsed": false
   },
   "outputs": [
    {
     "name": "stderr",
     "output_type": "stream",
     "text": [
      "c:\\users\\annisa\\anaconda3\\envs\\py35\\lib\\site-packages\\sklearn\\cross_validation.py:44: DeprecationWarning: This module was deprecated in version 0.18 in favor of the model_selection module into which all the refactored classes and functions are moved. Also note that the interface of the new CV iterators are different from that of this module. This module will be removed in 0.20.\n",
      "  \"This module will be removed in 0.20.\", DeprecationWarning)\n"
     ]
    }
   ],
   "source": [
    "%matplotlib inline\n",
    "import pandas as pd\n",
    "import numpy as np\n",
    "from sklearn.model_selection import train_test_split\n",
    "from xgboost import XGBClassifier\n",
    "from sklearn.metrics import accuracy_score\n",
    "from sklearn import model_selection\n"
   ]
  },
  {
   "cell_type": "code",
   "execution_count": 2,
   "metadata": {
    "collapsed": false
   },
   "outputs": [],
   "source": [
    "df = pd.read_csv(\"wbc.csv\")"
   ]
  },
  {
   "cell_type": "code",
   "execution_count": 3,
   "metadata": {
    "collapsed": false
   },
   "outputs": [
    {
     "name": "stdout",
     "output_type": "stream",
     "text": [
      "<class 'pandas.core.frame.DataFrame'>\n",
      "RangeIndex: 683 entries, 0 to 682\n",
      "Data columns (total 11 columns):\n",
      "index                 683 non-null int64\n",
      "clump_thickness       683 non-null int64\n",
      "cell_size             683 non-null int64\n",
      "cell_shape            683 non-null int64\n",
      "marginal_adhesion     683 non-null int64\n",
      "epitelial_cellsize    683 non-null int64\n",
      "bare_nuclei           683 non-null int32\n",
      "bland_chromatin       683 non-null int64\n",
      "normal_nucleoli       683 non-null int64\n",
      "mitoses               683 non-null int64\n",
      "jenis                 683 non-null int64\n",
      "dtypes: int32(1), int64(10)\n",
      "memory usage: 56.1 KB\n"
     ]
    }
   ],
   "source": [
    "df=df[df.bare_nuclei!='?']\n",
    "df=df.reset_index()\n",
    "df['bare_nuclei']=df['bare_nuclei'].astype(object).astype(int)\n",
    "df.info()"
   ]
  },
  {
   "cell_type": "code",
   "execution_count": 4,
   "metadata": {
    "collapsed": false
   },
   "outputs": [],
   "source": [
    "X = df.drop([df.columns[-1]], axis=1)\n",
    "y = df.jenis.map({2: 0, 4: 1})"
   ]
  },
  {
   "cell_type": "code",
   "execution_count": 5,
   "metadata": {
    "collapsed": true
   },
   "outputs": [],
   "source": [
    "test_size=0.33"
   ]
  },
  {
   "cell_type": "code",
   "execution_count": 6,
   "metadata": {
    "collapsed": true
   },
   "outputs": [],
   "source": [
    "random_state=42"
   ]
  },
  {
   "cell_type": "code",
   "execution_count": 7,
   "metadata": {
    "collapsed": false
   },
   "outputs": [],
   "source": [
    "X_train, X_test, y_train, y_test = train_test_split(X, y, test_size=test_size, random_state=random_state)"
   ]
  },
  {
   "cell_type": "code",
   "execution_count": 8,
   "metadata": {
    "collapsed": true
   },
   "outputs": [],
   "source": [
    "from sklearn.metrics import accuracy_score, precision_recall_fscore_support"
   ]
  },
  {
   "cell_type": "code",
   "execution_count": 9,
   "metadata": {
    "collapsed": false
   },
   "outputs": [],
   "source": [
    "from sklearn import metrics"
   ]
  },
  {
   "cell_type": "code",
   "execution_count": 10,
   "metadata": {
    "collapsed": false
   },
   "outputs": [],
   "source": [
    "from sklearn.model_selection import RandomizedSearchCV\n",
    "from __future__ import print_function\n",
    "from sklearn.metrics import classification_report"
   ]
  },
  {
   "cell_type": "code",
   "execution_count": 11,
   "metadata": {
    "collapsed": true
   },
   "outputs": [],
   "source": [
    "classifier = XGBClassifier()"
   ]
  },
  {
   "cell_type": "code",
   "execution_count": 12,
   "metadata": {
    "collapsed": true
   },
   "outputs": [],
   "source": [
    "from sklearn.cross_validation import StratifiedKFold"
   ]
  },
  {
   "cell_type": "code",
   "execution_count": 13,
   "metadata": {
    "collapsed": false
   },
   "outputs": [],
   "source": [
    "cv = StratifiedKFold(y_train, n_folds=10, shuffle=True, random_state=random_state)"
   ]
  },
  {
   "cell_type": "code",
   "execution_count": 14,
   "metadata": {
    "collapsed": true
   },
   "outputs": [],
   "source": [
    "from sklearn.metrics import confusion_matrix\n",
    "def cost_breast_cancer(y_true, y_pred):\n",
    "    CM = confusion_matrix(y_true, y_pred)\n",
    "    FN = CM[1][0]\n",
    "    FP = CM[0][1]\n",
    "    costBC=((228.35*FP)+(2850000*FN))\n",
    "    return costBC"
   ]
  },
  {
   "cell_type": "code",
   "execution_count": 15,
   "metadata": {
    "collapsed": true
   },
   "outputs": [],
   "source": [
    "def specificity(y_true, y_pred):\n",
    "    CM = confusion_matrix(y_true, y_pred)\n",
    "    TN = CM[0][0]\n",
    "    FN = CM[1][0]\n",
    "    TP = CM[1][1]\n",
    "    FP = CM[0][1]\n",
    "    nilai=(TN/(FP+TN))\n",
    "    return nilai"
   ]
  },
  {
   "cell_type": "code",
   "execution_count": 16,
   "metadata": {
    "collapsed": true
   },
   "outputs": [],
   "source": [
    "from sklearn.metrics import make_scorer\n",
    "my_custom_scorer=make_scorer(cost_breast_cancer, greater_is_better=False)\n",
    "score_specificity=make_scorer(specificity, greater_is_better=True)"
   ]
  },
  {
   "cell_type": "code",
   "execution_count": 18,
   "metadata": {
    "collapsed": false
   },
   "outputs": [
    {
     "name": "stdout",
     "output_type": "stream",
     "text": [
      "Automatically created module for IPython interactive environment\n",
      "# Tuning hyper-parameters for make_scorer(cost_breast_cancer, greater_is_better=False)\n",
      "\n",
      "Best parameters set found on development set:\n",
      "\n",
      "{'subsample': 0.7, 'reg_alpha': 1.0, 'colsample_bytree': 0.6, 'scale_pos_weight': 1.0, 'reg_lambda': 0.0, 'n_estimators': 20}\n",
      "\n",
      "Grid scores on development set:\n",
      "\n",
      "-4003901.293 (+/-4572613.339) for {'subsample': 0.7, 'reg_alpha': 1.0, 'colsample_bytree': 1.0, 'scale_pos_weight': 0.22222222222222232, 'reg_lambda': 0.001, 'n_estimators': 10}\n",
      "-2582019.455 (+/-5405016.928) for {'subsample': 0.6, 'reg_alpha': 0.01, 'colsample_bytree': 0.7, 'scale_pos_weight': 0.33333333333333337, 'reg_lambda': 0.01, 'n_estimators': 30}\n",
      "-2295148.558 (+/-5616032.939) for {'subsample': 0.8, 'reg_alpha': 0.001, 'colsample_bytree': 0.6, 'scale_pos_weight': 0.33333333333333337, 'reg_lambda': 0.1, 'n_estimators': 50}\n",
      "-2301453.837 (+/-5009747.364) for {'subsample': 1.0, 'reg_alpha': 0.05, 'colsample_bytree': 0.8, 'scale_pos_weight': 1.0, 'reg_lambda': 0.001, 'n_estimators': 10}\n",
      "-1733879.411 (+/-5271467.138) for {'subsample': 0.7, 'reg_alpha': 0.001, 'colsample_bytree': 0.7, 'scale_pos_weight': 0.88888888888888884, 'reg_lambda': 0.0, 'n_estimators': 50}\n",
      "-2588278.264 (+/-5974570.587) for {'subsample': 0.9, 'reg_alpha': 0.01, 'colsample_bytree': 0.7, 'scale_pos_weight': 0.55555555555555558, 'reg_lambda': 0.0, 'n_estimators': 20}\n",
      "-1733925.381 (+/-5271309.417) for {'subsample': 0.9, 'reg_alpha': 0.05, 'colsample_bytree': 0.8, 'scale_pos_weight': 0.88888888888888884, 'reg_lambda': 0.001, 'n_estimators': 20}\n",
      "-1153947.263 (+/-3809253.588) for {'subsample': 0.7, 'reg_alpha': 1.0, 'colsample_bytree': 0.6, 'scale_pos_weight': 1.0, 'reg_lambda': 0.0, 'n_estimators': 20}\n",
      "-2582019.455 (+/-5405064.357) for {'subsample': 0.6, 'reg_alpha': 0.5, 'colsample_bytree': 0.7, 'scale_pos_weight': 0.44444444444444442, 'reg_lambda': 0.005, 'n_estimators': 20}\n",
      "-7664533.453 (+/-7690292.766) for {'subsample': 0.9, 'reg_alpha': 0.001, 'colsample_bytree': 0.5, 'scale_pos_weight': 0.11111111111111116, 'reg_lambda': 5.0, 'n_estimators': 30}\n",
      "\n",
      "Detailed classification report:\n",
      "\n",
      "The model is trained on the full development set.\n",
      "The scores are computed on the full evaluation set.\n",
      "\n",
      "             precision    recall  f1-score   support\n",
      "\n",
      "          0       0.96      0.99      0.97       142\n",
      "          1       0.97      0.93      0.95        84\n",
      "\n",
      "avg / total       0.96      0.96      0.96       226\n",
      "\n",
      "\n"
     ]
    }
   ],
   "source": [
    "print(__doc__)\n",
    "\n",
    "# Loading the Digits dataset\n",
    "#digits = datasets.load_digits()\n",
    "\n",
    "# To apply an classifier on this data, we need to flatten the image, to\n",
    "# turn the data in a (samples, feature) matrix:\n",
    "n_samples = len(df)\n",
    "\n",
    "\n",
    "# Set the parameters by cross-validation\n",
    "tuned_parameters ={'n_estimators': [10,20,30,50],\n",
    "                    'subsample': [0.5, 0.6, 0.7, 0.8, 0.9, 1.],\n",
    "                    'colsample_bytree': [0.5, 0.6, 0.7, 0.8, 0.9, 1.],\n",
    "                    'reg_alpha': [0., 0.001, 0.005, 0.01, 0.05, 0.1, 0.5, 1., 5., 10.],\n",
    "                    'reg_lambda': [0., 0.001, 0.005, 0.01, 0.05, 0.1, 0.5, 1., 5., 10.],\n",
    "                    'scale_pos_weight': np.linspace(1., (y_train == 2).sum() / y_train.sum(), 10)\n",
    "                   }    \n",
    "\n",
    "                  \n",
    "params_fixed = {\n",
    "    'objective': 'binary:logistic',\n",
    "    'silent': 1\n",
    "}\n",
    "scores = [my_custom_scorer]\n",
    "\n",
    "for score in scores:\n",
    "    print(\"# Tuning hyper-parameters for %s\" % score)\n",
    "    print()\n",
    "\n",
    "    clf = RandomizedSearchCV(estimator=XGBClassifier(**params_fixed, seed=random_state),\n",
    "    param_distributions=tuned_parameters, cv=cv, scoring=my_custom_scorer)\n",
    "    clf.fit(X_train, y_train)\n",
    "\n",
    "    print(\"Best parameters set found on development set:\")\n",
    "    print()\n",
    "    print(clf.best_params_)\n",
    "    print()\n",
    "    print(\"Grid scores on development set:\")\n",
    "    print()\n",
    "    means = clf.cv_results_['mean_test_score']\n",
    "    stds = clf.cv_results_['std_test_score']\n",
    "    for mean, std, params in zip(means, stds, clf.cv_results_['params']):\n",
    "        print(\"%0.3f (+/-%0.03f) for %r\"\n",
    "              % (mean, std * 2, params))\n",
    "    print()\n",
    "\n",
    "    print(\"Detailed classification report:\")\n",
    "    print()\n",
    "    print(\"The model is trained on the full development set.\")\n",
    "    print(\"The scores are computed on the full evaluation set.\")\n",
    "    print()\n",
    "    y_true, y_pred = y_test, clf.predict(X_test)\n",
    "    print(classification_report(y_true, y_pred))\n",
    "    print()"
   ]
  },
  {
   "cell_type": "code",
   "execution_count": 19,
   "metadata": {
    "collapsed": false
   },
   "outputs": [
    {
     "data": {
      "text/plain": [
       "-1153947.2631291028"
      ]
     },
     "execution_count": 19,
     "metadata": {},
     "output_type": "execute_result"
    }
   ],
   "source": [
    "clf.best_score_"
   ]
  },
  {
   "cell_type": "code",
   "execution_count": 20,
   "metadata": {
    "collapsed": false
   },
   "outputs": [
    {
     "data": {
      "text/plain": [
       "XGBClassifier(base_score=0.5, colsample_bylevel=1, colsample_bytree=0.6,\n",
       "       gamma=0, learning_rate=0.1, max_delta_step=0, max_depth=3,\n",
       "       min_child_weight=1, missing=None, n_estimators=20, nthread=-1,\n",
       "       objective='binary:logistic', reg_alpha=1.0, reg_lambda=0.0,\n",
       "       scale_pos_weight=1.0, seed=42, silent=1, subsample=0.7)"
      ]
     },
     "execution_count": 20,
     "metadata": {},
     "output_type": "execute_result"
    }
   ],
   "source": [
    "clf.best_estimator_"
   ]
  },
  {
   "cell_type": "code",
   "execution_count": 21,
   "metadata": {
    "collapsed": true
   },
   "outputs": [],
   "source": [
    "xgbBest=XGBClassifier(base_score=0.5, colsample_bylevel=1, colsample_bytree=0.6,\n",
    "       gamma=0, learning_rate=0.1, max_delta_step=0, max_depth=3,\n",
    "       min_child_weight=1, missing=None, n_estimators=20, nthread=-1,\n",
    "       objective='binary:logistic', reg_alpha=1.0, reg_lambda=0.0,\n",
    "       scale_pos_weight=1.0, seed=42, silent=1, subsample=0.7)"
   ]
  },
  {
   "cell_type": "code",
   "execution_count": 22,
   "metadata": {
    "collapsed": true
   },
   "outputs": [],
   "source": [
    "from sklearn import metrics\n",
    "from sklearn.model_selection import cross_val_score"
   ]
  },
  {
   "cell_type": "code",
   "execution_count": 23,
   "metadata": {
    "collapsed": false
   },
   "outputs": [],
   "source": [
    "scores1=cross_val_score(xgbBest,X_train,y_train,cv=cv)"
   ]
  },
  {
   "cell_type": "code",
   "execution_count": 24,
   "metadata": {
    "collapsed": false
   },
   "outputs": [
    {
     "name": "stdout",
     "output_type": "stream",
     "text": [
      "Accuracy: 0.9694 (+/- 0.0492)\n"
     ]
    }
   ],
   "source": [
    "print(\"Accuracy: %0.4f (+/- %0.4f)\" % (scores1.mean(), scores1.std() * 2))"
   ]
  },
  {
   "cell_type": "code",
   "execution_count": 25,
   "metadata": {
    "collapsed": false
   },
   "outputs": [],
   "source": [
    "scores=cross_val_score(xgbBest,X_train,y_train,cv=cv,scoring='recall')"
   ]
  },
  {
   "cell_type": "code",
   "execution_count": 26,
   "metadata": {
    "collapsed": false
   },
   "outputs": [
    {
     "name": "stdout",
     "output_type": "stream",
     "text": [
      "recall: 0.9746 (+/- 0.0837)\n"
     ]
    }
   ],
   "source": [
    "print(\"recall: %0.4f (+/- %0.4f)\" % (scores.mean(), scores.std() * 2))"
   ]
  },
  {
   "cell_type": "code",
   "execution_count": 27,
   "metadata": {
    "collapsed": true
   },
   "outputs": [],
   "source": [
    "scores2=cross_val_score(xgbBest,X_train,y_train,cv=cv,scoring=score_specificity)"
   ]
  },
  {
   "cell_type": "code",
   "execution_count": 28,
   "metadata": {
    "collapsed": false
   },
   "outputs": [
    {
     "name": "stdout",
     "output_type": "stream",
     "text": [
      "Specificity: 0.9669 (+/- 0.0662)\n"
     ]
    }
   ],
   "source": [
    "print(\"Specificity: %0.4f (+/- %0.4f)\" % (scores2.mean(), scores2.std() * 2))"
   ]
  },
  {
   "cell_type": "code",
   "execution_count": 29,
   "metadata": {
    "collapsed": false
   },
   "outputs": [
    {
     "data": {
      "text/plain": [
       "XGBClassifier(base_score=0.5, colsample_bylevel=1, colsample_bytree=0.6,\n",
       "       gamma=0, learning_rate=0.1, max_delta_step=0, max_depth=3,\n",
       "       min_child_weight=1, missing=None, n_estimators=20, nthread=-1,\n",
       "       objective='binary:logistic', reg_alpha=1.0, reg_lambda=0.0,\n",
       "       scale_pos_weight=1.0, seed=42, silent=1, subsample=0.7)"
      ]
     },
     "execution_count": 29,
     "metadata": {},
     "output_type": "execute_result"
    }
   ],
   "source": [
    "xgbBest.fit(X_train,y_train)"
   ]
  },
  {
   "cell_type": "code",
   "execution_count": 30,
   "metadata": {
    "collapsed": true
   },
   "outputs": [],
   "source": [
    "classifier=xgbBest"
   ]
  },
  {
   "cell_type": "code",
   "execution_count": 31,
   "metadata": {
    "collapsed": true
   },
   "outputs": [],
   "source": [
    "names='XGBoost-Dataset B'"
   ]
  },
  {
   "cell_type": "code",
   "execution_count": 32,
   "metadata": {
    "collapsed": false
   },
   "outputs": [],
   "source": [
    "score=xgbBest.predict_proba(X_test)"
   ]
  },
  {
   "cell_type": "code",
   "execution_count": 33,
   "metadata": {
    "collapsed": true
   },
   "outputs": [],
   "source": [
    "import matplotlib.pyplot as plt"
   ]
  },
  {
   "cell_type": "code",
   "execution_count": 34,
   "metadata": {
    "collapsed": false
   },
   "outputs": [
    {
     "data": {
      "image/png": "[encoded data removed]",
      "text/plain": [
       "<matplotlib.figure.Figure at 0xa268dd8>"
      ]
     },
     "metadata": {},
     "output_type": "display_data"
    }
   ],
   "source": [
    "from sklearn.metrics import roc_curve, roc_auc_score\n",
    "fig, ax = plt.subplots()\n",
    "fig.set_size_inches(10,10)\n",
    "fpr, tpr, thresholds = roc_curve(y_test, score[:,1],pos_label=1)\n",
    "auc = roc_auc_score(y_test, score[:,1])\n",
    "plt.plot(fpr*100, tpr*100, label='%s (area = %.2f)' % (names, auc*100))\n",
    "plt.rc('xtick',labelsize=20)\n",
    "plt.rc('ytick',labelsize=20)\n",
    "plt.legend(prop={'size':14})\n",
    "ax.set_xlabel('False Positive Rate',fontsize=20)\n",
    "ax.set_ylabel('True Positive Rate',fontsize=20)\n",
    "plt.show()"
   ]
  },
  {
   "cell_type": "code",
   "execution_count": null,
   "metadata": {
    "collapsed": true
   },
   "outputs": [],
   "source": []
  }
 ],
 "metadata": {
  "anaconda-cloud": {},
  "kernelspec": {
   "display_name": "Python 3",
   "language": "python",
   "name": "python3"
  },
  "language_info": {
   "codemirror_mode": {
    "name": "ipython",
    "version": 3
   },
   "file_extension": ".py",
   "mimetype": "text/x-python",
   "name": "python",
   "nbconvert_exporter": "python",
   "pygments_lexer": "ipython3",
   "version": "3.5.3"
  }
 },
 "nbformat": 4,
 "nbformat_minor": 1
}
