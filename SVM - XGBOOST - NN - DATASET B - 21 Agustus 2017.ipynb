{
 "cells": [
  {
   "cell_type": "code",
   "execution_count": 1,
   "metadata": {
    "collapsed": true
   },
   "outputs": [],
   "source": [
    "import pandas as pd\n",
    "import numpy as np\n",
    "import matplotlib.pyplot as plt\n",
    "from scipy import stats\n",
    "import pylab as pl\n",
    "from sklearn.model_selection import train_test_split\n",
    "from sklearn.svm import SVC\n",
    "from sklearn.metrics import accuracy_score, precision_recall_fscore_support\n",
    "from sklearn import metrics\n",
    "from sklearn.model_selection import GridSearchCV\n",
    "from __future__ import print_function\n",
    "from sklearn.metrics import classification_report\n",
    "from sklearn.metrics import confusion_matrix\n",
    "from sklearn.metrics import make_scorer\n",
    "from sklearn.model_selection import cross_val_score\n",
    "from sklearn.metrics import roc_curve, roc_auc_score"
   ]
  },
  {
   "cell_type": "code",
   "execution_count": 2,
   "metadata": {
    "collapsed": false
   },
   "outputs": [
    {
     "name": "stdout",
     "output_type": "stream",
     "text": [
      "<class 'pandas.core.frame.DataFrame'>\n",
      "Int64Index: 683 entries, 0 to 698\n",
      "Data columns (total 10 columns):\n",
      "clump_thickness       683 non-null int64\n",
      "cell_size             683 non-null int64\n",
      "cell_shape            683 non-null int64\n",
      "marginal_adhesion     683 non-null int64\n",
      "epitelial_cellsize    683 non-null int64\n",
      "bare_nuclei           683 non-null int32\n",
      "bland_chromatin       683 non-null int64\n",
      "normal_nucleoli       683 non-null int64\n",
      "mitoses               683 non-null int64\n",
      "jenis                 683 non-null int64\n",
      "dtypes: int32(1), int64(9)\n",
      "memory usage: 56.0 KB\n"
     ]
    }
   ],
   "source": [
    "dfb = pd.read_csv(\"wbc.csv\")\n",
    "dfb=dfb[dfb.bare_nuclei!='?']\n",
    "dfb['bare_nuclei']=dfb['bare_nuclei'].astype(object).astype(int)\n",
    "dfb.info()"
   ]
  },
  {
   "cell_type": "code",
   "execution_count": 3,
   "metadata": {
    "collapsed": true
   },
   "outputs": [],
   "source": [
    "X = dfb.drop([dfb.columns[-1]], axis=1)\n",
    "y = dfb.jenis.map({2: 0, 4: 1})"
   ]
  },
  {
   "cell_type": "code",
   "execution_count": 4,
   "metadata": {
    "collapsed": true
   },
   "outputs": [],
   "source": [
    "RAND_SEED_SPLIT = RAND_SEED_TUNING = 84"
   ]
  },
  {
   "cell_type": "code",
   "execution_count": 5,
   "metadata": {
    "collapsed": true
   },
   "outputs": [],
   "source": [
    "X_train, X_test, y_train, y_test = train_test_split(X, y,test_size=0.33, random_state=RAND_SEED_SPLIT)"
   ]
  },
  {
   "cell_type": "code",
   "execution_count": 6,
   "metadata": {
    "collapsed": false
   },
   "outputs": [],
   "source": [
    "svc=SVC()"
   ]
  },
  {
   "cell_type": "code",
   "execution_count": 7,
   "metadata": {
    "collapsed": true
   },
   "outputs": [],
   "source": [
    "C_range= [2**i for i in [-5, -3, -1, 1, 3, 5, 7, 9, 11, 13, 15]]\n",
    "gamma_range= [2**i for i in [-15, -13, -11, -9, -7, -5, -3, -1, 1, 3]]"
   ]
  },
  {
   "cell_type": "code",
   "execution_count": 8,
   "metadata": {
    "collapsed": true
   },
   "outputs": [],
   "source": [
    "def cost_breast_cancer(y_true, y_pred):\n",
    "    CM = confusion_matrix(y_true, y_pred)\n",
    "    FN = CM[1][0]\n",
    "    FP = CM[0][1]\n",
    "    costBC=((-1*((228.35*FP)+(2850000*FN))))\n",
    "    return costBC"
   ]
  },
  {
   "cell_type": "code",
   "execution_count": 9,
   "metadata": {
    "collapsed": true
   },
   "outputs": [],
   "source": [
    "def specificity(y_true, y_pred):\n",
    "    CM = confusion_matrix(y_true, y_pred)\n",
    "    TN = CM[0][0]\n",
    "    FN = CM[1][0]\n",
    "    TP = CM[1][1]\n",
    "    FP = CM[0][1]\n",
    "    nilai=(TN/(FP+TN))\n",
    "    return nilai"
   ]
  },
  {
   "cell_type": "code",
   "execution_count": 10,
   "metadata": {
    "collapsed": true
   },
   "outputs": [],
   "source": [
    "def output_score(y_true, y_pred):\n",
    "    CM = confusion_matrix(y_true, y_pred)\n",
    "    TN = CM[0][0]\n",
    "    FN = CM[1][0]\n",
    "    TP = CM[1][1]\n",
    "    FP = CM[0][1]\n",
    "    specificity=(TN/(FP+TN))\n",
    "    sensitivity=(TP/(TP+FN))\n",
    "    accuracy=((TP+TN)/(TP+FP+TN+FN))\n",
    "    costBC=((-1*((228.35*FP)+(2850000*FN))))\n",
    "    return (specificity, sensitivity, accuracy, costBC)"
   ]
  },
  {
   "cell_type": "code",
   "execution_count": 11,
   "metadata": {
    "collapsed": false
   },
   "outputs": [],
   "source": [
    "my_custom_scorer=make_scorer(cost_breast_cancer, greater_is_better=True)\n",
    "score_specificity=make_scorer(specificity, greater_is_better=True)\n",
    "output_scoring=make_scorer(output_score, greater_is_better=True)"
   ]
  },
  {
   "cell_type": "code",
   "execution_count": 11,
   "metadata": {
    "collapsed": false
   },
   "outputs": [
    {
     "name": "stdout",
     "output_type": "stream",
     "text": [
      "Automatically created module for IPython interactive environment\n",
      "# Tuning hyper-parameters for make_scorer(cost_breast_cancer)\n",
      "\n",
      "Best parameters set found on development set:\n",
      "\n",
      "{'gamma': 0.125, 'C': 0.5, 'kernel': 'rbf'}\n",
      "\n",
      "Grid scores on development set:\n",
      "\n",
      "-46479321.663 (+/-2632762.923) for {'gamma': 3.0517578125e-05, 'C': 0.03125, 'kernel': 'rbf'}\n",
      "-46479321.663 (+/-2632762.923) for {'gamma': 0.0001220703125, 'C': 0.03125, 'kernel': 'rbf'}\n",
      "-43641794.311 (+/-6265938.437) for {'gamma': 0.00048828125, 'C': 0.03125, 'kernel': 'rbf'}\n",
      "-4552652.822 (+/-5197367.970) for {'gamma': 0.001953125, 'C': 0.03125, 'kernel': 'rbf'}\n",
      "-1409636.541 (+/-3810852.088) for {'gamma': 0.0078125, 'C': 0.03125, 'kernel': 'rbf'}\n",
      "-561656.892 (+/-2267206.208) for {'gamma': 0.03125, 'C': 0.03125, 'kernel': 'rbf'}\n",
      "-592.611 (+/-816.889) for {'gamma': 0.125, 'C': 0.03125, 'kernel': 'rbf'}\n",
      "-46479321.663 (+/-2632762.923) for {'gamma': 0.5, 'C': 0.03125, 'kernel': 'rbf'}\n",
      "-46479321.663 (+/-2632762.923) for {'gamma': 2, 'C': 0.03125, 'kernel': 'rbf'}\n",
      "-46479321.663 (+/-2632762.923) for {'gamma': 8, 'C': 0.03125, 'kernel': 'rbf'}\n",
      "-46479321.663 (+/-2632762.923) for {'gamma': 3.0517578125e-05, 'C': 0.125, 'kernel': 'rbf'}\n",
      "-41945514.223 (+/-9192468.282) for {'gamma': 0.0001220703125, 'C': 0.125, 'kernel': 'rbf'}\n",
      "-4833287.395 (+/-6234717.966) for {'gamma': 0.00048828125, 'C': 0.125, 'kernel': 'rbf'}\n",
      "-1970837.233 (+/-3651308.289) for {'gamma': 0.001953125, 'C': 0.125, 'kernel': 'rbf'}\n",
      "-1129025.452 (+/-3764686.753) for {'gamma': 0.0078125, 'C': 0.125, 'kernel': 'rbf'}\n",
      "-561611.921 (+/-2267137.662) for {'gamma': 0.03125, 'C': 0.125, 'kernel': 'rbf'}\n",
      "-615.096 (+/-787.591) for {'gamma': 0.125, 'C': 0.125, 'kernel': 'rbf'}\n",
      "-1006.839 (+/-868.968) for {'gamma': 0.5, 'C': 0.125, 'kernel': 'rbf'}\n",
      "-46479321.663 (+/-2632762.923) for {'gamma': 2, 'C': 0.125, 'kernel': 'rbf'}\n",
      "-46479321.663 (+/-2632762.923) for {'gamma': 8, 'C': 0.125, 'kernel': 'rbf'}\n",
      "-41384245.077 (+/-9941052.326) for {'gamma': 3.0517578125e-05, 'C': 0.5, 'kernel': 'rbf'}\n",
      "-4833287.395 (+/-6234717.966) for {'gamma': 0.0001220703125, 'C': 0.5, 'kernel': 'rbf'}\n",
      "-2251471.806 (+/-4265099.808) for {'gamma': 0.00048828125, 'C': 0.5, 'kernel': 'rbf'}\n",
      "-1970859.718 (+/-3651329.959) for {'gamma': 0.001953125, 'C': 0.5, 'kernel': 'rbf'}\n",
      "-1129025.452 (+/-3764686.753) for {'gamma': 0.0078125, 'C': 0.5, 'kernel': 'rbf'}\n",
      "-561565.952 (+/-2267183.191) for {'gamma': 0.03125, 'C': 0.5, 'kernel': 'rbf'}\n",
      "-524.156 (+/-705.682) for {'gamma': 0.125, 'C': 0.5, 'kernel': 'rbf'}\n",
      "-1142.749 (+/-787.266) for {'gamma': 0.5, 'C': 0.5, 'kernel': 'rbf'}\n",
      "-46479321.663 (+/-2632762.923) for {'gamma': 2, 'C': 0.5, 'kernel': 'rbf'}\n",
      "-46479321.663 (+/-2632762.923) for {'gamma': 8, 'C': 0.5, 'kernel': 'rbf'}\n",
      "-4833287.395 (+/-6234717.966) for {'gamma': 3.0517578125e-05, 'C': 2, 'kernel': 'rbf'}\n",
      "-2251471.806 (+/-4265099.808) for {'gamma': 0.0001220703125, 'C': 2, 'kernel': 'rbf'}\n",
      "-1970859.718 (+/-3651329.959) for {'gamma': 0.00048828125, 'C': 2, 'kernel': 'rbf'}\n",
      "-1409636.541 (+/-3810852.088) for {'gamma': 0.001953125, 'C': 2, 'kernel': 'rbf'}\n",
      "-848390.879 (+/-2606504.204) for {'gamma': 0.0078125, 'C': 2, 'kernel': 'rbf'}\n",
      "-1409682.511 (+/-2850104.281) for {'gamma': 0.03125, 'C': 2, 'kernel': 'rbf'}\n",
      "-280997.835 (+/-1698056.547) for {'gamma': 0.125, 'C': 2, 'kernel': 'rbf'}\n",
      "-822.460 (+/-768.350) for {'gamma': 0.5, 'C': 2, 'kernel': 'rbf'}\n",
      "-1486.024 (+/-821.378) for {'gamma': 2, 'C': 2, 'kernel': 'rbf'}\n",
      "-4492487.639 (+/-27171201.389) for {'gamma': 8, 'C': 2, 'kernel': 'rbf'}\n",
      "-2251471.806 (+/-4265099.808) for {'gamma': 3.0517578125e-05, 'C': 8, 'kernel': 'rbf'}\n",
      "-2251494.291 (+/-4265172.541) for {'gamma': 0.0001220703125, 'C': 8, 'kernel': 'rbf'}\n",
      "-1409636.541 (+/-2850105.268) for {'gamma': 0.00048828125, 'C': 8, 'kernel': 'rbf'}\n",
      "-848367.394 (+/-2606534.776) for {'gamma': 0.001953125, 'C': 8, 'kernel': 'rbf'}\n",
      "-1129047.938 (+/-2788040.480) for {'gamma': 0.0078125, 'C': 8, 'kernel': 'rbf'}\n",
      "-2850340.776 (+/-3577495.603) for {'gamma': 0.03125, 'C': 8, 'kernel': 'rbf'}\n",
      "-280997.835 (+/-1698056.547) for {'gamma': 0.125, 'C': 8, 'kernel': 'rbf'}\n",
      "-822.460 (+/-768.350) for {'gamma': 0.5, 'C': 8, 'kernel': 'rbf'}\n",
      "-1486.024 (+/-821.378) for {'gamma': 2, 'C': 8, 'kernel': 'rbf'}\n",
      "-4492487.639 (+/-27171201.389) for {'gamma': 8, 'C': 8, 'kernel': 'rbf'}\n",
      "-2251494.291 (+/-4265172.541) for {'gamma': 3.0517578125e-05, 'C': 32, 'kernel': 'rbf'}\n",
      "-1409636.541 (+/-2850105.268) for {'gamma': 0.0001220703125, 'C': 32, 'kernel': 'rbf'}\n",
      "-1409636.541 (+/-2850105.268) for {'gamma': 0.00048828125, 'C': 32, 'kernel': 'rbf'}\n",
      "-1129025.452 (+/-2788076.891) for {'gamma': 0.001953125, 'C': 32, 'kernel': 'rbf'}\n",
      "-2544715.937 (+/-3988771.092) for {'gamma': 0.0078125, 'C': 32, 'kernel': 'rbf'}\n",
      "-3991588.041 (+/-6308437.958) for {'gamma': 0.03125, 'C': 32, 'kernel': 'rbf'}\n",
      "-280997.835 (+/-1698056.547) for {'gamma': 0.125, 'C': 32, 'kernel': 'rbf'}\n",
      "-822.460 (+/-768.350) for {'gamma': 0.5, 'C': 32, 'kernel': 'rbf'}\n",
      "-1486.024 (+/-821.378) for {'gamma': 2, 'C': 32, 'kernel': 'rbf'}\n",
      "-4492487.639 (+/-27171201.389) for {'gamma': 8, 'C': 32, 'kernel': 'rbf'}\n",
      "-1409636.541 (+/-2850105.268) for {'gamma': 3.0517578125e-05, 'C': 128, 'kernel': 'rbf'}\n",
      "-1409636.541 (+/-2850105.268) for {'gamma': 0.0001220703125, 'C': 128, 'kernel': 'rbf'}\n",
      "-1129001.968 (+/-2788114.927) for {'gamma': 0.00048828125, 'C': 128, 'kernel': 'rbf'}\n",
      "-1129024.453 (+/-2788078.517) for {'gamma': 0.001953125, 'C': 128, 'kernel': 'rbf'}\n",
      "-4577824.968 (+/-6327526.850) for {'gamma': 0.0078125, 'C': 128, 'kernel': 'rbf'}\n",
      "-3991588.041 (+/-6308437.958) for {'gamma': 0.03125, 'C': 128, 'kernel': 'rbf'}\n",
      "-280997.835 (+/-1698056.547) for {'gamma': 0.125, 'C': 128, 'kernel': 'rbf'}\n",
      "-822.460 (+/-768.350) for {'gamma': 0.5, 'C': 128, 'kernel': 'rbf'}\n",
      "-1486.024 (+/-821.378) for {'gamma': 2, 'C': 128, 'kernel': 'rbf'}\n",
      "-4492487.639 (+/-27171201.389) for {'gamma': 8, 'C': 128, 'kernel': 'rbf'}\n",
      "-1409636.541 (+/-2850105.268) for {'gamma': 3.0517578125e-05, 'C': 512, 'kernel': 'rbf'}\n",
      "-1690271.114 (+/-3773865.753) for {'gamma': 0.0001220703125, 'C': 512, 'kernel': 'rbf'}\n",
      "-1129025.452 (+/-2788076.891) for {'gamma': 0.00048828125, 'C': 512, 'kernel': 'rbf'}\n",
      "-2837823.158 (+/-4429949.540) for {'gamma': 0.001953125, 'C': 512, 'kernel': 'rbf'}\n",
      "-5151567.762 (+/-7120084.195) for {'gamma': 0.0078125, 'C': 512, 'kernel': 'rbf'}\n",
      "-3991588.041 (+/-6308437.958) for {'gamma': 0.03125, 'C': 512, 'kernel': 'rbf'}\n",
      "-280997.835 (+/-1698056.547) for {'gamma': 0.125, 'C': 512, 'kernel': 'rbf'}\n",
      "-822.460 (+/-768.350) for {'gamma': 0.5, 'C': 512, 'kernel': 'rbf'}\n",
      "-1486.024 (+/-821.378) for {'gamma': 2, 'C': 512, 'kernel': 'rbf'}\n",
      "-4492487.639 (+/-27171201.389) for {'gamma': 8, 'C': 512, 'kernel': 'rbf'}\n",
      "-1690271.114 (+/-3773865.753) for {'gamma': 3.0517578125e-05, 'C': 2048, 'kernel': 'rbf'}\n",
      "-1129001.968 (+/-2788114.927) for {'gamma': 0.0001220703125, 'C': 2048, 'kernel': 'rbf'}\n",
      "-1129024.453 (+/-2788078.517) for {'gamma': 0.00048828125, 'C': 2048, 'kernel': 'rbf'}\n",
      "-4559115.997 (+/-6848986.433) for {'gamma': 0.001953125, 'C': 2048, 'kernel': 'rbf'}\n",
      "-5151567.762 (+/-7120084.195) for {'gamma': 0.0078125, 'C': 2048, 'kernel': 'rbf'}\n",
      "-3991588.041 (+/-6308437.958) for {'gamma': 0.03125, 'C': 2048, 'kernel': 'rbf'}\n",
      "-280997.835 (+/-1698056.547) for {'gamma': 0.125, 'C': 2048, 'kernel': 'rbf'}\n",
      "-822.460 (+/-768.350) for {'gamma': 0.5, 'C': 2048, 'kernel': 'rbf'}\n",
      "-1486.024 (+/-821.378) for {'gamma': 2, 'C': 2048, 'kernel': 'rbf'}\n",
      "-4492487.639 (+/-27171201.389) for {'gamma': 8, 'C': 2048, 'kernel': 'rbf'}\n",
      "-1690271.114 (+/-3773865.753) for {'gamma': 3.0517578125e-05, 'C': 8192, 'kernel': 'rbf'}\n",
      "-1129025.452 (+/-2788076.891) for {'gamma': 0.0001220703125, 'C': 8192, 'kernel': 'rbf'}\n",
      "-3124694.055 (+/-5949165.348) for {'gamma': 0.00048828125, 'C': 8192, 'kernel': 'rbf'}\n",
      "-4259750.966 (+/-7293768.068) for {'gamma': 0.001953125, 'C': 8192, 'kernel': 'rbf'}\n",
      "-5151567.762 (+/-7120084.195) for {'gamma': 0.0078125, 'C': 8192, 'kernel': 'rbf'}\n",
      "-3991588.041 (+/-6308437.958) for {'gamma': 0.03125, 'C': 8192, 'kernel': 'rbf'}\n",
      "-280997.835 (+/-1698056.547) for {'gamma': 0.125, 'C': 8192, 'kernel': 'rbf'}\n",
      "-822.460 (+/-768.350) for {'gamma': 0.5, 'C': 8192, 'kernel': 'rbf'}\n",
      "-1486.024 (+/-821.378) for {'gamma': 2, 'C': 8192, 'kernel': 'rbf'}\n",
      "-4492487.639 (+/-27171201.389) for {'gamma': 8, 'C': 8192, 'kernel': 'rbf'}\n",
      "-1409636.541 (+/-2850105.268) for {'gamma': 3.0517578125e-05, 'C': 32768, 'kernel': 'rbf'}\n",
      "-1129024.453 (+/-2788078.517) for {'gamma': 0.0001220703125, 'C': 32768, 'kernel': 'rbf'}\n",
      "-4278458.938 (+/-7323122.882) for {'gamma': 0.00048828125, 'C': 32768, 'kernel': 'rbf'}\n",
      "-4552858.187 (+/-7718454.648) for {'gamma': 0.001953125, 'C': 32768, 'kernel': 'rbf'}\n",
      "-5151567.762 (+/-7120084.195) for {'gamma': 0.0078125, 'C': 32768, 'kernel': 'rbf'}\n",
      "-3991588.041 (+/-6308437.958) for {'gamma': 0.03125, 'C': 32768, 'kernel': 'rbf'}\n",
      "-280997.835 (+/-1698056.547) for {'gamma': 0.125, 'C': 32768, 'kernel': 'rbf'}\n",
      "-822.460 (+/-768.350) for {'gamma': 0.5, 'C': 32768, 'kernel': 'rbf'}\n",
      "-1486.024 (+/-821.378) for {'gamma': 2, 'C': 32768, 'kernel': 'rbf'}\n",
      "-4492487.639 (+/-27171201.389) for {'gamma': 8, 'C': 32768, 'kernel': 'rbf'}\n",
      "\n"
     ]
    }
   ],
   "source": [
    "print(__doc__)\n",
    "\n",
    "tuned_parameters = [{'kernel': ['rbf'], 'gamma': gamma_range,\n",
    "                     'C': C_range},]\n",
    "\n",
    "scores = [my_custom_scorer]\n",
    "\n",
    "for score in scores:\n",
    "    print(\"# Tuning hyper-parameters for %s\" % score)\n",
    "    print()\n",
    "\n",
    "    clf2 = GridSearchCV(svc, tuned_parameters, cv=10,\n",
    "                       scoring=my_custom_scorer)\n",
    "    clf2.fit(X_train, y_train)\n",
    "\n",
    "    print(\"Best parameters set found on development set:\")\n",
    "    print()\n",
    "    print(clf2.best_params_)\n",
    "    print()\n",
    "    print(\"Grid scores on development set:\")\n",
    "    print()\n",
    "    means = clf2.cv_results_['mean_test_score']\n",
    "    stds = clf2.cv_results_['std_test_score']\n",
    "    for mean, std, params in zip(means, stds, clf2.cv_results_['params']):\n",
    "        print(\"%0.3f (+/-%0.03f) for %r\"\n",
    "              % (mean, std * 2, params))\n",
    "    print()\n"
   ]
  },
  {
   "cell_type": "code",
   "execution_count": 12,
   "metadata": {
    "collapsed": false
   },
   "outputs": [
    {
     "name": "stdout",
     "output_type": "stream",
     "text": [
      "Best score cost obtained: -524.1556892778992\n",
      "Parameters:\n",
      "\tgamma: 0.125\n",
      "\tC: 0.5\n",
      "\tkernel: rbf\n"
     ]
    }
   ],
   "source": [
    "print(\"Best score cost obtained: {0}\".format(clf2.best_score_))\n",
    "print(\"Parameters:\")\n",
    "for key, value in clf2.best_params_.items():\n",
    "    print(\"\\t{}: {}\".format(key, value))"
   ]
  },
  {
   "cell_type": "code",
   "execution_count": 13,
   "metadata": {
    "collapsed": false
   },
   "outputs": [
    {
     "data": {
      "text/plain": [
       "SVC(C=0.5, cache_size=200, class_weight=None, coef0=0.0,\n",
       "  decision_function_shape=None, degree=3, gamma=0.125, kernel='rbf',\n",
       "  max_iter=-1, probability=False, random_state=None, shrinking=True,\n",
       "  tol=0.001, verbose=False)"
      ]
     },
     "execution_count": 13,
     "metadata": {},
     "output_type": "execute_result"
    }
   ],
   "source": [
    "clf2.best_estimator_"
   ]
  },
  {
   "cell_type": "code",
   "execution_count": 12,
   "metadata": {
    "collapsed": true
   },
   "outputs": [],
   "source": [
    "bestSVC=SVC(C=0.5, cache_size=200, class_weight=None, coef0=0.0,\n",
    "  decision_function_shape=None, degree=3, gamma=0.125, kernel='rbf',\n",
    "  max_iter=-1, probability=True, random_state=None, shrinking=True,\n",
    "  tol=0.001, verbose=False)"
   ]
  },
  {
   "cell_type": "code",
   "execution_count": 13,
   "metadata": {
    "collapsed": false
   },
   "outputs": [
    {
     "data": {
      "text/plain": [
       "SVC(C=0.5, cache_size=200, class_weight=None, coef0=0.0,\n",
       "  decision_function_shape=None, degree=3, gamma=0.125, kernel='rbf',\n",
       "  max_iter=-1, probability=True, random_state=None, shrinking=True,\n",
       "  tol=0.001, verbose=False)"
      ]
     },
     "execution_count": 13,
     "metadata": {},
     "output_type": "execute_result"
    }
   ],
   "source": [
    "bestSVC.fit(X_train, y_train)"
   ]
  },
  {
   "cell_type": "code",
   "execution_count": 16,
   "metadata": {
    "collapsed": true
   },
   "outputs": [],
   "source": [
    "scores1=cross_val_score(bestSVC,X_train,y_train,cv=10,scoring=score_specificity)"
   ]
  },
  {
   "cell_type": "code",
   "execution_count": 17,
   "metadata": {
    "collapsed": false
   },
   "outputs": [
    {
     "name": "stdout",
     "output_type": "stream",
     "text": [
      "Specificity: 0.9217 (+/- 0.1065)\n"
     ]
    }
   ],
   "source": [
    "print(\"Specificity: %0.4f (+/- %0.4f)\" % (scores1.mean(), scores1.std() * 2))"
   ]
  },
  {
   "cell_type": "code",
   "execution_count": 18,
   "metadata": {
    "collapsed": true
   },
   "outputs": [],
   "source": [
    "scores2=cross_val_score(bestSVC,X_train,y_train,cv=10,scoring=my_custom_scorer)"
   ]
  },
  {
   "cell_type": "code",
   "execution_count": 19,
   "metadata": {
    "collapsed": false
   },
   "outputs": [
    {
     "name": "stdout",
     "output_type": "stream",
     "text": [
      "Score cost: -525.2050 (+/- 708.9891)\n"
     ]
    }
   ],
   "source": [
    "print(\"Score cost: %0.4f (+/- %0.4f)\" % (scores2.mean(), scores2.std() * 2))"
   ]
  },
  {
   "cell_type": "code",
   "execution_count": 20,
   "metadata": {
    "collapsed": true
   },
   "outputs": [],
   "source": [
    "scores3=cross_val_score(bestSVC,X_train,y_train,cv=10,scoring='recall')"
   ]
  },
  {
   "cell_type": "code",
   "execution_count": 21,
   "metadata": {
    "collapsed": false
   },
   "outputs": [
    {
     "name": "stdout",
     "output_type": "stream",
     "text": [
      "Recall: 1.0000 (+/- 0.0000)\n"
     ]
    }
   ],
   "source": [
    "print(\"Recall: %0.4f (+/- %0.4f)\" % (scores3.mean(), scores3.std() * 2))"
   ]
  },
  {
   "cell_type": "code",
   "execution_count": 22,
   "metadata": {
    "collapsed": true
   },
   "outputs": [],
   "source": [
    "scores4=cross_val_score(bestSVC,X_train,y_train,cv=10,scoring='accuracy')"
   ]
  },
  {
   "cell_type": "code",
   "execution_count": 23,
   "metadata": {
    "collapsed": false
   },
   "outputs": [
    {
     "name": "stdout",
     "output_type": "stream",
     "text": [
      "Accuracy: 0.9496 (+/- 0.0689)\n"
     ]
    }
   ],
   "source": [
    "print(\"Accuracy: %0.4f (+/- %0.4f)\" % (scores4.mean(), scores4.std() * 2))"
   ]
  },
  {
   "cell_type": "code",
   "execution_count": 37,
   "metadata": {
    "collapsed": false
   },
   "outputs": [
    {
     "name": "stdout",
     "output_type": "stream",
     "text": [
      "             precision    recall  f1-score   support\n",
      "\n",
      "          0       1.00      0.92      0.96       150\n",
      "          1       0.86      1.00      0.93        76\n",
      "\n",
      "avg / total       0.95      0.95      0.95       226\n",
      "\n",
      "Akurasi: 0.9469\n",
      "Specificity: 0.9200\n",
      "Recall: 1.0000\n"
     ]
    },
    {
     "data": {
      "text/plain": [
       "(0.92000000000000004, 1.0, 0.94690265486725667, -2740.1999999999998)"
      ]
     },
     "execution_count": 37,
     "metadata": {},
     "output_type": "execute_result"
    }
   ],
   "source": [
    "y_predSVMB = bestSVC.predict(X_test)\n",
    "accuracy = accuracy_score(y_test, y_predSVMB)\n",
    "precision, recall, f1, _ = precision_recall_fscore_support(y_test, y_predSVMB)\n",
    "print(classification_report(y_test, y_predSVMB))\n",
    "print (('Akurasi: %.4f') % (accuracy))\n",
    "print (('Specificity: %.4f') % (specificity(y_test, y_predSVMB)))\n",
    "print (('Recall: %.4f') % (recall[1]))\n",
    "output_score(y_test, y_predSVMB)"
   ]
  },
  {
   "cell_type": "code",
   "execution_count": 39,
   "metadata": {
    "collapsed": false
   },
   "outputs": [
    {
     "data": {
      "text/plain": [
       "array([[138,  12],\n",
       "       [  0,  76]])"
      ]
     },
     "execution_count": 39,
     "metadata": {},
     "output_type": "execute_result"
    }
   ],
   "source": [
    "confusion_matrix(y_test,y_predSVMB)"
   ]
  },
  {
   "cell_type": "code",
   "execution_count": 14,
   "metadata": {
    "collapsed": false
   },
   "outputs": [
    {
     "name": "stdout",
     "output_type": "stream",
     "text": [
      "             precision    recall  f1-score   support\n",
      "\n",
      "          0       1.00      0.92      0.96       150\n",
      "          1       0.86      1.00      0.93        76\n",
      "\n",
      "avg / total       0.95      0.95      0.95       226\n",
      "\n",
      "Akurasi: 0.9469\n",
      "Specificity: 0.9200\n",
      "Recall: 1.0000\n"
     ]
    },
    {
     "data": {
      "text/plain": [
       "(0.92000000000000004, 1.0, 0.94690265486725667, -2740.1999999999998)"
      ]
     },
     "execution_count": 14,
     "metadata": {},
     "output_type": "execute_result"
    }
   ],
   "source": [
    "y_predSVMB = bestSVC.predict(X_test)\n",
    "accuracy = accuracy_score(y_test, y_predSVMB)\n",
    "precision, recall, f1, _ = precision_recall_fscore_support(y_test, y_predSVMB)\n",
    "print(classification_report(y_test, y_predSVMB))\n",
    "print (('Akurasi: %.4f') % (accuracy))\n",
    "print (('Specificity: %.4f') % (specificity(y_test, y_predSVMB)))\n",
    "print (('Recall: %.4f') % (recall[1]))\n",
    "output_score(y_test, y_predSVMB)"
   ]
  },
  {
   "cell_type": "code",
   "execution_count": 14,
   "metadata": {
    "collapsed": false
   },
   "outputs": [
    {
     "name": "stderr",
     "output_type": "stream",
     "text": [
      "c:\\users\\annisa\\anaconda3\\envs\\py35\\lib\\site-packages\\sklearn\\cross_validation.py:44: DeprecationWarning: This module was deprecated in version 0.18 in favor of the model_selection module into which all the refactored classes and functions are moved. Also note that the interface of the new CV iterators are different from that of this module. This module will be removed in 0.20.\n",
      "  \"This module will be removed in 0.20.\", DeprecationWarning)\n"
     ]
    }
   ],
   "source": [
    "from xgboost import XGBClassifier"
   ]
  },
  {
   "cell_type": "code",
   "execution_count": 15,
   "metadata": {
    "collapsed": true
   },
   "outputs": [],
   "source": [
    "from sklearn.model_selection import RandomizedSearchCV"
   ]
  },
  {
   "cell_type": "code",
   "execution_count": 16,
   "metadata": {
    "collapsed": true
   },
   "outputs": [],
   "source": [
    "from sklearn.cross_validation import StratifiedKFold"
   ]
  },
  {
   "cell_type": "code",
   "execution_count": 17,
   "metadata": {
    "collapsed": true
   },
   "outputs": [],
   "source": [
    "cv = StratifiedKFold(y_train, n_folds=10, shuffle=True, random_state=RAND_SEED_SPLIT)"
   ]
  },
  {
   "cell_type": "code",
   "execution_count": 18,
   "metadata": {
    "collapsed": true
   },
   "outputs": [],
   "source": [
    "classifier = XGBClassifier()"
   ]
  },
  {
   "cell_type": "code",
   "execution_count": 19,
   "metadata": {
    "collapsed": false
   },
   "outputs": [
    {
     "name": "stdout",
     "output_type": "stream",
     "text": [
      "Automatically created module for IPython interactive environment\n",
      "# Tuning hyper-parameters for make_scorer(cost_breast_cancer)\n",
      "\n",
      "Best parameters set found on development set:\n",
      "\n",
      "{'colsample_bytree': 0.6, 'reg_alpha': 5.0, 'n_estimators': 10, 'reg_lambda': 10.0, 'subsample': 0.5}\n",
      "\n",
      "Grid scores on development set:\n",
      "\n",
      "-1135241.290 (+/-2790359.726) for {'colsample_bytree': 0.6, 'reg_alpha': 5.0, 'n_estimators': 10, 'reg_lambda': 10.0, 'subsample': 0.5}\n",
      "-1989686.612 (+/-3639606.090) for {'colsample_bytree': 1.0, 'reg_alpha': 0.0, 'n_estimators': 10, 'reg_lambda': 0.05, 'subsample': 0.9}\n",
      "-1415898.348 (+/-3810761.320) for {'colsample_bytree': 0.8, 'reg_alpha': 0.5, 'n_estimators': 10, 'reg_lambda': 0.0, 'subsample': 0.7}\n",
      "-1428347.511 (+/-3810837.024) for {'colsample_bytree': 0.6, 'reg_alpha': 0.005, 'n_estimators': 20, 'reg_lambda': 1.0, 'subsample': 0.5}\n",
      "-1708936.115 (+/-2793036.405) for {'colsample_bytree': 0.7, 'reg_alpha': 1.0, 'n_estimators': 50, 'reg_lambda': 0.005, 'subsample': 0.5}\n",
      "-1708983.084 (+/-2792921.479) for {'colsample_bytree': 0.9, 'reg_alpha': 0.0, 'n_estimators': 10, 'reg_lambda': 1.0, 'subsample': 0.9}\n",
      "-1696510.436 (+/-4541479.720) for {'colsample_bytree': 0.5, 'reg_alpha': 0.0, 'n_estimators': 10, 'reg_lambda': 0.5, 'subsample': 0.9}\n",
      "-1147712.938 (+/-2795617.568) for {'colsample_bytree': 0.7, 'reg_alpha': 0.5, 'n_estimators': 20, 'reg_lambda': 0.1, 'subsample': 0.8}\n",
      "-1428325.026 (+/-2850130.196) for {'colsample_bytree': 0.7, 'reg_alpha': 0.005, 'n_estimators': 30, 'reg_lambda': 0.0, 'subsample': 0.5}\n",
      "-1428301.541 (+/-3810566.613) for {'colsample_bytree': 0.5, 'reg_alpha': 0.1, 'n_estimators': 30, 'reg_lambda': 0.001, 'subsample': 0.9}\n",
      "\n"
     ]
    }
   ],
   "source": [
    "print(__doc__)\n",
    "\n",
    "# Set the parameters by cross-validation\n",
    "tuned_parameters ={'n_estimators': [10,20,30,50],\n",
    "                    'subsample': [0.5, 0.6, 0.7, 0.8, 0.9, 1.],\n",
    "                    'colsample_bytree': [0.5, 0.6, 0.7, 0.8, 0.9, 1.],\n",
    "                    'reg_alpha': [0., 0.001, 0.005, 0.01, 0.05, 0.1, 0.5, 1., 5., 10.],\n",
    "                    'reg_lambda': [0., 0.001, 0.005, 0.01, 0.05, 0.1, 0.5, 1., 5., 10.]\n",
    "                    }    \n",
    "\n",
    "                  \n",
    "params_fixed = {\n",
    "    'objective': 'binary:logistic',\n",
    "    'silent': 1\n",
    "}\n",
    "scores = [my_custom_scorer]\n",
    "\n",
    "for score in scores:\n",
    "    print(\"# Tuning hyper-parameters for %s\" % score)\n",
    "    print()\n",
    "\n",
    "    clf = RandomizedSearchCV(estimator=XGBClassifier(**params_fixed, seed=RAND_SEED_TUNING),\n",
    "    param_distributions=tuned_parameters, cv=cv, scoring=my_custom_scorer)\n",
    "    clf.fit(X_train, y_train)\n",
    "\n",
    "    print(\"Best parameters set found on development set:\")\n",
    "    print()\n",
    "    print(clf.best_params_)\n",
    "    print()\n",
    "    print(\"Grid scores on development set:\")\n",
    "    print()\n",
    "    means = clf.cv_results_['mean_test_score']\n",
    "    stds = clf.cv_results_['std_test_score']\n",
    "    for mean, std, params in zip(means, stds, clf.cv_results_['params']):\n",
    "        print(\"%0.3f (+/-%0.03f) for %r\"\n",
    "              % (mean, std * 2, params))\n",
    "    print()"
   ]
  },
  {
   "cell_type": "code",
   "execution_count": 20,
   "metadata": {
    "collapsed": false
   },
   "outputs": [
    {
     "name": "stdout",
     "output_type": "stream",
     "text": [
      "Best score cost obtained: -1135241.289606127\n",
      "Parameters:\n",
      "\tcolsample_bytree: 0.6\n",
      "\treg_alpha: 5.0\n",
      "\tn_estimators: 10\n",
      "\treg_lambda: 10.0\n",
      "\tsubsample: 0.5\n"
     ]
    }
   ],
   "source": [
    "print(\"Best score cost obtained: {0}\".format(clf.best_score_))\n",
    "print(\"Parameters:\")\n",
    "for key, value in clf.best_params_.items():\n",
    "    print(\"\\t{}: {}\".format(key, value))"
   ]
  },
  {
   "cell_type": "code",
   "execution_count": 21,
   "metadata": {
    "collapsed": false
   },
   "outputs": [
    {
     "data": {
      "text/plain": [
       "XGBClassifier(base_score=0.5, colsample_bylevel=1, colsample_bytree=0.6,\n",
       "       gamma=0, learning_rate=0.1, max_delta_step=0, max_depth=3,\n",
       "       min_child_weight=1, missing=None, n_estimators=10, nthread=-1,\n",
       "       objective='binary:logistic', reg_alpha=5.0, reg_lambda=10.0,\n",
       "       scale_pos_weight=1, seed=84, silent=1, subsample=0.5)"
      ]
     },
     "execution_count": 21,
     "metadata": {},
     "output_type": "execute_result"
    }
   ],
   "source": [
    "clf.best_estimator_"
   ]
  },
  {
   "cell_type": "code",
   "execution_count": 19,
   "metadata": {
    "collapsed": true
   },
   "outputs": [],
   "source": [
    "bestXGB=XGBClassifier(base_score=0.5, colsample_bylevel=1, colsample_bytree=0.6,\n",
    "       gamma=0, learning_rate=0.1, max_delta_step=0, max_depth=3,\n",
    "       min_child_weight=1, missing=None, n_estimators=10, nthread=-1,\n",
    "       objective='binary:logistic', reg_alpha=5.0, reg_lambda=10.0,\n",
    "       scale_pos_weight=1, seed=84, silent=1, subsample=0.5)"
   ]
  },
  {
   "cell_type": "code",
   "execution_count": 20,
   "metadata": {
    "collapsed": false
   },
   "outputs": [
    {
     "data": {
      "text/plain": [
       "XGBClassifier(base_score=0.5, colsample_bylevel=1, colsample_bytree=0.6,\n",
       "       gamma=0, learning_rate=0.1, max_delta_step=0, max_depth=3,\n",
       "       min_child_weight=1, missing=None, n_estimators=10, nthread=-1,\n",
       "       objective='binary:logistic', reg_alpha=5.0, reg_lambda=10.0,\n",
       "       scale_pos_weight=1, seed=84, silent=1, subsample=0.5)"
      ]
     },
     "execution_count": 20,
     "metadata": {},
     "output_type": "execute_result"
    }
   ],
   "source": [
    "bestXGB.fit(X_train, y_train)"
   ]
  },
  {
   "cell_type": "code",
   "execution_count": 24,
   "metadata": {
    "collapsed": false
   },
   "outputs": [
    {
     "name": "stdout",
     "output_type": "stream",
     "text": [
      "Score cost: -1140228.3500 (+/- 2792418.3367)\n"
     ]
    }
   ],
   "source": [
    "scores4=cross_val_score(bestXGB,X_train,y_train,cv=cv,scoring=my_custom_scorer)\n",
    "print(\"Score cost: %0.4f (+/- %0.4f)\" % (scores4.mean(), scores4.std() * 2))"
   ]
  },
  {
   "cell_type": "code",
   "execution_count": 25,
   "metadata": {
    "collapsed": false
   },
   "outputs": [
    {
     "name": "stdout",
     "output_type": "stream",
     "text": [
      "Specificity: 0.9662 (+/- 0.0602)\n",
      "Accuracy: 0.9695 (+/- 0.0444)\n",
      "Recall: 0.9754 (+/- 0.0604)\n"
     ]
    }
   ],
   "source": [
    "scores1=cross_val_score(bestXGB,X_train,y_train,cv=cv,scoring=score_specificity)\n",
    "print(\"Specificity: %0.4f (+/- %0.4f)\" % (scores1.mean(), scores1.std() * 2))\n",
    "scores2=cross_val_score(bestXGB,X_train,y_train,cv=cv,scoring='accuracy')\n",
    "print(\"Accuracy: %0.4f (+/- %0.4f)\" % (scores2.mean(), scores2.std() * 2))\n",
    "scores3=cross_val_score(bestXGB,X_train,y_train,cv=cv,scoring='recall')\n",
    "print(\"Recall: %0.4f (+/- %0.4f)\" % (scores3.mean(), scores3.std() * 2))\n"
   ]
  },
  {
   "cell_type": "code",
   "execution_count": 26,
   "metadata": {
    "collapsed": false
   },
   "outputs": [
    {
     "name": "stdout",
     "output_type": "stream",
     "text": [
      "             precision    recall  f1-score   support\n",
      "\n",
      "          0       0.97      0.98      0.98       150\n",
      "          1       0.96      0.95      0.95        76\n",
      "\n",
      "avg / total       0.97      0.97      0.97       226\n",
      "\n",
      "Akurasi: 0.9690\n",
      "Specificity: 0.9800\n",
      "Recall: 0.9474\n"
     ]
    },
    {
     "data": {
      "text/plain": [
       "(0.97999999999999998,\n",
       " 0.94736842105263153,\n",
       " 0.96902654867256632,\n",
       " -11400685.050000001)"
      ]
     },
     "execution_count": 26,
     "metadata": {},
     "output_type": "execute_result"
    }
   ],
   "source": [
    "y_predXGBB = bestXGB.predict(X_test)\n",
    "accuracy = accuracy_score(y_test, y_predXGBB)\n",
    "precision, recall, f1, _ = precision_recall_fscore_support(y_test, y_predXGBB)\n",
    "print(classification_report(y_test, y_predXGBB))\n",
    "print (('Akurasi: %.4f') % (accuracy))\n",
    "print (('Specificity: %.4f') % (specificity(y_test, y_predXGBB)))\n",
    "print (('Recall: %.4f') % (recall[1]))\n",
    "output_score(y_test, y_predXGBB)"
   ]
  },
  {
   "cell_type": "code",
   "execution_count": 27,
   "metadata": {
    "collapsed": false
   },
   "outputs": [
    {
     "data": {
      "text/plain": [
       "array([[147,   3],\n",
       "       [  4,  72]])"
      ]
     },
     "execution_count": 27,
     "metadata": {},
     "output_type": "execute_result"
    }
   ],
   "source": [
    "confusion_matrix(y_test,y_predXGBB)"
   ]
  },
  {
   "cell_type": "code",
   "execution_count": 21,
   "metadata": {
    "collapsed": true
   },
   "outputs": [],
   "source": [
    "import numpy as np\n",
    "seed = 7\n",
    "np.random.seed(seed)"
   ]
  },
  {
   "cell_type": "code",
   "execution_count": 22,
   "metadata": {
    "collapsed": false
   },
   "outputs": [
    {
     "name": "stderr",
     "output_type": "stream",
     "text": [
      "Using Theano backend.\n"
     ]
    }
   ],
   "source": [
    "from keras.models import Sequential\n",
    "from keras.layers import Dense\n",
    "from keras.wrappers.scikit_learn import KerasClassifier\n",
    "from sklearn.model_selection import StratifiedKFold\n",
    "from sklearn.model_selection import cross_val_score\n",
    "from keras.models import Sequential\n",
    "from keras.layers import Dense\n",
    "from keras.utils import np_utils\n",
    "from keras import optimizers"
   ]
  },
  {
   "cell_type": "code",
   "execution_count": 23,
   "metadata": {
    "collapsed": true
   },
   "outputs": [],
   "source": [
    "def create_model10a():\n",
    "    model10 = Sequential()\n",
    "    model10.add(Dense(7, input_dim=9, activation='relu'))\n",
    "    model10.add(Dense(7, activation='relu'))\n",
    "    model10.add(Dense(7, activation='relu'))\n",
    "    model10.add(Dense(7, activation='relu'))\n",
    "    model10.add(Dense(7, activation='relu'))\n",
    "    model10.add(Dense(7, activation='relu'))\n",
    "    model10.add(Dense(7, activation='relu'))\n",
    "    model10.add(Dense(7, activation='relu'))\n",
    "    model10.add(Dense(7, activation='relu'))\n",
    "    model10.add(Dense(7, activation='relu'))\n",
    "    model10.add(Dense(1, activation='sigmoid'))\n",
    "    adm = optimizers.Adam(lr=0.001, beta_1=0.9, beta_2=0.999, epsilon=1e-08, decay=0.0)\n",
    "    model10.compile(loss='binary_crossentropy', optimizer=adm, metrics=['accuracy'])\n",
    "    return model10"
   ]
  },
  {
   "cell_type": "code",
   "execution_count": 24,
   "metadata": {
    "collapsed": true
   },
   "outputs": [],
   "source": [
    "from keras.models import load_model\n",
    "model=create_model10a()"
   ]
  },
  {
   "cell_type": "code",
   "execution_count": 25,
   "metadata": {
    "collapsed": true
   },
   "outputs": [],
   "source": [
    "model.save_weights('my_model_weights.h5')"
   ]
  },
  {
   "cell_type": "code",
   "execution_count": 26,
   "metadata": {
    "collapsed": true
   },
   "outputs": [],
   "source": [
    "from sklearn.model_selection import train_test_split\n",
    "X_trainb, X_testb, y_trainb, y_testb = train_test_split(X, y,test_size=0.33, random_state=seed )"
   ]
  },
  {
   "cell_type": "code",
   "execution_count": 27,
   "metadata": {
    "collapsed": true
   },
   "outputs": [],
   "source": [
    "import warnings\n",
    "warnings.filterwarnings('ignore', message='.*is ill-defined', append=True)\n",
    "warnings.filterwarnings('ignore', category=DeprecationWarning)"
   ]
  },
  {
   "cell_type": "code",
   "execution_count": 28,
   "metadata": {
    "collapsed": false
   },
   "outputs": [
    {
     "name": "stdout",
     "output_type": "stream",
     "text": [
      "Epochs : 10 & Class Weight : {0: 1.0, 1: 2})\n",
      "Specificity: 0.9090 (+/- 0.1205)\n",
      "Accuracy: 0.8723 (+/- 0.1428)\n",
      "Recall: 0.9484 (+/- 0.0698)\n",
      "Score cost: -3420867.7300 (+/- 5065916.3661)\n",
      "\n",
      "\n",
      "Epochs : 10 & Class Weight : {0: 1.0, 1: 4})\n",
      "Specificity: 0.5848 (+/- 0.3436)\n",
      "Accuracy: 0.5979 (+/- 0.2413)\n",
      "Recall: 0.9804 (+/- 0.0394)\n",
      "Score cost: -574589.8350 (+/- 1709080.2670)\n",
      "\n",
      "\n",
      "Epochs : 10 & Class Weight : {0: 1.0, 1: 8})\n",
      "Specificity: 0.1543 (+/- 0.3087)\n",
      "Accuracy: 0.4436 (+/- 0.1834)\n",
      "Recall: 1.0000 (+/- 0.0000)\n",
      "Score cost: -290845.7600 (+/- 853204.1465)\n",
      "\n",
      "\n",
      "Epochs : 10 & Class Weight : {0: 1.0, 1: 16})\n",
      "Specificity: 0.0970 (+/- 0.2909)\n",
      "Accuracy: 0.3392 (+/- 0.0551)\n",
      "Recall: 1.0000 (+/- 0.0000)\n",
      "Score cost: -6873.3350 (+/- 608.0288)\n",
      "\n",
      "\n",
      "Epochs : 10 & Class Weight : {0: 1.0, 1: 32})\n",
      "Specificity: 0.0000 (+/- 0.0000)\n",
      "Accuracy: 0.3392 (+/- 0.0551)\n",
      "Recall: 1.0000 (+/- 0.0000)\n",
      "Score cost: -6896.1700 (+/- 584.8614)\n",
      "\n",
      "\n",
      "Epochs : 10 & Class Weight : {0: 1.0, 1: 64})\n",
      "Specificity: 0.0000 (+/- 0.0000)\n",
      "Accuracy: 0.3392 (+/- 0.0551)\n",
      "Recall: 1.0000 (+/- 0.0000)\n",
      "Score cost: -6896.1700 (+/- 584.8614)\n",
      "\n",
      "\n",
      "Epochs : 20 & Class Weight : {0: 1.0, 1: 2})\n",
      "Specificity: 0.9586 (+/- 0.0311)\n",
      "Accuracy: 0.9606 (+/- 0.0466)\n",
      "Recall: 0.9533 (+/- 0.0581)\n",
      "Score cost: -2280296.8550 (+/- 3323595.5967)\n",
      "\n",
      "\n",
      "Epochs : 20 & Class Weight : {0: 1.0, 1: 4})\n",
      "Specificity: 0.8570 (+/- 0.2890)\n",
      "Accuracy: 0.9475 (+/- 0.0391)\n",
      "Recall: 0.9938 (+/- 0.0187)\n",
      "Score cost: -856141.7500 (+/- 1305536.9196)\n",
      "\n",
      "\n",
      "Epochs : 20 & Class Weight : {0: 1.0, 1: 8})\n",
      "Specificity: 0.6765 (+/- 0.3745)\n",
      "Accuracy: 0.7056 (+/- 0.2443)\n",
      "Recall: 0.9909 (+/- 0.0273)\n",
      "Score cost: -3813.4450 (+/- 2524.3780)\n",
      "\n",
      "\n",
      "Epochs : 20 & Class Weight : {0: 1.0, 1: 16})\n",
      "Specificity: 0.3110 (+/- 0.3846)\n",
      "Accuracy: 0.5678 (+/- 0.2994)\n",
      "Recall: 0.9941 (+/- 0.0176)\n",
      "Score cost: -288470.9200 (+/- 855521.2998)\n",
      "\n",
      "\n",
      "Epochs : 20 & Class Weight : {0: 1.0, 1: 32})\n",
      "Specificity: 0.0000 (+/- 0.0000)\n",
      "Accuracy: 0.4392 (+/- 0.2277)\n",
      "Recall: 1.0000 (+/- 0.0000)\n",
      "Score cost: -6370.9650 (+/- 1764.2162)\n",
      "\n",
      "\n",
      "Epochs : 20 & Class Weight : {0: 1.0, 1: 64})\n",
      "Specificity: 0.0000 (+/- 0.0000)\n",
      "Accuracy: 0.3653 (+/- 0.1036)\n",
      "Recall: 1.0000 (+/- 0.0000)\n",
      "Score cost: -6736.3250 (+/- 812.1688)\n",
      "\n",
      "\n",
      "Epochs : 50 & Class Weight : {0: 1.0, 1: 2})\n",
      "Specificity: 0.9624 (+/- 0.0382)\n",
      "Accuracy: 0.9650 (+/- 0.0263)\n",
      "Recall: 0.9739 (+/- 0.0334)\n",
      "Score cost: -1710251.1850 (+/- 1890386.6383)\n",
      "\n",
      "\n",
      "Epochs : 50 & Class Weight : {0: 1.0, 1: 4})\n",
      "Specificity: 0.8687 (+/- 0.2916)\n",
      "Accuracy: 0.8352 (+/- 0.2551)\n",
      "Recall: 0.9788 (+/- 0.0334)\n",
      "Score cost: -1426666.9550 (+/- 1910767.8067)\n",
      "\n",
      "\n",
      "Epochs : 50 & Class Weight : {0: 1.0, 1: 8})\n",
      "Specificity: 0.9590 (+/- 0.0361)\n",
      "Accuracy: 0.9018 (+/- 0.1787)\n",
      "Recall: 0.9680 (+/- 0.0565)\n",
      "Score cost: -570365.3600 (+/- 1709878.2371)\n",
      "\n",
      "\n",
      "Epochs : 50 & Class Weight : {0: 1.0, 1: 16})\n",
      "Specificity: 0.8482 (+/- 0.2849)\n",
      "Accuracy: 0.9562 (+/- 0.0240)\n",
      "Recall: 0.9824 (+/- 0.0377)\n",
      "Score cost: -855433.8650 (+/- 1824794.1583)\n",
      "\n",
      "\n",
      "Epochs : 50 & Class Weight : {0: 1.0, 1: 32})\n",
      "Specificity: 0.9312 (+/- 0.0669)\n",
      "Accuracy: 0.8888 (+/- 0.1764)\n",
      "Recall: 0.9941 (+/- 0.0176)\n",
      "Score cost: -571187.4200 (+/- 1139579.1480)\n",
      "\n",
      "\n",
      "Epochs : 50 & Class Weight : {0: 1.0, 1: 64})\n",
      "Specificity: 0.7402 (+/- 0.3744)\n",
      "Accuracy: 0.8047 (+/- 0.2544)\n",
      "Recall: 1.0000 (+/- 0.0000)\n",
      "Score cost: -2580.3550 (+/- 2431.7935)\n",
      "\n",
      "\n",
      "Epochs : 100 & Class Weight : {0: 1.0, 1: 2})\n",
      "Specificity: 0.8787 (+/- 0.2944)\n",
      "Accuracy: 0.9694 (+/- 0.0242)\n",
      "Recall: 0.9670 (+/- 0.0431)\n",
      "Score cost: -6555296.8550 (+/- 15921695.0920)\n",
      "\n",
      "\n",
      "Epochs : 100 & Class Weight : {0: 1.0, 1: 4})\n",
      "Specificity: 0.9691 (+/- 0.0332)\n",
      "Accuracy: 0.9107 (+/- 0.1883)\n",
      "Recall: 0.9679 (+/- 0.0571)\n",
      "Score cost: -570867.7300 (+/- 1139681.7741)\n",
      "\n",
      "\n",
      "Epochs : 100 & Class Weight : {0: 1.0, 1: 8})\n",
      "Specificity: 0.9581 (+/- 0.0321)\n",
      "Accuracy: 0.8954 (+/- 0.2061)\n",
      "Recall: 0.9856 (+/- 0.0300)\n",
      "Score cost: -856004.7400 (+/- 1305626.8812)\n",
      "\n",
      "\n",
      "Epochs : 100 & Class Weight : {0: 1.0, 1: 16})\n",
      "Specificity: 0.9262 (+/- 0.0883)\n",
      "Accuracy: 0.8999 (+/- 0.1840)\n",
      "Recall: 0.9850 (+/- 0.0308)\n",
      "Score cost: -855844.8950 (+/- 1305631.7014)\n",
      "\n",
      "\n",
      "Epochs : 100 & Class Weight : {0: 1.0, 1: 32})\n",
      "Specificity: 0.7748 (+/- 0.3887)\n",
      "Accuracy: 0.8976 (+/- 0.1787)\n",
      "Recall: 0.9909 (+/- 0.0273)\n",
      "Score cost: -285456.7000 (+/- 854847.8629)\n",
      "\n",
      "\n",
      "Epochs : 100 & Class Weight : {0: 1.0, 1: 64})\n",
      "Specificity: 0.9323 (+/- 0.0854)\n",
      "Accuracy: 0.9041 (+/- 0.1731)\n",
      "Recall: 0.9676 (+/- 0.0337)\n",
      "Score cost: -855251.1850 (+/- 1305969.3181)\n",
      "\n",
      "\n",
      "Epochs : 200 & Class Weight : {0: 1.0, 1: 2})\n",
      "Specificity: 0.9685 (+/- 0.0278)\n",
      "Accuracy: 0.9693 (+/- 0.0201)\n",
      "Recall: 0.9643 (+/- 0.0393)\n",
      "Score cost: -1425182.6800 (+/- 1911838.1284)\n",
      "\n",
      "\n",
      "Epochs : 200 & Class Weight : {0: 1.0, 1: 4})\n",
      "Specificity: 0.7688 (+/- 0.3857)\n",
      "Accuracy: 0.9650 (+/- 0.0224)\n",
      "Recall: 0.9665 (+/- 0.0351)\n",
      "Score cost: -1995822.0600 (+/- 1824135.2461)\n",
      "\n",
      "\n",
      "Epochs : 200 & Class Weight : {0: 1.0, 1: 8})\n",
      "Specificity: 0.8709 (+/- 0.2916)\n",
      "Accuracy: 0.9020 (+/- 0.2219)\n",
      "Recall: 0.9614 (+/- 0.0432)\n",
      "Score cost: -1425251.1850 (+/- 1425068.5160)\n",
      "\n",
      "\n",
      "Epochs : 200 & Class Weight : {0: 1.0, 1: 16})\n",
      "Specificity: 0.9653 (+/- 0.0331)\n",
      "Accuracy: 0.9671 (+/- 0.0268)\n",
      "Recall: 0.9683 (+/- 0.0408)\n",
      "Score cost: -1425296.8550 (+/- 1425022.8643)\n",
      "\n",
      "\n",
      "Epochs : 200 & Class Weight : {0: 1.0, 1: 32})\n",
      "Specificity: 0.9540 (+/- 0.0522)\n",
      "Accuracy: 0.9586 (+/- 0.0282)\n",
      "Recall: 0.9703 (+/- 0.0556)\n",
      "Score cost: -1710205.5150 (+/- 1890427.9443)\n",
      "\n",
      "\n",
      "Epochs : 200 & Class Weight : {0: 1.0, 1: 64})\n",
      "Specificity: 0.6751 (+/- 0.4429)\n",
      "Accuracy: 0.8997 (+/- 0.1717)\n",
      "Recall: 0.9889 (+/- 0.0223)\n",
      "Score cost: -1710274.0200 (+/- 1890572.5397)\n",
      "\n",
      "\n",
      "Epochs : 500 & Class Weight : {0: 1.0, 1: 2})\n",
      "Specificity: 0.9684 (+/- 0.0310)\n",
      "Accuracy: 0.9716 (+/- 0.0169)\n",
      "Recall: 0.9510 (+/- 0.0459)\n",
      "Score cost: -1995228.3500 (+/- 2225891.9319)\n",
      "\n",
      "\n",
      "Epochs : 500 & Class Weight : {0: 1.0, 1: 4})\n",
      "Specificity: 0.8742 (+/- 0.2927)\n",
      "Accuracy: 0.9672 (+/- 0.0243)\n",
      "Recall: 0.9553 (+/- 0.0515)\n",
      "Score cost: -1425182.6800 (+/- 2297771.7900)\n",
      "\n",
      "\n",
      "Epochs : 500 & Class Weight : {0: 1.0, 1: 8})\n",
      "Specificity: 0.9656 (+/- 0.0307)\n",
      "Accuracy: 0.9628 (+/- 0.0239)\n",
      "Recall: 0.9617 (+/- 0.0420)\n",
      "Score cost: -1710205.5150 (+/- 2279960.0486)\n",
      "\n",
      "\n",
      "Epochs : 500 & Class Weight : {0: 1.0, 1: 16})\n",
      "Specificity: 0.8803 (+/- 0.2942)\n",
      "Accuracy: 0.9063 (+/- 0.1800)\n",
      "Recall: 0.9621 (+/- 0.0325)\n",
      "Score cost: -1995388.1950 (+/- 2225777.9259)\n",
      "\n",
      "\n",
      "Epochs : 500 & Class Weight : {0: 1.0, 1: 32})\n",
      "Specificity: 0.9554 (+/- 0.0372)\n",
      "Accuracy: 0.9651 (+/- 0.0310)\n",
      "Recall: 0.9736 (+/- 0.0336)\n",
      "Score cost: -2565182.6800 (+/- 1534721.0945)\n",
      "\n",
      "\n",
      "Epochs : 500 & Class Weight : {0: 1.0, 1: 64})\n",
      "Specificity: 0.8715 (+/- 0.2921)\n",
      "Accuracy: 0.9086 (+/- 0.2238)\n",
      "Recall: 0.9680 (+/- 0.0425)\n",
      "Score cost: -1425251.1850 (+/- 1424931.5133)\n",
      "\n",
      "\n"
     ]
    }
   ],
   "source": [
    "epochs = [10, 20, 50, 100, 200, 500]\n",
    "class_weight = [{0 : 1., 1: 2},\n",
    "                {0 : 1., 1: 4},\n",
    "                {0 : 1., 1: 8},\n",
    "                {0 : 1., 1: 16},\n",
    "                {0 : 1., 1: 32},\n",
    "                {0 : 1., 1: 64}]\n",
    "results=[]\n",
    "model.load_weights('my_model_weights.h5')\n",
    "\n",
    "for epochs_idx in range(len(epochs)):\n",
    "  for class_weight_idx in range(len(class_weight)):\n",
    "    param1 = epochs[epochs_idx]\n",
    "    param2 = class_weight[class_weight_idx]\n",
    "    bestmodelNN = KerasClassifier(build_fn=create_model10a, epochs= param1, class_weight = param2, verbose=0)\n",
    "    model.load_weights('my_model_weights.h5')\n",
    "    print(\"Epochs : %r & Class Weight : %r)\" % (param1, param2))\n",
    "    scores1=cross_val_score(bestmodelNN,X_trainb.as_matrix(),y_trainb,cv=10,scoring=score_specificity)\n",
    "    print(\"Specificity: %0.4f (+/- %0.4f)\" % (scores1.mean(), scores1.std() ))\n",
    "    model.load_weights('my_model_weights.h5')\n",
    "    scores2=cross_val_score(bestmodelNN,X_trainb.as_matrix(),y_trainb,cv=10,scoring='accuracy')\n",
    "    print(\"Accuracy: %0.4f (+/- %0.4f)\" % (scores2.mean(), scores2.std() ))\n",
    "    model.load_weights('my_model_weights.h5')\n",
    "    scores3=cross_val_score(bestmodelNN,X_trainb.as_matrix(),y_trainb,cv=10,scoring='recall')\n",
    "    print(\"Recall: %0.4f (+/- %0.4f)\" % (scores3.mean(), scores3.std() ))\n",
    "    model.load_weights('my_model_weights.h5')\n",
    "    scores4=cross_val_score(bestmodelNN,X_trainb.as_matrix(), y_trainb, cv=10, scoring=my_custom_scorer)\n",
    "    print(\"Score cost: %0.4f (+/- %0.4f)\" % (scores4.mean(), scores4.std() ))\n",
    "    print()\n",
    "    print()\n"
   ]
  },
  {
   "cell_type": "code",
   "execution_count": 28,
   "metadata": {
    "collapsed": true
   },
   "outputs": [],
   "source": [
    "best_class_weight = {0: 1.0, 1: 64}"
   ]
  },
  {
   "cell_type": "code",
   "execution_count": 29,
   "metadata": {
    "collapsed": false
   },
   "outputs": [],
   "source": [
    "bestmodelNN_test = KerasClassifier(build_fn=create_model10a, epochs= 50, class_weight = best_class_weight, verbose=0)"
   ]
  },
  {
   "cell_type": "code",
   "execution_count": 32,
   "metadata": {
    "collapsed": false
   },
   "outputs": [
    {
     "name": "stdout",
     "output_type": "stream",
     "text": [
      "Specificity: 0.6655 (+/- 0.7164)\n",
      "Recall: 1.0000 (+/- 0.0000)\n",
      "\n",
      "\n",
      "Specificity: 0.7413 (+/- 0.7511)\n",
      "Recall: 0.9938 (+/- 0.0375)\n",
      "\n",
      "\n",
      "Specificity: 0.6147 (+/- 0.8194)\n",
      "Recall: 0.9941 (+/- 0.0353)\n",
      "\n",
      "\n",
      "Specificity: 0.7598 (+/- 0.5400)\n",
      "Recall: 1.0000 (+/- 0.0000)\n",
      "\n",
      "\n",
      "Specificity: 0.8446 (+/- 0.5738)\n",
      "Recall: 0.9909 (+/- 0.0545)\n",
      "\n",
      "\n",
      "Specificity: 0.4929 (+/- 0.8466)\n",
      "Recall: 0.9909 (+/- 0.0545)\n",
      "\n",
      "\n",
      "Specificity: 0.6227 (+/- 0.8320)\n",
      "Recall: 1.0000 (+/- 0.0000)\n",
      "\n",
      "\n",
      "Specificity: 0.6533 (+/- 0.7485)\n",
      "Recall: 0.9941 (+/- 0.0353)\n",
      "\n",
      "\n",
      "Specificity: 0.7698 (+/- 0.6322)\n",
      "Recall: 0.9875 (+/- 0.0750)\n",
      "\n",
      "\n",
      "Specificity: 0.8855 (+/- 0.1961)\n",
      "Recall: 0.9791 (+/- 0.0658)\n",
      "\n",
      "\n"
     ]
    }
   ],
   "source": [
    "import warnings\n",
    "warnings.filterwarnings('ignore', message='.*is ill-defined', append=True)\n",
    "warnings.filterwarnings('ignore', category=DeprecationWarning)\n",
    "for i in range(10):\n",
    "    model.load_weights('my_model_weights.h5')\n",
    "    scores1=cross_val_score(bestmodelNN_test, X_trainb.as_matrix(),y_trainb,cv=10,scoring=score_specificity)\n",
    "    print(\"Specificity: %0.4f (+/- %0.4f)\" % (scores1.mean(), scores1.std()*2))\n",
    "    model.load_weights('my_model_weights.h5')\n",
    "    scores3=cross_val_score(bestmodelNN_test, X_trainb.as_matrix(),y_trainb,cv=10,scoring='recall')\n",
    "    print(\"Recall: %0.4f (+/- %0.4f)\" % (scores3.mean(), scores3.std()*2))\n",
    "    print()\n",
    "    print()"
   ]
  },
  {
   "cell_type": "code",
   "execution_count": 30,
   "metadata": {
    "collapsed": false
   },
   "outputs": [
    {
     "data": {
      "text/plain": [
       "<keras.callbacks.History at 0xeebbf98>"
      ]
     },
     "execution_count": 30,
     "metadata": {},
     "output_type": "execute_result"
    }
   ],
   "source": [
    "bestmodelNN_test.fit(X_trainb.as_matrix(), y_trainb)"
   ]
  },
  {
   "cell_type": "code",
   "execution_count": 34,
   "metadata": {
    "collapsed": false
   },
   "outputs": [
    {
     "name": "stdout",
     "output_type": "stream",
     "text": [
      "             precision    recall  f1-score   support\n",
      "\n",
      "          0       0.99      0.94      0.96       142\n",
      "          1       0.91      0.98      0.94        84\n",
      "\n",
      "avg / total       0.96      0.96      0.96       226\n",
      "\n",
      "Akurasi: 0.9558\n",
      "Specificity: 0.9437\n",
      "Recall: 0.9762\n"
     ]
    },
    {
     "data": {
      "text/plain": [
       "(0.94366197183098588,\n",
       " 0.97619047619047616,\n",
       " 0.95575221238938057,\n",
       " -5701826.7999999998)"
      ]
     },
     "execution_count": 34,
     "metadata": {},
     "output_type": "execute_result"
    }
   ],
   "source": [
    "y_predNNB = bestmodelNN_test.predict(X_testb.as_matrix())\n",
    "accuracy = accuracy_score(y_testb, y_predNNB)\n",
    "precision, recall, f1, _ = precision_recall_fscore_support(y_testb, y_predNNB)\n",
    "print(classification_report(y_testb, y_predNNB))\n",
    "print (('Akurasi: %.4f') % (accuracy))\n",
    "print (('Specificity: %.4f') % (specificity(y_testb, y_predNNB)))\n",
    "print (('Recall: %.4f') % (recall[1]))\n",
    "output_score(y_testb, y_predNNB)"
   ]
  },
  {
   "cell_type": "code",
   "execution_count": 35,
   "metadata": {
    "collapsed": false
   },
   "outputs": [
    {
     "data": {
      "text/plain": [
       "array([[134,   8],\n",
       "       [  2,  82]])"
      ]
     },
     "execution_count": 35,
     "metadata": {},
     "output_type": "execute_result"
    }
   ],
   "source": [
    "confusion_matrix(y_testb,y_predNNB)"
   ]
  },
  {
   "cell_type": "code",
   "execution_count": 62,
   "metadata": {
    "collapsed": true
   },
   "outputs": [],
   "source": [
    "names=['SVM - Dataset B','XGBoost - Dataset B','MLP - Dataset B']"
   ]
  },
  {
   "cell_type": "code",
   "execution_count": 31,
   "metadata": {
    "collapsed": false
   },
   "outputs": [],
   "source": [
    "score=bestSVC.predict_proba(X_test)\n",
    "score2=bestXGB.predict_proba(X_test)\n",
    "score3=bestmodelNN_test.predict_proba(X_testb.as_matrix())"
   ]
  },
  {
   "cell_type": "code",
   "execution_count": 65,
   "metadata": {
    "collapsed": false
   },
   "outputs": [
    {
     "data": {
      "image/png": "[encoded data removed]",
      "text/plain": [
       "<matplotlib.figure.Figure at 0xdb826a0>"
      ]
     },
     "metadata": {},
     "output_type": "display_data"
    }
   ],
   "source": [
    "import matplotlib.pyplot as plt\n",
    "from sklearn.metrics import roc_curve, roc_auc_score\n",
    "fig, ax = plt.subplots(figsize=(9,5))\n",
    "\n",
    "fpr, tpr, thresholds = roc_curve(y_test, score[:,1],pos_label=1)\n",
    "fpr2, tpr2, thresholds2 = roc_curve(y_test, score2[:,1],pos_label=1)\n",
    "fpr3, tpr3, thresholds3 = roc_curve(y_testb, score3[:,1],pos_label=1)\n",
    "\n",
    "auc = roc_auc_score(y_test, score[:,1])\n",
    "auc2 = roc_auc_score(y_test, score2[:,1])\n",
    "auc3 = roc_auc_score(y_testb, score3[:,1])\n",
    "\n",
    "ax.plot(fpr*100, tpr*100, label='%s (area = %.2f)' % (names[0], auc*100))\n",
    "ax.plot(fpr2*100, tpr2*100, label='%s (area = %.2f)' % (names[1], auc2*100))\n",
    "ax.plot(fpr3*100, tpr3*100, label='%s (area = %.2f)' % (names[2], auc3*100))\n",
    "\n",
    "plt.rc('xtick',labelsize=14)\n",
    "plt.rc('ytick',labelsize=14)\n",
    "plt.title(\"RoC Curves Dataset B\",fontsize=14)\n",
    "plt.legend(prop={'size':12})\n",
    "ax.set_xlabel('False Positive Rate',fontsize=14)\n",
    "ax.set_ylabel('True Positive Rate',fontsize=14)\n",
    "plt.show()"
   ]
  },
  {
   "cell_type": "code",
   "execution_count": 32,
   "metadata": {
    "collapsed": true
   },
   "outputs": [],
   "source": [
    "from sklearn.dummy import DummyClassifier"
   ]
  },
  {
   "cell_type": "code",
   "execution_count": 33,
   "metadata": {
    "collapsed": true
   },
   "outputs": [],
   "source": [
    "modelDummy=DummyClassifier(strategy='most_frequent')"
   ]
  },
  {
   "cell_type": "code",
   "execution_count": 34,
   "metadata": {
    "collapsed": false
   },
   "outputs": [
    {
     "data": {
      "text/plain": [
       "DummyClassifier(constant=None, random_state=None, strategy='most_frequent')"
      ]
     },
     "execution_count": 34,
     "metadata": {},
     "output_type": "execute_result"
    }
   ],
   "source": [
    "modelDummy.fit(X_train,y_train)"
   ]
  },
  {
   "cell_type": "code",
   "execution_count": 35,
   "metadata": {
    "collapsed": true
   },
   "outputs": [],
   "source": [
    "score4=modelDummy.predict_proba(X_test)"
   ]
  },
  {
   "cell_type": "code",
   "execution_count": 36,
   "metadata": {
    "collapsed": true
   },
   "outputs": [],
   "source": [
    "names2=['SVM - Dataset B','XGBoost - Dataset B','MLP - Dataset B','Baseline']"
   ]
  },
  {
   "cell_type": "code",
   "execution_count": 47,
   "metadata": {
    "collapsed": false
   },
   "outputs": [
    {
     "data": {
      "image/png": "[encoded data removed]",
      "text/plain": [
       "<matplotlib.figure.Figure at 0xd35f518>"
      ]
     },
     "metadata": {},
     "output_type": "display_data"
    }
   ],
   "source": [
    "import matplotlib.pyplot as plt\n",
    "from sklearn.metrics import roc_curve, roc_auc_score\n",
    "fig, ax = plt.subplots(figsize=(9,5))\n",
    "\n",
    "fpr, tpr, thresholds = roc_curve(y_test, score[:,1],pos_label=1)\n",
    "fpr2, tpr2, thresholds2 = roc_curve(y_test, score2[:,1],pos_label=1)\n",
    "fpr3, tpr3, thresholds3 = roc_curve(y_testb, score3[:,1],pos_label=1)\n",
    "fpr4, tpr4, thresholds4 = roc_curve(y_test, score4[:,1],pos_label=1)\n",
    "\n",
    "auc = roc_auc_score(y_test, score[:,1])\n",
    "auc2 = roc_auc_score(y_test, score2[:,1])\n",
    "auc3 = roc_auc_score(y_testb, score3[:,1])\n",
    "auc4 = roc_auc_score(y_test, score4[:,1])\n",
    "\n",
    "ax.plot(fpr*100, tpr*100, label='%s (area = %.2f)' % (names2[0], auc*100))\n",
    "ax.plot(fpr2*100, tpr2*100,'-v', label='%s (area = %.2f)' % (names2[1], auc2*100))\n",
    "ax.plot(fpr3*100, tpr3*100,'-.', label='%s (area = %.2f)' % (names2[2], auc3*100))\n",
    "ax.plot(fpr4*100, tpr4*100, '--',label='%s (area = %.2f)' % (names2[3], auc4*100))\n",
    "\n",
    "plt.rc('xtick',labelsize=14)\n",
    "plt.rc('ytick',labelsize=14)\n",
    "plt.title(\"RoC Curves Dataset B\",fontsize=14)\n",
    "plt.legend(prop={'size':12})\n",
    "ax.set_xlabel('False Positive Rate',fontsize=14)\n",
    "ax.set_ylabel('True Positive Rate',fontsize=14)\n",
    "plt.show()"
   ]
  },
  {
   "cell_type": "code",
   "execution_count": 37,
   "metadata": {
    "collapsed": false
   },
   "outputs": [
    {
     "data": {
      "image/png": "[encoded data removed]",
      "text/plain": [
       "<matplotlib.figure.Figure at 0xf2b4470>"
      ]
     },
     "metadata": {},
     "output_type": "display_data"
    }
   ],
   "source": [
    "import matplotlib.pyplot as plt\n",
    "from sklearn.metrics import roc_curve, roc_auc_score\n",
    "fig, ax = plt.subplots(figsize=(9,5))\n",
    "\n",
    "fpr, tpr, thresholds = roc_curve(y_test, score[:,1],pos_label=1)\n",
    "fpr2, tpr2, thresholds2 = roc_curve(y_test, score2[:,1],pos_label=1)\n",
    "fpr3, tpr3, thresholds3 = roc_curve(y_testb, score3[:,1],pos_label=1)\n",
    "fpr4, tpr4, thresholds4 = roc_curve(y_test, score4[:,1],pos_label=1)\n",
    "\n",
    "auc = roc_auc_score(y_test, score[:,1])\n",
    "auc2 = roc_auc_score(y_test, score2[:,1])\n",
    "auc3 = roc_auc_score(y_testb, score3[:,1])\n",
    "auc4 = roc_auc_score(y_test, score4[:,1])\n",
    "\n",
    "ax.plot(fpr*100, tpr*100, label='%s (area = %.2f)' % (names2[0], auc*100))\n",
    "ax.plot(fpr2*100, tpr2*100,'-v', label='%s (area = %.2f)' % (names2[1], auc2*100))\n",
    "ax.plot(fpr3*100, tpr3*100,'-.', label='%s (area = %.2f)' % (names2[2], auc3*100))\n",
    "ax.plot(fpr4*100, tpr4*100, '--',label='%s (area = %.2f)' % (names2[3], auc4*100))\n",
    "\n",
    "plt.rc('xtick',labelsize=14)\n",
    "plt.rc('ytick',labelsize=14)\n",
    "plt.title(\"RoC Curves Dataset B\",fontsize=14)\n",
    "plt.legend(prop={'size':12})\n",
    "ax.set_xlabel('False Positive Rate',fontsize=14)\n",
    "ax.set_ylabel('True Positive Rate',fontsize=14)\n",
    "plt.show()"
   ]
  },
  {
   "cell_type": "code",
   "execution_count": 38,
   "metadata": {
    "collapsed": false
   },
   "outputs": [
    {
     "data": {
      "text/plain": [
       "array([  9.50885632e-01,   9.06874287e-01,   9.06429405e-01,\n",
       "         9.01737175e-01,   9.00550435e-01,   8.87700666e-01,\n",
       "         8.85360026e-01,   8.81963795e-01,   8.78934505e-01,\n",
       "         8.67796830e-01,   5.05264754e-01,   4.79502347e-01,\n",
       "         2.27052835e-01,   1.75979648e-01,   1.26771703e-03,\n",
       "         1.07125151e-03,   7.70993799e-04,   7.31325189e-04,\n",
       "         4.66532489e-04,   3.98963825e-04,   3.87804645e-04,\n",
       "         3.61460971e-04,   3.59109183e-04,   3.29748324e-04,\n",
       "         2.85755755e-04,   2.78523960e-04,   2.72392294e-04,\n",
       "         2.71085673e-04,   2.60752709e-04,   2.30015807e-04,\n",
       "         2.14298931e-04,   2.10513643e-04,   2.00673142e-04,\n",
       "         1.75010332e-04,   1.74223444e-04,   1.31863082e-04,\n",
       "         1.20568418e-04,   1.13618707e-04,   1.06901467e-04,\n",
       "         7.32237957e-05,   6.96101206e-05,   5.38459560e-05,\n",
       "         5.21478395e-05,   1.65601621e-05])"
      ]
     },
     "execution_count": 38,
     "metadata": {},
     "output_type": "execute_result"
    }
   ],
   "source": [
    "thresholds"
   ]
  },
  {
   "cell_type": "code",
   "execution_count": 39,
   "metadata": {
    "collapsed": false
   },
   "outputs": [
    {
     "data": {
      "text/plain": [
       "array([ 1.68979955,  0.68979955,  0.66773248,  0.6579507 ,  0.65775353,\n",
       "        0.62045485,  0.62024856,  0.61115944,  0.53377521,  0.47996452,\n",
       "        0.46371469,  0.44912964,  0.42246386,  0.35390228,  0.34961811,\n",
       "        0.34655622,  0.33166918,  0.3304818 ,  0.31720194,  0.31488538,\n",
       "        0.29525149,  0.28647959,  0.26890445,  0.25147811], dtype=float32)"
      ]
     },
     "execution_count": 39,
     "metadata": {},
     "output_type": "execute_result"
    }
   ],
   "source": [
    "thresholds2"
   ]
  },
  {
   "cell_type": "code",
   "execution_count": 40,
   "metadata": {
    "collapsed": false
   },
   "outputs": [
    {
     "data": {
      "text/plain": [
       "array([ 1.        ,  0.9999994 ,  0.99999928,  0.9999938 ,  0.99999237,\n",
       "        0.99999022,  0.99998951,  0.99998522,  0.99998444,  0.99997163,\n",
       "        0.99996996,  0.99989974,  0.9998607 ,  0.9926365 ,  0.98589158,\n",
       "        0.94728845,  0.868132  ,  0.76353842,  0.5014106 ,  0.49549332,\n",
       "        0.38520363,  0.37826371,  0.29186666,  0.28729108,  0.27452785,\n",
       "        0.27427506,  0.27321631,  0.27000809,  0.26099494,  0.25819793,\n",
       "        0.2579315 ,  0.25749478,  0.25410876,  0.25143889,  0.25045857,\n",
       "        0.24944118,  0.24772926,  0.24443635,  0.24429239,  0.24407022,\n",
       "        0.24214163,  0.24203096,  0.24013712,  0.2401128 ,  0.23751082,\n",
       "        0.23550177,  0.23533277,  0.23497584,  0.23346633,  0.19991596], dtype=float32)"
      ]
     },
     "execution_count": 40,
     "metadata": {},
     "output_type": "execute_result"
    }
   ],
   "source": [
    "thresholds3"
   ]
  },
  {
   "cell_type": "code",
   "execution_count": 41,
   "metadata": {
    "collapsed": false
   },
   "outputs": [
    {
     "data": {
      "text/plain": [
       "array([ 1.,  0.])"
      ]
     },
     "execution_count": 41,
     "metadata": {},
     "output_type": "execute_result"
    }
   ],
   "source": [
    "thresholds4"
   ]
  },
  {
   "cell_type": "markdown",
   "metadata": {},
   "source": [
    "# XGBoost Feature Importance"
   ]
  },
  {
   "cell_type": "code",
   "execution_count": 42,
   "metadata": {
    "collapsed": true
   },
   "outputs": [],
   "source": [
    "from xgboost import plot_importance"
   ]
  },
  {
   "cell_type": "code",
   "execution_count": 43,
   "metadata": {
    "collapsed": true
   },
   "outputs": [],
   "source": [
    "from matplotlib import pyplot"
   ]
  },
  {
   "cell_type": "code",
   "execution_count": 44,
   "metadata": {
    "collapsed": false
   },
   "outputs": [
    {
     "data": {
      "image/png": "[encoded data removed]",
      "text/plain": [
       "<matplotlib.figure.Figure at 0xf2a9a58>"
      ]
     },
     "metadata": {},
     "output_type": "display_data"
    }
   ],
   "source": [
    "plot_importance(bestXGB, importance_type='gain')\n",
    "pyplot.show()"
   ]
  },
  {
   "cell_type": "code",
   "execution_count": 45,
   "metadata": {
    "collapsed": false
   },
   "outputs": [
    {
     "data": {
      "image/png": "[encoded data removed]",
      "text/plain": [
       "<matplotlib.figure.Figure at 0x103354a8>"
      ]
     },
     "metadata": {},
     "output_type": "display_data"
    }
   ],
   "source": [
    "plot_importance(bestXGB)\n",
    "pyplot.show()"
   ]
  },
  {
   "cell_type": "code",
   "execution_count": 46,
   "metadata": {
    "collapsed": true
   },
   "outputs": [],
   "source": [
    "from xgboost import plot_tree"
   ]
  },
  {
   "cell_type": "code",
   "execution_count": 47,
   "metadata": {
    "collapsed": false
   },
   "outputs": [
    {
     "data": {
      "image/png": "[encoded data removed]",
      "text/plain": [
       "<matplotlib.figure.Figure at 0x10403f28>"
      ]
     },
     "metadata": {},
     "output_type": "display_data"
    }
   ],
   "source": [
    "plot_tree(bestXGB, num_trees=0, rankdir='LR')\n",
    "pyplot.show()"
   ]
  },
  {
   "cell_type": "code",
   "execution_count": 48,
   "metadata": {
    "collapsed": false
   },
   "outputs": [
    {
     "data": {
      "image/svg+xml": [
       "<?xml version=\"1.0\" encoding=\"UTF-8\" standalone=\"no\"?>\r\n",
       "<!DOCTYPE svg PUBLIC \"-//W3C//DTD SVG 1.1//EN\"\r\n",
       " \"http://www.w3.org/Graphics/SVG/1.1/DTD/svg11.dtd\">\r\n",
       "<!-- Generated by graphviz version 2.38.0 (20140413.2041)\r\n",
       " -->\r\n",
       "<!-- Title: %3 Pages: 1 -->\r\n",
       "<svg width=\"546pt\" height=\"272pt\"\r\n",
       " viewBox=\"0.00 0.00 546.18 272.49\" xmlns=\"http://www.w3.org/2000/svg\" xmlns:xlink=\"http://www.w3.org/1999/xlink\">\r\n",
       "<g id=\"graph0\" class=\"graph\" transform=\"scale(1 1) rotate(0) translate(4 268.489)\">\r\n",
       "<title>%3</title>\r\n",
       "<polygon fill=\"white\" stroke=\"none\" points=\"-4,4 -4,-268.489 542.18,-268.489 542.18,4 -4,4\"/>\r\n",
       "<!-- 0 -->\r\n",
       "<g id=\"node1\" class=\"node\"><title>0</title>\r\n",
       "<ellipse fill=\"none\" stroke=\"black\" cx=\"51.3454\" cy=\"-144.745\" rx=\"51.1914\" ry=\"51.1914\"/>\r\n",
       "<text text-anchor=\"middle\" x=\"51.3454\" y=\"-141.045\" font-family=\"Times New Roman,serif\" font-size=\"14.00\">cell_size&lt;3</text>\r\n",
       "</g>\r\n",
       "<!-- 1 -->\r\n",
       "<g id=\"node2\" class=\"node\"><title>1</title>\r\n",
       "<ellipse fill=\"none\" stroke=\"black\" cx=\"269.435\" cy=\"-202.745\" rx=\"61.99\" ry=\"61.99\"/>\r\n",
       "<text text-anchor=\"middle\" x=\"269.435\" y=\"-199.045\" font-family=\"Times New Roman,serif\" font-size=\"14.00\">bare_nuclei&lt;5</text>\r\n",
       "</g>\r\n",
       "<!-- 0&#45;&gt;1 -->\r\n",
       "<g id=\"edge1\" class=\"edge\"><title>0&#45;&gt;1</title>\r\n",
       "<path fill=\"none\" stroke=\"#0000ff\" d=\"M101.11,-157.833C130.215,-165.645 167.632,-175.688 199.7,-184.295\"/>\r\n",
       "<polygon fill=\"#0000ff\" stroke=\"#0000ff\" points=\"198.899,-187.704 209.465,-186.916 200.714,-180.944 198.899,-187.704\"/>\r\n",
       "<text text-anchor=\"middle\" x=\"155.191\" y=\"-183.545\" font-family=\"Times New Roman,serif\" font-size=\"14.00\">yes, missing</text>\r\n",
       "</g>\r\n",
       "<!-- 2 -->\r\n",
       "<g id=\"node3\" class=\"node\"><title>2</title>\r\n",
       "<ellipse fill=\"none\" stroke=\"black\" cx=\"269.435\" cy=\"-61.7445\" rx=\"61.99\" ry=\"61.99\"/>\r\n",
       "<text text-anchor=\"middle\" x=\"269.435\" y=\"-58.0445\" font-family=\"Times New Roman,serif\" font-size=\"14.00\">bare_nuclei&lt;2</text>\r\n",
       "</g>\r\n",
       "<!-- 0&#45;&gt;2 -->\r\n",
       "<g id=\"edge2\" class=\"edge\"><title>0&#45;&gt;2</title>\r\n",
       "<path fill=\"none\" stroke=\"#ff0000\" d=\"M99.5003,-126.632C129.452,-115.128 168.674,-100.063 201.785,-87.3449\"/>\r\n",
       "<polygon fill=\"#ff0000\" stroke=\"#ff0000\" points=\"203.317,-90.5059 211.397,-83.6529 200.807,-83.9713 203.317,-90.5059\"/>\r\n",
       "<text text-anchor=\"middle\" x=\"155.191\" y=\"-121.545\" font-family=\"Times New Roman,serif\" font-size=\"14.00\">no</text>\r\n",
       "</g>\r\n",
       "<!-- 3 -->\r\n",
       "<g id=\"node4\" class=\"node\"><title>3</title>\r\n",
       "<polygon fill=\"none\" stroke=\"black\" points=\"533.68,-252.745 440.68,-252.745 440.68,-216.745 533.68,-216.745 533.68,-252.745\"/>\r\n",
       "<text text-anchor=\"middle\" x=\"487.18\" y=\"-231.045\" font-family=\"Times New Roman,serif\" font-size=\"14.00\">leaf=&#45;0.14382</text>\r\n",
       "</g>\r\n",
       "<!-- 1&#45;&gt;3 -->\r\n",
       "<g id=\"edge3\" class=\"edge\"><title>1&#45;&gt;3</title>\r\n",
       "<path fill=\"none\" stroke=\"#0000ff\" d=\"M330.819,-211.701C362.066,-216.336 399.956,-221.955 430.494,-226.485\"/>\r\n",
       "<polygon fill=\"#0000ff\" stroke=\"#0000ff\" points=\"430.143,-229.971 440.548,-227.976 431.17,-223.047 430.143,-229.971\"/>\r\n",
       "<text text-anchor=\"middle\" x=\"383.68\" y=\"-227.545\" font-family=\"Times New Roman,serif\" font-size=\"14.00\">yes, missing</text>\r\n",
       "</g>\r\n",
       "<!-- 4 -->\r\n",
       "<g id=\"node5\" class=\"node\"><title>4</title>\r\n",
       "<polygon fill=\"none\" stroke=\"black\" points=\"515.18,-198.745 459.18,-198.745 459.18,-162.745 515.18,-162.745 515.18,-198.745\"/>\r\n",
       "<text text-anchor=\"middle\" x=\"487.18\" y=\"-177.045\" font-family=\"Times New Roman,serif\" font-size=\"14.00\">leaf=&#45;0</text>\r\n",
       "</g>\r\n",
       "<!-- 1&#45;&gt;4 -->\r\n",
       "<g id=\"edge4\" class=\"edge\"><title>1&#45;&gt;4</title>\r\n",
       "<path fill=\"none\" stroke=\"#ff0000\" d=\"M331.106,-196.558C369.006,-192.693 416.588,-187.841 448.983,-184.538\"/>\r\n",
       "<polygon fill=\"#ff0000\" stroke=\"#ff0000\" points=\"449.342,-188.019 458.935,-183.523 448.632,-181.055 449.342,-188.019\"/>\r\n",
       "<text text-anchor=\"middle\" x=\"383.68\" y=\"-197.545\" font-family=\"Times New Roman,serif\" font-size=\"14.00\">no</text>\r\n",
       "</g>\r\n",
       "<!-- 5 -->\r\n",
       "<g id=\"node6\" class=\"node\"><title>5</title>\r\n",
       "<polygon fill=\"none\" stroke=\"black\" points=\"515.18,-123.745 459.18,-123.745 459.18,-87.7445 515.18,-87.7445 515.18,-123.745\"/>\r\n",
       "<text text-anchor=\"middle\" x=\"487.18\" y=\"-102.045\" font-family=\"Times New Roman,serif\" font-size=\"14.00\">leaf=&#45;0</text>\r\n",
       "</g>\r\n",
       "<!-- 2&#45;&gt;5 -->\r\n",
       "<g id=\"edge5\" class=\"edge\"><title>2&#45;&gt;5</title>\r\n",
       "<path fill=\"none\" stroke=\"#0000ff\" d=\"M330.246,-73.9425C368.28,-81.6993 416.333,-91.4996 448.973,-98.1564\"/>\r\n",
       "<polygon fill=\"#0000ff\" stroke=\"#0000ff\" points=\"448.499,-101.632 458.997,-100.201 449.898,-94.7728 448.499,-101.632\"/>\r\n",
       "<text text-anchor=\"middle\" x=\"383.68\" y=\"-94.5445\" font-family=\"Times New Roman,serif\" font-size=\"14.00\">yes, missing</text>\r\n",
       "</g>\r\n",
       "<!-- 6 -->\r\n",
       "<g id=\"node7\" class=\"node\"><title>6</title>\r\n",
       "<polygon fill=\"none\" stroke=\"black\" points=\"538.18,-69.7445 436.18,-69.7445 436.18,-33.7445 538.18,-33.7445 538.18,-69.7445\"/>\r\n",
       "<text text-anchor=\"middle\" x=\"487.18\" y=\"-48.0445\" font-family=\"Times New Roman,serif\" font-size=\"14.00\">leaf=0.0956522</text>\r\n",
       "</g>\r\n",
       "<!-- 2&#45;&gt;6 -->\r\n",
       "<g id=\"edge6\" class=\"edge\"><title>2&#45;&gt;6</title>\r\n",
       "<path fill=\"none\" stroke=\"#ff0000\" d=\"M331.394,-58.919C360.932,-57.5499 396.298,-55.9106 425.764,-54.5449\"/>\r\n",
       "<polygon fill=\"#ff0000\" stroke=\"#ff0000\" points=\"426.094,-58.0334 435.921,-54.0741 425.77,-51.0409 426.094,-58.0334\"/>\r\n",
       "<text text-anchor=\"middle\" x=\"383.68\" y=\"-61.5445\" font-family=\"Times New Roman,serif\" font-size=\"14.00\">no</text>\r\n",
       "</g>\r\n",
       "</g>\r\n",
       "</svg>\r\n"
      ],
      "text/plain": [
       "<graphviz.dot.Digraph at 0x1050a630>"
      ]
     },
     "execution_count": 48,
     "metadata": {},
     "output_type": "execute_result"
    }
   ],
   "source": [
    "import xgboost as xgb\n",
    "import graphviz\n",
    "xgb.to_graphviz(bestXGB, num_trees=0, rankdir='LR' )"
   ]
  },
  {
   "cell_type": "code",
   "execution_count": 49,
   "metadata": {
    "collapsed": false
   },
   "outputs": [
    {
     "data": {
      "image/svg+xml": [
       "<?xml version=\"1.0\" encoding=\"UTF-8\" standalone=\"no\"?>\r\n",
       "<!DOCTYPE svg PUBLIC \"-//W3C//DTD SVG 1.1//EN\"\r\n",
       " \"http://www.w3.org/Graphics/SVG/1.1/DTD/svg11.dtd\">\r\n",
       "<!-- Generated by graphviz version 2.38.0 (20140413.2041)\r\n",
       " -->\r\n",
       "<!-- Title: %3 Pages: 1 -->\r\n",
       "<svg width=\"539pt\" height=\"186pt\"\r\n",
       " viewBox=\"0.00 0.00 539.18 185.74\" xmlns=\"http://www.w3.org/2000/svg\" xmlns:xlink=\"http://www.w3.org/1999/xlink\">\r\n",
       "<g id=\"graph0\" class=\"graph\" transform=\"scale(1 1) rotate(0) translate(4 181.745)\">\r\n",
       "<title>%3</title>\r\n",
       "<polygon fill=\"white\" stroke=\"none\" points=\"-4,4 -4,-181.745 535.18,-181.745 535.18,4 -4,4\"/>\r\n",
       "<!-- 0 -->\r\n",
       "<g id=\"node1\" class=\"node\"><title>0</title>\r\n",
       "<ellipse fill=\"none\" stroke=\"black\" cx=\"51.3454\" cy=\"-125.745\" rx=\"51.1914\" ry=\"51.1914\"/>\r\n",
       "<text text-anchor=\"middle\" x=\"51.3454\" y=\"-122.045\" font-family=\"Times New Roman,serif\" font-size=\"14.00\">cell_size&lt;3</text>\r\n",
       "</g>\r\n",
       "<!-- 1 -->\r\n",
       "<g id=\"node2\" class=\"node\"><title>1</title>\r\n",
       "<polygon fill=\"none\" stroke=\"black\" points=\"319.435,-177.745 219.435,-177.745 219.435,-141.745 319.435,-141.745 319.435,-177.745\"/>\r\n",
       "<text text-anchor=\"middle\" x=\"269.435\" y=\"-156.045\" font-family=\"Times New Roman,serif\" font-size=\"14.00\">leaf=&#45;0.129925</text>\r\n",
       "</g>\r\n",
       "<!-- 0&#45;&gt;1 -->\r\n",
       "<g id=\"edge1\" class=\"edge\"><title>0&#45;&gt;1</title>\r\n",
       "<path fill=\"none\" stroke=\"#0000ff\" d=\"M102.192,-133.587C134.046,-138.599 175.519,-145.125 209.073,-150.404\"/>\r\n",
       "<polygon fill=\"#0000ff\" stroke=\"#0000ff\" points=\"208.79,-153.903 219.212,-152 209.878,-146.988 208.79,-153.903\"/>\r\n",
       "<text text-anchor=\"middle\" x=\"155.191\" y=\"-150.545\" font-family=\"Times New Roman,serif\" font-size=\"14.00\">yes, missing</text>\r\n",
       "</g>\r\n",
       "<!-- 2 -->\r\n",
       "<g id=\"node3\" class=\"node\"><title>2</title>\r\n",
       "<ellipse fill=\"none\" stroke=\"black\" cx=\"269.435\" cy=\"-61.7445\" rx=\"61.99\" ry=\"61.99\"/>\r\n",
       "<text text-anchor=\"middle\" x=\"269.435\" y=\"-58.0445\" font-family=\"Times New Roman,serif\" font-size=\"14.00\">bare_nuclei&lt;3</text>\r\n",
       "</g>\r\n",
       "<!-- 0&#45;&gt;2 -->\r\n",
       "<g id=\"edge2\" class=\"edge\"><title>0&#45;&gt;2</title>\r\n",
       "<path fill=\"none\" stroke=\"#ff0000\" d=\"M100.84,-111.382C130.16,-102.698 167.988,-91.4942 200.284,-81.929\"/>\r\n",
       "<polygon fill=\"#ff0000\" stroke=\"#ff0000\" points=\"201.52,-85.2135 210.114,-79.0177 199.532,-78.5017 201.52,-85.2135\"/>\r\n",
       "<text text-anchor=\"middle\" x=\"155.191\" y=\"-108.545\" font-family=\"Times New Roman,serif\" font-size=\"14.00\">no</text>\r\n",
       "</g>\r\n",
       "<!-- 3 -->\r\n",
       "<g id=\"node4\" class=\"node\"><title>3</title>\r\n",
       "<polygon fill=\"none\" stroke=\"black\" points=\"511.68,-106.745 455.68,-106.745 455.68,-70.7445 511.68,-70.7445 511.68,-106.745\"/>\r\n",
       "<text text-anchor=\"middle\" x=\"483.68\" y=\"-85.0445\" font-family=\"Times New Roman,serif\" font-size=\"14.00\">leaf=&#45;0</text>\r\n",
       "</g>\r\n",
       "<!-- 2&#45;&gt;3 -->\r\n",
       "<g id=\"edge3\" class=\"edge\"><title>2&#45;&gt;3</title>\r\n",
       "<path fill=\"none\" stroke=\"#0000ff\" d=\"M330.972,-69.4455C367.85,-74.1368 413.795,-79.9816 445.404,-84.0026\"/>\r\n",
       "<polygon fill=\"#0000ff\" stroke=\"#0000ff\" points=\"445.178,-87.502 455.54,-85.292 446.062,-80.5579 445.178,-87.502\"/>\r\n",
       "<text text-anchor=\"middle\" x=\"383.68\" y=\"-83.5445\" font-family=\"Times New Roman,serif\" font-size=\"14.00\">yes, missing</text>\r\n",
       "</g>\r\n",
       "<!-- 4 -->\r\n",
       "<g id=\"node5\" class=\"node\"><title>4</title>\r\n",
       "<polygon fill=\"none\" stroke=\"black\" points=\"531.18,-52.7445 436.18,-52.7445 436.18,-16.7445 531.18,-16.7445 531.18,-52.7445\"/>\r\n",
       "<text text-anchor=\"middle\" x=\"483.68\" y=\"-31.0445\" font-family=\"Times New Roman,serif\" font-size=\"14.00\">leaf=0.101235</text>\r\n",
       "</g>\r\n",
       "<!-- 2&#45;&gt;4 -->\r\n",
       "<g id=\"edge4\" class=\"edge\"><title>2&#45;&gt;4</title>\r\n",
       "<path fill=\"none\" stroke=\"#ff0000\" d=\"M330.972,-54.0435C360.784,-50.2511 396.523,-45.7047 425.822,-41.9775\"/>\r\n",
       "<polygon fill=\"#ff0000\" stroke=\"#ff0000\" points=\"426.418,-45.4299 435.897,-40.6959 425.535,-38.4859 426.418,-45.4299\"/>\r\n",
       "<text text-anchor=\"middle\" x=\"383.68\" y=\"-55.5445\" font-family=\"Times New Roman,serif\" font-size=\"14.00\">no</text>\r\n",
       "</g>\r\n",
       "</g>\r\n",
       "</svg>\r\n"
      ],
      "text/plain": [
       "<graphviz.dot.Digraph at 0xeec90f0>"
      ]
     },
     "execution_count": 49,
     "metadata": {},
     "output_type": "execute_result"
    }
   ],
   "source": [
    "xgb.to_graphviz(bestXGB, num_trees=1, rankdir='LR' )"
   ]
  },
  {
   "cell_type": "code",
   "execution_count": 50,
   "metadata": {
    "collapsed": false
   },
   "outputs": [
    {
     "data": {
      "image/svg+xml": [
       "<?xml version=\"1.0\" encoding=\"UTF-8\" standalone=\"no\"?>\r\n",
       "<!DOCTYPE svg PUBLIC \"-//W3C//DTD SVG 1.1//EN\"\r\n",
       " \"http://www.w3.org/Graphics/SVG/1.1/DTD/svg11.dtd\">\r\n",
       "<!-- Generated by graphviz version 2.38.0 (20140413.2041)\r\n",
       " -->\r\n",
       "<!-- Title: %3 Pages: 1 -->\r\n",
       "<svg width=\"819pt\" height=\"349pt\"\r\n",
       " viewBox=\"0.00 0.00 819.46 349.49\" xmlns=\"http://www.w3.org/2000/svg\" xmlns:xlink=\"http://www.w3.org/1999/xlink\">\r\n",
       "<g id=\"graph0\" class=\"graph\" transform=\"scale(1 1) rotate(0) translate(4 345.489)\">\r\n",
       "<title>%3</title>\r\n",
       "<polygon fill=\"white\" stroke=\"none\" points=\"-4,4 -4,-345.489 815.465,-345.489 815.465,4 -4,4\"/>\r\n",
       "<!-- 0 -->\r\n",
       "<g id=\"node1\" class=\"node\"><title>0</title>\r\n",
       "<ellipse fill=\"none\" stroke=\"black\" cx=\"58.4948\" cy=\"-155.745\" rx=\"58.4896\" ry=\"58.4896\"/>\r\n",
       "<text text-anchor=\"middle\" x=\"58.4948\" y=\"-152.045\" font-family=\"Times New Roman,serif\" font-size=\"14.00\">cell_shape&lt;4</text>\r\n",
       "</g>\r\n",
       "<!-- 1 -->\r\n",
       "<g id=\"node2\" class=\"node\"><title>1</title>\r\n",
       "<ellipse fill=\"none\" stroke=\"black\" cx=\"299.983\" cy=\"-219.745\" rx=\"77.9862\" ry=\"77.9862\"/>\r\n",
       "<text text-anchor=\"middle\" x=\"299.983\" y=\"-216.045\" font-family=\"Times New Roman,serif\" font-size=\"14.00\">normal_nucleoli&lt;4</text>\r\n",
       "</g>\r\n",
       "<!-- 0&#45;&gt;1 -->\r\n",
       "<g id=\"edge1\" class=\"edge\"><title>0&#45;&gt;1</title>\r\n",
       "<path fill=\"none\" stroke=\"#0000ff\" d=\"M115.342,-170.669C144.778,-178.535 181.499,-188.348 214.351,-197.128\"/>\r\n",
       "<polygon fill=\"#0000ff\" stroke=\"#0000ff\" points=\"213.846,-200.616 224.411,-199.816 215.653,-193.853 213.846,-200.616\"/>\r\n",
       "<text text-anchor=\"middle\" x=\"169.49\" y=\"-197.545\" font-family=\"Times New Roman,serif\" font-size=\"14.00\">yes, missing</text>\r\n",
       "</g>\r\n",
       "<!-- 2 -->\r\n",
       "<g id=\"node3\" class=\"node\"><title>2</title>\r\n",
       "<ellipse fill=\"none\" stroke=\"black\" cx=\"299.983\" cy=\"-61.7445\" rx=\"61.99\" ry=\"61.99\"/>\r\n",
       "<text text-anchor=\"middle\" x=\"299.983\" y=\"-58.0445\" font-family=\"Times New Roman,serif\" font-size=\"14.00\">bare_nuclei&lt;2</text>\r\n",
       "</g>\r\n",
       "<!-- 0&#45;&gt;2 -->\r\n",
       "<g id=\"edge2\" class=\"edge\"><title>0&#45;&gt;2</title>\r\n",
       "<path fill=\"none\" stroke=\"#ff0000\" d=\"M113.241,-134.649C148.584,-120.777 195.083,-102.526 232.714,-87.7553\"/>\r\n",
       "<polygon fill=\"#ff0000\" stroke=\"#ff0000\" points=\"234.048,-90.9916 242.078,-84.0799 231.491,-84.4756 234.048,-90.9916\"/>\r\n",
       "<text text-anchor=\"middle\" x=\"169.49\" y=\"-129.545\" font-family=\"Times New Roman,serif\" font-size=\"14.00\">no</text>\r\n",
       "</g>\r\n",
       "<!-- 3 -->\r\n",
       "<g id=\"node4\" class=\"node\"><title>3</title>\r\n",
       "<ellipse fill=\"none\" stroke=\"black\" cx=\"544.72\" cy=\"-279.745\" rx=\"61.99\" ry=\"61.99\"/>\r\n",
       "<text text-anchor=\"middle\" x=\"544.72\" y=\"-276.045\" font-family=\"Times New Roman,serif\" font-size=\"14.00\">bare_nuclei&lt;5</text>\r\n",
       "</g>\r\n",
       "<!-- 1&#45;&gt;3 -->\r\n",
       "<g id=\"edge3\" class=\"edge\"><title>1&#45;&gt;3</title>\r\n",
       "<path fill=\"none\" stroke=\"#0000ff\" d=\"M375.793,-238.236C407.343,-246.035 443.84,-255.056 474.734,-262.693\"/>\r\n",
       "<polygon fill=\"#0000ff\" stroke=\"#0000ff\" points=\"474.007,-266.118 484.555,-265.12 475.687,-259.323 474.007,-266.118\"/>\r\n",
       "<text text-anchor=\"middle\" x=\"430.476\" y=\"-264.545\" font-family=\"Times New Roman,serif\" font-size=\"14.00\">yes, missing</text>\r\n",
       "</g>\r\n",
       "<!-- 4 -->\r\n",
       "<g id=\"node5\" class=\"node\"><title>4</title>\r\n",
       "<polygon fill=\"none\" stroke=\"black\" points=\"572.72,-199.745 516.72,-199.745 516.72,-163.745 572.72,-163.745 572.72,-199.745\"/>\r\n",
       "<text text-anchor=\"middle\" x=\"544.72\" y=\"-178.045\" font-family=\"Times New Roman,serif\" font-size=\"14.00\">leaf=&#45;0</text>\r\n",
       "</g>\r\n",
       "<!-- 1&#45;&gt;4 -->\r\n",
       "<g id=\"edge4\" class=\"edge\"><title>1&#45;&gt;4</title>\r\n",
       "<path fill=\"none\" stroke=\"#ff0000\" d=\"M377.12,-207.825C420.213,-201.079 472.183,-192.943 506.492,-187.572\"/>\r\n",
       "<polygon fill=\"#ff0000\" stroke=\"#ff0000\" points=\"507.205,-191.004 516.543,-185.999 506.122,-184.088 507.205,-191.004\"/>\r\n",
       "<text text-anchor=\"middle\" x=\"430.476\" y=\"-208.545\" font-family=\"Times New Roman,serif\" font-size=\"14.00\">no</text>\r\n",
       "</g>\r\n",
       "<!-- 5 -->\r\n",
       "<g id=\"node8\" class=\"node\"><title>5</title>\r\n",
       "<polygon fill=\"none\" stroke=\"black\" points=\"572.72,-121.745 516.72,-121.745 516.72,-85.7445 572.72,-85.7445 572.72,-121.745\"/>\r\n",
       "<text text-anchor=\"middle\" x=\"544.72\" y=\"-100.045\" font-family=\"Times New Roman,serif\" font-size=\"14.00\">leaf=&#45;0</text>\r\n",
       "</g>\r\n",
       "<!-- 2&#45;&gt;5 -->\r\n",
       "<g id=\"edge7\" class=\"edge\"><title>2&#45;&gt;5</title>\r\n",
       "<path fill=\"none\" stroke=\"#0000ff\" d=\"M360.985,-72.1265C406.414,-79.9868 467.408,-90.5404 506.148,-97.2436\"/>\r\n",
       "<polygon fill=\"#0000ff\" stroke=\"#0000ff\" points=\"506.003,-100.77 516.454,-99.0266 507.197,-93.8729 506.003,-100.77\"/>\r\n",
       "<text text-anchor=\"middle\" x=\"430.476\" y=\"-94.5445\" font-family=\"Times New Roman,serif\" font-size=\"14.00\">yes, missing</text>\r\n",
       "</g>\r\n",
       "<!-- 6 -->\r\n",
       "<g id=\"node9\" class=\"node\"><title>6</title>\r\n",
       "<polygon fill=\"none\" stroke=\"black\" points=\"595.72,-67.7445 493.72,-67.7445 493.72,-31.7445 595.72,-31.7445 595.72,-67.7445\"/>\r\n",
       "<text text-anchor=\"middle\" x=\"544.72\" y=\"-46.0445\" font-family=\"Times New Roman,serif\" font-size=\"14.00\">leaf=0.0733742</text>\r\n",
       "</g>\r\n",
       "<!-- 2&#45;&gt;6 -->\r\n",
       "<g id=\"edge8\" class=\"edge\"><title>2&#45;&gt;6</title>\r\n",
       "<path fill=\"none\" stroke=\"#ff0000\" d=\"M361.922,-58.7319C399.021,-56.8979 446.232,-54.564 483.246,-52.7342\"/>\r\n",
       "<polygon fill=\"#ff0000\" stroke=\"#ff0000\" points=\"483.583,-56.2218 493.398,-52.2323 483.237,-49.2304 483.583,-56.2218\"/>\r\n",
       "<text text-anchor=\"middle\" x=\"430.476\" y=\"-61.5445\" font-family=\"Times New Roman,serif\" font-size=\"14.00\">no</text>\r\n",
       "</g>\r\n",
       "<!-- 7 -->\r\n",
       "<g id=\"node6\" class=\"node\"><title>7</title>\r\n",
       "<polygon fill=\"none\" stroke=\"black\" points=\"811.465,-324.745 711.465,-324.745 711.465,-288.745 811.465,-288.745 811.465,-324.745\"/>\r\n",
       "<text text-anchor=\"middle\" x=\"761.465\" y=\"-303.045\" font-family=\"Times New Roman,serif\" font-size=\"14.00\">leaf=&#45;0.126661</text>\r\n",
       "</g>\r\n",
       "<!-- 3&#45;&gt;7 -->\r\n",
       "<g id=\"edge5\" class=\"edge\"><title>3&#45;&gt;7</title>\r\n",
       "<path fill=\"none\" stroke=\"#0000ff\" d=\"M606.11,-287.337C635.85,-291.077 671.581,-295.569 701.171,-299.29\"/>\r\n",
       "<polygon fill=\"#0000ff\" stroke=\"#0000ff\" points=\"701.004,-302.796 711.362,-300.571 701.877,-295.851 701.004,-302.796\"/>\r\n",
       "<text text-anchor=\"middle\" x=\"658.965\" y=\"-301.545\" font-family=\"Times New Roman,serif\" font-size=\"14.00\">yes, missing</text>\r\n",
       "</g>\r\n",
       "<!-- 8 -->\r\n",
       "<g id=\"node7\" class=\"node\"><title>8</title>\r\n",
       "<polygon fill=\"none\" stroke=\"black\" points=\"789.465,-270.745 733.465,-270.745 733.465,-234.745 789.465,-234.745 789.465,-270.745\"/>\r\n",
       "<text text-anchor=\"middle\" x=\"761.465\" y=\"-249.045\" font-family=\"Times New Roman,serif\" font-size=\"14.00\">leaf=&#45;0</text>\r\n",
       "</g>\r\n",
       "<!-- 3&#45;&gt;8 -->\r\n",
       "<g id=\"edge6\" class=\"edge\"><title>3&#45;&gt;8</title>\r\n",
       "<path fill=\"none\" stroke=\"#ff0000\" d=\"M606.11,-272.152C643.671,-267.429 690.786,-261.505 723.02,-257.452\"/>\r\n",
       "<polygon fill=\"#ff0000\" stroke=\"#ff0000\" points=\"723.861,-260.874 733.346,-256.154 722.988,-253.929 723.861,-260.874\"/>\r\n",
       "<text text-anchor=\"middle\" x=\"658.965\" y=\"-273.545\" font-family=\"Times New Roman,serif\" font-size=\"14.00\">no</text>\r\n",
       "</g>\r\n",
       "</g>\r\n",
       "</svg>\r\n"
      ],
      "text/plain": [
       "<graphviz.dot.Digraph at 0xeec9710>"
      ]
     },
     "execution_count": 50,
     "metadata": {},
     "output_type": "execute_result"
    }
   ],
   "source": [
    "xgb.to_graphviz(bestXGB, num_trees=2, rankdir='LR' )"
   ]
  },
  {
   "cell_type": "code",
   "execution_count": 51,
   "metadata": {
    "collapsed": false
   },
   "outputs": [
    {
     "data": {
      "image/svg+xml": [
       "<?xml version=\"1.0\" encoding=\"UTF-8\" standalone=\"no\"?>\r\n",
       "<!DOCTYPE svg PUBLIC \"-//W3C//DTD SVG 1.1//EN\"\r\n",
       " \"http://www.w3.org/Graphics/SVG/1.1/DTD/svg11.dtd\">\r\n",
       "<!-- Generated by graphviz version 2.38.0 (20140413.2041)\r\n",
       " -->\r\n",
       "<!-- Title: %3 Pages: 1 -->\r\n",
       "<svg width=\"544pt\" height=\"186pt\"\r\n",
       " viewBox=\"0.00 0.00 544.18 185.74\" xmlns=\"http://www.w3.org/2000/svg\" xmlns:xlink=\"http://www.w3.org/1999/xlink\">\r\n",
       "<g id=\"graph0\" class=\"graph\" transform=\"scale(1 1) rotate(0) translate(4 181.745)\">\r\n",
       "<title>%3</title>\r\n",
       "<polygon fill=\"white\" stroke=\"none\" points=\"-4,4 -4,-181.745 540.18,-181.745 540.18,4 -4,4\"/>\r\n",
       "<!-- 0 -->\r\n",
       "<g id=\"node1\" class=\"node\"><title>0</title>\r\n",
       "<ellipse fill=\"none\" stroke=\"black\" cx=\"51.3454\" cy=\"-52\" rx=\"51.1914\" ry=\"51.1914\"/>\r\n",
       "<text text-anchor=\"middle\" x=\"51.3454\" y=\"-48.3\" font-family=\"Times New Roman,serif\" font-size=\"14.00\">cell_size&lt;4</text>\r\n",
       "</g>\r\n",
       "<!-- 1 -->\r\n",
       "<g id=\"node2\" class=\"node\"><title>1</title>\r\n",
       "<ellipse fill=\"none\" stroke=\"black\" cx=\"269.435\" cy=\"-116\" rx=\"61.99\" ry=\"61.99\"/>\r\n",
       "<text text-anchor=\"middle\" x=\"269.435\" y=\"-112.3\" font-family=\"Times New Roman,serif\" font-size=\"14.00\">bare_nuclei&lt;5</text>\r\n",
       "</g>\r\n",
       "<!-- 0&#45;&gt;1 -->\r\n",
       "<g id=\"edge1\" class=\"edge\"><title>0&#45;&gt;1</title>\r\n",
       "<path fill=\"none\" stroke=\"#0000ff\" d=\"M100.84,-66.3628C130.16,-75.0466 167.988,-86.2503 200.284,-95.8155\"/>\r\n",
       "<polygon fill=\"#0000ff\" stroke=\"#0000ff\" points=\"199.532,-99.2428 210.114,-98.7268 201.52,-92.531 199.532,-99.2428\"/>\r\n",
       "<text text-anchor=\"middle\" x=\"155.191\" y=\"-95.8\" font-family=\"Times New Roman,serif\" font-size=\"14.00\">yes, missing</text>\r\n",
       "</g>\r\n",
       "<!-- 2 -->\r\n",
       "<g id=\"node3\" class=\"node\"><title>2</title>\r\n",
       "<polygon fill=\"none\" stroke=\"black\" points=\"320.435,-36 218.435,-36 218.435,-0 320.435,-0 320.435,-36\"/>\r\n",
       "<text text-anchor=\"middle\" x=\"269.435\" y=\"-14.3\" font-family=\"Times New Roman,serif\" font-size=\"14.00\">leaf=0.0896133</text>\r\n",
       "</g>\r\n",
       "<!-- 0&#45;&gt;2 -->\r\n",
       "<g id=\"edge2\" class=\"edge\"><title>0&#45;&gt;2</title>\r\n",
       "<path fill=\"none\" stroke=\"#ff0000\" d=\"M102.192,-44.157C133.707,-39.1984 174.638,-32.7583 207.999,-27.5091\"/>\r\n",
       "<polygon fill=\"#ff0000\" stroke=\"#ff0000\" points=\"208.756,-30.9331 218.091,-25.9213 207.668,-24.0182 208.756,-30.9331\"/>\r\n",
       "<text text-anchor=\"middle\" x=\"155.191\" y=\"-45.8\" font-family=\"Times New Roman,serif\" font-size=\"14.00\">no</text>\r\n",
       "</g>\r\n",
       "<!-- 3 -->\r\n",
       "<g id=\"node4\" class=\"node\"><title>3</title>\r\n",
       "<polygon fill=\"none\" stroke=\"black\" points=\"536.18,-161 436.18,-161 436.18,-125 536.18,-125 536.18,-161\"/>\r\n",
       "<text text-anchor=\"middle\" x=\"486.18\" y=\"-139.3\" font-family=\"Times New Roman,serif\" font-size=\"14.00\">leaf=&#45;0.114256</text>\r\n",
       "</g>\r\n",
       "<!-- 1&#45;&gt;3 -->\r\n",
       "<g id=\"edge3\" class=\"edge\"><title>1&#45;&gt;3</title>\r\n",
       "<path fill=\"none\" stroke=\"#0000ff\" d=\"M330.825,-123.593C360.565,-127.332 396.296,-131.825 425.887,-135.545\"/>\r\n",
       "<polygon fill=\"#0000ff\" stroke=\"#0000ff\" points=\"425.719,-139.051 436.077,-136.826 426.592,-132.106 425.719,-139.051\"/>\r\n",
       "<text text-anchor=\"middle\" x=\"383.68\" y=\"-138.8\" font-family=\"Times New Roman,serif\" font-size=\"14.00\">yes, missing</text>\r\n",
       "</g>\r\n",
       "<!-- 4 -->\r\n",
       "<g id=\"node5\" class=\"node\"><title>4</title>\r\n",
       "<polygon fill=\"none\" stroke=\"black\" points=\"514.18,-107 458.18,-107 458.18,-71 514.18,-71 514.18,-107\"/>\r\n",
       "<text text-anchor=\"middle\" x=\"486.18\" y=\"-85.3\" font-family=\"Times New Roman,serif\" font-size=\"14.00\">leaf=&#45;0</text>\r\n",
       "</g>\r\n",
       "<!-- 1&#45;&gt;4 -->\r\n",
       "<g id=\"edge4\" class=\"edge\"><title>1&#45;&gt;4</title>\r\n",
       "<path fill=\"none\" stroke=\"#ff0000\" d=\"M330.825,-108.407C368.386,-103.685 415.501,-97.7608 447.736,-93.7079\"/>\r\n",
       "<polygon fill=\"#ff0000\" stroke=\"#ff0000\" points=\"448.576,-97.1299 458.061,-92.4096 447.703,-90.1845 448.576,-97.1299\"/>\r\n",
       "<text text-anchor=\"middle\" x=\"383.68\" y=\"-109.8\" font-family=\"Times New Roman,serif\" font-size=\"14.00\">no</text>\r\n",
       "</g>\r\n",
       "</g>\r\n",
       "</svg>\r\n"
      ],
      "text/plain": [
       "<graphviz.dot.Digraph at 0x103f2b00>"
      ]
     },
     "execution_count": 51,
     "metadata": {},
     "output_type": "execute_result"
    }
   ],
   "source": [
    "xgb.to_graphviz(bestXGB, num_trees=3, rankdir='LR' )"
   ]
  },
  {
   "cell_type": "code",
   "execution_count": 52,
   "metadata": {
    "collapsed": false
   },
   "outputs": [
    {
     "data": {
      "image/svg+xml": [
       "<?xml version=\"1.0\" encoding=\"UTF-8\" standalone=\"no\"?>\r\n",
       "<!DOCTYPE svg PUBLIC \"-//W3C//DTD SVG 1.1//EN\"\r\n",
       " \"http://www.w3.org/Graphics/SVG/1.1/DTD/svg11.dtd\">\r\n",
       "<!-- Generated by graphviz version 2.38.0 (20140413.2041)\r\n",
       " -->\r\n",
       "<!-- Title: %3 Pages: 1 -->\r\n",
       "<svg width=\"597pt\" height=\"227pt\"\r\n",
       " viewBox=\"0.00 0.00 597.48 226.74\" xmlns=\"http://www.w3.org/2000/svg\" xmlns:xlink=\"http://www.w3.org/1999/xlink\">\r\n",
       "<g id=\"graph0\" class=\"graph\" transform=\"scale(1 1) rotate(0) translate(4 222.738)\">\r\n",
       "<title>%3</title>\r\n",
       "<polygon fill=\"white\" stroke=\"none\" points=\"-4,4 -4,-222.738 593.475,-222.738 593.475,4 -4,4\"/>\r\n",
       "<!-- 0 -->\r\n",
       "<g id=\"node1\" class=\"node\"><title>0</title>\r\n",
       "<ellipse fill=\"none\" stroke=\"black\" cx=\"58.4948\" cy=\"-58.4948\" rx=\"58.4896\" ry=\"58.4896\"/>\r\n",
       "<text text-anchor=\"middle\" x=\"58.4948\" y=\"-54.7948\" font-family=\"Times New Roman,serif\" font-size=\"14.00\">cell_shape&lt;4</text>\r\n",
       "</g>\r\n",
       "<!-- 1 -->\r\n",
       "<g id=\"node2\" class=\"node\"><title>1</title>\r\n",
       "<ellipse fill=\"none\" stroke=\"black\" cx=\"303.232\" cy=\"-137.495\" rx=\"81.4863\" ry=\"81.4863\"/>\r\n",
       "<text text-anchor=\"middle\" x=\"303.232\" y=\"-133.795\" font-family=\"Times New Roman,serif\" font-size=\"14.00\">bland_chromatin&lt;4</text>\r\n",
       "</g>\r\n",
       "<!-- 0&#45;&gt;1 -->\r\n",
       "<g id=\"edge1\" class=\"edge\"><title>0&#45;&gt;1</title>\r\n",
       "<path fill=\"none\" stroke=\"#0000ff\" d=\"M114.273,-76.3225C144.18,-86.0561 181.902,-98.3327 215.689,-109.329\"/>\r\n",
       "<polygon fill=\"#0000ff\" stroke=\"#0000ff\" points=\"214.976,-112.778 225.569,-112.544 217.143,-106.121 214.976,-112.778\"/>\r\n",
       "<text text-anchor=\"middle\" x=\"169.49\" y=\"-108.295\" font-family=\"Times New Roman,serif\" font-size=\"14.00\">yes, missing</text>\r\n",
       "</g>\r\n",
       "<!-- 2 -->\r\n",
       "<g id=\"node3\" class=\"node\"><title>2</title>\r\n",
       "<polygon fill=\"none\" stroke=\"black\" points=\"354.232,-38.4948 252.232,-38.4948 252.232,-2.49481 354.232,-2.49481 354.232,-38.4948\"/>\r\n",
       "<text text-anchor=\"middle\" x=\"303.232\" y=\"-16.7948\" font-family=\"Times New Roman,serif\" font-size=\"14.00\">leaf=0.0753341</text>\r\n",
       "</g>\r\n",
       "<!-- 0&#45;&gt;2 -->\r\n",
       "<g id=\"edge2\" class=\"edge\"><title>0&#45;&gt;2</title>\r\n",
       "<path fill=\"none\" stroke=\"#ff0000\" d=\"M116.406,-49.5855C154.096,-43.6853 203.468,-35.9561 241.848,-29.9478\"/>\r\n",
       "<polygon fill=\"#ff0000\" stroke=\"#ff0000\" points=\"242.519,-33.3855 251.858,-28.3809 241.437,-26.4697 242.519,-33.3855\"/>\r\n",
       "<text text-anchor=\"middle\" x=\"169.49\" y=\"-50.2948\" font-family=\"Times New Roman,serif\" font-size=\"14.00\">no</text>\r\n",
       "</g>\r\n",
       "<!-- 3 -->\r\n",
       "<g id=\"node4\" class=\"node\"><title>3</title>\r\n",
       "<polygon fill=\"none\" stroke=\"black\" points=\"589.475,-182.495 489.475,-182.495 489.475,-146.495 589.475,-146.495 589.475,-182.495\"/>\r\n",
       "<text text-anchor=\"middle\" x=\"539.475\" y=\"-160.795\" font-family=\"Times New Roman,serif\" font-size=\"14.00\">leaf=&#45;0.108619</text>\r\n",
       "</g>\r\n",
       "<!-- 1&#45;&gt;3 -->\r\n",
       "<g id=\"edge3\" class=\"edge\"><title>1&#45;&gt;3</title>\r\n",
       "<path fill=\"none\" stroke=\"#0000ff\" d=\"M384.19,-146.711C415.235,-150.289 450.165,-154.316 478.929,-157.631\"/>\r\n",
       "<polygon fill=\"#0000ff\" stroke=\"#0000ff\" points=\"478.894,-161.15 489.229,-158.818 479.695,-154.196 478.894,-161.15\"/>\r\n",
       "<text text-anchor=\"middle\" x=\"436.975\" y=\"-160.295\" font-family=\"Times New Roman,serif\" font-size=\"14.00\">yes, missing</text>\r\n",
       "</g>\r\n",
       "<!-- 4 -->\r\n",
       "<g id=\"node5\" class=\"node\"><title>4</title>\r\n",
       "<polygon fill=\"none\" stroke=\"black\" points=\"567.475,-128.495 511.475,-128.495 511.475,-92.4948 567.475,-92.4948 567.475,-128.495\"/>\r\n",
       "<text text-anchor=\"middle\" x=\"539.475\" y=\"-106.795\" font-family=\"Times New Roman,serif\" font-size=\"14.00\">leaf=&#45;0</text>\r\n",
       "</g>\r\n",
       "<!-- 1&#45;&gt;4 -->\r\n",
       "<g id=\"edge4\" class=\"edge\"><title>1&#45;&gt;4</title>\r\n",
       "<path fill=\"none\" stroke=\"#ff0000\" d=\"M384.19,-128.278C423.842,-123.708 469.834,-118.407 501.218,-114.789\"/>\r\n",
       "<polygon fill=\"#ff0000\" stroke=\"#ff0000\" points=\"501.737,-118.253 511.271,-113.631 500.936,-111.299 501.737,-118.253\"/>\r\n",
       "<text text-anchor=\"middle\" x=\"436.975\" y=\"-129.295\" font-family=\"Times New Roman,serif\" font-size=\"14.00\">no</text>\r\n",
       "</g>\r\n",
       "</g>\r\n",
       "</svg>\r\n"
      ],
      "text/plain": [
       "<graphviz.dot.Digraph at 0x104b95c0>"
      ]
     },
     "execution_count": 52,
     "metadata": {},
     "output_type": "execute_result"
    }
   ],
   "source": [
    "xgb.to_graphviz(bestXGB, num_trees=4, rankdir='LR' )"
   ]
  },
  {
   "cell_type": "code",
   "execution_count": 53,
   "metadata": {
    "collapsed": false
   },
   "outputs": [
    {
     "data": {
      "image/svg+xml": [
       "<?xml version=\"1.0\" encoding=\"UTF-8\" standalone=\"no\"?>\r\n",
       "<!DOCTYPE svg PUBLIC \"-//W3C//DTD SVG 1.1//EN\"\r\n",
       " \"http://www.w3.org/Graphics/SVG/1.1/DTD/svg11.dtd\">\r\n",
       "<!-- Generated by graphviz version 2.38.0 (20140413.2041)\r\n",
       " -->\r\n",
       "<!-- Title: %3 Pages: 1 -->\r\n",
       "<svg width=\"884pt\" height=\"393pt\"\r\n",
       " viewBox=\"0.00 0.00 884.46 393.49\" xmlns=\"http://www.w3.org/2000/svg\" xmlns:xlink=\"http://www.w3.org/1999/xlink\">\r\n",
       "<g id=\"graph0\" class=\"graph\" transform=\"scale(1 1) rotate(0) translate(4 389.487)\">\r\n",
       "<title>%3</title>\r\n",
       "<polygon fill=\"white\" stroke=\"none\" points=\"-4,4 -4,-389.487 880.459,-389.487 880.459,4 -4,4\"/>\r\n",
       "<!-- 0 -->\r\n",
       "<g id=\"node1\" class=\"node\"><title>0</title>\r\n",
       "<ellipse fill=\"none\" stroke=\"black\" cx=\"81.2428\" cy=\"-144.745\" rx=\"81.4863\" ry=\"81.4863\"/>\r\n",
       "<text text-anchor=\"middle\" x=\"81.2428\" y=\"-141.045\" font-family=\"Times New Roman,serif\" font-size=\"14.00\">bland_chromatin&lt;4</text>\r\n",
       "</g>\r\n",
       "<!-- 1 -->\r\n",
       "<g id=\"node2\" class=\"node\"><title>1</title>\r\n",
       "<ellipse fill=\"none\" stroke=\"black\" cx=\"329.23\" cy=\"-202.745\" rx=\"61.99\" ry=\"61.99\"/>\r\n",
       "<text text-anchor=\"middle\" x=\"329.23\" y=\"-199.045\" font-family=\"Times New Roman,serif\" font-size=\"14.00\">bare_nuclei&lt;6</text>\r\n",
       "</g>\r\n",
       "<!-- 0&#45;&gt;1 -->\r\n",
       "<g id=\"edge1\" class=\"edge\"><title>0&#45;&gt;1</title>\r\n",
       "<path fill=\"none\" stroke=\"#0000ff\" d=\"M160.413,-163.176C192.148,-170.659 228.496,-179.229 259.232,-186.476\"/>\r\n",
       "<polygon fill=\"#0000ff\" stroke=\"#0000ff\" points=\"258.464,-189.891 269.001,-188.779 260.071,-183.078 258.464,-189.891\"/>\r\n",
       "<text text-anchor=\"middle\" x=\"214.986\" y=\"-188.545\" font-family=\"Times New Roman,serif\" font-size=\"14.00\">yes, missing</text>\r\n",
       "</g>\r\n",
       "<!-- 2 -->\r\n",
       "<g id=\"node3\" class=\"node\"><title>2</title>\r\n",
       "<ellipse fill=\"none\" stroke=\"black\" cx=\"329.23\" cy=\"-61.7445\" rx=\"61.99\" ry=\"61.99\"/>\r\n",
       "<text text-anchor=\"middle\" x=\"329.23\" y=\"-58.0445\" font-family=\"Times New Roman,serif\" font-size=\"14.00\">bare_nuclei&lt;2</text>\r\n",
       "</g>\r\n",
       "<!-- 0&#45;&gt;2 -->\r\n",
       "<g id=\"edge2\" class=\"edge\"><title>0&#45;&gt;2</title>\r\n",
       "<path fill=\"none\" stroke=\"#ff0000\" d=\"M158.39,-119.051C191.126,-108.006 229.067,-95.2039 260.774,-84.5052\"/>\r\n",
       "<polygon fill=\"#ff0000\" stroke=\"#ff0000\" points=\"262.045,-87.7702 270.402,-81.2568 259.807,-81.1376 262.045,-87.7702\"/>\r\n",
       "<text text-anchor=\"middle\" x=\"214.986\" y=\"-114.545\" font-family=\"Times New Roman,serif\" font-size=\"14.00\">no</text>\r\n",
       "</g>\r\n",
       "<!-- 3 -->\r\n",
       "<g id=\"node4\" class=\"node\"><title>3</title>\r\n",
       "<ellipse fill=\"none\" stroke=\"black\" cx=\"583.717\" cy=\"-297.745\" rx=\"87.9851\" ry=\"87.9851\"/>\r\n",
       "<text text-anchor=\"middle\" x=\"583.717\" y=\"-294.045\" font-family=\"Times New Roman,serif\" font-size=\"14.00\">marginal_adhesion&lt;4</text>\r\n",
       "</g>\r\n",
       "<!-- 1&#45;&gt;3 -->\r\n",
       "<g id=\"edge3\" class=\"edge\"><title>1&#45;&gt;3</title>\r\n",
       "<path fill=\"none\" stroke=\"#0000ff\" d=\"M387.208,-224.183C417.919,-235.738 456.55,-250.273 491.346,-263.366\"/>\r\n",
       "<polygon fill=\"#0000ff\" stroke=\"#0000ff\" points=\"490.457,-266.77 501.049,-267.016 492.922,-260.219 490.457,-266.77\"/>\r\n",
       "<text text-anchor=\"middle\" x=\"443.475\" y=\"-260.545\" font-family=\"Times New Roman,serif\" font-size=\"14.00\">yes, missing</text>\r\n",
       "</g>\r\n",
       "<!-- 4 -->\r\n",
       "<g id=\"node5\" class=\"node\"><title>4</title>\r\n",
       "<polygon fill=\"none\" stroke=\"black\" points=\"611.717,-191.745 555.717,-191.745 555.717,-155.745 611.717,-155.745 611.717,-191.745\"/>\r\n",
       "<text text-anchor=\"middle\" x=\"583.717\" y=\"-170.045\" font-family=\"Times New Roman,serif\" font-size=\"14.00\">leaf=&#45;0</text>\r\n",
       "</g>\r\n",
       "<!-- 1&#45;&gt;4 -->\r\n",
       "<g id=\"edge4\" class=\"edge\"><title>1&#45;&gt;4</title>\r\n",
       "<path fill=\"none\" stroke=\"#ff0000\" d=\"M390.707,-195.798C438.888,-190.264 504.8,-182.694 545.523,-178.017\"/>\r\n",
       "<polygon fill=\"#ff0000\" stroke=\"#ff0000\" points=\"546.022,-181.482 555.557,-176.864 545.223,-174.528 546.022,-181.482\"/>\r\n",
       "<text text-anchor=\"middle\" x=\"443.475\" y=\"-197.545\" font-family=\"Times New Roman,serif\" font-size=\"14.00\">no</text>\r\n",
       "</g>\r\n",
       "<!-- 5 -->\r\n",
       "<g id=\"node8\" class=\"node\"><title>5</title>\r\n",
       "<polygon fill=\"none\" stroke=\"black\" points=\"611.717,-109.745 555.717,-109.745 555.717,-73.7445 611.717,-73.7445 611.717,-109.745\"/>\r\n",
       "<text text-anchor=\"middle\" x=\"583.717\" y=\"-88.0445\" font-family=\"Times New Roman,serif\" font-size=\"14.00\">leaf=&#45;0</text>\r\n",
       "</g>\r\n",
       "<!-- 2&#45;&gt;5 -->\r\n",
       "<g id=\"edge7\" class=\"edge\"><title>2&#45;&gt;5</title>\r\n",
       "<path fill=\"none\" stroke=\"#0000ff\" d=\"M390.707,-68.9303C438.888,-74.655 504.8,-82.4865 545.523,-87.3252\"/>\r\n",
       "<polygon fill=\"#0000ff\" stroke=\"#0000ff\" points=\"545.214,-90.813 555.557,-88.5174 546.04,-83.8619 545.214,-90.813\"/>\r\n",
       "<text text-anchor=\"middle\" x=\"443.475\" y=\"-82.5445\" font-family=\"Times New Roman,serif\" font-size=\"14.00\">yes, missing</text>\r\n",
       "</g>\r\n",
       "<!-- 6 -->\r\n",
       "<g id=\"node9\" class=\"node\"><title>6</title>\r\n",
       "<polygon fill=\"none\" stroke=\"black\" points=\"634.717,-55.7445 532.717,-55.7445 532.717,-19.7445 634.717,-19.7445 634.717,-55.7445\"/>\r\n",
       "<text text-anchor=\"middle\" x=\"583.717\" y=\"-34.0445\" font-family=\"Times New Roman,serif\" font-size=\"14.00\">leaf=0.0767322</text>\r\n",
       "</g>\r\n",
       "<!-- 2&#45;&gt;6 -->\r\n",
       "<g id=\"edge8\" class=\"edge\"><title>2&#45;&gt;6</title>\r\n",
       "<path fill=\"none\" stroke=\"#ff0000\" d=\"M390.707,-55.9959C430.567,-52.2071 482.562,-47.2647 522.391,-43.4787\"/>\r\n",
       "<polygon fill=\"#ff0000\" stroke=\"#ff0000\" points=\"522.876,-46.9485 532.5,-42.5179 522.213,-39.9799 522.876,-46.9485\"/>\r\n",
       "<text text-anchor=\"middle\" x=\"443.475\" y=\"-58.5445\" font-family=\"Times New Roman,serif\" font-size=\"14.00\">no</text>\r\n",
       "</g>\r\n",
       "<!-- 7 -->\r\n",
       "<g id=\"node6\" class=\"node\"><title>7</title>\r\n",
       "<polygon fill=\"none\" stroke=\"black\" points=\"876.459,-342.745 776.459,-342.745 776.459,-306.745 876.459,-306.745 876.459,-342.745\"/>\r\n",
       "<text text-anchor=\"middle\" x=\"826.459\" y=\"-321.045\" font-family=\"Times New Roman,serif\" font-size=\"14.00\">leaf=&#45;0.106475</text>\r\n",
       "</g>\r\n",
       "<!-- 3&#45;&gt;7 -->\r\n",
       "<g id=\"edge5\" class=\"edge\"><title>3&#45;&gt;7</title>\r\n",
       "<path fill=\"none\" stroke=\"#0000ff\" d=\"M670.95,-307.416C702.433,-310.947 737.312,-314.859 765.952,-318.071\"/>\r\n",
       "<polygon fill=\"#0000ff\" stroke=\"#0000ff\" points=\"765.876,-321.584 776.204,-319.22 766.656,-314.628 765.876,-321.584\"/>\r\n",
       "<text text-anchor=\"middle\" x=\"723.959\" y=\"-320.545\" font-family=\"Times New Roman,serif\" font-size=\"14.00\">yes, missing</text>\r\n",
       "</g>\r\n",
       "<!-- 8 -->\r\n",
       "<g id=\"node7\" class=\"node\"><title>8</title>\r\n",
       "<polygon fill=\"none\" stroke=\"black\" points=\"854.459,-288.745 798.459,-288.745 798.459,-252.745 854.459,-252.745 854.459,-288.745\"/>\r\n",
       "<text text-anchor=\"middle\" x=\"826.459\" y=\"-267.045\" font-family=\"Times New Roman,serif\" font-size=\"14.00\">leaf=&#45;0</text>\r\n",
       "</g>\r\n",
       "<!-- 3&#45;&gt;8 -->\r\n",
       "<g id=\"edge6\" class=\"edge\"><title>3&#45;&gt;8</title>\r\n",
       "<path fill=\"none\" stroke=\"#ff0000\" d=\"M670.95,-288.073C711.194,-283.56 756.988,-278.424 788.206,-274.923\"/>\r\n",
       "<polygon fill=\"#ff0000\" stroke=\"#ff0000\" points=\"788.658,-278.394 798.205,-273.801 787.877,-271.438 788.658,-278.394\"/>\r\n",
       "<text text-anchor=\"middle\" x=\"723.959\" y=\"-290.545\" font-family=\"Times New Roman,serif\" font-size=\"14.00\">no</text>\r\n",
       "</g>\r\n",
       "</g>\r\n",
       "</svg>\r\n"
      ],
      "text/plain": [
       "<graphviz.dot.Digraph at 0xf298828>"
      ]
     },
     "execution_count": 53,
     "metadata": {},
     "output_type": "execute_result"
    }
   ],
   "source": [
    "xgb.to_graphviz(bestXGB, num_trees=5, rankdir='LR' )"
   ]
  },
  {
   "cell_type": "code",
   "execution_count": 54,
   "metadata": {
    "collapsed": false
   },
   "outputs": [
    {
     "data": {
      "image/svg+xml": [
       "<?xml version=\"1.0\" encoding=\"UTF-8\" standalone=\"no\"?>\r\n",
       "<!DOCTYPE svg PUBLIC \"-//W3C//DTD SVG 1.1//EN\"\r\n",
       " \"http://www.w3.org/Graphics/SVG/1.1/DTD/svg11.dtd\">\r\n",
       "<!-- Generated by graphviz version 2.38.0 (20140413.2041)\r\n",
       " -->\r\n",
       "<!-- Title: %3 Pages: 1 -->\r\n",
       "<svg width=\"617pt\" height=\"364pt\"\r\n",
       " viewBox=\"0.00 0.00 617.47 363.99\" xmlns=\"http://www.w3.org/2000/svg\" xmlns:xlink=\"http://www.w3.org/1999/xlink\">\r\n",
       "<g id=\"graph0\" class=\"graph\" transform=\"scale(1 1) rotate(0) translate(4 359.985)\">\r\n",
       "<title>%3</title>\r\n",
       "<polygon fill=\"white\" stroke=\"none\" points=\"-4,4 -4,-359.985 613.474,-359.985 613.474,4 -4,4\"/>\r\n",
       "<!-- 0 -->\r\n",
       "<g id=\"node1\" class=\"node\"><title>0</title>\r\n",
       "<ellipse fill=\"none\" stroke=\"black\" cx=\"58.4948\" cy=\"-198.742\" rx=\"58.4896\" ry=\"58.4896\"/>\r\n",
       "<text text-anchor=\"middle\" x=\"58.4948\" y=\"-195.042\" font-family=\"Times New Roman,serif\" font-size=\"14.00\">cell_shape&lt;3</text>\r\n",
       "</g>\r\n",
       "<!-- 1 -->\r\n",
       "<g id=\"node2\" class=\"node\"><title>1</title>\r\n",
       "<ellipse fill=\"none\" stroke=\"black\" cx=\"309.732\" cy=\"-274.742\" rx=\"81.4863\" ry=\"81.4863\"/>\r\n",
       "<text text-anchor=\"middle\" x=\"309.732\" y=\"-271.042\" font-family=\"Times New Roman,serif\" font-size=\"14.00\">bland_chromatin&lt;4</text>\r\n",
       "</g>\r\n",
       "<!-- 0&#45;&gt;1 -->\r\n",
       "<g id=\"edge1\" class=\"edge\"><title>0&#45;&gt;1</title>\r\n",
       "<path fill=\"none\" stroke=\"#0000ff\" d=\"M114.809,-215.609C146.27,-225.203 186.372,-237.431 221.935,-248.275\"/>\r\n",
       "<polygon fill=\"#0000ff\" stroke=\"#0000ff\" points=\"221.248,-251.725 231.834,-251.294 223.289,-245.029 221.248,-251.725\"/>\r\n",
       "<text text-anchor=\"middle\" x=\"169.49\" y=\"-244.542\" font-family=\"Times New Roman,serif\" font-size=\"14.00\">yes, missing</text>\r\n",
       "</g>\r\n",
       "<!-- 2 -->\r\n",
       "<g id=\"node3\" class=\"node\"><title>2</title>\r\n",
       "<ellipse fill=\"none\" stroke=\"black\" cx=\"309.732\" cy=\"-87.7422\" rx=\"87.9851\" ry=\"87.9851\"/>\r\n",
       "<text text-anchor=\"middle\" x=\"309.732\" y=\"-84.0422\" font-family=\"Times New Roman,serif\" font-size=\"14.00\">marginal_adhesion&lt;2</text>\r\n",
       "</g>\r\n",
       "<!-- 0&#45;&gt;2 -->\r\n",
       "<g id=\"edge2\" class=\"edge\"><title>0&#45;&gt;2</title>\r\n",
       "<path fill=\"none\" stroke=\"#ff0000\" d=\"M112.352,-175.202C143.439,-161.357 183.565,-143.486 219.435,-127.511\"/>\r\n",
       "<polygon fill=\"#ff0000\" stroke=\"#ff0000\" points=\"221.229,-130.544 228.94,-123.278 218.381,-124.149 221.229,-130.544\"/>\r\n",
       "<text text-anchor=\"middle\" x=\"169.49\" y=\"-167.542\" font-family=\"Times New Roman,serif\" font-size=\"14.00\">no</text>\r\n",
       "</g>\r\n",
       "<!-- 3 -->\r\n",
       "<g id=\"node4\" class=\"node\"><title>3</title>\r\n",
       "<polygon fill=\"none\" stroke=\"black\" points=\"609.474,-319.742 502.474,-319.742 502.474,-283.742 609.474,-283.742 609.474,-319.742\"/>\r\n",
       "<text text-anchor=\"middle\" x=\"555.974\" y=\"-298.042\" font-family=\"Times New Roman,serif\" font-size=\"14.00\">leaf=&#45;0.0982737</text>\r\n",
       "</g>\r\n",
       "<!-- 1&#45;&gt;3 -->\r\n",
       "<g id=\"edge3\" class=\"edge\"><title>1&#45;&gt;3</title>\r\n",
       "<path fill=\"none\" stroke=\"#0000ff\" d=\"M390.706,-283.583C423.579,-287.217 461.097,-291.364 491.971,-294.777\"/>\r\n",
       "<polygon fill=\"#0000ff\" stroke=\"#0000ff\" points=\"491.846,-298.285 502.17,-295.905 492.615,-291.327 491.846,-298.285\"/>\r\n",
       "<text text-anchor=\"middle\" x=\"449.974\" y=\"-297.542\" font-family=\"Times New Roman,serif\" font-size=\"14.00\">yes, missing</text>\r\n",
       "</g>\r\n",
       "<!-- 4 -->\r\n",
       "<g id=\"node5\" class=\"node\"><title>4</title>\r\n",
       "<polygon fill=\"none\" stroke=\"black\" points=\"583.974,-265.742 527.974,-265.742 527.974,-229.742 583.974,-229.742 583.974,-265.742\"/>\r\n",
       "<text text-anchor=\"middle\" x=\"555.974\" y=\"-244.042\" font-family=\"Times New Roman,serif\" font-size=\"14.00\">leaf=&#45;0</text>\r\n",
       "</g>\r\n",
       "<!-- 1&#45;&gt;4 -->\r\n",
       "<g id=\"edge4\" class=\"edge\"><title>1&#45;&gt;4</title>\r\n",
       "<path fill=\"none\" stroke=\"#ff0000\" d=\"M390.706,-265.901C433.389,-261.183 483.901,-255.599 517.534,-251.881\"/>\r\n",
       "<polygon fill=\"#ff0000\" stroke=\"#ff0000\" points=\"518.274,-255.321 527.829,-250.743 517.505,-248.363 518.274,-255.321\"/>\r\n",
       "<text text-anchor=\"middle\" x=\"449.974\" y=\"-266.542\" font-family=\"Times New Roman,serif\" font-size=\"14.00\">no</text>\r\n",
       "</g>\r\n",
       "<!-- 5 -->\r\n",
       "<g id=\"node6\" class=\"node\"><title>5</title>\r\n",
       "<polygon fill=\"none\" stroke=\"black\" points=\"583.974,-132.742 527.974,-132.742 527.974,-96.7422 583.974,-96.7422 583.974,-132.742\"/>\r\n",
       "<text text-anchor=\"middle\" x=\"555.974\" y=\"-111.042\" font-family=\"Times New Roman,serif\" font-size=\"14.00\">leaf=&#45;0</text>\r\n",
       "</g>\r\n",
       "<!-- 2&#45;&gt;5 -->\r\n",
       "<g id=\"edge5\" class=\"edge\"><title>2&#45;&gt;5</title>\r\n",
       "<path fill=\"none\" stroke=\"#0000ff\" d=\"M397.186,-97.2994C438.489,-101.865 485.758,-107.091 517.706,-110.622\"/>\r\n",
       "<polygon fill=\"#0000ff\" stroke=\"#0000ff\" points=\"517.598,-114.132 527.922,-111.752 518.368,-107.174 517.598,-114.132\"/>\r\n",
       "<text text-anchor=\"middle\" x=\"449.974\" y=\"-111.542\" font-family=\"Times New Roman,serif\" font-size=\"14.00\">yes, missing</text>\r\n",
       "</g>\r\n",
       "<!-- 6 -->\r\n",
       "<g id=\"node7\" class=\"node\"><title>6</title>\r\n",
       "<polygon fill=\"none\" stroke=\"black\" points=\"606.974,-78.7422 504.974,-78.7422 504.974,-42.7422 606.974,-42.7422 606.974,-78.7422\"/>\r\n",
       "<text text-anchor=\"middle\" x=\"555.974\" y=\"-57.0422\" font-family=\"Times New Roman,serif\" font-size=\"14.00\">leaf=0.0730548</text>\r\n",
       "</g>\r\n",
       "<!-- 2&#45;&gt;6 -->\r\n",
       "<g id=\"edge6\" class=\"edge\"><title>2&#45;&gt;6</title>\r\n",
       "<path fill=\"none\" stroke=\"#ff0000\" d=\"M397.186,-78.185C429.471,-74.6161 465.401,-70.6442 494.81,-67.3931\"/>\r\n",
       "<polygon fill=\"#ff0000\" stroke=\"#ff0000\" points=\"495.369,-70.8528 504.923,-66.2751 494.599,-63.8952 495.369,-70.8528\"/>\r\n",
       "<text text-anchor=\"middle\" x=\"449.974\" y=\"-80.5422\" font-family=\"Times New Roman,serif\" font-size=\"14.00\">no</text>\r\n",
       "</g>\r\n",
       "</g>\r\n",
       "</svg>\r\n"
      ],
      "text/plain": [
       "<graphviz.dot.Digraph at 0xeec97b8>"
      ]
     },
     "execution_count": 54,
     "metadata": {},
     "output_type": "execute_result"
    }
   ],
   "source": [
    "xgb.to_graphviz(bestXGB, num_trees=6, rankdir='LR' )"
   ]
  },
  {
   "cell_type": "code",
   "execution_count": 55,
   "metadata": {
    "collapsed": false
   },
   "outputs": [
    {
     "data": {
      "image/svg+xml": [
       "<?xml version=\"1.0\" encoding=\"UTF-8\" standalone=\"no\"?>\r\n",
       "<!DOCTYPE svg PUBLIC \"-//W3C//DTD SVG 1.1//EN\"\r\n",
       " \"http://www.w3.org/Graphics/SVG/1.1/DTD/svg11.dtd\">\r\n",
       "<!-- Generated by graphviz version 2.38.0 (20140413.2041)\r\n",
       " -->\r\n",
       "<!-- Title: %3 Pages: 1 -->\r\n",
       "<svg width=\"530pt\" height=\"232pt\"\r\n",
       " viewBox=\"0.00 0.00 530.38 232.35\" xmlns=\"http://www.w3.org/2000/svg\" xmlns:xlink=\"http://www.w3.org/1999/xlink\">\r\n",
       "<g id=\"graph0\" class=\"graph\" transform=\"scale(1 1) rotate(0) translate(4 228.345)\">\r\n",
       "<title>%3</title>\r\n",
       "<polygon fill=\"white\" stroke=\"none\" points=\"-4,4 -4,-228.345 526.382,-228.345 526.382,4 -4,4\"/>\r\n",
       "<!-- 0 -->\r\n",
       "<g id=\"node1\" class=\"node\"><title>0</title>\r\n",
       "<ellipse fill=\"none\" stroke=\"black\" cx=\"51.3454\" cy=\"-119.345\" rx=\"51.1914\" ry=\"51.1914\"/>\r\n",
       "<text text-anchor=\"middle\" x=\"51.3454\" y=\"-115.645\" font-family=\"Times New Roman,serif\" font-size=\"14.00\">cell_size&lt;3</text>\r\n",
       "</g>\r\n",
       "<!-- 1 -->\r\n",
       "<g id=\"node2\" class=\"node\"><title>1</title>\r\n",
       "<ellipse fill=\"none\" stroke=\"black\" cx=\"259.036\" cy=\"-168.345\" rx=\"48.1917\" ry=\"48.1917\"/>\r\n",
       "<text text-anchor=\"middle\" x=\"259.036\" y=\"-164.645\" font-family=\"Times New Roman,serif\" font-size=\"14.00\">mitoses&lt;2</text>\r\n",
       "</g>\r\n",
       "<!-- 0&#45;&gt;1 -->\r\n",
       "<g id=\"edge1\" class=\"edge\"><title>0&#45;&gt;1</title>\r\n",
       "<path fill=\"none\" stroke=\"#0000ff\" d=\"M101.352,-131.02C131.589,-138.223 170.472,-147.486 201.939,-154.982\"/>\r\n",
       "<polygon fill=\"#0000ff\" stroke=\"#0000ff\" points=\"201.335,-158.436 211.874,-157.349 202.958,-151.626 201.335,-158.436\"/>\r\n",
       "<text text-anchor=\"middle\" x=\"155.191\" y=\"-154.145\" font-family=\"Times New Roman,serif\" font-size=\"14.00\">yes, missing</text>\r\n",
       "</g>\r\n",
       "<!-- 2 -->\r\n",
       "<g id=\"node3\" class=\"node\"><title>2</title>\r\n",
       "<ellipse fill=\"none\" stroke=\"black\" cx=\"259.036\" cy=\"-51.3454\" rx=\"51.1914\" ry=\"51.1914\"/>\r\n",
       "<text text-anchor=\"middle\" x=\"259.036\" y=\"-47.6454\" font-family=\"Times New Roman,serif\" font-size=\"14.00\">cell_size&lt;4</text>\r\n",
       "</g>\r\n",
       "<!-- 0&#45;&gt;2 -->\r\n",
       "<g id=\"edge2\" class=\"edge\"><title>0&#45;&gt;2</title>\r\n",
       "<path fill=\"none\" stroke=\"#ff0000\" d=\"M100.311,-103.488C130.219,-93.601 168.883,-80.8188 200.445,-70.3847\"/>\r\n",
       "<polygon fill=\"#ff0000\" stroke=\"#ff0000\" points=\"201.599,-73.6898 209.995,-67.2277 199.401,-67.0435 201.599,-73.6898\"/>\r\n",
       "<text text-anchor=\"middle\" x=\"155.191\" y=\"-99.1454\" font-family=\"Times New Roman,serif\" font-size=\"14.00\">no</text>\r\n",
       "</g>\r\n",
       "<!-- 3 -->\r\n",
       "<g id=\"node4\" class=\"node\"><title>3</title>\r\n",
       "<polygon fill=\"none\" stroke=\"black\" points=\"522.382,-224.345 415.382,-224.345 415.382,-188.345 522.382,-188.345 522.382,-224.345\"/>\r\n",
       "<text text-anchor=\"middle\" x=\"468.882\" y=\"-202.645\" font-family=\"Times New Roman,serif\" font-size=\"14.00\">leaf=&#45;0.0922315</text>\r\n",
       "</g>\r\n",
       "<!-- 1&#45;&gt;3 -->\r\n",
       "<g id=\"edge3\" class=\"edge\"><title>1&#45;&gt;3</title>\r\n",
       "<path fill=\"none\" stroke=\"#0000ff\" d=\"M306.347,-177.223C313.715,-178.616 321.255,-180.029 328.382,-181.345 353.469,-185.979 381.119,-190.961 405.14,-195.248\"/>\r\n",
       "<polygon fill=\"#0000ff\" stroke=\"#0000ff\" points=\"404.736,-198.731 415.195,-197.04 405.964,-191.839 404.736,-198.731\"/>\r\n",
       "<text text-anchor=\"middle\" x=\"362.882\" y=\"-197.145\" font-family=\"Times New Roman,serif\" font-size=\"14.00\">yes, missing</text>\r\n",
       "</g>\r\n",
       "<!-- 4 -->\r\n",
       "<g id=\"node5\" class=\"node\"><title>4</title>\r\n",
       "<polygon fill=\"none\" stroke=\"black\" points=\"496.882,-170.345 440.882,-170.345 440.882,-134.345 496.882,-134.345 496.882,-170.345\"/>\r\n",
       "<text text-anchor=\"middle\" x=\"468.882\" y=\"-148.645\" font-family=\"Times New Roman,serif\" font-size=\"14.00\">leaf=&#45;0</text>\r\n",
       "</g>\r\n",
       "<!-- 1&#45;&gt;4 -->\r\n",
       "<g id=\"edge4\" class=\"edge\"><title>1&#45;&gt;4</title>\r\n",
       "<path fill=\"none\" stroke=\"#ff0000\" d=\"M307.2,-164.715C344.539,-161.84 395.979,-157.881 430.505,-155.223\"/>\r\n",
       "<polygon fill=\"#ff0000\" stroke=\"#ff0000\" points=\"430.941,-158.7 440.643,-154.442 430.404,-151.72 430.941,-158.7\"/>\r\n",
       "<text text-anchor=\"middle\" x=\"362.882\" y=\"-166.145\" font-family=\"Times New Roman,serif\" font-size=\"14.00\">no</text>\r\n",
       "</g>\r\n",
       "<!-- 5 -->\r\n",
       "<g id=\"node6\" class=\"node\"><title>5</title>\r\n",
       "<polygon fill=\"none\" stroke=\"black\" points=\"496.882,-101.345 440.882,-101.345 440.882,-65.3454 496.882,-65.3454 496.882,-101.345\"/>\r\n",
       "<text text-anchor=\"middle\" x=\"468.882\" y=\"-79.6454\" font-family=\"Times New Roman,serif\" font-size=\"14.00\">leaf=&#45;0</text>\r\n",
       "</g>\r\n",
       "<!-- 2&#45;&gt;5 -->\r\n",
       "<g id=\"edge5\" class=\"edge\"><title>2&#45;&gt;5</title>\r\n",
       "<path fill=\"none\" stroke=\"#0000ff\" d=\"M309.82,-59.0102C347.043,-64.741 397.121,-72.4511 430.851,-77.6441\"/>\r\n",
       "<polygon fill=\"#0000ff\" stroke=\"#0000ff\" points=\"430.345,-81.1074 440.761,-79.17 431.41,-74.189 430.345,-81.1074\"/>\r\n",
       "<text text-anchor=\"middle\" x=\"362.882\" y=\"-75.1454\" font-family=\"Times New Roman,serif\" font-size=\"14.00\">yes, missing</text>\r\n",
       "</g>\r\n",
       "<!-- 6 -->\r\n",
       "<g id=\"node7\" class=\"node\"><title>6</title>\r\n",
       "<polygon fill=\"none\" stroke=\"black\" points=\"519.882,-47.3454 417.882,-47.3454 417.882,-11.3454 519.882,-11.3454 519.882,-47.3454\"/>\r\n",
       "<text text-anchor=\"middle\" x=\"468.882\" y=\"-25.6454\" font-family=\"Times New Roman,serif\" font-size=\"14.00\">leaf=0.0730824</text>\r\n",
       "</g>\r\n",
       "<!-- 2&#45;&gt;6 -->\r\n",
       "<g id=\"edge6\" class=\"edge\"><title>2&#45;&gt;6</title>\r\n",
       "<path fill=\"none\" stroke=\"#ff0000\" d=\"M310.35,-46.0199C339.602,-42.9236 376.657,-39.0014 407.478,-35.739\"/>\r\n",
       "<polygon fill=\"#ff0000\" stroke=\"#ff0000\" points=\"408.096,-39.1933 417.672,-34.6601 407.359,-32.2322 408.096,-39.1933\"/>\r\n",
       "<text text-anchor=\"middle\" x=\"362.882\" y=\"-47.1454\" font-family=\"Times New Roman,serif\" font-size=\"14.00\">no</text>\r\n",
       "</g>\r\n",
       "</g>\r\n",
       "</svg>\r\n"
      ],
      "text/plain": [
       "<graphviz.dot.Digraph at 0x104b69e8>"
      ]
     },
     "execution_count": 55,
     "metadata": {},
     "output_type": "execute_result"
    }
   ],
   "source": [
    "xgb.to_graphviz(bestXGB, num_trees=7, rankdir='LR' )"
   ]
  },
  {
   "cell_type": "code",
   "execution_count": 56,
   "metadata": {
    "collapsed": false
   },
   "outputs": [
    {
     "data": {
      "image/svg+xml": [
       "<?xml version=\"1.0\" encoding=\"UTF-8\" standalone=\"no\"?>\r\n",
       "<!DOCTYPE svg PUBLIC \"-//W3C//DTD SVG 1.1//EN\"\r\n",
       " \"http://www.w3.org/Graphics/SVG/1.1/DTD/svg11.dtd\">\r\n",
       "<!-- Generated by graphviz version 2.38.0 (20140413.2041)\r\n",
       " -->\r\n",
       "<!-- Title: %3 Pages: 1 -->\r\n",
       "<svg width=\"612pt\" height=\"238pt\"\r\n",
       " viewBox=\"0.00 0.00 612.47 237.74\" xmlns=\"http://www.w3.org/2000/svg\" xmlns:xlink=\"http://www.w3.org/1999/xlink\">\r\n",
       "<g id=\"graph0\" class=\"graph\" transform=\"scale(1 1) rotate(0) translate(4 233.742)\">\r\n",
       "<title>%3</title>\r\n",
       "<polygon fill=\"white\" stroke=\"none\" points=\"-4,4 -4,-233.742 608.474,-233.742 608.474,4 -4,4\"/>\r\n",
       "<!-- 0 -->\r\n",
       "<g id=\"node1\" class=\"node\"><title>0</title>\r\n",
       "<ellipse fill=\"none\" stroke=\"black\" cx=\"58.4948\" cy=\"-170.742\" rx=\"58.4896\" ry=\"58.4896\"/>\r\n",
       "<text text-anchor=\"middle\" x=\"58.4948\" y=\"-167.042\" font-family=\"Times New Roman,serif\" font-size=\"14.00\">cell_shape&lt;3</text>\r\n",
       "</g>\r\n",
       "<!-- 1 -->\r\n",
       "<g id=\"node2\" class=\"node\"><title>1</title>\r\n",
       "<polygon fill=\"none\" stroke=\"black\" points=\"359.732,-229.742 259.732,-229.742 259.732,-193.742 359.732,-193.742 359.732,-229.742\"/>\r\n",
       "<text text-anchor=\"middle\" x=\"309.732\" y=\"-208.042\" font-family=\"Times New Roman,serif\" font-size=\"14.00\">leaf=&#45;0.079927</text>\r\n",
       "</g>\r\n",
       "<!-- 0&#45;&gt;1 -->\r\n",
       "<g id=\"edge1\" class=\"edge\"><title>0&#45;&gt;1</title>\r\n",
       "<path fill=\"none\" stroke=\"#0000ff\" d=\"M116.362,-180.097C156.229,-186.655 209.387,-195.4 249.719,-202.034\"/>\r\n",
       "<polygon fill=\"#0000ff\" stroke=\"#0000ff\" points=\"249.245,-205.503 259.681,-203.673 250.381,-198.596 249.245,-205.503\"/>\r\n",
       "<text text-anchor=\"middle\" x=\"169.49\" y=\"-196.542\" font-family=\"Times New Roman,serif\" font-size=\"14.00\">yes, missing</text>\r\n",
       "</g>\r\n",
       "<!-- 2 -->\r\n",
       "<g id=\"node3\" class=\"node\"><title>2</title>\r\n",
       "<ellipse fill=\"none\" stroke=\"black\" cx=\"309.732\" cy=\"-87.7422\" rx=\"87.9851\" ry=\"87.9851\"/>\r\n",
       "<text text-anchor=\"middle\" x=\"309.732\" y=\"-84.0422\" font-family=\"Times New Roman,serif\" font-size=\"14.00\">marginal_adhesion&lt;2</text>\r\n",
       "</g>\r\n",
       "<!-- 0&#45;&gt;2 -->\r\n",
       "<g id=\"edge2\" class=\"edge\"><title>0&#45;&gt;2</title>\r\n",
       "<path fill=\"none\" stroke=\"#ff0000\" d=\"M114.191,-152.528C144.185,-142.539 182.171,-129.889 216.599,-118.424\"/>\r\n",
       "<polygon fill=\"#ff0000\" stroke=\"#ff0000\" points=\"217.824,-121.705 226.206,-115.225 215.612,-115.064 217.824,-121.705\"/>\r\n",
       "<text text-anchor=\"middle\" x=\"169.49\" y=\"-147.542\" font-family=\"Times New Roman,serif\" font-size=\"14.00\">no</text>\r\n",
       "</g>\r\n",
       "<!-- 3 -->\r\n",
       "<g id=\"node4\" class=\"node\"><title>3</title>\r\n",
       "<polygon fill=\"none\" stroke=\"black\" points=\"581.474,-132.742 525.474,-132.742 525.474,-96.7422 581.474,-96.7422 581.474,-132.742\"/>\r\n",
       "<text text-anchor=\"middle\" x=\"553.474\" y=\"-111.042\" font-family=\"Times New Roman,serif\" font-size=\"14.00\">leaf=&#45;0</text>\r\n",
       "</g>\r\n",
       "<!-- 2&#45;&gt;3 -->\r\n",
       "<g id=\"edge3\" class=\"edge\"><title>2&#45;&gt;3</title>\r\n",
       "<path fill=\"none\" stroke=\"#0000ff\" d=\"M396.983,-97.3755C437.55,-101.906 483.8,-107.072 515.239,-110.583\"/>\r\n",
       "<polygon fill=\"#0000ff\" stroke=\"#0000ff\" points=\"514.977,-114.076 525.304,-111.708 515.754,-107.119 514.977,-114.076\"/>\r\n",
       "<text text-anchor=\"middle\" x=\"449.974\" y=\"-110.542\" font-family=\"Times New Roman,serif\" font-size=\"14.00\">yes, missing</text>\r\n",
       "</g>\r\n",
       "<!-- 4 -->\r\n",
       "<g id=\"node5\" class=\"node\"><title>4</title>\r\n",
       "<polygon fill=\"none\" stroke=\"black\" points=\"604.474,-78.7422 502.474,-78.7422 502.474,-42.7422 604.474,-42.7422 604.474,-78.7422\"/>\r\n",
       "<text text-anchor=\"middle\" x=\"553.474\" y=\"-57.0422\" font-family=\"Times New Roman,serif\" font-size=\"14.00\">leaf=0.0728285</text>\r\n",
       "</g>\r\n",
       "<!-- 2&#45;&gt;4 -->\r\n",
       "<g id=\"edge4\" class=\"edge\"><title>2&#45;&gt;4</title>\r\n",
       "<path fill=\"none\" stroke=\"#ff0000\" d=\"M396.983,-78.1089C428.381,-74.602 463.184,-70.7149 491.889,-67.5089\"/>\r\n",
       "<polygon fill=\"#ff0000\" stroke=\"#ff0000\" points=\"492.622,-70.9489 502.172,-66.3605 491.845,-63.9922 492.622,-70.9489\"/>\r\n",
       "<text text-anchor=\"middle\" x=\"449.974\" y=\"-80.5422\" font-family=\"Times New Roman,serif\" font-size=\"14.00\">no</text>\r\n",
       "</g>\r\n",
       "</g>\r\n",
       "</svg>\r\n"
      ],
      "text/plain": [
       "<graphviz.dot.Digraph at 0x104b6908>"
      ]
     },
     "execution_count": 56,
     "metadata": {},
     "output_type": "execute_result"
    }
   ],
   "source": [
    "xgb.to_graphviz(bestXGB, num_trees=8, rankdir='LR' )"
   ]
  },
  {
   "cell_type": "code",
   "execution_count": 57,
   "metadata": {
    "collapsed": false
   },
   "outputs": [
    {
     "data": {
      "image/svg+xml": [
       "<?xml version=\"1.0\" encoding=\"UTF-8\" standalone=\"no\"?>\r\n",
       "<!DOCTYPE svg PUBLIC \"-//W3C//DTD SVG 1.1//EN\"\r\n",
       " \"http://www.w3.org/Graphics/SVG/1.1/DTD/svg11.dtd\">\r\n",
       "<!-- Generated by graphviz version 2.38.0 (20140413.2041)\r\n",
       " -->\r\n",
       "<!-- Title: %3 Pages: 1 -->\r\n",
       "<svg width=\"590pt\" height=\"344pt\"\r\n",
       " viewBox=\"0.00 0.00 590.18 344.24\" xmlns=\"http://www.w3.org/2000/svg\" xmlns:xlink=\"http://www.w3.org/1999/xlink\">\r\n",
       "<g id=\"graph0\" class=\"graph\" transform=\"scale(1 1) rotate(0) translate(4 340.236)\">\r\n",
       "<title>%3</title>\r\n",
       "<polygon fill=\"white\" stroke=\"none\" points=\"-4,4 -4,-340.236 586.176,-340.236 586.176,4 -4,4\"/>\r\n",
       "<!-- 0 -->\r\n",
       "<g id=\"node1\" class=\"node\"><title>0</title>\r\n",
       "<ellipse fill=\"none\" stroke=\"black\" cx=\"51.3454\" cy=\"-186.243\" rx=\"51.1914\" ry=\"51.1914\"/>\r\n",
       "<text text-anchor=\"middle\" x=\"51.3454\" y=\"-182.543\" font-family=\"Times New Roman,serif\" font-size=\"14.00\">cell_size&lt;3</text>\r\n",
       "</g>\r\n",
       "<!-- 1 -->\r\n",
       "<g id=\"node2\" class=\"node\"><title>1</title>\r\n",
       "<ellipse fill=\"none\" stroke=\"black\" cx=\"288.934\" cy=\"-258.243\" rx=\"77.9862\" ry=\"77.9862\"/>\r\n",
       "<text text-anchor=\"middle\" x=\"288.934\" y=\"-254.543\" font-family=\"Times New Roman,serif\" font-size=\"14.00\">normal_nucleoli&lt;3</text>\r\n",
       "</g>\r\n",
       "<!-- 0&#45;&gt;1 -->\r\n",
       "<g id=\"edge1\" class=\"edge\"><title>0&#45;&gt;1</title>\r\n",
       "<path fill=\"none\" stroke=\"#0000ff\" d=\"M100.589,-200.987C130.49,-210.125 169.706,-222.11 204.528,-232.752\"/>\r\n",
       "<polygon fill=\"#0000ff\" stroke=\"#0000ff\" points=\"203.635,-236.139 214.221,-235.715 205.681,-229.445 203.635,-236.139\"/>\r\n",
       "<text text-anchor=\"middle\" x=\"155.191\" y=\"-230.043\" font-family=\"Times New Roman,serif\" font-size=\"14.00\">yes, missing</text>\r\n",
       "</g>\r\n",
       "<!-- 2 -->\r\n",
       "<g id=\"node3\" class=\"node\"><title>2</title>\r\n",
       "<ellipse fill=\"none\" stroke=\"black\" cx=\"288.934\" cy=\"-81.2428\" rx=\"81.4863\" ry=\"81.4863\"/>\r\n",
       "<text text-anchor=\"middle\" x=\"288.934\" y=\"-77.5428\" font-family=\"Times New Roman,serif\" font-size=\"14.00\">bland_chromatin&lt;4</text>\r\n",
       "</g>\r\n",
       "<!-- 0&#45;&gt;2 -->\r\n",
       "<g id=\"edge2\" class=\"edge\"><title>0&#45;&gt;2</title>\r\n",
       "<path fill=\"none\" stroke=\"#ff0000\" d=\"M98.609,-165.623C128.87,-152.137 169.266,-134.132 204.971,-118.219\"/>\r\n",
       "<polygon fill=\"#ff0000\" stroke=\"#ff0000\" points=\"206.711,-121.275 214.42,-114.007 203.862,-114.881 206.711,-121.275\"/>\r\n",
       "<text text-anchor=\"middle\" x=\"155.191\" y=\"-158.043\" font-family=\"Times New Roman,serif\" font-size=\"14.00\">no</text>\r\n",
       "</g>\r\n",
       "<!-- 3 -->\r\n",
       "<g id=\"node4\" class=\"node\"><title>3</title>\r\n",
       "<polygon fill=\"none\" stroke=\"black\" points=\"582.176,-303.243 475.176,-303.243 475.176,-267.243 582.176,-267.243 582.176,-303.243\"/>\r\n",
       "<text text-anchor=\"middle\" x=\"528.676\" y=\"-281.543\" font-family=\"Times New Roman,serif\" font-size=\"14.00\">leaf=&#45;0.0905566</text>\r\n",
       "</g>\r\n",
       "<!-- 1&#45;&gt;3 -->\r\n",
       "<g id=\"edge3\" class=\"edge\"><title>1&#45;&gt;3</title>\r\n",
       "<path fill=\"none\" stroke=\"#0000ff\" d=\"M366.466,-266.934C398.296,-270.549 434.785,-274.693 464.99,-278.124\"/>\r\n",
       "<polygon fill=\"#0000ff\" stroke=\"#0000ff\" points=\"464.645,-281.607 474.976,-279.258 465.435,-274.652 464.645,-281.607\"/>\r\n",
       "<text text-anchor=\"middle\" x=\"422.676\" y=\"-280.043\" font-family=\"Times New Roman,serif\" font-size=\"14.00\">yes, missing</text>\r\n",
       "</g>\r\n",
       "<!-- 4 -->\r\n",
       "<g id=\"node5\" class=\"node\"><title>4</title>\r\n",
       "<polygon fill=\"none\" stroke=\"black\" points=\"556.676,-249.243 500.676,-249.243 500.676,-213.243 556.676,-213.243 556.676,-249.243\"/>\r\n",
       "<text text-anchor=\"middle\" x=\"528.676\" y=\"-227.543\" font-family=\"Times New Roman,serif\" font-size=\"14.00\">leaf=&#45;0</text>\r\n",
       "</g>\r\n",
       "<!-- 1&#45;&gt;4 -->\r\n",
       "<g id=\"edge4\" class=\"edge\"><title>1&#45;&gt;4</title>\r\n",
       "<path fill=\"none\" stroke=\"#ff0000\" d=\"M366.466,-249.551C407.988,-244.836 457.439,-239.22 490.524,-235.462\"/>\r\n",
       "<polygon fill=\"#ff0000\" stroke=\"#ff0000\" points=\"491.118,-238.917 500.659,-234.311 490.328,-231.962 491.118,-238.917\"/>\r\n",
       "<text text-anchor=\"middle\" x=\"422.676\" y=\"-250.043\" font-family=\"Times New Roman,serif\" font-size=\"14.00\">no</text>\r\n",
       "</g>\r\n",
       "<!-- 5 -->\r\n",
       "<g id=\"node6\" class=\"node\"><title>5</title>\r\n",
       "<polygon fill=\"none\" stroke=\"black\" points=\"556.676,-126.243 500.676,-126.243 500.676,-90.2428 556.676,-90.2428 556.676,-126.243\"/>\r\n",
       "<text text-anchor=\"middle\" x=\"528.676\" y=\"-104.543\" font-family=\"Times New Roman,serif\" font-size=\"14.00\">leaf=&#45;0</text>\r\n",
       "</g>\r\n",
       "<!-- 2&#45;&gt;5 -->\r\n",
       "<g id=\"edge5\" class=\"edge\"><title>2&#45;&gt;5</title>\r\n",
       "<path fill=\"none\" stroke=\"#0000ff\" d=\"M369.76,-90.3085C410.482,-94.9332 458.081,-100.339 490.291,-103.997\"/>\r\n",
       "<polygon fill=\"#0000ff\" stroke=\"#0000ff\" points=\"490.261,-107.516 500.592,-105.167 491.051,-100.561 490.261,-107.516\"/>\r\n",
       "<text text-anchor=\"middle\" x=\"422.676\" y=\"-103.043\" font-family=\"Times New Roman,serif\" font-size=\"14.00\">yes, missing</text>\r\n",
       "</g>\r\n",
       "<!-- 6 -->\r\n",
       "<g id=\"node7\" class=\"node\"><title>6</title>\r\n",
       "<polygon fill=\"none\" stroke=\"black\" points=\"579.676,-72.2428 477.676,-72.2428 477.676,-36.2428 579.676,-36.2428 579.676,-72.2428\"/>\r\n",
       "<text text-anchor=\"middle\" x=\"528.676\" y=\"-50.5428\" font-family=\"Times New Roman,serif\" font-size=\"14.00\">leaf=0.0682753</text>\r\n",
       "</g>\r\n",
       "<!-- 2&#45;&gt;6 -->\r\n",
       "<g id=\"edge6\" class=\"edge\"><title>2&#45;&gt;6</title>\r\n",
       "<path fill=\"none\" stroke=\"#ff0000\" d=\"M369.76,-72.1771C401.617,-68.5592 437.682,-64.4633 467.296,-61.1001\"/>\r\n",
       "<polygon fill=\"#ff0000\" stroke=\"#ff0000\" points=\"467.943,-64.5492 477.484,-59.943 467.153,-57.5939 467.943,-64.5492\"/>\r\n",
       "<text text-anchor=\"middle\" x=\"422.676\" y=\"-73.0428\" font-family=\"Times New Roman,serif\" font-size=\"14.00\">no</text>\r\n",
       "</g>\r\n",
       "</g>\r\n",
       "</svg>\r\n"
      ],
      "text/plain": [
       "<graphviz.dot.Digraph at 0xf298e10>"
      ]
     },
     "execution_count": 57,
     "metadata": {},
     "output_type": "execute_result"
    }
   ],
   "source": [
    "xgb.to_graphviz(bestXGB, num_trees=9, rankdir='LR' )"
   ]
  }
 ],
 "metadata": {
  "kernelspec": {
   "display_name": "Python 3",
   "language": "python",
   "name": "python3"
  },
  "language_info": {
   "codemirror_mode": {
    "name": "ipython",
    "version": 3
   },
   "file_extension": ".py",
   "mimetype": "text/x-python",
   "name": "python",
   "nbconvert_exporter": "python",
   "pygments_lexer": "ipython3",
   "version": "3.5.3"
  }
 },
 "nbformat": 4,
 "nbformat_minor": 2
}
