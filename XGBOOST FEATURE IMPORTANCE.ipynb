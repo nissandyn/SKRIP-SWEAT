{
 "cells": [
  {
   "cell_type": "code",
   "execution_count": 1,
   "metadata": {
    "collapsed": true
   },
   "outputs": [],
   "source": [
    "import pandas as pd\n",
    "import numpy as np\n",
    "import matplotlib.pyplot as plt\n",
    "from scipy import stats\n",
    "import pylab as pl\n",
    "from sklearn.model_selection import train_test_split\n",
    "from sklearn.svm import SVC\n",
    "from sklearn.metrics import accuracy_score, precision_recall_fscore_support\n",
    "from sklearn import metrics\n",
    "from sklearn.model_selection import GridSearchCV\n",
    "from __future__ import print_function\n",
    "from sklearn.metrics import classification_report\n",
    "from sklearn.metrics import confusion_matrix\n",
    "from sklearn.metrics import make_scorer\n",
    "from sklearn.model_selection import cross_val_score\n",
    "from sklearn.metrics import roc_curve, roc_auc_score"
   ]
  },
  {
   "cell_type": "code",
   "execution_count": 2,
   "metadata": {
    "collapsed": true
   },
   "outputs": [],
   "source": [
    "dfA = pd.read_csv(\"wbc.csv\")\n",
    "dfA=dfA.replace('?',np.nan)\n",
    "dfA['bare_nuclei'] = pd.to_numeric(dfA.bare_nuclei.fillna(dfA.bare_nuclei.median()))"
   ]
  },
  {
   "cell_type": "code",
   "execution_count": 3,
   "metadata": {
    "collapsed": true
   },
   "outputs": [],
   "source": [
    "X = dfA.drop([dfA.columns[-1]], axis=1)\n",
    "y = dfA.jenis.map({2: 0, 4: 1})"
   ]
  },
  {
   "cell_type": "code",
   "execution_count": 4,
   "metadata": {
    "collapsed": true
   },
   "outputs": [],
   "source": [
    "RAND_SEED_SPLIT = RAND_SEED_TUNING = 84"
   ]
  },
  {
   "cell_type": "code",
   "execution_count": 5,
   "metadata": {
    "collapsed": true
   },
   "outputs": [],
   "source": [
    "X_train, X_test, y_train, y_test = train_test_split(X, y,test_size=0.33, random_state=RAND_SEED_SPLIT)"
   ]
  },
  {
   "cell_type": "code",
   "execution_count": 6,
   "metadata": {
    "collapsed": false
   },
   "outputs": [],
   "source": [
    "svc=SVC()"
   ]
  },
  {
   "cell_type": "code",
   "execution_count": 7,
   "metadata": {
    "collapsed": true
   },
   "outputs": [],
   "source": [
    "C_range= [2**i for i in [-5, -3, -1, 1, 3, 5, 7, 9, 11, 13, 15]]\n",
    "gamma_range= [2**i for i in [-15, -13, -11, -9, -7, -5, -3, -1, 1, 3]]"
   ]
  },
  {
   "cell_type": "code",
   "execution_count": 8,
   "metadata": {
    "collapsed": true
   },
   "outputs": [],
   "source": [
    "def cost_breast_cancer(y_true, y_pred):\n",
    "    CM = confusion_matrix(y_true, y_pred)\n",
    "    FN = CM[1][0]\n",
    "    FP = CM[0][1]\n",
    "    costBC=((-1*((228.35*FP)+(2850000*FN))))\n",
    "    return costBC"
   ]
  },
  {
   "cell_type": "code",
   "execution_count": 9,
   "metadata": {
    "collapsed": true
   },
   "outputs": [],
   "source": [
    "def specificity(y_true, y_pred):\n",
    "    CM = confusion_matrix(y_true, y_pred)\n",
    "    TN = CM[0][0]\n",
    "    FN = CM[1][0]\n",
    "    TP = CM[1][1]\n",
    "    FP = CM[0][1]\n",
    "    nilai=(TN/(FP+TN))\n",
    "    return nilai"
   ]
  },
  {
   "cell_type": "code",
   "execution_count": 10,
   "metadata": {
    "collapsed": true
   },
   "outputs": [],
   "source": [
    "def output_score(y_true, y_pred):\n",
    "    CM = confusion_matrix(y_true, y_pred)\n",
    "    TN = CM[0][0]\n",
    "    FN = CM[1][0]\n",
    "    TP = CM[1][1]\n",
    "    FP = CM[0][1]\n",
    "    specificity=(TN/(FP+TN))\n",
    "    sensitivity=(TP/(TP+FN))\n",
    "    accuracy=((TP+TN)/(TP+FP+TN+FN))\n",
    "    costBC=((-1*((228.35*FP)+(2850000*FN))))\n",
    "    return (specificity, sensitivity, accuracy, costBC)"
   ]
  },
  {
   "cell_type": "code",
   "execution_count": 11,
   "metadata": {
    "collapsed": false
   },
   "outputs": [],
   "source": [
    "my_custom_scorer=make_scorer(cost_breast_cancer, greater_is_better=True)\n",
    "score_specificity=make_scorer(specificity, greater_is_better=True)\n",
    "output_scoring=make_scorer(output_score, greater_is_better=True)"
   ]
  },
  {
   "cell_type": "code",
   "execution_count": 11,
   "metadata": {
    "collapsed": false
   },
   "outputs": [
    {
     "name": "stdout",
     "output_type": "stream",
     "text": [
      "Automatically created module for IPython interactive environment\n",
      "# Tuning hyper-parameters for make_scorer(cost_breast_cancer)\n",
      "\n",
      "Best parameters set found on development set:\n",
      "\n",
      "{'gamma': 0.125, 'kernel': 'rbf', 'C': 0.5}\n",
      "\n",
      "Grid scores on development set:\n",
      "\n",
      "-47329487.179 (+/-2784178.556) for {'gamma': 3.0517578125e-05, 'kernel': 'rbf', 'C': 0.03125}\n",
      "-47329487.179 (+/-2784178.556) for {'gamma': 0.0001220703125, 'kernel': 'rbf', 'C': 0.03125}\n",
      "-44771794.872 (+/-4444027.676) for {'gamma': 0.00048828125, 'kernel': 'rbf', 'C': 0.03125}\n",
      "-5164239.672 (+/-6631463.620) for {'gamma': 0.001953125, 'kernel': 'rbf', 'C': 0.03125}\n",
      "-1717536.042 (+/-2789393.112) for {'gamma': 0.0078125, 'kernel': 'rbf', 'C': 0.03125}\n",
      "-852976.889 (+/-2610192.197) for {'gamma': 0.03125, 'kernel': 'rbf', 'C': 0.03125}\n",
      "-641.137 (+/-860.823) for {'gamma': 0.125, 'kernel': 'rbf', 'C': 0.03125}\n",
      "-47329487.179 (+/-2784178.556) for {'gamma': 0.5, 'kernel': 'rbf', 'C': 0.03125}\n",
      "-47329487.179 (+/-2784178.556) for {'gamma': 2, 'kernel': 'rbf', 'C': 0.03125}\n",
      "-47329487.179 (+/-2784178.556) for {'gamma': 8, 'kernel': 'rbf', 'C': 0.03125}\n",
      "-47329487.179 (+/-2784178.556) for {'gamma': 3.0517578125e-05, 'kernel': 'rbf', 'C': 0.125}\n",
      "-41355448.718 (+/-7731077.592) for {'gamma': 0.0001220703125, 'kernel': 'rbf', 'C': 0.125}\n",
      "-5444367.877 (+/-7378615.825) for {'gamma': 0.00048828125, 'kernel': 'rbf', 'C': 0.125}\n",
      "-2283813.886 (+/-4252853.253) for {'gamma': 0.001953125, 'kernel': 'rbf', 'C': 0.125}\n",
      "-1145123.077 (+/-2794535.107) for {'gamma': 0.0078125, 'kernel': 'rbf', 'C': 0.125}\n",
      "-852931.024 (+/-2610154.097) for {'gamma': 0.03125, 'kernel': 'rbf', 'C': 0.125}\n",
      "-732.379 (+/-811.303) for {'gamma': 0.125, 'kernel': 'rbf', 'C': 0.125}\n",
      "-1186.639 (+/-733.105) for {'gamma': 0.5, 'kernel': 'rbf', 'C': 0.125}\n",
      "-47329487.179 (+/-2784178.556) for {'gamma': 2, 'kernel': 'rbf', 'C': 0.125}\n",
      "-47329487.179 (+/-2784178.556) for {'gamma': 8, 'kernel': 'rbf', 'C': 0.125}\n",
      "-41075320.513 (+/-8118548.696) for {'gamma': 3.0517578125e-05, 'kernel': 'rbf', 'C': 0.5}\n",
      "-5444367.877 (+/-7378615.825) for {'gamma': 0.0001220703125, 'kernel': 'rbf', 'C': 0.5}\n",
      "-2576121.579 (+/-4733000.928) for {'gamma': 0.00048828125, 'kernel': 'rbf', 'C': 0.5}\n",
      "-2003708.126 (+/-3648246.553) for {'gamma': 0.001953125, 'kernel': 'rbf', 'C': 0.5}\n",
      "-1145123.077 (+/-2794535.107) for {'gamma': 0.0078125, 'kernel': 'rbf', 'C': 0.5}\n",
      "-852907.603 (+/-2610184.689) for {'gamma': 0.03125, 'kernel': 'rbf', 'C': 0.5}\n",
      "-595.271 (+/-795.426) for {'gamma': 0.125, 'kernel': 'rbf', 'C': 0.5}\n",
      "-1302.766 (+/-795.328) for {'gamma': 0.5, 'kernel': 'rbf', 'C': 0.5}\n",
      "-47329487.179 (+/-2784178.556) for {'gamma': 2, 'kernel': 'rbf', 'C': 0.5}\n",
      "-47329487.179 (+/-2784178.556) for {'gamma': 8, 'kernel': 'rbf', 'C': 0.5}\n",
      "-5444367.877 (+/-7378615.825) for {'gamma': 3.0517578125e-05, 'kernel': 'rbf', 'C': 2}\n",
      "-2576121.579 (+/-4733000.928) for {'gamma': 0.0001220703125, 'kernel': 'rbf', 'C': 2}\n",
      "-2003708.126 (+/-3648246.553) for {'gamma': 0.00048828125, 'kernel': 'rbf', 'C': 2}\n",
      "-1431295.649 (+/-3827386.808) for {'gamma': 0.001953125, 'kernel': 'rbf', 'C': 2}\n",
      "-1139033.334 (+/-3784571.430) for {'gamma': 0.0078125, 'kernel': 'rbf', 'C': 2}\n",
      "-1437499.080 (+/-3845458.834) for {'gamma': 0.03125, 'kernel': 'rbf', 'C': 2}\n",
      "-572893.085 (+/-2283874.304) for {'gamma': 0.125, 'kernel': 'rbf', 'C': 2}\n",
      "-937.796 (+/-692.059) for {'gamma': 0.5, 'kernel': 'rbf', 'C': 2}\n",
      "-1735.558 (+/-622.068) for {'gamma': 2, 'kernel': 'rbf', 'C': 2}\n",
      "-2948.057 (+/-689.987) for {'gamma': 8, 'kernel': 'rbf', 'C': 2}\n",
      "-2576121.579 (+/-4733000.928) for {'gamma': 3.0517578125e-05, 'kernel': 'rbf', 'C': 8}\n",
      "-2003708.126 (+/-3648246.553) for {'gamma': 0.0001220703125, 'kernel': 'rbf', 'C': 8}\n",
      "-1711423.854 (+/-4550640.464) for {'gamma': 0.00048828125, 'kernel': 'rbf', 'C': 8}\n",
      "-1419138.606 (+/-4586623.309) for {'gamma': 0.001953125, 'kernel': 'rbf', 'C': 8}\n",
      "-2015955.923 (+/-4462935.579) for {'gamma': 0.0078125, 'kernel': 'rbf', 'C': 8}\n",
      "-2862544.457 (+/-4409070.456) for {'gamma': 0.03125, 'kernel': 'rbf', 'C': 8}\n",
      "-572893.085 (+/-2283874.304) for {'gamma': 0.125, 'kernel': 'rbf', 'C': 8}\n",
      "-937.796 (+/-692.059) for {'gamma': 0.5, 'kernel': 'rbf', 'C': 8}\n",
      "-1735.558 (+/-622.068) for {'gamma': 2, 'kernel': 'rbf', 'C': 8}\n",
      "-2948.057 (+/-689.987) for {'gamma': 8, 'kernel': 'rbf', 'C': 8}\n",
      "-2003708.126 (+/-3648246.553) for {'gamma': 3.0517578125e-05, 'kernel': 'rbf', 'C': 32}\n",
      "-1711423.854 (+/-4550640.464) for {'gamma': 0.0001220703125, 'kernel': 'rbf', 'C': 32}\n",
      "-1419138.606 (+/-4586623.309) for {'gamma': 0.00048828125, 'kernel': 'rbf', 'C': 32}\n",
      "-1431341.026 (+/-3827455.551) for {'gamma': 0.001953125, 'kernel': 'rbf', 'C': 32}\n",
      "-2582324.521 (+/-5937756.087) for {'gamma': 0.0078125, 'kernel': 'rbf', 'C': 32}\n",
      "-3148762.406 (+/-4727417.044) for {'gamma': 0.03125, 'kernel': 'rbf', 'C': 32}\n",
      "-572893.085 (+/-2283874.304) for {'gamma': 0.125, 'kernel': 'rbf', 'C': 32}\n",
      "-937.796 (+/-692.059) for {'gamma': 0.5, 'kernel': 'rbf', 'C': 32}\n",
      "-1735.558 (+/-622.068) for {'gamma': 2, 'kernel': 'rbf', 'C': 32}\n",
      "-2948.057 (+/-689.987) for {'gamma': 8, 'kernel': 'rbf', 'C': 32}\n",
      "-1711423.854 (+/-4550640.464) for {'gamma': 3.0517578125e-05, 'kernel': 'rbf', 'C': 128}\n",
      "-1419116.162 (+/-4586539.508) for {'gamma': 0.0001220703125, 'kernel': 'rbf', 'C': 128}\n",
      "-1419138.606 (+/-4586623.309) for {'gamma': 0.00048828125, 'kernel': 'rbf', 'C': 128}\n",
      "-2576212.333 (+/-5930966.737) for {'gamma': 0.001953125, 'kernel': 'rbf', 'C': 128}\n",
      "-4007393.319 (+/-5790027.281) for {'gamma': 0.0078125, 'kernel': 'rbf', 'C': 128}\n",
      "-3148762.406 (+/-4727417.044) for {'gamma': 0.03125, 'kernel': 'rbf', 'C': 128}\n",
      "-572893.085 (+/-2283874.304) for {'gamma': 0.125, 'kernel': 'rbf', 'C': 128}\n",
      "-937.796 (+/-692.059) for {'gamma': 0.5, 'kernel': 'rbf', 'C': 128}\n",
      "-1735.558 (+/-622.068) for {'gamma': 2, 'kernel': 'rbf', 'C': 128}\n",
      "-2948.057 (+/-689.987) for {'gamma': 8, 'kernel': 'rbf', 'C': 128}\n",
      "-1711423.854 (+/-4550640.464) for {'gamma': 3.0517578125e-05, 'kernel': 'rbf', 'C': 512}\n",
      "-1419138.606 (+/-4586623.309) for {'gamma': 0.0001220703125, 'kernel': 'rbf', 'C': 512}\n",
      "-1711469.231 (+/-4550743.335) for {'gamma': 0.00048828125, 'kernel': 'rbf', 'C': 512}\n",
      "-3715063.670 (+/-5115312.477) for {'gamma': 0.001953125, 'kernel': 'rbf', 'C': 512}\n",
      "-4853867.678 (+/-5121088.269) for {'gamma': 0.0078125, 'kernel': 'rbf', 'C': 512}\n",
      "-3148762.406 (+/-4727417.044) for {'gamma': 0.03125, 'kernel': 'rbf', 'C': 512}\n",
      "-572893.085 (+/-2283874.304) for {'gamma': 0.125, 'kernel': 'rbf', 'C': 512}\n",
      "-937.796 (+/-692.059) for {'gamma': 0.5, 'kernel': 'rbf', 'C': 512}\n",
      "-1735.558 (+/-622.068) for {'gamma': 2, 'kernel': 'rbf', 'C': 512}\n",
      "-2948.057 (+/-689.987) for {'gamma': 8, 'kernel': 'rbf', 'C': 512}\n",
      "-1711446.299 (+/-4550719.160) for {'gamma': 3.0517578125e-05, 'kernel': 'rbf', 'C': 2048}\n",
      "-1419138.606 (+/-4586623.309) for {'gamma': 0.0001220703125, 'kernel': 'rbf', 'C': 2048}\n",
      "-2862430.282 (+/-6224065.762) for {'gamma': 0.00048828125, 'kernel': 'rbf', 'C': 2048}\n",
      "-4555447.798 (+/-4551929.341) for {'gamma': 0.001953125, 'kernel': 'rbf', 'C': 2048}\n",
      "-4853867.678 (+/-5121088.269) for {'gamma': 0.0078125, 'kernel': 'rbf', 'C': 2048}\n",
      "-3148762.406 (+/-4727417.044) for {'gamma': 0.03125, 'kernel': 'rbf', 'C': 2048}\n",
      "-572893.085 (+/-2283874.304) for {'gamma': 0.125, 'kernel': 'rbf', 'C': 2048}\n",
      "-937.796 (+/-692.059) for {'gamma': 0.5, 'kernel': 'rbf', 'C': 2048}\n",
      "-1735.558 (+/-622.068) for {'gamma': 2, 'kernel': 'rbf', 'C': 2048}\n",
      "-2948.057 (+/-689.987) for {'gamma': 8, 'kernel': 'rbf', 'C': 2048}\n",
      "-1711468.743 (+/-4550797.858) for {'gamma': 3.0517578125e-05, 'kernel': 'rbf', 'C': 8192}\n",
      "-1711469.231 (+/-4550743.335) for {'gamma': 0.0001220703125, 'kernel': 'rbf', 'C': 8192}\n",
      "-4281386.403 (+/-5236620.838) for {'gamma': 0.00048828125, 'kernel': 'rbf', 'C': 8192}\n",
      "-5688163.038 (+/-6224027.522) for {'gamma': 0.001953125, 'kernel': 'rbf', 'C': 8192}\n",
      "-4853867.678 (+/-5121088.269) for {'gamma': 0.0078125, 'kernel': 'rbf', 'C': 8192}\n",
      "-3148762.406 (+/-4727417.044) for {'gamma': 0.03125, 'kernel': 'rbf', 'C': 8192}\n",
      "-572893.085 (+/-2283874.304) for {'gamma': 0.125, 'kernel': 'rbf', 'C': 8192}\n",
      "-937.796 (+/-692.059) for {'gamma': 0.5, 'kernel': 'rbf', 'C': 8192}\n",
      "-1735.558 (+/-622.068) for {'gamma': 2, 'kernel': 'rbf', 'C': 8192}\n",
      "-2948.057 (+/-689.987) for {'gamma': 8, 'kernel': 'rbf', 'C': 8192}\n",
      "-1711446.299 (+/-4550777.830) for {'gamma': 3.0517578125e-05, 'kernel': 'rbf', 'C': 32768}\n",
      "-2862430.282 (+/-6224065.762) for {'gamma': 0.0001220703125, 'kernel': 'rbf', 'C': 32768}\n",
      "-5682073.294 (+/-7613535.826) for {'gamma': 0.00048828125, 'kernel': 'rbf', 'C': 32768}\n",
      "-5408012.388 (+/-5368065.955) for {'gamma': 0.001953125, 'kernel': 'rbf', 'C': 32768}\n",
      "-4853867.678 (+/-5121088.269) for {'gamma': 0.0078125, 'kernel': 'rbf', 'C': 32768}\n",
      "-3148762.406 (+/-4727417.044) for {'gamma': 0.03125, 'kernel': 'rbf', 'C': 32768}\n",
      "-572893.085 (+/-2283874.304) for {'gamma': 0.125, 'kernel': 'rbf', 'C': 32768}\n",
      "-937.796 (+/-692.059) for {'gamma': 0.5, 'kernel': 'rbf', 'C': 32768}\n",
      "-1735.558 (+/-622.068) for {'gamma': 2, 'kernel': 'rbf', 'C': 32768}\n",
      "-2948.057 (+/-689.987) for {'gamma': 8, 'kernel': 'rbf', 'C': 32768}\n",
      "\n"
     ]
    }
   ],
   "source": [
    "print(__doc__)\n",
    "\n",
    "tuned_parameters = [{'kernel': ['rbf'], 'gamma': gamma_range,\n",
    "                     'C': C_range},]\n",
    "\n",
    "scores = [my_custom_scorer]\n",
    "\n",
    "for score in scores:\n",
    "    print(\"# Tuning hyper-parameters for %s\" % score)\n",
    "    print()\n",
    "\n",
    "    clf2 = GridSearchCV(svc, tuned_parameters, cv=10,\n",
    "                       scoring=my_custom_scorer)\n",
    "    clf2.fit(X_train, y_train)\n",
    "\n",
    "    print(\"Best parameters set found on development set:\")\n",
    "    print()\n",
    "    print(clf2.best_params_)\n",
    "    print()\n",
    "    print(\"Grid scores on development set:\")\n",
    "    print()\n",
    "    means = clf2.cv_results_['mean_test_score']\n",
    "    stds = clf2.cv_results_['std_test_score']\n",
    "    for mean, std, params in zip(means, stds, clf2.cv_results_['params']):\n",
    "        print(\"%0.3f (+/-%0.03f) for %r\"\n",
    "              % (mean, std * 2, params))\n",
    "    print()\n"
   ]
  },
  {
   "cell_type": "code",
   "execution_count": 12,
   "metadata": {
    "collapsed": false
   },
   "outputs": [
    {
     "name": "stdout",
     "output_type": "stream",
     "text": [
      "Best score cost obtained: -595.2713675213676\n",
      "Parameters:\n",
      "\tgamma: 0.125\n",
      "\tkernel: rbf\n",
      "\tC: 0.5\n"
     ]
    }
   ],
   "source": [
    "print(\"Best score cost obtained: {0}\".format(clf2.best_score_))\n",
    "print(\"Parameters:\")\n",
    "for key, value in clf2.best_params_.items():\n",
    "    print(\"\\t{}: {}\".format(key, value))"
   ]
  },
  {
   "cell_type": "code",
   "execution_count": 13,
   "metadata": {
    "collapsed": false
   },
   "outputs": [
    {
     "data": {
      "text/plain": [
       "SVC(C=0.5, cache_size=200, class_weight=None, coef0=0.0,\n",
       "  decision_function_shape=None, degree=3, gamma=0.125, kernel='rbf',\n",
       "  max_iter=-1, probability=False, random_state=None, shrinking=True,\n",
       "  tol=0.001, verbose=False)"
      ]
     },
     "execution_count": 13,
     "metadata": {},
     "output_type": "execute_result"
    }
   ],
   "source": [
    "clf2.best_estimator_"
   ]
  },
  {
   "cell_type": "code",
   "execution_count": 12,
   "metadata": {
    "collapsed": true
   },
   "outputs": [],
   "source": [
    "bestSVC=SVC(C=0.5, cache_size=200, class_weight=None, coef0=0.0,\n",
    "  decision_function_shape=None, degree=3, gamma=0.125, kernel='rbf',\n",
    "  max_iter=-1, probability=True, random_state=None, shrinking=True,\n",
    "  tol=0.001, verbose=False)"
   ]
  },
  {
   "cell_type": "code",
   "execution_count": 13,
   "metadata": {
    "collapsed": false
   },
   "outputs": [
    {
     "data": {
      "text/plain": [
       "SVC(C=0.5, cache_size=200, class_weight=None, coef0=0.0,\n",
       "  decision_function_shape=None, degree=3, gamma=0.125, kernel='rbf',\n",
       "  max_iter=-1, probability=True, random_state=None, shrinking=True,\n",
       "  tol=0.001, verbose=False)"
      ]
     },
     "execution_count": 13,
     "metadata": {},
     "output_type": "execute_result"
    }
   ],
   "source": [
    "bestSVC.fit(X_train, y_train)"
   ]
  },
  {
   "cell_type": "code",
   "execution_count": 16,
   "metadata": {
    "collapsed": true
   },
   "outputs": [],
   "source": [
    "scores1=cross_val_score(bestSVC,X_train,y_train,cv=10,scoring=score_specificity)"
   ]
  },
  {
   "cell_type": "code",
   "execution_count": 17,
   "metadata": {
    "collapsed": false
   },
   "outputs": [
    {
     "name": "stdout",
     "output_type": "stream",
     "text": [
      "Score cost: 0.9139 (+/- 0.1163)\n"
     ]
    }
   ],
   "source": [
    "print(\"Score cost: %0.4f (+/- %0.4f)\" % (scores1.mean(), scores1.std() * 2))"
   ]
  },
  {
   "cell_type": "code",
   "execution_count": 18,
   "metadata": {
    "collapsed": true
   },
   "outputs": [],
   "source": [
    "scores2=cross_val_score(bestSVC,X_train,y_train,cv=10,scoring=my_custom_scorer)"
   ]
  },
  {
   "cell_type": "code",
   "execution_count": 19,
   "metadata": {
    "collapsed": false
   },
   "outputs": [
    {
     "name": "stdout",
     "output_type": "stream",
     "text": [
      "Score cost: -593.7100 (+/- 796.2837)\n"
     ]
    }
   ],
   "source": [
    "print(\"Score cost: %0.4f (+/- %0.4f)\" % (scores2.mean(), scores2.std() * 2))"
   ]
  },
  {
   "cell_type": "code",
   "execution_count": 20,
   "metadata": {
    "collapsed": true
   },
   "outputs": [],
   "source": [
    "scores3=cross_val_score(bestSVC,X_train,y_train,cv=10,scoring='recall')"
   ]
  },
  {
   "cell_type": "code",
   "execution_count": 21,
   "metadata": {
    "collapsed": false
   },
   "outputs": [
    {
     "name": "stdout",
     "output_type": "stream",
     "text": [
      "Score cost: 1.0000 (+/- 0.0000)\n"
     ]
    }
   ],
   "source": [
    "print(\"Score cost: %0.4f (+/- %0.4f)\" % (scores3.mean(), scores3.std() * 2))"
   ]
  },
  {
   "cell_type": "code",
   "execution_count": 22,
   "metadata": {
    "collapsed": true
   },
   "outputs": [],
   "source": [
    "scores4=cross_val_score(bestSVC,X_train,y_train,cv=10,scoring='accuracy')"
   ]
  },
  {
   "cell_type": "code",
   "execution_count": 23,
   "metadata": {
    "collapsed": false
   },
   "outputs": [
    {
     "name": "stdout",
     "output_type": "stream",
     "text": [
      "Score cost: 0.9446 (+/- 0.0743)\n"
     ]
    }
   ],
   "source": [
    "print(\"Score cost: %0.4f (+/- %0.4f)\" % (scores4.mean(), scores4.std() * 2))"
   ]
  },
  {
   "cell_type": "code",
   "execution_count": 18,
   "metadata": {
    "collapsed": false
   },
   "outputs": [
    {
     "name": "stdout",
     "output_type": "stream",
     "text": [
      "             precision    recall  f1-score   support\n",
      "\n",
      "          0       0.99      0.94      0.96       156\n",
      "          1       0.88      0.99      0.93        75\n",
      "\n",
      "avg / total       0.96      0.95      0.95       231\n",
      "\n",
      "Akurasi: 0.9524\n",
      "Sfecificity: 0.9359\n",
      "Recall: 0.9867\n"
     ]
    },
    {
     "data": {
      "text/plain": [
       "(0.9358974358974359, 0.98666666666666669, 0.95238095238095233, -2852283.5)"
      ]
     },
     "execution_count": 18,
     "metadata": {},
     "output_type": "execute_result"
    }
   ],
   "source": [
    "y_predSVM = bestSVC.predict(X_test)\n",
    "accuracy = accuracy_score(y_test, y_predSVM)\n",
    "precision, recall, f1, _ = precision_recall_fscore_support(y_test, y_predSVM)\n",
    "print(classification_report(y_test, y_predSVM))\n",
    "print (('Akurasi: %.4f') % (accuracy))\n",
    "print (('Sfecificity: %.4f') % (specificity(y_test, y_predSVM)))\n",
    "print (('Recall: %.4f') % (recall[1]))\n",
    "output_score(y_test, y_predSVM)"
   ]
  },
  {
   "cell_type": "code",
   "execution_count": 19,
   "metadata": {
    "collapsed": false
   },
   "outputs": [
    {
     "data": {
      "text/plain": [
       "array([[146,  10],\n",
       "       [  1,  74]])"
      ]
     },
     "execution_count": 19,
     "metadata": {},
     "output_type": "execute_result"
    }
   ],
   "source": [
    "confusion_matrix(y_test, y_predSVM)"
   ]
  },
  {
   "cell_type": "code",
   "execution_count": null,
   "metadata": {
    "collapsed": true
   },
   "outputs": [],
   "source": []
  },
  {
   "cell_type": "code",
   "execution_count": 12,
   "metadata": {
    "collapsed": false
   },
   "outputs": [
    {
     "name": "stderr",
     "output_type": "stream",
     "text": [
      "c:\\users\\annisa\\anaconda3\\envs\\py35\\lib\\site-packages\\sklearn\\cross_validation.py:44: DeprecationWarning: This module was deprecated in version 0.18 in favor of the model_selection module into which all the refactored classes and functions are moved. Also note that the interface of the new CV iterators are different from that of this module. This module will be removed in 0.20.\n",
      "  \"This module will be removed in 0.20.\", DeprecationWarning)\n"
     ]
    }
   ],
   "source": [
    "from xgboost import XGBClassifier"
   ]
  },
  {
   "cell_type": "code",
   "execution_count": 13,
   "metadata": {
    "collapsed": true
   },
   "outputs": [],
   "source": [
    "from sklearn.model_selection import RandomizedSearchCV"
   ]
  },
  {
   "cell_type": "code",
   "execution_count": 14,
   "metadata": {
    "collapsed": true
   },
   "outputs": [],
   "source": [
    "from sklearn.cross_validation import StratifiedKFold"
   ]
  },
  {
   "cell_type": "code",
   "execution_count": 15,
   "metadata": {
    "collapsed": true
   },
   "outputs": [],
   "source": [
    "cv = StratifiedKFold(y_train, n_folds=10, shuffle=True, random_state=RAND_SEED_SPLIT)"
   ]
  },
  {
   "cell_type": "code",
   "execution_count": 16,
   "metadata": {
    "collapsed": true
   },
   "outputs": [],
   "source": [
    "classifier = XGBClassifier()"
   ]
  },
  {
   "cell_type": "code",
   "execution_count": 21,
   "metadata": {
    "collapsed": false
   },
   "outputs": [
    {
     "name": "stdout",
     "output_type": "stream",
     "text": [
      "Automatically created module for IPython interactive environment\n",
      "# Tuning hyper-parameters for make_scorer(cost_breast_cancer)\n",
      "\n",
      "Best parameters set found on development set:\n",
      "\n",
      "{'reg_alpha': 10.0, 'reg_lambda': 0.005, 'subsample': 0.9, 'n_estimators': 50, 'colsample_bytree': 0.5}\n",
      "\n",
      "Grid scores on development set:\n",
      "\n",
      "-1997664.247 (+/-4457001.748) for {'reg_alpha': 10.0, 'reg_lambda': 0.01, 'subsample': 0.6, 'n_estimators': 30, 'colsample_bytree': 0.9}\n",
      "-2003731.058 (+/-5734915.627) for {'reg_alpha': 5.0, 'reg_lambda': 0.0, 'subsample': 0.6, 'n_estimators': 50, 'colsample_bytree': 0.6}\n",
      "-858859.264 (+/-2615273.340) for {'reg_alpha': 10.0, 'reg_lambda': 0.005, 'subsample': 0.9, 'n_estimators': 50, 'colsample_bytree': 0.5}\n",
      "-2283882.196 (+/-4269184.760) for {'reg_alpha': 0.01, 'reg_lambda': 0.01, 'subsample': 0.9, 'n_estimators': 50, 'colsample_bytree': 0.7}\n",
      "-1717513.110 (+/-3782571.063) for {'reg_alpha': 0.0, 'reg_lambda': 0.5, 'subsample': 0.7, 'n_estimators': 30, 'colsample_bytree': 0.9}\n",
      "-1431295.161 (+/-3827455.832) for {'reg_alpha': 1.0, 'reg_lambda': 5.0, 'subsample': 0.7, 'n_estimators': 30, 'colsample_bytree': 0.7}\n",
      "-1151166.956 (+/-3788024.126) for {'reg_alpha': 0.1, 'reg_lambda': 0.1, 'subsample': 0.5, 'n_estimators': 20, 'colsample_bytree': 0.7}\n",
      "-1723626.274 (+/-5229264.338) for {'reg_alpha': 0.1, 'reg_lambda': 0.005, 'subsample': 0.7, 'n_estimators': 20, 'colsample_bytree': 0.9}\n",
      "-1717490.177 (+/-5230449.874) for {'reg_alpha': 0.001, 'reg_lambda': 1.0, 'subsample': 0.7, 'n_estimators': 20, 'colsample_bytree': 0.8}\n",
      "-2564033.334 (+/-3075960.888) for {'reg_alpha': 0.5, 'reg_lambda': 0.001, 'subsample': 0.6, 'n_estimators': 10, 'colsample_bytree': 1.0}\n",
      "\n"
     ]
    }
   ],
   "source": [
    "print(__doc__)\n",
    "\n",
    "# Set the parameters by cross-validation\n",
    "tuned_parameters ={'n_estimators': [10,20,30,50],\n",
    "                    'subsample': [0.5, 0.6, 0.7, 0.8, 0.9, 1.],\n",
    "                    'colsample_bytree': [0.5, 0.6, 0.7, 0.8, 0.9, 1.],\n",
    "                    'reg_alpha': [0., 0.001, 0.005, 0.01, 0.05, 0.1, 0.5, 1., 5., 10.],\n",
    "                    'reg_lambda': [0., 0.001, 0.005, 0.01, 0.05, 0.1, 0.5, 1., 5., 10.]\n",
    "                   }    \n",
    "\n",
    "                  \n",
    "params_fixed = {\n",
    "    'objective': 'binary:logistic',\n",
    "    'silent': 1\n",
    "}\n",
    "scores = [my_custom_scorer]\n",
    "\n",
    "for score in scores:\n",
    "    print(\"# Tuning hyper-parameters for %s\" % score)\n",
    "    print()\n",
    "\n",
    "    clf = RandomizedSearchCV(estimator=XGBClassifier(**params_fixed, seed=RAND_SEED_TUNING),\n",
    "    param_distributions=tuned_parameters, cv=cv, scoring=my_custom_scorer)\n",
    "    clf.fit(X_train, y_train)\n",
    "\n",
    "    print(\"Best parameters set found on development set:\")\n",
    "    print()\n",
    "    print(clf.best_params_)\n",
    "    print()\n",
    "    print(\"Grid scores on development set:\")\n",
    "    print()\n",
    "    means = clf.cv_results_['mean_test_score']\n",
    "    stds = clf.cv_results_['std_test_score']\n",
    "    for mean, std, params in zip(means, stds, clf.cv_results_['params']):\n",
    "        print(\"%0.3f (+/-%0.03f) for %r\"\n",
    "              % (mean, std * 2, params))\n",
    "    print()"
   ]
  },
  {
   "cell_type": "code",
   "execution_count": 22,
   "metadata": {
    "collapsed": false
   },
   "outputs": [
    {
     "name": "stdout",
     "output_type": "stream",
     "text": [
      "Best score cost obtained: -858859.2635683761\n",
      "Parameters:\n",
      "\treg_alpha: 10.0\n",
      "\treg_lambda: 0.005\n",
      "\tsubsample: 0.9\n",
      "\tn_estimators: 50\n",
      "\tcolsample_bytree: 0.5\n"
     ]
    }
   ],
   "source": [
    "print(\"Best score cost obtained: {0}\".format(clf.best_score_))\n",
    "print(\"Parameters:\")\n",
    "for key, value in clf.best_params_.items():\n",
    "    print(\"\\t{}: {}\".format(key, value))"
   ]
  },
  {
   "cell_type": "code",
   "execution_count": 23,
   "metadata": {
    "collapsed": false
   },
   "outputs": [
    {
     "data": {
      "text/plain": [
       "XGBClassifier(base_score=0.5, colsample_bylevel=1, colsample_bytree=0.5,\n",
       "       gamma=0, learning_rate=0.1, max_delta_step=0, max_depth=3,\n",
       "       min_child_weight=1, missing=None, n_estimators=50, nthread=-1,\n",
       "       objective='binary:logistic', reg_alpha=10.0, reg_lambda=0.005,\n",
       "       scale_pos_weight=1, seed=84, silent=1, subsample=0.9)"
      ]
     },
     "execution_count": 23,
     "metadata": {},
     "output_type": "execute_result"
    }
   ],
   "source": [
    "clf.best_estimator_"
   ]
  },
  {
   "cell_type": "code",
   "execution_count": 17,
   "metadata": {
    "collapsed": true
   },
   "outputs": [],
   "source": [
    "bestXGB=XGBClassifier(base_score=0.5, colsample_bylevel=1, colsample_bytree=0.5,\n",
    "       gamma=0, learning_rate=0.1, max_delta_step=0, max_depth=3,\n",
    "       min_child_weight=1, missing=None, n_estimators=50, nthread=-1,\n",
    "       objective='binary:logistic', reg_alpha=10.0, reg_lambda=0.005,\n",
    "       scale_pos_weight=1, seed=84, silent=1, subsample=0.9)"
   ]
  },
  {
   "cell_type": "code",
   "execution_count": 18,
   "metadata": {
    "collapsed": false
   },
   "outputs": [
    {
     "data": {
      "text/plain": [
       "XGBClassifier(base_score=0.5, colsample_bylevel=1, colsample_bytree=0.5,\n",
       "       gamma=0, learning_rate=0.1, max_delta_step=0, max_depth=3,\n",
       "       min_child_weight=1, missing=None, n_estimators=50, nthread=-1,\n",
       "       objective='binary:logistic', reg_alpha=10.0, reg_lambda=0.005,\n",
       "       scale_pos_weight=1, seed=84, silent=1, subsample=0.9)"
      ]
     },
     "execution_count": 18,
     "metadata": {},
     "output_type": "execute_result"
    }
   ],
   "source": [
    "bestXGB.fit(X_train, y_train)"
   ]
  },
  {
   "cell_type": "code",
   "execution_count": 19,
   "metadata": {
    "collapsed": true
   },
   "outputs": [],
   "source": [
    "from xgboost import plot_importance"
   ]
  },
  {
   "cell_type": "code",
   "execution_count": 20,
   "metadata": {
    "collapsed": true
   },
   "outputs": [],
   "source": [
    "from matplotlib import pyplot"
   ]
  },
  {
   "cell_type": "code",
   "execution_count": 21,
   "metadata": {
    "collapsed": false,
    "scrolled": true
   },
   "outputs": [
    {
     "data": {
      "image/png": "[encoded data removed]",
      "text/plain": [
       "<matplotlib.figure.Figure at 0xa2fad68>"
      ]
     },
     "metadata": {},
     "output_type": "display_data"
    }
   ],
   "source": [
    "plot_importance(bestXGB, importance_type='gain')\n",
    "pyplot.show()"
   ]
  },
  {
   "cell_type": "code",
   "execution_count": 22,
   "metadata": {
    "collapsed": false
   },
   "outputs": [],
   "source": [
    "from xgboost import plot_tree"
   ]
  },
  {
   "cell_type": "code",
   "execution_count": 23,
   "metadata": {
    "collapsed": false
   },
   "outputs": [
    {
     "data": {
      "image/png": "[encoded data removed]",
      "text/plain": [
       "<matplotlib.figure.Figure at 0xa71fac8>"
      ]
     },
     "metadata": {},
     "output_type": "display_data"
    }
   ],
   "source": [
    "plot_importance(bestXGB)\n",
    "pyplot.show()"
   ]
  },
  {
   "cell_type": "code",
   "execution_count": 48,
   "metadata": {
    "collapsed": false
   },
   "outputs": [
    {
     "data": {
      "image/png": "[encoded data removed]",
      "text/plain": [
       "<matplotlib.figure.Figure at 0xaae59e8>"
      ]
     },
     "metadata": {},
     "output_type": "display_data"
    }
   ],
   "source": [
    "import graphviz\n",
    "plot_tree(bestXGB, num_trees=0, rankdir='LR')\n",
    "pyplot.show()"
   ]
  },
  {
   "cell_type": "code",
   "execution_count": 49,
   "metadata": {
    "collapsed": false
   },
   "outputs": [
    {
     "data": {
      "image/svg+xml": [
       "<?xml version=\"1.0\" encoding=\"UTF-8\" standalone=\"no\"?>\r\n",
       "<!DOCTYPE svg PUBLIC \"-//W3C//DTD SVG 1.1//EN\"\r\n",
       " \"http://www.w3.org/Graphics/SVG/1.1/DTD/svg11.dtd\">\r\n",
       "<!-- Generated by graphviz version 2.38.0 (20140413.2041)\r\n",
       " -->\r\n",
       "<!-- Title: %3 Pages: 1 -->\r\n",
       "<svg width=\"592pt\" height=\"350pt\"\r\n",
       " viewBox=\"0.00 0.00 592.48 350.49\" xmlns=\"http://www.w3.org/2000/svg\" xmlns:xlink=\"http://www.w3.org/1999/xlink\">\r\n",
       "<g id=\"graph0\" class=\"graph\" transform=\"scale(1 1) rotate(0) translate(4 346.486)\">\r\n",
       "<title>%3</title>\r\n",
       "<polygon fill=\"white\" stroke=\"none\" points=\"-4,4 -4,-346.486 588.475,-346.486 588.475,4 -4,4\"/>\r\n",
       "<!-- 0 -->\r\n",
       "<g id=\"node1\" class=\"node\"><title>0</title>\r\n",
       "<ellipse fill=\"none\" stroke=\"black\" cx=\"58.4948\" cy=\"-188.243\" rx=\"58.4896\" ry=\"58.4896\"/>\r\n",
       "<text text-anchor=\"middle\" x=\"58.4948\" y=\"-184.543\" font-family=\"Times New Roman,serif\" font-size=\"14.00\">cell_shape&lt;3</text>\r\n",
       "</g>\r\n",
       "<!-- 1 -->\r\n",
       "<g id=\"node2\" class=\"node\"><title>1</title>\r\n",
       "<ellipse fill=\"none\" stroke=\"black\" cx=\"303.232\" cy=\"-261.243\" rx=\"81.4863\" ry=\"81.4863\"/>\r\n",
       "<text text-anchor=\"middle\" x=\"303.232\" y=\"-257.543\" font-family=\"Times New Roman,serif\" font-size=\"14.00\">bland_chromatin&lt;4</text>\r\n",
       "</g>\r\n",
       "<!-- 0&#45;&gt;1 -->\r\n",
       "<g id=\"edge1\" class=\"edge\"><title>0&#45;&gt;1</title>\r\n",
       "<path fill=\"none\" stroke=\"#0000ff\" d=\"M114.879,-204.899C144.553,-213.823 181.787,-225.02 215.227,-235.077\"/>\r\n",
       "<polygon fill=\"#0000ff\" stroke=\"#0000ff\" points=\"214.424,-238.49 225.008,-238.019 216.44,-231.787 214.424,-238.49\"/>\r\n",
       "<text text-anchor=\"middle\" x=\"169.49\" y=\"-235.043\" font-family=\"Times New Roman,serif\" font-size=\"14.00\">yes, missing</text>\r\n",
       "</g>\r\n",
       "<!-- 2 -->\r\n",
       "<g id=\"node3\" class=\"node\"><title>2</title>\r\n",
       "<ellipse fill=\"none\" stroke=\"black\" cx=\"303.232\" cy=\"-81.2428\" rx=\"81.4863\" ry=\"81.4863\"/>\r\n",
       "<text text-anchor=\"middle\" x=\"303.232\" y=\"-77.5428\" font-family=\"Times New Roman,serif\" font-size=\"14.00\">bland_chromatin&lt;3</text>\r\n",
       "</g>\r\n",
       "<!-- 0&#45;&gt;2 -->\r\n",
       "<g id=\"edge2\" class=\"edge\"><title>0&#45;&gt;2</title>\r\n",
       "<path fill=\"none\" stroke=\"#ff0000\" d=\"M112.465,-164.893C143.71,-151.12 183.935,-133.389 219.304,-117.798\"/>\r\n",
       "<polygon fill=\"#ff0000\" stroke=\"#ff0000\" points=\"220.921,-120.91 228.659,-113.674 218.097,-114.505 220.921,-120.91\"/>\r\n",
       "<text text-anchor=\"middle\" x=\"169.49\" y=\"-157.043\" font-family=\"Times New Roman,serif\" font-size=\"14.00\">no</text>\r\n",
       "</g>\r\n",
       "<!-- 3 -->\r\n",
       "<g id=\"node4\" class=\"node\"><title>3</title>\r\n",
       "<polygon fill=\"none\" stroke=\"black\" points=\"583.475,-306.243 490.475,-306.243 490.475,-270.243 583.475,-270.243 583.475,-306.243\"/>\r\n",
       "<text text-anchor=\"middle\" x=\"536.975\" y=\"-284.543\" font-family=\"Times New Roman,serif\" font-size=\"14.00\">leaf=&#45;0.18289</text>\r\n",
       "</g>\r\n",
       "<!-- 1&#45;&gt;3 -->\r\n",
       "<g id=\"edge3\" class=\"edge\"><title>1&#45;&gt;3</title>\r\n",
       "<path fill=\"none\" stroke=\"#0000ff\" d=\"M383.985,-270.535C415.586,-274.216 451.169,-278.362 479.957,-281.716\"/>\r\n",
       "<polygon fill=\"#0000ff\" stroke=\"#0000ff\" points=\"479.898,-285.233 490.236,-282.914 480.708,-278.28 479.898,-285.233\"/>\r\n",
       "<text text-anchor=\"middle\" x=\"436.975\" y=\"-284.043\" font-family=\"Times New Roman,serif\" font-size=\"14.00\">yes, missing</text>\r\n",
       "</g>\r\n",
       "<!-- 4 -->\r\n",
       "<g id=\"node5\" class=\"node\"><title>4</title>\r\n",
       "<polygon fill=\"none\" stroke=\"black\" points=\"564.975,-252.243 508.975,-252.243 508.975,-216.243 564.975,-216.243 564.975,-252.243\"/>\r\n",
       "<text text-anchor=\"middle\" x=\"536.975\" y=\"-230.543\" font-family=\"Times New Roman,serif\" font-size=\"14.00\">leaf=&#45;0</text>\r\n",
       "</g>\r\n",
       "<!-- 1&#45;&gt;4 -->\r\n",
       "<g id=\"edge4\" class=\"edge\"><title>1&#45;&gt;4</title>\r\n",
       "<path fill=\"none\" stroke=\"#ff0000\" d=\"M383.985,-251.951C422.869,-247.421 467.781,-242.188 498.646,-238.592\"/>\r\n",
       "<polygon fill=\"#ff0000\" stroke=\"#ff0000\" points=\"499.417,-242.026 508.945,-237.392 498.607,-235.073 499.417,-242.026\"/>\r\n",
       "<text text-anchor=\"middle\" x=\"436.975\" y=\"-253.043\" font-family=\"Times New Roman,serif\" font-size=\"14.00\">no</text>\r\n",
       "</g>\r\n",
       "<!-- 5 -->\r\n",
       "<g id=\"node6\" class=\"node\"><title>5</title>\r\n",
       "<polygon fill=\"none\" stroke=\"black\" points=\"564.975,-126.243 508.975,-126.243 508.975,-90.2428 564.975,-90.2428 564.975,-126.243\"/>\r\n",
       "<text text-anchor=\"middle\" x=\"536.975\" y=\"-104.543\" font-family=\"Times New Roman,serif\" font-size=\"14.00\">leaf=&#45;0</text>\r\n",
       "</g>\r\n",
       "<!-- 2&#45;&gt;5 -->\r\n",
       "<g id=\"edge5\" class=\"edge\"><title>2&#45;&gt;5</title>\r\n",
       "<path fill=\"none\" stroke=\"#0000ff\" d=\"M383.985,-90.5347C422.869,-95.0649 467.781,-100.298 498.646,-103.894\"/>\r\n",
       "<polygon fill=\"#0000ff\" stroke=\"#0000ff\" points=\"498.607,-107.413 508.945,-105.094 499.417,-100.46 498.607,-107.413\"/>\r\n",
       "<text text-anchor=\"middle\" x=\"436.975\" y=\"-104.043\" font-family=\"Times New Roman,serif\" font-size=\"14.00\">yes, missing</text>\r\n",
       "</g>\r\n",
       "<!-- 6 -->\r\n",
       "<g id=\"node7\" class=\"node\"><title>6</title>\r\n",
       "<polygon fill=\"none\" stroke=\"black\" points=\"584.475,-72.2428 489.475,-72.2428 489.475,-36.2428 584.475,-36.2428 584.475,-72.2428\"/>\r\n",
       "<text text-anchor=\"middle\" x=\"536.975\" y=\"-50.5428\" font-family=\"Times New Roman,serif\" font-size=\"14.00\">leaf=0.139223</text>\r\n",
       "</g>\r\n",
       "<!-- 2&#45;&gt;6 -->\r\n",
       "<g id=\"edge6\" class=\"edge\"><title>2&#45;&gt;6</title>\r\n",
       "<path fill=\"none\" stroke=\"#ff0000\" d=\"M383.985,-71.9509C415.236,-68.3099 450.381,-64.2152 478.998,-60.8811\"/>\r\n",
       "<polygon fill=\"#ff0000\" stroke=\"#ff0000\" points=\"479.699,-64.3232 489.227,-59.6894 478.889,-57.3702 479.699,-64.3232\"/>\r\n",
       "<text text-anchor=\"middle\" x=\"436.975\" y=\"-73.0428\" font-family=\"Times New Roman,serif\" font-size=\"14.00\">no</text>\r\n",
       "</g>\r\n",
       "</g>\r\n",
       "</svg>\r\n"
      ],
      "text/plain": [
       "<graphviz.dot.Digraph at 0xae60390>"
      ]
     },
     "execution_count": 49,
     "metadata": {},
     "output_type": "execute_result"
    }
   ],
   "source": [
    "import graphviz\n",
    "xgb.to_graphviz(bestXGB, num_trees=0, rankdir='LR' )"
   ]
  },
  {
   "cell_type": "code",
   "execution_count": 39,
   "metadata": {
    "collapsed": false
   },
   "outputs": [
    {
     "data": {
      "image/svg+xml": [
       "<?xml version=\"1.0\" encoding=\"UTF-8\" standalone=\"no\"?>\r\n",
       "<!DOCTYPE svg PUBLIC \"-//W3C//DTD SVG 1.1//EN\"\r\n",
       " \"http://www.w3.org/Graphics/SVG/1.1/DTD/svg11.dtd\">\r\n",
       "<!-- Generated by graphviz version 2.38.0 (20140413.2041)\r\n",
       " -->\r\n",
       "<!-- Title: %3 Pages: 1 -->\r\n",
       "<svg width=\"577pt\" height=\"284pt\"\r\n",
       " viewBox=\"0.00 0.00 576.68 284.34\" xmlns=\"http://www.w3.org/2000/svg\" xmlns:xlink=\"http://www.w3.org/1999/xlink\">\r\n",
       "<g id=\"graph0\" class=\"graph\" transform=\"scale(1 1) rotate(0) translate(4 280.339)\">\r\n",
       "<title>%3</title>\r\n",
       "<polygon fill=\"white\" stroke=\"none\" points=\"-4,4 -4,-280.339 572.677,-280.339 572.677,4 -4,4\"/>\r\n",
       "<!-- 0 -->\r\n",
       "<g id=\"node1\" class=\"node\"><title>0</title>\r\n",
       "<ellipse fill=\"none\" stroke=\"black\" cx=\"51.3454\" cy=\"-137.345\" rx=\"51.1914\" ry=\"51.1914\"/>\r\n",
       "<text text-anchor=\"middle\" x=\"51.3454\" y=\"-133.645\" font-family=\"Times New Roman,serif\" font-size=\"14.00\">cell_size&lt;3</text>\r\n",
       "</g>\r\n",
       "<!-- 1 -->\r\n",
       "<g id=\"node2\" class=\"node\"><title>1</title>\r\n",
       "<ellipse fill=\"none\" stroke=\"black\" cx=\"285.684\" cy=\"-198.345\" rx=\"77.9862\" ry=\"77.9862\"/>\r\n",
       "<text text-anchor=\"middle\" x=\"285.684\" y=\"-194.645\" font-family=\"Times New Roman,serif\" font-size=\"14.00\">normal_nucleoli&lt;4</text>\r\n",
       "</g>\r\n",
       "<!-- 0&#45;&gt;1 -->\r\n",
       "<g id=\"edge1\" class=\"edge\"><title>0&#45;&gt;1</title>\r\n",
       "<path fill=\"none\" stroke=\"#0000ff\" d=\"M101.335,-150.207C130.053,-157.747 167.117,-167.478 200.397,-176.216\"/>\r\n",
       "<polygon fill=\"#0000ff\" stroke=\"#0000ff\" points=\"199.569,-179.617 210.13,-178.771 201.347,-172.847 199.569,-179.617\"/>\r\n",
       "<text text-anchor=\"middle\" x=\"155.191\" y=\"-176.145\" font-family=\"Times New Roman,serif\" font-size=\"14.00\">yes, missing</text>\r\n",
       "</g>\r\n",
       "<!-- 2 -->\r\n",
       "<g id=\"node3\" class=\"node\"><title>2</title>\r\n",
       "<ellipse fill=\"none\" stroke=\"black\" cx=\"285.684\" cy=\"-51.3454\" rx=\"51.1914\" ry=\"51.1914\"/>\r\n",
       "<text text-anchor=\"middle\" x=\"285.684\" y=\"-47.6454\" font-family=\"Times New Roman,serif\" font-size=\"14.00\">cell_size&lt;4</text>\r\n",
       "</g>\r\n",
       "<!-- 0&#45;&gt;2 -->\r\n",
       "<g id=\"edge2\" class=\"edge\"><title>0&#45;&gt;2</title>\r\n",
       "<path fill=\"none\" stroke=\"#ff0000\" d=\"M99.6427,-119.838C136.582,-106.165 188.061,-87.1103 227.346,-72.5691\"/>\r\n",
       "<polygon fill=\"#ff0000\" stroke=\"#ff0000\" points=\"228.891,-75.7292 237.055,-68.9754 226.461,-69.1645 228.891,-75.7292\"/>\r\n",
       "<text text-anchor=\"middle\" x=\"155.191\" y=\"-115.145\" font-family=\"Times New Roman,serif\" font-size=\"14.00\">no</text>\r\n",
       "</g>\r\n",
       "<!-- 3 -->\r\n",
       "<g id=\"node4\" class=\"node\"><title>3</title>\r\n",
       "<polygon fill=\"none\" stroke=\"black\" points=\"568.677,-247.345 468.677,-247.345 468.677,-211.345 568.677,-211.345 568.677,-247.345\"/>\r\n",
       "<text text-anchor=\"middle\" x=\"518.677\" y=\"-225.645\" font-family=\"Times New Roman,serif\" font-size=\"14.00\">leaf=&#45;0.166248</text>\r\n",
       "</g>\r\n",
       "<!-- 1&#45;&gt;3 -->\r\n",
       "<g id=\"edge3\" class=\"edge\"><title>1&#45;&gt;3</title>\r\n",
       "<path fill=\"none\" stroke=\"#0000ff\" d=\"M363.28,-208.625C394.294,-212.787 429.546,-217.518 458.527,-221.407\"/>\r\n",
       "<polygon fill=\"#0000ff\" stroke=\"#0000ff\" points=\"458.123,-224.884 468.499,-222.746 459.054,-217.947 458.123,-224.884\"/>\r\n",
       "<text text-anchor=\"middle\" x=\"416.177\" y=\"-223.145\" font-family=\"Times New Roman,serif\" font-size=\"14.00\">yes, missing</text>\r\n",
       "</g>\r\n",
       "<!-- 4 -->\r\n",
       "<g id=\"node5\" class=\"node\"><title>4</title>\r\n",
       "<polygon fill=\"none\" stroke=\"black\" points=\"546.677,-193.345 490.677,-193.345 490.677,-157.345 546.677,-157.345 546.677,-193.345\"/>\r\n",
       "<text text-anchor=\"middle\" x=\"518.677\" y=\"-171.645\" font-family=\"Times New Roman,serif\" font-size=\"14.00\">leaf=&#45;0</text>\r\n",
       "</g>\r\n",
       "<!-- 1&#45;&gt;4 -->\r\n",
       "<g id=\"edge4\" class=\"edge\"><title>1&#45;&gt;4</title>\r\n",
       "<path fill=\"none\" stroke=\"#ff0000\" d=\"M363.601,-190.687C402.984,-186.765 449.129,-182.171 480.581,-179.039\"/>\r\n",
       "<polygon fill=\"#ff0000\" stroke=\"#ff0000\" points=\"481.049,-182.51 490.653,-178.036 480.355,-175.544 481.049,-182.51\"/>\r\n",
       "<text text-anchor=\"middle\" x=\"416.177\" y=\"-191.145\" font-family=\"Times New Roman,serif\" font-size=\"14.00\">no</text>\r\n",
       "</g>\r\n",
       "<!-- 5 -->\r\n",
       "<g id=\"node6\" class=\"node\"><title>5</title>\r\n",
       "<polygon fill=\"none\" stroke=\"black\" points=\"546.677,-116.345 490.677,-116.345 490.677,-80.3454 546.677,-80.3454 546.677,-116.345\"/>\r\n",
       "<text text-anchor=\"middle\" x=\"518.677\" y=\"-94.6454\" font-family=\"Times New Roman,serif\" font-size=\"14.00\">leaf=&#45;0</text>\r\n",
       "</g>\r\n",
       "<!-- 2&#45;&gt;5 -->\r\n",
       "<g id=\"edge5\" class=\"edge\"><title>2&#45;&gt;5</title>\r\n",
       "<path fill=\"none\" stroke=\"#0000ff\" d=\"M336.238,-61.4281C379.56,-70.2428 441.496,-82.845 480.636,-90.8088\"/>\r\n",
       "<polygon fill=\"#0000ff\" stroke=\"#0000ff\" points=\"480.056,-94.2624 490.553,-92.8266 481.452,-87.4029 480.056,-94.2624\"/>\r\n",
       "<text text-anchor=\"middle\" x=\"416.177\" y=\"-88.1454\" font-family=\"Times New Roman,serif\" font-size=\"14.00\">yes, missing</text>\r\n",
       "</g>\r\n",
       "<!-- 6 -->\r\n",
       "<g id=\"node7\" class=\"node\"><title>6</title>\r\n",
       "<polygon fill=\"none\" stroke=\"black\" points=\"566.177,-62.3454 471.177,-62.3454 471.177,-26.3454 566.177,-26.3454 566.177,-62.3454\"/>\r\n",
       "<text text-anchor=\"middle\" x=\"518.677\" y=\"-40.6454\" font-family=\"Times New Roman,serif\" font-size=\"14.00\">leaf=0.138648</text>\r\n",
       "</g>\r\n",
       "<!-- 2&#45;&gt;6 -->\r\n",
       "<g id=\"edge6\" class=\"edge\"><title>2&#45;&gt;6</title>\r\n",
       "<path fill=\"none\" stroke=\"#ff0000\" d=\"M337.091,-49.8179C373.493,-48.7148 422.704,-47.2235 460.56,-46.0763\"/>\r\n",
       "<polygon fill=\"#ff0000\" stroke=\"#ff0000\" points=\"461.028,-49.5638 470.917,-45.7625 460.815,-42.5671 461.028,-49.5638\"/>\r\n",
       "<text text-anchor=\"middle\" x=\"416.177\" y=\"-51.1454\" font-family=\"Times New Roman,serif\" font-size=\"14.00\">no</text>\r\n",
       "</g>\r\n",
       "</g>\r\n",
       "</svg>\r\n"
      ],
      "text/plain": [
       "<graphviz.dot.Digraph at 0xaae9860>"
      ]
     },
     "execution_count": 39,
     "metadata": {},
     "output_type": "execute_result"
    }
   ],
   "source": [
    "import xgboost as xgb\n",
    "xgb.to_graphviz(bestXGB, num_trees=1, rankdir='LR' )"
   ]
  },
  {
   "cell_type": "code",
   "execution_count": 40,
   "metadata": {
    "collapsed": false
   },
   "outputs": [
    {
     "data": {
      "image/svg+xml": [
       "<?xml version=\"1.0\" encoding=\"UTF-8\" standalone=\"no\"?>\r\n",
       "<!DOCTYPE svg PUBLIC \"-//W3C//DTD SVG 1.1//EN\"\r\n",
       " \"http://www.w3.org/Graphics/SVG/1.1/DTD/svg11.dtd\">\r\n",
       "<!-- Generated by graphviz version 2.38.0 (20140413.2041)\r\n",
       " -->\r\n",
       "<!-- Title: %3 Pages: 1 -->\r\n",
       "<svg width=\"818pt\" height=\"313pt\"\r\n",
       " viewBox=\"0.00 0.00 818.16 313.09\" xmlns=\"http://www.w3.org/2000/svg\" xmlns:xlink=\"http://www.w3.org/1999/xlink\">\r\n",
       "<g id=\"graph0\" class=\"graph\" transform=\"scale(1 1) rotate(0) translate(4 309.088)\">\r\n",
       "<title>%3</title>\r\n",
       "<polygon fill=\"white\" stroke=\"none\" points=\"-4,4 -4,-309.088 814.165,-309.088 814.165,4 -4,4\"/>\r\n",
       "<!-- 0 -->\r\n",
       "<g id=\"node1\" class=\"node\"><title>0</title>\r\n",
       "<ellipse fill=\"none\" stroke=\"black\" cx=\"51.3454\" cy=\"-51.3454\" rx=\"51.1914\" ry=\"51.1914\"/>\r\n",
       "<text text-anchor=\"middle\" x=\"51.3454\" y=\"-47.6454\" font-family=\"Times New Roman,serif\" font-size=\"14.00\">cell_size&lt;4</text>\r\n",
       "</g>\r\n",
       "<!-- 1 -->\r\n",
       "<g id=\"node2\" class=\"node\"><title>1</title>\r\n",
       "<ellipse fill=\"none\" stroke=\"black\" cx=\"266.186\" cy=\"-112.345\" rx=\"58.4896\" ry=\"58.4896\"/>\r\n",
       "<text text-anchor=\"middle\" x=\"266.186\" y=\"-108.645\" font-family=\"Times New Roman,serif\" font-size=\"14.00\">cell_shape&lt;4</text>\r\n",
       "</g>\r\n",
       "<!-- 0&#45;&gt;1 -->\r\n",
       "<g id=\"edge1\" class=\"edge\"><title>0&#45;&gt;1</title>\r\n",
       "<path fill=\"none\" stroke=\"#0000ff\" d=\"M100.909,-65.2636C130.262,-73.6764 168.054,-84.5074 199.988,-93.6597\"/>\r\n",
       "<polygon fill=\"#0000ff\" stroke=\"#0000ff\" points=\"199.117,-97.051 209.694,-96.4416 201.046,-90.3219 199.117,-97.051\"/>\r\n",
       "<text text-anchor=\"middle\" x=\"155.191\" y=\"-93.1454\" font-family=\"Times New Roman,serif\" font-size=\"14.00\">yes, missing</text>\r\n",
       "</g>\r\n",
       "<!-- 2 -->\r\n",
       "<g id=\"node3\" class=\"node\"><title>2</title>\r\n",
       "<polygon fill=\"none\" stroke=\"black\" points=\"313.686,-36.3454 218.686,-36.3454 218.686,-0.345444 313.686,-0.345444 313.686,-36.3454\"/>\r\n",
       "<text text-anchor=\"middle\" x=\"266.186\" y=\"-14.6454\" font-family=\"Times New Roman,serif\" font-size=\"14.00\">leaf=0.125966</text>\r\n",
       "</g>\r\n",
       "<!-- 0&#45;&gt;2 -->\r\n",
       "<g id=\"edge2\" class=\"edge\"><title>0&#45;&gt;2</title>\r\n",
       "<path fill=\"none\" stroke=\"#ff0000\" d=\"M102.247,-43.6084C134.093,-38.6708 175.452,-32.2583 208.531,-27.1294\"/>\r\n",
       "<polygon fill=\"#ff0000\" stroke=\"#ff0000\" points=\"209.166,-30.5729 218.512,-25.582 208.094,-23.6556 209.166,-30.5729\"/>\r\n",
       "<text text-anchor=\"middle\" x=\"155.191\" y=\"-45.1454\" font-family=\"Times New Roman,serif\" font-size=\"14.00\">no</text>\r\n",
       "</g>\r\n",
       "<!-- 3 -->\r\n",
       "<g id=\"node4\" class=\"node\"><title>3</title>\r\n",
       "<ellipse fill=\"none\" stroke=\"black\" cx=\"517.423\" cy=\"-217.345\" rx=\"87.9851\" ry=\"87.9851\"/>\r\n",
       "<text text-anchor=\"middle\" x=\"517.423\" y=\"-213.645\" font-family=\"Times New Roman,serif\" font-size=\"14.00\">marginal_adhesion&lt;4</text>\r\n",
       "</g>\r\n",
       "<!-- 1&#45;&gt;3 -->\r\n",
       "<g id=\"edge3\" class=\"edge\"><title>1&#45;&gt;3</title>\r\n",
       "<path fill=\"none\" stroke=\"#0000ff\" d=\"M320.348,-134.742C351.32,-147.79 391.186,-164.585 426.875,-179.62\"/>\r\n",
       "<polygon fill=\"#0000ff\" stroke=\"#0000ff\" points=\"425.758,-182.948 436.333,-183.605 428.476,-176.497 425.758,-182.948\"/>\r\n",
       "<text text-anchor=\"middle\" x=\"377.181\" y=\"-175.145\" font-family=\"Times New Roman,serif\" font-size=\"14.00\">yes, missing</text>\r\n",
       "</g>\r\n",
       "<!-- 4 -->\r\n",
       "<g id=\"node5\" class=\"node\"><title>4</title>\r\n",
       "<polygon fill=\"none\" stroke=\"black\" points=\"545.423,-111.345 489.423,-111.345 489.423,-75.3454 545.423,-75.3454 545.423,-111.345\"/>\r\n",
       "<text text-anchor=\"middle\" x=\"517.423\" y=\"-89.6454\" font-family=\"Times New Roman,serif\" font-size=\"14.00\">leaf=&#45;0</text>\r\n",
       "</g>\r\n",
       "<!-- 1&#45;&gt;4 -->\r\n",
       "<g id=\"edge4\" class=\"edge\"><title>1&#45;&gt;4</title>\r\n",
       "<path fill=\"none\" stroke=\"#ff0000\" d=\"M324.679,-107.963C372.156,-104.343 438.161,-99.3115 479.04,-96.1952\"/>\r\n",
       "<polygon fill=\"#ff0000\" stroke=\"#ff0000\" points=\"479.41,-99.6773 489.115,-95.4272 478.878,-92.6975 479.41,-99.6773\"/>\r\n",
       "<text text-anchor=\"middle\" x=\"377.181\" y=\"-110.145\" font-family=\"Times New Roman,serif\" font-size=\"14.00\">no</text>\r\n",
       "</g>\r\n",
       "<!-- 5 -->\r\n",
       "<g id=\"node6\" class=\"node\"><title>5</title>\r\n",
       "<polygon fill=\"none\" stroke=\"black\" points=\"810.165,-262.345 710.165,-262.345 710.165,-226.345 810.165,-226.345 810.165,-262.345\"/>\r\n",
       "<text text-anchor=\"middle\" x=\"760.165\" y=\"-240.645\" font-family=\"Times New Roman,serif\" font-size=\"14.00\">leaf=&#45;0.147795</text>\r\n",
       "</g>\r\n",
       "<!-- 3&#45;&gt;5 -->\r\n",
       "<g id=\"edge5\" class=\"edge\"><title>3&#45;&gt;5</title>\r\n",
       "<path fill=\"none\" stroke=\"#0000ff\" d=\"M604.656,-227.017C636.139,-230.548 671.018,-234.459 699.658,-237.672\"/>\r\n",
       "<polygon fill=\"#0000ff\" stroke=\"#0000ff\" points=\"699.582,-241.185 709.909,-238.821 700.362,-234.228 699.582,-241.185\"/>\r\n",
       "<text text-anchor=\"middle\" x=\"657.665\" y=\"-241.145\" font-family=\"Times New Roman,serif\" font-size=\"14.00\">yes, missing</text>\r\n",
       "</g>\r\n",
       "<!-- 6 -->\r\n",
       "<g id=\"node7\" class=\"node\"><title>6</title>\r\n",
       "<polygon fill=\"none\" stroke=\"black\" points=\"788.165,-208.345 732.165,-208.345 732.165,-172.345 788.165,-172.345 788.165,-208.345\"/>\r\n",
       "<text text-anchor=\"middle\" x=\"760.165\" y=\"-186.645\" font-family=\"Times New Roman,serif\" font-size=\"14.00\">leaf=&#45;0</text>\r\n",
       "</g>\r\n",
       "<!-- 3&#45;&gt;6 -->\r\n",
       "<g id=\"edge6\" class=\"edge\"><title>3&#45;&gt;6</title>\r\n",
       "<path fill=\"none\" stroke=\"#ff0000\" d=\"M604.656,-207.674C644.9,-203.161 690.694,-198.025 721.912,-194.524\"/>\r\n",
       "<polygon fill=\"#ff0000\" stroke=\"#ff0000\" points=\"722.363,-197.995 731.911,-193.402 721.583,-191.039 722.363,-197.995\"/>\r\n",
       "<text text-anchor=\"middle\" x=\"657.665\" y=\"-210.145\" font-family=\"Times New Roman,serif\" font-size=\"14.00\">no</text>\r\n",
       "</g>\r\n",
       "</g>\r\n",
       "</svg>\r\n"
      ],
      "text/plain": [
       "<graphviz.dot.Digraph at 0xaae9898>"
      ]
     },
     "execution_count": 40,
     "metadata": {},
     "output_type": "execute_result"
    }
   ],
   "source": [
    "xgb.to_graphviz(bestXGB, num_trees=2, rankdir='LR' )"
   ]
  },
  {
   "cell_type": "code",
   "execution_count": 41,
   "metadata": {
    "collapsed": false
   },
   "outputs": [
    {
     "data": {
      "image/svg+xml": [
       "<?xml version=\"1.0\" encoding=\"UTF-8\" standalone=\"no\"?>\r\n",
       "<!DOCTYPE svg PUBLIC \"-//W3C//DTD SVG 1.1//EN\"\r\n",
       " \"http://www.w3.org/Graphics/SVG/1.1/DTD/svg11.dtd\">\r\n",
       "<!-- Generated by graphviz version 2.38.0 (20140413.2041)\r\n",
       " -->\r\n",
       "<!-- Title: %3 Pages: 1 -->\r\n",
       "<svg width=\"812pt\" height=\"346pt\"\r\n",
       " viewBox=\"0.00 0.00 812.46 346.34\" xmlns=\"http://www.w3.org/2000/svg\" xmlns:xlink=\"http://www.w3.org/1999/xlink\">\r\n",
       "<g id=\"graph0\" class=\"graph\" transform=\"scale(1 1) rotate(0) translate(4 342.339)\">\r\n",
       "<title>%3</title>\r\n",
       "<polygon fill=\"white\" stroke=\"none\" points=\"-4,4 -4,-342.339 808.465,-342.339 808.465,4 -4,4\"/>\r\n",
       "<!-- 0 -->\r\n",
       "<g id=\"node1\" class=\"node\"><title>0</title>\r\n",
       "<ellipse fill=\"none\" stroke=\"black\" cx=\"68.8939\" cy=\"-186.243\" rx=\"68.7879\" ry=\"68.7879\"/>\r\n",
       "<text text-anchor=\"middle\" x=\"68.8939\" y=\"-182.543\" font-family=\"Times New Roman,serif\" font-size=\"14.00\">bare_nuclei&lt;2.5</text>\r\n",
       "</g>\r\n",
       "<!-- 1 -->\r\n",
       "<g id=\"node2\" class=\"node\"><title>1</title>\r\n",
       "<ellipse fill=\"none\" stroke=\"black\" cx=\"324.031\" cy=\"-258.243\" rx=\"77.9862\" ry=\"77.9862\"/>\r\n",
       "<text text-anchor=\"middle\" x=\"324.031\" y=\"-254.543\" font-family=\"Times New Roman,serif\" font-size=\"14.00\">normal_nucleoli&lt;4</text>\r\n",
       "</g>\r\n",
       "<!-- 0&#45;&gt;1 -->\r\n",
       "<g id=\"edge1\" class=\"edge\"><title>0&#45;&gt;1</title>\r\n",
       "<path fill=\"none\" stroke=\"#0000ff\" d=\"M135.412,-204.878C167.011,-213.866 205.286,-224.753 239.003,-234.343\"/>\r\n",
       "<polygon fill=\"#0000ff\" stroke=\"#0000ff\" points=\"238.268,-237.772 248.844,-237.142 240.183,-231.04 238.268,-237.772\"/>\r\n",
       "<text text-anchor=\"middle\" x=\"190.288\" y=\"-233.043\" font-family=\"Times New Roman,serif\" font-size=\"14.00\">yes, missing</text>\r\n",
       "</g>\r\n",
       "<!-- 2 -->\r\n",
       "<g id=\"node3\" class=\"node\"><title>2</title>\r\n",
       "<ellipse fill=\"none\" stroke=\"black\" cx=\"324.031\" cy=\"-81.2428\" rx=\"81.4863\" ry=\"81.4863\"/>\r\n",
       "<text text-anchor=\"middle\" x=\"324.031\" y=\"-77.5428\" font-family=\"Times New Roman,serif\" font-size=\"14.00\">bland_chromatin&lt;3</text>\r\n",
       "</g>\r\n",
       "<!-- 0&#45;&gt;2 -->\r\n",
       "<g id=\"edge2\" class=\"edge\"><title>0&#45;&gt;2</title>\r\n",
       "<path fill=\"none\" stroke=\"#ff0000\" d=\"M132.792,-160.153C164.914,-146.829 204.435,-130.436 239.116,-116.05\"/>\r\n",
       "<polygon fill=\"#ff0000\" stroke=\"#ff0000\" points=\"240.864,-119.114 248.76,-112.05 238.182,-112.649 240.864,-119.114\"/>\r\n",
       "<text text-anchor=\"middle\" x=\"190.288\" y=\"-154.043\" font-family=\"Times New Roman,serif\" font-size=\"14.00\">no</text>\r\n",
       "</g>\r\n",
       "<!-- 3 -->\r\n",
       "<g id=\"node4\" class=\"node\"><title>3</title>\r\n",
       "<ellipse fill=\"none\" stroke=\"black\" cx=\"558.369\" cy=\"-290.243\" rx=\"48.1917\" ry=\"48.1917\"/>\r\n",
       "<text text-anchor=\"middle\" x=\"558.369\" y=\"-286.543\" font-family=\"Times New Roman,serif\" font-size=\"14.00\">mitoses&lt;3</text>\r\n",
       "</g>\r\n",
       "<!-- 1&#45;&gt;3 -->\r\n",
       "<g id=\"edge3\" class=\"edge\"><title>1&#45;&gt;3</title>\r\n",
       "<path fill=\"none\" stroke=\"#0000ff\" d=\"M401.429,-268.765C433.61,-273.197 470.421,-278.267 500.195,-282.368\"/>\r\n",
       "<polygon fill=\"#0000ff\" stroke=\"#0000ff\" points=\"500.029,-285.878 510.413,-283.776 500.984,-278.944 500.029,-285.878\"/>\r\n",
       "<text text-anchor=\"middle\" x=\"457.773\" y=\"-284.043\" font-family=\"Times New Roman,serif\" font-size=\"14.00\">yes, missing</text>\r\n",
       "</g>\r\n",
       "<!-- 4 -->\r\n",
       "<g id=\"node5\" class=\"node\"><title>4</title>\r\n",
       "<polygon fill=\"none\" stroke=\"black\" points=\"586.369,-224.243 530.369,-224.243 530.369,-188.243 586.369,-188.243 586.369,-224.243\"/>\r\n",
       "<text text-anchor=\"middle\" x=\"558.369\" y=\"-202.543\" font-family=\"Times New Roman,serif\" font-size=\"14.00\">leaf=&#45;0</text>\r\n",
       "</g>\r\n",
       "<!-- 1&#45;&gt;4 -->\r\n",
       "<g id=\"edge4\" class=\"edge\"><title>1&#45;&gt;4</title>\r\n",
       "<path fill=\"none\" stroke=\"#ff0000\" d=\"M400.464,-241.36C440.637,-232.369 488.252,-221.712 520.408,-214.515\"/>\r\n",
       "<polygon fill=\"#ff0000\" stroke=\"#ff0000\" points=\"521.282,-217.906 530.276,-212.306 519.753,-211.075 521.282,-217.906\"/>\r\n",
       "<text text-anchor=\"middle\" x=\"457.773\" y=\"-239.043\" font-family=\"Times New Roman,serif\" font-size=\"14.00\">no</text>\r\n",
       "</g>\r\n",
       "<!-- 5 -->\r\n",
       "<g id=\"node8\" class=\"node\"><title>5</title>\r\n",
       "<polygon fill=\"none\" stroke=\"black\" points=\"586.369,-149.243 530.369,-149.243 530.369,-113.243 586.369,-113.243 586.369,-149.243\"/>\r\n",
       "<text text-anchor=\"middle\" x=\"558.369\" y=\"-127.543\" font-family=\"Times New Roman,serif\" font-size=\"14.00\">leaf=&#45;0</text>\r\n",
       "</g>\r\n",
       "<!-- 2&#45;&gt;5 -->\r\n",
       "<g id=\"edge7\" class=\"edge\"><title>2&#45;&gt;5</title>\r\n",
       "<path fill=\"none\" stroke=\"#0000ff\" d=\"M403.69,-98.1705C443.076,-106.647 488.906,-116.509 520.201,-123.244\"/>\r\n",
       "<polygon fill=\"#0000ff\" stroke=\"#0000ff\" points=\"519.714,-126.719 530.227,-125.402 521.187,-119.876 519.714,-126.719\"/>\r\n",
       "<text text-anchor=\"middle\" x=\"457.773\" y=\"-121.043\" font-family=\"Times New Roman,serif\" font-size=\"14.00\">yes, missing</text>\r\n",
       "</g>\r\n",
       "<!-- 6 -->\r\n",
       "<g id=\"node9\" class=\"node\"><title>6</title>\r\n",
       "<polygon fill=\"none\" stroke=\"black\" points=\"605.869,-95.2428 510.869,-95.2428 510.869,-59.2428 605.869,-59.2428 605.869,-95.2428\"/>\r\n",
       "<text text-anchor=\"middle\" x=\"558.369\" y=\"-73.5428\" font-family=\"Times New Roman,serif\" font-size=\"14.00\">leaf=0.112246</text>\r\n",
       "</g>\r\n",
       "<!-- 2&#45;&gt;6 -->\r\n",
       "<g id=\"edge8\" class=\"edge\"><title>2&#45;&gt;6</title>\r\n",
       "<path fill=\"none\" stroke=\"#ff0000\" d=\"M405.314,-79.8606C436.621,-79.3216 471.784,-78.7162 500.405,-78.2235\"/>\r\n",
       "<polygon fill=\"#ff0000\" stroke=\"#ff0000\" points=\"500.695,-81.7191 510.634,-78.0474 500.575,-74.7202 500.695,-81.7191\"/>\r\n",
       "<text text-anchor=\"middle\" x=\"457.773\" y=\"-84.0428\" font-family=\"Times New Roman,serif\" font-size=\"14.00\">no</text>\r\n",
       "</g>\r\n",
       "<!-- 7 -->\r\n",
       "<g id=\"node6\" class=\"node\"><title>7</title>\r\n",
       "<polygon fill=\"none\" stroke=\"black\" points=\"804.465,-335.243 711.465,-335.243 711.465,-299.243 804.465,-299.243 804.465,-335.243\"/>\r\n",
       "<text text-anchor=\"middle\" x=\"757.965\" y=\"-313.543\" font-family=\"Times New Roman,serif\" font-size=\"14.00\">leaf=&#45;0.14141</text>\r\n",
       "</g>\r\n",
       "<!-- 3&#45;&gt;7 -->\r\n",
       "<g id=\"edge5\" class=\"edge\"><title>3&#45;&gt;7</title>\r\n",
       "<path fill=\"none\" stroke=\"#0000ff\" d=\"M606.197,-296.641C634.577,-300.519 670.956,-305.49 700.868,-309.578\"/>\r\n",
       "<polygon fill=\"#0000ff\" stroke=\"#0000ff\" points=\"700.773,-313.097 711.155,-310.983 701.721,-306.162 700.773,-313.097\"/>\r\n",
       "<text text-anchor=\"middle\" x=\"658.965\" y=\"-312.043\" font-family=\"Times New Roman,serif\" font-size=\"14.00\">yes, missing</text>\r\n",
       "</g>\r\n",
       "<!-- 8 -->\r\n",
       "<g id=\"node7\" class=\"node\"><title>8</title>\r\n",
       "<polygon fill=\"none\" stroke=\"black\" points=\"785.965,-281.243 729.965,-281.243 729.965,-245.243 785.965,-245.243 785.965,-281.243\"/>\r\n",
       "<text text-anchor=\"middle\" x=\"757.965\" y=\"-259.543\" font-family=\"Times New Roman,serif\" font-size=\"14.00\">leaf=&#45;0</text>\r\n",
       "</g>\r\n",
       "<!-- 3&#45;&gt;8 -->\r\n",
       "<g id=\"edge6\" class=\"edge\"><title>3&#45;&gt;8</title>\r\n",
       "<path fill=\"none\" stroke=\"#ff0000\" d=\"M605.93,-282.947C612.158,-282.013 618.464,-281.089 624.465,-280.243 656.599,-275.714 693.19,-271.057 719.766,-267.765\"/>\r\n",
       "<polygon fill=\"#ff0000\" stroke=\"#ff0000\" points=\"720.289,-271.227 729.786,-266.53 719.432,-264.28 720.289,-271.227\"/>\r\n",
       "<text text-anchor=\"middle\" x=\"658.965\" y=\"-284.043\" font-family=\"Times New Roman,serif\" font-size=\"14.00\">no</text>\r\n",
       "</g>\r\n",
       "</g>\r\n",
       "</svg>\r\n"
      ],
      "text/plain": [
       "<graphviz.dot.Digraph at 0xaae51d0>"
      ]
     },
     "execution_count": 41,
     "metadata": {},
     "output_type": "execute_result"
    }
   ],
   "source": [
    "xgb.to_graphviz(bestXGB, num_trees=3, rankdir='LR' )"
   ]
  },
  {
   "cell_type": "code",
   "execution_count": 42,
   "metadata": {
    "collapsed": false
   },
   "outputs": [
    {
     "data": {
      "image/svg+xml": [
       "<?xml version=\"1.0\" encoding=\"UTF-8\" standalone=\"no\"?>\r\n",
       "<!DOCTYPE svg PUBLIC \"-//W3C//DTD SVG 1.1//EN\"\r\n",
       " \"http://www.w3.org/Graphics/SVG/1.1/DTD/svg11.dtd\">\r\n",
       "<!-- Generated by graphviz version 2.38.0 (20140413.2041)\r\n",
       " -->\r\n",
       "<!-- Title: %3 Pages: 1 -->\r\n",
       "<svg width=\"923pt\" height=\"432pt\"\r\n",
       " viewBox=\"0.00 0.00 923.46 431.99\" xmlns=\"http://www.w3.org/2000/svg\" xmlns:xlink=\"http://www.w3.org/1999/xlink\">\r\n",
       "<g id=\"graph0\" class=\"graph\" transform=\"scale(1 1) rotate(0) translate(4 427.985)\">\r\n",
       "<title>%3</title>\r\n",
       "<polygon fill=\"white\" stroke=\"none\" points=\"-4,4 -4,-427.985 919.456,-427.985 919.456,4 -4,4\"/>\r\n",
       "<!-- 0 -->\r\n",
       "<g id=\"node1\" class=\"node\"><title>0</title>\r\n",
       "<ellipse fill=\"none\" stroke=\"black\" cx=\"81.2428\" cy=\"-188.243\" rx=\"81.4863\" ry=\"81.4863\"/>\r\n",
       "<text text-anchor=\"middle\" x=\"81.2428\" y=\"-184.543\" font-family=\"Times New Roman,serif\" font-size=\"14.00\">bland_chromatin&lt;4</text>\r\n",
       "</g>\r\n",
       "<!-- 1 -->\r\n",
       "<g id=\"node2\" class=\"node\"><title>1</title>\r\n",
       "<ellipse fill=\"none\" stroke=\"black\" cx=\"348.728\" cy=\"-261.243\" rx=\"81.4863\" ry=\"81.4863\"/>\r\n",
       "<text text-anchor=\"middle\" x=\"348.728\" y=\"-257.543\" font-family=\"Times New Roman,serif\" font-size=\"14.00\">clump_thickness&lt;7</text>\r\n",
       "</g>\r\n",
       "<!-- 0&#45;&gt;1 -->\r\n",
       "<g id=\"edge1\" class=\"edge\"><title>0&#45;&gt;1</title>\r\n",
       "<path fill=\"none\" stroke=\"#0000ff\" d=\"M159.746,-209.554C191.231,-218.211 227.763,-228.256 260.203,-237.176\"/>\r\n",
       "<polygon fill=\"#0000ff\" stroke=\"#0000ff\" points=\"259.559,-240.629 270.129,-239.905 261.415,-233.879 259.559,-240.629\"/>\r\n",
       "<text text-anchor=\"middle\" x=\"214.986\" y=\"-238.043\" font-family=\"Times New Roman,serif\" font-size=\"14.00\">yes, missing</text>\r\n",
       "</g>\r\n",
       "<!-- 2 -->\r\n",
       "<g id=\"node3\" class=\"node\"><title>2</title>\r\n",
       "<ellipse fill=\"none\" stroke=\"black\" cx=\"348.728\" cy=\"-81.2428\" rx=\"81.4863\" ry=\"81.4863\"/>\r\n",
       "<text text-anchor=\"middle\" x=\"348.728\" y=\"-77.5428\" font-family=\"Times New Roman,serif\" font-size=\"14.00\">clump_thickness&lt;4</text>\r\n",
       "</g>\r\n",
       "<!-- 0&#45;&gt;2 -->\r\n",
       "<g id=\"edge2\" class=\"edge\"><title>0&#45;&gt;2</title>\r\n",
       "<path fill=\"none\" stroke=\"#ff0000\" d=\"M156.902,-158.153C190.126,-144.762 229.398,-128.934 263.651,-115.129\"/>\r\n",
       "<polygon fill=\"#ff0000\" stroke=\"#ff0000\" points=\"265.204,-118.277 273.17,-111.292 262.587,-111.784 265.204,-118.277\"/>\r\n",
       "<text text-anchor=\"middle\" x=\"214.986\" y=\"-152.043\" font-family=\"Times New Roman,serif\" font-size=\"14.00\">no</text>\r\n",
       "</g>\r\n",
       "<!-- 3 -->\r\n",
       "<g id=\"node4\" class=\"node\"><title>3</title>\r\n",
       "<ellipse fill=\"none\" stroke=\"black\" cx=\"622.713\" cy=\"-336.243\" rx=\"87.9851\" ry=\"87.9851\"/>\r\n",
       "<text text-anchor=\"middle\" x=\"622.713\" y=\"-332.543\" font-family=\"Times New Roman,serif\" font-size=\"14.00\">marginal_adhesion&lt;6</text>\r\n",
       "</g>\r\n",
       "<!-- 1&#45;&gt;3 -->\r\n",
       "<g id=\"edge3\" class=\"edge\"><title>1&#45;&gt;3</title>\r\n",
       "<path fill=\"none\" stroke=\"#0000ff\" d=\"M427.304,-282.634C458.609,-291.267 495.013,-301.305 527.797,-310.345\"/>\r\n",
       "<polygon fill=\"#0000ff\" stroke=\"#0000ff\" points=\"527.275,-313.832 537.846,-313.116 529.136,-307.084 527.275,-313.832\"/>\r\n",
       "<text text-anchor=\"middle\" x=\"482.471\" y=\"-310.043\" font-family=\"Times New Roman,serif\" font-size=\"14.00\">yes, missing</text>\r\n",
       "</g>\r\n",
       "<!-- 4 -->\r\n",
       "<g id=\"node5\" class=\"node\"><title>4</title>\r\n",
       "<polygon fill=\"none\" stroke=\"black\" points=\"650.713,-230.243 594.713,-230.243 594.713,-194.243 650.713,-194.243 650.713,-230.243\"/>\r\n",
       "<text text-anchor=\"middle\" x=\"622.713\" y=\"-208.543\" font-family=\"Times New Roman,serif\" font-size=\"14.00\">leaf=&#45;0</text>\r\n",
       "</g>\r\n",
       "<!-- 1&#45;&gt;4 -->\r\n",
       "<g id=\"edge4\" class=\"edge\"><title>1&#45;&gt;4</title>\r\n",
       "<path fill=\"none\" stroke=\"#ff0000\" d=\"M428.763,-247.004C480.019,-237.77 544.451,-226.162 584.358,-218.973\"/>\r\n",
       "<polygon fill=\"#ff0000\" stroke=\"#ff0000\" points=\"585.221,-222.374 594.442,-217.156 583.98,-215.484 585.221,-222.374\"/>\r\n",
       "<text text-anchor=\"middle\" x=\"482.471\" y=\"-247.043\" font-family=\"Times New Roman,serif\" font-size=\"14.00\">no</text>\r\n",
       "</g>\r\n",
       "<!-- 5 -->\r\n",
       "<g id=\"node8\" class=\"node\"><title>5</title>\r\n",
       "<polygon fill=\"none\" stroke=\"black\" points=\"650.713,-140.243 594.713,-140.243 594.713,-104.243 650.713,-104.243 650.713,-140.243\"/>\r\n",
       "<text text-anchor=\"middle\" x=\"622.713\" y=\"-118.543\" font-family=\"Times New Roman,serif\" font-size=\"14.00\">leaf=&#45;0</text>\r\n",
       "</g>\r\n",
       "<!-- 2&#45;&gt;5 -->\r\n",
       "<g id=\"edge7\" class=\"edge\"><title>2&#45;&gt;5</title>\r\n",
       "<path fill=\"none\" stroke=\"#0000ff\" d=\"M429.082,-93.3794C435.473,-94.3505 441.83,-95.3144 447.971,-96.2428 494.978,-103.349 549.155,-111.44 584.343,-116.683\"/>\r\n",
       "<polygon fill=\"#0000ff\" stroke=\"#0000ff\" points=\"584.218,-120.203 594.625,-118.214 585.249,-113.279 584.218,-120.203\"/>\r\n",
       "<text text-anchor=\"middle\" x=\"482.471\" y=\"-111.043\" font-family=\"Times New Roman,serif\" font-size=\"14.00\">yes, missing</text>\r\n",
       "</g>\r\n",
       "<!-- 6 -->\r\n",
       "<g id=\"node9\" class=\"node\"><title>6</title>\r\n",
       "<polygon fill=\"none\" stroke=\"black\" points=\"673.713,-86.2428 571.713,-86.2428 571.713,-50.2428 673.713,-50.2428 673.713,-86.2428\"/>\r\n",
       "<text text-anchor=\"middle\" x=\"622.713\" y=\"-64.5428\" font-family=\"Times New Roman,serif\" font-size=\"14.00\">leaf=0.0973857</text>\r\n",
       "</g>\r\n",
       "<!-- 2&#45;&gt;6 -->\r\n",
       "<g id=\"edge8\" class=\"edge\"><title>2&#45;&gt;6</title>\r\n",
       "<path fill=\"none\" stroke=\"#ff0000\" d=\"M430.229,-77.3951C472.217,-75.3882 522.724,-72.9742 561.321,-71.1293\"/>\r\n",
       "<polygon fill=\"#ff0000\" stroke=\"#ff0000\" points=\"561.547,-74.6226 571.369,-70.6491 561.213,-67.6306 561.547,-74.6226\"/>\r\n",
       "<text text-anchor=\"middle\" x=\"482.471\" y=\"-81.0428\" font-family=\"Times New Roman,serif\" font-size=\"14.00\">no</text>\r\n",
       "</g>\r\n",
       "<!-- 7 -->\r\n",
       "<g id=\"node6\" class=\"node\"><title>7</title>\r\n",
       "<polygon fill=\"none\" stroke=\"black\" points=\"915.456,-381.243 815.456,-381.243 815.456,-345.243 915.456,-345.243 915.456,-381.243\"/>\r\n",
       "<text text-anchor=\"middle\" x=\"865.456\" y=\"-359.543\" font-family=\"Times New Roman,serif\" font-size=\"14.00\">leaf=&#45;0.132989</text>\r\n",
       "</g>\r\n",
       "<!-- 3&#45;&gt;7 -->\r\n",
       "<g id=\"edge5\" class=\"edge\"><title>3&#45;&gt;7</title>\r\n",
       "<path fill=\"none\" stroke=\"#0000ff\" d=\"M709.947,-345.914C741.429,-349.445 776.308,-353.357 804.948,-356.569\"/>\r\n",
       "<polygon fill=\"#0000ff\" stroke=\"#0000ff\" points=\"804.872,-360.082 815.2,-357.719 805.653,-353.126 804.872,-360.082\"/>\r\n",
       "<text text-anchor=\"middle\" x=\"762.956\" y=\"-359.043\" font-family=\"Times New Roman,serif\" font-size=\"14.00\">yes, missing</text>\r\n",
       "</g>\r\n",
       "<!-- 8 -->\r\n",
       "<g id=\"node7\" class=\"node\"><title>8</title>\r\n",
       "<polygon fill=\"none\" stroke=\"black\" points=\"893.456,-327.243 837.456,-327.243 837.456,-291.243 893.456,-291.243 893.456,-327.243\"/>\r\n",
       "<text text-anchor=\"middle\" x=\"865.456\" y=\"-305.543\" font-family=\"Times New Roman,serif\" font-size=\"14.00\">leaf=&#45;0</text>\r\n",
       "</g>\r\n",
       "<!-- 3&#45;&gt;8 -->\r\n",
       "<g id=\"edge6\" class=\"edge\"><title>3&#45;&gt;8</title>\r\n",
       "<path fill=\"none\" stroke=\"#ff0000\" d=\"M709.947,-326.571C750.191,-322.058 795.984,-316.922 827.202,-313.421\"/>\r\n",
       "<polygon fill=\"#ff0000\" stroke=\"#ff0000\" points=\"827.654,-316.892 837.202,-312.299 826.874,-309.936 827.654,-316.892\"/>\r\n",
       "<text text-anchor=\"middle\" x=\"762.956\" y=\"-329.043\" font-family=\"Times New Roman,serif\" font-size=\"14.00\">no</text>\r\n",
       "</g>\r\n",
       "</g>\r\n",
       "</svg>\r\n"
      ],
      "text/plain": [
       "<graphviz.dot.Digraph at 0xaae5208>"
      ]
     },
     "execution_count": 42,
     "metadata": {},
     "output_type": "execute_result"
    }
   ],
   "source": [
    "xgb.to_graphviz(bestXGB, num_trees=4, rankdir='LR' )"
   ]
  },
  {
   "cell_type": "code",
   "execution_count": 43,
   "metadata": {
    "collapsed": false
   },
   "outputs": [
    {
     "data": {
      "image/svg+xml": [
       "<?xml version=\"1.0\" encoding=\"UTF-8\" standalone=\"no\"?>\r\n",
       "<!DOCTYPE svg PUBLIC \"-//W3C//DTD SVG 1.1//EN\"\r\n",
       " \"http://www.w3.org/Graphics/SVG/1.1/DTD/svg11.dtd\">\r\n",
       "<!-- Generated by graphviz version 2.38.0 (20140413.2041)\r\n",
       " -->\r\n",
       "<!-- Title: %3 Pages: 1 -->\r\n",
       "<svg width=\"583pt\" height=\"326pt\"\r\n",
       " viewBox=\"0.00 0.00 583.18 326.14\" xmlns=\"http://www.w3.org/2000/svg\" xmlns:xlink=\"http://www.w3.org/1999/xlink\">\r\n",
       "<g id=\"graph0\" class=\"graph\" transform=\"scale(1 1) rotate(0) translate(4 322.137)\">\r\n",
       "<title>%3</title>\r\n",
       "<polygon fill=\"white\" stroke=\"none\" points=\"-4,4 -4,-322.137 579.176,-322.137 579.176,4 -4,4\"/>\r\n",
       "<!-- 0 -->\r\n",
       "<g id=\"node1\" class=\"node\"><title>0</title>\r\n",
       "<ellipse fill=\"none\" stroke=\"black\" cx=\"51.3454\" cy=\"-181.243\" rx=\"51.1914\" ry=\"51.1914\"/>\r\n",
       "<text text-anchor=\"middle\" x=\"51.3454\" y=\"-177.543\" font-family=\"Times New Roman,serif\" font-size=\"14.00\">cell_size&lt;4</text>\r\n",
       "</g>\r\n",
       "<!-- 1 -->\r\n",
       "<g id=\"node2\" class=\"node\"><title>1</title>\r\n",
       "<ellipse fill=\"none\" stroke=\"black\" cx=\"288.934\" cy=\"-249.243\" rx=\"68.7879\" ry=\"68.7879\"/>\r\n",
       "<text text-anchor=\"middle\" x=\"288.934\" y=\"-245.543\" font-family=\"Times New Roman,serif\" font-size=\"14.00\">bare_nuclei&lt;2.5</text>\r\n",
       "</g>\r\n",
       "<!-- 0&#45;&gt;1 -->\r\n",
       "<g id=\"edge1\" class=\"edge\"><title>0&#45;&gt;1</title>\r\n",
       "<path fill=\"none\" stroke=\"#0000ff\" d=\"M100.874,-195.25C133.146,-204.565 176.176,-216.985 212.83,-227.565\"/>\r\n",
       "<polygon fill=\"#0000ff\" stroke=\"#0000ff\" points=\"211.912,-230.943 222.491,-230.353 213.854,-224.217 211.912,-230.943\"/>\r\n",
       "<text text-anchor=\"middle\" x=\"155.191\" y=\"-223.043\" font-family=\"Times New Roman,serif\" font-size=\"14.00\">yes, missing</text>\r\n",
       "</g>\r\n",
       "<!-- 2 -->\r\n",
       "<g id=\"node3\" class=\"node\"><title>2</title>\r\n",
       "<ellipse fill=\"none\" stroke=\"black\" cx=\"288.934\" cy=\"-81.2428\" rx=\"81.4863\" ry=\"81.4863\"/>\r\n",
       "<text text-anchor=\"middle\" x=\"288.934\" y=\"-77.5428\" font-family=\"Times New Roman,serif\" font-size=\"14.00\">bland_chromatin&lt;3</text>\r\n",
       "</g>\r\n",
       "<!-- 0&#45;&gt;2 -->\r\n",
       "<g id=\"edge2\" class=\"edge\"><title>0&#45;&gt;2</title>\r\n",
       "<path fill=\"none\" stroke=\"#ff0000\" d=\"M98.8901,-161.486C128.926,-148.737 168.861,-131.785 204.286,-116.749\"/>\r\n",
       "<polygon fill=\"#ff0000\" stroke=\"#ff0000\" points=\"205.827,-119.897 213.665,-112.768 203.092,-113.453 205.827,-119.897\"/>\r\n",
       "<text text-anchor=\"middle\" x=\"155.191\" y=\"-155.043\" font-family=\"Times New Roman,serif\" font-size=\"14.00\">no</text>\r\n",
       "</g>\r\n",
       "<!-- 3 -->\r\n",
       "<g id=\"node4\" class=\"node\"><title>3</title>\r\n",
       "<polygon fill=\"none\" stroke=\"black\" points=\"575.176,-294.243 475.176,-294.243 475.176,-258.243 575.176,-258.243 575.176,-294.243\"/>\r\n",
       "<text text-anchor=\"middle\" x=\"525.176\" y=\"-272.543\" font-family=\"Times New Roman,serif\" font-size=\"14.00\">leaf=&#45;0.129734</text>\r\n",
       "</g>\r\n",
       "<!-- 1&#45;&gt;3 -->\r\n",
       "<g id=\"edge3\" class=\"edge\"><title>1&#45;&gt;3</title>\r\n",
       "<path fill=\"none\" stroke=\"#0000ff\" d=\"M357.686,-257.052C391.581,-260.959 432.228,-265.644 464.874,-269.407\"/>\r\n",
       "<polygon fill=\"#0000ff\" stroke=\"#0000ff\" points=\"464.839,-272.926 475.174,-270.595 465.641,-265.972 464.839,-272.926\"/>\r\n",
       "<text text-anchor=\"middle\" x=\"422.676\" y=\"-272.043\" font-family=\"Times New Roman,serif\" font-size=\"14.00\">yes, missing</text>\r\n",
       "</g>\r\n",
       "<!-- 4 -->\r\n",
       "<g id=\"node5\" class=\"node\"><title>4</title>\r\n",
       "<polygon fill=\"none\" stroke=\"black\" points=\"553.176,-240.243 497.176,-240.243 497.176,-204.243 553.176,-204.243 553.176,-240.243\"/>\r\n",
       "<text text-anchor=\"middle\" x=\"525.176\" y=\"-218.543\" font-family=\"Times New Roman,serif\" font-size=\"14.00\">leaf=&#45;0</text>\r\n",
       "</g>\r\n",
       "<!-- 1&#45;&gt;4 -->\r\n",
       "<g id=\"edge4\" class=\"edge\"><title>1&#45;&gt;4</title>\r\n",
       "<path fill=\"none\" stroke=\"#ff0000\" d=\"M357.686,-241.433C399.687,-236.592 452.056,-230.556 486.722,-226.56\"/>\r\n",
       "<polygon fill=\"#ff0000\" stroke=\"#ff0000\" points=\"487.348,-230.011 496.882,-225.389 486.547,-223.057 487.348,-230.011\"/>\r\n",
       "<text text-anchor=\"middle\" x=\"422.676\" y=\"-241.043\" font-family=\"Times New Roman,serif\" font-size=\"14.00\">no</text>\r\n",
       "</g>\r\n",
       "<!-- 5 -->\r\n",
       "<g id=\"node6\" class=\"node\"><title>5</title>\r\n",
       "<polygon fill=\"none\" stroke=\"black\" points=\"553.176,-126.243 497.176,-126.243 497.176,-90.2428 553.176,-90.2428 553.176,-126.243\"/>\r\n",
       "<text text-anchor=\"middle\" x=\"525.176\" y=\"-104.543\" font-family=\"Times New Roman,serif\" font-size=\"14.00\">leaf=&#45;0</text>\r\n",
       "</g>\r\n",
       "<!-- 2&#45;&gt;5 -->\r\n",
       "<g id=\"edge5\" class=\"edge\"><title>2&#45;&gt;5</title>\r\n",
       "<path fill=\"none\" stroke=\"#0000ff\" d=\"M369.892,-90.4591C409.544,-95.0296 455.536,-100.331 486.919,-103.948\"/>\r\n",
       "<polygon fill=\"#0000ff\" stroke=\"#0000ff\" points=\"486.637,-107.439 496.972,-105.107 487.439,-100.485 486.637,-107.439\"/>\r\n",
       "<text text-anchor=\"middle\" x=\"422.676\" y=\"-104.043\" font-family=\"Times New Roman,serif\" font-size=\"14.00\">yes, missing</text>\r\n",
       "</g>\r\n",
       "<!-- 6 -->\r\n",
       "<g id=\"node7\" class=\"node\"><title>6</title>\r\n",
       "<polygon fill=\"none\" stroke=\"black\" points=\"572.676,-72.2428 477.676,-72.2428 477.676,-36.2428 572.676,-36.2428 572.676,-72.2428\"/>\r\n",
       "<text text-anchor=\"middle\" x=\"525.176\" y=\"-50.5428\" font-family=\"Times New Roman,serif\" font-size=\"14.00\">leaf=0.103318</text>\r\n",
       "</g>\r\n",
       "<!-- 2&#45;&gt;6 -->\r\n",
       "<g id=\"edge6\" class=\"edge\"><title>2&#45;&gt;6</title>\r\n",
       "<path fill=\"none\" stroke=\"#ff0000\" d=\"M369.892,-72.0264C401.902,-68.3367 438.044,-64.1708 467.297,-60.799\"/>\r\n",
       "<polygon fill=\"#ff0000\" stroke=\"#ff0000\" points=\"467.806,-64.2636 477.339,-59.6415 467.004,-57.3097 467.806,-64.2636\"/>\r\n",
       "<text text-anchor=\"middle\" x=\"422.676\" y=\"-73.0428\" font-family=\"Times New Roman,serif\" font-size=\"14.00\">no</text>\r\n",
       "</g>\r\n",
       "</g>\r\n",
       "</svg>\r\n"
      ],
      "text/plain": [
       "<graphviz.dot.Digraph at 0xaae50b8>"
      ]
     },
     "execution_count": 43,
     "metadata": {},
     "output_type": "execute_result"
    }
   ],
   "source": [
    "xgb.to_graphviz(bestXGB, num_trees=5, rankdir='LR' )"
   ]
  },
  {
   "cell_type": "code",
   "execution_count": 44,
   "metadata": {
    "collapsed": false
   },
   "outputs": [
    {
     "data": {
      "image/svg+xml": [
       "<?xml version=\"1.0\" encoding=\"UTF-8\" standalone=\"no\"?>\r\n",
       "<!DOCTYPE svg PUBLIC \"-//W3C//DTD SVG 1.1//EN\"\r\n",
       " \"http://www.w3.org/Graphics/SVG/1.1/DTD/svg11.dtd\">\r\n",
       "<!-- Generated by graphviz version 2.38.0 (20140413.2041)\r\n",
       " -->\r\n",
       "<!-- Title: %3 Pages: 1 -->\r\n",
       "<svg width=\"598pt\" height=\"304pt\"\r\n",
       " viewBox=\"0.00 0.00 598.18 304.09\" xmlns=\"http://www.w3.org/2000/svg\" xmlns:xlink=\"http://www.w3.org/1999/xlink\">\r\n",
       "<g id=\"graph0\" class=\"graph\" transform=\"scale(1 1) rotate(0) translate(4 300.088)\">\r\n",
       "<title>%3</title>\r\n",
       "<polygon fill=\"white\" stroke=\"none\" points=\"-4,4 -4,-300.088 594.175,-300.088 594.175,4 -4,4\"/>\r\n",
       "<!-- 0 -->\r\n",
       "<g id=\"node1\" class=\"node\"><title>0</title>\r\n",
       "<ellipse fill=\"none\" stroke=\"black\" cx=\"51.3454\" cy=\"-144.345\" rx=\"51.1914\" ry=\"51.1914\"/>\r\n",
       "<text text-anchor=\"middle\" x=\"51.3454\" y=\"-140.645\" font-family=\"Times New Roman,serif\" font-size=\"14.00\">cell_size&lt;3</text>\r\n",
       "</g>\r\n",
       "<!-- 1 -->\r\n",
       "<g id=\"node2\" class=\"node\"><title>1</title>\r\n",
       "<ellipse fill=\"none\" stroke=\"black\" cx=\"295.433\" cy=\"-208.345\" rx=\"87.9851\" ry=\"87.9851\"/>\r\n",
       "<text text-anchor=\"middle\" x=\"295.433\" y=\"-204.645\" font-family=\"Times New Roman,serif\" font-size=\"14.00\">marginal_adhesion&lt;4</text>\r\n",
       "</g>\r\n",
       "<!-- 0&#45;&gt;1 -->\r\n",
       "<g id=\"edge1\" class=\"edge\"><title>0&#45;&gt;1</title>\r\n",
       "<path fill=\"none\" stroke=\"#0000ff\" d=\"M101.335,-157.297C129.755,-164.81 166.505,-174.526 200.307,-183.461\"/>\r\n",
       "<polygon fill=\"#0000ff\" stroke=\"#0000ff\" points=\"199.657,-186.91 210.219,-186.082 201.446,-180.142 199.657,-186.91\"/>\r\n",
       "<text text-anchor=\"middle\" x=\"155.191\" y=\"-183.145\" font-family=\"Times New Roman,serif\" font-size=\"14.00\">yes, missing</text>\r\n",
       "</g>\r\n",
       "<!-- 2 -->\r\n",
       "<g id=\"node3\" class=\"node\"><title>2</title>\r\n",
       "<ellipse fill=\"none\" stroke=\"black\" cx=\"295.433\" cy=\"-51.3454\" rx=\"51.1914\" ry=\"51.1914\"/>\r\n",
       "<text text-anchor=\"middle\" x=\"295.433\" y=\"-47.6454\" font-family=\"Times New Roman,serif\" font-size=\"14.00\">cell_size&lt;4</text>\r\n",
       "</g>\r\n",
       "<!-- 0&#45;&gt;2 -->\r\n",
       "<g id=\"edge2\" class=\"edge\"><title>0&#45;&gt;2</title>\r\n",
       "<path fill=\"none\" stroke=\"#ff0000\" d=\"M99.5971,-126.193C139.171,-110.991 195.762,-89.2509 237.765,-73.1148\"/>\r\n",
       "<polygon fill=\"#ff0000\" stroke=\"#ff0000\" points=\"239.221,-76.3051 247.301,-69.4518 236.711,-69.7707 239.221,-76.3051\"/>\r\n",
       "<text text-anchor=\"middle\" x=\"155.191\" y=\"-120.145\" font-family=\"Times New Roman,serif\" font-size=\"14.00\">no</text>\r\n",
       "</g>\r\n",
       "<!-- 3 -->\r\n",
       "<g id=\"node4\" class=\"node\"><title>3</title>\r\n",
       "<polygon fill=\"none\" stroke=\"black\" points=\"589.175,-254.345 489.175,-254.345 489.175,-218.345 589.175,-218.345 589.175,-254.345\"/>\r\n",
       "<text text-anchor=\"middle\" x=\"539.175\" y=\"-232.645\" font-family=\"Times New Roman,serif\" font-size=\"14.00\">leaf=&#45;0.118563</text>\r\n",
       "</g>\r\n",
       "<!-- 1&#45;&gt;3 -->\r\n",
       "<g id=\"edge3\" class=\"edge\"><title>1&#45;&gt;3</title>\r\n",
       "<path fill=\"none\" stroke=\"#0000ff\" d=\"M382.684,-218.336C414.584,-222.03 449.998,-226.132 478.962,-229.487\"/>\r\n",
       "<polygon fill=\"#0000ff\" stroke=\"#0000ff\" points=\"478.585,-232.967 488.921,-230.641 479.39,-226.013 478.585,-232.967\"/>\r\n",
       "<text text-anchor=\"middle\" x=\"435.675\" y=\"-231.145\" font-family=\"Times New Roman,serif\" font-size=\"14.00\">yes, missing</text>\r\n",
       "</g>\r\n",
       "<!-- 4 -->\r\n",
       "<g id=\"node5\" class=\"node\"><title>4</title>\r\n",
       "<polygon fill=\"none\" stroke=\"black\" points=\"567.175,-200.345 511.175,-200.345 511.175,-164.345 567.175,-164.345 567.175,-200.345\"/>\r\n",
       "<text text-anchor=\"middle\" x=\"539.175\" y=\"-178.645\" font-family=\"Times New Roman,serif\" font-size=\"14.00\">leaf=&#45;0</text>\r\n",
       "</g>\r\n",
       "<!-- 1&#45;&gt;4 -->\r\n",
       "<g id=\"edge4\" class=\"edge\"><title>1&#45;&gt;4</title>\r\n",
       "<path fill=\"none\" stroke=\"#ff0000\" d=\"M382.684,-199.069C423.251,-194.706 469.501,-189.732 500.941,-186.35\"/>\r\n",
       "<polygon fill=\"#ff0000\" stroke=\"#ff0000\" points=\"501.437,-189.817 511.005,-185.268 500.688,-182.857 501.437,-189.817\"/>\r\n",
       "<text text-anchor=\"middle\" x=\"435.675\" y=\"-200.145\" font-family=\"Times New Roman,serif\" font-size=\"14.00\">no</text>\r\n",
       "</g>\r\n",
       "<!-- 5 -->\r\n",
       "<g id=\"node6\" class=\"node\"><title>5</title>\r\n",
       "<polygon fill=\"none\" stroke=\"black\" points=\"567.175,-121.345 511.175,-121.345 511.175,-85.3454 567.175,-85.3454 567.175,-121.345\"/>\r\n",
       "<text text-anchor=\"middle\" x=\"539.175\" y=\"-99.6454\" font-family=\"Times New Roman,serif\" font-size=\"14.00\">leaf=&#45;0</text>\r\n",
       "</g>\r\n",
       "<!-- 2&#45;&gt;5 -->\r\n",
       "<g id=\"edge5\" class=\"edge\"><title>2&#45;&gt;5</title>\r\n",
       "<path fill=\"none\" stroke=\"#0000ff\" d=\"M345.937,-61.9939C391.907,-71.8824 459.336,-86.3867 500.905,-95.3285\"/>\r\n",
       "<polygon fill=\"#0000ff\" stroke=\"#0000ff\" points=\"500.375,-98.7945 510.888,-97.4758 501.847,-91.951 500.375,-98.7945\"/>\r\n",
       "<text text-anchor=\"middle\" x=\"435.675\" y=\"-91.1454\" font-family=\"Times New Roman,serif\" font-size=\"14.00\">yes, missing</text>\r\n",
       "</g>\r\n",
       "<!-- 6 -->\r\n",
       "<g id=\"node7\" class=\"node\"><title>6</title>\r\n",
       "<polygon fill=\"none\" stroke=\"black\" points=\"590.175,-67.3454 488.175,-67.3454 488.175,-31.3454 590.175,-31.3454 590.175,-67.3454\"/>\r\n",
       "<text text-anchor=\"middle\" x=\"539.175\" y=\"-45.6454\" font-family=\"Times New Roman,serif\" font-size=\"14.00\">leaf=0.0912301</text>\r\n",
       "</g>\r\n",
       "<!-- 2&#45;&gt;6 -->\r\n",
       "<g id=\"edge6\" class=\"edge\"><title>2&#45;&gt;6</title>\r\n",
       "<path fill=\"none\" stroke=\"#ff0000\" d=\"M346.816,-50.9286C384.877,-50.6137 437.271,-50.1803 477.613,-49.8465\"/>\r\n",
       "<polygon fill=\"#ff0000\" stroke=\"#ff0000\" points=\"477.887,-53.3444 487.857,-49.7617 477.829,-46.3447 477.887,-53.3444\"/>\r\n",
       "<text text-anchor=\"middle\" x=\"435.675\" y=\"-54.1454\" font-family=\"Times New Roman,serif\" font-size=\"14.00\">no</text>\r\n",
       "</g>\r\n",
       "</g>\r\n",
       "</svg>\r\n"
      ],
      "text/plain": [
       "<graphviz.dot.Digraph at 0xa299470>"
      ]
     },
     "execution_count": 44,
     "metadata": {},
     "output_type": "execute_result"
    }
   ],
   "source": [
    "xgb.to_graphviz(bestXGB, num_trees=6, rankdir='LR' )"
   ]
  },
  {
   "cell_type": "code",
   "execution_count": 45,
   "metadata": {
    "collapsed": false
   },
   "outputs": [
    {
     "data": {
      "image/svg+xml": [
       "<?xml version=\"1.0\" encoding=\"UTF-8\" standalone=\"no\"?>\r\n",
       "<!DOCTYPE svg PUBLIC \"-//W3C//DTD SVG 1.1//EN\"\r\n",
       " \"http://www.w3.org/Graphics/SVG/1.1/DTD/svg11.dtd\">\r\n",
       "<!-- Generated by graphviz version 2.38.0 (20140413.2041)\r\n",
       " -->\r\n",
       "<!-- Title: %3 Pages: 1 -->\r\n",
       "<svg width=\"579pt\" height=\"284pt\"\r\n",
       " viewBox=\"0.00 0.00 578.68 284.34\" xmlns=\"http://www.w3.org/2000/svg\" xmlns:xlink=\"http://www.w3.org/1999/xlink\">\r\n",
       "<g id=\"graph0\" class=\"graph\" transform=\"scale(1 1) rotate(0) translate(4 280.339)\">\r\n",
       "<title>%3</title>\r\n",
       "<polygon fill=\"white\" stroke=\"none\" points=\"-4,4 -4,-280.339 574.677,-280.339 574.677,4 -4,4\"/>\r\n",
       "<!-- 0 -->\r\n",
       "<g id=\"node1\" class=\"node\"><title>0</title>\r\n",
       "<ellipse fill=\"none\" stroke=\"black\" cx=\"51.3454\" cy=\"-137.345\" rx=\"51.1914\" ry=\"51.1914\"/>\r\n",
       "<text text-anchor=\"middle\" x=\"51.3454\" y=\"-133.645\" font-family=\"Times New Roman,serif\" font-size=\"14.00\">cell_size&lt;3</text>\r\n",
       "</g>\r\n",
       "<!-- 1 -->\r\n",
       "<g id=\"node2\" class=\"node\"><title>1</title>\r\n",
       "<ellipse fill=\"none\" stroke=\"black\" cx=\"285.684\" cy=\"-198.345\" rx=\"77.9862\" ry=\"77.9862\"/>\r\n",
       "<text text-anchor=\"middle\" x=\"285.684\" y=\"-194.645\" font-family=\"Times New Roman,serif\" font-size=\"14.00\">normal_nucleoli&lt;3</text>\r\n",
       "</g>\r\n",
       "<!-- 0&#45;&gt;1 -->\r\n",
       "<g id=\"edge1\" class=\"edge\"><title>0&#45;&gt;1</title>\r\n",
       "<path fill=\"none\" stroke=\"#0000ff\" d=\"M101.335,-150.207C130.053,-157.747 167.117,-167.478 200.397,-176.216\"/>\r\n",
       "<polygon fill=\"#0000ff\" stroke=\"#0000ff\" points=\"199.569,-179.617 210.13,-178.771 201.347,-172.847 199.569,-179.617\"/>\r\n",
       "<text text-anchor=\"middle\" x=\"155.191\" y=\"-176.145\" font-family=\"Times New Roman,serif\" font-size=\"14.00\">yes, missing</text>\r\n",
       "</g>\r\n",
       "<!-- 2 -->\r\n",
       "<g id=\"node3\" class=\"node\"><title>2</title>\r\n",
       "<ellipse fill=\"none\" stroke=\"black\" cx=\"285.684\" cy=\"-51.3454\" rx=\"51.1914\" ry=\"51.1914\"/>\r\n",
       "<text text-anchor=\"middle\" x=\"285.684\" y=\"-47.6454\" font-family=\"Times New Roman,serif\" font-size=\"14.00\">cell_size&lt;4</text>\r\n",
       "</g>\r\n",
       "<!-- 0&#45;&gt;2 -->\r\n",
       "<g id=\"edge2\" class=\"edge\"><title>0&#45;&gt;2</title>\r\n",
       "<path fill=\"none\" stroke=\"#ff0000\" d=\"M99.6427,-119.838C136.582,-106.165 188.061,-87.1103 227.346,-72.5691\"/>\r\n",
       "<polygon fill=\"#ff0000\" stroke=\"#ff0000\" points=\"228.891,-75.7292 237.055,-68.9754 226.461,-69.1645 228.891,-75.7292\"/>\r\n",
       "<text text-anchor=\"middle\" x=\"155.191\" y=\"-115.145\" font-family=\"Times New Roman,serif\" font-size=\"14.00\">no</text>\r\n",
       "</g>\r\n",
       "<!-- 3 -->\r\n",
       "<g id=\"node4\" class=\"node\"><title>3</title>\r\n",
       "<polygon fill=\"none\" stroke=\"black\" points=\"569.677,-247.345 469.677,-247.345 469.677,-211.345 569.677,-211.345 569.677,-247.345\"/>\r\n",
       "<text text-anchor=\"middle\" x=\"519.677\" y=\"-225.645\" font-family=\"Times New Roman,serif\" font-size=\"14.00\">leaf=&#45;0.115322</text>\r\n",
       "</g>\r\n",
       "<!-- 1&#45;&gt;3 -->\r\n",
       "<g id=\"edge3\" class=\"edge\"><title>1&#45;&gt;3</title>\r\n",
       "<path fill=\"none\" stroke=\"#0000ff\" d=\"M363.29,-208.582C394.576,-212.763 430.201,-217.523 459.44,-221.43\"/>\r\n",
       "<polygon fill=\"#0000ff\" stroke=\"#0000ff\" points=\"459.123,-224.919 469.498,-222.774 460.05,-217.98 459.123,-224.919\"/>\r\n",
       "<text text-anchor=\"middle\" x=\"416.177\" y=\"-223.145\" font-family=\"Times New Roman,serif\" font-size=\"14.00\">yes, missing</text>\r\n",
       "</g>\r\n",
       "<!-- 4 -->\r\n",
       "<g id=\"node5\" class=\"node\"><title>4</title>\r\n",
       "<polygon fill=\"none\" stroke=\"black\" points=\"547.677,-193.345 491.677,-193.345 491.677,-157.345 547.677,-157.345 547.677,-193.345\"/>\r\n",
       "<text text-anchor=\"middle\" x=\"519.677\" y=\"-171.645\" font-family=\"Times New Roman,serif\" font-size=\"14.00\">leaf=&#45;0</text>\r\n",
       "</g>\r\n",
       "<!-- 1&#45;&gt;4 -->\r\n",
       "<g id=\"edge4\" class=\"edge\"><title>1&#45;&gt;4</title>\r\n",
       "<path fill=\"none\" stroke=\"#ff0000\" d=\"M363.612,-190.719C403.191,-186.795 449.642,-182.19 481.313,-179.05\"/>\r\n",
       "<polygon fill=\"#ff0000\" stroke=\"#ff0000\" points=\"481.85,-182.514 491.456,-178.044 481.16,-175.548 481.85,-182.514\"/>\r\n",
       "<text text-anchor=\"middle\" x=\"416.177\" y=\"-192.145\" font-family=\"Times New Roman,serif\" font-size=\"14.00\">no</text>\r\n",
       "</g>\r\n",
       "<!-- 5 -->\r\n",
       "<g id=\"node6\" class=\"node\"><title>5</title>\r\n",
       "<polygon fill=\"none\" stroke=\"black\" points=\"547.677,-116.345 491.677,-116.345 491.677,-80.3454 547.677,-80.3454 547.677,-116.345\"/>\r\n",
       "<text text-anchor=\"middle\" x=\"519.677\" y=\"-94.6454\" font-family=\"Times New Roman,serif\" font-size=\"14.00\">leaf=&#45;0</text>\r\n",
       "</g>\r\n",
       "<!-- 2&#45;&gt;5 -->\r\n",
       "<g id=\"edge5\" class=\"edge\"><title>2&#45;&gt;5</title>\r\n",
       "<path fill=\"none\" stroke=\"#0000ff\" d=\"M336.168,-61.3705C379.656,-70.1808 441.983,-82.8077 481.383,-90.7899\"/>\r\n",
       "<polygon fill=\"#0000ff\" stroke=\"#0000ff\" points=\"480.87,-94.2571 491.366,-92.8125 482.26,-87.3965 480.87,-94.2571\"/>\r\n",
       "<text text-anchor=\"middle\" x=\"416.177\" y=\"-88.1454\" font-family=\"Times New Roman,serif\" font-size=\"14.00\">yes, missing</text>\r\n",
       "</g>\r\n",
       "<!-- 6 -->\r\n",
       "<g id=\"node7\" class=\"node\"><title>6</title>\r\n",
       "<polygon fill=\"none\" stroke=\"black\" points=\"570.677,-62.3454 468.677,-62.3454 468.677,-26.3454 570.677,-26.3454 570.677,-62.3454\"/>\r\n",
       "<text text-anchor=\"middle\" x=\"519.677\" y=\"-40.6454\" font-family=\"Times New Roman,serif\" font-size=\"14.00\">leaf=0.0887956</text>\r\n",
       "</g>\r\n",
       "<!-- 2&#45;&gt;6 -->\r\n",
       "<g id=\"edge6\" class=\"edge\"><title>2&#45;&gt;6</title>\r\n",
       "<path fill=\"none\" stroke=\"#ff0000\" d=\"M337.023,-49.8265C372.592,-48.7533 420.442,-47.3095 458.103,-46.1732\"/>\r\n",
       "<polygon fill=\"#ff0000\" stroke=\"#ff0000\" points=\"458.546,-49.6615 468.436,-45.8614 458.335,-42.6647 458.546,-49.6615\"/>\r\n",
       "<text text-anchor=\"middle\" x=\"416.177\" y=\"-52.1454\" font-family=\"Times New Roman,serif\" font-size=\"14.00\">no</text>\r\n",
       "</g>\r\n",
       "</g>\r\n",
       "</svg>\r\n"
      ],
      "text/plain": [
       "<graphviz.dot.Digraph at 0xa2995f8>"
      ]
     },
     "execution_count": 45,
     "metadata": {},
     "output_type": "execute_result"
    }
   ],
   "source": [
    "xgb.to_graphviz(bestXGB, num_trees=7, rankdir='LR' )"
   ]
  },
  {
   "cell_type": "code",
   "execution_count": 46,
   "metadata": {
    "collapsed": false
   },
   "outputs": [
    {
     "data": {
      "image/svg+xml": [
       "<?xml version=\"1.0\" encoding=\"UTF-8\" standalone=\"no\"?>\r\n",
       "<!DOCTYPE svg PUBLIC \"-//W3C//DTD SVG 1.1//EN\"\r\n",
       " \"http://www.w3.org/Graphics/SVG/1.1/DTD/svg11.dtd\">\r\n",
       "<!-- Generated by graphviz version 2.38.0 (20140413.2041)\r\n",
       " -->\r\n",
       "<!-- Title: %3 Pages: 1 -->\r\n",
       "<svg width=\"599pt\" height=\"350pt\"\r\n",
       " viewBox=\"0.00 0.00 599.48 350.49\" xmlns=\"http://www.w3.org/2000/svg\" xmlns:xlink=\"http://www.w3.org/1999/xlink\">\r\n",
       "<g id=\"graph0\" class=\"graph\" transform=\"scale(1 1) rotate(0) translate(4 346.486)\">\r\n",
       "<title>%3</title>\r\n",
       "<polygon fill=\"white\" stroke=\"none\" points=\"-4,4 -4,-346.486 595.475,-346.486 595.475,4 -4,4\"/>\r\n",
       "<!-- 0 -->\r\n",
       "<g id=\"node1\" class=\"node\"><title>0</title>\r\n",
       "<ellipse fill=\"none\" stroke=\"black\" cx=\"58.4948\" cy=\"-188.243\" rx=\"58.4896\" ry=\"58.4896\"/>\r\n",
       "<text text-anchor=\"middle\" x=\"58.4948\" y=\"-184.543\" font-family=\"Times New Roman,serif\" font-size=\"14.00\">cell_shape&lt;3</text>\r\n",
       "</g>\r\n",
       "<!-- 1 -->\r\n",
       "<g id=\"node2\" class=\"node\"><title>1</title>\r\n",
       "<ellipse fill=\"none\" stroke=\"black\" cx=\"303.232\" cy=\"-261.243\" rx=\"81.4863\" ry=\"81.4863\"/>\r\n",
       "<text text-anchor=\"middle\" x=\"303.232\" y=\"-257.543\" font-family=\"Times New Roman,serif\" font-size=\"14.00\">bland_chromatin&lt;4</text>\r\n",
       "</g>\r\n",
       "<!-- 0&#45;&gt;1 -->\r\n",
       "<g id=\"edge1\" class=\"edge\"><title>0&#45;&gt;1</title>\r\n",
       "<path fill=\"none\" stroke=\"#0000ff\" d=\"M114.879,-204.899C144.553,-213.823 181.787,-225.02 215.227,-235.077\"/>\r\n",
       "<polygon fill=\"#0000ff\" stroke=\"#0000ff\" points=\"214.424,-238.49 225.008,-238.019 216.44,-231.787 214.424,-238.49\"/>\r\n",
       "<text text-anchor=\"middle\" x=\"169.49\" y=\"-235.043\" font-family=\"Times New Roman,serif\" font-size=\"14.00\">yes, missing</text>\r\n",
       "</g>\r\n",
       "<!-- 2 -->\r\n",
       "<g id=\"node3\" class=\"node\"><title>2</title>\r\n",
       "<ellipse fill=\"none\" stroke=\"black\" cx=\"303.232\" cy=\"-81.2428\" rx=\"81.4863\" ry=\"81.4863\"/>\r\n",
       "<text text-anchor=\"middle\" x=\"303.232\" y=\"-77.5428\" font-family=\"Times New Roman,serif\" font-size=\"14.00\">bland_chromatin&lt;3</text>\r\n",
       "</g>\r\n",
       "<!-- 0&#45;&gt;2 -->\r\n",
       "<g id=\"edge2\" class=\"edge\"><title>0&#45;&gt;2</title>\r\n",
       "<path fill=\"none\" stroke=\"#ff0000\" d=\"M112.465,-164.893C143.71,-151.12 183.935,-133.389 219.304,-117.798\"/>\r\n",
       "<polygon fill=\"#ff0000\" stroke=\"#ff0000\" points=\"220.921,-120.91 228.659,-113.674 218.097,-114.505 220.921,-120.91\"/>\r\n",
       "<text text-anchor=\"middle\" x=\"169.49\" y=\"-157.043\" font-family=\"Times New Roman,serif\" font-size=\"14.00\">no</text>\r\n",
       "</g>\r\n",
       "<!-- 3 -->\r\n",
       "<g id=\"node4\" class=\"node\"><title>3</title>\r\n",
       "<polygon fill=\"none\" stroke=\"black\" points=\"590.475,-306.243 490.475,-306.243 490.475,-270.243 590.475,-270.243 590.475,-306.243\"/>\r\n",
       "<text text-anchor=\"middle\" x=\"540.475\" y=\"-284.543\" font-family=\"Times New Roman,serif\" font-size=\"14.00\">leaf=&#45;0.112409</text>\r\n",
       "</g>\r\n",
       "<!-- 1&#45;&gt;3 -->\r\n",
       "<g id=\"edge3\" class=\"edge\"><title>1&#45;&gt;3</title>\r\n",
       "<path fill=\"none\" stroke=\"#0000ff\" d=\"M384.203,-270.421C415.659,-274.032 451.13,-278.103 480.221,-281.442\"/>\r\n",
       "<polygon fill=\"#0000ff\" stroke=\"#0000ff\" points=\"479.894,-284.927 490.228,-282.59 480.692,-277.973 479.894,-284.927\"/>\r\n",
       "<text text-anchor=\"middle\" x=\"436.975\" y=\"-284.043\" font-family=\"Times New Roman,serif\" font-size=\"14.00\">yes, missing</text>\r\n",
       "</g>\r\n",
       "<!-- 4 -->\r\n",
       "<g id=\"node5\" class=\"node\"><title>4</title>\r\n",
       "<polygon fill=\"none\" stroke=\"black\" points=\"568.475,-252.243 512.475,-252.243 512.475,-216.243 568.475,-216.243 568.475,-252.243\"/>\r\n",
       "<text text-anchor=\"middle\" x=\"540.475\" y=\"-230.543\" font-family=\"Times New Roman,serif\" font-size=\"14.00\">leaf=&#45;0</text>\r\n",
       "</g>\r\n",
       "<!-- 1&#45;&gt;4 -->\r\n",
       "<g id=\"edge4\" class=\"edge\"><title>1&#45;&gt;4</title>\r\n",
       "<path fill=\"none\" stroke=\"#ff0000\" d=\"M384.203,-252.064C424.173,-247.477 470.627,-242.145 502.235,-238.517\"/>\r\n",
       "<polygon fill=\"#ff0000\" stroke=\"#ff0000\" points=\"502.819,-241.973 512.354,-237.356 502.021,-235.019 502.819,-241.973\"/>\r\n",
       "<text text-anchor=\"middle\" x=\"436.975\" y=\"-253.043\" font-family=\"Times New Roman,serif\" font-size=\"14.00\">no</text>\r\n",
       "</g>\r\n",
       "<!-- 5 -->\r\n",
       "<g id=\"node6\" class=\"node\"><title>5</title>\r\n",
       "<polygon fill=\"none\" stroke=\"black\" points=\"568.475,-126.243 512.475,-126.243 512.475,-90.2428 568.475,-90.2428 568.475,-126.243\"/>\r\n",
       "<text text-anchor=\"middle\" x=\"540.475\" y=\"-104.543\" font-family=\"Times New Roman,serif\" font-size=\"14.00\">leaf=&#45;0</text>\r\n",
       "</g>\r\n",
       "<!-- 2&#45;&gt;5 -->\r\n",
       "<g id=\"edge5\" class=\"edge\"><title>2&#45;&gt;5</title>\r\n",
       "<path fill=\"none\" stroke=\"#0000ff\" d=\"M384.203,-90.4214C424.173,-95.009 470.627,-100.341 502.235,-103.969\"/>\r\n",
       "<polygon fill=\"#0000ff\" stroke=\"#0000ff\" points=\"502.021,-107.467 512.354,-105.13 502.819,-100.512 502.021,-107.467\"/>\r\n",
       "<text text-anchor=\"middle\" x=\"436.975\" y=\"-104.043\" font-family=\"Times New Roman,serif\" font-size=\"14.00\">yes, missing</text>\r\n",
       "</g>\r\n",
       "<!-- 6 -->\r\n",
       "<g id=\"node7\" class=\"node\"><title>6</title>\r\n",
       "<polygon fill=\"none\" stroke=\"black\" points=\"591.475,-72.2428 489.475,-72.2428 489.475,-36.2428 591.475,-36.2428 591.475,-72.2428\"/>\r\n",
       "<text text-anchor=\"middle\" x=\"540.475\" y=\"-50.5428\" font-family=\"Times New Roman,serif\" font-size=\"14.00\">leaf=0.0838101</text>\r\n",
       "</g>\r\n",
       "<!-- 2&#45;&gt;6 -->\r\n",
       "<g id=\"edge6\" class=\"edge\"><title>2&#45;&gt;6</title>\r\n",
       "<path fill=\"none\" stroke=\"#ff0000\" d=\"M384.203,-72.0641C415.301,-68.4949 450.325,-64.4751 479.227,-61.1578\"/>\r\n",
       "<polygon fill=\"#ff0000\" stroke=\"#ff0000\" points=\"479.643,-64.6331 489.178,-60.0156 478.844,-57.6788 479.643,-64.6331\"/>\r\n",
       "<text text-anchor=\"middle\" x=\"436.975\" y=\"-73.0428\" font-family=\"Times New Roman,serif\" font-size=\"14.00\">no</text>\r\n",
       "</g>\r\n",
       "</g>\r\n",
       "</svg>\r\n"
      ],
      "text/plain": [
       "<graphviz.dot.Digraph at 0xaac4748>"
      ]
     },
     "execution_count": 46,
     "metadata": {},
     "output_type": "execute_result"
    }
   ],
   "source": [
    "xgb.to_graphviz(bestXGB, num_trees=8, rankdir='LR' )"
   ]
  },
  {
   "cell_type": "code",
   "execution_count": 47,
   "metadata": {
    "collapsed": false
   },
   "outputs": [
    {
     "data": {
      "image/svg+xml": [
       "<?xml version=\"1.0\" encoding=\"UTF-8\" standalone=\"no\"?>\r\n",
       "<!DOCTYPE svg PUBLIC \"-//W3C//DTD SVG 1.1//EN\"\r\n",
       " \"http://www.w3.org/Graphics/SVG/1.1/DTD/svg11.dtd\">\r\n",
       "<!-- Generated by graphviz version 2.38.0 (20140413.2041)\r\n",
       " -->\r\n",
       "<!-- Title: %3 Pages: 1 -->\r\n",
       "<svg width=\"577pt\" height=\"284pt\"\r\n",
       " viewBox=\"0.00 0.00 576.68 284.34\" xmlns=\"http://www.w3.org/2000/svg\" xmlns:xlink=\"http://www.w3.org/1999/xlink\">\r\n",
       "<g id=\"graph0\" class=\"graph\" transform=\"scale(1 1) rotate(0) translate(4 280.339)\">\r\n",
       "<title>%3</title>\r\n",
       "<polygon fill=\"white\" stroke=\"none\" points=\"-4,4 -4,-280.339 572.677,-280.339 572.677,4 -4,4\"/>\r\n",
       "<!-- 0 -->\r\n",
       "<g id=\"node1\" class=\"node\"><title>0</title>\r\n",
       "<ellipse fill=\"none\" stroke=\"black\" cx=\"51.3454\" cy=\"-137.345\" rx=\"51.1914\" ry=\"51.1914\"/>\r\n",
       "<text text-anchor=\"middle\" x=\"51.3454\" y=\"-133.645\" font-family=\"Times New Roman,serif\" font-size=\"14.00\">cell_size&lt;3</text>\r\n",
       "</g>\r\n",
       "<!-- 1 -->\r\n",
       "<g id=\"node2\" class=\"node\"><title>1</title>\r\n",
       "<ellipse fill=\"none\" stroke=\"black\" cx=\"285.684\" cy=\"-198.345\" rx=\"77.9862\" ry=\"77.9862\"/>\r\n",
       "<text text-anchor=\"middle\" x=\"285.684\" y=\"-194.645\" font-family=\"Times New Roman,serif\" font-size=\"14.00\">normal_nucleoli&lt;3</text>\r\n",
       "</g>\r\n",
       "<!-- 0&#45;&gt;1 -->\r\n",
       "<g id=\"edge1\" class=\"edge\"><title>0&#45;&gt;1</title>\r\n",
       "<path fill=\"none\" stroke=\"#0000ff\" d=\"M101.335,-150.207C130.053,-157.747 167.117,-167.478 200.397,-176.216\"/>\r\n",
       "<polygon fill=\"#0000ff\" stroke=\"#0000ff\" points=\"199.569,-179.617 210.13,-178.771 201.347,-172.847 199.569,-179.617\"/>\r\n",
       "<text text-anchor=\"middle\" x=\"155.191\" y=\"-176.145\" font-family=\"Times New Roman,serif\" font-size=\"14.00\">yes, missing</text>\r\n",
       "</g>\r\n",
       "<!-- 2 -->\r\n",
       "<g id=\"node3\" class=\"node\"><title>2</title>\r\n",
       "<ellipse fill=\"none\" stroke=\"black\" cx=\"285.684\" cy=\"-51.3454\" rx=\"51.1914\" ry=\"51.1914\"/>\r\n",
       "<text text-anchor=\"middle\" x=\"285.684\" y=\"-47.6454\" font-family=\"Times New Roman,serif\" font-size=\"14.00\">cell_size&lt;4</text>\r\n",
       "</g>\r\n",
       "<!-- 0&#45;&gt;2 -->\r\n",
       "<g id=\"edge2\" class=\"edge\"><title>0&#45;&gt;2</title>\r\n",
       "<path fill=\"none\" stroke=\"#ff0000\" d=\"M99.6427,-119.838C136.582,-106.165 188.061,-87.1103 227.346,-72.5691\"/>\r\n",
       "<polygon fill=\"#ff0000\" stroke=\"#ff0000\" points=\"228.891,-75.7292 237.055,-68.9754 226.461,-69.1645 228.891,-75.7292\"/>\r\n",
       "<text text-anchor=\"middle\" x=\"155.191\" y=\"-115.145\" font-family=\"Times New Roman,serif\" font-size=\"14.00\">no</text>\r\n",
       "</g>\r\n",
       "<!-- 3 -->\r\n",
       "<g id=\"node4\" class=\"node\"><title>3</title>\r\n",
       "<polygon fill=\"none\" stroke=\"black\" points=\"568.677,-247.345 468.677,-247.345 468.677,-211.345 568.677,-211.345 568.677,-247.345\"/>\r\n",
       "<text text-anchor=\"middle\" x=\"518.677\" y=\"-225.645\" font-family=\"Times New Roman,serif\" font-size=\"14.00\">leaf=&#45;0.107164</text>\r\n",
       "</g>\r\n",
       "<!-- 1&#45;&gt;3 -->\r\n",
       "<g id=\"edge3\" class=\"edge\"><title>1&#45;&gt;3</title>\r\n",
       "<path fill=\"none\" stroke=\"#0000ff\" d=\"M363.28,-208.625C394.294,-212.787 429.546,-217.518 458.527,-221.407\"/>\r\n",
       "<polygon fill=\"#0000ff\" stroke=\"#0000ff\" points=\"458.123,-224.884 468.499,-222.746 459.054,-217.947 458.123,-224.884\"/>\r\n",
       "<text text-anchor=\"middle\" x=\"416.177\" y=\"-223.145\" font-family=\"Times New Roman,serif\" font-size=\"14.00\">yes, missing</text>\r\n",
       "</g>\r\n",
       "<!-- 4 -->\r\n",
       "<g id=\"node5\" class=\"node\"><title>4</title>\r\n",
       "<polygon fill=\"none\" stroke=\"black\" points=\"546.677,-193.345 490.677,-193.345 490.677,-157.345 546.677,-157.345 546.677,-193.345\"/>\r\n",
       "<text text-anchor=\"middle\" x=\"518.677\" y=\"-171.645\" font-family=\"Times New Roman,serif\" font-size=\"14.00\">leaf=&#45;0</text>\r\n",
       "</g>\r\n",
       "<!-- 1&#45;&gt;4 -->\r\n",
       "<g id=\"edge4\" class=\"edge\"><title>1&#45;&gt;4</title>\r\n",
       "<path fill=\"none\" stroke=\"#ff0000\" d=\"M363.601,-190.687C402.984,-186.765 449.129,-182.171 480.581,-179.039\"/>\r\n",
       "<polygon fill=\"#ff0000\" stroke=\"#ff0000\" points=\"481.049,-182.51 490.653,-178.036 480.355,-175.544 481.049,-182.51\"/>\r\n",
       "<text text-anchor=\"middle\" x=\"416.177\" y=\"-191.145\" font-family=\"Times New Roman,serif\" font-size=\"14.00\">no</text>\r\n",
       "</g>\r\n",
       "<!-- 5 -->\r\n",
       "<g id=\"node6\" class=\"node\"><title>5</title>\r\n",
       "<polygon fill=\"none\" stroke=\"black\" points=\"546.677,-116.345 490.677,-116.345 490.677,-80.3454 546.677,-80.3454 546.677,-116.345\"/>\r\n",
       "<text text-anchor=\"middle\" x=\"518.677\" y=\"-94.6454\" font-family=\"Times New Roman,serif\" font-size=\"14.00\">leaf=&#45;0</text>\r\n",
       "</g>\r\n",
       "<!-- 2&#45;&gt;5 -->\r\n",
       "<g id=\"edge5\" class=\"edge\"><title>2&#45;&gt;5</title>\r\n",
       "<path fill=\"none\" stroke=\"#0000ff\" d=\"M336.238,-61.4281C379.56,-70.2428 441.496,-82.845 480.636,-90.8088\"/>\r\n",
       "<polygon fill=\"#0000ff\" stroke=\"#0000ff\" points=\"480.056,-94.2624 490.553,-92.8266 481.452,-87.4029 480.056,-94.2624\"/>\r\n",
       "<text text-anchor=\"middle\" x=\"416.177\" y=\"-88.1454\" font-family=\"Times New Roman,serif\" font-size=\"14.00\">yes, missing</text>\r\n",
       "</g>\r\n",
       "<!-- 6 -->\r\n",
       "<g id=\"node7\" class=\"node\"><title>6</title>\r\n",
       "<polygon fill=\"none\" stroke=\"black\" points=\"566.177,-62.3454 471.177,-62.3454 471.177,-26.3454 566.177,-26.3454 566.177,-62.3454\"/>\r\n",
       "<text text-anchor=\"middle\" x=\"518.677\" y=\"-40.6454\" font-family=\"Times New Roman,serif\" font-size=\"14.00\">leaf=0.077952</text>\r\n",
       "</g>\r\n",
       "<!-- 2&#45;&gt;6 -->\r\n",
       "<g id=\"edge6\" class=\"edge\"><title>2&#45;&gt;6</title>\r\n",
       "<path fill=\"none\" stroke=\"#ff0000\" d=\"M337.091,-49.8179C373.493,-48.7148 422.704,-47.2235 460.56,-46.0763\"/>\r\n",
       "<polygon fill=\"#ff0000\" stroke=\"#ff0000\" points=\"461.028,-49.5638 470.917,-45.7625 460.815,-42.5671 461.028,-49.5638\"/>\r\n",
       "<text text-anchor=\"middle\" x=\"416.177\" y=\"-51.1454\" font-family=\"Times New Roman,serif\" font-size=\"14.00\">no</text>\r\n",
       "</g>\r\n",
       "</g>\r\n",
       "</svg>\r\n"
      ],
      "text/plain": [
       "<graphviz.dot.Digraph at 0xaadf7f0>"
      ]
     },
     "execution_count": 47,
     "metadata": {},
     "output_type": "execute_result"
    }
   ],
   "source": [
    "xgb.to_graphviz(bestXGB, num_trees=9, rankdir='LR' )"
   ]
  },
  {
   "cell_type": "code",
   "execution_count": null,
   "metadata": {
    "collapsed": true
   },
   "outputs": [],
   "source": []
  },
  {
   "cell_type": "code",
   "execution_count": null,
   "metadata": {
    "collapsed": true
   },
   "outputs": [],
   "source": []
  },
  {
   "cell_type": "code",
   "execution_count": null,
   "metadata": {
    "collapsed": true
   },
   "outputs": [],
   "source": []
  },
  {
   "cell_type": "code",
   "execution_count": null,
   "metadata": {
    "collapsed": true
   },
   "outputs": [],
   "source": []
  },
  {
   "cell_type": "code",
   "execution_count": 27,
   "metadata": {
    "collapsed": false
   },
   "outputs": [
    {
     "name": "stdout",
     "output_type": "stream",
     "text": [
      "Specificity: 0.9701 (+/- 0.0466)\n",
      "Accuracy: 0.9744 (+/- 0.0373)\n",
      "Recall: 0.9820 (+/- 0.0551)\n",
      "Score cost: -855205.5150 (+/- 2612098.0636)\n"
     ]
    }
   ],
   "source": [
    "scores1=cross_val_score(bestXGB,X_train,y_train,cv=cv,scoring=score_specificity)\n",
    "print(\"Specificity: %0.4f (+/- %0.4f)\" % (scores1.mean(), scores1.std() * 2))\n",
    "scores2=cross_val_score(bestXGB,X_train,y_train,cv=cv,scoring='accuracy')\n",
    "print(\"Accuracy: %0.4f (+/- %0.4f)\" % (scores2.mean(), scores2.std() * 2))\n",
    "scores3=cross_val_score(bestXGB,X_train,y_train,cv=cv,scoring='recall')\n",
    "print(\"Recall: %0.4f (+/- %0.4f)\" % (scores3.mean(), scores3.std() * 2))\n",
    "scores4=cross_val_score(bestXGB,X_train,y_train,cv=cv,scoring=my_custom_scorer)\n",
    "print(\"Score cost: %0.4f (+/- %0.4f)\" % (scores4.mean(), scores4.std() * 2))"
   ]
  },
  {
   "cell_type": "code",
   "execution_count": 28,
   "metadata": {
    "collapsed": false
   },
   "outputs": [
    {
     "name": "stdout",
     "output_type": "stream",
     "text": [
      "             precision    recall  f1-score   support\n",
      "\n",
      "          0       0.98      0.96      0.97       156\n",
      "          1       0.92      0.96      0.94        75\n",
      "\n",
      "avg / total       0.96      0.96      0.96       231\n",
      "\n",
      "Akurasi: 0.9610\n",
      "Specificity: 0.9615\n",
      "Recall: 0.9600\n"
     ]
    },
    {
     "data": {
      "text/plain": [
       "(0.96153846153846156,\n",
       " 0.95999999999999996,\n",
       " 0.96103896103896103,\n",
       " -8551370.0999999996)"
      ]
     },
     "execution_count": 28,
     "metadata": {},
     "output_type": "execute_result"
    }
   ],
   "source": [
    "y_predXGB = bestXGB.predict(X_test)\n",
    "accuracy = accuracy_score(y_test, y_predXGB)\n",
    "precision, recall, f1, _ = precision_recall_fscore_support(y_test, y_predXGB)\n",
    "print(classification_report(y_test, y_predXGB))\n",
    "print (('Akurasi: %.4f') % (accuracy))\n",
    "print (('Specificity: %.4f') % (specificity(y_test, y_predXGB)))\n",
    "print (('Recall: %.4f') % (recall[1]))\n",
    "output_score(y_test, y_predXGB)"
   ]
  },
  {
   "cell_type": "code",
   "execution_count": 25,
   "metadata": {
    "collapsed": false
   },
   "outputs": [
    {
     "data": {
      "text/plain": [
       "array([[150,   6],\n",
       "       [  3,  72]])"
      ]
     },
     "execution_count": 25,
     "metadata": {},
     "output_type": "execute_result"
    }
   ],
   "source": [
    "confusion_matrix(y_test, y_predXGB)"
   ]
  },
  {
   "cell_type": "code",
   "execution_count": 21,
   "metadata": {
    "collapsed": false
   },
   "outputs": [
    {
     "name": "stderr",
     "output_type": "stream",
     "text": [
      "Using Theano backend.\n"
     ]
    }
   ],
   "source": [
    "import numpy as np\n",
    "seed = 7\n",
    "np.random.seed(seed)\n",
    "from keras.models import Sequential\n",
    "from keras.layers import Dense\n",
    "from keras.wrappers.scikit_learn import KerasClassifier\n",
    "from sklearn.model_selection import StratifiedKFold\n",
    "from sklearn.model_selection import cross_val_score\n",
    "from keras.models import Sequential\n",
    "from keras.layers import Dense\n",
    "from keras.utils import np_utils\n",
    "from keras import optimizers"
   ]
  },
  {
   "cell_type": "code",
   "execution_count": 22,
   "metadata": {
    "collapsed": true
   },
   "outputs": [],
   "source": [
    "def create_model8():\n",
    "    model8 = Sequential()\n",
    "    model8.add(Dense(10, input_dim=9, activation='relu'))\n",
    "    model8.add(Dense(10, activation='relu'))\n",
    "    model8.add(Dense(10, activation='relu'))\n",
    "    model8.add(Dense(10, activation='relu'))\n",
    "    model8.add(Dense(10, activation='relu'))\n",
    "    model8.add(Dense(10, activation='relu'))\n",
    "    model8.add(Dense(10, activation='relu'))\n",
    "    model8.add(Dense(10, activation='relu'))\n",
    "    model8.add(Dense(1, activation='sigmoid'))\n",
    "    adm = optimizers.Adam(lr=0.01, beta_1=0.9, beta_2=0.999, epsilon=1e-08, decay=0.0)\n",
    "    model8.compile(loss='binary_crossentropy', optimizer=adm, metrics=['accuracy'])\n",
    "    return model8"
   ]
  },
  {
   "cell_type": "code",
   "execution_count": 23,
   "metadata": {
    "collapsed": true
   },
   "outputs": [],
   "source": [
    "model = create_model8()"
   ]
  },
  {
   "cell_type": "code",
   "execution_count": 24,
   "metadata": {
    "collapsed": true
   },
   "outputs": [],
   "source": [
    "model.save_weights('weights_datasetA.h5')"
   ]
  },
  {
   "cell_type": "code",
   "execution_count": 25,
   "metadata": {
    "collapsed": true
   },
   "outputs": [],
   "source": [
    "from sklearn.model_selection import train_test_split\n",
    "X_trainb, X_testb, y_trainb, y_testb = train_test_split(X, y,test_size=0.33, random_state=seed )"
   ]
  },
  {
   "cell_type": "code",
   "execution_count": 26,
   "metadata": {
    "collapsed": true
   },
   "outputs": [],
   "source": [
    "import warnings\n",
    "warnings.filterwarnings('ignore', message='.*is ill-defined', append=True)\n",
    "warnings.filterwarnings('ignore', category=DeprecationWarning)"
   ]
  },
  {
   "cell_type": "code",
   "execution_count": 27,
   "metadata": {
    "collapsed": true
   },
   "outputs": [],
   "source": [
    "from keras.models import load_model"
   ]
  },
  {
   "cell_type": "code",
   "execution_count": 38,
   "metadata": {
    "collapsed": false
   },
   "outputs": [
    {
     "name": "stdout",
     "output_type": "stream",
     "text": [
      "Epochs : 10 )\n",
      "Specificity: 0.9669 (+/- 0.0292)\n",
      "Accuracy: 0.9679 (+/- 0.0221)\n",
      "Recall: 0.9867 (+/- 0.0400)\n",
      "Score cost: -1995182.6800 (+/- 1824833.3551)\n",
      "\n",
      "\n",
      "Epochs : 20 )\n",
      "Specificity: 0.9670 (+/- 0.0290)\n",
      "Accuracy: 0.9764 (+/- 0.0224)\n",
      "Recall: 0.9619 (+/- 0.0628)\n",
      "Score cost: -2850205.5150 (+/- 2849931.5005)\n",
      "\n",
      "\n",
      "Epochs : 50 )\n",
      "Specificity: 0.9700 (+/- 0.0278)\n",
      "Accuracy: 0.9679 (+/- 0.0258)\n",
      "Recall: 0.9724 (+/- 0.0465)\n",
      "Score cost: -285251.1850 (+/- 855068.5294)\n",
      "\n",
      "\n",
      "Epochs : 100 )\n",
      "Specificity: 0.9590 (+/- 0.0344)\n",
      "Accuracy: 0.9721 (+/- 0.0237)\n",
      "Recall: 0.9684 (+/- 0.0454)\n",
      "Score cost: -570251.1850 (+/- 1139988.6165)\n",
      "\n",
      "\n",
      "Epochs : 200 )\n",
      "Specificity: 0.9800 (+/- 0.0267)\n",
      "Accuracy: 0.9657 (+/- 0.0292)\n",
      "Recall: 0.9700 (+/- 0.0479)\n",
      "Score cost: -2565182.6800 (+/- 4120241.4367)\n",
      "\n",
      "\n",
      "Epochs : 500 )\n",
      "Specificity: 0.8798 (+/- 0.2949)\n",
      "Accuracy: 0.9743 (+/- 0.0210)\n",
      "Recall: 0.9689 (+/- 0.0317)\n",
      "Score cost: -1140251.1850 (+/- 1396143.9232)\n",
      "\n",
      "\n"
     ]
    }
   ],
   "source": [
    "epochs = [10, 20, 50, 100, 200, 500]\n",
    "\n",
    "results=[]\n",
    "model.load_weights('weights_datasetA.h5')\n",
    "\n",
    "for epochs_idx in range(len(epochs)):\n",
    "    param1 = epochs[epochs_idx]\n",
    "    bestmodelNN = KerasClassifier(build_fn=create_model8, epochs= param1, class_weight = None, verbose=0)\n",
    "    model.load_weights('weights_datasetA.h5')\n",
    "    print(\"Epochs : %r )\" % (param1))\n",
    "    scores1=cross_val_score(bestmodelNN,X_trainb.as_matrix(),y_trainb,cv=10,scoring=score_specificity)\n",
    "    print(\"Specificity: %0.4f (+/- %0.4f)\" % (scores1.mean(), scores1.std() ))\n",
    "    scores2=cross_val_score(bestmodelNN,X_trainb.as_matrix(),y_trainb,cv=10,scoring='accuracy')\n",
    "    print(\"Accuracy: %0.4f (+/- %0.4f)\" % (scores2.mean(), scores2.std() ))\n",
    "    scores3=cross_val_score(bestmodelNN,X_trainb.as_matrix(),y_trainb,cv=10,scoring='recall')\n",
    "    print(\"Recall: %0.4f (+/- %0.4f)\" % (scores3.mean(), scores3.std() ))\n",
    "    scores4=cross_val_score(bestmodelNN,X_trainb.as_matrix(), y_trainb, cv=10, scoring=my_custom_scorer)\n",
    "    print(\"Score cost: %0.4f (+/- %0.4f)\" % (scores4.mean(), scores4.std() ))\n",
    "    print()\n",
    "    print()\n"
   ]
  },
  {
   "cell_type": "code",
   "execution_count": 28,
   "metadata": {
    "collapsed": true
   },
   "outputs": [],
   "source": [
    "best_class_weight = {0: 1.0, 1: 8}"
   ]
  },
  {
   "cell_type": "code",
   "execution_count": 39,
   "metadata": {
    "collapsed": true
   },
   "outputs": [],
   "source": [
    "bestNN_coba = KerasClassifier(build_fn=create_model8, epochs= 200, class_weight = best_class_weight , verbose=0)"
   ]
  },
  {
   "cell_type": "code",
   "execution_count": 40,
   "metadata": {
    "collapsed": false
   },
   "outputs": [
    {
     "data": {
      "text/plain": [
       "<keras.callbacks.History at 0x10ee25f8>"
      ]
     },
     "execution_count": 40,
     "metadata": {},
     "output_type": "execute_result"
    }
   ],
   "source": [
    "bestNN_coba.fit(X_trainb.as_matrix(), y_trainb)"
   ]
  },
  {
   "cell_type": "code",
   "execution_count": 42,
   "metadata": {
    "collapsed": false
   },
   "outputs": [
    {
     "name": "stdout",
     "output_type": "stream",
     "text": [
      "Specificity: 0.9737 (+/- 0.0655)\n",
      "Recall: 0.9685 (+/- 0.1110)\n",
      "\n",
      "\n",
      "Specificity: 0.9631 (+/- 0.0678)\n",
      "Recall: 0.9862 (+/- 0.0553)\n",
      "\n",
      "\n",
      "Specificity: 0.9806 (+/- 0.0418)\n",
      "Recall: 0.9665 (+/- 0.1103)\n",
      "\n",
      "\n",
      "Specificity: 0.9704 (+/- 0.0603)\n",
      "Recall: 0.9455 (+/- 0.1372)\n",
      "\n",
      "\n",
      "Specificity: 0.9806 (+/- 0.0418)\n",
      "Recall: 0.9563 (+/- 0.0835)\n",
      "\n",
      "\n",
      "Specificity: 0.9705 (+/- 0.0694)\n",
      "Recall: 0.9941 (+/- 0.0353)\n",
      "\n",
      "\n",
      "Specificity: 0.9588 (+/- 0.0700)\n",
      "Recall: 0.9665 (+/- 0.0928)\n",
      "\n",
      "\n",
      "Specificity: 0.9769 (+/- 0.0408)\n",
      "Recall: 0.9729 (+/- 0.0893)\n",
      "\n",
      "\n",
      "Specificity: 0.9663 (+/- 0.0686)\n",
      "Recall: 0.9679 (+/- 0.1176)\n",
      "\n",
      "\n",
      "Specificity: 0.9772 (+/- 0.0509)\n",
      "Recall: 0.9867 (+/- 0.0800)\n",
      "\n",
      "\n"
     ]
    }
   ],
   "source": [
    "import warnings\n",
    "warnings.filterwarnings('ignore', message='.*is ill-defined', append=True)\n",
    "warnings.filterwarnings('ignore', category=DeprecationWarning)\n",
    "for i in range(10):\n",
    "    model.load_weights('weights_datasetA.h5')\n",
    "    scores1=cross_val_score(bestNN_coba, X_trainb.as_matrix(),y_trainb,cv=10,scoring=score_specificity)\n",
    "    print(\"Specificity: %0.4f (+/- %0.4f)\" % (scores1.mean(), scores1.std()*2))\n",
    "    scores3=cross_val_score(bestNN_coba, X_trainb.as_matrix(),y_trainb,cv=10,scoring='recall')\n",
    "    print(\"Recall: %0.4f (+/- %0.4f)\" % (scores3.mean(), scores3.std()*2))\n",
    "    print()\n",
    "    print()"
   ]
  },
  {
   "cell_type": "code",
   "execution_count": 29,
   "metadata": {
    "collapsed": true
   },
   "outputs": [],
   "source": [
    "bestNN = KerasClassifier(build_fn=create_model8, epochs= 200, class_weight = best_class_weight , verbose=0)"
   ]
  },
  {
   "cell_type": "code",
   "execution_count": 30,
   "metadata": {
    "collapsed": false
   },
   "outputs": [
    {
     "data": {
      "text/plain": [
       "<keras.callbacks.History at 0xdabc4e0>"
      ]
     },
     "execution_count": 30,
     "metadata": {},
     "output_type": "execute_result"
    }
   ],
   "source": [
    "bestNN.fit(X_trainb.as_matrix(), y_trainb)"
   ]
  },
  {
   "cell_type": "code",
   "execution_count": 31,
   "metadata": {
    "collapsed": false
   },
   "outputs": [
    {
     "name": "stdout",
     "output_type": "stream",
     "text": [
      "             precision    recall  f1-score   support\n",
      "\n",
      "          0       0.99      0.94      0.97       152\n",
      "          1       0.90      0.99      0.94        79\n",
      "\n",
      "avg / total       0.96      0.96      0.96       231\n",
      "\n",
      "Akurasi: 0.9567\n",
      "Specificity: 0.9408\n",
      "Recall: 0.9873\n"
     ]
    },
    {
     "data": {
      "text/plain": [
       "(0.94078947368421051,\n",
       " 0.98734177215189878,\n",
       " 0.95670995670995673,\n",
       " -2852055.1499999999)"
      ]
     },
     "execution_count": 31,
     "metadata": {},
     "output_type": "execute_result"
    }
   ],
   "source": [
    "y_predNN = bestNN.predict(X_testb.as_matrix())\n",
    "accuracy = accuracy_score(y_testb, y_predNN)\n",
    "precision, recall, f1, _ = precision_recall_fscore_support(y_testb, y_predNN)\n",
    "print(classification_report(y_testb, y_predNN))\n",
    "print (('Akurasi: %.4f') % (accuracy))\n",
    "print (('Specificity: %.4f') % (specificity(y_testb, y_predNN)))\n",
    "print (('Recall: %.4f') % (recall[1]))\n",
    "output_score(y_testb, y_predNN)"
   ]
  },
  {
   "cell_type": "code",
   "execution_count": 32,
   "metadata": {
    "collapsed": false
   },
   "outputs": [
    {
     "data": {
      "text/plain": [
       "array([[143,   9],\n",
       "       [  1,  78]])"
      ]
     },
     "execution_count": 32,
     "metadata": {},
     "output_type": "execute_result"
    }
   ],
   "source": [
    "confusion_matrix(y_testb,y_predNN)"
   ]
  },
  {
   "cell_type": "code",
   "execution_count": 33,
   "metadata": {
    "collapsed": true
   },
   "outputs": [],
   "source": [
    "names=['SVM - Dataset A','XGBoost - Dataset A','MLP - Dataset A']"
   ]
  },
  {
   "cell_type": "code",
   "execution_count": 34,
   "metadata": {
    "collapsed": true
   },
   "outputs": [],
   "source": [
    "score=bestSVC.predict_proba(X_test)\n",
    "score2=bestXGB.predict_proba(X_test)\n",
    "score3=bestNN.predict_proba(X_testb.as_matrix())"
   ]
  },
  {
   "cell_type": "code",
   "execution_count": 35,
   "metadata": {
    "collapsed": false
   },
   "outputs": [
    {
     "data": {
      "image/png": "[encoded data removed]",
      "text/plain": [
       "<matplotlib.figure.Figure at 0xf405208>"
      ]
     },
     "metadata": {},
     "output_type": "display_data"
    }
   ],
   "source": [
    "import matplotlib.pyplot as plt\n",
    "from sklearn.metrics import roc_curve, roc_auc_score\n",
    "fig, ax = plt.subplots(figsize=(9,5))\n",
    "\n",
    "fpr, tpr, thresholds = roc_curve(y_test, score[:,1],pos_label=1)\n",
    "fpr2, tpr2, thresholds2 = roc_curve(y_test, score2[:,1],pos_label=1)\n",
    "fpr3, tpr3, thresholds3 = roc_curve(y_testb, score3[:,1],pos_label=1)\n",
    "\n",
    "auc = roc_auc_score(y_test, score[:,1])\n",
    "auc2 = roc_auc_score(y_test, score2[:,1])\n",
    "auc3 = roc_auc_score(y_testb, score3[:,1])\n",
    "\n",
    "ax.plot(fpr*100, tpr*100, label='%s (area = %.2f)' % (names[0], auc*100))\n",
    "ax.plot(fpr2*100, tpr2*100, label='%s (area = %.2f)' % (names[1], auc2*100))\n",
    "ax.plot(fpr3*100, tpr3*100, label='%s (area = %.2f)' % (names[2], auc3*100))\n",
    "\n",
    "plt.rc('xtick',labelsize=14)\n",
    "plt.rc('ytick',labelsize=14)\n",
    "plt.title(\"RoC Curves Dataset A\",fontsize=14)\n",
    "plt.legend(prop={'size':12})\n",
    "ax.set_xlabel('False Positive Rate',fontsize=14)\n",
    "ax.set_ylabel('True Positive Rate',fontsize=14)\n",
    "plt.show()"
   ]
  },
  {
   "cell_type": "code",
   "execution_count": 36,
   "metadata": {
    "collapsed": true
   },
   "outputs": [],
   "source": [
    "from sklearn.dummy import DummyClassifier\n",
    "modelDummy=DummyClassifier()\n",
    "modelDummy.fit(X_train,y_train)\n",
    "score4=modelDummy.predict_proba(X_test)"
   ]
  },
  {
   "cell_type": "code",
   "execution_count": 37,
   "metadata": {
    "collapsed": true
   },
   "outputs": [],
   "source": [
    "names2=['SVM - Dataset A','XGBoost - Dataset A','MLP - Dataset A','Baseline']"
   ]
  },
  {
   "cell_type": "code",
   "execution_count": 38,
   "metadata": {
    "collapsed": false
   },
   "outputs": [
    {
     "data": {
      "image/png": "[encoded data removed]",
      "text/plain": [
       "<matplotlib.figure.Figure at 0xf62ef98>"
      ]
     },
     "metadata": {},
     "output_type": "display_data"
    }
   ],
   "source": [
    "import matplotlib.pyplot as plt\n",
    "from sklearn.metrics import roc_curve, roc_auc_score\n",
    "fig, ax = plt.subplots(figsize=(9,5))\n",
    "\n",
    "fpr, tpr, thresholds = roc_curve(y_test, score[:,1],pos_label=1)\n",
    "fpr2, tpr2, thresholds2 = roc_curve(y_test, score2[:,1],pos_label=1)\n",
    "fpr3, tpr3, thresholds3 = roc_curve(y_testb, score3[:,1],pos_label=1)\n",
    "fpr4, tpr4, thresholds4 = roc_curve(y_test, score4[:,1],pos_label=1)\n",
    "\n",
    "auc = roc_auc_score(y_test, score[:,1])\n",
    "auc2 = roc_auc_score(y_test, score2[:,1])\n",
    "auc3 = roc_auc_score(y_testb, score3[:,1])\n",
    "auc4 = roc_auc_score(y_test, score4[:,1])\n",
    "\n",
    "ax.plot(fpr*100, tpr*100, label='%s (area = %.2f)' % (names2[0], auc*100))\n",
    "ax.plot(fpr2*100, tpr2*100, label='%s (area = %.2f)' % (names2[1], auc2*100))\n",
    "ax.plot(fpr3*100, tpr3*100, label='%s (area = %.2f)' % (names2[2], auc3*100))\n",
    "ax.plot(fpr4*100, tpr4*100, label='%s (area = %.2f)' % (names2[3], auc4*100))\n",
    "\n",
    "plt.rc('xtick',labelsize=14)\n",
    "plt.rc('ytick',labelsize=14)\n",
    "plt.title(\"RoC Curves Dataset A\",fontsize=14)\n",
    "plt.legend(prop={'size':12})\n",
    "ax.set_xlabel('False Positive Rate',fontsize=14)\n",
    "ax.set_ylabel('True Positive Rate',fontsize=14)\n",
    "plt.show()"
   ]
  },
  {
   "cell_type": "code",
   "execution_count": null,
   "metadata": {
    "collapsed": true
   },
   "outputs": [],
   "source": []
  }
 ],
 "metadata": {
  "kernelspec": {
   "display_name": "Python 3",
   "language": "python",
   "name": "python3"
  },
  "language_info": {
   "codemirror_mode": {
    "name": "ipython",
    "version": 3
   },
   "file_extension": ".py",
   "mimetype": "text/x-python",
   "name": "python",
   "nbconvert_exporter": "python",
   "pygments_lexer": "ipython3",
   "version": "3.5.3"
  }
 },
 "nbformat": 4,
 "nbformat_minor": 2
}
