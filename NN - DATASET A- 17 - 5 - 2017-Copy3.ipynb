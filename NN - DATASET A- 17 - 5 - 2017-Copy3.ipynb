{
 "cells": [
  {
   "cell_type": "code",
   "execution_count": 1,
   "metadata": {
    "collapsed": true
   },
   "outputs": [],
   "source": [
    "import numpy as np\n",
    "seed = 7\n",
    "np.random.seed(seed)"
   ]
  },
  {
   "cell_type": "code",
   "execution_count": 2,
   "metadata": {
    "collapsed": false
   },
   "outputs": [
    {
     "name": "stderr",
     "output_type": "stream",
     "text": [
      "Using Theano backend.\n"
     ]
    }
   ],
   "source": [
    "from keras.models import Sequential\n",
    "from keras.layers import Dense\n",
    "from keras.wrappers.scikit_learn import KerasClassifier\n",
    "from sklearn.model_selection import StratifiedKFold\n",
    "from sklearn.model_selection import cross_val_score\n",
    "from keras.models import Sequential\n",
    "from keras.layers import Dense\n",
    "from keras.utils import np_utils"
   ]
  },
  {
   "cell_type": "code",
   "execution_count": 3,
   "metadata": {
    "collapsed": true
   },
   "outputs": [],
   "source": [
    "from keras import optimizers"
   ]
  },
  {
   "cell_type": "code",
   "execution_count": 4,
   "metadata": {
    "collapsed": true
   },
   "outputs": [],
   "source": [
    "def create_model8():\n",
    "    model8 = Sequential()\n",
    "    model8.add(Dense(10, input_dim=9, activation='relu'))\n",
    "    model8.add(Dense(10, activation='relu'))\n",
    "    model8.add(Dense(10, activation='relu'))\n",
    "    model8.add(Dense(10, activation='relu'))\n",
    "    model8.add(Dense(10, activation='relu'))\n",
    "    model8.add(Dense(10, activation='relu'))\n",
    "    model8.add(Dense(10, activation='relu'))\n",
    "    model8.add(Dense(10, activation='relu'))\n",
    "    model8.add(Dense(1, activation='sigmoid'))\n",
    "    adm = optimizers.Adam(lr=0.01, beta_1=0.9, beta_2=0.999, epsilon=1e-08, decay=0.0)\n",
    "    model8.compile(loss='binary_crossentropy', optimizer=adm, metrics=['accuracy'])\n",
    "    return model8"
   ]
  },
  {
   "cell_type": "code",
   "execution_count": 5,
   "metadata": {
    "collapsed": true
   },
   "outputs": [],
   "source": [
    "from keras.models import load_model"
   ]
  },
  {
   "cell_type": "code",
   "execution_count": 6,
   "metadata": {
    "collapsed": false
   },
   "outputs": [],
   "source": [
    "model=create_model8()"
   ]
  },
  {
   "cell_type": "code",
   "execution_count": null,
   "metadata": {
    "collapsed": true
   },
   "outputs": [],
   "source": [
    "model.save_weights('my_model_weights.h5')"
   ]
  },
  {
   "cell_type": "code",
   "execution_count": 7,
   "metadata": {
    "collapsed": true
   },
   "outputs": [],
   "source": [
    "class_weight = [{0 : 1., 1: 2},\n",
    "                {0 : 1., 1: 4},\n",
    "                {0 : 1., 1: 8},\n",
    "                {0 : 1., 1: 16},\n",
    "                {0 : 1., 1: 32},\n",
    "                {0 : 1., 1: 64}]"
   ]
  },
  {
   "cell_type": "code",
   "execution_count": 8,
   "metadata": {
    "collapsed": true
   },
   "outputs": [],
   "source": [
    "epochs = [10, 20, 50, 100, 200, 500]"
   ]
  },
  {
   "cell_type": "code",
   "execution_count": 9,
   "metadata": {
    "collapsed": true
   },
   "outputs": [],
   "source": [
    "param_gridNN = dict(epochs=epochs, class_weight=class_weight )"
   ]
  },
  {
   "cell_type": "code",
   "execution_count": 10,
   "metadata": {
    "collapsed": true
   },
   "outputs": [],
   "source": [
    "from sklearn.metrics import confusion_matrix"
   ]
  },
  {
   "cell_type": "code",
   "execution_count": 11,
   "metadata": {
    "collapsed": true
   },
   "outputs": [],
   "source": [
    "modelNN = KerasClassifier(build_fn=create_model8, verbose=0)"
   ]
  },
  {
   "cell_type": "code",
   "execution_count": 12,
   "metadata": {
    "collapsed": true
   },
   "outputs": [],
   "source": [
    "import pandas as pd"
   ]
  },
  {
   "cell_type": "code",
   "execution_count": 13,
   "metadata": {
    "collapsed": false
   },
   "outputs": [],
   "source": [
    "dfA = pd.read_csv(\"wbc.csv\")\n",
    "dfA=dfA.replace('?',np.nan)\n",
    "dfA['bare_nuclei'] = pd.to_numeric(dfA.bare_nuclei.fillna(dfA.bare_nuclei.median()))"
   ]
  },
  {
   "cell_type": "code",
   "execution_count": 14,
   "metadata": {
    "collapsed": true
   },
   "outputs": [],
   "source": [
    "X = dfA.drop([dfA.columns[-1]], axis=1)\n",
    "y = dfA.jenis.map({2: 0, 4: 1})"
   ]
  },
  {
   "cell_type": "code",
   "execution_count": 15,
   "metadata": {
    "collapsed": false
   },
   "outputs": [],
   "source": [
    "from sklearn.model_selection import train_test_split\n",
    "X_train, X_test, y_train, y_test = train_test_split(X, y,test_size=0.33, random_state=seed )"
   ]
  },
  {
   "cell_type": "code",
   "execution_count": 16,
   "metadata": {
    "collapsed": true
   },
   "outputs": [],
   "source": [
    "from sklearn.metrics import confusion_matrix"
   ]
  },
  {
   "cell_type": "code",
   "execution_count": 17,
   "metadata": {
    "collapsed": true
   },
   "outputs": [],
   "source": [
    "def cost_breast_cancer(y_true, y_pred):\n",
    "    CM = confusion_matrix(y_true, y_pred)\n",
    "    FN = CM[1][0]\n",
    "    FP = CM[0][1]\n",
    "    costBC=((-1*((228.35*FP)+(2850000*FN))))\n",
    "    return costBC"
   ]
  },
  {
   "cell_type": "code",
   "execution_count": 18,
   "metadata": {
    "collapsed": true
   },
   "outputs": [],
   "source": [
    "def output_score(y_true, y_pred):\n",
    "    CM = confusion_matrix(y_true, y_pred)\n",
    "    TN = CM[0][0]\n",
    "    FN = CM[1][0]\n",
    "    TP = CM[1][1]\n",
    "    FP = CM[0][1]\n",
    "    specificity=(TN/(FP+TN))\n",
    "    sensitivity=(TP/(TP+FN))\n",
    "    accuracy=((TP+TN)/(TP+FP+TN+FN))\n",
    "    costBC=((-1*((228.35*FP)+(2850000*FN))))\n",
    "    return (specificity, sensitivity, accuracy, costBC)"
   ]
  },
  {
   "cell_type": "code",
   "execution_count": 19,
   "metadata": {
    "collapsed": true
   },
   "outputs": [],
   "source": [
    "def specificity(y_true, y_pred):\n",
    "    CM = confusion_matrix(y_true, y_pred)\n",
    "    TN = CM[0][0]\n",
    "    FN = CM[1][0]\n",
    "    TP = CM[1][1]\n",
    "    FP = CM[0][1]\n",
    "    nilai=(TN/(FP+TN))\n",
    "    return nilai"
   ]
  },
  {
   "cell_type": "code",
   "execution_count": 20,
   "metadata": {
    "collapsed": false
   },
   "outputs": [],
   "source": [
    "from sklearn.metrics import make_scorer\n",
    "my_custom_scorer=make_scorer(cost_breast_cancer, greater_is_better=True)\n",
    "score_specificity=make_scorer(specificity, greater_is_better=True)\n",
    "output_scoring=make_scorer(output_score, greater_is_better=True)"
   ]
  },
  {
   "cell_type": "code",
   "execution_count": 21,
   "metadata": {
    "collapsed": true
   },
   "outputs": [],
   "source": [
    "from sklearn.metrics import accuracy_score, precision_recall_fscore_support\n",
    "from sklearn import metrics\n",
    "from sklearn.model_selection import GridSearchCV\n",
    "from __future__ import print_function\n",
    "from sklearn.metrics import classification_report\n",
    "from sklearn.metrics import confusion_matrix\n",
    "from sklearn.metrics import make_scorer\n",
    "from sklearn.model_selection import cross_val_score\n",
    "from sklearn.metrics import roc_curve, roc_auc_score"
   ]
  },
  {
   "cell_type": "code",
   "execution_count": 23,
   "metadata": {
    "collapsed": false
   },
   "outputs": [
    {
     "name": "stdout",
     "output_type": "stream",
     "text": [
      "Automatically created module for IPython interactive environment\n",
      "# Tuning hyper-parameters for recall\n",
      "\n",
      "Best parameters set found on development set:\n",
      "\n",
      "{'epochs': 20, 'class_weight': {0: 1.0, 1: 8}}\n",
      "\n",
      "Grid scores on development set:\n",
      "\n",
      "0.988 (+/-0.025) for {'epochs': 10, 'class_weight': {0: 1.0, 1: 2}}\n",
      "0.987 (+/-0.026) for {'epochs': 20, 'class_weight': {0: 1.0, 1: 2}}\n",
      "0.974 (+/-0.044) for {'epochs': 50, 'class_weight': {0: 1.0, 1: 2}}\n",
      "0.975 (+/-0.043) for {'epochs': 100, 'class_weight': {0: 1.0, 1: 2}}\n",
      "0.967 (+/-0.046) for {'epochs': 200, 'class_weight': {0: 1.0, 1: 2}}\n",
      "0.962 (+/-0.054) for {'epochs': 500, 'class_weight': {0: 1.0, 1: 2}}\n",
      "0.994 (+/-0.018) for {'epochs': 10, 'class_weight': {0: 1.0, 1: 4}}\n",
      "0.993 (+/-0.020) for {'epochs': 20, 'class_weight': {0: 1.0, 1: 4}}\n",
      "0.979 (+/-0.043) for {'epochs': 50, 'class_weight': {0: 1.0, 1: 4}}\n",
      "0.989 (+/-0.023) for {'epochs': 100, 'class_weight': {0: 1.0, 1: 4}}\n",
      "0.987 (+/-0.040) for {'epochs': 200, 'class_weight': {0: 1.0, 1: 4}}\n",
      "0.986 (+/-0.028) for {'epochs': 500, 'class_weight': {0: 1.0, 1: 4}}\n",
      "0.993 (+/-0.020) for {'epochs': 10, 'class_weight': {0: 1.0, 1: 8}}\n",
      "1.000 (+/-0.000) for {'epochs': 20, 'class_weight': {0: 1.0, 1: 8}}\n",
      "1.000 (+/-0.000) for {'epochs': 50, 'class_weight': {0: 1.0, 1: 8}}\n",
      "0.980 (+/-0.030) for {'epochs': 100, 'class_weight': {0: 1.0, 1: 8}}\n",
      "0.987 (+/-0.040) for {'epochs': 200, 'class_weight': {0: 1.0, 1: 8}}\n",
      "0.966 (+/-0.056) for {'epochs': 500, 'class_weight': {0: 1.0, 1: 8}}\n",
      "0.995 (+/-0.014) for {'epochs': 10, 'class_weight': {0: 1.0, 1: 16}}\n",
      "0.987 (+/-0.040) for {'epochs': 20, 'class_weight': {0: 1.0, 1: 16}}\n",
      "0.988 (+/-0.025) for {'epochs': 50, 'class_weight': {0: 1.0, 1: 16}}\n",
      "0.986 (+/-0.028) for {'epochs': 100, 'class_weight': {0: 1.0, 1: 16}}\n",
      "0.987 (+/-0.026) for {'epochs': 200, 'class_weight': {0: 1.0, 1: 16}}\n",
      "0.879 (+/-0.295) for {'epochs': 500, 'class_weight': {0: 1.0, 1: 16}}\n",
      "0.993 (+/-0.020) for {'epochs': 10, 'class_weight': {0: 1.0, 1: 32}}\n",
      "0.993 (+/-0.020) for {'epochs': 20, 'class_weight': {0: 1.0, 1: 32}}\n",
      "0.993 (+/-0.020) for {'epochs': 50, 'class_weight': {0: 1.0, 1: 32}}\n",
      "0.979 (+/-0.043) for {'epochs': 100, 'class_weight': {0: 1.0, 1: 32}}\n",
      "0.982 (+/-0.028) for {'epochs': 200, 'class_weight': {0: 1.0, 1: 32}}\n",
      "0.981 (+/-0.042) for {'epochs': 500, 'class_weight': {0: 1.0, 1: 32}}\n",
      "0.993 (+/-0.020) for {'epochs': 10, 'class_weight': {0: 1.0, 1: 64}}\n",
      "1.000 (+/-0.000) for {'epochs': 20, 'class_weight': {0: 1.0, 1: 64}}\n",
      "0.995 (+/-0.014) for {'epochs': 50, 'class_weight': {0: 1.0, 1: 64}}\n",
      "0.987 (+/-0.027) for {'epochs': 100, 'class_weight': {0: 1.0, 1: 64}}\n",
      "0.987 (+/-0.040) for {'epochs': 200, 'class_weight': {0: 1.0, 1: 64}}\n",
      "0.500 (+/-0.500) for {'epochs': 500, 'class_weight': {0: 1.0, 1: 64}}\n",
      "\n",
      "Detailed classification report:\n",
      "\n",
      "The model is trained on the full development set.\n",
      "The scores are computed on the full evaluation set.\n",
      "\n",
      "             precision    recall  f1-score   support\n",
      "\n",
      "          0       0.99      0.95      0.97       152\n",
      "          1       0.92      0.97      0.94        79\n",
      "\n",
      "avg / total       0.96      0.96      0.96       231\n",
      "\n",
      "\n",
      "Specificity, Sensitivity, Accuracy:\n",
      "\n"
     ]
    }
   ],
   "source": [
    "print(__doc__)\n",
    "\n",
    "\n",
    "scores = ['recall']\n",
    "\n",
    "for score in scores:\n",
    "    print(\"# Tuning hyper-parameters for %s\" % score)\n",
    "    print()\n",
    "\n",
    "    clf3 = GridSearchCV(estimator=modelNN, param_grid=param_gridNN, cv=10, \n",
    "                       scoring='recall')\n",
    "    clf3.fit(X_train.as_matrix(), y_train)\n",
    "\n",
    "    print(\"Best parameters set found on development set:\")\n",
    "    print()\n",
    "    print(clf3.best_params_)\n",
    "    print()\n",
    "    print(\"Grid scores on development set:\")\n",
    "    print()\n",
    "    means3 = clf3.cv_results_['mean_test_score']\n",
    "    stds3 = clf3.cv_results_['std_test_score']\n",
    "    for mean, std, params in zip(means3, stds3, clf3.cv_results_['params']):\n",
    "        print(\"%0.3f (+/-%0.03f) for %r\"\n",
    "              % (mean, std, params))\n",
    "    print()\n",
    "    print(\"Detailed classification report:\")\n",
    "    print()\n",
    "    print(\"The model is trained on the full development set.\")\n",
    "    print(\"The scores are computed on the full evaluation set.\")\n",
    "    print()\n",
    "    y_true, y_pred = y_test, clf3.predict(X_test.as_matrix())\n",
    "    print(classification_report(y_true, y_pred))\n",
    "    print()\n",
    "    print(\"Specificity, Sensitivity, Accuracy:\")\n",
    "    output_score(y_true, y_pred)\n",
    "    print()"
   ]
  },
  {
   "cell_type": "code",
   "execution_count": 24,
   "metadata": {
    "collapsed": false
   },
   "outputs": [
    {
     "data": {
      "text/plain": [
       "(0.95394736842105265,\n",
       " 0.97468354430379744,\n",
       " 0.96103896103896103,\n",
       " -5701598.4500000002)"
      ]
     },
     "execution_count": 24,
     "metadata": {},
     "output_type": "execute_result"
    }
   ],
   "source": [
    "output_score(y_true, y_pred)"
   ]
  },
  {
   "cell_type": "raw",
   "metadata": {
    "collapsed": false
   },
   "source": [
    "print(\"Best score obtained: {0}\".format(clf3.best_score_))\n",
    "print(\"Parameters:\")\n",
    "for key, value in clf3.best_params_.items():\n",
    "    print(\"\\t{}: {}\".format(key, value))"
   ]
  },
  {
   "cell_type": "code",
   "execution_count": 25,
   "metadata": {
    "collapsed": true
   },
   "outputs": [],
   "source": [
    " model.load_weights('my_model_weights.h5')"
   ]
  },
  {
   "cell_type": "code",
   "execution_count": 26,
   "metadata": {
    "collapsed": true
   },
   "outputs": [],
   "source": [
    "best_class_weight = {0: 1.0, 1: 8}"
   ]
  },
  {
   "cell_type": "code",
   "execution_count": 27,
   "metadata": {
    "collapsed": true
   },
   "outputs": [],
   "source": [
    "bestmodelNN = KerasClassifier(build_fn=create_model8, epochs= 20, class_weight = best_class_weight, verbose=0)"
   ]
  },
  {
   "cell_type": "code",
   "execution_count": 28,
   "metadata": {
    "collapsed": false
   },
   "outputs": [
    {
     "data": {
      "text/plain": [
       "<keras.callbacks.History at 0xa8425c0>"
      ]
     },
     "execution_count": 28,
     "metadata": {},
     "output_type": "execute_result"
    }
   ],
   "source": [
    "bestmodelNN.fit(X_train.as_matrix(), y_train )"
   ]
  },
  {
   "cell_type": "code",
   "execution_count": 18,
   "metadata": {
    "collapsed": true
   },
   "outputs": [],
   "source": [
    "import warnings\n",
    "warnings.filterwarnings('ignore', message='.*is ill-defined', append=True)\n",
    "warnings.filterwarnings('ignore', category=DeprecationWarning)"
   ]
  },
  {
   "cell_type": "code",
   "execution_count": 23,
   "metadata": {
    "collapsed": false
   },
   "outputs": [
    {
     "name": "stdout",
     "output_type": "stream",
     "text": [
      "Score cost: -342.5250 (+/- 549.9396)\n"
     ]
    }
   ],
   "source": [
    "scores4=cross_val_score(bestmodelNN,X_train.as_matrix(), y_train, cv=10, scoring=my_custom_scorer)\n",
    "print(\"Score cost: %0.4f (+/- %0.4f)\" % (scores4.mean(), scores4.std() * 2))"
   ]
  },
  {
   "cell_type": "code",
   "execution_count": null,
   "metadata": {
    "collapsed": false
   },
   "outputs": [],
   "source": [
    "scores4"
   ]
  },
  {
   "cell_type": "code",
   "execution_count": 30,
   "metadata": {
    "collapsed": false
   },
   "outputs": [
    {
     "name": "stdout",
     "output_type": "stream",
     "text": [
      "Specificity: 0.9593 (+/- 0.0850)\n",
      "Accuracy: 0.9742 (+/- 0.0464)\n",
      "Recall: 0.9882 (+/- 0.0706)\n",
      "Score cost: -570411.0300 (+/- 2279817.4847)\n"
     ]
    }
   ],
   "source": [
    "model.load_weights('my_model_weights.h5')\n",
    "scores1=cross_val_score(bestmodelNN,X_train.as_matrix(),y_train,cv=10,scoring=score_specificity)\n",
    "print(\"Specificity: %0.4f (+/- %0.4f)\" % (scores1.mean(), scores1.std() * 2))\n",
    "model.load_weights('my_model_weights.h5')\n",
    "scores2=cross_val_score(bestmodelNN,X_train.as_matrix(),y_train,cv=10,scoring='accuracy')\n",
    "print(\"Accuracy: %0.4f (+/- %0.4f)\" % (scores2.mean(), scores2.std() * 2))\n",
    "model.load_weights('my_model_weights.h5')\n",
    "scores3=cross_val_score(bestmodelNN,X_train.as_matrix(),y_train,cv=10,scoring='recall')\n",
    "print(\"Recall: %0.4f (+/- %0.4f)\" % (scores3.mean(), scores3.std() * 2))\n",
    "model.load_weights('my_model_weights.h5')\n",
    "scores4=cross_val_score(bestmodelNN,X_train.as_matrix(), y_train, cv=10, scoring=my_custom_scorer)\n",
    "print(\"Score cost: %0.4f (+/- %0.4f)\" % (scores4.mean(), scores4.std() * 2))"
   ]
  },
  {
   "cell_type": "code",
   "execution_count": 31,
   "metadata": {
    "collapsed": true
   },
   "outputs": [],
   "source": [
    "def cost_breast_cancer2(y_true, y_pred):\n",
    "    CM = confusion_matrix(y_true, y_pred)\n",
    "    FN = CM[1][0]\n",
    "    FP = CM[0][1]\n",
    "    costBC=((-1*((228.35*FP)+(28500*FN))))\n",
    "    return costBC"
   ]
  },
  {
   "cell_type": "code",
   "execution_count": 32,
   "metadata": {
    "collapsed": true
   },
   "outputs": [],
   "source": [
    "my_custom_scorer2=make_scorer(cost_breast_cancer2, greater_is_better=True)"
   ]
  },
  {
   "cell_type": "code",
   "execution_count": 33,
   "metadata": {
    "collapsed": false
   },
   "outputs": [
    {
     "name": "stdout",
     "output_type": "stream",
     "text": [
      "Automatically created module for IPython interactive environment\n",
      "# Tuning hyper-parameters for make_scorer(cost_breast_cancer2)\n",
      "\n",
      "Best parameters set found on development set:\n",
      "\n",
      "{'epochs': 50, 'class_weight': {0: 1.0, 1: 16}}\n",
      "\n",
      "Grid scores on development set:\n",
      "\n",
      "-14333.623 (+/-19029.140) for {'epochs': 10, 'class_weight': {0: 1.0, 1: 2}}\n",
      "-11553.809 (+/-14086.913) for {'epochs': 20, 'class_weight': {0: 1.0, 1: 2}}\n",
      "-11593.238 (+/-18833.031) for {'epochs': 50, 'class_weight': {0: 1.0, 1: 2}}\n",
      "-65866.910 (+/-141628.263) for {'epochs': 100, 'class_weight': {0: 1.0, 1: 2}}\n",
      "-6019.067 (+/-11331.030) for {'epochs': 200, 'class_weight': {0: 1.0, 1: 2}}\n",
      "-12409.447 (+/-26006.586) for {'epochs': 500, 'class_weight': {0: 1.0, 1: 2}}\n",
      "-3226.661 (+/-8449.218) for {'epochs': 10, 'class_weight': {0: 1.0, 1: 4}}\n",
      "-3156.888 (+/-8472.702) for {'epochs': 20, 'class_weight': {0: 1.0, 1: 4}}\n",
      "-11662.036 (+/-18860.082) for {'epochs': 50, 'class_weight': {0: 1.0, 1: 4}}\n",
      "-14416.477 (+/-19170.913) for {'epochs': 100, 'class_weight': {0: 1.0, 1: 4}}\n",
      "-5929.288 (+/-17141.610) for {'epochs': 200, 'class_weight': {0: 1.0, 1: 4}}\n",
      "-96484.751 (+/-173672.539) for {'epochs': 500, 'class_weight': {0: 1.0, 1: 4}}\n",
      "-3876.674 (+/-8445.669) for {'epochs': 10, 'class_weight': {0: 1.0, 1: 8}}\n",
      "-3097.454 (+/-8467.193) for {'epochs': 20, 'class_weight': {0: 1.0, 1: 8}}\n",
      "-3250.082 (+/-8442.455) for {'epochs': 50, 'class_weight': {0: 1.0, 1: 8}}\n",
      "-14439.897 (+/-19085.784) for {'epochs': 100, 'class_weight': {0: 1.0, 1: 8}}\n",
      "-66859.167 (+/-177981.447) for {'epochs': 200, 'class_weight': {0: 1.0, 1: 8}}\n",
      "-45338.598 (+/-126451.736) for {'epochs': 500, 'class_weight': {0: 1.0, 1: 8}}\n",
      "-409.371 (+/-365.179) for {'epochs': 10, 'class_weight': {0: 1.0, 1: 16}}\n",
      "-6004.035 (+/-11376.320) for {'epochs': 20, 'class_weight': {0: 1.0, 1: 16}}\n",
      "-250.307 (+/-189.021) for {'epochs': 50, 'class_weight': {0: 1.0, 1: 16}}\n",
      "-6486.595 (+/-11332.313) for {'epochs': 100, 'class_weight': {0: 1.0, 1: 16}}\n",
      "-8737.495 (+/-13242.140) for {'epochs': 200, 'class_weight': {0: 1.0, 1: 16}}\n",
      "-49579.815 (+/-126754.325) for {'epochs': 500, 'class_weight': {0: 1.0, 1: 16}}\n",
      "-1828.264 (+/-2517.587) for {'epochs': 10, 'class_weight': {0: 1.0, 1: 32}}\n",
      "-6133.242 (+/-11273.553) for {'epochs': 20, 'class_weight': {0: 1.0, 1: 32}}\n",
      "-3293.019 (+/-8438.458) for {'epochs': 50, 'class_weight': {0: 1.0, 1: 32}}\n",
      "-1488.178 (+/-2502.403) for {'epochs': 100, 'class_weight': {0: 1.0, 1: 32}}\n",
      "-10770.595 (+/-12030.523) for {'epochs': 200, 'class_weight': {0: 1.0, 1: 32}}\n",
      "-5951.733 (+/-11420.991) for {'epochs': 500, 'class_weight': {0: 1.0, 1: 32}}\n",
      "-2048.807 (+/-2215.712) for {'epochs': 10, 'class_weight': {0: 1.0, 1: 64}}\n",
      "-4679.709 (+/-8398.787) for {'epochs': 20, 'class_weight': {0: 1.0, 1: 64}}\n",
      "-3202.753 (+/-8455.471) for {'epochs': 50, 'class_weight': {0: 1.0, 1: 64}}\n",
      "-17240.691 (+/-22807.692) for {'epochs': 100, 'class_weight': {0: 1.0, 1: 64}}\n",
      "-47848.496 (+/-125602.540) for {'epochs': 200, 'class_weight': {0: 1.0, 1: 64}}\n",
      "-123701.473 (+/-205051.461) for {'epochs': 500, 'class_weight': {0: 1.0, 1: 64}}\n",
      "\n",
      "Detailed classification report:\n",
      "\n",
      "The model is trained on the full development set.\n",
      "The scores are computed on the full evaluation set.\n",
      "\n",
      "             precision    recall  f1-score   support\n",
      "\n",
      "          0       0.99      0.94      0.97       152\n",
      "          1       0.90      0.99      0.94        79\n",
      "\n",
      "avg / total       0.96      0.96      0.96       231\n",
      "\n",
      "\n",
      "Specificity, Sensitivity, Accuracy:\n",
      "\n"
     ]
    }
   ],
   "source": [
    "print(__doc__)\n",
    "\n",
    "model.load_weights('my_model_weights.h5')\n",
    "scores = [my_custom_scorer2]\n",
    "\n",
    "for score in scores:\n",
    "    print(\"# Tuning hyper-parameters for %s\" % score)\n",
    "    print()\n",
    "\n",
    "    clf4 = GridSearchCV(estimator=modelNN, param_grid=param_gridNN, cv=10, \n",
    "                       scoring=my_custom_scorer2)\n",
    "    clf4.fit(X_train.as_matrix(), y_train)\n",
    "\n",
    "    print(\"Best parameters set found on development set:\")\n",
    "    print()\n",
    "    print(clf4.best_params_)\n",
    "    print()\n",
    "    print(\"Grid scores on development set:\")\n",
    "    print()\n",
    "    means4 = clf4.cv_results_['mean_test_score']\n",
    "    stds4 = clf4.cv_results_['std_test_score']\n",
    "    for mean, std, params in zip(means4, stds4, clf4.cv_results_['params']):\n",
    "        print(\"%0.3f (+/-%0.03f) for %r\"\n",
    "              % (mean, std, params))\n",
    "    print()\n",
    "    print(\"Detailed classification report:\")\n",
    "    print()\n",
    "    print(\"The model is trained on the full development set.\")\n",
    "    print(\"The scores are computed on the full evaluation set.\")\n",
    "    print()\n",
    "    y_true, y_pred = y_test, clf4.predict(X_test.as_matrix())\n",
    "    print(classification_report(y_true, y_pred))\n",
    "    print()\n",
    "    print(\"Specificity, Sensitivity, Accuracy:\")\n",
    "    output_score(y_true, y_pred)\n",
    "    print()"
   ]
  },
  {
   "cell_type": "code",
   "execution_count": 34,
   "metadata": {
    "collapsed": false
   },
   "outputs": [
    {
     "name": "stdout",
     "output_type": "stream",
     "text": [
      "Best score obtained: -250.30673076923077\n",
      "Parameters:\n",
      "\tepochs: 50\n",
      "\tclass_weight: {0: 1.0, 1: 16}\n"
     ]
    }
   ],
   "source": [
    "print(\"Best score obtained: {0}\".format(clf4.best_score_))\n",
    "print(\"Parameters:\")\n",
    "for key, value in clf4.best_params_.items():\n",
    "    print(\"\\t{}: {}\".format(key, value))"
   ]
  },
  {
   "cell_type": "code",
   "execution_count": 35,
   "metadata": {
    "collapsed": true
   },
   "outputs": [],
   "source": [
    "best_class_weight = {0: 1.0, 1: 16}"
   ]
  },
  {
   "cell_type": "code",
   "execution_count": 36,
   "metadata": {
    "collapsed": true
   },
   "outputs": [],
   "source": [
    "bestmodelNN11 = KerasClassifier(build_fn=create_model8, epochs= 50, class_weight = best_class_weight, verbose=0)"
   ]
  },
  {
   "cell_type": "code",
   "execution_count": 37,
   "metadata": {
    "collapsed": false
   },
   "outputs": [
    {
     "data": {
      "text/plain": [
       "<keras.callbacks.History at 0x10bebb00>"
      ]
     },
     "execution_count": 37,
     "metadata": {},
     "output_type": "execute_result"
    }
   ],
   "source": [
    "model.load_weights('my_model_weights.h5')\n",
    "bestmodelNN11.fit(X_train.as_matrix(), y_train )"
   ]
  },
  {
   "cell_type": "code",
   "execution_count": 38,
   "metadata": {
    "collapsed": false
   },
   "outputs": [
    {
     "name": "stdout",
     "output_type": "stream",
     "text": [
      "Specificity: 0.9553 (+/- 0.0795)\n",
      "Accuracy: 0.9353 (+/- 0.1800)\n",
      "Recall: 0.9933 (+/- 0.0400)\n",
      "Score cost: -570251.1850 (+/- 2279863.0266)\n"
     ]
    }
   ],
   "source": [
    "import warnings\n",
    "warnings.filterwarnings('ignore', message='.*is ill-defined', append=True)\n",
    "warnings.filterwarnings('ignore', category=DeprecationWarning)\n",
    "model.load_weights('my_model_weights.h5')\n",
    "scores1=cross_val_score(bestmodelNN11,X_train.as_matrix(),y_train,cv=10,scoring=score_specificity)\n",
    "print(\"Specificity: %0.4f (+/- %0.4f)\" % (scores1.mean(), scores1.std() * 2))\n",
    "model.load_weights('my_model_weights.h5')\n",
    "scores2=cross_val_score(bestmodelNN11,X_train.as_matrix(),y_train,cv=10,scoring='accuracy')\n",
    "print(\"Accuracy: %0.4f (+/- %0.4f)\" % (scores2.mean(), scores2.std() * 2))\n",
    "model.load_weights('my_model_weights.h5')\n",
    "scores3=cross_val_score(bestmodelNN11,X_train.as_matrix(),y_train,cv=10,scoring='recall')\n",
    "print(\"Recall: %0.4f (+/- %0.4f)\" % (scores3.mean(), scores3.std() * 2))\n",
    "model.load_weights('my_model_weights.h5')\n",
    "scores4=cross_val_score(bestmodelNN11,X_train.as_matrix(), y_train, cv=10, scoring=my_custom_scorer)\n",
    "print(\"Score cost: %0.4f (+/- %0.4f)\" % (scores4.mean(), scores4.std() * 2))"
   ]
  },
  {
   "cell_type": "code",
   "execution_count": null,
   "metadata": {
    "collapsed": true
   },
   "outputs": [],
   "source": [
    "for train in kfold.split(X_train, y_train):\n",
    "  # create model\n",
    "    model = build_model()\n",
    "    model.load_weights('my_model_weights.h5')\n",
    "    model.fit(X_train.as_matrix(), y_train, epochs=10, class_weight = {0: 1.0, 1: 8}, verbose=0)\n",
    "\n",
    "    scores = model.evaluate(X_test.as_matrix(), y_test)\n",
    "    print(\"\\n%s: %.2f%%\" % (model.metrics_names[1], scores[1]*100))\n",
    "    print(\"%s: %.2f%%\" % (model.metrics_names[2], scores[2]*100))\n",
    "    print(\"%s: %.2f%%\" % (model.metrics_names[3], scores[3]*100))\n",
    "    print()\n",
    "    print()\n",
    "    \n",
    "    cvscores.append(scores[1] * 100)\n",
    "    cvscores2.append(scores[2] * 100)\n",
    "    cvscores3.append(scores[3] * 100)\n",
    "\n",
    "print(\"%.2f%% (+/- %.2f%%)\" % (np.mean(cvscores), np.std(cvscores)))\n",
    "print(\"%.2f%% (+/- %.2f%%)\" % (np.mean(cvscores2), np.std(cvscores2)))   \n",
    "print(\"%.2f%% (+/- %.2f%%)\" % (np.mean(cvscores3), np.std(cvscores3))) "
   ]
  },
  {
   "cell_type": "code",
   "execution_count": 24,
   "metadata": {
    "collapsed": false
   },
   "outputs": [
    {
     "name": "stdout",
     "output_type": "stream",
     "text": [
      "Epochs : 10 & Class Weight : {0: 1.0, 1: 2})\n",
      "Specificity: 0.9704 (+/- 0.0301)\n",
      "Accuracy: 0.9636 (+/- 0.0290)\n",
      "Recall: 0.9724 (+/- 0.0465)\n",
      "Score cost: -855228.3500 (+/- 1305934.4371)\n",
      "\n",
      "\n",
      "Epochs : 10 & Class Weight : {0: 1.0, 1: 4})\n",
      "Specificity: 0.9670 (+/- 0.0324)\n",
      "Accuracy: 0.9700 (+/- 0.0198)\n",
      "Recall: 0.9941 (+/- 0.0176)\n",
      "Score cost: -285274.0200 (+/- 854984.8180)\n",
      "\n",
      "\n",
      "Epochs : 10 & Class Weight : {0: 1.0, 1: 8})\n",
      "Specificity: 0.9543 (+/- 0.0340)\n",
      "Accuracy: 0.9593 (+/- 0.0296)\n",
      "Recall: 0.9933 (+/- 0.0200)\n",
      "Score cost: -855570.8750 (+/- 1305859.8090)\n",
      "\n",
      "\n",
      "Epochs : 10 & Class Weight : {0: 1.0, 1: 16})\n",
      "Specificity: 0.9241 (+/- 0.0630)\n",
      "Accuracy: 0.9423 (+/- 0.0712)\n",
      "Recall: 0.9867 (+/- 0.0400)\n",
      "Score cost: -1004.7400 (+/- 1105.5536)\n",
      "\n",
      "\n",
      "Epochs : 10 & Class Weight : {0: 1.0, 1: 32})\n",
      "Specificity: 0.8487 (+/- 0.1251)\n",
      "Accuracy: 0.8883 (+/- 0.0884)\n",
      "Recall: 0.9933 (+/- 0.0200)\n",
      "Score cost: -285913.4000 (+/- 854771.9733)\n",
      "\n",
      "\n",
      "Epochs : 10 & Class Weight : {0: 1.0, 1: 64})\n",
      "Specificity: 0.7890 (+/- 0.2770)\n",
      "Accuracy: 0.8847 (+/- 0.0846)\n",
      "Recall: 0.9862 (+/- 0.0276)\n",
      "Score cost: -3311.0750 (+/- 2903.2797)\n",
      "\n",
      "\n",
      "Epochs : 20 & Class Weight : {0: 1.0, 1: 2})\n",
      "Specificity: 0.9568 (+/- 0.0359)\n",
      "Accuracy: 0.9721 (+/- 0.0257)\n",
      "Recall: 0.9875 (+/- 0.0252)\n",
      "Score cost: -1140182.6800 (+/- 1890469.2587)\n",
      "\n",
      "\n",
      "Epochs : 20 & Class Weight : {0: 1.0, 1: 4})\n",
      "Specificity: 0.9436 (+/- 0.0532)\n",
      "Accuracy: 0.9679 (+/- 0.0220)\n",
      "Recall: 0.9736 (+/- 0.0324)\n",
      "Score cost: -285274.0200 (+/- 854908.7210)\n",
      "\n",
      "\n",
      "Epochs : 20 & Class Weight : {0: 1.0, 1: 8})\n",
      "Specificity: 0.9637 (+/- 0.0368)\n",
      "Accuracy: 0.9548 (+/- 0.0509)\n",
      "Recall: 0.9795 (+/- 0.0313)\n",
      "Score cost: -285365.3600 (+/- 854878.2730)\n",
      "\n",
      "\n",
      "Epochs : 20 & Class Weight : {0: 1.0, 1: 16})\n",
      "Specificity: 0.9393 (+/- 0.0701)\n",
      "Accuracy: 0.9358 (+/- 0.0581)\n",
      "Recall: 0.9875 (+/- 0.0252)\n",
      "Score cost: -286118.9150 (+/- 854706.2259)\n",
      "\n",
      "\n",
      "Epochs : 20 & Class Weight : {0: 1.0, 1: 32})\n",
      "Specificity: 0.8403 (+/- 0.2837)\n",
      "Accuracy: 0.9337 (+/- 0.0621)\n",
      "Recall: 1.0000 (+/- 0.0000)\n",
      "Score cost: -570593.7100 (+/- 1139817.7820)\n",
      "\n",
      "\n",
      "Epochs : 20 & Class Weight : {0: 1.0, 1: 64})\n",
      "Specificity: 0.7619 (+/- 0.2610)\n",
      "Accuracy: 0.8269 (+/- 0.2041)\n",
      "Recall: 0.9867 (+/- 0.0267)\n",
      "Score cost: -571210.2550 (+/- 1139568.0339)\n",
      "\n",
      "\n",
      "Epochs : 50 & Class Weight : {0: 1.0, 1: 2})\n",
      "Specificity: 0.9676 (+/- 0.0292)\n",
      "Accuracy: 0.9742 (+/- 0.0251)\n",
      "Recall: 0.9862 (+/- 0.0276)\n",
      "Score cost: -342.5250 (+/- 342.5250)\n",
      "\n",
      "\n",
      "Epochs : 50 & Class Weight : {0: 1.0, 1: 4})\n",
      "Specificity: 0.9586 (+/- 0.0354)\n",
      "Accuracy: 0.9721 (+/- 0.0237)\n",
      "Recall: 0.9933 (+/- 0.0200)\n",
      "Score cost: -1425228.3500 (+/- 1911804.0855)\n",
      "\n",
      "\n",
      "Epochs : 50 & Class Weight : {0: 1.0, 1: 8})\n",
      "Specificity: 0.9539 (+/- 0.0431)\n",
      "Accuracy: 0.9422 (+/- 0.0557)\n",
      "Recall: 0.9800 (+/- 0.0427)\n",
      "Score cost: -1140205.5150 (+/- 1890489.9127)\n",
      "\n",
      "\n",
      "Epochs : 50 & Class Weight : {0: 1.0, 1: 16})\n",
      "Specificity: 0.9402 (+/- 0.0455)\n",
      "Accuracy: 0.9636 (+/- 0.0333)\n",
      "Recall: 0.9681 (+/- 0.0441)\n",
      "Score cost: -285936.2350 (+/- 854690.3505)\n",
      "\n",
      "\n",
      "Epochs : 50 & Class Weight : {0: 1.0, 1: 32})\n",
      "Specificity: 0.8842 (+/- 0.2086)\n",
      "Accuracy: 0.9700 (+/- 0.0198)\n",
      "Recall: 0.9933 (+/- 0.0200)\n",
      "Score cost: -570433.8650 (+/- 1140011.4698)\n",
      "\n",
      "\n",
      "Epochs : 50 & Class Weight : {0: 1.0, 1: 64})\n",
      "Specificity: 0.9573 (+/- 0.0328)\n",
      "Accuracy: 0.9071 (+/- 0.1674)\n",
      "Recall: 0.9933 (+/- 0.0200)\n",
      "Score cost: -3705342.5250 (+/- 10200327.7882)\n",
      "\n",
      "\n",
      "Epochs : 100 & Class Weight : {0: 1.0, 1: 2})\n",
      "Specificity: 0.9708 (+/- 0.0315)\n",
      "Accuracy: 0.9679 (+/- 0.0275)\n",
      "Recall: 0.9811 (+/- 0.0291)\n",
      "Score cost: -1995205.5150 (+/- 2864253.1831)\n",
      "\n",
      "\n",
      "Epochs : 100 & Class Weight : {0: 1.0, 1: 4})\n",
      "Specificity: 0.9707 (+/- 0.0369)\n",
      "Accuracy: 0.9657 (+/- 0.0276)\n",
      "Recall: 0.9795 (+/- 0.0432)\n",
      "Score cost: -1140342.5250 (+/- 1396115.9987)\n",
      "\n",
      "\n",
      "Epochs : 100 & Class Weight : {0: 1.0, 1: 8})\n",
      "Specificity: 0.8736 (+/- 0.2924)\n",
      "Accuracy: 0.9504 (+/- 0.0747)\n",
      "Recall: 0.9862 (+/- 0.0276)\n",
      "Score cost: -855365.3600 (+/- 1824754.9323)\n",
      "\n",
      "\n",
      "Epochs : 100 & Class Weight : {0: 1.0, 1: 16})\n",
      "Specificity: 0.9636 (+/- 0.0370)\n",
      "Accuracy: 0.9808 (+/- 0.0201)\n",
      "Recall: 0.9875 (+/- 0.0252)\n",
      "Score cost: -286666.9550 (+/- 854601.3863)\n",
      "\n",
      "\n",
      "Epochs : 100 & Class Weight : {0: 1.0, 1: 32})\n",
      "Specificity: 0.9426 (+/- 0.0418)\n",
      "Accuracy: 0.9658 (+/- 0.0257)\n",
      "Recall: 0.9870 (+/- 0.0262)\n",
      "Score cost: -1140867.7300 (+/- 1890022.5060)\n",
      "\n",
      "\n",
      "Epochs : 100 & Class Weight : {0: 1.0, 1: 64})\n",
      "Specificity: 0.9280 (+/- 0.0608)\n",
      "Accuracy: 0.8629 (+/- 0.1596)\n",
      "Recall: 0.9803 (+/- 0.0302)\n",
      "Score cost: -570342.5250 (+/- 1709961.9573)\n",
      "\n",
      "\n",
      "Epochs : 200 & Class Weight : {0: 1.0, 1: 2})\n",
      "Specificity: 0.9737 (+/- 0.0238)\n",
      "Accuracy: 0.9636 (+/- 0.0305)\n",
      "Recall: 0.9808 (+/- 0.0419)\n",
      "Score cost: -1425228.3500 (+/- 1911872.1718)\n",
      "\n",
      "\n",
      "Epochs : 200 & Class Weight : {0: 1.0, 1: 4})\n",
      "Specificity: 0.9543 (+/- 0.0371)\n",
      "Accuracy: 0.9700 (+/- 0.0238)\n",
      "Recall: 0.9795 (+/- 0.0313)\n",
      "Score cost: -570205.5150 (+/- 1709931.5041)\n",
      "\n",
      "\n",
      "Epochs : 200 & Class Weight : {0: 1.0, 1: 8})\n",
      "Specificity: 0.9669 (+/- 0.0292)\n",
      "Accuracy: 0.9636 (+/- 0.0256)\n",
      "Recall: 0.9719 (+/- 0.0652)\n",
      "Score cost: -251.1850 (+/- 238.4044)\n",
      "\n",
      "\n",
      "Epochs : 200 & Class Weight : {0: 1.0, 1: 16})\n",
      "Specificity: 0.9600 (+/- 0.0417)\n",
      "Accuracy: 0.9337 (+/- 0.0885)\n",
      "Recall: 0.9867 (+/- 0.0400)\n",
      "Score cost: -2565936.2350 (+/- 4119725.4879)\n",
      "\n",
      "\n",
      "Epochs : 200 & Class Weight : {0: 1.0, 1: 32})\n",
      "Specificity: 0.7701 (+/- 0.3875)\n",
      "Accuracy: 0.6752 (+/- 0.2786)\n",
      "Recall: 0.8929 (+/- 0.2984)\n",
      "Score cost: -5131552.7800 (+/- 14464436.9385)\n",
      "\n",
      "\n",
      "Epochs : 200 & Class Weight : {0: 1.0, 1: 64})\n",
      "Specificity: 0.6670 (+/- 0.4374)\n",
      "Accuracy: 0.8453 (+/- 0.2513)\n",
      "Recall: 0.8933 (+/- 0.2984)\n",
      "Score cost: -286324.4300 (+/- 854712.8540)\n",
      "\n",
      "\n",
      "Epochs : 500 & Class Weight : {0: 1.0, 1: 2})\n",
      "Specificity: 0.9740 (+/- 0.0305)\n",
      "Accuracy: 0.9678 (+/- 0.0338)\n",
      "Recall: 0.9795 (+/- 0.0432)\n",
      "Score cost: -5130182.6800 (+/- 11736938.5171)\n",
      "\n",
      "\n",
      "Epochs : 500 & Class Weight : {0: 1.0, 1: 4})\n",
      "Specificity: 0.9866 (+/- 0.0165)\n",
      "Accuracy: 0.8849 (+/- 0.1959)\n",
      "Recall: 0.9404 (+/- 0.0595)\n",
      "Score cost: -571004.7400 (+/- 1709742.5842)\n",
      "\n",
      "\n",
      "Epochs : 500 & Class Weight : {0: 1.0, 1: 8})\n",
      "Specificity: 0.8573 (+/- 0.2886)\n",
      "Accuracy: 0.9721 (+/- 0.0274)\n",
      "Recall: 0.6875 (+/- 0.4507)\n",
      "Score cost: -857785.8700 (+/- 1823694.7259)\n",
      "\n",
      "\n",
      "Epochs : 500 & Class Weight : {0: 1.0, 1: 16})\n",
      "Specificity: 0.9603 (+/- 0.0290)\n",
      "Accuracy: 0.9012 (+/- 0.1348)\n",
      "Recall: 0.7760 (+/- 0.3901)\n",
      "Score cost: -1140365.3600 (+/- 1890393.5367)\n",
      "\n",
      "\n",
      "Epochs : 500 & Class Weight : {0: 1.0, 1: 32})\n",
      "Specificity: 0.7578 (+/- 0.3797)\n",
      "Accuracy: 0.8878 (+/- 0.2057)\n",
      "Recall: 0.6933 (+/- 0.4543)\n",
      "Score cost: -855936.2350 (+/- 1824453.0478)\n",
      "\n",
      "\n",
      "Epochs : 500 & Class Weight : {0: 1.0, 1: 64})\n",
      "Specificity: 0.4735 (+/- 0.4751)\n",
      "Accuracy: 0.6092 (+/- 0.2623)\n",
      "Recall: 0.7933 (+/- 0.3972)\n",
      "Score cost: -856598.4500 (+/- 1824179.0636)\n",
      "\n",
      "\n"
     ]
    }
   ],
   "source": [
    "epochs = [10, 20, 50, 100, 200, 500]\n",
    "class_weight = [{0 : 1., 1: 2},\n",
    "                {0 : 1., 1: 4},\n",
    "                {0 : 1., 1: 8},\n",
    "                {0 : 1., 1: 16},\n",
    "                {0 : 1., 1: 32},\n",
    "                {0 : 1., 1: 64}]\n",
    "results=[]\n",
    "model.load_weights('my_model_weights.h5')\n",
    "\n",
    "for epochs_idx in range(len(epochs)):\n",
    "  for class_weight_idx in range(len(class_weight)):\n",
    "    param1 = epochs[epochs_idx]\n",
    "    param2 = class_weight[class_weight_idx]\n",
    "    bestmodelNN = KerasClassifier(build_fn=create_model8, epochs= param1, class_weight = param2, verbose=0)\n",
    "    model.load_weights('my_model_weights.h5')\n",
    "    bestmodelNN.fit(X_train.as_matrix(), y_train )\n",
    "    print(\"Epochs : %r & Class Weight : %r)\" % (param1, param2))\n",
    "    scores1=cross_val_score(bestmodelNN,X_train.as_matrix(),y_train,cv=10,scoring=score_specificity)\n",
    "    print(\"Specificity: %0.4f (+/- %0.4f)\" % (scores1.mean(), scores1.std() ))\n",
    "    model.load_weights('my_model_weights.h5')\n",
    "    scores2=cross_val_score(bestmodelNN,X_train.as_matrix(),y_train,cv=10,scoring='accuracy')\n",
    "    print(\"Accuracy: %0.4f (+/- %0.4f)\" % (scores2.mean(), scores2.std() ))\n",
    "    model.load_weights('my_model_weights.h5')\n",
    "    scores3=cross_val_score(bestmodelNN,X_train.as_matrix(),y_train,cv=10,scoring='recall')\n",
    "    print(\"Recall: %0.4f (+/- %0.4f)\" % (scores3.mean(), scores3.std() ))\n",
    "    model.load_weights('my_model_weights.h5')\n",
    "    scores4=cross_val_score(bestmodelNN,X_train.as_matrix(), y_train, cv=10, scoring=my_custom_scorer)\n",
    "    print(\"Score cost: %0.4f (+/- %0.4f)\" % (scores4.mean(), scores4.std() ))\n",
    "    print()\n",
    "    print()\n"
   ]
  },
  {
   "cell_type": "raw",
   "metadata": {
    "collapsed": true
   },
   "source": [
    "best params = epochs : 200 class weight : 8"
   ]
  },
  {
   "cell_type": "code",
   "execution_count": 22,
   "metadata": {
    "collapsed": true
   },
   "outputs": [],
   "source": [
    "best_class_weight = {0: 1.0, 1: 8}"
   ]
  },
  {
   "cell_type": "code",
   "execution_count": 23,
   "metadata": {
    "collapsed": true
   },
   "outputs": [],
   "source": [
    "bestmodelNN_test = KerasClassifier(build_fn=create_model8, epochs= 200, class_weight = best_class_weight, verbose=0)"
   ]
  },
  {
   "cell_type": "code",
   "execution_count": 26,
   "metadata": {
    "collapsed": false
   },
   "outputs": [
    {
     "name": "stdout",
     "output_type": "stream",
     "text": [
      "Specificity: 0.9707 (+/- 0.0545)\n",
      "Recall: 0.9736 (+/- 0.0881)\n",
      "\n",
      "\n",
      "Specificity: 0.9602 (+/- 0.0770)\n",
      "Recall: 0.9862 (+/- 0.0553)\n",
      "\n",
      "\n",
      "Specificity: 0.9669 (+/- 0.0585)\n",
      "Recall: 0.9941 (+/- 0.0353)\n",
      "\n",
      "\n",
      "Specificity: 0.9526 (+/- 0.0703)\n",
      "Recall: 0.9941 (+/- 0.0353)\n",
      "\n",
      "\n",
      "Specificity: 0.9654 (+/- 0.0615)\n",
      "Recall: 0.9748 (+/- 0.0867)\n",
      "\n",
      "\n",
      "Specificity: 0.9664 (+/- 0.0504)\n",
      "Recall: 0.9814 (+/- 0.0578)\n",
      "\n",
      "\n",
      "Specificity: 0.9603 (+/- 0.0590)\n",
      "Recall: 0.9748 (+/- 0.0629)\n",
      "\n",
      "\n",
      "Specificity: 0.9706 (+/- 0.0616)\n",
      "Recall: 0.9933 (+/- 0.0400)\n",
      "\n",
      "\n",
      "Specificity: 0.9179 (+/- 0.2974)\n",
      "Recall: 0.9800 (+/- 0.0854)\n",
      "\n",
      "\n",
      "Specificity: 0.9576 (+/- 0.0843)\n",
      "Recall: 0.9862 (+/- 0.0553)\n",
      "\n",
      "\n"
     ]
    }
   ],
   "source": [
    "import warnings\n",
    "warnings.filterwarnings('ignore', message='.*is ill-defined', append=True)\n",
    "warnings.filterwarnings('ignore', category=DeprecationWarning)\n",
    "for i in range(10):\n",
    "    model.load_weights('my_model_weights.h5')\n",
    "    scores1=cross_val_score(bestmodelNN_test, X_train.as_matrix(),y_train,cv=10,scoring=score_specificity)\n",
    "    print(\"Specificity: %0.4f (+/- %0.4f)\" % (scores1.mean(), scores1.std()*2))\n",
    "    model.load_weights('my_model_weights.h5')\n",
    "    scores3=cross_val_score(bestmodelNN_test, X_train.as_matrix(),y_train,cv=10,scoring='recall')\n",
    "    print(\"Recall: %0.4f (+/- %0.4f)\" % (scores3.mean(), scores3.std()*2))\n",
    "    print()\n",
    "    print()"
   ]
  },
  {
   "cell_type": "code",
   "execution_count": null,
   "metadata": {
    "collapsed": true
   },
   "outputs": [],
   "source": []
  }
 ],
 "metadata": {
  "kernelspec": {
   "display_name": "Python 3",
   "language": "python",
   "name": "python3"
  },
  "language_info": {
   "codemirror_mode": {
    "name": "ipython",
    "version": 3
   },
   "file_extension": ".py",
   "mimetype": "text/x-python",
   "name": "python",
   "nbconvert_exporter": "python",
   "pygments_lexer": "ipython3",
   "version": "3.5.3"
  }
 },
 "nbformat": 4,
 "nbformat_minor": 2
}
