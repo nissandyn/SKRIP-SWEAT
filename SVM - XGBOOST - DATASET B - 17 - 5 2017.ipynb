{
 "cells": [
  {
   "cell_type": "code",
   "execution_count": 1,
   "metadata": {
    "collapsed": true
   },
   "outputs": [],
   "source": [
    "import pandas as pd\n",
    "import numpy as np\n",
    "import matplotlib.pyplot as plt\n",
    "from scipy import stats\n",
    "import pylab as pl\n",
    "from sklearn.model_selection import train_test_split\n",
    "from sklearn.svm import SVC\n",
    "from sklearn.metrics import accuracy_score, precision_recall_fscore_support\n",
    "from sklearn import metrics\n",
    "from sklearn.model_selection import GridSearchCV\n",
    "from __future__ import print_function\n",
    "from sklearn.metrics import classification_report\n",
    "from sklearn.metrics import confusion_matrix\n",
    "from sklearn.metrics import make_scorer\n",
    "from sklearn.model_selection import cross_val_score\n",
    "from sklearn.metrics import roc_curve, roc_auc_score"
   ]
  },
  {
   "cell_type": "code",
   "execution_count": 2,
   "metadata": {
    "collapsed": false
   },
   "outputs": [
    {
     "name": "stdout",
     "output_type": "stream",
     "text": [
      "<class 'pandas.core.frame.DataFrame'>\n",
      "Int64Index: 683 entries, 0 to 698\n",
      "Data columns (total 10 columns):\n",
      "clump_thickness       683 non-null int64\n",
      "cell_size             683 non-null int64\n",
      "cell_shape            683 non-null int64\n",
      "marginal_adhesion     683 non-null int64\n",
      "epitelial_cellsize    683 non-null int64\n",
      "bare_nuclei           683 non-null int32\n",
      "bland_chromatin       683 non-null int64\n",
      "normal_nucleoli       683 non-null int64\n",
      "mitoses               683 non-null int64\n",
      "jenis                 683 non-null int64\n",
      "dtypes: int32(1), int64(9)\n",
      "memory usage: 56.0 KB\n"
     ]
    }
   ],
   "source": [
    "dfb = pd.read_csv(\"wbc.csv\")\n",
    "dfb=dfb[dfb.bare_nuclei!='?']\n",
    "dfb['bare_nuclei']=dfb['bare_nuclei'].astype(object).astype(int)\n",
    "dfb.info()"
   ]
  },
  {
   "cell_type": "code",
   "execution_count": 3,
   "metadata": {
    "collapsed": true
   },
   "outputs": [],
   "source": [
    "X = dfb.drop([dfb.columns[-1]], axis=1)\n",
    "y = dfb.jenis.map({2: 0, 4: 1})"
   ]
  },
  {
   "cell_type": "code",
   "execution_count": 4,
   "metadata": {
    "collapsed": true
   },
   "outputs": [],
   "source": [
    "RAND_SEED_SPLIT = RAND_SEED_TUNING = 84"
   ]
  },
  {
   "cell_type": "code",
   "execution_count": 5,
   "metadata": {
    "collapsed": true
   },
   "outputs": [],
   "source": [
    "X_train, X_test, y_train, y_test = train_test_split(X, y,test_size=0.33, random_state=RAND_SEED_SPLIT)"
   ]
  },
  {
   "cell_type": "code",
   "execution_count": 6,
   "metadata": {
    "collapsed": false
   },
   "outputs": [],
   "source": [
    "svc=SVC()"
   ]
  },
  {
   "cell_type": "code",
   "execution_count": 7,
   "metadata": {
    "collapsed": true
   },
   "outputs": [],
   "source": [
    "C_range= [2**i for i in [-5, -3, -1, 1, 3, 5, 7, 9, 11, 13, 15]]\n",
    "gamma_range= [2**i for i in [-15, -13, -11, -9, -7, -5, -3, -1, 1, 3]]"
   ]
  },
  {
   "cell_type": "code",
   "execution_count": 7,
   "metadata": {
    "collapsed": true
   },
   "outputs": [],
   "source": [
    "def cost_breast_cancer(y_true, y_pred):\n",
    "    CM = confusion_matrix(y_true, y_pred)\n",
    "    FN = CM[1][0]\n",
    "    FP = CM[0][1]\n",
    "    costBC=((-1*((228.35*FP)+(2850000*FN))))\n",
    "    return costBC"
   ]
  },
  {
   "cell_type": "code",
   "execution_count": 8,
   "metadata": {
    "collapsed": true
   },
   "outputs": [],
   "source": [
    "def specificity(y_true, y_pred):\n",
    "    CM = confusion_matrix(y_true, y_pred)\n",
    "    TN = CM[0][0]\n",
    "    FN = CM[1][0]\n",
    "    TP = CM[1][1]\n",
    "    FP = CM[0][1]\n",
    "    nilai=(TN/(FP+TN))\n",
    "    return nilai"
   ]
  },
  {
   "cell_type": "code",
   "execution_count": 9,
   "metadata": {
    "collapsed": true
   },
   "outputs": [],
   "source": [
    "def output_score(y_true, y_pred):\n",
    "    CM = confusion_matrix(y_true, y_pred)\n",
    "    TN = CM[0][0]\n",
    "    FN = CM[1][0]\n",
    "    TP = CM[1][1]\n",
    "    FP = CM[0][1]\n",
    "    specificity=(TN/(FP+TN))\n",
    "    sensitivity=(TP/(TP+FN))\n",
    "    accuracy=((TP+TN)/(TP+FP+TN+FN))\n",
    "    costBC=((-1*((228.35*FP)+(2850000*FN))))\n",
    "    return (specificity, sensitivity, accuracy, costBC)"
   ]
  },
  {
   "cell_type": "code",
   "execution_count": 10,
   "metadata": {
    "collapsed": false
   },
   "outputs": [],
   "source": [
    "my_custom_scorer=make_scorer(cost_breast_cancer, greater_is_better=True)\n",
    "score_specificity=make_scorer(specificity, greater_is_better=True)\n",
    "output_scoring=make_scorer(output_score, greater_is_better=True)"
   ]
  },
  {
   "cell_type": "code",
   "execution_count": 11,
   "metadata": {
    "collapsed": false
   },
   "outputs": [
    {
     "name": "stdout",
     "output_type": "stream",
     "text": [
      "Automatically created module for IPython interactive environment\n",
      "# Tuning hyper-parameters for make_scorer(cost_breast_cancer)\n",
      "\n",
      "Best parameters set found on development set:\n",
      "\n",
      "{'gamma': 0.125, 'C': 0.5, 'kernel': 'rbf'}\n",
      "\n",
      "Grid scores on development set:\n",
      "\n",
      "-46479321.663 (+/-2632762.923) for {'gamma': 3.0517578125e-05, 'C': 0.03125, 'kernel': 'rbf'}\n",
      "-46479321.663 (+/-2632762.923) for {'gamma': 0.0001220703125, 'C': 0.03125, 'kernel': 'rbf'}\n",
      "-43641794.311 (+/-6265938.437) for {'gamma': 0.00048828125, 'C': 0.03125, 'kernel': 'rbf'}\n",
      "-4552652.822 (+/-5197367.970) for {'gamma': 0.001953125, 'C': 0.03125, 'kernel': 'rbf'}\n",
      "-1409636.541 (+/-3810852.088) for {'gamma': 0.0078125, 'C': 0.03125, 'kernel': 'rbf'}\n",
      "-561656.892 (+/-2267206.208) for {'gamma': 0.03125, 'C': 0.03125, 'kernel': 'rbf'}\n",
      "-592.611 (+/-816.889) for {'gamma': 0.125, 'C': 0.03125, 'kernel': 'rbf'}\n",
      "-46479321.663 (+/-2632762.923) for {'gamma': 0.5, 'C': 0.03125, 'kernel': 'rbf'}\n",
      "-46479321.663 (+/-2632762.923) for {'gamma': 2, 'C': 0.03125, 'kernel': 'rbf'}\n",
      "-46479321.663 (+/-2632762.923) for {'gamma': 8, 'C': 0.03125, 'kernel': 'rbf'}\n",
      "-46479321.663 (+/-2632762.923) for {'gamma': 3.0517578125e-05, 'C': 0.125, 'kernel': 'rbf'}\n",
      "-41945514.223 (+/-9192468.282) for {'gamma': 0.0001220703125, 'C': 0.125, 'kernel': 'rbf'}\n",
      "-4833287.395 (+/-6234717.966) for {'gamma': 0.00048828125, 'C': 0.125, 'kernel': 'rbf'}\n",
      "-1970837.233 (+/-3651308.289) for {'gamma': 0.001953125, 'C': 0.125, 'kernel': 'rbf'}\n",
      "-1129025.452 (+/-3764686.753) for {'gamma': 0.0078125, 'C': 0.125, 'kernel': 'rbf'}\n",
      "-561611.921 (+/-2267137.662) for {'gamma': 0.03125, 'C': 0.125, 'kernel': 'rbf'}\n",
      "-615.096 (+/-787.591) for {'gamma': 0.125, 'C': 0.125, 'kernel': 'rbf'}\n",
      "-1006.839 (+/-868.968) for {'gamma': 0.5, 'C': 0.125, 'kernel': 'rbf'}\n",
      "-46479321.663 (+/-2632762.923) for {'gamma': 2, 'C': 0.125, 'kernel': 'rbf'}\n",
      "-46479321.663 (+/-2632762.923) for {'gamma': 8, 'C': 0.125, 'kernel': 'rbf'}\n",
      "-41384245.077 (+/-9941052.326) for {'gamma': 3.0517578125e-05, 'C': 0.5, 'kernel': 'rbf'}\n",
      "-4833287.395 (+/-6234717.966) for {'gamma': 0.0001220703125, 'C': 0.5, 'kernel': 'rbf'}\n",
      "-2251471.806 (+/-4265099.808) for {'gamma': 0.00048828125, 'C': 0.5, 'kernel': 'rbf'}\n",
      "-1970859.718 (+/-3651329.959) for {'gamma': 0.001953125, 'C': 0.5, 'kernel': 'rbf'}\n",
      "-1129025.452 (+/-3764686.753) for {'gamma': 0.0078125, 'C': 0.5, 'kernel': 'rbf'}\n",
      "-561565.952 (+/-2267183.191) for {'gamma': 0.03125, 'C': 0.5, 'kernel': 'rbf'}\n",
      "-524.156 (+/-705.682) for {'gamma': 0.125, 'C': 0.5, 'kernel': 'rbf'}\n",
      "-1142.749 (+/-787.266) for {'gamma': 0.5, 'C': 0.5, 'kernel': 'rbf'}\n",
      "-46479321.663 (+/-2632762.923) for {'gamma': 2, 'C': 0.5, 'kernel': 'rbf'}\n",
      "-46479321.663 (+/-2632762.923) for {'gamma': 8, 'C': 0.5, 'kernel': 'rbf'}\n",
      "-4833287.395 (+/-6234717.966) for {'gamma': 3.0517578125e-05, 'C': 2, 'kernel': 'rbf'}\n",
      "-2251471.806 (+/-4265099.808) for {'gamma': 0.0001220703125, 'C': 2, 'kernel': 'rbf'}\n",
      "-1970859.718 (+/-3651329.959) for {'gamma': 0.00048828125, 'C': 2, 'kernel': 'rbf'}\n",
      "-1409636.541 (+/-3810852.088) for {'gamma': 0.001953125, 'C': 2, 'kernel': 'rbf'}\n",
      "-848390.879 (+/-2606504.204) for {'gamma': 0.0078125, 'C': 2, 'kernel': 'rbf'}\n",
      "-1409682.511 (+/-2850104.281) for {'gamma': 0.03125, 'C': 2, 'kernel': 'rbf'}\n",
      "-280997.835 (+/-1698056.547) for {'gamma': 0.125, 'C': 2, 'kernel': 'rbf'}\n",
      "-822.460 (+/-768.350) for {'gamma': 0.5, 'C': 2, 'kernel': 'rbf'}\n",
      "-1486.024 (+/-821.378) for {'gamma': 2, 'C': 2, 'kernel': 'rbf'}\n",
      "-4492487.639 (+/-27171201.389) for {'gamma': 8, 'C': 2, 'kernel': 'rbf'}\n",
      "-2251471.806 (+/-4265099.808) for {'gamma': 3.0517578125e-05, 'C': 8, 'kernel': 'rbf'}\n",
      "-2251494.291 (+/-4265172.541) for {'gamma': 0.0001220703125, 'C': 8, 'kernel': 'rbf'}\n",
      "-1409636.541 (+/-2850105.268) for {'gamma': 0.00048828125, 'C': 8, 'kernel': 'rbf'}\n",
      "-848367.394 (+/-2606534.776) for {'gamma': 0.001953125, 'C': 8, 'kernel': 'rbf'}\n",
      "-1129047.938 (+/-2788040.480) for {'gamma': 0.0078125, 'C': 8, 'kernel': 'rbf'}\n",
      "-2850340.776 (+/-3577495.603) for {'gamma': 0.03125, 'C': 8, 'kernel': 'rbf'}\n",
      "-280997.835 (+/-1698056.547) for {'gamma': 0.125, 'C': 8, 'kernel': 'rbf'}\n",
      "-822.460 (+/-768.350) for {'gamma': 0.5, 'C': 8, 'kernel': 'rbf'}\n",
      "-1486.024 (+/-821.378) for {'gamma': 2, 'C': 8, 'kernel': 'rbf'}\n",
      "-4492487.639 (+/-27171201.389) for {'gamma': 8, 'C': 8, 'kernel': 'rbf'}\n",
      "-2251494.291 (+/-4265172.541) for {'gamma': 3.0517578125e-05, 'C': 32, 'kernel': 'rbf'}\n",
      "-1409636.541 (+/-2850105.268) for {'gamma': 0.0001220703125, 'C': 32, 'kernel': 'rbf'}\n",
      "-1409636.541 (+/-2850105.268) for {'gamma': 0.00048828125, 'C': 32, 'kernel': 'rbf'}\n",
      "-1129025.452 (+/-2788076.891) for {'gamma': 0.001953125, 'C': 32, 'kernel': 'rbf'}\n",
      "-2544715.937 (+/-3988771.092) for {'gamma': 0.0078125, 'C': 32, 'kernel': 'rbf'}\n",
      "-3991588.041 (+/-6308437.958) for {'gamma': 0.03125, 'C': 32, 'kernel': 'rbf'}\n",
      "-280997.835 (+/-1698056.547) for {'gamma': 0.125, 'C': 32, 'kernel': 'rbf'}\n",
      "-822.460 (+/-768.350) for {'gamma': 0.5, 'C': 32, 'kernel': 'rbf'}\n",
      "-1486.024 (+/-821.378) for {'gamma': 2, 'C': 32, 'kernel': 'rbf'}\n",
      "-4492487.639 (+/-27171201.389) for {'gamma': 8, 'C': 32, 'kernel': 'rbf'}\n",
      "-1409636.541 (+/-2850105.268) for {'gamma': 3.0517578125e-05, 'C': 128, 'kernel': 'rbf'}\n",
      "-1409636.541 (+/-2850105.268) for {'gamma': 0.0001220703125, 'C': 128, 'kernel': 'rbf'}\n",
      "-1129001.968 (+/-2788114.927) for {'gamma': 0.00048828125, 'C': 128, 'kernel': 'rbf'}\n",
      "-1129024.453 (+/-2788078.517) for {'gamma': 0.001953125, 'C': 128, 'kernel': 'rbf'}\n",
      "-4577824.968 (+/-6327526.850) for {'gamma': 0.0078125, 'C': 128, 'kernel': 'rbf'}\n",
      "-3991588.041 (+/-6308437.958) for {'gamma': 0.03125, 'C': 128, 'kernel': 'rbf'}\n",
      "-280997.835 (+/-1698056.547) for {'gamma': 0.125, 'C': 128, 'kernel': 'rbf'}\n",
      "-822.460 (+/-768.350) for {'gamma': 0.5, 'C': 128, 'kernel': 'rbf'}\n",
      "-1486.024 (+/-821.378) for {'gamma': 2, 'C': 128, 'kernel': 'rbf'}\n",
      "-4492487.639 (+/-27171201.389) for {'gamma': 8, 'C': 128, 'kernel': 'rbf'}\n",
      "-1409636.541 (+/-2850105.268) for {'gamma': 3.0517578125e-05, 'C': 512, 'kernel': 'rbf'}\n",
      "-1690271.114 (+/-3773865.753) for {'gamma': 0.0001220703125, 'C': 512, 'kernel': 'rbf'}\n",
      "-1129025.452 (+/-2788076.891) for {'gamma': 0.00048828125, 'C': 512, 'kernel': 'rbf'}\n",
      "-2837823.158 (+/-4429949.540) for {'gamma': 0.001953125, 'C': 512, 'kernel': 'rbf'}\n",
      "-5151567.762 (+/-7120084.195) for {'gamma': 0.0078125, 'C': 512, 'kernel': 'rbf'}\n",
      "-3991588.041 (+/-6308437.958) for {'gamma': 0.03125, 'C': 512, 'kernel': 'rbf'}\n",
      "-280997.835 (+/-1698056.547) for {'gamma': 0.125, 'C': 512, 'kernel': 'rbf'}\n",
      "-822.460 (+/-768.350) for {'gamma': 0.5, 'C': 512, 'kernel': 'rbf'}\n",
      "-1486.024 (+/-821.378) for {'gamma': 2, 'C': 512, 'kernel': 'rbf'}\n",
      "-4492487.639 (+/-27171201.389) for {'gamma': 8, 'C': 512, 'kernel': 'rbf'}\n",
      "-1690271.114 (+/-3773865.753) for {'gamma': 3.0517578125e-05, 'C': 2048, 'kernel': 'rbf'}\n",
      "-1129001.968 (+/-2788114.927) for {'gamma': 0.0001220703125, 'C': 2048, 'kernel': 'rbf'}\n",
      "-1129024.453 (+/-2788078.517) for {'gamma': 0.00048828125, 'C': 2048, 'kernel': 'rbf'}\n",
      "-4559115.997 (+/-6848986.433) for {'gamma': 0.001953125, 'C': 2048, 'kernel': 'rbf'}\n",
      "-5151567.762 (+/-7120084.195) for {'gamma': 0.0078125, 'C': 2048, 'kernel': 'rbf'}\n",
      "-3991588.041 (+/-6308437.958) for {'gamma': 0.03125, 'C': 2048, 'kernel': 'rbf'}\n",
      "-280997.835 (+/-1698056.547) for {'gamma': 0.125, 'C': 2048, 'kernel': 'rbf'}\n",
      "-822.460 (+/-768.350) for {'gamma': 0.5, 'C': 2048, 'kernel': 'rbf'}\n",
      "-1486.024 (+/-821.378) for {'gamma': 2, 'C': 2048, 'kernel': 'rbf'}\n",
      "-4492487.639 (+/-27171201.389) for {'gamma': 8, 'C': 2048, 'kernel': 'rbf'}\n",
      "-1690271.114 (+/-3773865.753) for {'gamma': 3.0517578125e-05, 'C': 8192, 'kernel': 'rbf'}\n",
      "-1129025.452 (+/-2788076.891) for {'gamma': 0.0001220703125, 'C': 8192, 'kernel': 'rbf'}\n",
      "-3124694.055 (+/-5949165.348) for {'gamma': 0.00048828125, 'C': 8192, 'kernel': 'rbf'}\n",
      "-4259750.966 (+/-7293768.068) for {'gamma': 0.001953125, 'C': 8192, 'kernel': 'rbf'}\n",
      "-5151567.762 (+/-7120084.195) for {'gamma': 0.0078125, 'C': 8192, 'kernel': 'rbf'}\n",
      "-3991588.041 (+/-6308437.958) for {'gamma': 0.03125, 'C': 8192, 'kernel': 'rbf'}\n",
      "-280997.835 (+/-1698056.547) for {'gamma': 0.125, 'C': 8192, 'kernel': 'rbf'}\n",
      "-822.460 (+/-768.350) for {'gamma': 0.5, 'C': 8192, 'kernel': 'rbf'}\n",
      "-1486.024 (+/-821.378) for {'gamma': 2, 'C': 8192, 'kernel': 'rbf'}\n",
      "-4492487.639 (+/-27171201.389) for {'gamma': 8, 'C': 8192, 'kernel': 'rbf'}\n",
      "-1409636.541 (+/-2850105.268) for {'gamma': 3.0517578125e-05, 'C': 32768, 'kernel': 'rbf'}\n",
      "-1129024.453 (+/-2788078.517) for {'gamma': 0.0001220703125, 'C': 32768, 'kernel': 'rbf'}\n",
      "-4278458.938 (+/-7323122.882) for {'gamma': 0.00048828125, 'C': 32768, 'kernel': 'rbf'}\n",
      "-4552858.187 (+/-7718454.648) for {'gamma': 0.001953125, 'C': 32768, 'kernel': 'rbf'}\n",
      "-5151567.762 (+/-7120084.195) for {'gamma': 0.0078125, 'C': 32768, 'kernel': 'rbf'}\n",
      "-3991588.041 (+/-6308437.958) for {'gamma': 0.03125, 'C': 32768, 'kernel': 'rbf'}\n",
      "-280997.835 (+/-1698056.547) for {'gamma': 0.125, 'C': 32768, 'kernel': 'rbf'}\n",
      "-822.460 (+/-768.350) for {'gamma': 0.5, 'C': 32768, 'kernel': 'rbf'}\n",
      "-1486.024 (+/-821.378) for {'gamma': 2, 'C': 32768, 'kernel': 'rbf'}\n",
      "-4492487.639 (+/-27171201.389) for {'gamma': 8, 'C': 32768, 'kernel': 'rbf'}\n",
      "\n"
     ]
    }
   ],
   "source": [
    "print(__doc__)\n",
    "\n",
    "tuned_parameters = [{'kernel': ['rbf'], 'gamma': gamma_range,\n",
    "                     'C': C_range},]\n",
    "\n",
    "scores = [my_custom_scorer]\n",
    "\n",
    "for score in scores:\n",
    "    print(\"# Tuning hyper-parameters for %s\" % score)\n",
    "    print()\n",
    "\n",
    "    clf2 = GridSearchCV(svc, tuned_parameters, cv=10,\n",
    "                       scoring=my_custom_scorer)\n",
    "    clf2.fit(X_train, y_train)\n",
    "\n",
    "    print(\"Best parameters set found on development set:\")\n",
    "    print()\n",
    "    print(clf2.best_params_)\n",
    "    print()\n",
    "    print(\"Grid scores on development set:\")\n",
    "    print()\n",
    "    means = clf2.cv_results_['mean_test_score']\n",
    "    stds = clf2.cv_results_['std_test_score']\n",
    "    for mean, std, params in zip(means, stds, clf2.cv_results_['params']):\n",
    "        print(\"%0.3f (+/-%0.03f) for %r\"\n",
    "              % (mean, std * 2, params))\n",
    "    print()\n"
   ]
  },
  {
   "cell_type": "code",
   "execution_count": 12,
   "metadata": {
    "collapsed": false
   },
   "outputs": [
    {
     "name": "stdout",
     "output_type": "stream",
     "text": [
      "Best score cost obtained: -524.1556892778992\n",
      "Parameters:\n",
      "\tgamma: 0.125\n",
      "\tC: 0.5\n",
      "\tkernel: rbf\n"
     ]
    }
   ],
   "source": [
    "print(\"Best score cost obtained: {0}\".format(clf2.best_score_))\n",
    "print(\"Parameters:\")\n",
    "for key, value in clf2.best_params_.items():\n",
    "    print(\"\\t{}: {}\".format(key, value))"
   ]
  },
  {
   "cell_type": "code",
   "execution_count": 13,
   "metadata": {
    "collapsed": false
   },
   "outputs": [
    {
     "data": {
      "text/plain": [
       "SVC(C=0.5, cache_size=200, class_weight=None, coef0=0.0,\n",
       "  decision_function_shape=None, degree=3, gamma=0.125, kernel='rbf',\n",
       "  max_iter=-1, probability=False, random_state=None, shrinking=True,\n",
       "  tol=0.001, verbose=False)"
      ]
     },
     "execution_count": 13,
     "metadata": {},
     "output_type": "execute_result"
    }
   ],
   "source": [
    "clf2.best_estimator_"
   ]
  },
  {
   "cell_type": "code",
   "execution_count": 11,
   "metadata": {
    "collapsed": true
   },
   "outputs": [],
   "source": [
    "bestSVC=SVC(C=0.5, cache_size=200, class_weight=None, coef0=0.0,\n",
    "  decision_function_shape=None, degree=3, gamma=0.125, kernel='rbf',\n",
    "  max_iter=-1, probability=True, random_state=None, shrinking=True,\n",
    "  tol=0.001, verbose=False)"
   ]
  },
  {
   "cell_type": "code",
   "execution_count": 12,
   "metadata": {
    "collapsed": false
   },
   "outputs": [
    {
     "data": {
      "text/plain": [
       "SVC(C=0.5, cache_size=200, class_weight=None, coef0=0.0,\n",
       "  decision_function_shape=None, degree=3, gamma=0.125, kernel='rbf',\n",
       "  max_iter=-1, probability=True, random_state=None, shrinking=True,\n",
       "  tol=0.001, verbose=False)"
      ]
     },
     "execution_count": 12,
     "metadata": {},
     "output_type": "execute_result"
    }
   ],
   "source": [
    "bestSVC.fit(X_train, y_train)"
   ]
  },
  {
   "cell_type": "code",
   "execution_count": 16,
   "metadata": {
    "collapsed": true
   },
   "outputs": [],
   "source": [
    "scores1=cross_val_score(bestSVC,X_train,y_train,cv=10,scoring=score_specificity)"
   ]
  },
  {
   "cell_type": "code",
   "execution_count": 17,
   "metadata": {
    "collapsed": false
   },
   "outputs": [
    {
     "name": "stdout",
     "output_type": "stream",
     "text": [
      "Specificity: 0.9217 (+/- 0.1065)\n"
     ]
    }
   ],
   "source": [
    "print(\"Specificity: %0.4f (+/- %0.4f)\" % (scores1.mean(), scores1.std() * 2))"
   ]
  },
  {
   "cell_type": "code",
   "execution_count": 18,
   "metadata": {
    "collapsed": true
   },
   "outputs": [],
   "source": [
    "scores2=cross_val_score(bestSVC,X_train,y_train,cv=10,scoring=my_custom_scorer)"
   ]
  },
  {
   "cell_type": "code",
   "execution_count": 19,
   "metadata": {
    "collapsed": false
   },
   "outputs": [
    {
     "name": "stdout",
     "output_type": "stream",
     "text": [
      "Score cost: -525.2050 (+/- 708.9891)\n"
     ]
    }
   ],
   "source": [
    "print(\"Score cost: %0.4f (+/- %0.4f)\" % (scores2.mean(), scores2.std() * 2))"
   ]
  },
  {
   "cell_type": "code",
   "execution_count": 20,
   "metadata": {
    "collapsed": true
   },
   "outputs": [],
   "source": [
    "scores3=cross_val_score(bestSVC,X_train,y_train,cv=10,scoring='recall')"
   ]
  },
  {
   "cell_type": "code",
   "execution_count": 21,
   "metadata": {
    "collapsed": false
   },
   "outputs": [
    {
     "name": "stdout",
     "output_type": "stream",
     "text": [
      "Recall: 1.0000 (+/- 0.0000)\n"
     ]
    }
   ],
   "source": [
    "print(\"Recall: %0.4f (+/- %0.4f)\" % (scores3.mean(), scores3.std() * 2))"
   ]
  },
  {
   "cell_type": "code",
   "execution_count": 22,
   "metadata": {
    "collapsed": true
   },
   "outputs": [],
   "source": [
    "scores4=cross_val_score(bestSVC,X_train,y_train,cv=10,scoring='accuracy')"
   ]
  },
  {
   "cell_type": "code",
   "execution_count": 23,
   "metadata": {
    "collapsed": false
   },
   "outputs": [
    {
     "name": "stdout",
     "output_type": "stream",
     "text": [
      "Accuracy: 0.9496 (+/- 0.0689)\n"
     ]
    }
   ],
   "source": [
    "print(\"Accuracy: %0.4f (+/- %0.4f)\" % (scores4.mean(), scores4.std() * 2))"
   ]
  },
  {
   "cell_type": "code",
   "execution_count": 37,
   "metadata": {
    "collapsed": false
   },
   "outputs": [
    {
     "name": "stdout",
     "output_type": "stream",
     "text": [
      "             precision    recall  f1-score   support\n",
      "\n",
      "          0       1.00      0.92      0.96       150\n",
      "          1       0.86      1.00      0.93        76\n",
      "\n",
      "avg / total       0.95      0.95      0.95       226\n",
      "\n",
      "Akurasi: 0.9469\n",
      "Specificity: 0.9200\n",
      "Recall: 1.0000\n"
     ]
    },
    {
     "data": {
      "text/plain": [
       "(0.92000000000000004, 1.0, 0.94690265486725667, -2740.1999999999998)"
      ]
     },
     "execution_count": 37,
     "metadata": {},
     "output_type": "execute_result"
    }
   ],
   "source": [
    "y_predSVMB = bestSVC.predict(X_test)\n",
    "accuracy = accuracy_score(y_test, y_predSVMB)\n",
    "precision, recall, f1, _ = precision_recall_fscore_support(y_test, y_predSVMB)\n",
    "print(classification_report(y_test, y_predSVMB))\n",
    "print (('Akurasi: %.4f') % (accuracy))\n",
    "print (('Specificity: %.4f') % (specificity(y_test, y_predSVMB)))\n",
    "print (('Recall: %.4f') % (recall[1]))\n",
    "output_score(y_test, y_predSVMB)"
   ]
  },
  {
   "cell_type": "code",
   "execution_count": 39,
   "metadata": {
    "collapsed": false
   },
   "outputs": [
    {
     "data": {
      "text/plain": [
       "array([[138,  12],\n",
       "       [  0,  76]])"
      ]
     },
     "execution_count": 39,
     "metadata": {},
     "output_type": "execute_result"
    }
   ],
   "source": [
    "confusion_matrix(y_test,y_predSVMB)"
   ]
  },
  {
   "cell_type": "code",
   "execution_count": 14,
   "metadata": {
    "collapsed": false
   },
   "outputs": [
    {
     "name": "stdout",
     "output_type": "stream",
     "text": [
      "             precision    recall  f1-score   support\n",
      "\n",
      "          0       1.00      0.92      0.96       150\n",
      "          1       0.86      1.00      0.93        76\n",
      "\n",
      "avg / total       0.95      0.95      0.95       226\n",
      "\n",
      "Akurasi: 0.9469\n",
      "Specificity: 0.9200\n",
      "Recall: 1.0000\n"
     ]
    },
    {
     "data": {
      "text/plain": [
       "(0.92000000000000004, 1.0, 0.94690265486725667, -2740.1999999999998)"
      ]
     },
     "execution_count": 14,
     "metadata": {},
     "output_type": "execute_result"
    }
   ],
   "source": [
    "y_predSVMB = bestSVC.predict(X_test)\n",
    "accuracy = accuracy_score(y_test, y_predSVMB)\n",
    "precision, recall, f1, _ = precision_recall_fscore_support(y_test, y_predSVMB)\n",
    "print(classification_report(y_test, y_predSVMB))\n",
    "print (('Akurasi: %.4f') % (accuracy))\n",
    "print (('Specificity: %.4f') % (specificity(y_test, y_predSVMB)))\n",
    "print (('Recall: %.4f') % (recall[1]))\n",
    "output_score(y_test, y_predSVMB)"
   ]
  },
  {
   "cell_type": "code",
   "execution_count": 13,
   "metadata": {
    "collapsed": false
   },
   "outputs": [
    {
     "name": "stderr",
     "output_type": "stream",
     "text": [
      "c:\\users\\annisa\\anaconda3\\envs\\py35\\lib\\site-packages\\sklearn\\cross_validation.py:44: DeprecationWarning: This module was deprecated in version 0.18 in favor of the model_selection module into which all the refactored classes and functions are moved. Also note that the interface of the new CV iterators are different from that of this module. This module will be removed in 0.20.\n",
      "  \"This module will be removed in 0.20.\", DeprecationWarning)\n"
     ]
    }
   ],
   "source": [
    "from xgboost import XGBClassifier"
   ]
  },
  {
   "cell_type": "code",
   "execution_count": 14,
   "metadata": {
    "collapsed": true
   },
   "outputs": [],
   "source": [
    "from sklearn.model_selection import RandomizedSearchCV"
   ]
  },
  {
   "cell_type": "code",
   "execution_count": 15,
   "metadata": {
    "collapsed": true
   },
   "outputs": [],
   "source": [
    "from sklearn.cross_validation import StratifiedKFold"
   ]
  },
  {
   "cell_type": "code",
   "execution_count": 16,
   "metadata": {
    "collapsed": true
   },
   "outputs": [],
   "source": [
    "cv = StratifiedKFold(y_train, n_folds=10, shuffle=True, random_state=RAND_SEED_SPLIT)"
   ]
  },
  {
   "cell_type": "code",
   "execution_count": 17,
   "metadata": {
    "collapsed": true
   },
   "outputs": [],
   "source": [
    "classifier = XGBClassifier()"
   ]
  },
  {
   "cell_type": "code",
   "execution_count": 29,
   "metadata": {
    "collapsed": false
   },
   "outputs": [
    {
     "name": "stdout",
     "output_type": "stream",
     "text": [
      "Automatically created module for IPython interactive environment\n",
      "# Tuning hyper-parameters for make_scorer(cost_breast_cancer)\n",
      "\n",
      "Best parameters set found on development set:\n",
      "\n",
      "{'colsample_bytree': 0.7, 'n_estimators': 10, 'subsample': 0.5, 'scale_pos_weight': 0.77777777777777779, 'reg_alpha': 0.01, 'reg_lambda': 0.01}\n",
      "\n",
      "Grid scores on development set:\n",
      "\n",
      "-6510836.026 (+/-8815214.548) for {'colsample_bytree': 1.0, 'n_estimators': 30, 'subsample': 0.5, 'scale_pos_weight': 0.11111111111111116, 'reg_alpha': 0.001, 'reg_lambda': 0.5}\n",
      "-1428347.511 (+/-2850175.062) for {'colsample_bytree': 0.7, 'n_estimators': 10, 'subsample': 0.5, 'scale_pos_weight': 0.77777777777777779, 'reg_alpha': 0.01, 'reg_lambda': 0.01}\n",
      "-2002089.805 (+/-3631931.010) for {'colsample_bytree': 0.9, 'n_estimators': 10, 'subsample': 0.5, 'scale_pos_weight': 0.88888888888888884, 'reg_alpha': 0.05, 'reg_lambda': 0.005}\n",
      "-2276441.585 (+/-3409209.948) for {'colsample_bytree': 0.8, 'n_estimators': 30, 'subsample': 0.5, 'scale_pos_weight': 0.55555555555555558, 'reg_alpha': 1.0, 'reg_lambda': 0.01}\n",
      "-3972721.673 (+/-6304746.276) for {'colsample_bytree': 0.5, 'n_estimators': 10, 'subsample': 0.5, 'scale_pos_weight': 0.44444444444444442, 'reg_alpha': 0.0, 'reg_lambda': 5.0}\n",
      "-4546440.982 (+/-3771733.576) for {'colsample_bytree': 0.7, 'n_estimators': 30, 'subsample': 0.5, 'scale_pos_weight': 0.33333333333333337, 'reg_alpha': 0.005, 'reg_lambda': 10.0}\n",
      "-46479321.663 (+/-2632762.923) for {'colsample_bytree': 0.8, 'n_estimators': 10, 'subsample': 0.8, 'scale_pos_weight': 0.0, 'reg_alpha': 0.0, 'reg_lambda': 1.0}\n",
      "-6803989.217 (+/-5820064.499) for {'colsample_bytree': 0.8, 'n_estimators': 50, 'subsample': 1.0, 'scale_pos_weight': 0.11111111111111116, 'reg_alpha': 0.0, 'reg_lambda': 1.0}\n",
      "-3972721.673 (+/-5775107.791) for {'colsample_bytree': 0.9, 'n_estimators': 20, 'subsample': 1.0, 'scale_pos_weight': 0.33333333333333337, 'reg_alpha': 0.05, 'reg_lambda': 1.0}\n",
      "-2837710.732 (+/-5073161.990) for {'colsample_bytree': 0.5, 'n_estimators': 10, 'subsample': 0.7, 'scale_pos_weight': 0.66666666666666674, 'reg_alpha': 5.0, 'reg_lambda': 10.0}\n",
      "\n"
     ]
    }
   ],
   "source": [
    "print(__doc__)\n",
    "\n",
    "# Set the parameters by cross-validation\n",
    "tuned_parameters ={'n_estimators': [10,20,30,50],\n",
    "                    'subsample': [0.5, 0.6, 0.7, 0.8, 0.9, 1.],\n",
    "                    'colsample_bytree': [0.5, 0.6, 0.7, 0.8, 0.9, 1.],\n",
    "                    'reg_alpha': [0., 0.001, 0.005, 0.01, 0.05, 0.1, 0.5, 1., 5., 10.],\n",
    "                    'reg_lambda': [0., 0.001, 0.005, 0.01, 0.05, 0.1, 0.5, 1., 5., 10.],\n",
    "                    'scale_pos_weight': np.linspace(1., (y_train == 2).sum() / y_train.sum(), 10)\n",
    "                   }    \n",
    "\n",
    "                  \n",
    "params_fixed = {\n",
    "    'objective': 'binary:logistic',\n",
    "    'silent': 1\n",
    "}\n",
    "scores = [my_custom_scorer]\n",
    "\n",
    "for score in scores:\n",
    "    print(\"# Tuning hyper-parameters for %s\" % score)\n",
    "    print()\n",
    "\n",
    "    clf = RandomizedSearchCV(estimator=XGBClassifier(**params_fixed, seed=RAND_SEED_TUNING),\n",
    "    param_distributions=tuned_parameters, cv=cv, scoring=my_custom_scorer)\n",
    "    clf.fit(X_train, y_train)\n",
    "\n",
    "    print(\"Best parameters set found on development set:\")\n",
    "    print()\n",
    "    print(clf.best_params_)\n",
    "    print()\n",
    "    print(\"Grid scores on development set:\")\n",
    "    print()\n",
    "    means = clf.cv_results_['mean_test_score']\n",
    "    stds = clf.cv_results_['std_test_score']\n",
    "    for mean, std, params in zip(means, stds, clf.cv_results_['params']):\n",
    "        print(\"%0.3f (+/-%0.03f) for %r\"\n",
    "              % (mean, std * 2, params))\n",
    "    print()"
   ]
  },
  {
   "cell_type": "code",
   "execution_count": 30,
   "metadata": {
    "collapsed": false
   },
   "outputs": [
    {
     "name": "stdout",
     "output_type": "stream",
     "text": [
      "Best score cost obtained: -1428347.5112691468\n",
      "Parameters:\n",
      "\tcolsample_bytree: 0.7\n",
      "\tn_estimators: 10\n",
      "\tsubsample: 0.5\n",
      "\tscale_pos_weight: 0.7777777777777778\n",
      "\treg_alpha: 0.01\n",
      "\treg_lambda: 0.01\n"
     ]
    }
   ],
   "source": [
    "print(\"Best score cost obtained: {0}\".format(clf.best_score_))\n",
    "print(\"Parameters:\")\n",
    "for key, value in clf.best_params_.items():\n",
    "    print(\"\\t{}: {}\".format(key, value))"
   ]
  },
  {
   "cell_type": "code",
   "execution_count": 31,
   "metadata": {
    "collapsed": false
   },
   "outputs": [
    {
     "data": {
      "text/plain": [
       "XGBClassifier(base_score=0.5, colsample_bylevel=1, colsample_bytree=0.7,\n",
       "       gamma=0, learning_rate=0.1, max_delta_step=0, max_depth=3,\n",
       "       min_child_weight=1, missing=None, n_estimators=10, nthread=-1,\n",
       "       objective='binary:logistic', reg_alpha=0.01, reg_lambda=0.01,\n",
       "       scale_pos_weight=0.77777777777777779, seed=84, silent=1,\n",
       "       subsample=0.5)"
      ]
     },
     "execution_count": 31,
     "metadata": {},
     "output_type": "execute_result"
    }
   ],
   "source": [
    "clf.best_estimator_"
   ]
  },
  {
   "cell_type": "code",
   "execution_count": 18,
   "metadata": {
    "collapsed": true
   },
   "outputs": [],
   "source": [
    "bestXGB=XGBClassifier(base_score=0.5, colsample_bylevel=1, colsample_bytree=0.7,\n",
    "       gamma=0, learning_rate=0.1, max_delta_step=0, max_depth=3,\n",
    "       min_child_weight=1, missing=None, n_estimators=10, nthread=-1,\n",
    "       objective='binary:logistic', reg_alpha=0.01, reg_lambda=0.01,\n",
    "       scale_pos_weight=0.77777777777777779, seed=84, silent=1,\n",
    "       subsample=0.5)"
   ]
  },
  {
   "cell_type": "code",
   "execution_count": 19,
   "metadata": {
    "collapsed": false
   },
   "outputs": [
    {
     "data": {
      "text/plain": [
       "XGBClassifier(base_score=0.5, colsample_bylevel=1, colsample_bytree=0.7,\n",
       "       gamma=0, learning_rate=0.1, max_delta_step=0, max_depth=3,\n",
       "       min_child_weight=1, missing=None, n_estimators=10, nthread=-1,\n",
       "       objective='binary:logistic', reg_alpha=0.01, reg_lambda=0.01,\n",
       "       scale_pos_weight=0.7777777777777778, seed=84, silent=1,\n",
       "       subsample=0.5)"
      ]
     },
     "execution_count": 19,
     "metadata": {},
     "output_type": "execute_result"
    }
   ],
   "source": [
    "bestXGB.fit(X_train, y_train)"
   ]
  },
  {
   "cell_type": "code",
   "execution_count": 34,
   "metadata": {
    "collapsed": false
   },
   "outputs": [
    {
     "name": "stdout",
     "output_type": "stream",
     "text": [
      "Score cost: -1425228.3500 (+/- 2850182.6888)\n"
     ]
    }
   ],
   "source": [
    "scores4=cross_val_score(bestXGB,X_train,y_train,cv=cv,scoring=my_custom_scorer)\n",
    "print(\"Score cost: %0.4f (+/- %0.4f)\" % (scores4.mean(), scores4.std() * 2))"
   ]
  },
  {
   "cell_type": "code",
   "execution_count": 35,
   "metadata": {
    "collapsed": false
   },
   "outputs": [
    {
     "name": "stdout",
     "output_type": "stream",
     "text": [
      "Specificity: 0.9661 (+/- 0.0429)\n",
      "Accuracy: 0.9673 (+/- 0.0447)\n",
      "Recall: 0.9695 (+/- 0.0611)\n"
     ]
    }
   ],
   "source": [
    "scores1=cross_val_score(bestXGB,X_train,y_train,cv=cv,scoring=score_specificity)\n",
    "print(\"Specificity: %0.4f (+/- %0.4f)\" % (scores1.mean(), scores1.std() * 2))\n",
    "scores2=cross_val_score(bestXGB,X_train,y_train,cv=cv,scoring='accuracy')\n",
    "print(\"Accuracy: %0.4f (+/- %0.4f)\" % (scores2.mean(), scores2.std() * 2))\n",
    "scores3=cross_val_score(bestXGB,X_train,y_train,cv=cv,scoring='recall')\n",
    "print(\"Recall: %0.4f (+/- %0.4f)\" % (scores3.mean(), scores3.std() * 2))\n"
   ]
  },
  {
   "cell_type": "code",
   "execution_count": 40,
   "metadata": {
    "collapsed": false
   },
   "outputs": [
    {
     "name": "stdout",
     "output_type": "stream",
     "text": [
      "             precision    recall  f1-score   support\n",
      "\n",
      "          0       0.97      0.97      0.97       150\n",
      "          1       0.94      0.95      0.94        76\n",
      "\n",
      "avg / total       0.96      0.96      0.96       226\n",
      "\n",
      "Akurasi: 0.9602\n",
      "Specificity: 0.9667\n",
      "Recall: 0.9474\n"
     ]
    },
    {
     "data": {
      "text/plain": [
       "(0.96666666666666667, 0.94736842105263153, 0.96017699115044253, -11401141.75)"
      ]
     },
     "execution_count": 40,
     "metadata": {},
     "output_type": "execute_result"
    }
   ],
   "source": [
    "y_predXGBB = bestXGB.predict(X_test)\n",
    "accuracy = accuracy_score(y_test, y_predXGBB)\n",
    "precision, recall, f1, _ = precision_recall_fscore_support(y_test, y_predXGBB)\n",
    "print(classification_report(y_test, y_predXGBB))\n",
    "print (('Akurasi: %.4f') % (accuracy))\n",
    "print (('Specificity: %.4f') % (specificity(y_test, y_predXGBB)))\n",
    "print (('Recall: %.4f') % (recall[1]))\n",
    "output_score(y_test, y_predXGBB)"
   ]
  },
  {
   "cell_type": "code",
   "execution_count": 41,
   "metadata": {
    "collapsed": false
   },
   "outputs": [
    {
     "data": {
      "text/plain": [
       "array([[145,   5],\n",
       "       [  4,  72]])"
      ]
     },
     "execution_count": 41,
     "metadata": {},
     "output_type": "execute_result"
    }
   ],
   "source": [
    "confusion_matrix(y_test,y_predXGBB)"
   ]
  },
  {
   "cell_type": "code",
   "execution_count": 23,
   "metadata": {
    "collapsed": false
   },
   "outputs": [
    {
     "name": "stdout",
     "output_type": "stream",
     "text": [
      "             precision    recall  f1-score   support\n",
      "\n",
      "          0       0.97      0.97      0.97       150\n",
      "          1       0.94      0.95      0.94        76\n",
      "\n",
      "avg / total       0.96      0.96      0.96       226\n",
      "\n",
      "Akurasi: 0.9602\n",
      "Specificity: 0.9667\n",
      "Recall: 0.9474\n"
     ]
    },
    {
     "data": {
      "text/plain": [
       "(0.96666666666666667, 0.94736842105263153, 0.96017699115044253, -11401141.75)"
      ]
     },
     "execution_count": 23,
     "metadata": {},
     "output_type": "execute_result"
    }
   ],
   "source": [
    "y_predXGBB = bestXGB.predict(X_test)\n",
    "accuracy = accuracy_score(y_test, y_predXGBB)\n",
    "precision, recall, f1, _ = precision_recall_fscore_support(y_test, y_predXGBB)\n",
    "print(classification_report(y_test, y_predXGBB))\n",
    "print (('Akurasi: %.4f') % (accuracy))\n",
    "print (('Specificity: %.4f') % (specificity(y_test, y_predXGBB)))\n",
    "print (('Recall: %.4f') % (recall[1]))\n",
    "output_score(y_test, y_predXGBB)"
   ]
  },
  {
   "cell_type": "code",
   "execution_count": 20,
   "metadata": {
    "collapsed": true
   },
   "outputs": [],
   "source": [
    "import numpy as np\n",
    "seed = 7\n",
    "np.random.seed(seed)"
   ]
  },
  {
   "cell_type": "code",
   "execution_count": 21,
   "metadata": {
    "collapsed": false
   },
   "outputs": [
    {
     "name": "stderr",
     "output_type": "stream",
     "text": [
      "Using Theano backend.\n"
     ]
    }
   ],
   "source": [
    "from keras.models import Sequential\n",
    "from keras.layers import Dense\n",
    "from keras.wrappers.scikit_learn import KerasClassifier\n",
    "from sklearn.model_selection import StratifiedKFold\n",
    "from sklearn.model_selection import cross_val_score\n",
    "from keras.models import Sequential\n",
    "from keras.layers import Dense\n",
    "from keras.utils import np_utils\n",
    "from keras import optimizers"
   ]
  },
  {
   "cell_type": "code",
   "execution_count": 22,
   "metadata": {
    "collapsed": true
   },
   "outputs": [],
   "source": [
    "def create_model10a():\n",
    "    model10 = Sequential()\n",
    "    model10.add(Dense(7, input_dim=9, activation='relu'))\n",
    "    model10.add(Dense(7, activation='relu'))\n",
    "    model10.add(Dense(7, activation='relu'))\n",
    "    model10.add(Dense(7, activation='relu'))\n",
    "    model10.add(Dense(7, activation='relu'))\n",
    "    model10.add(Dense(7, activation='relu'))\n",
    "    model10.add(Dense(7, activation='relu'))\n",
    "    model10.add(Dense(7, activation='relu'))\n",
    "    model10.add(Dense(7, activation='relu'))\n",
    "    model10.add(Dense(7, activation='relu'))\n",
    "    model10.add(Dense(1, activation='sigmoid'))\n",
    "    adm = optimizers.Adam(lr=0.001, beta_1=0.9, beta_2=0.999, epsilon=1e-08, decay=0.0)\n",
    "    model10.compile(loss='binary_crossentropy', optimizer=adm, metrics=['accuracy'])\n",
    "    return model10"
   ]
  },
  {
   "cell_type": "code",
   "execution_count": 23,
   "metadata": {
    "collapsed": true
   },
   "outputs": [],
   "source": [
    "from keras.models import load_model\n",
    "model=create_model10a()"
   ]
  },
  {
   "cell_type": "code",
   "execution_count": 24,
   "metadata": {
    "collapsed": true
   },
   "outputs": [],
   "source": [
    "model.save_weights('my_model_weights.h5')"
   ]
  },
  {
   "cell_type": "code",
   "execution_count": 25,
   "metadata": {
    "collapsed": true
   },
   "outputs": [],
   "source": [
    "from sklearn.model_selection import train_test_split\n",
    "X_trainb, X_testb, y_trainb, y_testb = train_test_split(X, y,test_size=0.33, random_state=seed )"
   ]
  },
  {
   "cell_type": "code",
   "execution_count": 27,
   "metadata": {
    "collapsed": true
   },
   "outputs": [],
   "source": [
    "import warnings\n",
    "warnings.filterwarnings('ignore', message='.*is ill-defined', append=True)\n",
    "warnings.filterwarnings('ignore', category=DeprecationWarning)"
   ]
  },
  {
   "cell_type": "code",
   "execution_count": 28,
   "metadata": {
    "collapsed": false
   },
   "outputs": [
    {
     "name": "stdout",
     "output_type": "stream",
     "text": [
      "Epochs : 10 & Class Weight : {0: 1.0, 1: 2})\n",
      "Specificity: 0.9090 (+/- 0.1205)\n",
      "Accuracy: 0.8723 (+/- 0.1428)\n",
      "Recall: 0.9484 (+/- 0.0698)\n",
      "Score cost: -3420867.7300 (+/- 5065916.3661)\n",
      "\n",
      "\n",
      "Epochs : 10 & Class Weight : {0: 1.0, 1: 4})\n",
      "Specificity: 0.5848 (+/- 0.3436)\n",
      "Accuracy: 0.5979 (+/- 0.2413)\n",
      "Recall: 0.9804 (+/- 0.0394)\n",
      "Score cost: -574589.8350 (+/- 1709080.2670)\n",
      "\n",
      "\n",
      "Epochs : 10 & Class Weight : {0: 1.0, 1: 8})\n",
      "Specificity: 0.1543 (+/- 0.3087)\n",
      "Accuracy: 0.4436 (+/- 0.1834)\n",
      "Recall: 1.0000 (+/- 0.0000)\n",
      "Score cost: -290845.7600 (+/- 853204.1465)\n",
      "\n",
      "\n",
      "Epochs : 10 & Class Weight : {0: 1.0, 1: 16})\n",
      "Specificity: 0.0970 (+/- 0.2909)\n",
      "Accuracy: 0.3392 (+/- 0.0551)\n",
      "Recall: 1.0000 (+/- 0.0000)\n",
      "Score cost: -6873.3350 (+/- 608.0288)\n",
      "\n",
      "\n",
      "Epochs : 10 & Class Weight : {0: 1.0, 1: 32})\n",
      "Specificity: 0.0000 (+/- 0.0000)\n",
      "Accuracy: 0.3392 (+/- 0.0551)\n",
      "Recall: 1.0000 (+/- 0.0000)\n",
      "Score cost: -6896.1700 (+/- 584.8614)\n",
      "\n",
      "\n",
      "Epochs : 10 & Class Weight : {0: 1.0, 1: 64})\n",
      "Specificity: 0.0000 (+/- 0.0000)\n",
      "Accuracy: 0.3392 (+/- 0.0551)\n",
      "Recall: 1.0000 (+/- 0.0000)\n",
      "Score cost: -6896.1700 (+/- 584.8614)\n",
      "\n",
      "\n",
      "Epochs : 20 & Class Weight : {0: 1.0, 1: 2})\n",
      "Specificity: 0.9586 (+/- 0.0311)\n",
      "Accuracy: 0.9606 (+/- 0.0466)\n",
      "Recall: 0.9533 (+/- 0.0581)\n",
      "Score cost: -2280296.8550 (+/- 3323595.5967)\n",
      "\n",
      "\n",
      "Epochs : 20 & Class Weight : {0: 1.0, 1: 4})\n",
      "Specificity: 0.8570 (+/- 0.2890)\n",
      "Accuracy: 0.9475 (+/- 0.0391)\n",
      "Recall: 0.9938 (+/- 0.0187)\n",
      "Score cost: -856141.7500 (+/- 1305536.9196)\n",
      "\n",
      "\n",
      "Epochs : 20 & Class Weight : {0: 1.0, 1: 8})\n",
      "Specificity: 0.6765 (+/- 0.3745)\n",
      "Accuracy: 0.7056 (+/- 0.2443)\n",
      "Recall: 0.9909 (+/- 0.0273)\n",
      "Score cost: -3813.4450 (+/- 2524.3780)\n",
      "\n",
      "\n",
      "Epochs : 20 & Class Weight : {0: 1.0, 1: 16})\n",
      "Specificity: 0.3110 (+/- 0.3846)\n",
      "Accuracy: 0.5678 (+/- 0.2994)\n",
      "Recall: 0.9941 (+/- 0.0176)\n",
      "Score cost: -288470.9200 (+/- 855521.2998)\n",
      "\n",
      "\n",
      "Epochs : 20 & Class Weight : {0: 1.0, 1: 32})\n",
      "Specificity: 0.0000 (+/- 0.0000)\n",
      "Accuracy: 0.4392 (+/- 0.2277)\n",
      "Recall: 1.0000 (+/- 0.0000)\n",
      "Score cost: -6370.9650 (+/- 1764.2162)\n",
      "\n",
      "\n",
      "Epochs : 20 & Class Weight : {0: 1.0, 1: 64})\n",
      "Specificity: 0.0000 (+/- 0.0000)\n",
      "Accuracy: 0.3653 (+/- 0.1036)\n",
      "Recall: 1.0000 (+/- 0.0000)\n",
      "Score cost: -6736.3250 (+/- 812.1688)\n",
      "\n",
      "\n",
      "Epochs : 50 & Class Weight : {0: 1.0, 1: 2})\n",
      "Specificity: 0.9624 (+/- 0.0382)\n",
      "Accuracy: 0.9650 (+/- 0.0263)\n",
      "Recall: 0.9739 (+/- 0.0334)\n",
      "Score cost: -1710251.1850 (+/- 1890386.6383)\n",
      "\n",
      "\n",
      "Epochs : 50 & Class Weight : {0: 1.0, 1: 4})\n",
      "Specificity: 0.8687 (+/- 0.2916)\n",
      "Accuracy: 0.8352 (+/- 0.2551)\n",
      "Recall: 0.9788 (+/- 0.0334)\n",
      "Score cost: -1426666.9550 (+/- 1910767.8067)\n",
      "\n",
      "\n",
      "Epochs : 50 & Class Weight : {0: 1.0, 1: 8})\n",
      "Specificity: 0.9590 (+/- 0.0361)\n",
      "Accuracy: 0.9018 (+/- 0.1787)\n",
      "Recall: 0.9680 (+/- 0.0565)\n",
      "Score cost: -570365.3600 (+/- 1709878.2371)\n",
      "\n",
      "\n",
      "Epochs : 50 & Class Weight : {0: 1.0, 1: 16})\n",
      "Specificity: 0.8482 (+/- 0.2849)\n",
      "Accuracy: 0.9562 (+/- 0.0240)\n",
      "Recall: 0.9824 (+/- 0.0377)\n",
      "Score cost: -855433.8650 (+/- 1824794.1583)\n",
      "\n",
      "\n",
      "Epochs : 50 & Class Weight : {0: 1.0, 1: 32})\n",
      "Specificity: 0.9312 (+/- 0.0669)\n",
      "Accuracy: 0.8888 (+/- 0.1764)\n",
      "Recall: 0.9941 (+/- 0.0176)\n",
      "Score cost: -571187.4200 (+/- 1139579.1480)\n",
      "\n",
      "\n",
      "Epochs : 50 & Class Weight : {0: 1.0, 1: 64})\n",
      "Specificity: 0.7402 (+/- 0.3744)\n",
      "Accuracy: 0.8047 (+/- 0.2544)\n",
      "Recall: 1.0000 (+/- 0.0000)\n",
      "Score cost: -2580.3550 (+/- 2431.7935)\n",
      "\n",
      "\n",
      "Epochs : 100 & Class Weight : {0: 1.0, 1: 2})\n",
      "Specificity: 0.8787 (+/- 0.2944)\n",
      "Accuracy: 0.9694 (+/- 0.0242)\n",
      "Recall: 0.9670 (+/- 0.0431)\n",
      "Score cost: -6555296.8550 (+/- 15921695.0920)\n",
      "\n",
      "\n",
      "Epochs : 100 & Class Weight : {0: 1.0, 1: 4})\n",
      "Specificity: 0.9691 (+/- 0.0332)\n",
      "Accuracy: 0.9107 (+/- 0.1883)\n",
      "Recall: 0.9679 (+/- 0.0571)\n",
      "Score cost: -570867.7300 (+/- 1139681.7741)\n",
      "\n",
      "\n",
      "Epochs : 100 & Class Weight : {0: 1.0, 1: 8})\n",
      "Specificity: 0.9581 (+/- 0.0321)\n",
      "Accuracy: 0.8954 (+/- 0.2061)\n",
      "Recall: 0.9856 (+/- 0.0300)\n",
      "Score cost: -856004.7400 (+/- 1305626.8812)\n",
      "\n",
      "\n",
      "Epochs : 100 & Class Weight : {0: 1.0, 1: 16})\n",
      "Specificity: 0.9262 (+/- 0.0883)\n",
      "Accuracy: 0.8999 (+/- 0.1840)\n",
      "Recall: 0.9850 (+/- 0.0308)\n",
      "Score cost: -855844.8950 (+/- 1305631.7014)\n",
      "\n",
      "\n",
      "Epochs : 100 & Class Weight : {0: 1.0, 1: 32})\n",
      "Specificity: 0.7748 (+/- 0.3887)\n",
      "Accuracy: 0.8976 (+/- 0.1787)\n",
      "Recall: 0.9909 (+/- 0.0273)\n",
      "Score cost: -285456.7000 (+/- 854847.8629)\n",
      "\n",
      "\n",
      "Epochs : 100 & Class Weight : {0: 1.0, 1: 64})\n",
      "Specificity: 0.9323 (+/- 0.0854)\n",
      "Accuracy: 0.9041 (+/- 0.1731)\n",
      "Recall: 0.9676 (+/- 0.0337)\n",
      "Score cost: -855251.1850 (+/- 1305969.3181)\n",
      "\n",
      "\n",
      "Epochs : 200 & Class Weight : {0: 1.0, 1: 2})\n",
      "Specificity: 0.9685 (+/- 0.0278)\n",
      "Accuracy: 0.9693 (+/- 0.0201)\n",
      "Recall: 0.9643 (+/- 0.0393)\n",
      "Score cost: -1425182.6800 (+/- 1911838.1284)\n",
      "\n",
      "\n",
      "Epochs : 200 & Class Weight : {0: 1.0, 1: 4})\n",
      "Specificity: 0.7688 (+/- 0.3857)\n",
      "Accuracy: 0.9650 (+/- 0.0224)\n",
      "Recall: 0.9665 (+/- 0.0351)\n",
      "Score cost: -1995822.0600 (+/- 1824135.2461)\n",
      "\n",
      "\n",
      "Epochs : 200 & Class Weight : {0: 1.0, 1: 8})\n",
      "Specificity: 0.8709 (+/- 0.2916)\n",
      "Accuracy: 0.9020 (+/- 0.2219)\n",
      "Recall: 0.9614 (+/- 0.0432)\n",
      "Score cost: -1425251.1850 (+/- 1425068.5160)\n",
      "\n",
      "\n",
      "Epochs : 200 & Class Weight : {0: 1.0, 1: 16})\n",
      "Specificity: 0.9653 (+/- 0.0331)\n",
      "Accuracy: 0.9671 (+/- 0.0268)\n",
      "Recall: 0.9683 (+/- 0.0408)\n",
      "Score cost: -1425296.8550 (+/- 1425022.8643)\n",
      "\n",
      "\n",
      "Epochs : 200 & Class Weight : {0: 1.0, 1: 32})\n",
      "Specificity: 0.9540 (+/- 0.0522)\n",
      "Accuracy: 0.9586 (+/- 0.0282)\n",
      "Recall: 0.9703 (+/- 0.0556)\n",
      "Score cost: -1710205.5150 (+/- 1890427.9443)\n",
      "\n",
      "\n",
      "Epochs : 200 & Class Weight : {0: 1.0, 1: 64})\n",
      "Specificity: 0.6751 (+/- 0.4429)\n",
      "Accuracy: 0.8997 (+/- 0.1717)\n",
      "Recall: 0.9889 (+/- 0.0223)\n",
      "Score cost: -1710274.0200 (+/- 1890572.5397)\n",
      "\n",
      "\n",
      "Epochs : 500 & Class Weight : {0: 1.0, 1: 2})\n",
      "Specificity: 0.9684 (+/- 0.0310)\n",
      "Accuracy: 0.9716 (+/- 0.0169)\n",
      "Recall: 0.9510 (+/- 0.0459)\n",
      "Score cost: -1995228.3500 (+/- 2225891.9319)\n",
      "\n",
      "\n",
      "Epochs : 500 & Class Weight : {0: 1.0, 1: 4})\n",
      "Specificity: 0.8742 (+/- 0.2927)\n",
      "Accuracy: 0.9672 (+/- 0.0243)\n",
      "Recall: 0.9553 (+/- 0.0515)\n",
      "Score cost: -1425182.6800 (+/- 2297771.7900)\n",
      "\n",
      "\n",
      "Epochs : 500 & Class Weight : {0: 1.0, 1: 8})\n",
      "Specificity: 0.9656 (+/- 0.0307)\n",
      "Accuracy: 0.9628 (+/- 0.0239)\n",
      "Recall: 0.9617 (+/- 0.0420)\n",
      "Score cost: -1710205.5150 (+/- 2279960.0486)\n",
      "\n",
      "\n",
      "Epochs : 500 & Class Weight : {0: 1.0, 1: 16})\n",
      "Specificity: 0.8803 (+/- 0.2942)\n",
      "Accuracy: 0.9063 (+/- 0.1800)\n",
      "Recall: 0.9621 (+/- 0.0325)\n",
      "Score cost: -1995388.1950 (+/- 2225777.9259)\n",
      "\n",
      "\n",
      "Epochs : 500 & Class Weight : {0: 1.0, 1: 32})\n",
      "Specificity: 0.9554 (+/- 0.0372)\n",
      "Accuracy: 0.9651 (+/- 0.0310)\n",
      "Recall: 0.9736 (+/- 0.0336)\n",
      "Score cost: -2565182.6800 (+/- 1534721.0945)\n",
      "\n",
      "\n",
      "Epochs : 500 & Class Weight : {0: 1.0, 1: 64})\n",
      "Specificity: 0.8715 (+/- 0.2921)\n",
      "Accuracy: 0.9086 (+/- 0.2238)\n",
      "Recall: 0.9680 (+/- 0.0425)\n",
      "Score cost: -1425251.1850 (+/- 1424931.5133)\n",
      "\n",
      "\n"
     ]
    }
   ],
   "source": [
    "epochs = [10, 20, 50, 100, 200, 500]\n",
    "class_weight = [{0 : 1., 1: 2},\n",
    "                {0 : 1., 1: 4},\n",
    "                {0 : 1., 1: 8},\n",
    "                {0 : 1., 1: 16},\n",
    "                {0 : 1., 1: 32},\n",
    "                {0 : 1., 1: 64}]\n",
    "results=[]\n",
    "model.load_weights('my_model_weights.h5')\n",
    "\n",
    "for epochs_idx in range(len(epochs)):\n",
    "  for class_weight_idx in range(len(class_weight)):\n",
    "    param1 = epochs[epochs_idx]\n",
    "    param2 = class_weight[class_weight_idx]\n",
    "    bestmodelNN = KerasClassifier(build_fn=create_model10a, epochs= param1, class_weight = param2, verbose=0)\n",
    "    model.load_weights('my_model_weights.h5')\n",
    "    print(\"Epochs : %r & Class Weight : %r)\" % (param1, param2))\n",
    "    scores1=cross_val_score(bestmodelNN,X_trainb.as_matrix(),y_trainb,cv=10,scoring=score_specificity)\n",
    "    print(\"Specificity: %0.4f (+/- %0.4f)\" % (scores1.mean(), scores1.std() ))\n",
    "    model.load_weights('my_model_weights.h5')\n",
    "    scores2=cross_val_score(bestmodelNN,X_trainb.as_matrix(),y_trainb,cv=10,scoring='accuracy')\n",
    "    print(\"Accuracy: %0.4f (+/- %0.4f)\" % (scores2.mean(), scores2.std() ))\n",
    "    model.load_weights('my_model_weights.h5')\n",
    "    scores3=cross_val_score(bestmodelNN,X_trainb.as_matrix(),y_trainb,cv=10,scoring='recall')\n",
    "    print(\"Recall: %0.4f (+/- %0.4f)\" % (scores3.mean(), scores3.std() ))\n",
    "    model.load_weights('my_model_weights.h5')\n",
    "    scores4=cross_val_score(bestmodelNN,X_trainb.as_matrix(), y_trainb, cv=10, scoring=my_custom_scorer)\n",
    "    print(\"Score cost: %0.4f (+/- %0.4f)\" % (scores4.mean(), scores4.std() ))\n",
    "    print()\n",
    "    print()\n"
   ]
  },
  {
   "cell_type": "code",
   "execution_count": 29,
   "metadata": {
    "collapsed": true
   },
   "outputs": [],
   "source": [
    "best_class_weight = {0: 1.0, 1: 64}"
   ]
  },
  {
   "cell_type": "code",
   "execution_count": 31,
   "metadata": {
    "collapsed": false
   },
   "outputs": [],
   "source": [
    "bestmodelNN_test = KerasClassifier(build_fn=create_model10a, epochs= 50, class_weight = best_class_weight, verbose=0)"
   ]
  },
  {
   "cell_type": "code",
   "execution_count": 32,
   "metadata": {
    "collapsed": false
   },
   "outputs": [
    {
     "name": "stdout",
     "output_type": "stream",
     "text": [
      "Specificity: 0.6655 (+/- 0.7164)\n",
      "Recall: 1.0000 (+/- 0.0000)\n",
      "\n",
      "\n",
      "Specificity: 0.7413 (+/- 0.7511)\n",
      "Recall: 0.9938 (+/- 0.0375)\n",
      "\n",
      "\n",
      "Specificity: 0.6147 (+/- 0.8194)\n",
      "Recall: 0.9941 (+/- 0.0353)\n",
      "\n",
      "\n",
      "Specificity: 0.7598 (+/- 0.5400)\n",
      "Recall: 1.0000 (+/- 0.0000)\n",
      "\n",
      "\n",
      "Specificity: 0.8446 (+/- 0.5738)\n",
      "Recall: 0.9909 (+/- 0.0545)\n",
      "\n",
      "\n",
      "Specificity: 0.4929 (+/- 0.8466)\n",
      "Recall: 0.9909 (+/- 0.0545)\n",
      "\n",
      "\n",
      "Specificity: 0.6227 (+/- 0.8320)\n",
      "Recall: 1.0000 (+/- 0.0000)\n",
      "\n",
      "\n",
      "Specificity: 0.6533 (+/- 0.7485)\n",
      "Recall: 0.9941 (+/- 0.0353)\n",
      "\n",
      "\n",
      "Specificity: 0.7698 (+/- 0.6322)\n",
      "Recall: 0.9875 (+/- 0.0750)\n",
      "\n",
      "\n",
      "Specificity: 0.8855 (+/- 0.1961)\n",
      "Recall: 0.9791 (+/- 0.0658)\n",
      "\n",
      "\n"
     ]
    }
   ],
   "source": [
    "import warnings\n",
    "warnings.filterwarnings('ignore', message='.*is ill-defined', append=True)\n",
    "warnings.filterwarnings('ignore', category=DeprecationWarning)\n",
    "for i in range(10):\n",
    "    model.load_weights('my_model_weights.h5')\n",
    "    scores1=cross_val_score(bestmodelNN_test, X_trainb.as_matrix(),y_trainb,cv=10,scoring=score_specificity)\n",
    "    print(\"Specificity: %0.4f (+/- %0.4f)\" % (scores1.mean(), scores1.std()*2))\n",
    "    model.load_weights('my_model_weights.h5')\n",
    "    scores3=cross_val_score(bestmodelNN_test, X_trainb.as_matrix(),y_trainb,cv=10,scoring='recall')\n",
    "    print(\"Recall: %0.4f (+/- %0.4f)\" % (scores3.mean(), scores3.std()*2))\n",
    "    print()\n",
    "    print()"
   ]
  },
  {
   "cell_type": "code",
   "execution_count": 33,
   "metadata": {
    "collapsed": false
   },
   "outputs": [
    {
     "data": {
      "text/plain": [
       "<keras.callbacks.History at 0xf600860>"
      ]
     },
     "execution_count": 33,
     "metadata": {},
     "output_type": "execute_result"
    }
   ],
   "source": [
    "bestmodelNN_test.fit(X_trainb.as_matrix(), y_trainb)"
   ]
  },
  {
   "cell_type": "code",
   "execution_count": 34,
   "metadata": {
    "collapsed": false
   },
   "outputs": [
    {
     "name": "stdout",
     "output_type": "stream",
     "text": [
      "             precision    recall  f1-score   support\n",
      "\n",
      "          0       0.99      0.94      0.96       142\n",
      "          1       0.91      0.98      0.94        84\n",
      "\n",
      "avg / total       0.96      0.96      0.96       226\n",
      "\n",
      "Akurasi: 0.9558\n",
      "Specificity: 0.9437\n",
      "Recall: 0.9762\n"
     ]
    },
    {
     "data": {
      "text/plain": [
       "(0.94366197183098588,\n",
       " 0.97619047619047616,\n",
       " 0.95575221238938057,\n",
       " -5701826.7999999998)"
      ]
     },
     "execution_count": 34,
     "metadata": {},
     "output_type": "execute_result"
    }
   ],
   "source": [
    "y_predNNB = bestmodelNN_test.predict(X_testb.as_matrix())\n",
    "accuracy = accuracy_score(y_testb, y_predNNB)\n",
    "precision, recall, f1, _ = precision_recall_fscore_support(y_testb, y_predNNB)\n",
    "print(classification_report(y_testb, y_predNNB))\n",
    "print (('Akurasi: %.4f') % (accuracy))\n",
    "print (('Specificity: %.4f') % (specificity(y_testb, y_predNNB)))\n",
    "print (('Recall: %.4f') % (recall[1]))\n",
    "output_score(y_testb, y_predNNB)"
   ]
  },
  {
   "cell_type": "code",
   "execution_count": 35,
   "metadata": {
    "collapsed": false
   },
   "outputs": [
    {
     "data": {
      "text/plain": [
       "array([[134,   8],\n",
       "       [  2,  82]])"
      ]
     },
     "execution_count": 35,
     "metadata": {},
     "output_type": "execute_result"
    }
   ],
   "source": [
    "confusion_matrix(y_testb,y_predNNB)"
   ]
  },
  {
   "cell_type": "code",
   "execution_count": 42,
   "metadata": {
    "collapsed": true
   },
   "outputs": [],
   "source": [
    "names=['SVM - Dataset B','XGBoost - Dataset B','MLP - Dataset B']"
   ]
  },
  {
   "cell_type": "code",
   "execution_count": 43,
   "metadata": {
    "collapsed": true
   },
   "outputs": [],
   "source": [
    "score=bestSVC.predict_proba(X_test)\n",
    "score2=bestXGB.predict_proba(X_test)\n",
    "score3=bestmodelNN_test.predict_proba(X_testb.as_matrix())"
   ]
  },
  {
   "cell_type": "code",
   "execution_count": 44,
   "metadata": {
    "collapsed": false
   },
   "outputs": [
    {
     "data": {
      "image/png": "[encoded data removed]",
      "text/plain": [
       "<matplotlib.figure.Figure at 0x10b79470>"
      ]
     },
     "metadata": {},
     "output_type": "display_data"
    }
   ],
   "source": [
    "import matplotlib.pyplot as plt\n",
    "from sklearn.metrics import roc_curve, roc_auc_score\n",
    "fig, ax = plt.subplots(figsize=(9,5))\n",
    "\n",
    "fpr, tpr, thresholds = roc_curve(y_test, score[:,1],pos_label=1)\n",
    "fpr2, tpr2, thresholds2 = roc_curve(y_test, score2[:,1],pos_label=1)\n",
    "fpr3, tpr3, thresholds3 = roc_curve(y_testb, score3[:,1],pos_label=1)\n",
    "\n",
    "auc = roc_auc_score(y_test, score[:,1])\n",
    "auc2 = roc_auc_score(y_test, score2[:,1])\n",
    "auc3 = roc_auc_score(y_testb, score3[:,1])\n",
    "\n",
    "ax.plot(fpr*100, tpr*100, label='%s (area = %.2f)' % (names[0], auc*100))\n",
    "ax.plot(fpr2*100, tpr2*100, label='%s (area = %.2f)' % (names[1], auc2*100))\n",
    "ax.plot(fpr3*100, tpr3*100, label='%s (area = %.2f)' % (names[2], auc3*100))\n",
    "\n",
    "plt.rc('xtick',labelsize=14)\n",
    "plt.rc('ytick',labelsize=14)\n",
    "plt.title(\"RoC Curves Dataset B\",fontsize=14)\n",
    "plt.legend(prop={'size':12})\n",
    "ax.set_xlabel('False Positive Rate',fontsize=14)\n",
    "ax.set_ylabel('True Positive Rate',fontsize=14)\n",
    "plt.show()"
   ]
  },
  {
   "cell_type": "code",
   "execution_count": null,
   "metadata": {
    "collapsed": true
   },
   "outputs": [],
   "source": []
  }
 ],
 "metadata": {
  "kernelspec": {
   "display_name": "Python 3",
   "language": "python",
   "name": "python3"
  },
  "language_info": {
   "codemirror_mode": {
    "name": "ipython",
    "version": 3
   },
   "file_extension": ".py",
   "mimetype": "text/x-python",
   "name": "python",
   "nbconvert_exporter": "python",
   "pygments_lexer": "ipython3",
   "version": "3.5.3"
  }
 },
 "nbformat": 4,
 "nbformat_minor": 2
}
