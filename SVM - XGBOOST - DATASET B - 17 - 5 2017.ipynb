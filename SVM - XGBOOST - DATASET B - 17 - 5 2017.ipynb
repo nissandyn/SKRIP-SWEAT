{
 "cells": [
  {
   "cell_type": "code",
   "execution_count": 1,
   "metadata": {
    "collapsed": true
   },
   "outputs": [],
   "source": [
    "import pandas as pd\n",
    "import numpy as np\n",
    "import matplotlib.pyplot as plt\n",
    "from scipy import stats\n",
    "import pylab as pl\n",
    "from sklearn.model_selection import train_test_split\n",
    "from sklearn.svm import SVC\n",
    "from sklearn.metrics import accuracy_score, precision_recall_fscore_support\n",
    "from sklearn import metrics\n",
    "from sklearn.model_selection import GridSearchCV\n",
    "from __future__ import print_function\n",
    "from sklearn.metrics import classification_report\n",
    "from sklearn.metrics import confusion_matrix\n",
    "from sklearn.metrics import make_scorer\n",
    "from sklearn.model_selection import cross_val_score\n",
    "from sklearn.metrics import roc_curve, roc_auc_score"
   ]
  },
  {
   "cell_type": "code",
   "execution_count": 2,
   "metadata": {
    "collapsed": false
   },
   "outputs": [
    {
     "name": "stdout",
     "output_type": "stream",
     "text": [
      "<class 'pandas.core.frame.DataFrame'>\n",
      "Int64Index: 683 entries, 0 to 698\n",
      "Data columns (total 10 columns):\n",
      "clump_thickness       683 non-null int64\n",
      "cell_size             683 non-null int64\n",
      "cell_shape            683 non-null int64\n",
      "marginal_adhesion     683 non-null int64\n",
      "epitelial_cellsize    683 non-null int64\n",
      "bare_nuclei           683 non-null int32\n",
      "bland_chromatin       683 non-null int64\n",
      "normal_nucleoli       683 non-null int64\n",
      "mitoses               683 non-null int64\n",
      "jenis                 683 non-null int64\n",
      "dtypes: int32(1), int64(9)\n",
      "memory usage: 56.0 KB\n"
     ]
    }
   ],
   "source": [
    "dfb = pd.read_csv(\"wbc.csv\")\n",
    "dfb=dfb[dfb.bare_nuclei!='?']\n",
    "dfb['bare_nuclei']=dfb['bare_nuclei'].astype(object).astype(int)\n",
    "dfb.info()"
   ]
  },
  {
   "cell_type": "code",
   "execution_count": 3,
   "metadata": {
    "collapsed": true
   },
   "outputs": [],
   "source": [
    "X = dfb.drop([dfb.columns[-1]], axis=1)\n",
    "y = dfb.jenis.map({2: 0, 4: 1})"
   ]
  },
  {
   "cell_type": "code",
   "execution_count": 4,
   "metadata": {
    "collapsed": true
   },
   "outputs": [],
   "source": [
    "RAND_SEED_SPLIT = RAND_SEED_TUNING = 84"
   ]
  },
  {
   "cell_type": "code",
   "execution_count": 5,
   "metadata": {
    "collapsed": true
   },
   "outputs": [],
   "source": [
    "X_train, X_test, y_train, y_test = train_test_split(X, y,test_size=0.33, random_state=RAND_SEED_SPLIT)"
   ]
  },
  {
   "cell_type": "code",
   "execution_count": 6,
   "metadata": {
    "collapsed": false
   },
   "outputs": [],
   "source": [
    "svc=SVC()"
   ]
  },
  {
   "cell_type": "code",
   "execution_count": 7,
   "metadata": {
    "collapsed": true
   },
   "outputs": [],
   "source": [
    "C_range= [2**i for i in [-5, -3, -1, 1, 3, 5, 7, 9, 11, 13, 15]]\n",
    "gamma_range= [2**i for i in [-15, -13, -11, -9, -7, -5, -3, -1, 1, 3]]"
   ]
  },
  {
   "cell_type": "code",
   "execution_count": 8,
   "metadata": {
    "collapsed": true
   },
   "outputs": [],
   "source": [
    "def cost_breast_cancer(y_true, y_pred):\n",
    "    CM = confusion_matrix(y_true, y_pred)\n",
    "    FN = CM[1][0]\n",
    "    FP = CM[0][1]\n",
    "    costBC=((-1*((228.35*FP)+(2850000*FN))))\n",
    "    return costBC"
   ]
  },
  {
   "cell_type": "code",
   "execution_count": 9,
   "metadata": {
    "collapsed": true
   },
   "outputs": [],
   "source": [
    "def specificity(y_true, y_pred):\n",
    "    CM = confusion_matrix(y_true, y_pred)\n",
    "    TN = CM[0][0]\n",
    "    FN = CM[1][0]\n",
    "    TP = CM[1][1]\n",
    "    FP = CM[0][1]\n",
    "    nilai=(TN/(FP+TN))\n",
    "    return nilai"
   ]
  },
  {
   "cell_type": "code",
   "execution_count": 10,
   "metadata": {
    "collapsed": false
   },
   "outputs": [],
   "source": [
    "my_custom_scorer=make_scorer(cost_breast_cancer, greater_is_better=True)\n",
    "score_specificity=make_scorer(specificity, greater_is_better=True)"
   ]
  },
  {
   "cell_type": "code",
   "execution_count": 11,
   "metadata": {
    "collapsed": false
   },
   "outputs": [
    {
     "name": "stdout",
     "output_type": "stream",
     "text": [
      "Automatically created module for IPython interactive environment\n",
      "# Tuning hyper-parameters for make_scorer(cost_breast_cancer)\n",
      "\n",
      "Best parameters set found on development set:\n",
      "\n",
      "{'gamma': 0.125, 'C': 0.5, 'kernel': 'rbf'}\n",
      "\n",
      "Grid scores on development set:\n",
      "\n",
      "-46479321.663 (+/-2632762.923) for {'gamma': 3.0517578125e-05, 'C': 0.03125, 'kernel': 'rbf'}\n",
      "-46479321.663 (+/-2632762.923) for {'gamma': 0.0001220703125, 'C': 0.03125, 'kernel': 'rbf'}\n",
      "-43641794.311 (+/-6265938.437) for {'gamma': 0.00048828125, 'C': 0.03125, 'kernel': 'rbf'}\n",
      "-4552652.822 (+/-5197367.970) for {'gamma': 0.001953125, 'C': 0.03125, 'kernel': 'rbf'}\n",
      "-1409636.541 (+/-3810852.088) for {'gamma': 0.0078125, 'C': 0.03125, 'kernel': 'rbf'}\n",
      "-561656.892 (+/-2267206.208) for {'gamma': 0.03125, 'C': 0.03125, 'kernel': 'rbf'}\n",
      "-592.611 (+/-816.889) for {'gamma': 0.125, 'C': 0.03125, 'kernel': 'rbf'}\n",
      "-46479321.663 (+/-2632762.923) for {'gamma': 0.5, 'C': 0.03125, 'kernel': 'rbf'}\n",
      "-46479321.663 (+/-2632762.923) for {'gamma': 2, 'C': 0.03125, 'kernel': 'rbf'}\n",
      "-46479321.663 (+/-2632762.923) for {'gamma': 8, 'C': 0.03125, 'kernel': 'rbf'}\n",
      "-46479321.663 (+/-2632762.923) for {'gamma': 3.0517578125e-05, 'C': 0.125, 'kernel': 'rbf'}\n",
      "-41945514.223 (+/-9192468.282) for {'gamma': 0.0001220703125, 'C': 0.125, 'kernel': 'rbf'}\n",
      "-4833287.395 (+/-6234717.966) for {'gamma': 0.00048828125, 'C': 0.125, 'kernel': 'rbf'}\n",
      "-1970837.233 (+/-3651308.289) for {'gamma': 0.001953125, 'C': 0.125, 'kernel': 'rbf'}\n",
      "-1129025.452 (+/-3764686.753) for {'gamma': 0.0078125, 'C': 0.125, 'kernel': 'rbf'}\n",
      "-561611.921 (+/-2267137.662) for {'gamma': 0.03125, 'C': 0.125, 'kernel': 'rbf'}\n",
      "-615.096 (+/-787.591) for {'gamma': 0.125, 'C': 0.125, 'kernel': 'rbf'}\n",
      "-1006.839 (+/-868.968) for {'gamma': 0.5, 'C': 0.125, 'kernel': 'rbf'}\n",
      "-46479321.663 (+/-2632762.923) for {'gamma': 2, 'C': 0.125, 'kernel': 'rbf'}\n",
      "-46479321.663 (+/-2632762.923) for {'gamma': 8, 'C': 0.125, 'kernel': 'rbf'}\n",
      "-41384245.077 (+/-9941052.326) for {'gamma': 3.0517578125e-05, 'C': 0.5, 'kernel': 'rbf'}\n",
      "-4833287.395 (+/-6234717.966) for {'gamma': 0.0001220703125, 'C': 0.5, 'kernel': 'rbf'}\n",
      "-2251471.806 (+/-4265099.808) for {'gamma': 0.00048828125, 'C': 0.5, 'kernel': 'rbf'}\n",
      "-1970859.718 (+/-3651329.959) for {'gamma': 0.001953125, 'C': 0.5, 'kernel': 'rbf'}\n",
      "-1129025.452 (+/-3764686.753) for {'gamma': 0.0078125, 'C': 0.5, 'kernel': 'rbf'}\n",
      "-561565.952 (+/-2267183.191) for {'gamma': 0.03125, 'C': 0.5, 'kernel': 'rbf'}\n",
      "-524.156 (+/-705.682) for {'gamma': 0.125, 'C': 0.5, 'kernel': 'rbf'}\n",
      "-1142.749 (+/-787.266) for {'gamma': 0.5, 'C': 0.5, 'kernel': 'rbf'}\n",
      "-46479321.663 (+/-2632762.923) for {'gamma': 2, 'C': 0.5, 'kernel': 'rbf'}\n",
      "-46479321.663 (+/-2632762.923) for {'gamma': 8, 'C': 0.5, 'kernel': 'rbf'}\n",
      "-4833287.395 (+/-6234717.966) for {'gamma': 3.0517578125e-05, 'C': 2, 'kernel': 'rbf'}\n",
      "-2251471.806 (+/-4265099.808) for {'gamma': 0.0001220703125, 'C': 2, 'kernel': 'rbf'}\n",
      "-1970859.718 (+/-3651329.959) for {'gamma': 0.00048828125, 'C': 2, 'kernel': 'rbf'}\n",
      "-1409636.541 (+/-3810852.088) for {'gamma': 0.001953125, 'C': 2, 'kernel': 'rbf'}\n",
      "-848390.879 (+/-2606504.204) for {'gamma': 0.0078125, 'C': 2, 'kernel': 'rbf'}\n",
      "-1409682.511 (+/-2850104.281) for {'gamma': 0.03125, 'C': 2, 'kernel': 'rbf'}\n",
      "-280997.835 (+/-1698056.547) for {'gamma': 0.125, 'C': 2, 'kernel': 'rbf'}\n",
      "-822.460 (+/-768.350) for {'gamma': 0.5, 'C': 2, 'kernel': 'rbf'}\n",
      "-1486.024 (+/-821.378) for {'gamma': 2, 'C': 2, 'kernel': 'rbf'}\n",
      "-4492487.639 (+/-27171201.389) for {'gamma': 8, 'C': 2, 'kernel': 'rbf'}\n",
      "-2251471.806 (+/-4265099.808) for {'gamma': 3.0517578125e-05, 'C': 8, 'kernel': 'rbf'}\n",
      "-2251494.291 (+/-4265172.541) for {'gamma': 0.0001220703125, 'C': 8, 'kernel': 'rbf'}\n",
      "-1409636.541 (+/-2850105.268) for {'gamma': 0.00048828125, 'C': 8, 'kernel': 'rbf'}\n",
      "-848367.394 (+/-2606534.776) for {'gamma': 0.001953125, 'C': 8, 'kernel': 'rbf'}\n",
      "-1129047.938 (+/-2788040.480) for {'gamma': 0.0078125, 'C': 8, 'kernel': 'rbf'}\n",
      "-2850340.776 (+/-3577495.603) for {'gamma': 0.03125, 'C': 8, 'kernel': 'rbf'}\n",
      "-280997.835 (+/-1698056.547) for {'gamma': 0.125, 'C': 8, 'kernel': 'rbf'}\n",
      "-822.460 (+/-768.350) for {'gamma': 0.5, 'C': 8, 'kernel': 'rbf'}\n",
      "-1486.024 (+/-821.378) for {'gamma': 2, 'C': 8, 'kernel': 'rbf'}\n",
      "-4492487.639 (+/-27171201.389) for {'gamma': 8, 'C': 8, 'kernel': 'rbf'}\n",
      "-2251494.291 (+/-4265172.541) for {'gamma': 3.0517578125e-05, 'C': 32, 'kernel': 'rbf'}\n",
      "-1409636.541 (+/-2850105.268) for {'gamma': 0.0001220703125, 'C': 32, 'kernel': 'rbf'}\n",
      "-1409636.541 (+/-2850105.268) for {'gamma': 0.00048828125, 'C': 32, 'kernel': 'rbf'}\n",
      "-1129025.452 (+/-2788076.891) for {'gamma': 0.001953125, 'C': 32, 'kernel': 'rbf'}\n",
      "-2544715.937 (+/-3988771.092) for {'gamma': 0.0078125, 'C': 32, 'kernel': 'rbf'}\n",
      "-3991588.041 (+/-6308437.958) for {'gamma': 0.03125, 'C': 32, 'kernel': 'rbf'}\n",
      "-280997.835 (+/-1698056.547) for {'gamma': 0.125, 'C': 32, 'kernel': 'rbf'}\n",
      "-822.460 (+/-768.350) for {'gamma': 0.5, 'C': 32, 'kernel': 'rbf'}\n",
      "-1486.024 (+/-821.378) for {'gamma': 2, 'C': 32, 'kernel': 'rbf'}\n",
      "-4492487.639 (+/-27171201.389) for {'gamma': 8, 'C': 32, 'kernel': 'rbf'}\n",
      "-1409636.541 (+/-2850105.268) for {'gamma': 3.0517578125e-05, 'C': 128, 'kernel': 'rbf'}\n",
      "-1409636.541 (+/-2850105.268) for {'gamma': 0.0001220703125, 'C': 128, 'kernel': 'rbf'}\n",
      "-1129001.968 (+/-2788114.927) for {'gamma': 0.00048828125, 'C': 128, 'kernel': 'rbf'}\n",
      "-1129024.453 (+/-2788078.517) for {'gamma': 0.001953125, 'C': 128, 'kernel': 'rbf'}\n",
      "-4577824.968 (+/-6327526.850) for {'gamma': 0.0078125, 'C': 128, 'kernel': 'rbf'}\n",
      "-3991588.041 (+/-6308437.958) for {'gamma': 0.03125, 'C': 128, 'kernel': 'rbf'}\n",
      "-280997.835 (+/-1698056.547) for {'gamma': 0.125, 'C': 128, 'kernel': 'rbf'}\n",
      "-822.460 (+/-768.350) for {'gamma': 0.5, 'C': 128, 'kernel': 'rbf'}\n",
      "-1486.024 (+/-821.378) for {'gamma': 2, 'C': 128, 'kernel': 'rbf'}\n",
      "-4492487.639 (+/-27171201.389) for {'gamma': 8, 'C': 128, 'kernel': 'rbf'}\n",
      "-1409636.541 (+/-2850105.268) for {'gamma': 3.0517578125e-05, 'C': 512, 'kernel': 'rbf'}\n",
      "-1690271.114 (+/-3773865.753) for {'gamma': 0.0001220703125, 'C': 512, 'kernel': 'rbf'}\n",
      "-1129025.452 (+/-2788076.891) for {'gamma': 0.00048828125, 'C': 512, 'kernel': 'rbf'}\n",
      "-2837823.158 (+/-4429949.540) for {'gamma': 0.001953125, 'C': 512, 'kernel': 'rbf'}\n",
      "-5151567.762 (+/-7120084.195) for {'gamma': 0.0078125, 'C': 512, 'kernel': 'rbf'}\n",
      "-3991588.041 (+/-6308437.958) for {'gamma': 0.03125, 'C': 512, 'kernel': 'rbf'}\n",
      "-280997.835 (+/-1698056.547) for {'gamma': 0.125, 'C': 512, 'kernel': 'rbf'}\n",
      "-822.460 (+/-768.350) for {'gamma': 0.5, 'C': 512, 'kernel': 'rbf'}\n",
      "-1486.024 (+/-821.378) for {'gamma': 2, 'C': 512, 'kernel': 'rbf'}\n",
      "-4492487.639 (+/-27171201.389) for {'gamma': 8, 'C': 512, 'kernel': 'rbf'}\n",
      "-1690271.114 (+/-3773865.753) for {'gamma': 3.0517578125e-05, 'C': 2048, 'kernel': 'rbf'}\n",
      "-1129001.968 (+/-2788114.927) for {'gamma': 0.0001220703125, 'C': 2048, 'kernel': 'rbf'}\n",
      "-1129024.453 (+/-2788078.517) for {'gamma': 0.00048828125, 'C': 2048, 'kernel': 'rbf'}\n",
      "-4559115.997 (+/-6848986.433) for {'gamma': 0.001953125, 'C': 2048, 'kernel': 'rbf'}\n",
      "-5151567.762 (+/-7120084.195) for {'gamma': 0.0078125, 'C': 2048, 'kernel': 'rbf'}\n",
      "-3991588.041 (+/-6308437.958) for {'gamma': 0.03125, 'C': 2048, 'kernel': 'rbf'}\n",
      "-280997.835 (+/-1698056.547) for {'gamma': 0.125, 'C': 2048, 'kernel': 'rbf'}\n",
      "-822.460 (+/-768.350) for {'gamma': 0.5, 'C': 2048, 'kernel': 'rbf'}\n",
      "-1486.024 (+/-821.378) for {'gamma': 2, 'C': 2048, 'kernel': 'rbf'}\n",
      "-4492487.639 (+/-27171201.389) for {'gamma': 8, 'C': 2048, 'kernel': 'rbf'}\n",
      "-1690271.114 (+/-3773865.753) for {'gamma': 3.0517578125e-05, 'C': 8192, 'kernel': 'rbf'}\n",
      "-1129025.452 (+/-2788076.891) for {'gamma': 0.0001220703125, 'C': 8192, 'kernel': 'rbf'}\n",
      "-3124694.055 (+/-5949165.348) for {'gamma': 0.00048828125, 'C': 8192, 'kernel': 'rbf'}\n",
      "-4259750.966 (+/-7293768.068) for {'gamma': 0.001953125, 'C': 8192, 'kernel': 'rbf'}\n",
      "-5151567.762 (+/-7120084.195) for {'gamma': 0.0078125, 'C': 8192, 'kernel': 'rbf'}\n",
      "-3991588.041 (+/-6308437.958) for {'gamma': 0.03125, 'C': 8192, 'kernel': 'rbf'}\n",
      "-280997.835 (+/-1698056.547) for {'gamma': 0.125, 'C': 8192, 'kernel': 'rbf'}\n",
      "-822.460 (+/-768.350) for {'gamma': 0.5, 'C': 8192, 'kernel': 'rbf'}\n",
      "-1486.024 (+/-821.378) for {'gamma': 2, 'C': 8192, 'kernel': 'rbf'}\n",
      "-4492487.639 (+/-27171201.389) for {'gamma': 8, 'C': 8192, 'kernel': 'rbf'}\n",
      "-1409636.541 (+/-2850105.268) for {'gamma': 3.0517578125e-05, 'C': 32768, 'kernel': 'rbf'}\n",
      "-1129024.453 (+/-2788078.517) for {'gamma': 0.0001220703125, 'C': 32768, 'kernel': 'rbf'}\n",
      "-4278458.938 (+/-7323122.882) for {'gamma': 0.00048828125, 'C': 32768, 'kernel': 'rbf'}\n",
      "-4552858.187 (+/-7718454.648) for {'gamma': 0.001953125, 'C': 32768, 'kernel': 'rbf'}\n",
      "-5151567.762 (+/-7120084.195) for {'gamma': 0.0078125, 'C': 32768, 'kernel': 'rbf'}\n",
      "-3991588.041 (+/-6308437.958) for {'gamma': 0.03125, 'C': 32768, 'kernel': 'rbf'}\n",
      "-280997.835 (+/-1698056.547) for {'gamma': 0.125, 'C': 32768, 'kernel': 'rbf'}\n",
      "-822.460 (+/-768.350) for {'gamma': 0.5, 'C': 32768, 'kernel': 'rbf'}\n",
      "-1486.024 (+/-821.378) for {'gamma': 2, 'C': 32768, 'kernel': 'rbf'}\n",
      "-4492487.639 (+/-27171201.389) for {'gamma': 8, 'C': 32768, 'kernel': 'rbf'}\n",
      "\n"
     ]
    }
   ],
   "source": [
    "print(__doc__)\n",
    "\n",
    "tuned_parameters = [{'kernel': ['rbf'], 'gamma': gamma_range,\n",
    "                     'C': C_range},]\n",
    "\n",
    "scores = [my_custom_scorer]\n",
    "\n",
    "for score in scores:\n",
    "    print(\"# Tuning hyper-parameters for %s\" % score)\n",
    "    print()\n",
    "\n",
    "    clf2 = GridSearchCV(svc, tuned_parameters, cv=10,\n",
    "                       scoring=my_custom_scorer)\n",
    "    clf2.fit(X_train, y_train)\n",
    "\n",
    "    print(\"Best parameters set found on development set:\")\n",
    "    print()\n",
    "    print(clf2.best_params_)\n",
    "    print()\n",
    "    print(\"Grid scores on development set:\")\n",
    "    print()\n",
    "    means = clf2.cv_results_['mean_test_score']\n",
    "    stds = clf2.cv_results_['std_test_score']\n",
    "    for mean, std, params in zip(means, stds, clf2.cv_results_['params']):\n",
    "        print(\"%0.3f (+/-%0.03f) for %r\"\n",
    "              % (mean, std * 2, params))\n",
    "    print()\n"
   ]
  },
  {
   "cell_type": "code",
   "execution_count": 12,
   "metadata": {
    "collapsed": false
   },
   "outputs": [
    {
     "name": "stdout",
     "output_type": "stream",
     "text": [
      "Best score cost obtained: -524.1556892778992\n",
      "Parameters:\n",
      "\tgamma: 0.125\n",
      "\tC: 0.5\n",
      "\tkernel: rbf\n"
     ]
    }
   ],
   "source": [
    "print(\"Best score cost obtained: {0}\".format(clf2.best_score_))\n",
    "print(\"Parameters:\")\n",
    "for key, value in clf2.best_params_.items():\n",
    "    print(\"\\t{}: {}\".format(key, value))"
   ]
  },
  {
   "cell_type": "code",
   "execution_count": 13,
   "metadata": {
    "collapsed": false
   },
   "outputs": [
    {
     "data": {
      "text/plain": [
       "SVC(C=0.5, cache_size=200, class_weight=None, coef0=0.0,\n",
       "  decision_function_shape=None, degree=3, gamma=0.125, kernel='rbf',\n",
       "  max_iter=-1, probability=False, random_state=None, shrinking=True,\n",
       "  tol=0.001, verbose=False)"
      ]
     },
     "execution_count": 13,
     "metadata": {},
     "output_type": "execute_result"
    }
   ],
   "source": [
    "clf2.best_estimator_"
   ]
  },
  {
   "cell_type": "code",
   "execution_count": 14,
   "metadata": {
    "collapsed": true
   },
   "outputs": [],
   "source": [
    "bestSVC=SVC(C=0.5, cache_size=200, class_weight=None, coef0=0.0,\n",
    "  decision_function_shape=None, degree=3, gamma=0.125, kernel='rbf',\n",
    "  max_iter=-1, probability=True, random_state=None, shrinking=True,\n",
    "  tol=0.001, verbose=False)"
   ]
  },
  {
   "cell_type": "code",
   "execution_count": 15,
   "metadata": {
    "collapsed": false
   },
   "outputs": [
    {
     "data": {
      "text/plain": [
       "SVC(C=0.5, cache_size=200, class_weight=None, coef0=0.0,\n",
       "  decision_function_shape=None, degree=3, gamma=0.125, kernel='rbf',\n",
       "  max_iter=-1, probability=True, random_state=None, shrinking=True,\n",
       "  tol=0.001, verbose=False)"
      ]
     },
     "execution_count": 15,
     "metadata": {},
     "output_type": "execute_result"
    }
   ],
   "source": [
    "bestSVC.fit(X_train, y_train)"
   ]
  },
  {
   "cell_type": "code",
   "execution_count": 16,
   "metadata": {
    "collapsed": true
   },
   "outputs": [],
   "source": [
    "scores1=cross_val_score(bestSVC,X_train,y_train,cv=10,scoring=score_specificity)"
   ]
  },
  {
   "cell_type": "code",
   "execution_count": 17,
   "metadata": {
    "collapsed": false
   },
   "outputs": [
    {
     "name": "stdout",
     "output_type": "stream",
     "text": [
      "Specificity: 0.9217 (+/- 0.1065)\n"
     ]
    }
   ],
   "source": [
    "print(\"Specificity: %0.4f (+/- %0.4f)\" % (scores1.mean(), scores1.std() * 2))"
   ]
  },
  {
   "cell_type": "code",
   "execution_count": 18,
   "metadata": {
    "collapsed": true
   },
   "outputs": [],
   "source": [
    "scores2=cross_val_score(bestSVC,X_train,y_train,cv=10,scoring=my_custom_scorer)"
   ]
  },
  {
   "cell_type": "code",
   "execution_count": 19,
   "metadata": {
    "collapsed": false
   },
   "outputs": [
    {
     "name": "stdout",
     "output_type": "stream",
     "text": [
      "Score cost: -525.2050 (+/- 708.9891)\n"
     ]
    }
   ],
   "source": [
    "print(\"Score cost: %0.4f (+/- %0.4f)\" % (scores2.mean(), scores2.std() * 2))"
   ]
  },
  {
   "cell_type": "code",
   "execution_count": 20,
   "metadata": {
    "collapsed": true
   },
   "outputs": [],
   "source": [
    "scores3=cross_val_score(bestSVC,X_train,y_train,cv=10,scoring='recall')"
   ]
  },
  {
   "cell_type": "code",
   "execution_count": 21,
   "metadata": {
    "collapsed": false
   },
   "outputs": [
    {
     "name": "stdout",
     "output_type": "stream",
     "text": [
      "Recall: 1.0000 (+/- 0.0000)\n"
     ]
    }
   ],
   "source": [
    "print(\"Recall: %0.4f (+/- %0.4f)\" % (scores3.mean(), scores3.std() * 2))"
   ]
  },
  {
   "cell_type": "code",
   "execution_count": 22,
   "metadata": {
    "collapsed": true
   },
   "outputs": [],
   "source": [
    "scores4=cross_val_score(bestSVC,X_train,y_train,cv=10,scoring='accuracy')"
   ]
  },
  {
   "cell_type": "code",
   "execution_count": 23,
   "metadata": {
    "collapsed": false
   },
   "outputs": [
    {
     "name": "stdout",
     "output_type": "stream",
     "text": [
      "Accuracy: 0.9496 (+/- 0.0689)\n"
     ]
    }
   ],
   "source": [
    "print(\"Accuracy: %0.4f (+/- %0.4f)\" % (scores4.mean(), scores4.std() * 2))"
   ]
  },
  {
   "cell_type": "code",
   "execution_count": 24,
   "metadata": {
    "collapsed": false
   },
   "outputs": [
    {
     "name": "stderr",
     "output_type": "stream",
     "text": [
      "c:\\users\\annisa\\anaconda3\\envs\\py35\\lib\\site-packages\\sklearn\\cross_validation.py:44: DeprecationWarning: This module was deprecated in version 0.18 in favor of the model_selection module into which all the refactored classes and functions are moved. Also note that the interface of the new CV iterators are different from that of this module. This module will be removed in 0.20.\n",
      "  \"This module will be removed in 0.20.\", DeprecationWarning)\n"
     ]
    }
   ],
   "source": [
    "from xgboost import XGBClassifier"
   ]
  },
  {
   "cell_type": "code",
   "execution_count": 25,
   "metadata": {
    "collapsed": true
   },
   "outputs": [],
   "source": [
    "from sklearn.model_selection import RandomizedSearchCV"
   ]
  },
  {
   "cell_type": "code",
   "execution_count": 26,
   "metadata": {
    "collapsed": true
   },
   "outputs": [],
   "source": [
    "from sklearn.cross_validation import StratifiedKFold"
   ]
  },
  {
   "cell_type": "code",
   "execution_count": 27,
   "metadata": {
    "collapsed": true
   },
   "outputs": [],
   "source": [
    "cv = StratifiedKFold(y_train, n_folds=10, shuffle=True, random_state=RAND_SEED_SPLIT)"
   ]
  },
  {
   "cell_type": "code",
   "execution_count": 28,
   "metadata": {
    "collapsed": true
   },
   "outputs": [],
   "source": [
    "classifier = XGBClassifier()"
   ]
  },
  {
   "cell_type": "code",
   "execution_count": 29,
   "metadata": {
    "collapsed": false
   },
   "outputs": [
    {
     "name": "stdout",
     "output_type": "stream",
     "text": [
      "Automatically created module for IPython interactive environment\n",
      "# Tuning hyper-parameters for make_scorer(cost_breast_cancer)\n",
      "\n",
      "Best parameters set found on development set:\n",
      "\n",
      "{'colsample_bytree': 0.7, 'n_estimators': 10, 'subsample': 0.5, 'scale_pos_weight': 0.77777777777777779, 'reg_alpha': 0.01, 'reg_lambda': 0.01}\n",
      "\n",
      "Grid scores on development set:\n",
      "\n",
      "-6510836.026 (+/-8815214.548) for {'colsample_bytree': 1.0, 'n_estimators': 30, 'subsample': 0.5, 'scale_pos_weight': 0.11111111111111116, 'reg_alpha': 0.001, 'reg_lambda': 0.5}\n",
      "-1428347.511 (+/-2850175.062) for {'colsample_bytree': 0.7, 'n_estimators': 10, 'subsample': 0.5, 'scale_pos_weight': 0.77777777777777779, 'reg_alpha': 0.01, 'reg_lambda': 0.01}\n",
      "-2002089.805 (+/-3631931.010) for {'colsample_bytree': 0.9, 'n_estimators': 10, 'subsample': 0.5, 'scale_pos_weight': 0.88888888888888884, 'reg_alpha': 0.05, 'reg_lambda': 0.005}\n",
      "-2276441.585 (+/-3409209.948) for {'colsample_bytree': 0.8, 'n_estimators': 30, 'subsample': 0.5, 'scale_pos_weight': 0.55555555555555558, 'reg_alpha': 1.0, 'reg_lambda': 0.01}\n",
      "-3972721.673 (+/-6304746.276) for {'colsample_bytree': 0.5, 'n_estimators': 10, 'subsample': 0.5, 'scale_pos_weight': 0.44444444444444442, 'reg_alpha': 0.0, 'reg_lambda': 5.0}\n",
      "-4546440.982 (+/-3771733.576) for {'colsample_bytree': 0.7, 'n_estimators': 30, 'subsample': 0.5, 'scale_pos_weight': 0.33333333333333337, 'reg_alpha': 0.005, 'reg_lambda': 10.0}\n",
      "-46479321.663 (+/-2632762.923) for {'colsample_bytree': 0.8, 'n_estimators': 10, 'subsample': 0.8, 'scale_pos_weight': 0.0, 'reg_alpha': 0.0, 'reg_lambda': 1.0}\n",
      "-6803989.217 (+/-5820064.499) for {'colsample_bytree': 0.8, 'n_estimators': 50, 'subsample': 1.0, 'scale_pos_weight': 0.11111111111111116, 'reg_alpha': 0.0, 'reg_lambda': 1.0}\n",
      "-3972721.673 (+/-5775107.791) for {'colsample_bytree': 0.9, 'n_estimators': 20, 'subsample': 1.0, 'scale_pos_weight': 0.33333333333333337, 'reg_alpha': 0.05, 'reg_lambda': 1.0}\n",
      "-2837710.732 (+/-5073161.990) for {'colsample_bytree': 0.5, 'n_estimators': 10, 'subsample': 0.7, 'scale_pos_weight': 0.66666666666666674, 'reg_alpha': 5.0, 'reg_lambda': 10.0}\n",
      "\n"
     ]
    }
   ],
   "source": [
    "print(__doc__)\n",
    "\n",
    "# Set the parameters by cross-validation\n",
    "tuned_parameters ={'n_estimators': [10,20,30,50],\n",
    "                    'subsample': [0.5, 0.6, 0.7, 0.8, 0.9, 1.],\n",
    "                    'colsample_bytree': [0.5, 0.6, 0.7, 0.8, 0.9, 1.],\n",
    "                    'reg_alpha': [0., 0.001, 0.005, 0.01, 0.05, 0.1, 0.5, 1., 5., 10.],\n",
    "                    'reg_lambda': [0., 0.001, 0.005, 0.01, 0.05, 0.1, 0.5, 1., 5., 10.],\n",
    "                    'scale_pos_weight': np.linspace(1., (y_train == 2).sum() / y_train.sum(), 10)\n",
    "                   }    \n",
    "\n",
    "                  \n",
    "params_fixed = {\n",
    "    'objective': 'binary:logistic',\n",
    "    'silent': 1\n",
    "}\n",
    "scores = [my_custom_scorer]\n",
    "\n",
    "for score in scores:\n",
    "    print(\"# Tuning hyper-parameters for %s\" % score)\n",
    "    print()\n",
    "\n",
    "    clf = RandomizedSearchCV(estimator=XGBClassifier(**params_fixed, seed=RAND_SEED_TUNING),\n",
    "    param_distributions=tuned_parameters, cv=cv, scoring=my_custom_scorer)\n",
    "    clf.fit(X_train, y_train)\n",
    "\n",
    "    print(\"Best parameters set found on development set:\")\n",
    "    print()\n",
    "    print(clf.best_params_)\n",
    "    print()\n",
    "    print(\"Grid scores on development set:\")\n",
    "    print()\n",
    "    means = clf.cv_results_['mean_test_score']\n",
    "    stds = clf.cv_results_['std_test_score']\n",
    "    for mean, std, params in zip(means, stds, clf.cv_results_['params']):\n",
    "        print(\"%0.3f (+/-%0.03f) for %r\"\n",
    "              % (mean, std * 2, params))\n",
    "    print()"
   ]
  },
  {
   "cell_type": "code",
   "execution_count": 30,
   "metadata": {
    "collapsed": false
   },
   "outputs": [
    {
     "name": "stdout",
     "output_type": "stream",
     "text": [
      "Best score cost obtained: -1428347.5112691468\n",
      "Parameters:\n",
      "\tcolsample_bytree: 0.7\n",
      "\tn_estimators: 10\n",
      "\tsubsample: 0.5\n",
      "\tscale_pos_weight: 0.7777777777777778\n",
      "\treg_alpha: 0.01\n",
      "\treg_lambda: 0.01\n"
     ]
    }
   ],
   "source": [
    "print(\"Best score cost obtained: {0}\".format(clf.best_score_))\n",
    "print(\"Parameters:\")\n",
    "for key, value in clf.best_params_.items():\n",
    "    print(\"\\t{}: {}\".format(key, value))"
   ]
  },
  {
   "cell_type": "code",
   "execution_count": 31,
   "metadata": {
    "collapsed": false
   },
   "outputs": [
    {
     "data": {
      "text/plain": [
       "XGBClassifier(base_score=0.5, colsample_bylevel=1, colsample_bytree=0.7,\n",
       "       gamma=0, learning_rate=0.1, max_delta_step=0, max_depth=3,\n",
       "       min_child_weight=1, missing=None, n_estimators=10, nthread=-1,\n",
       "       objective='binary:logistic', reg_alpha=0.01, reg_lambda=0.01,\n",
       "       scale_pos_weight=0.77777777777777779, seed=84, silent=1,\n",
       "       subsample=0.5)"
      ]
     },
     "execution_count": 31,
     "metadata": {},
     "output_type": "execute_result"
    }
   ],
   "source": [
    "clf.best_estimator_"
   ]
  },
  {
   "cell_type": "code",
   "execution_count": 32,
   "metadata": {
    "collapsed": true
   },
   "outputs": [],
   "source": [
    "bestXGB=XGBClassifier(base_score=0.5, colsample_bylevel=1, colsample_bytree=0.7,\n",
    "       gamma=0, learning_rate=0.1, max_delta_step=0, max_depth=3,\n",
    "       min_child_weight=1, missing=None, n_estimators=10, nthread=-1,\n",
    "       objective='binary:logistic', reg_alpha=0.01, reg_lambda=0.01,\n",
    "       scale_pos_weight=0.77777777777777779, seed=84, silent=1,\n",
    "       subsample=0.5)"
   ]
  },
  {
   "cell_type": "code",
   "execution_count": 33,
   "metadata": {
    "collapsed": false
   },
   "outputs": [
    {
     "data": {
      "text/plain": [
       "XGBClassifier(base_score=0.5, colsample_bylevel=1, colsample_bytree=0.7,\n",
       "       gamma=0, learning_rate=0.1, max_delta_step=0, max_depth=3,\n",
       "       min_child_weight=1, missing=None, n_estimators=10, nthread=-1,\n",
       "       objective='binary:logistic', reg_alpha=0.01, reg_lambda=0.01,\n",
       "       scale_pos_weight=0.7777777777777778, seed=84, silent=1,\n",
       "       subsample=0.5)"
      ]
     },
     "execution_count": 33,
     "metadata": {},
     "output_type": "execute_result"
    }
   ],
   "source": [
    "bestXGB.fit(X_train, y_train)"
   ]
  },
  {
   "cell_type": "code",
   "execution_count": 34,
   "metadata": {
    "collapsed": false
   },
   "outputs": [
    {
     "name": "stdout",
     "output_type": "stream",
     "text": [
      "Score cost: -1425228.3500 (+/- 2850182.6888)\n"
     ]
    }
   ],
   "source": [
    "scores4=cross_val_score(bestXGB,X_train,y_train,cv=cv,scoring=my_custom_scorer)\n",
    "print(\"Score cost: %0.4f (+/- %0.4f)\" % (scores4.mean(), scores4.std() * 2))"
   ]
  },
  {
   "cell_type": "code",
   "execution_count": 35,
   "metadata": {
    "collapsed": false
   },
   "outputs": [
    {
     "name": "stdout",
     "output_type": "stream",
     "text": [
      "Specificity: 0.9661 (+/- 0.0429)\n",
      "Accuracy: 0.9673 (+/- 0.0447)\n",
      "Recall: 0.9695 (+/- 0.0611)\n"
     ]
    }
   ],
   "source": [
    "scores1=cross_val_score(bestXGB,X_train,y_train,cv=cv,scoring=score_specificity)\n",
    "print(\"Specificity: %0.4f (+/- %0.4f)\" % (scores1.mean(), scores1.std() * 2))\n",
    "scores2=cross_val_score(bestXGB,X_train,y_train,cv=cv,scoring='accuracy')\n",
    "print(\"Accuracy: %0.4f (+/- %0.4f)\" % (scores2.mean(), scores2.std() * 2))\n",
    "scores3=cross_val_score(bestXGB,X_train,y_train,cv=cv,scoring='recall')\n",
    "print(\"Recall: %0.4f (+/- %0.4f)\" % (scores3.mean(), scores3.std() * 2))\n"
   ]
  },
  {
   "cell_type": "code",
   "execution_count": null,
   "metadata": {
    "collapsed": true
   },
   "outputs": [],
   "source": []
  }
 ],
 "metadata": {
  "kernelspec": {
   "display_name": "Python 3",
   "language": "python",
   "name": "python3"
  },
  "language_info": {
   "codemirror_mode": {
    "name": "ipython",
    "version": 3
   },
   "file_extension": ".py",
   "mimetype": "text/x-python",
   "name": "python",
   "nbconvert_exporter": "python",
   "pygments_lexer": "ipython3",
   "version": "3.5.3"
  }
 },
 "nbformat": 4,
 "nbformat_minor": 2
}
