{
 "cells": [
  {
   "cell_type": "code",
   "execution_count": 1,
   "metadata": {
    "collapsed": true
   },
   "outputs": [],
   "source": [
    "\n",
    "%matplotlib inline\n",
    "import pandas as pd\n",
    "import numpy as np\n",
    "import matplotlib.pyplot as plt\n",
    "import seaborn; \n",
    "from scipy import stats\n",
    "import pylab as pl\n",
    "from sklearn.model_selection import train_test_split\n",
    "\n",
    "seaborn.set()"
   ]
  },
  {
   "cell_type": "code",
   "execution_count": 2,
   "metadata": {
    "collapsed": false
   },
   "outputs": [],
   "source": [
    "dfb = pd.read_csv(\"wbc.csv\")"
   ]
  },
  {
   "cell_type": "code",
   "execution_count": 3,
   "metadata": {
    "collapsed": false
   },
   "outputs": [
    {
     "name": "stdout",
     "output_type": "stream",
     "text": [
      "<class 'pandas.core.frame.DataFrame'>\n",
      "RangeIndex: 683 entries, 0 to 682\n",
      "Data columns (total 11 columns):\n",
      "index                 683 non-null int64\n",
      "clump_thickness       683 non-null int64\n",
      "cell_size             683 non-null int64\n",
      "cell_shape            683 non-null int64\n",
      "marginal_adhesion     683 non-null int64\n",
      "epitelial_cellsize    683 non-null int64\n",
      "bare_nuclei           683 non-null int32\n",
      "bland_chromatin       683 non-null int64\n",
      "normal_nucleoli       683 non-null int64\n",
      "mitoses               683 non-null int64\n",
      "jenis                 683 non-null int64\n",
      "dtypes: int32(1), int64(10)\n",
      "memory usage: 56.1 KB\n"
     ]
    }
   ],
   "source": [
    "dfb=dfb[dfb.bare_nuclei!='?']\n",
    "dfb=dfb.reset_index()\n",
    "dfb['bare_nuclei']=dfb['bare_nuclei'].astype(object).astype(int)\n",
    "dfb.info()"
   ]
  },
  {
   "cell_type": "code",
   "execution_count": 4,
   "metadata": {
    "collapsed": false
   },
   "outputs": [],
   "source": [
    "X = dfb.drop([dfb.columns[-1]], axis=1)\n",
    "y = dfb.jenis"
   ]
  },
  {
   "cell_type": "code",
   "execution_count": 5,
   "metadata": {
    "collapsed": false
   },
   "outputs": [],
   "source": [
    "X_train, X_test, y_train, y_test = train_test_split(X, y,test_size=0.33, random_state=42)"
   ]
  },
  {
   "cell_type": "code",
   "execution_count": 6,
   "metadata": {
    "collapsed": true
   },
   "outputs": [],
   "source": [
    "from sklearn import svm"
   ]
  },
  {
   "cell_type": "code",
   "execution_count": 7,
   "metadata": {
    "collapsed": true
   },
   "outputs": [],
   "source": [
    "from sklearn.metrics import accuracy_score, precision_recall_fscore_support"
   ]
  },
  {
   "cell_type": "code",
   "execution_count": 8,
   "metadata": {
    "collapsed": false
   },
   "outputs": [],
   "source": [
    "from sklearn import metrics"
   ]
  },
  {
   "cell_type": "code",
   "execution_count": 9,
   "metadata": {
    "collapsed": false
   },
   "outputs": [],
   "source": [
    "from sklearn.model_selection import GridSearchCV\n",
    "from __future__ import print_function\n",
    "from sklearn.metrics import classification_report\n",
    "from sklearn.svm import SVC"
   ]
  },
  {
   "cell_type": "code",
   "execution_count": 10,
   "metadata": {
    "collapsed": true
   },
   "outputs": [],
   "source": [
    "svr=svm.SVC()"
   ]
  },
  {
   "cell_type": "code",
   "execution_count": 11,
   "metadata": {
    "collapsed": false
   },
   "outputs": [
    {
     "name": "stdout",
     "output_type": "stream",
     "text": [
      "Automatically created module for IPython interactive environment\n",
      "# Tuning hyper-parameters for recall\n",
      "\n",
      "Best parameters set found on development set:\n",
      "\n",
      "{'C': 20, 'gamma': 0.0001, 'kernel': 'rbf'}\n",
      "\n",
      "Grid scores on development set:\n",
      "\n",
      "0.500 (+/-0.000) for {'C': 1, 'gamma': 1, 'kernel': 'rbf'}\n",
      "0.506 (+/-0.025) for {'C': 1, 'gamma': 0.1, 'kernel': 'rbf'}\n",
      "0.966 (+/-0.030) for {'C': 1, 'gamma': 0.001, 'kernel': 'rbf'}\n",
      "0.783 (+/-0.130) for {'C': 1, 'gamma': 0.0001, 'kernel': 'rbf'}\n",
      "0.500 (+/-0.000) for {'C': 1, 'gamma': 1e-05, 'kernel': 'rbf'}\n",
      "0.500 (+/-0.000) for {'C': 2, 'gamma': 1, 'kernel': 'rbf'}\n",
      "0.513 (+/-0.042) for {'C': 2, 'gamma': 0.1, 'kernel': 'rbf'}\n",
      "0.958 (+/-0.042) for {'C': 2, 'gamma': 0.001, 'kernel': 'rbf'}\n",
      "0.936 (+/-0.065) for {'C': 2, 'gamma': 0.0001, 'kernel': 'rbf'}\n",
      "0.519 (+/-0.051) for {'C': 2, 'gamma': 1e-05, 'kernel': 'rbf'}\n",
      "0.500 (+/-0.000) for {'C': 4, 'gamma': 1, 'kernel': 'rbf'}\n",
      "0.513 (+/-0.042) for {'C': 4, 'gamma': 0.1, 'kernel': 'rbf'}\n",
      "0.953 (+/-0.047) for {'C': 4, 'gamma': 0.001, 'kernel': 'rbf'}\n",
      "0.965 (+/-0.040) for {'C': 4, 'gamma': 0.0001, 'kernel': 'rbf'}\n",
      "0.808 (+/-0.133) for {'C': 4, 'gamma': 1e-05, 'kernel': 'rbf'}\n",
      "0.500 (+/-0.000) for {'C': 8, 'gamma': 1, 'kernel': 'rbf'}\n",
      "0.513 (+/-0.042) for {'C': 8, 'gamma': 0.1, 'kernel': 'rbf'}\n",
      "0.951 (+/-0.053) for {'C': 8, 'gamma': 0.001, 'kernel': 'rbf'}\n",
      "0.963 (+/-0.039) for {'C': 8, 'gamma': 0.0001, 'kernel': 'rbf'}\n",
      "0.936 (+/-0.068) for {'C': 8, 'gamma': 1e-05, 'kernel': 'rbf'}\n",
      "0.500 (+/-0.000) for {'C': 10, 'gamma': 1, 'kernel': 'rbf'}\n",
      "0.513 (+/-0.042) for {'C': 10, 'gamma': 0.1, 'kernel': 'rbf'}\n",
      "0.951 (+/-0.040) for {'C': 10, 'gamma': 0.001, 'kernel': 'rbf'}\n",
      "0.963 (+/-0.039) for {'C': 10, 'gamma': 0.0001, 'kernel': 'rbf'}\n",
      "0.957 (+/-0.055) for {'C': 10, 'gamma': 1e-05, 'kernel': 'rbf'}\n",
      "0.500 (+/-0.000) for {'C': 20, 'gamma': 1, 'kernel': 'rbf'}\n",
      "0.513 (+/-0.042) for {'C': 20, 'gamma': 0.1, 'kernel': 'rbf'}\n",
      "0.954 (+/-0.039) for {'C': 20, 'gamma': 0.001, 'kernel': 'rbf'}\n",
      "0.967 (+/-0.033) for {'C': 20, 'gamma': 0.0001, 'kernel': 'rbf'}\n",
      "0.961 (+/-0.046) for {'C': 20, 'gamma': 1e-05, 'kernel': 'rbf'}\n",
      "\n",
      "Detailed classification report:\n",
      "\n",
      "The model is trained on the full development set.\n",
      "The scores are computed on the full evaluation set.\n",
      "\n",
      "             precision    recall  f1-score   support\n",
      "\n",
      "          2       0.96      0.99      0.97       142\n",
      "          4       0.97      0.93      0.95        84\n",
      "\n",
      "avg / total       0.96      0.96      0.96       226\n",
      "\n",
      "\n"
     ]
    }
   ],
   "source": [
    "print(__doc__)\n",
    "\n",
    "# Loading the Digits dataset\n",
    "#digits = datasets.load_digits()\n",
    "\n",
    "# To apply an classifier on this data, we need to flatten the image, to\n",
    "# turn the data in a (samples, feature) matrix:\n",
    "n_samples = len(dfb)\n",
    "\n",
    "\n",
    "# Set the parameters by cross-validation\n",
    "#tuned_parameters = [{'kernel': ['rbf'], 'gamma': [2e-15,2e-13,2e-11, 2e-9,2e-7,2e-5, 2e-3,2e-1,2e1,2e3],\n",
    "                    # 'C': [2e-5,2e-3,2e-1, 2e1,2e3,2e5,2e7,2e9,2e11,213,2e15]},]\n",
    "tuned_parameters = [{'kernel': [ 'rbf'], 'gamma': [1,0.1,0.001,0.0001,0.00001],\n",
    "                     'C': [ 1,2,4,8,10,20]},]\n",
    "scores = ['recall']\n",
    "\n",
    "for score in scores:\n",
    "    print(\"# Tuning hyper-parameters for %s\" % score)\n",
    "    print()\n",
    "\n",
    "    clf = GridSearchCV(svr, tuned_parameters, cv=10, \n",
    "                       scoring='%s_macro' % score)\n",
    "    clf.fit(X_train, y_train)\n",
    "\n",
    "    print(\"Best parameters set found on development set:\")\n",
    "    print()\n",
    "    print(clf.best_params_)\n",
    "    print()\n",
    "    print(\"Grid scores on development set:\")\n",
    "    print()\n",
    "    means = clf.cv_results_['mean_test_score']\n",
    "    stds = clf.cv_results_['std_test_score']\n",
    "    for mean, std, params in zip(means, stds, clf.cv_results_['params']):\n",
    "        print(\"%0.3f (+/-%0.03f) for %r\"\n",
    "              % (mean, std * 2, params))\n",
    "    print()\n",
    "\n",
    "    print(\"Detailed classification report:\")\n",
    "    print()\n",
    "    print(\"The model is trained on the full development set.\")\n",
    "    print(\"The scores are computed on the full evaluation set.\")\n",
    "    print()\n",
    "    y_true, y_pred = y_test, clf.predict(X_test)\n",
    "    print(classification_report(y_true, y_pred))\n",
    "    print()"
   ]
  },
  {
   "cell_type": "code",
   "execution_count": 12,
   "metadata": {
    "collapsed": false
   },
   "outputs": [
    {
     "name": "stderr",
     "output_type": "stream",
     "text": [
      "C:\\Users\\Annisa\\Anaconda3\\lib\\site-packages\\sklearn\\model_selection\\_search.py:667: DeprecationWarning: The grid_scores_ attribute was deprecated in version 0.18 in favor of the more elaborate cv_results_ attribute. The grid_scores_ attribute will not be available from 0.20\n",
      "  DeprecationWarning)\n"
     ]
    },
    {
     "data": {
      "text/plain": [
       "[mean: 0.50000, std: 0.00000, params: {'C': 1, 'gamma': 1, 'kernel': 'rbf'},\n",
       " mean: 0.50636, std: 0.01250, params: {'C': 1, 'gamma': 0.1, 'kernel': 'rbf'},\n",
       " mean: 0.96597, std: 0.01520, params: {'C': 1, 'gamma': 0.001, 'kernel': 'rbf'},\n",
       " mean: 0.78254, std: 0.06521, params: {'C': 1, 'gamma': 0.0001, 'kernel': 'rbf'},\n",
       " mean: 0.50000, std: 0.00000, params: {'C': 1, 'gamma': 1e-05, 'kernel': 'rbf'},\n",
       " mean: 0.50000, std: 0.00000, params: {'C': 2, 'gamma': 1, 'kernel': 'rbf'},\n",
       " mean: 0.51279, std: 0.02093, params: {'C': 2, 'gamma': 0.1, 'kernel': 'rbf'},\n",
       " mean: 0.95789, std: 0.02118, params: {'C': 2, 'gamma': 0.001, 'kernel': 'rbf'},\n",
       " mean: 0.93565, std: 0.03230, params: {'C': 2, 'gamma': 0.0001, 'kernel': 'rbf'},\n",
       " mean: 0.51928, std: 0.02522, params: {'C': 2, 'gamma': 1e-05, 'kernel': 'rbf'},\n",
       " mean: 0.50000, std: 0.00000, params: {'C': 4, 'gamma': 1, 'kernel': 'rbf'},\n",
       " mean: 0.51279, std: 0.02093, params: {'C': 4, 'gamma': 0.1, 'kernel': 'rbf'},\n",
       " mean: 0.95310, std: 0.02368, params: {'C': 4, 'gamma': 0.001, 'kernel': 'rbf'},\n",
       " mean: 0.96451, std: 0.01987, params: {'C': 4, 'gamma': 0.0001, 'kernel': 'rbf'},\n",
       " mean: 0.80829, std: 0.06700, params: {'C': 4, 'gamma': 1e-05, 'kernel': 'rbf'},\n",
       " mean: 0.50000, std: 0.00000, params: {'C': 8, 'gamma': 1, 'kernel': 'rbf'},\n",
       " mean: 0.51279, std: 0.02093, params: {'C': 8, 'gamma': 0.1, 'kernel': 'rbf'},\n",
       " mean: 0.95142, std: 0.02648, params: {'C': 8, 'gamma': 0.001, 'kernel': 'rbf'},\n",
       " mean: 0.96267, std: 0.01935, params: {'C': 8, 'gamma': 0.0001, 'kernel': 'rbf'},\n",
       " mean: 0.93565, std: 0.03398, params: {'C': 8, 'gamma': 1e-05, 'kernel': 'rbf'},\n",
       " mean: 0.50000, std: 0.00000, params: {'C': 10, 'gamma': 1, 'kernel': 'rbf'},\n",
       " mean: 0.51279, std: 0.02093, params: {'C': 10, 'gamma': 0.1, 'kernel': 'rbf'},\n",
       " mean: 0.95129, std: 0.01988, params: {'C': 10, 'gamma': 0.001, 'kernel': 'rbf'},\n",
       " mean: 0.96267, std: 0.01935, params: {'C': 10, 'gamma': 0.0001, 'kernel': 'rbf'},\n",
       " mean: 0.95654, std: 0.02745, params: {'C': 10, 'gamma': 1e-05, 'kernel': 'rbf'},\n",
       " mean: 0.50000, std: 0.00000, params: {'C': 20, 'gamma': 1, 'kernel': 'rbf'},\n",
       " mean: 0.51279, std: 0.02093, params: {'C': 20, 'gamma': 0.1, 'kernel': 'rbf'},\n",
       " mean: 0.95443, std: 0.01956, params: {'C': 20, 'gamma': 0.001, 'kernel': 'rbf'},\n",
       " mean: 0.96748, std: 0.01649, params: {'C': 20, 'gamma': 0.0001, 'kernel': 'rbf'},\n",
       " mean: 0.96119, std: 0.02301, params: {'C': 20, 'gamma': 1e-05, 'kernel': 'rbf'}]"
      ]
     },
     "execution_count": 12,
     "metadata": {},
     "output_type": "execute_result"
    }
   ],
   "source": [
    "clf.grid_scores_"
   ]
  },
  {
   "cell_type": "code",
   "execution_count": 13,
   "metadata": {
    "collapsed": false
   },
   "outputs": [
    {
     "name": "stdout",
     "output_type": "stream",
     "text": [
      "Best accuracy obtained: 0.9674781181619255\n",
      "Parameters:\n",
      "\tC: 20\n",
      "\tgamma: 0.0001\n",
      "\tkernel: rbf\n"
     ]
    }
   ],
   "source": [
    "print(\"Best accuracy obtained: {0}\".format(clf.best_score_))\n",
    "print(\"Parameters:\")\n",
    "for key, value in clf.best_params_.items():\n",
    "    print(\"\\t{}: {}\".format(key, value))"
   ]
  },
  {
   "cell_type": "code",
   "execution_count": 14,
   "metadata": {
    "collapsed": false
   },
   "outputs": [
    {
     "data": {
      "text/plain": [
       "SVC(C=20, cache_size=200, class_weight=None, coef0=0.0,\n",
       "  decision_function_shape=None, degree=3, gamma=0.0001, kernel='rbf',\n",
       "  max_iter=-1, probability=False, random_state=None, shrinking=True,\n",
       "  tol=0.001, verbose=False)"
      ]
     },
     "execution_count": 14,
     "metadata": {},
     "output_type": "execute_result"
    }
   ],
   "source": [
    "clf.best_estimator_"
   ]
  },
  {
   "cell_type": "code",
   "execution_count": 16,
   "metadata": {
    "collapsed": false
   },
   "outputs": [
    {
     "data": {
      "text/plain": [
       "SVC(C=20, cache_size=200, class_weight=None, coef0=0.0,\n",
       "  decision_function_shape=None, degree=3, gamma=0.0001, kernel='rbf',\n",
       "  max_iter=-1, probability=False, random_state=None, shrinking=True,\n",
       "  tol=0.001, verbose=False)"
      ]
     },
     "execution_count": 16,
     "metadata": {},
     "output_type": "execute_result"
    }
   ],
   "source": [
    "svc2=svm.SVC(C=20, cache_size=200, class_weight=None, coef0=0.0,\n",
    "  decision_function_shape=None, degree=3, gamma=0.0001, kernel='rbf',\n",
    "  max_iter=-1, probability=False, random_state=None, shrinking=True,\n",
    "  tol=0.001, verbose=False)\n",
    "svc2.fit(X_train,y_train)"
   ]
  },
  {
   "cell_type": "code",
   "execution_count": 17,
   "metadata": {
    "collapsed": false
   },
   "outputs": [
    {
     "name": "stdout",
     "output_type": "stream",
     "text": [
      "Akurasi: 0.9646\n",
      "Precision: 0.9750\n",
      "Recall: 0.9286\n",
      "F1: 0.9512\n"
     ]
    }
   ],
   "source": [
    "y_pred2 = svc2.predict(X_test)\n",
    "accuracy = accuracy_score(y_test, y_pred2)\n",
    "precision, recall, f1, _ = precision_recall_fscore_support(y_test, y_pred2)\n",
    "print (('Akurasi: %.4f') % (accuracy))\n",
    "print (('Precision: %.4f') % (precision[1]))\n",
    "print (('Recall: %.4f') % (recall[1]))\n",
    "print (('F1: %.4f') % (f1[1]))"
   ]
  },
  {
   "cell_type": "code",
   "execution_count": 18,
   "metadata": {
    "collapsed": false
   },
   "outputs": [],
   "source": [
    "from sklearn.model_selection import RandomizedSearchCV"
   ]
  },
  {
   "cell_type": "code",
   "execution_count": 19,
   "metadata": {
    "collapsed": true
   },
   "outputs": [],
   "source": [
    "parameters = {\n",
    "    'C':            np.arange( 1, 100+1, 1 ).tolist(),\n",
    "    'kernel':       ['rbf'],                 \n",
    "    'degree':       np.arange( 0, 100+0, 1 ).tolist(),\n",
    "    'gamma':        np.arange( 0.0, 10.0+0.0, 0.1 ).tolist(),\n",
    "    'coef0':        np.arange( 0.0, 10.0+0.0, 0.1 ).tolist(),\n",
    "    'shrinking':    [True],\n",
    "    'probability':  [False],\n",
    "    'tol':          np.arange( 0.001, 0.01+0.001, 0.001 ).tolist(),\n",
    "    'cache_size':   [2000],\n",
    "    'class_weight': [None],\n",
    "    'verbose':      [False],\n",
    "    'max_iter':     [-1],\n",
    "    'random_state': [42],\n",
    "    }"
   ]
  },
  {
   "cell_type": "code",
   "execution_count": 20,
   "metadata": {
    "collapsed": true
   },
   "outputs": [],
   "source": [
    "random_search = RandomizedSearchCV( n_iter              = 500,\n",
    "                                    estimator           = svm.SVC(),\n",
    "                                    param_distributions = parameters,\n",
    "                                    n_jobs              = 4,\n",
    "                                    iid                 = True,\n",
    "                                    refit               = True,\n",
    "                                    cv                  = 5,\n",
    "                                    verbose             = 1,\n",
    "                                    pre_dispatch        = '2*n_jobs'\n",
    "                                    )         \n"
   ]
  },
  {
   "cell_type": "code",
   "execution_count": 21,
   "metadata": {
    "collapsed": false
   },
   "outputs": [
    {
     "name": "stdout",
     "output_type": "stream",
     "text": [
      "Fitting 5 folds for each of 500 candidates, totalling 2500 fits\n"
     ]
    },
    {
     "name": "stderr",
     "output_type": "stream",
     "text": [
      "[Parallel(n_jobs=4)]: Done  45 tasks      | elapsed:    5.9s\n",
      "[Parallel(n_jobs=4)]: Done 345 tasks      | elapsed:   12.3s\n",
      "[Parallel(n_jobs=4)]: Done 845 tasks      | elapsed:   22.8s\n",
      "[Parallel(n_jobs=4)]: Done 1545 tasks      | elapsed:   37.6s\n",
      "[Parallel(n_jobs=4)]: Done 2445 tasks      | elapsed:   56.5s\n",
      "[Parallel(n_jobs=4)]: Done 2493 out of 2500 | elapsed:   57.6s remaining:    0.1s\n",
      "[Parallel(n_jobs=4)]: Done 2500 out of 2500 | elapsed:   57.6s finished\n"
     ]
    },
    {
     "data": {
      "text/plain": [
       "RandomizedSearchCV(cv=5, error_score='raise',\n",
       "          estimator=SVC(C=1.0, cache_size=200, class_weight=None, coef0=0.0,\n",
       "  decision_function_shape=None, degree=3, gamma='auto', kernel='rbf',\n",
       "  max_iter=-1, probability=False, random_state=None, shrinking=True,\n",
       "  tol=0.001, verbose=False),\n",
       "          fit_params={}, iid=True, n_iter=500, n_jobs=4,\n",
       "          param_distributions={'C': [1, 2, 3, 4, 5, 6, 7, 8, 9, 10, 11, 12, 13, 14, 15, 16, 17, 18, 19, 20, 21, 22, 23, 24, 25, 26, 27, 28, 29, 30, 31, 32, 33, 34, 35, 36, 37, 38, 39, 40, 41, 42, 43, 44, 45, 46, 47, 48, 49, 50, 51, 52, 53, 54, 55, 56, 57, 58, 59, 60, 61, 62, 63, 64, 65, 66, 67, 68, 69, 70, 71...e_size': [2000], 'class_weight': [None], 'verbose': [False], 'max_iter': [-1], 'random_state': [42]},\n",
       "          pre_dispatch='2*n_jobs', random_state=None, refit=True,\n",
       "          return_train_score=True, scoring=None, verbose=1)"
      ]
     },
     "execution_count": 21,
     "metadata": {},
     "output_type": "execute_result"
    }
   ],
   "source": [
    "random_search.fit(X_train,y_train )\n"
   ]
  },
  {
   "cell_type": "code",
   "execution_count": 22,
   "metadata": {
    "collapsed": false
   },
   "outputs": [
    {
     "name": "stdout",
     "output_type": "stream",
     "text": [
      "SVC(C=52, cache_size=2000, class_weight=None, coef0=4.0,\n",
      "  decision_function_shape=None, degree=73, gamma=0.1, kernel='rbf',\n",
      "  max_iter=-1, probability=False, random_state=42, shrinking=True,\n",
      "  tol=0.004, verbose=False)\n"
     ]
    }
   ],
   "source": [
    "print( random_search.best_estimator_ )"
   ]
  },
  {
   "cell_type": "code",
   "execution_count": 23,
   "metadata": {
    "collapsed": false
   },
   "outputs": [
    {
     "name": "stderr",
     "output_type": "stream",
     "text": [
      "C:\\Users\\Annisa\\Anaconda3\\lib\\site-packages\\sklearn\\model_selection\\_search.py:667: DeprecationWarning: The grid_scores_ attribute was deprecated in version 0.18 in favor of the more elaborate cv_results_ attribute. The grid_scores_ attribute will not be available from 0.20\n",
      "  DeprecationWarning)\n"
     ]
    },
    {
     "data": {
      "text/plain": [
       "[mean: 0.66083, std: 0.00181, params: {'verbose': False, 'tol': 0.003, 'shrinking': True, 'random_state': 42, 'probability': False, 'max_iter': -1, 'kernel': 'rbf', 'gamma': 6.4, 'degree': 81, 'coef0': 7.1000000000000005, 'class_weight': None, 'cache_size': 2000, 'C': 99},\n",
       " mean: 0.66083, std: 0.00181, params: {'verbose': False, 'tol': 0.008, 'shrinking': True, 'random_state': 42, 'probability': False, 'max_iter': -1, 'kernel': 'rbf', 'gamma': 1.1, 'degree': 58, 'coef0': 1.3, 'class_weight': None, 'cache_size': 2000, 'C': 49},\n",
       " mean: 0.66083, std: 0.00181, params: {'verbose': False, 'tol': 0.010000000000000002, 'shrinking': True, 'random_state': 42, 'probability': False, 'max_iter': -1, 'kernel': 'rbf', 'gamma': 4.2, 'degree': 7, 'coef0': 3.6, 'class_weight': None, 'cache_size': 2000, 'C': 60},\n",
       " mean: 0.66083, std: 0.00181, params: {'verbose': False, 'tol': 0.004, 'shrinking': True, 'random_state': 42, 'probability': False, 'max_iter': -1, 'kernel': 'rbf', 'gamma': 9.700000000000001, 'degree': 11, 'coef0': 7.0, 'class_weight': None, 'cache_size': 2000, 'C': 45},\n",
       " mean: 0.66083, std: 0.00181, params: {'verbose': False, 'tol': 0.004, 'shrinking': True, 'random_state': 42, 'probability': False, 'max_iter': -1, 'kernel': 'rbf', 'gamma': 5.9, 'degree': 0, 'coef0': 4.3, 'class_weight': None, 'cache_size': 2000, 'C': 92},\n",
       " mean: 0.66083, std: 0.00181, params: {'verbose': False, 'tol': 0.004, 'shrinking': True, 'random_state': 42, 'probability': False, 'max_iter': -1, 'kernel': 'rbf', 'gamma': 1.9000000000000001, 'degree': 25, 'coef0': 0.0, 'class_weight': None, 'cache_size': 2000, 'C': 40},\n",
       " mean: 0.66083, std: 0.00181, params: {'verbose': False, 'tol': 0.006, 'shrinking': True, 'random_state': 42, 'probability': False, 'max_iter': -1, 'kernel': 'rbf', 'gamma': 5.0, 'degree': 14, 'coef0': 5.2, 'class_weight': None, 'cache_size': 2000, 'C': 6},\n",
       " mean: 0.66083, std: 0.00181, params: {'verbose': False, 'tol': 0.002, 'shrinking': True, 'random_state': 42, 'probability': False, 'max_iter': -1, 'kernel': 'rbf', 'gamma': 6.2, 'degree': 58, 'coef0': 6.6000000000000005, 'class_weight': None, 'cache_size': 2000, 'C': 67},\n",
       " mean: 0.66083, std: 0.00181, params: {'verbose': False, 'tol': 0.001, 'shrinking': True, 'random_state': 42, 'probability': False, 'max_iter': -1, 'kernel': 'rbf', 'gamma': 6.300000000000001, 'degree': 57, 'coef0': 7.300000000000001, 'class_weight': None, 'cache_size': 2000, 'C': 86},\n",
       " mean: 0.66083, std: 0.00181, params: {'verbose': False, 'tol': 0.006, 'shrinking': True, 'random_state': 42, 'probability': False, 'max_iter': -1, 'kernel': 'rbf', 'gamma': 2.4000000000000004, 'degree': 99, 'coef0': 2.4000000000000004, 'class_weight': None, 'cache_size': 2000, 'C': 87},\n",
       " mean: 0.66083, std: 0.00181, params: {'verbose': False, 'tol': 0.005, 'shrinking': True, 'random_state': 42, 'probability': False, 'max_iter': -1, 'kernel': 'rbf', 'gamma': 6.2, 'degree': 23, 'coef0': 8.0, 'class_weight': None, 'cache_size': 2000, 'C': 52},\n",
       " mean: 0.66083, std: 0.00181, params: {'verbose': False, 'tol': 0.001, 'shrinking': True, 'random_state': 42, 'probability': False, 'max_iter': -1, 'kernel': 'rbf', 'gamma': 8.1, 'degree': 38, 'coef0': 3.7, 'class_weight': None, 'cache_size': 2000, 'C': 88},\n",
       " mean: 0.66083, std: 0.00181, params: {'verbose': False, 'tol': 0.009000000000000001, 'shrinking': True, 'random_state': 42, 'probability': False, 'max_iter': -1, 'kernel': 'rbf', 'gamma': 9.5, 'degree': 90, 'coef0': 4.800000000000001, 'class_weight': None, 'cache_size': 2000, 'C': 35},\n",
       " mean: 0.66083, std: 0.00181, params: {'verbose': False, 'tol': 0.009000000000000001, 'shrinking': True, 'random_state': 42, 'probability': False, 'max_iter': -1, 'kernel': 'rbf', 'gamma': 1.0, 'degree': 81, 'coef0': 3.0, 'class_weight': None, 'cache_size': 2000, 'C': 62},\n",
       " mean: 0.66083, std: 0.00181, params: {'verbose': False, 'tol': 0.004, 'shrinking': True, 'random_state': 42, 'probability': False, 'max_iter': -1, 'kernel': 'rbf', 'gamma': 9.1, 'degree': 66, 'coef0': 2.0, 'class_weight': None, 'cache_size': 2000, 'C': 48},\n",
       " mean: 0.66083, std: 0.00181, params: {'verbose': False, 'tol': 0.010000000000000002, 'shrinking': True, 'random_state': 42, 'probability': False, 'max_iter': -1, 'kernel': 'rbf', 'gamma': 8.700000000000001, 'degree': 50, 'coef0': 3.7, 'class_weight': None, 'cache_size': 2000, 'C': 51},\n",
       " mean: 0.66083, std: 0.00181, params: {'verbose': False, 'tol': 0.006, 'shrinking': True, 'random_state': 42, 'probability': False, 'max_iter': -1, 'kernel': 'rbf', 'gamma': 2.7, 'degree': 10, 'coef0': 7.4, 'class_weight': None, 'cache_size': 2000, 'C': 100},\n",
       " mean: 0.66083, std: 0.00181, params: {'verbose': False, 'tol': 0.003, 'shrinking': True, 'random_state': 42, 'probability': False, 'max_iter': -1, 'kernel': 'rbf', 'gamma': 2.8000000000000003, 'degree': 71, 'coef0': 3.6, 'class_weight': None, 'cache_size': 2000, 'C': 24},\n",
       " mean: 0.66083, std: 0.00181, params: {'verbose': False, 'tol': 0.006, 'shrinking': True, 'random_state': 42, 'probability': False, 'max_iter': -1, 'kernel': 'rbf', 'gamma': 1.3, 'degree': 37, 'coef0': 4.5, 'class_weight': None, 'cache_size': 2000, 'C': 90},\n",
       " mean: 0.66083, std: 0.00181, params: {'verbose': False, 'tol': 0.008, 'shrinking': True, 'random_state': 42, 'probability': False, 'max_iter': -1, 'kernel': 'rbf', 'gamma': 3.8000000000000003, 'degree': 76, 'coef0': 2.0, 'class_weight': None, 'cache_size': 2000, 'C': 33},\n",
       " mean: 0.66083, std: 0.00181, params: {'verbose': False, 'tol': 0.009000000000000001, 'shrinking': True, 'random_state': 42, 'probability': False, 'max_iter': -1, 'kernel': 'rbf', 'gamma': 0.2, 'degree': 65, 'coef0': 3.2, 'class_weight': None, 'cache_size': 2000, 'C': 97},\n",
       " mean: 0.66083, std: 0.00181, params: {'verbose': False, 'tol': 0.005, 'shrinking': True, 'random_state': 42, 'probability': False, 'max_iter': -1, 'kernel': 'rbf', 'gamma': 1.7000000000000002, 'degree': 73, 'coef0': 9.1, 'class_weight': None, 'cache_size': 2000, 'C': 41},\n",
       " mean: 0.66083, std: 0.00181, params: {'verbose': False, 'tol': 0.007, 'shrinking': True, 'random_state': 42, 'probability': False, 'max_iter': -1, 'kernel': 'rbf', 'gamma': 9.0, 'degree': 60, 'coef0': 1.4000000000000001, 'class_weight': None, 'cache_size': 2000, 'C': 85},\n",
       " mean: 0.66083, std: 0.00181, params: {'verbose': False, 'tol': 0.002, 'shrinking': True, 'random_state': 42, 'probability': False, 'max_iter': -1, 'kernel': 'rbf', 'gamma': 4.800000000000001, 'degree': 31, 'coef0': 3.0, 'class_weight': None, 'cache_size': 2000, 'C': 30},\n",
       " mean: 0.66083, std: 0.00181, params: {'verbose': False, 'tol': 0.004, 'shrinking': True, 'random_state': 42, 'probability': False, 'max_iter': -1, 'kernel': 'rbf', 'gamma': 5.2, 'degree': 59, 'coef0': 3.8000000000000003, 'class_weight': None, 'cache_size': 2000, 'C': 97},\n",
       " mean: 0.66083, std: 0.00181, params: {'verbose': False, 'tol': 0.002, 'shrinking': True, 'random_state': 42, 'probability': False, 'max_iter': -1, 'kernel': 'rbf', 'gamma': 9.3, 'degree': 76, 'coef0': 1.9000000000000001, 'class_weight': None, 'cache_size': 2000, 'C': 86},\n",
       " mean: 0.66083, std: 0.00181, params: {'verbose': False, 'tol': 0.007, 'shrinking': True, 'random_state': 42, 'probability': False, 'max_iter': -1, 'kernel': 'rbf', 'gamma': 3.8000000000000003, 'degree': 68, 'coef0': 4.6000000000000005, 'class_weight': None, 'cache_size': 2000, 'C': 99},\n",
       " mean: 0.66083, std: 0.00181, params: {'verbose': False, 'tol': 0.003, 'shrinking': True, 'random_state': 42, 'probability': False, 'max_iter': -1, 'kernel': 'rbf', 'gamma': 3.8000000000000003, 'degree': 53, 'coef0': 4.3, 'class_weight': None, 'cache_size': 2000, 'C': 82},\n",
       " mean: 0.66083, std: 0.00181, params: {'verbose': False, 'tol': 0.009000000000000001, 'shrinking': True, 'random_state': 42, 'probability': False, 'max_iter': -1, 'kernel': 'rbf', 'gamma': 5.6000000000000005, 'degree': 10, 'coef0': 3.4000000000000004, 'class_weight': None, 'cache_size': 2000, 'C': 82},\n",
       " mean: 0.66083, std: 0.00181, params: {'verbose': False, 'tol': 0.010000000000000002, 'shrinking': True, 'random_state': 42, 'probability': False, 'max_iter': -1, 'kernel': 'rbf', 'gamma': 7.2, 'degree': 42, 'coef0': 0.9, 'class_weight': None, 'cache_size': 2000, 'C': 24},\n",
       " mean: 0.66083, std: 0.00181, params: {'verbose': False, 'tol': 0.002, 'shrinking': True, 'random_state': 42, 'probability': False, 'max_iter': -1, 'kernel': 'rbf', 'gamma': 4.800000000000001, 'degree': 19, 'coef0': 1.3, 'class_weight': None, 'cache_size': 2000, 'C': 25},\n",
       " mean: 0.66083, std: 0.00181, params: {'verbose': False, 'tol': 0.001, 'shrinking': True, 'random_state': 42, 'probability': False, 'max_iter': -1, 'kernel': 'rbf', 'gamma': 6.5, 'degree': 55, 'coef0': 5.800000000000001, 'class_weight': None, 'cache_size': 2000, 'C': 26},\n",
       " mean: 0.66083, std: 0.00181, params: {'verbose': False, 'tol': 0.008, 'shrinking': True, 'random_state': 42, 'probability': False, 'max_iter': -1, 'kernel': 'rbf', 'gamma': 5.5, 'degree': 66, 'coef0': 3.1, 'class_weight': None, 'cache_size': 2000, 'C': 50},\n",
       " mean: 0.66083, std: 0.00181, params: {'verbose': False, 'tol': 0.002, 'shrinking': True, 'random_state': 42, 'probability': False, 'max_iter': -1, 'kernel': 'rbf', 'gamma': 9.4, 'degree': 38, 'coef0': 0.6000000000000001, 'class_weight': None, 'cache_size': 2000, 'C': 8},\n",
       " mean: 0.66083, std: 0.00181, params: {'verbose': False, 'tol': 0.006, 'shrinking': True, 'random_state': 42, 'probability': False, 'max_iter': -1, 'kernel': 'rbf', 'gamma': 3.0, 'degree': 66, 'coef0': 9.5, 'class_weight': None, 'cache_size': 2000, 'C': 34},\n",
       " mean: 0.66083, std: 0.00181, params: {'verbose': False, 'tol': 0.001, 'shrinking': True, 'random_state': 42, 'probability': False, 'max_iter': -1, 'kernel': 'rbf', 'gamma': 7.7, 'degree': 19, 'coef0': 2.6, 'class_weight': None, 'cache_size': 2000, 'C': 56},\n",
       " mean: 0.66083, std: 0.00181, params: {'verbose': False, 'tol': 0.002, 'shrinking': True, 'random_state': 42, 'probability': False, 'max_iter': -1, 'kernel': 'rbf', 'gamma': 3.6, 'degree': 0, 'coef0': 3.1, 'class_weight': None, 'cache_size': 2000, 'C': 32},\n",
       " mean: 0.66083, std: 0.00181, params: {'verbose': False, 'tol': 0.001, 'shrinking': True, 'random_state': 42, 'probability': False, 'max_iter': -1, 'kernel': 'rbf', 'gamma': 8.5, 'degree': 77, 'coef0': 4.1000000000000005, 'class_weight': None, 'cache_size': 2000, 'C': 77},\n",
       " mean: 0.66083, std: 0.00181, params: {'verbose': False, 'tol': 0.001, 'shrinking': True, 'random_state': 42, 'probability': False, 'max_iter': -1, 'kernel': 'rbf', 'gamma': 9.700000000000001, 'degree': 57, 'coef0': 4.4, 'class_weight': None, 'cache_size': 2000, 'C': 38},\n",
       " mean: 0.66083, std: 0.00181, params: {'verbose': False, 'tol': 0.001, 'shrinking': True, 'random_state': 42, 'probability': False, 'max_iter': -1, 'kernel': 'rbf', 'gamma': 2.4000000000000004, 'degree': 40, 'coef0': 3.3000000000000003, 'class_weight': None, 'cache_size': 2000, 'C': 28},\n",
       " mean: 0.66083, std: 0.00181, params: {'verbose': False, 'tol': 0.008, 'shrinking': True, 'random_state': 42, 'probability': False, 'max_iter': -1, 'kernel': 'rbf', 'gamma': 7.0, 'degree': 30, 'coef0': 0.2, 'class_weight': None, 'cache_size': 2000, 'C': 91},\n",
       " mean: 0.66083, std: 0.00181, params: {'verbose': False, 'tol': 0.003, 'shrinking': True, 'random_state': 42, 'probability': False, 'max_iter': -1, 'kernel': 'rbf', 'gamma': 5.4, 'degree': 61, 'coef0': 6.2, 'class_weight': None, 'cache_size': 2000, 'C': 88},\n",
       " mean: 0.66083, std: 0.00181, params: {'verbose': False, 'tol': 0.002, 'shrinking': True, 'random_state': 42, 'probability': False, 'max_iter': -1, 'kernel': 'rbf', 'gamma': 7.300000000000001, 'degree': 78, 'coef0': 8.700000000000001, 'class_weight': None, 'cache_size': 2000, 'C': 84},\n",
       " mean: 0.66083, std: 0.00181, params: {'verbose': False, 'tol': 0.010000000000000002, 'shrinking': True, 'random_state': 42, 'probability': False, 'max_iter': -1, 'kernel': 'rbf', 'gamma': 5.300000000000001, 'degree': 54, 'coef0': 1.4000000000000001, 'class_weight': None, 'cache_size': 2000, 'C': 36},\n",
       " mean: 0.66083, std: 0.00181, params: {'verbose': False, 'tol': 0.009000000000000001, 'shrinking': True, 'random_state': 42, 'probability': False, 'max_iter': -1, 'kernel': 'rbf', 'gamma': 6.6000000000000005, 'degree': 23, 'coef0': 0.8, 'class_weight': None, 'cache_size': 2000, 'C': 59},\n",
       " mean: 0.66083, std: 0.00181, params: {'verbose': False, 'tol': 0.006, 'shrinking': True, 'random_state': 42, 'probability': False, 'max_iter': -1, 'kernel': 'rbf', 'gamma': 4.2, 'degree': 15, 'coef0': 5.1000000000000005, 'class_weight': None, 'cache_size': 2000, 'C': 48},\n",
       " mean: 0.66083, std: 0.00181, params: {'verbose': False, 'tol': 0.007, 'shrinking': True, 'random_state': 42, 'probability': False, 'max_iter': -1, 'kernel': 'rbf', 'gamma': 3.3000000000000003, 'degree': 88, 'coef0': 4.9, 'class_weight': None, 'cache_size': 2000, 'C': 87},\n",
       " mean: 0.66083, std: 0.00181, params: {'verbose': False, 'tol': 0.004, 'shrinking': True, 'random_state': 42, 'probability': False, 'max_iter': -1, 'kernel': 'rbf', 'gamma': 2.0, 'degree': 6, 'coef0': 9.200000000000001, 'class_weight': None, 'cache_size': 2000, 'C': 50},\n",
       " mean: 0.66083, std: 0.00181, params: {'verbose': False, 'tol': 0.010000000000000002, 'shrinking': True, 'random_state': 42, 'probability': False, 'max_iter': -1, 'kernel': 'rbf', 'gamma': 0.9, 'degree': 67, 'coef0': 8.200000000000001, 'class_weight': None, 'cache_size': 2000, 'C': 61},\n",
       " mean: 0.66083, std: 0.00181, params: {'verbose': False, 'tol': 0.003, 'shrinking': True, 'random_state': 42, 'probability': False, 'max_iter': -1, 'kernel': 'rbf', 'gamma': 7.800000000000001, 'degree': 43, 'coef0': 4.7, 'class_weight': None, 'cache_size': 2000, 'C': 78},\n",
       " mean: 0.66083, std: 0.00181, params: {'verbose': False, 'tol': 0.002, 'shrinking': True, 'random_state': 42, 'probability': False, 'max_iter': -1, 'kernel': 'rbf', 'gamma': 5.2, 'degree': 21, 'coef0': 5.6000000000000005, 'class_weight': None, 'cache_size': 2000, 'C': 77},\n",
       " mean: 0.66083, std: 0.00181, params: {'verbose': False, 'tol': 0.004, 'shrinking': True, 'random_state': 42, 'probability': False, 'max_iter': -1, 'kernel': 'rbf', 'gamma': 3.7, 'degree': 78, 'coef0': 2.0, 'class_weight': None, 'cache_size': 2000, 'C': 10},\n",
       " mean: 0.66083, std: 0.00181, params: {'verbose': False, 'tol': 0.001, 'shrinking': True, 'random_state': 42, 'probability': False, 'max_iter': -1, 'kernel': 'rbf', 'gamma': 8.5, 'degree': 2, 'coef0': 3.7, 'class_weight': None, 'cache_size': 2000, 'C': 61},\n",
       " mean: 0.66083, std: 0.00181, params: {'verbose': False, 'tol': 0.008, 'shrinking': True, 'random_state': 42, 'probability': False, 'max_iter': -1, 'kernel': 'rbf', 'gamma': 8.6, 'degree': 2, 'coef0': 7.2, 'class_weight': None, 'cache_size': 2000, 'C': 39},\n",
       " mean: 0.66083, std: 0.00181, params: {'verbose': False, 'tol': 0.004, 'shrinking': True, 'random_state': 42, 'probability': False, 'max_iter': -1, 'kernel': 'rbf', 'gamma': 6.300000000000001, 'degree': 21, 'coef0': 9.600000000000001, 'class_weight': None, 'cache_size': 2000, 'C': 7},\n",
       " mean: 0.66083, std: 0.00181, params: {'verbose': False, 'tol': 0.002, 'shrinking': True, 'random_state': 42, 'probability': False, 'max_iter': -1, 'kernel': 'rbf', 'gamma': 2.4000000000000004, 'degree': 28, 'coef0': 6.7, 'class_weight': None, 'cache_size': 2000, 'C': 73},\n",
       " mean: 0.66083, std: 0.00181, params: {'verbose': False, 'tol': 0.002, 'shrinking': True, 'random_state': 42, 'probability': False, 'max_iter': -1, 'kernel': 'rbf', 'gamma': 2.8000000000000003, 'degree': 36, 'coef0': 6.9, 'class_weight': None, 'cache_size': 2000, 'C': 40},\n",
       " mean: 0.66083, std: 0.00181, params: {'verbose': False, 'tol': 0.005, 'shrinking': True, 'random_state': 42, 'probability': False, 'max_iter': -1, 'kernel': 'rbf', 'gamma': 7.1000000000000005, 'degree': 54, 'coef0': 6.9, 'class_weight': None, 'cache_size': 2000, 'C': 65},\n",
       " mean: 0.66083, std: 0.00181, params: {'verbose': False, 'tol': 0.003, 'shrinking': True, 'random_state': 42, 'probability': False, 'max_iter': -1, 'kernel': 'rbf', 'gamma': 2.3000000000000003, 'degree': 33, 'coef0': 9.700000000000001, 'class_weight': None, 'cache_size': 2000, 'C': 6},\n",
       " mean: 0.66083, std: 0.00181, params: {'verbose': False, 'tol': 0.005, 'shrinking': True, 'random_state': 42, 'probability': False, 'max_iter': -1, 'kernel': 'rbf', 'gamma': 1.0, 'degree': 80, 'coef0': 9.5, 'class_weight': None, 'cache_size': 2000, 'C': 17},\n",
       " mean: 0.66083, std: 0.00181, params: {'verbose': False, 'tol': 0.003, 'shrinking': True, 'random_state': 42, 'probability': False, 'max_iter': -1, 'kernel': 'rbf', 'gamma': 4.9, 'degree': 14, 'coef0': 2.4000000000000004, 'class_weight': None, 'cache_size': 2000, 'C': 8},\n",
       " mean: 0.66083, std: 0.00181, params: {'verbose': False, 'tol': 0.006, 'shrinking': True, 'random_state': 42, 'probability': False, 'max_iter': -1, 'kernel': 'rbf', 'gamma': 5.1000000000000005, 'degree': 51, 'coef0': 3.9000000000000004, 'class_weight': None, 'cache_size': 2000, 'C': 20},\n",
       " mean: 0.66083, std: 0.00181, params: {'verbose': False, 'tol': 0.010000000000000002, 'shrinking': True, 'random_state': 42, 'probability': False, 'max_iter': -1, 'kernel': 'rbf', 'gamma': 2.3000000000000003, 'degree': 94, 'coef0': 5.5, 'class_weight': None, 'cache_size': 2000, 'C': 46},\n",
       " mean: 0.66083, std: 0.00181, params: {'verbose': False, 'tol': 0.010000000000000002, 'shrinking': True, 'random_state': 42, 'probability': False, 'max_iter': -1, 'kernel': 'rbf', 'gamma': 6.7, 'degree': 84, 'coef0': 8.700000000000001, 'class_weight': None, 'cache_size': 2000, 'C': 89},\n",
       " mean: 0.66083, std: 0.00181, params: {'verbose': False, 'tol': 0.004, 'shrinking': True, 'random_state': 42, 'probability': False, 'max_iter': -1, 'kernel': 'rbf', 'gamma': 5.6000000000000005, 'degree': 21, 'coef0': 2.0, 'class_weight': None, 'cache_size': 2000, 'C': 74},\n",
       " mean: 0.66083, std: 0.00181, params: {'verbose': False, 'tol': 0.005, 'shrinking': True, 'random_state': 42, 'probability': False, 'max_iter': -1, 'kernel': 'rbf', 'gamma': 8.9, 'degree': 27, 'coef0': 7.1000000000000005, 'class_weight': None, 'cache_size': 2000, 'C': 74},\n",
       " mean: 0.66083, std: 0.00181, params: {'verbose': False, 'tol': 0.009000000000000001, 'shrinking': True, 'random_state': 42, 'probability': False, 'max_iter': -1, 'kernel': 'rbf', 'gamma': 7.0, 'degree': 95, 'coef0': 3.1, 'class_weight': None, 'cache_size': 2000, 'C': 54},\n",
       " mean: 0.66083, std: 0.00181, params: {'verbose': False, 'tol': 0.005, 'shrinking': True, 'random_state': 42, 'probability': False, 'max_iter': -1, 'kernel': 'rbf', 'gamma': 6.800000000000001, 'degree': 10, 'coef0': 7.6000000000000005, 'class_weight': None, 'cache_size': 2000, 'C': 78},\n",
       " mean: 0.66083, std: 0.00181, params: {'verbose': False, 'tol': 0.004, 'shrinking': True, 'random_state': 42, 'probability': False, 'max_iter': -1, 'kernel': 'rbf', 'gamma': 9.700000000000001, 'degree': 73, 'coef0': 2.6, 'class_weight': None, 'cache_size': 2000, 'C': 62},\n",
       " mean: 0.66083, std: 0.00181, params: {'verbose': False, 'tol': 0.009000000000000001, 'shrinking': True, 'random_state': 42, 'probability': False, 'max_iter': -1, 'kernel': 'rbf', 'gamma': 5.7, 'degree': 2, 'coef0': 5.7, 'class_weight': None, 'cache_size': 2000, 'C': 35},\n",
       " mean: 0.66083, std: 0.00181, params: {'verbose': False, 'tol': 0.003, 'shrinking': True, 'random_state': 42, 'probability': False, 'max_iter': -1, 'kernel': 'rbf', 'gamma': 7.0, 'degree': 29, 'coef0': 0.6000000000000001, 'class_weight': None, 'cache_size': 2000, 'C': 96},\n",
       " mean: 0.66958, std: 0.00536, params: {'verbose': False, 'tol': 0.004, 'shrinking': True, 'random_state': 42, 'probability': False, 'max_iter': -1, 'kernel': 'rbf', 'gamma': 0.1, 'degree': 73, 'coef0': 4.0, 'class_weight': None, 'cache_size': 2000, 'C': 52},\n",
       " mean: 0.66083, std: 0.00181, params: {'verbose': False, 'tol': 0.003, 'shrinking': True, 'random_state': 42, 'probability': False, 'max_iter': -1, 'kernel': 'rbf', 'gamma': 3.2, 'degree': 55, 'coef0': 4.5, 'class_weight': None, 'cache_size': 2000, 'C': 50},\n",
       " mean: 0.66083, std: 0.00181, params: {'verbose': False, 'tol': 0.010000000000000002, 'shrinking': True, 'random_state': 42, 'probability': False, 'max_iter': -1, 'kernel': 'rbf', 'gamma': 1.5, 'degree': 96, 'coef0': 1.3, 'class_weight': None, 'cache_size': 2000, 'C': 57},\n",
       " mean: 0.66083, std: 0.00181, params: {'verbose': False, 'tol': 0.008, 'shrinking': True, 'random_state': 42, 'probability': False, 'max_iter': -1, 'kernel': 'rbf', 'gamma': 6.2, 'degree': 13, 'coef0': 1.5, 'class_weight': None, 'cache_size': 2000, 'C': 13},\n",
       " mean: 0.66083, std: 0.00181, params: {'verbose': False, 'tol': 0.010000000000000002, 'shrinking': True, 'random_state': 42, 'probability': False, 'max_iter': -1, 'kernel': 'rbf', 'gamma': 8.8, 'degree': 92, 'coef0': 4.5, 'class_weight': None, 'cache_size': 2000, 'C': 24},\n",
       " mean: 0.66083, std: 0.00181, params: {'verbose': False, 'tol': 0.001, 'shrinking': True, 'random_state': 42, 'probability': False, 'max_iter': -1, 'kernel': 'rbf', 'gamma': 4.3, 'degree': 58, 'coef0': 7.2, 'class_weight': None, 'cache_size': 2000, 'C': 37},\n",
       " mean: 0.66083, std: 0.00181, params: {'verbose': False, 'tol': 0.005, 'shrinking': True, 'random_state': 42, 'probability': False, 'max_iter': -1, 'kernel': 'rbf', 'gamma': 0.7000000000000001, 'degree': 72, 'coef0': 6.300000000000001, 'class_weight': None, 'cache_size': 2000, 'C': 11},\n",
       " mean: 0.66083, std: 0.00181, params: {'verbose': False, 'tol': 0.005, 'shrinking': True, 'random_state': 42, 'probability': False, 'max_iter': -1, 'kernel': 'rbf', 'gamma': 4.0, 'degree': 26, 'coef0': 0.7000000000000001, 'class_weight': None, 'cache_size': 2000, 'C': 34},\n",
       " mean: 0.66083, std: 0.00181, params: {'verbose': False, 'tol': 0.001, 'shrinking': True, 'random_state': 42, 'probability': False, 'max_iter': -1, 'kernel': 'rbf', 'gamma': 7.9, 'degree': 44, 'coef0': 1.1, 'class_weight': None, 'cache_size': 2000, 'C': 85},\n",
       " mean: 0.66083, std: 0.00181, params: {'verbose': False, 'tol': 0.008, 'shrinking': True, 'random_state': 42, 'probability': False, 'max_iter': -1, 'kernel': 'rbf', 'gamma': 0.5, 'degree': 70, 'coef0': 1.0, 'class_weight': None, 'cache_size': 2000, 'C': 61},\n",
       " mean: 0.66083, std: 0.00181, params: {'verbose': False, 'tol': 0.008, 'shrinking': True, 'random_state': 42, 'probability': False, 'max_iter': -1, 'kernel': 'rbf', 'gamma': 2.8000000000000003, 'degree': 50, 'coef0': 2.6, 'class_weight': None, 'cache_size': 2000, 'C': 83},\n",
       " mean: 0.66083, std: 0.00181, params: {'verbose': False, 'tol': 0.008, 'shrinking': True, 'random_state': 42, 'probability': False, 'max_iter': -1, 'kernel': 'rbf', 'gamma': 2.0, 'degree': 49, 'coef0': 7.4, 'class_weight': None, 'cache_size': 2000, 'C': 96},\n",
       " mean: 0.66083, std: 0.00181, params: {'verbose': False, 'tol': 0.006, 'shrinking': True, 'random_state': 42, 'probability': False, 'max_iter': -1, 'kernel': 'rbf', 'gamma': 0.7000000000000001, 'degree': 25, 'coef0': 8.9, 'class_weight': None, 'cache_size': 2000, 'C': 90},\n",
       " mean: 0.66083, std: 0.00181, params: {'verbose': False, 'tol': 0.007, 'shrinking': True, 'random_state': 42, 'probability': False, 'max_iter': -1, 'kernel': 'rbf', 'gamma': 6.2, 'degree': 48, 'coef0': 7.9, 'class_weight': None, 'cache_size': 2000, 'C': 89},\n",
       " mean: 0.66083, std: 0.00181, params: {'verbose': False, 'tol': 0.006, 'shrinking': True, 'random_state': 42, 'probability': False, 'max_iter': -1, 'kernel': 'rbf', 'gamma': 7.0, 'degree': 46, 'coef0': 6.7, 'class_weight': None, 'cache_size': 2000, 'C': 46},\n",
       " mean: 0.66083, std: 0.00181, params: {'verbose': False, 'tol': 0.001, 'shrinking': True, 'random_state': 42, 'probability': False, 'max_iter': -1, 'kernel': 'rbf', 'gamma': 7.9, 'degree': 2, 'coef0': 7.6000000000000005, 'class_weight': None, 'cache_size': 2000, 'C': 2},\n",
       " mean: 0.66083, std: 0.00181, params: {'verbose': False, 'tol': 0.005, 'shrinking': True, 'random_state': 42, 'probability': False, 'max_iter': -1, 'kernel': 'rbf', 'gamma': 5.1000000000000005, 'degree': 48, 'coef0': 7.5, 'class_weight': None, 'cache_size': 2000, 'C': 18},\n",
       " mean: 0.66083, std: 0.00181, params: {'verbose': False, 'tol': 0.009000000000000001, 'shrinking': True, 'random_state': 42, 'probability': False, 'max_iter': -1, 'kernel': 'rbf', 'gamma': 3.9000000000000004, 'degree': 77, 'coef0': 5.0, 'class_weight': None, 'cache_size': 2000, 'C': 50},\n",
       " mean: 0.66083, std: 0.00181, params: {'verbose': False, 'tol': 0.007, 'shrinking': True, 'random_state': 42, 'probability': False, 'max_iter': -1, 'kernel': 'rbf', 'gamma': 5.0, 'degree': 21, 'coef0': 6.300000000000001, 'class_weight': None, 'cache_size': 2000, 'C': 88},\n",
       " mean: 0.66083, std: 0.00181, params: {'verbose': False, 'tol': 0.006, 'shrinking': True, 'random_state': 42, 'probability': False, 'max_iter': -1, 'kernel': 'rbf', 'gamma': 6.1000000000000005, 'degree': 68, 'coef0': 2.8000000000000003, 'class_weight': None, 'cache_size': 2000, 'C': 61},\n",
       " mean: 0.66083, std: 0.00181, params: {'verbose': False, 'tol': 0.007, 'shrinking': True, 'random_state': 42, 'probability': False, 'max_iter': -1, 'kernel': 'rbf', 'gamma': 3.6, 'degree': 86, 'coef0': 1.5, 'class_weight': None, 'cache_size': 2000, 'C': 12},\n",
       " mean: 0.66083, std: 0.00181, params: {'verbose': False, 'tol': 0.005, 'shrinking': True, 'random_state': 42, 'probability': False, 'max_iter': -1, 'kernel': 'rbf', 'gamma': 1.7000000000000002, 'degree': 11, 'coef0': 0.1, 'class_weight': None, 'cache_size': 2000, 'C': 90},\n",
       " mean: 0.66083, std: 0.00181, params: {'verbose': False, 'tol': 0.005, 'shrinking': True, 'random_state': 42, 'probability': False, 'max_iter': -1, 'kernel': 'rbf', 'gamma': 4.5, 'degree': 13, 'coef0': 2.6, 'class_weight': None, 'cache_size': 2000, 'C': 22},\n",
       " mean: 0.66083, std: 0.00181, params: {'verbose': False, 'tol': 0.004, 'shrinking': True, 'random_state': 42, 'probability': False, 'max_iter': -1, 'kernel': 'rbf', 'gamma': 3.5, 'degree': 17, 'coef0': 8.3, 'class_weight': None, 'cache_size': 2000, 'C': 42},\n",
       " mean: 0.66083, std: 0.00181, params: {'verbose': False, 'tol': 0.010000000000000002, 'shrinking': True, 'random_state': 42, 'probability': False, 'max_iter': -1, 'kernel': 'rbf', 'gamma': 4.800000000000001, 'degree': 11, 'coef0': 4.2, 'class_weight': None, 'cache_size': 2000, 'C': 27},\n",
       " mean: 0.66083, std: 0.00181, params: {'verbose': False, 'tol': 0.002, 'shrinking': True, 'random_state': 42, 'probability': False, 'max_iter': -1, 'kernel': 'rbf', 'gamma': 8.700000000000001, 'degree': 66, 'coef0': 4.7, 'class_weight': None, 'cache_size': 2000, 'C': 6},\n",
       " mean: 0.66083, std: 0.00181, params: {'verbose': False, 'tol': 0.005, 'shrinking': True, 'random_state': 42, 'probability': False, 'max_iter': -1, 'kernel': 'rbf', 'gamma': 7.2, 'degree': 89, 'coef0': 4.6000000000000005, 'class_weight': None, 'cache_size': 2000, 'C': 20},\n",
       " mean: 0.66083, std: 0.00181, params: {'verbose': False, 'tol': 0.009000000000000001, 'shrinking': True, 'random_state': 42, 'probability': False, 'max_iter': -1, 'kernel': 'rbf', 'gamma': 0.0, 'degree': 40, 'coef0': 7.4, 'class_weight': None, 'cache_size': 2000, 'C': 10},\n",
       " mean: 0.66083, std: 0.00181, params: {'verbose': False, 'tol': 0.002, 'shrinking': True, 'random_state': 42, 'probability': False, 'max_iter': -1, 'kernel': 'rbf', 'gamma': 6.2, 'degree': 8, 'coef0': 8.8, 'class_weight': None, 'cache_size': 2000, 'C': 51},\n",
       " mean: 0.66083, std: 0.00181, params: {'verbose': False, 'tol': 0.005, 'shrinking': True, 'random_state': 42, 'probability': False, 'max_iter': -1, 'kernel': 'rbf', 'gamma': 3.0, 'degree': 45, 'coef0': 5.2, 'class_weight': None, 'cache_size': 2000, 'C': 86},\n",
       " mean: 0.66083, std: 0.00181, params: {'verbose': False, 'tol': 0.009000000000000001, 'shrinking': True, 'random_state': 42, 'probability': False, 'max_iter': -1, 'kernel': 'rbf', 'gamma': 8.0, 'degree': 16, 'coef0': 2.0, 'class_weight': None, 'cache_size': 2000, 'C': 5},\n",
       " mean: 0.66083, std: 0.00181, params: {'verbose': False, 'tol': 0.004, 'shrinking': True, 'random_state': 42, 'probability': False, 'max_iter': -1, 'kernel': 'rbf', 'gamma': 0.8, 'degree': 59, 'coef0': 9.0, 'class_weight': None, 'cache_size': 2000, 'C': 28},\n",
       " mean: 0.66083, std: 0.00181, params: {'verbose': False, 'tol': 0.003, 'shrinking': True, 'random_state': 42, 'probability': False, 'max_iter': -1, 'kernel': 'rbf', 'gamma': 6.9, 'degree': 93, 'coef0': 3.6, 'class_weight': None, 'cache_size': 2000, 'C': 12},\n",
       " mean: 0.66083, std: 0.00181, params: {'verbose': False, 'tol': 0.003, 'shrinking': True, 'random_state': 42, 'probability': False, 'max_iter': -1, 'kernel': 'rbf', 'gamma': 9.9, 'degree': 23, 'coef0': 8.9, 'class_weight': None, 'cache_size': 2000, 'C': 94},\n",
       " mean: 0.66083, std: 0.00181, params: {'verbose': False, 'tol': 0.003, 'shrinking': True, 'random_state': 42, 'probability': False, 'max_iter': -1, 'kernel': 'rbf', 'gamma': 9.200000000000001, 'degree': 40, 'coef0': 5.800000000000001, 'class_weight': None, 'cache_size': 2000, 'C': 2},\n",
       " mean: 0.66083, std: 0.00181, params: {'verbose': False, 'tol': 0.008, 'shrinking': True, 'random_state': 42, 'probability': False, 'max_iter': -1, 'kernel': 'rbf', 'gamma': 0.9, 'degree': 10, 'coef0': 1.2000000000000002, 'class_weight': None, 'cache_size': 2000, 'C': 61},\n",
       " mean: 0.66083, std: 0.00181, params: {'verbose': False, 'tol': 0.009000000000000001, 'shrinking': True, 'random_state': 42, 'probability': False, 'max_iter': -1, 'kernel': 'rbf', 'gamma': 7.9, 'degree': 85, 'coef0': 4.7, 'class_weight': None, 'cache_size': 2000, 'C': 18},\n",
       " mean: 0.66083, std: 0.00181, params: {'verbose': False, 'tol': 0.003, 'shrinking': True, 'random_state': 42, 'probability': False, 'max_iter': -1, 'kernel': 'rbf', 'gamma': 4.2, 'degree': 11, 'coef0': 6.7, 'class_weight': None, 'cache_size': 2000, 'C': 25},\n",
       " mean: 0.66083, std: 0.00181, params: {'verbose': False, 'tol': 0.005, 'shrinking': True, 'random_state': 42, 'probability': False, 'max_iter': -1, 'kernel': 'rbf', 'gamma': 7.5, 'degree': 91, 'coef0': 3.0, 'class_weight': None, 'cache_size': 2000, 'C': 37},\n",
       " mean: 0.66083, std: 0.00181, params: {'verbose': False, 'tol': 0.008, 'shrinking': True, 'random_state': 42, 'probability': False, 'max_iter': -1, 'kernel': 'rbf', 'gamma': 9.600000000000001, 'degree': 74, 'coef0': 7.5, 'class_weight': None, 'cache_size': 2000, 'C': 87},\n",
       " mean: 0.66083, std: 0.00181, params: {'verbose': False, 'tol': 0.005, 'shrinking': True, 'random_state': 42, 'probability': False, 'max_iter': -1, 'kernel': 'rbf', 'gamma': 7.2, 'degree': 58, 'coef0': 6.300000000000001, 'class_weight': None, 'cache_size': 2000, 'C': 66},\n",
       " mean: 0.66083, std: 0.00181, params: {'verbose': False, 'tol': 0.010000000000000002, 'shrinking': True, 'random_state': 42, 'probability': False, 'max_iter': -1, 'kernel': 'rbf', 'gamma': 9.1, 'degree': 44, 'coef0': 0.9, 'class_weight': None, 'cache_size': 2000, 'C': 82},\n",
       " mean: 0.66083, std: 0.00181, params: {'verbose': False, 'tol': 0.009000000000000001, 'shrinking': True, 'random_state': 42, 'probability': False, 'max_iter': -1, 'kernel': 'rbf', 'gamma': 8.700000000000001, 'degree': 87, 'coef0': 5.7, 'class_weight': None, 'cache_size': 2000, 'C': 41},\n",
       " mean: 0.66083, std: 0.00181, params: {'verbose': False, 'tol': 0.006, 'shrinking': True, 'random_state': 42, 'probability': False, 'max_iter': -1, 'kernel': 'rbf', 'gamma': 8.9, 'degree': 9, 'coef0': 7.800000000000001, 'class_weight': None, 'cache_size': 2000, 'C': 70},\n",
       " mean: 0.66083, std: 0.00181, params: {'verbose': False, 'tol': 0.007, 'shrinking': True, 'random_state': 42, 'probability': False, 'max_iter': -1, 'kernel': 'rbf', 'gamma': 4.4, 'degree': 19, 'coef0': 2.6, 'class_weight': None, 'cache_size': 2000, 'C': 11},\n",
       " mean: 0.66083, std: 0.00181, params: {'verbose': False, 'tol': 0.010000000000000002, 'shrinking': True, 'random_state': 42, 'probability': False, 'max_iter': -1, 'kernel': 'rbf', 'gamma': 0.2, 'degree': 76, 'coef0': 9.5, 'class_weight': None, 'cache_size': 2000, 'C': 16},\n",
       " mean: 0.66083, std: 0.00181, params: {'verbose': False, 'tol': 0.007, 'shrinking': True, 'random_state': 42, 'probability': False, 'max_iter': -1, 'kernel': 'rbf', 'gamma': 5.800000000000001, 'degree': 33, 'coef0': 3.5, 'class_weight': None, 'cache_size': 2000, 'C': 51},\n",
       " mean: 0.66083, std: 0.00181, params: {'verbose': False, 'tol': 0.005, 'shrinking': True, 'random_state': 42, 'probability': False, 'max_iter': -1, 'kernel': 'rbf', 'gamma': 0.9, 'degree': 19, 'coef0': 7.1000000000000005, 'class_weight': None, 'cache_size': 2000, 'C': 22},\n",
       " mean: 0.66083, std: 0.00181, params: {'verbose': False, 'tol': 0.009000000000000001, 'shrinking': True, 'random_state': 42, 'probability': False, 'max_iter': -1, 'kernel': 'rbf', 'gamma': 1.4000000000000001, 'degree': 86, 'coef0': 4.7, 'class_weight': None, 'cache_size': 2000, 'C': 70},\n",
       " mean: 0.66083, std: 0.00181, params: {'verbose': False, 'tol': 0.006, 'shrinking': True, 'random_state': 42, 'probability': False, 'max_iter': -1, 'kernel': 'rbf', 'gamma': 5.9, 'degree': 71, 'coef0': 5.7, 'class_weight': None, 'cache_size': 2000, 'C': 75},\n",
       " mean: 0.66083, std: 0.00181, params: {'verbose': False, 'tol': 0.002, 'shrinking': True, 'random_state': 42, 'probability': False, 'max_iter': -1, 'kernel': 'rbf', 'gamma': 5.6000000000000005, 'degree': 39, 'coef0': 3.8000000000000003, 'class_weight': None, 'cache_size': 2000, 'C': 81},\n",
       " mean: 0.66083, std: 0.00181, params: {'verbose': False, 'tol': 0.008, 'shrinking': True, 'random_state': 42, 'probability': False, 'max_iter': -1, 'kernel': 'rbf', 'gamma': 7.2, 'degree': 67, 'coef0': 7.4, 'class_weight': None, 'cache_size': 2000, 'C': 52},\n",
       " mean: 0.66083, std: 0.00181, params: {'verbose': False, 'tol': 0.005, 'shrinking': True, 'random_state': 42, 'probability': False, 'max_iter': -1, 'kernel': 'rbf', 'gamma': 7.0, 'degree': 76, 'coef0': 8.700000000000001, 'class_weight': None, 'cache_size': 2000, 'C': 74},\n",
       " mean: 0.66083, std: 0.00181, params: {'verbose': False, 'tol': 0.004, 'shrinking': True, 'random_state': 42, 'probability': False, 'max_iter': -1, 'kernel': 'rbf', 'gamma': 5.300000000000001, 'degree': 36, 'coef0': 6.300000000000001, 'class_weight': None, 'cache_size': 2000, 'C': 90},\n",
       " mean: 0.66083, std: 0.00181, params: {'verbose': False, 'tol': 0.003, 'shrinking': True, 'random_state': 42, 'probability': False, 'max_iter': -1, 'kernel': 'rbf', 'gamma': 2.9000000000000004, 'degree': 47, 'coef0': 3.5, 'class_weight': None, 'cache_size': 2000, 'C': 36},\n",
       " mean: 0.66083, std: 0.00181, params: {'verbose': False, 'tol': 0.003, 'shrinking': True, 'random_state': 42, 'probability': False, 'max_iter': -1, 'kernel': 'rbf', 'gamma': 8.5, 'degree': 56, 'coef0': 9.1, 'class_weight': None, 'cache_size': 2000, 'C': 21},\n",
       " mean: 0.66083, std: 0.00181, params: {'verbose': False, 'tol': 0.010000000000000002, 'shrinking': True, 'random_state': 42, 'probability': False, 'max_iter': -1, 'kernel': 'rbf', 'gamma': 3.1, 'degree': 54, 'coef0': 9.200000000000001, 'class_weight': None, 'cache_size': 2000, 'C': 83},\n",
       " mean: 0.66083, std: 0.00181, params: {'verbose': False, 'tol': 0.006, 'shrinking': True, 'random_state': 42, 'probability': False, 'max_iter': -1, 'kernel': 'rbf', 'gamma': 2.1, 'degree': 85, 'coef0': 7.2, 'class_weight': None, 'cache_size': 2000, 'C': 31},\n",
       " mean: 0.66083, std: 0.00181, params: {'verbose': False, 'tol': 0.008, 'shrinking': True, 'random_state': 42, 'probability': False, 'max_iter': -1, 'kernel': 'rbf', 'gamma': 8.9, 'degree': 69, 'coef0': 4.3, 'class_weight': None, 'cache_size': 2000, 'C': 7},\n",
       " mean: 0.66083, std: 0.00181, params: {'verbose': False, 'tol': 0.009000000000000001, 'shrinking': True, 'random_state': 42, 'probability': False, 'max_iter': -1, 'kernel': 'rbf', 'gamma': 1.4000000000000001, 'degree': 38, 'coef0': 0.7000000000000001, 'class_weight': None, 'cache_size': 2000, 'C': 89},\n",
       " mean: 0.66083, std: 0.00181, params: {'verbose': False, 'tol': 0.004, 'shrinking': True, 'random_state': 42, 'probability': False, 'max_iter': -1, 'kernel': 'rbf', 'gamma': 3.5, 'degree': 34, 'coef0': 6.7, 'class_weight': None, 'cache_size': 2000, 'C': 95},\n",
       " mean: 0.66083, std: 0.00181, params: {'verbose': False, 'tol': 0.001, 'shrinking': True, 'random_state': 42, 'probability': False, 'max_iter': -1, 'kernel': 'rbf', 'gamma': 2.2, 'degree': 7, 'coef0': 2.5, 'class_weight': None, 'cache_size': 2000, 'C': 99},\n",
       " mean: 0.66083, std: 0.00181, params: {'verbose': False, 'tol': 0.010000000000000002, 'shrinking': True, 'random_state': 42, 'probability': False, 'max_iter': -1, 'kernel': 'rbf', 'gamma': 3.9000000000000004, 'degree': 94, 'coef0': 1.0, 'class_weight': None, 'cache_size': 2000, 'C': 33},\n",
       " mean: 0.66083, std: 0.00181, params: {'verbose': False, 'tol': 0.006, 'shrinking': True, 'random_state': 42, 'probability': False, 'max_iter': -1, 'kernel': 'rbf', 'gamma': 2.3000000000000003, 'degree': 9, 'coef0': 7.5, 'class_weight': None, 'cache_size': 2000, 'C': 75},\n",
       " mean: 0.66083, std: 0.00181, params: {'verbose': False, 'tol': 0.004, 'shrinking': True, 'random_state': 42, 'probability': False, 'max_iter': -1, 'kernel': 'rbf', 'gamma': 9.9, 'degree': 81, 'coef0': 5.5, 'class_weight': None, 'cache_size': 2000, 'C': 60},\n",
       " mean: 0.66083, std: 0.00181, params: {'verbose': False, 'tol': 0.008, 'shrinking': True, 'random_state': 42, 'probability': False, 'max_iter': -1, 'kernel': 'rbf', 'gamma': 1.0, 'degree': 23, 'coef0': 9.200000000000001, 'class_weight': None, 'cache_size': 2000, 'C': 92},\n",
       " mean: 0.66083, std: 0.00181, params: {'verbose': False, 'tol': 0.007, 'shrinking': True, 'random_state': 42, 'probability': False, 'max_iter': -1, 'kernel': 'rbf', 'gamma': 4.6000000000000005, 'degree': 72, 'coef0': 5.0, 'class_weight': None, 'cache_size': 2000, 'C': 60},\n",
       " mean: 0.66083, std: 0.00181, params: {'verbose': False, 'tol': 0.006, 'shrinking': True, 'random_state': 42, 'probability': False, 'max_iter': -1, 'kernel': 'rbf', 'gamma': 6.6000000000000005, 'degree': 97, 'coef0': 8.8, 'class_weight': None, 'cache_size': 2000, 'C': 84},\n",
       " mean: 0.66083, std: 0.00181, params: {'verbose': False, 'tol': 0.001, 'shrinking': True, 'random_state': 42, 'probability': False, 'max_iter': -1, 'kernel': 'rbf', 'gamma': 1.0, 'degree': 91, 'coef0': 3.1, 'class_weight': None, 'cache_size': 2000, 'C': 59},\n",
       " mean: 0.66083, std: 0.00181, params: {'verbose': False, 'tol': 0.003, 'shrinking': True, 'random_state': 42, 'probability': False, 'max_iter': -1, 'kernel': 'rbf', 'gamma': 4.1000000000000005, 'degree': 15, 'coef0': 6.2, 'class_weight': None, 'cache_size': 2000, 'C': 31},\n",
       " mean: 0.66083, std: 0.00181, params: {'verbose': False, 'tol': 0.002, 'shrinking': True, 'random_state': 42, 'probability': False, 'max_iter': -1, 'kernel': 'rbf', 'gamma': 7.800000000000001, 'degree': 11, 'coef0': 8.5, 'class_weight': None, 'cache_size': 2000, 'C': 46},\n",
       " mean: 0.66958, std: 0.00536, params: {'verbose': False, 'tol': 0.005, 'shrinking': True, 'random_state': 42, 'probability': False, 'max_iter': -1, 'kernel': 'rbf', 'gamma': 0.1, 'degree': 26, 'coef0': 0.7000000000000001, 'class_weight': None, 'cache_size': 2000, 'C': 31},\n",
       " mean: 0.66083, std: 0.00181, params: {'verbose': False, 'tol': 0.008, 'shrinking': True, 'random_state': 42, 'probability': False, 'max_iter': -1, 'kernel': 'rbf', 'gamma': 1.1, 'degree': 2, 'coef0': 4.6000000000000005, 'class_weight': None, 'cache_size': 2000, 'C': 66},\n",
       " mean: 0.66083, std: 0.00181, params: {'verbose': False, 'tol': 0.007, 'shrinking': True, 'random_state': 42, 'probability': False, 'max_iter': -1, 'kernel': 'rbf', 'gamma': 1.0, 'degree': 0, 'coef0': 6.5, 'class_weight': None, 'cache_size': 2000, 'C': 84},\n",
       " mean: 0.66083, std: 0.00181, params: {'verbose': False, 'tol': 0.007, 'shrinking': True, 'random_state': 42, 'probability': False, 'max_iter': -1, 'kernel': 'rbf', 'gamma': 6.800000000000001, 'degree': 13, 'coef0': 4.3, 'class_weight': None, 'cache_size': 2000, 'C': 74},\n",
       " mean: 0.66083, std: 0.00181, params: {'verbose': False, 'tol': 0.007, 'shrinking': True, 'random_state': 42, 'probability': False, 'max_iter': -1, 'kernel': 'rbf', 'gamma': 0.8, 'degree': 18, 'coef0': 0.2, 'class_weight': None, 'cache_size': 2000, 'C': 50},\n",
       " mean: 0.66083, std: 0.00181, params: {'verbose': False, 'tol': 0.007, 'shrinking': True, 'random_state': 42, 'probability': False, 'max_iter': -1, 'kernel': 'rbf', 'gamma': 9.9, 'degree': 25, 'coef0': 8.0, 'class_weight': None, 'cache_size': 2000, 'C': 1},\n",
       " mean: 0.66083, std: 0.00181, params: {'verbose': False, 'tol': 0.008, 'shrinking': True, 'random_state': 42, 'probability': False, 'max_iter': -1, 'kernel': 'rbf', 'gamma': 5.4, 'degree': 58, 'coef0': 9.200000000000001, 'class_weight': None, 'cache_size': 2000, 'C': 75},\n",
       " mean: 0.66083, std: 0.00181, params: {'verbose': False, 'tol': 0.009000000000000001, 'shrinking': True, 'random_state': 42, 'probability': False, 'max_iter': -1, 'kernel': 'rbf', 'gamma': 4.7, 'degree': 98, 'coef0': 4.6000000000000005, 'class_weight': None, 'cache_size': 2000, 'C': 73},\n",
       " mean: 0.66083, std: 0.00181, params: {'verbose': False, 'tol': 0.005, 'shrinking': True, 'random_state': 42, 'probability': False, 'max_iter': -1, 'kernel': 'rbf', 'gamma': 4.1000000000000005, 'degree': 4, 'coef0': 1.9000000000000001, 'class_weight': None, 'cache_size': 2000, 'C': 77},\n",
       " mean: 0.66083, std: 0.00181, params: {'verbose': False, 'tol': 0.006, 'shrinking': True, 'random_state': 42, 'probability': False, 'max_iter': -1, 'kernel': 'rbf', 'gamma': 4.6000000000000005, 'degree': 68, 'coef0': 9.0, 'class_weight': None, 'cache_size': 2000, 'C': 64},\n",
       " mean: 0.66083, std: 0.00181, params: {'verbose': False, 'tol': 0.007, 'shrinking': True, 'random_state': 42, 'probability': False, 'max_iter': -1, 'kernel': 'rbf', 'gamma': 7.800000000000001, 'degree': 18, 'coef0': 8.0, 'class_weight': None, 'cache_size': 2000, 'C': 1},\n",
       " mean: 0.66083, std: 0.00181, params: {'verbose': False, 'tol': 0.009000000000000001, 'shrinking': True, 'random_state': 42, 'probability': False, 'max_iter': -1, 'kernel': 'rbf', 'gamma': 5.0, 'degree': 28, 'coef0': 9.700000000000001, 'class_weight': None, 'cache_size': 2000, 'C': 62},\n",
       " mean: 0.66083, std: 0.00181, params: {'verbose': False, 'tol': 0.005, 'shrinking': True, 'random_state': 42, 'probability': False, 'max_iter': -1, 'kernel': 'rbf', 'gamma': 8.1, 'degree': 14, 'coef0': 2.9000000000000004, 'class_weight': None, 'cache_size': 2000, 'C': 82},\n",
       " mean: 0.66083, std: 0.00181, params: {'verbose': False, 'tol': 0.003, 'shrinking': True, 'random_state': 42, 'probability': False, 'max_iter': -1, 'kernel': 'rbf', 'gamma': 2.9000000000000004, 'degree': 5, 'coef0': 7.0, 'class_weight': None, 'cache_size': 2000, 'C': 27},\n",
       " mean: 0.66083, std: 0.00181, params: {'verbose': False, 'tol': 0.008, 'shrinking': True, 'random_state': 42, 'probability': False, 'max_iter': -1, 'kernel': 'rbf', 'gamma': 4.9, 'degree': 98, 'coef0': 6.6000000000000005, 'class_weight': None, 'cache_size': 2000, 'C': 42},\n",
       " mean: 0.66083, std: 0.00181, params: {'verbose': False, 'tol': 0.004, 'shrinking': True, 'random_state': 42, 'probability': False, 'max_iter': -1, 'kernel': 'rbf', 'gamma': 5.800000000000001, 'degree': 84, 'coef0': 3.9000000000000004, 'class_weight': None, 'cache_size': 2000, 'C': 14},\n",
       " mean: 0.66083, std: 0.00181, params: {'verbose': False, 'tol': 0.007, 'shrinking': True, 'random_state': 42, 'probability': False, 'max_iter': -1, 'kernel': 'rbf', 'gamma': 1.0, 'degree': 45, 'coef0': 8.3, 'class_weight': None, 'cache_size': 2000, 'C': 97},\n",
       " mean: 0.66083, std: 0.00181, params: {'verbose': False, 'tol': 0.010000000000000002, 'shrinking': True, 'random_state': 42, 'probability': False, 'max_iter': -1, 'kernel': 'rbf', 'gamma': 4.7, 'degree': 57, 'coef0': 2.0, 'class_weight': None, 'cache_size': 2000, 'C': 38},\n",
       " mean: 0.66083, std: 0.00181, params: {'verbose': False, 'tol': 0.010000000000000002, 'shrinking': True, 'random_state': 42, 'probability': False, 'max_iter': -1, 'kernel': 'rbf', 'gamma': 8.9, 'degree': 34, 'coef0': 0.8, 'class_weight': None, 'cache_size': 2000, 'C': 32},\n",
       " mean: 0.66083, std: 0.00181, params: {'verbose': False, 'tol': 0.001, 'shrinking': True, 'random_state': 42, 'probability': False, 'max_iter': -1, 'kernel': 'rbf', 'gamma': 1.5, 'degree': 68, 'coef0': 8.1, 'class_weight': None, 'cache_size': 2000, 'C': 65},\n",
       " mean: 0.66083, std: 0.00181, params: {'verbose': False, 'tol': 0.008, 'shrinking': True, 'random_state': 42, 'probability': False, 'max_iter': -1, 'kernel': 'rbf', 'gamma': 3.6, 'degree': 73, 'coef0': 7.300000000000001, 'class_weight': None, 'cache_size': 2000, 'C': 3},\n",
       " mean: 0.66083, std: 0.00181, params: {'verbose': False, 'tol': 0.008, 'shrinking': True, 'random_state': 42, 'probability': False, 'max_iter': -1, 'kernel': 'rbf', 'gamma': 6.7, 'degree': 27, 'coef0': 0.0, 'class_weight': None, 'cache_size': 2000, 'C': 63},\n",
       " mean: 0.66083, std: 0.00181, params: {'verbose': False, 'tol': 0.002, 'shrinking': True, 'random_state': 42, 'probability': False, 'max_iter': -1, 'kernel': 'rbf', 'gamma': 8.700000000000001, 'degree': 48, 'coef0': 2.9000000000000004, 'class_weight': None, 'cache_size': 2000, 'C': 80},\n",
       " mean: 0.66083, std: 0.00181, params: {'verbose': False, 'tol': 0.007, 'shrinking': True, 'random_state': 42, 'probability': False, 'max_iter': -1, 'kernel': 'rbf', 'gamma': 7.5, 'degree': 86, 'coef0': 4.3, 'class_weight': None, 'cache_size': 2000, 'C': 94},\n",
       " mean: 0.66083, std: 0.00181, params: {'verbose': False, 'tol': 0.006, 'shrinking': True, 'random_state': 42, 'probability': False, 'max_iter': -1, 'kernel': 'rbf', 'gamma': 7.300000000000001, 'degree': 73, 'coef0': 8.4, 'class_weight': None, 'cache_size': 2000, 'C': 73},\n",
       " mean: 0.66083, std: 0.00181, params: {'verbose': False, 'tol': 0.003, 'shrinking': True, 'random_state': 42, 'probability': False, 'max_iter': -1, 'kernel': 'rbf', 'gamma': 9.9, 'degree': 96, 'coef0': 5.800000000000001, 'class_weight': None, 'cache_size': 2000, 'C': 28},\n",
       " mean: 0.66083, std: 0.00181, params: {'verbose': False, 'tol': 0.007, 'shrinking': True, 'random_state': 42, 'probability': False, 'max_iter': -1, 'kernel': 'rbf', 'gamma': 3.2, 'degree': 63, 'coef0': 3.9000000000000004, 'class_weight': None, 'cache_size': 2000, 'C': 22},\n",
       " mean: 0.66083, std: 0.00181, params: {'verbose': False, 'tol': 0.004, 'shrinking': True, 'random_state': 42, 'probability': False, 'max_iter': -1, 'kernel': 'rbf', 'gamma': 8.200000000000001, 'degree': 58, 'coef0': 2.8000000000000003, 'class_weight': None, 'cache_size': 2000, 'C': 57},\n",
       " mean: 0.66083, std: 0.00181, params: {'verbose': False, 'tol': 0.007, 'shrinking': True, 'random_state': 42, 'probability': False, 'max_iter': -1, 'kernel': 'rbf', 'gamma': 0.7000000000000001, 'degree': 37, 'coef0': 5.6000000000000005, 'class_weight': None, 'cache_size': 2000, 'C': 9},\n",
       " mean: 0.66083, std: 0.00181, params: {'verbose': False, 'tol': 0.006, 'shrinking': True, 'random_state': 42, 'probability': False, 'max_iter': -1, 'kernel': 'rbf', 'gamma': 8.0, 'degree': 66, 'coef0': 1.4000000000000001, 'class_weight': None, 'cache_size': 2000, 'C': 24},\n",
       " mean: 0.66083, std: 0.00181, params: {'verbose': False, 'tol': 0.008, 'shrinking': True, 'random_state': 42, 'probability': False, 'max_iter': -1, 'kernel': 'rbf', 'gamma': 2.7, 'degree': 59, 'coef0': 7.0, 'class_weight': None, 'cache_size': 2000, 'C': 75},\n",
       " mean: 0.66083, std: 0.00181, params: {'verbose': False, 'tol': 0.005, 'shrinking': True, 'random_state': 42, 'probability': False, 'max_iter': -1, 'kernel': 'rbf', 'gamma': 9.9, 'degree': 7, 'coef0': 9.3, 'class_weight': None, 'cache_size': 2000, 'C': 11},\n",
       " mean: 0.66083, std: 0.00181, params: {'verbose': False, 'tol': 0.001, 'shrinking': True, 'random_state': 42, 'probability': False, 'max_iter': -1, 'kernel': 'rbf', 'gamma': 3.6, 'degree': 54, 'coef0': 0.4, 'class_weight': None, 'cache_size': 2000, 'C': 95},\n",
       " mean: 0.66083, std: 0.00181, params: {'verbose': False, 'tol': 0.009000000000000001, 'shrinking': True, 'random_state': 42, 'probability': False, 'max_iter': -1, 'kernel': 'rbf', 'gamma': 5.300000000000001, 'degree': 24, 'coef0': 4.4, 'class_weight': None, 'cache_size': 2000, 'C': 98},\n",
       " mean: 0.66083, std: 0.00181, params: {'verbose': False, 'tol': 0.008, 'shrinking': True, 'random_state': 42, 'probability': False, 'max_iter': -1, 'kernel': 'rbf', 'gamma': 5.1000000000000005, 'degree': 77, 'coef0': 4.800000000000001, 'class_weight': None, 'cache_size': 2000, 'C': 16},\n",
       " mean: 0.66083, std: 0.00181, params: {'verbose': False, 'tol': 0.009000000000000001, 'shrinking': True, 'random_state': 42, 'probability': False, 'max_iter': -1, 'kernel': 'rbf', 'gamma': 4.1000000000000005, 'degree': 37, 'coef0': 6.300000000000001, 'class_weight': None, 'cache_size': 2000, 'C': 35},\n",
       " mean: 0.66083, std: 0.00181, params: {'verbose': False, 'tol': 0.006, 'shrinking': True, 'random_state': 42, 'probability': False, 'max_iter': -1, 'kernel': 'rbf', 'gamma': 3.9000000000000004, 'degree': 20, 'coef0': 2.8000000000000003, 'class_weight': None, 'cache_size': 2000, 'C': 58},\n",
       " mean: 0.66083, std: 0.00181, params: {'verbose': False, 'tol': 0.010000000000000002, 'shrinking': True, 'random_state': 42, 'probability': False, 'max_iter': -1, 'kernel': 'rbf', 'gamma': 6.800000000000001, 'degree': 32, 'coef0': 8.3, 'class_weight': None, 'cache_size': 2000, 'C': 44},\n",
       " mean: 0.66083, std: 0.00181, params: {'verbose': False, 'tol': 0.005, 'shrinking': True, 'random_state': 42, 'probability': False, 'max_iter': -1, 'kernel': 'rbf', 'gamma': 7.7, 'degree': 1, 'coef0': 8.5, 'class_weight': None, 'cache_size': 2000, 'C': 22},\n",
       " mean: 0.66083, std: 0.00181, params: {'verbose': False, 'tol': 0.006, 'shrinking': True, 'random_state': 42, 'probability': False, 'max_iter': -1, 'kernel': 'rbf', 'gamma': 8.700000000000001, 'degree': 50, 'coef0': 4.5, 'class_weight': None, 'cache_size': 2000, 'C': 43},\n",
       " mean: 0.66083, std: 0.00181, params: {'verbose': False, 'tol': 0.004, 'shrinking': True, 'random_state': 42, 'probability': False, 'max_iter': -1, 'kernel': 'rbf', 'gamma': 7.800000000000001, 'degree': 86, 'coef0': 8.200000000000001, 'class_weight': None, 'cache_size': 2000, 'C': 71},\n",
       " mean: 0.66083, std: 0.00181, params: {'verbose': False, 'tol': 0.003, 'shrinking': True, 'random_state': 42, 'probability': False, 'max_iter': -1, 'kernel': 'rbf', 'gamma': 0.8, 'degree': 87, 'coef0': 0.2, 'class_weight': None, 'cache_size': 2000, 'C': 12},\n",
       " mean: 0.66083, std: 0.00181, params: {'verbose': False, 'tol': 0.009000000000000001, 'shrinking': True, 'random_state': 42, 'probability': False, 'max_iter': -1, 'kernel': 'rbf', 'gamma': 1.5, 'degree': 60, 'coef0': 7.2, 'class_weight': None, 'cache_size': 2000, 'C': 72},\n",
       " mean: 0.66083, std: 0.00181, params: {'verbose': False, 'tol': 0.004, 'shrinking': True, 'random_state': 42, 'probability': False, 'max_iter': -1, 'kernel': 'rbf', 'gamma': 7.7, 'degree': 69, 'coef0': 0.0, 'class_weight': None, 'cache_size': 2000, 'C': 2},\n",
       " mean: 0.66083, std: 0.00181, params: {'verbose': False, 'tol': 0.007, 'shrinking': True, 'random_state': 42, 'probability': False, 'max_iter': -1, 'kernel': 'rbf', 'gamma': 5.300000000000001, 'degree': 85, 'coef0': 8.9, 'class_weight': None, 'cache_size': 2000, 'C': 31},\n",
       " mean: 0.66083, std: 0.00181, params: {'verbose': False, 'tol': 0.005, 'shrinking': True, 'random_state': 42, 'probability': False, 'max_iter': -1, 'kernel': 'rbf', 'gamma': 1.7000000000000002, 'degree': 74, 'coef0': 0.1, 'class_weight': None, 'cache_size': 2000, 'C': 59},\n",
       " mean: 0.66083, std: 0.00181, params: {'verbose': False, 'tol': 0.010000000000000002, 'shrinking': True, 'random_state': 42, 'probability': False, 'max_iter': -1, 'kernel': 'rbf', 'gamma': 2.4000000000000004, 'degree': 60, 'coef0': 3.3000000000000003, 'class_weight': None, 'cache_size': 2000, 'C': 12},\n",
       " mean: 0.66083, std: 0.00181, params: {'verbose': False, 'tol': 0.005, 'shrinking': True, 'random_state': 42, 'probability': False, 'max_iter': -1, 'kernel': 'rbf', 'gamma': 8.4, 'degree': 59, 'coef0': 5.5, 'class_weight': None, 'cache_size': 2000, 'C': 64},\n",
       " mean: 0.66083, std: 0.00181, params: {'verbose': False, 'tol': 0.003, 'shrinking': True, 'random_state': 42, 'probability': False, 'max_iter': -1, 'kernel': 'rbf', 'gamma': 1.1, 'degree': 99, 'coef0': 5.800000000000001, 'class_weight': None, 'cache_size': 2000, 'C': 19},\n",
       " mean: 0.66083, std: 0.00181, params: {'verbose': False, 'tol': 0.007, 'shrinking': True, 'random_state': 42, 'probability': False, 'max_iter': -1, 'kernel': 'rbf', 'gamma': 4.0, 'degree': 54, 'coef0': 7.4, 'class_weight': None, 'cache_size': 2000, 'C': 29},\n",
       " mean: 0.66083, std: 0.00181, params: {'verbose': False, 'tol': 0.002, 'shrinking': True, 'random_state': 42, 'probability': False, 'max_iter': -1, 'kernel': 'rbf', 'gamma': 6.6000000000000005, 'degree': 77, 'coef0': 6.6000000000000005, 'class_weight': None, 'cache_size': 2000, 'C': 89},\n",
       " mean: 0.66083, std: 0.00181, params: {'verbose': False, 'tol': 0.006, 'shrinking': True, 'random_state': 42, 'probability': False, 'max_iter': -1, 'kernel': 'rbf', 'gamma': 5.800000000000001, 'degree': 21, 'coef0': 1.2000000000000002, 'class_weight': None, 'cache_size': 2000, 'C': 84},\n",
       " mean: 0.66083, std: 0.00181, params: {'verbose': False, 'tol': 0.004, 'shrinking': True, 'random_state': 42, 'probability': False, 'max_iter': -1, 'kernel': 'rbf', 'gamma': 3.5, 'degree': 86, 'coef0': 6.2, 'class_weight': None, 'cache_size': 2000, 'C': 1},\n",
       " mean: 0.66083, std: 0.00181, params: {'verbose': False, 'tol': 0.008, 'shrinking': True, 'random_state': 42, 'probability': False, 'max_iter': -1, 'kernel': 'rbf', 'gamma': 8.200000000000001, 'degree': 42, 'coef0': 9.600000000000001, 'class_weight': None, 'cache_size': 2000, 'C': 65},\n",
       " mean: 0.66083, std: 0.00181, params: {'verbose': False, 'tol': 0.003, 'shrinking': True, 'random_state': 42, 'probability': False, 'max_iter': -1, 'kernel': 'rbf', 'gamma': 1.3, 'degree': 58, 'coef0': 6.7, 'class_weight': None, 'cache_size': 2000, 'C': 81},\n",
       " mean: 0.66083, std: 0.00181, params: {'verbose': False, 'tol': 0.001, 'shrinking': True, 'random_state': 42, 'probability': False, 'max_iter': -1, 'kernel': 'rbf', 'gamma': 1.9000000000000001, 'degree': 51, 'coef0': 0.9, 'class_weight': None, 'cache_size': 2000, 'C': 46},\n",
       " mean: 0.66083, std: 0.00181, params: {'verbose': False, 'tol': 0.001, 'shrinking': True, 'random_state': 42, 'probability': False, 'max_iter': -1, 'kernel': 'rbf', 'gamma': 0.9, 'degree': 0, 'coef0': 4.1000000000000005, 'class_weight': None, 'cache_size': 2000, 'C': 93},\n",
       " mean: 0.66083, std: 0.00181, params: {'verbose': False, 'tol': 0.006, 'shrinking': True, 'random_state': 42, 'probability': False, 'max_iter': -1, 'kernel': 'rbf', 'gamma': 2.1, 'degree': 66, 'coef0': 5.5, 'class_weight': None, 'cache_size': 2000, 'C': 90},\n",
       " mean: 0.66083, std: 0.00181, params: {'verbose': False, 'tol': 0.010000000000000002, 'shrinking': True, 'random_state': 42, 'probability': False, 'max_iter': -1, 'kernel': 'rbf', 'gamma': 6.800000000000001, 'degree': 29, 'coef0': 2.1, 'class_weight': None, 'cache_size': 2000, 'C': 95},\n",
       " mean: 0.66083, std: 0.00181, params: {'verbose': False, 'tol': 0.006, 'shrinking': True, 'random_state': 42, 'probability': False, 'max_iter': -1, 'kernel': 'rbf', 'gamma': 4.7, 'degree': 87, 'coef0': 9.700000000000001, 'class_weight': None, 'cache_size': 2000, 'C': 48},\n",
       " mean: 0.66083, std: 0.00181, params: {'verbose': False, 'tol': 0.006, 'shrinking': True, 'random_state': 42, 'probability': False, 'max_iter': -1, 'kernel': 'rbf', 'gamma': 1.1, 'degree': 78, 'coef0': 2.7, 'class_weight': None, 'cache_size': 2000, 'C': 44},\n",
       " mean: 0.66083, std: 0.00181, params: {'verbose': False, 'tol': 0.010000000000000002, 'shrinking': True, 'random_state': 42, 'probability': False, 'max_iter': -1, 'kernel': 'rbf', 'gamma': 0.6000000000000001, 'degree': 21, 'coef0': 7.6000000000000005, 'class_weight': None, 'cache_size': 2000, 'C': 9},\n",
       " mean: 0.66083, std: 0.00181, params: {'verbose': False, 'tol': 0.002, 'shrinking': True, 'random_state': 42, 'probability': False, 'max_iter': -1, 'kernel': 'rbf', 'gamma': 5.5, 'degree': 37, 'coef0': 4.1000000000000005, 'class_weight': None, 'cache_size': 2000, 'C': 65},\n",
       " mean: 0.66083, std: 0.00181, params: {'verbose': False, 'tol': 0.003, 'shrinking': True, 'random_state': 42, 'probability': False, 'max_iter': -1, 'kernel': 'rbf', 'gamma': 9.8, 'degree': 96, 'coef0': 9.8, 'class_weight': None, 'cache_size': 2000, 'C': 15},\n",
       " mean: 0.66083, std: 0.00181, params: {'verbose': False, 'tol': 0.002, 'shrinking': True, 'random_state': 42, 'probability': False, 'max_iter': -1, 'kernel': 'rbf', 'gamma': 3.8000000000000003, 'degree': 92, 'coef0': 5.300000000000001, 'class_weight': None, 'cache_size': 2000, 'C': 68},\n",
       " mean: 0.66083, std: 0.00181, params: {'verbose': False, 'tol': 0.009000000000000001, 'shrinking': True, 'random_state': 42, 'probability': False, 'max_iter': -1, 'kernel': 'rbf', 'gamma': 0.6000000000000001, 'degree': 34, 'coef0': 3.8000000000000003, 'class_weight': None, 'cache_size': 2000, 'C': 31},\n",
       " mean: 0.66083, std: 0.00181, params: {'verbose': False, 'tol': 0.008, 'shrinking': True, 'random_state': 42, 'probability': False, 'max_iter': -1, 'kernel': 'rbf', 'gamma': 2.3000000000000003, 'degree': 90, 'coef0': 3.9000000000000004, 'class_weight': None, 'cache_size': 2000, 'C': 53},\n",
       " mean: 0.66083, std: 0.00181, params: {'verbose': False, 'tol': 0.001, 'shrinking': True, 'random_state': 42, 'probability': False, 'max_iter': -1, 'kernel': 'rbf', 'gamma': 2.4000000000000004, 'degree': 6, 'coef0': 3.8000000000000003, 'class_weight': None, 'cache_size': 2000, 'C': 41},\n",
       " mean: 0.66083, std: 0.00181, params: {'verbose': False, 'tol': 0.001, 'shrinking': True, 'random_state': 42, 'probability': False, 'max_iter': -1, 'kernel': 'rbf', 'gamma': 0.6000000000000001, 'degree': 44, 'coef0': 8.0, 'class_weight': None, 'cache_size': 2000, 'C': 36},\n",
       " mean: 0.66083, std: 0.00181, params: {'verbose': False, 'tol': 0.004, 'shrinking': True, 'random_state': 42, 'probability': False, 'max_iter': -1, 'kernel': 'rbf', 'gamma': 2.9000000000000004, 'degree': 54, 'coef0': 2.7, 'class_weight': None, 'cache_size': 2000, 'C': 11},\n",
       " mean: 0.66083, std: 0.00181, params: {'verbose': False, 'tol': 0.008, 'shrinking': True, 'random_state': 42, 'probability': False, 'max_iter': -1, 'kernel': 'rbf', 'gamma': 8.200000000000001, 'degree': 67, 'coef0': 9.0, 'class_weight': None, 'cache_size': 2000, 'C': 26},\n",
       " mean: 0.66083, std: 0.00181, params: {'verbose': False, 'tol': 0.007, 'shrinking': True, 'random_state': 42, 'probability': False, 'max_iter': -1, 'kernel': 'rbf', 'gamma': 8.200000000000001, 'degree': 80, 'coef0': 3.4000000000000004, 'class_weight': None, 'cache_size': 2000, 'C': 33},\n",
       " mean: 0.66083, std: 0.00181, params: {'verbose': False, 'tol': 0.010000000000000002, 'shrinking': True, 'random_state': 42, 'probability': False, 'max_iter': -1, 'kernel': 'rbf', 'gamma': 4.7, 'degree': 57, 'coef0': 9.700000000000001, 'class_weight': None, 'cache_size': 2000, 'C': 67},\n",
       " mean: 0.66083, std: 0.00181, params: {'verbose': False, 'tol': 0.009000000000000001, 'shrinking': True, 'random_state': 42, 'probability': False, 'max_iter': -1, 'kernel': 'rbf', 'gamma': 2.1, 'degree': 18, 'coef0': 8.700000000000001, 'class_weight': None, 'cache_size': 2000, 'C': 97},\n",
       " mean: 0.66083, std: 0.00181, params: {'verbose': False, 'tol': 0.002, 'shrinking': True, 'random_state': 42, 'probability': False, 'max_iter': -1, 'kernel': 'rbf', 'gamma': 4.5, 'degree': 38, 'coef0': 0.9, 'class_weight': None, 'cache_size': 2000, 'C': 64},\n",
       " mean: 0.66083, std: 0.00181, params: {'verbose': False, 'tol': 0.005, 'shrinking': True, 'random_state': 42, 'probability': False, 'max_iter': -1, 'kernel': 'rbf', 'gamma': 6.5, 'degree': 42, 'coef0': 7.4, 'class_weight': None, 'cache_size': 2000, 'C': 63},\n",
       " mean: 0.66083, std: 0.00181, params: {'verbose': False, 'tol': 0.001, 'shrinking': True, 'random_state': 42, 'probability': False, 'max_iter': -1, 'kernel': 'rbf', 'gamma': 2.6, 'degree': 42, 'coef0': 5.1000000000000005, 'class_weight': None, 'cache_size': 2000, 'C': 73},\n",
       " mean: 0.66083, std: 0.00181, params: {'verbose': False, 'tol': 0.009000000000000001, 'shrinking': True, 'random_state': 42, 'probability': False, 'max_iter': -1, 'kernel': 'rbf', 'gamma': 1.4000000000000001, 'degree': 37, 'coef0': 5.4, 'class_weight': None, 'cache_size': 2000, 'C': 61},\n",
       " mean: 0.66083, std: 0.00181, params: {'verbose': False, 'tol': 0.002, 'shrinking': True, 'random_state': 42, 'probability': False, 'max_iter': -1, 'kernel': 'rbf', 'gamma': 9.9, 'degree': 15, 'coef0': 0.5, 'class_weight': None, 'cache_size': 2000, 'C': 98},\n",
       " mean: 0.66083, std: 0.00181, params: {'verbose': False, 'tol': 0.005, 'shrinking': True, 'random_state': 42, 'probability': False, 'max_iter': -1, 'kernel': 'rbf', 'gamma': 6.2, 'degree': 24, 'coef0': 3.8000000000000003, 'class_weight': None, 'cache_size': 2000, 'C': 71},\n",
       " mean: 0.66083, std: 0.00181, params: {'verbose': False, 'tol': 0.005, 'shrinking': True, 'random_state': 42, 'probability': False, 'max_iter': -1, 'kernel': 'rbf', 'gamma': 5.300000000000001, 'degree': 94, 'coef0': 1.2000000000000002, 'class_weight': None, 'cache_size': 2000, 'C': 83},\n",
       " mean: 0.66083, std: 0.00181, params: {'verbose': False, 'tol': 0.006, 'shrinking': True, 'random_state': 42, 'probability': False, 'max_iter': -1, 'kernel': 'rbf', 'gamma': 8.9, 'degree': 1, 'coef0': 2.4000000000000004, 'class_weight': None, 'cache_size': 2000, 'C': 70},\n",
       " mean: 0.66083, std: 0.00181, params: {'verbose': False, 'tol': 0.010000000000000002, 'shrinking': True, 'random_state': 42, 'probability': False, 'max_iter': -1, 'kernel': 'rbf', 'gamma': 6.300000000000001, 'degree': 54, 'coef0': 8.1, 'class_weight': None, 'cache_size': 2000, 'C': 79},\n",
       " mean: 0.66083, std: 0.00181, params: {'verbose': False, 'tol': 0.002, 'shrinking': True, 'random_state': 42, 'probability': False, 'max_iter': -1, 'kernel': 'rbf', 'gamma': 7.6000000000000005, 'degree': 12, 'coef0': 5.7, 'class_weight': None, 'cache_size': 2000, 'C': 66},\n",
       " mean: 0.66083, std: 0.00181, params: {'verbose': False, 'tol': 0.009000000000000001, 'shrinking': True, 'random_state': 42, 'probability': False, 'max_iter': -1, 'kernel': 'rbf', 'gamma': 6.2, 'degree': 96, 'coef0': 9.3, 'class_weight': None, 'cache_size': 2000, 'C': 6},\n",
       " mean: 0.66083, std: 0.00181, params: {'verbose': False, 'tol': 0.010000000000000002, 'shrinking': True, 'random_state': 42, 'probability': False, 'max_iter': -1, 'kernel': 'rbf', 'gamma': 7.9, 'degree': 7, 'coef0': 9.1, 'class_weight': None, 'cache_size': 2000, 'C': 74},\n",
       " mean: 0.66083, std: 0.00181, params: {'verbose': False, 'tol': 0.010000000000000002, 'shrinking': True, 'random_state': 42, 'probability': False, 'max_iter': -1, 'kernel': 'rbf', 'gamma': 1.3, 'degree': 39, 'coef0': 6.4, 'class_weight': None, 'cache_size': 2000, 'C': 8},\n",
       " mean: 0.66083, std: 0.00181, params: {'verbose': False, 'tol': 0.006, 'shrinking': True, 'random_state': 42, 'probability': False, 'max_iter': -1, 'kernel': 'rbf', 'gamma': 5.9, 'degree': 87, 'coef0': 3.0, 'class_weight': None, 'cache_size': 2000, 'C': 15},\n",
       " mean: 0.66083, std: 0.00181, params: {'verbose': False, 'tol': 0.007, 'shrinking': True, 'random_state': 42, 'probability': False, 'max_iter': -1, 'kernel': 'rbf', 'gamma': 1.4000000000000001, 'degree': 27, 'coef0': 9.200000000000001, 'class_weight': None, 'cache_size': 2000, 'C': 86},\n",
       " mean: 0.66083, std: 0.00181, params: {'verbose': False, 'tol': 0.009000000000000001, 'shrinking': True, 'random_state': 42, 'probability': False, 'max_iter': -1, 'kernel': 'rbf', 'gamma': 8.0, 'degree': 91, 'coef0': 5.5, 'class_weight': None, 'cache_size': 2000, 'C': 22},\n",
       " mean: 0.66083, std: 0.00181, params: {'verbose': False, 'tol': 0.006, 'shrinking': True, 'random_state': 42, 'probability': False, 'max_iter': -1, 'kernel': 'rbf', 'gamma': 6.6000000000000005, 'degree': 72, 'coef0': 2.7, 'class_weight': None, 'cache_size': 2000, 'C': 44},\n",
       " mean: 0.66083, std: 0.00181, params: {'verbose': False, 'tol': 0.010000000000000002, 'shrinking': True, 'random_state': 42, 'probability': False, 'max_iter': -1, 'kernel': 'rbf', 'gamma': 2.1, 'degree': 42, 'coef0': 4.9, 'class_weight': None, 'cache_size': 2000, 'C': 68},\n",
       " mean: 0.66083, std: 0.00181, params: {'verbose': False, 'tol': 0.007, 'shrinking': True, 'random_state': 42, 'probability': False, 'max_iter': -1, 'kernel': 'rbf', 'gamma': 1.6, 'degree': 81, 'coef0': 5.5, 'class_weight': None, 'cache_size': 2000, 'C': 29},\n",
       " mean: 0.66083, std: 0.00181, params: {'verbose': False, 'tol': 0.007, 'shrinking': True, 'random_state': 42, 'probability': False, 'max_iter': -1, 'kernel': 'rbf', 'gamma': 0.4, 'degree': 34, 'coef0': 6.0, 'class_weight': None, 'cache_size': 2000, 'C': 78},\n",
       " mean: 0.66083, std: 0.00181, params: {'verbose': False, 'tol': 0.007, 'shrinking': True, 'random_state': 42, 'probability': False, 'max_iter': -1, 'kernel': 'rbf', 'gamma': 1.2000000000000002, 'degree': 56, 'coef0': 4.800000000000001, 'class_weight': None, 'cache_size': 2000, 'C': 42},\n",
       " mean: 0.66083, std: 0.00181, params: {'verbose': False, 'tol': 0.009000000000000001, 'shrinking': True, 'random_state': 42, 'probability': False, 'max_iter': -1, 'kernel': 'rbf', 'gamma': 2.9000000000000004, 'degree': 9, 'coef0': 9.8, 'class_weight': None, 'cache_size': 2000, 'C': 25},\n",
       " mean: 0.66083, std: 0.00181, params: {'verbose': False, 'tol': 0.009000000000000001, 'shrinking': True, 'random_state': 42, 'probability': False, 'max_iter': -1, 'kernel': 'rbf', 'gamma': 7.0, 'degree': 49, 'coef0': 9.3, 'class_weight': None, 'cache_size': 2000, 'C': 48},\n",
       " mean: 0.66083, std: 0.00181, params: {'verbose': False, 'tol': 0.001, 'shrinking': True, 'random_state': 42, 'probability': False, 'max_iter': -1, 'kernel': 'rbf', 'gamma': 6.1000000000000005, 'degree': 57, 'coef0': 9.5, 'class_weight': None, 'cache_size': 2000, 'C': 21},\n",
       " mean: 0.66083, std: 0.00181, params: {'verbose': False, 'tol': 0.006, 'shrinking': True, 'random_state': 42, 'probability': False, 'max_iter': -1, 'kernel': 'rbf', 'gamma': 6.2, 'degree': 49, 'coef0': 8.4, 'class_weight': None, 'cache_size': 2000, 'C': 39},\n",
       " mean: 0.66083, std: 0.00181, params: {'verbose': False, 'tol': 0.009000000000000001, 'shrinking': True, 'random_state': 42, 'probability': False, 'max_iter': -1, 'kernel': 'rbf', 'gamma': 0.7000000000000001, 'degree': 41, 'coef0': 1.5, 'class_weight': None, 'cache_size': 2000, 'C': 91},\n",
       " mean: 0.66083, std: 0.00181, params: {'verbose': False, 'tol': 0.007, 'shrinking': True, 'random_state': 42, 'probability': False, 'max_iter': -1, 'kernel': 'rbf', 'gamma': 3.7, 'degree': 50, 'coef0': 4.800000000000001, 'class_weight': None, 'cache_size': 2000, 'C': 81},\n",
       " mean: 0.66083, std: 0.00181, params: {'verbose': False, 'tol': 0.007, 'shrinking': True, 'random_state': 42, 'probability': False, 'max_iter': -1, 'kernel': 'rbf', 'gamma': 7.0, 'degree': 20, 'coef0': 2.5, 'class_weight': None, 'cache_size': 2000, 'C': 75},\n",
       " mean: 0.66083, std: 0.00181, params: {'verbose': False, 'tol': 0.009000000000000001, 'shrinking': True, 'random_state': 42, 'probability': False, 'max_iter': -1, 'kernel': 'rbf', 'gamma': 3.7, 'degree': 72, 'coef0': 3.3000000000000003, 'class_weight': None, 'cache_size': 2000, 'C': 20},\n",
       " mean: 0.66083, std: 0.00181, params: {'verbose': False, 'tol': 0.005, 'shrinking': True, 'random_state': 42, 'probability': False, 'max_iter': -1, 'kernel': 'rbf', 'gamma': 3.6, 'degree': 46, 'coef0': 5.7, 'class_weight': None, 'cache_size': 2000, 'C': 35},\n",
       " mean: 0.66083, std: 0.00181, params: {'verbose': False, 'tol': 0.007, 'shrinking': True, 'random_state': 42, 'probability': False, 'max_iter': -1, 'kernel': 'rbf', 'gamma': 5.9, 'degree': 92, 'coef0': 1.3, 'class_weight': None, 'cache_size': 2000, 'C': 18},\n",
       " mean: 0.66083, std: 0.00181, params: {'verbose': False, 'tol': 0.006, 'shrinking': True, 'random_state': 42, 'probability': False, 'max_iter': -1, 'kernel': 'rbf', 'gamma': 7.0, 'degree': 15, 'coef0': 3.8000000000000003, 'class_weight': None, 'cache_size': 2000, 'C': 40},\n",
       " mean: 0.66083, std: 0.00181, params: {'verbose': False, 'tol': 0.006, 'shrinking': True, 'random_state': 42, 'probability': False, 'max_iter': -1, 'kernel': 'rbf', 'gamma': 3.1, 'degree': 89, 'coef0': 5.300000000000001, 'class_weight': None, 'cache_size': 2000, 'C': 64},\n",
       " mean: 0.66083, std: 0.00181, params: {'verbose': False, 'tol': 0.010000000000000002, 'shrinking': True, 'random_state': 42, 'probability': False, 'max_iter': -1, 'kernel': 'rbf', 'gamma': 2.6, 'degree': 63, 'coef0': 1.4000000000000001, 'class_weight': None, 'cache_size': 2000, 'C': 33},\n",
       " mean: 0.66083, std: 0.00181, params: {'verbose': False, 'tol': 0.003, 'shrinking': True, 'random_state': 42, 'probability': False, 'max_iter': -1, 'kernel': 'rbf', 'gamma': 1.8, 'degree': 17, 'coef0': 9.200000000000001, 'class_weight': None, 'cache_size': 2000, 'C': 91},\n",
       " mean: 0.66083, std: 0.00181, params: {'verbose': False, 'tol': 0.007, 'shrinking': True, 'random_state': 42, 'probability': False, 'max_iter': -1, 'kernel': 'rbf', 'gamma': 9.8, 'degree': 66, 'coef0': 5.5, 'class_weight': None, 'cache_size': 2000, 'C': 66},\n",
       " mean: 0.66083, std: 0.00181, params: {'verbose': False, 'tol': 0.010000000000000002, 'shrinking': True, 'random_state': 42, 'probability': False, 'max_iter': -1, 'kernel': 'rbf', 'gamma': 1.1, 'degree': 44, 'coef0': 9.0, 'class_weight': None, 'cache_size': 2000, 'C': 45},\n",
       " mean: 0.66083, std: 0.00181, params: {'verbose': False, 'tol': 0.010000000000000002, 'shrinking': True, 'random_state': 42, 'probability': False, 'max_iter': -1, 'kernel': 'rbf', 'gamma': 1.2000000000000002, 'degree': 45, 'coef0': 3.5, 'class_weight': None, 'cache_size': 2000, 'C': 90},\n",
       " mean: 0.66083, std: 0.00181, params: {'verbose': False, 'tol': 0.009000000000000001, 'shrinking': True, 'random_state': 42, 'probability': False, 'max_iter': -1, 'kernel': 'rbf', 'gamma': 6.4, 'degree': 47, 'coef0': 0.1, 'class_weight': None, 'cache_size': 2000, 'C': 28},\n",
       " mean: 0.66083, std: 0.00181, params: {'verbose': False, 'tol': 0.005, 'shrinking': True, 'random_state': 42, 'probability': False, 'max_iter': -1, 'kernel': 'rbf', 'gamma': 5.800000000000001, 'degree': 67, 'coef0': 5.300000000000001, 'class_weight': None, 'cache_size': 2000, 'C': 3},\n",
       " mean: 0.66083, std: 0.00181, params: {'verbose': False, 'tol': 0.010000000000000002, 'shrinking': True, 'random_state': 42, 'probability': False, 'max_iter': -1, 'kernel': 'rbf', 'gamma': 8.200000000000001, 'degree': 76, 'coef0': 2.7, 'class_weight': None, 'cache_size': 2000, 'C': 28},\n",
       " mean: 0.66083, std: 0.00181, params: {'verbose': False, 'tol': 0.008, 'shrinking': True, 'random_state': 42, 'probability': False, 'max_iter': -1, 'kernel': 'rbf', 'gamma': 1.4000000000000001, 'degree': 72, 'coef0': 4.4, 'class_weight': None, 'cache_size': 2000, 'C': 82},\n",
       " mean: 0.66083, std: 0.00181, params: {'verbose': False, 'tol': 0.003, 'shrinking': True, 'random_state': 42, 'probability': False, 'max_iter': -1, 'kernel': 'rbf', 'gamma': 7.6000000000000005, 'degree': 88, 'coef0': 5.6000000000000005, 'class_weight': None, 'cache_size': 2000, 'C': 85},\n",
       " mean: 0.66083, std: 0.00181, params: {'verbose': False, 'tol': 0.002, 'shrinking': True, 'random_state': 42, 'probability': False, 'max_iter': -1, 'kernel': 'rbf', 'gamma': 6.2, 'degree': 60, 'coef0': 6.6000000000000005, 'class_weight': None, 'cache_size': 2000, 'C': 30},\n",
       " mean: 0.66083, std: 0.00181, params: {'verbose': False, 'tol': 0.010000000000000002, 'shrinking': True, 'random_state': 42, 'probability': False, 'max_iter': -1, 'kernel': 'rbf', 'gamma': 7.9, 'degree': 41, 'coef0': 2.8000000000000003, 'class_weight': None, 'cache_size': 2000, 'C': 60},\n",
       " mean: 0.66083, std: 0.00181, params: {'verbose': False, 'tol': 0.007, 'shrinking': True, 'random_state': 42, 'probability': False, 'max_iter': -1, 'kernel': 'rbf', 'gamma': 0.0, 'degree': 4, 'coef0': 0.1, 'class_weight': None, 'cache_size': 2000, 'C': 94},\n",
       " mean: 0.66083, std: 0.00181, params: {'verbose': False, 'tol': 0.006, 'shrinking': True, 'random_state': 42, 'probability': False, 'max_iter': -1, 'kernel': 'rbf', 'gamma': 9.200000000000001, 'degree': 97, 'coef0': 9.9, 'class_weight': None, 'cache_size': 2000, 'C': 18},\n",
       " mean: 0.66083, std: 0.00181, params: {'verbose': False, 'tol': 0.002, 'shrinking': True, 'random_state': 42, 'probability': False, 'max_iter': -1, 'kernel': 'rbf', 'gamma': 0.4, 'degree': 64, 'coef0': 1.8, 'class_weight': None, 'cache_size': 2000, 'C': 82},\n",
       " mean: 0.66083, std: 0.00181, params: {'verbose': False, 'tol': 0.005, 'shrinking': True, 'random_state': 42, 'probability': False, 'max_iter': -1, 'kernel': 'rbf', 'gamma': 2.4000000000000004, 'degree': 72, 'coef0': 5.2, 'class_weight': None, 'cache_size': 2000, 'C': 99},\n",
       " mean: 0.66083, std: 0.00181, params: {'verbose': False, 'tol': 0.010000000000000002, 'shrinking': True, 'random_state': 42, 'probability': False, 'max_iter': -1, 'kernel': 'rbf', 'gamma': 0.7000000000000001, 'degree': 81, 'coef0': 0.8, 'class_weight': None, 'cache_size': 2000, 'C': 39},\n",
       " mean: 0.66083, std: 0.00181, params: {'verbose': False, 'tol': 0.009000000000000001, 'shrinking': True, 'random_state': 42, 'probability': False, 'max_iter': -1, 'kernel': 'rbf', 'gamma': 5.4, 'degree': 46, 'coef0': 7.5, 'class_weight': None, 'cache_size': 2000, 'C': 99},\n",
       " mean: 0.66083, std: 0.00181, params: {'verbose': False, 'tol': 0.007, 'shrinking': True, 'random_state': 42, 'probability': False, 'max_iter': -1, 'kernel': 'rbf', 'gamma': 7.2, 'degree': 32, 'coef0': 6.300000000000001, 'class_weight': None, 'cache_size': 2000, 'C': 77},\n",
       " mean: 0.66083, std: 0.00181, params: {'verbose': False, 'tol': 0.004, 'shrinking': True, 'random_state': 42, 'probability': False, 'max_iter': -1, 'kernel': 'rbf', 'gamma': 2.2, 'degree': 39, 'coef0': 3.5, 'class_weight': None, 'cache_size': 2000, 'C': 40},\n",
       " mean: 0.66083, std: 0.00181, params: {'verbose': False, 'tol': 0.009000000000000001, 'shrinking': True, 'random_state': 42, 'probability': False, 'max_iter': -1, 'kernel': 'rbf', 'gamma': 1.3, 'degree': 50, 'coef0': 2.3000000000000003, 'class_weight': None, 'cache_size': 2000, 'C': 27},\n",
       " mean: 0.66083, std: 0.00181, params: {'verbose': False, 'tol': 0.002, 'shrinking': True, 'random_state': 42, 'probability': False, 'max_iter': -1, 'kernel': 'rbf', 'gamma': 8.3, 'degree': 31, 'coef0': 6.5, 'class_weight': None, 'cache_size': 2000, 'C': 38},\n",
       " mean: 0.66083, std: 0.00181, params: {'verbose': False, 'tol': 0.007, 'shrinking': True, 'random_state': 42, 'probability': False, 'max_iter': -1, 'kernel': 'rbf', 'gamma': 2.5, 'degree': 69, 'coef0': 4.4, 'class_weight': None, 'cache_size': 2000, 'C': 49},\n",
       " mean: 0.66083, std: 0.00181, params: {'verbose': False, 'tol': 0.010000000000000002, 'shrinking': True, 'random_state': 42, 'probability': False, 'max_iter': -1, 'kernel': 'rbf', 'gamma': 1.4000000000000001, 'degree': 51, 'coef0': 8.6, 'class_weight': None, 'cache_size': 2000, 'C': 75},\n",
       " mean: 0.66083, std: 0.00181, params: {'verbose': False, 'tol': 0.001, 'shrinking': True, 'random_state': 42, 'probability': False, 'max_iter': -1, 'kernel': 'rbf', 'gamma': 6.9, 'degree': 86, 'coef0': 6.0, 'class_weight': None, 'cache_size': 2000, 'C': 19},\n",
       " mean: 0.66083, std: 0.00181, params: {'verbose': False, 'tol': 0.003, 'shrinking': True, 'random_state': 42, 'probability': False, 'max_iter': -1, 'kernel': 'rbf', 'gamma': 7.4, 'degree': 20, 'coef0': 8.700000000000001, 'class_weight': None, 'cache_size': 2000, 'C': 26},\n",
       " mean: 0.66083, std: 0.00181, params: {'verbose': False, 'tol': 0.008, 'shrinking': True, 'random_state': 42, 'probability': False, 'max_iter': -1, 'kernel': 'rbf', 'gamma': 6.1000000000000005, 'degree': 81, 'coef0': 1.7000000000000002, 'class_weight': None, 'cache_size': 2000, 'C': 17},\n",
       " mean: 0.66083, std: 0.00181, params: {'verbose': False, 'tol': 0.001, 'shrinking': True, 'random_state': 42, 'probability': False, 'max_iter': -1, 'kernel': 'rbf', 'gamma': 7.9, 'degree': 4, 'coef0': 7.9, 'class_weight': None, 'cache_size': 2000, 'C': 61},\n",
       " mean: 0.66083, std: 0.00181, params: {'verbose': False, 'tol': 0.004, 'shrinking': True, 'random_state': 42, 'probability': False, 'max_iter': -1, 'kernel': 'rbf', 'gamma': 6.800000000000001, 'degree': 99, 'coef0': 0.2, 'class_weight': None, 'cache_size': 2000, 'C': 47},\n",
       " mean: 0.66083, std: 0.00181, params: {'verbose': False, 'tol': 0.004, 'shrinking': True, 'random_state': 42, 'probability': False, 'max_iter': -1, 'kernel': 'rbf', 'gamma': 4.1000000000000005, 'degree': 14, 'coef0': 1.6, 'class_weight': None, 'cache_size': 2000, 'C': 29},\n",
       " mean: 0.66083, std: 0.00181, params: {'verbose': False, 'tol': 0.005, 'shrinking': True, 'random_state': 42, 'probability': False, 'max_iter': -1, 'kernel': 'rbf', 'gamma': 3.3000000000000003, 'degree': 97, 'coef0': 1.0, 'class_weight': None, 'cache_size': 2000, 'C': 25},\n",
       " mean: 0.66083, std: 0.00181, params: {'verbose': False, 'tol': 0.002, 'shrinking': True, 'random_state': 42, 'probability': False, 'max_iter': -1, 'kernel': 'rbf', 'gamma': 8.4, 'degree': 38, 'coef0': 4.2, 'class_weight': None, 'cache_size': 2000, 'C': 57},\n",
       " mean: 0.66083, std: 0.00181, params: {'verbose': False, 'tol': 0.005, 'shrinking': True, 'random_state': 42, 'probability': False, 'max_iter': -1, 'kernel': 'rbf', 'gamma': 8.1, 'degree': 66, 'coef0': 4.800000000000001, 'class_weight': None, 'cache_size': 2000, 'C': 34},\n",
       " mean: 0.66083, std: 0.00181, params: {'verbose': False, 'tol': 0.010000000000000002, 'shrinking': True, 'random_state': 42, 'probability': False, 'max_iter': -1, 'kernel': 'rbf', 'gamma': 6.9, 'degree': 46, 'coef0': 7.9, 'class_weight': None, 'cache_size': 2000, 'C': 61},\n",
       " mean: 0.66083, std: 0.00181, params: {'verbose': False, 'tol': 0.005, 'shrinking': True, 'random_state': 42, 'probability': False, 'max_iter': -1, 'kernel': 'rbf', 'gamma': 2.8000000000000003, 'degree': 34, 'coef0': 9.700000000000001, 'class_weight': None, 'cache_size': 2000, 'C': 67},\n",
       " mean: 0.66083, std: 0.00181, params: {'verbose': False, 'tol': 0.009000000000000001, 'shrinking': True, 'random_state': 42, 'probability': False, 'max_iter': -1, 'kernel': 'rbf', 'gamma': 6.5, 'degree': 43, 'coef0': 5.800000000000001, 'class_weight': None, 'cache_size': 2000, 'C': 70},\n",
       " mean: 0.66083, std: 0.00181, params: {'verbose': False, 'tol': 0.002, 'shrinking': True, 'random_state': 42, 'probability': False, 'max_iter': -1, 'kernel': 'rbf', 'gamma': 2.5, 'degree': 29, 'coef0': 1.8, 'class_weight': None, 'cache_size': 2000, 'C': 77},\n",
       " mean: 0.66083, std: 0.00181, params: {'verbose': False, 'tol': 0.006, 'shrinking': True, 'random_state': 42, 'probability': False, 'max_iter': -1, 'kernel': 'rbf', 'gamma': 7.7, 'degree': 9, 'coef0': 4.7, 'class_weight': None, 'cache_size': 2000, 'C': 68},\n",
       " mean: 0.66083, std: 0.00181, params: {'verbose': False, 'tol': 0.010000000000000002, 'shrinking': True, 'random_state': 42, 'probability': False, 'max_iter': -1, 'kernel': 'rbf', 'gamma': 5.800000000000001, 'degree': 92, 'coef0': 8.9, 'class_weight': None, 'cache_size': 2000, 'C': 67},\n",
       " mean: 0.66083, std: 0.00181, params: {'verbose': False, 'tol': 0.002, 'shrinking': True, 'random_state': 42, 'probability': False, 'max_iter': -1, 'kernel': 'rbf', 'gamma': 8.9, 'degree': 14, 'coef0': 2.3000000000000003, 'class_weight': None, 'cache_size': 2000, 'C': 25},\n",
       " mean: 0.66083, std: 0.00181, params: {'verbose': False, 'tol': 0.010000000000000002, 'shrinking': True, 'random_state': 42, 'probability': False, 'max_iter': -1, 'kernel': 'rbf', 'gamma': 8.6, 'degree': 3, 'coef0': 4.3, 'class_weight': None, 'cache_size': 2000, 'C': 7},\n",
       " mean: 0.66083, std: 0.00181, params: {'verbose': False, 'tol': 0.006, 'shrinking': True, 'random_state': 42, 'probability': False, 'max_iter': -1, 'kernel': 'rbf', 'gamma': 2.8000000000000003, 'degree': 90, 'coef0': 5.300000000000001, 'class_weight': None, 'cache_size': 2000, 'C': 33},\n",
       " mean: 0.66083, std: 0.00181, params: {'verbose': False, 'tol': 0.010000000000000002, 'shrinking': True, 'random_state': 42, 'probability': False, 'max_iter': -1, 'kernel': 'rbf', 'gamma': 5.9, 'degree': 1, 'coef0': 3.4000000000000004, 'class_weight': None, 'cache_size': 2000, 'C': 98},\n",
       " mean: 0.66083, std: 0.00181, params: {'verbose': False, 'tol': 0.005, 'shrinking': True, 'random_state': 42, 'probability': False, 'max_iter': -1, 'kernel': 'rbf', 'gamma': 4.2, 'degree': 52, 'coef0': 9.0, 'class_weight': None, 'cache_size': 2000, 'C': 33},\n",
       " mean: 0.66083, std: 0.00181, params: {'verbose': False, 'tol': 0.001, 'shrinking': True, 'random_state': 42, 'probability': False, 'max_iter': -1, 'kernel': 'rbf', 'gamma': 0.7000000000000001, 'degree': 48, 'coef0': 7.2, 'class_weight': None, 'cache_size': 2000, 'C': 69},\n",
       " mean: 0.66083, std: 0.00181, params: {'verbose': False, 'tol': 0.004, 'shrinking': True, 'random_state': 42, 'probability': False, 'max_iter': -1, 'kernel': 'rbf', 'gamma': 1.1, 'degree': 52, 'coef0': 5.7, 'class_weight': None, 'cache_size': 2000, 'C': 33},\n",
       " mean: 0.66083, std: 0.00181, params: {'verbose': False, 'tol': 0.010000000000000002, 'shrinking': True, 'random_state': 42, 'probability': False, 'max_iter': -1, 'kernel': 'rbf', 'gamma': 5.300000000000001, 'degree': 48, 'coef0': 4.7, 'class_weight': None, 'cache_size': 2000, 'C': 34},\n",
       " mean: 0.66083, std: 0.00181, params: {'verbose': False, 'tol': 0.002, 'shrinking': True, 'random_state': 42, 'probability': False, 'max_iter': -1, 'kernel': 'rbf', 'gamma': 7.4, 'degree': 20, 'coef0': 7.6000000000000005, 'class_weight': None, 'cache_size': 2000, 'C': 29},\n",
       " mean: 0.66083, std: 0.00181, params: {'verbose': False, 'tol': 0.006, 'shrinking': True, 'random_state': 42, 'probability': False, 'max_iter': -1, 'kernel': 'rbf', 'gamma': 8.200000000000001, 'degree': 12, 'coef0': 2.0, 'class_weight': None, 'cache_size': 2000, 'C': 41},\n",
       " mean: 0.66083, std: 0.00181, params: {'verbose': False, 'tol': 0.002, 'shrinking': True, 'random_state': 42, 'probability': False, 'max_iter': -1, 'kernel': 'rbf', 'gamma': 2.5, 'degree': 97, 'coef0': 7.5, 'class_weight': None, 'cache_size': 2000, 'C': 47},\n",
       " mean: 0.66083, std: 0.00181, params: {'verbose': False, 'tol': 0.008, 'shrinking': True, 'random_state': 42, 'probability': False, 'max_iter': -1, 'kernel': 'rbf', 'gamma': 8.0, 'degree': 17, 'coef0': 3.3000000000000003, 'class_weight': None, 'cache_size': 2000, 'C': 67},\n",
       " mean: 0.66083, std: 0.00181, params: {'verbose': False, 'tol': 0.009000000000000001, 'shrinking': True, 'random_state': 42, 'probability': False, 'max_iter': -1, 'kernel': 'rbf', 'gamma': 1.1, 'degree': 31, 'coef0': 9.600000000000001, 'class_weight': None, 'cache_size': 2000, 'C': 94},\n",
       " mean: 0.66083, std: 0.00181, params: {'verbose': False, 'tol': 0.004, 'shrinking': True, 'random_state': 42, 'probability': False, 'max_iter': -1, 'kernel': 'rbf', 'gamma': 5.7, 'degree': 55, 'coef0': 8.9, 'class_weight': None, 'cache_size': 2000, 'C': 40},\n",
       " mean: 0.66083, std: 0.00181, params: {'verbose': False, 'tol': 0.008, 'shrinking': True, 'random_state': 42, 'probability': False, 'max_iter': -1, 'kernel': 'rbf', 'gamma': 2.2, 'degree': 90, 'coef0': 9.4, 'class_weight': None, 'cache_size': 2000, 'C': 21},\n",
       " mean: 0.66083, std: 0.00181, params: {'verbose': False, 'tol': 0.007, 'shrinking': True, 'random_state': 42, 'probability': False, 'max_iter': -1, 'kernel': 'rbf', 'gamma': 4.6000000000000005, 'degree': 91, 'coef0': 8.200000000000001, 'class_weight': None, 'cache_size': 2000, 'C': 26},\n",
       " mean: 0.66083, std: 0.00181, params: {'verbose': False, 'tol': 0.001, 'shrinking': True, 'random_state': 42, 'probability': False, 'max_iter': -1, 'kernel': 'rbf', 'gamma': 9.200000000000001, 'degree': 39, 'coef0': 8.8, 'class_weight': None, 'cache_size': 2000, 'C': 82},\n",
       " mean: 0.66083, std: 0.00181, params: {'verbose': False, 'tol': 0.005, 'shrinking': True, 'random_state': 42, 'probability': False, 'max_iter': -1, 'kernel': 'rbf', 'gamma': 3.8000000000000003, 'degree': 71, 'coef0': 6.9, 'class_weight': None, 'cache_size': 2000, 'C': 12},\n",
       " mean: 0.66083, std: 0.00181, params: {'verbose': False, 'tol': 0.010000000000000002, 'shrinking': True, 'random_state': 42, 'probability': False, 'max_iter': -1, 'kernel': 'rbf', 'gamma': 3.2, 'degree': 46, 'coef0': 1.1, 'class_weight': None, 'cache_size': 2000, 'C': 32},\n",
       " mean: 0.66083, std: 0.00181, params: {'verbose': False, 'tol': 0.010000000000000002, 'shrinking': True, 'random_state': 42, 'probability': False, 'max_iter': -1, 'kernel': 'rbf', 'gamma': 4.3, 'degree': 92, 'coef0': 7.7, 'class_weight': None, 'cache_size': 2000, 'C': 72},\n",
       " mean: 0.66083, std: 0.00181, params: {'verbose': False, 'tol': 0.008, 'shrinking': True, 'random_state': 42, 'probability': False, 'max_iter': -1, 'kernel': 'rbf', 'gamma': 3.2, 'degree': 57, 'coef0': 5.4, 'class_weight': None, 'cache_size': 2000, 'C': 63},\n",
       " mean: 0.66083, std: 0.00181, params: {'verbose': False, 'tol': 0.006, 'shrinking': True, 'random_state': 42, 'probability': False, 'max_iter': -1, 'kernel': 'rbf', 'gamma': 8.200000000000001, 'degree': 53, 'coef0': 3.1, 'class_weight': None, 'cache_size': 2000, 'C': 36},\n",
       " mean: 0.66083, std: 0.00181, params: {'verbose': False, 'tol': 0.006, 'shrinking': True, 'random_state': 42, 'probability': False, 'max_iter': -1, 'kernel': 'rbf', 'gamma': 4.5, 'degree': 78, 'coef0': 0.1, 'class_weight': None, 'cache_size': 2000, 'C': 24},\n",
       " mean: 0.66083, std: 0.00181, params: {'verbose': False, 'tol': 0.001, 'shrinking': True, 'random_state': 42, 'probability': False, 'max_iter': -1, 'kernel': 'rbf', 'gamma': 9.4, 'degree': 43, 'coef0': 2.5, 'class_weight': None, 'cache_size': 2000, 'C': 35},\n",
       " mean: 0.66083, std: 0.00181, params: {'verbose': False, 'tol': 0.006, 'shrinking': True, 'random_state': 42, 'probability': False, 'max_iter': -1, 'kernel': 'rbf', 'gamma': 9.1, 'degree': 43, 'coef0': 9.4, 'class_weight': None, 'cache_size': 2000, 'C': 66},\n",
       " mean: 0.66083, std: 0.00181, params: {'verbose': False, 'tol': 0.005, 'shrinking': True, 'random_state': 42, 'probability': False, 'max_iter': -1, 'kernel': 'rbf', 'gamma': 4.1000000000000005, 'degree': 67, 'coef0': 7.2, 'class_weight': None, 'cache_size': 2000, 'C': 95},\n",
       " mean: 0.66083, std: 0.00181, params: {'verbose': False, 'tol': 0.005, 'shrinking': True, 'random_state': 42, 'probability': False, 'max_iter': -1, 'kernel': 'rbf', 'gamma': 4.5, 'degree': 69, 'coef0': 2.6, 'class_weight': None, 'cache_size': 2000, 'C': 60},\n",
       " mean: 0.66083, std: 0.00181, params: {'verbose': False, 'tol': 0.002, 'shrinking': True, 'random_state': 42, 'probability': False, 'max_iter': -1, 'kernel': 'rbf', 'gamma': 8.9, 'degree': 88, 'coef0': 4.800000000000001, 'class_weight': None, 'cache_size': 2000, 'C': 1},\n",
       " mean: 0.66083, std: 0.00181, params: {'verbose': False, 'tol': 0.007, 'shrinking': True, 'random_state': 42, 'probability': False, 'max_iter': -1, 'kernel': 'rbf', 'gamma': 4.2, 'degree': 71, 'coef0': 6.800000000000001, 'class_weight': None, 'cache_size': 2000, 'C': 82},\n",
       " mean: 0.66083, std: 0.00181, params: {'verbose': False, 'tol': 0.009000000000000001, 'shrinking': True, 'random_state': 42, 'probability': False, 'max_iter': -1, 'kernel': 'rbf', 'gamma': 2.2, 'degree': 45, 'coef0': 3.1, 'class_weight': None, 'cache_size': 2000, 'C': 43},\n",
       " mean: 0.66083, std: 0.00181, params: {'verbose': False, 'tol': 0.009000000000000001, 'shrinking': True, 'random_state': 42, 'probability': False, 'max_iter': -1, 'kernel': 'rbf', 'gamma': 2.4000000000000004, 'degree': 15, 'coef0': 1.0, 'class_weight': None, 'cache_size': 2000, 'C': 8},\n",
       " mean: 0.66083, std: 0.00181, params: {'verbose': False, 'tol': 0.006, 'shrinking': True, 'random_state': 42, 'probability': False, 'max_iter': -1, 'kernel': 'rbf', 'gamma': 4.2, 'degree': 13, 'coef0': 4.4, 'class_weight': None, 'cache_size': 2000, 'C': 85},\n",
       " mean: 0.66083, std: 0.00181, params: {'verbose': False, 'tol': 0.004, 'shrinking': True, 'random_state': 42, 'probability': False, 'max_iter': -1, 'kernel': 'rbf', 'gamma': 4.0, 'degree': 66, 'coef0': 3.2, 'class_weight': None, 'cache_size': 2000, 'C': 40},\n",
       " mean: 0.66083, std: 0.00181, params: {'verbose': False, 'tol': 0.010000000000000002, 'shrinking': True, 'random_state': 42, 'probability': False, 'max_iter': -1, 'kernel': 'rbf', 'gamma': 3.6, 'degree': 85, 'coef0': 7.9, 'class_weight': None, 'cache_size': 2000, 'C': 93},\n",
       " mean: 0.66083, std: 0.00181, params: {'verbose': False, 'tol': 0.007, 'shrinking': True, 'random_state': 42, 'probability': False, 'max_iter': -1, 'kernel': 'rbf', 'gamma': 1.5, 'degree': 91, 'coef0': 6.2, 'class_weight': None, 'cache_size': 2000, 'C': 37},\n",
       " mean: 0.66083, std: 0.00181, params: {'verbose': False, 'tol': 0.002, 'shrinking': True, 'random_state': 42, 'probability': False, 'max_iter': -1, 'kernel': 'rbf', 'gamma': 2.0, 'degree': 81, 'coef0': 9.700000000000001, 'class_weight': None, 'cache_size': 2000, 'C': 47},\n",
       " mean: 0.66083, std: 0.00181, params: {'verbose': False, 'tol': 0.004, 'shrinking': True, 'random_state': 42, 'probability': False, 'max_iter': -1, 'kernel': 'rbf', 'gamma': 5.7, 'degree': 42, 'coef0': 7.300000000000001, 'class_weight': None, 'cache_size': 2000, 'C': 36},\n",
       " mean: 0.66083, std: 0.00181, params: {'verbose': False, 'tol': 0.007, 'shrinking': True, 'random_state': 42, 'probability': False, 'max_iter': -1, 'kernel': 'rbf', 'gamma': 8.200000000000001, 'degree': 19, 'coef0': 2.5, 'class_weight': None, 'cache_size': 2000, 'C': 43},\n",
       " mean: 0.66083, std: 0.00181, params: {'verbose': False, 'tol': 0.006, 'shrinking': True, 'random_state': 42, 'probability': False, 'max_iter': -1, 'kernel': 'rbf', 'gamma': 0.0, 'degree': 21, 'coef0': 6.7, 'class_weight': None, 'cache_size': 2000, 'C': 71},\n",
       " mean: 0.66083, std: 0.00181, params: {'verbose': False, 'tol': 0.008, 'shrinking': True, 'random_state': 42, 'probability': False, 'max_iter': -1, 'kernel': 'rbf', 'gamma': 1.5, 'degree': 6, 'coef0': 4.9, 'class_weight': None, 'cache_size': 2000, 'C': 64},\n",
       " mean: 0.66083, std: 0.00181, params: {'verbose': False, 'tol': 0.004, 'shrinking': True, 'random_state': 42, 'probability': False, 'max_iter': -1, 'kernel': 'rbf', 'gamma': 5.300000000000001, 'degree': 95, 'coef0': 2.8000000000000003, 'class_weight': None, 'cache_size': 2000, 'C': 74},\n",
       " mean: 0.66083, std: 0.00181, params: {'verbose': False, 'tol': 0.001, 'shrinking': True, 'random_state': 42, 'probability': False, 'max_iter': -1, 'kernel': 'rbf', 'gamma': 5.2, 'degree': 93, 'coef0': 5.800000000000001, 'class_weight': None, 'cache_size': 2000, 'C': 89},\n",
       " mean: 0.66083, std: 0.00181, params: {'verbose': False, 'tol': 0.007, 'shrinking': True, 'random_state': 42, 'probability': False, 'max_iter': -1, 'kernel': 'rbf', 'gamma': 9.1, 'degree': 71, 'coef0': 1.8, 'class_weight': None, 'cache_size': 2000, 'C': 40},\n",
       " mean: 0.66083, std: 0.00181, params: {'verbose': False, 'tol': 0.008, 'shrinking': True, 'random_state': 42, 'probability': False, 'max_iter': -1, 'kernel': 'rbf', 'gamma': 7.1000000000000005, 'degree': 47, 'coef0': 3.8000000000000003, 'class_weight': None, 'cache_size': 2000, 'C': 4},\n",
       " mean: 0.66083, std: 0.00181, params: {'verbose': False, 'tol': 0.007, 'shrinking': True, 'random_state': 42, 'probability': False, 'max_iter': -1, 'kernel': 'rbf', 'gamma': 2.7, 'degree': 52, 'coef0': 6.0, 'class_weight': None, 'cache_size': 2000, 'C': 21},\n",
       " mean: 0.66083, std: 0.00181, params: {'verbose': False, 'tol': 0.004, 'shrinking': True, 'random_state': 42, 'probability': False, 'max_iter': -1, 'kernel': 'rbf', 'gamma': 7.6000000000000005, 'degree': 47, 'coef0': 8.3, 'class_weight': None, 'cache_size': 2000, 'C': 94},\n",
       " mean: 0.66083, std: 0.00181, params: {'verbose': False, 'tol': 0.002, 'shrinking': True, 'random_state': 42, 'probability': False, 'max_iter': -1, 'kernel': 'rbf', 'gamma': 5.6000000000000005, 'degree': 81, 'coef0': 9.700000000000001, 'class_weight': None, 'cache_size': 2000, 'C': 89},\n",
       " mean: 0.66083, std: 0.00181, params: {'verbose': False, 'tol': 0.008, 'shrinking': True, 'random_state': 42, 'probability': False, 'max_iter': -1, 'kernel': 'rbf', 'gamma': 1.3, 'degree': 87, 'coef0': 0.6000000000000001, 'class_weight': None, 'cache_size': 2000, 'C': 100},\n",
       " mean: 0.66083, std: 0.00181, params: {'verbose': False, 'tol': 0.010000000000000002, 'shrinking': True, 'random_state': 42, 'probability': False, 'max_iter': -1, 'kernel': 'rbf', 'gamma': 1.2000000000000002, 'degree': 59, 'coef0': 6.300000000000001, 'class_weight': None, 'cache_size': 2000, 'C': 43},\n",
       " mean: 0.66083, std: 0.00181, params: {'verbose': False, 'tol': 0.007, 'shrinking': True, 'random_state': 42, 'probability': False, 'max_iter': -1, 'kernel': 'rbf', 'gamma': 5.7, 'degree': 84, 'coef0': 9.0, 'class_weight': None, 'cache_size': 2000, 'C': 29},\n",
       " mean: 0.66083, std: 0.00181, params: {'verbose': False, 'tol': 0.003, 'shrinking': True, 'random_state': 42, 'probability': False, 'max_iter': -1, 'kernel': 'rbf', 'gamma': 5.6000000000000005, 'degree': 60, 'coef0': 8.4, 'class_weight': None, 'cache_size': 2000, 'C': 32},\n",
       " mean: 0.66083, std: 0.00181, params: {'verbose': False, 'tol': 0.008, 'shrinking': True, 'random_state': 42, 'probability': False, 'max_iter': -1, 'kernel': 'rbf', 'gamma': 7.9, 'degree': 20, 'coef0': 1.4000000000000001, 'class_weight': None, 'cache_size': 2000, 'C': 80},\n",
       " mean: 0.66083, std: 0.00181, params: {'verbose': False, 'tol': 0.009000000000000001, 'shrinking': True, 'random_state': 42, 'probability': False, 'max_iter': -1, 'kernel': 'rbf', 'gamma': 3.1, 'degree': 6, 'coef0': 1.2000000000000002, 'class_weight': None, 'cache_size': 2000, 'C': 89},\n",
       " mean: 0.66958, std: 0.00536, params: {'verbose': False, 'tol': 0.007, 'shrinking': True, 'random_state': 42, 'probability': False, 'max_iter': -1, 'kernel': 'rbf', 'gamma': 0.1, 'degree': 87, 'coef0': 1.0, 'class_weight': None, 'cache_size': 2000, 'C': 52},\n",
       " mean: 0.66083, std: 0.00181, params: {'verbose': False, 'tol': 0.005, 'shrinking': True, 'random_state': 42, 'probability': False, 'max_iter': -1, 'kernel': 'rbf', 'gamma': 6.2, 'degree': 8, 'coef0': 4.3, 'class_weight': None, 'cache_size': 2000, 'C': 26},\n",
       " mean: 0.66083, std: 0.00181, params: {'verbose': False, 'tol': 0.009000000000000001, 'shrinking': True, 'random_state': 42, 'probability': False, 'max_iter': -1, 'kernel': 'rbf', 'gamma': 5.2, 'degree': 65, 'coef0': 1.6, 'class_weight': None, 'cache_size': 2000, 'C': 61},\n",
       " mean: 0.66083, std: 0.00181, params: {'verbose': False, 'tol': 0.003, 'shrinking': True, 'random_state': 42, 'probability': False, 'max_iter': -1, 'kernel': 'rbf', 'gamma': 6.5, 'degree': 65, 'coef0': 2.8000000000000003, 'class_weight': None, 'cache_size': 2000, 'C': 57},\n",
       " mean: 0.66083, std: 0.00181, params: {'verbose': False, 'tol': 0.008, 'shrinking': True, 'random_state': 42, 'probability': False, 'max_iter': -1, 'kernel': 'rbf', 'gamma': 2.1, 'degree': 33, 'coef0': 2.6, 'class_weight': None, 'cache_size': 2000, 'C': 48},\n",
       " mean: 0.66083, std: 0.00181, params: {'verbose': False, 'tol': 0.006, 'shrinking': True, 'random_state': 42, 'probability': False, 'max_iter': -1, 'kernel': 'rbf', 'gamma': 8.4, 'degree': 49, 'coef0': 1.5, 'class_weight': None, 'cache_size': 2000, 'C': 68},\n",
       " mean: 0.66083, std: 0.00181, params: {'verbose': False, 'tol': 0.008, 'shrinking': True, 'random_state': 42, 'probability': False, 'max_iter': -1, 'kernel': 'rbf', 'gamma': 4.4, 'degree': 6, 'coef0': 7.9, 'class_weight': None, 'cache_size': 2000, 'C': 87},\n",
       " mean: 0.66083, std: 0.00181, params: {'verbose': False, 'tol': 0.009000000000000001, 'shrinking': True, 'random_state': 42, 'probability': False, 'max_iter': -1, 'kernel': 'rbf', 'gamma': 9.600000000000001, 'degree': 85, 'coef0': 5.9, 'class_weight': None, 'cache_size': 2000, 'C': 19},\n",
       " mean: 0.66083, std: 0.00181, params: {'verbose': False, 'tol': 0.009000000000000001, 'shrinking': True, 'random_state': 42, 'probability': False, 'max_iter': -1, 'kernel': 'rbf', 'gamma': 2.4000000000000004, 'degree': 98, 'coef0': 4.7, 'class_weight': None, 'cache_size': 2000, 'C': 19},\n",
       " mean: 0.66083, std: 0.00181, params: {'verbose': False, 'tol': 0.006, 'shrinking': True, 'random_state': 42, 'probability': False, 'max_iter': -1, 'kernel': 'rbf', 'gamma': 7.1000000000000005, 'degree': 93, 'coef0': 9.4, 'class_weight': None, 'cache_size': 2000, 'C': 21},\n",
       " mean: 0.66083, std: 0.00181, params: {'verbose': False, 'tol': 0.007, 'shrinking': True, 'random_state': 42, 'probability': False, 'max_iter': -1, 'kernel': 'rbf', 'gamma': 3.0, 'degree': 21, 'coef0': 9.1, 'class_weight': None, 'cache_size': 2000, 'C': 73},\n",
       " mean: 0.66083, std: 0.00181, params: {'verbose': False, 'tol': 0.002, 'shrinking': True, 'random_state': 42, 'probability': False, 'max_iter': -1, 'kernel': 'rbf', 'gamma': 6.4, 'degree': 55, 'coef0': 8.4, 'class_weight': None, 'cache_size': 2000, 'C': 71},\n",
       " mean: 0.66083, std: 0.00181, params: {'verbose': False, 'tol': 0.008, 'shrinking': True, 'random_state': 42, 'probability': False, 'max_iter': -1, 'kernel': 'rbf', 'gamma': 3.0, 'degree': 44, 'coef0': 3.1, 'class_weight': None, 'cache_size': 2000, 'C': 20},\n",
       " mean: 0.66083, std: 0.00181, params: {'verbose': False, 'tol': 0.009000000000000001, 'shrinking': True, 'random_state': 42, 'probability': False, 'max_iter': -1, 'kernel': 'rbf', 'gamma': 9.600000000000001, 'degree': 36, 'coef0': 9.600000000000001, 'class_weight': None, 'cache_size': 2000, 'C': 29},\n",
       " mean: 0.66083, std: 0.00181, params: {'verbose': False, 'tol': 0.002, 'shrinking': True, 'random_state': 42, 'probability': False, 'max_iter': -1, 'kernel': 'rbf', 'gamma': 3.0, 'degree': 31, 'coef0': 0.5, 'class_weight': None, 'cache_size': 2000, 'C': 42},\n",
       " mean: 0.66083, std: 0.00181, params: {'verbose': False, 'tol': 0.007, 'shrinking': True, 'random_state': 42, 'probability': False, 'max_iter': -1, 'kernel': 'rbf', 'gamma': 7.4, 'degree': 74, 'coef0': 7.800000000000001, 'class_weight': None, 'cache_size': 2000, 'C': 78},\n",
       " mean: 0.66083, std: 0.00181, params: {'verbose': False, 'tol': 0.009000000000000001, 'shrinking': True, 'random_state': 42, 'probability': False, 'max_iter': -1, 'kernel': 'rbf', 'gamma': 8.5, 'degree': 8, 'coef0': 2.9000000000000004, 'class_weight': None, 'cache_size': 2000, 'C': 4},\n",
       " mean: 0.66083, std: 0.00181, params: {'verbose': False, 'tol': 0.004, 'shrinking': True, 'random_state': 42, 'probability': False, 'max_iter': -1, 'kernel': 'rbf', 'gamma': 4.800000000000001, 'degree': 3, 'coef0': 9.4, 'class_weight': None, 'cache_size': 2000, 'C': 48},\n",
       " mean: 0.66083, std: 0.00181, params: {'verbose': False, 'tol': 0.008, 'shrinking': True, 'random_state': 42, 'probability': False, 'max_iter': -1, 'kernel': 'rbf', 'gamma': 9.8, 'degree': 5, 'coef0': 2.5, 'class_weight': None, 'cache_size': 2000, 'C': 33},\n",
       " mean: 0.66083, std: 0.00181, params: {'verbose': False, 'tol': 0.005, 'shrinking': True, 'random_state': 42, 'probability': False, 'max_iter': -1, 'kernel': 'rbf', 'gamma': 9.1, 'degree': 39, 'coef0': 6.2, 'class_weight': None, 'cache_size': 2000, 'C': 20},\n",
       " mean: 0.66083, std: 0.00181, params: {'verbose': False, 'tol': 0.009000000000000001, 'shrinking': True, 'random_state': 42, 'probability': False, 'max_iter': -1, 'kernel': 'rbf', 'gamma': 8.5, 'degree': 46, 'coef0': 0.4, 'class_weight': None, 'cache_size': 2000, 'C': 78},\n",
       " mean: 0.66083, std: 0.00181, params: {'verbose': False, 'tol': 0.006, 'shrinking': True, 'random_state': 42, 'probability': False, 'max_iter': -1, 'kernel': 'rbf', 'gamma': 2.7, 'degree': 27, 'coef0': 3.0, 'class_weight': None, 'cache_size': 2000, 'C': 88},\n",
       " mean: 0.66083, std: 0.00181, params: {'verbose': False, 'tol': 0.006, 'shrinking': True, 'random_state': 42, 'probability': False, 'max_iter': -1, 'kernel': 'rbf', 'gamma': 5.7, 'degree': 60, 'coef0': 0.1, 'class_weight': None, 'cache_size': 2000, 'C': 18},\n",
       " mean: 0.66083, std: 0.00181, params: {'verbose': False, 'tol': 0.010000000000000002, 'shrinking': True, 'random_state': 42, 'probability': False, 'max_iter': -1, 'kernel': 'rbf', 'gamma': 8.700000000000001, 'degree': 8, 'coef0': 0.7000000000000001, 'class_weight': None, 'cache_size': 2000, 'C': 21},\n",
       " mean: 0.66083, std: 0.00181, params: {'verbose': False, 'tol': 0.005, 'shrinking': True, 'random_state': 42, 'probability': False, 'max_iter': -1, 'kernel': 'rbf', 'gamma': 3.5, 'degree': 26, 'coef0': 9.3, 'class_weight': None, 'cache_size': 2000, 'C': 82},\n",
       " mean: 0.66083, std: 0.00181, params: {'verbose': False, 'tol': 0.002, 'shrinking': True, 'random_state': 42, 'probability': False, 'max_iter': -1, 'kernel': 'rbf', 'gamma': 5.7, 'degree': 66, 'coef0': 1.9000000000000001, 'class_weight': None, 'cache_size': 2000, 'C': 92},\n",
       " mean: 0.66083, std: 0.00181, params: {'verbose': False, 'tol': 0.010000000000000002, 'shrinking': True, 'random_state': 42, 'probability': False, 'max_iter': -1, 'kernel': 'rbf', 'gamma': 4.7, 'degree': 55, 'coef0': 9.4, 'class_weight': None, 'cache_size': 2000, 'C': 96},\n",
       " mean: 0.66083, std: 0.00181, params: {'verbose': False, 'tol': 0.009000000000000001, 'shrinking': True, 'random_state': 42, 'probability': False, 'max_iter': -1, 'kernel': 'rbf', 'gamma': 6.6000000000000005, 'degree': 94, 'coef0': 9.9, 'class_weight': None, 'cache_size': 2000, 'C': 19},\n",
       " mean: 0.66083, std: 0.00181, params: {'verbose': False, 'tol': 0.004, 'shrinking': True, 'random_state': 42, 'probability': False, 'max_iter': -1, 'kernel': 'rbf', 'gamma': 8.3, 'degree': 23, 'coef0': 4.3, 'class_weight': None, 'cache_size': 2000, 'C': 84},\n",
       " mean: 0.66083, std: 0.00181, params: {'verbose': False, 'tol': 0.010000000000000002, 'shrinking': True, 'random_state': 42, 'probability': False, 'max_iter': -1, 'kernel': 'rbf', 'gamma': 4.7, 'degree': 62, 'coef0': 0.7000000000000001, 'class_weight': None, 'cache_size': 2000, 'C': 29},\n",
       " mean: 0.66083, std: 0.00181, params: {'verbose': False, 'tol': 0.003, 'shrinking': True, 'random_state': 42, 'probability': False, 'max_iter': -1, 'kernel': 'rbf', 'gamma': 1.4000000000000001, 'degree': 79, 'coef0': 9.200000000000001, 'class_weight': None, 'cache_size': 2000, 'C': 100},\n",
       " mean: 0.66083, std: 0.00181, params: {'verbose': False, 'tol': 0.002, 'shrinking': True, 'random_state': 42, 'probability': False, 'max_iter': -1, 'kernel': 'rbf', 'gamma': 8.1, 'degree': 10, 'coef0': 6.1000000000000005, 'class_weight': None, 'cache_size': 2000, 'C': 24},\n",
       " mean: 0.66083, std: 0.00181, params: {'verbose': False, 'tol': 0.008, 'shrinking': True, 'random_state': 42, 'probability': False, 'max_iter': -1, 'kernel': 'rbf', 'gamma': 9.600000000000001, 'degree': 26, 'coef0': 6.2, 'class_weight': None, 'cache_size': 2000, 'C': 18},\n",
       " mean: 0.66083, std: 0.00181, params: {'verbose': False, 'tol': 0.007, 'shrinking': True, 'random_state': 42, 'probability': False, 'max_iter': -1, 'kernel': 'rbf', 'gamma': 3.6, 'degree': 97, 'coef0': 0.2, 'class_weight': None, 'cache_size': 2000, 'C': 26},\n",
       " mean: 0.66083, std: 0.00181, params: {'verbose': False, 'tol': 0.002, 'shrinking': True, 'random_state': 42, 'probability': False, 'max_iter': -1, 'kernel': 'rbf', 'gamma': 3.4000000000000004, 'degree': 88, 'coef0': 4.7, 'class_weight': None, 'cache_size': 2000, 'C': 73},\n",
       " mean: 0.66083, std: 0.00181, params: {'verbose': False, 'tol': 0.004, 'shrinking': True, 'random_state': 42, 'probability': False, 'max_iter': -1, 'kernel': 'rbf', 'gamma': 4.3, 'degree': 45, 'coef0': 3.3000000000000003, 'class_weight': None, 'cache_size': 2000, 'C': 83},\n",
       " mean: 0.66083, std: 0.00181, params: {'verbose': False, 'tol': 0.001, 'shrinking': True, 'random_state': 42, 'probability': False, 'max_iter': -1, 'kernel': 'rbf', 'gamma': 8.0, 'degree': 48, 'coef0': 5.800000000000001, 'class_weight': None, 'cache_size': 2000, 'C': 60},\n",
       " mean: 0.66083, std: 0.00181, params: {'verbose': False, 'tol': 0.001, 'shrinking': True, 'random_state': 42, 'probability': False, 'max_iter': -1, 'kernel': 'rbf', 'gamma': 0.2, 'degree': 57, 'coef0': 1.8, 'class_weight': None, 'cache_size': 2000, 'C': 100},\n",
       " mean: 0.66083, std: 0.00181, params: {'verbose': False, 'tol': 0.002, 'shrinking': True, 'random_state': 42, 'probability': False, 'max_iter': -1, 'kernel': 'rbf', 'gamma': 9.200000000000001, 'degree': 1, 'coef0': 4.3, 'class_weight': None, 'cache_size': 2000, 'C': 1},\n",
       " mean: 0.66083, std: 0.00181, params: {'verbose': False, 'tol': 0.003, 'shrinking': True, 'random_state': 42, 'probability': False, 'max_iter': -1, 'kernel': 'rbf', 'gamma': 6.5, 'degree': 12, 'coef0': 3.8000000000000003, 'class_weight': None, 'cache_size': 2000, 'C': 39},\n",
       " mean: 0.66083, std: 0.00181, params: {'verbose': False, 'tol': 0.006, 'shrinking': True, 'random_state': 42, 'probability': False, 'max_iter': -1, 'kernel': 'rbf', 'gamma': 5.9, 'degree': 98, 'coef0': 2.4000000000000004, 'class_weight': None, 'cache_size': 2000, 'C': 66},\n",
       " mean: 0.66083, std: 0.00181, params: {'verbose': False, 'tol': 0.005, 'shrinking': True, 'random_state': 42, 'probability': False, 'max_iter': -1, 'kernel': 'rbf', 'gamma': 6.0, 'degree': 42, 'coef0': 9.8, 'class_weight': None, 'cache_size': 2000, 'C': 72},\n",
       " mean: 0.66083, std: 0.00181, params: {'verbose': False, 'tol': 0.008, 'shrinking': True, 'random_state': 42, 'probability': False, 'max_iter': -1, 'kernel': 'rbf', 'gamma': 9.600000000000001, 'degree': 88, 'coef0': 0.8, 'class_weight': None, 'cache_size': 2000, 'C': 95},\n",
       " mean: 0.66083, std: 0.00181, params: {'verbose': False, 'tol': 0.007, 'shrinking': True, 'random_state': 42, 'probability': False, 'max_iter': -1, 'kernel': 'rbf', 'gamma': 0.6000000000000001, 'degree': 91, 'coef0': 1.0, 'class_weight': None, 'cache_size': 2000, 'C': 41},\n",
       " mean: 0.66083, std: 0.00181, params: {'verbose': False, 'tol': 0.007, 'shrinking': True, 'random_state': 42, 'probability': False, 'max_iter': -1, 'kernel': 'rbf', 'gamma': 1.3, 'degree': 43, 'coef0': 7.6000000000000005, 'class_weight': None, 'cache_size': 2000, 'C': 79},\n",
       " mean: 0.66083, std: 0.00181, params: {'verbose': False, 'tol': 0.009000000000000001, 'shrinking': True, 'random_state': 42, 'probability': False, 'max_iter': -1, 'kernel': 'rbf', 'gamma': 9.8, 'degree': 71, 'coef0': 2.0, 'class_weight': None, 'cache_size': 2000, 'C': 37},\n",
       " mean: 0.66083, std: 0.00181, params: {'verbose': False, 'tol': 0.003, 'shrinking': True, 'random_state': 42, 'probability': False, 'max_iter': -1, 'kernel': 'rbf', 'gamma': 2.1, 'degree': 58, 'coef0': 4.2, 'class_weight': None, 'cache_size': 2000, 'C': 35},\n",
       " mean: 0.66083, std: 0.00181, params: {'verbose': False, 'tol': 0.001, 'shrinking': True, 'random_state': 42, 'probability': False, 'max_iter': -1, 'kernel': 'rbf', 'gamma': 4.800000000000001, 'degree': 40, 'coef0': 1.2000000000000002, 'class_weight': None, 'cache_size': 2000, 'C': 76},\n",
       " mean: 0.66083, std: 0.00181, params: {'verbose': False, 'tol': 0.007, 'shrinking': True, 'random_state': 42, 'probability': False, 'max_iter': -1, 'kernel': 'rbf', 'gamma': 3.0, 'degree': 70, 'coef0': 3.6, 'class_weight': None, 'cache_size': 2000, 'C': 26},\n",
       " mean: 0.66083, std: 0.00181, params: {'verbose': False, 'tol': 0.007, 'shrinking': True, 'random_state': 42, 'probability': False, 'max_iter': -1, 'kernel': 'rbf', 'gamma': 9.4, 'degree': 95, 'coef0': 2.0, 'class_weight': None, 'cache_size': 2000, 'C': 77},\n",
       " mean: 0.66083, std: 0.00181, params: {'verbose': False, 'tol': 0.005, 'shrinking': True, 'random_state': 42, 'probability': False, 'max_iter': -1, 'kernel': 'rbf', 'gamma': 1.9000000000000001, 'degree': 67, 'coef0': 7.6000000000000005, 'class_weight': None, 'cache_size': 2000, 'C': 74},\n",
       " mean: 0.66083, std: 0.00181, params: {'verbose': False, 'tol': 0.010000000000000002, 'shrinking': True, 'random_state': 42, 'probability': False, 'max_iter': -1, 'kernel': 'rbf', 'gamma': 5.4, 'degree': 24, 'coef0': 0.7000000000000001, 'class_weight': None, 'cache_size': 2000, 'C': 81},\n",
       " mean: 0.66083, std: 0.00181, params: {'verbose': False, 'tol': 0.005, 'shrinking': True, 'random_state': 42, 'probability': False, 'max_iter': -1, 'kernel': 'rbf', 'gamma': 3.2, 'degree': 29, 'coef0': 4.7, 'class_weight': None, 'cache_size': 2000, 'C': 56},\n",
       " mean: 0.66083, std: 0.00181, params: {'verbose': False, 'tol': 0.002, 'shrinking': True, 'random_state': 42, 'probability': False, 'max_iter': -1, 'kernel': 'rbf', 'gamma': 3.3000000000000003, 'degree': 73, 'coef0': 1.9000000000000001, 'class_weight': None, 'cache_size': 2000, 'C': 42},\n",
       " mean: 0.66083, std: 0.00181, params: {'verbose': False, 'tol': 0.007, 'shrinking': True, 'random_state': 42, 'probability': False, 'max_iter': -1, 'kernel': 'rbf', 'gamma': 0.4, 'degree': 71, 'coef0': 9.1, 'class_weight': None, 'cache_size': 2000, 'C': 55},\n",
       " mean: 0.66083, std: 0.00181, params: {'verbose': False, 'tol': 0.004, 'shrinking': True, 'random_state': 42, 'probability': False, 'max_iter': -1, 'kernel': 'rbf', 'gamma': 4.0, 'degree': 62, 'coef0': 9.600000000000001, 'class_weight': None, 'cache_size': 2000, 'C': 17},\n",
       " mean: 0.66083, std: 0.00181, params: {'verbose': False, 'tol': 0.008, 'shrinking': True, 'random_state': 42, 'probability': False, 'max_iter': -1, 'kernel': 'rbf', 'gamma': 9.9, 'degree': 18, 'coef0': 3.8000000000000003, 'class_weight': None, 'cache_size': 2000, 'C': 88},\n",
       " mean: 0.66083, std: 0.00181, params: {'verbose': False, 'tol': 0.001, 'shrinking': True, 'random_state': 42, 'probability': False, 'max_iter': -1, 'kernel': 'rbf', 'gamma': 4.0, 'degree': 2, 'coef0': 1.7000000000000002, 'class_weight': None, 'cache_size': 2000, 'C': 23},\n",
       " mean: 0.66083, std: 0.00181, params: {'verbose': False, 'tol': 0.010000000000000002, 'shrinking': True, 'random_state': 42, 'probability': False, 'max_iter': -1, 'kernel': 'rbf', 'gamma': 4.5, 'degree': 60, 'coef0': 4.3, 'class_weight': None, 'cache_size': 2000, 'C': 81},\n",
       " mean: 0.66083, std: 0.00181, params: {'verbose': False, 'tol': 0.009000000000000001, 'shrinking': True, 'random_state': 42, 'probability': False, 'max_iter': -1, 'kernel': 'rbf', 'gamma': 6.800000000000001, 'degree': 4, 'coef0': 2.1, 'class_weight': None, 'cache_size': 2000, 'C': 57},\n",
       " mean: 0.66083, std: 0.00181, params: {'verbose': False, 'tol': 0.004, 'shrinking': True, 'random_state': 42, 'probability': False, 'max_iter': -1, 'kernel': 'rbf', 'gamma': 5.4, 'degree': 66, 'coef0': 2.7, 'class_weight': None, 'cache_size': 2000, 'C': 1},\n",
       " mean: 0.66083, std: 0.00181, params: {'verbose': False, 'tol': 0.002, 'shrinking': True, 'random_state': 42, 'probability': False, 'max_iter': -1, 'kernel': 'rbf', 'gamma': 4.4, 'degree': 38, 'coef0': 0.8, 'class_weight': None, 'cache_size': 2000, 'C': 39},\n",
       " mean: 0.66083, std: 0.00181, params: {'verbose': False, 'tol': 0.005, 'shrinking': True, 'random_state': 42, 'probability': False, 'max_iter': -1, 'kernel': 'rbf', 'gamma': 5.7, 'degree': 61, 'coef0': 9.9, 'class_weight': None, 'cache_size': 2000, 'C': 90},\n",
       " mean: 0.66083, std: 0.00181, params: {'verbose': False, 'tol': 0.004, 'shrinking': True, 'random_state': 42, 'probability': False, 'max_iter': -1, 'kernel': 'rbf', 'gamma': 3.0, 'degree': 96, 'coef0': 6.7, 'class_weight': None, 'cache_size': 2000, 'C': 68},\n",
       " mean: 0.66083, std: 0.00181, params: {'verbose': False, 'tol': 0.002, 'shrinking': True, 'random_state': 42, 'probability': False, 'max_iter': -1, 'kernel': 'rbf', 'gamma': 0.5, 'degree': 35, 'coef0': 7.300000000000001, 'class_weight': None, 'cache_size': 2000, 'C': 67},\n",
       " mean: 0.66083, std: 0.00181, params: {'verbose': False, 'tol': 0.009000000000000001, 'shrinking': True, 'random_state': 42, 'probability': False, 'max_iter': -1, 'kernel': 'rbf', 'gamma': 3.5, 'degree': 83, 'coef0': 3.6, 'class_weight': None, 'cache_size': 2000, 'C': 47},\n",
       " mean: 0.66083, std: 0.00181, params: {'verbose': False, 'tol': 0.005, 'shrinking': True, 'random_state': 42, 'probability': False, 'max_iter': -1, 'kernel': 'rbf', 'gamma': 2.1, 'degree': 40, 'coef0': 9.8, 'class_weight': None, 'cache_size': 2000, 'C': 63},\n",
       " mean: 0.66083, std: 0.00181, params: {'verbose': False, 'tol': 0.006, 'shrinking': True, 'random_state': 42, 'probability': False, 'max_iter': -1, 'kernel': 'rbf', 'gamma': 7.7, 'degree': 70, 'coef0': 5.2, 'class_weight': None, 'cache_size': 2000, 'C': 19},\n",
       " mean: 0.66083, std: 0.00181, params: {'verbose': False, 'tol': 0.007, 'shrinking': True, 'random_state': 42, 'probability': False, 'max_iter': -1, 'kernel': 'rbf', 'gamma': 3.0, 'degree': 76, 'coef0': 8.0, 'class_weight': None, 'cache_size': 2000, 'C': 40},\n",
       " mean: 0.66083, std: 0.00181, params: {'verbose': False, 'tol': 0.001, 'shrinking': True, 'random_state': 42, 'probability': False, 'max_iter': -1, 'kernel': 'rbf', 'gamma': 6.0, 'degree': 2, 'coef0': 6.9, 'class_weight': None, 'cache_size': 2000, 'C': 92},\n",
       " mean: 0.66083, std: 0.00181, params: {'verbose': False, 'tol': 0.003, 'shrinking': True, 'random_state': 42, 'probability': False, 'max_iter': -1, 'kernel': 'rbf', 'gamma': 1.8, 'degree': 88, 'coef0': 0.4, 'class_weight': None, 'cache_size': 2000, 'C': 67},\n",
       " mean: 0.66083, std: 0.00181, params: {'verbose': False, 'tol': 0.005, 'shrinking': True, 'random_state': 42, 'probability': False, 'max_iter': -1, 'kernel': 'rbf', 'gamma': 3.8000000000000003, 'degree': 0, 'coef0': 7.300000000000001, 'class_weight': None, 'cache_size': 2000, 'C': 41},\n",
       " mean: 0.66083, std: 0.00181, params: {'verbose': False, 'tol': 0.002, 'shrinking': True, 'random_state': 42, 'probability': False, 'max_iter': -1, 'kernel': 'rbf', 'gamma': 9.700000000000001, 'degree': 31, 'coef0': 8.0, 'class_weight': None, 'cache_size': 2000, 'C': 30},\n",
       " mean: 0.66083, std: 0.00181, params: {'verbose': False, 'tol': 0.005, 'shrinking': True, 'random_state': 42, 'probability': False, 'max_iter': -1, 'kernel': 'rbf', 'gamma': 3.4000000000000004, 'degree': 78, 'coef0': 7.300000000000001, 'class_weight': None, 'cache_size': 2000, 'C': 35},\n",
       " mean: 0.66083, std: 0.00181, params: {'verbose': False, 'tol': 0.010000000000000002, 'shrinking': True, 'random_state': 42, 'probability': False, 'max_iter': -1, 'kernel': 'rbf', 'gamma': 7.800000000000001, 'degree': 17, 'coef0': 6.6000000000000005, 'class_weight': None, 'cache_size': 2000, 'C': 55},\n",
       " mean: 0.66083, std: 0.00181, params: {'verbose': False, 'tol': 0.003, 'shrinking': True, 'random_state': 42, 'probability': False, 'max_iter': -1, 'kernel': 'rbf', 'gamma': 9.600000000000001, 'degree': 2, 'coef0': 7.1000000000000005, 'class_weight': None, 'cache_size': 2000, 'C': 2},\n",
       " mean: 0.66083, std: 0.00181, params: {'verbose': False, 'tol': 0.004, 'shrinking': True, 'random_state': 42, 'probability': False, 'max_iter': -1, 'kernel': 'rbf', 'gamma': 5.9, 'degree': 33, 'coef0': 9.8, 'class_weight': None, 'cache_size': 2000, 'C': 57},\n",
       " mean: 0.66083, std: 0.00181, params: {'verbose': False, 'tol': 0.003, 'shrinking': True, 'random_state': 42, 'probability': False, 'max_iter': -1, 'kernel': 'rbf', 'gamma': 8.1, 'degree': 39, 'coef0': 3.0, 'class_weight': None, 'cache_size': 2000, 'C': 81},\n",
       " mean: 0.66083, std: 0.00181, params: {'verbose': False, 'tol': 0.010000000000000002, 'shrinking': True, 'random_state': 42, 'probability': False, 'max_iter': -1, 'kernel': 'rbf', 'gamma': 8.5, 'degree': 26, 'coef0': 1.3, 'class_weight': None, 'cache_size': 2000, 'C': 83},\n",
       " mean: 0.66083, std: 0.00181, params: {'verbose': False, 'tol': 0.010000000000000002, 'shrinking': True, 'random_state': 42, 'probability': False, 'max_iter': -1, 'kernel': 'rbf', 'gamma': 9.1, 'degree': 66, 'coef0': 4.1000000000000005, 'class_weight': None, 'cache_size': 2000, 'C': 44},\n",
       " mean: 0.66083, std: 0.00181, params: {'verbose': False, 'tol': 0.005, 'shrinking': True, 'random_state': 42, 'probability': False, 'max_iter': -1, 'kernel': 'rbf', 'gamma': 7.5, 'degree': 57, 'coef0': 1.5, 'class_weight': None, 'cache_size': 2000, 'C': 94},\n",
       " mean: 0.66083, std: 0.00181, params: {'verbose': False, 'tol': 0.006, 'shrinking': True, 'random_state': 42, 'probability': False, 'max_iter': -1, 'kernel': 'rbf', 'gamma': 6.7, 'degree': 77, 'coef0': 3.2, 'class_weight': None, 'cache_size': 2000, 'C': 56},\n",
       " mean: 0.66083, std: 0.00181, params: {'verbose': False, 'tol': 0.010000000000000002, 'shrinking': True, 'random_state': 42, 'probability': False, 'max_iter': -1, 'kernel': 'rbf', 'gamma': 1.9000000000000001, 'degree': 60, 'coef0': 1.7000000000000002, 'class_weight': None, 'cache_size': 2000, 'C': 89},\n",
       " mean: 0.66083, std: 0.00181, params: {'verbose': False, 'tol': 0.010000000000000002, 'shrinking': True, 'random_state': 42, 'probability': False, 'max_iter': -1, 'kernel': 'rbf', 'gamma': 7.5, 'degree': 65, 'coef0': 7.800000000000001, 'class_weight': None, 'cache_size': 2000, 'C': 1},\n",
       " mean: 0.66083, std: 0.00181, params: {'verbose': False, 'tol': 0.006, 'shrinking': True, 'random_state': 42, 'probability': False, 'max_iter': -1, 'kernel': 'rbf', 'gamma': 9.8, 'degree': 21, 'coef0': 4.9, 'class_weight': None, 'cache_size': 2000, 'C': 39},\n",
       " mean: 0.66083, std: 0.00181, params: {'verbose': False, 'tol': 0.006, 'shrinking': True, 'random_state': 42, 'probability': False, 'max_iter': -1, 'kernel': 'rbf', 'gamma': 7.5, 'degree': 15, 'coef0': 1.9000000000000001, 'class_weight': None, 'cache_size': 2000, 'C': 4},\n",
       " mean: 0.66083, std: 0.00181, params: {'verbose': False, 'tol': 0.003, 'shrinking': True, 'random_state': 42, 'probability': False, 'max_iter': -1, 'kernel': 'rbf', 'gamma': 6.6000000000000005, 'degree': 73, 'coef0': 4.7, 'class_weight': None, 'cache_size': 2000, 'C': 24},\n",
       " mean: 0.66083, std: 0.00181, params: {'verbose': False, 'tol': 0.008, 'shrinking': True, 'random_state': 42, 'probability': False, 'max_iter': -1, 'kernel': 'rbf', 'gamma': 4.9, 'degree': 31, 'coef0': 3.4000000000000004, 'class_weight': None, 'cache_size': 2000, 'C': 90},\n",
       " mean: 0.66083, std: 0.00181, params: {'verbose': False, 'tol': 0.001, 'shrinking': True, 'random_state': 42, 'probability': False, 'max_iter': -1, 'kernel': 'rbf', 'gamma': 1.7000000000000002, 'degree': 72, 'coef0': 2.1, 'class_weight': None, 'cache_size': 2000, 'C': 75},\n",
       " mean: 0.66083, std: 0.00181, params: {'verbose': False, 'tol': 0.009000000000000001, 'shrinking': True, 'random_state': 42, 'probability': False, 'max_iter': -1, 'kernel': 'rbf', 'gamma': 0.9, 'degree': 34, 'coef0': 3.7, 'class_weight': None, 'cache_size': 2000, 'C': 41},\n",
       " mean: 0.66083, std: 0.00181, params: {'verbose': False, 'tol': 0.009000000000000001, 'shrinking': True, 'random_state': 42, 'probability': False, 'max_iter': -1, 'kernel': 'rbf', 'gamma': 9.9, 'degree': 23, 'coef0': 7.9, 'class_weight': None, 'cache_size': 2000, 'C': 28},\n",
       " mean: 0.66083, std: 0.00181, params: {'verbose': False, 'tol': 0.003, 'shrinking': True, 'random_state': 42, 'probability': False, 'max_iter': -1, 'kernel': 'rbf', 'gamma': 9.600000000000001, 'degree': 32, 'coef0': 7.2, 'class_weight': None, 'cache_size': 2000, 'C': 93},\n",
       " mean: 0.66083, std: 0.00181, params: {'verbose': False, 'tol': 0.005, 'shrinking': True, 'random_state': 42, 'probability': False, 'max_iter': -1, 'kernel': 'rbf', 'gamma': 6.300000000000001, 'degree': 85, 'coef0': 9.1, 'class_weight': None, 'cache_size': 2000, 'C': 38},\n",
       " mean: 0.66083, std: 0.00181, params: {'verbose': False, 'tol': 0.003, 'shrinking': True, 'random_state': 42, 'probability': False, 'max_iter': -1, 'kernel': 'rbf', 'gamma': 6.5, 'degree': 5, 'coef0': 9.5, 'class_weight': None, 'cache_size': 2000, 'C': 36},\n",
       " mean: 0.66083, std: 0.00181, params: {'verbose': False, 'tol': 0.006, 'shrinking': True, 'random_state': 42, 'probability': False, 'max_iter': -1, 'kernel': 'rbf', 'gamma': 7.2, 'degree': 83, 'coef0': 7.5, 'class_weight': None, 'cache_size': 2000, 'C': 32},\n",
       " mean: 0.66083, std: 0.00181, params: {'verbose': False, 'tol': 0.008, 'shrinking': True, 'random_state': 42, 'probability': False, 'max_iter': -1, 'kernel': 'rbf', 'gamma': 9.4, 'degree': 6, 'coef0': 1.4000000000000001, 'class_weight': None, 'cache_size': 2000, 'C': 77},\n",
       " mean: 0.66083, std: 0.00181, params: {'verbose': False, 'tol': 0.002, 'shrinking': True, 'random_state': 42, 'probability': False, 'max_iter': -1, 'kernel': 'rbf', 'gamma': 3.9000000000000004, 'degree': 78, 'coef0': 2.5, 'class_weight': None, 'cache_size': 2000, 'C': 87},\n",
       " mean: 0.66083, std: 0.00181, params: {'verbose': False, 'tol': 0.006, 'shrinking': True, 'random_state': 42, 'probability': False, 'max_iter': -1, 'kernel': 'rbf', 'gamma': 9.600000000000001, 'degree': 36, 'coef0': 0.30000000000000004, 'class_weight': None, 'cache_size': 2000, 'C': 51},\n",
       " mean: 0.66083, std: 0.00181, params: {'verbose': False, 'tol': 0.001, 'shrinking': True, 'random_state': 42, 'probability': False, 'max_iter': -1, 'kernel': 'rbf', 'gamma': 6.800000000000001, 'degree': 65, 'coef0': 1.7000000000000002, 'class_weight': None, 'cache_size': 2000, 'C': 61},\n",
       " mean: 0.66083, std: 0.00181, params: {'verbose': False, 'tol': 0.003, 'shrinking': True, 'random_state': 42, 'probability': False, 'max_iter': -1, 'kernel': 'rbf', 'gamma': 0.9, 'degree': 67, 'coef0': 4.3, 'class_weight': None, 'cache_size': 2000, 'C': 45},\n",
       " mean: 0.66083, std: 0.00181, params: {'verbose': False, 'tol': 0.005, 'shrinking': True, 'random_state': 42, 'probability': False, 'max_iter': -1, 'kernel': 'rbf', 'gamma': 0.7000000000000001, 'degree': 86, 'coef0': 9.8, 'class_weight': None, 'cache_size': 2000, 'C': 76},\n",
       " mean: 0.66083, std: 0.00181, params: {'verbose': False, 'tol': 0.001, 'shrinking': True, 'random_state': 42, 'probability': False, 'max_iter': -1, 'kernel': 'rbf', 'gamma': 5.800000000000001, 'degree': 56, 'coef0': 1.5, 'class_weight': None, 'cache_size': 2000, 'C': 21},\n",
       " mean: 0.66083, std: 0.00181, params: {'verbose': False, 'tol': 0.001, 'shrinking': True, 'random_state': 42, 'probability': False, 'max_iter': -1, 'kernel': 'rbf', 'gamma': 6.2, 'degree': 88, 'coef0': 6.0, 'class_weight': None, 'cache_size': 2000, 'C': 85},\n",
       " mean: 0.66083, std: 0.00181, params: {'verbose': False, 'tol': 0.009000000000000001, 'shrinking': True, 'random_state': 42, 'probability': False, 'max_iter': -1, 'kernel': 'rbf', 'gamma': 6.7, 'degree': 12, 'coef0': 1.6, 'class_weight': None, 'cache_size': 2000, 'C': 50},\n",
       " mean: 0.66083, std: 0.00181, params: {'verbose': False, 'tol': 0.004, 'shrinking': True, 'random_state': 42, 'probability': False, 'max_iter': -1, 'kernel': 'rbf', 'gamma': 1.0, 'degree': 21, 'coef0': 0.6000000000000001, 'class_weight': None, 'cache_size': 2000, 'C': 22},\n",
       " mean: 0.66083, std: 0.00181, params: {'verbose': False, 'tol': 0.003, 'shrinking': True, 'random_state': 42, 'probability': False, 'max_iter': -1, 'kernel': 'rbf', 'gamma': 6.7, 'degree': 73, 'coef0': 3.0, 'class_weight': None, 'cache_size': 2000, 'C': 73},\n",
       " mean: 0.66083, std: 0.00181, params: {'verbose': False, 'tol': 0.005, 'shrinking': True, 'random_state': 42, 'probability': False, 'max_iter': -1, 'kernel': 'rbf', 'gamma': 7.9, 'degree': 68, 'coef0': 1.3, 'class_weight': None, 'cache_size': 2000, 'C': 81},\n",
       " mean: 0.66083, std: 0.00181, params: {'verbose': False, 'tol': 0.005, 'shrinking': True, 'random_state': 42, 'probability': False, 'max_iter': -1, 'kernel': 'rbf', 'gamma': 0.30000000000000004, 'degree': 39, 'coef0': 5.9, 'class_weight': None, 'cache_size': 2000, 'C': 20},\n",
       " mean: 0.66083, std: 0.00181, params: {'verbose': False, 'tol': 0.001, 'shrinking': True, 'random_state': 42, 'probability': False, 'max_iter': -1, 'kernel': 'rbf', 'gamma': 3.7, 'degree': 1, 'coef0': 1.4000000000000001, 'class_weight': None, 'cache_size': 2000, 'C': 84},\n",
       " mean: 0.66083, std: 0.00181, params: {'verbose': False, 'tol': 0.009000000000000001, 'shrinking': True, 'random_state': 42, 'probability': False, 'max_iter': -1, 'kernel': 'rbf', 'gamma': 3.4000000000000004, 'degree': 80, 'coef0': 0.6000000000000001, 'class_weight': None, 'cache_size': 2000, 'C': 35},\n",
       " mean: 0.66083, std: 0.00181, params: {'verbose': False, 'tol': 0.004, 'shrinking': True, 'random_state': 42, 'probability': False, 'max_iter': -1, 'kernel': 'rbf', 'gamma': 2.3000000000000003, 'degree': 6, 'coef0': 2.3000000000000003, 'class_weight': None, 'cache_size': 2000, 'C': 12},\n",
       " mean: 0.66083, std: 0.00181, params: {'verbose': False, 'tol': 0.007, 'shrinking': True, 'random_state': 42, 'probability': False, 'max_iter': -1, 'kernel': 'rbf', 'gamma': 0.2, 'degree': 41, 'coef0': 9.4, 'class_weight': None, 'cache_size': 2000, 'C': 12},\n",
       " mean: 0.66083, std: 0.00181, params: {'verbose': False, 'tol': 0.001, 'shrinking': True, 'random_state': 42, 'probability': False, 'max_iter': -1, 'kernel': 'rbf', 'gamma': 2.0, 'degree': 38, 'coef0': 5.1000000000000005, 'class_weight': None, 'cache_size': 2000, 'C': 82},\n",
       " mean: 0.66083, std: 0.00181, params: {'verbose': False, 'tol': 0.002, 'shrinking': True, 'random_state': 42, 'probability': False, 'max_iter': -1, 'kernel': 'rbf', 'gamma': 0.30000000000000004, 'degree': 6, 'coef0': 9.200000000000001, 'class_weight': None, 'cache_size': 2000, 'C': 53},\n",
       " mean: 0.66083, std: 0.00181, params: {'verbose': False, 'tol': 0.006, 'shrinking': True, 'random_state': 42, 'probability': False, 'max_iter': -1, 'kernel': 'rbf', 'gamma': 8.200000000000001, 'degree': 26, 'coef0': 0.7000000000000001, 'class_weight': None, 'cache_size': 2000, 'C': 10},\n",
       " mean: 0.66083, std: 0.00181, params: {'verbose': False, 'tol': 0.008, 'shrinking': True, 'random_state': 42, 'probability': False, 'max_iter': -1, 'kernel': 'rbf', 'gamma': 3.5, 'degree': 14, 'coef0': 9.0, 'class_weight': None, 'cache_size': 2000, 'C': 95},\n",
       " mean: 0.66083, std: 0.00181, params: {'verbose': False, 'tol': 0.004, 'shrinking': True, 'random_state': 42, 'probability': False, 'max_iter': -1, 'kernel': 'rbf', 'gamma': 2.8000000000000003, 'degree': 35, 'coef0': 2.7, 'class_weight': None, 'cache_size': 2000, 'C': 67},\n",
       " mean: 0.66083, std: 0.00181, params: {'verbose': False, 'tol': 0.002, 'shrinking': True, 'random_state': 42, 'probability': False, 'max_iter': -1, 'kernel': 'rbf', 'gamma': 0.9, 'degree': 37, 'coef0': 7.5, 'class_weight': None, 'cache_size': 2000, 'C': 62},\n",
       " mean: 0.66083, std: 0.00181, params: {'verbose': False, 'tol': 0.001, 'shrinking': True, 'random_state': 42, 'probability': False, 'max_iter': -1, 'kernel': 'rbf', 'gamma': 1.4000000000000001, 'degree': 25, 'coef0': 8.9, 'class_weight': None, 'cache_size': 2000, 'C': 22},\n",
       " mean: 0.66083, std: 0.00181, params: {'verbose': False, 'tol': 0.002, 'shrinking': True, 'random_state': 42, 'probability': False, 'max_iter': -1, 'kernel': 'rbf', 'gamma': 1.6, 'degree': 51, 'coef0': 4.6000000000000005, 'class_weight': None, 'cache_size': 2000, 'C': 96},\n",
       " mean: 0.66083, std: 0.00181, params: {'verbose': False, 'tol': 0.004, 'shrinking': True, 'random_state': 42, 'probability': False, 'max_iter': -1, 'kernel': 'rbf', 'gamma': 3.9000000000000004, 'degree': 32, 'coef0': 4.800000000000001, 'class_weight': None, 'cache_size': 2000, 'C': 99},\n",
       " mean: 0.66083, std: 0.00181, params: {'verbose': False, 'tol': 0.002, 'shrinking': True, 'random_state': 42, 'probability': False, 'max_iter': -1, 'kernel': 'rbf', 'gamma': 3.3000000000000003, 'degree': 83, 'coef0': 5.4, 'class_weight': None, 'cache_size': 2000, 'C': 66},\n",
       " mean: 0.66083, std: 0.00181, params: {'verbose': False, 'tol': 0.001, 'shrinking': True, 'random_state': 42, 'probability': False, 'max_iter': -1, 'kernel': 'rbf', 'gamma': 5.1000000000000005, 'degree': 11, 'coef0': 9.9, 'class_weight': None, 'cache_size': 2000, 'C': 68},\n",
       " mean: 0.66083, std: 0.00181, params: {'verbose': False, 'tol': 0.006, 'shrinking': True, 'random_state': 42, 'probability': False, 'max_iter': -1, 'kernel': 'rbf', 'gamma': 1.2000000000000002, 'degree': 61, 'coef0': 1.3, 'class_weight': None, 'cache_size': 2000, 'C': 44},\n",
       " mean: 0.66083, std: 0.00181, params: {'verbose': False, 'tol': 0.003, 'shrinking': True, 'random_state': 42, 'probability': False, 'max_iter': -1, 'kernel': 'rbf', 'gamma': 2.8000000000000003, 'degree': 0, 'coef0': 6.800000000000001, 'class_weight': None, 'cache_size': 2000, 'C': 28},\n",
       " mean: 0.66083, std: 0.00181, params: {'verbose': False, 'tol': 0.007, 'shrinking': True, 'random_state': 42, 'probability': False, 'max_iter': -1, 'kernel': 'rbf', 'gamma': 5.800000000000001, 'degree': 65, 'coef0': 7.1000000000000005, 'class_weight': None, 'cache_size': 2000, 'C': 22},\n",
       " mean: 0.66083, std: 0.00181, params: {'verbose': False, 'tol': 0.010000000000000002, 'shrinking': True, 'random_state': 42, 'probability': False, 'max_iter': -1, 'kernel': 'rbf', 'gamma': 1.8, 'degree': 73, 'coef0': 6.300000000000001, 'class_weight': None, 'cache_size': 2000, 'C': 29},\n",
       " mean: 0.66083, std: 0.00181, params: {'verbose': False, 'tol': 0.002, 'shrinking': True, 'random_state': 42, 'probability': False, 'max_iter': -1, 'kernel': 'rbf', 'gamma': 6.300000000000001, 'degree': 91, 'coef0': 0.2, 'class_weight': None, 'cache_size': 2000, 'C': 61},\n",
       " mean: 0.66083, std: 0.00181, params: {'verbose': False, 'tol': 0.006, 'shrinking': True, 'random_state': 42, 'probability': False, 'max_iter': -1, 'kernel': 'rbf', 'gamma': 2.5, 'degree': 4, 'coef0': 0.8, 'class_weight': None, 'cache_size': 2000, 'C': 72},\n",
       " mean: 0.66083, std: 0.00181, params: {'verbose': False, 'tol': 0.010000000000000002, 'shrinking': True, 'random_state': 42, 'probability': False, 'max_iter': -1, 'kernel': 'rbf', 'gamma': 8.1, 'degree': 3, 'coef0': 3.6, 'class_weight': None, 'cache_size': 2000, 'C': 16},\n",
       " mean: 0.66083, std: 0.00181, params: {'verbose': False, 'tol': 0.005, 'shrinking': True, 'random_state': 42, 'probability': False, 'max_iter': -1, 'kernel': 'rbf', 'gamma': 2.0, 'degree': 71, 'coef0': 6.800000000000001, 'class_weight': None, 'cache_size': 2000, 'C': 46},\n",
       " mean: 0.66083, std: 0.00181, params: {'verbose': False, 'tol': 0.006, 'shrinking': True, 'random_state': 42, 'probability': False, 'max_iter': -1, 'kernel': 'rbf', 'gamma': 0.6000000000000001, 'degree': 98, 'coef0': 7.5, 'class_weight': None, 'cache_size': 2000, 'C': 75},\n",
       " mean: 0.66083, std: 0.00181, params: {'verbose': False, 'tol': 0.009000000000000001, 'shrinking': True, 'random_state': 42, 'probability': False, 'max_iter': -1, 'kernel': 'rbf', 'gamma': 1.9000000000000001, 'degree': 47, 'coef0': 6.2, 'class_weight': None, 'cache_size': 2000, 'C': 84},\n",
       " mean: 0.66083, std: 0.00181, params: {'verbose': False, 'tol': 0.004, 'shrinking': True, 'random_state': 42, 'probability': False, 'max_iter': -1, 'kernel': 'rbf', 'gamma': 1.9000000000000001, 'degree': 27, 'coef0': 2.6, 'class_weight': None, 'cache_size': 2000, 'C': 25},\n",
       " mean: 0.66083, std: 0.00181, params: {'verbose': False, 'tol': 0.002, 'shrinking': True, 'random_state': 42, 'probability': False, 'max_iter': -1, 'kernel': 'rbf', 'gamma': 6.5, 'degree': 67, 'coef0': 0.8, 'class_weight': None, 'cache_size': 2000, 'C': 15},\n",
       " mean: 0.66083, std: 0.00181, params: {'verbose': False, 'tol': 0.006, 'shrinking': True, 'random_state': 42, 'probability': False, 'max_iter': -1, 'kernel': 'rbf', 'gamma': 5.800000000000001, 'degree': 80, 'coef0': 0.2, 'class_weight': None, 'cache_size': 2000, 'C': 79},\n",
       " mean: 0.66083, std: 0.00181, params: {'verbose': False, 'tol': 0.008, 'shrinking': True, 'random_state': 42, 'probability': False, 'max_iter': -1, 'kernel': 'rbf', 'gamma': 5.9, 'degree': 11, 'coef0': 7.800000000000001, 'class_weight': None, 'cache_size': 2000, 'C': 40},\n",
       " mean: 0.66083, std: 0.00181, params: {'verbose': False, 'tol': 0.006, 'shrinking': True, 'random_state': 42, 'probability': False, 'max_iter': -1, 'kernel': 'rbf', 'gamma': 8.5, 'degree': 23, 'coef0': 8.8, 'class_weight': None, 'cache_size': 2000, 'C': 4},\n",
       " mean: 0.66083, std: 0.00181, params: {'verbose': False, 'tol': 0.005, 'shrinking': True, 'random_state': 42, 'probability': False, 'max_iter': -1, 'kernel': 'rbf', 'gamma': 4.1000000000000005, 'degree': 71, 'coef0': 0.30000000000000004, 'class_weight': None, 'cache_size': 2000, 'C': 82},\n",
       " mean: 0.66083, std: 0.00181, params: {'verbose': False, 'tol': 0.004, 'shrinking': True, 'random_state': 42, 'probability': False, 'max_iter': -1, 'kernel': 'rbf', 'gamma': 8.700000000000001, 'degree': 9, 'coef0': 1.9000000000000001, 'class_weight': None, 'cache_size': 2000, 'C': 52},\n",
       " mean: 0.66083, std: 0.00181, params: {'verbose': False, 'tol': 0.002, 'shrinking': True, 'random_state': 42, 'probability': False, 'max_iter': -1, 'kernel': 'rbf', 'gamma': 2.6, 'degree': 37, 'coef0': 7.4, 'class_weight': None, 'cache_size': 2000, 'C': 73},\n",
       " mean: 0.66083, std: 0.00181, params: {'verbose': False, 'tol': 0.001, 'shrinking': True, 'random_state': 42, 'probability': False, 'max_iter': -1, 'kernel': 'rbf', 'gamma': 0.5, 'degree': 4, 'coef0': 0.5, 'class_weight': None, 'cache_size': 2000, 'C': 21},\n",
       " mean: 0.66083, std: 0.00181, params: {'verbose': False, 'tol': 0.008, 'shrinking': True, 'random_state': 42, 'probability': False, 'max_iter': -1, 'kernel': 'rbf', 'gamma': 6.300000000000001, 'degree': 0, 'coef0': 7.2, 'class_weight': None, 'cache_size': 2000, 'C': 89},\n",
       " mean: 0.66083, std: 0.00181, params: {'verbose': False, 'tol': 0.002, 'shrinking': True, 'random_state': 42, 'probability': False, 'max_iter': -1, 'kernel': 'rbf', 'gamma': 3.2, 'degree': 35, 'coef0': 0.4, 'class_weight': None, 'cache_size': 2000, 'C': 12},\n",
       " mean: 0.66083, std: 0.00181, params: {'verbose': False, 'tol': 0.002, 'shrinking': True, 'random_state': 42, 'probability': False, 'max_iter': -1, 'kernel': 'rbf', 'gamma': 4.4, 'degree': 29, 'coef0': 3.6, 'class_weight': None, 'cache_size': 2000, 'C': 35},\n",
       " mean: 0.66083, std: 0.00181, params: {'verbose': False, 'tol': 0.008, 'shrinking': True, 'random_state': 42, 'probability': False, 'max_iter': -1, 'kernel': 'rbf', 'gamma': 2.9000000000000004, 'degree': 29, 'coef0': 1.6, 'class_weight': None, 'cache_size': 2000, 'C': 86},\n",
       " mean: 0.66083, std: 0.00181, params: {'verbose': False, 'tol': 0.004, 'shrinking': True, 'random_state': 42, 'probability': False, 'max_iter': -1, 'kernel': 'rbf', 'gamma': 5.0, 'degree': 98, 'coef0': 0.1, 'class_weight': None, 'cache_size': 2000, 'C': 27},\n",
       " mean: 0.66083, std: 0.00181, params: {'verbose': False, 'tol': 0.010000000000000002, 'shrinking': True, 'random_state': 42, 'probability': False, 'max_iter': -1, 'kernel': 'rbf', 'gamma': 7.7, 'degree': 83, 'coef0': 8.4, 'class_weight': None, 'cache_size': 2000, 'C': 12},\n",
       " mean: 0.66083, std: 0.00181, params: {'verbose': False, 'tol': 0.010000000000000002, 'shrinking': True, 'random_state': 42, 'probability': False, 'max_iter': -1, 'kernel': 'rbf', 'gamma': 2.3000000000000003, 'degree': 67, 'coef0': 1.7000000000000002, 'class_weight': None, 'cache_size': 2000, 'C': 79},\n",
       " mean: 0.66083, std: 0.00181, params: {'verbose': False, 'tol': 0.006, 'shrinking': True, 'random_state': 42, 'probability': False, 'max_iter': -1, 'kernel': 'rbf', 'gamma': 9.3, 'degree': 26, 'coef0': 1.3, 'class_weight': None, 'cache_size': 2000, 'C': 56},\n",
       " mean: 0.66083, std: 0.00181, params: {'verbose': False, 'tol': 0.007, 'shrinking': True, 'random_state': 42, 'probability': False, 'max_iter': -1, 'kernel': 'rbf', 'gamma': 3.9000000000000004, 'degree': 52, 'coef0': 1.1, 'class_weight': None, 'cache_size': 2000, 'C': 49},\n",
       " mean: 0.66083, std: 0.00181, params: {'verbose': False, 'tol': 0.003, 'shrinking': True, 'random_state': 42, 'probability': False, 'max_iter': -1, 'kernel': 'rbf', 'gamma': 6.2, 'degree': 25, 'coef0': 4.800000000000001, 'class_weight': None, 'cache_size': 2000, 'C': 95},\n",
       " mean: 0.66083, std: 0.00181, params: {'verbose': False, 'tol': 0.010000000000000002, 'shrinking': True, 'random_state': 42, 'probability': False, 'max_iter': -1, 'kernel': 'rbf', 'gamma': 1.0, 'degree': 87, 'coef0': 1.3, 'class_weight': None, 'cache_size': 2000, 'C': 77},\n",
       " mean: 0.66083, std: 0.00181, params: {'verbose': False, 'tol': 0.010000000000000002, 'shrinking': True, 'random_state': 42, 'probability': False, 'max_iter': -1, 'kernel': 'rbf', 'gamma': 5.5, 'degree': 9, 'coef0': 4.7, 'class_weight': None, 'cache_size': 2000, 'C': 4},\n",
       " mean: 0.66083, std: 0.00181, params: {'verbose': False, 'tol': 0.005, 'shrinking': True, 'random_state': 42, 'probability': False, 'max_iter': -1, 'kernel': 'rbf', 'gamma': 4.9, 'degree': 66, 'coef0': 2.9000000000000004, 'class_weight': None, 'cache_size': 2000, 'C': 96},\n",
       " mean: 0.66083, std: 0.00181, params: {'verbose': False, 'tol': 0.001, 'shrinking': True, 'random_state': 42, 'probability': False, 'max_iter': -1, 'kernel': 'rbf', 'gamma': 0.8, 'degree': 20, 'coef0': 4.7, 'class_weight': None, 'cache_size': 2000, 'C': 19},\n",
       " mean: 0.66083, std: 0.00181, params: {'verbose': False, 'tol': 0.010000000000000002, 'shrinking': True, 'random_state': 42, 'probability': False, 'max_iter': -1, 'kernel': 'rbf', 'gamma': 7.0, 'degree': 65, 'coef0': 0.6000000000000001, 'class_weight': None, 'cache_size': 2000, 'C': 26},\n",
       " mean: 0.66083, std: 0.00181, params: {'verbose': False, 'tol': 0.005, 'shrinking': True, 'random_state': 42, 'probability': False, 'max_iter': -1, 'kernel': 'rbf', 'gamma': 3.4000000000000004, 'degree': 8, 'coef0': 8.0, 'class_weight': None, 'cache_size': 2000, 'C': 63},\n",
       " mean: 0.66083, std: 0.00181, params: {'verbose': False, 'tol': 0.010000000000000002, 'shrinking': True, 'random_state': 42, 'probability': False, 'max_iter': -1, 'kernel': 'rbf', 'gamma': 1.3, 'degree': 26, 'coef0': 5.1000000000000005, 'class_weight': None, 'cache_size': 2000, 'C': 51}]"
      ]
     },
     "execution_count": 23,
     "metadata": {},
     "output_type": "execute_result"
    }
   ],
   "source": [
    "random_search.grid_scores_"
   ]
  },
  {
   "cell_type": "code",
   "execution_count": 24,
   "metadata": {
    "collapsed": false
   },
   "outputs": [
    {
     "name": "stdout",
     "output_type": "stream",
     "text": [
      "0.669584245077\n"
     ]
    }
   ],
   "source": [
    "print( random_search.best_score_ )"
   ]
  },
  {
   "cell_type": "code",
   "execution_count": 25,
   "metadata": {
    "collapsed": false
   },
   "outputs": [
    {
     "data": {
      "text/plain": [
       "{'C': 52,\n",
       " 'cache_size': 2000,\n",
       " 'class_weight': None,\n",
       " 'coef0': 4.0,\n",
       " 'degree': 73,\n",
       " 'gamma': 0.1,\n",
       " 'kernel': 'rbf',\n",
       " 'max_iter': -1,\n",
       " 'probability': False,\n",
       " 'random_state': 42,\n",
       " 'shrinking': True,\n",
       " 'tol': 0.004,\n",
       " 'verbose': False}"
      ]
     },
     "execution_count": 25,
     "metadata": {},
     "output_type": "execute_result"
    }
   ],
   "source": [
    "random_search.best_params_"
   ]
  },
  {
   "cell_type": "code",
   "execution_count": 26,
   "metadata": {
    "collapsed": false
   },
   "outputs": [],
   "source": [
    "svc3=svm.SVC(C=52, cache_size=2000, class_weight=None, coef0=4.0,\n",
    "  decision_function_shape=None, degree=73, gamma=0.1, kernel='rbf',\n",
    "  max_iter=-1, probability=False, random_state=42, shrinking=True,\n",
    "  tol=0.004, verbose=False)"
   ]
  },
  {
   "cell_type": "code",
   "execution_count": 27,
   "metadata": {
    "collapsed": false
   },
   "outputs": [
    {
     "data": {
      "text/plain": [
       "SVC(C=52, cache_size=2000, class_weight=None, coef0=4.0,\n",
       "  decision_function_shape=None, degree=73, gamma=0.1, kernel='rbf',\n",
       "  max_iter=-1, probability=False, random_state=42, shrinking=True,\n",
       "  tol=0.004, verbose=False)"
      ]
     },
     "execution_count": 27,
     "metadata": {},
     "output_type": "execute_result"
    }
   ],
   "source": [
    "svc3.fit(X_train,y_train)"
   ]
  },
  {
   "cell_type": "code",
   "execution_count": 28,
   "metadata": {
    "collapsed": false
   },
   "outputs": [
    {
     "name": "stdout",
     "output_type": "stream",
     "text": [
      "Akurasi: 0.6372\n",
      "Precision: 1.0000\n",
      "Recall: 0.0238\n",
      "F1: 0.0465\n"
     ]
    }
   ],
   "source": [
    "y_pred3 = svc3.predict(X_test)\n",
    "accuracy = accuracy_score(y_test, y_pred3)\n",
    "precision, recall, f1, _ = precision_recall_fscore_support(y_test, y_pred3)\n",
    "print (('Akurasi: %.4f') % (accuracy))\n",
    "print (('Precision: %.4f') % (precision[1]))\n",
    "print (('Recall: %.4f') % (recall[1]))\n",
    "print (('F1: %.4f') % (f1[1]))"
   ]
  },
  {
   "cell_type": "markdown",
   "metadata": {},
   "source": [
    "# SVC3 sangat buruk, tapi precision 100%"
   ]
  },
  {
   "cell_type": "code",
   "execution_count": 29,
   "metadata": {
    "collapsed": false
   },
   "outputs": [],
   "source": [
    "import scipy\n",
    "svc_clf = SVC()\n",
    "svc_search_params = {'C': scipy.stats.expon(scale=1), \n",
    "                     'gamma': scipy.stats.expon(scale=.1),\n",
    "                     'kernel': ['rbf'],\n",
    "                     'class_weight':['balanced',None]}\n",
    "svc_search = RandomizedSearchCV(svc_clf, \n",
    "                                param_distributions=svc_search_params, \n",
    "                                n_iter=25)"
   ]
  },
  {
   "cell_type": "code",
   "execution_count": 30,
   "metadata": {
    "collapsed": false
   },
   "outputs": [
    {
     "data": {
      "text/plain": [
       "RandomizedSearchCV(cv=None, error_score='raise',\n",
       "          estimator=SVC(C=1.0, cache_size=200, class_weight=None, coef0=0.0,\n",
       "  decision_function_shape=None, degree=3, gamma='auto', kernel='rbf',\n",
       "  max_iter=-1, probability=False, random_state=None, shrinking=True,\n",
       "  tol=0.001, verbose=False),\n",
       "          fit_params={}, iid=True, n_iter=25, n_jobs=1,\n",
       "          param_distributions={'C': <scipy.stats._distn_infrastructure.rv_frozen object at 0x000000000A3E9F98>, 'gamma': <scipy.stats._distn_infrastructure.rv_frozen object at 0x000000000A3E95F8>, 'kernel': ['rbf'], 'class_weight': ['balanced', None]},\n",
       "          pre_dispatch='2*n_jobs', random_state=None, refit=True,\n",
       "          return_train_score=True, scoring=None, verbose=0)"
      ]
     },
     "execution_count": 30,
     "metadata": {},
     "output_type": "execute_result"
    }
   ],
   "source": [
    "svc_search.fit(X,y)"
   ]
  },
  {
   "cell_type": "code",
   "execution_count": 31,
   "metadata": {
    "collapsed": false
   },
   "outputs": [
    {
     "name": "stderr",
     "output_type": "stream",
     "text": [
      "C:\\Users\\Annisa\\Anaconda3\\lib\\site-packages\\sklearn\\model_selection\\_search.py:667: DeprecationWarning: The grid_scores_ attribute was deprecated in version 0.18 in favor of the more elaborate cv_results_ attribute. The grid_scores_ attribute will not be available from 0.20\n",
      "  DeprecationWarning)\n"
     ]
    },
    {
     "data": {
      "text/plain": [
       "[mean: 0.65007, std: 0.00135, params: {'C': 1.5116768870004593, 'class_weight': 'balanced', 'gamma': 0.19948971228092643, 'kernel': 'rbf'},\n",
       " mean: 0.45095, std: 0.14194, params: {'C': 0.029221189038445051, 'class_weight': 'balanced', 'gamma': 0.013062726148760273, 'kernel': 'rbf'},\n",
       " mean: 0.65007, std: 0.00135, params: {'C': 2.9568922531874637, 'class_weight': None, 'gamma': 0.18601239899986227, 'kernel': 'rbf'},\n",
       " mean: 0.35286, std: 0.00281, params: {'C': 0.51418613917345002, 'class_weight': 'balanced', 'gamma': 0.031790918360919976, 'kernel': 'rbf'},\n",
       " mean: 0.45095, std: 0.14194, params: {'C': 0.065926789488873441, 'class_weight': 'balanced', 'gamma': 0.13488581415707054, 'kernel': 'rbf'},\n",
       " mean: 0.65007, std: 0.00135, params: {'C': 1.5879841438341573, 'class_weight': 'balanced', 'gamma': 0.20907470552313787, 'kernel': 'rbf'},\n",
       " mean: 0.35578, std: 0.00424, params: {'C': 1.3760827795781549, 'class_weight': None, 'gamma': 0.066323796111509015, 'kernel': 'rbf'},\n",
       " mean: 0.33821, std: 0.01077, params: {'C': 0.50033540617691563, 'class_weight': 'balanced', 'gamma': 0.0085792113918598655, 'kernel': 'rbf'},\n",
       " mean: 0.45242, std: 0.14092, params: {'C': 0.74173757400960738, 'class_weight': None, 'gamma': 0.064316381833575256, 'kernel': 'rbf'},\n",
       " mean: 0.45242, std: 0.14092, params: {'C': 0.60694172518682199, 'class_weight': None, 'gamma': 0.050512838875021782, 'kernel': 'rbf'},\n",
       " mean: 0.65007, std: 0.00135, params: {'C': 1.1218217249903399, 'class_weight': None, 'gamma': 0.21852170920853953, 'kernel': 'rbf'},\n",
       " mean: 0.45095, std: 0.14194, params: {'C': 0.052893760544923112, 'class_weight': 'balanced', 'gamma': 0.013855266366235337, 'kernel': 'rbf'},\n",
       " mean: 0.65007, std: 0.00135, params: {'C': 1.3980544260318155, 'class_weight': None, 'gamma': 0.1675133648608369, 'kernel': 'rbf'},\n",
       " mean: 0.35432, std: 0.00488, params: {'C': 4.3440281293306349, 'class_weight': 'balanced', 'gamma': 0.031549089720932615, 'kernel': 'rbf'},\n",
       " mean: 0.45827, std: 0.14615, params: {'C': 0.47437525051444024, 'class_weight': None, 'gamma': 0.032245250102613879, 'kernel': 'rbf'},\n",
       " mean: 0.35578, std: 0.00424, params: {'C': 1.1531541054909273, 'class_weight': 'balanced', 'gamma': 0.097197329208424929, 'kernel': 'rbf'},\n",
       " mean: 0.34993, std: 0.00135, params: {'C': 0.31683363167330458, 'class_weight': 'balanced', 'gamma': 0.23615206070968695, 'kernel': 'rbf'},\n",
       " mean: 0.64861, std: 0.00298, params: {'C': 0.16790130857658891, 'class_weight': None, 'gamma': 0.016859848004312363, 'kernel': 'rbf'},\n",
       " mean: 0.45095, std: 0.14194, params: {'C': 0.062980254138255365, 'class_weight': 'balanced', 'gamma': 0.079599346558673761, 'kernel': 'rbf'},\n",
       " mean: 0.35432, std: 0.00488, params: {'C': 1.5741604294598124, 'class_weight': 'balanced', 'gamma': 0.0576320553734056, 'kernel': 'rbf'},\n",
       " mean: 0.35432, std: 0.00488, params: {'C': 5.6017066262412385, 'class_weight': None, 'gamma': 0.089363304670231181, 'kernel': 'rbf'},\n",
       " mean: 0.35725, std: 0.00619, params: {'C': 0.63206005879058413, 'class_weight': None, 'gamma': 0.029599453081549355, 'kernel': 'rbf'},\n",
       " mean: 0.35432, std: 0.00488, params: {'C': 3.2230355175925536, 'class_weight': 'balanced', 'gamma': 0.051211636748491544, 'kernel': 'rbf'},\n",
       " mean: 0.65007, std: 0.00135, params: {'C': 0.0082444803371291078, 'class_weight': None, 'gamma': 0.18070527371392758, 'kernel': 'rbf'},\n",
       " mean: 0.65007, std: 0.00135, params: {'C': 0.49766429280331159, 'class_weight': None, 'gamma': 0.12946823769113586, 'kernel': 'rbf'}]"
      ]
     },
     "execution_count": 31,
     "metadata": {},
     "output_type": "execute_result"
    }
   ],
   "source": [
    "svc_search.grid_scores_"
   ]
  },
  {
   "cell_type": "code",
   "execution_count": 32,
   "metadata": {
    "collapsed": false
   },
   "outputs": [
    {
     "data": {
      "text/plain": [
       "SVC(C=1.5116768870004593, cache_size=200, class_weight='balanced', coef0=0.0,\n",
       "  decision_function_shape=None, degree=3, gamma=0.19948971228092643,\n",
       "  kernel='rbf', max_iter=-1, probability=False, random_state=None,\n",
       "  shrinking=True, tol=0.001, verbose=False)"
      ]
     },
     "execution_count": 32,
     "metadata": {},
     "output_type": "execute_result"
    }
   ],
   "source": [
    "svc_search.best_estimator_"
   ]
  },
  {
   "cell_type": "code",
   "execution_count": 33,
   "metadata": {
    "collapsed": false
   },
   "outputs": [
    {
     "data": {
      "text/plain": [
       "0.65007320644216693"
      ]
     },
     "execution_count": 33,
     "metadata": {},
     "output_type": "execute_result"
    }
   ],
   "source": [
    "svc_search.best_score_"
   ]
  },
  {
   "cell_type": "code",
   "execution_count": 34,
   "metadata": {
    "collapsed": false
   },
   "outputs": [
    {
     "data": {
      "text/plain": [
       "SVC(C=1.5116768870004593, cache_size=200, class_weight='balanced', coef0=0.0,\n",
       "  decision_function_shape=None, degree=3, gamma=0.19948971228092643,\n",
       "  kernel='rbf', max_iter=-1, probability=False, random_state=None,\n",
       "  shrinking=True, tol=0.001, verbose=False)"
      ]
     },
     "execution_count": 34,
     "metadata": {},
     "output_type": "execute_result"
    }
   ],
   "source": [
    "svc6=SVC(C=1.5116768870004593, cache_size=200, class_weight='balanced', coef0=0.0,\n",
    "  decision_function_shape=None, degree=3, gamma=0.19948971228092643,\n",
    "  kernel='rbf', max_iter=-1, probability=False, random_state=None,\n",
    "  shrinking=True, tol=0.001, verbose=False)\n",
    "svc6.fit(X_train,y_train)"
   ]
  },
  {
   "cell_type": "code",
   "execution_count": 35,
   "metadata": {
    "collapsed": false
   },
   "outputs": [
    {
     "name": "stdout",
     "output_type": "stream",
     "text": [
      "Akurasi: 0.6283\n",
      "Precision: 0.0000\n",
      "Recall: 0.0000\n",
      "F1: 0.0000\n"
     ]
    },
    {
     "name": "stderr",
     "output_type": "stream",
     "text": [
      "C:\\Users\\Annisa\\Anaconda3\\lib\\site-packages\\sklearn\\metrics\\classification.py:1113: UndefinedMetricWarning: Precision and F-score are ill-defined and being set to 0.0 in labels with no predicted samples.\n",
      "  'precision', 'predicted', average, warn_for)\n"
     ]
    }
   ],
   "source": [
    "y_pred6 = svc6.predict(X_test)\n",
    "accuracy = accuracy_score(y_test, y_pred6)\n",
    "precision, recall, f1, _ = precision_recall_fscore_support(y_test, y_pred6)\n",
    "print (('Akurasi: %.4f') % (accuracy))\n",
    "print (('Precision: %.4f') % (precision[1]))\n",
    "print (('Recall: %.4f') % (recall[1]))\n",
    "print (('F1: %.4f') % (f1[1]))"
   ]
  },
  {
   "cell_type": "markdown",
   "metadata": {},
   "source": [
    "# svc6 tidak bagus sama sekali\n"
   ]
  },
  {
   "cell_type": "code",
   "execution_count": 36,
   "metadata": {
    "collapsed": false
   },
   "outputs": [
    {
     "name": "stdout",
     "output_type": "stream",
     "text": [
      "Automatically created module for IPython interactive environment\n",
      "# Tuning hyper-parameters for recall\n",
      "\n",
      "Best parameters set found on development set:\n",
      "\n",
      "{'C': 0.2, 'gamma': 0.002, 'kernel': 'rbf'}\n",
      "\n",
      "Grid scores on development set:\n",
      "\n",
      "0.500 (+/-0.000) for {'C': 2e-05, 'gamma': 2e-15, 'kernel': 'rbf'}\n",
      "0.500 (+/-0.000) for {'C': 2e-05, 'gamma': 2e-13, 'kernel': 'rbf'}\n",
      "0.500 (+/-0.000) for {'C': 2e-05, 'gamma': 2e-11, 'kernel': 'rbf'}\n",
      "0.500 (+/-0.000) for {'C': 2e-05, 'gamma': 2e-09, 'kernel': 'rbf'}\n",
      "0.500 (+/-0.000) for {'C': 2e-05, 'gamma': 2e-07, 'kernel': 'rbf'}\n",
      "0.500 (+/-0.000) for {'C': 2e-05, 'gamma': 2e-05, 'kernel': 'rbf'}\n",
      "0.500 (+/-0.000) for {'C': 2e-05, 'gamma': 0.002, 'kernel': 'rbf'}\n",
      "0.500 (+/-0.000) for {'C': 2e-05, 'gamma': 0.2, 'kernel': 'rbf'}\n",
      "0.500 (+/-0.000) for {'C': 2e-05, 'gamma': 20.0, 'kernel': 'rbf'}\n",
      "0.500 (+/-0.000) for {'C': 2e-05, 'gamma': 2000.0, 'kernel': 'rbf'}\n",
      "0.500 (+/-0.000) for {'C': 0.002, 'gamma': 2e-15, 'kernel': 'rbf'}\n",
      "0.500 (+/-0.000) for {'C': 0.002, 'gamma': 2e-13, 'kernel': 'rbf'}\n",
      "0.500 (+/-0.000) for {'C': 0.002, 'gamma': 2e-11, 'kernel': 'rbf'}\n",
      "0.500 (+/-0.000) for {'C': 0.002, 'gamma': 2e-09, 'kernel': 'rbf'}\n",
      "0.500 (+/-0.000) for {'C': 0.002, 'gamma': 2e-07, 'kernel': 'rbf'}\n",
      "0.500 (+/-0.000) for {'C': 0.002, 'gamma': 2e-05, 'kernel': 'rbf'}\n",
      "0.500 (+/-0.000) for {'C': 0.002, 'gamma': 0.002, 'kernel': 'rbf'}\n",
      "0.500 (+/-0.000) for {'C': 0.002, 'gamma': 0.2, 'kernel': 'rbf'}\n",
      "0.500 (+/-0.000) for {'C': 0.002, 'gamma': 20.0, 'kernel': 'rbf'}\n",
      "0.500 (+/-0.000) for {'C': 0.002, 'gamma': 2000.0, 'kernel': 'rbf'}\n",
      "0.500 (+/-0.000) for {'C': 0.2, 'gamma': 2e-15, 'kernel': 'rbf'}\n",
      "0.500 (+/-0.000) for {'C': 0.2, 'gamma': 2e-13, 'kernel': 'rbf'}\n",
      "0.500 (+/-0.000) for {'C': 0.2, 'gamma': 2e-11, 'kernel': 'rbf'}\n",
      "0.500 (+/-0.000) for {'C': 0.2, 'gamma': 2e-09, 'kernel': 'rbf'}\n",
      "0.500 (+/-0.000) for {'C': 0.2, 'gamma': 2e-07, 'kernel': 'rbf'}\n",
      "0.500 (+/-0.000) for {'C': 0.2, 'gamma': 2e-05, 'kernel': 'rbf'}\n",
      "0.638 (+/-0.085) for {'C': 0.2, 'gamma': 0.002, 'kernel': 'rbf'}\n",
      "0.500 (+/-0.000) for {'C': 0.2, 'gamma': 0.2, 'kernel': 'rbf'}\n",
      "0.500 (+/-0.000) for {'C': 0.2, 'gamma': 20.0, 'kernel': 'rbf'}\n",
      "0.500 (+/-0.000) for {'C': 0.2, 'gamma': 2000.0, 'kernel': 'rbf'}\n",
      "\n",
      "Detailed classification report:\n",
      "\n",
      "The model is trained on the full development set.\n",
      "The scores are computed on the full evaluation set.\n",
      "\n",
      "             precision    recall  f1-score   support\n",
      "\n",
      "          2       0.77      0.99      0.87       142\n",
      "          4       0.98      0.51      0.67        84\n",
      "\n",
      "avg / total       0.85      0.81      0.80       226\n",
      "\n",
      "\n"
     ]
    }
   ],
   "source": [
    "print(__doc__)\n",
    "\n",
    "# Loading the Digits dataset\n",
    "#digits = datasets.load_digits()\n",
    "\n",
    "# To apply an classifier on this data, we need to flatten the image, to\n",
    "# turn the data in a (samples, feature) matrix:\n",
    "\n",
    "# Set the parameters by cross-validation\n",
    "tuned_parameters = [{'kernel': ['rbf'], 'gamma': [2e-15,2e-13,2e-11, 2e-9,2e-7,2e-5, 2e-3,2e-1,2e1,2e3],\n",
    "                     'C': [2e-5,2e-3,2e-1]},]\n",
    "\n",
    "scores = ['recall']\n",
    "\n",
    "for score in scores:\n",
    "    print(\"# Tuning hyper-parameters for %s\" % score)\n",
    "    print()\n",
    "\n",
    "    clf2 = GridSearchCV(svr, tuned_parameters, cv=10,\n",
    "                       scoring='%s_macro' % score)\n",
    "    clf2.fit(X_train, y_train)\n",
    "\n",
    "    print(\"Best parameters set found on development set:\")\n",
    "    print()\n",
    "    print(clf2.best_params_)\n",
    "    print()\n",
    "    print(\"Grid scores on development set:\")\n",
    "    print()\n",
    "    means = clf2.cv_results_['mean_test_score']\n",
    "    stds = clf2.cv_results_['std_test_score']\n",
    "    for mean, std, params in zip(means, stds, clf2.cv_results_['params']):\n",
    "        print(\"%0.3f (+/-%0.03f) for %r\"\n",
    "              % (mean, std * 2, params))\n",
    "    print()\n",
    "\n",
    "    print(\"Detailed classification report:\")\n",
    "    print()\n",
    "    print(\"The model is trained on the full development set.\")\n",
    "    print(\"The scores are computed on the full evaluation set.\")\n",
    "    print()\n",
    "    y_true, y_pred = y_test, clf2.predict(X_test)\n",
    "    print(classification_report(y_true, y_pred))\n",
    "    print()"
   ]
  },
  {
   "cell_type": "code",
   "execution_count": 37,
   "metadata": {
    "collapsed": false
   },
   "outputs": [
    {
     "name": "stderr",
     "output_type": "stream",
     "text": [
      "C:\\Users\\Annisa\\Anaconda3\\lib\\site-packages\\sklearn\\model_selection\\_search.py:667: DeprecationWarning: The grid_scores_ attribute was deprecated in version 0.18 in favor of the more elaborate cv_results_ attribute. The grid_scores_ attribute will not be available from 0.20\n",
      "  DeprecationWarning)\n"
     ]
    },
    {
     "data": {
      "text/plain": [
       "[mean: 0.50000, std: 0.00000, params: {'C': 2e-05, 'gamma': 2e-15, 'kernel': 'rbf'},\n",
       " mean: 0.50000, std: 0.00000, params: {'C': 2e-05, 'gamma': 2e-13, 'kernel': 'rbf'},\n",
       " mean: 0.50000, std: 0.00000, params: {'C': 2e-05, 'gamma': 2e-11, 'kernel': 'rbf'},\n",
       " mean: 0.50000, std: 0.00000, params: {'C': 2e-05, 'gamma': 2e-09, 'kernel': 'rbf'},\n",
       " mean: 0.50000, std: 0.00000, params: {'C': 2e-05, 'gamma': 2e-07, 'kernel': 'rbf'},\n",
       " mean: 0.50000, std: 0.00000, params: {'C': 2e-05, 'gamma': 2e-05, 'kernel': 'rbf'},\n",
       " mean: 0.50000, std: 0.00000, params: {'C': 2e-05, 'gamma': 0.002, 'kernel': 'rbf'},\n",
       " mean: 0.50000, std: 0.00000, params: {'C': 2e-05, 'gamma': 0.2, 'kernel': 'rbf'},\n",
       " mean: 0.50000, std: 0.00000, params: {'C': 2e-05, 'gamma': 20.0, 'kernel': 'rbf'},\n",
       " mean: 0.50000, std: 0.00000, params: {'C': 2e-05, 'gamma': 2000.0, 'kernel': 'rbf'},\n",
       " mean: 0.50000, std: 0.00000, params: {'C': 0.002, 'gamma': 2e-15, 'kernel': 'rbf'},\n",
       " mean: 0.50000, std: 0.00000, params: {'C': 0.002, 'gamma': 2e-13, 'kernel': 'rbf'},\n",
       " mean: 0.50000, std: 0.00000, params: {'C': 0.002, 'gamma': 2e-11, 'kernel': 'rbf'},\n",
       " mean: 0.50000, std: 0.00000, params: {'C': 0.002, 'gamma': 2e-09, 'kernel': 'rbf'},\n",
       " mean: 0.50000, std: 0.00000, params: {'C': 0.002, 'gamma': 2e-07, 'kernel': 'rbf'},\n",
       " mean: 0.50000, std: 0.00000, params: {'C': 0.002, 'gamma': 2e-05, 'kernel': 'rbf'},\n",
       " mean: 0.50000, std: 0.00000, params: {'C': 0.002, 'gamma': 0.002, 'kernel': 'rbf'},\n",
       " mean: 0.50000, std: 0.00000, params: {'C': 0.002, 'gamma': 0.2, 'kernel': 'rbf'},\n",
       " mean: 0.50000, std: 0.00000, params: {'C': 0.002, 'gamma': 20.0, 'kernel': 'rbf'},\n",
       " mean: 0.50000, std: 0.00000, params: {'C': 0.002, 'gamma': 2000.0, 'kernel': 'rbf'},\n",
       " mean: 0.50000, std: 0.00000, params: {'C': 0.2, 'gamma': 2e-15, 'kernel': 'rbf'},\n",
       " mean: 0.50000, std: 0.00000, params: {'C': 0.2, 'gamma': 2e-13, 'kernel': 'rbf'},\n",
       " mean: 0.50000, std: 0.00000, params: {'C': 0.2, 'gamma': 2e-11, 'kernel': 'rbf'},\n",
       " mean: 0.50000, std: 0.00000, params: {'C': 0.2, 'gamma': 2e-09, 'kernel': 'rbf'},\n",
       " mean: 0.50000, std: 0.00000, params: {'C': 0.2, 'gamma': 2e-07, 'kernel': 'rbf'},\n",
       " mean: 0.50000, std: 0.00000, params: {'C': 0.2, 'gamma': 2e-05, 'kernel': 'rbf'},\n",
       " mean: 0.63843, std: 0.04272, params: {'C': 0.2, 'gamma': 0.002, 'kernel': 'rbf'},\n",
       " mean: 0.50000, std: 0.00000, params: {'C': 0.2, 'gamma': 0.2, 'kernel': 'rbf'},\n",
       " mean: 0.50000, std: 0.00000, params: {'C': 0.2, 'gamma': 20.0, 'kernel': 'rbf'},\n",
       " mean: 0.50000, std: 0.00000, params: {'C': 0.2, 'gamma': 2000.0, 'kernel': 'rbf'}]"
      ]
     },
     "execution_count": 37,
     "metadata": {},
     "output_type": "execute_result"
    }
   ],
   "source": [
    "clf2.grid_scores_"
   ]
  },
  {
   "cell_type": "code",
   "execution_count": 38,
   "metadata": {
    "collapsed": false
   },
   "outputs": [
    {
     "name": "stdout",
     "output_type": "stream",
     "text": [
      "Best accuracy obtained: 0.6384345368344274\n",
      "Parameters:\n",
      "\tC: 0.2\n",
      "\tgamma: 0.002\n",
      "\tkernel: rbf\n"
     ]
    }
   ],
   "source": [
    "print(\"Best accuracy obtained: {0}\".format(clf2.best_score_))\n",
    "print(\"Parameters:\")\n",
    "for key, value in clf2.best_params_.items():\n",
    "    print(\"\\t{}: {}\".format(key, value))"
   ]
  },
  {
   "cell_type": "code",
   "execution_count": 39,
   "metadata": {
    "collapsed": false
   },
   "outputs": [
    {
     "name": "stdout",
     "output_type": "stream",
     "text": [
      "Automatically created module for IPython interactive environment\n",
      "# Tuning hyper-parameters for recall\n",
      "\n",
      "Best parameters set found on development set:\n",
      "\n",
      "{'C': 2000.0, 'gamma': 2e-07, 'kernel': 'rbf'}\n",
      "\n",
      "Grid scores on development set:\n",
      "\n",
      "0.500 (+/-0.000) for {'C': 2, 'gamma': 2e-15, 'kernel': 'rbf'}\n",
      "0.500 (+/-0.000) for {'C': 2, 'gamma': 2e-13, 'kernel': 'rbf'}\n",
      "0.500 (+/-0.000) for {'C': 2, 'gamma': 2e-11, 'kernel': 'rbf'}\n",
      "0.500 (+/-0.000) for {'C': 2, 'gamma': 2e-09, 'kernel': 'rbf'}\n",
      "0.500 (+/-0.000) for {'C': 2, 'gamma': 2e-07, 'kernel': 'rbf'}\n",
      "0.729 (+/-0.114) for {'C': 2, 'gamma': 2e-05, 'kernel': 'rbf'}\n",
      "0.953 (+/-0.055) for {'C': 2, 'gamma': 0.002, 'kernel': 'rbf'}\n",
      "0.500 (+/-0.000) for {'C': 2, 'gamma': 0.2, 'kernel': 'rbf'}\n",
      "0.500 (+/-0.000) for {'C': 2, 'gamma': 20.0, 'kernel': 'rbf'}\n",
      "0.500 (+/-0.000) for {'C': 2, 'gamma': 2000.0, 'kernel': 'rbf'}\n",
      "0.500 (+/-0.000) for {'C': 2000.0, 'gamma': 2e-15, 'kernel': 'rbf'}\n",
      "0.500 (+/-0.000) for {'C': 2000.0, 'gamma': 2e-13, 'kernel': 'rbf'}\n",
      "0.500 (+/-0.000) for {'C': 2000.0, 'gamma': 2e-11, 'kernel': 'rbf'}\n",
      "0.500 (+/-0.000) for {'C': 2000.0, 'gamma': 2e-09, 'kernel': 'rbf'}\n",
      "0.971 (+/-0.043) for {'C': 2000.0, 'gamma': 2e-07, 'kernel': 'rbf'}\n",
      "0.971 (+/-0.044) for {'C': 2000.0, 'gamma': 2e-05, 'kernel': 'rbf'}\n",
      "0.945 (+/-0.057) for {'C': 2000.0, 'gamma': 0.002, 'kernel': 'rbf'}\n",
      "0.500 (+/-0.000) for {'C': 2000.0, 'gamma': 0.2, 'kernel': 'rbf'}\n",
      "0.500 (+/-0.000) for {'C': 2000.0, 'gamma': 20.0, 'kernel': 'rbf'}\n",
      "0.500 (+/-0.000) for {'C': 2000.0, 'gamma': 2000.0, 'kernel': 'rbf'}\n",
      "0.500 (+/-0.000) for {'C': 200000.0, 'gamma': 2e-15, 'kernel': 'rbf'}\n",
      "0.500 (+/-0.000) for {'C': 200000.0, 'gamma': 2e-13, 'kernel': 'rbf'}\n",
      "0.500 (+/-0.000) for {'C': 200000.0, 'gamma': 2e-11, 'kernel': 'rbf'}\n",
      "0.971 (+/-0.043) for {'C': 200000.0, 'gamma': 2e-09, 'kernel': 'rbf'}\n",
      "0.962 (+/-0.049) for {'C': 200000.0, 'gamma': 2e-07, 'kernel': 'rbf'}\n",
      "0.936 (+/-0.102) for {'C': 200000.0, 'gamma': 2e-05, 'kernel': 'rbf'}\n",
      "0.945 (+/-0.057) for {'C': 200000.0, 'gamma': 0.002, 'kernel': 'rbf'}\n",
      "0.500 (+/-0.000) for {'C': 200000.0, 'gamma': 0.2, 'kernel': 'rbf'}\n",
      "0.500 (+/-0.000) for {'C': 200000.0, 'gamma': 20.0, 'kernel': 'rbf'}\n",
      "0.500 (+/-0.000) for {'C': 200000.0, 'gamma': 2000.0, 'kernel': 'rbf'}\n",
      "0.500 (+/-0.000) for {'C': 20000000.0, 'gamma': 2e-15, 'kernel': 'rbf'}\n",
      "0.490 (+/-0.059) for {'C': 20000000.0, 'gamma': 2e-13, 'kernel': 'rbf'}\n",
      "0.931 (+/-0.080) for {'C': 20000000.0, 'gamma': 2e-11, 'kernel': 'rbf'}\n",
      "0.969 (+/-0.044) for {'C': 20000000.0, 'gamma': 2e-09, 'kernel': 'rbf'}\n",
      "0.953 (+/-0.051) for {'C': 20000000.0, 'gamma': 2e-07, 'kernel': 'rbf'}\n",
      "0.936 (+/-0.102) for {'C': 20000000.0, 'gamma': 2e-05, 'kernel': 'rbf'}\n",
      "0.945 (+/-0.057) for {'C': 20000000.0, 'gamma': 0.002, 'kernel': 'rbf'}\n",
      "0.500 (+/-0.000) for {'C': 20000000.0, 'gamma': 0.2, 'kernel': 'rbf'}\n",
      "0.500 (+/-0.000) for {'C': 20000000.0, 'gamma': 20.0, 'kernel': 'rbf'}\n",
      "0.500 (+/-0.000) for {'C': 20000000.0, 'gamma': 2000.0, 'kernel': 'rbf'}\n",
      "\n",
      "Detailed classification report:\n",
      "\n",
      "The model is trained on the full development set.\n",
      "The scores are computed on the full evaluation set.\n",
      "\n",
      "             precision    recall  f1-score   support\n",
      "\n",
      "          2       0.96      0.99      0.97       142\n",
      "          4       0.97      0.93      0.95        84\n",
      "\n",
      "avg / total       0.96      0.96      0.96       226\n",
      "\n",
      "\n"
     ]
    }
   ],
   "source": [
    "print(__doc__)\n",
    "\n",
    "# Loading the Digits dataset\n",
    "#digits = datasets.load_digits()\n",
    "\n",
    "# To apply an classifier on this data, we need to flatten the image, to\n",
    "# turn the data in a (samples, feature) matrix:\n",
    "\n",
    "# Set the parameters by cross-validation\n",
    "tuned_parameters = [{'kernel': ['rbf'], 'gamma': [2e-15,2e-13,2e-11, 2e-9,2e-7,2e-5, 2e-3,2e-1,2e1,2e3],\n",
    "                     'C': [2,2e3,2e5,2e7]},]\n",
    "\n",
    "scores = ['recall']\n",
    "\n",
    "for score in scores:\n",
    "    print(\"# Tuning hyper-parameters for %s\" % score)\n",
    "    print()\n",
    "\n",
    "    clf3 = GridSearchCV(svr, tuned_parameters, cv=10,\n",
    "                       scoring='%s_macro' % score)\n",
    "    clf3.fit(X_train, y_train)\n",
    "\n",
    "    print(\"Best parameters set found on development set:\")\n",
    "    print()\n",
    "    print(clf3.best_params_)\n",
    "    print()\n",
    "    print(\"Grid scores on development set:\")\n",
    "    print()\n",
    "    means = clf3.cv_results_['mean_test_score']\n",
    "    stds = clf3.cv_results_['std_test_score']\n",
    "    for mean, std, params in zip(means, stds, clf3.cv_results_['params']):\n",
    "        print(\"%0.3f (+/-%0.03f) for %r\"\n",
    "              % (mean, std * 2, params))\n",
    "    print()\n",
    "\n",
    "    print(\"Detailed classification report:\")\n",
    "    print()\n",
    "    print(\"The model is trained on the full development set.\")\n",
    "    print(\"The scores are computed on the full evaluation set.\")\n",
    "    print()\n",
    "    y_true, y_pred = y_test, clf3.predict(X_test)\n",
    "    print(classification_report(y_true, y_pred))\n",
    "    print()"
   ]
  },
  {
   "cell_type": "code",
   "execution_count": 40,
   "metadata": {
    "collapsed": false
   },
   "outputs": [
    {
     "name": "stdout",
     "output_type": "stream",
     "text": [
      "Best accuracy obtained: 0.9706920131291028\n",
      "Parameters:\n",
      "\tC: 2000.0\n",
      "\tgamma: 2e-07\n",
      "\tkernel: rbf\n"
     ]
    }
   ],
   "source": [
    "print(\"Best accuracy obtained: {0}\".format(clf3.best_score_))\n",
    "print(\"Parameters:\")\n",
    "for key, value in clf3.best_params_.items():\n",
    "    print(\"\\t{}: {}\".format(key, value))"
   ]
  },
  {
   "cell_type": "code",
   "execution_count": 41,
   "metadata": {
    "collapsed": false
   },
   "outputs": [
    {
     "data": {
      "text/plain": [
       "SVC(C=2000.0, cache_size=200, class_weight=None, coef0=0.0,\n",
       "  decision_function_shape=None, degree=3, gamma=2e-07, kernel='rbf',\n",
       "  max_iter=-1, probability=False, random_state=None, shrinking=True,\n",
       "  tol=0.001, verbose=False)"
      ]
     },
     "execution_count": 41,
     "metadata": {},
     "output_type": "execute_result"
    }
   ],
   "source": [
    "clf3.best_estimator_"
   ]
  },
  {
   "cell_type": "code",
   "execution_count": 42,
   "metadata": {
    "collapsed": true
   },
   "outputs": [],
   "source": [
    "svc7=svm.SVC(C=2000.0, cache_size=200, class_weight=None, coef0=0.0,\n",
    "  decision_function_shape=None, degree=3, gamma=2e-07, kernel='rbf',\n",
    "  max_iter=-1, probability=False, random_state=None, shrinking=True,\n",
    "  tol=0.001, verbose=False)"
   ]
  },
  {
   "cell_type": "code",
   "execution_count": 43,
   "metadata": {
    "collapsed": false
   },
   "outputs": [
    {
     "data": {
      "text/plain": [
       "SVC(C=2000.0, cache_size=200, class_weight=None, coef0=0.0,\n",
       "  decision_function_shape=None, degree=3, gamma=2e-07, kernel='rbf',\n",
       "  max_iter=-1, probability=False, random_state=None, shrinking=True,\n",
       "  tol=0.001, verbose=False)"
      ]
     },
     "execution_count": 43,
     "metadata": {},
     "output_type": "execute_result"
    }
   ],
   "source": [
    "svc7.fit(X_train,y_train)"
   ]
  },
  {
   "cell_type": "code",
   "execution_count": 44,
   "metadata": {
    "collapsed": false
   },
   "outputs": [
    {
     "name": "stdout",
     "output_type": "stream",
     "text": [
      "Akurasi: 0.9646\n",
      "Precision: 0.9750\n",
      "Recall: 0.9286\n",
      "F1: 0.9512\n"
     ]
    }
   ],
   "source": [
    "y_pred7 = svc7.predict(X_test)\n",
    "accuracy = accuracy_score(y_test, y_pred7)\n",
    "precision, recall, f1, _ = precision_recall_fscore_support(y_test, y_pred7)\n",
    "print (('Akurasi: %.4f') % (accuracy))\n",
    "print (('Precision: %.4f') % (precision[1]))\n",
    "print (('Recall: %.4f') % (recall[1]))\n",
    "print (('F1: %.4f') % (f1[1]))"
   ]
  },
  {
   "cell_type": "code",
   "execution_count": 45,
   "metadata": {
    "collapsed": false
   },
   "outputs": [
    {
     "name": "stdout",
     "output_type": "stream",
     "text": [
      "Automatically created module for IPython interactive environment\n",
      "# Tuning hyper-parameters for recall\n",
      "\n",
      "Best parameters set found on development set:\n",
      "\n",
      "{'C': 200000000000.0, 'gamma': 2e-09, 'kernel': 'rbf'}\n",
      "\n",
      "Grid scores on development set:\n",
      "\n",
      "0.614 (+/-0.219) for {'C': 200000000000.0, 'gamma': 2e-15, 'kernel': 'rbf'}\n",
      "0.493 (+/-0.039) for {'C': 200000000000.0, 'gamma': 2e-13, 'kernel': 'rbf'}\n",
      "0.948 (+/-0.062) for {'C': 200000000000.0, 'gamma': 2e-11, 'kernel': 'rbf'}\n",
      "0.962 (+/-0.070) for {'C': 200000000000.0, 'gamma': 2e-09, 'kernel': 'rbf'}\n",
      "0.946 (+/-0.057) for {'C': 200000000000.0, 'gamma': 2e-07, 'kernel': 'rbf'}\n",
      "0.936 (+/-0.102) for {'C': 200000000000.0, 'gamma': 2e-05, 'kernel': 'rbf'}\n",
      "0.945 (+/-0.057) for {'C': 200000000000.0, 'gamma': 0.002, 'kernel': 'rbf'}\n",
      "0.500 (+/-0.000) for {'C': 200000000000.0, 'gamma': 0.2, 'kernel': 'rbf'}\n",
      "0.500 (+/-0.000) for {'C': 200000000000.0, 'gamma': 20.0, 'kernel': 'rbf'}\n",
      "0.500 (+/-0.000) for {'C': 200000000000.0, 'gamma': 2000.0, 'kernel': 'rbf'}\n",
      "\n",
      "Detailed classification report:\n",
      "\n",
      "The model is trained on the full development set.\n",
      "The scores are computed on the full evaluation set.\n",
      "\n",
      "             precision    recall  f1-score   support\n",
      "\n",
      "          2       0.97      0.99      0.98       142\n",
      "          4       0.98      0.94      0.96        84\n",
      "\n",
      "avg / total       0.97      0.97      0.97       226\n",
      "\n",
      "\n"
     ]
    }
   ],
   "source": [
    "print(__doc__)\n",
    "\n",
    "# Loading the Digits dataset\n",
    "#digits = datasets.load_digits()\n",
    "\n",
    "# To apply an classifier on this data, we need to flatten the image, to\n",
    "# turn the data in a (samples, feature) matrix:\n",
    "\n",
    "# Set the parameters by cross-validation\n",
    "tuned_parameters = [{'kernel': ['rbf'], 'gamma': [2e-15,2e-13,2e-11, 2e-9,2e-7,2e-5, 2e-3,2e-1,2e1,2e3],\n",
    "                     'C': [2e11]},]\n",
    "\n",
    "scores = ['recall']\n",
    "\n",
    "for score in scores:\n",
    "    print(\"# Tuning hyper-parameters for %s\" % score)\n",
    "    print()\n",
    "\n",
    "    clf5 = GridSearchCV(svr, tuned_parameters, cv=10,\n",
    "                       scoring='%s_macro' % score)\n",
    "    clf5.fit(X_train, y_train)\n",
    "\n",
    "    print(\"Best parameters set found on development set:\")\n",
    "    print()\n",
    "    print(clf5.best_params_)\n",
    "    print()\n",
    "    print(\"Grid scores on development set:\")\n",
    "    print()\n",
    "    means = clf5.cv_results_['mean_test_score']\n",
    "    stds = clf5.cv_results_['std_test_score']\n",
    "    for mean, std, params in zip(means, stds, clf5.cv_results_['params']):\n",
    "        print(\"%0.3f (+/-%0.03f) for %r\"\n",
    "              % (mean, std * 2, params))\n",
    "    print()\n",
    "\n",
    "    print(\"Detailed classification report:\")\n",
    "    print()\n",
    "    print(\"The model is trained on the full development set.\")\n",
    "    print(\"The scores are computed on the full evaluation set.\")\n",
    "    print()\n",
    "    y_true, y_pred = y_test, clf5.predict(X_test)\n",
    "    print(classification_report(y_true, y_pred))\n",
    "    print()"
   ]
  },
  {
   "cell_type": "code",
   "execution_count": 46,
   "metadata": {
    "collapsed": false
   },
   "outputs": [
    {
     "name": "stdout",
     "output_type": "stream",
     "text": [
      "Best accuracy obtained: 0.9623319157196302\n",
      "Parameters:\n",
      "\tC: 200000000000.0\n",
      "\tgamma: 2e-09\n",
      "\tkernel: rbf\n"
     ]
    }
   ],
   "source": [
    "print(\"Best accuracy obtained: {0}\".format(clf5.best_score_))\n",
    "print(\"Parameters:\")\n",
    "for key, value in clf5.best_params_.items():\n",
    "    print(\"\\t{}: {}\".format(key, value))"
   ]
  },
  {
   "cell_type": "code",
   "execution_count": 47,
   "metadata": {
    "collapsed": false
   },
   "outputs": [
    {
     "data": {
      "text/plain": [
       "SVC(C=200000000000.0, cache_size=200, class_weight=None, coef0=0.0,\n",
       "  decision_function_shape=None, degree=3, gamma=2e-09, kernel='rbf',\n",
       "  max_iter=-1, probability=False, random_state=None, shrinking=True,\n",
       "  tol=0.001, verbose=False)"
      ]
     },
     "execution_count": 47,
     "metadata": {},
     "output_type": "execute_result"
    }
   ],
   "source": [
    "clf5.best_estimator_"
   ]
  },
  {
   "cell_type": "code",
   "execution_count": 48,
   "metadata": {
    "collapsed": false
   },
   "outputs": [
    {
     "data": {
      "text/plain": [
       "SVC(C=200000000000.0, cache_size=200, class_weight=None, coef0=0.0,\n",
       "  decision_function_shape=None, degree=3, gamma=2e-09, kernel='rbf',\n",
       "  max_iter=-1, probability=False, random_state=None, shrinking=True,\n",
       "  tol=0.001, verbose=False)"
      ]
     },
     "execution_count": 48,
     "metadata": {},
     "output_type": "execute_result"
    }
   ],
   "source": [
    "svc8=svm.SVC(C=200000000000.0, cache_size=200, class_weight=None, coef0=0.0,\n",
    "  decision_function_shape=None, degree=3, gamma=2e-09, kernel='rbf',\n",
    "  max_iter=-1, probability=False, random_state=None, shrinking=True,\n",
    "  tol=0.001, verbose=False)\n",
    "svc8.fit(X_train,y_train)"
   ]
  },
  {
   "cell_type": "code",
   "execution_count": 49,
   "metadata": {
    "collapsed": false
   },
   "outputs": [
    {
     "name": "stdout",
     "output_type": "stream",
     "text": [
      "Akurasi: 0.9690\n",
      "Precision: 0.9753\n",
      "Recall: 0.9405\n",
      "F1: 0.9576\n"
     ]
    }
   ],
   "source": [
    "y_pred8 = svc8.predict(X_test)\n",
    "accuracy = accuracy_score(y_test, y_pred8)\n",
    "precision, recall, f1, _ = precision_recall_fscore_support(y_test, y_pred8)\n",
    "print (('Akurasi: %.4f') % (accuracy))\n",
    "print (('Precision: %.4f') % (precision[1]))\n",
    "print (('Recall: %.4f') % (recall[1]))\n",
    "print (('F1: %.4f') % (f1[1]))"
   ]
  },
  {
   "cell_type": "markdown",
   "metadata": {
    "collapsed": true
   },
   "source": [
    "# Hasil paling baik dari parameter yang diberikan oleh Hsu yaitu SVC(C=200000000000.0, cache_size=200, class_weight=None, coef0=0.0, decision_function_shape=None, degree=3, gamma=2e-09, kernel='rbf', max_iter=-1, probability=False, random_state=None, shrinking=True, tol=0.001, verbose=False)"
   ]
  },
  {
   "cell_type": "markdown",
   "metadata": {
    "collapsed": true
   },
   "source": [
    "# c=2^11 dan gamma 2^-9"
   ]
  },
  {
   "cell_type": "code",
   "execution_count": null,
   "metadata": {
    "collapsed": true
   },
   "outputs": [],
   "source": []
  }
 ],
 "metadata": {
  "anaconda-cloud": {},
  "kernelspec": {
   "display_name": "Python 3",
   "language": "python",
   "name": "python3"
  },
  "language_info": {
   "codemirror_mode": {
    "name": "ipython",
    "version": 3
   },
   "file_extension": ".py",
   "mimetype": "text/x-python",
   "name": "python",
   "nbconvert_exporter": "python",
   "pygments_lexer": "ipython3",
   "version": "3.6.0"
  }
 },
 "nbformat": 4,
 "nbformat_minor": 1
}
