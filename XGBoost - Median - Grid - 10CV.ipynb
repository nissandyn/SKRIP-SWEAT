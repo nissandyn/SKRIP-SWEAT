{
 "cells": [
  {
   "cell_type": "code",
   "execution_count": 1,
   "metadata": {
    "collapsed": false
   },
   "outputs": [
    {
     "name": "stderr",
     "output_type": "stream",
     "text": [
      "C:\\Users\\Annisa\\Anaconda3\\lib\\site-packages\\sklearn\\cross_validation.py:44: DeprecationWarning: This module was deprecated in version 0.18 in favor of the model_selection module into which all the refactored classes and functions are moved. Also note that the interface of the new CV iterators are different from that of this module. This module will be removed in 0.20.\n",
      "  \"This module will be removed in 0.20.\", DeprecationWarning)\n"
     ]
    }
   ],
   "source": [
    "import pandas as pd\n",
    "from xgboost import XGBClassifier\n",
    "from sklearn.model_selection import train_test_split\n",
    "from sklearn.metrics import accuracy_score"
   ]
  },
  {
   "cell_type": "code",
   "execution_count": 2,
   "metadata": {
    "collapsed": false
   },
   "outputs": [],
   "source": [
    "dataset = pd.read_csv(\"wbc.csv\")\n",
    "import numpy as np\n",
    "dataset = dataset.replace('?',np.nan)\n",
    "dataset['bare_nuclei'] = pd.to_numeric(dataset.bare_nuclei.fillna\n",
    "                                  (dataset.bare_nuclei.median()))"
   ]
  },
  {
   "cell_type": "code",
   "execution_count": 3,
   "metadata": {
    "collapsed": false
   },
   "outputs": [],
   "source": [
    "X = dataset.drop([dataset.columns[-1]], axis=1)\n",
    "y = dataset.jenis"
   ]
  },
  {
   "cell_type": "code",
   "execution_count": 9,
   "metadata": {
    "collapsed": true
   },
   "outputs": [],
   "source": [
    "seed = 42"
   ]
  },
  {
   "cell_type": "code",
   "execution_count": 10,
   "metadata": {
    "collapsed": false
   },
   "outputs": [],
   "source": [
    "test_size = 0.33\n",
    "X_train, X_test, y_train, y_test = train_test_split(X, y, test_size=test_size, random_state=seed)"
   ]
  },
  {
   "cell_type": "code",
   "execution_count": 11,
   "metadata": {
    "collapsed": false
   },
   "outputs": [
    {
     "data": {
      "text/plain": [
       "XGBClassifier(base_score=0.5, colsample_bylevel=1, colsample_bytree=1,\n",
       "       gamma=0, learning_rate=0.1, max_delta_step=0, max_depth=3,\n",
       "       min_child_weight=1, missing=None, n_estimators=100, nthread=-1,\n",
       "       objective='binary:logistic', reg_alpha=0, reg_lambda=1,\n",
       "       scale_pos_weight=1, seed=0, silent=True, subsample=1)"
      ]
     },
     "execution_count": 11,
     "metadata": {},
     "output_type": "execute_result"
    }
   ],
   "source": [
    "model = XGBClassifier()\n",
    "model.fit(X_train, y_train)"
   ]
  },
  {
   "cell_type": "code",
   "execution_count": 12,
   "metadata": {
    "collapsed": false
   },
   "outputs": [
    {
     "name": "stdout",
     "output_type": "stream",
     "text": [
      "XGBClassifier(base_score=0.5, colsample_bylevel=1, colsample_bytree=1,\n",
      "       gamma=0, learning_rate=0.1, max_delta_step=0, max_depth=3,\n",
      "       min_child_weight=1, missing=None, n_estimators=100, nthread=-1,\n",
      "       objective='binary:logistic', reg_alpha=0, reg_lambda=1,\n",
      "       scale_pos_weight=1, seed=0, silent=True, subsample=1)\n"
     ]
    }
   ],
   "source": [
    "print(model)"
   ]
  },
  {
   "cell_type": "code",
   "execution_count": 13,
   "metadata": {
    "collapsed": true
   },
   "outputs": [],
   "source": [
    "# make predictions for test data\n",
    "y_pred = model.predict(X_test)\n",
    "predictions = [round(value) for value in y_pred]"
   ]
  },
  {
   "cell_type": "code",
   "execution_count": 14,
   "metadata": {
    "collapsed": false
   },
   "outputs": [
    {
     "name": "stdout",
     "output_type": "stream",
     "text": [
      "Accuracy: 95.67%\n"
     ]
    }
   ],
   "source": [
    "# evaluate predictions\n",
    "accuracy = accuracy_score(y_test, predictions)\n",
    "print(\"Accuracy: %.2f%%\" % (accuracy * 100.0))"
   ]
  },
  {
   "cell_type": "code",
   "execution_count": 15,
   "metadata": {
    "collapsed": false
   },
   "outputs": [
    {
     "data": {
      "text/plain": [
       "array([[150,   4],\n",
       "       [  6,  71]])"
      ]
     },
     "execution_count": 15,
     "metadata": {},
     "output_type": "execute_result"
    }
   ],
   "source": [
    "from sklearn import metrics\n",
    "metrics.confusion_matrix(y_test, y_pred)"
   ]
  },
  {
   "cell_type": "code",
   "execution_count": 16,
   "metadata": {
    "collapsed": true
   },
   "outputs": [],
   "source": [
    "from sklearn.metrics import accuracy_score, precision_recall_fscore_support"
   ]
  },
  {
   "cell_type": "code",
   "execution_count": 17,
   "metadata": {
    "collapsed": false
   },
   "outputs": [
    {
     "name": "stdout",
     "output_type": "stream",
     "text": [
      "Akurasi: 0.9567\n",
      "Precision: 0.9467\n",
      "Recall: 0.9221\n",
      "F1: 0.9342\n"
     ]
    }
   ],
   "source": [
    "precision, recall, f1, _ = precision_recall_fscore_support(y_test, y_pred)\n",
    "print (('Akurasi: %.4f') % (accuracy))\n",
    "print (('Precision: %.4f') % (precision[1]))\n",
    "print (('Recall: %.4f') % (recall[1]))\n",
    "print (('F1: %.4f') % (f1[1]))"
   ]
  },
  {
   "cell_type": "code",
   "execution_count": 18,
   "metadata": {
    "collapsed": false
   },
   "outputs": [],
   "source": [
    "params_grid = {\n",
    "    'max_depth': [1,3, 5, 7],\n",
    "    'n_estimators': [50,100],\n",
    "    'learning_rate': [0.001, 0.01, 0.1, 0.2, 0.3]\n",
    "    \n",
    "}"
   ]
  },
  {
   "cell_type": "code",
   "execution_count": 19,
   "metadata": {
    "collapsed": true
   },
   "outputs": [],
   "source": [
    "params_fixed = {\n",
    "    'objective': 'binary:logistic',\n",
    "    'silent': 1\n",
    "}"
   ]
  },
  {
   "cell_type": "code",
   "execution_count": 20,
   "metadata": {
    "collapsed": true
   },
   "outputs": [],
   "source": [
    "from sklearn.cross_validation import StratifiedKFold\n",
    "from sklearn.model_selection import GridSearchCV, RandomizedSearchCV"
   ]
  },
  {
   "cell_type": "code",
   "execution_count": 21,
   "metadata": {
    "collapsed": false
   },
   "outputs": [],
   "source": [
    "cv = StratifiedKFold(y, n_folds=10, shuffle=True, random_state=seed)"
   ]
  },
  {
   "cell_type": "code",
   "execution_count": 22,
   "metadata": {
    "collapsed": false
   },
   "outputs": [],
   "source": [
    "bst_grid = GridSearchCV(\n",
    "    estimator=XGBClassifier(**params_fixed, seed=seed),\n",
    "    param_grid=params_grid,\n",
    "    cv=cv,\n",
    "    scoring='accuracy'\n",
    ")"
   ]
  },
  {
   "cell_type": "code",
   "execution_count": 23,
   "metadata": {
    "collapsed": false
   },
   "outputs": [
    {
     "data": {
      "text/plain": [
       "GridSearchCV(cv=sklearn.cross_validation.StratifiedKFold(labels=[2 2 ..., 4 4], n_folds=10, shuffle=True, random_state=42),\n",
       "       error_score='raise',\n",
       "       estimator=XGBClassifier(base_score=0.5, colsample_bylevel=1, colsample_bytree=1,\n",
       "       gamma=0, learning_rate=0.1, max_delta_step=0, max_depth=3,\n",
       "       min_child_weight=1, missing=None, n_estimators=100, nthread=-1,\n",
       "       objective='binary:logistic', reg_alpha=0, reg_lambda=1,\n",
       "       scale_pos_weight=1, seed=42, silent=1, subsample=1),\n",
       "       fit_params={}, iid=True, n_jobs=1,\n",
       "       param_grid={'max_depth': [1, 3, 5, 7], 'n_estimators': [50, 100], 'learning_rate': [0.001, 0.01, 0.1, 0.2, 0.3]},\n",
       "       pre_dispatch='2*n_jobs', refit=True, return_train_score=True,\n",
       "       scoring='accuracy', verbose=0)"
      ]
     },
     "execution_count": 23,
     "metadata": {},
     "output_type": "execute_result"
    }
   ],
   "source": [
    "bst_grid.fit(X, y)"
   ]
  },
  {
   "cell_type": "code",
   "execution_count": 24,
   "metadata": {
    "collapsed": false
   },
   "outputs": [
    {
     "name": "stderr",
     "output_type": "stream",
     "text": [
      "C:\\Users\\Annisa\\Anaconda3\\lib\\site-packages\\sklearn\\model_selection\\_search.py:667: DeprecationWarning: The grid_scores_ attribute was deprecated in version 0.18 in favor of the more elaborate cv_results_ attribute. The grid_scores_ attribute will not be available from 0.20\n",
      "  DeprecationWarning)\n"
     ]
    },
    {
     "data": {
      "text/plain": [
       "[mean: 0.90844, std: 0.03746, params: {'learning_rate': 0.001, 'max_depth': 1, 'n_estimators': 50},\n",
       " mean: 0.90844, std: 0.03746, params: {'learning_rate': 0.001, 'max_depth': 1, 'n_estimators': 100},\n",
       " mean: 0.93991, std: 0.03602, params: {'learning_rate': 0.001, 'max_depth': 3, 'n_estimators': 50},\n",
       " mean: 0.94278, std: 0.03670, params: {'learning_rate': 0.001, 'max_depth': 3, 'n_estimators': 100},\n",
       " mean: 0.94278, std: 0.02928, params: {'learning_rate': 0.001, 'max_depth': 5, 'n_estimators': 50},\n",
       " mean: 0.94278, std: 0.02928, params: {'learning_rate': 0.001, 'max_depth': 5, 'n_estimators': 100},\n",
       " mean: 0.94278, std: 0.02928, params: {'learning_rate': 0.001, 'max_depth': 7, 'n_estimators': 50},\n",
       " mean: 0.94278, std: 0.02928, params: {'learning_rate': 0.001, 'max_depth': 7, 'n_estimators': 100},\n",
       " mean: 0.94850, std: 0.03392, params: {'learning_rate': 0.01, 'max_depth': 1, 'n_estimators': 50},\n",
       " mean: 0.94707, std: 0.03135, params: {'learning_rate': 0.01, 'max_depth': 1, 'n_estimators': 100},\n",
       " mean: 0.94993, std: 0.03149, params: {'learning_rate': 0.01, 'max_depth': 3, 'n_estimators': 50},\n",
       " mean: 0.95422, std: 0.02377, params: {'learning_rate': 0.01, 'max_depth': 3, 'n_estimators': 100},\n",
       " mean: 0.95136, std: 0.02730, params: {'learning_rate': 0.01, 'max_depth': 5, 'n_estimators': 50},\n",
       " mean: 0.95422, std: 0.02773, params: {'learning_rate': 0.01, 'max_depth': 5, 'n_estimators': 100},\n",
       " mean: 0.94993, std: 0.02733, params: {'learning_rate': 0.01, 'max_depth': 7, 'n_estimators': 50},\n",
       " mean: 0.95136, std: 0.02803, params: {'learning_rate': 0.01, 'max_depth': 7, 'n_estimators': 100},\n",
       " mean: 0.96280, std: 0.02240, params: {'learning_rate': 0.1, 'max_depth': 1, 'n_estimators': 50},\n",
       " mean: 0.96280, std: 0.02415, params: {'learning_rate': 0.1, 'max_depth': 1, 'n_estimators': 100},\n",
       " mean: 0.95708, std: 0.02791, params: {'learning_rate': 0.1, 'max_depth': 3, 'n_estimators': 50},\n",
       " mean: 0.95565, std: 0.02675, params: {'learning_rate': 0.1, 'max_depth': 3, 'n_estimators': 100},\n",
       " mean: 0.96137, std: 0.02569, params: {'learning_rate': 0.1, 'max_depth': 5, 'n_estimators': 50},\n",
       " mean: 0.95422, std: 0.03127, params: {'learning_rate': 0.1, 'max_depth': 5, 'n_estimators': 100},\n",
       " mean: 0.95708, std: 0.02398, params: {'learning_rate': 0.1, 'max_depth': 7, 'n_estimators': 50},\n",
       " mean: 0.95422, std: 0.02854, params: {'learning_rate': 0.1, 'max_depth': 7, 'n_estimators': 100},\n",
       " mean: 0.96280, std: 0.02146, params: {'learning_rate': 0.2, 'max_depth': 1, 'n_estimators': 50},\n",
       " mean: 0.96137, std: 0.02566, params: {'learning_rate': 0.2, 'max_depth': 1, 'n_estimators': 100},\n",
       " mean: 0.95136, std: 0.02736, params: {'learning_rate': 0.2, 'max_depth': 3, 'n_estimators': 50},\n",
       " mean: 0.95279, std: 0.02719, params: {'learning_rate': 0.2, 'max_depth': 3, 'n_estimators': 100},\n",
       " mean: 0.95422, std: 0.02854, params: {'learning_rate': 0.2, 'max_depth': 5, 'n_estimators': 50},\n",
       " mean: 0.95422, std: 0.02988, params: {'learning_rate': 0.2, 'max_depth': 5, 'n_estimators': 100},\n",
       " mean: 0.94993, std: 0.02954, params: {'learning_rate': 0.2, 'max_depth': 7, 'n_estimators': 50},\n",
       " mean: 0.95136, std: 0.03019, params: {'learning_rate': 0.2, 'max_depth': 7, 'n_estimators': 100},\n",
       " mean: 0.96280, std: 0.02732, params: {'learning_rate': 0.3, 'max_depth': 1, 'n_estimators': 50},\n",
       " mean: 0.96137, std: 0.02402, params: {'learning_rate': 0.3, 'max_depth': 1, 'n_estimators': 100},\n",
       " mean: 0.95279, std: 0.03268, params: {'learning_rate': 0.3, 'max_depth': 3, 'n_estimators': 50},\n",
       " mean: 0.95422, std: 0.03184, params: {'learning_rate': 0.3, 'max_depth': 3, 'n_estimators': 100},\n",
       " mean: 0.95422, std: 0.03255, params: {'learning_rate': 0.3, 'max_depth': 5, 'n_estimators': 50},\n",
       " mean: 0.95422, std: 0.03125, params: {'learning_rate': 0.3, 'max_depth': 5, 'n_estimators': 100},\n",
       " mean: 0.95422, std: 0.02854, params: {'learning_rate': 0.3, 'max_depth': 7, 'n_estimators': 50},\n",
       " mean: 0.95279, std: 0.03010, params: {'learning_rate': 0.3, 'max_depth': 7, 'n_estimators': 100}]"
      ]
     },
     "execution_count": 24,
     "metadata": {},
     "output_type": "execute_result"
    }
   ],
   "source": [
    "bst_grid.grid_scores_"
   ]
  },
  {
   "cell_type": "code",
   "execution_count": 25,
   "metadata": {
    "collapsed": false
   },
   "outputs": [
    {
     "name": "stdout",
     "output_type": "stream",
     "text": [
      "Best accuracy obtained: 0.9628040057224606\n",
      "Parameters:\n",
      "\tlearning_rate: 0.1\n",
      "\tmax_depth: 1\n",
      "\tn_estimators: 50\n"
     ]
    }
   ],
   "source": [
    "print(\"Best accuracy obtained: {0}\".format(bst_grid.best_score_))\n",
    "print(\"Parameters:\")\n",
    "for key, value in bst_grid.best_params_.items():\n",
    "    print(\"\\t{}: {}\".format(key, value))\n"
   ]
  },
  {
   "cell_type": "code",
   "execution_count": 26,
   "metadata": {
    "collapsed": false
   },
   "outputs": [
    {
     "data": {
      "text/plain": [
       "XGBClassifier(base_score=0.5, colsample_bylevel=1, colsample_bytree=1,\n",
       "       gamma=0, learning_rate=0.1, max_delta_step=0, max_depth=1,\n",
       "       min_child_weight=1, missing=None, n_estimators=50, nthread=-1,\n",
       "       objective='binary:logistic', reg_alpha=0, reg_lambda=1,\n",
       "       scale_pos_weight=1, seed=42, silent=1, subsample=1)"
      ]
     },
     "execution_count": 26,
     "metadata": {},
     "output_type": "execute_result"
    }
   ],
   "source": [
    "bst_grid.best_estimator_"
   ]
  },
  {
   "cell_type": "code",
   "execution_count": 27,
   "metadata": {
    "collapsed": true
   },
   "outputs": [],
   "source": [
    "model2=XGBClassifier (base_score=0.5, colsample_bylevel=1, colsample_bytree=1,\n",
    "       gamma=0, learning_rate=0.1, max_delta_step=0, max_depth=1,\n",
    "       min_child_weight=1, missing=None, n_estimators=50, nthread=-1,\n",
    "       objective='binary:logistic', reg_alpha=0, reg_lambda=1,\n",
    "       scale_pos_weight=1, seed=42, silent=1, subsample=1)"
   ]
  },
  {
   "cell_type": "code",
   "execution_count": 28,
   "metadata": {
    "collapsed": false
   },
   "outputs": [
    {
     "data": {
      "text/plain": [
       "XGBClassifier(base_score=0.5, colsample_bylevel=1, colsample_bytree=1,\n",
       "       gamma=0, learning_rate=0.1, max_delta_step=0, max_depth=1,\n",
       "       min_child_weight=1, missing=None, n_estimators=50, nthread=-1,\n",
       "       objective='binary:logistic', reg_alpha=0, reg_lambda=1,\n",
       "       scale_pos_weight=1, seed=42, silent=1, subsample=1)"
      ]
     },
     "execution_count": 28,
     "metadata": {},
     "output_type": "execute_result"
    }
   ],
   "source": [
    "model2.fit(X_train, y_train)"
   ]
  },
  {
   "cell_type": "code",
   "execution_count": 29,
   "metadata": {
    "collapsed": true
   },
   "outputs": [],
   "source": [
    "y_pred2 = model2.predict(X_test)\n",
    "predictions = [round(value) for value in y_pred2]"
   ]
  },
  {
   "cell_type": "code",
   "execution_count": 30,
   "metadata": {
    "collapsed": true
   },
   "outputs": [],
   "source": [
    "accuracy = accuracy_score(y_test, predictions)"
   ]
  },
  {
   "cell_type": "code",
   "execution_count": 31,
   "metadata": {
    "collapsed": false
   },
   "outputs": [
    {
     "name": "stdout",
     "output_type": "stream",
     "text": [
      "Akurasi: 0.9654\n",
      "Precision: 0.9481\n",
      "Recall: 0.9481\n",
      "F1: 0.9481\n"
     ]
    }
   ],
   "source": [
    "accuracy = accuracy_score(y_test, predictions)\n",
    "from sklearn.metrics import accuracy_score, precision_recall_fscore_support\n",
    "precision, recall, f1, _ = precision_recall_fscore_support(y_test, y_pred2)\n",
    "print (('Akurasi: %.4f') % (accuracy))\n",
    "print (('Precision: %.4f') % (precision[1]))\n",
    "print (('Recall: %.4f') % (recall[1]))\n",
    "print (('F1: %.4f') % (f1[1]))"
   ]
  },
  {
   "cell_type": "code",
   "execution_count": 32,
   "metadata": {
    "collapsed": false
   },
   "outputs": [
    {
     "data": {
      "text/plain": [
       "array([[150,   4],\n",
       "       [  6,  71]])"
      ]
     },
     "execution_count": 32,
     "metadata": {},
     "output_type": "execute_result"
    }
   ],
   "source": [
    "metrics.confusion_matrix(y_test, y_pred)"
   ]
  },
  {
   "cell_type": "code",
   "execution_count": 33,
   "metadata": {
    "collapsed": true
   },
   "outputs": [],
   "source": [
    "params_grid2 = {\n",
    "    'min_child_weight': [6,8,10,12],\n",
    "    'subsample': [0.2,0.4,0.8,1],\n",
    "    'reg_alpha': [10e-5, 10e-2, 0.1, 1, 100]\n",
    "    \n",
    "}"
   ]
  },
  {
   "cell_type": "code",
   "execution_count": 34,
   "metadata": {
    "collapsed": true
   },
   "outputs": [],
   "source": [
    "params_fixed = {\n",
    "    'objective': 'binary:logistic',\n",
    "    'silent': 1\n",
    "}"
   ]
  },
  {
   "cell_type": "code",
   "execution_count": 35,
   "metadata": {
    "collapsed": true
   },
   "outputs": [],
   "source": [
    "bst_grid2 = GridSearchCV(\n",
    "    estimator=XGBClassifier(**params_fixed, seed=seed),\n",
    "    param_grid=params_grid2,\n",
    "    cv=cv,\n",
    "    scoring='accuracy'\n",
    ")"
   ]
  },
  {
   "cell_type": "code",
   "execution_count": 36,
   "metadata": {
    "collapsed": false
   },
   "outputs": [
    {
     "data": {
      "text/plain": [
       "GridSearchCV(cv=sklearn.cross_validation.StratifiedKFold(labels=[2 2 ..., 4 4], n_folds=10, shuffle=True, random_state=42),\n",
       "       error_score='raise',\n",
       "       estimator=XGBClassifier(base_score=0.5, colsample_bylevel=1, colsample_bytree=1,\n",
       "       gamma=0, learning_rate=0.1, max_delta_step=0, max_depth=3,\n",
       "       min_child_weight=1, missing=None, n_estimators=100, nthread=-1,\n",
       "       objective='binary:logistic', reg_alpha=0, reg_lambda=1,\n",
       "       scale_pos_weight=1, seed=42, silent=1, subsample=1),\n",
       "       fit_params={}, iid=True, n_jobs=1,\n",
       "       param_grid={'min_child_weight': [6, 8, 10, 12], 'subsample': [0.2, 0.4, 0.8, 1], 'reg_alpha': [0.0001, 0.1, 0.1, 1, 100]},\n",
       "       pre_dispatch='2*n_jobs', refit=True, return_train_score=True,\n",
       "       scoring='accuracy', verbose=0)"
      ]
     },
     "execution_count": 36,
     "metadata": {},
     "output_type": "execute_result"
    }
   ],
   "source": [
    "bst_grid2.fit(X, y)"
   ]
  },
  {
   "cell_type": "code",
   "execution_count": 37,
   "metadata": {
    "collapsed": false
   },
   "outputs": [
    {
     "name": "stderr",
     "output_type": "stream",
     "text": [
      "C:\\Users\\Annisa\\Anaconda3\\lib\\site-packages\\sklearn\\model_selection\\_search.py:667: DeprecationWarning: The grid_scores_ attribute was deprecated in version 0.18 in favor of the more elaborate cv_results_ attribute. The grid_scores_ attribute will not be available from 0.20\n",
      "  DeprecationWarning)\n"
     ]
    },
    {
     "data": {
      "text/plain": [
       "[mean: 0.96137, std: 0.02219, params: {'min_child_weight': 6, 'reg_alpha': 0.0001, 'subsample': 0.2},\n",
       " mean: 0.96423, std: 0.02417, params: {'min_child_weight': 6, 'reg_alpha': 0.0001, 'subsample': 0.4},\n",
       " mean: 0.96567, std: 0.02328, params: {'min_child_weight': 6, 'reg_alpha': 0.0001, 'subsample': 0.8},\n",
       " mean: 0.96423, std: 0.02420, params: {'min_child_weight': 6, 'reg_alpha': 0.0001, 'subsample': 1},\n",
       " mean: 0.95708, std: 0.02479, params: {'min_child_weight': 6, 'reg_alpha': 0.1, 'subsample': 0.2},\n",
       " mean: 0.96280, std: 0.02326, params: {'min_child_weight': 6, 'reg_alpha': 0.1, 'subsample': 0.4},\n",
       " mean: 0.96710, std: 0.02312, params: {'min_child_weight': 6, 'reg_alpha': 0.1, 'subsample': 0.8},\n",
       " mean: 0.96280, std: 0.02415, params: {'min_child_weight': 6, 'reg_alpha': 0.1, 'subsample': 1},\n",
       " mean: 0.95708, std: 0.02479, params: {'min_child_weight': 6, 'reg_alpha': 0.1, 'subsample': 0.2},\n",
       " mean: 0.96280, std: 0.02326, params: {'min_child_weight': 6, 'reg_alpha': 0.1, 'subsample': 0.4},\n",
       " mean: 0.96710, std: 0.02312, params: {'min_child_weight': 6, 'reg_alpha': 0.1, 'subsample': 0.8},\n",
       " mean: 0.96280, std: 0.02415, params: {'min_child_weight': 6, 'reg_alpha': 0.1, 'subsample': 1},\n",
       " mean: 0.95422, std: 0.02292, params: {'min_child_weight': 6, 'reg_alpha': 1, 'subsample': 0.2},\n",
       " mean: 0.96280, std: 0.02237, params: {'min_child_weight': 6, 'reg_alpha': 1, 'subsample': 0.4},\n",
       " mean: 0.96567, std: 0.02652, params: {'min_child_weight': 6, 'reg_alpha': 1, 'subsample': 0.8},\n",
       " mean: 0.96137, std: 0.02485, params: {'min_child_weight': 6, 'reg_alpha': 1, 'subsample': 1},\n",
       " mean: 0.65522, std: 0.00313, params: {'min_child_weight': 6, 'reg_alpha': 100, 'subsample': 0.2},\n",
       " mean: 0.65522, std: 0.00313, params: {'min_child_weight': 6, 'reg_alpha': 100, 'subsample': 0.4},\n",
       " mean: 0.65522, std: 0.00313, params: {'min_child_weight': 6, 'reg_alpha': 100, 'subsample': 0.8},\n",
       " mean: 0.65522, std: 0.00313, params: {'min_child_weight': 6, 'reg_alpha': 100, 'subsample': 1},\n",
       " mean: 0.95708, std: 0.02221, params: {'min_child_weight': 8, 'reg_alpha': 0.0001, 'subsample': 0.2},\n",
       " mean: 0.95708, std: 0.02311, params: {'min_child_weight': 8, 'reg_alpha': 0.0001, 'subsample': 0.4},\n",
       " mean: 0.96710, std: 0.02491, params: {'min_child_weight': 8, 'reg_alpha': 0.0001, 'subsample': 0.8},\n",
       " mean: 0.96423, std: 0.02423, params: {'min_child_weight': 8, 'reg_alpha': 0.0001, 'subsample': 1},\n",
       " mean: 0.95851, std: 0.02165, params: {'min_child_weight': 8, 'reg_alpha': 0.1, 'subsample': 0.2},\n",
       " mean: 0.95422, std: 0.02201, params: {'min_child_weight': 8, 'reg_alpha': 0.1, 'subsample': 0.4},\n",
       " mean: 0.96567, std: 0.02810, params: {'min_child_weight': 8, 'reg_alpha': 0.1, 'subsample': 0.8},\n",
       " mean: 0.96423, std: 0.02423, params: {'min_child_weight': 8, 'reg_alpha': 0.1, 'subsample': 1},\n",
       " mean: 0.95851, std: 0.02165, params: {'min_child_weight': 8, 'reg_alpha': 0.1, 'subsample': 0.2},\n",
       " mean: 0.95422, std: 0.02201, params: {'min_child_weight': 8, 'reg_alpha': 0.1, 'subsample': 0.4},\n",
       " mean: 0.96567, std: 0.02810, params: {'min_child_weight': 8, 'reg_alpha': 0.1, 'subsample': 0.8},\n",
       " mean: 0.96423, std: 0.02423, params: {'min_child_weight': 8, 'reg_alpha': 0.1, 'subsample': 1},\n",
       " mean: 0.95565, std: 0.02675, params: {'min_child_weight': 8, 'reg_alpha': 1, 'subsample': 0.2},\n",
       " mean: 0.95422, std: 0.02297, params: {'min_child_weight': 8, 'reg_alpha': 1, 'subsample': 0.4},\n",
       " mean: 0.96853, std: 0.02552, params: {'min_child_weight': 8, 'reg_alpha': 1, 'subsample': 0.8},\n",
       " mean: 0.96423, std: 0.02736, params: {'min_child_weight': 8, 'reg_alpha': 1, 'subsample': 1},\n",
       " mean: 0.65522, std: 0.00313, params: {'min_child_weight': 8, 'reg_alpha': 100, 'subsample': 0.2},\n",
       " mean: 0.65522, std: 0.00313, params: {'min_child_weight': 8, 'reg_alpha': 100, 'subsample': 0.4},\n",
       " mean: 0.65522, std: 0.00313, params: {'min_child_weight': 8, 'reg_alpha': 100, 'subsample': 0.8},\n",
       " mean: 0.65522, std: 0.00313, params: {'min_child_weight': 8, 'reg_alpha': 100, 'subsample': 1},\n",
       " mean: 0.95136, std: 0.02730, params: {'min_child_weight': 10, 'reg_alpha': 0.0001, 'subsample': 0.2},\n",
       " mean: 0.95708, std: 0.02403, params: {'min_child_weight': 10, 'reg_alpha': 0.0001, 'subsample': 0.4},\n",
       " mean: 0.96423, std: 0.02242, params: {'min_child_weight': 10, 'reg_alpha': 0.0001, 'subsample': 0.8},\n",
       " mean: 0.96567, std: 0.02328, params: {'min_child_weight': 10, 'reg_alpha': 0.0001, 'subsample': 1},\n",
       " mean: 0.94850, std: 0.02808, params: {'min_child_weight': 10, 'reg_alpha': 0.1, 'subsample': 0.2},\n",
       " mean: 0.95708, std: 0.02403, params: {'min_child_weight': 10, 'reg_alpha': 0.1, 'subsample': 0.4},\n",
       " mean: 0.96280, std: 0.02576, params: {'min_child_weight': 10, 'reg_alpha': 0.1, 'subsample': 0.8},\n",
       " mean: 0.96567, std: 0.01946, params: {'min_child_weight': 10, 'reg_alpha': 0.1, 'subsample': 1},\n",
       " mean: 0.94850, std: 0.02808, params: {'min_child_weight': 10, 'reg_alpha': 0.1, 'subsample': 0.2},\n",
       " mean: 0.95708, std: 0.02403, params: {'min_child_weight': 10, 'reg_alpha': 0.1, 'subsample': 0.4},\n",
       " mean: 0.96280, std: 0.02576, params: {'min_child_weight': 10, 'reg_alpha': 0.1, 'subsample': 0.8},\n",
       " mean: 0.96567, std: 0.01946, params: {'min_child_weight': 10, 'reg_alpha': 0.1, 'subsample': 1},\n",
       " mean: 0.94707, std: 0.03005, params: {'min_child_weight': 10, 'reg_alpha': 1, 'subsample': 0.2},\n",
       " mean: 0.95994, std: 0.02199, params: {'min_child_weight': 10, 'reg_alpha': 1, 'subsample': 0.4},\n",
       " mean: 0.96567, std: 0.02731, params: {'min_child_weight': 10, 'reg_alpha': 1, 'subsample': 0.8},\n",
       " mean: 0.96423, std: 0.02248, params: {'min_child_weight': 10, 'reg_alpha': 1, 'subsample': 1},\n",
       " mean: 0.65522, std: 0.00313, params: {'min_child_weight': 10, 'reg_alpha': 100, 'subsample': 0.2},\n",
       " mean: 0.65522, std: 0.00313, params: {'min_child_weight': 10, 'reg_alpha': 100, 'subsample': 0.4},\n",
       " mean: 0.65522, std: 0.00313, params: {'min_child_weight': 10, 'reg_alpha': 100, 'subsample': 0.8},\n",
       " mean: 0.65522, std: 0.00313, params: {'min_child_weight': 10, 'reg_alpha': 100, 'subsample': 1},\n",
       " mean: 0.94421, std: 0.02960, params: {'min_child_weight': 12, 'reg_alpha': 0.0001, 'subsample': 0.2},\n",
       " mean: 0.95994, std: 0.02110, params: {'min_child_weight': 12, 'reg_alpha': 0.0001, 'subsample': 0.4},\n",
       " mean: 0.96137, std: 0.02399, params: {'min_child_weight': 12, 'reg_alpha': 0.0001, 'subsample': 0.8},\n",
       " mean: 0.96280, std: 0.02730, params: {'min_child_weight': 12, 'reg_alpha': 0.0001, 'subsample': 1},\n",
       " mean: 0.94421, std: 0.03028, params: {'min_child_weight': 12, 'reg_alpha': 0.1, 'subsample': 0.2},\n",
       " mean: 0.95994, std: 0.02382, params: {'min_child_weight': 12, 'reg_alpha': 0.1, 'subsample': 0.4},\n",
       " mean: 0.96280, std: 0.02576, params: {'min_child_weight': 12, 'reg_alpha': 0.1, 'subsample': 0.8},\n",
       " mean: 0.96567, std: 0.02410, params: {'min_child_weight': 12, 'reg_alpha': 0.1, 'subsample': 1},\n",
       " mean: 0.94421, std: 0.03028, params: {'min_child_weight': 12, 'reg_alpha': 0.1, 'subsample': 0.2},\n",
       " mean: 0.95994, std: 0.02382, params: {'min_child_weight': 12, 'reg_alpha': 0.1, 'subsample': 0.4},\n",
       " mean: 0.96280, std: 0.02576, params: {'min_child_weight': 12, 'reg_alpha': 0.1, 'subsample': 0.8},\n",
       " mean: 0.96567, std: 0.02410, params: {'min_child_weight': 12, 'reg_alpha': 0.1, 'subsample': 1},\n",
       " mean: 0.94421, std: 0.03406, params: {'min_child_weight': 12, 'reg_alpha': 1, 'subsample': 0.2},\n",
       " mean: 0.95851, std: 0.02177, params: {'min_child_weight': 12, 'reg_alpha': 1, 'subsample': 0.4},\n",
       " mean: 0.96137, std: 0.02483, params: {'min_child_weight': 12, 'reg_alpha': 1, 'subsample': 0.8},\n",
       " mean: 0.96567, std: 0.02655, params: {'min_child_weight': 12, 'reg_alpha': 1, 'subsample': 1},\n",
       " mean: 0.65522, std: 0.00313, params: {'min_child_weight': 12, 'reg_alpha': 100, 'subsample': 0.2},\n",
       " mean: 0.65522, std: 0.00313, params: {'min_child_weight': 12, 'reg_alpha': 100, 'subsample': 0.4},\n",
       " mean: 0.65522, std: 0.00313, params: {'min_child_weight': 12, 'reg_alpha': 100, 'subsample': 0.8},\n",
       " mean: 0.65522, std: 0.00313, params: {'min_child_weight': 12, 'reg_alpha': 100, 'subsample': 1}]"
      ]
     },
     "execution_count": 37,
     "metadata": {},
     "output_type": "execute_result"
    }
   ],
   "source": [
    "bst_grid2.grid_scores_"
   ]
  },
  {
   "cell_type": "code",
   "execution_count": 38,
   "metadata": {
    "collapsed": false
   },
   "outputs": [
    {
     "name": "stdout",
     "output_type": "stream",
     "text": [
      "Best accuracy obtained: 0.9685264663805436\n",
      "Parameters:\n",
      "\tmin_child_weight: 8\n",
      "\treg_alpha: 1\n",
      "\tsubsample: 0.8\n"
     ]
    }
   ],
   "source": [
    "print(\"Best accuracy obtained: {0}\".format(bst_grid2.best_score_))\n",
    "print(\"Parameters:\")\n",
    "for key, value in bst_grid2.best_params_.items():\n",
    "    print(\"\\t{}: {}\".format(key, value))"
   ]
  },
  {
   "cell_type": "code",
   "execution_count": 39,
   "metadata": {
    "collapsed": false
   },
   "outputs": [
    {
     "data": {
      "text/plain": [
       "XGBClassifier(base_score=0.5, colsample_bylevel=1, colsample_bytree=1,\n",
       "       gamma=0, learning_rate=0.1, max_delta_step=0, max_depth=3,\n",
       "       min_child_weight=8, missing=None, n_estimators=100, nthread=-1,\n",
       "       objective='binary:logistic', reg_alpha=1, reg_lambda=1,\n",
       "       scale_pos_weight=1, seed=42, silent=1, subsample=0.8)"
      ]
     },
     "execution_count": 39,
     "metadata": {},
     "output_type": "execute_result"
    }
   ],
   "source": [
    "bst_grid2.best_estimator_"
   ]
  },
  {
   "cell_type": "code",
   "execution_count": 40,
   "metadata": {
    "collapsed": true
   },
   "outputs": [],
   "source": [
    "model3=XGBClassifier(base_score=0.5, colsample_bylevel=1, colsample_bytree=1,\n",
    "       gamma=0, learning_rate=0.1, max_delta_step=0, max_depth=3,\n",
    "       min_child_weight=8, missing=None, n_estimators=100, nthread=-1,\n",
    "       objective='binary:logistic', reg_alpha=1, reg_lambda=1,\n",
    "       scale_pos_weight=1, seed=42, silent=1, subsample=0.8)"
   ]
  },
  {
   "cell_type": "code",
   "execution_count": 41,
   "metadata": {
    "collapsed": false
   },
   "outputs": [
    {
     "data": {
      "text/plain": [
       "XGBClassifier(base_score=0.5, colsample_bylevel=1, colsample_bytree=1,\n",
       "       gamma=0, learning_rate=0.1, max_delta_step=0, max_depth=3,\n",
       "       min_child_weight=8, missing=None, n_estimators=100, nthread=-1,\n",
       "       objective='binary:logistic', reg_alpha=1, reg_lambda=1,\n",
       "       scale_pos_weight=1, seed=42, silent=1, subsample=0.8)"
      ]
     },
     "execution_count": 41,
     "metadata": {},
     "output_type": "execute_result"
    }
   ],
   "source": [
    "model3.fit(X_train,y_train)"
   ]
  },
  {
   "cell_type": "code",
   "execution_count": 42,
   "metadata": {
    "collapsed": true
   },
   "outputs": [],
   "source": [
    "y_pred3 = model3.predict(X_test)\n",
    "predictions = [round(value) for value in y_pred3]"
   ]
  },
  {
   "cell_type": "markdown",
   "metadata": {},
   "source": [
    "# tidak lebih baik dari model2"
   ]
  },
  {
   "cell_type": "code",
   "execution_count": 43,
   "metadata": {
    "collapsed": false
   },
   "outputs": [
    {
     "name": "stdout",
     "output_type": "stream",
     "text": [
      "Akurasi: 0.9654\n",
      "Precision: 0.9600\n",
      "Recall: 0.9351\n",
      "F1: 0.9474\n"
     ]
    }
   ],
   "source": [
    "accuracy = accuracy_score(y_test, predictions)\n",
    "from sklearn.metrics import accuracy_score, precision_recall_fscore_support\n",
    "precision, recall, f1, _ = precision_recall_fscore_support(y_test, y_pred3)\n",
    "print (('Akurasi: %.4f') % (accuracy))\n",
    "print (('Precision: %.4f') % (precision[1]))\n",
    "print (('Recall: %.4f') % (recall[1]))\n",
    "print (('F1: %.4f') % (f1[1]))"
   ]
  },
  {
   "cell_type": "code",
   "execution_count": 44,
   "metadata": {
    "collapsed": false
   },
   "outputs": [
    {
     "data": {
      "text/plain": [
       "array([[150,   4],\n",
       "       [  6,  71]])"
      ]
     },
     "execution_count": 44,
     "metadata": {},
     "output_type": "execute_result"
    }
   ],
   "source": [
    "metrics.confusion_matrix(y_test, y_pred)"
   ]
  },
  {
   "cell_type": "code",
   "execution_count": 45,
   "metadata": {
    "collapsed": true
   },
   "outputs": [],
   "source": [
    "import matplotlib.pyplot as plt"
   ]
  },
  {
   "cell_type": "code",
   "execution_count": 46,
   "metadata": {
    "collapsed": false
   },
   "outputs": [
    {
     "name": "stdout",
     "output_type": "stream",
     "text": [
      "[ 0.18087319  0.0997921   0.09355509  0.16839917  0.08108108  0.17047817\n",
      "  0.09147609  0.0956341   0.01871102]\n"
     ]
    }
   ],
   "source": [
    "print (model.feature_importances_)"
   ]
  },
  {
   "cell_type": "code",
   "execution_count": 47,
   "metadata": {
    "collapsed": false
   },
   "outputs": [
    {
     "data": {
      "image/png": "[encoded data removed]",
      "text/plain": [
       "<matplotlib.figure.Figure at 0x9c92860>"
      ]
     },
     "metadata": {},
     "output_type": "display_data"
    }
   ],
   "source": [
    "plt.bar(range(len(model.feature_importances_)),model.feature_importances_)\n",
    "plt.show()"
   ]
  },
  {
   "cell_type": "code",
   "execution_count": 48,
   "metadata": {
    "collapsed": true
   },
   "outputs": [],
   "source": [
    "import xgboost as xgb"
   ]
  },
  {
   "cell_type": "code",
   "execution_count": 49,
   "metadata": {
    "collapsed": false
   },
   "outputs": [
    {
     "data": {
      "image/png": "[encoded data removed]",
      "text/plain": [
       "<matplotlib.figure.Figure at 0x9c92320>"
      ]
     },
     "metadata": {},
     "output_type": "display_data"
    }
   ],
   "source": [
    "xgb.plot_importance(model,importance_type='gain',xlabel='Information Gain')\n",
    "plt.show()"
   ]
  },
  {
   "cell_type": "code",
   "execution_count": 50,
   "metadata": {
    "collapsed": false
   },
   "outputs": [
    {
     "data": {
      "image/png": "[encoded data removed]",
      "text/plain": [
       "<matplotlib.figure.Figure at 0xab5df60>"
      ]
     },
     "metadata": {},
     "output_type": "display_data"
    }
   ],
   "source": [
    "xgb.plot_importance(model2,importance_type='gain',xlabel='Information Gain')\n",
    "plt.show()"
   ]
  },
  {
   "cell_type": "code",
   "execution_count": 51,
   "metadata": {
    "collapsed": true
   },
   "outputs": [],
   "source": [
    "model4=XGBClassifier(base_score=0.5, colsample_bylevel=1, colsample_bytree=1,\n",
    "       gamma=0, learning_rate=0.1, max_delta_step=0, max_depth=1,\n",
    "       min_child_weight=8, missing=None, n_estimators=50, nthread=-1,\n",
    "       objective='binary:logistic', reg_alpha=1, reg_lambda=1,\n",
    "       scale_pos_weight=1, seed=42, silent=1, subsample=0.8)"
   ]
  },
  {
   "cell_type": "code",
   "execution_count": 52,
   "metadata": {
    "collapsed": false
   },
   "outputs": [
    {
     "data": {
      "text/plain": [
       "XGBClassifier(base_score=0.5, colsample_bylevel=1, colsample_bytree=1,\n",
       "       gamma=0, learning_rate=0.1, max_delta_step=0, max_depth=1,\n",
       "       min_child_weight=8, missing=None, n_estimators=50, nthread=-1,\n",
       "       objective='binary:logistic', reg_alpha=1, reg_lambda=1,\n",
       "       scale_pos_weight=1, seed=42, silent=1, subsample=0.8)"
      ]
     },
     "execution_count": 52,
     "metadata": {},
     "output_type": "execute_result"
    }
   ],
   "source": [
    "model4.fit(X_train,y_train)"
   ]
  },
  {
   "cell_type": "code",
   "execution_count": 53,
   "metadata": {
    "collapsed": true
   },
   "outputs": [],
   "source": [
    "y_pred4 = model4.predict(X_test)\n",
    "predictions = [round(value) for value in y_pred4]"
   ]
  },
  {
   "cell_type": "code",
   "execution_count": 54,
   "metadata": {
    "collapsed": false
   },
   "outputs": [
    {
     "name": "stdout",
     "output_type": "stream",
     "text": [
      "Akurasi: 0.9654\n",
      "Precision: 0.9481\n",
      "Recall: 0.9481\n",
      "F1: 0.9481\n"
     ]
    }
   ],
   "source": [
    "accuracy = accuracy_score(y_test, predictions)\n",
    "from sklearn.metrics import accuracy_score, precision_recall_fscore_support\n",
    "precision, recall, f1, _ = precision_recall_fscore_support(y_test, y_pred4)\n",
    "print (('Akurasi: %.4f') % (accuracy))\n",
    "print (('Precision: %.4f') % (precision[1]))\n",
    "print (('Recall: %.4f') % (recall[1]))\n",
    "print (('F1: %.4f') % (f1[1]))"
   ]
  }
 ],
 "metadata": {
  "kernelspec": {
   "display_name": "Python 3",
   "language": "python",
   "name": "python3"
  },
  "language_info": {
   "codemirror_mode": {
    "name": "ipython",
    "version": 3
   },
   "file_extension": ".py",
   "mimetype": "text/x-python",
   "name": "python",
   "nbconvert_exporter": "python",
   "pygments_lexer": "ipython3",
   "version": "3.6.0"
  }
 },
 "nbformat": 4,
 "nbformat_minor": 2
}
