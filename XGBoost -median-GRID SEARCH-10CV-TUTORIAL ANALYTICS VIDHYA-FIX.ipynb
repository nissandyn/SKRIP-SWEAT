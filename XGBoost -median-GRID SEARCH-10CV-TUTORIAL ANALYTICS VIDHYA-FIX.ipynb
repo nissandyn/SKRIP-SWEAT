{
 "cells": [
  {
   "cell_type": "code",
   "execution_count": 1,
   "metadata": {
    "collapsed": false
   },
   "outputs": [
    {
     "name": "stderr",
     "output_type": "stream",
     "text": [
      "C:\\Users\\Annisa\\Anaconda3\\lib\\site-packages\\sklearn\\cross_validation.py:44: DeprecationWarning: This module was deprecated in version 0.18 in favor of the model_selection module into which all the refactored classes and functions are moved. Also note that the interface of the new CV iterators are different from that of this module. This module will be removed in 0.20.\n",
      "  \"This module will be removed in 0.20.\", DeprecationWarning)\n"
     ]
    }
   ],
   "source": [
    "%matplotlib inline\n",
    "import pandas as pd\n",
    "import numpy as np\n",
    "import matplotlib.pyplot as plt\n",
    "import seaborn; \n",
    "from scipy import stats\n",
    "import pylab as pl\n",
    "from sklearn.model_selection import train_test_split\n",
    "from xgboost import XGBClassifier\n",
    "from sklearn.model_selection import train_test_split\n",
    "from sklearn.metrics import accuracy_score\n",
    "from sklearn import model_selection\n",
    "seaborn.set()"
   ]
  },
  {
   "cell_type": "code",
   "execution_count": 2,
   "metadata": {
    "collapsed": false
   },
   "outputs": [],
   "source": [
    "df = pd.read_csv(\"wbc.csv\")"
   ]
  },
  {
   "cell_type": "code",
   "execution_count": 3,
   "metadata": {
    "collapsed": false
   },
   "outputs": [
    {
     "name": "stdout",
     "output_type": "stream",
     "text": [
      "<class 'pandas.core.frame.DataFrame'>\n",
      "RangeIndex: 699 entries, 0 to 698\n",
      "Data columns (total 11 columns):\n",
      "index                 699 non-null int64\n",
      "clump_thickness       699 non-null int64\n",
      "cell_size             699 non-null int64\n",
      "cell_shape            699 non-null int64\n",
      "marginal_adhesion     699 non-null int64\n",
      "epitelial_cellsize    699 non-null int64\n",
      "bare_nuclei           699 non-null float64\n",
      "bland_chromatin       699 non-null int64\n",
      "normal_nucleoli       699 non-null int64\n",
      "mitoses               699 non-null int64\n",
      "jenis                 699 non-null int64\n",
      "dtypes: float64(1), int64(10)\n",
      "memory usage: 60.1 KB\n"
     ]
    }
   ],
   "source": [
    "df=df.replace('?',np.nan)\n",
    "df=df.reset_index()\n",
    "df['bare_nuclei'] = pd.to_numeric(df.bare_nuclei.fillna(df.bare_nuclei.median()))\n",
    "df.info()"
   ]
  },
  {
   "cell_type": "code",
   "execution_count": 4,
   "metadata": {
    "collapsed": false
   },
   "outputs": [],
   "source": [
    "X = df.drop([df.columns[-1]], axis=1)\n",
    "y = df.jenis"
   ]
  },
  {
   "cell_type": "code",
   "execution_count": 5,
   "metadata": {
    "collapsed": true
   },
   "outputs": [],
   "source": [
    "test_size=0.33"
   ]
  },
  {
   "cell_type": "code",
   "execution_count": 6,
   "metadata": {
    "collapsed": true
   },
   "outputs": [],
   "source": [
    "random_state=42"
   ]
  },
  {
   "cell_type": "code",
   "execution_count": 7,
   "metadata": {
    "collapsed": false
   },
   "outputs": [],
   "source": [
    "X_train, X_test, y_train, y_test = train_test_split(X, y, test_size=test_size, random_state=random_state)"
   ]
  },
  {
   "cell_type": "code",
   "execution_count": 8,
   "metadata": {
    "collapsed": true
   },
   "outputs": [],
   "source": [
    "from sklearn.metrics import accuracy_score, precision_recall_fscore_support"
   ]
  },
  {
   "cell_type": "code",
   "execution_count": 9,
   "metadata": {
    "collapsed": false
   },
   "outputs": [],
   "source": [
    "from sklearn import metrics"
   ]
  },
  {
   "cell_type": "code",
   "execution_count": 10,
   "metadata": {
    "collapsed": false
   },
   "outputs": [],
   "source": [
    "from sklearn.model_selection import GridSearchCV\n",
    "from __future__ import print_function\n",
    "from sklearn.metrics import classification_report"
   ]
  },
  {
   "cell_type": "code",
   "execution_count": 11,
   "metadata": {
    "collapsed": true
   },
   "outputs": [],
   "source": [
    "classifier = XGBClassifier()"
   ]
  },
  {
   "cell_type": "code",
   "execution_count": 12,
   "metadata": {
    "collapsed": true
   },
   "outputs": [],
   "source": [
    "from sklearn.cross_validation import StratifiedKFold"
   ]
  },
  {
   "cell_type": "code",
   "execution_count": 13,
   "metadata": {
    "collapsed": false
   },
   "outputs": [],
   "source": [
    "cv = StratifiedKFold(y_train, n_folds=10, shuffle=True, random_state=random_state)"
   ]
  },
  {
   "cell_type": "code",
   "execution_count": 14,
   "metadata": {
    "collapsed": false
   },
   "outputs": [
    {
     "name": "stdout",
     "output_type": "stream",
     "text": [
      "Automatically created module for IPython interactive environment\n",
      "# Tuning hyper-parameters for recall\n",
      "\n",
      "Best parameters set found on development set:\n",
      "\n",
      "{'learning_rate': 0.1, 'n_estimators': 75}\n",
      "\n",
      "Grid scores on development set:\n",
      "\n",
      "0.955 (+/-0.067) for {'learning_rate': 0.1, 'n_estimators': 50}\n",
      "0.956 (+/-0.067) for {'learning_rate': 0.1, 'n_estimators': 75}\n",
      "0.953 (+/-0.073) for {'learning_rate': 0.1, 'n_estimators': 100}\n",
      "0.953 (+/-0.073) for {'learning_rate': 0.1, 'n_estimators': 150}\n",
      "0.953 (+/-0.073) for {'learning_rate': 0.1, 'n_estimators': 200}\n",
      "\n",
      "Detailed classification report:\n",
      "\n",
      "The model is trained on the full development set.\n",
      "The scores are computed on the full evaluation set.\n",
      "\n",
      "             precision    recall  f1-score   support\n",
      "\n",
      "          2       0.95      0.97      0.96       154\n",
      "          4       0.95      0.90      0.92        77\n",
      "\n",
      "avg / total       0.95      0.95      0.95       231\n",
      "\n",
      "\n"
     ]
    }
   ],
   "source": [
    "print(__doc__)\n",
    "\n",
    "# Loading the Digits dataset\n",
    "#digits = datasets.load_digits()\n",
    "\n",
    "# To apply an classifier on this data, we need to flatten the image, to\n",
    "# turn the data in a (samples, feature) matrix:\n",
    "n_samples = len(df)\n",
    "\n",
    "\n",
    "# Set the parameters by cross-validation\n",
    "\n",
    "tuned_parameters = [{'n_estimators': [50,75,100,150,200],\n",
    "                     'learning_rate': [ 0.1]},]\n",
    "                    \n",
    "params_fixed = {\n",
    "    'objective': 'binary:logistic',\n",
    "    'silent': 1\n",
    "}\n",
    "scores = ['recall']\n",
    "\n",
    "for score in scores:\n",
    "    print(\"# Tuning hyper-parameters for %s\" % score)\n",
    "    print()\n",
    "\n",
    "    clf = GridSearchCV(estimator=XGBClassifier(**params_fixed, seed=random_state),\n",
    "    param_grid=tuned_parameters, cv=cv, scoring='%s_macro' % score)\n",
    "    clf.fit(X_train, y_train)\n",
    "\n",
    "    print(\"Best parameters set found on development set:\")\n",
    "    print()\n",
    "    print(clf.best_params_)\n",
    "    print()\n",
    "    print(\"Grid scores on development set:\")\n",
    "    print()\n",
    "    means = clf.cv_results_['mean_test_score']\n",
    "    stds = clf.cv_results_['std_test_score']\n",
    "    for mean, std, params in zip(means, stds, clf.cv_results_['params']):\n",
    "        print(\"%0.3f (+/-%0.03f) for %r\"\n",
    "              % (mean, std * 2, params))\n",
    "    print()\n",
    "\n",
    "    print(\"Detailed classification report:\")\n",
    "    print()\n",
    "    print(\"The model is trained on the full development set.\")\n",
    "    print(\"The scores are computed on the full evaluation set.\")\n",
    "    print()\n",
    "    y_true, y_pred = y_test, clf.predict(X_test)\n",
    "    print(classification_report(y_true, y_pred))\n",
    "    print()"
   ]
  },
  {
   "cell_type": "code",
   "execution_count": 19,
   "metadata": {
    "collapsed": true
   },
   "outputs": [],
   "source": [
    "tuned_parameters1a = [{'n_estimators': [55,60,65,70,75,80,85]},]"
   ]
  },
  {
   "cell_type": "code",
   "execution_count": 20,
   "metadata": {
    "collapsed": false
   },
   "outputs": [
    {
     "name": "stdout",
     "output_type": "stream",
     "text": [
      "Automatically created module for IPython interactive environment\n",
      "# Tuning hyper-parameters for recall\n",
      "\n",
      "Best parameters set found on development set:\n",
      "\n",
      "{'n_estimators': 65}\n",
      "\n",
      "Grid scores on development set:\n",
      "\n",
      "0.9545 (+/-0.067) for {'n_estimators': 55}\n",
      "0.9545 (+/-0.067) for {'n_estimators': 60}\n",
      "0.9561 (+/-0.067) for {'n_estimators': 65}\n",
      "0.9561 (+/-0.067) for {'n_estimators': 70}\n",
      "0.9561 (+/-0.067) for {'n_estimators': 75}\n",
      "0.9561 (+/-0.067) for {'n_estimators': 80}\n",
      "0.9561 (+/-0.067) for {'n_estimators': 85}\n",
      "\n",
      "Detailed classification report:\n",
      "\n",
      "The model is trained on the full development set.\n",
      "The scores are computed on the full evaluation set.\n",
      "\n",
      "             precision    recall  f1-score   support\n",
      "\n",
      "          2       0.95      0.97      0.96       154\n",
      "          4       0.95      0.90      0.92        77\n",
      "\n",
      "avg / total       0.95      0.95      0.95       231\n",
      "\n",
      "\n"
     ]
    }
   ],
   "source": [
    "print(__doc__)\n",
    "\n",
    "n_samples = len(df)\n",
    "\n",
    "                    \n",
    "params_fixed = {\n",
    "    'objective': 'binary:logistic',\n",
    "    'learning_rate':0.1,\n",
    "    'silent': 1\n",
    "}\n",
    "scores = ['recall']\n",
    "\n",
    "for score in scores:\n",
    "    print(\"# Tuning hyper-parameters for %s\" % score)\n",
    "    print()\n",
    "\n",
    "    clf1a = GridSearchCV(estimator=XGBClassifier(**params_fixed, seed=random_state),\n",
    "    param_grid=tuned_parameters1a, cv=cv, scoring='%s_macro' % score)\n",
    "    clf1a.fit(X_train, y_train)\n",
    "\n",
    "    print(\"Best parameters set found on development set:\")\n",
    "    print()\n",
    "    print(clf1a.best_params_)\n",
    "    print()\n",
    "    print(\"Grid scores on development set:\")\n",
    "    print()\n",
    "    means = clf1a.cv_results_['mean_test_score']\n",
    "    stds = clf1a.cv_results_['std_test_score']\n",
    "    for mean, std, params in zip(means, stds, clf1a.cv_results_['params']):\n",
    "        print(\"%0.4f (+/-%0.03f) for %r\"\n",
    "              % (mean, std * 2, params))\n",
    "    print()\n",
    "\n",
    "    print(\"Detailed classification report:\")\n",
    "    print()\n",
    "    print(\"The model is trained on the full development set.\")\n",
    "    print(\"The scores are computed on the full evaluation set.\")\n",
    "    print()\n",
    "    y_true, y_pred1a = y_test, clf1a.predict(X_test)\n",
    "    print(classification_report(y_true, y_pred1a))\n",
    "    print()"
   ]
  },
  {
   "cell_type": "markdown",
   "metadata": {},
   "source": [
    "# Ternyata hasil untuk n_estimators 65-85 sama sehingga bisa dipilih 65"
   ]
  },
  {
   "cell_type": "code",
   "execution_count": 22,
   "metadata": {
    "collapsed": false
   },
   "outputs": [
    {
     "name": "stdout",
     "output_type": "stream",
     "text": [
      "Automatically created module for IPython interactive environment\n",
      "# Tuning hyper-parameters for recall\n",
      "\n",
      "Best parameters set found on development set:\n",
      "\n",
      "{'max_depth': 3, 'min_child_weight': 10}\n",
      "\n",
      "Grid scores on development set:\n",
      "\n",
      "0.9577 (+/-0.069) for {'max_depth': 3, 'min_child_weight': 6}\n",
      "0.9577 (+/-0.077) for {'max_depth': 3, 'min_child_weight': 8}\n",
      "0.9622 (+/-0.074) for {'max_depth': 3, 'min_child_weight': 10}\n",
      "0.9577 (+/-0.077) for {'max_depth': 3, 'min_child_weight': 12}\n",
      "0.9577 (+/-0.069) for {'max_depth': 5, 'min_child_weight': 6}\n",
      "0.9577 (+/-0.077) for {'max_depth': 5, 'min_child_weight': 8}\n",
      "0.9622 (+/-0.074) for {'max_depth': 5, 'min_child_weight': 10}\n",
      "0.9577 (+/-0.077) for {'max_depth': 5, 'min_child_weight': 12}\n",
      "0.9577 (+/-0.069) for {'max_depth': 7, 'min_child_weight': 6}\n",
      "0.9577 (+/-0.077) for {'max_depth': 7, 'min_child_weight': 8}\n",
      "0.9622 (+/-0.074) for {'max_depth': 7, 'min_child_weight': 10}\n",
      "0.9577 (+/-0.077) for {'max_depth': 7, 'min_child_weight': 12}\n",
      "0.9577 (+/-0.069) for {'max_depth': 9, 'min_child_weight': 6}\n",
      "0.9577 (+/-0.077) for {'max_depth': 9, 'min_child_weight': 8}\n",
      "0.9622 (+/-0.074) for {'max_depth': 9, 'min_child_weight': 10}\n",
      "0.9577 (+/-0.077) for {'max_depth': 9, 'min_child_weight': 12}\n",
      "0.9577 (+/-0.069) for {'max_depth': 11, 'min_child_weight': 6}\n",
      "0.9577 (+/-0.077) for {'max_depth': 11, 'min_child_weight': 8}\n",
      "0.9622 (+/-0.074) for {'max_depth': 11, 'min_child_weight': 10}\n",
      "0.9577 (+/-0.077) for {'max_depth': 11, 'min_child_weight': 12}\n",
      "0.9577 (+/-0.069) for {'max_depth': 13, 'min_child_weight': 6}\n",
      "0.9577 (+/-0.077) for {'max_depth': 13, 'min_child_weight': 8}\n",
      "0.9622 (+/-0.074) for {'max_depth': 13, 'min_child_weight': 10}\n",
      "0.9577 (+/-0.077) for {'max_depth': 13, 'min_child_weight': 12}\n",
      "\n",
      "Detailed classification report:\n",
      "\n",
      "The model is trained on the full development set.\n",
      "The scores are computed on the full evaluation set.\n",
      "\n",
      "             precision    recall  f1-score   support\n",
      "\n",
      "          2       0.97      0.98      0.98       154\n",
      "          4       0.96      0.95      0.95        77\n",
      "\n",
      "avg / total       0.97      0.97      0.97       231\n",
      "\n",
      "\n"
     ]
    }
   ],
   "source": [
    "print(__doc__)\n",
    "\n",
    "# Loading the Digits dataset\n",
    "#digits = datasets.load_digits()\n",
    "\n",
    "# To apply an classifier on this data, we need to flatten the image, to\n",
    "# turn the data in a (samples, feature) matrix:\n",
    "n_samples = len(df)\n",
    "\n",
    "\n",
    "# Set the parameters by cross-validation\n",
    "\n",
    "tuned_parameters2 = [{'max_depth': range(3,14,2), \n",
    "                     'min_child_weight': range(6,14,2)},]\n",
    "                    \n",
    "params_fixed = {\n",
    "    'objective': 'binary:logistic',\n",
    "    'n_estimators': 65,\n",
    "    'learning_rate': 0.1,\n",
    "    'silent': 1\n",
    "}\n",
    "scores = ['recall']\n",
    "\n",
    "for score in scores:\n",
    "    print(\"# Tuning hyper-parameters for %s\" % score)\n",
    "    print()\n",
    "\n",
    "    clf2 = GridSearchCV(estimator=XGBClassifier(**params_fixed, seed=random_state),\n",
    "    param_grid=tuned_parameters2, cv=cv, scoring='%s_macro' % score)\n",
    "    clf2.fit(X_train, y_train)\n",
    "\n",
    "    print(\"Best parameters set found on development set:\")\n",
    "    print()\n",
    "    print(clf2.best_params_)\n",
    "    print()\n",
    "    print(\"Grid scores on development set:\")\n",
    "    print()\n",
    "    means = clf2.cv_results_['mean_test_score']\n",
    "    stds = clf2.cv_results_['std_test_score']\n",
    "    for mean, std, params in zip(means, stds, clf2.cv_results_['params']):\n",
    "        print(\"%0.4f (+/-%0.03f) for %r\"\n",
    "              % (mean, std * 2, params))\n",
    "    print()\n",
    "\n",
    "    print(\"Detailed classification report:\")\n",
    "    print()\n",
    "    print(\"The model is trained on the full development set.\")\n",
    "    print(\"The scores are computed on the full evaluation set.\")\n",
    "    print()\n",
    "    y_true, y_pred2 = y_test, clf2.predict(X_test)\n",
    "    print(classification_report(y_true, y_pred2))\n",
    "    print()"
   ]
  },
  {
   "cell_type": "markdown",
   "metadata": {},
   "source": [
    "# Hasil ideal min_child_weight = 10, max_depth = 3"
   ]
  },
  {
   "cell_type": "code",
   "execution_count": 24,
   "metadata": {
    "collapsed": false
   },
   "outputs": [],
   "source": [
    "tuned_parameters2a = [{'max_depth':[2,3,4] ,\n",
    "                     'min_child_weight': [9,10,11]},]"
   ]
  },
  {
   "cell_type": "code",
   "execution_count": 25,
   "metadata": {
    "collapsed": false
   },
   "outputs": [
    {
     "name": "stdout",
     "output_type": "stream",
     "text": [
      "Automatically created module for IPython interactive environment\n",
      "# Tuning hyper-parameters for recall\n",
      "\n",
      "Best parameters set found on development set:\n",
      "\n",
      "{'max_depth': 2, 'min_child_weight': 10}\n",
      "\n",
      "Grid scores on development set:\n",
      "\n",
      "0.9607 (+/-0.074) for {'max_depth': 2, 'min_child_weight': 9}\n",
      "0.9622 (+/-0.074) for {'max_depth': 2, 'min_child_weight': 10}\n",
      "0.9607 (+/-0.074) for {'max_depth': 2, 'min_child_weight': 11}\n",
      "0.9607 (+/-0.074) for {'max_depth': 3, 'min_child_weight': 9}\n",
      "0.9622 (+/-0.074) for {'max_depth': 3, 'min_child_weight': 10}\n",
      "0.9607 (+/-0.074) for {'max_depth': 3, 'min_child_weight': 11}\n",
      "0.9607 (+/-0.074) for {'max_depth': 4, 'min_child_weight': 9}\n",
      "0.9622 (+/-0.074) for {'max_depth': 4, 'min_child_weight': 10}\n",
      "0.9607 (+/-0.074) for {'max_depth': 4, 'min_child_weight': 11}\n",
      "\n",
      "Detailed classification report:\n",
      "\n",
      "The model is trained on the full development set.\n",
      "The scores are computed on the full evaluation set.\n",
      "\n",
      "             precision    recall  f1-score   support\n",
      "\n",
      "          2       0.97      0.98      0.98       154\n",
      "          4       0.96      0.95      0.95        77\n",
      "\n",
      "avg / total       0.97      0.97      0.97       231\n",
      "\n",
      "\n"
     ]
    }
   ],
   "source": [
    "print(__doc__)\n",
    "\n",
    "# Loading the Digits dataset\n",
    "#digits = datasets.load_digits()\n",
    "\n",
    "# To apply an classifier on this data, we need to flatten the image, to\n",
    "# turn the data in a (samples, feature) matrix:\n",
    "n_samples = len(df)\n",
    "\n",
    "                    \n",
    "params_fixed = {\n",
    "    'objective': 'binary:logistic',\n",
    "    'n_estimators': 65,\n",
    "    'learning_rate': 0.1,\n",
    "    'silent': 1\n",
    "}\n",
    "scores = ['recall']\n",
    "\n",
    "for score in scores:\n",
    "    print(\"# Tuning hyper-parameters for %s\" % score)\n",
    "    print()\n",
    "\n",
    "    clf2a = GridSearchCV(estimator=XGBClassifier(**params_fixed, seed=random_state),\n",
    "    param_grid=tuned_parameters2a, cv=cv, scoring='%s_macro' % score)\n",
    "    clf2a.fit(X_train, y_train)\n",
    "\n",
    "    print(\"Best parameters set found on development set:\")\n",
    "    print()\n",
    "    print(clf2a.best_params_)\n",
    "    print()\n",
    "    print(\"Grid scores on development set:\")\n",
    "    print()\n",
    "    means = clf2a.cv_results_['mean_test_score']\n",
    "    stds = clf2a.cv_results_['std_test_score']\n",
    "    for mean, std, params in zip(means, stds, clf2a.cv_results_['params']):\n",
    "        print(\"%0.4f (+/-%0.03f) for %r\"\n",
    "              % (mean, std * 2, params))\n",
    "    print()\n",
    "\n",
    "    print(\"Detailed classification report:\")\n",
    "    print()\n",
    "    print(\"The model is trained on the full development set.\")\n",
    "    print(\"The scores are computed on the full evaluation set.\")\n",
    "    print()\n",
    "    y_true, y_pred2a = y_test, clf2a.predict(X_test)\n",
    "    print(classification_report(y_true, y_pred2a))\n",
    "    print()"
   ]
  },
  {
   "cell_type": "markdown",
   "metadata": {},
   "source": [
    "# max_depth merupakan kedalaman dari tree, meningkatkan nilai max_Depth akan membuat model lebih complex/overfit"
   ]
  },
  {
   "cell_type": "code",
   "execution_count": 28,
   "metadata": {
    "collapsed": true
   },
   "outputs": [],
   "source": [
    "tuned_parameters3 = {'gamma':[i/10.0 for i in range (0,5)]}"
   ]
  },
  {
   "cell_type": "markdown",
   "metadata": {},
   "source": [
    "# gamma itu langrangian multiplier (complexity control)\n",
    "higher gamma = lower difference between train/test"
   ]
  },
  {
   "cell_type": "code",
   "execution_count": 29,
   "metadata": {
    "collapsed": false
   },
   "outputs": [
    {
     "name": "stdout",
     "output_type": "stream",
     "text": [
      "Automatically created module for IPython interactive environment\n",
      "# Tuning hyper-parameters for recall\n",
      "\n",
      "Best parameters set found on development set:\n",
      "\n",
      "{'gamma': 0.1}\n",
      "\n",
      "Grid scores on development set:\n",
      "\n",
      "0.9622 (+/-0.074) for {'gamma': 0.0}\n",
      "0.9638 (+/-0.072) for {'gamma': 0.1}\n",
      "0.9638 (+/-0.072) for {'gamma': 0.2}\n",
      "0.9638 (+/-0.072) for {'gamma': 0.3}\n",
      "0.9638 (+/-0.072) for {'gamma': 0.4}\n",
      "\n",
      "Detailed classification report:\n",
      "\n",
      "The model is trained on the full development set.\n",
      "The scores are computed on the full evaluation set.\n",
      "\n",
      "             precision    recall  f1-score   support\n",
      "\n",
      "          2       0.97      0.98      0.98       154\n",
      "          4       0.96      0.95      0.95        77\n",
      "\n",
      "avg / total       0.97      0.97      0.97       231\n",
      "\n",
      "\n"
     ]
    }
   ],
   "source": [
    "print(__doc__)\n",
    "\n",
    "# Loading the Digits dataset\n",
    "#digits = datasets.load_digits()\n",
    "\n",
    "# To apply an classifier on this data, we need to flatten the image, to\n",
    "# turn the data in a (samples, feature) matrix:\n",
    "n_samples = len(df)\n",
    "\n",
    "                    \n",
    "params_fixed = {\n",
    "    'objective': 'binary:logistic',\n",
    "    'n_estimators': 65,\n",
    "    'learning_rate': 0.1,\n",
    "    'max_depth': 2, \n",
    "    'min_child_weight': 10,\n",
    "    'silent': 1\n",
    "}\n",
    "scores = ['recall']\n",
    "\n",
    "for score in scores:\n",
    "    print(\"# Tuning hyper-parameters for %s\" % score)\n",
    "    print()\n",
    "\n",
    "    clf3 = GridSearchCV(estimator=XGBClassifier(**params_fixed, seed=random_state),\n",
    "    param_grid=tuned_parameters3, cv=cv, scoring='%s_macro' % score)\n",
    "    clf3.fit(X_train, y_train)\n",
    "\n",
    "    print(\"Best parameters set found on development set:\")\n",
    "    print()\n",
    "    print(clf3.best_params_)\n",
    "    print()\n",
    "    print(\"Grid scores on development set:\")\n",
    "    print()\n",
    "    means = clf3.cv_results_['mean_test_score']\n",
    "    stds = clf3.cv_results_['std_test_score']\n",
    "    for mean, std, params in zip(means, stds, clf3.cv_results_['params']):\n",
    "        print(\"%0.4f (+/-%0.03f) for %r\"\n",
    "              % (mean, std * 2, params))\n",
    "    print()\n",
    "\n",
    "    print(\"Detailed classification report:\")\n",
    "    print()\n",
    "    print(\"The model is trained on the full development set.\")\n",
    "    print(\"The scores are computed on the full evaluation set.\")\n",
    "    print()\n",
    "    y_true, y_pred3 = y_test, clf3.predict(X_test)\n",
    "    print(classification_report(y_true, y_pred3))\n",
    "    print()"
   ]
  },
  {
   "cell_type": "markdown",
   "metadata": {},
   "source": [
    "# gamma = 0.1"
   ]
  },
  {
   "cell_type": "code",
   "execution_count": 30,
   "metadata": {
    "collapsed": true
   },
   "outputs": [],
   "source": [
    "tuned_parameters4 = [{'subsample':[i/10.0 for i in range(6,10)] ,\n",
    "                     'colsample_bytree':[i/10.0 for i in range(6,10)]},]"
   ]
  },
  {
   "cell_type": "code",
   "execution_count": 31,
   "metadata": {
    "collapsed": false
   },
   "outputs": [
    {
     "name": "stdout",
     "output_type": "stream",
     "text": [
      "Automatically created module for IPython interactive environment\n",
      "# Tuning hyper-parameters for recall\n",
      "\n",
      "Best parameters set found on development set:\n",
      "\n",
      "{'colsample_bytree': 0.9, 'subsample': 0.6}\n",
      "\n",
      "Grid scores on development set:\n",
      "\n",
      "0.9575 (+/-0.074) for {'colsample_bytree': 0.6, 'subsample': 0.6}\n",
      "0.9561 (+/-0.076) for {'colsample_bytree': 0.6, 'subsample': 0.7}\n",
      "0.9591 (+/-0.071) for {'colsample_bytree': 0.6, 'subsample': 0.8}\n",
      "0.9622 (+/-0.069) for {'colsample_bytree': 0.6, 'subsample': 0.9}\n",
      "0.9575 (+/-0.076) for {'colsample_bytree': 0.7, 'subsample': 0.6}\n",
      "0.9622 (+/-0.074) for {'colsample_bytree': 0.7, 'subsample': 0.7}\n",
      "0.9547 (+/-0.082) for {'colsample_bytree': 0.7, 'subsample': 0.8}\n",
      "0.9622 (+/-0.069) for {'colsample_bytree': 0.7, 'subsample': 0.9}\n",
      "0.9622 (+/-0.071) for {'colsample_bytree': 0.8, 'subsample': 0.6}\n",
      "0.9608 (+/-0.078) for {'colsample_bytree': 0.8, 'subsample': 0.7}\n",
      "0.9531 (+/-0.079) for {'colsample_bytree': 0.8, 'subsample': 0.8}\n",
      "0.9577 (+/-0.079) for {'colsample_bytree': 0.8, 'subsample': 0.9}\n",
      "0.9638 (+/-0.072) for {'colsample_bytree': 0.9, 'subsample': 0.6}\n",
      "0.9638 (+/-0.072) for {'colsample_bytree': 0.9, 'subsample': 0.7}\n",
      "0.9531 (+/-0.079) for {'colsample_bytree': 0.9, 'subsample': 0.8}\n",
      "0.9592 (+/-0.075) for {'colsample_bytree': 0.9, 'subsample': 0.9}\n",
      "\n",
      "Detailed classification report:\n",
      "\n",
      "The model is trained on the full development set.\n",
      "The scores are computed on the full evaluation set.\n",
      "\n",
      "             precision    recall  f1-score   support\n",
      "\n",
      "          2       0.97      0.97      0.97       154\n",
      "          4       0.95      0.94      0.94        77\n",
      "\n",
      "avg / total       0.96      0.96      0.96       231\n",
      "\n",
      "\n"
     ]
    }
   ],
   "source": [
    "print(__doc__)\n",
    "\n",
    "# Loading the Digits dataset\n",
    "#digits = datasets.load_digits()\n",
    "\n",
    "# To apply an classifier on this data, we need to flatten the image, to\n",
    "# turn the data in a (samples, feature) matrix:\n",
    "n_samples = len(df)\n",
    "\n",
    "                    \n",
    "params_fixed = {\n",
    "    'objective': 'binary:logistic',\n",
    "    'n_estimators': 65,\n",
    "    'learning_rate': 0.1,\n",
    "    'max_depth': 2, \n",
    "    'min_child_weight': 10,\n",
    "    'gamma':0.1,\n",
    "    'silent': 1\n",
    "}\n",
    "scores = ['recall']\n",
    "\n",
    "for score in scores:\n",
    "    print(\"# Tuning hyper-parameters for %s\" % score)\n",
    "    print()\n",
    "\n",
    "    clf4 = GridSearchCV(estimator=XGBClassifier(**params_fixed, seed=random_state),\n",
    "    param_grid=tuned_parameters4, cv=cv, scoring='%s_macro' % score)\n",
    "    clf4.fit(X_train, y_train)\n",
    "\n",
    "    print(\"Best parameters set found on development set:\")\n",
    "    print()\n",
    "    print(clf4.best_params_)\n",
    "    print()\n",
    "    print(\"Grid scores on development set:\")\n",
    "    print()\n",
    "    means = clf4.cv_results_['mean_test_score']\n",
    "    stds = clf4.cv_results_['std_test_score']\n",
    "    for mean, std, params in zip(means, stds, clf4.cv_results_['params']):\n",
    "        print(\"%0.4f (+/-%0.03f) for %r\"\n",
    "              % (mean, std * 2, params))\n",
    "    print()\n",
    "\n",
    "    print(\"Detailed classification report:\")\n",
    "    print()\n",
    "    print(\"The model is trained on the full development set.\")\n",
    "    print(\"The scores are computed on the full evaluation set.\")\n",
    "    print()\n",
    "    y_true, y_pred4 = y_test, clf4.predict(X_test)\n",
    "    print(classification_report(y_true, y_pred4))\n",
    "    print()"
   ]
  },
  {
   "cell_type": "code",
   "execution_count": 32,
   "metadata": {
    "collapsed": true
   },
   "outputs": [],
   "source": [
    "tuned_parameters4a = [{'subsample':[i/100.0 for i in range(55,70,5)] ,\n",
    "                     'colsample_bytree':[i/100.0 for i in range(85,100,5)]},]"
   ]
  },
  {
   "cell_type": "code",
   "execution_count": 33,
   "metadata": {
    "collapsed": false
   },
   "outputs": [
    {
     "name": "stdout",
     "output_type": "stream",
     "text": [
      "Automatically created module for IPython interactive environment\n",
      "# Tuning hyper-parameters for recall\n",
      "\n",
      "Best parameters set found on development set:\n",
      "\n",
      "{'colsample_bytree': 0.9, 'subsample': 0.6}\n",
      "\n",
      "Grid scores on development set:\n",
      "\n",
      "0.9592 (+/-0.075) for {'colsample_bytree': 0.85, 'subsample': 0.55}\n",
      "0.9622 (+/-0.071) for {'colsample_bytree': 0.85, 'subsample': 0.6}\n",
      "0.9608 (+/-0.078) for {'colsample_bytree': 0.85, 'subsample': 0.65}\n",
      "0.9605 (+/-0.073) for {'colsample_bytree': 0.9, 'subsample': 0.55}\n",
      "0.9638 (+/-0.072) for {'colsample_bytree': 0.9, 'subsample': 0.6}\n",
      "0.9561 (+/-0.076) for {'colsample_bytree': 0.9, 'subsample': 0.65}\n",
      "0.9605 (+/-0.073) for {'colsample_bytree': 0.95, 'subsample': 0.55}\n",
      "0.9638 (+/-0.072) for {'colsample_bytree': 0.95, 'subsample': 0.6}\n",
      "0.9561 (+/-0.076) for {'colsample_bytree': 0.95, 'subsample': 0.65}\n",
      "\n",
      "Detailed classification report:\n",
      "\n",
      "The model is trained on the full development set.\n",
      "The scores are computed on the full evaluation set.\n",
      "\n",
      "             precision    recall  f1-score   support\n",
      "\n",
      "          2       0.97      0.97      0.97       154\n",
      "          4       0.95      0.94      0.94        77\n",
      "\n",
      "avg / total       0.96      0.96      0.96       231\n",
      "\n",
      "\n"
     ]
    }
   ],
   "source": [
    "print(__doc__)\n",
    "\n",
    "# Loading the Digits dataset\n",
    "#digits = datasets.load_digits()\n",
    "\n",
    "# To apply an classifier on this data, we need to flatten the image, to\n",
    "# turn the data in a (samples, feature) matrix:\n",
    "n_samples = len(df)\n",
    "\n",
    "                    \n",
    "params_fixed = {\n",
    "    'objective': 'binary:logistic',\n",
    "    'n_estimators': 65,\n",
    "    'learning_rate': 0.1,\n",
    "    'max_depth': 2, \n",
    "    'min_child_weight': 10,\n",
    "    'gamma':0.1,\n",
    "    'silent': 1\n",
    "}\n",
    "scores = ['recall']\n",
    "\n",
    "for score in scores:\n",
    "    print(\"# Tuning hyper-parameters for %s\" % score)\n",
    "    print()\n",
    "\n",
    "    clf4a = GridSearchCV(estimator=XGBClassifier(**params_fixed, seed=random_state),\n",
    "    param_grid=tuned_parameters4a, cv=cv, scoring='%s_macro' % score)\n",
    "    clf4a.fit(X_train, y_train)\n",
    "\n",
    "    print(\"Best parameters set found on development set:\")\n",
    "    print()\n",
    "    print(clf4a.best_params_)\n",
    "    print()\n",
    "    print(\"Grid scores on development set:\")\n",
    "    print()\n",
    "    means = clf4a.cv_results_['mean_test_score']\n",
    "    stds = clf4a.cv_results_['std_test_score']\n",
    "    for mean, std, params in zip(means, stds, clf4a.cv_results_['params']):\n",
    "        print(\"%0.4f (+/-%0.03f) for %r\"\n",
    "              % (mean, std * 2, params))\n",
    "    print()\n",
    "\n",
    "    print(\"Detailed classification report:\")\n",
    "    print()\n",
    "    print(\"The model is trained on the full development set.\")\n",
    "    print(\"The scores are computed on the full evaluation set.\")\n",
    "    print()\n",
    "    y_true, y_pred4a = y_test, clf4a.predict(X_test)\n",
    "    print(classification_report(y_true, y_pred4a))\n",
    "    print()"
   ]
  },
  {
   "cell_type": "markdown",
   "metadata": {},
   "source": [
    "# Hasilnya tetap sama yaitu colsample_bytee=0.9 , subsample =0.6"
   ]
  },
  {
   "cell_type": "code",
   "execution_count": 34,
   "metadata": {
    "collapsed": true
   },
   "outputs": [],
   "source": [
    "tuned_parameters5 = {'reg_alpha':[1e-5,1e-4,1e-3,1e-2,0.1,1,100]}"
   ]
  },
  {
   "cell_type": "code",
   "execution_count": 35,
   "metadata": {
    "collapsed": false
   },
   "outputs": [
    {
     "name": "stdout",
     "output_type": "stream",
     "text": [
      "Automatically created module for IPython interactive environment\n",
      "# Tuning hyper-parameters for recall\n",
      "\n",
      "Best parameters set found on development set:\n",
      "\n",
      "{'reg_alpha': 1e-05}\n",
      "\n",
      "Grid scores on development set:\n",
      "\n",
      "0.9638 (+/-0.072) for {'reg_alpha': 1e-05}\n",
      "0.9638 (+/-0.072) for {'reg_alpha': 0.0001}\n",
      "0.9638 (+/-0.072) for {'reg_alpha': 0.001}\n",
      "0.9638 (+/-0.072) for {'reg_alpha': 0.01}\n",
      "0.9622 (+/-0.069) for {'reg_alpha': 0.1}\n",
      "0.9622 (+/-0.071) for {'reg_alpha': 1}\n",
      "0.5000 (+/-0.000) for {'reg_alpha': 100}\n",
      "\n",
      "Detailed classification report:\n",
      "\n",
      "The model is trained on the full development set.\n",
      "The scores are computed on the full evaluation set.\n",
      "\n",
      "             precision    recall  f1-score   support\n",
      "\n",
      "          2       0.97      0.97      0.97       154\n",
      "          4       0.95      0.94      0.94        77\n",
      "\n",
      "avg / total       0.96      0.96      0.96       231\n",
      "\n",
      "\n"
     ]
    }
   ],
   "source": [
    "print(__doc__)\n",
    "\n",
    "# Loading the Digits dataset\n",
    "#digits = datasets.load_digits()\n",
    "\n",
    "# To apply an classifier on this data, we need to flatten the image, to\n",
    "# turn the data in a (samples, feature) matrix:\n",
    "n_samples = len(df)\n",
    "\n",
    "                    \n",
    "params_fixed = {\n",
    "    'objective': 'binary:logistic',\n",
    "    'n_estimators': 65,\n",
    "    'learning_rate': 0.1,\n",
    "    'max_depth': 2, \n",
    "    'min_child_weight': 10,\n",
    "    'gamma':0.1,\n",
    "    'colsample_bytree':0.9,\n",
    "    'subsample':0.6,\n",
    "    'silent': 1\n",
    "}\n",
    "scores = ['recall']\n",
    "\n",
    "for score in scores:\n",
    "    print(\"# Tuning hyper-parameters for %s\" % score)\n",
    "    print()\n",
    "\n",
    "    clf5 = GridSearchCV(estimator=XGBClassifier(**params_fixed, seed=random_state),\n",
    "    param_grid=tuned_parameters5, cv=cv, scoring='%s_macro' % score)\n",
    "    clf5.fit(X_train, y_train)\n",
    "\n",
    "    print(\"Best parameters set found on development set:\")\n",
    "    print()\n",
    "    print(clf5.best_params_)\n",
    "    print()\n",
    "    print(\"Grid scores on development set:\")\n",
    "    print()\n",
    "    means = clf5.cv_results_['mean_test_score']\n",
    "    stds = clf5.cv_results_['std_test_score']\n",
    "    for mean, std, params in zip(means, stds, clf5.cv_results_['params']):\n",
    "        print(\"%0.4f (+/-%0.03f) for %r\"\n",
    "              % (mean, std * 2, params))\n",
    "    print()\n",
    "\n",
    "    print(\"Detailed classification report:\")\n",
    "    print()\n",
    "    print(\"The model is trained on the full development set.\")\n",
    "    print(\"The scores are computed on the full evaluation set.\")\n",
    "    print()\n",
    "    y_true, y_pred5 = y_test, clf5.predict(X_test)\n",
    "    print(classification_report(y_true, y_pred5))\n",
    "    print()"
   ]
  },
  {
   "cell_type": "code",
   "execution_count": 36,
   "metadata": {
    "collapsed": true
   },
   "outputs": [],
   "source": [
    "tuned_parameters5a = {'reg_alpha':[0.005,1e-05,0.01]}"
   ]
  },
  {
   "cell_type": "code",
   "execution_count": 37,
   "metadata": {
    "collapsed": false
   },
   "outputs": [
    {
     "name": "stdout",
     "output_type": "stream",
     "text": [
      "Automatically created module for IPython interactive environment\n",
      "# Tuning hyper-parameters for recall\n",
      "\n",
      "Best parameters set found on development set:\n",
      "\n",
      "{'reg_alpha': 0.005}\n",
      "\n",
      "Grid scores on development set:\n",
      "\n",
      "0.9638 (+/-0.072) for {'reg_alpha': 0.005}\n",
      "0.9638 (+/-0.072) for {'reg_alpha': 1e-05}\n",
      "0.9638 (+/-0.072) for {'reg_alpha': 0.01}\n",
      "\n",
      "Detailed classification report:\n",
      "\n",
      "The model is trained on the full development set.\n",
      "The scores are computed on the full evaluation set.\n",
      "\n",
      "             precision    recall  f1-score   support\n",
      "\n",
      "          2       0.97      0.97      0.97       154\n",
      "          4       0.95      0.94      0.94        77\n",
      "\n",
      "avg / total       0.96      0.96      0.96       231\n",
      "\n",
      "\n"
     ]
    }
   ],
   "source": [
    "print(__doc__)\n",
    "\n",
    "# Loading the Digits dataset\n",
    "#digits = datasets.load_digits()\n",
    "\n",
    "# To apply an classifier on this data, we need to flatten the image, to\n",
    "# turn the data in a (samples, feature) matrix:\n",
    "n_samples = len(df)\n",
    "\n",
    "                    \n",
    "params_fixed = {\n",
    "    'objective': 'binary:logistic',\n",
    "    'n_estimators': 65,\n",
    "    'learning_rate': 0.1,\n",
    "    'max_depth': 2, \n",
    "    'min_child_weight': 10,\n",
    "    'gamma':0.1,\n",
    "    'colsample_bytree':0.9,\n",
    "    'subsample':0.6,\n",
    "    'silent': 1\n",
    "}\n",
    "scores = ['recall']\n",
    "\n",
    "for score in scores:\n",
    "    print(\"# Tuning hyper-parameters for %s\" % score)\n",
    "    print()\n",
    "\n",
    "    clf5a = GridSearchCV(estimator=XGBClassifier(**params_fixed, seed=random_state),\n",
    "    param_grid=tuned_parameters5a, cv=cv, scoring='%s_macro' % score)\n",
    "    clf5a.fit(X_train, y_train)\n",
    "\n",
    "    print(\"Best parameters set found on development set:\")\n",
    "    print()\n",
    "    print(clf5a.best_params_)\n",
    "    print()\n",
    "    print(\"Grid scores on development set:\")\n",
    "    print()\n",
    "    means = clf5a.cv_results_['mean_test_score']\n",
    "    stds = clf5a.cv_results_['std_test_score']\n",
    "    for mean, std, params in zip(means, stds, clf5a.cv_results_['params']):\n",
    "        print(\"%0.4f (+/-%0.03f) for %r\"\n",
    "              % (mean, std * 2, params))\n",
    "    print()\n",
    "\n",
    "    print(\"Detailed classification report:\")\n",
    "    print()\n",
    "    print(\"The model is trained on the full development set.\")\n",
    "    print(\"The scores are computed on the full evaluation set.\")\n",
    "    print()\n",
    "    y_true, y_pred5a = y_test, clf5a.predict(X_test)\n",
    "    print(classification_report(y_true, y_pred5a))\n",
    "    print()"
   ]
  },
  {
   "cell_type": "markdown",
   "metadata": {},
   "source": [
    "# dengan scores recall yang sama dengan 1e-05, reg alpha yang baru yaitu 0.005"
   ]
  },
  {
   "cell_type": "code",
   "execution_count": 38,
   "metadata": {
    "collapsed": false
   },
   "outputs": [
    {
     "data": {
      "text/plain": [
       "XGBClassifier(base_score=0.5, colsample_bylevel=1, colsample_bytree=0.9,\n",
       "       gamma=0.1, learning_rate=0.1, max_delta_step=0, max_depth=2,\n",
       "       min_child_weight=10, missing=None, n_estimators=65, nthread=-1,\n",
       "       objective='binary:logistic', reg_alpha=0.005, reg_lambda=1,\n",
       "       scale_pos_weight=1, seed=42, silent=1, subsample=0.6)"
      ]
     },
     "execution_count": 38,
     "metadata": {},
     "output_type": "execute_result"
    }
   ],
   "source": [
    "clf5a.best_estimator_"
   ]
  },
  {
   "cell_type": "code",
   "execution_count": 43,
   "metadata": {
    "collapsed": true
   },
   "outputs": [],
   "source": [
    "xgb_all=XGBClassifier(base_score=0.5, colsample_bylevel=1, colsample_bytree=0.9,\n",
    "       gamma=0.1, learning_rate=0.1, max_delta_step=0, max_depth=2,\n",
    "       min_child_weight=10, missing=None, n_estimators=65, nthread=-1,\n",
    "       objective='binary:logistic', reg_alpha=0.005, reg_lambda=1,\n",
    "       scale_pos_weight=1, seed=42, silent=1, subsample=0.6)"
   ]
  },
  {
   "cell_type": "code",
   "execution_count": 44,
   "metadata": {
    "collapsed": false
   },
   "outputs": [
    {
     "data": {
      "text/plain": [
       "XGBClassifier(base_score=0.5, colsample_bylevel=1, colsample_bytree=0.9,\n",
       "       gamma=0.1, learning_rate=0.1, max_delta_step=0, max_depth=2,\n",
       "       min_child_weight=10, missing=None, n_estimators=65, nthread=-1,\n",
       "       objective='binary:logistic', reg_alpha=0.005, reg_lambda=1,\n",
       "       scale_pos_weight=1, seed=42, silent=1, subsample=0.6)"
      ]
     },
     "execution_count": 44,
     "metadata": {},
     "output_type": "execute_result"
    }
   ],
   "source": [
    "xgb_all.fit(X_train,y_train)"
   ]
  },
  {
   "cell_type": "code",
   "execution_count": 45,
   "metadata": {
    "collapsed": false
   },
   "outputs": [
    {
     "name": "stdout",
     "output_type": "stream",
     "text": [
      "Akurasi: 0.9610\n",
      "Precision: 0.9474\n",
      "Recall: 0.9351\n",
      "F1: 0.9412\n"
     ]
    }
   ],
   "source": [
    "y_pred_all = xgb_all.predict(X_test)\n",
    "accuracy = accuracy_score(y_test, y_pred_all)\n",
    "precision, recall, f1, _ = precision_recall_fscore_support(y_test, y_pred_all)\n",
    "print (('Akurasi: %.4f') % (accuracy))\n",
    "print (('Precision: %.4f') % (precision[1]))\n",
    "print (('Recall: %.4f') % (recall[1]))\n",
    "print (('F1: %.4f') % (f1[1]))"
   ]
  },
  {
   "cell_type": "markdown",
   "metadata": {},
   "source": [
    "# reduce learning rate"
   ]
  },
  {
   "cell_type": "code",
   "execution_count": 46,
   "metadata": {
    "collapsed": true
   },
   "outputs": [],
   "source": [
    "xgb_all2=XGBClassifier(base_score=0.5, colsample_bylevel=1, colsample_bytree=0.9,\n",
    "       gamma=0.1, learning_rate=0.01, max_delta_step=0, max_depth=2,\n",
    "       min_child_weight=10, missing=None, n_estimators=65, nthread=-1,\n",
    "       objective='binary:logistic', reg_alpha=0.005, reg_lambda=1,\n",
    "       scale_pos_weight=1, seed=42, silent=1, subsample=0.6)"
   ]
  },
  {
   "cell_type": "code",
   "execution_count": 47,
   "metadata": {
    "collapsed": false
   },
   "outputs": [
    {
     "data": {
      "text/plain": [
       "XGBClassifier(base_score=0.5, colsample_bylevel=1, colsample_bytree=0.9,\n",
       "       gamma=0.1, learning_rate=0.01, max_delta_step=0, max_depth=2,\n",
       "       min_child_weight=10, missing=None, n_estimators=65, nthread=-1,\n",
       "       objective='binary:logistic', reg_alpha=0.005, reg_lambda=1,\n",
       "       scale_pos_weight=1, seed=42, silent=1, subsample=0.6)"
      ]
     },
     "execution_count": 47,
     "metadata": {},
     "output_type": "execute_result"
    }
   ],
   "source": [
    "xgb_all2.fit(X_train,y_train)"
   ]
  },
  {
   "cell_type": "code",
   "execution_count": 48,
   "metadata": {
    "collapsed": false
   },
   "outputs": [
    {
     "name": "stdout",
     "output_type": "stream",
     "text": [
      "Akurasi: 0.9567\n",
      "Precision: 0.9467\n",
      "Recall: 0.9221\n",
      "F1: 0.9342\n"
     ]
    }
   ],
   "source": [
    "y_pred_all2 = xgb_all2.predict(X_test)\n",
    "accuracy = accuracy_score(y_test, y_pred_all2)\n",
    "precision, recall, f1, _ = precision_recall_fscore_support(y_test, y_pred_all2)\n",
    "print (('Akurasi: %.4f') % (accuracy))\n",
    "print (('Precision: %.4f') % (precision[1]))\n",
    "print (('Recall: %.4f') % (recall[1]))\n",
    "print (('F1: %.4f') % (f1[1]))"
   ]
  },
  {
   "cell_type": "code",
   "execution_count": 49,
   "metadata": {
    "collapsed": false
   },
   "outputs": [
    {
     "data": {
      "text/plain": [
       "XGBClassifier(base_score=0.5, colsample_bylevel=1, colsample_bytree=0.9,\n",
       "       gamma=0.1, learning_rate=0.15, max_delta_step=0, max_depth=2,\n",
       "       min_child_weight=10, missing=None, n_estimators=65, nthread=-1,\n",
       "       objective='binary:logistic', reg_alpha=0.005, reg_lambda=1,\n",
       "       scale_pos_weight=1, seed=42, silent=1, subsample=0.6)"
      ]
     },
     "execution_count": 49,
     "metadata": {},
     "output_type": "execute_result"
    }
   ],
   "source": [
    "xgb_all3=XGBClassifier(base_score=0.5, colsample_bylevel=1, colsample_bytree=0.9,\n",
    "       gamma=0.1, learning_rate=0.15, max_delta_step=0, max_depth=2,\n",
    "       min_child_weight=10, missing=None, n_estimators=65, nthread=-1,\n",
    "       objective='binary:logistic', reg_alpha=0.005, reg_lambda=1,\n",
    "       scale_pos_weight=1, seed=42, silent=1, subsample=0.6)\n",
    "xgb_all3.fit(X_train,y_train)"
   ]
  },
  {
   "cell_type": "code",
   "execution_count": 51,
   "metadata": {
    "collapsed": false
   },
   "outputs": [
    {
     "name": "stdout",
     "output_type": "stream",
     "text": [
      "Akurasi: 0.9610\n",
      "Precision: 0.9474\n",
      "Recall: 0.9351\n",
      "F1: 0.9412\n"
     ]
    }
   ],
   "source": [
    "y_pred_all3 = xgb_all3.predict(X_test)\n",
    "accuracy = accuracy_score(y_test, y_pred_all3)\n",
    "precision, recall, f1, _ = precision_recall_fscore_support(y_test, y_pred_all3)\n",
    "print (('Akurasi: %.4f') % (accuracy))\n",
    "print (('Precision: %.4f') % (precision[1]))\n",
    "print (('Recall: %.4f') % (recall[1]))\n",
    "print (('F1: %.4f') % (f1[1]))"
   ]
  },
  {
   "cell_type": "code",
   "execution_count": 52,
   "metadata": {
    "collapsed": true
   },
   "outputs": [],
   "source": [
    "import matplotlib.pyplot as plt\n",
    "import xgboost as xgb"
   ]
  },
  {
   "cell_type": "code",
   "execution_count": 53,
   "metadata": {
    "collapsed": false
   },
   "outputs": [
    {
     "data": {
      "image/png": "[encoded data removed]",
      "text/plain": [
       "<matplotlib.figure.Figure at 0x693c6a0>"
      ]
     },
     "metadata": {},
     "output_type": "display_data"
    }
   ],
   "source": [
    "xgb.plot_importance(xgb_all3,importance_type='gain',xlabel='Information Gain')\n",
    "plt.show()"
   ]
  },
  {
   "cell_type": "code",
   "execution_count": 54,
   "metadata": {
    "collapsed": false
   },
   "outputs": [
    {
     "data": {
      "image/png": "[encoded data removed]",
      "text/plain": [
       "<matplotlib.figure.Figure at 0xa982e10>"
      ]
     },
     "metadata": {},
     "output_type": "display_data"
    }
   ],
   "source": [
    "xgb.plot_importance(xgb_all2,importance_type='gain',xlabel='Information Gain')\n",
    "plt.show()"
   ]
  },
  {
   "cell_type": "code",
   "execution_count": 57,
   "metadata": {
    "collapsed": false
   },
   "outputs": [
    {
     "name": "stdout",
     "output_type": "stream",
     "text": [
      "[ 0.10810811  0.10810811  0.10810811  0.16216215  0.          0.02702703\n",
      "  0.27027026  0.13513513  0.08108108  0.        ]\n"
     ]
    }
   ],
   "source": [
    "print (xgb_all3.feature_importances_)"
   ]
  },
  {
   "cell_type": "code",
   "execution_count": null,
   "metadata": {
    "collapsed": true
   },
   "outputs": [],
   "source": []
  }
 ],
 "metadata": {
  "anaconda-cloud": {},
  "kernelspec": {
   "display_name": "Python 3",
   "language": "python",
   "name": "python3"
  },
  "language_info": {
   "codemirror_mode": {
    "name": "ipython",
    "version": 3
   },
   "file_extension": ".py",
   "mimetype": "text/x-python",
   "name": "python",
   "nbconvert_exporter": "python",
   "pygments_lexer": "ipython3",
   "version": "3.6.0"
  }
 },
 "nbformat": 4,
 "nbformat_minor": 1
}
