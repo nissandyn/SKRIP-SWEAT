{
 "cells": [
  {
   "cell_type": "code",
   "execution_count": 1,
   "metadata": {
    "collapsed": false
   },
   "outputs": [
    {
     "name": "stderr",
     "output_type": "stream",
     "text": [
      "C:\\Users\\Annisa\\Anaconda3\\lib\\site-packages\\sklearn\\cross_validation.py:44: DeprecationWarning: This module was deprecated in version 0.18 in favor of the model_selection module into which all the refactored classes and functions are moved. Also note that the interface of the new CV iterators are different from that of this module. This module will be removed in 0.20.\n",
      "  \"This module will be removed in 0.20.\", DeprecationWarning)\n"
     ]
    }
   ],
   "source": [
    "\n",
    "%matplotlib inline\n",
    "import pandas as pd\n",
    "import numpy as np\n",
    "import matplotlib.pyplot as plt\n",
    "import seaborn; \n",
    "from scipy import stats\n",
    "import pylab as pl\n",
    "from sklearn.model_selection import train_test_split\n",
    "from xgboost import XGBClassifier\n",
    "from sklearn.model_selection import train_test_split\n",
    "from sklearn.metrics import accuracy_score\n",
    "from sklearn import model_selection\n",
    "seaborn.set()"
   ]
  },
  {
   "cell_type": "code",
   "execution_count": 2,
   "metadata": {
    "collapsed": false
   },
   "outputs": [],
   "source": [
    "df = pd.read_csv(\"wbc.csv\")"
   ]
  },
  {
   "cell_type": "code",
   "execution_count": 3,
   "metadata": {
    "collapsed": false
   },
   "outputs": [
    {
     "name": "stdout",
     "output_type": "stream",
     "text": [
      "<class 'pandas.core.frame.DataFrame'>\n",
      "Int64Index: 683 entries, 0 to 698\n",
      "Data columns (total 10 columns):\n",
      "clump_thickness       683 non-null int64\n",
      "cell_size             683 non-null int64\n",
      "cell_shape            683 non-null int64\n",
      "marginal_adhesion     683 non-null int64\n",
      "epitelial_cellsize    683 non-null int64\n",
      "bare_nuclei           683 non-null int32\n",
      "bland_chromatin       683 non-null int64\n",
      "normal_nucleoli       683 non-null int64\n",
      "mitoses               683 non-null int64\n",
      "jenis                 683 non-null int64\n",
      "dtypes: int32(1), int64(9)\n",
      "memory usage: 56.0 KB\n"
     ]
    }
   ],
   "source": [
    "df=df[df.bare_nuclei!='?']\n",
    "df['bare_nuclei']=df['bare_nuclei'].astype(object).astype(int)\n",
    "df.info()"
   ]
  },
  {
   "cell_type": "code",
   "execution_count": 4,
   "metadata": {
    "collapsed": false
   },
   "outputs": [
    {
     "data": {
      "text/html": [
       "<div>\n",
       "<table border=\"1\" class=\"dataframe\">\n",
       "  <thead>\n",
       "    <tr style=\"text-align: right;\">\n",
       "      <th></th>\n",
       "      <th>clump_thickness</th>\n",
       "      <th>cell_size</th>\n",
       "      <th>cell_shape</th>\n",
       "      <th>marginal_adhesion</th>\n",
       "      <th>epitelial_cellsize</th>\n",
       "      <th>bare_nuclei</th>\n",
       "      <th>bland_chromatin</th>\n",
       "      <th>normal_nucleoli</th>\n",
       "      <th>mitoses</th>\n",
       "      <th>jenis</th>\n",
       "    </tr>\n",
       "  </thead>\n",
       "  <tbody>\n",
       "    <tr>\n",
       "      <th>0</th>\n",
       "      <td>5</td>\n",
       "      <td>1</td>\n",
       "      <td>1</td>\n",
       "      <td>1</td>\n",
       "      <td>2</td>\n",
       "      <td>1</td>\n",
       "      <td>3</td>\n",
       "      <td>1</td>\n",
       "      <td>1</td>\n",
       "      <td>2</td>\n",
       "    </tr>\n",
       "    <tr>\n",
       "      <th>1</th>\n",
       "      <td>5</td>\n",
       "      <td>4</td>\n",
       "      <td>4</td>\n",
       "      <td>5</td>\n",
       "      <td>7</td>\n",
       "      <td>10</td>\n",
       "      <td>3</td>\n",
       "      <td>2</td>\n",
       "      <td>1</td>\n",
       "      <td>2</td>\n",
       "    </tr>\n",
       "    <tr>\n",
       "      <th>2</th>\n",
       "      <td>3</td>\n",
       "      <td>1</td>\n",
       "      <td>1</td>\n",
       "      <td>1</td>\n",
       "      <td>2</td>\n",
       "      <td>2</td>\n",
       "      <td>3</td>\n",
       "      <td>1</td>\n",
       "      <td>1</td>\n",
       "      <td>2</td>\n",
       "    </tr>\n",
       "    <tr>\n",
       "      <th>3</th>\n",
       "      <td>6</td>\n",
       "      <td>8</td>\n",
       "      <td>8</td>\n",
       "      <td>1</td>\n",
       "      <td>3</td>\n",
       "      <td>4</td>\n",
       "      <td>3</td>\n",
       "      <td>7</td>\n",
       "      <td>1</td>\n",
       "      <td>2</td>\n",
       "    </tr>\n",
       "    <tr>\n",
       "      <th>4</th>\n",
       "      <td>4</td>\n",
       "      <td>1</td>\n",
       "      <td>1</td>\n",
       "      <td>3</td>\n",
       "      <td>2</td>\n",
       "      <td>1</td>\n",
       "      <td>3</td>\n",
       "      <td>1</td>\n",
       "      <td>1</td>\n",
       "      <td>2</td>\n",
       "    </tr>\n",
       "  </tbody>\n",
       "</table>\n",
       "</div>"
      ],
      "text/plain": [
       "   clump_thickness  cell_size  cell_shape  marginal_adhesion  \\\n",
       "0                5          1           1                  1   \n",
       "1                5          4           4                  5   \n",
       "2                3          1           1                  1   \n",
       "3                6          8           8                  1   \n",
       "4                4          1           1                  3   \n",
       "\n",
       "   epitelial_cellsize  bare_nuclei  bland_chromatin  normal_nucleoli  mitoses  \\\n",
       "0                   2            1                3                1        1   \n",
       "1                   7           10                3                2        1   \n",
       "2                   2            2                3                1        1   \n",
       "3                   3            4                3                7        1   \n",
       "4                   2            1                3                1        1   \n",
       "\n",
       "   jenis  \n",
       "0      2  \n",
       "1      2  \n",
       "2      2  \n",
       "3      2  \n",
       "4      2  "
      ]
     },
     "execution_count": 4,
     "metadata": {},
     "output_type": "execute_result"
    }
   ],
   "source": [
    "df.head()"
   ]
  },
  {
   "cell_type": "code",
   "execution_count": 5,
   "metadata": {
    "collapsed": false
   },
   "outputs": [],
   "source": [
    "X = df.drop([df.columns[-1]], axis=1)\n",
    "y = df.jenis"
   ]
  },
  {
   "cell_type": "code",
   "execution_count": 6,
   "metadata": {
    "collapsed": true
   },
   "outputs": [],
   "source": [
    "test_size=0.33"
   ]
  },
  {
   "cell_type": "code",
   "execution_count": 7,
   "metadata": {
    "collapsed": true
   },
   "outputs": [],
   "source": [
    "random_state=42"
   ]
  },
  {
   "cell_type": "code",
   "execution_count": 8,
   "metadata": {
    "collapsed": false
   },
   "outputs": [],
   "source": [
    "X_train, X_test, y_train, y_test = train_test_split(X, y, test_size=test_size, random_state=random_state)"
   ]
  },
  {
   "cell_type": "code",
   "execution_count": 9,
   "metadata": {
    "collapsed": false
   },
   "outputs": [
    {
     "data": {
      "text/plain": [
       "(457,)"
      ]
     },
     "execution_count": 9,
     "metadata": {},
     "output_type": "execute_result"
    }
   ],
   "source": [
    "y_train.shape"
   ]
  },
  {
   "cell_type": "code",
   "execution_count": 10,
   "metadata": {
    "collapsed": true
   },
   "outputs": [],
   "source": [
    "from sklearn.metrics import accuracy_score, precision_recall_fscore_support"
   ]
  },
  {
   "cell_type": "code",
   "execution_count": 11,
   "metadata": {
    "collapsed": false
   },
   "outputs": [],
   "source": [
    "from sklearn import metrics"
   ]
  },
  {
   "cell_type": "code",
   "execution_count": 12,
   "metadata": {
    "collapsed": false
   },
   "outputs": [],
   "source": [
    "from sklearn.model_selection import GridSearchCV\n",
    "from __future__ import print_function\n",
    "from sklearn.metrics import classification_report"
   ]
  },
  {
   "cell_type": "code",
   "execution_count": 13,
   "metadata": {
    "collapsed": true
   },
   "outputs": [],
   "source": [
    "classifier = XGBClassifier()"
   ]
  },
  {
   "cell_type": "code",
   "execution_count": 14,
   "metadata": {
    "collapsed": true
   },
   "outputs": [],
   "source": [
    "from sklearn.cross_validation import StratifiedKFold"
   ]
  },
  {
   "cell_type": "code",
   "execution_count": 15,
   "metadata": {
    "collapsed": false
   },
   "outputs": [],
   "source": [
    "cv = StratifiedKFold(y_train, n_folds=10, shuffle=True, random_state=random_state)"
   ]
  },
  {
   "cell_type": "code",
   "execution_count": 16,
   "metadata": {
    "collapsed": false
   },
   "outputs": [
    {
     "name": "stdout",
     "output_type": "stream",
     "text": [
      "Automatically created module for IPython interactive environment\n",
      "# Tuning hyper-parameters for recall\n",
      "\n",
      "Best parameters set found on development set:\n",
      "\n",
      "{'learning_rate': 0.01, 'max_depth': 5, 'n_estimators': 100}\n",
      "\n",
      "Grid scores on development set:\n",
      "\n",
      "0.921 (+/-0.072) for {'learning_rate': 0.001, 'max_depth': 1, 'n_estimators': 50}\n",
      "0.921 (+/-0.072) for {'learning_rate': 0.001, 'max_depth': 1, 'n_estimators': 100}\n",
      "0.946 (+/-0.058) for {'learning_rate': 0.001, 'max_depth': 3, 'n_estimators': 50}\n",
      "0.946 (+/-0.058) for {'learning_rate': 0.001, 'max_depth': 3, 'n_estimators': 100}\n",
      "0.944 (+/-0.051) for {'learning_rate': 0.001, 'max_depth': 5, 'n_estimators': 50}\n",
      "0.944 (+/-0.051) for {'learning_rate': 0.001, 'max_depth': 5, 'n_estimators': 100}\n",
      "0.944 (+/-0.051) for {'learning_rate': 0.001, 'max_depth': 7, 'n_estimators': 50}\n",
      "0.944 (+/-0.051) for {'learning_rate': 0.001, 'max_depth': 7, 'n_estimators': 100}\n",
      "0.921 (+/-0.071) for {'learning_rate': 0.01, 'max_depth': 1, 'n_estimators': 50}\n",
      "0.948 (+/-0.066) for {'learning_rate': 0.01, 'max_depth': 1, 'n_estimators': 100}\n",
      "0.960 (+/-0.033) for {'learning_rate': 0.01, 'max_depth': 3, 'n_estimators': 50}\n",
      "0.966 (+/-0.030) for {'learning_rate': 0.01, 'max_depth': 3, 'n_estimators': 100}\n",
      "0.960 (+/-0.042) for {'learning_rate': 0.01, 'max_depth': 5, 'n_estimators': 50}\n",
      "0.974 (+/-0.025) for {'learning_rate': 0.01, 'max_depth': 5, 'n_estimators': 100}\n",
      "0.960 (+/-0.042) for {'learning_rate': 0.01, 'max_depth': 7, 'n_estimators': 50}\n",
      "0.974 (+/-0.025) for {'learning_rate': 0.01, 'max_depth': 7, 'n_estimators': 100}\n",
      "0.959 (+/-0.050) for {'learning_rate': 0.1, 'max_depth': 1, 'n_estimators': 50}\n",
      "0.958 (+/-0.054) for {'learning_rate': 0.1, 'max_depth': 1, 'n_estimators': 100}\n",
      "0.969 (+/-0.050) for {'learning_rate': 0.1, 'max_depth': 3, 'n_estimators': 50}\n",
      "0.966 (+/-0.054) for {'learning_rate': 0.1, 'max_depth': 3, 'n_estimators': 100}\n",
      "0.969 (+/-0.050) for {'learning_rate': 0.1, 'max_depth': 5, 'n_estimators': 50}\n",
      "0.963 (+/-0.049) for {'learning_rate': 0.1, 'max_depth': 5, 'n_estimators': 100}\n",
      "0.968 (+/-0.046) for {'learning_rate': 0.1, 'max_depth': 7, 'n_estimators': 50}\n",
      "0.963 (+/-0.049) for {'learning_rate': 0.1, 'max_depth': 7, 'n_estimators': 100}\n",
      "0.959 (+/-0.050) for {'learning_rate': 0.2, 'max_depth': 1, 'n_estimators': 50}\n",
      "0.954 (+/-0.063) for {'learning_rate': 0.2, 'max_depth': 1, 'n_estimators': 100}\n",
      "0.963 (+/-0.049) for {'learning_rate': 0.2, 'max_depth': 3, 'n_estimators': 50}\n",
      "0.956 (+/-0.050) for {'learning_rate': 0.2, 'max_depth': 3, 'n_estimators': 100}\n",
      "0.966 (+/-0.054) for {'learning_rate': 0.2, 'max_depth': 5, 'n_estimators': 50}\n",
      "0.963 (+/-0.053) for {'learning_rate': 0.2, 'max_depth': 5, 'n_estimators': 100}\n",
      "0.966 (+/-0.045) for {'learning_rate': 0.2, 'max_depth': 7, 'n_estimators': 50}\n",
      "0.961 (+/-0.049) for {'learning_rate': 0.2, 'max_depth': 7, 'n_estimators': 100}\n",
      "0.954 (+/-0.063) for {'learning_rate': 0.3, 'max_depth': 1, 'n_estimators': 50}\n",
      "0.951 (+/-0.075) for {'learning_rate': 0.3, 'max_depth': 1, 'n_estimators': 100}\n",
      "0.966 (+/-0.054) for {'learning_rate': 0.3, 'max_depth': 3, 'n_estimators': 50}\n",
      "0.958 (+/-0.047) for {'learning_rate': 0.3, 'max_depth': 3, 'n_estimators': 100}\n",
      "0.963 (+/-0.053) for {'learning_rate': 0.3, 'max_depth': 5, 'n_estimators': 50}\n",
      "0.963 (+/-0.053) for {'learning_rate': 0.3, 'max_depth': 5, 'n_estimators': 100}\n",
      "0.966 (+/-0.054) for {'learning_rate': 0.3, 'max_depth': 7, 'n_estimators': 50}\n",
      "0.959 (+/-0.056) for {'learning_rate': 0.3, 'max_depth': 7, 'n_estimators': 100}\n",
      "\n",
      "Detailed classification report:\n",
      "\n",
      "The model is trained on the full development set.\n",
      "The scores are computed on the full evaluation set.\n",
      "\n",
      "             precision    recall  f1-score   support\n",
      "\n",
      "          2       0.95      0.98      0.97       142\n",
      "          4       0.96      0.92      0.94        84\n",
      "\n",
      "avg / total       0.96      0.96      0.96       226\n",
      "\n",
      "\n"
     ]
    }
   ],
   "source": [
    "print(__doc__)\n",
    "\n",
    "# Loading the Digits dataset\n",
    "#digits = datasets.load_digits()\n",
    "\n",
    "# To apply an classifier on this data, we need to flatten the image, to\n",
    "# turn the data in a (samples, feature) matrix:\n",
    "n_samples = len(df)\n",
    "\n",
    "\n",
    "# Set the parameters by cross-validation\n",
    "\n",
    "tuned_parameters = [{'max_depth': [1,3, 5, 7], 'n_estimators': [50,100],\n",
    "                     'learning_rate': [0.001, 0.01, 0.1, 0.2, 0.3]},]\n",
    "params_fixed = {\n",
    "    'objective': 'binary:logistic',\n",
    "    'silent': 1\n",
    "}\n",
    "scores = ['recall']\n",
    "\n",
    "for score in scores:\n",
    "    print(\"# Tuning hyper-parameters for %s\" % score)\n",
    "    print()\n",
    "\n",
    "    clf = GridSearchCV(estimator=XGBClassifier(**params_fixed, seed=random_state),\n",
    "    param_grid=tuned_parameters, cv=cv, scoring='%s_macro' % score)\n",
    "    clf.fit(X_train, y_train)\n",
    "\n",
    "    print(\"Best parameters set found on development set:\")\n",
    "    print()\n",
    "    print(clf.best_params_)\n",
    "    print()\n",
    "    print(\"Grid scores on development set:\")\n",
    "    print()\n",
    "    means = clf.cv_results_['mean_test_score']\n",
    "    stds = clf.cv_results_['std_test_score']\n",
    "    for mean, std, params in zip(means, stds, clf.cv_results_['params']):\n",
    "        print(\"%0.3f (+/-%0.03f) for %r\"\n",
    "              % (mean, std * 2, params))\n",
    "    print()\n",
    "\n",
    "    print(\"Detailed classification report:\")\n",
    "    print()\n",
    "    print(\"The model is trained on the full development set.\")\n",
    "    print(\"The scores are computed on the full evaluation set.\")\n",
    "    print()\n",
    "    y_true, y_pred = y_test, clf.predict(X_test)\n",
    "    print(classification_report(y_true, y_pred))\n",
    "    print()"
   ]
  },
  {
   "cell_type": "code",
   "execution_count": 15,
   "metadata": {
    "collapsed": false
   },
   "outputs": [
    {
     "name": "stderr",
     "output_type": "stream",
     "text": [
      "C:\\Users\\Annisa\\Anaconda3\\lib\\site-packages\\sklearn\\model_selection\\_search.py:667: DeprecationWarning: The grid_scores_ attribute was deprecated in version 0.18 in favor of the more elaborate cv_results_ attribute. The grid_scores_ attribute will not be available from 0.20\n",
      "  DeprecationWarning)\n"
     ]
    },
    {
     "data": {
      "text/plain": [
       "[mean: 0.91268, std: 0.02640, params: {'learning_rate': 0.001, 'max_depth': 1, 'n_estimators': 50},\n",
       " mean: 0.91187, std: 0.02346, params: {'learning_rate': 0.001, 'max_depth': 1, 'n_estimators': 100},\n",
       " mean: 0.94251, std: 0.02276, params: {'learning_rate': 0.001, 'max_depth': 3, 'n_estimators': 50},\n",
       " mean: 0.94139, std: 0.02123, params: {'learning_rate': 0.001, 'max_depth': 3, 'n_estimators': 100},\n",
       " mean: 0.94180, std: 0.03667, params: {'learning_rate': 0.001, 'max_depth': 5, 'n_estimators': 50},\n",
       " mean: 0.94180, std: 0.03667, params: {'learning_rate': 0.001, 'max_depth': 5, 'n_estimators': 100},\n",
       " mean: 0.93759, std: 0.03936, params: {'learning_rate': 0.001, 'max_depth': 7, 'n_estimators': 50},\n",
       " mean: 0.93970, std: 0.03690, params: {'learning_rate': 0.001, 'max_depth': 7, 'n_estimators': 100},\n",
       " mean: 0.92827, std: 0.02773, params: {'learning_rate': 0.01, 'max_depth': 1, 'n_estimators': 50},\n",
       " mean: 0.95075, std: 0.02059, params: {'learning_rate': 0.01, 'max_depth': 1, 'n_estimators': 100},\n",
       " mean: 0.95898, std: 0.02465, params: {'learning_rate': 0.01, 'max_depth': 3, 'n_estimators': 50},\n",
       " mean: 0.96749, std: 0.02128, params: {'learning_rate': 0.01, 'max_depth': 3, 'n_estimators': 100},\n",
       " mean: 0.95030, std: 0.03602, params: {'learning_rate': 0.01, 'max_depth': 5, 'n_estimators': 50},\n",
       " mean: 0.96225, std: 0.02332, params: {'learning_rate': 0.01, 'max_depth': 5, 'n_estimators': 100},\n",
       " mean: 0.94609, std: 0.03740, params: {'learning_rate': 0.01, 'max_depth': 7, 'n_estimators': 50},\n",
       " mean: 0.95902, std: 0.02545, params: {'learning_rate': 0.01, 'max_depth': 7, 'n_estimators': 100},\n",
       " mean: 0.95926, std: 0.01918, params: {'learning_rate': 0.1, 'max_depth': 1, 'n_estimators': 50},\n",
       " mean: 0.96136, std: 0.01761, params: {'learning_rate': 0.1, 'max_depth': 1, 'n_estimators': 100},\n",
       " mean: 0.96859, std: 0.02053, params: {'learning_rate': 0.1, 'max_depth': 3, 'n_estimators': 50},\n",
       " mean: 0.96761, std: 0.01785, params: {'learning_rate': 0.1, 'max_depth': 3, 'n_estimators': 100},\n",
       " mean: 0.96655, std: 0.02170, params: {'learning_rate': 0.1, 'max_depth': 5, 'n_estimators': 50},\n",
       " mean: 0.96652, std: 0.02056, params: {'learning_rate': 0.1, 'max_depth': 5, 'n_estimators': 100},\n",
       " mean: 0.96975, std: 0.02185, params: {'learning_rate': 0.1, 'max_depth': 7, 'n_estimators': 50},\n",
       " mean: 0.96764, std: 0.01977, params: {'learning_rate': 0.1, 'max_depth': 7, 'n_estimators': 100},\n",
       " mean: 0.96136, std: 0.01761, params: {'learning_rate': 0.2, 'max_depth': 1, 'n_estimators': 50},\n",
       " mean: 0.96254, std: 0.01771, params: {'learning_rate': 0.2, 'max_depth': 1, 'n_estimators': 100},\n",
       " mean: 0.97295, std: 0.01634, params: {'learning_rate': 0.2, 'max_depth': 3, 'n_estimators': 50},\n",
       " mean: 0.96554, std: 0.01645, params: {'learning_rate': 0.2, 'max_depth': 3, 'n_estimators': 100},\n",
       " mean: 0.96136, std: 0.02093, params: {'learning_rate': 0.2, 'max_depth': 5, 'n_estimators': 50},\n",
       " mean: 0.96231, std: 0.01983, params: {'learning_rate': 0.2, 'max_depth': 5, 'n_estimators': 100},\n",
       " mean: 0.96554, std: 0.01890, params: {'learning_rate': 0.2, 'max_depth': 7, 'n_estimators': 50},\n",
       " mean: 0.96346, std: 0.01734, params: {'learning_rate': 0.2, 'max_depth': 7, 'n_estimators': 100},\n",
       " mean: 0.95721, std: 0.01915, params: {'learning_rate': 0.3, 'max_depth': 1, 'n_estimators': 50},\n",
       " mean: 0.96350, std: 0.01877, params: {'learning_rate': 0.3, 'max_depth': 1, 'n_estimators': 100},\n",
       " mean: 0.96346, std: 0.01734, params: {'learning_rate': 0.3, 'max_depth': 3, 'n_estimators': 50},\n",
       " mean: 0.96346, std: 0.01734, params: {'learning_rate': 0.3, 'max_depth': 3, 'n_estimators': 100},\n",
       " mean: 0.96346, std: 0.01734, params: {'learning_rate': 0.3, 'max_depth': 5, 'n_estimators': 50},\n",
       " mean: 0.96764, std: 0.01788, params: {'learning_rate': 0.3, 'max_depth': 5, 'n_estimators': 100},\n",
       " mean: 0.96761, std: 0.01785, params: {'learning_rate': 0.3, 'max_depth': 7, 'n_estimators': 50},\n",
       " mean: 0.96652, std: 0.02056, params: {'learning_rate': 0.3, 'max_depth': 7, 'n_estimators': 100}]"
      ]
     },
     "execution_count": 15,
     "metadata": {},
     "output_type": "execute_result"
    }
   ],
   "source": [
    "clf.grid_scores_"
   ]
  },
  {
   "cell_type": "code",
   "execution_count": 16,
   "metadata": {
    "collapsed": false
   },
   "outputs": [
    {
     "name": "stdout",
     "output_type": "stream",
     "text": [
      "Best accuracy obtained: 0.972951883402103\n",
      "Parameters:\n",
      "\tlearning_rate: 0.2\n",
      "\tmax_depth: 3\n",
      "\tn_estimators: 50\n"
     ]
    }
   ],
   "source": [
    "print(\"Best accuracy obtained: {0}\".format(clf.best_score_))\n",
    "print(\"Parameters:\")\n",
    "for key, value in clf.best_params_.items():\n",
    "    print(\"\\t{}: {}\".format(key, value))"
   ]
  },
  {
   "cell_type": "code",
   "execution_count": 17,
   "metadata": {
    "collapsed": false
   },
   "outputs": [
    {
     "data": {
      "text/plain": [
       "XGBClassifier(base_score=0.5, colsample_bylevel=1, colsample_bytree=1,\n",
       "       gamma=0, learning_rate=0.2, max_delta_step=0, max_depth=3,\n",
       "       min_child_weight=1, missing=None, n_estimators=50, nthread=-1,\n",
       "       objective='binary:logistic', reg_alpha=0, reg_lambda=1,\n",
       "       scale_pos_weight=1, seed=42, silent=1, subsample=1)"
      ]
     },
     "execution_count": 17,
     "metadata": {},
     "output_type": "execute_result"
    }
   ],
   "source": [
    "clf.best_estimator_"
   ]
  },
  {
   "cell_type": "code",
   "execution_count": 26,
   "metadata": {
    "collapsed": false
   },
   "outputs": [
    {
     "data": {
      "text/plain": [
       "XGBClassifier(base_score=0.5, colsample_bylevel=1, colsample_bytree=1,\n",
       "       gamma=0, learning_rate=0.2, max_delta_step=0, max_depth=3,\n",
       "       min_child_weight=1, missing=None, n_estimators=50, nthread=-1,\n",
       "       objective='binary:logistic', reg_alpha=0, reg_lambda=1,\n",
       "       scale_pos_weight=1, seed=42, silent=1, subsample=1)"
      ]
     },
     "execution_count": 26,
     "metadata": {},
     "output_type": "execute_result"
    }
   ],
   "source": [
    "xgb1=XGBClassifier(base_score=0.5, colsample_bylevel=1, colsample_bytree=1,\n",
    "       gamma=0, learning_rate=0.2, max_delta_step=0, max_depth=3,\n",
    "       min_child_weight=1, missing=None, n_estimators=50, nthread=-1,\n",
    "       objective='binary:logistic', reg_alpha=0, reg_lambda=1,\n",
    "       scale_pos_weight=1, seed=42, silent=1, subsample=1)\n",
    "xgb1.fit(X_train,y_train)"
   ]
  },
  {
   "cell_type": "code",
   "execution_count": 27,
   "metadata": {
    "collapsed": false
   },
   "outputs": [
    {
     "name": "stdout",
     "output_type": "stream",
     "text": [
      "Akurasi: 0.9646\n",
      "Precision: 0.9750\n",
      "Recall: 0.9286\n",
      "F1: 0.9512\n"
     ]
    }
   ],
   "source": [
    "y_pred1 = xgb1.predict(X_test)\n",
    "accuracy = accuracy_score(y_test, y_pred1)\n",
    "precision, recall, f1, _ = precision_recall_fscore_support(y_test, y_pred1)\n",
    "print (('Akurasi: %.4f') % (accuracy))\n",
    "print (('Precision: %.4f') % (precision[1]))\n",
    "print (('Recall: %.4f') % (recall[1]))\n",
    "print (('F1: %.4f') % (f1[1]))"
   ]
  },
  {
   "cell_type": "code",
   "execution_count": 20,
   "metadata": {
    "collapsed": false
   },
   "outputs": [
    {
     "name": "stdout",
     "output_type": "stream",
     "text": [
      "Automatically created module for IPython interactive environment\n",
      "# Tuning hyper-parameters for recall\n",
      "\n",
      "Best parameters set found on development set:\n",
      "\n",
      "{'min_child_weight': 8, 'reg_alpha': 0.0001, 'subsample': 0.8}\n",
      "\n",
      "Grid scores on development set:\n",
      "\n",
      "0.958 (+/-0.040) for {'min_child_weight': 6, 'reg_alpha': 0.0001, 'subsample': 0.2}\n",
      "0.969 (+/-0.030) for {'min_child_weight': 6, 'reg_alpha': 0.0001, 'subsample': 0.4}\n",
      "0.973 (+/-0.030) for {'min_child_weight': 6, 'reg_alpha': 0.0001, 'subsample': 0.8}\n",
      "0.970 (+/-0.037) for {'min_child_weight': 6, 'reg_alpha': 0.0001, 'subsample': 1}\n",
      "0.960 (+/-0.044) for {'min_child_weight': 6, 'reg_alpha': 0.1, 'subsample': 0.2}\n",
      "0.967 (+/-0.040) for {'min_child_weight': 6, 'reg_alpha': 0.1, 'subsample': 0.4}\n",
      "0.973 (+/-0.030) for {'min_child_weight': 6, 'reg_alpha': 0.1, 'subsample': 0.8}\n",
      "0.970 (+/-0.037) for {'min_child_weight': 6, 'reg_alpha': 0.1, 'subsample': 1}\n",
      "0.960 (+/-0.044) for {'min_child_weight': 6, 'reg_alpha': 0.1, 'subsample': 0.2}\n",
      "0.967 (+/-0.040) for {'min_child_weight': 6, 'reg_alpha': 0.1, 'subsample': 0.4}\n",
      "0.973 (+/-0.030) for {'min_child_weight': 6, 'reg_alpha': 0.1, 'subsample': 0.8}\n",
      "0.970 (+/-0.037) for {'min_child_weight': 6, 'reg_alpha': 0.1, 'subsample': 1}\n",
      "0.964 (+/-0.032) for {'min_child_weight': 6, 'reg_alpha': 1, 'subsample': 0.2}\n",
      "0.964 (+/-0.033) for {'min_child_weight': 6, 'reg_alpha': 1, 'subsample': 0.4}\n",
      "0.971 (+/-0.031) for {'min_child_weight': 6, 'reg_alpha': 1, 'subsample': 0.8}\n",
      "0.970 (+/-0.037) for {'min_child_weight': 6, 'reg_alpha': 1, 'subsample': 1}\n",
      "0.500 (+/-0.000) for {'min_child_weight': 6, 'reg_alpha': 100, 'subsample': 0.2}\n",
      "0.500 (+/-0.000) for {'min_child_weight': 6, 'reg_alpha': 100, 'subsample': 0.4}\n",
      "0.500 (+/-0.000) for {'min_child_weight': 6, 'reg_alpha': 100, 'subsample': 0.8}\n",
      "0.500 (+/-0.000) for {'min_child_weight': 6, 'reg_alpha': 100, 'subsample': 1}\n",
      "0.955 (+/-0.044) for {'min_child_weight': 8, 'reg_alpha': 0.0001, 'subsample': 0.2}\n",
      "0.963 (+/-0.041) for {'min_child_weight': 8, 'reg_alpha': 0.0001, 'subsample': 0.4}\n",
      "0.975 (+/-0.019) for {'min_child_weight': 8, 'reg_alpha': 0.0001, 'subsample': 0.8}\n",
      "0.969 (+/-0.028) for {'min_child_weight': 8, 'reg_alpha': 0.0001, 'subsample': 1}\n",
      "0.953 (+/-0.049) for {'min_child_weight': 8, 'reg_alpha': 0.1, 'subsample': 0.2}\n",
      "0.964 (+/-0.047) for {'min_child_weight': 8, 'reg_alpha': 0.1, 'subsample': 0.4}\n",
      "0.970 (+/-0.029) for {'min_child_weight': 8, 'reg_alpha': 0.1, 'subsample': 0.8}\n",
      "0.970 (+/-0.039) for {'min_child_weight': 8, 'reg_alpha': 0.1, 'subsample': 1}\n",
      "0.953 (+/-0.049) for {'min_child_weight': 8, 'reg_alpha': 0.1, 'subsample': 0.2}\n",
      "0.964 (+/-0.047) for {'min_child_weight': 8, 'reg_alpha': 0.1, 'subsample': 0.4}\n",
      "0.970 (+/-0.029) for {'min_child_weight': 8, 'reg_alpha': 0.1, 'subsample': 0.8}\n",
      "0.970 (+/-0.039) for {'min_child_weight': 8, 'reg_alpha': 0.1, 'subsample': 1}\n",
      "0.955 (+/-0.040) for {'min_child_weight': 8, 'reg_alpha': 1, 'subsample': 0.2}\n",
      "0.962 (+/-0.031) for {'min_child_weight': 8, 'reg_alpha': 1, 'subsample': 0.4}\n",
      "0.974 (+/-0.033) for {'min_child_weight': 8, 'reg_alpha': 1, 'subsample': 0.8}\n",
      "0.970 (+/-0.032) for {'min_child_weight': 8, 'reg_alpha': 1, 'subsample': 1}\n",
      "0.500 (+/-0.000) for {'min_child_weight': 8, 'reg_alpha': 100, 'subsample': 0.2}\n",
      "0.500 (+/-0.000) for {'min_child_weight': 8, 'reg_alpha': 100, 'subsample': 0.4}\n",
      "0.500 (+/-0.000) for {'min_child_weight': 8, 'reg_alpha': 100, 'subsample': 0.8}\n",
      "0.500 (+/-0.000) for {'min_child_weight': 8, 'reg_alpha': 100, 'subsample': 1}\n",
      "0.947 (+/-0.045) for {'min_child_weight': 10, 'reg_alpha': 0.0001, 'subsample': 0.2}\n",
      "0.956 (+/-0.058) for {'min_child_weight': 10, 'reg_alpha': 0.0001, 'subsample': 0.4}\n",
      "0.966 (+/-0.034) for {'min_child_weight': 10, 'reg_alpha': 0.0001, 'subsample': 0.8}\n",
      "0.971 (+/-0.030) for {'min_child_weight': 10, 'reg_alpha': 0.0001, 'subsample': 1}\n",
      "0.947 (+/-0.045) for {'min_child_weight': 10, 'reg_alpha': 0.1, 'subsample': 0.2}\n",
      "0.964 (+/-0.048) for {'min_child_weight': 10, 'reg_alpha': 0.1, 'subsample': 0.4}\n",
      "0.966 (+/-0.034) for {'min_child_weight': 10, 'reg_alpha': 0.1, 'subsample': 0.8}\n",
      "0.969 (+/-0.040) for {'min_child_weight': 10, 'reg_alpha': 0.1, 'subsample': 1}\n",
      "0.947 (+/-0.045) for {'min_child_weight': 10, 'reg_alpha': 0.1, 'subsample': 0.2}\n",
      "0.964 (+/-0.048) for {'min_child_weight': 10, 'reg_alpha': 0.1, 'subsample': 0.4}\n",
      "0.966 (+/-0.034) for {'min_child_weight': 10, 'reg_alpha': 0.1, 'subsample': 0.8}\n",
      "0.969 (+/-0.040) for {'min_child_weight': 10, 'reg_alpha': 0.1, 'subsample': 1}\n",
      "0.953 (+/-0.053) for {'min_child_weight': 10, 'reg_alpha': 1, 'subsample': 0.2}\n",
      "0.955 (+/-0.057) for {'min_child_weight': 10, 'reg_alpha': 1, 'subsample': 0.4}\n",
      "0.962 (+/-0.039) for {'min_child_weight': 10, 'reg_alpha': 1, 'subsample': 0.8}\n",
      "0.969 (+/-0.030) for {'min_child_weight': 10, 'reg_alpha': 1, 'subsample': 1}\n",
      "0.500 (+/-0.000) for {'min_child_weight': 10, 'reg_alpha': 100, 'subsample': 0.2}\n",
      "0.500 (+/-0.000) for {'min_child_weight': 10, 'reg_alpha': 100, 'subsample': 0.4}\n",
      "0.500 (+/-0.000) for {'min_child_weight': 10, 'reg_alpha': 100, 'subsample': 0.8}\n",
      "0.500 (+/-0.000) for {'min_child_weight': 10, 'reg_alpha': 100, 'subsample': 1}\n",
      "0.959 (+/-0.041) for {'min_child_weight': 12, 'reg_alpha': 0.0001, 'subsample': 0.2}\n",
      "0.964 (+/-0.045) for {'min_child_weight': 12, 'reg_alpha': 0.0001, 'subsample': 0.4}\n",
      "0.969 (+/-0.028) for {'min_child_weight': 12, 'reg_alpha': 0.0001, 'subsample': 0.8}\n",
      "0.969 (+/-0.042) for {'min_child_weight': 12, 'reg_alpha': 0.0001, 'subsample': 1}\n",
      "0.955 (+/-0.065) for {'min_child_weight': 12, 'reg_alpha': 0.1, 'subsample': 0.2}\n",
      "0.958 (+/-0.052) for {'min_child_weight': 12, 'reg_alpha': 0.1, 'subsample': 0.4}\n",
      "0.969 (+/-0.028) for {'min_child_weight': 12, 'reg_alpha': 0.1, 'subsample': 0.8}\n",
      "0.969 (+/-0.040) for {'min_child_weight': 12, 'reg_alpha': 0.1, 'subsample': 1}\n",
      "0.955 (+/-0.065) for {'min_child_weight': 12, 'reg_alpha': 0.1, 'subsample': 0.2}\n",
      "0.958 (+/-0.052) for {'min_child_weight': 12, 'reg_alpha': 0.1, 'subsample': 0.4}\n",
      "0.969 (+/-0.028) for {'min_child_weight': 12, 'reg_alpha': 0.1, 'subsample': 0.8}\n",
      "0.969 (+/-0.040) for {'min_child_weight': 12, 'reg_alpha': 0.1, 'subsample': 1}\n",
      "0.961 (+/-0.042) for {'min_child_weight': 12, 'reg_alpha': 1, 'subsample': 0.2}\n",
      "0.955 (+/-0.066) for {'min_child_weight': 12, 'reg_alpha': 1, 'subsample': 0.4}\n",
      "0.964 (+/-0.029) for {'min_child_weight': 12, 'reg_alpha': 1, 'subsample': 0.8}\n",
      "0.963 (+/-0.031) for {'min_child_weight': 12, 'reg_alpha': 1, 'subsample': 1}\n",
      "0.500 (+/-0.000) for {'min_child_weight': 12, 'reg_alpha': 100, 'subsample': 0.2}\n",
      "0.500 (+/-0.000) for {'min_child_weight': 12, 'reg_alpha': 100, 'subsample': 0.4}\n",
      "0.500 (+/-0.000) for {'min_child_weight': 12, 'reg_alpha': 100, 'subsample': 0.8}\n",
      "0.500 (+/-0.000) for {'min_child_weight': 12, 'reg_alpha': 100, 'subsample': 1}\n",
      "\n",
      "Detailed classification report:\n",
      "\n",
      "The model is trained on the full development set.\n",
      "The scores are computed on the full evaluation set.\n",
      "\n",
      "             precision    recall  f1-score   support\n",
      "\n",
      "          2       0.98      0.99      0.98       142\n",
      "          4       0.98      0.96      0.97        84\n",
      "\n",
      "avg / total       0.98      0.98      0.98       226\n",
      "\n",
      "\n"
     ]
    }
   ],
   "source": [
    "print(__doc__)\n",
    "\n",
    "# Loading the Digits dataset\n",
    "#digits = datasets.load_digits()\n",
    "\n",
    "# To apply an classifier on this data, we need to flatten the image, to\n",
    "# turn the data in a (samples, feature) matrix:\n",
    "n_samples = len(df)\n",
    "\n",
    "\n",
    "# Set the parameters by cross-validation\n",
    "\n",
    "tuned_parameters = [{'min_child_weight': [6,8,10,12], 'subsample': [0.2,0.4,0.8,1],\n",
    "                     'reg_alpha': [10e-5, 10e-2, 0.1, 1, 100]},]\n",
    "params_fixed = {\n",
    "    'objective': 'binary:logistic',\n",
    "    'silent': 1\n",
    "}\n",
    "scores = ['recall']\n",
    "\n",
    "for score in scores:\n",
    "    print(\"# Tuning hyper-parameters for %s\" % score)\n",
    "    print()\n",
    "\n",
    "    clf2 = GridSearchCV(estimator=XGBClassifier(**params_fixed, seed=random_state),\n",
    "    param_grid=tuned_parameters, cv=cv, scoring='%s_macro' % score)\n",
    "    clf2.fit(X, y)\n",
    "\n",
    "    print(\"Best parameters set found on development set:\")\n",
    "    print()\n",
    "    print(clf2.best_params_)\n",
    "    print()\n",
    "    print(\"Grid scores on development set:\")\n",
    "    print()\n",
    "    means = clf2.cv_results_['mean_test_score']\n",
    "    stds = clf2.cv_results_['std_test_score']\n",
    "    for mean, std, params in zip(means, stds, clf2.cv_results_['params']):\n",
    "        print(\"%0.3f (+/-%0.03f) for %r\"\n",
    "              % (mean, std * 2, params))\n",
    "    print()\n",
    "\n",
    "    print(\"Detailed classification report:\")\n",
    "    print()\n",
    "    print(\"The model is trained on the full development set.\")\n",
    "    print(\"The scores are computed on the full evaluation set.\")\n",
    "    print()\n",
    "    y_true, y_pred = y_test, clf2.predict(X_test)\n",
    "    print(classification_report(y_true, y_pred))\n",
    "    print()"
   ]
  },
  {
   "cell_type": "code",
   "execution_count": 21,
   "metadata": {
    "collapsed": false
   },
   "outputs": [
    {
     "name": "stderr",
     "output_type": "stream",
     "text": [
      "C:\\Users\\Annisa\\Anaconda3\\lib\\site-packages\\sklearn\\model_selection\\_search.py:667: DeprecationWarning: The grid_scores_ attribute was deprecated in version 0.18 in favor of the more elaborate cv_results_ attribute. The grid_scores_ attribute will not be available from 0.20\n",
      "  DeprecationWarning)\n"
     ]
    },
    {
     "data": {
      "text/plain": [
       "[mean: 0.95818, std: 0.01995, params: {'min_child_weight': 6, 'reg_alpha': 0.0001, 'subsample': 0.2},\n",
       " mean: 0.96861, std: 0.01504, params: {'min_child_weight': 6, 'reg_alpha': 0.0001, 'subsample': 0.4},\n",
       " mean: 0.97297, std: 0.01486, params: {'min_child_weight': 6, 'reg_alpha': 0.0001, 'subsample': 0.8},\n",
       " mean: 0.96974, std: 0.01840, params: {'min_child_weight': 6, 'reg_alpha': 0.0001, 'subsample': 1},\n",
       " mean: 0.96029, std: 0.02186, params: {'min_child_weight': 6, 'reg_alpha': 0.1, 'subsample': 0.2},\n",
       " mean: 0.96651, std: 0.02003, params: {'min_child_weight': 6, 'reg_alpha': 0.1, 'subsample': 0.4},\n",
       " mean: 0.97297, std: 0.01486, params: {'min_child_weight': 6, 'reg_alpha': 0.1, 'subsample': 0.8},\n",
       " mean: 0.96974, std: 0.01840, params: {'min_child_weight': 6, 'reg_alpha': 0.1, 'subsample': 1},\n",
       " mean: 0.96029, std: 0.02186, params: {'min_child_weight': 6, 'reg_alpha': 0.1, 'subsample': 0.2},\n",
       " mean: 0.96651, std: 0.02003, params: {'min_child_weight': 6, 'reg_alpha': 0.1, 'subsample': 0.4},\n",
       " mean: 0.97297, std: 0.01486, params: {'min_child_weight': 6, 'reg_alpha': 0.1, 'subsample': 0.8},\n",
       " mean: 0.96974, std: 0.01840, params: {'min_child_weight': 6, 'reg_alpha': 0.1, 'subsample': 1},\n",
       " mean: 0.96444, std: 0.01599, params: {'min_child_weight': 6, 'reg_alpha': 1, 'subsample': 0.2},\n",
       " mean: 0.96447, std: 0.01623, params: {'min_child_weight': 6, 'reg_alpha': 1, 'subsample': 0.4},\n",
       " mean: 0.97087, std: 0.01531, params: {'min_child_weight': 6, 'reg_alpha': 1, 'subsample': 0.8},\n",
       " mean: 0.96974, std: 0.01840, params: {'min_child_weight': 6, 'reg_alpha': 1, 'subsample': 1},\n",
       " mean: 0.50000, std: 0.00000, params: {'min_child_weight': 6, 'reg_alpha': 100, 'subsample': 0.2},\n",
       " mean: 0.50000, std: 0.00000, params: {'min_child_weight': 6, 'reg_alpha': 100, 'subsample': 0.4},\n",
       " mean: 0.50000, std: 0.00000, params: {'min_child_weight': 6, 'reg_alpha': 100, 'subsample': 0.8},\n",
       " mean: 0.50000, std: 0.00000, params: {'min_child_weight': 6, 'reg_alpha': 100, 'subsample': 1},\n",
       " mean: 0.95492, std: 0.02209, params: {'min_child_weight': 8, 'reg_alpha': 0.0001, 'subsample': 0.2},\n",
       " mean: 0.96349, std: 0.02047, params: {'min_child_weight': 8, 'reg_alpha': 0.0001, 'subsample': 0.4},\n",
       " mean: 0.97509, std: 0.00950, params: {'min_child_weight': 8, 'reg_alpha': 0.0001, 'subsample': 0.8},\n",
       " mean: 0.96879, std: 0.01412, params: {'min_child_weight': 8, 'reg_alpha': 0.0001, 'subsample': 1},\n",
       " mean: 0.95281, std: 0.02449, params: {'min_child_weight': 8, 'reg_alpha': 0.1, 'subsample': 0.2},\n",
       " mean: 0.96352, std: 0.02352, params: {'min_child_weight': 8, 'reg_alpha': 0.1, 'subsample': 0.4},\n",
       " mean: 0.96978, std: 0.01457, params: {'min_child_weight': 8, 'reg_alpha': 0.1, 'subsample': 0.8},\n",
       " mean: 0.96990, std: 0.01955, params: {'min_child_weight': 8, 'reg_alpha': 0.1, 'subsample': 1},\n",
       " mean: 0.95281, std: 0.02449, params: {'min_child_weight': 8, 'reg_alpha': 0.1, 'subsample': 0.2},\n",
       " mean: 0.96352, std: 0.02352, params: {'min_child_weight': 8, 'reg_alpha': 0.1, 'subsample': 0.4},\n",
       " mean: 0.96978, std: 0.01457, params: {'min_child_weight': 8, 'reg_alpha': 0.1, 'subsample': 0.8},\n",
       " mean: 0.96990, std: 0.01955, params: {'min_child_weight': 8, 'reg_alpha': 0.1, 'subsample': 1},\n",
       " mean: 0.95501, std: 0.02009, params: {'min_child_weight': 8, 'reg_alpha': 1, 'subsample': 0.2},\n",
       " mean: 0.96236, std: 0.01554, params: {'min_child_weight': 8, 'reg_alpha': 1, 'subsample': 0.4},\n",
       " mean: 0.97410, std: 0.01637, params: {'min_child_weight': 8, 'reg_alpha': 1, 'subsample': 0.8},\n",
       " mean: 0.96975, std: 0.01587, params: {'min_child_weight': 8, 'reg_alpha': 1, 'subsample': 1},\n",
       " mean: 0.50000, std: 0.00000, params: {'min_child_weight': 8, 'reg_alpha': 100, 'subsample': 0.2},\n",
       " mean: 0.50000, std: 0.00000, params: {'min_child_weight': 8, 'reg_alpha': 100, 'subsample': 0.4},\n",
       " mean: 0.50000, std: 0.00000, params: {'min_child_weight': 8, 'reg_alpha': 100, 'subsample': 0.8},\n",
       " mean: 0.50000, std: 0.00000, params: {'min_child_weight': 8, 'reg_alpha': 100, 'subsample': 1},\n",
       " mean: 0.94742, std: 0.02255, params: {'min_child_weight': 10, 'reg_alpha': 0.0001, 'subsample': 0.2},\n",
       " mean: 0.95614, std: 0.02914, params: {'min_child_weight': 10, 'reg_alpha': 0.0001, 'subsample': 0.4},\n",
       " mean: 0.96557, std: 0.01721, params: {'min_child_weight': 10, 'reg_alpha': 0.0001, 'subsample': 0.8},\n",
       " mean: 0.97091, std: 0.01481, params: {'min_child_weight': 10, 'reg_alpha': 0.0001, 'subsample': 1},\n",
       " mean: 0.94742, std: 0.02255, params: {'min_child_weight': 10, 'reg_alpha': 0.1, 'subsample': 0.2},\n",
       " mean: 0.96450, std: 0.02407, params: {'min_child_weight': 10, 'reg_alpha': 0.1, 'subsample': 0.4},\n",
       " mean: 0.96557, std: 0.01721, params: {'min_child_weight': 10, 'reg_alpha': 0.1, 'subsample': 0.8},\n",
       " mean: 0.96877, std: 0.01994, params: {'min_child_weight': 10, 'reg_alpha': 0.1, 'subsample': 1},\n",
       " mean: 0.94742, std: 0.02255, params: {'min_child_weight': 10, 'reg_alpha': 0.1, 'subsample': 0.2},\n",
       " mean: 0.96450, std: 0.02407, params: {'min_child_weight': 10, 'reg_alpha': 0.1, 'subsample': 0.4},\n",
       " mean: 0.96557, std: 0.01721, params: {'min_child_weight': 10, 'reg_alpha': 0.1, 'subsample': 0.8},\n",
       " mean: 0.96877, std: 0.01994, params: {'min_child_weight': 10, 'reg_alpha': 0.1, 'subsample': 1},\n",
       " mean: 0.95260, std: 0.02661, params: {'min_child_weight': 10, 'reg_alpha': 1, 'subsample': 0.2},\n",
       " mean: 0.95501, std: 0.02861, params: {'min_child_weight': 10, 'reg_alpha': 1, 'subsample': 0.4},\n",
       " mean: 0.96236, std: 0.01938, params: {'min_child_weight': 10, 'reg_alpha': 1, 'subsample': 0.8},\n",
       " mean: 0.96880, std: 0.01497, params: {'min_child_weight': 10, 'reg_alpha': 1, 'subsample': 1},\n",
       " mean: 0.50000, std: 0.00000, params: {'min_child_weight': 10, 'reg_alpha': 100, 'subsample': 0.2},\n",
       " mean: 0.50000, std: 0.00000, params: {'min_child_weight': 10, 'reg_alpha': 100, 'subsample': 0.4},\n",
       " mean: 0.50000, std: 0.00000, params: {'min_child_weight': 10, 'reg_alpha': 100, 'subsample': 0.8},\n",
       " mean: 0.50000, std: 0.00000, params: {'min_child_weight': 10, 'reg_alpha': 100, 'subsample': 1},\n",
       " mean: 0.95892, std: 0.02074, params: {'min_child_weight': 12, 'reg_alpha': 0.0001, 'subsample': 0.2},\n",
       " mean: 0.96444, std: 0.02220, params: {'min_child_weight': 12, 'reg_alpha': 0.0001, 'subsample': 0.4},\n",
       " mean: 0.96865, std: 0.01371, params: {'min_child_weight': 12, 'reg_alpha': 0.0001, 'subsample': 0.8},\n",
       " mean: 0.96874, std: 0.02105, params: {'min_child_weight': 12, 'reg_alpha': 0.0001, 'subsample': 1},\n",
       " mean: 0.95466, std: 0.03224, params: {'min_child_weight': 12, 'reg_alpha': 0.1, 'subsample': 0.2},\n",
       " mean: 0.95819, std: 0.02597, params: {'min_child_weight': 12, 'reg_alpha': 0.1, 'subsample': 0.4},\n",
       " mean: 0.96865, std: 0.01371, params: {'min_child_weight': 12, 'reg_alpha': 0.1, 'subsample': 0.8},\n",
       " mean: 0.96877, std: 0.02009, params: {'min_child_weight': 12, 'reg_alpha': 0.1, 'subsample': 1},\n",
       " mean: 0.95466, std: 0.03224, params: {'min_child_weight': 12, 'reg_alpha': 0.1, 'subsample': 0.2},\n",
       " mean: 0.95819, std: 0.02597, params: {'min_child_weight': 12, 'reg_alpha': 0.1, 'subsample': 0.4},\n",
       " mean: 0.96865, std: 0.01371, params: {'min_child_weight': 12, 'reg_alpha': 0.1, 'subsample': 0.8},\n",
       " mean: 0.96877, std: 0.02009, params: {'min_child_weight': 12, 'reg_alpha': 0.1, 'subsample': 1},\n",
       " mean: 0.96109, std: 0.02105, params: {'min_child_weight': 12, 'reg_alpha': 1, 'subsample': 0.2},\n",
       " mean: 0.95501, std: 0.03298, params: {'min_child_weight': 12, 'reg_alpha': 1, 'subsample': 0.4},\n",
       " mean: 0.96444, std: 0.01470, params: {'min_child_weight': 12, 'reg_alpha': 1, 'subsample': 0.8},\n",
       " mean: 0.96349, std: 0.01529, params: {'min_child_weight': 12, 'reg_alpha': 1, 'subsample': 1},\n",
       " mean: 0.50000, std: 0.00000, params: {'min_child_weight': 12, 'reg_alpha': 100, 'subsample': 0.2},\n",
       " mean: 0.50000, std: 0.00000, params: {'min_child_weight': 12, 'reg_alpha': 100, 'subsample': 0.4},\n",
       " mean: 0.50000, std: 0.00000, params: {'min_child_weight': 12, 'reg_alpha': 100, 'subsample': 0.8},\n",
       " mean: 0.50000, std: 0.00000, params: {'min_child_weight': 12, 'reg_alpha': 100, 'subsample': 1}]"
      ]
     },
     "execution_count": 21,
     "metadata": {},
     "output_type": "execute_result"
    }
   ],
   "source": [
    "clf2.grid_scores_"
   ]
  },
  {
   "cell_type": "code",
   "execution_count": 22,
   "metadata": {
    "collapsed": false
   },
   "outputs": [
    {
     "name": "stdout",
     "output_type": "stream",
     "text": [
      "Best accuracy obtained: 0.9750870712986381\n",
      "Parameters:\n",
      "\tmin_child_weight: 8\n",
      "\treg_alpha: 0.0001\n",
      "\tsubsample: 0.8\n"
     ]
    }
   ],
   "source": [
    "print(\"Best accuracy obtained: {0}\".format(clf2.best_score_))\n",
    "print(\"Parameters:\")\n",
    "for key, value in clf2.best_params_.items():\n",
    "    print(\"\\t{}: {}\".format(key, value))"
   ]
  },
  {
   "cell_type": "code",
   "execution_count": 23,
   "metadata": {
    "collapsed": false
   },
   "outputs": [
    {
     "data": {
      "text/plain": [
       "XGBClassifier(base_score=0.5, colsample_bylevel=1, colsample_bytree=1,\n",
       "       gamma=0, learning_rate=0.1, max_delta_step=0, max_depth=3,\n",
       "       min_child_weight=8, missing=None, n_estimators=100, nthread=-1,\n",
       "       objective='binary:logistic', reg_alpha=0.0001, reg_lambda=1,\n",
       "       scale_pos_weight=1, seed=42, silent=1, subsample=0.8)"
      ]
     },
     "execution_count": 23,
     "metadata": {},
     "output_type": "execute_result"
    }
   ],
   "source": [
    "clf2.best_estimator_"
   ]
  },
  {
   "cell_type": "code",
   "execution_count": 24,
   "metadata": {
    "collapsed": false
   },
   "outputs": [
    {
     "data": {
      "text/plain": [
       "XGBClassifier(base_score=0.5, colsample_bylevel=1, colsample_bytree=1,\n",
       "       gamma=0, learning_rate=0.1, max_delta_step=0, max_depth=3,\n",
       "       min_child_weight=8, missing=None, n_estimators=100, nthread=-1,\n",
       "       objective='binary:logistic', reg_alpha=0.0001, reg_lambda=1,\n",
       "       scale_pos_weight=1, seed=42, silent=1, subsample=0.8)"
      ]
     },
     "execution_count": 24,
     "metadata": {},
     "output_type": "execute_result"
    }
   ],
   "source": [
    "xgb2=XGBClassifier(base_score=0.5, colsample_bylevel=1, colsample_bytree=1,\n",
    "       gamma=0, learning_rate=0.1, max_delta_step=0, max_depth=3,\n",
    "       min_child_weight=8, missing=None, n_estimators=100, nthread=-1,\n",
    "       objective='binary:logistic', reg_alpha=0.0001, reg_lambda=1,\n",
    "       scale_pos_weight=1, seed=42, silent=1, subsample=0.8)\n",
    "xgb2.fit(X_train,y_train)"
   ]
  },
  {
   "cell_type": "code",
   "execution_count": 25,
   "metadata": {
    "collapsed": false
   },
   "outputs": [
    {
     "name": "stdout",
     "output_type": "stream",
     "text": [
      "Akurasi: 0.9602\n",
      "Precision: 0.9747\n",
      "Recall: 0.9167\n",
      "F1: 0.9448\n"
     ]
    }
   ],
   "source": [
    "y_pred2 = xgb2.predict(X_test)\n",
    "accuracy = accuracy_score(y_test, y_pred2)\n",
    "precision, recall, f1, _ = precision_recall_fscore_support(y_test, y_pred2)\n",
    "print (('Akurasi: %.4f') % (accuracy))\n",
    "print (('Precision: %.4f') % (precision[1]))\n",
    "print (('Recall: %.4f') % (recall[1]))\n",
    "print (('F1: %.4f') % (f1[1]))"
   ]
  },
  {
   "cell_type": "code",
   "execution_count": 28,
   "metadata": {
    "collapsed": false
   },
   "outputs": [
    {
     "data": {
      "text/plain": [
       "XGBClassifier(base_score=0.5, colsample_bylevel=1, colsample_bytree=1,\n",
       "       gamma=0, learning_rate=0.2, max_delta_step=0, max_depth=3,\n",
       "       min_child_weight=8, missing=None, n_estimators=50, nthread=-1,\n",
       "       objective='binary:logistic', reg_alpha=0.0001, reg_lambda=1,\n",
       "       scale_pos_weight=1, seed=42, silent=1, subsample=0.8)"
      ]
     },
     "execution_count": 28,
     "metadata": {},
     "output_type": "execute_result"
    }
   ],
   "source": [
    "xgb_gab=XGBClassifier(base_score=0.5, colsample_bylevel=1, colsample_bytree=1,\n",
    "       gamma=0, learning_rate=0.2, max_delta_step=0, max_depth=3,\n",
    "       min_child_weight=8, missing=None, n_estimators=50, nthread=-1,\n",
    "       objective='binary:logistic', reg_alpha=0.0001, reg_lambda=1,\n",
    "       scale_pos_weight=1, seed=42, silent=1, subsample=0.8)\n",
    "xgb_gab.fit(X_train,y_train)"
   ]
  },
  {
   "cell_type": "code",
   "execution_count": 29,
   "metadata": {
    "collapsed": false
   },
   "outputs": [
    {
     "name": "stdout",
     "output_type": "stream",
     "text": [
      "Akurasi: 0.9646\n",
      "Precision: 0.9750\n",
      "Recall: 0.9286\n",
      "F1: 0.9512\n"
     ]
    }
   ],
   "source": [
    "y_pred_gab = xgb_gab.predict(X_test)\n",
    "accuracy = accuracy_score(y_test, y_pred_gab)\n",
    "precision, recall, f1, _ = precision_recall_fscore_support(y_test, y_pred_gab)\n",
    "print (('Akurasi: %.4f') % (accuracy))\n",
    "print (('Precision: %.4f') % (precision[1]))\n",
    "print (('Recall: %.4f') % (recall[1]))\n",
    "print (('F1: %.4f') % (f1[1]))"
   ]
  },
  {
   "cell_type": "code",
   "execution_count": null,
   "metadata": {
    "collapsed": true
   },
   "outputs": [],
   "source": []
  }
 ],
 "metadata": {
  "anaconda-cloud": {},
  "kernelspec": {
   "display_name": "Python 3",
   "language": "python",
   "name": "python3"
  },
  "language_info": {
   "codemirror_mode": {
    "name": "ipython",
    "version": 3
   },
   "file_extension": ".py",
   "mimetype": "text/x-python",
   "name": "python",
   "nbconvert_exporter": "python",
   "pygments_lexer": "ipython3",
   "version": "3.6.0"
  }
 },
 "nbformat": 4,
 "nbformat_minor": 1
}
