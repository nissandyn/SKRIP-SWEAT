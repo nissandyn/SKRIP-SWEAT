{
 "cells": [
  {
   "cell_type": "code",
   "execution_count": 1,
   "metadata": {
    "collapsed": true
   },
   "outputs": [],
   "source": [
    "\n",
    "%matplotlib inline\n",
    "import pandas as pd\n",
    "import numpy as np\n",
    "import matplotlib.pyplot as plt\n",
    "import seaborn; \n",
    "from scipy import stats\n",
    "import pylab as pl\n",
    "from sklearn.model_selection import train_test_split\n",
    "\n",
    "seaborn.set()"
   ]
  },
  {
   "cell_type": "code",
   "execution_count": 2,
   "metadata": {
    "collapsed": false
   },
   "outputs": [],
   "source": [
    "dfB = pd.read_csv(\"wbc.csv\")"
   ]
  },
  {
   "cell_type": "code",
   "execution_count": 3,
   "metadata": {
    "collapsed": false
   },
   "outputs": [
    {
     "name": "stdout",
     "output_type": "stream",
     "text": [
      "<class 'pandas.core.frame.DataFrame'>\n",
      "RangeIndex: 683 entries, 0 to 682\n",
      "Data columns (total 11 columns):\n",
      "index                 683 non-null int64\n",
      "clump_thickness       683 non-null int64\n",
      "cell_size             683 non-null int64\n",
      "cell_shape            683 non-null int64\n",
      "marginal_adhesion     683 non-null int64\n",
      "epitelial_cellsize    683 non-null int64\n",
      "bare_nuclei           683 non-null int32\n",
      "bland_chromatin       683 non-null int64\n",
      "normal_nucleoli       683 non-null int64\n",
      "mitoses               683 non-null int64\n",
      "jenis                 683 non-null int64\n",
      "dtypes: int32(1), int64(10)\n",
      "memory usage: 56.1 KB\n"
     ]
    }
   ],
   "source": [
    "dfB=dfB[dfB.bare_nuclei!='?']\n",
    "dfB=dfB.reset_index()\n",
    "dfB['bare_nuclei']=dfB['bare_nuclei'].astype(object).astype(int)\n",
    "dfB.info()"
   ]
  },
  {
   "cell_type": "code",
   "execution_count": 4,
   "metadata": {
    "collapsed": false
   },
   "outputs": [],
   "source": [
    "X = dfB.drop([dfB.columns[-1]], axis=1)\n",
    "y = dfB.jenis"
   ]
  },
  {
   "cell_type": "code",
   "execution_count": 5,
   "metadata": {
    "collapsed": false
   },
   "outputs": [],
   "source": [
    "X_train, X_test, y_train, y_test = train_test_split(X, y,test_size=0.33, random_state=42)"
   ]
  },
  {
   "cell_type": "code",
   "execution_count": 6,
   "metadata": {
    "collapsed": true
   },
   "outputs": [],
   "source": [
    "from sklearn import svm"
   ]
  },
  {
   "cell_type": "code",
   "execution_count": 7,
   "metadata": {
    "collapsed": true
   },
   "outputs": [],
   "source": [
    "from sklearn.metrics import accuracy_score, precision_recall_fscore_support"
   ]
  },
  {
   "cell_type": "code",
   "execution_count": 8,
   "metadata": {
    "collapsed": false
   },
   "outputs": [],
   "source": [
    "from sklearn import metrics"
   ]
  },
  {
   "cell_type": "code",
   "execution_count": 9,
   "metadata": {
    "collapsed": false
   },
   "outputs": [],
   "source": [
    "from sklearn.model_selection import GridSearchCV\n",
    "from __future__ import print_function\n",
    "from sklearn.metrics import classification_report\n",
    "from sklearn.svm import SVC"
   ]
  },
  {
   "cell_type": "code",
   "execution_count": 10,
   "metadata": {
    "collapsed": true
   },
   "outputs": [],
   "source": [
    "svr=svm.SVC()"
   ]
  },
  {
   "cell_type": "code",
   "execution_count": 11,
   "metadata": {
    "collapsed": false
   },
   "outputs": [
    {
     "name": "stdout",
     "output_type": "stream",
     "text": [
      "Automatically created module for IPython interactive environment\n",
      "# Tuning hyper-parameters for recall\n",
      "\n",
      "Best parameters set found on development set:\n",
      "\n",
      "{'C': 20, 'gamma': 0.0001, 'kernel': 'rbf'}\n",
      "\n",
      "Grid scores on development set:\n",
      "\n",
      "0.500 (+/-0.000) for {'C': 1, 'gamma': 1, 'kernel': 'rbf'}\n",
      "0.506 (+/-0.025) for {'C': 1, 'gamma': 0.1, 'kernel': 'rbf'}\n",
      "0.966 (+/-0.030) for {'C': 1, 'gamma': 0.001, 'kernel': 'rbf'}\n",
      "0.783 (+/-0.130) for {'C': 1, 'gamma': 0.0001, 'kernel': 'rbf'}\n",
      "0.500 (+/-0.000) for {'C': 1, 'gamma': 1e-05, 'kernel': 'rbf'}\n",
      "0.500 (+/-0.000) for {'C': 2, 'gamma': 1, 'kernel': 'rbf'}\n",
      "0.513 (+/-0.042) for {'C': 2, 'gamma': 0.1, 'kernel': 'rbf'}\n",
      "0.958 (+/-0.042) for {'C': 2, 'gamma': 0.001, 'kernel': 'rbf'}\n",
      "0.936 (+/-0.065) for {'C': 2, 'gamma': 0.0001, 'kernel': 'rbf'}\n",
      "0.519 (+/-0.051) for {'C': 2, 'gamma': 1e-05, 'kernel': 'rbf'}\n",
      "0.500 (+/-0.000) for {'C': 4, 'gamma': 1, 'kernel': 'rbf'}\n",
      "0.513 (+/-0.042) for {'C': 4, 'gamma': 0.1, 'kernel': 'rbf'}\n",
      "0.953 (+/-0.047) for {'C': 4, 'gamma': 0.001, 'kernel': 'rbf'}\n",
      "0.965 (+/-0.040) for {'C': 4, 'gamma': 0.0001, 'kernel': 'rbf'}\n",
      "0.808 (+/-0.133) for {'C': 4, 'gamma': 1e-05, 'kernel': 'rbf'}\n",
      "0.500 (+/-0.000) for {'C': 8, 'gamma': 1, 'kernel': 'rbf'}\n",
      "0.513 (+/-0.042) for {'C': 8, 'gamma': 0.1, 'kernel': 'rbf'}\n",
      "0.951 (+/-0.053) for {'C': 8, 'gamma': 0.001, 'kernel': 'rbf'}\n",
      "0.963 (+/-0.039) for {'C': 8, 'gamma': 0.0001, 'kernel': 'rbf'}\n",
      "0.936 (+/-0.068) for {'C': 8, 'gamma': 1e-05, 'kernel': 'rbf'}\n",
      "0.500 (+/-0.000) for {'C': 10, 'gamma': 1, 'kernel': 'rbf'}\n",
      "0.513 (+/-0.042) for {'C': 10, 'gamma': 0.1, 'kernel': 'rbf'}\n",
      "0.951 (+/-0.040) for {'C': 10, 'gamma': 0.001, 'kernel': 'rbf'}\n",
      "0.963 (+/-0.039) for {'C': 10, 'gamma': 0.0001, 'kernel': 'rbf'}\n",
      "0.957 (+/-0.055) for {'C': 10, 'gamma': 1e-05, 'kernel': 'rbf'}\n",
      "0.500 (+/-0.000) for {'C': 20, 'gamma': 1, 'kernel': 'rbf'}\n",
      "0.513 (+/-0.042) for {'C': 20, 'gamma': 0.1, 'kernel': 'rbf'}\n",
      "0.954 (+/-0.039) for {'C': 20, 'gamma': 0.001, 'kernel': 'rbf'}\n",
      "0.967 (+/-0.033) for {'C': 20, 'gamma': 0.0001, 'kernel': 'rbf'}\n",
      "0.961 (+/-0.046) for {'C': 20, 'gamma': 1e-05, 'kernel': 'rbf'}\n",
      "\n",
      "Detailed classification report:\n",
      "\n",
      "The model is trained on the full development set.\n",
      "The scores are computed on the full evaluation set.\n",
      "\n",
      "             precision    recall  f1-score   support\n",
      "\n",
      "          2       0.96      0.99      0.97       142\n",
      "          4       0.97      0.93      0.95        84\n",
      "\n",
      "avg / total       0.96      0.96      0.96       226\n",
      "\n",
      "\n"
     ]
    }
   ],
   "source": [
    "print(__doc__)\n",
    "\n",
    "# Loading the Digits dataset\n",
    "#digits = datasets.load_digits()\n",
    "\n",
    "# To apply an classifier on this data, we need to flatten the image, to\n",
    "# turn the data in a (samples, feature) matrix:\n",
    "n_samples = len(dfB)\n",
    "\n",
    "\n",
    "# Set the parameters by cross-validation\n",
    "\n",
    "tuned_parameters = [{'kernel': ['rbf'], 'gamma': [1,0.1,0.001,0.0001,0.00001],\n",
    "                     'C': [ 1,2,4,8,10,20]},]\n",
    "scores = ['recall']\n",
    "\n",
    "for score in scores:\n",
    "    print(\"# Tuning hyper-parameters for %s\" % score)\n",
    "    print()\n",
    "\n",
    "    clf = GridSearchCV(svr, tuned_parameters, cv=10,\n",
    "                       scoring='%s_macro' % score)\n",
    "    clf.fit(X_train, y_train)\n",
    "\n",
    "    print(\"Best parameters set found on development set:\")\n",
    "    print()\n",
    "    print(clf.best_params_)\n",
    "    print()\n",
    "    print(\"Grid scores on development set:\")\n",
    "    print()\n",
    "    means = clf.cv_results_['mean_test_score']\n",
    "    stds = clf.cv_results_['std_test_score']\n",
    "    for mean, std, params in zip(means, stds, clf.cv_results_['params']):\n",
    "        print(\"%0.3f (+/-%0.03f) for %r\"\n",
    "              % (mean, std * 2, params))\n",
    "    print()\n",
    "\n",
    "    print(\"Detailed classification report:\")\n",
    "    print()\n",
    "    print(\"The model is trained on the full development set.\")\n",
    "    print(\"The scores are computed on the full evaluation set.\")\n",
    "    print()\n",
    "    y_true, y_pred = y_test, clf.predict(X_test)\n",
    "    print(classification_report(y_true, y_pred))\n",
    "    print()"
   ]
  },
  {
   "cell_type": "code",
   "execution_count": 12,
   "metadata": {
    "collapsed": false
   },
   "outputs": [
    {
     "name": "stderr",
     "output_type": "stream",
     "text": [
      "C:\\Users\\Annisa\\Anaconda3\\lib\\site-packages\\sklearn\\model_selection\\_search.py:667: DeprecationWarning: The grid_scores_ attribute was deprecated in version 0.18 in favor of the more elaborate cv_results_ attribute. The grid_scores_ attribute will not be available from 0.20\n",
      "  DeprecationWarning)\n"
     ]
    },
    {
     "data": {
      "text/plain": [
       "[mean: 0.50000, std: 0.00000, params: {'C': 1, 'gamma': 1, 'kernel': 'rbf'},\n",
       " mean: 0.50636, std: 0.01250, params: {'C': 1, 'gamma': 0.1, 'kernel': 'rbf'},\n",
       " mean: 0.96597, std: 0.01520, params: {'C': 1, 'gamma': 0.001, 'kernel': 'rbf'},\n",
       " mean: 0.78254, std: 0.06521, params: {'C': 1, 'gamma': 0.0001, 'kernel': 'rbf'},\n",
       " mean: 0.50000, std: 0.00000, params: {'C': 1, 'gamma': 1e-05, 'kernel': 'rbf'},\n",
       " mean: 0.50000, std: 0.00000, params: {'C': 2, 'gamma': 1, 'kernel': 'rbf'},\n",
       " mean: 0.51279, std: 0.02093, params: {'C': 2, 'gamma': 0.1, 'kernel': 'rbf'},\n",
       " mean: 0.95789, std: 0.02118, params: {'C': 2, 'gamma': 0.001, 'kernel': 'rbf'},\n",
       " mean: 0.93565, std: 0.03230, params: {'C': 2, 'gamma': 0.0001, 'kernel': 'rbf'},\n",
       " mean: 0.51928, std: 0.02522, params: {'C': 2, 'gamma': 1e-05, 'kernel': 'rbf'},\n",
       " mean: 0.50000, std: 0.00000, params: {'C': 4, 'gamma': 1, 'kernel': 'rbf'},\n",
       " mean: 0.51279, std: 0.02093, params: {'C': 4, 'gamma': 0.1, 'kernel': 'rbf'},\n",
       " mean: 0.95310, std: 0.02368, params: {'C': 4, 'gamma': 0.001, 'kernel': 'rbf'},\n",
       " mean: 0.96451, std: 0.01987, params: {'C': 4, 'gamma': 0.0001, 'kernel': 'rbf'},\n",
       " mean: 0.80829, std: 0.06700, params: {'C': 4, 'gamma': 1e-05, 'kernel': 'rbf'},\n",
       " mean: 0.50000, std: 0.00000, params: {'C': 8, 'gamma': 1, 'kernel': 'rbf'},\n",
       " mean: 0.51279, std: 0.02093, params: {'C': 8, 'gamma': 0.1, 'kernel': 'rbf'},\n",
       " mean: 0.95142, std: 0.02648, params: {'C': 8, 'gamma': 0.001, 'kernel': 'rbf'},\n",
       " mean: 0.96267, std: 0.01935, params: {'C': 8, 'gamma': 0.0001, 'kernel': 'rbf'},\n",
       " mean: 0.93565, std: 0.03398, params: {'C': 8, 'gamma': 1e-05, 'kernel': 'rbf'},\n",
       " mean: 0.50000, std: 0.00000, params: {'C': 10, 'gamma': 1, 'kernel': 'rbf'},\n",
       " mean: 0.51279, std: 0.02093, params: {'C': 10, 'gamma': 0.1, 'kernel': 'rbf'},\n",
       " mean: 0.95129, std: 0.01988, params: {'C': 10, 'gamma': 0.001, 'kernel': 'rbf'},\n",
       " mean: 0.96267, std: 0.01935, params: {'C': 10, 'gamma': 0.0001, 'kernel': 'rbf'},\n",
       " mean: 0.95654, std: 0.02745, params: {'C': 10, 'gamma': 1e-05, 'kernel': 'rbf'},\n",
       " mean: 0.50000, std: 0.00000, params: {'C': 20, 'gamma': 1, 'kernel': 'rbf'},\n",
       " mean: 0.51279, std: 0.02093, params: {'C': 20, 'gamma': 0.1, 'kernel': 'rbf'},\n",
       " mean: 0.95443, std: 0.01956, params: {'C': 20, 'gamma': 0.001, 'kernel': 'rbf'},\n",
       " mean: 0.96748, std: 0.01649, params: {'C': 20, 'gamma': 0.0001, 'kernel': 'rbf'},\n",
       " mean: 0.96119, std: 0.02301, params: {'C': 20, 'gamma': 1e-05, 'kernel': 'rbf'}]"
      ]
     },
     "execution_count": 12,
     "metadata": {},
     "output_type": "execute_result"
    }
   ],
   "source": [
    "clf.grid_scores_"
   ]
  },
  {
   "cell_type": "code",
   "execution_count": 14,
   "metadata": {
    "collapsed": false
   },
   "outputs": [
    {
     "name": "stdout",
     "output_type": "stream",
     "text": [
      "Automatically created module for IPython interactive environment\n",
      "# Tuning hyper-parameters for recall\n",
      "\n",
      "Best parameters set found on development set:\n",
      "\n",
      "{'C': 20, 'gamma': 0.0001, 'kernel': 'rbf'}\n",
      "\n",
      "Grid scores on development set:\n",
      "\n",
      "0.967 (+/-0.033) for {'C': 20, 'gamma': 0.0001, 'kernel': 'rbf'}\n",
      "0.963 (+/-0.033) for {'C': 20, 'gamma': 0.000125, 'kernel': 'rbf'}\n",
      "0.959 (+/-0.036) for {'C': 20, 'gamma': 0.00015, 'kernel': 'rbf'}\n",
      "0.961 (+/-0.033) for {'C': 20, 'gamma': 0.000175, 'kernel': 'rbf'}\n",
      "0.961 (+/-0.033) for {'C': 20, 'gamma': 0.0002, 'kernel': 'rbf'}\n",
      "0.967 (+/-0.033) for {'C': 21, 'gamma': 0.0001, 'kernel': 'rbf'}\n",
      "0.963 (+/-0.033) for {'C': 21, 'gamma': 0.000125, 'kernel': 'rbf'}\n",
      "0.959 (+/-0.036) for {'C': 21, 'gamma': 0.00015, 'kernel': 'rbf'}\n",
      "0.961 (+/-0.033) for {'C': 21, 'gamma': 0.000175, 'kernel': 'rbf'}\n",
      "0.961 (+/-0.033) for {'C': 21, 'gamma': 0.0002, 'kernel': 'rbf'}\n",
      "0.967 (+/-0.033) for {'C': 22, 'gamma': 0.0001, 'kernel': 'rbf'}\n",
      "0.963 (+/-0.033) for {'C': 22, 'gamma': 0.000125, 'kernel': 'rbf'}\n",
      "0.961 (+/-0.033) for {'C': 22, 'gamma': 0.00015, 'kernel': 'rbf'}\n",
      "0.961 (+/-0.033) for {'C': 22, 'gamma': 0.000175, 'kernel': 'rbf'}\n",
      "0.961 (+/-0.033) for {'C': 22, 'gamma': 0.0002, 'kernel': 'rbf'}\n",
      "0.967 (+/-0.033) for {'C': 23, 'gamma': 0.0001, 'kernel': 'rbf'}\n",
      "0.963 (+/-0.033) for {'C': 23, 'gamma': 0.000125, 'kernel': 'rbf'}\n",
      "0.961 (+/-0.033) for {'C': 23, 'gamma': 0.00015, 'kernel': 'rbf'}\n",
      "0.961 (+/-0.033) for {'C': 23, 'gamma': 0.000175, 'kernel': 'rbf'}\n",
      "0.961 (+/-0.033) for {'C': 23, 'gamma': 0.0002, 'kernel': 'rbf'}\n",
      "0.964 (+/-0.032) for {'C': 24, 'gamma': 0.0001, 'kernel': 'rbf'}\n",
      "0.963 (+/-0.033) for {'C': 24, 'gamma': 0.000125, 'kernel': 'rbf'}\n",
      "0.961 (+/-0.033) for {'C': 24, 'gamma': 0.00015, 'kernel': 'rbf'}\n",
      "0.961 (+/-0.033) for {'C': 24, 'gamma': 0.000175, 'kernel': 'rbf'}\n",
      "0.961 (+/-0.033) for {'C': 24, 'gamma': 0.0002, 'kernel': 'rbf'}\n",
      "0.964 (+/-0.032) for {'C': 25, 'gamma': 0.0001, 'kernel': 'rbf'}\n",
      "0.963 (+/-0.033) for {'C': 25, 'gamma': 0.000125, 'kernel': 'rbf'}\n",
      "0.961 (+/-0.033) for {'C': 25, 'gamma': 0.00015, 'kernel': 'rbf'}\n",
      "0.961 (+/-0.033) for {'C': 25, 'gamma': 0.000175, 'kernel': 'rbf'}\n",
      "0.961 (+/-0.033) for {'C': 25, 'gamma': 0.0002, 'kernel': 'rbf'}\n",
      "\n",
      "Detailed classification report:\n",
      "\n",
      "The model is trained on the full development set.\n",
      "The scores are computed on the full evaluation set.\n",
      "\n",
      "             precision    recall  f1-score   support\n",
      "\n",
      "          2       0.96      0.99      0.97       142\n",
      "          4       0.97      0.93      0.95        84\n",
      "\n",
      "avg / total       0.96      0.96      0.96       226\n",
      "\n",
      "\n"
     ]
    }
   ],
   "source": [
    "print(__doc__)\n",
    "\n",
    "# Loading the Digits dataset\n",
    "#digits = datasets.load_digits()\n",
    "\n",
    "# To apply an classifier on this data, we need to flatten the image, to\n",
    "# turn the data in a (samples, feature) matrix:\n",
    "n_samples = len(dfB)\n",
    "\n",
    "\n",
    "# Set the parameters by cross-validation\n",
    "\n",
    "tuned_parameters1a = [{'kernel': ['rbf'], 'gamma': [0.0001,0.000125,0.000150,0.000175,0.0002],\n",
    "                     'C': [ 20,21,22,23,24,25]},]\n",
    "scores = ['recall']\n",
    "\n",
    "for score in scores:\n",
    "    print(\"# Tuning hyper-parameters for %s\" % score)\n",
    "    print()\n",
    "\n",
    "    clf1a = GridSearchCV(svr, tuned_parameters1a, cv=10,\n",
    "                       scoring='%s_macro' % score)\n",
    "    clf1a.fit(X_train, y_train)\n",
    "\n",
    "    print(\"Best parameters set found on development set:\")\n",
    "    print()\n",
    "    print(clf1a.best_params_)\n",
    "    print()\n",
    "    print(\"Grid scores on development set:\")\n",
    "    print()\n",
    "    means = clf1a.cv_results_['mean_test_score']\n",
    "    stds = clf1a.cv_results_['std_test_score']\n",
    "    for mean, std, params in zip(means, stds, clf1a.cv_results_['params']):\n",
    "        print(\"%0.3f (+/-%0.03f) for %r\"\n",
    "              % (mean, std * 2, params))\n",
    "    print()\n",
    "\n",
    "    print(\"Detailed classification report:\")\n",
    "    print()\n",
    "    print(\"The model is trained on the full development set.\")\n",
    "    print(\"The scores are computed on the full evaluation set.\")\n",
    "    print()\n",
    "    y_true, y_pred1a = y_test, clf1a.predict(X_test)\n",
    "    print(classification_report(y_true, y_pred1a))\n",
    "    print()"
   ]
  },
  {
   "cell_type": "markdown",
   "metadata": {},
   "source": [
    "# sama"
   ]
  },
  {
   "cell_type": "code",
   "execution_count": 15,
   "metadata": {
    "collapsed": false
   },
   "outputs": [
    {
     "data": {
      "text/plain": [
       "SVC(C=20, cache_size=200, class_weight=None, coef0=0.0,\n",
       "  decision_function_shape=None, degree=3, gamma=0.0001, kernel='rbf',\n",
       "  max_iter=-1, probability=False, random_state=None, shrinking=True,\n",
       "  tol=0.001, verbose=False)"
      ]
     },
     "execution_count": 15,
     "metadata": {},
     "output_type": "execute_result"
    }
   ],
   "source": [
    "clf.best_estimator_"
   ]
  },
  {
   "cell_type": "code",
   "execution_count": 16,
   "metadata": {
    "collapsed": false
   },
   "outputs": [
    {
     "data": {
      "text/plain": [
       "SVC(C=20, cache_size=200, class_weight=None, coef0=0.0,\n",
       "  decision_function_shape=None, degree=3, gamma=0.0001, kernel='rbf',\n",
       "  max_iter=-1, probability=False, random_state=None, shrinking=True,\n",
       "  tol=0.001, verbose=False)"
      ]
     },
     "execution_count": 16,
     "metadata": {},
     "output_type": "execute_result"
    }
   ],
   "source": [
    "svc1=svm.SVC(C=20, cache_size=200, class_weight=None, coef0=0.0,\n",
    "  decision_function_shape=None, degree=3, gamma=0.0001, kernel='rbf',\n",
    "  max_iter=-1, probability=False, random_state=None, shrinking=True,\n",
    "  tol=0.001, verbose=False)\n",
    "svc1.fit(X_train,y_train)"
   ]
  },
  {
   "cell_type": "code",
   "execution_count": 17,
   "metadata": {
    "collapsed": false
   },
   "outputs": [
    {
     "name": "stdout",
     "output_type": "stream",
     "text": [
      "Akurasi: 0.9646\n",
      "Precision: 0.9750\n",
      "Recall: 0.9286\n",
      "F1: 0.9512\n"
     ]
    }
   ],
   "source": [
    "y_pred1 = svc1.predict(X_test)\n",
    "accuracy = accuracy_score(y_test, y_pred1)\n",
    "precision, recall, f1, _ = precision_recall_fscore_support(y_test, y_pred1)\n",
    "print (('Akurasi: %.4f') % (accuracy))\n",
    "print (('Precision: %.4f') % (precision[1]))\n",
    "print (('Recall: %.4f') % (recall[1]))\n",
    "print (('F1: %.4f') % (f1[1]))"
   ]
  },
  {
   "cell_type": "code",
   "execution_count": 18,
   "metadata": {
    "collapsed": false
   },
   "outputs": [
    {
     "data": {
      "text/plain": [
       "SVC(C=20, cache_size=200, class_weight=None, coef0=0.0,\n",
       "  decision_function_shape=None, degree=3, gamma=0.0001, kernel='rbf',\n",
       "  max_iter=-1, probability=False, random_state=None, shrinking=True,\n",
       "  tol=0.001, verbose=False)"
      ]
     },
     "execution_count": 18,
     "metadata": {},
     "output_type": "execute_result"
    }
   ],
   "source": [
    "clf1a.best_estimator_"
   ]
  },
  {
   "cell_type": "code",
   "execution_count": 21,
   "metadata": {
    "collapsed": false
   },
   "outputs": [
    {
     "data": {
      "text/plain": [
       "SVC(C=20, cache_size=200, class_weight=None, coef0=0.0,\n",
       "  decision_function_shape=None, degree=3, gamma=0.0001, kernel='rbf',\n",
       "  max_iter=-1, probability=False, random_state=None, shrinking=True,\n",
       "  tol=0.001, verbose=False)"
      ]
     },
     "execution_count": 21,
     "metadata": {},
     "output_type": "execute_result"
    }
   ],
   "source": [
    "svc1a=svm.SVC(C=20, cache_size=200, class_weight=None, coef0=0.0,\n",
    "  decision_function_shape=None, degree=3, gamma=0.0001, kernel='rbf',\n",
    "  max_iter=-1, probability=False, random_state=None, shrinking=True,\n",
    "  tol=0.001, verbose=False)\n",
    "svc1a.fit(X_train,y_train)"
   ]
  },
  {
   "cell_type": "code",
   "execution_count": 22,
   "metadata": {
    "collapsed": false
   },
   "outputs": [
    {
     "name": "stdout",
     "output_type": "stream",
     "text": [
      "Akurasi: 0.9646\n",
      "Precision: 0.9750\n",
      "Recall: 0.9286\n",
      "F1: 0.9512\n"
     ]
    }
   ],
   "source": [
    "y_pred1a = svc1a.predict(X_test)\n",
    "accuracy = accuracy_score(y_test, y_pred1a)\n",
    "precision, recall, f1, _ = precision_recall_fscore_support(y_test, y_pred1a)\n",
    "print (('Akurasi: %.4f') % (accuracy))\n",
    "print (('Precision: %.4f') % (precision[1]))\n",
    "print (('Recall: %.4f') % (recall[1]))\n",
    "print (('F1: %.4f') % (f1[1]))"
   ]
  },
  {
   "cell_type": "code",
   "execution_count": 11,
   "metadata": {
    "collapsed": true
   },
   "outputs": [],
   "source": [
    "C_range = [(2**-5),(2**-3), (2**-1), (2**1),(2**3),(2**5),(2**7),(2**9),(2**11),(2**13),(2**15)]\n",
    "gamma_range = [(2**-15),(2**-13), (2**-11), (2**-9),(2**-7),(2**-5),(2**-3),(2**-1),(2**1),(2**3)]"
   ]
  },
  {
   "cell_type": "code",
   "execution_count": 12,
   "metadata": {
    "collapsed": false
   },
   "outputs": [
    {
     "name": "stdout",
     "output_type": "stream",
     "text": [
      "Automatically created module for IPython interactive environment\n",
      "# Tuning hyper-parameters for recall\n",
      "\n",
      "Best parameters set found on development set:\n",
      "\n",
      "{'C': 32, 'gamma': 3.0517578125e-05, 'kernel': 'rbf'}\n",
      "\n",
      "Grid scores on development set:\n",
      "\n",
      "0.5000 (+/-0.0000) for {'C': 0.03125, 'gamma': 3.0517578125e-05, 'kernel': 'rbf'}\n",
      "0.5000 (+/-0.0000) for {'C': 0.03125, 'gamma': 0.0001220703125, 'kernel': 'rbf'}\n",
      "0.5000 (+/-0.0000) for {'C': 0.03125, 'gamma': 0.00048828125, 'kernel': 'rbf'}\n",
      "0.5000 (+/-0.0000) for {'C': 0.03125, 'gamma': 0.001953125, 'kernel': 'rbf'}\n",
      "0.5000 (+/-0.0000) for {'C': 0.03125, 'gamma': 0.0078125, 'kernel': 'rbf'}\n",
      "0.5000 (+/-0.0000) for {'C': 0.03125, 'gamma': 0.03125, 'kernel': 'rbf'}\n",
      "0.5000 (+/-0.0000) for {'C': 0.03125, 'gamma': 0.125, 'kernel': 'rbf'}\n",
      "0.5000 (+/-0.0000) for {'C': 0.03125, 'gamma': 0.5, 'kernel': 'rbf'}\n",
      "0.5000 (+/-0.0000) for {'C': 0.03125, 'gamma': 2, 'kernel': 'rbf'}\n",
      "0.5000 (+/-0.0000) for {'C': 0.03125, 'gamma': 8, 'kernel': 'rbf'}\n",
      "0.5000 (+/-0.0000) for {'C': 0.125, 'gamma': 3.0517578125e-05, 'kernel': 'rbf'}\n",
      "0.5000 (+/-0.0000) for {'C': 0.125, 'gamma': 0.0001220703125, 'kernel': 'rbf'}\n",
      "0.5064 (+/-0.0380) for {'C': 0.125, 'gamma': 0.00048828125, 'kernel': 'rbf'}\n",
      "0.5000 (+/-0.0000) for {'C': 0.125, 'gamma': 0.001953125, 'kernel': 'rbf'}\n",
      "0.5000 (+/-0.0000) for {'C': 0.125, 'gamma': 0.0078125, 'kernel': 'rbf'}\n",
      "0.5000 (+/-0.0000) for {'C': 0.125, 'gamma': 0.03125, 'kernel': 'rbf'}\n",
      "0.5000 (+/-0.0000) for {'C': 0.125, 'gamma': 0.125, 'kernel': 'rbf'}\n",
      "0.5000 (+/-0.0000) for {'C': 0.125, 'gamma': 0.5, 'kernel': 'rbf'}\n",
      "0.5000 (+/-0.0000) for {'C': 0.125, 'gamma': 2, 'kernel': 'rbf'}\n",
      "0.5000 (+/-0.0000) for {'C': 0.125, 'gamma': 8, 'kernel': 'rbf'}\n",
      "0.5000 (+/-0.0000) for {'C': 0.5, 'gamma': 3.0517578125e-05, 'kernel': 'rbf'}\n",
      "0.6191 (+/-0.0591) for {'C': 0.5, 'gamma': 0.0001220703125, 'kernel': 'rbf'}\n",
      "0.8052 (+/-0.1092) for {'C': 0.5, 'gamma': 0.00048828125, 'kernel': 'rbf'}\n",
      "0.9176 (+/-0.1056) for {'C': 0.5, 'gamma': 0.001953125, 'kernel': 'rbf'}\n",
      "0.9545 (+/-0.0525) for {'C': 0.5, 'gamma': 0.0078125, 'kernel': 'rbf'}\n",
      "0.5287 (+/-0.0712) for {'C': 0.5, 'gamma': 0.03125, 'kernel': 'rbf'}\n",
      "0.5000 (+/-0.0000) for {'C': 0.5, 'gamma': 0.125, 'kernel': 'rbf'}\n",
      "0.5000 (+/-0.0000) for {'C': 0.5, 'gamma': 0.5, 'kernel': 'rbf'}\n",
      "0.5000 (+/-0.0000) for {'C': 0.5, 'gamma': 2, 'kernel': 'rbf'}\n",
      "0.5000 (+/-0.0000) for {'C': 0.5, 'gamma': 8, 'kernel': 'rbf'}\n",
      "0.7971 (+/-0.1557) for {'C': 2, 'gamma': 3.0517578125e-05, 'kernel': 'rbf'}\n",
      "0.9613 (+/-0.0427) for {'C': 2, 'gamma': 0.0001220703125, 'kernel': 'rbf'}\n",
      "0.9644 (+/-0.0349) for {'C': 2, 'gamma': 0.00048828125, 'kernel': 'rbf'}\n",
      "0.9530 (+/-0.0551) for {'C': 2, 'gamma': 0.001953125, 'kernel': 'rbf'}\n",
      "0.9529 (+/-0.0532) for {'C': 2, 'gamma': 0.0078125, 'kernel': 'rbf'}\n",
      "0.9526 (+/-0.0504) for {'C': 2, 'gamma': 0.03125, 'kernel': 'rbf'}\n",
      "0.5064 (+/-0.0252) for {'C': 2, 'gamma': 0.125, 'kernel': 'rbf'}\n",
      "0.5000 (+/-0.0000) for {'C': 2, 'gamma': 0.5, 'kernel': 'rbf'}\n",
      "0.5000 (+/-0.0000) for {'C': 2, 'gamma': 2, 'kernel': 'rbf'}\n",
      "0.5000 (+/-0.0000) for {'C': 2, 'gamma': 8, 'kernel': 'rbf'}\n",
      "0.9612 (+/-0.0459) for {'C': 8, 'gamma': 3.0517578125e-05, 'kernel': 'rbf'}\n",
      "0.9627 (+/-0.0385) for {'C': 8, 'gamma': 0.0001220703125, 'kernel': 'rbf'}\n",
      "0.9611 (+/-0.0354) for {'C': 8, 'gamma': 0.00048828125, 'kernel': 'rbf'}\n",
      "0.9514 (+/-0.0460) for {'C': 8, 'gamma': 0.001953125, 'kernel': 'rbf'}\n",
      "0.9479 (+/-0.0541) for {'C': 8, 'gamma': 0.0078125, 'kernel': 'rbf'}\n",
      "0.9526 (+/-0.0504) for {'C': 8, 'gamma': 0.03125, 'kernel': 'rbf'}\n",
      "0.5064 (+/-0.0252) for {'C': 8, 'gamma': 0.125, 'kernel': 'rbf'}\n",
      "0.5000 (+/-0.0000) for {'C': 8, 'gamma': 0.5, 'kernel': 'rbf'}\n",
      "0.5000 (+/-0.0000) for {'C': 8, 'gamma': 2, 'kernel': 'rbf'}\n",
      "0.5000 (+/-0.0000) for {'C': 8, 'gamma': 8, 'kernel': 'rbf'}\n",
      "0.9740 (+/-0.0419) for {'C': 32, 'gamma': 3.0517578125e-05, 'kernel': 'rbf'}\n",
      "0.9642 (+/-0.0289) for {'C': 32, 'gamma': 0.0001220703125, 'kernel': 'rbf'}\n",
      "0.9496 (+/-0.0454) for {'C': 32, 'gamma': 0.00048828125, 'kernel': 'rbf'}\n",
      "0.9416 (+/-0.0677) for {'C': 32, 'gamma': 0.001953125, 'kernel': 'rbf'}\n",
      "0.9479 (+/-0.0541) for {'C': 32, 'gamma': 0.0078125, 'kernel': 'rbf'}\n",
      "0.9526 (+/-0.0504) for {'C': 32, 'gamma': 0.03125, 'kernel': 'rbf'}\n",
      "0.5064 (+/-0.0252) for {'C': 32, 'gamma': 0.125, 'kernel': 'rbf'}\n",
      "0.5000 (+/-0.0000) for {'C': 32, 'gamma': 0.5, 'kernel': 'rbf'}\n",
      "0.5000 (+/-0.0000) for {'C': 32, 'gamma': 2, 'kernel': 'rbf'}\n",
      "0.5000 (+/-0.0000) for {'C': 32, 'gamma': 8, 'kernel': 'rbf'}\n",
      "0.9658 (+/-0.0402) for {'C': 128, 'gamma': 3.0517578125e-05, 'kernel': 'rbf'}\n",
      "0.9642 (+/-0.0283) for {'C': 128, 'gamma': 0.0001220703125, 'kernel': 'rbf'}\n",
      "0.9384 (+/-0.0613) for {'C': 128, 'gamma': 0.00048828125, 'kernel': 'rbf'}\n",
      "0.9416 (+/-0.0677) for {'C': 128, 'gamma': 0.001953125, 'kernel': 'rbf'}\n",
      "0.9479 (+/-0.0541) for {'C': 128, 'gamma': 0.0078125, 'kernel': 'rbf'}\n",
      "0.9526 (+/-0.0504) for {'C': 128, 'gamma': 0.03125, 'kernel': 'rbf'}\n",
      "0.5064 (+/-0.0252) for {'C': 128, 'gamma': 0.125, 'kernel': 'rbf'}\n",
      "0.5000 (+/-0.0000) for {'C': 128, 'gamma': 0.5, 'kernel': 'rbf'}\n",
      "0.5000 (+/-0.0000) for {'C': 128, 'gamma': 2, 'kernel': 'rbf'}\n",
      "0.5000 (+/-0.0000) for {'C': 128, 'gamma': 8, 'kernel': 'rbf'}\n",
      "0.9673 (+/-0.0511) for {'C': 512, 'gamma': 3.0517578125e-05, 'kernel': 'rbf'}\n",
      "0.9530 (+/-0.0561) for {'C': 512, 'gamma': 0.0001220703125, 'kernel': 'rbf'}\n",
      "0.9367 (+/-0.0644) for {'C': 512, 'gamma': 0.00048828125, 'kernel': 'rbf'}\n",
      "0.9416 (+/-0.0677) for {'C': 512, 'gamma': 0.001953125, 'kernel': 'rbf'}\n",
      "0.9479 (+/-0.0541) for {'C': 512, 'gamma': 0.0078125, 'kernel': 'rbf'}\n",
      "0.9526 (+/-0.0504) for {'C': 512, 'gamma': 0.03125, 'kernel': 'rbf'}\n",
      "0.5064 (+/-0.0252) for {'C': 512, 'gamma': 0.125, 'kernel': 'rbf'}\n",
      "0.5000 (+/-0.0000) for {'C': 512, 'gamma': 0.5, 'kernel': 'rbf'}\n",
      "0.5000 (+/-0.0000) for {'C': 512, 'gamma': 2, 'kernel': 'rbf'}\n",
      "0.5000 (+/-0.0000) for {'C': 512, 'gamma': 8, 'kernel': 'rbf'}\n",
      "0.9578 (+/-0.0630) for {'C': 2048, 'gamma': 3.0517578125e-05, 'kernel': 'rbf'}\n",
      "0.9415 (+/-0.0852) for {'C': 2048, 'gamma': 0.0001220703125, 'kernel': 'rbf'}\n",
      "0.9367 (+/-0.0644) for {'C': 2048, 'gamma': 0.00048828125, 'kernel': 'rbf'}\n",
      "0.9416 (+/-0.0677) for {'C': 2048, 'gamma': 0.001953125, 'kernel': 'rbf'}\n",
      "0.9479 (+/-0.0541) for {'C': 2048, 'gamma': 0.0078125, 'kernel': 'rbf'}\n",
      "0.9526 (+/-0.0504) for {'C': 2048, 'gamma': 0.03125, 'kernel': 'rbf'}\n",
      "0.5064 (+/-0.0252) for {'C': 2048, 'gamma': 0.125, 'kernel': 'rbf'}\n",
      "0.5000 (+/-0.0000) for {'C': 2048, 'gamma': 0.5, 'kernel': 'rbf'}\n",
      "0.5000 (+/-0.0000) for {'C': 2048, 'gamma': 2, 'kernel': 'rbf'}\n",
      "0.5000 (+/-0.0000) for {'C': 2048, 'gamma': 8, 'kernel': 'rbf'}\n",
      "0.9364 (+/-0.0810) for {'C': 8192, 'gamma': 3.0517578125e-05, 'kernel': 'rbf'}\n",
      "0.9415 (+/-0.0852) for {'C': 8192, 'gamma': 0.0001220703125, 'kernel': 'rbf'}\n",
      "0.9367 (+/-0.0644) for {'C': 8192, 'gamma': 0.00048828125, 'kernel': 'rbf'}\n",
      "0.9416 (+/-0.0677) for {'C': 8192, 'gamma': 0.001953125, 'kernel': 'rbf'}\n",
      "0.9479 (+/-0.0541) for {'C': 8192, 'gamma': 0.0078125, 'kernel': 'rbf'}\n",
      "0.9526 (+/-0.0504) for {'C': 8192, 'gamma': 0.03125, 'kernel': 'rbf'}\n",
      "0.5064 (+/-0.0252) for {'C': 8192, 'gamma': 0.125, 'kernel': 'rbf'}\n",
      "0.5000 (+/-0.0000) for {'C': 8192, 'gamma': 0.5, 'kernel': 'rbf'}\n",
      "0.5000 (+/-0.0000) for {'C': 8192, 'gamma': 2, 'kernel': 'rbf'}\n",
      "0.5000 (+/-0.0000) for {'C': 8192, 'gamma': 8, 'kernel': 'rbf'}\n",
      "0.9235 (+/-0.1118) for {'C': 32768, 'gamma': 3.0517578125e-05, 'kernel': 'rbf'}\n",
      "0.9415 (+/-0.0852) for {'C': 32768, 'gamma': 0.0001220703125, 'kernel': 'rbf'}\n",
      "0.9367 (+/-0.0644) for {'C': 32768, 'gamma': 0.00048828125, 'kernel': 'rbf'}\n",
      "0.9416 (+/-0.0677) for {'C': 32768, 'gamma': 0.001953125, 'kernel': 'rbf'}\n",
      "0.9479 (+/-0.0541) for {'C': 32768, 'gamma': 0.0078125, 'kernel': 'rbf'}\n",
      "0.9526 (+/-0.0504) for {'C': 32768, 'gamma': 0.03125, 'kernel': 'rbf'}\n",
      "0.5064 (+/-0.0252) for {'C': 32768, 'gamma': 0.125, 'kernel': 'rbf'}\n",
      "0.5000 (+/-0.0000) for {'C': 32768, 'gamma': 0.5, 'kernel': 'rbf'}\n",
      "0.5000 (+/-0.0000) for {'C': 32768, 'gamma': 2, 'kernel': 'rbf'}\n",
      "0.5000 (+/-0.0000) for {'C': 32768, 'gamma': 8, 'kernel': 'rbf'}\n",
      "\n",
      "Detailed classification report:\n",
      "\n",
      "The model is trained on the full development set.\n",
      "The scores are computed on the full evaluation set.\n",
      "\n",
      "             precision    recall  f1-score   support\n",
      "\n",
      "          2       0.95      0.99      0.97       142\n",
      "          4       0.97      0.90      0.94        84\n",
      "\n",
      "avg / total       0.96      0.96      0.96       226\n",
      "\n",
      "\n"
     ]
    }
   ],
   "source": [
    "print(__doc__)\n",
    "\n",
    "# Loading the Digits dataset\n",
    "#digits = datasets.load_digits()\n",
    "\n",
    "# To apply an classifier on this data, we need to flatten the image, to\n",
    "# turn the data in a (samples, feature) matrix:\n",
    "\n",
    "\n",
    "# Set the parameters by cross-validation\n",
    "tuned_parameters2 = [{'kernel': ['rbf'], 'gamma': gamma_range,\n",
    "                     'C': C_range},]\n",
    "\n",
    "scores = ['recall']\n",
    "\n",
    "for score in scores:\n",
    "    print(\"# Tuning hyper-parameters for %s\" % score)\n",
    "    print()\n",
    "\n",
    "    clf2 = GridSearchCV(svr, tuned_parameters2, cv=10,\n",
    "                       scoring='%s_macro' % score)\n",
    "    clf2.fit(X_train, y_train)\n",
    "\n",
    "    print(\"Best parameters set found on development set:\")\n",
    "    print()\n",
    "    print(clf2.best_params_)\n",
    "    print()\n",
    "    print(\"Grid scores on development set:\")\n",
    "    print()\n",
    "    means = clf2.cv_results_['mean_test_score']\n",
    "    stds = clf2.cv_results_['std_test_score']\n",
    "    for mean, std, params in zip(means, stds, clf2.cv_results_['params']):\n",
    "        print(\"%0.4f (+/-%0.04f) for %r\"\n",
    "              % (mean, std * 2, params))\n",
    "    print()\n",
    "\n",
    "    print(\"Detailed classification report:\")\n",
    "    print()\n",
    "    print(\"The model is trained on the full development set.\")\n",
    "    print(\"The scores are computed on the full evaluation set.\")\n",
    "    print()\n",
    "    y_true, y_pred2 = y_test, clf2.predict(X_test)\n",
    "    print(classification_report(y_true, y_pred2))\n",
    "    print()"
   ]
  },
  {
   "cell_type": "code",
   "execution_count": 13,
   "metadata": {
    "collapsed": false
   },
   "outputs": [
    {
     "data": {
      "text/plain": [
       "SVC(C=32, cache_size=200, class_weight=None, coef0=0.0,\n",
       "  decision_function_shape=None, degree=3, gamma=3.0517578125e-05,\n",
       "  kernel='rbf', max_iter=-1, probability=False, random_state=None,\n",
       "  shrinking=True, tol=0.001, verbose=False)"
      ]
     },
     "execution_count": 13,
     "metadata": {},
     "output_type": "execute_result"
    }
   ],
   "source": [
    "clf2.best_estimator_"
   ]
  },
  {
   "cell_type": "code",
   "execution_count": 14,
   "metadata": {
    "collapsed": false
   },
   "outputs": [
    {
     "data": {
      "text/plain": [
       "SVC(C=32, cache_size=200, class_weight=None, coef0=0.0,\n",
       "  decision_function_shape=None, degree=3, gamma=3.0517578125e-05,\n",
       "  kernel='rbf', max_iter=-1, probability=False, random_state=None,\n",
       "  shrinking=True, tol=0.001, verbose=False)"
      ]
     },
     "execution_count": 14,
     "metadata": {},
     "output_type": "execute_result"
    }
   ],
   "source": [
    "ac=svm.SVC(C=32, cache_size=200, class_weight=None, coef0=0.0,\n",
    "  decision_function_shape=None, degree=3, gamma=3.0517578125e-05,\n",
    "  kernel='rbf', max_iter=-1, probability=False, random_state=None,\n",
    "  shrinking=True, tol=0.001, verbose=False)\n",
    "ac.fit(X_train,y_train)"
   ]
  },
  {
   "cell_type": "code",
   "execution_count": 15,
   "metadata": {
    "collapsed": false
   },
   "outputs": [
    {
     "name": "stdout",
     "output_type": "stream",
     "text": [
      "Akurasi: 0.9781\n",
      "Precision: 0.9618\n",
      "Recall: 0.9742\n",
      "F1: 0.9679\n"
     ]
    }
   ],
   "source": [
    "y_predtr = ac.predict(X_train)\n",
    "accuracy = accuracy_score(y_train, y_predtr)\n",
    "precision, recall, f1, _ = precision_recall_fscore_support(y_train, y_predtr)\n",
    "print (('Akurasi: %.4f') % (accuracy))\n",
    "print (('Precision: %.4f') % (precision[1]))\n",
    "print (('Recall: %.4f') % (recall[1]))\n",
    "print (('F1: %.4f') % (f1[1]))"
   ]
  },
  {
   "cell_type": "code",
   "execution_count": 18,
   "metadata": {
    "collapsed": false
   },
   "outputs": [
    {
     "data": {
      "text/plain": [
       "array([[296,   6],\n",
       "       [  4, 151]])"
      ]
     },
     "execution_count": 18,
     "metadata": {},
     "output_type": "execute_result"
    }
   ],
   "source": [
    "from sklearn.metrics import confusion_matrix\n",
    "confusion_matrix(y_train, y_predtr)"
   ]
  },
  {
   "cell_type": "code",
   "execution_count": 16,
   "metadata": {
    "collapsed": false
   },
   "outputs": [
    {
     "name": "stdout",
     "output_type": "stream",
     "text": [
      "Akurasi: 0.9558\n",
      "Precision: 0.9744\n",
      "Recall: 0.9048\n",
      "F1: 0.9383\n"
     ]
    }
   ],
   "source": [
    "y_predac = ac.predict(X_test)\n",
    "accuracy = accuracy_score(y_test, y_predac)\n",
    "precision, recall, f1, _ = precision_recall_fscore_support(y_test, y_predac)\n",
    "print (('Akurasi: %.4f') % (accuracy))\n",
    "print (('Precision: %.4f') % (precision[1]))\n",
    "print (('Recall: %.4f') % (recall[1]))\n",
    "print (('F1: %.4f') % (f1[1]))"
   ]
  },
  {
   "cell_type": "code",
   "execution_count": 40,
   "metadata": {
    "collapsed": true
   },
   "outputs": [],
   "source": [
    "gamma_range2a = [(2**-15.25),(2**-15.5), (2**-15.75), (2**-16)]\n",
    "C_range2a = [(2**5.25),(2**5.5), (2**5.75), (2**6)]"
   ]
  },
  {
   "cell_type": "code",
   "execution_count": 41,
   "metadata": {
    "collapsed": false
   },
   "outputs": [
    {
     "name": "stdout",
     "output_type": "stream",
     "text": [
      "Automatically created module for IPython interactive environment\n",
      "# Tuning hyper-parameters for recall\n",
      "\n",
      "Best parameters set found on development set:\n",
      "\n",
      "{'C': 38.05462768008707, 'gamma': 2.5662122047537674e-05, 'kernel': 'rbf'}\n",
      "\n",
      "Grid scores on development set:\n",
      "\n",
      "0.9740 (+/-0.0419) for {'C': 38.05462768008707, 'gamma': 2.5662122047537674e-05, 'kernel': 'rbf'}\n",
      "0.9740 (+/-0.0419) for {'C': 38.05462768008707, 'gamma': 2.1579186437577746e-05, 'kernel': 'rbf'}\n",
      "0.9707 (+/-0.0383) for {'C': 38.05462768008707, 'gamma': 1.81458605194507e-05, 'kernel': 'rbf'}\n",
      "0.9707 (+/-0.0383) for {'C': 38.05462768008707, 'gamma': 1.52587890625e-05, 'kernel': 'rbf'}\n",
      "0.9740 (+/-0.0419) for {'C': 45.254833995939045, 'gamma': 2.5662122047537674e-05, 'kernel': 'rbf'}\n",
      "0.9740 (+/-0.0419) for {'C': 45.254833995939045, 'gamma': 2.1579186437577746e-05, 'kernel': 'rbf'}\n",
      "0.9740 (+/-0.0419) for {'C': 45.254833995939045, 'gamma': 1.81458605194507e-05, 'kernel': 'rbf'}\n",
      "0.9707 (+/-0.0383) for {'C': 45.254833995939045, 'gamma': 1.52587890625e-05, 'kernel': 'rbf'}\n",
      "0.9740 (+/-0.0419) for {'C': 53.81737057623773, 'gamma': 2.5662122047537674e-05, 'kernel': 'rbf'}\n",
      "0.9740 (+/-0.0419) for {'C': 53.81737057623773, 'gamma': 2.1579186437577746e-05, 'kernel': 'rbf'}\n",
      "0.9740 (+/-0.0419) for {'C': 53.81737057623773, 'gamma': 1.81458605194507e-05, 'kernel': 'rbf'}\n",
      "0.9740 (+/-0.0419) for {'C': 53.81737057623773, 'gamma': 1.52587890625e-05, 'kernel': 'rbf'}\n",
      "0.9691 (+/-0.0400) for {'C': 64, 'gamma': 2.5662122047537674e-05, 'kernel': 'rbf'}\n",
      "0.9740 (+/-0.0419) for {'C': 64, 'gamma': 2.1579186437577746e-05, 'kernel': 'rbf'}\n",
      "0.9740 (+/-0.0419) for {'C': 64, 'gamma': 1.81458605194507e-05, 'kernel': 'rbf'}\n",
      "0.9740 (+/-0.0419) for {'C': 64, 'gamma': 1.52587890625e-05, 'kernel': 'rbf'}\n",
      "\n",
      "Detailed classification report:\n",
      "\n",
      "The model is trained on the full development set.\n",
      "The scores are computed on the full evaluation set.\n",
      "\n",
      "             precision    recall  f1-score   support\n",
      "\n",
      "          2       0.95      0.99      0.97       142\n",
      "          4       0.97      0.90      0.94        84\n",
      "\n",
      "avg / total       0.96      0.96      0.96       226\n",
      "\n",
      "\n"
     ]
    }
   ],
   "source": [
    "print(__doc__)\n",
    "\n",
    "# Loading the Digits dataset\n",
    "#digits = datasets.load_digits()\n",
    "\n",
    "# To apply an classifier on this data, we need to flatten the image, to\n",
    "# turn the data in a (samples, feature) matrix:\n",
    "\n",
    "\n",
    "# Set the parameters by cross-validation\n",
    "tuned_parameters2a = [{'kernel': ['rbf'], 'gamma': gamma_range2a,\n",
    "                     'C': C_range2a},]\n",
    "\n",
    "scores = ['recall']\n",
    "\n",
    "for score in scores:\n",
    "    print(\"# Tuning hyper-parameters for %s\" % score)\n",
    "    print()\n",
    "\n",
    "    clf2a = GridSearchCV(svr, tuned_parameters2a, cv=10,\n",
    "                       scoring='%s_macro' % score)\n",
    "    clf2a.fit(X_train, y_train)\n",
    "\n",
    "    print(\"Best parameters set found on development set:\")\n",
    "    print()\n",
    "    print(clf2a.best_params_)\n",
    "    print()\n",
    "    print(\"Grid scores on development set:\")\n",
    "    print()\n",
    "    means = clf2a.cv_results_['mean_test_score']\n",
    "    stds = clf2a.cv_results_['std_test_score']\n",
    "    for mean, std, params in zip(means, stds, clf2a.cv_results_['params']):\n",
    "        print(\"%0.4f (+/-%0.04f) for %r\"\n",
    "              % (mean, std * 2, params))\n",
    "    print()\n",
    "\n",
    "    print(\"Detailed classification report:\")\n",
    "    print()\n",
    "    print(\"The model is trained on the full development set.\")\n",
    "    print(\"The scores are computed on the full evaluation set.\")\n",
    "    print()\n",
    "    y_true, y_pred2a = y_test, clf2a.predict(X_test)\n",
    "    print(classification_report(y_true, y_pred2a))\n",
    "    print()"
   ]
  },
  {
   "cell_type": "code",
   "execution_count": 42,
   "metadata": {
    "collapsed": false
   },
   "outputs": [
    {
     "data": {
      "text/plain": [
       "SVC(C=38.05462768008707, cache_size=200, class_weight=None, coef0=0.0,\n",
       "  decision_function_shape=None, degree=3, gamma=2.5662122047537674e-05,\n",
       "  kernel='rbf', max_iter=-1, probability=False, random_state=None,\n",
       "  shrinking=True, tol=0.001, verbose=False)"
      ]
     },
     "execution_count": 42,
     "metadata": {},
     "output_type": "execute_result"
    }
   ],
   "source": [
    "clf2a.best_estimator_"
   ]
  },
  {
   "cell_type": "code",
   "execution_count": 45,
   "metadata": {
    "collapsed": false
   },
   "outputs": [
    {
     "data": {
      "text/plain": [
       "SVC(C=38.05462768008707, cache_size=200, class_weight=None, coef0=0.0,\n",
       "  decision_function_shape=None, degree=3, gamma=2.5662122047537674e-05,\n",
       "  kernel='rbf', max_iter=-1, probability=False, random_state=None,\n",
       "  shrinking=True, tol=0.001, verbose=False)"
      ]
     },
     "execution_count": 45,
     "metadata": {},
     "output_type": "execute_result"
    }
   ],
   "source": [
    "svc7ac=svm.SVC(C=38.05462768008707, cache_size=200, class_weight=None, coef0=0.0,\n",
    "  decision_function_shape=None, degree=3, gamma=2.5662122047537674e-05,\n",
    "  kernel='rbf', max_iter=-1, probability=False, random_state=None,\n",
    "  shrinking=True, tol=0.001, verbose=False)\n",
    "svc7ac.fit(X_train,y_train)"
   ]
  },
  {
   "cell_type": "code",
   "execution_count": 46,
   "metadata": {
    "collapsed": false
   },
   "outputs": [
    {
     "name": "stdout",
     "output_type": "stream",
     "text": [
      "Akurasi: 0.9558\n",
      "Precision: 0.9744\n",
      "Recall: 0.9048\n",
      "F1: 0.9383\n"
     ]
    }
   ],
   "source": [
    "y_pred7ac = svc7ac.predict(X_test)\n",
    "accuracy = accuracy_score(y_test, y_pred7ac)\n",
    "precision, recall, f1, _ = precision_recall_fscore_support(y_test, y_pred7ac)\n",
    "print (('Akurasi: %.4f') % (accuracy))\n",
    "print (('Precision: %.4f') % (precision[1]))\n",
    "print (('Recall: %.4f') % (recall[1]))\n",
    "print (('F1: %.4f') % (f1[1]))"
   ]
  },
  {
   "cell_type": "code",
   "execution_count": 34,
   "metadata": {
    "collapsed": false
   },
   "outputs": [
    {
     "name": "stdout",
     "output_type": "stream",
     "text": [
      "Akurasi: 0.9558\n",
      "Precision: 0.9744\n",
      "Recall: 0.9048\n",
      "F1: 0.9383\n"
     ]
    }
   ],
   "source": [
    "y_pred7a = svc7a.predict(X_test)\n",
    "accuracy = accuracy_score(y_test, y_pred7a)\n",
    "precision, recall, f1, _ = precision_recall_fscore_support(y_test, y_pred7a)\n",
    "print (('Akurasi: %.4f') % (accuracy))\n",
    "print (('Precision: %.4f') % (precision[1]))\n",
    "print (('Recall: %.4f') % (recall[1]))\n",
    "print (('F1: %.4f') % (f1[1]))"
   ]
  },
  {
   "cell_type": "markdown",
   "metadata": {
    "collapsed": true
   },
   "source": [
    "# Hasil yang paling baik untuk parameter sesuai Hsu adalah svc7 /svc7a"
   ]
  }
 ],
 "metadata": {
  "anaconda-cloud": {},
  "kernelspec": {
   "display_name": "Python 3",
   "language": "python",
   "name": "python3"
  },
  "language_info": {
   "codemirror_mode": {
    "name": "ipython",
    "version": 3
   },
   "file_extension": ".py",
   "mimetype": "text/x-python",
   "name": "python",
   "nbconvert_exporter": "python",
   "pygments_lexer": "ipython3",
   "version": "3.6.0"
  }
 },
 "nbformat": 4,
 "nbformat_minor": 1
}
