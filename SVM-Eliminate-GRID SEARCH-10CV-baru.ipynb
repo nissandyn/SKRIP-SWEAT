{
 "cells": [
  {
   "cell_type": "code",
   "execution_count": 2,
   "metadata": {
    "collapsed": true
   },
   "outputs": [],
   "source": [
    "\n",
    "%matplotlib inline\n",
    "import pandas as pd\n",
    "import numpy as np\n",
    "import matplotlib.pyplot as plt\n",
    "import seaborn; \n",
    "from scipy import stats\n",
    "import pylab as pl\n",
    "from sklearn.model_selection import train_test_split\n",
    "\n",
    "seaborn.set()"
   ]
  },
  {
   "cell_type": "code",
   "execution_count": 3,
   "metadata": {
    "collapsed": false
   },
   "outputs": [],
   "source": [
    "dfB = pd.read_csv(\"wbc.csv\")"
   ]
  },
  {
   "cell_type": "code",
   "execution_count": 4,
   "metadata": {
    "collapsed": false
   },
   "outputs": [
    {
     "name": "stdout",
     "output_type": "stream",
     "text": [
      "<class 'pandas.core.frame.DataFrame'>\n",
      "RangeIndex: 683 entries, 0 to 682\n",
      "Data columns (total 11 columns):\n",
      "index                 683 non-null int64\n",
      "clump_thickness       683 non-null int64\n",
      "cell_size             683 non-null int64\n",
      "cell_shape            683 non-null int64\n",
      "marginal_adhesion     683 non-null int64\n",
      "epitelial_cellsize    683 non-null int64\n",
      "bare_nuclei           683 non-null int32\n",
      "bland_chromatin       683 non-null int64\n",
      "normal_nucleoli       683 non-null int64\n",
      "mitoses               683 non-null int64\n",
      "jenis                 683 non-null int64\n",
      "dtypes: int32(1), int64(10)\n",
      "memory usage: 56.1 KB\n"
     ]
    }
   ],
   "source": [
    "dfB=dfB[dfB.bare_nuclei!='?']\n",
    "dfB=dfB.reset_index()\n",
    "dfB['bare_nuclei']=dfB['bare_nuclei'].astype(object).astype(int)\n",
    "dfB.info()"
   ]
  },
  {
   "cell_type": "code",
   "execution_count": 5,
   "metadata": {
    "collapsed": false
   },
   "outputs": [],
   "source": [
    "X = dfB.drop([dfB.columns[-1]], axis=1)\n",
    "y = dfB.jenis.map({2: 0, 4: 1})"
   ]
  },
  {
   "cell_type": "code",
   "execution_count": 6,
   "metadata": {
    "collapsed": false
   },
   "outputs": [],
   "source": [
    "X_train, X_test, y_train, y_test = train_test_split(X, y,test_size=0.33, random_state=42)"
   ]
  },
  {
   "cell_type": "code",
   "execution_count": 7,
   "metadata": {
    "collapsed": true
   },
   "outputs": [],
   "source": [
    "from sklearn import svm"
   ]
  },
  {
   "cell_type": "code",
   "execution_count": 8,
   "metadata": {
    "collapsed": true
   },
   "outputs": [],
   "source": [
    "from sklearn.metrics import accuracy_score, precision_recall_fscore_support"
   ]
  },
  {
   "cell_type": "code",
   "execution_count": 9,
   "metadata": {
    "collapsed": false
   },
   "outputs": [],
   "source": [
    "from sklearn import metrics"
   ]
  },
  {
   "cell_type": "code",
   "execution_count": 10,
   "metadata": {
    "collapsed": false
   },
   "outputs": [],
   "source": [
    "from sklearn.model_selection import GridSearchCV\n",
    "from __future__ import print_function\n",
    "from sklearn.metrics import classification_report\n",
    "from sklearn.svm import SVC"
   ]
  },
  {
   "cell_type": "code",
   "execution_count": 11,
   "metadata": {
    "collapsed": true
   },
   "outputs": [],
   "source": [
    "svr=svm.SVC()"
   ]
  },
  {
   "cell_type": "code",
   "execution_count": 12,
   "metadata": {
    "collapsed": false
   },
   "outputs": [],
   "source": [
    "C_range = [2**i for i in [-5, -3, -1, 1, 3, 5, 7, 9, 11, 13, 15]]\n",
    "gamma_range = [2**i for i in [-15, -13, -11, -9, -7, -5, -3, -1, 1, 3]]"
   ]
  },
  {
   "cell_type": "code",
   "execution_count": 13,
   "metadata": {
    "collapsed": false
   },
   "outputs": [
    {
     "name": "stdout",
     "output_type": "stream",
     "text": [
      "Automatically created module for IPython interactive environment\n",
      "# Tuning hyper-parameters for recall\n",
      "\n",
      "Best parameters set found on development set:\n",
      "\n",
      "{'C': 32, 'gamma': 3.0517578125e-05, 'kernel': 'rbf'}\n",
      "\n",
      "Grid scores on development set:\n",
      "\n",
      "0.5000 (+/-0.0000) for {'C': 0.03125, 'gamma': 3.0517578125e-05, 'kernel': 'rbf'}\n",
      "0.5000 (+/-0.0000) for {'C': 0.03125, 'gamma': 0.0001220703125, 'kernel': 'rbf'}\n",
      "0.5000 (+/-0.0000) for {'C': 0.03125, 'gamma': 0.00048828125, 'kernel': 'rbf'}\n",
      "0.5000 (+/-0.0000) for {'C': 0.03125, 'gamma': 0.001953125, 'kernel': 'rbf'}\n",
      "0.5000 (+/-0.0000) for {'C': 0.03125, 'gamma': 0.0078125, 'kernel': 'rbf'}\n",
      "0.5000 (+/-0.0000) for {'C': 0.03125, 'gamma': 0.03125, 'kernel': 'rbf'}\n",
      "0.5000 (+/-0.0000) for {'C': 0.03125, 'gamma': 0.125, 'kernel': 'rbf'}\n",
      "0.5000 (+/-0.0000) for {'C': 0.03125, 'gamma': 0.5, 'kernel': 'rbf'}\n",
      "0.5000 (+/-0.0000) for {'C': 0.03125, 'gamma': 2, 'kernel': 'rbf'}\n",
      "0.5000 (+/-0.0000) for {'C': 0.03125, 'gamma': 8, 'kernel': 'rbf'}\n",
      "0.5000 (+/-0.0000) for {'C': 0.125, 'gamma': 3.0517578125e-05, 'kernel': 'rbf'}\n",
      "0.5000 (+/-0.0000) for {'C': 0.125, 'gamma': 0.0001220703125, 'kernel': 'rbf'}\n",
      "0.5064 (+/-0.0380) for {'C': 0.125, 'gamma': 0.00048828125, 'kernel': 'rbf'}\n",
      "0.5000 (+/-0.0000) for {'C': 0.125, 'gamma': 0.001953125, 'kernel': 'rbf'}\n",
      "0.5000 (+/-0.0000) for {'C': 0.125, 'gamma': 0.0078125, 'kernel': 'rbf'}\n",
      "0.5000 (+/-0.0000) for {'C': 0.125, 'gamma': 0.03125, 'kernel': 'rbf'}\n",
      "0.5000 (+/-0.0000) for {'C': 0.125, 'gamma': 0.125, 'kernel': 'rbf'}\n",
      "0.5000 (+/-0.0000) for {'C': 0.125, 'gamma': 0.5, 'kernel': 'rbf'}\n",
      "0.5000 (+/-0.0000) for {'C': 0.125, 'gamma': 2, 'kernel': 'rbf'}\n",
      "0.5000 (+/-0.0000) for {'C': 0.125, 'gamma': 8, 'kernel': 'rbf'}\n",
      "0.5000 (+/-0.0000) for {'C': 0.5, 'gamma': 3.0517578125e-05, 'kernel': 'rbf'}\n",
      "0.6191 (+/-0.0591) for {'C': 0.5, 'gamma': 0.0001220703125, 'kernel': 'rbf'}\n",
      "0.8052 (+/-0.1092) for {'C': 0.5, 'gamma': 0.00048828125, 'kernel': 'rbf'}\n",
      "0.9176 (+/-0.1056) for {'C': 0.5, 'gamma': 0.001953125, 'kernel': 'rbf'}\n",
      "0.9545 (+/-0.0525) for {'C': 0.5, 'gamma': 0.0078125, 'kernel': 'rbf'}\n",
      "0.5287 (+/-0.0712) for {'C': 0.5, 'gamma': 0.03125, 'kernel': 'rbf'}\n",
      "0.5000 (+/-0.0000) for {'C': 0.5, 'gamma': 0.125, 'kernel': 'rbf'}\n",
      "0.5000 (+/-0.0000) for {'C': 0.5, 'gamma': 0.5, 'kernel': 'rbf'}\n",
      "0.5000 (+/-0.0000) for {'C': 0.5, 'gamma': 2, 'kernel': 'rbf'}\n",
      "0.5000 (+/-0.0000) for {'C': 0.5, 'gamma': 8, 'kernel': 'rbf'}\n",
      "0.7971 (+/-0.1557) for {'C': 2, 'gamma': 3.0517578125e-05, 'kernel': 'rbf'}\n",
      "0.9613 (+/-0.0427) for {'C': 2, 'gamma': 0.0001220703125, 'kernel': 'rbf'}\n",
      "0.9644 (+/-0.0349) for {'C': 2, 'gamma': 0.00048828125, 'kernel': 'rbf'}\n",
      "0.9530 (+/-0.0551) for {'C': 2, 'gamma': 0.001953125, 'kernel': 'rbf'}\n",
      "0.9529 (+/-0.0532) for {'C': 2, 'gamma': 0.0078125, 'kernel': 'rbf'}\n",
      "0.9526 (+/-0.0504) for {'C': 2, 'gamma': 0.03125, 'kernel': 'rbf'}\n",
      "0.5064 (+/-0.0252) for {'C': 2, 'gamma': 0.125, 'kernel': 'rbf'}\n",
      "0.5000 (+/-0.0000) for {'C': 2, 'gamma': 0.5, 'kernel': 'rbf'}\n",
      "0.5000 (+/-0.0000) for {'C': 2, 'gamma': 2, 'kernel': 'rbf'}\n",
      "0.5000 (+/-0.0000) for {'C': 2, 'gamma': 8, 'kernel': 'rbf'}\n",
      "0.9612 (+/-0.0459) for {'C': 8, 'gamma': 3.0517578125e-05, 'kernel': 'rbf'}\n",
      "0.9627 (+/-0.0385) for {'C': 8, 'gamma': 0.0001220703125, 'kernel': 'rbf'}\n",
      "0.9611 (+/-0.0354) for {'C': 8, 'gamma': 0.00048828125, 'kernel': 'rbf'}\n",
      "0.9514 (+/-0.0460) for {'C': 8, 'gamma': 0.001953125, 'kernel': 'rbf'}\n",
      "0.9479 (+/-0.0541) for {'C': 8, 'gamma': 0.0078125, 'kernel': 'rbf'}\n",
      "0.9526 (+/-0.0504) for {'C': 8, 'gamma': 0.03125, 'kernel': 'rbf'}\n",
      "0.5064 (+/-0.0252) for {'C': 8, 'gamma': 0.125, 'kernel': 'rbf'}\n",
      "0.5000 (+/-0.0000) for {'C': 8, 'gamma': 0.5, 'kernel': 'rbf'}\n",
      "0.5000 (+/-0.0000) for {'C': 8, 'gamma': 2, 'kernel': 'rbf'}\n",
      "0.5000 (+/-0.0000) for {'C': 8, 'gamma': 8, 'kernel': 'rbf'}\n",
      "0.9740 (+/-0.0419) for {'C': 32, 'gamma': 3.0517578125e-05, 'kernel': 'rbf'}\n",
      "0.9642 (+/-0.0289) for {'C': 32, 'gamma': 0.0001220703125, 'kernel': 'rbf'}\n",
      "0.9496 (+/-0.0454) for {'C': 32, 'gamma': 0.00048828125, 'kernel': 'rbf'}\n",
      "0.9416 (+/-0.0677) for {'C': 32, 'gamma': 0.001953125, 'kernel': 'rbf'}\n",
      "0.9479 (+/-0.0541) for {'C': 32, 'gamma': 0.0078125, 'kernel': 'rbf'}\n",
      "0.9526 (+/-0.0504) for {'C': 32, 'gamma': 0.03125, 'kernel': 'rbf'}\n",
      "0.5064 (+/-0.0252) for {'C': 32, 'gamma': 0.125, 'kernel': 'rbf'}\n",
      "0.5000 (+/-0.0000) for {'C': 32, 'gamma': 0.5, 'kernel': 'rbf'}\n",
      "0.5000 (+/-0.0000) for {'C': 32, 'gamma': 2, 'kernel': 'rbf'}\n",
      "0.5000 (+/-0.0000) for {'C': 32, 'gamma': 8, 'kernel': 'rbf'}\n",
      "0.9658 (+/-0.0402) for {'C': 128, 'gamma': 3.0517578125e-05, 'kernel': 'rbf'}\n",
      "0.9642 (+/-0.0283) for {'C': 128, 'gamma': 0.0001220703125, 'kernel': 'rbf'}\n",
      "0.9384 (+/-0.0613) for {'C': 128, 'gamma': 0.00048828125, 'kernel': 'rbf'}\n",
      "0.9416 (+/-0.0677) for {'C': 128, 'gamma': 0.001953125, 'kernel': 'rbf'}\n",
      "0.9479 (+/-0.0541) for {'C': 128, 'gamma': 0.0078125, 'kernel': 'rbf'}\n",
      "0.9526 (+/-0.0504) for {'C': 128, 'gamma': 0.03125, 'kernel': 'rbf'}\n",
      "0.5064 (+/-0.0252) for {'C': 128, 'gamma': 0.125, 'kernel': 'rbf'}\n",
      "0.5000 (+/-0.0000) for {'C': 128, 'gamma': 0.5, 'kernel': 'rbf'}\n",
      "0.5000 (+/-0.0000) for {'C': 128, 'gamma': 2, 'kernel': 'rbf'}\n",
      "0.5000 (+/-0.0000) for {'C': 128, 'gamma': 8, 'kernel': 'rbf'}\n",
      "0.9673 (+/-0.0511) for {'C': 512, 'gamma': 3.0517578125e-05, 'kernel': 'rbf'}\n",
      "0.9530 (+/-0.0561) for {'C': 512, 'gamma': 0.0001220703125, 'kernel': 'rbf'}\n",
      "0.9367 (+/-0.0644) for {'C': 512, 'gamma': 0.00048828125, 'kernel': 'rbf'}\n",
      "0.9416 (+/-0.0677) for {'C': 512, 'gamma': 0.001953125, 'kernel': 'rbf'}\n",
      "0.9479 (+/-0.0541) for {'C': 512, 'gamma': 0.0078125, 'kernel': 'rbf'}\n",
      "0.9526 (+/-0.0504) for {'C': 512, 'gamma': 0.03125, 'kernel': 'rbf'}\n",
      "0.5064 (+/-0.0252) for {'C': 512, 'gamma': 0.125, 'kernel': 'rbf'}\n",
      "0.5000 (+/-0.0000) for {'C': 512, 'gamma': 0.5, 'kernel': 'rbf'}\n",
      "0.5000 (+/-0.0000) for {'C': 512, 'gamma': 2, 'kernel': 'rbf'}\n",
      "0.5000 (+/-0.0000) for {'C': 512, 'gamma': 8, 'kernel': 'rbf'}\n",
      "0.9578 (+/-0.0630) for {'C': 2048, 'gamma': 3.0517578125e-05, 'kernel': 'rbf'}\n",
      "0.9415 (+/-0.0852) for {'C': 2048, 'gamma': 0.0001220703125, 'kernel': 'rbf'}\n",
      "0.9367 (+/-0.0644) for {'C': 2048, 'gamma': 0.00048828125, 'kernel': 'rbf'}\n",
      "0.9416 (+/-0.0677) for {'C': 2048, 'gamma': 0.001953125, 'kernel': 'rbf'}\n",
      "0.9479 (+/-0.0541) for {'C': 2048, 'gamma': 0.0078125, 'kernel': 'rbf'}\n",
      "0.9526 (+/-0.0504) for {'C': 2048, 'gamma': 0.03125, 'kernel': 'rbf'}\n",
      "0.5064 (+/-0.0252) for {'C': 2048, 'gamma': 0.125, 'kernel': 'rbf'}\n",
      "0.5000 (+/-0.0000) for {'C': 2048, 'gamma': 0.5, 'kernel': 'rbf'}\n",
      "0.5000 (+/-0.0000) for {'C': 2048, 'gamma': 2, 'kernel': 'rbf'}\n",
      "0.5000 (+/-0.0000) for {'C': 2048, 'gamma': 8, 'kernel': 'rbf'}\n",
      "0.9364 (+/-0.0810) for {'C': 8192, 'gamma': 3.0517578125e-05, 'kernel': 'rbf'}\n",
      "0.9415 (+/-0.0852) for {'C': 8192, 'gamma': 0.0001220703125, 'kernel': 'rbf'}\n",
      "0.9367 (+/-0.0644) for {'C': 8192, 'gamma': 0.00048828125, 'kernel': 'rbf'}\n",
      "0.9416 (+/-0.0677) for {'C': 8192, 'gamma': 0.001953125, 'kernel': 'rbf'}\n",
      "0.9479 (+/-0.0541) for {'C': 8192, 'gamma': 0.0078125, 'kernel': 'rbf'}\n",
      "0.9526 (+/-0.0504) for {'C': 8192, 'gamma': 0.03125, 'kernel': 'rbf'}\n",
      "0.5064 (+/-0.0252) for {'C': 8192, 'gamma': 0.125, 'kernel': 'rbf'}\n",
      "0.5000 (+/-0.0000) for {'C': 8192, 'gamma': 0.5, 'kernel': 'rbf'}\n",
      "0.5000 (+/-0.0000) for {'C': 8192, 'gamma': 2, 'kernel': 'rbf'}\n",
      "0.5000 (+/-0.0000) for {'C': 8192, 'gamma': 8, 'kernel': 'rbf'}\n",
      "0.9235 (+/-0.1118) for {'C': 32768, 'gamma': 3.0517578125e-05, 'kernel': 'rbf'}\n",
      "0.9415 (+/-0.0852) for {'C': 32768, 'gamma': 0.0001220703125, 'kernel': 'rbf'}\n",
      "0.9367 (+/-0.0644) for {'C': 32768, 'gamma': 0.00048828125, 'kernel': 'rbf'}\n",
      "0.9416 (+/-0.0677) for {'C': 32768, 'gamma': 0.001953125, 'kernel': 'rbf'}\n",
      "0.9479 (+/-0.0541) for {'C': 32768, 'gamma': 0.0078125, 'kernel': 'rbf'}\n",
      "0.9526 (+/-0.0504) for {'C': 32768, 'gamma': 0.03125, 'kernel': 'rbf'}\n",
      "0.5064 (+/-0.0252) for {'C': 32768, 'gamma': 0.125, 'kernel': 'rbf'}\n",
      "0.5000 (+/-0.0000) for {'C': 32768, 'gamma': 0.5, 'kernel': 'rbf'}\n",
      "0.5000 (+/-0.0000) for {'C': 32768, 'gamma': 2, 'kernel': 'rbf'}\n",
      "0.5000 (+/-0.0000) for {'C': 32768, 'gamma': 8, 'kernel': 'rbf'}\n",
      "\n",
      "Detailed classification report:\n",
      "\n",
      "The model is trained on the full development set.\n",
      "The scores are computed on the full evaluation set.\n",
      "\n",
      "             precision    recall  f1-score   support\n",
      "\n",
      "          0       0.95      0.99      0.97       142\n",
      "          1       0.97      0.90      0.94        84\n",
      "\n",
      "avg / total       0.96      0.96      0.96       226\n",
      "\n",
      "\n"
     ]
    }
   ],
   "source": [
    "print(__doc__)\n",
    "\n",
    "# Loading the Digits dataset\n",
    "#digits = datasets.load_digits()\n",
    "\n",
    "# To apply an classifier on this data, we need to flatten the image, to\n",
    "# turn the data in a (samples, feature) matrix:\n",
    "\n",
    "\n",
    "# Set the parameters by cross-validation\n",
    "tuned_parameters2 = [{'kernel': ['rbf'], 'gamma': gamma_range,\n",
    "                     'C': C_range},]\n",
    "\n",
    "scores = ['recall']\n",
    "\n",
    "for score in scores:\n",
    "    print(\"# Tuning hyper-parameters for %s\" % score)\n",
    "    print()\n",
    "\n",
    "    clf2 = GridSearchCV(svr, tuned_parameters2, cv=10,\n",
    "                       scoring='%s_macro' % score)\n",
    "    clf2.fit(X_train, y_train)\n",
    "\n",
    "    print(\"Best parameters set found on development set:\")\n",
    "    print()\n",
    "    print(clf2.best_params_)\n",
    "    print()\n",
    "    print(\"Grid scores on development set:\")\n",
    "    print()\n",
    "    means = clf2.cv_results_['mean_test_score']\n",
    "    stds = clf2.cv_results_['std_test_score']\n",
    "    for mean, std, params in zip(means, stds, clf2.cv_results_['params']):\n",
    "        print(\"%0.4f (+/-%0.04f) for %r\"\n",
    "              % (mean, std * 2, params))\n",
    "    print()\n",
    "\n",
    "    print(\"Detailed classification report:\")\n",
    "    print()\n",
    "    print(\"The model is trained on the full development set.\")\n",
    "    print(\"The scores are computed on the full evaluation set.\")\n",
    "    print()\n",
    "    y_true, y_pred2 = y_test, clf2.predict(X_test)\n",
    "    print(classification_report(y_true, y_pred2))\n",
    "    print()"
   ]
  },
  {
   "cell_type": "code",
   "execution_count": 14,
   "metadata": {
    "collapsed": false
   },
   "outputs": [
    {
     "name": "stdout",
     "output_type": "stream",
     "text": [
      "Best recall obtained: 0.9739742888402626\n",
      "Parameters:\n",
      "\tC: 32\n",
      "\tgamma: 3.0517578125e-05\n",
      "\tkernel: rbf\n"
     ]
    }
   ],
   "source": [
    "print(\"Best recall obtained: {0}\".format(clf2.best_score_))\n",
    "print(\"Parameters:\")\n",
    "for key, value in clf2.best_params_.items():\n",
    "    print(\"\\t{}: {}\".format(key, value))"
   ]
  },
  {
   "cell_type": "code",
   "execution_count": 15,
   "metadata": {
    "collapsed": false
   },
   "outputs": [
    {
     "data": {
      "text/plain": [
       "SVC(C=32, cache_size=200, class_weight=None, coef0=0.0,\n",
       "  decision_function_shape=None, degree=3, gamma=3.0517578125e-05,\n",
       "  kernel='rbf', max_iter=-1, probability=False, random_state=None,\n",
       "  shrinking=True, tol=0.001, verbose=False)"
      ]
     },
     "execution_count": 15,
     "metadata": {},
     "output_type": "execute_result"
    }
   ],
   "source": [
    "clf2.best_estimator_"
   ]
  },
  {
   "cell_type": "code",
   "execution_count": 16,
   "metadata": {
    "collapsed": false
   },
   "outputs": [],
   "source": [
    "ac=svm.SVC(C=32, cache_size=200, class_weight=None, coef0=0.0,\n",
    "  decision_function_shape=None, degree=3, gamma=3.0517578125e-05,\n",
    "  kernel='rbf', max_iter=-1, probability=False, random_state=None,\n",
    "  shrinking=True, tol=0.001, verbose=False)"
   ]
  },
  {
   "cell_type": "code",
   "execution_count": 17,
   "metadata": {
    "collapsed": false
   },
   "outputs": [
    {
     "data": {
      "text/plain": [
       "SVC(C=32, cache_size=200, class_weight=None, coef0=0.0,\n",
       "  decision_function_shape=None, degree=3, gamma=3.0517578125e-05,\n",
       "  kernel='rbf', max_iter=-1, probability=False, random_state=None,\n",
       "  shrinking=True, tol=0.001, verbose=False)"
      ]
     },
     "execution_count": 17,
     "metadata": {},
     "output_type": "execute_result"
    }
   ],
   "source": [
    "ac.fit(X_train,y_train)"
   ]
  },
  {
   "cell_type": "code",
   "execution_count": 18,
   "metadata": {
    "collapsed": false
   },
   "outputs": [
    {
     "name": "stdout",
     "output_type": "stream",
     "text": [
      "Akurasi: 0.9781\n",
      "Precision: 0.9618\n",
      "Recall: 0.9742\n",
      "F1: 0.9679\n"
     ]
    }
   ],
   "source": [
    "y_predtr = ac.predict(X_train)\n",
    "accuracy = accuracy_score(y_train, y_predtr)\n",
    "precision, recall, f1, _ = precision_recall_fscore_support(y_train, y_predtr)\n",
    "print (('Akurasi: %.4f') % (accuracy))\n",
    "print (('Precision: %.4f') % (precision[1]))\n",
    "print (('Recall: %.4f') % (recall[1]))\n",
    "print (('F1: %.4f') % (f1[1]))"
   ]
  },
  {
   "cell_type": "code",
   "execution_count": 19,
   "metadata": {
    "collapsed": false
   },
   "outputs": [
    {
     "data": {
      "text/plain": [
       "array([[296,   6],\n",
       "       [  4, 151]])"
      ]
     },
     "execution_count": 19,
     "metadata": {},
     "output_type": "execute_result"
    }
   ],
   "source": [
    "from sklearn.metrics import confusion_matrix\n",
    "confusion_matrix(y_train, y_predtr)"
   ]
  },
  {
   "cell_type": "code",
   "execution_count": 20,
   "metadata": {
    "collapsed": false
   },
   "outputs": [
    {
     "name": "stdout",
     "output_type": "stream",
     "text": [
      "Akurasi: 0.9558\n",
      "Precision: 0.9744\n",
      "Recall: 0.9048\n",
      "F1: 0.9383\n"
     ]
    }
   ],
   "source": [
    "y_predac = ac.predict(X_test)\n",
    "accuracy = accuracy_score(y_test, y_predac)\n",
    "precision, recall, f1, _ = precision_recall_fscore_support(y_test, y_predac)\n",
    "print (('Akurasi: %.4f') % (accuracy))\n",
    "print (('Precision: %.4f') % (precision[1]))\n",
    "print (('Recall: %.4f') % (recall[1]))\n",
    "print (('F1: %.4f') % (f1[1]))"
   ]
  },
  {
   "cell_type": "code",
   "execution_count": 21,
   "metadata": {
    "collapsed": true
   },
   "outputs": [],
   "source": [
    "from sklearn.model_selection import cross_val_score\n",
    "scores=cross_val_score(ac,X_train,y_train,cv=10)"
   ]
  },
  {
   "cell_type": "code",
   "execution_count": 22,
   "metadata": {
    "collapsed": false
   },
   "outputs": [
    {
     "name": "stdout",
     "output_type": "stream",
     "text": [
      "Accuracy: 0.9759 (+/- 0.0416)\n"
     ]
    }
   ],
   "source": [
    "print(\"Accuracy: %0.4f (+/- %0.4f)\" % (scores.mean(), scores.std() * 2))"
   ]
  },
  {
   "cell_type": "code",
   "execution_count": 23,
   "metadata": {
    "collapsed": false
   },
   "outputs": [],
   "source": [
    "scores2=cross_val_score(ac,X_train,y_train,cv=10,scoring='recall')"
   ]
  },
  {
   "cell_type": "code",
   "execution_count": 24,
   "metadata": {
    "collapsed": false
   },
   "outputs": [
    {
     "name": "stdout",
     "output_type": "stream",
     "text": [
      "recall: 0.9679 (+/- 0.0642)\n"
     ]
    }
   ],
   "source": [
    "print(\"recall: %0.4f (+/- %0.4f)\" % (scores2.mean(), scores2.std() * 2))"
   ]
  },
  {
   "cell_type": "code",
   "execution_count": 25,
   "metadata": {
    "collapsed": true
   },
   "outputs": [],
   "source": [
    "scores3=cross_val_score(ac,X_train,y_train,cv=10,scoring='precision')"
   ]
  },
  {
   "cell_type": "code",
   "execution_count": 26,
   "metadata": {
    "collapsed": false
   },
   "outputs": [
    {
     "name": "stdout",
     "output_type": "stream",
     "text": [
      "precision: 0.9639 (+/- 0.0954)\n"
     ]
    }
   ],
   "source": [
    "print(\"precision: %0.4f (+/- %0.4f)\" % (scores3.mean(), scores3.std() * 2))"
   ]
  },
  {
   "cell_type": "code",
   "execution_count": 27,
   "metadata": {
    "collapsed": true
   },
   "outputs": [],
   "source": [
    "scores4=cross_val_score(ac,X_train,y_train,cv=10,scoring='f1')"
   ]
  },
  {
   "cell_type": "code",
   "execution_count": 28,
   "metadata": {
    "collapsed": false
   },
   "outputs": [
    {
     "name": "stdout",
     "output_type": "stream",
     "text": [
      "F1: 0.9651 (+/- 0.0595)\n"
     ]
    }
   ],
   "source": [
    "print(\"F1: %0.4f (+/- %0.4f)\" % (scores4.mean(), scores4.std() * 2))"
   ]
  },
  {
   "cell_type": "code",
   "execution_count": 29,
   "metadata": {
    "collapsed": false
   },
   "outputs": [],
   "source": [
    "classifier=ac"
   ]
  },
  {
   "cell_type": "code",
   "execution_count": 30,
   "metadata": {
    "collapsed": true
   },
   "outputs": [],
   "source": [
    "names='SVM-RBF-Dataset B'"
   ]
  },
  {
   "cell_type": "code",
   "execution_count": 31,
   "metadata": {
    "collapsed": false
   },
   "outputs": [
    {
     "data": {
      "text/plain": [
       "SVC(C=32, cache_size=200, class_weight=None, coef0=0.0,\n",
       "  decision_function_shape=None, degree=3, gamma=3.0517578125e-05,\n",
       "  kernel='rbf', max_iter=-1, probability=True, random_state=None,\n",
       "  shrinking=True, tol=0.001, verbose=False)"
      ]
     },
     "execution_count": 31,
     "metadata": {},
     "output_type": "execute_result"
    }
   ],
   "source": [
    "ac=svm.SVC(C=32, cache_size=200, class_weight=None, coef0=0.0,\n",
    "  decision_function_shape=None, degree=3, gamma=3.0517578125e-05,\n",
    "  kernel='rbf', max_iter=-1, probability=True, random_state=None,\n",
    "  shrinking=True, tol=0.001, verbose=False)\n",
    "ac.fit(X_train,y_train)"
   ]
  },
  {
   "cell_type": "code",
   "execution_count": 32,
   "metadata": {
    "collapsed": true
   },
   "outputs": [],
   "source": [
    "score=ac.predict_proba(X_test)"
   ]
  },
  {
   "cell_type": "code",
   "execution_count": 34,
   "metadata": {
    "collapsed": false
   },
   "outputs": [
    {
     "data": {
      "image/png": "[encoded data removed]",
      "text/plain": [
       "<matplotlib.figure.Figure at 0xb5e3780>"
      ]
     },
     "metadata": {},
     "output_type": "display_data"
    }
   ],
   "source": [
    "from sklearn.metrics import roc_curve, roc_auc_score\n",
    "fig, ax = plt.subplots()\n",
    "fig.set_size_inches(10,10)\n",
    "fpr, tpr, thresholds = roc_curve(y_test, score[:,1])\n",
    "auc = roc_auc_score(y_test, score[:,1])\n",
    "plt.plot(fpr*100, tpr*100, label='%s (area = %.2f)' % (names, auc*100))\n",
    "plt.rc('xtick',labelsize=20)\n",
    "plt.rc('ytick',labelsize=20)\n",
    "plt.legend(prop={'size':14})\n",
    "ax.set_xlabel('False Positive Rate',fontsize=20)\n",
    "ax.set_ylabel('True Positive Rate',fontsize=20)\n",
    "plt.show()"
   ]
  },
  {
   "cell_type": "code",
   "execution_count": null,
   "metadata": {
    "collapsed": true
   },
   "outputs": [],
   "source": []
  }
 ],
 "metadata": {
  "anaconda-cloud": {},
  "kernelspec": {
   "display_name": "Python 3",
   "language": "python",
   "name": "python3"
  },
  "language_info": {
   "codemirror_mode": {
    "name": "ipython",
    "version": 3
   },
   "file_extension": ".py",
   "mimetype": "text/x-python",
   "name": "python",
   "nbconvert_exporter": "python",
   "pygments_lexer": "ipython3",
   "version": "3.5.3"
  }
 },
 "nbformat": 4,
 "nbformat_minor": 1
}
