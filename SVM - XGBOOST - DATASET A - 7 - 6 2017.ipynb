{
 "cells": [
  {
   "cell_type": "code",
   "execution_count": 1,
   "metadata": {
    "collapsed": true
   },
   "outputs": [],
   "source": [
    "import pandas as pd\n",
    "import numpy as np\n",
    "import matplotlib.pyplot as plt\n",
    "from scipy import stats\n",
    "import pylab as pl\n",
    "from sklearn.model_selection import train_test_split\n",
    "from sklearn.svm import SVC\n",
    "from sklearn.metrics import accuracy_score, precision_recall_fscore_support\n",
    "from sklearn import metrics\n",
    "from sklearn.model_selection import GridSearchCV\n",
    "from __future__ import print_function\n",
    "from sklearn.metrics import classification_report\n",
    "from sklearn.metrics import confusion_matrix\n",
    "from sklearn.metrics import make_scorer\n",
    "from sklearn.model_selection import cross_val_score\n",
    "from sklearn.metrics import roc_curve, roc_auc_score"
   ]
  },
  {
   "cell_type": "code",
   "execution_count": 2,
   "metadata": {
    "collapsed": true
   },
   "outputs": [],
   "source": [
    "dfA = pd.read_csv(\"wbc.csv\")\n",
    "dfA=dfA.replace('?',np.nan)\n",
    "dfA['bare_nuclei'] = pd.to_numeric(dfA.bare_nuclei.fillna(dfA.bare_nuclei.median()))"
   ]
  },
  {
   "cell_type": "code",
   "execution_count": 3,
   "metadata": {
    "collapsed": true
   },
   "outputs": [],
   "source": [
    "X = dfA.drop([dfA.columns[-1]], axis=1)\n",
    "y = dfA.jenis.map({2: 0, 4: 1})"
   ]
  },
  {
   "cell_type": "code",
   "execution_count": 4,
   "metadata": {
    "collapsed": true
   },
   "outputs": [],
   "source": [
    "RAND_SEED_SPLIT = RAND_SEED_TUNING = 84"
   ]
  },
  {
   "cell_type": "code",
   "execution_count": 5,
   "metadata": {
    "collapsed": true
   },
   "outputs": [],
   "source": [
    "X_train, X_test, y_train, y_test = train_test_split(X, y,test_size=0.33, random_state=RAND_SEED_SPLIT)"
   ]
  },
  {
   "cell_type": "code",
   "execution_count": 6,
   "metadata": {
    "collapsed": false
   },
   "outputs": [],
   "source": [
    "svc=SVC()"
   ]
  },
  {
   "cell_type": "code",
   "execution_count": 7,
   "metadata": {
    "collapsed": true
   },
   "outputs": [],
   "source": [
    "C_range= [2**i for i in [-5, -3, -1, 1, 3, 5, 7, 9, 11, 13, 15]]\n",
    "gamma_range= [2**i for i in [-15, -13, -11, -9, -7, -5, -3, -1, 1, 3]]"
   ]
  },
  {
   "cell_type": "code",
   "execution_count": 8,
   "metadata": {
    "collapsed": true
   },
   "outputs": [],
   "source": [
    "def cost_breast_cancer(y_true, y_pred):\n",
    "    CM = confusion_matrix(y_true, y_pred)\n",
    "    FN = CM[1][0]\n",
    "    FP = CM[0][1]\n",
    "    costBC=((-1*((228.35*FP)+(2850000*FN))))\n",
    "    return costBC"
   ]
  },
  {
   "cell_type": "code",
   "execution_count": 9,
   "metadata": {
    "collapsed": true
   },
   "outputs": [],
   "source": [
    "def specificity(y_true, y_pred):\n",
    "    CM = confusion_matrix(y_true, y_pred)\n",
    "    TN = CM[0][0]\n",
    "    FN = CM[1][0]\n",
    "    TP = CM[1][1]\n",
    "    FP = CM[0][1]\n",
    "    nilai=(TN/(FP+TN))\n",
    "    return nilai"
   ]
  },
  {
   "cell_type": "code",
   "execution_count": 10,
   "metadata": {
    "collapsed": true
   },
   "outputs": [],
   "source": [
    "def output_score(y_true, y_pred):\n",
    "    CM = confusion_matrix(y_true, y_pred)\n",
    "    TN = CM[0][0]\n",
    "    FN = CM[1][0]\n",
    "    TP = CM[1][1]\n",
    "    FP = CM[0][1]\n",
    "    specificity=(TN/(FP+TN))\n",
    "    sensitivity=(TP/(TP+FN))\n",
    "    accuracy=((TP+TN)/(TP+FP+TN+FN))\n",
    "    costBC=((-1*((228.35*FP)+(2850000*FN))))\n",
    "    return (specificity, sensitivity, accuracy, costBC)"
   ]
  },
  {
   "cell_type": "code",
   "execution_count": 11,
   "metadata": {
    "collapsed": false
   },
   "outputs": [],
   "source": [
    "my_custom_scorer=make_scorer(cost_breast_cancer, greater_is_better=True)\n",
    "score_specificity=make_scorer(specificity, greater_is_better=True)\n",
    "output_scoring=make_scorer(output_score, greater_is_better=True)"
   ]
  },
  {
   "cell_type": "code",
   "execution_count": 11,
   "metadata": {
    "collapsed": false
   },
   "outputs": [
    {
     "name": "stdout",
     "output_type": "stream",
     "text": [
      "Automatically created module for IPython interactive environment\n",
      "# Tuning hyper-parameters for make_scorer(cost_breast_cancer)\n",
      "\n",
      "Best parameters set found on development set:\n",
      "\n",
      "{'gamma': 0.125, 'kernel': 'rbf', 'C': 0.5}\n",
      "\n",
      "Grid scores on development set:\n",
      "\n",
      "-47329487.179 (+/-2784178.556) for {'gamma': 3.0517578125e-05, 'kernel': 'rbf', 'C': 0.03125}\n",
      "-47329487.179 (+/-2784178.556) for {'gamma': 0.0001220703125, 'kernel': 'rbf', 'C': 0.03125}\n",
      "-44771794.872 (+/-4444027.676) for {'gamma': 0.00048828125, 'kernel': 'rbf', 'C': 0.03125}\n",
      "-5164239.672 (+/-6631463.620) for {'gamma': 0.001953125, 'kernel': 'rbf', 'C': 0.03125}\n",
      "-1717536.042 (+/-2789393.112) for {'gamma': 0.0078125, 'kernel': 'rbf', 'C': 0.03125}\n",
      "-852976.889 (+/-2610192.197) for {'gamma': 0.03125, 'kernel': 'rbf', 'C': 0.03125}\n",
      "-641.137 (+/-860.823) for {'gamma': 0.125, 'kernel': 'rbf', 'C': 0.03125}\n",
      "-47329487.179 (+/-2784178.556) for {'gamma': 0.5, 'kernel': 'rbf', 'C': 0.03125}\n",
      "-47329487.179 (+/-2784178.556) for {'gamma': 2, 'kernel': 'rbf', 'C': 0.03125}\n",
      "-47329487.179 (+/-2784178.556) for {'gamma': 8, 'kernel': 'rbf', 'C': 0.03125}\n",
      "-47329487.179 (+/-2784178.556) for {'gamma': 3.0517578125e-05, 'kernel': 'rbf', 'C': 0.125}\n",
      "-41355448.718 (+/-7731077.592) for {'gamma': 0.0001220703125, 'kernel': 'rbf', 'C': 0.125}\n",
      "-5444367.877 (+/-7378615.825) for {'gamma': 0.00048828125, 'kernel': 'rbf', 'C': 0.125}\n",
      "-2283813.886 (+/-4252853.253) for {'gamma': 0.001953125, 'kernel': 'rbf', 'C': 0.125}\n",
      "-1145123.077 (+/-2794535.107) for {'gamma': 0.0078125, 'kernel': 'rbf', 'C': 0.125}\n",
      "-852931.024 (+/-2610154.097) for {'gamma': 0.03125, 'kernel': 'rbf', 'C': 0.125}\n",
      "-732.379 (+/-811.303) for {'gamma': 0.125, 'kernel': 'rbf', 'C': 0.125}\n",
      "-1186.639 (+/-733.105) for {'gamma': 0.5, 'kernel': 'rbf', 'C': 0.125}\n",
      "-47329487.179 (+/-2784178.556) for {'gamma': 2, 'kernel': 'rbf', 'C': 0.125}\n",
      "-47329487.179 (+/-2784178.556) for {'gamma': 8, 'kernel': 'rbf', 'C': 0.125}\n",
      "-41075320.513 (+/-8118548.696) for {'gamma': 3.0517578125e-05, 'kernel': 'rbf', 'C': 0.5}\n",
      "-5444367.877 (+/-7378615.825) for {'gamma': 0.0001220703125, 'kernel': 'rbf', 'C': 0.5}\n",
      "-2576121.579 (+/-4733000.928) for {'gamma': 0.00048828125, 'kernel': 'rbf', 'C': 0.5}\n",
      "-2003708.126 (+/-3648246.553) for {'gamma': 0.001953125, 'kernel': 'rbf', 'C': 0.5}\n",
      "-1145123.077 (+/-2794535.107) for {'gamma': 0.0078125, 'kernel': 'rbf', 'C': 0.5}\n",
      "-852907.603 (+/-2610184.689) for {'gamma': 0.03125, 'kernel': 'rbf', 'C': 0.5}\n",
      "-595.271 (+/-795.426) for {'gamma': 0.125, 'kernel': 'rbf', 'C': 0.5}\n",
      "-1302.766 (+/-795.328) for {'gamma': 0.5, 'kernel': 'rbf', 'C': 0.5}\n",
      "-47329487.179 (+/-2784178.556) for {'gamma': 2, 'kernel': 'rbf', 'C': 0.5}\n",
      "-47329487.179 (+/-2784178.556) for {'gamma': 8, 'kernel': 'rbf', 'C': 0.5}\n",
      "-5444367.877 (+/-7378615.825) for {'gamma': 3.0517578125e-05, 'kernel': 'rbf', 'C': 2}\n",
      "-2576121.579 (+/-4733000.928) for {'gamma': 0.0001220703125, 'kernel': 'rbf', 'C': 2}\n",
      "-2003708.126 (+/-3648246.553) for {'gamma': 0.00048828125, 'kernel': 'rbf', 'C': 2}\n",
      "-1431295.649 (+/-3827386.808) for {'gamma': 0.001953125, 'kernel': 'rbf', 'C': 2}\n",
      "-1139033.334 (+/-3784571.430) for {'gamma': 0.0078125, 'kernel': 'rbf', 'C': 2}\n",
      "-1437499.080 (+/-3845458.834) for {'gamma': 0.03125, 'kernel': 'rbf', 'C': 2}\n",
      "-572893.085 (+/-2283874.304) for {'gamma': 0.125, 'kernel': 'rbf', 'C': 2}\n",
      "-937.796 (+/-692.059) for {'gamma': 0.5, 'kernel': 'rbf', 'C': 2}\n",
      "-1735.558 (+/-622.068) for {'gamma': 2, 'kernel': 'rbf', 'C': 2}\n",
      "-2948.057 (+/-689.987) for {'gamma': 8, 'kernel': 'rbf', 'C': 2}\n",
      "-2576121.579 (+/-4733000.928) for {'gamma': 3.0517578125e-05, 'kernel': 'rbf', 'C': 8}\n",
      "-2003708.126 (+/-3648246.553) for {'gamma': 0.0001220703125, 'kernel': 'rbf', 'C': 8}\n",
      "-1711423.854 (+/-4550640.464) for {'gamma': 0.00048828125, 'kernel': 'rbf', 'C': 8}\n",
      "-1419138.606 (+/-4586623.309) for {'gamma': 0.001953125, 'kernel': 'rbf', 'C': 8}\n",
      "-2015955.923 (+/-4462935.579) for {'gamma': 0.0078125, 'kernel': 'rbf', 'C': 8}\n",
      "-2862544.457 (+/-4409070.456) for {'gamma': 0.03125, 'kernel': 'rbf', 'C': 8}\n",
      "-572893.085 (+/-2283874.304) for {'gamma': 0.125, 'kernel': 'rbf', 'C': 8}\n",
      "-937.796 (+/-692.059) for {'gamma': 0.5, 'kernel': 'rbf', 'C': 8}\n",
      "-1735.558 (+/-622.068) for {'gamma': 2, 'kernel': 'rbf', 'C': 8}\n",
      "-2948.057 (+/-689.987) for {'gamma': 8, 'kernel': 'rbf', 'C': 8}\n",
      "-2003708.126 (+/-3648246.553) for {'gamma': 3.0517578125e-05, 'kernel': 'rbf', 'C': 32}\n",
      "-1711423.854 (+/-4550640.464) for {'gamma': 0.0001220703125, 'kernel': 'rbf', 'C': 32}\n",
      "-1419138.606 (+/-4586623.309) for {'gamma': 0.00048828125, 'kernel': 'rbf', 'C': 32}\n",
      "-1431341.026 (+/-3827455.551) for {'gamma': 0.001953125, 'kernel': 'rbf', 'C': 32}\n",
      "-2582324.521 (+/-5937756.087) for {'gamma': 0.0078125, 'kernel': 'rbf', 'C': 32}\n",
      "-3148762.406 (+/-4727417.044) for {'gamma': 0.03125, 'kernel': 'rbf', 'C': 32}\n",
      "-572893.085 (+/-2283874.304) for {'gamma': 0.125, 'kernel': 'rbf', 'C': 32}\n",
      "-937.796 (+/-692.059) for {'gamma': 0.5, 'kernel': 'rbf', 'C': 32}\n",
      "-1735.558 (+/-622.068) for {'gamma': 2, 'kernel': 'rbf', 'C': 32}\n",
      "-2948.057 (+/-689.987) for {'gamma': 8, 'kernel': 'rbf', 'C': 32}\n",
      "-1711423.854 (+/-4550640.464) for {'gamma': 3.0517578125e-05, 'kernel': 'rbf', 'C': 128}\n",
      "-1419116.162 (+/-4586539.508) for {'gamma': 0.0001220703125, 'kernel': 'rbf', 'C': 128}\n",
      "-1419138.606 (+/-4586623.309) for {'gamma': 0.00048828125, 'kernel': 'rbf', 'C': 128}\n",
      "-2576212.333 (+/-5930966.737) for {'gamma': 0.001953125, 'kernel': 'rbf', 'C': 128}\n",
      "-4007393.319 (+/-5790027.281) for {'gamma': 0.0078125, 'kernel': 'rbf', 'C': 128}\n",
      "-3148762.406 (+/-4727417.044) for {'gamma': 0.03125, 'kernel': 'rbf', 'C': 128}\n",
      "-572893.085 (+/-2283874.304) for {'gamma': 0.125, 'kernel': 'rbf', 'C': 128}\n",
      "-937.796 (+/-692.059) for {'gamma': 0.5, 'kernel': 'rbf', 'C': 128}\n",
      "-1735.558 (+/-622.068) for {'gamma': 2, 'kernel': 'rbf', 'C': 128}\n",
      "-2948.057 (+/-689.987) for {'gamma': 8, 'kernel': 'rbf', 'C': 128}\n",
      "-1711423.854 (+/-4550640.464) for {'gamma': 3.0517578125e-05, 'kernel': 'rbf', 'C': 512}\n",
      "-1419138.606 (+/-4586623.309) for {'gamma': 0.0001220703125, 'kernel': 'rbf', 'C': 512}\n",
      "-1711469.231 (+/-4550743.335) for {'gamma': 0.00048828125, 'kernel': 'rbf', 'C': 512}\n",
      "-3715063.670 (+/-5115312.477) for {'gamma': 0.001953125, 'kernel': 'rbf', 'C': 512}\n",
      "-4853867.678 (+/-5121088.269) for {'gamma': 0.0078125, 'kernel': 'rbf', 'C': 512}\n",
      "-3148762.406 (+/-4727417.044) for {'gamma': 0.03125, 'kernel': 'rbf', 'C': 512}\n",
      "-572893.085 (+/-2283874.304) for {'gamma': 0.125, 'kernel': 'rbf', 'C': 512}\n",
      "-937.796 (+/-692.059) for {'gamma': 0.5, 'kernel': 'rbf', 'C': 512}\n",
      "-1735.558 (+/-622.068) for {'gamma': 2, 'kernel': 'rbf', 'C': 512}\n",
      "-2948.057 (+/-689.987) for {'gamma': 8, 'kernel': 'rbf', 'C': 512}\n",
      "-1711446.299 (+/-4550719.160) for {'gamma': 3.0517578125e-05, 'kernel': 'rbf', 'C': 2048}\n",
      "-1419138.606 (+/-4586623.309) for {'gamma': 0.0001220703125, 'kernel': 'rbf', 'C': 2048}\n",
      "-2862430.282 (+/-6224065.762) for {'gamma': 0.00048828125, 'kernel': 'rbf', 'C': 2048}\n",
      "-4555447.798 (+/-4551929.341) for {'gamma': 0.001953125, 'kernel': 'rbf', 'C': 2048}\n",
      "-4853867.678 (+/-5121088.269) for {'gamma': 0.0078125, 'kernel': 'rbf', 'C': 2048}\n",
      "-3148762.406 (+/-4727417.044) for {'gamma': 0.03125, 'kernel': 'rbf', 'C': 2048}\n",
      "-572893.085 (+/-2283874.304) for {'gamma': 0.125, 'kernel': 'rbf', 'C': 2048}\n",
      "-937.796 (+/-692.059) for {'gamma': 0.5, 'kernel': 'rbf', 'C': 2048}\n",
      "-1735.558 (+/-622.068) for {'gamma': 2, 'kernel': 'rbf', 'C': 2048}\n",
      "-2948.057 (+/-689.987) for {'gamma': 8, 'kernel': 'rbf', 'C': 2048}\n",
      "-1711468.743 (+/-4550797.858) for {'gamma': 3.0517578125e-05, 'kernel': 'rbf', 'C': 8192}\n",
      "-1711469.231 (+/-4550743.335) for {'gamma': 0.0001220703125, 'kernel': 'rbf', 'C': 8192}\n",
      "-4281386.403 (+/-5236620.838) for {'gamma': 0.00048828125, 'kernel': 'rbf', 'C': 8192}\n",
      "-5688163.038 (+/-6224027.522) for {'gamma': 0.001953125, 'kernel': 'rbf', 'C': 8192}\n",
      "-4853867.678 (+/-5121088.269) for {'gamma': 0.0078125, 'kernel': 'rbf', 'C': 8192}\n",
      "-3148762.406 (+/-4727417.044) for {'gamma': 0.03125, 'kernel': 'rbf', 'C': 8192}\n",
      "-572893.085 (+/-2283874.304) for {'gamma': 0.125, 'kernel': 'rbf', 'C': 8192}\n",
      "-937.796 (+/-692.059) for {'gamma': 0.5, 'kernel': 'rbf', 'C': 8192}\n",
      "-1735.558 (+/-622.068) for {'gamma': 2, 'kernel': 'rbf', 'C': 8192}\n",
      "-2948.057 (+/-689.987) for {'gamma': 8, 'kernel': 'rbf', 'C': 8192}\n",
      "-1711446.299 (+/-4550777.830) for {'gamma': 3.0517578125e-05, 'kernel': 'rbf', 'C': 32768}\n",
      "-2862430.282 (+/-6224065.762) for {'gamma': 0.0001220703125, 'kernel': 'rbf', 'C': 32768}\n",
      "-5682073.294 (+/-7613535.826) for {'gamma': 0.00048828125, 'kernel': 'rbf', 'C': 32768}\n",
      "-5408012.388 (+/-5368065.955) for {'gamma': 0.001953125, 'kernel': 'rbf', 'C': 32768}\n",
      "-4853867.678 (+/-5121088.269) for {'gamma': 0.0078125, 'kernel': 'rbf', 'C': 32768}\n",
      "-3148762.406 (+/-4727417.044) for {'gamma': 0.03125, 'kernel': 'rbf', 'C': 32768}\n",
      "-572893.085 (+/-2283874.304) for {'gamma': 0.125, 'kernel': 'rbf', 'C': 32768}\n",
      "-937.796 (+/-692.059) for {'gamma': 0.5, 'kernel': 'rbf', 'C': 32768}\n",
      "-1735.558 (+/-622.068) for {'gamma': 2, 'kernel': 'rbf', 'C': 32768}\n",
      "-2948.057 (+/-689.987) for {'gamma': 8, 'kernel': 'rbf', 'C': 32768}\n",
      "\n"
     ]
    }
   ],
   "source": [
    "print(__doc__)\n",
    "\n",
    "tuned_parameters = [{'kernel': ['rbf'], 'gamma': gamma_range,\n",
    "                     'C': C_range},]\n",
    "\n",
    "scores = [my_custom_scorer]\n",
    "\n",
    "for score in scores:\n",
    "    print(\"# Tuning hyper-parameters for %s\" % score)\n",
    "    print()\n",
    "\n",
    "    clf2 = GridSearchCV(svc, tuned_parameters, cv=10,\n",
    "                       scoring=my_custom_scorer)\n",
    "    clf2.fit(X_train, y_train)\n",
    "\n",
    "    print(\"Best parameters set found on development set:\")\n",
    "    print()\n",
    "    print(clf2.best_params_)\n",
    "    print()\n",
    "    print(\"Grid scores on development set:\")\n",
    "    print()\n",
    "    means = clf2.cv_results_['mean_test_score']\n",
    "    stds = clf2.cv_results_['std_test_score']\n",
    "    for mean, std, params in zip(means, stds, clf2.cv_results_['params']):\n",
    "        print(\"%0.3f (+/-%0.03f) for %r\"\n",
    "              % (mean, std * 2, params))\n",
    "    print()\n"
   ]
  },
  {
   "cell_type": "code",
   "execution_count": 12,
   "metadata": {
    "collapsed": false
   },
   "outputs": [
    {
     "name": "stdout",
     "output_type": "stream",
     "text": [
      "Best score cost obtained: -595.2713675213676\n",
      "Parameters:\n",
      "\tgamma: 0.125\n",
      "\tkernel: rbf\n",
      "\tC: 0.5\n"
     ]
    }
   ],
   "source": [
    "print(\"Best score cost obtained: {0}\".format(clf2.best_score_))\n",
    "print(\"Parameters:\")\n",
    "for key, value in clf2.best_params_.items():\n",
    "    print(\"\\t{}: {}\".format(key, value))"
   ]
  },
  {
   "cell_type": "code",
   "execution_count": 13,
   "metadata": {
    "collapsed": false
   },
   "outputs": [
    {
     "data": {
      "text/plain": [
       "SVC(C=0.5, cache_size=200, class_weight=None, coef0=0.0,\n",
       "  decision_function_shape=None, degree=3, gamma=0.125, kernel='rbf',\n",
       "  max_iter=-1, probability=False, random_state=None, shrinking=True,\n",
       "  tol=0.001, verbose=False)"
      ]
     },
     "execution_count": 13,
     "metadata": {},
     "output_type": "execute_result"
    }
   ],
   "source": [
    "clf2.best_estimator_"
   ]
  },
  {
   "cell_type": "code",
   "execution_count": 12,
   "metadata": {
    "collapsed": true
   },
   "outputs": [],
   "source": [
    "bestSVC=SVC(C=0.5, cache_size=200, class_weight=None, coef0=0.0,\n",
    "  decision_function_shape=None, degree=3, gamma=0.125, kernel='rbf',\n",
    "  max_iter=-1, probability=True, random_state=None, shrinking=True,\n",
    "  tol=0.001, verbose=False)"
   ]
  },
  {
   "cell_type": "code",
   "execution_count": 13,
   "metadata": {
    "collapsed": false
   },
   "outputs": [
    {
     "data": {
      "text/plain": [
       "SVC(C=0.5, cache_size=200, class_weight=None, coef0=0.0,\n",
       "  decision_function_shape=None, degree=3, gamma=0.125, kernel='rbf',\n",
       "  max_iter=-1, probability=True, random_state=None, shrinking=True,\n",
       "  tol=0.001, verbose=False)"
      ]
     },
     "execution_count": 13,
     "metadata": {},
     "output_type": "execute_result"
    }
   ],
   "source": [
    "bestSVC.fit(X_train, y_train)"
   ]
  },
  {
   "cell_type": "code",
   "execution_count": 16,
   "metadata": {
    "collapsed": true
   },
   "outputs": [],
   "source": [
    "scores1=cross_val_score(bestSVC,X_train,y_train,cv=10,scoring=score_specificity)"
   ]
  },
  {
   "cell_type": "code",
   "execution_count": 17,
   "metadata": {
    "collapsed": false
   },
   "outputs": [
    {
     "name": "stdout",
     "output_type": "stream",
     "text": [
      "Score cost: 0.9139 (+/- 0.1163)\n"
     ]
    }
   ],
   "source": [
    "print(\"Score cost: %0.4f (+/- %0.4f)\" % (scores1.mean(), scores1.std() * 2))"
   ]
  },
  {
   "cell_type": "code",
   "execution_count": 18,
   "metadata": {
    "collapsed": true
   },
   "outputs": [],
   "source": [
    "scores2=cross_val_score(bestSVC,X_train,y_train,cv=10,scoring=my_custom_scorer)"
   ]
  },
  {
   "cell_type": "code",
   "execution_count": 19,
   "metadata": {
    "collapsed": false
   },
   "outputs": [
    {
     "name": "stdout",
     "output_type": "stream",
     "text": [
      "Score cost: -593.7100 (+/- 796.2837)\n"
     ]
    }
   ],
   "source": [
    "print(\"Score cost: %0.4f (+/- %0.4f)\" % (scores2.mean(), scores2.std() * 2))"
   ]
  },
  {
   "cell_type": "code",
   "execution_count": 20,
   "metadata": {
    "collapsed": true
   },
   "outputs": [],
   "source": [
    "scores3=cross_val_score(bestSVC,X_train,y_train,cv=10,scoring='recall')"
   ]
  },
  {
   "cell_type": "code",
   "execution_count": 21,
   "metadata": {
    "collapsed": false
   },
   "outputs": [
    {
     "name": "stdout",
     "output_type": "stream",
     "text": [
      "Score cost: 1.0000 (+/- 0.0000)\n"
     ]
    }
   ],
   "source": [
    "print(\"Score cost: %0.4f (+/- %0.4f)\" % (scores3.mean(), scores3.std() * 2))"
   ]
  },
  {
   "cell_type": "code",
   "execution_count": 22,
   "metadata": {
    "collapsed": true
   },
   "outputs": [],
   "source": [
    "scores4=cross_val_score(bestSVC,X_train,y_train,cv=10,scoring='accuracy')"
   ]
  },
  {
   "cell_type": "code",
   "execution_count": 23,
   "metadata": {
    "collapsed": false
   },
   "outputs": [
    {
     "name": "stdout",
     "output_type": "stream",
     "text": [
      "Score cost: 0.9446 (+/- 0.0743)\n"
     ]
    }
   ],
   "source": [
    "print(\"Score cost: %0.4f (+/- %0.4f)\" % (scores4.mean(), scores4.std() * 2))"
   ]
  },
  {
   "cell_type": "code",
   "execution_count": 14,
   "metadata": {
    "collapsed": false
   },
   "outputs": [
    {
     "name": "stdout",
     "output_type": "stream",
     "text": [
      "             precision    recall  f1-score   support\n",
      "\n",
      "          0       0.99      0.94      0.96       156\n",
      "          1       0.88      0.99      0.93        75\n",
      "\n",
      "avg / total       0.96      0.95      0.95       231\n",
      "\n",
      "Akurasi: 0.9524\n",
      "Precision: 0.8810\n",
      "Recall: 0.9867\n",
      "F1: 0.9308\n"
     ]
    },
    {
     "data": {
      "text/plain": [
       "(0.9358974358974359, 0.98666666666666669, 0.95238095238095233, -2852283.5)"
      ]
     },
     "execution_count": 14,
     "metadata": {},
     "output_type": "execute_result"
    }
   ],
   "source": [
    "y_predSVM = bestSVC.predict(X_test)\n",
    "accuracy = accuracy_score(y_test, y_predSVM)\n",
    "precision, recall, f1, _ = precision_recall_fscore_support(y_test, y_predSVM)\n",
    "print(classification_report(y_test, y_predSVM))\n",
    "print (('Akurasi: %.4f') % (accuracy))\n",
    "print (('Precision: %.4f') % (precision[1]))\n",
    "print (('Recall: %.4f') % (recall[1]))\n",
    "print (('F1: %.4f') % (f1[1]))\n",
    "output_score(y_test, y_predSVM)"
   ]
  },
  {
   "cell_type": "code",
   "execution_count": 15,
   "metadata": {
    "collapsed": false
   },
   "outputs": [
    {
     "data": {
      "text/plain": [
       "array([[146,  10],\n",
       "       [  1,  74]])"
      ]
     },
     "execution_count": 15,
     "metadata": {},
     "output_type": "execute_result"
    }
   ],
   "source": [
    "confusion_matrix(y_test, y_predSVM)"
   ]
  },
  {
   "cell_type": "code",
   "execution_count": null,
   "metadata": {
    "collapsed": true
   },
   "outputs": [],
   "source": []
  },
  {
   "cell_type": "code",
   "execution_count": 15,
   "metadata": {
    "collapsed": false
   },
   "outputs": [
    {
     "name": "stdout",
     "output_type": "stream",
     "text": [
      "             precision    recall  f1-score   support\n",
      "\n",
      "          0       0.99      0.94      0.96       156\n",
      "          1       0.88      0.99      0.93        75\n",
      "\n",
      "avg / total       0.96      0.95      0.95       231\n",
      "\n",
      "Akurasi: 0.9524\n",
      "Precision: 0.8810\n",
      "Recall: 0.9867\n",
      "F1: 0.9308\n"
     ]
    },
    {
     "data": {
      "text/plain": [
       "(0.9358974358974359, 0.98666666666666669, 0.95238095238095233, -2852283.5)"
      ]
     },
     "execution_count": 15,
     "metadata": {},
     "output_type": "execute_result"
    }
   ],
   "source": [
    "y_predSVM = bestSVC.predict(X_test)\n",
    "accuracy = accuracy_score(y_test, y_predSVM)\n",
    "precision, recall, f1, _ = precision_recall_fscore_support(y_test, y_predSVM)\n",
    "print(classification_report(y_test, y_predSVM))\n",
    "print (('Akurasi: %.4f') % (accuracy))\n",
    "print (('Precision: %.4f') % (precision[1]))\n",
    "print (('Recall: %.4f') % (recall[1]))\n",
    "print (('F1: %.4f') % (f1[1]))\n",
    "output_score(y_test, y_predSVM)"
   ]
  },
  {
   "cell_type": "code",
   "execution_count": 16,
   "metadata": {
    "collapsed": false
   },
   "outputs": [
    {
     "name": "stderr",
     "output_type": "stream",
     "text": [
      "c:\\users\\annisa\\anaconda3\\envs\\py35\\lib\\site-packages\\sklearn\\cross_validation.py:44: DeprecationWarning: This module was deprecated in version 0.18 in favor of the model_selection module into which all the refactored classes and functions are moved. Also note that the interface of the new CV iterators are different from that of this module. This module will be removed in 0.20.\n",
      "  \"This module will be removed in 0.20.\", DeprecationWarning)\n"
     ]
    }
   ],
   "source": [
    "from xgboost import XGBClassifier"
   ]
  },
  {
   "cell_type": "code",
   "execution_count": 17,
   "metadata": {
    "collapsed": true
   },
   "outputs": [],
   "source": [
    "from sklearn.model_selection import RandomizedSearchCV"
   ]
  },
  {
   "cell_type": "code",
   "execution_count": 18,
   "metadata": {
    "collapsed": true
   },
   "outputs": [],
   "source": [
    "from sklearn.cross_validation import StratifiedKFold"
   ]
  },
  {
   "cell_type": "code",
   "execution_count": 19,
   "metadata": {
    "collapsed": true
   },
   "outputs": [],
   "source": [
    "cv = StratifiedKFold(y_train, n_folds=10, shuffle=True, random_state=RAND_SEED_SPLIT)"
   ]
  },
  {
   "cell_type": "code",
   "execution_count": 20,
   "metadata": {
    "collapsed": true
   },
   "outputs": [],
   "source": [
    "classifier = XGBClassifier()"
   ]
  },
  {
   "cell_type": "code",
   "execution_count": 31,
   "metadata": {
    "collapsed": false
   },
   "outputs": [
    {
     "name": "stdout",
     "output_type": "stream",
     "text": [
      "Automatically created module for IPython interactive environment\n",
      "# Tuning hyper-parameters for make_scorer(cost_breast_cancer)\n",
      "\n",
      "Best parameters set found on development set:\n",
      "\n",
      "{'n_estimators': 10, 'reg_lambda': 0.01, 'subsample': 0.7, 'colsample_bytree': 0.5, 'scale_pos_weight': 1.0, 'reg_alpha': 0.001}\n",
      "\n",
      "Grid scores on development set:\n",
      "\n",
      "-1711445.323 (+/-3784255.368) for {'n_estimators': 10, 'reg_lambda': 0.01, 'subsample': 0.7, 'colsample_bytree': 0.5, 'scale_pos_weight': 1.0, 'reg_alpha': 0.001}\n",
      "-1991528.639 (+/-4444425.729) for {'n_estimators': 20, 'reg_lambda': 1.0, 'subsample': 0.5, 'colsample_bytree': 0.5, 'scale_pos_weight': 0.66666666666666674, 'reg_alpha': 5.0}\n",
      "-7697549.585 (+/-8096019.022) for {'n_estimators': 30, 'reg_lambda': 0.0, 'subsample': 0.8, 'colsample_bytree': 0.6, 'scale_pos_weight': 0.11111111111111116, 'reg_alpha': 0.005}\n",
      "-2277746.587 (+/-3426531.765) for {'n_estimators': 50, 'reg_lambda': 0.001, 'subsample': 0.7, 'colsample_bytree': 0.8, 'scale_pos_weight': 1.0, 'reg_alpha': 0.0}\n",
      "-47329487.179 (+/-2784178.556) for {'n_estimators': 10, 'reg_lambda': 5.0, 'subsample': 0.8, 'colsample_bytree': 0.8, 'scale_pos_weight': 0.0, 'reg_alpha': 5.0}\n",
      "-2844138.606 (+/-4416814.252) for {'n_estimators': 10, 'reg_lambda': 0.05, 'subsample': 1.0, 'colsample_bytree': 0.6, 'scale_pos_weight': 0.88888888888888884, 'reg_alpha': 0.001}\n",
      "-4829372.084 (+/-6275786.404) for {'n_estimators': 30, 'reg_lambda': 0.001, 'subsample': 0.7, 'colsample_bytree': 0.9, 'scale_pos_weight': 0.44444444444444442, 'reg_alpha': 10.0}\n",
      "-2844115.674 (+/-4416991.690) for {'n_estimators': 50, 'reg_lambda': 0.0, 'subsample': 0.5, 'colsample_bytree': 0.7, 'scale_pos_weight': 1.0, 'reg_alpha': 0.05}\n",
      "-2283836.331 (+/-4269036.647) for {'n_estimators': 20, 'reg_lambda': 0.0, 'subsample': 0.7, 'colsample_bytree': 0.6, 'scale_pos_weight': 0.77777777777777779, 'reg_alpha': 0.001}\n",
      "-2277746.587 (+/-3426606.437) for {'n_estimators': 30, 'reg_lambda': 10.0, 'subsample': 0.7, 'colsample_bytree': 0.5, 'scale_pos_weight': 0.55555555555555558, 'reg_alpha': 0.001}\n",
      "\n"
     ]
    }
   ],
   "source": [
    "print(__doc__)\n",
    "\n",
    "# Set the parameters by cross-validation\n",
    "tuned_parameters ={'n_estimators': [10,20,30,50],\n",
    "                    'subsample': [0.5, 0.6, 0.7, 0.8, 0.9, 1.],\n",
    "                    'colsample_bytree': [0.5, 0.6, 0.7, 0.8, 0.9, 1.],\n",
    "                    'reg_alpha': [0., 0.001, 0.005, 0.01, 0.05, 0.1, 0.5, 1., 5., 10.],\n",
    "                    'reg_lambda': [0., 0.001, 0.005, 0.01, 0.05, 0.1, 0.5, 1., 5., 10.],\n",
    "                    'scale_pos_weight': np.linspace(1., (y_train == 2).sum() / y_train.sum(), 10)\n",
    "                   }    \n",
    "\n",
    "                  \n",
    "params_fixed = {\n",
    "    'objective': 'binary:logistic',\n",
    "    'silent': 1\n",
    "}\n",
    "scores = [my_custom_scorer]\n",
    "\n",
    "for score in scores:\n",
    "    print(\"# Tuning hyper-parameters for %s\" % score)\n",
    "    print()\n",
    "\n",
    "    clf = RandomizedSearchCV(estimator=XGBClassifier(**params_fixed, seed=RAND_SEED_TUNING),\n",
    "    param_distributions=tuned_parameters, cv=cv, scoring=my_custom_scorer)\n",
    "    clf.fit(X_train, y_train)\n",
    "\n",
    "    print(\"Best parameters set found on development set:\")\n",
    "    print()\n",
    "    print(clf.best_params_)\n",
    "    print()\n",
    "    print(\"Grid scores on development set:\")\n",
    "    print()\n",
    "    means = clf.cv_results_['mean_test_score']\n",
    "    stds = clf.cv_results_['std_test_score']\n",
    "    for mean, std, params in zip(means, stds, clf.cv_results_['params']):\n",
    "        print(\"%0.3f (+/-%0.03f) for %r\"\n",
    "              % (mean, std * 2, params))\n",
    "    print()"
   ]
  },
  {
   "cell_type": "code",
   "execution_count": 32,
   "metadata": {
    "collapsed": false
   },
   "outputs": [
    {
     "name": "stdout",
     "output_type": "stream",
     "text": [
      "Best score cost obtained: -1711445.3228632482\n",
      "Parameters:\n",
      "\tn_estimators: 10\n",
      "\treg_lambda: 0.01\n",
      "\tsubsample: 0.7\n",
      "\tcolsample_bytree: 0.5\n",
      "\tscale_pos_weight: 1.0\n",
      "\treg_alpha: 0.001\n"
     ]
    }
   ],
   "source": [
    "print(\"Best score cost obtained: {0}\".format(clf.best_score_))\n",
    "print(\"Parameters:\")\n",
    "for key, value in clf.best_params_.items():\n",
    "    print(\"\\t{}: {}\".format(key, value))"
   ]
  },
  {
   "cell_type": "code",
   "execution_count": 33,
   "metadata": {
    "collapsed": false
   },
   "outputs": [
    {
     "data": {
      "text/plain": [
       "XGBClassifier(base_score=0.5, colsample_bylevel=1, colsample_bytree=0.5,\n",
       "       gamma=0, learning_rate=0.1, max_delta_step=0, max_depth=3,\n",
       "       min_child_weight=1, missing=None, n_estimators=10, nthread=-1,\n",
       "       objective='binary:logistic', reg_alpha=0.001, reg_lambda=0.01,\n",
       "       scale_pos_weight=1.0, seed=84, silent=1, subsample=0.7)"
      ]
     },
     "execution_count": 33,
     "metadata": {},
     "output_type": "execute_result"
    }
   ],
   "source": [
    "clf.best_estimator_"
   ]
  },
  {
   "cell_type": "code",
   "execution_count": 21,
   "metadata": {
    "collapsed": true
   },
   "outputs": [],
   "source": [
    "bestXGB=XGBClassifier(base_score=0.5, colsample_bylevel=1, colsample_bytree=0.5,\n",
    "       gamma=0, learning_rate=0.1, max_delta_step=0, max_depth=3,\n",
    "       min_child_weight=1, missing=None, n_estimators=10, nthread=-1,\n",
    "       objective='binary:logistic', reg_alpha=0.001, reg_lambda=0.01,\n",
    "       scale_pos_weight=1.0, seed=84, silent=1, subsample=0.7)"
   ]
  },
  {
   "cell_type": "code",
   "execution_count": 22,
   "metadata": {
    "collapsed": false
   },
   "outputs": [
    {
     "data": {
      "text/plain": [
       "XGBClassifier(base_score=0.5, colsample_bylevel=1, colsample_bytree=0.5,\n",
       "       gamma=0, learning_rate=0.1, max_delta_step=0, max_depth=3,\n",
       "       min_child_weight=1, missing=None, n_estimators=10, nthread=-1,\n",
       "       objective='binary:logistic', reg_alpha=0.001, reg_lambda=0.01,\n",
       "       scale_pos_weight=1.0, seed=84, silent=1, subsample=0.7)"
      ]
     },
     "execution_count": 22,
     "metadata": {},
     "output_type": "execute_result"
    }
   ],
   "source": [
    "bestXGB.fit(X_train, y_train)"
   ]
  },
  {
   "cell_type": "code",
   "execution_count": 36,
   "metadata": {
    "collapsed": false
   },
   "outputs": [
    {
     "name": "stdout",
     "output_type": "stream",
     "text": [
      "Specificity: 0.9668 (+/- 0.0422)\n",
      "Accuracy: 0.9657 (+/- 0.0393)\n",
      "Recall: 0.9640 (+/- 0.0790)\n",
      "Score cost: -1710228.3500 (+/- 3780952.2720)\n"
     ]
    }
   ],
   "source": [
    "scores1=cross_val_score(bestXGB,X_train,y_train,cv=cv,scoring=score_specificity)\n",
    "print(\"Specificity: %0.4f (+/- %0.4f)\" % (scores1.mean(), scores1.std() * 2))\n",
    "scores2=cross_val_score(bestXGB,X_train,y_train,cv=cv,scoring='accuracy')\n",
    "print(\"Accuracy: %0.4f (+/- %0.4f)\" % (scores2.mean(), scores2.std() * 2))\n",
    "scores3=cross_val_score(bestXGB,X_train,y_train,cv=cv,scoring='recall')\n",
    "print(\"Recall: %0.4f (+/- %0.4f)\" % (scores3.mean(), scores3.std() * 2))\n",
    "scores4=cross_val_score(bestXGB,X_train,y_train,cv=cv,scoring=my_custom_scorer)\n",
    "print(\"Score cost: %0.4f (+/- %0.4f)\" % (scores4.mean(), scores4.std() * 2))"
   ]
  },
  {
   "cell_type": "code",
   "execution_count": 23,
   "metadata": {
    "collapsed": false
   },
   "outputs": [
    {
     "name": "stdout",
     "output_type": "stream",
     "text": [
      "             precision    recall  f1-score   support\n",
      "\n",
      "          0       0.97      0.97      0.97       156\n",
      "          1       0.93      0.95      0.94        75\n",
      "\n",
      "avg / total       0.96      0.96      0.96       231\n",
      "\n",
      "Akurasi: 0.9610\n",
      "Specificity: 0.9679\n",
      "Recall: 0.9467\n"
     ]
    },
    {
     "data": {
      "text/plain": [
       "(0.96794871794871795, 0.94666666666666666, 0.96103896103896103, -11401141.75)"
      ]
     },
     "execution_count": 23,
     "metadata": {},
     "output_type": "execute_result"
    }
   ],
   "source": [
    "y_predXGB = bestXGB.predict(X_test)\n",
    "accuracy = accuracy_score(y_test, y_predXGB)\n",
    "precision, recall, f1, _ = precision_recall_fscore_support(y_test, y_predXGB)\n",
    "print(classification_report(y_test, y_predXGB))\n",
    "print (('Akurasi: %.4f') % (accuracy))\n",
    "print (('Specificity: %.4f') % (specificity(y_test, y_predXGB)))\n",
    "print (('Recall: %.4f') % (recall[1]))\n",
    "output_score(y_test, y_predXGB)"
   ]
  },
  {
   "cell_type": "code",
   "execution_count": 24,
   "metadata": {
    "collapsed": false
   },
   "outputs": [
    {
     "data": {
      "text/plain": [
       "array([[151,   5],\n",
       "       [  4,  71]])"
      ]
     },
     "execution_count": 24,
     "metadata": {},
     "output_type": "execute_result"
    }
   ],
   "source": [
    "confusion_matrix(y_test, y_predXGB)"
   ]
  },
  {
   "cell_type": "code",
   "execution_count": 24,
   "metadata": {
    "collapsed": false
   },
   "outputs": [
    {
     "name": "stdout",
     "output_type": "stream",
     "text": [
      "             precision    recall  f1-score   support\n",
      "\n",
      "          0       0.97      0.97      0.97       156\n",
      "          1       0.93      0.95      0.94        75\n",
      "\n",
      "avg / total       0.96      0.96      0.96       231\n",
      "\n",
      "Akurasi: 0.9610\n",
      "Specificity: 0.9679\n",
      "Recall: 0.9467\n"
     ]
    },
    {
     "data": {
      "text/plain": [
       "(0.96794871794871795, 0.94666666666666666, 0.96103896103896103, -11401141.75)"
      ]
     },
     "execution_count": 24,
     "metadata": {},
     "output_type": "execute_result"
    }
   ],
   "source": [
    "y_predXGB = bestXGB.predict(X_test)\n",
    "accuracy = accuracy_score(y_test, y_predXGB)\n",
    "precision, recall, f1, _ = precision_recall_fscore_support(y_test, y_predXGB)\n",
    "print(classification_report(y_test, y_predXGB))\n",
    "print (('Akurasi: %.4f') % (accuracy))\n",
    "print (('Specificity: %.4f') % (specificity(y_test, y_predXGB)))\n",
    "print (('Recall: %.4f') % (recall[1]))\n",
    "output_score(y_test, y_predXGB)"
   ]
  },
  {
   "cell_type": "code",
   "execution_count": 25,
   "metadata": {
    "collapsed": false
   },
   "outputs": [
    {
     "name": "stderr",
     "output_type": "stream",
     "text": [
      "Using Theano backend.\n"
     ]
    }
   ],
   "source": [
    "import numpy as np\n",
    "seed = 7\n",
    "np.random.seed(seed)\n",
    "from keras.models import Sequential\n",
    "from keras.layers import Dense\n",
    "from keras.wrappers.scikit_learn import KerasClassifier\n",
    "from sklearn.model_selection import StratifiedKFold\n",
    "from sklearn.model_selection import cross_val_score\n",
    "from keras.models import Sequential\n",
    "from keras.layers import Dense\n",
    "from keras.utils import np_utils\n",
    "from keras import optimizers"
   ]
  },
  {
   "cell_type": "code",
   "execution_count": 26,
   "metadata": {
    "collapsed": true
   },
   "outputs": [],
   "source": [
    "def create_model8():\n",
    "    model8 = Sequential()\n",
    "    model8.add(Dense(10, input_dim=9, activation='relu'))\n",
    "    model8.add(Dense(10, activation='relu'))\n",
    "    model8.add(Dense(10, activation='relu'))\n",
    "    model8.add(Dense(10, activation='relu'))\n",
    "    model8.add(Dense(10, activation='relu'))\n",
    "    model8.add(Dense(10, activation='relu'))\n",
    "    model8.add(Dense(10, activation='relu'))\n",
    "    model8.add(Dense(10, activation='relu'))\n",
    "    model8.add(Dense(1, activation='sigmoid'))\n",
    "    adm = optimizers.Adam(lr=0.01, beta_1=0.9, beta_2=0.999, epsilon=1e-08, decay=0.0)\n",
    "    model8.compile(loss='binary_crossentropy', optimizer=adm, metrics=['accuracy'])\n",
    "    return model8"
   ]
  },
  {
   "cell_type": "code",
   "execution_count": 27,
   "metadata": {
    "collapsed": true
   },
   "outputs": [],
   "source": [
    "from sklearn.model_selection import train_test_split\n",
    "X_trainb, X_testb, y_trainb, y_testb = train_test_split(X, y,test_size=0.33, random_state=seed )"
   ]
  },
  {
   "cell_type": "code",
   "execution_count": 28,
   "metadata": {
    "collapsed": true
   },
   "outputs": [],
   "source": [
    "from keras.models import load_model"
   ]
  },
  {
   "cell_type": "code",
   "execution_count": 29,
   "metadata": {
    "collapsed": true
   },
   "outputs": [],
   "source": [
    "model=create_model8()"
   ]
  },
  {
   "cell_type": "code",
   "execution_count": 30,
   "metadata": {
    "collapsed": true
   },
   "outputs": [],
   "source": [
    "best_class_weight = {0: 1.0, 1: 8}"
   ]
  },
  {
   "cell_type": "code",
   "execution_count": 31,
   "metadata": {
    "collapsed": true
   },
   "outputs": [],
   "source": [
    "bestNN = KerasClassifier(build_fn=create_model8, epochs= 20, class_weight = best_class_weight, verbose=0)"
   ]
  },
  {
   "cell_type": "code",
   "execution_count": 32,
   "metadata": {
    "collapsed": false
   },
   "outputs": [
    {
     "data": {
      "text/plain": [
       "<keras.callbacks.History at 0xd2d7b70>"
      ]
     },
     "execution_count": 32,
     "metadata": {},
     "output_type": "execute_result"
    }
   ],
   "source": [
    "bestNN.fit(X_trainb.as_matrix(), y_trainb)"
   ]
  },
  {
   "cell_type": "code",
   "execution_count": 33,
   "metadata": {
    "collapsed": false
   },
   "outputs": [
    {
     "name": "stdout",
     "output_type": "stream",
     "text": [
      "             precision    recall  f1-score   support\n",
      "\n",
      "          0       0.99      0.93      0.96       152\n",
      "          1       0.89      0.99      0.93        79\n",
      "\n",
      "avg / total       0.96      0.95      0.95       231\n",
      "\n",
      "Akurasi: 0.9524\n",
      "Specificity: 0.9342\n",
      "Recall: 0.9873\n"
     ]
    },
    {
     "data": {
      "text/plain": [
       "(0.93421052631578949, 0.98734177215189878, 0.95238095238095233, -2852283.5)"
      ]
     },
     "execution_count": 33,
     "metadata": {},
     "output_type": "execute_result"
    }
   ],
   "source": [
    "y_predNN = bestNN.predict(X_testb.as_matrix())\n",
    "accuracy = accuracy_score(y_testb, y_predNN)\n",
    "precision, recall, f1, _ = precision_recall_fscore_support(y_testb, y_predNN)\n",
    "print(classification_report(y_testb, y_predNN))\n",
    "print (('Akurasi: %.4f') % (accuracy))\n",
    "print (('Specificity: %.4f') % (specificity(y_testb, y_predNN)))\n",
    "print (('Recall: %.4f') % (recall[1]))\n",
    "output_score(y_testb, y_predNN)"
   ]
  },
  {
   "cell_type": "code",
   "execution_count": 35,
   "metadata": {
    "collapsed": false
   },
   "outputs": [
    {
     "data": {
      "text/plain": [
       "array([[142,  10],\n",
       "       [  1,  78]])"
      ]
     },
     "execution_count": 35,
     "metadata": {},
     "output_type": "execute_result"
    }
   ],
   "source": [
    "confusion_matrix(y_testb,y_predNN)"
   ]
  },
  {
   "cell_type": "code",
   "execution_count": 28,
   "metadata": {
    "collapsed": false
   },
   "outputs": [
    {
     "name": "stdout",
     "output_type": "stream",
     "text": [
      "             precision    recall  f1-score   support\n",
      "\n",
      "          0       0.99      0.93      0.96       152\n",
      "          1       0.89      0.99      0.93        79\n",
      "\n",
      "avg / total       0.96      0.95      0.95       231\n",
      "\n",
      "Akurasi: 0.9524\n",
      "Specificity: 0.9342\n",
      "Recall: 0.9873\n"
     ]
    },
    {
     "data": {
      "text/plain": [
       "(0.93421052631578949, 0.98734177215189878, 0.95238095238095233, -2852283.5)"
      ]
     },
     "execution_count": 28,
     "metadata": {},
     "output_type": "execute_result"
    }
   ],
   "source": [
    "y_predNN = bestNN.predict(X_testb.as_matrix())\n",
    "accuracy = accuracy_score(y_testb, y_predNN)\n",
    "precision, recall, f1, _ = precision_recall_fscore_support(y_testb, y_predNN)\n",
    "print(classification_report(y_testb, y_predNN))\n",
    "print (('Akurasi: %.4f') % (accuracy))\n",
    "print (('Specificity: %.4f') % (specificity(y_testb, y_predNN)))\n",
    "print (('Recall: %.4f') % (recall[1]))\n",
    "output_score(y_testb, y_predNN)"
   ]
  },
  {
   "cell_type": "code",
   "execution_count": 29,
   "metadata": {
    "collapsed": true
   },
   "outputs": [],
   "source": [
    "names=['SVM - Dataset A','XGBoost - Dataset A','MLP - Dataset A']"
   ]
  },
  {
   "cell_type": "code",
   "execution_count": 30,
   "metadata": {
    "collapsed": true
   },
   "outputs": [],
   "source": [
    "score=bestSVC.predict_proba(X_test)\n",
    "score2=bestXGB.predict_proba(X_test)\n",
    "score3=bestNN.predict_proba(X_testb.as_matrix())"
   ]
  },
  {
   "cell_type": "code",
   "execution_count": 31,
   "metadata": {
    "collapsed": false
   },
   "outputs": [
    {
     "data": {
      "image/png": "[encoded data removed]",
      "text/plain": [
       "<matplotlib.figure.Figure at 0x7653eb8>"
      ]
     },
     "metadata": {},
     "output_type": "display_data"
    }
   ],
   "source": [
    "import matplotlib.pyplot as plt\n",
    "from sklearn.metrics import roc_curve, roc_auc_score\n",
    "fig, ax = plt.subplots(figsize=(9,5))\n",
    "\n",
    "fpr, tpr, thresholds = roc_curve(y_test, score[:,1],pos_label=1)\n",
    "fpr2, tpr2, thresholds2 = roc_curve(y_test, score2[:,1],pos_label=1)\n",
    "fpr3, tpr3, thresholds3 = roc_curve(y_testb, score3[:,1],pos_label=1)\n",
    "\n",
    "auc = roc_auc_score(y_test, score[:,1])\n",
    "auc2 = roc_auc_score(y_test, score2[:,1])\n",
    "auc3 = roc_auc_score(y_testb, score3[:,1])\n",
    "\n",
    "ax.plot(fpr*100, tpr*100, label='%s (area = %.2f)' % (names[0], auc*100))\n",
    "ax.plot(fpr2*100, tpr2*100, label='%s (area = %.2f)' % (names[1], auc2*100))\n",
    "ax.plot(fpr3*100, tpr3*100, label='%s (area = %.2f)' % (names[2], auc3*100))\n",
    "\n",
    "plt.rc('xtick',labelsize=14)\n",
    "plt.rc('ytick',labelsize=14)\n",
    "plt.title(\"RoC Curves Dataset A\",fontsize=14)\n",
    "plt.legend(prop={'size':12})\n",
    "ax.set_xlabel('False Positive Rate',fontsize=14)\n",
    "ax.set_ylabel('True Positive Rate',fontsize=14)\n",
    "plt.show()"
   ]
  },
  {
   "cell_type": "code",
   "execution_count": null,
   "metadata": {
    "collapsed": true
   },
   "outputs": [],
   "source": []
  }
 ],
 "metadata": {
  "kernelspec": {
   "display_name": "Python 3",
   "language": "python",
   "name": "python3"
  },
  "language_info": {
   "codemirror_mode": {
    "name": "ipython",
    "version": 3
   },
   "file_extension": ".py",
   "mimetype": "text/x-python",
   "name": "python",
   "nbconvert_exporter": "python",
   "pygments_lexer": "ipython3",
   "version": "3.5.3"
  }
 },
 "nbformat": 4,
 "nbformat_minor": 2
}
