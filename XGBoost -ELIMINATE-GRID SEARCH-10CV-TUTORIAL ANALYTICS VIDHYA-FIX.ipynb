{
 "cells": [
  {
   "cell_type": "code",
   "execution_count": 2,
   "metadata": {
    "collapsed": false
   },
   "outputs": [
    {
     "name": "stderr",
     "output_type": "stream",
     "text": [
      "C:\\Users\\Annisa\\Anaconda3\\lib\\site-packages\\sklearn\\cross_validation.py:44: DeprecationWarning: This module was deprecated in version 0.18 in favor of the model_selection module into which all the refactored classes and functions are moved. Also note that the interface of the new CV iterators are different from that of this module. This module will be removed in 0.20.\n",
      "  \"This module will be removed in 0.20.\", DeprecationWarning)\n"
     ]
    }
   ],
   "source": [
    "%matplotlib inline\n",
    "import pandas as pd\n",
    "import numpy as np\n",
    "import matplotlib.pyplot as plt\n",
    "import seaborn; \n",
    "from scipy import stats\n",
    "import pylab as pl\n",
    "from sklearn.model_selection import train_test_split\n",
    "from xgboost import XGBClassifier\n",
    "from sklearn.model_selection import train_test_split\n",
    "from sklearn.metrics import accuracy_score\n",
    "from sklearn import model_selection\n",
    "seaborn.set()"
   ]
  },
  {
   "cell_type": "code",
   "execution_count": 3,
   "metadata": {
    "collapsed": false
   },
   "outputs": [],
   "source": [
    "df = pd.read_csv(\"wbc.csv\")"
   ]
  },
  {
   "cell_type": "code",
   "execution_count": 4,
   "metadata": {
    "collapsed": false
   },
   "outputs": [
    {
     "name": "stdout",
     "output_type": "stream",
     "text": [
      "<class 'pandas.core.frame.DataFrame'>\n",
      "RangeIndex: 683 entries, 0 to 682\n",
      "Data columns (total 11 columns):\n",
      "index                 683 non-null int64\n",
      "clump_thickness       683 non-null int64\n",
      "cell_size             683 non-null int64\n",
      "cell_shape            683 non-null int64\n",
      "marginal_adhesion     683 non-null int64\n",
      "epitelial_cellsize    683 non-null int64\n",
      "bare_nuclei           683 non-null int32\n",
      "bland_chromatin       683 non-null int64\n",
      "normal_nucleoli       683 non-null int64\n",
      "mitoses               683 non-null int64\n",
      "jenis                 683 non-null int64\n",
      "dtypes: int32(1), int64(10)\n",
      "memory usage: 56.1 KB\n"
     ]
    }
   ],
   "source": [
    "df=df[df.bare_nuclei!='?']\n",
    "df=df.reset_index()\n",
    "df['bare_nuclei']=df['bare_nuclei'].astype(object).astype(int)\n",
    "df.info()"
   ]
  },
  {
   "cell_type": "code",
   "execution_count": 5,
   "metadata": {
    "collapsed": false
   },
   "outputs": [],
   "source": [
    "X = df.drop([df.columns[-1]], axis=1)\n",
    "y = df.jenis"
   ]
  },
  {
   "cell_type": "code",
   "execution_count": 6,
   "metadata": {
    "collapsed": true
   },
   "outputs": [],
   "source": [
    "test_size=0.33"
   ]
  },
  {
   "cell_type": "code",
   "execution_count": 7,
   "metadata": {
    "collapsed": true
   },
   "outputs": [],
   "source": [
    "random_state=42"
   ]
  },
  {
   "cell_type": "code",
   "execution_count": 8,
   "metadata": {
    "collapsed": false
   },
   "outputs": [],
   "source": [
    "X_train, X_test, y_train, y_test = train_test_split(X, y, test_size=test_size, random_state=random_state)"
   ]
  },
  {
   "cell_type": "code",
   "execution_count": 9,
   "metadata": {
    "collapsed": true
   },
   "outputs": [],
   "source": [
    "from sklearn.metrics import accuracy_score, precision_recall_fscore_support"
   ]
  },
  {
   "cell_type": "code",
   "execution_count": 10,
   "metadata": {
    "collapsed": false
   },
   "outputs": [],
   "source": [
    "from sklearn import metrics"
   ]
  },
  {
   "cell_type": "code",
   "execution_count": 11,
   "metadata": {
    "collapsed": false
   },
   "outputs": [],
   "source": [
    "from sklearn.model_selection import GridSearchCV\n",
    "from __future__ import print_function\n",
    "from sklearn.metrics import classification_report"
   ]
  },
  {
   "cell_type": "code",
   "execution_count": 12,
   "metadata": {
    "collapsed": true
   },
   "outputs": [],
   "source": [
    "classifier = XGBClassifier()"
   ]
  },
  {
   "cell_type": "code",
   "execution_count": 13,
   "metadata": {
    "collapsed": true
   },
   "outputs": [],
   "source": [
    "from sklearn.cross_validation import StratifiedKFold"
   ]
  },
  {
   "cell_type": "code",
   "execution_count": 14,
   "metadata": {
    "collapsed": false
   },
   "outputs": [],
   "source": [
    "cv = StratifiedKFold(y_train, n_folds=10, shuffle=True, random_state=random_state)"
   ]
  },
  {
   "cell_type": "code",
   "execution_count": 18,
   "metadata": {
    "collapsed": false
   },
   "outputs": [
    {
     "name": "stdout",
     "output_type": "stream",
     "text": [
      "Automatically created module for IPython interactive environment\n",
      "# Tuning hyper-parameters for recall\n",
      "\n",
      "Best parameters set found on development set:\n",
      "\n",
      "{'learning_rate': 0.1, 'n_estimators': 50}\n",
      "\n",
      "Grid scores on development set:\n",
      "\n",
      "0.9709 (+/-0.048) for {'learning_rate': 0.1, 'n_estimators': 50}\n",
      "0.9709 (+/-0.048) for {'learning_rate': 0.1, 'n_estimators': 75}\n",
      "0.9643 (+/-0.049) for {'learning_rate': 0.1, 'n_estimators': 100}\n",
      "0.9643 (+/-0.049) for {'learning_rate': 0.1, 'n_estimators': 150}\n",
      "0.9643 (+/-0.049) for {'learning_rate': 0.1, 'n_estimators': 200}\n",
      "\n",
      "Detailed classification report:\n",
      "\n",
      "The model is trained on the full development set.\n",
      "The scores are computed on the full evaluation set.\n",
      "\n",
      "             precision    recall  f1-score   support\n",
      "\n",
      "          2       0.94      0.99      0.96       142\n",
      "          4       0.97      0.89      0.93        84\n",
      "\n",
      "avg / total       0.95      0.95      0.95       226\n",
      "\n",
      "\n"
     ]
    }
   ],
   "source": [
    "print(__doc__)\n",
    "\n",
    "# Loading the Digits dataset\n",
    "#digits = datasets.load_digits()\n",
    "\n",
    "# To apply an classifier on this data, we need to flatten the image, to\n",
    "# turn the data in a (samples, feature) matrix:\n",
    "n_samples = len(df)\n",
    "\n",
    "\n",
    "# Set the parameters by cross-validation\n",
    "\n",
    "tuned_parameters = [{'n_estimators': [50,75,100,150,200],\n",
    "                     'learning_rate': [ 0.1]},]\n",
    "                    \n",
    "params_fixed = {\n",
    "    'objective': 'binary:logistic',\n",
    "    'silent': 1\n",
    "}\n",
    "scores = ['recall']\n",
    "\n",
    "for score in scores:\n",
    "    print(\"# Tuning hyper-parameters for %s\" % score)\n",
    "    print()\n",
    "\n",
    "    clf = GridSearchCV(estimator=XGBClassifier(**params_fixed, seed=random_state),\n",
    "    param_grid=tuned_parameters, cv=cv, scoring='%s_macro' % score)\n",
    "    clf.fit(X_train, y_train)\n",
    "\n",
    "    print(\"Best parameters set found on development set:\")\n",
    "    print()\n",
    "    print(clf.best_params_)\n",
    "    print()\n",
    "    print(\"Grid scores on development set:\")\n",
    "    print()\n",
    "    means = clf.cv_results_['mean_test_score']\n",
    "    stds = clf.cv_results_['std_test_score']\n",
    "    for mean, std, params in zip(means, stds, clf.cv_results_['params']):\n",
    "        print(\"%0.4f (+/-%0.03f) for %r\"\n",
    "              % (mean, std * 2, params))\n",
    "    print()\n",
    "\n",
    "    print(\"Detailed classification report:\")\n",
    "    print()\n",
    "    print(\"The model is trained on the full development set.\")\n",
    "    print(\"The scores are computed on the full evaluation set.\")\n",
    "    print()\n",
    "    y_true, y_pred = y_test, clf.predict(X_test)\n",
    "    print(classification_report(y_true, y_pred))\n",
    "    print()"
   ]
  },
  {
   "cell_type": "code",
   "execution_count": 19,
   "metadata": {
    "collapsed": true
   },
   "outputs": [],
   "source": [
    "tuned_parameters1a = [{'n_estimators': [40,45,50]},]"
   ]
  },
  {
   "cell_type": "code",
   "execution_count": 20,
   "metadata": {
    "collapsed": false
   },
   "outputs": [
    {
     "name": "stdout",
     "output_type": "stream",
     "text": [
      "Automatically created module for IPython interactive environment\n",
      "# Tuning hyper-parameters for recall\n",
      "\n",
      "Best parameters set found on development set:\n",
      "\n",
      "{'n_estimators': 50}\n",
      "\n",
      "Grid scores on development set:\n",
      "\n",
      "0.9692 (+/-0.047) for {'n_estimators': 40}\n",
      "0.9692 (+/-0.047) for {'n_estimators': 45}\n",
      "0.9709 (+/-0.048) for {'n_estimators': 50}\n",
      "\n",
      "Detailed classification report:\n",
      "\n",
      "The model is trained on the full development set.\n",
      "The scores are computed on the full evaluation set.\n",
      "\n",
      "             precision    recall  f1-score   support\n",
      "\n",
      "          2       0.94      0.99      0.96       142\n",
      "          4       0.97      0.89      0.93        84\n",
      "\n",
      "avg / total       0.95      0.95      0.95       226\n",
      "\n",
      "\n"
     ]
    }
   ],
   "source": [
    "print(__doc__)\n",
    "\n",
    "n_samples = len(df)\n",
    "\n",
    "                    \n",
    "params_fixed = {\n",
    "    'objective': 'binary:logistic',\n",
    "    'learning_rate':0.1,\n",
    "    'silent': 1\n",
    "}\n",
    "scores = ['recall']\n",
    "\n",
    "for score in scores:\n",
    "    print(\"# Tuning hyper-parameters for %s\" % score)\n",
    "    print()\n",
    "\n",
    "    clf1a = GridSearchCV(estimator=XGBClassifier(**params_fixed, seed=random_state),\n",
    "    param_grid=tuned_parameters1a, cv=cv, scoring='%s_macro' % score)\n",
    "    clf1a.fit(X_train, y_train)\n",
    "\n",
    "    print(\"Best parameters set found on development set:\")\n",
    "    print()\n",
    "    print(clf1a.best_params_)\n",
    "    print()\n",
    "    print(\"Grid scores on development set:\")\n",
    "    print()\n",
    "    means = clf1a.cv_results_['mean_test_score']\n",
    "    stds = clf1a.cv_results_['std_test_score']\n",
    "    for mean, std, params in zip(means, stds, clf1a.cv_results_['params']):\n",
    "        print(\"%0.4f (+/-%0.03f) for %r\"\n",
    "              % (mean, std * 2, params))\n",
    "    print()\n",
    "\n",
    "    print(\"Detailed classification report:\")\n",
    "    print()\n",
    "    print(\"The model is trained on the full development set.\")\n",
    "    print(\"The scores are computed on the full evaluation set.\")\n",
    "    print()\n",
    "    y_true, y_pred1a = y_test, clf1a.predict(X_test)\n",
    "    print(classification_report(y_true, y_pred1a))\n",
    "    print()"
   ]
  },
  {
   "cell_type": "markdown",
   "metadata": {},
   "source": [
    "# n_estimator terbaik 50"
   ]
  },
  {
   "cell_type": "code",
   "execution_count": 21,
   "metadata": {
    "collapsed": false
   },
   "outputs": [
    {
     "name": "stdout",
     "output_type": "stream",
     "text": [
      "Automatically created module for IPython interactive environment\n",
      "# Tuning hyper-parameters for recall\n",
      "\n",
      "Best parameters set found on development set:\n",
      "\n",
      "{'max_depth': 3, 'min_child_weight': 6}\n",
      "\n",
      "Grid scores on development set:\n",
      "\n",
      "0.9643 (+/-0.049) for {'max_depth': 3, 'min_child_weight': 6}\n",
      "0.9628 (+/-0.057) for {'max_depth': 3, 'min_child_weight': 8}\n",
      "0.9579 (+/-0.065) for {'max_depth': 3, 'min_child_weight': 10}\n",
      "0.9548 (+/-0.047) for {'max_depth': 3, 'min_child_weight': 12}\n",
      "0.9643 (+/-0.049) for {'max_depth': 5, 'min_child_weight': 6}\n",
      "0.9628 (+/-0.057) for {'max_depth': 5, 'min_child_weight': 8}\n",
      "0.9579 (+/-0.065) for {'max_depth': 5, 'min_child_weight': 10}\n",
      "0.9548 (+/-0.047) for {'max_depth': 5, 'min_child_weight': 12}\n",
      "0.9643 (+/-0.049) for {'max_depth': 7, 'min_child_weight': 6}\n",
      "0.9628 (+/-0.057) for {'max_depth': 7, 'min_child_weight': 8}\n",
      "0.9579 (+/-0.065) for {'max_depth': 7, 'min_child_weight': 10}\n",
      "0.9548 (+/-0.047) for {'max_depth': 7, 'min_child_weight': 12}\n",
      "0.9643 (+/-0.049) for {'max_depth': 9, 'min_child_weight': 6}\n",
      "0.9628 (+/-0.057) for {'max_depth': 9, 'min_child_weight': 8}\n",
      "0.9579 (+/-0.065) for {'max_depth': 9, 'min_child_weight': 10}\n",
      "0.9548 (+/-0.047) for {'max_depth': 9, 'min_child_weight': 12}\n",
      "0.9643 (+/-0.049) for {'max_depth': 11, 'min_child_weight': 6}\n",
      "0.9628 (+/-0.057) for {'max_depth': 11, 'min_child_weight': 8}\n",
      "0.9579 (+/-0.065) for {'max_depth': 11, 'min_child_weight': 10}\n",
      "0.9548 (+/-0.047) for {'max_depth': 11, 'min_child_weight': 12}\n",
      "0.9643 (+/-0.049) for {'max_depth': 13, 'min_child_weight': 6}\n",
      "0.9628 (+/-0.057) for {'max_depth': 13, 'min_child_weight': 8}\n",
      "0.9579 (+/-0.065) for {'max_depth': 13, 'min_child_weight': 10}\n",
      "0.9548 (+/-0.047) for {'max_depth': 13, 'min_child_weight': 12}\n",
      "\n",
      "Detailed classification report:\n",
      "\n",
      "The model is trained on the full development set.\n",
      "The scores are computed on the full evaluation set.\n",
      "\n",
      "             precision    recall  f1-score   support\n",
      "\n",
      "          2       0.95      0.99      0.97       142\n",
      "          4       0.97      0.90      0.94        84\n",
      "\n",
      "avg / total       0.96      0.96      0.96       226\n",
      "\n",
      "\n"
     ]
    }
   ],
   "source": [
    "print(__doc__)\n",
    "\n",
    "# Loading the Digits dataset\n",
    "#digits = datasets.load_digits()\n",
    "\n",
    "# To apply an classifier on this data, we need to flatten the image, to\n",
    "# turn the data in a (samples, feature) matrix:\n",
    "n_samples = len(df)\n",
    "\n",
    "\n",
    "# Set the parameters by cross-validation\n",
    "\n",
    "tuned_parameters2 = [{'max_depth': range(3,14,2), \n",
    "                     'min_child_weight': range(6,14,2)},]\n",
    "                    \n",
    "params_fixed = {\n",
    "    'objective': 'binary:logistic',\n",
    "    'n_estimators': 50,\n",
    "    'learning_rate': 0.1,\n",
    "    'silent': 1\n",
    "}\n",
    "scores = ['recall']\n",
    "\n",
    "for score in scores:\n",
    "    print(\"# Tuning hyper-parameters for %s\" % score)\n",
    "    print()\n",
    "\n",
    "    clf2 = GridSearchCV(estimator=XGBClassifier(**params_fixed, seed=random_state),\n",
    "    param_grid=tuned_parameters2, cv=cv, scoring='%s_macro' % score)\n",
    "    clf2.fit(X_train, y_train)\n",
    "\n",
    "    print(\"Best parameters set found on development set:\")\n",
    "    print()\n",
    "    print(clf2.best_params_)\n",
    "    print()\n",
    "    print(\"Grid scores on development set:\")\n",
    "    print()\n",
    "    means = clf2.cv_results_['mean_test_score']\n",
    "    stds = clf2.cv_results_['std_test_score']\n",
    "    for mean, std, params in zip(means, stds, clf2.cv_results_['params']):\n",
    "        print(\"%0.4f (+/-%0.03f) for %r\"\n",
    "              % (mean, std * 2, params))\n",
    "    print()\n",
    "\n",
    "    print(\"Detailed classification report:\")\n",
    "    print()\n",
    "    print(\"The model is trained on the full development set.\")\n",
    "    print(\"The scores are computed on the full evaluation set.\")\n",
    "    print()\n",
    "    y_true, y_pred2 = y_test, clf2.predict(X_test)\n",
    "    print(classification_report(y_true, y_pred2))\n",
    "    print()"
   ]
  },
  {
   "cell_type": "markdown",
   "metadata": {},
   "source": [
    "# Hasil ideal min_child_weight = 6 max_depth = 3"
   ]
  },
  {
   "cell_type": "code",
   "execution_count": 22,
   "metadata": {
    "collapsed": false
   },
   "outputs": [],
   "source": [
    "tuned_parameters2a = [{'max_depth':[2,3,4] ,\n",
    "                     'min_child_weight': [5,6,7]},]"
   ]
  },
  {
   "cell_type": "code",
   "execution_count": 23,
   "metadata": {
    "collapsed": false
   },
   "outputs": [
    {
     "name": "stdout",
     "output_type": "stream",
     "text": [
      "Automatically created module for IPython interactive environment\n",
      "# Tuning hyper-parameters for recall\n",
      "\n",
      "Best parameters set found on development set:\n",
      "\n",
      "{'max_depth': 2, 'min_child_weight': 5}\n",
      "\n",
      "Grid scores on development set:\n",
      "\n",
      "0.9676 (+/-0.053) for {'max_depth': 2, 'min_child_weight': 5}\n",
      "0.9643 (+/-0.049) for {'max_depth': 2, 'min_child_weight': 6}\n",
      "0.9643 (+/-0.049) for {'max_depth': 2, 'min_child_weight': 7}\n",
      "0.9643 (+/-0.049) for {'max_depth': 3, 'min_child_weight': 5}\n",
      "0.9643 (+/-0.049) for {'max_depth': 3, 'min_child_weight': 6}\n",
      "0.9595 (+/-0.052) for {'max_depth': 3, 'min_child_weight': 7}\n",
      "0.9643 (+/-0.049) for {'max_depth': 4, 'min_child_weight': 5}\n",
      "0.9643 (+/-0.049) for {'max_depth': 4, 'min_child_weight': 6}\n",
      "0.9595 (+/-0.052) for {'max_depth': 4, 'min_child_weight': 7}\n",
      "\n",
      "Detailed classification report:\n",
      "\n",
      "The model is trained on the full development set.\n",
      "The scores are computed on the full evaluation set.\n",
      "\n",
      "             precision    recall  f1-score   support\n",
      "\n",
      "          2       0.95      0.99      0.97       142\n",
      "          4       0.97      0.90      0.94        84\n",
      "\n",
      "avg / total       0.96      0.96      0.96       226\n",
      "\n",
      "\n"
     ]
    }
   ],
   "source": [
    "print(__doc__)\n",
    "\n",
    "# Loading the Digits dataset\n",
    "#digits = datasets.load_digits()\n",
    "\n",
    "# To apply an classifier on this data, we need to flatten the image, to\n",
    "# turn the data in a (samples, feature) matrix:\n",
    "n_samples = len(df)\n",
    "\n",
    "                    \n",
    "params_fixed = {\n",
    "    'objective': 'binary:logistic',\n",
    "    'n_estimators': 50,\n",
    "    'learning_rate': 0.1,\n",
    "    'silent': 1\n",
    "}\n",
    "scores = ['recall']\n",
    "\n",
    "for score in scores:\n",
    "    print(\"# Tuning hyper-parameters for %s\" % score)\n",
    "    print()\n",
    "\n",
    "    clf2a = GridSearchCV(estimator=XGBClassifier(**params_fixed, seed=random_state),\n",
    "    param_grid=tuned_parameters2a, cv=cv, scoring='%s_macro' % score)\n",
    "    clf2a.fit(X_train, y_train)\n",
    "\n",
    "    print(\"Best parameters set found on development set:\")\n",
    "    print()\n",
    "    print(clf2a.best_params_)\n",
    "    print()\n",
    "    print(\"Grid scores on development set:\")\n",
    "    print()\n",
    "    means = clf2a.cv_results_['mean_test_score']\n",
    "    stds = clf2a.cv_results_['std_test_score']\n",
    "    for mean, std, params in zip(means, stds, clf2a.cv_results_['params']):\n",
    "        print(\"%0.4f (+/-%0.03f) for %r\"\n",
    "              % (mean, std * 2, params))\n",
    "    print()\n",
    "\n",
    "    print(\"Detailed classification report:\")\n",
    "    print()\n",
    "    print(\"The model is trained on the full development set.\")\n",
    "    print(\"The scores are computed on the full evaluation set.\")\n",
    "    print()\n",
    "    y_true, y_pred2a = y_test, clf2a.predict(X_test)\n",
    "    print(classification_report(y_true, y_pred2a))\n",
    "    print()"
   ]
  },
  {
   "cell_type": "markdown",
   "metadata": {},
   "source": [
    "# max_depth merupakan kedalaman dari tree, meningkatkan nilai max_Depth akan membuat model lebih complex/overfit"
   ]
  },
  {
   "cell_type": "code",
   "execution_count": 24,
   "metadata": {
    "collapsed": true
   },
   "outputs": [],
   "source": [
    "tuned_parameters3 = {'gamma':[i/10.0 for i in range (0,5)]}"
   ]
  },
  {
   "cell_type": "markdown",
   "metadata": {},
   "source": [
    "# gamma itu langrangian multiplier (complexity control)\n",
    "higher gamma = lower difference between train/test"
   ]
  },
  {
   "cell_type": "code",
   "execution_count": 25,
   "metadata": {
    "collapsed": false
   },
   "outputs": [
    {
     "name": "stdout",
     "output_type": "stream",
     "text": [
      "Automatically created module for IPython interactive environment\n",
      "# Tuning hyper-parameters for recall\n",
      "\n",
      "Best parameters set found on development set:\n",
      "\n",
      "{'gamma': 0.0}\n",
      "\n",
      "Grid scores on development set:\n",
      "\n",
      "0.9676 (+/-0.053) for {'gamma': 0.0}\n",
      "0.9676 (+/-0.053) for {'gamma': 0.1}\n",
      "0.9676 (+/-0.053) for {'gamma': 0.2}\n",
      "0.9676 (+/-0.053) for {'gamma': 0.3}\n",
      "0.9676 (+/-0.053) for {'gamma': 0.4}\n",
      "\n",
      "Detailed classification report:\n",
      "\n",
      "The model is trained on the full development set.\n",
      "The scores are computed on the full evaluation set.\n",
      "\n",
      "             precision    recall  f1-score   support\n",
      "\n",
      "          2       0.95      0.99      0.97       142\n",
      "          4       0.97      0.90      0.94        84\n",
      "\n",
      "avg / total       0.96      0.96      0.96       226\n",
      "\n",
      "\n"
     ]
    }
   ],
   "source": [
    "print(__doc__)\n",
    "\n",
    "# Loading the Digits dataset\n",
    "#digits = datasets.load_digits()\n",
    "\n",
    "# To apply an classifier on this data, we need to flatten the image, to\n",
    "# turn the data in a (samples, feature) matrix:\n",
    "n_samples = len(df)\n",
    "\n",
    "                    \n",
    "params_fixed = {\n",
    "    'objective': 'binary:logistic',\n",
    "    'n_estimators': 50,\n",
    "    'learning_rate': 0.1,\n",
    "    'max_depth': 2, \n",
    "    'min_child_weight': 5,\n",
    "    'silent': 1\n",
    "}\n",
    "scores = ['recall']\n",
    "\n",
    "for score in scores:\n",
    "    print(\"# Tuning hyper-parameters for %s\" % score)\n",
    "    print()\n",
    "\n",
    "    clf3 = GridSearchCV(estimator=XGBClassifier(**params_fixed, seed=random_state),\n",
    "    param_grid=tuned_parameters3, cv=cv, scoring='%s_macro' % score)\n",
    "    clf3.fit(X_train, y_train)\n",
    "\n",
    "    print(\"Best parameters set found on development set:\")\n",
    "    print()\n",
    "    print(clf3.best_params_)\n",
    "    print()\n",
    "    print(\"Grid scores on development set:\")\n",
    "    print()\n",
    "    means = clf3.cv_results_['mean_test_score']\n",
    "    stds = clf3.cv_results_['std_test_score']\n",
    "    for mean, std, params in zip(means, stds, clf3.cv_results_['params']):\n",
    "        print(\"%0.4f (+/-%0.03f) for %r\"\n",
    "              % (mean, std * 2, params))\n",
    "    print()\n",
    "\n",
    "    print(\"Detailed classification report:\")\n",
    "    print()\n",
    "    print(\"The model is trained on the full development set.\")\n",
    "    print(\"The scores are computed on the full evaluation set.\")\n",
    "    print()\n",
    "    y_true, y_pred3 = y_test, clf3.predict(X_test)\n",
    "    print(classification_report(y_true, y_pred3))\n",
    "    print()"
   ]
  },
  {
   "cell_type": "markdown",
   "metadata": {},
   "source": [
    "# gamma = 0.0"
   ]
  },
  {
   "cell_type": "code",
   "execution_count": 26,
   "metadata": {
    "collapsed": true
   },
   "outputs": [],
   "source": [
    "tuned_parameters4 = [{'subsample':[i/10.0 for i in range(6,10)] ,\n",
    "                     'colsample_bytree':[i/10.0 for i in range(6,10)]},]"
   ]
  },
  {
   "cell_type": "code",
   "execution_count": 27,
   "metadata": {
    "collapsed": false
   },
   "outputs": [
    {
     "name": "stdout",
     "output_type": "stream",
     "text": [
      "Automatically created module for IPython interactive environment\n",
      "# Tuning hyper-parameters for recall\n",
      "\n",
      "Best parameters set found on development set:\n",
      "\n",
      "{'colsample_bytree': 0.7, 'subsample': 0.9}\n",
      "\n",
      "Grid scores on development set:\n",
      "\n",
      "0.9645 (+/-0.053) for {'colsample_bytree': 0.6, 'subsample': 0.6}\n",
      "0.9675 (+/-0.035) for {'colsample_bytree': 0.6, 'subsample': 0.7}\n",
      "0.9643 (+/-0.049) for {'colsample_bytree': 0.6, 'subsample': 0.8}\n",
      "0.9643 (+/-0.049) for {'colsample_bytree': 0.6, 'subsample': 0.9}\n",
      "0.9645 (+/-0.053) for {'colsample_bytree': 0.7, 'subsample': 0.6}\n",
      "0.9659 (+/-0.042) for {'colsample_bytree': 0.7, 'subsample': 0.7}\n",
      "0.9628 (+/-0.057) for {'colsample_bytree': 0.7, 'subsample': 0.8}\n",
      "0.9676 (+/-0.053) for {'colsample_bytree': 0.7, 'subsample': 0.9}\n",
      "0.9628 (+/-0.051) for {'colsample_bytree': 0.8, 'subsample': 0.6}\n",
      "0.9627 (+/-0.054) for {'colsample_bytree': 0.8, 'subsample': 0.7}\n",
      "0.9564 (+/-0.057) for {'colsample_bytree': 0.8, 'subsample': 0.8}\n",
      "0.9643 (+/-0.049) for {'colsample_bytree': 0.8, 'subsample': 0.9}\n",
      "0.9660 (+/-0.039) for {'colsample_bytree': 0.9, 'subsample': 0.6}\n",
      "0.9579 (+/-0.050) for {'colsample_bytree': 0.9, 'subsample': 0.7}\n",
      "0.9564 (+/-0.057) for {'colsample_bytree': 0.9, 'subsample': 0.8}\n",
      "0.9643 (+/-0.049) for {'colsample_bytree': 0.9, 'subsample': 0.9}\n",
      "\n",
      "Detailed classification report:\n",
      "\n",
      "The model is trained on the full development set.\n",
      "The scores are computed on the full evaluation set.\n",
      "\n",
      "             precision    recall  f1-score   support\n",
      "\n",
      "          2       0.95      0.99      0.97       142\n",
      "          4       0.97      0.90      0.94        84\n",
      "\n",
      "avg / total       0.96      0.96      0.96       226\n",
      "\n",
      "\n"
     ]
    }
   ],
   "source": [
    "print(__doc__)\n",
    "\n",
    "# Loading the Digits dataset\n",
    "#digits = datasets.load_digits()\n",
    "\n",
    "# To apply an classifier on this data, we need to flatten the image, to\n",
    "# turn the data in a (samples, feature) matrix:\n",
    "n_samples = len(df)\n",
    "\n",
    "                    \n",
    "params_fixed = {\n",
    "    'objective': 'binary:logistic',\n",
    "    'n_estimators': 50,\n",
    "    'learning_rate': 0.1,\n",
    "    'max_depth': 2, \n",
    "    'min_child_weight': 5,\n",
    "    'gamma':0.0,\n",
    "    'silent': 1\n",
    "}\n",
    "scores = ['recall']\n",
    "\n",
    "for score in scores:\n",
    "    print(\"# Tuning hyper-parameters for %s\" % score)\n",
    "    print()\n",
    "\n",
    "    clf4 = GridSearchCV(estimator=XGBClassifier(**params_fixed, seed=random_state),\n",
    "    param_grid=tuned_parameters4, cv=cv, scoring='%s_macro' % score)\n",
    "    clf4.fit(X_train, y_train)\n",
    "\n",
    "    print(\"Best parameters set found on development set:\")\n",
    "    print()\n",
    "    print(clf4.best_params_)\n",
    "    print()\n",
    "    print(\"Grid scores on development set:\")\n",
    "    print()\n",
    "    means = clf4.cv_results_['mean_test_score']\n",
    "    stds = clf4.cv_results_['std_test_score']\n",
    "    for mean, std, params in zip(means, stds, clf4.cv_results_['params']):\n",
    "        print(\"%0.4f (+/-%0.03f) for %r\"\n",
    "              % (mean, std * 2, params))\n",
    "    print()\n",
    "\n",
    "    print(\"Detailed classification report:\")\n",
    "    print()\n",
    "    print(\"The model is trained on the full development set.\")\n",
    "    print(\"The scores are computed on the full evaluation set.\")\n",
    "    print()\n",
    "    y_true, y_pred4 = y_test, clf4.predict(X_test)\n",
    "    print(classification_report(y_true, y_pred4))\n",
    "    print()"
   ]
  },
  {
   "cell_type": "code",
   "execution_count": 28,
   "metadata": {
    "collapsed": true
   },
   "outputs": [],
   "source": [
    "tuned_parameters4a = [{'subsample':[i/100.0 for i in range(85,100,5)] ,\n",
    "                     'colsample_bytree':[i/100.0 for i in range(65,80,5)]},]"
   ]
  },
  {
   "cell_type": "code",
   "execution_count": 29,
   "metadata": {
    "collapsed": false
   },
   "outputs": [
    {
     "name": "stdout",
     "output_type": "stream",
     "text": [
      "Automatically created module for IPython interactive environment\n",
      "# Tuning hyper-parameters for recall\n",
      "\n",
      "Best parameters set found on development set:\n",
      "\n",
      "{'colsample_bytree': 0.7, 'subsample': 0.9}\n",
      "\n",
      "Grid scores on development set:\n",
      "\n",
      "0.9643 (+/-0.049) for {'colsample_bytree': 0.65, 'subsample': 0.85}\n",
      "0.9643 (+/-0.049) for {'colsample_bytree': 0.65, 'subsample': 0.9}\n",
      "0.9643 (+/-0.049) for {'colsample_bytree': 0.65, 'subsample': 0.95}\n",
      "0.9643 (+/-0.049) for {'colsample_bytree': 0.7, 'subsample': 0.85}\n",
      "0.9676 (+/-0.053) for {'colsample_bytree': 0.7, 'subsample': 0.9}\n",
      "0.9612 (+/-0.047) for {'colsample_bytree': 0.7, 'subsample': 0.95}\n",
      "0.9643 (+/-0.049) for {'colsample_bytree': 0.75, 'subsample': 0.85}\n",
      "0.9676 (+/-0.053) for {'colsample_bytree': 0.75, 'subsample': 0.9}\n",
      "0.9612 (+/-0.047) for {'colsample_bytree': 0.75, 'subsample': 0.95}\n",
      "\n",
      "Detailed classification report:\n",
      "\n",
      "The model is trained on the full development set.\n",
      "The scores are computed on the full evaluation set.\n",
      "\n",
      "             precision    recall  f1-score   support\n",
      "\n",
      "          2       0.95      0.99      0.97       142\n",
      "          4       0.97      0.90      0.94        84\n",
      "\n",
      "avg / total       0.96      0.96      0.96       226\n",
      "\n",
      "\n"
     ]
    }
   ],
   "source": [
    "print(__doc__)\n",
    "\n",
    "# Loading the Digits dataset\n",
    "#digits = datasets.load_digits()\n",
    "\n",
    "# To apply an classifier on this data, we need to flatten the image, to\n",
    "# turn the data in a (samples, feature) matrix:\n",
    "n_samples = len(df)\n",
    "\n",
    "                    \n",
    "params_fixed = {\n",
    "    'objective': 'binary:logistic',\n",
    "    'n_estimators': 50,\n",
    "    'learning_rate': 0.1,\n",
    "    'max_depth': 2, \n",
    "    'min_child_weight': 5,\n",
    "    'gamma':0.0,\n",
    "    'silent': 1\n",
    "}\n",
    "scores = ['recall']\n",
    "\n",
    "for score in scores:\n",
    "    print(\"# Tuning hyper-parameters for %s\" % score)\n",
    "    print()\n",
    "\n",
    "    clf4a = GridSearchCV(estimator=XGBClassifier(**params_fixed, seed=random_state),\n",
    "    param_grid=tuned_parameters4a, cv=cv, scoring='%s_macro' % score)\n",
    "    clf4a.fit(X_train, y_train)\n",
    "\n",
    "    print(\"Best parameters set found on development set:\")\n",
    "    print()\n",
    "    print(clf4a.best_params_)\n",
    "    print()\n",
    "    print(\"Grid scores on development set:\")\n",
    "    print()\n",
    "    means = clf4a.cv_results_['mean_test_score']\n",
    "    stds = clf4a.cv_results_['std_test_score']\n",
    "    for mean, std, params in zip(means, stds, clf4a.cv_results_['params']):\n",
    "        print(\"%0.4f (+/-%0.03f) for %r\"\n",
    "              % (mean, std * 2, params))\n",
    "    print()\n",
    "\n",
    "    print(\"Detailed classification report:\")\n",
    "    print()\n",
    "    print(\"The model is trained on the full development set.\")\n",
    "    print(\"The scores are computed on the full evaluation set.\")\n",
    "    print()\n",
    "    y_true, y_pred4a = y_test, clf4a.predict(X_test)\n",
    "    print(classification_report(y_true, y_pred4a))\n",
    "    print()"
   ]
  },
  {
   "cell_type": "markdown",
   "metadata": {},
   "source": [
    "# Hasilnya tetap sama yaitu colsample_bytee=0.7 , subsample =0.9"
   ]
  },
  {
   "cell_type": "code",
   "execution_count": 30,
   "metadata": {
    "collapsed": true
   },
   "outputs": [],
   "source": [
    "tuned_parameters5 = {'reg_alpha':[1e-5,1e-4,1e-3,1e-2,0.1,1,100]}"
   ]
  },
  {
   "cell_type": "code",
   "execution_count": 31,
   "metadata": {
    "collapsed": false
   },
   "outputs": [
    {
     "name": "stdout",
     "output_type": "stream",
     "text": [
      "Automatically created module for IPython interactive environment\n",
      "# Tuning hyper-parameters for recall\n",
      "\n",
      "Best parameters set found on development set:\n",
      "\n",
      "{'reg_alpha': 1e-05}\n",
      "\n",
      "Grid scores on development set:\n",
      "\n",
      "0.9676 (+/-0.053) for {'reg_alpha': 1e-05}\n",
      "0.9676 (+/-0.053) for {'reg_alpha': 0.0001}\n",
      "0.9676 (+/-0.053) for {'reg_alpha': 0.001}\n",
      "0.9676 (+/-0.053) for {'reg_alpha': 0.01}\n",
      "0.9676 (+/-0.053) for {'reg_alpha': 0.1}\n",
      "0.9645 (+/-0.053) for {'reg_alpha': 1}\n",
      "0.5000 (+/-0.000) for {'reg_alpha': 100}\n",
      "\n",
      "Detailed classification report:\n",
      "\n",
      "The model is trained on the full development set.\n",
      "The scores are computed on the full evaluation set.\n",
      "\n",
      "             precision    recall  f1-score   support\n",
      "\n",
      "          2       0.95      0.99      0.97       142\n",
      "          4       0.97      0.90      0.94        84\n",
      "\n",
      "avg / total       0.96      0.96      0.96       226\n",
      "\n",
      "\n"
     ]
    }
   ],
   "source": [
    "print(__doc__)\n",
    "\n",
    "# Loading the Digits dataset\n",
    "#digits = datasets.load_digits()\n",
    "\n",
    "# To apply an classifier on this data, we need to flatten the image, to\n",
    "# turn the data in a (samples, feature) matrix:\n",
    "n_samples = len(df)\n",
    "\n",
    "                    \n",
    "params_fixed = {\n",
    "    'objective': 'binary:logistic',\n",
    "    'n_estimators': 50,\n",
    "    'learning_rate': 0.1,\n",
    "    'max_depth': 2, \n",
    "    'min_child_weight': 5,\n",
    "    'gamma':0.0,\n",
    "    'colsample_bytree':0.7,\n",
    "    'subsample':0.9,\n",
    "    'silent': 1\n",
    "}\n",
    "scores = ['recall']\n",
    "\n",
    "for score in scores:\n",
    "    print(\"# Tuning hyper-parameters for %s\" % score)\n",
    "    print()\n",
    "\n",
    "    clf5 = GridSearchCV(estimator=XGBClassifier(**params_fixed, seed=random_state),\n",
    "    param_grid=tuned_parameters5, cv=cv, scoring='%s_macro' % score)\n",
    "    clf5.fit(X_train, y_train)\n",
    "\n",
    "    print(\"Best parameters set found on development set:\")\n",
    "    print()\n",
    "    print(clf5.best_params_)\n",
    "    print()\n",
    "    print(\"Grid scores on development set:\")\n",
    "    print()\n",
    "    means = clf5.cv_results_['mean_test_score']\n",
    "    stds = clf5.cv_results_['std_test_score']\n",
    "    for mean, std, params in zip(means, stds, clf5.cv_results_['params']):\n",
    "        print(\"%0.4f (+/-%0.03f) for %r\"\n",
    "              % (mean, std * 2, params))\n",
    "    print()\n",
    "\n",
    "    print(\"Detailed classification report:\")\n",
    "    print()\n",
    "    print(\"The model is trained on the full development set.\")\n",
    "    print(\"The scores are computed on the full evaluation set.\")\n",
    "    print()\n",
    "    y_true, y_pred5 = y_test, clf5.predict(X_test)\n",
    "    print(classification_report(y_true, y_pred5))\n",
    "    print()"
   ]
  },
  {
   "cell_type": "code",
   "execution_count": 32,
   "metadata": {
    "collapsed": true
   },
   "outputs": [],
   "source": [
    "tuned_parameters5a = {'reg_alpha':[0.005,1e-05,0.01]}"
   ]
  },
  {
   "cell_type": "code",
   "execution_count": 33,
   "metadata": {
    "collapsed": false
   },
   "outputs": [
    {
     "name": "stdout",
     "output_type": "stream",
     "text": [
      "Automatically created module for IPython interactive environment\n",
      "# Tuning hyper-parameters for recall\n",
      "\n",
      "Best parameters set found on development set:\n",
      "\n",
      "{'reg_alpha': 0.005}\n",
      "\n",
      "Grid scores on development set:\n",
      "\n",
      "0.9676 (+/-0.053) for {'reg_alpha': 0.005}\n",
      "0.9676 (+/-0.053) for {'reg_alpha': 1e-05}\n",
      "0.9676 (+/-0.053) for {'reg_alpha': 0.01}\n",
      "\n",
      "Detailed classification report:\n",
      "\n",
      "The model is trained on the full development set.\n",
      "The scores are computed on the full evaluation set.\n",
      "\n",
      "             precision    recall  f1-score   support\n",
      "\n",
      "          2       0.95      0.99      0.97       142\n",
      "          4       0.97      0.90      0.94        84\n",
      "\n",
      "avg / total       0.96      0.96      0.96       226\n",
      "\n",
      "\n"
     ]
    }
   ],
   "source": [
    "print(__doc__)\n",
    "\n",
    "# Loading the Digits dataset\n",
    "#digits = datasets.load_digits()\n",
    "\n",
    "# To apply an classifier on this data, we need to flatten the image, to\n",
    "# turn the data in a (samples, feature) matrix:\n",
    "n_samples = len(df)\n",
    "\n",
    "                    \n",
    "params_fixed = {\n",
    "    'objective': 'binary:logistic',\n",
    "    'n_estimators': 50,\n",
    "    'learning_rate': 0.1,\n",
    "    'max_depth': 2, \n",
    "    'min_child_weight': 5,\n",
    "    'gamma':0.0,\n",
    "    'colsample_bytree':0.7,\n",
    "    'subsample':0.9,\n",
    "    'silent': 1\n",
    "}\n",
    "scores = ['recall']\n",
    "\n",
    "for score in scores:\n",
    "    print(\"# Tuning hyper-parameters for %s\" % score)\n",
    "    print()\n",
    "\n",
    "    clf5a = GridSearchCV(estimator=XGBClassifier(**params_fixed, seed=random_state),\n",
    "    param_grid=tuned_parameters5a, cv=cv, scoring='%s_macro' % score)\n",
    "    clf5a.fit(X_train, y_train)\n",
    "\n",
    "    print(\"Best parameters set found on development set:\")\n",
    "    print()\n",
    "    print(clf5a.best_params_)\n",
    "    print()\n",
    "    print(\"Grid scores on development set:\")\n",
    "    print()\n",
    "    means = clf5a.cv_results_['mean_test_score']\n",
    "    stds = clf5a.cv_results_['std_test_score']\n",
    "    for mean, std, params in zip(means, stds, clf5a.cv_results_['params']):\n",
    "        print(\"%0.4f (+/-%0.03f) for %r\"\n",
    "              % (mean, std * 2, params))\n",
    "    print()\n",
    "\n",
    "    print(\"Detailed classification report:\")\n",
    "    print()\n",
    "    print(\"The model is trained on the full development set.\")\n",
    "    print(\"The scores are computed on the full evaluation set.\")\n",
    "    print()\n",
    "    y_true, y_pred5a = y_test, clf5a.predict(X_test)\n",
    "    print(classification_report(y_true, y_pred5a))\n",
    "    print()"
   ]
  },
  {
   "cell_type": "markdown",
   "metadata": {},
   "source": [
    "# dengan scores recall yang sama dengan 1e-05, reg alpha yang baru yaitu 0.005"
   ]
  },
  {
   "cell_type": "code",
   "execution_count": 34,
   "metadata": {
    "collapsed": false
   },
   "outputs": [
    {
     "data": {
      "text/plain": [
       "XGBClassifier(base_score=0.5, colsample_bylevel=1, colsample_bytree=0.7,\n",
       "       gamma=0.0, learning_rate=0.1, max_delta_step=0, max_depth=2,\n",
       "       min_child_weight=5, missing=None, n_estimators=50, nthread=-1,\n",
       "       objective='binary:logistic', reg_alpha=0.005, reg_lambda=1,\n",
       "       scale_pos_weight=1, seed=42, silent=1, subsample=0.9)"
      ]
     },
     "execution_count": 34,
     "metadata": {},
     "output_type": "execute_result"
    }
   ],
   "source": [
    "clf5a.best_estimator_"
   ]
  },
  {
   "cell_type": "code",
   "execution_count": 35,
   "metadata": {
    "collapsed": true
   },
   "outputs": [],
   "source": [
    "xgb_all=XGBClassifier(base_score=0.5, colsample_bylevel=1, colsample_bytree=0.7,\n",
    "       gamma=0.0, learning_rate=0.1, max_delta_step=0, max_depth=2,\n",
    "       min_child_weight=5, missing=None, n_estimators=50, nthread=-1,\n",
    "       objective='binary:logistic', reg_alpha=0.005, reg_lambda=1,\n",
    "       scale_pos_weight=1, seed=42, silent=1, subsample=0.9)"
   ]
  },
  {
   "cell_type": "code",
   "execution_count": 36,
   "metadata": {
    "collapsed": false
   },
   "outputs": [
    {
     "data": {
      "text/plain": [
       "XGBClassifier(base_score=0.5, colsample_bylevel=1, colsample_bytree=0.7,\n",
       "       gamma=0.0, learning_rate=0.1, max_delta_step=0, max_depth=2,\n",
       "       min_child_weight=5, missing=None, n_estimators=50, nthread=-1,\n",
       "       objective='binary:logistic', reg_alpha=0.005, reg_lambda=1,\n",
       "       scale_pos_weight=1, seed=42, silent=1, subsample=0.9)"
      ]
     },
     "execution_count": 36,
     "metadata": {},
     "output_type": "execute_result"
    }
   ],
   "source": [
    "xgb_all.fit(X_train,y_train)"
   ]
  },
  {
   "cell_type": "code",
   "execution_count": 37,
   "metadata": {
    "collapsed": false
   },
   "outputs": [
    {
     "name": "stdout",
     "output_type": "stream",
     "text": [
      "Akurasi: 0.9558\n",
      "Precision: 0.9744\n",
      "Recall: 0.9048\n",
      "F1: 0.9383\n"
     ]
    }
   ],
   "source": [
    "y_pred_all = xgb_all.predict(X_test)\n",
    "accuracy = accuracy_score(y_test, y_pred_all)\n",
    "precision, recall, f1, _ = precision_recall_fscore_support(y_test, y_pred_all)\n",
    "print (('Akurasi: %.4f') % (accuracy))\n",
    "print (('Precision: %.4f') % (precision[1]))\n",
    "print (('Recall: %.4f') % (recall[1]))\n",
    "print (('F1: %.4f') % (f1[1]))"
   ]
  },
  {
   "cell_type": "markdown",
   "metadata": {},
   "source": [
    "# reduce learning rate"
   ]
  },
  {
   "cell_type": "code",
   "execution_count": 38,
   "metadata": {
    "collapsed": true
   },
   "outputs": [],
   "source": [
    "xgb_all2=XGBClassifier(base_score=0.5, colsample_bylevel=1, colsample_bytree=0.7,\n",
    "       gamma=0.0, learning_rate=0.01, max_delta_step=0, max_depth=2,\n",
    "       min_child_weight=5, missing=None, n_estimators=50, nthread=-1,\n",
    "       objective='binary:logistic', reg_alpha=0.005, reg_lambda=1,\n",
    "       scale_pos_weight=1, seed=42, silent=1, subsample=0.9)"
   ]
  },
  {
   "cell_type": "code",
   "execution_count": 39,
   "metadata": {
    "collapsed": false
   },
   "outputs": [
    {
     "data": {
      "text/plain": [
       "XGBClassifier(base_score=0.5, colsample_bylevel=1, colsample_bytree=0.7,\n",
       "       gamma=0.0, learning_rate=0.01, max_delta_step=0, max_depth=2,\n",
       "       min_child_weight=5, missing=None, n_estimators=50, nthread=-1,\n",
       "       objective='binary:logistic', reg_alpha=0.005, reg_lambda=1,\n",
       "       scale_pos_weight=1, seed=42, silent=1, subsample=0.9)"
      ]
     },
     "execution_count": 39,
     "metadata": {},
     "output_type": "execute_result"
    }
   ],
   "source": [
    "xgb_all2.fit(X_train,y_train)"
   ]
  },
  {
   "cell_type": "code",
   "execution_count": 40,
   "metadata": {
    "collapsed": false
   },
   "outputs": [
    {
     "name": "stdout",
     "output_type": "stream",
     "text": [
      "Akurasi: 0.9602\n",
      "Precision: 0.9630\n",
      "Recall: 0.9286\n",
      "F1: 0.9455\n"
     ]
    }
   ],
   "source": [
    "y_pred_all2 = xgb_all2.predict(X_test)\n",
    "accuracy = accuracy_score(y_test, y_pred_all2)\n",
    "precision, recall, f1, _ = precision_recall_fscore_support(y_test, y_pred_all2)\n",
    "print (('Akurasi: %.4f') % (accuracy))\n",
    "print (('Precision: %.4f') % (precision[1]))\n",
    "print (('Recall: %.4f') % (recall[1]))\n",
    "print (('F1: %.4f') % (f1[1]))"
   ]
  },
  {
   "cell_type": "markdown",
   "metadata": {},
   "source": [
    "# increase learning rate"
   ]
  },
  {
   "cell_type": "code",
   "execution_count": 41,
   "metadata": {
    "collapsed": false
   },
   "outputs": [
    {
     "data": {
      "text/plain": [
       "XGBClassifier(base_score=0.5, colsample_bylevel=1, colsample_bytree=0.7,\n",
       "       gamma=0.0, learning_rate=0.15, max_delta_step=0, max_depth=2,\n",
       "       min_child_weight=5, missing=None, n_estimators=50, nthread=-1,\n",
       "       objective='binary:logistic', reg_alpha=0.005, reg_lambda=1,\n",
       "       scale_pos_weight=1, seed=42, silent=1, subsample=0.9)"
      ]
     },
     "execution_count": 41,
     "metadata": {},
     "output_type": "execute_result"
    }
   ],
   "source": [
    "xgb_all3=XGBClassifier(base_score=0.5, colsample_bylevel=1, colsample_bytree=0.7,\n",
    "       gamma=0.0, learning_rate=0.15, max_delta_step=0, max_depth=2,\n",
    "       min_child_weight=5, missing=None, n_estimators=50, nthread=-1,\n",
    "       objective='binary:logistic', reg_alpha=0.005, reg_lambda=1,\n",
    "       scale_pos_weight=1, seed=42, silent=1, subsample=0.9)\n",
    "xgb_all3.fit(X_train,y_train)"
   ]
  },
  {
   "cell_type": "code",
   "execution_count": 42,
   "metadata": {
    "collapsed": false
   },
   "outputs": [
    {
     "name": "stdout",
     "output_type": "stream",
     "text": [
      "Akurasi: 0.9469\n",
      "Precision: 0.9737\n",
      "Recall: 0.8810\n",
      "F1: 0.9250\n"
     ]
    }
   ],
   "source": [
    "y_pred_all3 = xgb_all3.predict(X_test)\n",
    "accuracy = accuracy_score(y_test, y_pred_all3)\n",
    "precision, recall, f1, _ = precision_recall_fscore_support(y_test, y_pred_all3)\n",
    "print (('Akurasi: %.4f') % (accuracy))\n",
    "print (('Precision: %.4f') % (precision[1]))\n",
    "print (('Recall: %.4f') % (recall[1]))\n",
    "print (('F1: %.4f') % (f1[1]))"
   ]
  },
  {
   "cell_type": "markdown",
   "metadata": {},
   "source": [
    "# ternyata akurasi turun, jadi yang terbaik itu xgb_all2"
   ]
  },
  {
   "cell_type": "code",
   "execution_count": 43,
   "metadata": {
    "collapsed": true
   },
   "outputs": [],
   "source": [
    "import matplotlib.pyplot as plt\n",
    "import xgboost as xgb"
   ]
  },
  {
   "cell_type": "code",
   "execution_count": 44,
   "metadata": {
    "collapsed": false
   },
   "outputs": [
    {
     "data": {
      "image/png": "[encoded data removed]",
      "text/plain": [
       "<matplotlib.figure.Figure at 0xa46c4a8>"
      ]
     },
     "metadata": {},
     "output_type": "display_data"
    }
   ],
   "source": [
    "xgb.plot_importance(xgb_all2,importance_type='gain',xlabel='Information Gain')\n",
    "plt.show()"
   ]
  },
  {
   "cell_type": "code",
   "execution_count": null,
   "metadata": {
    "collapsed": true
   },
   "outputs": [],
   "source": []
  }
 ],
 "metadata": {
  "anaconda-cloud": {},
  "kernelspec": {
   "display_name": "Python 3",
   "language": "python",
   "name": "python3"
  },
  "language_info": {
   "codemirror_mode": {
    "name": "ipython",
    "version": 3
   },
   "file_extension": ".py",
   "mimetype": "text/x-python",
   "name": "python",
   "nbconvert_exporter": "python",
   "pygments_lexer": "ipython3",
   "version": "3.6.0"
  }
 },
 "nbformat": 4,
 "nbformat_minor": 1
}
