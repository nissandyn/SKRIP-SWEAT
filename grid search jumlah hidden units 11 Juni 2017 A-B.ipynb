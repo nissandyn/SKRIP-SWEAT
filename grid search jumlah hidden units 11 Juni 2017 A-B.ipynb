{
 "cells": [
  {
   "cell_type": "code",
   "execution_count": 1,
   "metadata": {
    "collapsed": true
   },
   "outputs": [],
   "source": [
    "import numpy as np\n",
    "seed=7\n",
    "np.random.seed(seed)"
   ]
  },
  {
   "cell_type": "code",
   "execution_count": 2,
   "metadata": {
    "collapsed": false
   },
   "outputs": [
    {
     "name": "stderr",
     "output_type": "stream",
     "text": [
      "Using Theano backend.\n"
     ]
    }
   ],
   "source": [
    "from keras.models import Sequential\n",
    "from keras.layers import Dense\n",
    "from keras.wrappers.scikit_learn import KerasClassifier\n",
    "from sklearn.model_selection import StratifiedKFold\n",
    "from sklearn.model_selection import cross_val_score\n",
    "from keras.models import Sequential\n",
    "from keras.layers import Dense\n",
    "from keras.utils import np_utils\n",
    "from keras.wrappers.scikit_learn import KerasClassifier\n",
    "from sklearn.model_selection import StratifiedKFold\n",
    "from sklearn.model_selection import cross_val_score\n",
    "import numpy as np\n",
    "from keras.constraints import maxnorm\n",
    "from keras import optimizers"
   ]
  },
  {
   "cell_type": "code",
   "execution_count": 3,
   "metadata": {
    "collapsed": true
   },
   "outputs": [],
   "source": [
    "from keras.models import load_model"
   ]
  },
  {
   "cell_type": "code",
   "execution_count": 4,
   "metadata": {
    "collapsed": false
   },
   "outputs": [],
   "source": [
    "# Function to create model, required for KerasClassifier\n",
    "def create_model1(neurons=9):\n",
    "    model1 = Sequential()\n",
    "    model1.add(Dense(neurons, input_dim=9, activation='relu'))\n",
    "    model1.add(Dense(1, activation='sigmoid'))\n",
    "    adm = optimizers.Adam(lr=0.01, beta_1=0.9, beta_2=0.999, epsilon=1e-08, decay=0.0)\n",
    "    model1.compile(loss='binary_crossentropy', optimizer=adm, metrics=['accuracy'])\n",
    "    return model1"
   ]
  },
  {
   "cell_type": "code",
   "execution_count": 5,
   "metadata": {
    "collapsed": true
   },
   "outputs": [],
   "source": [
    "model=create_model1()"
   ]
  },
  {
   "cell_type": "code",
   "execution_count": 6,
   "metadata": {
    "collapsed": true
   },
   "outputs": [],
   "source": [
    "model.save_weights('my_model_weights.h5')"
   ]
  },
  {
   "cell_type": "code",
   "execution_count": 7,
   "metadata": {
    "collapsed": false
   },
   "outputs": [],
   "source": [
    "import pandas as pd\n",
    "df = pd.read_csv(\"wbc.csv\")"
   ]
  },
  {
   "cell_type": "code",
   "execution_count": 8,
   "metadata": {
    "collapsed": false
   },
   "outputs": [
    {
     "name": "stdout",
     "output_type": "stream",
     "text": [
      "<class 'pandas.core.frame.DataFrame'>\n",
      "RangeIndex: 699 entries, 0 to 698\n",
      "Data columns (total 10 columns):\n",
      "clump_thickness       699 non-null int64\n",
      "cell_size             699 non-null int64\n",
      "cell_shape            699 non-null int64\n",
      "marginal_adhesion     699 non-null int64\n",
      "epitelial_cellsize    699 non-null int64\n",
      "bare_nuclei           699 non-null float64\n",
      "bland_chromatin       699 non-null int64\n",
      "normal_nucleoli       699 non-null int64\n",
      "mitoses               699 non-null int64\n",
      "jenis                 699 non-null int64\n",
      "dtypes: float64(1), int64(9)\n",
      "memory usage: 54.7 KB\n"
     ]
    }
   ],
   "source": [
    "df=df.replace('?',np.nan)\n",
    "df['bare_nuclei'] = pd.to_numeric(df.bare_nuclei.fillna(df.bare_nuclei.median()))\n",
    "df.info()"
   ]
  },
  {
   "cell_type": "code",
   "execution_count": 9,
   "metadata": {
    "collapsed": false
   },
   "outputs": [],
   "source": [
    "X = df.drop([df.columns[-1]], axis=1)\n",
    "y = df.jenis.map({2: 0, 4: 1})"
   ]
  },
  {
   "cell_type": "code",
   "execution_count": 10,
   "metadata": {
    "collapsed": false
   },
   "outputs": [],
   "source": [
    "from sklearn.model_selection import train_test_split\n",
    "X_train, X_test, y_train, y_test = train_test_split(X, y, test_size=0.33, random_state=seed)"
   ]
  },
  {
   "cell_type": "code",
   "execution_count": 11,
   "metadata": {
    "collapsed": true
   },
   "outputs": [],
   "source": [
    "model1 = KerasClassifier(build_fn=create_model1, class_weight=None, verbose=0)"
   ]
  },
  {
   "cell_type": "raw",
   "metadata": {
    "collapsed": true
   },
   "source": [
    "neurons = [9,18,27,36,45,54,63,72,81,90,99,108,117,126,135,144,153,162]"
   ]
  },
  {
   "cell_type": "raw",
   "metadata": {
    "collapsed": true
   },
   "source": [
    "param_grid = dict(neurons=neurons)"
   ]
  },
  {
   "cell_type": "code",
   "execution_count": 12,
   "metadata": {
    "collapsed": true
   },
   "outputs": [],
   "source": [
    "from sklearn.metrics import confusion_matrix"
   ]
  },
  {
   "cell_type": "code",
   "execution_count": 13,
   "metadata": {
    "collapsed": true
   },
   "outputs": [],
   "source": [
    "neurons2 = [9,18,27,36,45,54,63,72,81]"
   ]
  },
  {
   "cell_type": "code",
   "execution_count": 21,
   "metadata": {
    "collapsed": false
   },
   "outputs": [
    {
     "name": "stdout",
     "output_type": "stream",
     "text": [
      "Jumlah Hidden Units : 9)\n",
      "Accuracy: 0.9441 (+/- 0.0416)\n",
      "\n",
      "\n",
      "Jumlah Hidden Units : 18)\n",
      "Accuracy: 0.9442 (+/- 0.0312)\n",
      "\n",
      "\n",
      "Jumlah Hidden Units : 27)\n",
      "Accuracy: 0.9550 (+/- 0.0206)\n",
      "\n",
      "\n",
      "Jumlah Hidden Units : 36)\n",
      "Accuracy: 0.9593 (+/- 0.0294)\n",
      "\n",
      "\n",
      "Jumlah Hidden Units : 45)\n",
      "Accuracy: 0.9593 (+/- 0.0180)\n",
      "\n",
      "\n",
      "Jumlah Hidden Units : 54)\n",
      "Accuracy: 0.9593 (+/- 0.0264)\n",
      "\n",
      "\n",
      "Jumlah Hidden Units : 63)\n",
      "Accuracy: 0.9549 (+/- 0.0283)\n",
      "\n",
      "\n",
      "Jumlah Hidden Units : 72)\n",
      "Accuracy: 0.9635 (+/- 0.0275)\n",
      "\n",
      "\n",
      "Jumlah Hidden Units : 81)\n",
      "Accuracy: 0.9572 (+/- 0.0358)\n",
      "\n",
      "\n"
     ]
    }
   ],
   "source": [
    "results=[]\n",
    "model.load_weights('my_model_weights.h5')\n",
    "\n",
    "for neurons_idx in range(len(neurons2)):\n",
    "    param1 = neurons2[neurons_idx]\n",
    "    def create_model1():\n",
    "        model1 = Sequential()\n",
    "        model1.add(Dense(param1, input_dim=9, activation='relu'))\n",
    "        model1.add(Dense(1, activation='sigmoid'))\n",
    "        adm = optimizers.Adam(lr=0.01, beta_1=0.9, beta_2=0.999, epsilon=1e-08, decay=0.0)\n",
    "        model1.compile(loss='binary_crossentropy', optimizer=adm, metrics=['accuracy'])\n",
    "        return model1\n",
    "    bestmodelNN = KerasClassifier(build_fn=create_model1,  verbose=0)\n",
    "    model.load_weights('my_model_weights.h5')\n",
    "    print(\"Jumlah Hidden Units : %r)\" % (param1))\n",
    "    scores2=cross_val_score(bestmodelNN,X_train.as_matrix(),y_train,cv=10,scoring='accuracy')\n",
    "    print(\"Accuracy: %0.4f (+/- %0.4f)\" % (scores2.mean(), scores2.std() ))\n",
    "    results.append(scores2.mean())\n",
    "    print()\n",
    "    print()\n"
   ]
  },
  {
   "cell_type": "code",
   "execution_count": 22,
   "metadata": {
    "collapsed": false
   },
   "outputs": [
    {
     "data": {
      "text/plain": [
       "[0.94412580943570779,\n",
       " 0.94421831637372799,\n",
       " 0.95499537465309903,\n",
       " 0.95934320074005552,\n",
       " 0.95929694727104542,\n",
       " 0.95925069380203509,\n",
       " 0.95494912118408881,\n",
       " 0.96350601295097127,\n",
       " 0.95716928769657716]"
      ]
     },
     "execution_count": 22,
     "metadata": {},
     "output_type": "execute_result"
    }
   ],
   "source": [
    "results"
   ]
  },
  {
   "cell_type": "raw",
   "metadata": {
    "collapsed": true
   },
   "source": [
    "def cost_breast_cancer(y_true, y_pred):\n",
    "    CM = confusion_matrix(y_true, y_pred)\n",
    "    FN = CM[1][0]\n",
    "    FP = CM[0][1]\n",
    "    costBC=((228.35*FP)+(2850000*FN))\n",
    "    return costBC"
   ]
  },
  {
   "cell_type": "raw",
   "metadata": {
    "collapsed": true
   },
   "source": [
    "def specificity(y_true, y_pred):\n",
    "    CM = confusion_matrix(y_true, y_pred)\n",
    "    TN = CM[0][0]\n",
    "    FN = CM[1][0]\n",
    "    TP = CM[1][1]\n",
    "    FP = CM[0][1]\n",
    "    nilai=(TN/(FP+TN))\n",
    "    return nilai"
   ]
  },
  {
   "cell_type": "raw",
   "metadata": {
    "collapsed": true
   },
   "source": [
    "from sklearn.metrics import make_scorer\n",
    "my_custom_scorer=make_scorer(cost_breast_cancer, greater_is_better=False)\n",
    "score_specificity=make_scorer(specificity, greater_is_better=True)"
   ]
  },
  {
   "cell_type": "raw",
   "metadata": {
    "collapsed": false
   },
   "source": [
    "fig, ax = plt.subplots(figsize=(9,5))\n",
    "ax.plot(neuronsL, meansL, marker='o',color='purple', label='Dataset A')\n",
    "ax.plot(neuronsL, meansL2, marker='o',color='orange',  label='Dataset B')\n",
    "plt.title(\"Akurasi vs Jumlah Hidden Units\",fontsize=14)\n",
    "plt.xlabel('Jumlah Hidden Units',fontsize=14)\n",
    "plt.ylabel('Akurasi',fontsize=14)\n",
    "plt.rc('xtick',labelsize=14)\n",
    "plt.rc('ytick',labelsize=14)\n",
    "plt.legend(prop={'size':14})\n",
    "plt.grid(True)\n",
    "plt.show()"
   ]
  },
  {
   "cell_type": "code",
   "execution_count": 23,
   "metadata": {
    "collapsed": true
   },
   "outputs": [],
   "source": [
    "dfb = pd.read_csv(\"wbc.csv\")\n",
    "dfb=dfb[dfb.bare_nuclei!='?']\n",
    "dfb['bare_nuclei']=dfb['bare_nuclei'].astype(object).astype(int)"
   ]
  },
  {
   "cell_type": "code",
   "execution_count": 24,
   "metadata": {
    "collapsed": true
   },
   "outputs": [],
   "source": [
    "A = dfb.drop([dfb.columns[-1]], axis=1)\n",
    "b = dfb.jenis.map({2: 0, 4: 1})"
   ]
  },
  {
   "cell_type": "code",
   "execution_count": 25,
   "metadata": {
    "collapsed": true
   },
   "outputs": [],
   "source": [
    "from sklearn.model_selection import train_test_split\n",
    "A_train, A_test, b_train, b_test = train_test_split(A, b, test_size=0.33, random_state=seed)"
   ]
  },
  {
   "cell_type": "code",
   "execution_count": 27,
   "metadata": {
    "collapsed": false
   },
   "outputs": [
    {
     "name": "stdout",
     "output_type": "stream",
     "text": [
      "Jumlah Hidden Units : 9\n",
      "Accuracy: 0.9606 (+/- 0.0215)\n",
      "\n",
      "\n",
      "Jumlah Hidden Units : 18\n",
      "Accuracy: 0.9540 (+/- 0.0250)\n",
      "\n",
      "\n",
      "Jumlah Hidden Units : 27\n",
      "Accuracy: 0.9496 (+/- 0.0222)\n",
      "\n",
      "\n",
      "Jumlah Hidden Units : 36\n",
      "Accuracy: 0.9540 (+/- 0.0316)\n",
      "\n",
      "\n",
      "Jumlah Hidden Units : 45\n",
      "Accuracy: 0.9518 (+/- 0.0236)\n",
      "\n",
      "\n",
      "Jumlah Hidden Units : 54\n",
      "Accuracy: 0.9561 (+/- 0.0198)\n",
      "\n",
      "\n",
      "Jumlah Hidden Units : 63\n",
      "Accuracy: 0.9475 (+/- 0.0261)\n",
      "\n",
      "\n",
      "Jumlah Hidden Units : 72\n",
      "Accuracy: 0.9607 (+/- 0.0212)\n",
      "\n",
      "\n",
      "Jumlah Hidden Units : 81\n",
      "Accuracy: 0.9628 (+/- 0.0294)\n",
      "\n",
      "\n"
     ]
    }
   ],
   "source": [
    "results2=[]\n",
    "model.load_weights('my_model_weights.h5')\n",
    "\n",
    "for neurons_idx in range(len(neurons2)):\n",
    "    param1 = neurons2[neurons_idx]\n",
    "    def create_model1():\n",
    "        model1 = Sequential()\n",
    "        model1.add(Dense(param1, input_dim=9, activation='relu'))\n",
    "        model1.add(Dense(1, activation='sigmoid'))\n",
    "        adm = optimizers.Adam(lr=0.01, beta_1=0.9, beta_2=0.999, epsilon=1e-08, decay=0.0)\n",
    "        model1.compile(loss='binary_crossentropy', optimizer=adm, metrics=['accuracy'])\n",
    "        return model1\n",
    "    bestmodelNN = KerasClassifier(build_fn=create_model1,  verbose=0)\n",
    "    model.load_weights('my_model_weights.h5')\n",
    "    print(\"Jumlah Hidden Units : %r\" % (param1))\n",
    "    scores2b=cross_val_score(bestmodelNN,A_train.as_matrix(),b_train,cv=10,scoring='accuracy')\n",
    "    print(\"Accuracy: %0.4f (+/- %0.4f)\" % (scores2b.mean(), scores2b.std() ))\n",
    "    results2.append(scores2b.mean())\n",
    "    print()\n",
    "    print()"
   ]
  },
  {
   "cell_type": "code",
   "execution_count": 31,
   "metadata": {
    "collapsed": false
   },
   "outputs": [
    {
     "data": {
      "image/png": "[encoded data removed]",
      "text/plain": [
       "<matplotlib.figure.Figure at 0xea12898>"
      ]
     },
     "metadata": {},
     "output_type": "display_data"
    }
   ],
   "source": [
    "import matplotlib.pyplot as plt\n",
    "fig, ax = plt.subplots(figsize=(9,5))\n",
    "ax.plot(neurons2, results, marker='o', label='Dataset A')\n",
    "ax.plot(neurons2, results2, marker='o',  label='Dataset B')\n",
    "plt.title(\"Akurasi vs Jumlah Hidden Units\",fontsize=14)\n",
    "plt.xlabel('Jumlah Hidden Units',fontsize=14)\n",
    "plt.ylabel('Akurasi',fontsize=14)\n",
    "plt.rc('xtick',labelsize=14)\n",
    "plt.rc('ytick',labelsize=14)\n",
    "plt.legend(prop={'size':14})\n",
    "plt.grid(True)\n",
    "plt.show()"
   ]
  },
  {
   "cell_type": "code",
   "execution_count": 32,
   "metadata": {
    "collapsed": false
   },
   "outputs": [
    {
     "data": {
      "text/plain": [
       "[0.9605797101449276,\n",
       " 0.95400966183574876,\n",
       " 0.94961352657004827,\n",
       " 0.95400966183574876,\n",
       " 0.95178743961352663,\n",
       " 0.95613526570048302,\n",
       " 0.94753623188405789,\n",
       " 0.96067632850241547,\n",
       " 0.96275362318840574]"
      ]
     },
     "execution_count": 32,
     "metadata": {},
     "output_type": "execute_result"
    }
   ],
   "source": [
    "results2"
   ]
  },
  {
   "cell_type": "code",
   "execution_count": null,
   "metadata": {
    "collapsed": true
   },
   "outputs": [],
   "source": [
    "def create_model1():\n",
    "    model1 = Sequential()\n",
    "    model1.add(Dense(81, input_dim=9, activation='relu'))\n",
    "    model1.add(Dense(1, activation='sigmoid'))\n",
    "    adm = optimizers.Adam(lr=0.01, beta_1=0.9, beta_2=0.999, epsilon=1e-08, decay=0.0)\n",
    "    model1.compile(loss='binary_crossentropy', optimizer=adm, metrics=['accuracy'])\n",
    "    return model1"
   ]
  },
  {
   "cell_type": "code",
   "execution_count": null,
   "metadata": {
    "collapsed": true
   },
   "outputs": [],
   "source": [
    "def create_model2():\n",
    "    model2 = Sequential()\n",
    "    model2.add(Dense(23, input_dim=9, activation='relu'))\n",
    "    model2.add(Dense(23, activation='relu'))\n",
    "    model2.add(Dense(1, activation='sigmoid'))\n",
    "    adm = optimizers.Adam(lr=0.01, beta_1=0.9, beta_2=0.999, epsilon=1e-08, decay=0.0)\n",
    "    model2.compile(loss='binary_crossentropy', optimizer=adm, metrics=['accuracy'])\n",
    "    return model2"
   ]
  },
  {
   "cell_type": "code",
   "execution_count": null,
   "metadata": {
    "collapsed": true
   },
   "outputs": [],
   "source": [
    "def create_model3():\n",
    "    model3 = Sequential()\n",
    "    model3.add(Dense(17, input_dim=9, activation='relu'))\n",
    "    model3.add(Dense(17, activation='relu'))\n",
    "    model3.add(Dense(17, activation='relu'))\n",
    "    model3.add(Dense(1, activation='sigmoid'))\n",
    "    adm = optimizers.Adam(lr=0.01, beta_1=0.9, beta_2=0.999, epsilon=1e-08, decay=0.0)\n",
    "    model3.compile(loss='binary_crossentropy', optimizer=adm, metrics=['accuracy'])\n",
    "    return model3"
   ]
  },
  {
   "cell_type": "code",
   "execution_count": null,
   "metadata": {
    "collapsed": true
   },
   "outputs": [],
   "source": [
    "def create_model4():\n",
    "    model4 = Sequential()\n",
    "    model4.add(Dense(14, input_dim=9, activation='relu'))\n",
    "    model4.add(Dense(14, activation='relu'))\n",
    "    model4.add(Dense(14, activation='relu'))\n",
    "    model4.add(Dense(14, activation='relu'))\n",
    "    model4.add(Dense(1, activation='sigmoid'))\n",
    "    adm = optimizers.Adam(lr=0.01, beta_1=0.9, beta_2=0.999, epsilon=1e-08, decay=0.0)\n",
    "    model4.compile(loss='binary_crossentropy', optimizer=adm, metrics=['accuracy'])\n",
    "    return model4"
   ]
  },
  {
   "cell_type": "code",
   "execution_count": null,
   "metadata": {
    "collapsed": true
   },
   "outputs": [],
   "source": [
    "def create_model5():\n",
    "    model5 = Sequential()\n",
    "    model5.add(Dense(12, input_dim=9, activation='relu'))\n",
    "    model5.add(Dense(12, activation='relu'))\n",
    "    model5.add(Dense(12, activation='relu'))\n",
    "    model5.add(Dense(12, activation='relu'))\n",
    "    model5.add(Dense(12, activation='relu'))\n",
    "    model5.add(Dense(1, activation='sigmoid'))\n",
    "    adm = optimizers.Adam(lr=0.01, beta_1=0.9, beta_2=0.999, epsilon=1e-08, decay=0.0)\n",
    "    model5.compile(loss='binary_crossentropy', optimizer=adm, metrics=['accuracy'])\n",
    "    return model5"
   ]
  },
  {
   "cell_type": "code",
   "execution_count": null,
   "metadata": {
    "collapsed": true
   },
   "outputs": [],
   "source": [
    "def create_model6():\n",
    "    model6 = Sequential()\n",
    "    model6.add(Dense(11, input_dim=9, activation='relu'))\n",
    "    model6.add(Dense(11, activation='relu'))\n",
    "    model6.add(Dense(11, activation='relu'))\n",
    "    model6.add(Dense(11, activation='relu'))\n",
    "    model6.add(Dense(11, activation='relu'))\n",
    "    model6.add(Dense(11, activation='relu'))\n",
    "    model6.add(Dense(1, activation='sigmoid'))\n",
    "    adm = optimizers.Adam(lr=0.01, beta_1=0.9, beta_2=0.999, epsilon=1e-08, decay=0.0)\n",
    "    model6.compile(loss='binary_crossentropy', optimizer=adm, metrics=['accuracy'])\n",
    "    return model6"
   ]
  },
  {
   "cell_type": "code",
   "execution_count": null,
   "metadata": {
    "collapsed": true
   },
   "outputs": [],
   "source": [
    "def create_model7():\n",
    "    model7 = Sequential()\n",
    "    model7.add(Dense(10, input_dim=9, activation='relu'))\n",
    "    model7.add(Dense(10, activation='relu'))\n",
    "    model7.add(Dense(10, activation='relu'))\n",
    "    model7.add(Dense(10, activation='relu'))\n",
    "    model7.add(Dense(10, activation='relu'))\n",
    "    model7.add(Dense(10, activation='relu'))\n",
    "    model7.add(Dense(10, activation='relu'))\n",
    "    model7.add(Dense(2, activation='softmax'))\n",
    "    adm = optimizers.Adam(lr=0.01, beta_1=0.9, beta_2=0.999, epsilon=1e-08, decay=0.0)\n",
    "    model7.compile(loss='categorical_crossentropy', optimizer=adm, metrics=['accuracy'])\n",
    "    return model7"
   ]
  },
  {
   "cell_type": "code",
   "execution_count": null,
   "metadata": {
    "collapsed": true
   },
   "outputs": [],
   "source": [
    "def create_model8():\n",
    "    model8 = Sequential()\n",
    "    model8.add(Dense(10, input_dim=9, activation='relu'))\n",
    "    model8.add(Dense(10, activation='relu'))\n",
    "    model8.add(Dense(10, activation='relu'))\n",
    "    model8.add(Dense(10, activation='relu'))\n",
    "    model8.add(Dense(10, activation='relu'))\n",
    "    model8.add(Dense(10, activation='relu'))\n",
    "    model8.add(Dense(10, activation='relu'))\n",
    "    model8.add(Dense(10, activation='relu'))\n",
    "    model8.add(Dense(1, activation='sigmoid'))\n",
    "    adm = optimizers.Adam(lr=0.01, beta_1=0.9, beta_2=0.999, epsilon=1e-08, decay=0.0)\n",
    "    model8.compile(loss='binary_crossentropy', optimizer=adm, metrics=['accuracy'])\n",
    "    return model8"
   ]
  },
  {
   "cell_type": "code",
   "execution_count": null,
   "metadata": {
    "collapsed": true
   },
   "outputs": [],
   "source": [
    "def create_model9():\n",
    "    model9 = Sequential()\n",
    "    model9.add(Dense(9, input_dim=9, activation='relu'))\n",
    "    model9.add(Dense(9, activation='relu'))\n",
    "    model9.add(Dense(9, activation='relu'))\n",
    "    model9.add(Dense(9, activation='relu'))\n",
    "    model9.add(Dense(9, activation='relu'))\n",
    "    model9.add(Dense(9, activation='relu'))\n",
    "    model9.add(Dense(9, activation='relu'))\n",
    "    model9.add(Dense(9, activation='relu'))\n",
    "    model9.add(Dense(9, activation='relu'))\n",
    "    model9.add(Dense(1, activation='sigmoid'))\n",
    "    adm = optimizers.Adam(lr=0.01, beta_1=0.9, beta_2=0.999, epsilon=1e-08, decay=0.0)\n",
    "    model9.compile(loss='binary_crossentropy', optimizer=adm, metrics=['accuracy'])\n",
    "    return model9"
   ]
  },
  {
   "cell_type": "code",
   "execution_count": null,
   "metadata": {
    "collapsed": true
   },
   "outputs": [],
   "source": [
    "def create_model10():\n",
    "    model10 = Sequential()\n",
    "    model10.add(Dense(9, input_dim=9, activation='relu'))\n",
    "    model10.add(Dense(9, activation='relu'))\n",
    "    model10.add(Dense(9, activation='relu'))\n",
    "    model10.add(Dense(9, activation='relu'))\n",
    "    model10.add(Dense(9, activation='relu'))\n",
    "    model10.add(Dense(9, activation='relu'))\n",
    "    model10.add(Dense(9, activation='relu'))\n",
    "    model10.add(Dense(9, activation='relu'))\n",
    "    model10.add(Dense(9, activation='relu'))\n",
    "    model10.add(Dense(9, activation='relu'))\n",
    "    model10.add(Dense(1, activation='sigmoid'))\n",
    "    adm = optimizers.Adam(lr=0.01, beta_1=0.9, beta_2=0.999, epsilon=1e-08, decay=0.0)\n",
    "    model10.compile(loss='binary_crossentropy', optimizer=adm, metrics=['accuracy'])\n",
    "    return model10"
   ]
  },
  {
   "cell_type": "code",
   "execution_count": null,
   "metadata": {
    "collapsed": true
   },
   "outputs": [],
   "source": [
    "epochs = [10, 20, 50, 100, 200, 500]\n",
    "class_weight = [{0 : 1., 1: 2},\n",
    "                {0 : 1., 1: 4},\n",
    "                {0 : 1., 1: 8},\n",
    "                {0 : 1., 1: 16},\n",
    "                {0 : 1., 1: 32},\n",
    "                {0 : 1., 1: 64}]\n",
    "results=[]\n",
    "model.load_weights('my_model_weights.h5')\n",
    "\n",
    "for epochs_idx in range(len(epochs)):\n",
    "  for class_weight_idx in range(len(class_weight)):\n",
    "    param1 = epochs[epochs_idx]\n",
    "    param2 = class_weight[class_weight_idx]\n",
    "    bestmodelNN = KerasClassifier(build_fn=create_model8, epochs= param1, class_weight = param2, verbose=0)\n",
    "    model.load_weights('my_model_weights.h5')\n",
    "    bestmodelNN.fit(X_train.as_matrix(), y_train )\n",
    "    print(\"Epochs : %r & Class Weight : %r)\" % (param1, param2))\n",
    "    scores1=cross_val_score(bestmodelNN,X_train.as_matrix(),y_train,cv=10,scoring=score_specificity)\n",
    "    print(\"Specificity: %0.4f (+/- %0.4f)\" % (scores1.mean(), scores1.std() ))\n",
    "    model.load_weights('my_model_weights.h5')\n",
    "    scores2=cross_val_score(bestmodelNN,X_train.as_matrix(),y_train,cv=10,scoring='accuracy')\n",
    "    print(\"Accuracy: %0.4f (+/- %0.4f)\" % (scores2.mean(), scores2.std() ))\n",
    "    model.load_weights('my_model_weights.h5')\n",
    "    scores3=cross_val_score(bestmodelNN,X_train.as_matrix(),y_train,cv=10,scoring='recall')\n",
    "    print(\"Recall: %0.4f (+/- %0.4f)\" % (scores3.mean(), scores3.std() ))\n",
    "    model.load_weights('my_model_weights.h5')\n",
    "    scores4=cross_val_score(bestmodelNN,X_train.as_matrix(), y_train, cv=10, scoring=my_custom_scorer)\n",
    "    print(\"Score cost: %0.4f (+/- %0.4f)\" % (scores4.mean(), scores4.std() ))\n",
    "    print()\n",
    "    print()"
   ]
  },
  {
   "cell_type": "code",
   "execution_count": null,
   "metadata": {
    "collapsed": true
   },
   "outputs": [],
   "source": []
  },
  {
   "cell_type": "code",
   "execution_count": null,
   "metadata": {
    "collapsed": true
   },
   "outputs": [],
   "source": []
  },
  {
   "cell_type": "code",
   "execution_count": null,
   "metadata": {
    "collapsed": true
   },
   "outputs": [],
   "source": []
  },
  {
   "cell_type": "code",
   "execution_count": null,
   "metadata": {
    "collapsed": true
   },
   "outputs": [],
   "source": []
  }
 ],
 "metadata": {
  "kernelspec": {
   "display_name": "Python 3",
   "language": "python",
   "name": "python3"
  },
  "language_info": {
   "codemirror_mode": {
    "name": "ipython",
    "version": 3
   },
   "file_extension": ".py",
   "mimetype": "text/x-python",
   "name": "python",
   "nbconvert_exporter": "python",
   "pygments_lexer": "ipython3",
   "version": "3.5.3"
  }
 },
 "nbformat": 4,
 "nbformat_minor": 2
}
