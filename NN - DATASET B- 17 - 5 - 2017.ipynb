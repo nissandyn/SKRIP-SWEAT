{
 "cells": [
  {
   "cell_type": "code",
   "execution_count": 1,
   "metadata": {
    "collapsed": false
   },
   "outputs": [
    {
     "name": "stderr",
     "output_type": "stream",
     "text": [
      "Using Theano backend.\n"
     ]
    }
   ],
   "source": [
    "from keras.models import Sequential\n",
    "from keras.layers import Dense\n",
    "from keras.wrappers.scikit_learn import KerasClassifier\n",
    "from sklearn.model_selection import StratifiedKFold\n",
    "from sklearn.model_selection import cross_val_score\n",
    "from keras.models import Sequential\n",
    "from keras.layers import Dense\n",
    "from keras.utils import np_utils"
   ]
  },
  {
   "cell_type": "code",
   "execution_count": 2,
   "metadata": {
    "collapsed": true
   },
   "outputs": [],
   "source": [
    "from keras import optimizers"
   ]
  },
  {
   "cell_type": "code",
   "execution_count": 3,
   "metadata": {
    "collapsed": true
   },
   "outputs": [],
   "source": [
    "def create_model10a():\n",
    "    model10 = Sequential()\n",
    "    model10.add(Dense(7, input_dim=9, activation='relu'))\n",
    "    model10.add(Dense(7, activation='relu'))\n",
    "    model10.add(Dense(7, activation='relu'))\n",
    "    model10.add(Dense(7, activation='relu'))\n",
    "    model10.add(Dense(7, activation='relu'))\n",
    "    model10.add(Dense(7, activation='relu'))\n",
    "    model10.add(Dense(7, activation='relu'))\n",
    "    model10.add(Dense(7, activation='relu'))\n",
    "    model10.add(Dense(7, activation='relu'))\n",
    "    model10.add(Dense(7, activation='relu'))\n",
    "    model10.add(Dense(1, activation='sigmoid'))\n",
    "    adm = optimizers.Adam(lr=0.01, beta_1=0.9, beta_2=0.999, epsilon=1e-08, decay=0.0)\n",
    "    model10.compile(loss='binary_crossentropy', optimizer=adm, metrics=['accuracy'])\n",
    "    return model10"
   ]
  },
  {
   "cell_type": "code",
   "execution_count": 4,
   "metadata": {
    "collapsed": true
   },
   "outputs": [],
   "source": [
    "class_weight = [{0 : 1., 1: 2},\n",
    "                {0 : 1., 1: 4},\n",
    "                {0 : 1., 1: 8},\n",
    "                {0 : 1., 1: 16},\n",
    "                {0 : 1., 1: 32},\n",
    "                {0 : 1., 1: 64}]"
   ]
  },
  {
   "cell_type": "code",
   "execution_count": 5,
   "metadata": {
    "collapsed": true
   },
   "outputs": [],
   "source": [
    "epochs = [10, 20, 50, 100, 200, 500]"
   ]
  },
  {
   "cell_type": "code",
   "execution_count": 6,
   "metadata": {
    "collapsed": true
   },
   "outputs": [],
   "source": [
    "param_gridNN = dict(epochs=epochs, class_weight=class_weight )"
   ]
  },
  {
   "cell_type": "code",
   "execution_count": 7,
   "metadata": {
    "collapsed": true
   },
   "outputs": [],
   "source": [
    "from sklearn.metrics import confusion_matrix"
   ]
  },
  {
   "cell_type": "code",
   "execution_count": 8,
   "metadata": {
    "collapsed": true
   },
   "outputs": [],
   "source": [
    "modelNN = KerasClassifier(build_fn=create_model10a, verbose=0)"
   ]
  },
  {
   "cell_type": "code",
   "execution_count": 9,
   "metadata": {
    "collapsed": true
   },
   "outputs": [],
   "source": [
    "import pandas as pd\n",
    "import numpy as np"
   ]
  },
  {
   "cell_type": "code",
   "execution_count": 10,
   "metadata": {
    "collapsed": false
   },
   "outputs": [],
   "source": [
    "dfb = pd.read_csv(\"wbc.csv\")\n",
    "dfb=dfb[dfb.bare_nuclei!='?']\n",
    "dfb['bare_nuclei']=dfb['bare_nuclei'].astype(object).astype(int)"
   ]
  },
  {
   "cell_type": "code",
   "execution_count": 11,
   "metadata": {
    "collapsed": true
   },
   "outputs": [],
   "source": [
    "X = dfb.drop([dfb.columns[-1]], axis=1)\n",
    "y = dfb.jenis.map({2: 0, 4: 1})"
   ]
  },
  {
   "cell_type": "code",
   "execution_count": 12,
   "metadata": {
    "collapsed": true
   },
   "outputs": [],
   "source": [
    "RAND_SEED_SPLIT = RAND_SEED_TUNING = 168"
   ]
  },
  {
   "cell_type": "code",
   "execution_count": 13,
   "metadata": {
    "collapsed": false
   },
   "outputs": [],
   "source": [
    "from sklearn.model_selection import train_test_split\n",
    "X_train, X_test, y_train, y_test = train_test_split(X, y,test_size=0.33, random_state=RAND_SEED_SPLIT)"
   ]
  },
  {
   "cell_type": "code",
   "execution_count": 14,
   "metadata": {
    "collapsed": true
   },
   "outputs": [],
   "source": [
    "from sklearn.metrics import confusion_matrix"
   ]
  },
  {
   "cell_type": "code",
   "execution_count": 15,
   "metadata": {
    "collapsed": true
   },
   "outputs": [],
   "source": [
    "def cost_breast_cancer(y_true, y_pred):\n",
    "    CM = confusion_matrix(y_true, y_pred)\n",
    "    FN = CM[1][0]\n",
    "    FP = CM[0][1]\n",
    "    costBC=((-1*((228.35*FP)+(2850000*FN))))\n",
    "    return costBC"
   ]
  },
  {
   "cell_type": "code",
   "execution_count": 16,
   "metadata": {
    "collapsed": true
   },
   "outputs": [],
   "source": [
    "def specificity(y_true, y_pred):\n",
    "    CM = confusion_matrix(y_true, y_pred)\n",
    "    TN = CM[0][0]\n",
    "    FN = CM[1][0]\n",
    "    TP = CM[1][1]\n",
    "    FP = CM[0][1]\n",
    "    nilai=(TN/(FP+TN))\n",
    "    return nilai"
   ]
  },
  {
   "cell_type": "code",
   "execution_count": 17,
   "metadata": {
    "collapsed": false
   },
   "outputs": [],
   "source": [
    "from sklearn.metrics import make_scorer\n",
    "my_custom_scorer=make_scorer(cost_breast_cancer, greater_is_better=True)\n",
    "score_specificity=make_scorer(specificity, greater_is_better=True)"
   ]
  },
  {
   "cell_type": "code",
   "execution_count": 18,
   "metadata": {
    "collapsed": true
   },
   "outputs": [],
   "source": [
    "from sklearn.metrics import accuracy_score, precision_recall_fscore_support\n",
    "from sklearn import metrics\n",
    "from sklearn.model_selection import GridSearchCV\n",
    "from __future__ import print_function\n",
    "from sklearn.metrics import classification_report\n",
    "from sklearn.metrics import confusion_matrix\n",
    "from sklearn.metrics import make_scorer\n",
    "from sklearn.model_selection import cross_val_score\n",
    "from sklearn.metrics import roc_curve, roc_auc_score"
   ]
  },
  {
   "cell_type": "code",
   "execution_count": 19,
   "metadata": {
    "collapsed": false
   },
   "outputs": [
    {
     "name": "stdout",
     "output_type": "stream",
     "text": [
      "Automatically created module for IPython interactive environment\n",
      "# Tuning hyper-parameters for make_scorer(cost_breast_cancer)\n",
      "\n",
      "Best parameters set found on development set:\n",
      "\n",
      "{'class_weight': {0: 1.0, 1: 16}, 'epochs': 10}\n",
      "\n",
      "Grid scores on development set:\n",
      "\n",
      "-849195.351 (+/-3630951.399) for {'class_weight': {0: 1.0, 1: 2}, 'epochs': 10}\n",
      "-6591998.676 (+/-31934017.087) for {'class_weight': {0: 1.0, 1: 2}, 'epochs': 20}\n",
      "-1141725.950 (+/-2792517.301) for {'class_weight': {0: 1.0, 1: 2}, 'epochs': 50}\n",
      "-1996724.909 (+/-4443508.009) for {'class_weight': {0: 1.0, 1: 2}, 'epochs': 100}\n",
      "-1709771.066 (+/-3786020.825) for {'class_weight': {0: 1.0, 1: 2}, 'epochs': 200}\n",
      "-1135445.156 (+/-2790399.573) for {'class_weight': {0: 1.0, 1: 2}, 'epochs': 500}\n",
      "-854903.022 (+/-2611035.017) for {'class_weight': {0: 1.0, 1: 4}, 'epochs': 10}\n",
      "-1135376.701 (+/-2790419.102) for {'class_weight': {0: 1.0, 1: 4}, 'epochs': 20}\n",
      "-1422247.598 (+/-2850268.660) for {'class_weight': {0: 1.0, 1: 4}, 'epochs': 50}\n",
      "-282264.503 (+/-1697227.124) for {'class_weight': {0: 1.0, 1: 4}, 'epochs': 100}\n",
      "-1428437.952 (+/-2849811.927) for {'class_weight': {0: 1.0, 1: 4}, 'epochs': 200}\n",
      "-1710681.468 (+/-3783896.209) for {'class_weight': {0: 1.0, 1: 4}, 'epochs': 500}\n",
      "-849080.926 (+/-2605111.957) for {'class_weight': {0: 1.0, 1: 8}, 'epochs': 10}\n",
      "-1099.778 (+/-3896.402) for {'class_weight': {0: 1.0, 1: 8}, 'epochs': 20}\n",
      "-856695.844 (+/-2608992.976) for {'class_weight': {0: 1.0, 1: 8}, 'epochs': 50}\n",
      "-569823.947 (+/-2274171.705) for {'class_weight': {0: 1.0, 1: 8}, 'epochs': 100}\n",
      "-567893.216 (+/-2276431.089) for {'class_weight': {0: 1.0, 1: 8}, 'epochs': 200}\n",
      "-5438932.335 (+/-21303555.726) for {'class_weight': {0: 1.0, 1: 8}, 'epochs': 500}\n",
      "-1007.338 (+/-3483.805) for {'class_weight': {0: 1.0, 1: 16}, 'epochs': 10}\n",
      "-569824.447 (+/-2274171.713) for {'class_weight': {0: 1.0, 1: 16}, 'epochs': 20}\n",
      "-569983.842 (+/-2274358.225) for {'class_weight': {0: 1.0, 1: 16}, 'epochs': 50}\n",
      "-849778.468 (+/-3630620.823) for {'class_weight': {0: 1.0, 1: 16}, 'epochs': 100}\n",
      "-1130459.510 (+/-3762763.641) for {'class_weight': {0: 1.0, 1: 16}, 'epochs': 200}\n",
      "-848552.273 (+/-2605999.071) for {'class_weight': {0: 1.0, 1: 16}, 'epochs': 500}\n",
      "-2747.695 (+/-5075.917) for {'class_weight': {0: 1.0, 1: 32}, 'epochs': 10}\n",
      "-855657.026 (+/-2610348.147) for {'class_weight': {0: 1.0, 1: 32}, 'epochs': 20}\n",
      "-1290.652 (+/-3481.250) for {'class_weight': {0: 1.0, 1: 32}, 'epochs': 50}\n",
      "-289956.370 (+/-1713077.344) for {'class_weight': {0: 1.0, 1: 32}, 'epochs': 100}\n",
      "-288541.800 (+/-1714325.411) for {'class_weight': {0: 1.0, 1: 32}, 'epochs': 200}\n",
      "-854811.082 (+/-2611456.297) for {'class_weight': {0: 1.0, 1: 32}, 'epochs': 500}\n",
      "-289398.737 (+/-1713597.161) for {'class_weight': {0: 1.0, 1: 64}, 'epochs': 10}\n",
      "-283014.010 (+/-1697184.859) for {'class_weight': {0: 1.0, 1: 64}, 'epochs': 20}\n",
      "-568721.172 (+/-2275156.359) for {'class_weight': {0: 1.0, 1: 64}, 'epochs': 50}\n",
      "-849847.922 (+/-2604412.656) for {'class_weight': {0: 1.0, 1: 64}, 'epochs': 100}\n",
      "-570660.898 (+/-2273569.232) for {'class_weight': {0: 1.0, 1: 64}, 'epochs': 200}\n",
      "-4873412.060 (+/-25441971.999) for {'class_weight': {0: 1.0, 1: 64}, 'epochs': 500}\n",
      "\n"
     ]
    }
   ],
   "source": [
    "print(__doc__)\n",
    "\n",
    "\n",
    "scores = [my_custom_scorer]\n",
    "\n",
    "for score in scores:\n",
    "    print(\"# Tuning hyper-parameters for %s\" % score)\n",
    "    print()\n",
    "\n",
    "    clf3 = GridSearchCV(estimator=modelNN, param_grid=param_gridNN, cv=10, \n",
    "                       scoring=my_custom_scorer)\n",
    "    clf3.fit(X_train.as_matrix(), y_train)\n",
    "\n",
    "    print(\"Best parameters set found on development set:\")\n",
    "    print()\n",
    "    print(clf3.best_params_)\n",
    "    print()\n",
    "    print(\"Grid scores on development set:\")\n",
    "    print()\n",
    "    means3 = clf3.cv_results_['mean_test_score']\n",
    "    stds3 = clf3.cv_results_['std_test_score']\n",
    "    for mean, std, params in zip(means3, stds3, clf3.cv_results_['params']):\n",
    "        print(\"%0.3f (+/-%0.03f) for %r\"\n",
    "              % (mean, std * 2, params))\n",
    "    print()"
   ]
  },
  {
   "cell_type": "code",
   "execution_count": 20,
   "metadata": {
    "collapsed": false
   },
   "outputs": [
    {
     "name": "stdout",
     "output_type": "stream",
     "text": [
      "Best score obtained: -1007.3382932166303\n",
      "Parameters:\n",
      "\tclass_weight: {0: 1.0, 1: 16}\n",
      "\tepochs: 10\n"
     ]
    }
   ],
   "source": [
    "print(\"Best score obtained: {0}\".format(clf3.best_score_))\n",
    "print(\"Parameters:\")\n",
    "for key, value in clf3.best_params_.items():\n",
    "    print(\"\\t{}: {}\".format(key, value))"
   ]
  },
  {
   "cell_type": "code",
   "execution_count": 21,
   "metadata": {
    "collapsed": true
   },
   "outputs": [],
   "source": [
    "best_class_weight = {0: 1.0, 1: 16}"
   ]
  },
  {
   "cell_type": "code",
   "execution_count": 22,
   "metadata": {
    "collapsed": false
   },
   "outputs": [
    {
     "data": {
      "text/plain": [
       "<keras.callbacks.History at 0xeea2cc0>"
      ]
     },
     "execution_count": 22,
     "metadata": {},
     "output_type": "execute_result"
    }
   ],
   "source": [
    "modelNN.fit(X_train.as_matrix(), y_train, epochs= 10, class_weight = best_class_weight)"
   ]
  },
  {
   "cell_type": "code",
   "execution_count": 23,
   "metadata": {
    "collapsed": false
   },
   "outputs": [
    {
     "name": "stdout",
     "output_type": "stream",
     "text": [
      "Score cost: -11115228.3500 (+/- 36269855.2315)\n"
     ]
    }
   ],
   "source": [
    "scores4=cross_val_score(modelNN,X_train.as_matrix(),y_train,cv=10,scoring=my_custom_scorer)\n",
    "print(\"Score cost: %0.4f (+/- %0.4f)\" % (scores4.mean(), scores4.std() * 2))"
   ]
  },
  {
   "cell_type": "code",
   "execution_count": 24,
   "metadata": {
    "collapsed": false
   },
   "outputs": [
    {
     "name": "stdout",
     "output_type": "stream",
     "text": [
      "Specificity: 0.9574 (+/- 0.0661)\n",
      "Accuracy: 0.8729 (+/- 0.2556)\n",
      "Recall: 0.9726 (+/- 0.0696)\n"
     ]
    }
   ],
   "source": [
    "scores1=cross_val_score(modelNN,X_train.as_matrix(),y_train,cv=10,scoring=score_specificity)\n",
    "print(\"Specificity: %0.4f (+/- %0.4f)\" % (scores1.mean(), scores1.std() * 2))\n",
    "scores2=cross_val_score(modelNN,X_train.as_matrix(),y_train,cv=10,scoring='accuracy')\n",
    "print(\"Accuracy: %0.4f (+/- %0.4f)\" % (scores2.mean(), scores2.std() * 2))\n",
    "scores3=cross_val_score(modelNN,X_train.as_matrix(),y_train,cv=10,scoring='recall')\n",
    "print(\"Recall: %0.4f (+/- %0.4f)\" % (scores3.mean(), scores3.std() * 2))\n"
   ]
  },
  {
   "cell_type": "code",
   "execution_count": null,
   "metadata": {
    "collapsed": true
   },
   "outputs": [],
   "source": []
  }
 ],
 "metadata": {
  "kernelspec": {
   "display_name": "Python 3",
   "language": "python",
   "name": "python3"
  },
  "language_info": {
   "codemirror_mode": {
    "name": "ipython",
    "version": 3
   },
   "file_extension": ".py",
   "mimetype": "text/x-python",
   "name": "python",
   "nbconvert_exporter": "python",
   "pygments_lexer": "ipython3",
   "version": "3.5.3"
  }
 },
 "nbformat": 4,
 "nbformat_minor": 2
}
