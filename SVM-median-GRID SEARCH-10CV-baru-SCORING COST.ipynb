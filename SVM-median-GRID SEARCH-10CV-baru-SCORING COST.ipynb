{
 "cells": [
  {
   "cell_type": "code",
   "execution_count": 1,
   "metadata": {
    "collapsed": true
   },
   "outputs": [],
   "source": [
    "\n",
    "%matplotlib inline\n",
    "import pandas as pd\n",
    "import numpy as np\n",
    "import matplotlib.pyplot as plt\n",
    "from scipy import stats\n",
    "import pylab as pl\n",
    "from sklearn.model_selection import train_test_split"
   ]
  },
  {
   "cell_type": "code",
   "execution_count": 2,
   "metadata": {
    "collapsed": false
   },
   "outputs": [],
   "source": [
    "dfA = pd.read_csv(\"wbc.csv\")"
   ]
  },
  {
   "cell_type": "code",
   "execution_count": 3,
   "metadata": {
    "collapsed": false
   },
   "outputs": [
    {
     "name": "stdout",
     "output_type": "stream",
     "text": [
      "<class 'pandas.core.frame.DataFrame'>\n",
      "RangeIndex: 699 entries, 0 to 698\n",
      "Data columns (total 10 columns):\n",
      "clump_thickness       699 non-null int64\n",
      "cell_size             699 non-null int64\n",
      "cell_shape            699 non-null int64\n",
      "marginal_adhesion     699 non-null int64\n",
      "epitelial_cellsize    699 non-null int64\n",
      "bare_nuclei           699 non-null float64\n",
      "bland_chromatin       699 non-null int64\n",
      "normal_nucleoli       699 non-null int64\n",
      "mitoses               699 non-null int64\n",
      "jenis                 699 non-null int64\n",
      "dtypes: float64(1), int64(9)\n",
      "memory usage: 54.7 KB\n"
     ]
    }
   ],
   "source": [
    "dfA=dfA.replace('?',np.nan)\n",
    "dfA['bare_nuclei'] = pd.to_numeric(dfA.bare_nuclei.fillna(dfA.bare_nuclei.median()))\n",
    "dfA.info()"
   ]
  },
  {
   "cell_type": "code",
   "execution_count": 4,
   "metadata": {
    "collapsed": false
   },
   "outputs": [],
   "source": [
    "X = dfA.drop([dfA.columns[-1]], axis=1)\n",
    "y = dfA.jenis.map({2: 0, 4: 1})"
   ]
  },
  {
   "cell_type": "code",
   "execution_count": 5,
   "metadata": {
    "collapsed": false
   },
   "outputs": [],
   "source": [
    "X_train, X_test, y_train, y_test = train_test_split(X, y,test_size=0.33, random_state=42)"
   ]
  },
  {
   "cell_type": "code",
   "execution_count": 6,
   "metadata": {
    "collapsed": true
   },
   "outputs": [],
   "source": [
    "from sklearn import svm"
   ]
  },
  {
   "cell_type": "code",
   "execution_count": 7,
   "metadata": {
    "collapsed": true
   },
   "outputs": [],
   "source": [
    "from sklearn.metrics import accuracy_score, precision_recall_fscore_support"
   ]
  },
  {
   "cell_type": "code",
   "execution_count": 8,
   "metadata": {
    "collapsed": false
   },
   "outputs": [],
   "source": [
    "from sklearn import metrics"
   ]
  },
  {
   "cell_type": "code",
   "execution_count": 9,
   "metadata": {
    "collapsed": false
   },
   "outputs": [],
   "source": [
    "from sklearn.model_selection import GridSearchCV\n",
    "from __future__ import print_function\n",
    "from sklearn.metrics import classification_report\n",
    "from sklearn.svm import SVC"
   ]
  },
  {
   "cell_type": "code",
   "execution_count": 10,
   "metadata": {
    "collapsed": true
   },
   "outputs": [],
   "source": [
    "svr=svm.SVC()"
   ]
  },
  {
   "cell_type": "code",
   "execution_count": 11,
   "metadata": {
    "collapsed": false
   },
   "outputs": [],
   "source": [
    "gamma_range = [2**i for i in [-15, -13, -11, -9, -7, -5, -3, -1, 1, 3]]"
   ]
  },
  {
   "cell_type": "code",
   "execution_count": 12,
   "metadata": {
    "collapsed": false
   },
   "outputs": [
    {
     "data": {
      "text/plain": [
       "[3.0517578125e-05,\n",
       " 0.0001220703125,\n",
       " 0.00048828125,\n",
       " 0.001953125,\n",
       " 0.0078125,\n",
       " 0.03125,\n",
       " 0.125,\n",
       " 0.5,\n",
       " 2,\n",
       " 8]"
      ]
     },
     "execution_count": 12,
     "metadata": {},
     "output_type": "execute_result"
    }
   ],
   "source": [
    "gamma_range"
   ]
  },
  {
   "cell_type": "code",
   "execution_count": 13,
   "metadata": {
    "collapsed": false
   },
   "outputs": [],
   "source": [
    "C_range = [2**i for i in [-5, -3, -1, 1, 3, 5, 7, 9, 11, 13, 15]]"
   ]
  },
  {
   "cell_type": "code",
   "execution_count": 14,
   "metadata": {
    "collapsed": false
   },
   "outputs": [
    {
     "data": {
      "text/plain": [
       "[0.03125, 0.125, 0.5, 2, 8, 32, 128, 512, 2048, 8192, 32768]"
      ]
     },
     "execution_count": 14,
     "metadata": {},
     "output_type": "execute_result"
    }
   ],
   "source": [
    "C_range"
   ]
  },
  {
   "cell_type": "code",
   "execution_count": 15,
   "metadata": {
    "collapsed": true
   },
   "outputs": [],
   "source": [
    "from sklearn.metrics import confusion_matrix"
   ]
  },
  {
   "cell_type": "code",
   "execution_count": 16,
   "metadata": {
    "collapsed": true
   },
   "outputs": [],
   "source": [
    "def cost_breast_cancer(y_true, y_pred):\n",
    "    CM = confusion_matrix(y_true, y_pred)\n",
    "    FN = CM[1][0]\n",
    "    FP = CM[0][1]\n",
    "    costBC=((228.35*FP)+(2850000*FN))\n",
    "    return costBC"
   ]
  },
  {
   "cell_type": "code",
   "execution_count": 17,
   "metadata": {
    "collapsed": true
   },
   "outputs": [],
   "source": [
    "def specificity(y_true, y_pred):\n",
    "    CM = confusion_matrix(y_true, y_pred)\n",
    "    TN = CM[0][0]\n",
    "    FN = CM[1][0]\n",
    "    TP = CM[1][1]\n",
    "    FP = CM[0][1]\n",
    "    nilai=(TN/(FP+TN))\n",
    "    return nilai"
   ]
  },
  {
   "cell_type": "code",
   "execution_count": 18,
   "metadata": {
    "collapsed": true
   },
   "outputs": [],
   "source": [
    "from sklearn.metrics import make_scorer\n",
    "my_custom_scorer=make_scorer(cost_breast_cancer, greater_is_better=False)\n",
    "score_specificity=make_scorer(specificity, greater_is_better=True)"
   ]
  },
  {
   "cell_type": "code",
   "execution_count": 19,
   "metadata": {
    "collapsed": false
   },
   "outputs": [
    {
     "name": "stdout",
     "output_type": "stream",
     "text": [
      "Automatically created module for IPython interactive environment\n",
      "# Tuning hyper-parameters for make_scorer(cost_breast_cancer, greater_is_better=False)\n",
      "\n",
      "Best parameters set found on development set:\n",
      "\n",
      "{'C': 0.125, 'kernel': 'rbf', 'gamma': 0.125}\n",
      "\n",
      "Grid scores on development set:\n",
      "\n",
      "-46769230.769 (+/-2803716.891) for {'C': 0.03125, 'kernel': 'rbf', 'gamma': 3.0517578125e-05}\n",
      "-46769230.769 (+/-2803716.891) for {'C': 0.03125, 'kernel': 'rbf', 'gamma': 0.0001220703125}\n",
      "-43919230.769 (+/-6856780.862) for {'C': 0.03125, 'kernel': 'rbf', 'gamma': 0.00048828125}\n",
      "-4543132.179 (+/-8915185.777) for {'C': 0.03125, 'kernel': 'rbf', 'gamma': 0.001953125}\n",
      "-2277792.453 (+/-6163096.114) for {'C': 0.03125, 'kernel': 'rbf', 'gamma': 0.0078125}\n",
      "-865131.004 (+/-3678378.210) for {'C': 0.03125, 'kernel': 'rbf', 'gamma': 0.03125}\n",
      "-292968.346 (+/-1729177.839) for {'C': 0.03125, 'kernel': 'rbf', 'gamma': 0.125}\n",
      "-46769230.769 (+/-2803716.891) for {'C': 0.03125, 'kernel': 'rbf', 'gamma': 0.5}\n",
      "-46769230.769 (+/-2803716.891) for {'C': 0.03125, 'kernel': 'rbf', 'gamma': 2}\n",
      "-46769230.769 (+/-2803716.891) for {'C': 0.03125, 'kernel': 'rbf', 'gamma': 8}\n",
      "-46769230.769 (+/-2803716.891) for {'C': 0.125, 'kernel': 'rbf', 'gamma': 3.0517578125e-05}\n",
      "-40764743.590 (+/-5155880.610) for {'C': 0.125, 'kernel': 'rbf', 'gamma': 0.0001220703125}\n",
      "-4543132.179 (+/-8915185.777) for {'C': 0.125, 'kernel': 'rbf', 'gamma': 0.00048828125}\n",
      "-2838003.974 (+/-6758833.774) for {'C': 0.125, 'kernel': 'rbf', 'gamma': 0.001953125}\n",
      "-1437430.282 (+/-5302501.138) for {'C': 0.125, 'kernel': 'rbf', 'gamma': 0.0078125}\n",
      "-1145213.344 (+/-3804435.152) for {'C': 0.125, 'kernel': 'rbf', 'gamma': 0.03125}\n",
      "-727.988 (+/-728.696) for {'C': 0.125, 'kernel': 'rbf', 'gamma': 0.125}\n",
      "-1272.515 (+/-1023.507) for {'C': 0.125, 'kernel': 'rbf', 'gamma': 0.5}\n",
      "-46769230.769 (+/-2803716.891) for {'C': 0.125, 'kernel': 'rbf', 'gamma': 2}\n",
      "-46769230.769 (+/-2803716.891) for {'C': 0.125, 'kernel': 'rbf', 'gamma': 8}\n",
      "-40484615.385 (+/-5603623.088) for {'C': 0.5, 'kernel': 'rbf', 'gamma': 3.0517578125e-05}\n",
      "-4823260.384 (+/-8495842.970) for {'C': 0.5, 'kernel': 'rbf', 'gamma': 0.0001220703125}\n",
      "-2838003.974 (+/-6758833.774) for {'C': 0.5, 'kernel': 'rbf', 'gamma': 0.00048828125}\n",
      "-2838026.418 (+/-6758796.078) for {'C': 0.5, 'kernel': 'rbf', 'gamma': 0.001953125}\n",
      "-1717536.042 (+/-5270207.099) for {'C': 0.5, 'kernel': 'rbf', 'gamma': 0.0078125}\n",
      "-1145213.344 (+/-3804435.152) for {'C': 0.5, 'kernel': 'rbf', 'gamma': 0.03125}\n",
      "-292901.012 (+/-1729223.353) for {'C': 0.5, 'kernel': 'rbf', 'gamma': 0.125}\n",
      "-1229.577 (+/-796.297) for {'C': 0.5, 'kernel': 'rbf', 'gamma': 0.5}\n",
      "-37233096.312 (+/-36987497.965) for {'C': 0.5, 'kernel': 'rbf', 'gamma': 2}\n",
      "-46196794.872 (+/-3430120.718) for {'C': 0.5, 'kernel': 'rbf', 'gamma': 8}\n",
      "-4823260.384 (+/-8495842.970) for {'C': 2, 'kernel': 'rbf', 'gamma': 3.0517578125e-05}\n",
      "-2838003.974 (+/-6758833.774) for {'C': 2, 'kernel': 'rbf', 'gamma': 0.0001220703125}\n",
      "-3118132.179 (+/-7414527.279) for {'C': 2, 'kernel': 'rbf', 'gamma': 0.00048828125}\n",
      "-1997641.803 (+/-5177399.133) for {'C': 2, 'kernel': 'rbf', 'gamma': 0.001953125}\n",
      "-1985484.760 (+/-4462956.180) for {'C': 2, 'kernel': 'rbf', 'gamma': 0.0078125}\n",
      "-1425296.660 (+/-3845367.166) for {'C': 2, 'kernel': 'rbf', 'gamma': 0.03125}\n",
      "-865245.179 (+/-3678485.594) for {'C': 2, 'kernel': 'rbf', 'gamma': 0.125}\n",
      "-818.742 (+/-681.326) for {'C': 2, 'kernel': 'rbf', 'gamma': 0.5}\n",
      "-1572.102 (+/-942.166) for {'C': 2, 'kernel': 'rbf', 'gamma': 2}\n",
      "-2712.876 (+/-945.361) for {'C': 2, 'kernel': 'rbf', 'gamma': 8}\n",
      "-2838003.974 (+/-6758833.774) for {'C': 8, 'kernel': 'rbf', 'gamma': 3.0517578125e-05}\n",
      "-3118132.179 (+/-7414527.279) for {'C': 8, 'kernel': 'rbf', 'gamma': 0.0001220703125}\n",
      "-2570077.700 (+/-7018202.262) for {'C': 8, 'kernel': 'rbf', 'gamma': 0.00048828125}\n",
      "-2289971.940 (+/-6717072.765) for {'C': 8, 'kernel': 'rbf', 'gamma': 0.001953125}\n",
      "-2302151.427 (+/-6710753.765) for {'C': 8, 'kernel': 'rbf', 'gamma': 0.0078125}\n",
      "-3167077.501 (+/-7001830.694) for {'C': 8, 'kernel': 'rbf', 'gamma': 0.03125}\n",
      "-865245.179 (+/-3678485.594) for {'C': 8, 'kernel': 'rbf', 'gamma': 0.125}\n",
      "-818.742 (+/-681.326) for {'C': 8, 'kernel': 'rbf', 'gamma': 0.5}\n",
      "-1572.102 (+/-942.166) for {'C': 8, 'kernel': 'rbf', 'gamma': 2}\n",
      "-2712.876 (+/-945.361) for {'C': 8, 'kernel': 'rbf', 'gamma': 8}\n",
      "-3118132.179 (+/-7414527.279) for {'C': 32, 'kernel': 'rbf', 'gamma': 3.0517578125e-05}\n",
      "-2570077.700 (+/-7018202.262) for {'C': 32, 'kernel': 'rbf', 'gamma': 0.0001220703125}\n",
      "-2302151.427 (+/-6710677.508) for {'C': 32, 'kernel': 'rbf', 'gamma': 0.00048828125}\n",
      "-2570100.145 (+/-7875658.004) for {'C': 32, 'kernel': 'rbf', 'gamma': 0.001953125}\n",
      "-3727174.847 (+/-7743523.055) for {'C': 32, 'kernel': 'rbf', 'gamma': 0.0078125}\n",
      "-3167054.081 (+/-7001796.796) for {'C': 32, 'kernel': 'rbf', 'gamma': 0.03125}\n",
      "-865245.179 (+/-3678485.594) for {'C': 32, 'kernel': 'rbf', 'gamma': 0.125}\n",
      "-818.742 (+/-681.326) for {'C': 32, 'kernel': 'rbf', 'gamma': 0.5}\n",
      "-1572.102 (+/-942.166) for {'C': 32, 'kernel': 'rbf', 'gamma': 2}\n",
      "-2712.876 (+/-945.361) for {'C': 32, 'kernel': 'rbf', 'gamma': 8}\n",
      "-2570077.700 (+/-7018202.262) for {'C': 128, 'kernel': 'rbf', 'gamma': 3.0517578125e-05}\n",
      "-2582279.632 (+/-7010029.216) for {'C': 128, 'kernel': 'rbf', 'gamma': 0.0001220703125}\n",
      "-2009843.735 (+/-5171868.348) for {'C': 128, 'kernel': 'rbf', 'gamma': 0.00048828125}\n",
      "-3422664.247 (+/-6702614.261) for {'C': 128, 'kernel': 'rbf', 'gamma': 0.001953125}\n",
      "-5152220.713 (+/-7190248.209) for {'C': 128, 'kernel': 'rbf', 'gamma': 0.0078125}\n",
      "-3167054.081 (+/-7001796.796) for {'C': 128, 'kernel': 'rbf', 'gamma': 0.03125}\n",
      "-865245.179 (+/-3678485.594) for {'C': 128, 'kernel': 'rbf', 'gamma': 0.125}\n",
      "-818.742 (+/-681.326) for {'C': 128, 'kernel': 'rbf', 'gamma': 0.5}\n",
      "-1572.102 (+/-942.166) for {'C': 128, 'kernel': 'rbf', 'gamma': 2}\n",
      "-2712.876 (+/-945.361) for {'C': 128, 'kernel': 'rbf', 'gamma': 8}\n",
      "-2582279.632 (+/-7010029.216) for {'C': 512, 'kernel': 'rbf', 'gamma': 3.0517578125e-05}\n",
      "-2289949.495 (+/-5012496.355) for {'C': 512, 'kernel': 'rbf', 'gamma': 0.0001220703125}\n",
      "-2570123.565 (+/-7018062.167) for {'C': 512, 'kernel': 'rbf', 'gamma': 0.00048828125}\n",
      "-4019482.540 (+/-6897106.312) for {'C': 512, 'kernel': 'rbf', 'gamma': 0.001953125}\n",
      "-5712477.123 (+/-7273260.525) for {'C': 512, 'kernel': 'rbf', 'gamma': 0.0078125}\n",
      "-3167054.081 (+/-7001796.796) for {'C': 512, 'kernel': 'rbf', 'gamma': 0.03125}\n",
      "-865245.179 (+/-3678485.594) for {'C': 512, 'kernel': 'rbf', 'gamma': 0.125}\n",
      "-818.742 (+/-681.326) for {'C': 512, 'kernel': 'rbf', 'gamma': 0.5}\n",
      "-1572.102 (+/-942.166) for {'C': 512, 'kernel': 'rbf', 'gamma': 2}\n",
      "-2712.876 (+/-945.361) for {'C': 512, 'kernel': 'rbf', 'gamma': 8}\n",
      "-1997641.803 (+/-5177399.125) for {'C': 2048, 'kernel': 'rbf', 'gamma': 3.0517578125e-05}\n",
      "-2009843.735 (+/-5171868.348) for {'C': 2048, 'kernel': 'rbf', 'gamma': 0.0001220703125}\n",
      "-3142536.042 (+/-6534564.459) for {'C': 2048, 'kernel': 'rbf', 'gamma': 0.00048828125}\n",
      "-4884294.439 (+/-9291794.054) for {'C': 2048, 'kernel': 'rbf', 'gamma': 0.001953125}\n",
      "-5712477.123 (+/-7273260.525) for {'C': 2048, 'kernel': 'rbf', 'gamma': 0.0078125}\n",
      "-3167054.081 (+/-7001796.796) for {'C': 2048, 'kernel': 'rbf', 'gamma': 0.03125}\n",
      "-865245.179 (+/-3678485.594) for {'C': 2048, 'kernel': 'rbf', 'gamma': 0.125}\n",
      "-818.742 (+/-681.326) for {'C': 2048, 'kernel': 'rbf', 'gamma': 0.5}\n",
      "-1572.102 (+/-942.166) for {'C': 2048, 'kernel': 'rbf', 'gamma': 2}\n",
      "-2712.876 (+/-945.361) for {'C': 2048, 'kernel': 'rbf', 'gamma': 8}\n",
      "-2289949.495 (+/-5012496.355) for {'C': 8192, 'kernel': 'rbf', 'gamma': 3.0517578125e-05}\n",
      "-2570123.565 (+/-7018062.167) for {'C': 8192, 'kernel': 'rbf', 'gamma': 0.0001220703125}\n",
      "-4311767.787 (+/-7362984.287) for {'C': 8192, 'kernel': 'rbf', 'gamma': 0.00048828125}\n",
      "-6577220.713 (+/-8560897.551) for {'C': 8192, 'kernel': 'rbf', 'gamma': 0.001953125}\n",
      "-5712477.123 (+/-7273260.525) for {'C': 8192, 'kernel': 'rbf', 'gamma': 0.0078125}\n",
      "-3167054.081 (+/-7001796.796) for {'C': 8192, 'kernel': 'rbf', 'gamma': 0.03125}\n",
      "-865245.179 (+/-3678485.594) for {'C': 8192, 'kernel': 'rbf', 'gamma': 0.125}\n",
      "-818.742 (+/-681.326) for {'C': 8192, 'kernel': 'rbf', 'gamma': 0.5}\n",
      "-1572.102 (+/-942.166) for {'C': 8192, 'kernel': 'rbf', 'gamma': 2}\n",
      "-2712.876 (+/-945.361) for {'C': 8192, 'kernel': 'rbf', 'gamma': 8}\n",
      "-2009843.735 (+/-5171868.348) for {'C': 32768, 'kernel': 'rbf', 'gamma': 3.0517578125e-05}\n",
      "-3434843.735 (+/-6192164.366) for {'C': 32768, 'kernel': 'rbf', 'gamma': 0.0001220703125}\n",
      "-4324017.536 (+/-9355865.066) for {'C': 32768, 'kernel': 'rbf', 'gamma': 0.00048828125}\n",
      "-6577220.713 (+/-8560897.551) for {'C': 32768, 'kernel': 'rbf', 'gamma': 0.001953125}\n",
      "-5712477.123 (+/-7273260.525) for {'C': 32768, 'kernel': 'rbf', 'gamma': 0.0078125}\n",
      "-3167054.081 (+/-7001796.796) for {'C': 32768, 'kernel': 'rbf', 'gamma': 0.03125}\n",
      "-865245.179 (+/-3678485.594) for {'C': 32768, 'kernel': 'rbf', 'gamma': 0.125}\n",
      "-818.742 (+/-681.326) for {'C': 32768, 'kernel': 'rbf', 'gamma': 0.5}\n",
      "-1572.102 (+/-942.166) for {'C': 32768, 'kernel': 'rbf', 'gamma': 2}\n",
      "-2712.876 (+/-945.361) for {'C': 32768, 'kernel': 'rbf', 'gamma': 8}\n",
      "\n"
     ]
    }
   ],
   "source": [
    "print(__doc__)\n",
    "\n",
    "# Loading the Digits dataset\n",
    "#digits = datasets.load_digits()\n",
    "\n",
    "# To apply an classifier on this data, we need to flatten the image, to\n",
    "# turn the data in a (samples, feature) matrix:\n",
    "\n",
    "\n",
    "# Set the parameters by cross-validation\n",
    "tuned_parameters = [{'kernel': ['rbf'], 'gamma': gamma_range,\n",
    "                     'C': C_range},]\n",
    "\n",
    "scores = [my_custom_scorer]\n",
    "\n",
    "for score in scores:\n",
    "    print(\"# Tuning hyper-parameters for %s\" % score)\n",
    "    print()\n",
    "\n",
    "    clf2 = GridSearchCV(svr, tuned_parameters, cv=10,\n",
    "                       scoring=my_custom_scorer)\n",
    "    clf2.fit(X_train, y_train)\n",
    "\n",
    "    print(\"Best parameters set found on development set:\")\n",
    "    print()\n",
    "    print(clf2.best_params_)\n",
    "    print()\n",
    "    print(\"Grid scores on development set:\")\n",
    "    print()\n",
    "    means = clf2.cv_results_['mean_test_score']\n",
    "    stds = clf2.cv_results_['std_test_score']\n",
    "    for mean, std, params in zip(means, stds, clf2.cv_results_['params']):\n",
    "        print(\"%0.3f (+/-%0.03f) for %r\"\n",
    "              % (mean, std * 2, params))\n",
    "    print()\n"
   ]
  },
  {
   "cell_type": "code",
   "execution_count": 22,
   "metadata": {
    "collapsed": false
   },
   "outputs": [
    {
     "name": "stdout",
     "output_type": "stream",
     "text": [
      "Best recall obtained: -727.9876068376069\n",
      "Parameters:\n",
      "\tC: 0.125\n",
      "\tkernel: rbf\n",
      "\tgamma: 0.125\n"
     ]
    }
   ],
   "source": [
    "print(\"Best recall obtained: {0}\".format(clf2.best_score_))\n",
    "print(\"Parameters:\")\n",
    "for key, value in clf2.best_params_.items():\n",
    "    print(\"\\t{}: {}\".format(key, value))"
   ]
  },
  {
   "cell_type": "code",
   "execution_count": 23,
   "metadata": {
    "collapsed": false
   },
   "outputs": [
    {
     "data": {
      "text/plain": [
       "SVC(C=0.125, cache_size=200, class_weight=None, coef0=0.0,\n",
       "  decision_function_shape=None, degree=3, gamma=0.125, kernel='rbf',\n",
       "  max_iter=-1, probability=False, random_state=None, shrinking=True,\n",
       "  tol=0.001, verbose=False)"
      ]
     },
     "execution_count": 23,
     "metadata": {},
     "output_type": "execute_result"
    }
   ],
   "source": [
    "clf2.best_estimator_"
   ]
  },
  {
   "cell_type": "code",
   "execution_count": 24,
   "metadata": {
    "collapsed": false
   },
   "outputs": [],
   "source": [
    "svc7=svm.SVC(C=0.125, cache_size=200, class_weight=None, coef0=0.0,\n",
    "  decision_function_shape=None, degree=3, gamma=0.125, kernel='rbf',\n",
    "  max_iter=-1, probability=True, random_state=None, shrinking=True,\n",
    "  tol=0.001, verbose=False)"
   ]
  },
  {
   "cell_type": "code",
   "execution_count": 25,
   "metadata": {
    "collapsed": false
   },
   "outputs": [
    {
     "data": {
      "text/plain": [
       "SVC(C=0.125, cache_size=200, class_weight=None, coef0=0.0,\n",
       "  decision_function_shape=None, degree=3, gamma=0.125, kernel='rbf',\n",
       "  max_iter=-1, probability=True, random_state=None, shrinking=True,\n",
       "  tol=0.001, verbose=False)"
      ]
     },
     "execution_count": 25,
     "metadata": {},
     "output_type": "execute_result"
    }
   ],
   "source": [
    "svc7.fit(X_train,y_train)"
   ]
  },
  {
   "cell_type": "code",
   "execution_count": 26,
   "metadata": {
    "collapsed": false
   },
   "outputs": [
    {
     "name": "stdout",
     "output_type": "stream",
     "text": [
      "Akurasi: 0.9351\n",
      "Precision: 0.8370\n",
      "Recall: 1.0000\n",
      "F1: 0.9112\n"
     ]
    }
   ],
   "source": [
    "y_pred7 = svc7.predict(X_test)\n",
    "accuracy = accuracy_score(y_test, y_pred7)\n",
    "precision, recall, f1, _ = precision_recall_fscore_support(y_test, y_pred7)\n",
    "print (('Akurasi: %.4f') % (accuracy))\n",
    "print (('Precision: %.4f') % (precision[1]))\n",
    "print (('Recall: %.4f') % (recall[1]))\n",
    "print (('F1: %.4f') % (f1[1]))"
   ]
  },
  {
   "cell_type": "code",
   "execution_count": 27,
   "metadata": {
    "collapsed": false
   },
   "outputs": [
    {
     "data": {
      "text/plain": [
       "array([[139,  15],\n",
       "       [  0,  77]])"
      ]
     },
     "execution_count": 27,
     "metadata": {},
     "output_type": "execute_result"
    }
   ],
   "source": [
    "confusion_matrix(y_test, y_pred7)"
   ]
  },
  {
   "cell_type": "code",
   "execution_count": 28,
   "metadata": {
    "collapsed": false
   },
   "outputs": [
    {
     "data": {
      "text/plain": [
       "(231,)"
      ]
     },
     "execution_count": 28,
     "metadata": {},
     "output_type": "execute_result"
    }
   ],
   "source": [
    "y_test.shape"
   ]
  },
  {
   "cell_type": "code",
   "execution_count": 29,
   "metadata": {
    "collapsed": false
   },
   "outputs": [
    {
     "data": {
      "text/plain": [
       "(231,)"
      ]
     },
     "execution_count": 29,
     "metadata": {},
     "output_type": "execute_result"
    }
   ],
   "source": [
    "y_pred7.shape"
   ]
  },
  {
   "cell_type": "code",
   "execution_count": 30,
   "metadata": {
    "collapsed": false
   },
   "outputs": [],
   "source": [
    "from sklearn.model_selection import cross_val_score\n",
    "scores=cross_val_score(svc7,X_train,y_train,cv=10)"
   ]
  },
  {
   "cell_type": "code",
   "execution_count": 31,
   "metadata": {
    "collapsed": true
   },
   "outputs": [],
   "source": [
    "scores1=cross_val_score(svc7,X_train,y_train,cv=10)"
   ]
  },
  {
   "cell_type": "code",
   "execution_count": 32,
   "metadata": {
    "collapsed": false
   },
   "outputs": [
    {
     "data": {
      "text/plain": [
       "array([ 0.97916667,  0.91666667,  0.95833333,  0.9375    ,  0.93478261,\n",
       "        0.91304348,  0.91304348,  0.95652174,  0.84782609,  0.95652174])"
      ]
     },
     "execution_count": 32,
     "metadata": {},
     "output_type": "execute_result"
    }
   ],
   "source": [
    "scores"
   ]
  },
  {
   "cell_type": "code",
   "execution_count": 33,
   "metadata": {
    "collapsed": false
   },
   "outputs": [
    {
     "name": "stdout",
     "output_type": "stream",
     "text": [
      "Accuracy: 0.9313 (+/- 0.0698)\n"
     ]
    }
   ],
   "source": [
    "print(\"Accuracy: %0.4f (+/- %0.4f)\" % (scores1.mean(), scores1.std() * 2))"
   ]
  },
  {
   "cell_type": "code",
   "execution_count": 34,
   "metadata": {
    "collapsed": false
   },
   "outputs": [],
   "source": [
    "scores=cross_val_score(svc7,X_train,y_train,cv=10,scoring='recall')"
   ]
  },
  {
   "cell_type": "code",
   "execution_count": 35,
   "metadata": {
    "collapsed": false
   },
   "outputs": [
    {
     "name": "stdout",
     "output_type": "stream",
     "text": [
      "recall: 1.0000 (+/- 0.0000)\n"
     ]
    }
   ],
   "source": [
    "print(\"recall: %0.4f (+/- %0.4f)\" % (scores.mean(), scores.std() * 2))"
   ]
  },
  {
   "cell_type": "code",
   "execution_count": 36,
   "metadata": {
    "collapsed": true
   },
   "outputs": [],
   "source": [
    "scores=cross_val_score(svc7,X_train,y_train,cv=10,scoring=score_specificity)"
   ]
  },
  {
   "cell_type": "code",
   "execution_count": 37,
   "metadata": {
    "collapsed": false
   },
   "outputs": [
    {
     "name": "stdout",
     "output_type": "stream",
     "text": [
      "specificity: 0.8944 (+/- 0.1070)\n"
     ]
    }
   ],
   "source": [
    "print(\"specificity: %0.4f (+/- %0.4f)\" % (scores.mean(), scores.std() * 2))"
   ]
  },
  {
   "cell_type": "code",
   "execution_count": 38,
   "metadata": {
    "collapsed": true
   },
   "outputs": [],
   "source": [
    "classifier=svc7"
   ]
  },
  {
   "cell_type": "code",
   "execution_count": 39,
   "metadata": {
    "collapsed": true
   },
   "outputs": [],
   "source": [
    "names='SVM-RBF-Dataset A'"
   ]
  },
  {
   "cell_type": "code",
   "execution_count": 40,
   "metadata": {
    "collapsed": false
   },
   "outputs": [],
   "source": [
    "score=svc7.predict_proba(X_test)"
   ]
  },
  {
   "cell_type": "code",
   "execution_count": 41,
   "metadata": {
    "collapsed": false
   },
   "outputs": [
    {
     "data": {
      "image/png": "[encoded data removed]",
      "text/plain": [
       "<matplotlib.figure.Figure at 0xa314358>"
      ]
     },
     "metadata": {},
     "output_type": "display_data"
    }
   ],
   "source": [
    "from sklearn.metrics import roc_curve, roc_auc_score\n",
    "fig, ax = plt.subplots()\n",
    "fig.set_size_inches(10,10)\n",
    "fpr, tpr, thresholds = roc_curve(y_test, score[:,1])\n",
    "auc = roc_auc_score(y_test, score[:,1])\n",
    "plt.plot(fpr*100, tpr*100, label='%s (area = %.2f)' % (names, auc*100))\n",
    "plt.rc('xtick',labelsize=20)\n",
    "plt.rc('ytick',labelsize=20)\n",
    "plt.legend(prop={'size':14})\n",
    "ax.set_xlabel('False Positive Rate',fontsize=20)\n",
    "ax.set_ylabel('True Positive Rate',fontsize=20)\n",
    "plt.show()"
   ]
  },
  {
   "cell_type": "code",
   "execution_count": null,
   "metadata": {
    "collapsed": true
   },
   "outputs": [],
   "source": []
  }
 ],
 "metadata": {
  "anaconda-cloud": {},
  "kernelspec": {
   "display_name": "Python 3",
   "language": "python",
   "name": "python3"
  },
  "language_info": {
   "codemirror_mode": {
    "name": "ipython",
    "version": 3
   },
   "file_extension": ".py",
   "mimetype": "text/x-python",
   "name": "python",
   "nbconvert_exporter": "python",
   "pygments_lexer": "ipython3",
   "version": "3.5.3"
  }
 },
 "nbformat": 4,
 "nbformat_minor": 1
}
