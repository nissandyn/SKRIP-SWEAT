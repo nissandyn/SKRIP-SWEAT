{
 "cells": [
  {
   "cell_type": "code",
   "execution_count": 1,
   "metadata": {
    "collapsed": true
   },
   "outputs": [],
   "source": [
    "\n",
    "%matplotlib inline\n",
    "import pandas as pd\n",
    "import numpy as np\n",
    "import matplotlib.pyplot as plt\n",
    "import seaborn; \n",
    "from scipy import stats\n",
    "import pylab as pl\n",
    "from sklearn.model_selection import train_test_split\n",
    "\n",
    "seaborn.set()"
   ]
  },
  {
   "cell_type": "code",
   "execution_count": 2,
   "metadata": {
    "collapsed": false
   },
   "outputs": [],
   "source": [
    "dfA = pd.read_csv(\"wbc.csv\")"
   ]
  },
  {
   "cell_type": "code",
   "execution_count": 3,
   "metadata": {
    "collapsed": false
   },
   "outputs": [
    {
     "name": "stdout",
     "output_type": "stream",
     "text": [
      "<class 'pandas.core.frame.DataFrame'>\n",
      "RangeIndex: 699 entries, 0 to 698\n",
      "Data columns (total 10 columns):\n",
      "clump_thickness       699 non-null int64\n",
      "cell_size             699 non-null int64\n",
      "cell_shape            699 non-null int64\n",
      "marginal_adhesion     699 non-null int64\n",
      "epitelial_cellsize    699 non-null int64\n",
      "bare_nuclei           699 non-null float64\n",
      "bland_chromatin       699 non-null int64\n",
      "normal_nucleoli       699 non-null int64\n",
      "mitoses               699 non-null int64\n",
      "jenis                 699 non-null int64\n",
      "dtypes: float64(1), int64(9)\n",
      "memory usage: 54.7 KB\n"
     ]
    }
   ],
   "source": [
    "dfA=dfA.replace('?',np.nan)\n",
    "dfA['bare_nuclei'] = pd.to_numeric(dfA.bare_nuclei.fillna(dfA.bare_nuclei.median()))\n",
    "dfA.info()"
   ]
  },
  {
   "cell_type": "code",
   "execution_count": 4,
   "metadata": {
    "collapsed": false
   },
   "outputs": [],
   "source": [
    "X = dfA.drop([dfA.columns[-1]], axis=1)\n",
    "y = dfA.jenis"
   ]
  },
  {
   "cell_type": "code",
   "execution_count": 5,
   "metadata": {
    "collapsed": false
   },
   "outputs": [],
   "source": [
    "X_train, X_test, y_train, y_test = train_test_split(X, y,test_size=0.33, random_state=42)"
   ]
  },
  {
   "cell_type": "code",
   "execution_count": 6,
   "metadata": {
    "collapsed": true
   },
   "outputs": [],
   "source": [
    "from sklearn import svm"
   ]
  },
  {
   "cell_type": "code",
   "execution_count": 7,
   "metadata": {
    "collapsed": true
   },
   "outputs": [],
   "source": [
    "from sklearn.metrics import accuracy_score, precision_recall_fscore_support"
   ]
  },
  {
   "cell_type": "code",
   "execution_count": 8,
   "metadata": {
    "collapsed": false
   },
   "outputs": [],
   "source": [
    "from sklearn import metrics"
   ]
  },
  {
   "cell_type": "code",
   "execution_count": 9,
   "metadata": {
    "collapsed": false
   },
   "outputs": [],
   "source": [
    "from sklearn.model_selection import GridSearchCV\n",
    "from __future__ import print_function\n",
    "from sklearn.metrics import classification_report\n",
    "from sklearn.svm import SVC"
   ]
  },
  {
   "cell_type": "code",
   "execution_count": 10,
   "metadata": {
    "collapsed": true
   },
   "outputs": [],
   "source": [
    "svr=svm.SVC()"
   ]
  },
  {
   "cell_type": "code",
   "execution_count": 11,
   "metadata": {
    "collapsed": false
   },
   "outputs": [
    {
     "name": "stdout",
     "output_type": "stream",
     "text": [
      "Automatically created module for IPython interactive environment\n",
      "# Tuning hyper-parameters for recall\n",
      "\n",
      "Best parameters set found on development set:\n",
      "\n",
      "{'C': 20, 'gamma': 0.001, 'kernel': 'rbf'}\n",
      "\n",
      "Grid scores on development set:\n",
      "\n",
      "0.906 (+/-0.065) for {'C': 1, 'gamma': 1, 'kernel': 'rbf'}\n",
      "0.955 (+/-0.058) for {'C': 1, 'gamma': 0.1, 'kernel': 'rbf'}\n",
      "0.953 (+/-0.092) for {'C': 1, 'gamma': 0.001, 'kernel': 'rbf'}\n",
      "0.953 (+/-0.086) for {'C': 1, 'gamma': 0.0001, 'kernel': 'rbf'}\n",
      "0.500 (+/-0.000) for {'C': 1, 'gamma': 1e-05, 'kernel': 'rbf'}\n",
      "0.919 (+/-0.048) for {'C': 2, 'gamma': 1, 'kernel': 'rbf'}\n",
      "0.953 (+/-0.050) for {'C': 2, 'gamma': 0.1, 'kernel': 'rbf'}\n",
      "0.961 (+/-0.071) for {'C': 2, 'gamma': 0.001, 'kernel': 'rbf'}\n",
      "0.956 (+/-0.088) for {'C': 2, 'gamma': 0.0001, 'kernel': 'rbf'}\n",
      "0.756 (+/-0.093) for {'C': 2, 'gamma': 1e-05, 'kernel': 'rbf'}\n",
      "0.919 (+/-0.048) for {'C': 4, 'gamma': 1, 'kernel': 'rbf'}\n",
      "0.952 (+/-0.051) for {'C': 4, 'gamma': 0.1, 'kernel': 'rbf'}\n",
      "0.961 (+/-0.074) for {'C': 4, 'gamma': 0.001, 'kernel': 'rbf'}\n",
      "0.956 (+/-0.088) for {'C': 4, 'gamma': 0.0001, 'kernel': 'rbf'}\n",
      "0.924 (+/-0.094) for {'C': 4, 'gamma': 1e-05, 'kernel': 'rbf'}\n",
      "0.919 (+/-0.048) for {'C': 8, 'gamma': 1, 'kernel': 'rbf'}\n",
      "0.952 (+/-0.051) for {'C': 8, 'gamma': 0.1, 'kernel': 'rbf'}\n",
      "0.959 (+/-0.074) for {'C': 8, 'gamma': 0.001, 'kernel': 'rbf'}\n",
      "0.953 (+/-0.092) for {'C': 8, 'gamma': 0.0001, 'kernel': 'rbf'}\n",
      "0.941 (+/-0.104) for {'C': 8, 'gamma': 1e-05, 'kernel': 'rbf'}\n",
      "0.919 (+/-0.048) for {'C': 10, 'gamma': 1, 'kernel': 'rbf'}\n",
      "0.952 (+/-0.051) for {'C': 10, 'gamma': 0.1, 'kernel': 'rbf'}\n",
      "0.959 (+/-0.074) for {'C': 10, 'gamma': 0.001, 'kernel': 'rbf'}\n",
      "0.953 (+/-0.092) for {'C': 10, 'gamma': 0.0001, 'kernel': 'rbf'}\n",
      "0.953 (+/-0.086) for {'C': 10, 'gamma': 1e-05, 'kernel': 'rbf'}\n",
      "0.919 (+/-0.048) for {'C': 20, 'gamma': 1, 'kernel': 'rbf'}\n",
      "0.952 (+/-0.051) for {'C': 20, 'gamma': 0.1, 'kernel': 'rbf'}\n",
      "0.965 (+/-0.053) for {'C': 20, 'gamma': 0.001, 'kernel': 'rbf'}\n",
      "0.961 (+/-0.071) for {'C': 20, 'gamma': 0.0001, 'kernel': 'rbf'}\n",
      "0.956 (+/-0.088) for {'C': 20, 'gamma': 1e-05, 'kernel': 'rbf'}\n",
      "\n",
      "Detailed classification report:\n",
      "\n",
      "The model is trained on the full development set.\n",
      "The scores are computed on the full evaluation set.\n",
      "\n",
      "             precision    recall  f1-score   support\n",
      "\n",
      "          2       0.97      0.99      0.98       154\n",
      "          4       0.97      0.94      0.95        77\n",
      "\n",
      "avg / total       0.97      0.97      0.97       231\n",
      "\n",
      "\n"
     ]
    }
   ],
   "source": [
    "print(__doc__)\n",
    "\n",
    "# Loading the Digits dataset\n",
    "#digits = datasets.load_digits()\n",
    "\n",
    "# To apply an classifier on this data, we need to flatten the image, to\n",
    "# turn the data in a (samples, feature) matrix:\n",
    "n_samples = len(dfA)\n",
    "\n",
    "\n",
    "# Set the parameters by cross-validation\n",
    "\n",
    "tuned_parameters = [{'kernel': ['rbf'], 'gamma': [1,0.1,0.001,0.0001,0.00001],\n",
    "                     'C': [ 1,2,4,8,10,20]},]\n",
    "scores = ['recall']\n",
    "\n",
    "for score in scores:\n",
    "    print(\"# Tuning hyper-parameters for %s\" % score)\n",
    "    print()\n",
    "\n",
    "    clf = GridSearchCV(svr, tuned_parameters, cv=10,\n",
    "                       scoring='%s_macro' % score)\n",
    "    clf.fit(X_train, y_train)\n",
    "\n",
    "    print(\"Best parameters set found on development set:\")\n",
    "    print()\n",
    "    print(clf.best_params_)\n",
    "    print()\n",
    "    print(\"Grid scores on development set:\")\n",
    "    print()\n",
    "    means = clf.cv_results_['mean_test_score']\n",
    "    stds = clf.cv_results_['std_test_score']\n",
    "    for mean, std, params in zip(means, stds, clf.cv_results_['params']):\n",
    "        print(\"%0.3f (+/-%0.03f) for %r\"\n",
    "              % (mean, std * 2, params))\n",
    "    print()\n",
    "\n",
    "    print(\"Detailed classification report:\")\n",
    "    print()\n",
    "    print(\"The model is trained on the full development set.\")\n",
    "    print(\"The scores are computed on the full evaluation set.\")\n",
    "    print()\n",
    "    y_true, y_pred = y_test, clf.predict(X_test)\n",
    "    print(classification_report(y_true, y_pred))\n",
    "    print()"
   ]
  },
  {
   "cell_type": "code",
   "execution_count": 12,
   "metadata": {
    "collapsed": false
   },
   "outputs": [
    {
     "name": "stdout",
     "output_type": "stream",
     "text": [
      "Best accuracy obtained: 0.9652893839504371\n",
      "Parameters:\n",
      "\tC: 20\n",
      "\tgamma: 0.001\n",
      "\tkernel: rbf\n"
     ]
    }
   ],
   "source": [
    "print(\"Best accuracy obtained: {0}\".format(clf.best_score_))\n",
    "print(\"Parameters:\")\n",
    "for key, value in clf.best_params_.items():\n",
    "    print(\"\\t{}: {}\".format(key, value))"
   ]
  },
  {
   "cell_type": "code",
   "execution_count": 13,
   "metadata": {
    "collapsed": false
   },
   "outputs": [
    {
     "data": {
      "text/plain": [
       "SVC(C=20, cache_size=200, class_weight=None, coef0=0.0,\n",
       "  decision_function_shape=None, degree=3, gamma=0.001, kernel='rbf',\n",
       "  max_iter=-1, probability=False, random_state=None, shrinking=True,\n",
       "  tol=0.001, verbose=False)"
      ]
     },
     "execution_count": 13,
     "metadata": {},
     "output_type": "execute_result"
    }
   ],
   "source": [
    "clf.best_estimator_"
   ]
  },
  {
   "cell_type": "code",
   "execution_count": 14,
   "metadata": {
    "collapsed": false
   },
   "outputs": [
    {
     "data": {
      "text/plain": [
       "SVC(C=20, cache_size=200, class_weight=None, coef0=0.0,\n",
       "  decision_function_shape=None, degree=3, gamma=0.001, kernel='rbf',\n",
       "  max_iter=-1, probability=False, random_state=None, shrinking=True,\n",
       "  tol=0.001, verbose=False)"
      ]
     },
     "execution_count": 14,
     "metadata": {},
     "output_type": "execute_result"
    }
   ],
   "source": [
    "svc1=svm.SVC(C=20, cache_size=200, class_weight=None, coef0=0.0,\n",
    "  decision_function_shape=None, degree=3, gamma=0.001, kernel='rbf',\n",
    "  max_iter=-1, probability=False, random_state=None, shrinking=True,\n",
    "  tol=0.001, verbose=False)\n",
    "svc1.fit(X_train,y_train)"
   ]
  },
  {
   "cell_type": "code",
   "execution_count": 15,
   "metadata": {
    "collapsed": false
   },
   "outputs": [
    {
     "name": "stdout",
     "output_type": "stream",
     "text": [
      "Akurasi: 0.9697\n",
      "Precision: 0.9730\n",
      "Recall: 0.9351\n",
      "F1: 0.9536\n"
     ]
    }
   ],
   "source": [
    "y_pred1 = svc1.predict(X_test)\n",
    "accuracy = accuracy_score(y_test, y_pred1)\n",
    "precision, recall, f1, _ = precision_recall_fscore_support(y_test, y_pred1)\n",
    "print (('Akurasi: %.4f') % (accuracy))\n",
    "print (('Precision: %.4f') % (precision[1]))\n",
    "print (('Recall: %.4f') % (recall[1]))\n",
    "print (('F1: %.4f') % (f1[1]))"
   ]
  },
  {
   "cell_type": "code",
   "execution_count": 16,
   "metadata": {
    "collapsed": false
   },
   "outputs": [],
   "source": [
    "tuned_parameters1a = [{'kernel': ['rbf'], 'gamma': [0.001, 0.00125, 0.00150, 0.00175, 0.002],'C': [ 20,21,22,23,24,25]},]"
   ]
  },
  {
   "cell_type": "code",
   "execution_count": 17,
   "metadata": {
    "collapsed": false
   },
   "outputs": [
    {
     "name": "stdout",
     "output_type": "stream",
     "text": [
      "Automatically created module for IPython interactive environment\n",
      "# Tuning hyper-parameters for recall\n",
      "\n",
      "Best parameters set found on development set:\n",
      "\n",
      "{'C': 20, 'gamma': 0.001, 'kernel': 'rbf'}\n",
      "\n",
      "Grid scores on development set:\n",
      "\n",
      "0.9653 (+/-0.053) for {'C': 20, 'gamma': 0.001, 'kernel': 'rbf'}\n",
      "0.9653 (+/-0.053) for {'C': 20, 'gamma': 0.00125, 'kernel': 'rbf'}\n",
      "0.9653 (+/-0.053) for {'C': 20, 'gamma': 0.0015, 'kernel': 'rbf'}\n",
      "0.9653 (+/-0.053) for {'C': 20, 'gamma': 0.00175, 'kernel': 'rbf'}\n",
      "0.9622 (+/-0.060) for {'C': 20, 'gamma': 0.002, 'kernel': 'rbf'}\n",
      "0.9653 (+/-0.053) for {'C': 21, 'gamma': 0.001, 'kernel': 'rbf'}\n",
      "0.9653 (+/-0.053) for {'C': 21, 'gamma': 0.00125, 'kernel': 'rbf'}\n",
      "0.9653 (+/-0.053) for {'C': 21, 'gamma': 0.0015, 'kernel': 'rbf'}\n",
      "0.9653 (+/-0.053) for {'C': 21, 'gamma': 0.00175, 'kernel': 'rbf'}\n",
      "0.9622 (+/-0.060) for {'C': 21, 'gamma': 0.002, 'kernel': 'rbf'}\n",
      "0.9653 (+/-0.053) for {'C': 22, 'gamma': 0.001, 'kernel': 'rbf'}\n",
      "0.9653 (+/-0.053) for {'C': 22, 'gamma': 0.00125, 'kernel': 'rbf'}\n",
      "0.9653 (+/-0.053) for {'C': 22, 'gamma': 0.0015, 'kernel': 'rbf'}\n",
      "0.9653 (+/-0.053) for {'C': 22, 'gamma': 0.00175, 'kernel': 'rbf'}\n",
      "0.9653 (+/-0.053) for {'C': 22, 'gamma': 0.002, 'kernel': 'rbf'}\n",
      "0.9653 (+/-0.053) for {'C': 23, 'gamma': 0.001, 'kernel': 'rbf'}\n",
      "0.9653 (+/-0.053) for {'C': 23, 'gamma': 0.00125, 'kernel': 'rbf'}\n",
      "0.9653 (+/-0.053) for {'C': 23, 'gamma': 0.0015, 'kernel': 'rbf'}\n",
      "0.9653 (+/-0.053) for {'C': 23, 'gamma': 0.00175, 'kernel': 'rbf'}\n",
      "0.9622 (+/-0.056) for {'C': 23, 'gamma': 0.002, 'kernel': 'rbf'}\n",
      "0.9653 (+/-0.053) for {'C': 24, 'gamma': 0.001, 'kernel': 'rbf'}\n",
      "0.9653 (+/-0.053) for {'C': 24, 'gamma': 0.00125, 'kernel': 'rbf'}\n",
      "0.9653 (+/-0.053) for {'C': 24, 'gamma': 0.0015, 'kernel': 'rbf'}\n",
      "0.9653 (+/-0.053) for {'C': 24, 'gamma': 0.00175, 'kernel': 'rbf'}\n",
      "0.9622 (+/-0.056) for {'C': 24, 'gamma': 0.002, 'kernel': 'rbf'}\n",
      "0.9653 (+/-0.053) for {'C': 25, 'gamma': 0.001, 'kernel': 'rbf'}\n",
      "0.9653 (+/-0.053) for {'C': 25, 'gamma': 0.00125, 'kernel': 'rbf'}\n",
      "0.9653 (+/-0.053) for {'C': 25, 'gamma': 0.0015, 'kernel': 'rbf'}\n",
      "0.9653 (+/-0.053) for {'C': 25, 'gamma': 0.00175, 'kernel': 'rbf'}\n",
      "0.9592 (+/-0.071) for {'C': 25, 'gamma': 0.002, 'kernel': 'rbf'}\n",
      "\n",
      "Detailed classification report:\n",
      "\n",
      "The model is trained on the full development set.\n",
      "The scores are computed on the full evaluation set.\n",
      "\n",
      "             precision    recall  f1-score   support\n",
      "\n",
      "          2       0.97      0.99      0.98       154\n",
      "          4       0.97      0.94      0.95        77\n",
      "\n",
      "avg / total       0.97      0.97      0.97       231\n",
      "\n",
      "\n"
     ]
    }
   ],
   "source": [
    "print(__doc__)\n",
    "\n",
    "# Loading the Digits dataset\n",
    "#digits = datasets.load_digits()\n",
    "\n",
    "# To apply an classifier on this data, we need to flatten the image, to\n",
    "# turn the data in a (samples, feature) matrix:\n",
    "n_samples = len(dfA)\n",
    "\n",
    "\n",
    "# Set the parameters by cross-validation\n",
    "\n",
    "scores = ['recall']\n",
    "\n",
    "for score in scores:\n",
    "    print(\"# Tuning hyper-parameters for %s\" % score)\n",
    "    print()\n",
    "\n",
    "    clf1a = GridSearchCV(svr, tuned_parameters1a, cv=10,\n",
    "                       scoring='%s_macro' % score)\n",
    "    clf1a.fit(X_train, y_train)\n",
    "\n",
    "    print(\"Best parameters set found on development set:\")\n",
    "    print()\n",
    "    print(clf1a.best_params_)\n",
    "    print()\n",
    "    print(\"Grid scores on development set:\")\n",
    "    print()\n",
    "    means = clf1a.cv_results_['mean_test_score']\n",
    "    stds = clf1a.cv_results_['std_test_score']\n",
    "    for mean, std, params in zip(means, stds, clf1a.cv_results_['params']):\n",
    "        print(\"%0.4f (+/-%0.03f) for %r\"\n",
    "              % (mean, std * 2, params))\n",
    "    print()\n",
    "\n",
    "    print(\"Detailed classification report:\")\n",
    "    print()\n",
    "    print(\"The model is trained on the full development set.\")\n",
    "    print(\"The scores are computed on the full evaluation set.\")\n",
    "    print()\n",
    "    y_true, y_pred1a = y_test, clf1a.predict(X_test)\n",
    "    print(classification_report(y_true, y_pred1a))\n",
    "    print()"
   ]
  },
  {
   "cell_type": "code",
   "execution_count": 18,
   "metadata": {
    "collapsed": false
   },
   "outputs": [
    {
     "data": {
      "text/plain": [
       "SVC(C=20, cache_size=200, class_weight=None, coef0=0.0,\n",
       "  decision_function_shape=None, degree=3, gamma=0.001, kernel='rbf',\n",
       "  max_iter=-1, probability=False, random_state=None, shrinking=True,\n",
       "  tol=0.001, verbose=False)"
      ]
     },
     "execution_count": 18,
     "metadata": {},
     "output_type": "execute_result"
    }
   ],
   "source": [
    "clf1a.best_estimator_"
   ]
  },
  {
   "cell_type": "code",
   "execution_count": 19,
   "metadata": {
    "collapsed": false
   },
   "outputs": [
    {
     "data": {
      "text/plain": [
       "SVC(C=20, cache_size=200, class_weight=None, coef0=0.0,\n",
       "  decision_function_shape=None, degree=3, gamma=0.001, kernel='rbf',\n",
       "  max_iter=-1, probability=False, random_state=None, shrinking=True,\n",
       "  tol=0.001, verbose=False)"
      ]
     },
     "execution_count": 19,
     "metadata": {},
     "output_type": "execute_result"
    }
   ],
   "source": [
    "aa=svm.SVC(C=20, cache_size=200, class_weight=None, coef0=0.0,\n",
    "  decision_function_shape=None, degree=3, gamma=0.001, kernel='rbf',\n",
    "  max_iter=-1, probability=False, random_state=None, shrinking=True,\n",
    "  tol=0.001, verbose=False)\n",
    "aa.fit(X_train,y_train)"
   ]
  },
  {
   "cell_type": "code",
   "execution_count": 20,
   "metadata": {
    "collapsed": false
   },
   "outputs": [
    {
     "name": "stdout",
     "output_type": "stream",
     "text": [
      "Akurasi: 0.9697\n",
      "Precision: 0.9730\n",
      "Recall: 0.9351\n",
      "F1: 0.9536\n"
     ]
    }
   ],
   "source": [
    "y_predaa = aa.predict(X_test)\n",
    "accuracy = accuracy_score(y_test, y_predaa)\n",
    "precision, recall, f1, _ = precision_recall_fscore_support(y_test, y_predaa)\n",
    "print (('Akurasi: %.4f') % (accuracy))\n",
    "print (('Precision: %.4f') % (precision[1]))\n",
    "print (('Recall: %.4f') % (recall[1]))\n",
    "print (('F1: %.4f') % (f1[1]))"
   ]
  },
  {
   "cell_type": "markdown",
   "metadata": {},
   "source": [
    "# hasilnya tetap sama"
   ]
  },
  {
   "cell_type": "code",
   "execution_count": 11,
   "metadata": {
    "collapsed": false
   },
   "outputs": [],
   "source": [
    "gamma_range = [(2**-15),(2**-13), (2**-11), (2**-9),(2**-7),(2**-5),(2**-3),(2**-1),(2**1),(2**3)]"
   ]
  },
  {
   "cell_type": "code",
   "execution_count": 12,
   "metadata": {
    "collapsed": false
   },
   "outputs": [
    {
     "data": {
      "text/plain": [
       "[3.0517578125e-05,\n",
       " 0.0001220703125,\n",
       " 0.00048828125,\n",
       " 0.001953125,\n",
       " 0.0078125,\n",
       " 0.03125,\n",
       " 0.125,\n",
       " 0.5,\n",
       " 2,\n",
       " 8]"
      ]
     },
     "execution_count": 12,
     "metadata": {},
     "output_type": "execute_result"
    }
   ],
   "source": [
    "gamma_range"
   ]
  },
  {
   "cell_type": "code",
   "execution_count": 13,
   "metadata": {
    "collapsed": false
   },
   "outputs": [],
   "source": [
    "C_range = [(2**-5),(2**-3), (2**-1), (2**1),(2**3),(2**5),(2**7),(2**9),(2**11),(2**13),(2**15)]"
   ]
  },
  {
   "cell_type": "code",
   "execution_count": 14,
   "metadata": {
    "collapsed": false
   },
   "outputs": [
    {
     "data": {
      "text/plain": [
       "[0.03125, 0.125, 0.5, 2, 8, 32, 128, 512, 2048, 8192, 32768]"
      ]
     },
     "execution_count": 14,
     "metadata": {},
     "output_type": "execute_result"
    }
   ],
   "source": [
    "C_range"
   ]
  },
  {
   "cell_type": "code",
   "execution_count": 15,
   "metadata": {
    "collapsed": false
   },
   "outputs": [
    {
     "name": "stdout",
     "output_type": "stream",
     "text": [
      "Automatically created module for IPython interactive environment\n",
      "# Tuning hyper-parameters for recall\n",
      "\n",
      "Best parameters set found on development set:\n",
      "\n",
      "{'C': 0.125, 'gamma': 0.0078125, 'kernel': 'rbf'}\n",
      "\n",
      "Grid scores on development set:\n",
      "\n",
      "0.500 (+/-0.000) for {'C': 0.03125, 'gamma': 3.0517578125e-05, 'kernel': 'rbf'}\n",
      "0.500 (+/-0.000) for {'C': 0.03125, 'gamma': 0.0001220703125, 'kernel': 'rbf'}\n",
      "0.530 (+/-0.067) for {'C': 0.03125, 'gamma': 0.00048828125, 'kernel': 'rbf'}\n",
      "0.938 (+/-0.102) for {'C': 0.03125, 'gamma': 0.001953125, 'kernel': 'rbf'}\n",
      "0.959 (+/-0.076) for {'C': 0.03125, 'gamma': 0.0078125, 'kernel': 'rbf'}\n",
      "0.963 (+/-0.044) for {'C': 0.03125, 'gamma': 0.03125, 'kernel': 'rbf'}\n",
      "0.949 (+/-0.045) for {'C': 0.03125, 'gamma': 0.125, 'kernel': 'rbf'}\n",
      "0.500 (+/-0.000) for {'C': 0.03125, 'gamma': 0.5, 'kernel': 'rbf'}\n",
      "0.500 (+/-0.000) for {'C': 0.03125, 'gamma': 2, 'kernel': 'rbf'}\n",
      "0.500 (+/-0.000) for {'C': 0.03125, 'gamma': 8, 'kernel': 'rbf'}\n",
      "0.500 (+/-0.000) for {'C': 0.125, 'gamma': 3.0517578125e-05, 'kernel': 'rbf'}\n",
      "0.564 (+/-0.056) for {'C': 0.125, 'gamma': 0.0001220703125, 'kernel': 'rbf'}\n",
      "0.938 (+/-0.102) for {'C': 0.125, 'gamma': 0.00048828125, 'kernel': 'rbf'}\n",
      "0.956 (+/-0.088) for {'C': 0.125, 'gamma': 0.001953125, 'kernel': 'rbf'}\n",
      "0.967 (+/-0.065) for {'C': 0.125, 'gamma': 0.0078125, 'kernel': 'rbf'}\n",
      "0.963 (+/-0.058) for {'C': 0.125, 'gamma': 0.03125, 'kernel': 'rbf'}\n",
      "0.947 (+/-0.053) for {'C': 0.125, 'gamma': 0.125, 'kernel': 'rbf'}\n",
      "0.908 (+/-0.076) for {'C': 0.125, 'gamma': 0.5, 'kernel': 'rbf'}\n",
      "0.500 (+/-0.000) for {'C': 0.125, 'gamma': 2, 'kernel': 'rbf'}\n",
      "0.500 (+/-0.000) for {'C': 0.125, 'gamma': 8, 'kernel': 'rbf'}\n",
      "0.567 (+/-0.059) for {'C': 0.5, 'gamma': 3.0517578125e-05, 'kernel': 'rbf'}\n",
      "0.935 (+/-0.098) for {'C': 0.5, 'gamma': 0.0001220703125, 'kernel': 'rbf'}\n",
      "0.956 (+/-0.088) for {'C': 0.5, 'gamma': 0.00048828125, 'kernel': 'rbf'}\n",
      "0.955 (+/-0.085) for {'C': 0.5, 'gamma': 0.001953125, 'kernel': 'rbf'}\n",
      "0.965 (+/-0.064) for {'C': 0.5, 'gamma': 0.0078125, 'kernel': 'rbf'}\n",
      "0.963 (+/-0.058) for {'C': 0.5, 'gamma': 0.03125, 'kernel': 'rbf'}\n",
      "0.954 (+/-0.043) for {'C': 0.5, 'gamma': 0.125, 'kernel': 'rbf'}\n",
      "0.911 (+/-0.059) for {'C': 0.5, 'gamma': 0.5, 'kernel': 'rbf'}\n",
      "0.575 (+/-0.274) for {'C': 0.5, 'gamma': 2, 'kernel': 'rbf'}\n",
      "0.506 (+/-0.024) for {'C': 0.5, 'gamma': 8, 'kernel': 'rbf'}\n",
      "0.935 (+/-0.098) for {'C': 2, 'gamma': 3.0517578125e-05, 'kernel': 'rbf'}\n",
      "0.956 (+/-0.088) for {'C': 2, 'gamma': 0.0001220703125, 'kernel': 'rbf'}\n",
      "0.953 (+/-0.092) for {'C': 2, 'gamma': 0.00048828125, 'kernel': 'rbf'}\n",
      "0.964 (+/-0.059) for {'C': 2, 'gamma': 0.001953125, 'kernel': 'rbf'}\n",
      "0.962 (+/-0.050) for {'C': 2, 'gamma': 0.0078125, 'kernel': 'rbf'}\n",
      "0.963 (+/-0.053) for {'C': 2, 'gamma': 0.03125, 'kernel': 'rbf'}\n",
      "0.955 (+/-0.058) for {'C': 2, 'gamma': 0.125, 'kernel': 'rbf'}\n",
      "0.941 (+/-0.050) for {'C': 2, 'gamma': 0.5, 'kernel': 'rbf'}\n",
      "0.887 (+/-0.070) for {'C': 2, 'gamma': 2, 'kernel': 'rbf'}\n",
      "0.804 (+/-0.071) for {'C': 2, 'gamma': 8, 'kernel': 'rbf'}\n",
      "0.956 (+/-0.088) for {'C': 8, 'gamma': 3.0517578125e-05, 'kernel': 'rbf'}\n",
      "0.953 (+/-0.092) for {'C': 8, 'gamma': 0.0001220703125, 'kernel': 'rbf'}\n",
      "0.958 (+/-0.083) for {'C': 8, 'gamma': 0.00048828125, 'kernel': 'rbf'}\n",
      "0.959 (+/-0.074) for {'C': 8, 'gamma': 0.001953125, 'kernel': 'rbf'}\n",
      "0.959 (+/-0.074) for {'C': 8, 'gamma': 0.0078125, 'kernel': 'rbf'}\n",
      "0.937 (+/-0.074) for {'C': 8, 'gamma': 0.03125, 'kernel': 'rbf'}\n",
      "0.955 (+/-0.058) for {'C': 8, 'gamma': 0.125, 'kernel': 'rbf'}\n",
      "0.941 (+/-0.050) for {'C': 8, 'gamma': 0.5, 'kernel': 'rbf'}\n",
      "0.887 (+/-0.070) for {'C': 8, 'gamma': 2, 'kernel': 'rbf'}\n",
      "0.804 (+/-0.071) for {'C': 8, 'gamma': 8, 'kernel': 'rbf'}\n",
      "0.953 (+/-0.092) for {'C': 32, 'gamma': 3.0517578125e-05, 'kernel': 'rbf'}\n",
      "0.958 (+/-0.083) for {'C': 32, 'gamma': 0.0001220703125, 'kernel': 'rbf'}\n",
      "0.959 (+/-0.068) for {'C': 32, 'gamma': 0.00048828125, 'kernel': 'rbf'}\n",
      "0.956 (+/-0.077) for {'C': 32, 'gamma': 0.001953125, 'kernel': 'rbf'}\n",
      "0.942 (+/-0.092) for {'C': 32, 'gamma': 0.0078125, 'kernel': 'rbf'}\n",
      "0.939 (+/-0.070) for {'C': 32, 'gamma': 0.03125, 'kernel': 'rbf'}\n",
      "0.955 (+/-0.058) for {'C': 32, 'gamma': 0.125, 'kernel': 'rbf'}\n",
      "0.941 (+/-0.050) for {'C': 32, 'gamma': 0.5, 'kernel': 'rbf'}\n",
      "0.887 (+/-0.070) for {'C': 32, 'gamma': 2, 'kernel': 'rbf'}\n",
      "0.804 (+/-0.071) for {'C': 32, 'gamma': 8, 'kernel': 'rbf'}\n",
      "0.958 (+/-0.083) for {'C': 128, 'gamma': 3.0517578125e-05, 'kernel': 'rbf'}\n",
      "0.956 (+/-0.069) for {'C': 128, 'gamma': 0.0001220703125, 'kernel': 'rbf'}\n",
      "0.962 (+/-0.052) for {'C': 128, 'gamma': 0.00048828125, 'kernel': 'rbf'}\n",
      "0.947 (+/-0.075) for {'C': 128, 'gamma': 0.001953125, 'kernel': 'rbf'}\n",
      "0.924 (+/-0.083) for {'C': 128, 'gamma': 0.0078125, 'kernel': 'rbf'}\n",
      "0.939 (+/-0.070) for {'C': 128, 'gamma': 0.03125, 'kernel': 'rbf'}\n",
      "0.955 (+/-0.058) for {'C': 128, 'gamma': 0.125, 'kernel': 'rbf'}\n",
      "0.941 (+/-0.050) for {'C': 128, 'gamma': 0.5, 'kernel': 'rbf'}\n",
      "0.887 (+/-0.070) for {'C': 128, 'gamma': 2, 'kernel': 'rbf'}\n",
      "0.804 (+/-0.071) for {'C': 128, 'gamma': 8, 'kernel': 'rbf'}\n",
      "0.956 (+/-0.069) for {'C': 512, 'gamma': 3.0517578125e-05, 'kernel': 'rbf'}\n",
      "0.961 (+/-0.054) for {'C': 512, 'gamma': 0.0001220703125, 'kernel': 'rbf'}\n",
      "0.954 (+/-0.073) for {'C': 512, 'gamma': 0.00048828125, 'kernel': 'rbf'}\n",
      "0.939 (+/-0.072) for {'C': 512, 'gamma': 0.001953125, 'kernel': 'rbf'}\n",
      "0.918 (+/-0.083) for {'C': 512, 'gamma': 0.0078125, 'kernel': 'rbf'}\n",
      "0.939 (+/-0.070) for {'C': 512, 'gamma': 0.03125, 'kernel': 'rbf'}\n",
      "0.955 (+/-0.058) for {'C': 512, 'gamma': 0.125, 'kernel': 'rbf'}\n",
      "0.941 (+/-0.050) for {'C': 512, 'gamma': 0.5, 'kernel': 'rbf'}\n",
      "0.887 (+/-0.070) for {'C': 512, 'gamma': 2, 'kernel': 'rbf'}\n",
      "0.804 (+/-0.071) for {'C': 512, 'gamma': 8, 'kernel': 'rbf'}\n",
      "0.964 (+/-0.056) for {'C': 2048, 'gamma': 3.0517578125e-05, 'kernel': 'rbf'}\n",
      "0.962 (+/-0.052) for {'C': 2048, 'gamma': 0.0001220703125, 'kernel': 'rbf'}\n",
      "0.950 (+/-0.073) for {'C': 2048, 'gamma': 0.00048828125, 'kernel': 'rbf'}\n",
      "0.925 (+/-0.102) for {'C': 2048, 'gamma': 0.001953125, 'kernel': 'rbf'}\n",
      "0.918 (+/-0.083) for {'C': 2048, 'gamma': 0.0078125, 'kernel': 'rbf'}\n",
      "0.939 (+/-0.070) for {'C': 2048, 'gamma': 0.03125, 'kernel': 'rbf'}\n",
      "0.955 (+/-0.058) for {'C': 2048, 'gamma': 0.125, 'kernel': 'rbf'}\n",
      "0.941 (+/-0.050) for {'C': 2048, 'gamma': 0.5, 'kernel': 'rbf'}\n",
      "0.887 (+/-0.070) for {'C': 2048, 'gamma': 2, 'kernel': 'rbf'}\n",
      "0.804 (+/-0.071) for {'C': 2048, 'gamma': 8, 'kernel': 'rbf'}\n",
      "0.961 (+/-0.054) for {'C': 8192, 'gamma': 3.0517578125e-05, 'kernel': 'rbf'}\n",
      "0.954 (+/-0.073) for {'C': 8192, 'gamma': 0.0001220703125, 'kernel': 'rbf'}\n",
      "0.938 (+/-0.079) for {'C': 8192, 'gamma': 0.00048828125, 'kernel': 'rbf'}\n",
      "0.909 (+/-0.090) for {'C': 8192, 'gamma': 0.001953125, 'kernel': 'rbf'}\n",
      "0.918 (+/-0.083) for {'C': 8192, 'gamma': 0.0078125, 'kernel': 'rbf'}\n",
      "0.939 (+/-0.070) for {'C': 8192, 'gamma': 0.03125, 'kernel': 'rbf'}\n",
      "0.955 (+/-0.058) for {'C': 8192, 'gamma': 0.125, 'kernel': 'rbf'}\n",
      "0.941 (+/-0.050) for {'C': 8192, 'gamma': 0.5, 'kernel': 'rbf'}\n",
      "0.887 (+/-0.070) for {'C': 8192, 'gamma': 2, 'kernel': 'rbf'}\n",
      "0.804 (+/-0.071) for {'C': 8192, 'gamma': 8, 'kernel': 'rbf'}\n",
      "0.962 (+/-0.052) for {'C': 32768, 'gamma': 3.0517578125e-05, 'kernel': 'rbf'}\n",
      "0.947 (+/-0.069) for {'C': 32768, 'gamma': 0.0001220703125, 'kernel': 'rbf'}\n",
      "0.933 (+/-0.099) for {'C': 32768, 'gamma': 0.00048828125, 'kernel': 'rbf'}\n",
      "0.909 (+/-0.090) for {'C': 32768, 'gamma': 0.001953125, 'kernel': 'rbf'}\n",
      "0.918 (+/-0.083) for {'C': 32768, 'gamma': 0.0078125, 'kernel': 'rbf'}\n",
      "0.939 (+/-0.070) for {'C': 32768, 'gamma': 0.03125, 'kernel': 'rbf'}\n",
      "0.955 (+/-0.058) for {'C': 32768, 'gamma': 0.125, 'kernel': 'rbf'}\n",
      "0.941 (+/-0.050) for {'C': 32768, 'gamma': 0.5, 'kernel': 'rbf'}\n",
      "0.887 (+/-0.070) for {'C': 32768, 'gamma': 2, 'kernel': 'rbf'}\n",
      "0.804 (+/-0.071) for {'C': 32768, 'gamma': 8, 'kernel': 'rbf'}\n",
      "\n",
      "Detailed classification report:\n",
      "\n",
      "The model is trained on the full development set.\n",
      "The scores are computed on the full evaluation set.\n",
      "\n",
      "             precision    recall  f1-score   support\n",
      "\n",
      "          2       0.98      0.97      0.98       154\n",
      "          4       0.95      0.96      0.95        77\n",
      "\n",
      "avg / total       0.97      0.97      0.97       231\n",
      "\n",
      "\n"
     ]
    }
   ],
   "source": [
    "print(__doc__)\n",
    "\n",
    "# Loading the Digits dataset\n",
    "#digits = datasets.load_digits()\n",
    "\n",
    "# To apply an classifier on this data, we need to flatten the image, to\n",
    "# turn the data in a (samples, feature) matrix:\n",
    "\n",
    "\n",
    "# Set the parameters by cross-validation\n",
    "tuned_parameters = [{'kernel': ['rbf'], 'gamma': gamma_range,\n",
    "                     'C': C_range},]\n",
    "\n",
    "scores = ['recall']\n",
    "\n",
    "for score in scores:\n",
    "    print(\"# Tuning hyper-parameters for %s\" % score)\n",
    "    print()\n",
    "\n",
    "    clf2 = GridSearchCV(svr, tuned_parameters, cv=10,\n",
    "                       scoring='%s_macro' % score)\n",
    "    clf2.fit(X_train, y_train)\n",
    "\n",
    "    print(\"Best parameters set found on development set:\")\n",
    "    print()\n",
    "    print(clf2.best_params_)\n",
    "    print()\n",
    "    print(\"Grid scores on development set:\")\n",
    "    print()\n",
    "    means = clf2.cv_results_['mean_test_score']\n",
    "    stds = clf2.cv_results_['std_test_score']\n",
    "    for mean, std, params in zip(means, stds, clf2.cv_results_['params']):\n",
    "        print(\"%0.3f (+/-%0.03f) for %r\"\n",
    "              % (mean, std * 2, params))\n",
    "    print()\n",
    "\n",
    "    print(\"Detailed classification report:\")\n",
    "    print()\n",
    "    print(\"The model is trained on the full development set.\")\n",
    "    print(\"The scores are computed on the full evaluation set.\")\n",
    "    print()\n",
    "    y_true, y_pred = y_test, clf2.predict(X_test)\n",
    "    print(classification_report(y_true, y_pred))\n",
    "    print()"
   ]
  },
  {
   "cell_type": "code",
   "execution_count": 16,
   "metadata": {
    "collapsed": false
   },
   "outputs": [
    {
     "name": "stderr",
     "output_type": "stream",
     "text": [
      "C:\\Users\\Annisa\\Anaconda3\\lib\\site-packages\\sklearn\\model_selection\\_search.py:667: DeprecationWarning: The grid_scores_ attribute was deprecated in version 0.18 in favor of the more elaborate cv_results_ attribute. The grid_scores_ attribute will not be available from 0.20\n",
      "  DeprecationWarning)\n"
     ]
    },
    {
     "data": {
      "text/plain": [
       "[mean: 0.50000, std: 0.00000, params: {'C': 0.03125, 'gamma': 3.0517578125e-05, 'kernel': 'rbf'},\n",
       " mean: 0.50000, std: 0.00000, params: {'C': 0.03125, 'gamma': 0.0001220703125, 'kernel': 'rbf'},\n",
       " mean: 0.53050, std: 0.03325, params: {'C': 0.03125, 'gamma': 0.00048828125, 'kernel': 'rbf'},\n",
       " mean: 0.93796, std: 0.05117, params: {'C': 0.03125, 'gamma': 0.001953125, 'kernel': 'rbf'},\n",
       " mean: 0.95915, std: 0.03789, params: {'C': 0.03125, 'gamma': 0.0078125, 'kernel': 'rbf'},\n",
       " mean: 0.96295, std: 0.02210, params: {'C': 0.03125, 'gamma': 0.03125, 'kernel': 'rbf'},\n",
       " mean: 0.94932, std: 0.02259, params: {'C': 0.03125, 'gamma': 0.125, 'kernel': 'rbf'},\n",
       " mean: 0.50000, std: 0.00000, params: {'C': 0.03125, 'gamma': 0.5, 'kernel': 'rbf'},\n",
       " mean: 0.50000, std: 0.00000, params: {'C': 0.03125, 'gamma': 2, 'kernel': 'rbf'},\n",
       " mean: 0.50000, std: 0.00000, params: {'C': 0.03125, 'gamma': 8, 'kernel': 'rbf'},\n",
       " mean: 0.50000, std: 0.00000, params: {'C': 0.125, 'gamma': 3.0517578125e-05, 'kernel': 'rbf'},\n",
       " mean: 0.56395, std: 0.02779, params: {'C': 0.125, 'gamma': 0.0001220703125, 'kernel': 'rbf'},\n",
       " mean: 0.93796, std: 0.05117, params: {'C': 0.125, 'gamma': 0.00048828125, 'kernel': 'rbf'},\n",
       " mean: 0.95628, std: 0.04390, params: {'C': 0.125, 'gamma': 0.001953125, 'kernel': 'rbf'},\n",
       " mean: 0.96672, std: 0.03223, params: {'C': 0.125, 'gamma': 0.0078125, 'kernel': 'rbf'},\n",
       " mean: 0.96317, std: 0.02920, params: {'C': 0.125, 'gamma': 0.03125, 'kernel': 'rbf'},\n",
       " mean: 0.94742, std: 0.02674, params: {'C': 0.125, 'gamma': 0.125, 'kernel': 'rbf'},\n",
       " mean: 0.90800, std: 0.03790, params: {'C': 0.125, 'gamma': 0.5, 'kernel': 'rbf'},\n",
       " mean: 0.50000, std: 0.00000, params: {'C': 0.125, 'gamma': 2, 'kernel': 'rbf'},\n",
       " mean: 0.50000, std: 0.00000, params: {'C': 0.125, 'gamma': 8, 'kernel': 'rbf'},\n",
       " mean: 0.56702, std: 0.02919, params: {'C': 0.5, 'gamma': 3.0517578125e-05, 'kernel': 'rbf'},\n",
       " mean: 0.93489, std: 0.04921, params: {'C': 0.5, 'gamma': 0.0001220703125, 'kernel': 'rbf'},\n",
       " mean: 0.95628, std: 0.04390, params: {'C': 0.5, 'gamma': 0.00048828125, 'kernel': 'rbf'},\n",
       " mean: 0.95464, std: 0.04250, params: {'C': 0.5, 'gamma': 0.001953125, 'kernel': 'rbf'},\n",
       " mean: 0.96529, std: 0.03177, params: {'C': 0.5, 'gamma': 0.0078125, 'kernel': 'rbf'},\n",
       " mean: 0.96317, std: 0.02920, params: {'C': 0.5, 'gamma': 0.03125, 'kernel': 'rbf'},\n",
       " mean: 0.95423, std: 0.02156, params: {'C': 0.5, 'gamma': 0.125, 'kernel': 'rbf'},\n",
       " mean: 0.91125, std: 0.02931, params: {'C': 0.5, 'gamma': 0.5, 'kernel': 'rbf'},\n",
       " mean: 0.57489, std: 0.13767, params: {'C': 0.5, 'gamma': 2, 'kernel': 'rbf'},\n",
       " mean: 0.50609, std: 0.01214, params: {'C': 0.5, 'gamma': 8, 'kernel': 'rbf'},\n",
       " mean: 0.93489, std: 0.04921, params: {'C': 2, 'gamma': 3.0517578125e-05, 'kernel': 'rbf'},\n",
       " mean: 0.95628, std: 0.04390, params: {'C': 2, 'gamma': 0.0001220703125, 'kernel': 'rbf'},\n",
       " mean: 0.95321, std: 0.04617, params: {'C': 2, 'gamma': 0.00048828125, 'kernel': 'rbf'},\n",
       " mean: 0.96386, std: 0.02953, params: {'C': 2, 'gamma': 0.001953125, 'kernel': 'rbf'},\n",
       " mean: 0.96216, std: 0.02515, params: {'C': 2, 'gamma': 0.0078125, 'kernel': 'rbf'},\n",
       " mean: 0.96338, std: 0.02636, params: {'C': 2, 'gamma': 0.03125, 'kernel': 'rbf'},\n",
       " mean: 0.95473, std: 0.02901, params: {'C': 2, 'gamma': 0.125, 'kernel': 'rbf'},\n",
       " mean: 0.94085, std: 0.02519, params: {'C': 2, 'gamma': 0.5, 'kernel': 'rbf'},\n",
       " mean: 0.88658, std: 0.03496, params: {'C': 2, 'gamma': 2, 'kernel': 'rbf'},\n",
       " mean: 0.80437, std: 0.03563, params: {'C': 2, 'gamma': 8, 'kernel': 'rbf'},\n",
       " mean: 0.95628, std: 0.04390, params: {'C': 8, 'gamma': 3.0517578125e-05, 'kernel': 'rbf'},\n",
       " mean: 0.95321, std: 0.04617, params: {'C': 8, 'gamma': 0.0001220703125, 'kernel': 'rbf'},\n",
       " mean: 0.95777, std: 0.04127, params: {'C': 8, 'gamma': 0.00048828125, 'kernel': 'rbf'},\n",
       " mean: 0.95920, std: 0.03675, params: {'C': 8, 'gamma': 0.001953125, 'kernel': 'rbf'},\n",
       " mean: 0.95926, std: 0.03667, params: {'C': 8, 'gamma': 0.0078125, 'kernel': 'rbf'},\n",
       " mean: 0.93700, std: 0.03672, params: {'C': 8, 'gamma': 0.03125, 'kernel': 'rbf'},\n",
       " mean: 0.95473, std: 0.02901, params: {'C': 8, 'gamma': 0.125, 'kernel': 'rbf'},\n",
       " mean: 0.94085, std: 0.02519, params: {'C': 8, 'gamma': 0.5, 'kernel': 'rbf'},\n",
       " mean: 0.88658, std: 0.03496, params: {'C': 8, 'gamma': 2, 'kernel': 'rbf'},\n",
       " mean: 0.80437, std: 0.03563, params: {'C': 8, 'gamma': 8, 'kernel': 'rbf'},\n",
       " mean: 0.95321, std: 0.04617, params: {'C': 32, 'gamma': 3.0517578125e-05, 'kernel': 'rbf'},\n",
       " mean: 0.95777, std: 0.04127, params: {'C': 32, 'gamma': 0.0001220703125, 'kernel': 'rbf'},\n",
       " mean: 0.95926, std: 0.03371, params: {'C': 32, 'gamma': 0.00048828125, 'kernel': 'rbf'},\n",
       " mean: 0.95613, std: 0.03817, params: {'C': 32, 'gamma': 0.001953125, 'kernel': 'rbf'},\n",
       " mean: 0.94235, std: 0.04583, params: {'C': 32, 'gamma': 0.0078125, 'kernel': 'rbf'},\n",
       " mean: 0.93865, std: 0.03504, params: {'C': 32, 'gamma': 0.03125, 'kernel': 'rbf'},\n",
       " mean: 0.95473, std: 0.02901, params: {'C': 32, 'gamma': 0.125, 'kernel': 'rbf'},\n",
       " mean: 0.94085, std: 0.02519, params: {'C': 32, 'gamma': 0.5, 'kernel': 'rbf'},\n",
       " mean: 0.88658, std: 0.03496, params: {'C': 32, 'gamma': 2, 'kernel': 'rbf'},\n",
       " mean: 0.80437, std: 0.03563, params: {'C': 32, 'gamma': 8, 'kernel': 'rbf'},\n",
       " mean: 0.95777, std: 0.04127, params: {'C': 128, 'gamma': 3.0517578125e-05, 'kernel': 'rbf'},\n",
       " mean: 0.95618, std: 0.03415, params: {'C': 128, 'gamma': 0.0001220703125, 'kernel': 'rbf'},\n",
       " mean: 0.96227, std: 0.02581, params: {'C': 128, 'gamma': 0.00048828125, 'kernel': 'rbf'},\n",
       " mean: 0.94697, std: 0.03706, params: {'C': 128, 'gamma': 0.001953125, 'kernel': 'rbf'},\n",
       " mean: 0.92381, std: 0.04127, params: {'C': 128, 'gamma': 0.0078125, 'kernel': 'rbf'},\n",
       " mean: 0.93865, std: 0.03504, params: {'C': 128, 'gamma': 0.03125, 'kernel': 'rbf'},\n",
       " mean: 0.95473, std: 0.02901, params: {'C': 128, 'gamma': 0.125, 'kernel': 'rbf'},\n",
       " mean: 0.94085, std: 0.02519, params: {'C': 128, 'gamma': 0.5, 'kernel': 'rbf'},\n",
       " mean: 0.88658, std: 0.03496, params: {'C': 128, 'gamma': 2, 'kernel': 'rbf'},\n",
       " mean: 0.80437, std: 0.03563, params: {'C': 128, 'gamma': 8, 'kernel': 'rbf'},\n",
       " mean: 0.95618, std: 0.03415, params: {'C': 512, 'gamma': 3.0517578125e-05, 'kernel': 'rbf'},\n",
       " mean: 0.96084, std: 0.02686, params: {'C': 512, 'gamma': 0.0001220703125, 'kernel': 'rbf'},\n",
       " mean: 0.95448, std: 0.03624, params: {'C': 512, 'gamma': 0.00048828125, 'kernel': 'rbf'},\n",
       " mean: 0.93934, std: 0.03589, params: {'C': 512, 'gamma': 0.001953125, 'kernel': 'rbf'},\n",
       " mean: 0.91767, std: 0.04129, params: {'C': 512, 'gamma': 0.0078125, 'kernel': 'rbf'},\n",
       " mean: 0.93865, std: 0.03504, params: {'C': 512, 'gamma': 0.03125, 'kernel': 'rbf'},\n",
       " mean: 0.95473, std: 0.02901, params: {'C': 512, 'gamma': 0.125, 'kernel': 'rbf'},\n",
       " mean: 0.94085, std: 0.02519, params: {'C': 512, 'gamma': 0.5, 'kernel': 'rbf'},\n",
       " mean: 0.88658, std: 0.03496, params: {'C': 512, 'gamma': 2, 'kernel': 'rbf'},\n",
       " mean: 0.80437, std: 0.03563, params: {'C': 512, 'gamma': 8, 'kernel': 'rbf'},\n",
       " mean: 0.96386, std: 0.02759, params: {'C': 2048, 'gamma': 3.0517578125e-05, 'kernel': 'rbf'},\n",
       " mean: 0.96227, std: 0.02581, params: {'C': 2048, 'gamma': 0.0001220703125, 'kernel': 'rbf'},\n",
       " mean: 0.95004, std: 0.03603, params: {'C': 2048, 'gamma': 0.00048828125, 'kernel': 'rbf'},\n",
       " mean: 0.92530, std: 0.05075, params: {'C': 2048, 'gamma': 0.001953125, 'kernel': 'rbf'},\n",
       " mean: 0.91767, std: 0.04129, params: {'C': 2048, 'gamma': 0.0078125, 'kernel': 'rbf'},\n",
       " mean: 0.93865, std: 0.03504, params: {'C': 2048, 'gamma': 0.03125, 'kernel': 'rbf'},\n",
       " mean: 0.95473, std: 0.02901, params: {'C': 2048, 'gamma': 0.125, 'kernel': 'rbf'},\n",
       " mean: 0.94085, std: 0.02519, params: {'C': 2048, 'gamma': 0.5, 'kernel': 'rbf'},\n",
       " mean: 0.88658, std: 0.03496, params: {'C': 2048, 'gamma': 2, 'kernel': 'rbf'},\n",
       " mean: 0.80437, std: 0.03563, params: {'C': 2048, 'gamma': 8, 'kernel': 'rbf'},\n",
       " mean: 0.96084, std: 0.02686, params: {'C': 8192, 'gamma': 3.0517578125e-05, 'kernel': 'rbf'},\n",
       " mean: 0.95448, std: 0.03624, params: {'C': 8192, 'gamma': 0.0001220703125, 'kernel': 'rbf'},\n",
       " mean: 0.93796, std: 0.03938, params: {'C': 8192, 'gamma': 0.00048828125, 'kernel': 'rbf'},\n",
       " mean: 0.90857, std: 0.04473, params: {'C': 8192, 'gamma': 0.001953125, 'kernel': 'rbf'},\n",
       " mean: 0.91767, std: 0.04129, params: {'C': 8192, 'gamma': 0.0078125, 'kernel': 'rbf'},\n",
       " mean: 0.93865, std: 0.03504, params: {'C': 8192, 'gamma': 0.03125, 'kernel': 'rbf'},\n",
       " mean: 0.95473, std: 0.02901, params: {'C': 8192, 'gamma': 0.125, 'kernel': 'rbf'},\n",
       " mean: 0.94085, std: 0.02519, params: {'C': 8192, 'gamma': 0.5, 'kernel': 'rbf'},\n",
       " mean: 0.88658, std: 0.03496, params: {'C': 8192, 'gamma': 2, 'kernel': 'rbf'},\n",
       " mean: 0.80437, std: 0.03563, params: {'C': 8192, 'gamma': 8, 'kernel': 'rbf'},\n",
       " mean: 0.96227, std: 0.02581, params: {'C': 32768, 'gamma': 3.0517578125e-05, 'kernel': 'rbf'},\n",
       " mean: 0.94702, std: 0.03431, params: {'C': 32768, 'gamma': 0.0001220703125, 'kernel': 'rbf'},\n",
       " mean: 0.93305, std: 0.04924, params: {'C': 32768, 'gamma': 0.00048828125, 'kernel': 'rbf'},\n",
       " mean: 0.90857, std: 0.04473, params: {'C': 32768, 'gamma': 0.001953125, 'kernel': 'rbf'},\n",
       " mean: 0.91767, std: 0.04129, params: {'C': 32768, 'gamma': 0.0078125, 'kernel': 'rbf'},\n",
       " mean: 0.93865, std: 0.03504, params: {'C': 32768, 'gamma': 0.03125, 'kernel': 'rbf'},\n",
       " mean: 0.95473, std: 0.02901, params: {'C': 32768, 'gamma': 0.125, 'kernel': 'rbf'},\n",
       " mean: 0.94085, std: 0.02519, params: {'C': 32768, 'gamma': 0.5, 'kernel': 'rbf'},\n",
       " mean: 0.88658, std: 0.03496, params: {'C': 32768, 'gamma': 2, 'kernel': 'rbf'},\n",
       " mean: 0.80437, std: 0.03563, params: {'C': 32768, 'gamma': 8, 'kernel': 'rbf'}]"
      ]
     },
     "execution_count": 16,
     "metadata": {},
     "output_type": "execute_result"
    }
   ],
   "source": [
    "clf2.grid_scores_"
   ]
  },
  {
   "cell_type": "code",
   "execution_count": 17,
   "metadata": {
    "collapsed": false
   },
   "outputs": [
    {
     "name": "stdout",
     "output_type": "stream",
     "text": [
      "Best accuracy obtained: 0.9667227885088416\n",
      "Parameters:\n",
      "\tC: 0.125\n",
      "\tgamma: 0.0078125\n",
      "\tkernel: rbf\n"
     ]
    }
   ],
   "source": [
    "print(\"Best accuracy obtained: {0}\".format(clf2.best_score_))\n",
    "print(\"Parameters:\")\n",
    "for key, value in clf2.best_params_.items():\n",
    "    print(\"\\t{}: {}\".format(key, value))"
   ]
  },
  {
   "cell_type": "code",
   "execution_count": 18,
   "metadata": {
    "collapsed": false
   },
   "outputs": [
    {
     "data": {
      "text/plain": [
       "SVC(C=0.125, cache_size=200, class_weight=None, coef0=0.0,\n",
       "  decision_function_shape=None, degree=3, gamma=0.0078125, kernel='rbf',\n",
       "  max_iter=-1, probability=False, random_state=None, shrinking=True,\n",
       "  tol=0.001, verbose=False)"
      ]
     },
     "execution_count": 18,
     "metadata": {},
     "output_type": "execute_result"
    }
   ],
   "source": [
    "clf2.best_estimator_"
   ]
  },
  {
   "cell_type": "code",
   "execution_count": 19,
   "metadata": {
    "collapsed": false
   },
   "outputs": [],
   "source": [
    "svc7=svm.SVC(C=0.125, cache_size=200, class_weight=None, coef0=0.0,\n",
    "  decision_function_shape=None, degree=3, gamma=0.0078125, kernel='rbf',\n",
    "  max_iter=-1, probability=False, random_state=None, shrinking=True,\n",
    "  tol=0.001, verbose=False)"
   ]
  },
  {
   "cell_type": "code",
   "execution_count": 20,
   "metadata": {
    "collapsed": false
   },
   "outputs": [
    {
     "data": {
      "text/plain": [
       "SVC(C=0.125, cache_size=200, class_weight=None, coef0=0.0,\n",
       "  decision_function_shape=None, degree=3, gamma=0.0078125, kernel='rbf',\n",
       "  max_iter=-1, probability=False, random_state=None, shrinking=True,\n",
       "  tol=0.001, verbose=False)"
      ]
     },
     "execution_count": 20,
     "metadata": {},
     "output_type": "execute_result"
    }
   ],
   "source": [
    "svc7.fit(X_train,y_train)"
   ]
  },
  {
   "cell_type": "code",
   "execution_count": 21,
   "metadata": {
    "collapsed": false
   },
   "outputs": [
    {
     "name": "stdout",
     "output_type": "stream",
     "text": [
      "Akurasi: 0.9697\n",
      "Precision: 0.9487\n",
      "Recall: 0.9610\n",
      "F1: 0.9548\n"
     ]
    }
   ],
   "source": [
    "y_pred7 = svc7.predict(X_test)\n",
    "accuracy = accuracy_score(y_test, y_pred7)\n",
    "precision, recall, f1, _ = precision_recall_fscore_support(y_test, y_pred7)\n",
    "print (('Akurasi: %.4f') % (accuracy))\n",
    "print (('Precision: %.4f') % (precision[1]))\n",
    "print (('Recall: %.4f') % (recall[1]))\n",
    "print (('F1: %.4f') % (f1[1]))"
   ]
  },
  {
   "cell_type": "code",
   "execution_count": 39,
   "metadata": {
    "collapsed": false
   },
   "outputs": [
    {
     "name": "stdout",
     "output_type": "stream",
     "text": [
      "Akurasi: 0.9679\n",
      "Precision: 0.9357\n",
      "Recall: 0.9756\n",
      "F1: 0.9552\n"
     ]
    }
   ],
   "source": [
    "y_predtr = svc7.predict(X_train)\n",
    "accuracy = accuracy_score(y_train, y_predtr)\n",
    "precision, recall, f1, _ = precision_recall_fscore_support(y_train, y_predtr)\n",
    "print (('Akurasi: %.4f') % (accuracy))\n",
    "print (('Precision: %.4f') % (precision[1]))\n",
    "print (('Recall: %.4f') % (recall[1]))\n",
    "print (('F1: %.4f') % (f1[1]))"
   ]
  },
  {
   "cell_type": "code",
   "execution_count": 41,
   "metadata": {
    "collapsed": false
   },
   "outputs": [
    {
     "data": {
      "text/plain": [
       "array([[293,  11],\n",
       "       [  4, 160]])"
      ]
     },
     "execution_count": 41,
     "metadata": {},
     "output_type": "execute_result"
    }
   ],
   "source": [
    "confusion_matrix(y_train, y_predtr)"
   ]
  },
  {
   "cell_type": "code",
   "execution_count": 22,
   "metadata": {
    "collapsed": true
   },
   "outputs": [],
   "source": [
    "from sklearn.metrics import confusion_matrix"
   ]
  },
  {
   "cell_type": "code",
   "execution_count": 23,
   "metadata": {
    "collapsed": false
   },
   "outputs": [
    {
     "data": {
      "text/plain": [
       "array([[150,   4],\n",
       "       [  3,  74]])"
      ]
     },
     "execution_count": 23,
     "metadata": {},
     "output_type": "execute_result"
    }
   ],
   "source": [
    "confusion_matrix(y_true, y_pred7)"
   ]
  },
  {
   "cell_type": "code",
   "execution_count": null,
   "metadata": {
    "collapsed": true
   },
   "outputs": [],
   "source": []
  },
  {
   "cell_type": "code",
   "execution_count": null,
   "metadata": {
    "collapsed": true
   },
   "outputs": [],
   "source": []
  },
  {
   "cell_type": "code",
   "execution_count": null,
   "metadata": {
    "collapsed": true
   },
   "outputs": [],
   "source": []
  },
  {
   "cell_type": "code",
   "execution_count": 25,
   "metadata": {
    "collapsed": true
   },
   "outputs": [],
   "source": [
    "gamma_range2 = [(2**-14),(2**-12), (2**-10), (2**-8),(2**-6),(2**-4),(2**-2),(2**0),(2**2),(2**4)]"
   ]
  },
  {
   "cell_type": "code",
   "execution_count": 26,
   "metadata": {
    "collapsed": true
   },
   "outputs": [],
   "source": [
    "C_range2 = [(2**-4),(2**-2), (2**0), (2**2),(2**4),(2**6),(2**8),(2**10),(2**12),(2**14)]"
   ]
  },
  {
   "cell_type": "code",
   "execution_count": 27,
   "metadata": {
    "collapsed": false
   },
   "outputs": [
    {
     "name": "stdout",
     "output_type": "stream",
     "text": [
      "Automatically created module for IPython interactive environment\n",
      "# Tuning hyper-parameters for recall\n",
      "\n",
      "Best parameters set found on development set:\n",
      "\n",
      "{'C': 1, 'gamma': 0.00390625, 'kernel': 'rbf'}\n",
      "\n",
      "Grid scores on development set:\n",
      "\n",
      "0.5000 (+/-0.0000) for {'C': 0.0625, 'gamma': 6.103515625e-05, 'kernel': 'rbf'}\n",
      "0.5487 (+/-0.0668) for {'C': 0.0625, 'gamma': 0.000244140625, 'kernel': 'rbf'}\n",
      "0.9380 (+/-0.1023) for {'C': 0.0625, 'gamma': 0.0009765625, 'kernel': 'rbf'}\n",
      "0.9563 (+/-0.0876) for {'C': 0.0625, 'gamma': 0.00390625, 'kernel': 'rbf'}\n",
      "0.9681 (+/-0.0520) for {'C': 0.0625, 'gamma': 0.015625, 'kernel': 'rbf'}\n",
      "0.9559 (+/-0.0410) for {'C': 0.0625, 'gamma': 0.0625, 'kernel': 'rbf'}\n",
      "0.9294 (+/-0.0526) for {'C': 0.0625, 'gamma': 0.25, 'kernel': 'rbf'}\n",
      "0.5000 (+/-0.0000) for {'C': 0.0625, 'gamma': 1, 'kernel': 'rbf'}\n",
      "0.5000 (+/-0.0000) for {'C': 0.0625, 'gamma': 4, 'kernel': 'rbf'}\n",
      "0.5000 (+/-0.0000) for {'C': 0.0625, 'gamma': 16, 'kernel': 'rbf'}\n",
      "0.5640 (+/-0.0558) for {'C': 0.25, 'gamma': 6.103515625e-05, 'kernel': 'rbf'}\n",
      "0.9349 (+/-0.0984) for {'C': 0.25, 'gamma': 0.000244140625, 'kernel': 'rbf'}\n",
      "0.9563 (+/-0.0876) for {'C': 0.25, 'gamma': 0.0009765625, 'kernel': 'rbf'}\n",
      "0.9608 (+/-0.0706) for {'C': 0.25, 'gamma': 0.00390625, 'kernel': 'rbf'}\n",
      "0.9681 (+/-0.0520) for {'C': 0.25, 'gamma': 0.015625, 'kernel': 'rbf'}\n",
      "0.9580 (+/-0.0548) for {'C': 0.25, 'gamma': 0.0625, 'kernel': 'rbf'}\n",
      "0.9310 (+/-0.0537) for {'C': 0.25, 'gamma': 0.25, 'kernel': 'rbf'}\n",
      "0.7984 (+/-0.3919) for {'C': 0.25, 'gamma': 1, 'kernel': 'rbf'}\n",
      "0.5000 (+/-0.0000) for {'C': 0.25, 'gamma': 4, 'kernel': 'rbf'}\n",
      "0.5000 (+/-0.0000) for {'C': 0.25, 'gamma': 16, 'kernel': 'rbf'}\n",
      "0.9349 (+/-0.0984) for {'C': 1, 'gamma': 6.103515625e-05, 'kernel': 'rbf'}\n",
      "0.9563 (+/-0.0876) for {'C': 1, 'gamma': 0.000244140625, 'kernel': 'rbf'}\n",
      "0.9532 (+/-0.0921) for {'C': 1, 'gamma': 0.0009765625, 'kernel': 'rbf'}\n",
      "0.9683 (+/-0.0520) for {'C': 1, 'gamma': 0.00390625, 'kernel': 'rbf'}\n",
      "0.9622 (+/-0.0626) for {'C': 1, 'gamma': 0.015625, 'kernel': 'rbf'}\n",
      "0.9582 (+/-0.0465) for {'C': 1, 'gamma': 0.0625, 'kernel': 'rbf'}\n",
      "0.9523 (+/-0.0378) for {'C': 1, 'gamma': 0.25, 'kernel': 'rbf'}\n",
      "0.9063 (+/-0.0655) for {'C': 1, 'gamma': 1, 'kernel': 'rbf'}\n",
      "0.8225 (+/-0.0795) for {'C': 1, 'gamma': 4, 'kernel': 'rbf'}\n",
      "0.8044 (+/-0.0712) for {'C': 1, 'gamma': 16, 'kernel': 'rbf'}\n",
      "0.9563 (+/-0.0876) for {'C': 4, 'gamma': 6.103515625e-05, 'kernel': 'rbf'}\n",
      "0.9532 (+/-0.0921) for {'C': 4, 'gamma': 0.000244140625, 'kernel': 'rbf'}\n",
      "0.9608 (+/-0.0706) for {'C': 4, 'gamma': 0.0009765625, 'kernel': 'rbf'}\n",
      "0.9622 (+/-0.0597) for {'C': 4, 'gamma': 0.00390625, 'kernel': 'rbf'}\n",
      "0.9606 (+/-0.0578) for {'C': 4, 'gamma': 0.015625, 'kernel': 'rbf'}\n",
      "0.9582 (+/-0.0428) for {'C': 4, 'gamma': 0.0625, 'kernel': 'rbf'}\n",
      "0.9526 (+/-0.0399) for {'C': 4, 'gamma': 0.25, 'kernel': 'rbf'}\n",
      "0.9194 (+/-0.0482) for {'C': 4, 'gamma': 1, 'kernel': 'rbf'}\n",
      "0.8406 (+/-0.0583) for {'C': 4, 'gamma': 4, 'kernel': 'rbf'}\n",
      "0.8044 (+/-0.0712) for {'C': 4, 'gamma': 16, 'kernel': 'rbf'}\n",
      "0.9532 (+/-0.0921) for {'C': 16, 'gamma': 6.103515625e-05, 'kernel': 'rbf'}\n",
      "0.9578 (+/-0.0829) for {'C': 16, 'gamma': 0.000244140625, 'kernel': 'rbf'}\n",
      "0.9592 (+/-0.0741) for {'C': 16, 'gamma': 0.0009765625, 'kernel': 'rbf'}\n",
      "0.9575 (+/-0.0725) for {'C': 16, 'gamma': 0.00390625, 'kernel': 'rbf'}\n",
      "0.9407 (+/-0.0669) for {'C': 16, 'gamma': 0.015625, 'kernel': 'rbf'}\n",
      "0.9582 (+/-0.0428) for {'C': 16, 'gamma': 0.0625, 'kernel': 'rbf'}\n",
      "0.9526 (+/-0.0399) for {'C': 16, 'gamma': 0.25, 'kernel': 'rbf'}\n",
      "0.9194 (+/-0.0482) for {'C': 16, 'gamma': 1, 'kernel': 'rbf'}\n",
      "0.8406 (+/-0.0583) for {'C': 16, 'gamma': 4, 'kernel': 'rbf'}\n",
      "0.8044 (+/-0.0712) for {'C': 16, 'gamma': 16, 'kernel': 'rbf'}\n",
      "0.9578 (+/-0.0829) for {'C': 64, 'gamma': 6.103515625e-05, 'kernel': 'rbf'}\n",
      "0.9562 (+/-0.0689) for {'C': 64, 'gamma': 0.000244140625, 'kernel': 'rbf'}\n",
      "0.9653 (+/-0.0533) for {'C': 64, 'gamma': 0.0009765625, 'kernel': 'rbf'}\n",
      "0.9440 (+/-0.0839) for {'C': 64, 'gamma': 0.00390625, 'kernel': 'rbf'}\n",
      "0.9329 (+/-0.0602) for {'C': 64, 'gamma': 0.015625, 'kernel': 'rbf'}\n",
      "0.9582 (+/-0.0428) for {'C': 64, 'gamma': 0.0625, 'kernel': 'rbf'}\n",
      "0.9526 (+/-0.0399) for {'C': 64, 'gamma': 0.25, 'kernel': 'rbf'}\n",
      "0.9194 (+/-0.0482) for {'C': 64, 'gamma': 1, 'kernel': 'rbf'}\n",
      "0.8406 (+/-0.0583) for {'C': 64, 'gamma': 4, 'kernel': 'rbf'}\n",
      "0.8044 (+/-0.0712) for {'C': 64, 'gamma': 16, 'kernel': 'rbf'}\n",
      "0.9562 (+/-0.0689) for {'C': 256, 'gamma': 6.103515625e-05, 'kernel': 'rbf'}\n",
      "0.9623 (+/-0.0521) for {'C': 256, 'gamma': 0.000244140625, 'kernel': 'rbf'}\n",
      "0.9500 (+/-0.0693) for {'C': 256, 'gamma': 0.0009765625, 'kernel': 'rbf'}\n",
      "0.9393 (+/-0.0891) for {'C': 256, 'gamma': 0.00390625, 'kernel': 'rbf'}\n",
      "0.9329 (+/-0.0602) for {'C': 256, 'gamma': 0.015625, 'kernel': 'rbf'}\n",
      "0.9582 (+/-0.0428) for {'C': 256, 'gamma': 0.0625, 'kernel': 'rbf'}\n",
      "0.9526 (+/-0.0399) for {'C': 256, 'gamma': 0.25, 'kernel': 'rbf'}\n",
      "0.9194 (+/-0.0482) for {'C': 256, 'gamma': 1, 'kernel': 'rbf'}\n",
      "0.8406 (+/-0.0583) for {'C': 256, 'gamma': 4, 'kernel': 'rbf'}\n",
      "0.8044 (+/-0.0712) for {'C': 256, 'gamma': 16, 'kernel': 'rbf'}\n",
      "0.9639 (+/-0.0556) for {'C': 1024, 'gamma': 6.103515625e-05, 'kernel': 'rbf'}\n",
      "0.9623 (+/-0.0521) for {'C': 1024, 'gamma': 0.000244140625, 'kernel': 'rbf'}\n",
      "0.9409 (+/-0.0711) for {'C': 1024, 'gamma': 0.0009765625, 'kernel': 'rbf'}\n",
      "0.9177 (+/-0.0831) for {'C': 1024, 'gamma': 0.00390625, 'kernel': 'rbf'}\n",
      "0.9329 (+/-0.0602) for {'C': 1024, 'gamma': 0.015625, 'kernel': 'rbf'}\n",
      "0.9582 (+/-0.0428) for {'C': 1024, 'gamma': 0.0625, 'kernel': 'rbf'}\n",
      "0.9526 (+/-0.0399) for {'C': 1024, 'gamma': 0.25, 'kernel': 'rbf'}\n",
      "0.9194 (+/-0.0482) for {'C': 1024, 'gamma': 1, 'kernel': 'rbf'}\n",
      "0.8406 (+/-0.0583) for {'C': 1024, 'gamma': 4, 'kernel': 'rbf'}\n",
      "0.8044 (+/-0.0712) for {'C': 1024, 'gamma': 16, 'kernel': 'rbf'}\n",
      "0.9639 (+/-0.0515) for {'C': 4096, 'gamma': 6.103515625e-05, 'kernel': 'rbf'}\n",
      "0.9470 (+/-0.0718) for {'C': 4096, 'gamma': 0.000244140625, 'kernel': 'rbf'}\n",
      "0.9393 (+/-0.0925) for {'C': 4096, 'gamma': 0.0009765625, 'kernel': 'rbf'}\n",
      "0.9177 (+/-0.0831) for {'C': 4096, 'gamma': 0.00390625, 'kernel': 'rbf'}\n",
      "0.9329 (+/-0.0602) for {'C': 4096, 'gamma': 0.015625, 'kernel': 'rbf'}\n",
      "0.9582 (+/-0.0428) for {'C': 4096, 'gamma': 0.0625, 'kernel': 'rbf'}\n",
      "0.9526 (+/-0.0399) for {'C': 4096, 'gamma': 0.25, 'kernel': 'rbf'}\n",
      "0.9194 (+/-0.0482) for {'C': 4096, 'gamma': 1, 'kernel': 'rbf'}\n",
      "0.8406 (+/-0.0583) for {'C': 4096, 'gamma': 4, 'kernel': 'rbf'}\n",
      "0.8044 (+/-0.0712) for {'C': 4096, 'gamma': 16, 'kernel': 'rbf'}\n",
      "0.9623 (+/-0.0521) for {'C': 16384, 'gamma': 6.103515625e-05, 'kernel': 'rbf'}\n",
      "0.9409 (+/-0.0711) for {'C': 16384, 'gamma': 0.000244140625, 'kernel': 'rbf'}\n",
      "0.9177 (+/-0.0994) for {'C': 16384, 'gamma': 0.0009765625, 'kernel': 'rbf'}\n",
      "0.9177 (+/-0.0831) for {'C': 16384, 'gamma': 0.00390625, 'kernel': 'rbf'}\n",
      "0.9329 (+/-0.0602) for {'C': 16384, 'gamma': 0.015625, 'kernel': 'rbf'}\n",
      "0.9582 (+/-0.0428) for {'C': 16384, 'gamma': 0.0625, 'kernel': 'rbf'}\n",
      "0.9526 (+/-0.0399) for {'C': 16384, 'gamma': 0.25, 'kernel': 'rbf'}\n",
      "0.9194 (+/-0.0482) for {'C': 16384, 'gamma': 1, 'kernel': 'rbf'}\n",
      "0.8406 (+/-0.0583) for {'C': 16384, 'gamma': 4, 'kernel': 'rbf'}\n",
      "0.8044 (+/-0.0712) for {'C': 16384, 'gamma': 16, 'kernel': 'rbf'}\n",
      "\n",
      "Detailed classification report:\n",
      "\n",
      "The model is trained on the full development set.\n",
      "The scores are computed on the full evaluation set.\n",
      "\n",
      "             precision    recall  f1-score   support\n",
      "\n",
      "          2       0.97      0.98      0.98       154\n",
      "          4       0.96      0.95      0.95        77\n",
      "\n",
      "avg / total       0.97      0.97      0.97       231\n",
      "\n",
      "\n"
     ]
    }
   ],
   "source": [
    "print(__doc__)\n",
    "\n",
    "# Loading the Digits dataset\n",
    "#digits = datasets.load_digits()\n",
    "\n",
    "# To apply an classifier on this data, we need to flatten the image, to\n",
    "# turn the data in a (samples, feature) matrix:\n",
    "n_samples = len(dfA)\n",
    "\n",
    "\n",
    "# Set the parameters by cross-validation\n",
    "\n",
    "tuned_parameters2a = [{'kernel': ['rbf'], 'gamma': gamma_range2,\n",
    "                     'C': C_range2},]\n",
    "scores = ['recall']\n",
    "\n",
    "for score in scores:\n",
    "    print(\"# Tuning hyper-parameters for %s\" % score)\n",
    "    print()\n",
    "\n",
    "    clf2a = GridSearchCV(svr, tuned_parameters2a, cv=10,\n",
    "                       scoring='%s_macro' % score)\n",
    "    clf2a.fit(X_train, y_train)\n",
    "\n",
    "    print(\"Best parameters set found on development set:\")\n",
    "    print()\n",
    "    print(clf2a.best_params_)\n",
    "    print()\n",
    "    print(\"Grid scores on development set:\")\n",
    "    print()\n",
    "    means = clf2a.cv_results_['mean_test_score']\n",
    "    stds = clf2a.cv_results_['std_test_score']\n",
    "    for mean, std, params in zip(means, stds, clf2a.cv_results_['params']):\n",
    "        print(\"%0.4f (+/-%0.04f) for %r\"\n",
    "              % (mean, std * 2, params))\n",
    "    print()\n",
    "\n",
    "    print(\"Detailed classification report:\")\n",
    "    print()\n",
    "    print(\"The model is trained on the full development set.\")\n",
    "    print(\"The scores are computed on the full evaluation set.\")\n",
    "    print()\n",
    "    y_true, y_pred2a = y_test, clf2a.predict(X_test)\n",
    "    print(classification_report(y_true, y_pred2a))\n",
    "    print()"
   ]
  },
  {
   "cell_type": "code",
   "execution_count": 28,
   "metadata": {
    "collapsed": false
   },
   "outputs": [
    {
     "data": {
      "text/plain": [
       "SVC(C=0.125, cache_size=200, class_weight=None, coef0=0.0,\n",
       "  decision_function_shape=None, degree=3, gamma=0.0078125, kernel='rbf',\n",
       "  max_iter=-1, probability=False, random_state=None, shrinking=True,\n",
       "  tol=0.001, verbose=False)"
      ]
     },
     "execution_count": 28,
     "metadata": {},
     "output_type": "execute_result"
    }
   ],
   "source": [
    "clf2.best_estimator_"
   ]
  },
  {
   "cell_type": "code",
   "execution_count": null,
   "metadata": {
    "collapsed": true
   },
   "outputs": [],
   "source": []
  },
  {
   "cell_type": "code",
   "execution_count": null,
   "metadata": {
    "collapsed": true
   },
   "outputs": [],
   "source": []
  },
  {
   "cell_type": "code",
   "execution_count": null,
   "metadata": {
    "collapsed": true
   },
   "outputs": [],
   "source": []
  },
  {
   "cell_type": "code",
   "execution_count": null,
   "metadata": {
    "collapsed": true
   },
   "outputs": [],
   "source": [
    "Akurasi: 0.9697\n",
    "Precision: 0.9487\n",
    "Recall: 0.9610\n",
    "F1: 0.9548"
   ]
  },
  {
   "cell_type": "markdown",
   "metadata": {
    "collapsed": true
   },
   "source": [
    "# Hasil yang paling baik untuk parameter sesuai Hsu adalah svc7 \n",
    "SVC(C=0.125, cache_size=200, class_weight=None, coef0=0.0,\n",
    "  decision_function_shape=None, degree=3, gamma=0.0078125, kernel='rbf',\n",
    "  max_iter=-1, probability=False, random_state=None, shrinking=True,\n",
    "  tol=0.001, verbose=False)\n"
   ]
  },
  {
   "cell_type": "code",
   "execution_count": 32,
   "metadata": {
    "collapsed": true
   },
   "outputs": [],
   "source": [
    "svc8=svm.SVC(**clf2a.best_params_)"
   ]
  },
  {
   "cell_type": "code",
   "execution_count": 33,
   "metadata": {
    "collapsed": false
   },
   "outputs": [
    {
     "data": {
      "text/plain": [
       "SVC(C=1, cache_size=200, class_weight=None, coef0=0.0,\n",
       "  decision_function_shape=None, degree=3, gamma=0.00390625, kernel='rbf',\n",
       "  max_iter=-1, probability=False, random_state=None, shrinking=True,\n",
       "  tol=0.001, verbose=False)"
      ]
     },
     "execution_count": 33,
     "metadata": {},
     "output_type": "execute_result"
    }
   ],
   "source": [
    "svc8.fit(X_train,y_train)"
   ]
  },
  {
   "cell_type": "code",
   "execution_count": 34,
   "metadata": {
    "collapsed": false
   },
   "outputs": [
    {
     "name": "stdout",
     "output_type": "stream",
     "text": [
      "Akurasi: 0.9697\n",
      "Precision: 0.9605\n",
      "Recall: 0.9481\n",
      "F1: 0.9542\n"
     ]
    }
   ],
   "source": [
    "y_pred8 = svc8.predict(X_test)\n",
    "accuracy = accuracy_score(y_test, y_pred8)\n",
    "precision, recall, f1, _ = precision_recall_fscore_support(y_test, y_pred8)\n",
    "print (('Akurasi: %.4f') % (accuracy))\n",
    "print (('Precision: %.4f') % (precision[1]))\n",
    "print (('Recall: %.4f') % (recall[1]))\n",
    "print (('F1: %.4f') % (f1[1]))"
   ]
  },
  {
   "cell_type": "markdown",
   "metadata": {},
   "source": [
    "# sama hasilnya"
   ]
  },
  {
   "cell_type": "code",
   "execution_count": 49,
   "metadata": {
    "collapsed": false
   },
   "outputs": [],
   "source": [
    "gamma_range2 = [(2**-7),(2**-7.25),(2**-7.5), (2**-7.75), (2**-8)]\n",
    "C_range2 = [(2**-3),(2**-3.25),(2**-3.5), (2**-3.75), (2**-4)]"
   ]
  },
  {
   "cell_type": "code",
   "execution_count": 50,
   "metadata": {
    "collapsed": false
   },
   "outputs": [
    {
     "name": "stdout",
     "output_type": "stream",
     "text": [
      "Automatically created module for IPython interactive environment\n",
      "# Tuning hyper-parameters for recall\n",
      "\n",
      "Best parameters set found on development set:\n",
      "\n",
      "{'C': 0.125, 'gamma': 0.0078125, 'kernel': 'rbf'}\n",
      "\n",
      "Grid scores on development set:\n",
      "\n",
      "0.9667 (+/-0.0647) for {'C': 0.125, 'gamma': 0.0078125, 'kernel': 'rbf'}\n",
      "0.9637 (+/-0.0609) for {'C': 0.125, 'gamma': 0.0065695032441696445, 'kernel': 'rbf'}\n",
      "0.9637 (+/-0.0609) for {'C': 0.125, 'gamma': 0.005524271728019903, 'kernel': 'rbf'}\n",
      "0.9591 (+/-0.0706) for {'C': 0.125, 'gamma': 0.004645340292979379, 'kernel': 'rbf'}\n",
      "0.9546 (+/-0.0849) for {'C': 0.125, 'gamma': 0.00390625, 'kernel': 'rbf'}\n",
      "0.9667 (+/-0.0647) for {'C': 0.10511205190671431, 'gamma': 0.0078125, 'kernel': 'rbf'}\n",
      "0.9637 (+/-0.0609) for {'C': 0.10511205190671431, 'gamma': 0.0065695032441696445, 'kernel': 'rbf'}\n",
      "0.9606 (+/-0.0719) for {'C': 0.10511205190671431, 'gamma': 0.005524271728019903, 'kernel': 'rbf'}\n",
      "0.9561 (+/-0.0713) for {'C': 0.10511205190671431, 'gamma': 0.004645340292979379, 'kernel': 'rbf'}\n",
      "0.9563 (+/-0.0876) for {'C': 0.10511205190671431, 'gamma': 0.00390625, 'kernel': 'rbf'}\n",
      "0.9667 (+/-0.0647) for {'C': 0.08838834764831845, 'gamma': 0.0078125, 'kernel': 'rbf'}\n",
      "0.9637 (+/-0.0609) for {'C': 0.08838834764831845, 'gamma': 0.0065695032441696445, 'kernel': 'rbf'}\n",
      "0.9575 (+/-0.0729) for {'C': 0.08838834764831845, 'gamma': 0.005524271728019903, 'kernel': 'rbf'}\n",
      "0.9563 (+/-0.0876) for {'C': 0.08838834764831845, 'gamma': 0.004645340292979379, 'kernel': 'rbf'}\n",
      "0.9563 (+/-0.0876) for {'C': 0.08838834764831845, 'gamma': 0.00390625, 'kernel': 'rbf'}\n",
      "0.9637 (+/-0.0609) for {'C': 0.07432544468767006, 'gamma': 0.0078125, 'kernel': 'rbf'}\n",
      "0.9637 (+/-0.0609) for {'C': 0.07432544468767006, 'gamma': 0.0065695032441696445, 'kernel': 'rbf'}\n",
      "0.9575 (+/-0.0729) for {'C': 0.07432544468767006, 'gamma': 0.005524271728019903, 'kernel': 'rbf'}\n",
      "0.9563 (+/-0.0876) for {'C': 0.07432544468767006, 'gamma': 0.004645340292979379, 'kernel': 'rbf'}\n",
      "0.9563 (+/-0.0876) for {'C': 0.07432544468767006, 'gamma': 0.00390625, 'kernel': 'rbf'}\n",
      "0.9637 (+/-0.0609) for {'C': 0.0625, 'gamma': 0.0078125, 'kernel': 'rbf'}\n",
      "0.9575 (+/-0.0729) for {'C': 0.0625, 'gamma': 0.0065695032441696445, 'kernel': 'rbf'}\n",
      "0.9591 (+/-0.0758) for {'C': 0.0625, 'gamma': 0.005524271728019903, 'kernel': 'rbf'}\n",
      "0.9563 (+/-0.0876) for {'C': 0.0625, 'gamma': 0.004645340292979379, 'kernel': 'rbf'}\n",
      "0.9563 (+/-0.0876) for {'C': 0.0625, 'gamma': 0.00390625, 'kernel': 'rbf'}\n",
      "\n",
      "Detailed classification report:\n",
      "\n",
      "The model is trained on the full development set.\n",
      "The scores are computed on the full evaluation set.\n",
      "\n",
      "             precision    recall  f1-score   support\n",
      "\n",
      "          2       0.98      0.97      0.98       154\n",
      "          4       0.95      0.96      0.95        77\n",
      "\n",
      "avg / total       0.97      0.97      0.97       231\n",
      "\n",
      "\n"
     ]
    }
   ],
   "source": [
    "print(__doc__)\n",
    "\n",
    "# Loading the Digits dataset\n",
    "#digits = datasets.load_digits()\n",
    "\n",
    "# To apply an classifier on this data, we need to flatten the image, to\n",
    "# turn the data in a (samples, feature) matrix:\n",
    "n_samples = len(dfA)\n",
    "\n",
    "\n",
    "# Set the parameters by cross-validation\n",
    "\n",
    "tuned_parameters2a = [{'kernel': ['rbf'], 'gamma': gamma_range2,\n",
    "                     'C': C_range2},]\n",
    "scores = ['recall']\n",
    "\n",
    "for score in scores:\n",
    "    print(\"# Tuning hyper-parameters for %s\" % score)\n",
    "    print()\n",
    "\n",
    "    clf2a = GridSearchCV(svr, tuned_parameters2a, cv=10,\n",
    "                       scoring='%s_macro' % score)\n",
    "    clf2a.fit(X_train, y_train)\n",
    "\n",
    "    print(\"Best parameters set found on development set:\")\n",
    "    print()\n",
    "    print(clf2a.best_params_)\n",
    "    print()\n",
    "    print(\"Grid scores on development set:\")\n",
    "    print()\n",
    "    means = clf2a.cv_results_['mean_test_score']\n",
    "    stds = clf2a.cv_results_['std_test_score']\n",
    "    for mean, std, params in zip(means, stds, clf2a.cv_results_['params']):\n",
    "        print(\"%0.4f (+/-%0.04f) for %r\"\n",
    "              % (mean, std * 2, params))\n",
    "    print()\n",
    "\n",
    "    print(\"Detailed classification report:\")\n",
    "    print()\n",
    "    print(\"The model is trained on the full development set.\")\n",
    "    print(\"The scores are computed on the full evaluation set.\")\n",
    "    print()\n",
    "    y_true, y_pred2a = y_test, clf2a.predict(X_test)\n",
    "    print(classification_report(y_true, y_pred2a))\n",
    "    print()"
   ]
  },
  {
   "cell_type": "code",
   "execution_count": 38,
   "metadata": {
    "collapsed": false
   },
   "outputs": [
    {
     "data": {
      "text/plain": [
       "SVC(C=0.10511205190671431, cache_size=200, class_weight=None, coef0=0.0,\n",
       "  decision_function_shape=None, degree=3, gamma=0.0065695032441696445,\n",
       "  kernel='rbf', max_iter=-1, probability=False, random_state=None,\n",
       "  shrinking=True, tol=0.001, verbose=False)"
      ]
     },
     "execution_count": 38,
     "metadata": {},
     "output_type": "execute_result"
    }
   ],
   "source": [
    "clf2a.best_estimator_"
   ]
  },
  {
   "cell_type": "code",
   "execution_count": 39,
   "metadata": {
    "collapsed": false
   },
   "outputs": [
    {
     "data": {
      "text/plain": [
       "SVC(C=0.10511205190671431, cache_size=200, class_weight=None, coef0=0.0,\n",
       "  decision_function_shape=None, degree=3, gamma=0.0065695032441696445,\n",
       "  kernel='rbf', max_iter=-1, probability=False, random_state=None,\n",
       "  shrinking=True, tol=0.001, verbose=False)"
      ]
     },
     "execution_count": 39,
     "metadata": {},
     "output_type": "execute_result"
    }
   ],
   "source": [
    "bb=svm.SVC(C=0.10511205190671431, cache_size=200, class_weight=None, coef0=0.0,\n",
    "  decision_function_shape=None, degree=3, gamma=0.0065695032441696445,\n",
    "  kernel='rbf', max_iter=-1, probability=False, random_state=None,\n",
    "  shrinking=True, tol=0.001, verbose=False)\n",
    "bb.fit(X_train,y_train)"
   ]
  },
  {
   "cell_type": "code",
   "execution_count": 40,
   "metadata": {
    "collapsed": false
   },
   "outputs": [
    {
     "name": "stdout",
     "output_type": "stream",
     "text": [
      "Akurasi: 0.9740\n",
      "Precision: 0.9610\n",
      "Recall: 0.9610\n",
      "F1: 0.9610\n"
     ]
    }
   ],
   "source": [
    "y_predbb = bb.predict(X_test)\n",
    "accuracy = accuracy_score(y_test, y_predbb)\n",
    "precision, recall, f1, _ = precision_recall_fscore_support(y_test, y_predbb)\n",
    "print (('Akurasi: %.4f') % (accuracy))\n",
    "print (('Precision: %.4f') % (precision[1]))\n",
    "print (('Recall: %.4f') % (recall[1]))\n",
    "print (('F1: %.4f') % (f1[1]))"
   ]
  },
  {
   "cell_type": "markdown",
   "metadata": {},
   "source": [
    "# clf2a = prec, recall, f1 = 0.9610\n",
    "#clf2b kok turun"
   ]
  },
  {
   "cell_type": "code",
   "execution_count": 41,
   "metadata": {
    "collapsed": true
   },
   "outputs": [],
   "source": [
    "gamma_range2c = [(2**-7.1), (2**-7.15), (2**-7.2), (2**-7.25)]\n",
    "C_range2c = [(2**-3.1), (2**-3.15), (2**-3.2), (2**-3.25)]"
   ]
  },
  {
   "cell_type": "code",
   "execution_count": 42,
   "metadata": {
    "collapsed": false
   },
   "outputs": [
    {
     "name": "stdout",
     "output_type": "stream",
     "text": [
      "Automatically created module for IPython interactive environment\n",
      "# Tuning hyper-parameters for recall\n",
      "\n",
      "Best parameters set found on development set:\n",
      "\n",
      "{'C': 0.11662912394210093, 'gamma': 0.00728932024638131, 'kernel': 'rbf'}\n",
      "\n",
      "Grid scores on development set:\n",
      "\n",
      "0.9667 (+/-0.0647) for {'C': 0.11662912394210093, 'gamma': 0.00728932024638131, 'kernel': 'rbf'}\n",
      "0.9637 (+/-0.0609) for {'C': 0.11662912394210093, 'gamma': 0.007041019239147109, 'kernel': 'rbf'}\n",
      "0.9637 (+/-0.0609) for {'C': 0.11662912394210093, 'gamma': 0.006801176275750969, 'kernel': 'rbf'}\n",
      "0.9637 (+/-0.0609) for {'C': 0.11662912394210093, 'gamma': 0.0065695032441696445, 'kernel': 'rbf'}\n",
      "0.9667 (+/-0.0647) for {'C': 0.11265630782635379, 'gamma': 0.00728932024638131, 'kernel': 'rbf'}\n",
      "0.9637 (+/-0.0609) for {'C': 0.11265630782635379, 'gamma': 0.007041019239147109, 'kernel': 'rbf'}\n",
      "0.9637 (+/-0.0609) for {'C': 0.11265630782635379, 'gamma': 0.006801176275750969, 'kernel': 'rbf'}\n",
      "0.9637 (+/-0.0609) for {'C': 0.11265630782635379, 'gamma': 0.0065695032441696445, 'kernel': 'rbf'}\n",
      "0.9667 (+/-0.0647) for {'C': 0.1088188204120155, 'gamma': 0.00728932024638131, 'kernel': 'rbf'}\n",
      "0.9637 (+/-0.0609) for {'C': 0.1088188204120155, 'gamma': 0.007041019239147109, 'kernel': 'rbf'}\n",
      "0.9637 (+/-0.0609) for {'C': 0.1088188204120155, 'gamma': 0.006801176275750969, 'kernel': 'rbf'}\n",
      "0.9637 (+/-0.0609) for {'C': 0.1088188204120155, 'gamma': 0.0065695032441696445, 'kernel': 'rbf'}\n",
      "0.9667 (+/-0.0647) for {'C': 0.10511205190671431, 'gamma': 0.00728932024638131, 'kernel': 'rbf'}\n",
      "0.9667 (+/-0.0647) for {'C': 0.10511205190671431, 'gamma': 0.007041019239147109, 'kernel': 'rbf'}\n",
      "0.9637 (+/-0.0609) for {'C': 0.10511205190671431, 'gamma': 0.006801176275750969, 'kernel': 'rbf'}\n",
      "0.9637 (+/-0.0609) for {'C': 0.10511205190671431, 'gamma': 0.0065695032441696445, 'kernel': 'rbf'}\n",
      "\n",
      "Detailed classification report:\n",
      "\n",
      "The model is trained on the full development set.\n",
      "The scores are computed on the full evaluation set.\n",
      "\n",
      "             precision    recall  f1-score   support\n",
      "\n",
      "          2       0.98      0.97      0.98       154\n",
      "          4       0.95      0.96      0.95        77\n",
      "\n",
      "avg / total       0.97      0.97      0.97       231\n",
      "\n",
      "\n"
     ]
    }
   ],
   "source": [
    "print(__doc__)\n",
    "\n",
    "# Loading the Digits dataset\n",
    "#digits = datasets.load_digits()\n",
    "\n",
    "# To apply an classifier on this data, we need to flatten the image, to\n",
    "# turn the data in a (samples, feature) matrix:\n",
    "n_samples = len(dfA)\n",
    "\n",
    "\n",
    "# Set the parameters by cross-validation\n",
    "\n",
    "tuned_parameters2d = [{'kernel': ['rbf'], 'gamma':  [(2**-7.1), (2**-7.15), (2**-7.2), (2**-7.25)],\n",
    "                     'C': [(2**-3.1), (2**-3.15), (2**-3.2), (2**-3.25)]},]\n",
    "scores = ['recall']\n",
    "\n",
    "for score in scores:\n",
    "    print(\"# Tuning hyper-parameters for %s\" % score)\n",
    "    print()\n",
    "\n",
    "    clf2b = GridSearchCV(svr, tuned_parameters2d, cv=10,\n",
    "                       scoring='%s_macro' % score)\n",
    "    clf2b.fit(X_train, y_train)\n",
    "\n",
    "    print(\"Best parameters set found on development set:\")\n",
    "    print()\n",
    "    print(clf2b.best_params_)\n",
    "    print()\n",
    "    print(\"Grid scores on development set:\")\n",
    "    print()\n",
    "    means = clf2b.cv_results_['mean_test_score']\n",
    "    stds = clf2b.cv_results_['std_test_score']\n",
    "    for mean, std, params in zip(means, stds, clf2b.cv_results_['params']):\n",
    "        print(\"%0.4f (+/-%0.04f) for %r\"\n",
    "              % (mean, std * 2, params))\n",
    "    print()\n",
    "\n",
    "    print(\"Detailed classification report:\")\n",
    "    print()\n",
    "    print(\"The model is trained on the full development set.\")\n",
    "    print(\"The scores are computed on the full evaluation set.\")\n",
    "    print()\n",
    "    y_true, y_pred2b = y_test, clf2b.predict(X_test)\n",
    "    print(classification_report(y_true, y_pred2b))\n",
    "    print()"
   ]
  },
  {
   "cell_type": "markdown",
   "metadata": {},
   "source": [
    "# Maka hasil c=2^3.25 gamma=2^-7.25"
   ]
  },
  {
   "cell_type": "code",
   "execution_count": 43,
   "metadata": {
    "collapsed": false
   },
   "outputs": [
    {
     "data": {
      "text/plain": [
       "SVC(C=0.11662912394210093, cache_size=200, class_weight=None, coef0=0.0,\n",
       "  decision_function_shape=None, degree=3, gamma=0.00728932024638131,\n",
       "  kernel='rbf', max_iter=-1, probability=False, random_state=None,\n",
       "  shrinking=True, tol=0.001, verbose=False)"
      ]
     },
     "execution_count": 43,
     "metadata": {},
     "output_type": "execute_result"
    }
   ],
   "source": [
    "clf2b.best_estimator_"
   ]
  },
  {
   "cell_type": "code",
   "execution_count": 44,
   "metadata": {
    "collapsed": false
   },
   "outputs": [],
   "source": [
    "cc=svm.SVC(**clf2b.best_params_)"
   ]
  },
  {
   "cell_type": "code",
   "execution_count": 45,
   "metadata": {
    "collapsed": false
   },
   "outputs": [
    {
     "data": {
      "text/plain": [
       "SVC(C=0.11662912394210093, cache_size=200, class_weight=None, coef0=0.0,\n",
       "  decision_function_shape=None, degree=3, gamma=0.00728932024638131,\n",
       "  kernel='rbf', max_iter=-1, probability=False, random_state=None,\n",
       "  shrinking=True, tol=0.001, verbose=False)"
      ]
     },
     "execution_count": 45,
     "metadata": {},
     "output_type": "execute_result"
    }
   ],
   "source": [
    "cc.fit(X_train,y_train)"
   ]
  },
  {
   "cell_type": "code",
   "execution_count": 46,
   "metadata": {
    "collapsed": false
   },
   "outputs": [
    {
     "name": "stdout",
     "output_type": "stream",
     "text": [
      "Akurasi: 0.9697\n",
      "Precision: 0.9487\n",
      "Recall: 0.9610\n",
      "F1: 0.9548\n"
     ]
    }
   ],
   "source": [
    "y_predcc = cc.predict(X_test)\n",
    "accuracy = accuracy_score(y_test, y_predcc)\n",
    "precision, recall, f1, _ = precision_recall_fscore_support(y_test, y_predcc)\n",
    "print (('Akurasi: %.4f') % (accuracy))\n",
    "print (('Precision: %.4f') % (precision[1]))\n",
    "print (('Recall: %.4f') % (recall[1]))\n",
    "print (('F1: %.4f') % (f1[1]))"
   ]
  },
  {
   "cell_type": "code",
   "execution_count": null,
   "metadata": {
    "collapsed": true
   },
   "outputs": [],
   "source": []
  }
 ],
 "metadata": {
  "anaconda-cloud": {},
  "kernelspec": {
   "display_name": "Python 3",
   "language": "python",
   "name": "python3"
  },
  "language_info": {
   "codemirror_mode": {
    "name": "ipython",
    "version": 3
   },
   "file_extension": ".py",
   "mimetype": "text/x-python",
   "name": "python",
   "nbconvert_exporter": "python",
   "pygments_lexer": "ipython3",
   "version": "3.6.0"
  }
 },
 "nbformat": 4,
 "nbformat_minor": 1
}
