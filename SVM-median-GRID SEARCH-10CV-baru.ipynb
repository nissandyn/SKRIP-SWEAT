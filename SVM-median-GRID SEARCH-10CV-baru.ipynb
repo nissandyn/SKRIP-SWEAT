{
 "cells": [
  {
   "cell_type": "code",
   "execution_count": 4,
   "metadata": {
    "collapsed": true
   },
   "outputs": [],
   "source": [
    "\n",
    "%matplotlib inline\n",
    "import pandas as pd\n",
    "import numpy as np\n",
    "import matplotlib.pyplot as plt\n",
    "from scipy import stats\n",
    "import pylab as pl\n",
    "from sklearn.model_selection import train_test_split"
   ]
  },
  {
   "cell_type": "code",
   "execution_count": 5,
   "metadata": {
    "collapsed": false
   },
   "outputs": [],
   "source": [
    "dfA = pd.read_csv(\"wbc.csv\")"
   ]
  },
  {
   "cell_type": "code",
   "execution_count": 6,
   "metadata": {
    "collapsed": false
   },
   "outputs": [
    {
     "name": "stdout",
     "output_type": "stream",
     "text": [
      "<class 'pandas.core.frame.DataFrame'>\n",
      "RangeIndex: 699 entries, 0 to 698\n",
      "Data columns (total 10 columns):\n",
      "clump_thickness       699 non-null int64\n",
      "cell_size             699 non-null int64\n",
      "cell_shape            699 non-null int64\n",
      "marginal_adhesion     699 non-null int64\n",
      "epitelial_cellsize    699 non-null int64\n",
      "bare_nuclei           699 non-null float64\n",
      "bland_chromatin       699 non-null int64\n",
      "normal_nucleoli       699 non-null int64\n",
      "mitoses               699 non-null int64\n",
      "jenis                 699 non-null int64\n",
      "dtypes: float64(1), int64(9)\n",
      "memory usage: 54.7 KB\n"
     ]
    }
   ],
   "source": [
    "dfA=dfA.replace('?',np.nan)\n",
    "dfA['bare_nuclei'] = pd.to_numeric(dfA.bare_nuclei.fillna(dfA.bare_nuclei.median()))\n",
    "dfA.info()"
   ]
  },
  {
   "cell_type": "code",
   "execution_count": 7,
   "metadata": {
    "collapsed": false
   },
   "outputs": [],
   "source": [
    "X = dfA.drop([dfA.columns[-1]], axis=1)\n",
    "y = dfA.jenis.map({2: 0, 4: 1})"
   ]
  },
  {
   "cell_type": "code",
   "execution_count": 8,
   "metadata": {
    "collapsed": false
   },
   "outputs": [],
   "source": [
    "X_train, X_test, y_train, y_test = train_test_split(X, y,test_size=0.33, random_state=42)"
   ]
  },
  {
   "cell_type": "code",
   "execution_count": 9,
   "metadata": {
    "collapsed": true
   },
   "outputs": [],
   "source": [
    "from sklearn import svm"
   ]
  },
  {
   "cell_type": "code",
   "execution_count": 10,
   "metadata": {
    "collapsed": true
   },
   "outputs": [],
   "source": [
    "from sklearn.metrics import accuracy_score, precision_recall_fscore_support"
   ]
  },
  {
   "cell_type": "code",
   "execution_count": 11,
   "metadata": {
    "collapsed": false
   },
   "outputs": [],
   "source": [
    "from sklearn import metrics"
   ]
  },
  {
   "cell_type": "code",
   "execution_count": 12,
   "metadata": {
    "collapsed": false
   },
   "outputs": [],
   "source": [
    "from sklearn.model_selection import GridSearchCV\n",
    "from __future__ import print_function\n",
    "from sklearn.metrics import classification_report\n",
    "from sklearn.svm import SVC"
   ]
  },
  {
   "cell_type": "code",
   "execution_count": 13,
   "metadata": {
    "collapsed": true
   },
   "outputs": [],
   "source": [
    "svr=svm.SVC()"
   ]
  },
  {
   "cell_type": "code",
   "execution_count": 14,
   "metadata": {
    "collapsed": false
   },
   "outputs": [],
   "source": [
    "gamma_range = [2**i for i in [-15, -13, -11, -9, -7, -5, -3, -1, 1, 3]]"
   ]
  },
  {
   "cell_type": "code",
   "execution_count": 15,
   "metadata": {
    "collapsed": false
   },
   "outputs": [
    {
     "data": {
      "text/plain": [
       "[3.0517578125e-05,\n",
       " 0.0001220703125,\n",
       " 0.00048828125,\n",
       " 0.001953125,\n",
       " 0.0078125,\n",
       " 0.03125,\n",
       " 0.125,\n",
       " 0.5,\n",
       " 2,\n",
       " 8]"
      ]
     },
     "execution_count": 15,
     "metadata": {},
     "output_type": "execute_result"
    }
   ],
   "source": [
    "gamma_range"
   ]
  },
  {
   "cell_type": "code",
   "execution_count": 16,
   "metadata": {
    "collapsed": false
   },
   "outputs": [],
   "source": [
    "C_range = [2**i for i in [-5, -3, -1, 1, 3, 5, 7, 9, 11, 13, 15]]"
   ]
  },
  {
   "cell_type": "code",
   "execution_count": 17,
   "metadata": {
    "collapsed": false
   },
   "outputs": [
    {
     "data": {
      "text/plain": [
       "[0.03125, 0.125, 0.5, 2, 8, 32, 128, 512, 2048, 8192, 32768]"
      ]
     },
     "execution_count": 17,
     "metadata": {},
     "output_type": "execute_result"
    }
   ],
   "source": [
    "C_range"
   ]
  },
  {
   "cell_type": "code",
   "execution_count": 18,
   "metadata": {
    "collapsed": false
   },
   "outputs": [
    {
     "name": "stdout",
     "output_type": "stream",
     "text": [
      "Automatically created module for IPython interactive environment\n",
      "# Tuning hyper-parameters for recall\n",
      "\n",
      "Best parameters set found on development set:\n",
      "\n",
      "{'C': 0.125, 'gamma': 0.0078125, 'kernel': 'rbf'}\n",
      "\n",
      "Grid scores on development set:\n",
      "\n",
      "0.500 (+/-0.000) for {'C': 0.03125, 'gamma': 3.0517578125e-05, 'kernel': 'rbf'}\n",
      "0.500 (+/-0.000) for {'C': 0.03125, 'gamma': 0.0001220703125, 'kernel': 'rbf'}\n",
      "0.530 (+/-0.067) for {'C': 0.03125, 'gamma': 0.00048828125, 'kernel': 'rbf'}\n",
      "0.938 (+/-0.102) for {'C': 0.03125, 'gamma': 0.001953125, 'kernel': 'rbf'}\n",
      "0.959 (+/-0.076) for {'C': 0.03125, 'gamma': 0.0078125, 'kernel': 'rbf'}\n",
      "0.963 (+/-0.044) for {'C': 0.03125, 'gamma': 0.03125, 'kernel': 'rbf'}\n",
      "0.949 (+/-0.045) for {'C': 0.03125, 'gamma': 0.125, 'kernel': 'rbf'}\n",
      "0.500 (+/-0.000) for {'C': 0.03125, 'gamma': 0.5, 'kernel': 'rbf'}\n",
      "0.500 (+/-0.000) for {'C': 0.03125, 'gamma': 2, 'kernel': 'rbf'}\n",
      "0.500 (+/-0.000) for {'C': 0.03125, 'gamma': 8, 'kernel': 'rbf'}\n",
      "0.500 (+/-0.000) for {'C': 0.125, 'gamma': 3.0517578125e-05, 'kernel': 'rbf'}\n",
      "0.564 (+/-0.056) for {'C': 0.125, 'gamma': 0.0001220703125, 'kernel': 'rbf'}\n",
      "0.938 (+/-0.102) for {'C': 0.125, 'gamma': 0.00048828125, 'kernel': 'rbf'}\n",
      "0.956 (+/-0.088) for {'C': 0.125, 'gamma': 0.001953125, 'kernel': 'rbf'}\n",
      "0.967 (+/-0.065) for {'C': 0.125, 'gamma': 0.0078125, 'kernel': 'rbf'}\n",
      "0.963 (+/-0.058) for {'C': 0.125, 'gamma': 0.03125, 'kernel': 'rbf'}\n",
      "0.947 (+/-0.053) for {'C': 0.125, 'gamma': 0.125, 'kernel': 'rbf'}\n",
      "0.908 (+/-0.076) for {'C': 0.125, 'gamma': 0.5, 'kernel': 'rbf'}\n",
      "0.500 (+/-0.000) for {'C': 0.125, 'gamma': 2, 'kernel': 'rbf'}\n",
      "0.500 (+/-0.000) for {'C': 0.125, 'gamma': 8, 'kernel': 'rbf'}\n",
      "0.567 (+/-0.059) for {'C': 0.5, 'gamma': 3.0517578125e-05, 'kernel': 'rbf'}\n",
      "0.935 (+/-0.098) for {'C': 0.5, 'gamma': 0.0001220703125, 'kernel': 'rbf'}\n",
      "0.956 (+/-0.088) for {'C': 0.5, 'gamma': 0.00048828125, 'kernel': 'rbf'}\n",
      "0.955 (+/-0.085) for {'C': 0.5, 'gamma': 0.001953125, 'kernel': 'rbf'}\n",
      "0.965 (+/-0.064) for {'C': 0.5, 'gamma': 0.0078125, 'kernel': 'rbf'}\n",
      "0.963 (+/-0.058) for {'C': 0.5, 'gamma': 0.03125, 'kernel': 'rbf'}\n",
      "0.954 (+/-0.043) for {'C': 0.5, 'gamma': 0.125, 'kernel': 'rbf'}\n",
      "0.911 (+/-0.059) for {'C': 0.5, 'gamma': 0.5, 'kernel': 'rbf'}\n",
      "0.575 (+/-0.274) for {'C': 0.5, 'gamma': 2, 'kernel': 'rbf'}\n",
      "0.506 (+/-0.024) for {'C': 0.5, 'gamma': 8, 'kernel': 'rbf'}\n",
      "0.935 (+/-0.098) for {'C': 2, 'gamma': 3.0517578125e-05, 'kernel': 'rbf'}\n",
      "0.956 (+/-0.088) for {'C': 2, 'gamma': 0.0001220703125, 'kernel': 'rbf'}\n",
      "0.953 (+/-0.092) for {'C': 2, 'gamma': 0.00048828125, 'kernel': 'rbf'}\n",
      "0.964 (+/-0.059) for {'C': 2, 'gamma': 0.001953125, 'kernel': 'rbf'}\n",
      "0.962 (+/-0.050) for {'C': 2, 'gamma': 0.0078125, 'kernel': 'rbf'}\n",
      "0.963 (+/-0.053) for {'C': 2, 'gamma': 0.03125, 'kernel': 'rbf'}\n",
      "0.955 (+/-0.058) for {'C': 2, 'gamma': 0.125, 'kernel': 'rbf'}\n",
      "0.941 (+/-0.050) for {'C': 2, 'gamma': 0.5, 'kernel': 'rbf'}\n",
      "0.887 (+/-0.070) for {'C': 2, 'gamma': 2, 'kernel': 'rbf'}\n",
      "0.804 (+/-0.071) for {'C': 2, 'gamma': 8, 'kernel': 'rbf'}\n",
      "0.956 (+/-0.088) for {'C': 8, 'gamma': 3.0517578125e-05, 'kernel': 'rbf'}\n",
      "0.953 (+/-0.092) for {'C': 8, 'gamma': 0.0001220703125, 'kernel': 'rbf'}\n",
      "0.958 (+/-0.083) for {'C': 8, 'gamma': 0.00048828125, 'kernel': 'rbf'}\n",
      "0.959 (+/-0.074) for {'C': 8, 'gamma': 0.001953125, 'kernel': 'rbf'}\n",
      "0.959 (+/-0.074) for {'C': 8, 'gamma': 0.0078125, 'kernel': 'rbf'}\n",
      "0.937 (+/-0.074) for {'C': 8, 'gamma': 0.03125, 'kernel': 'rbf'}\n",
      "0.955 (+/-0.058) for {'C': 8, 'gamma': 0.125, 'kernel': 'rbf'}\n",
      "0.941 (+/-0.050) for {'C': 8, 'gamma': 0.5, 'kernel': 'rbf'}\n",
      "0.887 (+/-0.070) for {'C': 8, 'gamma': 2, 'kernel': 'rbf'}\n",
      "0.804 (+/-0.071) for {'C': 8, 'gamma': 8, 'kernel': 'rbf'}\n",
      "0.953 (+/-0.092) for {'C': 32, 'gamma': 3.0517578125e-05, 'kernel': 'rbf'}\n",
      "0.958 (+/-0.083) for {'C': 32, 'gamma': 0.0001220703125, 'kernel': 'rbf'}\n",
      "0.959 (+/-0.068) for {'C': 32, 'gamma': 0.00048828125, 'kernel': 'rbf'}\n",
      "0.956 (+/-0.077) for {'C': 32, 'gamma': 0.001953125, 'kernel': 'rbf'}\n",
      "0.942 (+/-0.092) for {'C': 32, 'gamma': 0.0078125, 'kernel': 'rbf'}\n",
      "0.939 (+/-0.070) for {'C': 32, 'gamma': 0.03125, 'kernel': 'rbf'}\n",
      "0.955 (+/-0.058) for {'C': 32, 'gamma': 0.125, 'kernel': 'rbf'}\n",
      "0.941 (+/-0.050) for {'C': 32, 'gamma': 0.5, 'kernel': 'rbf'}\n",
      "0.887 (+/-0.070) for {'C': 32, 'gamma': 2, 'kernel': 'rbf'}\n",
      "0.804 (+/-0.071) for {'C': 32, 'gamma': 8, 'kernel': 'rbf'}\n",
      "0.958 (+/-0.083) for {'C': 128, 'gamma': 3.0517578125e-05, 'kernel': 'rbf'}\n",
      "0.956 (+/-0.069) for {'C': 128, 'gamma': 0.0001220703125, 'kernel': 'rbf'}\n",
      "0.962 (+/-0.052) for {'C': 128, 'gamma': 0.00048828125, 'kernel': 'rbf'}\n",
      "0.947 (+/-0.075) for {'C': 128, 'gamma': 0.001953125, 'kernel': 'rbf'}\n",
      "0.924 (+/-0.083) for {'C': 128, 'gamma': 0.0078125, 'kernel': 'rbf'}\n",
      "0.939 (+/-0.070) for {'C': 128, 'gamma': 0.03125, 'kernel': 'rbf'}\n",
      "0.955 (+/-0.058) for {'C': 128, 'gamma': 0.125, 'kernel': 'rbf'}\n",
      "0.941 (+/-0.050) for {'C': 128, 'gamma': 0.5, 'kernel': 'rbf'}\n",
      "0.887 (+/-0.070) for {'C': 128, 'gamma': 2, 'kernel': 'rbf'}\n",
      "0.804 (+/-0.071) for {'C': 128, 'gamma': 8, 'kernel': 'rbf'}\n",
      "0.956 (+/-0.069) for {'C': 512, 'gamma': 3.0517578125e-05, 'kernel': 'rbf'}\n",
      "0.961 (+/-0.054) for {'C': 512, 'gamma': 0.0001220703125, 'kernel': 'rbf'}\n",
      "0.954 (+/-0.073) for {'C': 512, 'gamma': 0.00048828125, 'kernel': 'rbf'}\n",
      "0.939 (+/-0.072) for {'C': 512, 'gamma': 0.001953125, 'kernel': 'rbf'}\n",
      "0.918 (+/-0.083) for {'C': 512, 'gamma': 0.0078125, 'kernel': 'rbf'}\n",
      "0.939 (+/-0.070) for {'C': 512, 'gamma': 0.03125, 'kernel': 'rbf'}\n",
      "0.955 (+/-0.058) for {'C': 512, 'gamma': 0.125, 'kernel': 'rbf'}\n",
      "0.941 (+/-0.050) for {'C': 512, 'gamma': 0.5, 'kernel': 'rbf'}\n",
      "0.887 (+/-0.070) for {'C': 512, 'gamma': 2, 'kernel': 'rbf'}\n",
      "0.804 (+/-0.071) for {'C': 512, 'gamma': 8, 'kernel': 'rbf'}\n",
      "0.964 (+/-0.056) for {'C': 2048, 'gamma': 3.0517578125e-05, 'kernel': 'rbf'}\n",
      "0.962 (+/-0.052) for {'C': 2048, 'gamma': 0.0001220703125, 'kernel': 'rbf'}\n",
      "0.950 (+/-0.073) for {'C': 2048, 'gamma': 0.00048828125, 'kernel': 'rbf'}\n",
      "0.925 (+/-0.102) for {'C': 2048, 'gamma': 0.001953125, 'kernel': 'rbf'}\n",
      "0.918 (+/-0.083) for {'C': 2048, 'gamma': 0.0078125, 'kernel': 'rbf'}\n",
      "0.939 (+/-0.070) for {'C': 2048, 'gamma': 0.03125, 'kernel': 'rbf'}\n",
      "0.955 (+/-0.058) for {'C': 2048, 'gamma': 0.125, 'kernel': 'rbf'}\n",
      "0.941 (+/-0.050) for {'C': 2048, 'gamma': 0.5, 'kernel': 'rbf'}\n",
      "0.887 (+/-0.070) for {'C': 2048, 'gamma': 2, 'kernel': 'rbf'}\n",
      "0.804 (+/-0.071) for {'C': 2048, 'gamma': 8, 'kernel': 'rbf'}\n",
      "0.961 (+/-0.054) for {'C': 8192, 'gamma': 3.0517578125e-05, 'kernel': 'rbf'}\n",
      "0.954 (+/-0.073) for {'C': 8192, 'gamma': 0.0001220703125, 'kernel': 'rbf'}\n",
      "0.938 (+/-0.079) for {'C': 8192, 'gamma': 0.00048828125, 'kernel': 'rbf'}\n",
      "0.909 (+/-0.090) for {'C': 8192, 'gamma': 0.001953125, 'kernel': 'rbf'}\n",
      "0.918 (+/-0.083) for {'C': 8192, 'gamma': 0.0078125, 'kernel': 'rbf'}\n",
      "0.939 (+/-0.070) for {'C': 8192, 'gamma': 0.03125, 'kernel': 'rbf'}\n",
      "0.955 (+/-0.058) for {'C': 8192, 'gamma': 0.125, 'kernel': 'rbf'}\n",
      "0.941 (+/-0.050) for {'C': 8192, 'gamma': 0.5, 'kernel': 'rbf'}\n",
      "0.887 (+/-0.070) for {'C': 8192, 'gamma': 2, 'kernel': 'rbf'}\n",
      "0.804 (+/-0.071) for {'C': 8192, 'gamma': 8, 'kernel': 'rbf'}\n",
      "0.962 (+/-0.052) for {'C': 32768, 'gamma': 3.0517578125e-05, 'kernel': 'rbf'}\n",
      "0.947 (+/-0.069) for {'C': 32768, 'gamma': 0.0001220703125, 'kernel': 'rbf'}\n",
      "0.933 (+/-0.099) for {'C': 32768, 'gamma': 0.00048828125, 'kernel': 'rbf'}\n",
      "0.909 (+/-0.090) for {'C': 32768, 'gamma': 0.001953125, 'kernel': 'rbf'}\n",
      "0.918 (+/-0.083) for {'C': 32768, 'gamma': 0.0078125, 'kernel': 'rbf'}\n",
      "0.939 (+/-0.070) for {'C': 32768, 'gamma': 0.03125, 'kernel': 'rbf'}\n",
      "0.955 (+/-0.058) for {'C': 32768, 'gamma': 0.125, 'kernel': 'rbf'}\n",
      "0.941 (+/-0.050) for {'C': 32768, 'gamma': 0.5, 'kernel': 'rbf'}\n",
      "0.887 (+/-0.070) for {'C': 32768, 'gamma': 2, 'kernel': 'rbf'}\n",
      "0.804 (+/-0.071) for {'C': 32768, 'gamma': 8, 'kernel': 'rbf'}\n",
      "\n",
      "Detailed classification report:\n",
      "\n",
      "The model is trained on the full development set.\n",
      "The scores are computed on the full evaluation set.\n",
      "\n",
      "             precision    recall  f1-score   support\n",
      "\n",
      "          0       0.99      0.96      0.98       304\n",
      "          1       0.94      0.98      0.96       164\n",
      "\n",
      "avg / total       0.97      0.97      0.97       468\n",
      "\n",
      "\n"
     ]
    }
   ],
   "source": [
    "print(__doc__)\n",
    "\n",
    "# Loading the Digits dataset\n",
    "#digits = datasets.load_digits()\n",
    "\n",
    "# To apply an classifier on this data, we need to flatten the image, to\n",
    "# turn the data in a (samples, feature) matrix:\n",
    "\n",
    "\n",
    "# Set the parameters by cross-validation\n",
    "tuned_parameters = [{'kernel': ['rbf'], 'gamma': gamma_range,\n",
    "                     'C': C_range},]\n",
    "\n",
    "scores = ['recall']\n",
    "\n",
    "for score in scores:\n",
    "    print(\"# Tuning hyper-parameters for %s\" % score)\n",
    "    print()\n",
    "\n",
    "    clf2 = GridSearchCV(svr, tuned_parameters, cv=10,\n",
    "                       scoring='%s_macro' % score)\n",
    "    clf2.fit(X_train, y_train)\n",
    "\n",
    "    print(\"Best parameters set found on development set:\")\n",
    "    print()\n",
    "    print(clf2.best_params_)\n",
    "    print()\n",
    "    print(\"Grid scores on development set:\")\n",
    "    print()\n",
    "    means = clf2.cv_results_['mean_test_score']\n",
    "    stds = clf2.cv_results_['std_test_score']\n",
    "    for mean, std, params in zip(means, stds, clf2.cv_results_['params']):\n",
    "        print(\"%0.3f (+/-%0.03f) for %r\"\n",
    "              % (mean, std * 2, params))\n",
    "    print()\n",
    "\n",
    "    print(\"Detailed classification report:\")\n",
    "    print()\n",
    "    print(\"The model is trained on the full development set.\")\n",
    "    print(\"The scores are computed on the full evaluation set.\")\n",
    "    print()\n",
    "    y_true, y_predtr = y_train, clf2.predict(X_train)\n",
    "    print(classification_report(y_true, y_predtr))\n",
    "    print()\n"
   ]
  },
  {
   "cell_type": "code",
   "execution_count": 19,
   "metadata": {
    "collapsed": false
   },
   "outputs": [
    {
     "name": "stdout",
     "output_type": "stream",
     "text": [
      "Best recall obtained: 0.9667227885088416\n",
      "Parameters:\n",
      "\tC: 0.125\n",
      "\tgamma: 0.0078125\n",
      "\tkernel: rbf\n"
     ]
    }
   ],
   "source": [
    "print(\"Best recall obtained: {0}\".format(clf2.best_score_))\n",
    "print(\"Parameters:\")\n",
    "for key, value in clf2.best_params_.items():\n",
    "    print(\"\\t{}: {}\".format(key, value))"
   ]
  },
  {
   "cell_type": "code",
   "execution_count": 20,
   "metadata": {
    "collapsed": false
   },
   "outputs": [
    {
     "data": {
      "text/plain": [
       "SVC(C=0.125, cache_size=200, class_weight=None, coef0=0.0,\n",
       "  decision_function_shape=None, degree=3, gamma=0.0078125, kernel='rbf',\n",
       "  max_iter=-1, probability=False, random_state=None, shrinking=True,\n",
       "  tol=0.001, verbose=False)"
      ]
     },
     "execution_count": 20,
     "metadata": {},
     "output_type": "execute_result"
    }
   ],
   "source": [
    "clf2.best_estimator_"
   ]
  },
  {
   "cell_type": "code",
   "execution_count": 21,
   "metadata": {
    "collapsed": false
   },
   "outputs": [],
   "source": [
    "svc7=svm.SVC(C=0.125, cache_size=200, class_weight=None, coef0=0.0,\n",
    "  decision_function_shape=None, degree=3, gamma=0.0078125, kernel='rbf',\n",
    "  max_iter=-1, probability=False, random_state=None, shrinking=True,\n",
    "  tol=0.001, verbose=False)"
   ]
  },
  {
   "cell_type": "code",
   "execution_count": 22,
   "metadata": {
    "collapsed": false
   },
   "outputs": [
    {
     "data": {
      "text/plain": [
       "SVC(C=0.125, cache_size=200, class_weight=None, coef0=0.0,\n",
       "  decision_function_shape=None, degree=3, gamma=0.0078125, kernel='rbf',\n",
       "  max_iter=-1, probability=False, random_state=None, shrinking=True,\n",
       "  tol=0.001, verbose=False)"
      ]
     },
     "execution_count": 22,
     "metadata": {},
     "output_type": "execute_result"
    }
   ],
   "source": [
    "svc7.fit(X_train,y_train)"
   ]
  },
  {
   "cell_type": "code",
   "execution_count": 23,
   "metadata": {
    "collapsed": false
   },
   "outputs": [
    {
     "name": "stdout",
     "output_type": "stream",
     "text": [
      "Akurasi: 0.9697\n",
      "Precision: 0.9487\n",
      "Recall: 0.9610\n",
      "F1: 0.9548\n"
     ]
    }
   ],
   "source": [
    "y_pred7 = svc7.predict(X_test)\n",
    "accuracy = accuracy_score(y_test, y_pred7)\n",
    "precision, recall, f1, _ = precision_recall_fscore_support(y_test, y_pred7)\n",
    "print (('Akurasi: %.4f') % (accuracy))\n",
    "print (('Precision: %.4f') % (precision[1]))\n",
    "print (('Recall: %.4f') % (recall[1]))\n",
    "print (('F1: %.4f') % (f1[1]))"
   ]
  },
  {
   "cell_type": "code",
   "execution_count": 24,
   "metadata": {
    "collapsed": true
   },
   "outputs": [],
   "source": [
    "from sklearn.metrics import confusion_matrix"
   ]
  },
  {
   "cell_type": "code",
   "execution_count": 25,
   "metadata": {
    "collapsed": false
   },
   "outputs": [
    {
     "data": {
      "text/plain": [
       "array([[150,   4],\n",
       "       [  3,  74]])"
      ]
     },
     "execution_count": 25,
     "metadata": {},
     "output_type": "execute_result"
    }
   ],
   "source": [
    "confusion_matrix(y_test, y_pred7)"
   ]
  },
  {
   "cell_type": "code",
   "execution_count": 26,
   "metadata": {
    "collapsed": false
   },
   "outputs": [
    {
     "data": {
      "text/plain": [
       "(231,)"
      ]
     },
     "execution_count": 26,
     "metadata": {},
     "output_type": "execute_result"
    }
   ],
   "source": [
    "y_test.shape"
   ]
  },
  {
   "cell_type": "code",
   "execution_count": 27,
   "metadata": {
    "collapsed": false
   },
   "outputs": [
    {
     "data": {
      "text/plain": [
       "(231,)"
      ]
     },
     "execution_count": 27,
     "metadata": {},
     "output_type": "execute_result"
    }
   ],
   "source": [
    "y_pred7.shape"
   ]
  },
  {
   "cell_type": "code",
   "execution_count": 28,
   "metadata": {
    "collapsed": false
   },
   "outputs": [],
   "source": [
    "from sklearn.model_selection import cross_val_score\n",
    "scores=cross_val_score(svc7,X_train,y_train,cv=10)"
   ]
  },
  {
   "cell_type": "code",
   "execution_count": 29,
   "metadata": {
    "collapsed": false
   },
   "outputs": [],
   "source": [
    "svc8=svm.SVC(**clf2.best_params_)"
   ]
  },
  {
   "cell_type": "code",
   "execution_count": 35,
   "metadata": {
    "collapsed": true
   },
   "outputs": [],
   "source": [
    "scores1=cross_val_score(svc8,X_train,y_train,cv=10)"
   ]
  },
  {
   "cell_type": "code",
   "execution_count": 31,
   "metadata": {
    "collapsed": false
   },
   "outputs": [
    {
     "data": {
      "text/plain": [
       "array([ 0.97916667,  0.97916667,  0.91666667,  0.97916667,  1.        ,\n",
       "        0.97826087,  0.97826087,  0.95652174,  0.91304348,  0.97826087])"
      ]
     },
     "execution_count": 31,
     "metadata": {},
     "output_type": "execute_result"
    }
   ],
   "source": [
    "scores"
   ]
  },
  {
   "cell_type": "code",
   "execution_count": 36,
   "metadata": {
    "collapsed": false
   },
   "outputs": [
    {
     "name": "stdout",
     "output_type": "stream",
     "text": [
      "Accuracy: 0.9659 (+/- 0.0546)\n"
     ]
    }
   ],
   "source": [
    "print(\"Accuracy: %0.4f (+/- %0.4f)\" % (scores1.mean(), scores1.std() * 2))"
   ]
  },
  {
   "cell_type": "code",
   "execution_count": 33,
   "metadata": {
    "collapsed": false
   },
   "outputs": [],
   "source": [
    "scores=cross_val_score(svc7,X_train,y_train,cv=10,scoring='recall')"
   ]
  },
  {
   "cell_type": "code",
   "execution_count": 34,
   "metadata": {
    "collapsed": false
   },
   "outputs": [
    {
     "name": "stdout",
     "output_type": "stream",
     "text": [
      "recall: 0.9699 (+/- 0.1093)\n"
     ]
    }
   ],
   "source": [
    "print(\"recall: %0.4f (+/- %0.4f)\" % (scores.mean(), scores.std() * 2))"
   ]
  },
  {
   "cell_type": "code",
   "execution_count": 33,
   "metadata": {
    "collapsed": true
   },
   "outputs": [],
   "source": [
    "scores=cross_val_score(svc7,X_train,y_train,cv=10,scoring='precision')"
   ]
  },
  {
   "cell_type": "code",
   "execution_count": 34,
   "metadata": {
    "collapsed": false
   },
   "outputs": [
    {
     "name": "stdout",
     "output_type": "stream",
     "text": [
      "precision: 0.9361 (+/- 0.0773)\n"
     ]
    }
   ],
   "source": [
    "print(\"precision: %0.4f (+/- %0.4f)\" % (scores.mean(), scores.std() * 2))"
   ]
  },
  {
   "cell_type": "code",
   "execution_count": 35,
   "metadata": {
    "collapsed": true
   },
   "outputs": [],
   "source": [
    "scores=cross_val_score(svc7,X_train,y_train,cv=10,scoring='f1')"
   ]
  },
  {
   "cell_type": "code",
   "execution_count": 36,
   "metadata": {
    "collapsed": false
   },
   "outputs": [
    {
     "name": "stdout",
     "output_type": "stream",
     "text": [
      "F1: 0.9518 (+/- 0.0784)\n"
     ]
    }
   ],
   "source": [
    "print(\"F1: %0.4f (+/- %0.4f)\" % (scores.mean(), scores.std() * 2))"
   ]
  },
  {
   "cell_type": "code",
   "execution_count": 50,
   "metadata": {
    "collapsed": true
   },
   "outputs": [],
   "source": [
    "classifier=svc7"
   ]
  },
  {
   "cell_type": "code",
   "execution_count": 61,
   "metadata": {
    "collapsed": true
   },
   "outputs": [],
   "source": [
    "names='SVM-RBF-Dataset A'"
   ]
  },
  {
   "cell_type": "code",
   "execution_count": 52,
   "metadata": {
    "collapsed": false
   },
   "outputs": [
    {
     "data": {
      "text/plain": [
       "SVC(C=0.125, cache_size=200, class_weight=None, coef0=0.0,\n",
       "  decision_function_shape=None, degree=3, gamma=0.0078125, kernel='rbf',\n",
       "  max_iter=-1, probability=True, random_state=None, shrinking=True,\n",
       "  tol=0.001, verbose=False)"
      ]
     },
     "execution_count": 52,
     "metadata": {},
     "output_type": "execute_result"
    }
   ],
   "source": [
    "svc8=svm.SVC(C=0.125, cache_size=200, class_weight=None, coef0=0.0,\n",
    "  decision_function_shape=None, degree=3, gamma=0.0078125, kernel='rbf',\n",
    "  max_iter=-1, probability=True, random_state=None, shrinking=True,\n",
    "  tol=0.001, verbose=False)\n",
    "svc8.fit(X_train,y_train)"
   ]
  },
  {
   "cell_type": "code",
   "execution_count": 53,
   "metadata": {
    "collapsed": false
   },
   "outputs": [],
   "source": [
    "score=svc8.predict_proba(X_test)"
   ]
  },
  {
   "cell_type": "code",
   "execution_count": 73,
   "metadata": {
    "collapsed": false
   },
   "outputs": [
    {
     "data": {
      "image/png": "[encoded data removed]",
      "text/plain": [
       "<matplotlib.figure.Figure at 0xb8cdef0>"
      ]
     },
     "metadata": {},
     "output_type": "display_data"
    }
   ],
   "source": [
    "from sklearn.metrics import roc_curve, roc_auc_score\n",
    "fig, ax = plt.subplots()\n",
    "fig.set_size_inches(10,10)\n",
    "fpr, tpr, thresholds = roc_curve(y_test, score[:,1])\n",
    "auc = roc_auc_score(y_test, score[:,1])\n",
    "plt.plot(fpr*100, tpr*100, label='%s (area = %.2f)' % (names, auc*100))\n",
    "plt.rc('xtick',labelsize=20)\n",
    "plt.rc('ytick',labelsize=20)\n",
    "plt.legend(prop={'size':14})\n",
    "ax.set_xlabel('False Positive Rate',fontsize=20)\n",
    "ax.set_ylabel('True Positive Rate',fontsize=20)\n",
    "plt.show()"
   ]
  },
  {
   "cell_type": "code",
   "execution_count": null,
   "metadata": {
    "collapsed": true
   },
   "outputs": [],
   "source": []
  }
 ],
 "metadata": {
  "anaconda-cloud": {},
  "kernelspec": {
   "display_name": "Python 3",
   "language": "python",
   "name": "python3"
  },
  "language_info": {
   "codemirror_mode": {
    "name": "ipython",
    "version": 3
   },
   "file_extension": ".py",
   "mimetype": "text/x-python",
   "name": "python",
   "nbconvert_exporter": "python",
   "pygments_lexer": "ipython3",
   "version": "3.5.3"
  }
 },
 "nbformat": 4,
 "nbformat_minor": 1
}
