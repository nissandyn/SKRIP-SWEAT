{
 "cells": [
  {
   "cell_type": "code",
   "execution_count": 1,
   "metadata": {
    "collapsed": true
   },
   "outputs": [],
   "source": [
    "\n",
    "%matplotlib inline\n",
    "import pandas as pd\n",
    "import numpy as np\n",
    "import matplotlib.pyplot as plt\n",
    "import seaborn; \n",
    "from scipy import stats\n",
    "import pylab as pl\n",
    "from sklearn.model_selection import train_test_split\n",
    "\n",
    "seaborn.set()"
   ]
  },
  {
   "cell_type": "code",
   "execution_count": 2,
   "metadata": {
    "collapsed": false
   },
   "outputs": [],
   "source": [
    "df = pd.read_csv(\"wbc.csv\")"
   ]
  },
  {
   "cell_type": "code",
   "execution_count": 3,
   "metadata": {
    "collapsed": false
   },
   "outputs": [
    {
     "name": "stdout",
     "output_type": "stream",
     "text": [
      "<class 'pandas.core.frame.DataFrame'>\n",
      "RangeIndex: 699 entries, 0 to 698\n",
      "Data columns (total 11 columns):\n",
      "index                 699 non-null int64\n",
      "clump_thickness       699 non-null int64\n",
      "cell_size             699 non-null int64\n",
      "cell_shape            699 non-null int64\n",
      "marginal_adhesion     699 non-null int64\n",
      "epitelial_cellsize    699 non-null int64\n",
      "bare_nuclei           699 non-null float64\n",
      "bland_chromatin       699 non-null int64\n",
      "normal_nucleoli       699 non-null int64\n",
      "mitoses               699 non-null int64\n",
      "jenis                 699 non-null int64\n",
      "dtypes: float64(1), int64(10)\n",
      "memory usage: 60.1 KB\n"
     ]
    }
   ],
   "source": [
    "df=df.replace('?',np.nan)\n",
    "df=df.reset_index()\n",
    "df['bare_nuclei'] = pd.to_numeric(df.bare_nuclei.fillna(df.bare_nuclei.median()))\n",
    "df.info()"
   ]
  },
  {
   "cell_type": "code",
   "execution_count": 4,
   "metadata": {
    "collapsed": false
   },
   "outputs": [],
   "source": [
    "X = df.drop([df.columns[-1]], axis=1)\n",
    "y = df.jenis"
   ]
  },
  {
   "cell_type": "code",
   "execution_count": 5,
   "metadata": {
    "collapsed": false
   },
   "outputs": [],
   "source": [
    "X_train, X_test, y_train, y_test = train_test_split(X, y,test_size=0.33, random_state=42)"
   ]
  },
  {
   "cell_type": "code",
   "execution_count": 6,
   "metadata": {
    "collapsed": true
   },
   "outputs": [],
   "source": [
    "from sklearn import svm"
   ]
  },
  {
   "cell_type": "code",
   "execution_count": 7,
   "metadata": {
    "collapsed": true
   },
   "outputs": [],
   "source": [
    "from sklearn.metrics import accuracy_score, precision_recall_fscore_support"
   ]
  },
  {
   "cell_type": "code",
   "execution_count": 8,
   "metadata": {
    "collapsed": false
   },
   "outputs": [],
   "source": [
    "from sklearn import metrics"
   ]
  },
  {
   "cell_type": "code",
   "execution_count": 9,
   "metadata": {
    "collapsed": false
   },
   "outputs": [],
   "source": [
    "from sklearn.model_selection import GridSearchCV\n",
    "from __future__ import print_function\n",
    "from sklearn.metrics import classification_report\n",
    "from sklearn.svm import SVC"
   ]
  },
  {
   "cell_type": "code",
   "execution_count": 10,
   "metadata": {
    "collapsed": true
   },
   "outputs": [],
   "source": [
    "svr=svm.SVC()"
   ]
  },
  {
   "cell_type": "code",
   "execution_count": 11,
   "metadata": {
    "collapsed": false
   },
   "outputs": [
    {
     "name": "stdout",
     "output_type": "stream",
     "text": [
      "Automatically created module for IPython interactive environment\n",
      "# Tuning hyper-parameters for recall\n",
      "\n",
      "Best parameters set found on development set:\n",
      "\n",
      "{'C': 20, 'gamma': 0.0001, 'kernel': 'rbf'}\n",
      "\n",
      "Grid scores on development set:\n",
      "\n",
      "0.500 (+/-0.000) for {'C': 1, 'gamma': 1, 'kernel': 'rbf'}\n",
      "0.506 (+/-0.025) for {'C': 1, 'gamma': 0.1, 'kernel': 'rbf'}\n",
      "0.946 (+/-0.083) for {'C': 1, 'gamma': 0.001, 'kernel': 'rbf'}\n",
      "0.833 (+/-0.054) for {'C': 1, 'gamma': 0.0001, 'kernel': 'rbf'}\n",
      "0.500 (+/-0.000) for {'C': 1, 'gamma': 1e-05, 'kernel': 'rbf'}\n",
      "0.500 (+/-0.000) for {'C': 2, 'gamma': 1, 'kernel': 'rbf'}\n",
      "0.518 (+/-0.041) for {'C': 2, 'gamma': 0.1, 'kernel': 'rbf'}\n",
      "0.953 (+/-0.077) for {'C': 2, 'gamma': 0.001, 'kernel': 'rbf'}\n",
      "0.929 (+/-0.087) for {'C': 2, 'gamma': 0.0001, 'kernel': 'rbf'}\n",
      "0.593 (+/-0.100) for {'C': 2, 'gamma': 1e-05, 'kernel': 'rbf'}\n",
      "0.500 (+/-0.000) for {'C': 4, 'gamma': 1, 'kernel': 'rbf'}\n",
      "0.518 (+/-0.041) for {'C': 4, 'gamma': 0.1, 'kernel': 'rbf'}\n",
      "0.958 (+/-0.080) for {'C': 4, 'gamma': 0.001, 'kernel': 'rbf'}\n",
      "0.953 (+/-0.098) for {'C': 4, 'gamma': 0.0001, 'kernel': 'rbf'}\n",
      "0.827 (+/-0.082) for {'C': 4, 'gamma': 1e-05, 'kernel': 'rbf'}\n",
      "0.500 (+/-0.000) for {'C': 8, 'gamma': 1, 'kernel': 'rbf'}\n",
      "0.518 (+/-0.041) for {'C': 8, 'gamma': 0.1, 'kernel': 'rbf'}\n",
      "0.958 (+/-0.075) for {'C': 8, 'gamma': 0.001, 'kernel': 'rbf'}\n",
      "0.964 (+/-0.069) for {'C': 8, 'gamma': 0.0001, 'kernel': 'rbf'}\n",
      "0.923 (+/-0.074) for {'C': 8, 'gamma': 1e-05, 'kernel': 'rbf'}\n",
      "0.500 (+/-0.000) for {'C': 10, 'gamma': 1, 'kernel': 'rbf'}\n",
      "0.518 (+/-0.041) for {'C': 10, 'gamma': 0.1, 'kernel': 'rbf'}\n",
      "0.958 (+/-0.075) for {'C': 10, 'gamma': 0.001, 'kernel': 'rbf'}\n",
      "0.964 (+/-0.069) for {'C': 10, 'gamma': 0.0001, 'kernel': 'rbf'}\n",
      "0.927 (+/-0.085) for {'C': 10, 'gamma': 1e-05, 'kernel': 'rbf'}\n",
      "0.500 (+/-0.000) for {'C': 20, 'gamma': 1, 'kernel': 'rbf'}\n",
      "0.518 (+/-0.041) for {'C': 20, 'gamma': 0.1, 'kernel': 'rbf'}\n",
      "0.946 (+/-0.080) for {'C': 20, 'gamma': 0.001, 'kernel': 'rbf'}\n",
      "0.966 (+/-0.070) for {'C': 20, 'gamma': 0.0001, 'kernel': 'rbf'}\n",
      "0.950 (+/-0.101) for {'C': 20, 'gamma': 1e-05, 'kernel': 'rbf'}\n",
      "\n",
      "Detailed classification report:\n",
      "\n",
      "The model is trained on the full development set.\n",
      "The scores are computed on the full evaluation set.\n",
      "\n",
      "             precision    recall  f1-score   support\n",
      "\n",
      "          2       0.97      0.98      0.97       154\n",
      "          4       0.96      0.94      0.95        77\n",
      "\n",
      "avg / total       0.97      0.97      0.97       231\n",
      "\n",
      "\n"
     ]
    }
   ],
   "source": [
    "print(__doc__)\n",
    "\n",
    "# Loading the Digits dataset\n",
    "#digits = datasets.load_digits()\n",
    "\n",
    "# To apply an classifier on this data, we need to flatten the image, to\n",
    "# turn the data in a (samples, feature) matrix:\n",
    "n_samples = len(df)\n",
    "\n",
    "\n",
    "# Set the parameters by cross-validation\n",
    "\n",
    "tuned_parameters = [{'kernel': ['rbf'], 'gamma': [1,0.1,0.001,0.0001,0.00001],\n",
    "                     'C': [ 1,2,4,8,10,20]},]\n",
    "scores = ['recall']\n",
    "\n",
    "for score in scores:\n",
    "    print(\"# Tuning hyper-parameters for %s\" % score)\n",
    "    print()\n",
    "\n",
    "    clf = GridSearchCV(svr, tuned_parameters, cv=10,\n",
    "                       scoring='%s_macro' % score)\n",
    "    clf.fit(X_train, y_train)\n",
    "\n",
    "    print(\"Best parameters set found on development set:\")\n",
    "    print()\n",
    "    print(clf.best_params_)\n",
    "    print()\n",
    "    print(\"Grid scores on development set:\")\n",
    "    print()\n",
    "    means = clf.cv_results_['mean_test_score']\n",
    "    stds = clf.cv_results_['std_test_score']\n",
    "    for mean, std, params in zip(means, stds, clf.cv_results_['params']):\n",
    "        print(\"%0.3f (+/-%0.03f) for %r\"\n",
    "              % (mean, std * 2, params))\n",
    "    print()\n",
    "\n",
    "    print(\"Detailed classification report:\")\n",
    "    print()\n",
    "    print(\"The model is trained on the full development set.\")\n",
    "    print(\"The scores are computed on the full evaluation set.\")\n",
    "    print()\n",
    "    y_true, y_pred = y_test, clf.predict(X_test)\n",
    "    print(classification_report(y_true, y_pred))\n",
    "    print()"
   ]
  },
  {
   "cell_type": "code",
   "execution_count": 12,
   "metadata": {
    "collapsed": false
   },
   "outputs": [
    {
     "name": "stderr",
     "output_type": "stream",
     "text": [
      "C:\\Users\\Annisa\\Anaconda3\\lib\\site-packages\\sklearn\\model_selection\\_search.py:667: DeprecationWarning: The grid_scores_ attribute was deprecated in version 0.18 in favor of the more elaborate cv_results_ attribute. The grid_scores_ attribute will not be available from 0.20\n",
      "  DeprecationWarning)\n"
     ]
    },
    {
     "data": {
      "text/plain": [
       "[mean: 0.50000, std: 0.00000, params: {'C': 1, 'gamma': 1, 'kernel': 'rbf'},\n",
       " mean: 0.50614, std: 0.01250, params: {'C': 1, 'gamma': 0.1, 'kernel': 'rbf'},\n",
       " mean: 0.94570, std: 0.04140, params: {'C': 1, 'gamma': 0.001, 'kernel': 'rbf'},\n",
       " mean: 0.83338, std: 0.02699, params: {'C': 1, 'gamma': 0.0001, 'kernel': 'rbf'},\n",
       " mean: 0.50000, std: 0.00000, params: {'C': 1, 'gamma': 1e-05, 'kernel': 'rbf'},\n",
       " mean: 0.50000, std: 0.00000, params: {'C': 2, 'gamma': 1, 'kernel': 'rbf'},\n",
       " mean: 0.51826, std: 0.02041, params: {'C': 2, 'gamma': 0.1, 'kernel': 'rbf'},\n",
       " mean: 0.95322, std: 0.03868, params: {'C': 2, 'gamma': 0.001, 'kernel': 'rbf'},\n",
       " mean: 0.92913, std: 0.04377, params: {'C': 2, 'gamma': 0.0001, 'kernel': 'rbf'},\n",
       " mean: 0.59263, std: 0.05000, params: {'C': 2, 'gamma': 1e-05, 'kernel': 'rbf'},\n",
       " mean: 0.50000, std: 0.00000, params: {'C': 4, 'gamma': 1, 'kernel': 'rbf'},\n",
       " mean: 0.51826, std: 0.02041, params: {'C': 4, 'gamma': 0.1, 'kernel': 'rbf'},\n",
       " mean: 0.95793, std: 0.04021, params: {'C': 4, 'gamma': 0.001, 'kernel': 'rbf'},\n",
       " mean: 0.95348, std: 0.04885, params: {'C': 4, 'gamma': 0.0001, 'kernel': 'rbf'},\n",
       " mean: 0.82738, std: 0.04094, params: {'C': 4, 'gamma': 1e-05, 'kernel': 'rbf'},\n",
       " mean: 0.50000, std: 0.00000, params: {'C': 8, 'gamma': 1, 'kernel': 'rbf'},\n",
       " mean: 0.51826, std: 0.02041, params: {'C': 8, 'gamma': 0.1, 'kernel': 'rbf'},\n",
       " mean: 0.95773, std: 0.03717, params: {'C': 8, 'gamma': 0.001, 'kernel': 'rbf'},\n",
       " mean: 0.96402, std: 0.03446, params: {'C': 8, 'gamma': 0.0001, 'kernel': 'rbf'},\n",
       " mean: 0.92304, std: 0.03697, params: {'C': 8, 'gamma': 1e-05, 'kernel': 'rbf'},\n",
       " mean: 0.50000, std: 0.00000, params: {'C': 10, 'gamma': 1, 'kernel': 'rbf'},\n",
       " mean: 0.51826, std: 0.02041, params: {'C': 10, 'gamma': 0.1, 'kernel': 'rbf'},\n",
       " mean: 0.95773, std: 0.03717, params: {'C': 10, 'gamma': 0.001, 'kernel': 'rbf'},\n",
       " mean: 0.96402, std: 0.03446, params: {'C': 10, 'gamma': 0.0001, 'kernel': 'rbf'},\n",
       " mean: 0.92749, std: 0.04276, params: {'C': 10, 'gamma': 1e-05, 'kernel': 'rbf'},\n",
       " mean: 0.50000, std: 0.00000, params: {'C': 20, 'gamma': 1, 'kernel': 'rbf'},\n",
       " mean: 0.51826, std: 0.02041, params: {'C': 20, 'gamma': 0.1, 'kernel': 'rbf'},\n",
       " mean: 0.94554, std: 0.04013, params: {'C': 20, 'gamma': 0.001, 'kernel': 'rbf'},\n",
       " mean: 0.96572, std: 0.03471, params: {'C': 20, 'gamma': 0.0001, 'kernel': 'rbf'},\n",
       " mean: 0.95019, std: 0.05048, params: {'C': 20, 'gamma': 1e-05, 'kernel': 'rbf'}]"
      ]
     },
     "execution_count": 12,
     "metadata": {},
     "output_type": "execute_result"
    }
   ],
   "source": [
    "clf.grid_scores_"
   ]
  },
  {
   "cell_type": "code",
   "execution_count": 13,
   "metadata": {
    "collapsed": false
   },
   "outputs": [
    {
     "name": "stdout",
     "output_type": "stream",
     "text": [
      "Best accuracy obtained: 0.9657150111905805\n",
      "Parameters:\n",
      "\tC: 20\n",
      "\tgamma: 0.0001\n",
      "\tkernel: rbf\n"
     ]
    }
   ],
   "source": [
    "print(\"Best accuracy obtained: {0}\".format(clf.best_score_))\n",
    "print(\"Parameters:\")\n",
    "for key, value in clf.best_params_.items():\n",
    "    print(\"\\t{}: {}\".format(key, value))"
   ]
  },
  {
   "cell_type": "code",
   "execution_count": 14,
   "metadata": {
    "collapsed": false
   },
   "outputs": [
    {
     "data": {
      "text/plain": [
       "SVC(C=20, cache_size=200, class_weight=None, coef0=0.0,\n",
       "  decision_function_shape=None, degree=3, gamma=0.0001, kernel='rbf',\n",
       "  max_iter=-1, probability=False, random_state=None, shrinking=True,\n",
       "  tol=0.001, verbose=False)"
      ]
     },
     "execution_count": 14,
     "metadata": {},
     "output_type": "execute_result"
    }
   ],
   "source": [
    "clf.best_estimator_"
   ]
  },
  {
   "cell_type": "code",
   "execution_count": 17,
   "metadata": {
    "collapsed": false
   },
   "outputs": [
    {
     "data": {
      "text/plain": [
       "SVC(C=20, cache_size=200, class_weight=None, coef0=0.0,\n",
       "  decision_function_shape=None, degree=3, gamma=0.0001, kernel='rbf',\n",
       "  max_iter=-1, probability=False, random_state=None, shrinking=True,\n",
       "  tol=0.001, verbose=False)"
      ]
     },
     "execution_count": 17,
     "metadata": {},
     "output_type": "execute_result"
    }
   ],
   "source": [
    "svc1=svm.SVC(C=20, cache_size=200, class_weight=None, coef0=0.0,\n",
    "  decision_function_shape=None, degree=3, gamma=0.0001, kernel='rbf',\n",
    "  max_iter=-1, probability=False, random_state=None, shrinking=True,\n",
    "  tol=0.001, verbose=False)\n",
    "svc1.fit(X_train,y_train)"
   ]
  },
  {
   "cell_type": "code",
   "execution_count": 18,
   "metadata": {
    "collapsed": false
   },
   "outputs": [
    {
     "name": "stdout",
     "output_type": "stream",
     "text": [
      "Akurasi: 0.9654\n",
      "Precision: 0.9600\n",
      "Recall: 0.9351\n",
      "F1: 0.9474\n"
     ]
    }
   ],
   "source": [
    "y_pred1 = svc1.predict(X_test)\n",
    "accuracy = accuracy_score(y_test, y_pred1)\n",
    "precision, recall, f1, _ = precision_recall_fscore_support(y_test, y_pred1)\n",
    "print (('Akurasi: %.4f') % (accuracy))\n",
    "print (('Precision: %.4f') % (precision[1]))\n",
    "print (('Recall: %.4f') % (recall[1]))\n",
    "print (('F1: %.4f') % (f1[1]))"
   ]
  },
  {
   "cell_type": "code",
   "execution_count": 21,
   "metadata": {
    "collapsed": false
   },
   "outputs": [],
   "source": [
    "tuned_parameters1a = [{'kernel': ['rbf'], 'gamma': [0.00005,0.0001,0.0002],'C': [ 15,20,25]},]"
   ]
  },
  {
   "cell_type": "code",
   "execution_count": 23,
   "metadata": {
    "collapsed": false
   },
   "outputs": [
    {
     "name": "stdout",
     "output_type": "stream",
     "text": [
      "Automatically created module for IPython interactive environment\n",
      "# Tuning hyper-parameters for recall\n",
      "\n",
      "Best parameters set found on development set:\n",
      "\n",
      "{'C': 15, 'gamma': 0.0002, 'kernel': 'rbf'}\n",
      "\n",
      "Grid scores on development set:\n",
      "\n",
      "0.9593 (+/-0.073) for {'C': 15, 'gamma': 5e-05, 'kernel': 'rbf'}\n",
      "0.9657 (+/-0.062) for {'C': 15, 'gamma': 0.0001, 'kernel': 'rbf'}\n",
      "0.9657 (+/-0.070) for {'C': 15, 'gamma': 0.0002, 'kernel': 'rbf'}\n",
      "0.9593 (+/-0.073) for {'C': 20, 'gamma': 5e-05, 'kernel': 'rbf'}\n",
      "0.9657 (+/-0.070) for {'C': 20, 'gamma': 0.0001, 'kernel': 'rbf'}\n",
      "0.9641 (+/-0.070) for {'C': 20, 'gamma': 0.0002, 'kernel': 'rbf'}\n",
      "0.9624 (+/-0.066) for {'C': 25, 'gamma': 5e-05, 'kernel': 'rbf'}\n",
      "0.9657 (+/-0.070) for {'C': 25, 'gamma': 0.0001, 'kernel': 'rbf'}\n",
      "0.9580 (+/-0.084) for {'C': 25, 'gamma': 0.0002, 'kernel': 'rbf'}\n",
      "\n",
      "Detailed classification report:\n",
      "\n",
      "The model is trained on the full development set.\n",
      "The scores are computed on the full evaluation set.\n",
      "\n",
      "             precision    recall  f1-score   support\n",
      "\n",
      "          2       0.96      0.98      0.97       154\n",
      "          4       0.96      0.92      0.94        77\n",
      "\n",
      "avg / total       0.96      0.96      0.96       231\n",
      "\n",
      "\n"
     ]
    }
   ],
   "source": [
    "print(__doc__)\n",
    "\n",
    "# Loading the Digits dataset\n",
    "#digits = datasets.load_digits()\n",
    "\n",
    "# To apply an classifier on this data, we need to flatten the image, to\n",
    "# turn the data in a (samples, feature) matrix:\n",
    "n_samples = len(df)\n",
    "\n",
    "\n",
    "# Set the parameters by cross-validation\n",
    "\n",
    "scores = ['recall']\n",
    "\n",
    "for score in scores:\n",
    "    print(\"# Tuning hyper-parameters for %s\" % score)\n",
    "    print()\n",
    "\n",
    "    clf1a = GridSearchCV(svr, tuned_parameters1a, cv=10,\n",
    "                       scoring='%s_macro' % score)\n",
    "    clf1a.fit(X_train, y_train)\n",
    "\n",
    "    print(\"Best parameters set found on development set:\")\n",
    "    print()\n",
    "    print(clf1a.best_params_)\n",
    "    print()\n",
    "    print(\"Grid scores on development set:\")\n",
    "    print()\n",
    "    means = clf1a.cv_results_['mean_test_score']\n",
    "    stds = clf1a.cv_results_['std_test_score']\n",
    "    for mean, std, params in zip(means, stds, clf1a.cv_results_['params']):\n",
    "        print(\"%0.4f (+/-%0.03f) for %r\"\n",
    "              % (mean, std * 2, params))\n",
    "    print()\n",
    "\n",
    "    print(\"Detailed classification report:\")\n",
    "    print()\n",
    "    print(\"The model is trained on the full development set.\")\n",
    "    print(\"The scores are computed on the full evaluation set.\")\n",
    "    print()\n",
    "    y_true, y_pred1a = y_test, clf1a.predict(X_test)\n",
    "    print(classification_report(y_true, y_pred1a))\n",
    "    print()"
   ]
  },
  {
   "cell_type": "markdown",
   "metadata": {},
   "source": [
    "# ternyata lebih bagus hasil clf"
   ]
  },
  {
   "cell_type": "code",
   "execution_count": 24,
   "metadata": {
    "collapsed": true
   },
   "outputs": [],
   "source": [
    "gamma_range = np.logspace(3, -15, 10, base=2)\n",
    "C_range = np.logspace(-5, 15, 11, base=2)"
   ]
  },
  {
   "cell_type": "code",
   "execution_count": 25,
   "metadata": {
    "collapsed": false
   },
   "outputs": [
    {
     "name": "stdout",
     "output_type": "stream",
     "text": [
      "Automatically created module for IPython interactive environment\n",
      "# Tuning hyper-parameters for recall\n",
      "\n",
      "Best parameters set found on development set:\n",
      "\n",
      "{'C': 8.0, 'gamma': 0.0001220703125, 'kernel': 'rbf'}\n",
      "\n",
      "Grid scores on development set:\n",
      "\n",
      "0.500 (+/-0.000) for {'C': 0.03125, 'gamma': 8.0, 'kernel': 'rbf'}\n",
      "0.500 (+/-0.000) for {'C': 0.03125, 'gamma': 2.0, 'kernel': 'rbf'}\n",
      "0.500 (+/-0.000) for {'C': 0.03125, 'gamma': 0.5, 'kernel': 'rbf'}\n",
      "0.500 (+/-0.000) for {'C': 0.03125, 'gamma': 0.125, 'kernel': 'rbf'}\n",
      "0.500 (+/-0.000) for {'C': 0.03125, 'gamma': 0.03125, 'kernel': 'rbf'}\n",
      "0.500 (+/-0.000) for {'C': 0.03125, 'gamma': 0.0078125, 'kernel': 'rbf'}\n",
      "0.500 (+/-0.000) for {'C': 0.03125, 'gamma': 0.001953125, 'kernel': 'rbf'}\n",
      "0.500 (+/-0.000) for {'C': 0.03125, 'gamma': 0.00048828125, 'kernel': 'rbf'}\n",
      "0.500 (+/-0.000) for {'C': 0.03125, 'gamma': 0.0001220703125, 'kernel': 'rbf'}\n",
      "0.500 (+/-0.000) for {'C': 0.03125, 'gamma': 3.0517578125e-05, 'kernel': 'rbf'}\n",
      "0.500 (+/-0.000) for {'C': 0.125, 'gamma': 8.0, 'kernel': 'rbf'}\n",
      "0.500 (+/-0.000) for {'C': 0.125, 'gamma': 2.0, 'kernel': 'rbf'}\n",
      "0.500 (+/-0.000) for {'C': 0.125, 'gamma': 0.5, 'kernel': 'rbf'}\n",
      "0.500 (+/-0.000) for {'C': 0.125, 'gamma': 0.125, 'kernel': 'rbf'}\n",
      "0.500 (+/-0.000) for {'C': 0.125, 'gamma': 0.03125, 'kernel': 'rbf'}\n",
      "0.500 (+/-0.000) for {'C': 0.125, 'gamma': 0.0078125, 'kernel': 'rbf'}\n",
      "0.562 (+/-0.055) for {'C': 0.125, 'gamma': 0.001953125, 'kernel': 'rbf'}\n",
      "0.554 (+/-0.059) for {'C': 0.125, 'gamma': 0.00048828125, 'kernel': 'rbf'}\n",
      "0.500 (+/-0.000) for {'C': 0.125, 'gamma': 0.0001220703125, 'kernel': 'rbf'}\n",
      "0.500 (+/-0.000) for {'C': 0.125, 'gamma': 3.0517578125e-05, 'kernel': 'rbf'}\n",
      "0.500 (+/-0.000) for {'C': 0.5, 'gamma': 8.0, 'kernel': 'rbf'}\n",
      "0.500 (+/-0.000) for {'C': 0.5, 'gamma': 2.0, 'kernel': 'rbf'}\n",
      "0.500 (+/-0.000) for {'C': 0.5, 'gamma': 0.5, 'kernel': 'rbf'}\n",
      "0.500 (+/-0.000) for {'C': 0.5, 'gamma': 0.125, 'kernel': 'rbf'}\n",
      "0.535 (+/-0.071) for {'C': 0.5, 'gamma': 0.03125, 'kernel': 'rbf'}\n",
      "0.955 (+/-0.065) for {'C': 0.5, 'gamma': 0.0078125, 'kernel': 'rbf'}\n",
      "0.927 (+/-0.107) for {'C': 0.5, 'gamma': 0.001953125, 'kernel': 'rbf'}\n",
      "0.830 (+/-0.077) for {'C': 0.5, 'gamma': 0.00048828125, 'kernel': 'rbf'}\n",
      "0.710 (+/-0.123) for {'C': 0.5, 'gamma': 0.0001220703125, 'kernel': 'rbf'}\n",
      "0.500 (+/-0.000) for {'C': 0.5, 'gamma': 3.0517578125e-05, 'kernel': 'rbf'}\n",
      "0.500 (+/-0.000) for {'C': 2.0, 'gamma': 8.0, 'kernel': 'rbf'}\n",
      "0.500 (+/-0.000) for {'C': 2.0, 'gamma': 2.0, 'kernel': 'rbf'}\n",
      "0.500 (+/-0.000) for {'C': 2.0, 'gamma': 0.5, 'kernel': 'rbf'}\n",
      "0.506 (+/-0.025) for {'C': 2.0, 'gamma': 0.125, 'kernel': 'rbf'}\n",
      "0.950 (+/-0.092) for {'C': 2.0, 'gamma': 0.03125, 'kernel': 'rbf'}\n",
      "0.952 (+/-0.092) for {'C': 2.0, 'gamma': 0.0078125, 'kernel': 'rbf'}\n",
      "0.955 (+/-0.079) for {'C': 2.0, 'gamma': 0.001953125, 'kernel': 'rbf'}\n",
      "0.956 (+/-0.079) for {'C': 2.0, 'gamma': 0.00048828125, 'kernel': 'rbf'}\n",
      "0.935 (+/-0.084) for {'C': 2.0, 'gamma': 0.0001220703125, 'kernel': 'rbf'}\n",
      "0.830 (+/-0.069) for {'C': 2.0, 'gamma': 3.0517578125e-05, 'kernel': 'rbf'}\n",
      "0.500 (+/-0.000) for {'C': 8.0, 'gamma': 8.0, 'kernel': 'rbf'}\n",
      "0.500 (+/-0.000) for {'C': 8.0, 'gamma': 2.0, 'kernel': 'rbf'}\n",
      "0.500 (+/-0.000) for {'C': 8.0, 'gamma': 0.5, 'kernel': 'rbf'}\n",
      "0.506 (+/-0.025) for {'C': 8.0, 'gamma': 0.125, 'kernel': 'rbf'}\n",
      "0.950 (+/-0.092) for {'C': 8.0, 'gamma': 0.03125, 'kernel': 'rbf'}\n",
      "0.938 (+/-0.103) for {'C': 8.0, 'gamma': 0.0078125, 'kernel': 'rbf'}\n",
      "0.943 (+/-0.062) for {'C': 8.0, 'gamma': 0.001953125, 'kernel': 'rbf'}\n",
      "0.959 (+/-0.075) for {'C': 8.0, 'gamma': 0.00048828125, 'kernel': 'rbf'}\n",
      "0.966 (+/-0.062) for {'C': 8.0, 'gamma': 0.0001220703125, 'kernel': 'rbf'}\n",
      "0.953 (+/-0.098) for {'C': 8.0, 'gamma': 3.0517578125e-05, 'kernel': 'rbf'}\n",
      "0.500 (+/-0.000) for {'C': 32.0, 'gamma': 8.0, 'kernel': 'rbf'}\n",
      "0.500 (+/-0.000) for {'C': 32.0, 'gamma': 2.0, 'kernel': 'rbf'}\n",
      "0.500 (+/-0.000) for {'C': 32.0, 'gamma': 0.5, 'kernel': 'rbf'}\n",
      "0.506 (+/-0.025) for {'C': 32.0, 'gamma': 0.125, 'kernel': 'rbf'}\n",
      "0.950 (+/-0.092) for {'C': 32.0, 'gamma': 0.03125, 'kernel': 'rbf'}\n",
      "0.938 (+/-0.103) for {'C': 32.0, 'gamma': 0.0078125, 'kernel': 'rbf'}\n",
      "0.927 (+/-0.067) for {'C': 32.0, 'gamma': 0.001953125, 'kernel': 'rbf'}\n",
      "0.950 (+/-0.080) for {'C': 32.0, 'gamma': 0.00048828125, 'kernel': 'rbf'}\n",
      "0.963 (+/-0.072) for {'C': 32.0, 'gamma': 0.0001220703125, 'kernel': 'rbf'}\n",
      "0.959 (+/-0.073) for {'C': 32.0, 'gamma': 3.0517578125e-05, 'kernel': 'rbf'}\n",
      "0.500 (+/-0.000) for {'C': 128.0, 'gamma': 8.0, 'kernel': 'rbf'}\n",
      "0.500 (+/-0.000) for {'C': 128.0, 'gamma': 2.0, 'kernel': 'rbf'}\n",
      "0.500 (+/-0.000) for {'C': 128.0, 'gamma': 0.5, 'kernel': 'rbf'}\n",
      "0.506 (+/-0.025) for {'C': 128.0, 'gamma': 0.125, 'kernel': 'rbf'}\n",
      "0.950 (+/-0.092) for {'C': 128.0, 'gamma': 0.03125, 'kernel': 'rbf'}\n",
      "0.938 (+/-0.103) for {'C': 128.0, 'gamma': 0.0078125, 'kernel': 'rbf'}\n",
      "0.927 (+/-0.067) for {'C': 128.0, 'gamma': 0.001953125, 'kernel': 'rbf'}\n",
      "0.949 (+/-0.090) for {'C': 128.0, 'gamma': 0.00048828125, 'kernel': 'rbf'}\n",
      "0.952 (+/-0.087) for {'C': 128.0, 'gamma': 0.0001220703125, 'kernel': 'rbf'}\n",
      "0.962 (+/-0.073) for {'C': 128.0, 'gamma': 3.0517578125e-05, 'kernel': 'rbf'}\n",
      "0.500 (+/-0.000) for {'C': 512.0, 'gamma': 8.0, 'kernel': 'rbf'}\n",
      "0.500 (+/-0.000) for {'C': 512.0, 'gamma': 2.0, 'kernel': 'rbf'}\n",
      "0.500 (+/-0.000) for {'C': 512.0, 'gamma': 0.5, 'kernel': 'rbf'}\n",
      "0.506 (+/-0.025) for {'C': 512.0, 'gamma': 0.125, 'kernel': 'rbf'}\n",
      "0.950 (+/-0.092) for {'C': 512.0, 'gamma': 0.03125, 'kernel': 'rbf'}\n",
      "0.938 (+/-0.103) for {'C': 512.0, 'gamma': 0.0078125, 'kernel': 'rbf'}\n",
      "0.927 (+/-0.067) for {'C': 512.0, 'gamma': 0.001953125, 'kernel': 'rbf'}\n",
      "0.943 (+/-0.096) for {'C': 512.0, 'gamma': 0.00048828125, 'kernel': 'rbf'}\n",
      "0.942 (+/-0.080) for {'C': 512.0, 'gamma': 0.0001220703125, 'kernel': 'rbf'}\n",
      "0.956 (+/-0.089) for {'C': 512.0, 'gamma': 3.0517578125e-05, 'kernel': 'rbf'}\n",
      "0.500 (+/-0.000) for {'C': 2048.0, 'gamma': 8.0, 'kernel': 'rbf'}\n",
      "0.500 (+/-0.000) for {'C': 2048.0, 'gamma': 2.0, 'kernel': 'rbf'}\n",
      "0.500 (+/-0.000) for {'C': 2048.0, 'gamma': 0.5, 'kernel': 'rbf'}\n",
      "0.506 (+/-0.025) for {'C': 2048.0, 'gamma': 0.125, 'kernel': 'rbf'}\n",
      "0.950 (+/-0.092) for {'C': 2048.0, 'gamma': 0.03125, 'kernel': 'rbf'}\n",
      "0.938 (+/-0.103) for {'C': 2048.0, 'gamma': 0.0078125, 'kernel': 'rbf'}\n",
      "0.927 (+/-0.067) for {'C': 2048.0, 'gamma': 0.001953125, 'kernel': 'rbf'}\n",
      "0.943 (+/-0.096) for {'C': 2048.0, 'gamma': 0.00048828125, 'kernel': 'rbf'}\n",
      "0.930 (+/-0.090) for {'C': 2048.0, 'gamma': 0.0001220703125, 'kernel': 'rbf'}\n",
      "0.947 (+/-0.087) for {'C': 2048.0, 'gamma': 3.0517578125e-05, 'kernel': 'rbf'}\n",
      "0.500 (+/-0.000) for {'C': 8192.0, 'gamma': 8.0, 'kernel': 'rbf'}\n",
      "0.500 (+/-0.000) for {'C': 8192.0, 'gamma': 2.0, 'kernel': 'rbf'}\n",
      "0.500 (+/-0.000) for {'C': 8192.0, 'gamma': 0.5, 'kernel': 'rbf'}\n",
      "0.506 (+/-0.025) for {'C': 8192.0, 'gamma': 0.125, 'kernel': 'rbf'}\n",
      "0.950 (+/-0.092) for {'C': 8192.0, 'gamma': 0.03125, 'kernel': 'rbf'}\n",
      "0.938 (+/-0.103) for {'C': 8192.0, 'gamma': 0.0078125, 'kernel': 'rbf'}\n",
      "0.927 (+/-0.067) for {'C': 8192.0, 'gamma': 0.001953125, 'kernel': 'rbf'}\n",
      "0.943 (+/-0.096) for {'C': 8192.0, 'gamma': 0.00048828125, 'kernel': 'rbf'}\n",
      "0.916 (+/-0.074) for {'C': 8192.0, 'gamma': 0.0001220703125, 'kernel': 'rbf'}\n",
      "0.936 (+/-0.074) for {'C': 8192.0, 'gamma': 3.0517578125e-05, 'kernel': 'rbf'}\n",
      "0.500 (+/-0.000) for {'C': 32768.0, 'gamma': 8.0, 'kernel': 'rbf'}\n",
      "0.500 (+/-0.000) for {'C': 32768.0, 'gamma': 2.0, 'kernel': 'rbf'}\n",
      "0.500 (+/-0.000) for {'C': 32768.0, 'gamma': 0.5, 'kernel': 'rbf'}\n",
      "0.506 (+/-0.025) for {'C': 32768.0, 'gamma': 0.125, 'kernel': 'rbf'}\n",
      "0.950 (+/-0.092) for {'C': 32768.0, 'gamma': 0.03125, 'kernel': 'rbf'}\n",
      "0.938 (+/-0.103) for {'C': 32768.0, 'gamma': 0.0078125, 'kernel': 'rbf'}\n",
      "0.927 (+/-0.067) for {'C': 32768.0, 'gamma': 0.001953125, 'kernel': 'rbf'}\n",
      "0.943 (+/-0.096) for {'C': 32768.0, 'gamma': 0.00048828125, 'kernel': 'rbf'}\n",
      "0.916 (+/-0.074) for {'C': 32768.0, 'gamma': 0.0001220703125, 'kernel': 'rbf'}\n",
      "0.913 (+/-0.111) for {'C': 32768.0, 'gamma': 3.0517578125e-05, 'kernel': 'rbf'}\n",
      "\n",
      "Detailed classification report:\n",
      "\n",
      "The model is trained on the full development set.\n",
      "The scores are computed on the full evaluation set.\n",
      "\n",
      "             precision    recall  f1-score   support\n",
      "\n",
      "          2       0.97      0.98      0.97       154\n",
      "          4       0.96      0.94      0.95        77\n",
      "\n",
      "avg / total       0.97      0.97      0.97       231\n",
      "\n",
      "\n"
     ]
    }
   ],
   "source": [
    "print(__doc__)\n",
    "\n",
    "# Loading the Digits dataset\n",
    "#digits = datasets.load_digits()\n",
    "\n",
    "# To apply an classifier on this data, we need to flatten the image, to\n",
    "# turn the data in a (samples, feature) matrix:\n",
    "\n",
    "\n",
    "# Set the parameters by cross-validation\n",
    "tuned_parameters = [{'kernel': ['rbf'], 'gamma': gamma_range,\n",
    "                     'C': C_range},]\n",
    "\n",
    "scores = ['recall']\n",
    "\n",
    "for score in scores:\n",
    "    print(\"# Tuning hyper-parameters for %s\" % score)\n",
    "    print()\n",
    "\n",
    "    clf2 = GridSearchCV(svr, tuned_parameters, cv=10,\n",
    "                       scoring='%s_macro' % score)\n",
    "    clf2.fit(X_train, y_train)\n",
    "\n",
    "    print(\"Best parameters set found on development set:\")\n",
    "    print()\n",
    "    print(clf2.best_params_)\n",
    "    print()\n",
    "    print(\"Grid scores on development set:\")\n",
    "    print()\n",
    "    means = clf2.cv_results_['mean_test_score']\n",
    "    stds = clf2.cv_results_['std_test_score']\n",
    "    for mean, std, params in zip(means, stds, clf2.cv_results_['params']):\n",
    "        print(\"%0.3f (+/-%0.03f) for %r\"\n",
    "              % (mean, std * 2, params))\n",
    "    print()\n",
    "\n",
    "    print(\"Detailed classification report:\")\n",
    "    print()\n",
    "    print(\"The model is trained on the full development set.\")\n",
    "    print(\"The scores are computed on the full evaluation set.\")\n",
    "    print()\n",
    "    y_true, y_pred = y_test, clf2.predict(X_test)\n",
    "    print(classification_report(y_true, y_pred))\n",
    "    print()"
   ]
  },
  {
   "cell_type": "code",
   "execution_count": 26,
   "metadata": {
    "collapsed": false
   },
   "outputs": [
    {
     "name": "stderr",
     "output_type": "stream",
     "text": [
      "C:\\Users\\Annisa\\Anaconda3\\lib\\site-packages\\sklearn\\model_selection\\_search.py:667: DeprecationWarning: The grid_scores_ attribute was deprecated in version 0.18 in favor of the more elaborate cv_results_ attribute. The grid_scores_ attribute will not be available from 0.20\n",
      "  DeprecationWarning)\n"
     ]
    },
    {
     "data": {
      "text/plain": [
       "[mean: 0.50000, std: 0.00000, params: {'C': 0.03125, 'gamma': 8.0, 'kernel': 'rbf'},\n",
       " mean: 0.50000, std: 0.00000, params: {'C': 0.03125, 'gamma': 2.0, 'kernel': 'rbf'},\n",
       " mean: 0.50000, std: 0.00000, params: {'C': 0.03125, 'gamma': 0.5, 'kernel': 'rbf'},\n",
       " mean: 0.50000, std: 0.00000, params: {'C': 0.03125, 'gamma': 0.125, 'kernel': 'rbf'},\n",
       " mean: 0.50000, std: 0.00000, params: {'C': 0.03125, 'gamma': 0.03125, 'kernel': 'rbf'},\n",
       " mean: 0.50000, std: 0.00000, params: {'C': 0.03125, 'gamma': 0.0078125, 'kernel': 'rbf'},\n",
       " mean: 0.50000, std: 0.00000, params: {'C': 0.03125, 'gamma': 0.001953125, 'kernel': 'rbf'},\n",
       " mean: 0.50000, std: 0.00000, params: {'C': 0.03125, 'gamma': 0.00048828125, 'kernel': 'rbf'},\n",
       " mean: 0.50000, std: 0.00000, params: {'C': 0.03125, 'gamma': 0.0001220703125, 'kernel': 'rbf'},\n",
       " mean: 0.50000, std: 0.00000, params: {'C': 0.03125, 'gamma': 3.0517578125e-05, 'kernel': 'rbf'},\n",
       " mean: 0.50000, std: 0.00000, params: {'C': 0.125, 'gamma': 8.0, 'kernel': 'rbf'},\n",
       " mean: 0.50000, std: 0.00000, params: {'C': 0.125, 'gamma': 2.0, 'kernel': 'rbf'},\n",
       " mean: 0.50000, std: 0.00000, params: {'C': 0.125, 'gamma': 0.5, 'kernel': 'rbf'},\n",
       " mean: 0.50000, std: 0.00000, params: {'C': 0.125, 'gamma': 0.125, 'kernel': 'rbf'},\n",
       " mean: 0.50000, std: 0.00000, params: {'C': 0.125, 'gamma': 0.03125, 'kernel': 'rbf'},\n",
       " mean: 0.50000, std: 0.00000, params: {'C': 0.125, 'gamma': 0.0078125, 'kernel': 'rbf'},\n",
       " mean: 0.56243, std: 0.02722, params: {'C': 0.125, 'gamma': 0.001953125, 'kernel': 'rbf'},\n",
       " mean: 0.55431, std: 0.02904, params: {'C': 0.125, 'gamma': 0.00048828125, 'kernel': 'rbf'},\n",
       " mean: 0.50000, std: 0.00000, params: {'C': 0.125, 'gamma': 0.0001220703125, 'kernel': 'rbf'},\n",
       " mean: 0.50000, std: 0.00000, params: {'C': 0.125, 'gamma': 3.0517578125e-05, 'kernel': 'rbf'},\n",
       " mean: 0.50000, std: 0.00000, params: {'C': 0.5, 'gamma': 8.0, 'kernel': 'rbf'},\n",
       " mean: 0.50000, std: 0.00000, params: {'C': 0.5, 'gamma': 2.0, 'kernel': 'rbf'},\n",
       " mean: 0.50000, std: 0.00000, params: {'C': 0.5, 'gamma': 0.5, 'kernel': 'rbf'},\n",
       " mean: 0.50000, std: 0.00000, params: {'C': 0.5, 'gamma': 0.125, 'kernel': 'rbf'},\n",
       " mean: 0.53500, std: 0.03561, params: {'C': 0.5, 'gamma': 0.03125, 'kernel': 'rbf'},\n",
       " mean: 0.95460, std: 0.03272, params: {'C': 0.5, 'gamma': 0.0078125, 'kernel': 'rbf'},\n",
       " mean: 0.92733, std: 0.05333, params: {'C': 0.5, 'gamma': 0.001953125, 'kernel': 'rbf'},\n",
       " mean: 0.82975, std: 0.03818, params: {'C': 0.5, 'gamma': 0.00048828125, 'kernel': 'rbf'},\n",
       " mean: 0.71014, std: 0.06177, params: {'C': 0.5, 'gamma': 0.0001220703125, 'kernel': 'rbf'},\n",
       " mean: 0.50000, std: 0.00000, params: {'C': 0.5, 'gamma': 3.0517578125e-05, 'kernel': 'rbf'},\n",
       " mean: 0.50000, std: 0.00000, params: {'C': 2.0, 'gamma': 8.0, 'kernel': 'rbf'},\n",
       " mean: 0.50000, std: 0.00000, params: {'C': 2.0, 'gamma': 2.0, 'kernel': 'rbf'},\n",
       " mean: 0.50000, std: 0.00000, params: {'C': 2.0, 'gamma': 0.5, 'kernel': 'rbf'},\n",
       " mean: 0.50614, std: 0.01250, params: {'C': 2.0, 'gamma': 0.125, 'kernel': 'rbf'},\n",
       " mean: 0.94958, std: 0.04591, params: {'C': 2.0, 'gamma': 0.03125, 'kernel': 'rbf'},\n",
       " mean: 0.95159, std: 0.04584, params: {'C': 2.0, 'gamma': 0.0078125, 'kernel': 'rbf'},\n",
       " mean: 0.95492, std: 0.03926, params: {'C': 2.0, 'gamma': 0.001953125, 'kernel': 'rbf'},\n",
       " mean: 0.95624, std: 0.03978, params: {'C': 2.0, 'gamma': 0.00048828125, 'kernel': 'rbf'},\n",
       " mean: 0.93522, std: 0.04195, params: {'C': 2.0, 'gamma': 0.0001220703125, 'kernel': 'rbf'},\n",
       " mean: 0.83041, std: 0.03435, params: {'C': 2.0, 'gamma': 3.0517578125e-05, 'kernel': 'rbf'},\n",
       " mean: 0.50000, std: 0.00000, params: {'C': 8.0, 'gamma': 8.0, 'kernel': 'rbf'},\n",
       " mean: 0.50000, std: 0.00000, params: {'C': 8.0, 'gamma': 2.0, 'kernel': 'rbf'},\n",
       " mean: 0.50000, std: 0.00000, params: {'C': 8.0, 'gamma': 0.5, 'kernel': 'rbf'},\n",
       " mean: 0.50614, std: 0.01250, params: {'C': 8.0, 'gamma': 0.125, 'kernel': 'rbf'},\n",
       " mean: 0.94958, std: 0.04591, params: {'C': 8.0, 'gamma': 0.03125, 'kernel': 'rbf'},\n",
       " mean: 0.93776, std: 0.05177, params: {'C': 8.0, 'gamma': 0.0078125, 'kernel': 'rbf'},\n",
       " mean: 0.94252, std: 0.03111, params: {'C': 8.0, 'gamma': 0.001953125, 'kernel': 'rbf'},\n",
       " mean: 0.95937, std: 0.03726, params: {'C': 8.0, 'gamma': 0.00048828125, 'kernel': 'rbf'},\n",
       " mean: 0.96566, std: 0.03095, params: {'C': 8.0, 'gamma': 0.0001220703125, 'kernel': 'rbf'},\n",
       " mean: 0.95348, std: 0.04885, params: {'C': 8.0, 'gamma': 3.0517578125e-05, 'kernel': 'rbf'},\n",
       " mean: 0.50000, std: 0.00000, params: {'C': 32.0, 'gamma': 8.0, 'kernel': 'rbf'},\n",
       " mean: 0.50000, std: 0.00000, params: {'C': 32.0, 'gamma': 2.0, 'kernel': 'rbf'},\n",
       " mean: 0.50000, std: 0.00000, params: {'C': 32.0, 'gamma': 0.5, 'kernel': 'rbf'},\n",
       " mean: 0.50614, std: 0.01250, params: {'C': 32.0, 'gamma': 0.125, 'kernel': 'rbf'},\n",
       " mean: 0.94958, std: 0.04591, params: {'C': 32.0, 'gamma': 0.03125, 'kernel': 'rbf'},\n",
       " mean: 0.93776, std: 0.05177, params: {'C': 32.0, 'gamma': 0.0078125, 'kernel': 'rbf'},\n",
       " mean: 0.92727, std: 0.03334, params: {'C': 32.0, 'gamma': 0.001953125, 'kernel': 'rbf'},\n",
       " mean: 0.95004, std: 0.03997, params: {'C': 32.0, 'gamma': 0.00048828125, 'kernel': 'rbf'},\n",
       " mean: 0.96264, std: 0.03569, params: {'C': 32.0, 'gamma': 0.0001220703125, 'kernel': 'rbf'},\n",
       " mean: 0.95930, std: 0.03656, params: {'C': 32.0, 'gamma': 3.0517578125e-05, 'kernel': 'rbf'},\n",
       " mean: 0.50000, std: 0.00000, params: {'C': 128.0, 'gamma': 8.0, 'kernel': 'rbf'},\n",
       " mean: 0.50000, std: 0.00000, params: {'C': 128.0, 'gamma': 2.0, 'kernel': 'rbf'},\n",
       " mean: 0.50000, std: 0.00000, params: {'C': 128.0, 'gamma': 0.5, 'kernel': 'rbf'},\n",
       " mean: 0.50614, std: 0.01250, params: {'C': 128.0, 'gamma': 0.125, 'kernel': 'rbf'},\n",
       " mean: 0.94958, std: 0.04591, params: {'C': 128.0, 'gamma': 0.03125, 'kernel': 'rbf'},\n",
       " mean: 0.93776, std: 0.05177, params: {'C': 128.0, 'gamma': 0.0078125, 'kernel': 'rbf'},\n",
       " mean: 0.92727, std: 0.03334, params: {'C': 128.0, 'gamma': 0.001953125, 'kernel': 'rbf'},\n",
       " mean: 0.94866, std: 0.04466, params: {'C': 128.0, 'gamma': 0.00048828125, 'kernel': 'rbf'},\n",
       " mean: 0.95162, std: 0.04335, params: {'C': 128.0, 'gamma': 0.0001220703125, 'kernel': 'rbf'},\n",
       " mean: 0.96242, std: 0.03664, params: {'C': 128.0, 'gamma': 3.0517578125e-05, 'kernel': 'rbf'},\n",
       " mean: 0.50000, std: 0.00000, params: {'C': 512.0, 'gamma': 8.0, 'kernel': 'rbf'},\n",
       " mean: 0.50000, std: 0.00000, params: {'C': 512.0, 'gamma': 2.0, 'kernel': 'rbf'},\n",
       " mean: 0.50000, std: 0.00000, params: {'C': 512.0, 'gamma': 0.5, 'kernel': 'rbf'},\n",
       " mean: 0.50614, std: 0.01250, params: {'C': 512.0, 'gamma': 0.125, 'kernel': 'rbf'},\n",
       " mean: 0.94958, std: 0.04591, params: {'C': 512.0, 'gamma': 0.03125, 'kernel': 'rbf'},\n",
       " mean: 0.93776, std: 0.05177, params: {'C': 512.0, 'gamma': 0.0078125, 'kernel': 'rbf'},\n",
       " mean: 0.92727, std: 0.03334, params: {'C': 512.0, 'gamma': 0.001953125, 'kernel': 'rbf'},\n",
       " mean: 0.94263, std: 0.04793, params: {'C': 512.0, 'gamma': 0.00048828125, 'kernel': 'rbf'},\n",
       " mean: 0.94224, std: 0.04012, params: {'C': 512.0, 'gamma': 0.0001220703125, 'kernel': 'rbf'},\n",
       " mean: 0.95635, std: 0.04410, params: {'C': 512.0, 'gamma': 3.0517578125e-05, 'kernel': 'rbf'},\n",
       " mean: 0.50000, std: 0.00000, params: {'C': 2048.0, 'gamma': 8.0, 'kernel': 'rbf'},\n",
       " mean: 0.50000, std: 0.00000, params: {'C': 2048.0, 'gamma': 2.0, 'kernel': 'rbf'},\n",
       " mean: 0.50000, std: 0.00000, params: {'C': 2048.0, 'gamma': 0.5, 'kernel': 'rbf'},\n",
       " mean: 0.50614, std: 0.01250, params: {'C': 2048.0, 'gamma': 0.125, 'kernel': 'rbf'},\n",
       " mean: 0.94958, std: 0.04591, params: {'C': 2048.0, 'gamma': 0.03125, 'kernel': 'rbf'},\n",
       " mean: 0.93776, std: 0.05177, params: {'C': 2048.0, 'gamma': 0.0078125, 'kernel': 'rbf'},\n",
       " mean: 0.92727, std: 0.03334, params: {'C': 2048.0, 'gamma': 0.001953125, 'kernel': 'rbf'},\n",
       " mean: 0.94263, std: 0.04793, params: {'C': 2048.0, 'gamma': 0.00048828125, 'kernel': 'rbf'},\n",
       " mean: 0.92974, std: 0.04510, params: {'C': 2048.0, 'gamma': 0.0001220703125, 'kernel': 'rbf'},\n",
       " mean: 0.94668, std: 0.04345, params: {'C': 2048.0, 'gamma': 3.0517578125e-05, 'kernel': 'rbf'},\n",
       " mean: 0.50000, std: 0.00000, params: {'C': 8192.0, 'gamma': 8.0, 'kernel': 'rbf'},\n",
       " mean: 0.50000, std: 0.00000, params: {'C': 8192.0, 'gamma': 2.0, 'kernel': 'rbf'},\n",
       " mean: 0.50000, std: 0.00000, params: {'C': 8192.0, 'gamma': 0.5, 'kernel': 'rbf'},\n",
       " mean: 0.50614, std: 0.01250, params: {'C': 8192.0, 'gamma': 0.125, 'kernel': 'rbf'},\n",
       " mean: 0.94958, std: 0.04591, params: {'C': 8192.0, 'gamma': 0.03125, 'kernel': 'rbf'},\n",
       " mean: 0.93776, std: 0.05177, params: {'C': 8192.0, 'gamma': 0.0078125, 'kernel': 'rbf'},\n",
       " mean: 0.92727, std: 0.03334, params: {'C': 8192.0, 'gamma': 0.001953125, 'kernel': 'rbf'},\n",
       " mean: 0.94263, std: 0.04793, params: {'C': 8192.0, 'gamma': 0.00048828125, 'kernel': 'rbf'},\n",
       " mean: 0.91599, std: 0.03682, params: {'C': 8192.0, 'gamma': 0.0001220703125, 'kernel': 'rbf'},\n",
       " mean: 0.93586, std: 0.03688, params: {'C': 8192.0, 'gamma': 3.0517578125e-05, 'kernel': 'rbf'},\n",
       " mean: 0.50000, std: 0.00000, params: {'C': 32768.0, 'gamma': 8.0, 'kernel': 'rbf'},\n",
       " mean: 0.50000, std: 0.00000, params: {'C': 32768.0, 'gamma': 2.0, 'kernel': 'rbf'},\n",
       " mean: 0.50000, std: 0.00000, params: {'C': 32768.0, 'gamma': 0.5, 'kernel': 'rbf'},\n",
       " mean: 0.50614, std: 0.01250, params: {'C': 32768.0, 'gamma': 0.125, 'kernel': 'rbf'},\n",
       " mean: 0.94958, std: 0.04591, params: {'C': 32768.0, 'gamma': 0.03125, 'kernel': 'rbf'},\n",
       " mean: 0.93776, std: 0.05177, params: {'C': 32768.0, 'gamma': 0.0078125, 'kernel': 'rbf'},\n",
       " mean: 0.92727, std: 0.03334, params: {'C': 32768.0, 'gamma': 0.001953125, 'kernel': 'rbf'},\n",
       " mean: 0.94263, std: 0.04793, params: {'C': 32768.0, 'gamma': 0.00048828125, 'kernel': 'rbf'},\n",
       " mean: 0.91599, std: 0.03682, params: {'C': 32768.0, 'gamma': 0.0001220703125, 'kernel': 'rbf'},\n",
       " mean: 0.91292, std: 0.05537, params: {'C': 32768.0, 'gamma': 3.0517578125e-05, 'kernel': 'rbf'}]"
      ]
     },
     "execution_count": 26,
     "metadata": {},
     "output_type": "execute_result"
    }
   ],
   "source": [
    "clf2.grid_scores_"
   ]
  },
  {
   "cell_type": "code",
   "execution_count": 27,
   "metadata": {
    "collapsed": false
   },
   "outputs": [
    {
     "name": "stdout",
     "output_type": "stream",
     "text": [
      "Best accuracy obtained: 0.9656600212458848\n",
      "Parameters:\n",
      "\tC: 8.0\n",
      "\tgamma: 0.0001220703125\n",
      "\tkernel: rbf\n"
     ]
    }
   ],
   "source": [
    "print(\"Best accuracy obtained: {0}\".format(clf2.best_score_))\n",
    "print(\"Parameters:\")\n",
    "for key, value in clf2.best_params_.items():\n",
    "    print(\"\\t{}: {}\".format(key, value))"
   ]
  },
  {
   "cell_type": "code",
   "execution_count": 28,
   "metadata": {
    "collapsed": false
   },
   "outputs": [
    {
     "data": {
      "text/plain": [
       "SVC(C=8.0, cache_size=200, class_weight=None, coef0=0.0,\n",
       "  decision_function_shape=None, degree=3, gamma=0.0001220703125,\n",
       "  kernel='rbf', max_iter=-1, probability=False, random_state=None,\n",
       "  shrinking=True, tol=0.001, verbose=False)"
      ]
     },
     "execution_count": 28,
     "metadata": {},
     "output_type": "execute_result"
    }
   ],
   "source": [
    "clf2.best_estimator_"
   ]
  },
  {
   "cell_type": "code",
   "execution_count": 29,
   "metadata": {
    "collapsed": false
   },
   "outputs": [],
   "source": [
    "svc7=svm.SVC(C=8.0, cache_size=200, class_weight=None, coef0=0.0,\n",
    "  decision_function_shape=None, degree=3, gamma=0.0001220703125,\n",
    "  kernel='rbf', max_iter=-1, probability=False, random_state=None,\n",
    "  shrinking=True, tol=0.001, verbose=False)"
   ]
  },
  {
   "cell_type": "code",
   "execution_count": 30,
   "metadata": {
    "collapsed": false
   },
   "outputs": [
    {
     "data": {
      "text/plain": [
       "SVC(C=8.0, cache_size=200, class_weight=None, coef0=0.0,\n",
       "  decision_function_shape=None, degree=3, gamma=0.0001220703125,\n",
       "  kernel='rbf', max_iter=-1, probability=False, random_state=None,\n",
       "  shrinking=True, tol=0.001, verbose=False)"
      ]
     },
     "execution_count": 30,
     "metadata": {},
     "output_type": "execute_result"
    }
   ],
   "source": [
    "svc7.fit(X_train,y_train)"
   ]
  },
  {
   "cell_type": "code",
   "execution_count": 31,
   "metadata": {
    "collapsed": false
   },
   "outputs": [
    {
     "name": "stdout",
     "output_type": "stream",
     "text": [
      "Akurasi: 0.9654\n",
      "Precision: 0.9600\n",
      "Recall: 0.9351\n",
      "F1: 0.9474\n"
     ]
    }
   ],
   "source": [
    "y_pred7 = svc7.predict(X_test)\n",
    "accuracy = accuracy_score(y_test, y_pred7)\n",
    "precision, recall, f1, _ = precision_recall_fscore_support(y_test, y_pred7)\n",
    "print (('Akurasi: %.4f') % (accuracy))\n",
    "print (('Precision: %.4f') % (precision[1]))\n",
    "print (('Recall: %.4f') % (recall[1]))\n",
    "print (('F1: %.4f') % (f1[1]))"
   ]
  },
  {
   "cell_type": "markdown",
   "metadata": {
    "collapsed": true
   },
   "source": [
    "# Hasil yang paling baik untuk parameter sesuai Hsu adalah svc7 \n",
    "SVC(C=8.0, cache_size=200, class_weight=None, coef0=0.0, decision_function_shape=None, degree=3, gamma=0.0001220703125, kernel='rbf', max_iter=-1, probability=False, random_state=None, shrinking=True, tol=0.001, verbose=False)\n"
   ]
  },
  {
   "cell_type": "code",
   "execution_count": 32,
   "metadata": {
    "collapsed": true
   },
   "outputs": [],
   "source": [
    "svc8=svm.SVC(**clf2.best_params_)"
   ]
  },
  {
   "cell_type": "code",
   "execution_count": 33,
   "metadata": {
    "collapsed": false
   },
   "outputs": [
    {
     "data": {
      "text/plain": [
       "SVC(C=8.0, cache_size=200, class_weight=None, coef0=0.0,\n",
       "  decision_function_shape=None, degree=3, gamma=0.0001220703125,\n",
       "  kernel='rbf', max_iter=-1, probability=False, random_state=None,\n",
       "  shrinking=True, tol=0.001, verbose=False)"
      ]
     },
     "execution_count": 33,
     "metadata": {},
     "output_type": "execute_result"
    }
   ],
   "source": [
    "svc8.fit(X_train,y_train)"
   ]
  },
  {
   "cell_type": "code",
   "execution_count": 34,
   "metadata": {
    "collapsed": false
   },
   "outputs": [
    {
     "name": "stdout",
     "output_type": "stream",
     "text": [
      "Akurasi: 0.9654\n",
      "Precision: 0.9600\n",
      "Recall: 0.9351\n",
      "F1: 0.9474\n"
     ]
    }
   ],
   "source": [
    "y_pred8 = svc8.predict(X_test)\n",
    "accuracy = accuracy_score(y_test, y_pred8)\n",
    "precision, recall, f1, _ = precision_recall_fscore_support(y_test, y_pred8)\n",
    "print (('Akurasi: %.4f') % (accuracy))\n",
    "print (('Precision: %.4f') % (precision[1]))\n",
    "print (('Recall: %.4f') % (recall[1]))\n",
    "print (('F1: %.4f') % (f1[1]))"
   ]
  },
  {
   "cell_type": "markdown",
   "metadata": {},
   "source": [
    "# sama hasilnya"
   ]
  },
  {
   "cell_type": "code",
   "execution_count": 43,
   "metadata": {
    "collapsed": false
   },
   "outputs": [],
   "source": [
    "gamma_range2 = np.logspace(-13.0, -14.0, 10, base=2)\n",
    "C_range=[i/10.0 for i in range (75,90,5)]"
   ]
  },
  {
   "cell_type": "code",
   "execution_count": 44,
   "metadata": {
    "collapsed": false
   },
   "outputs": [
    {
     "name": "stdout",
     "output_type": "stream",
     "text": [
      "Automatically created module for IPython interactive environment\n",
      "# Tuning hyper-parameters for recall\n",
      "\n",
      "Best parameters set found on development set:\n",
      "\n",
      "{'C': 7.5, 'gamma': 0.0001220703125, 'kernel': 'rbf'}\n",
      "\n",
      "Grid scores on development set:\n",
      "\n",
      "0.9657 (+/-0.0618) for {'C': 7.5, 'gamma': 0.0001220703125, 'kernel': 'rbf'}\n",
      "0.9657 (+/-0.0618) for {'C': 7.5, 'gamma': 0.00011302181546475716, 'kernel': 'rbf'}\n",
      "0.9626 (+/-0.0754) for {'C': 7.5, 'gamma': 0.00010464404087561931, 'kernel': 'rbf'}\n",
      "0.9626 (+/-0.0754) for {'C': 7.5, 'gamma': 9.6887271238293391e-05, 'kernel': 'rbf'}\n",
      "0.9609 (+/-0.0727) for {'C': 7.5, 'gamma': 8.9705474382055579e-05, 'kernel': 'rbf'}\n",
      "0.9579 (+/-0.0788) for {'C': 7.5, 'gamma': 8.3056030284080635e-05, 'kernel': 'rbf'}\n",
      "0.9579 (+/-0.0788) for {'C': 7.5, 'gamma': 7.6899478142997658e-05, 'kernel': 'rbf'}\n",
      "0.9562 (+/-0.0861) for {'C': 7.5, 'gamma': 7.1199282200690666e-05, 'kernel': 'rbf'}\n",
      "0.9502 (+/-0.1010) for {'C': 7.5, 'gamma': 6.5921614922626092e-05, 'kernel': 'rbf'}\n",
      "0.9532 (+/-0.0921) for {'C': 7.5, 'gamma': 6.103515625e-05, 'kernel': 'rbf'}\n",
      "0.9657 (+/-0.0618) for {'C': 8.0, 'gamma': 0.0001220703125, 'kernel': 'rbf'}\n",
      "0.9657 (+/-0.0618) for {'C': 8.0, 'gamma': 0.00011302181546475716, 'kernel': 'rbf'}\n",
      "0.9640 (+/-0.0688) for {'C': 8.0, 'gamma': 0.00010464404087561931, 'kernel': 'rbf'}\n",
      "0.9610 (+/-0.0834) for {'C': 8.0, 'gamma': 9.6887271238293391e-05, 'kernel': 'rbf'}\n",
      "0.9610 (+/-0.0834) for {'C': 8.0, 'gamma': 8.9705474382055579e-05, 'kernel': 'rbf'}\n",
      "0.9593 (+/-0.0808) for {'C': 8.0, 'gamma': 8.3056030284080635e-05, 'kernel': 'rbf'}\n",
      "0.9562 (+/-0.0861) for {'C': 8.0, 'gamma': 7.6899478142997658e-05, 'kernel': 'rbf'}\n",
      "0.9562 (+/-0.0861) for {'C': 8.0, 'gamma': 7.1199282200690666e-05, 'kernel': 'rbf'}\n",
      "0.9562 (+/-0.0861) for {'C': 8.0, 'gamma': 6.5921614922626092e-05, 'kernel': 'rbf'}\n",
      "0.9502 (+/-0.1010) for {'C': 8.0, 'gamma': 6.103515625e-05, 'kernel': 'rbf'}\n",
      "0.9657 (+/-0.0618) for {'C': 8.5, 'gamma': 0.0001220703125, 'kernel': 'rbf'}\n",
      "0.9657 (+/-0.0618) for {'C': 8.5, 'gamma': 0.00011302181546475716, 'kernel': 'rbf'}\n",
      "0.9640 (+/-0.0688) for {'C': 8.5, 'gamma': 0.00010464404087561931, 'kernel': 'rbf'}\n",
      "0.9640 (+/-0.0688) for {'C': 8.5, 'gamma': 9.6887271238293391e-05, 'kernel': 'rbf'}\n",
      "0.9610 (+/-0.0834) for {'C': 8.5, 'gamma': 8.9705474382055579e-05, 'kernel': 'rbf'}\n",
      "0.9579 (+/-0.0902) for {'C': 8.5, 'gamma': 8.3056030284080635e-05, 'kernel': 'rbf'}\n",
      "0.9562 (+/-0.0861) for {'C': 8.5, 'gamma': 7.6899478142997658e-05, 'kernel': 'rbf'}\n",
      "0.9562 (+/-0.0861) for {'C': 8.5, 'gamma': 7.1199282200690666e-05, 'kernel': 'rbf'}\n",
      "0.9562 (+/-0.0861) for {'C': 8.5, 'gamma': 6.5921614922626092e-05, 'kernel': 'rbf'}\n",
      "0.9502 (+/-0.1010) for {'C': 8.5, 'gamma': 6.103515625e-05, 'kernel': 'rbf'}\n",
      "\n",
      "Detailed classification report:\n",
      "\n",
      "The model is trained on the full development set.\n",
      "The scores are computed on the full evaluation set.\n",
      "\n",
      "             precision    recall  f1-score   support\n",
      "\n",
      "          2       0.97      0.98      0.97       154\n",
      "          4       0.96      0.94      0.95        77\n",
      "\n",
      "avg / total       0.97      0.97      0.97       231\n",
      "\n",
      "\n"
     ]
    }
   ],
   "source": [
    "print(__doc__)\n",
    "\n",
    "# Loading the Digits dataset\n",
    "#digits = datasets.load_digits()\n",
    "\n",
    "# To apply an classifier on this data, we need to flatten the image, to\n",
    "# turn the data in a (samples, feature) matrix:\n",
    "n_samples = len(df)\n",
    "\n",
    "\n",
    "# Set the parameters by cross-validation\n",
    "\n",
    "tuned_parameters2a = [{'kernel': ['rbf'], 'gamma': gamma_range2,\n",
    "                     'C': C_range},]\n",
    "scores = ['recall']\n",
    "\n",
    "for score in scores:\n",
    "    print(\"# Tuning hyper-parameters for %s\" % score)\n",
    "    print()\n",
    "\n",
    "    clf2a = GridSearchCV(svr, tuned_parameters2a, cv=10,\n",
    "                       scoring='%s_macro' % score)\n",
    "    clf2a.fit(X_train, y_train)\n",
    "\n",
    "    print(\"Best parameters set found on development set:\")\n",
    "    print()\n",
    "    print(clf2a.best_params_)\n",
    "    print()\n",
    "    print(\"Grid scores on development set:\")\n",
    "    print()\n",
    "    means = clf2a.cv_results_['mean_test_score']\n",
    "    stds = clf2a.cv_results_['std_test_score']\n",
    "    for mean, std, params in zip(means, stds, clf2a.cv_results_['params']):\n",
    "        print(\"%0.4f (+/-%0.04f) for %r\"\n",
    "              % (mean, std * 2, params))\n",
    "    print()\n",
    "\n",
    "    print(\"Detailed classification report:\")\n",
    "    print()\n",
    "    print(\"The model is trained on the full development set.\")\n",
    "    print(\"The scores are computed on the full evaluation set.\")\n",
    "    print()\n",
    "    y_true, y_pred2a = y_test, clf2a.predict(X_test)\n",
    "    print(classification_report(y_true, y_pred2a))\n",
    "    print()"
   ]
  },
  {
   "cell_type": "code",
   "execution_count": 51,
   "metadata": {
    "collapsed": true
   },
   "outputs": [],
   "source": [
    "C_rangeb=[i/10.0 for i in range (65,80,5)]\n",
    "gamma_range2b=[0.0001220703125]"
   ]
  },
  {
   "cell_type": "code",
   "execution_count": 52,
   "metadata": {
    "collapsed": false
   },
   "outputs": [
    {
     "name": "stdout",
     "output_type": "stream",
     "text": [
      "Automatically created module for IPython interactive environment\n",
      "# Tuning hyper-parameters for recall\n",
      "\n",
      "Best parameters set found on development set:\n",
      "\n",
      "{'C': 7.5, 'gamma': 0.0001220703125, 'kernel': 'rbf'}\n",
      "\n",
      "Grid scores on development set:\n",
      "\n",
      "0.9626 (+/-0.0754) for {'C': 6.5, 'gamma': 0.0001220703125, 'kernel': 'rbf'}\n",
      "0.9626 (+/-0.0754) for {'C': 7.0, 'gamma': 0.0001220703125, 'kernel': 'rbf'}\n",
      "0.9657 (+/-0.0618) for {'C': 7.5, 'gamma': 0.0001220703125, 'kernel': 'rbf'}\n",
      "\n",
      "Detailed classification report:\n",
      "\n",
      "The model is trained on the full development set.\n",
      "The scores are computed on the full evaluation set.\n",
      "\n",
      "             precision    recall  f1-score   support\n",
      "\n",
      "          2       0.97      0.98      0.97       154\n",
      "          4       0.96      0.94      0.95        77\n",
      "\n",
      "avg / total       0.97      0.97      0.97       231\n",
      "\n",
      "\n"
     ]
    }
   ],
   "source": [
    "print(__doc__)\n",
    "\n",
    "# Loading the Digits dataset\n",
    "#digits = datasets.load_digits()\n",
    "\n",
    "# To apply an classifier on this data, we need to flatten the image, to\n",
    "# turn the data in a (samples, feature) matrix:\n",
    "n_samples = len(df)\n",
    "\n",
    "\n",
    "# Set the parameters by cross-validation\n",
    "\n",
    "tuned_parameters2b = [{'kernel': ['rbf'], 'gamma': gamma_range2b,\n",
    "                     'C': C_rangeb},]\n",
    "scores = ['recall']\n",
    "\n",
    "for score in scores:\n",
    "    print(\"# Tuning hyper-parameters for %s\" % score)\n",
    "    print()\n",
    "\n",
    "    clf2b = GridSearchCV(svr, tuned_parameters2b, cv=10,\n",
    "                       scoring='%s_macro' % score)\n",
    "    clf2b.fit(X_train, y_train)\n",
    "\n",
    "    print(\"Best parameters set found on development set:\")\n",
    "    print()\n",
    "    print(clf2b.best_params_)\n",
    "    print()\n",
    "    print(\"Grid scores on development set:\")\n",
    "    print()\n",
    "    means = clf2b.cv_results_['mean_test_score']\n",
    "    stds = clf2b.cv_results_['std_test_score']\n",
    "    for mean, std, params in zip(means, stds, clf2b.cv_results_['params']):\n",
    "        print(\"%0.4f (+/-%0.04f) for %r\"\n",
    "              % (mean, std * 2, params))\n",
    "    print()\n",
    "\n",
    "    print(\"Detailed classification report:\")\n",
    "    print()\n",
    "    print(\"The model is trained on the full development set.\")\n",
    "    print(\"The scores are computed on the full evaluation set.\")\n",
    "    print()\n",
    "    y_true, y_pred2b = y_test, clf2b.predict(X_test)\n",
    "    print(classification_report(y_true, y_pred2b))\n",
    "    print()"
   ]
  },
  {
   "cell_type": "markdown",
   "metadata": {},
   "source": [
    "# Maka hasil c=7.5 gamma=2^-13"
   ]
  },
  {
   "cell_type": "code",
   "execution_count": null,
   "metadata": {
    "collapsed": true
   },
   "outputs": [],
   "source": []
  }
 ],
 "metadata": {
  "anaconda-cloud": {},
  "kernelspec": {
   "display_name": "Python 3",
   "language": "python",
   "name": "python3"
  },
  "language_info": {
   "codemirror_mode": {
    "name": "ipython",
    "version": 3
   },
   "file_extension": ".py",
   "mimetype": "text/x-python",
   "name": "python",
   "nbconvert_exporter": "python",
   "pygments_lexer": "ipython3",
   "version": "3.6.0"
  }
 },
 "nbformat": 4,
 "nbformat_minor": 1
}
