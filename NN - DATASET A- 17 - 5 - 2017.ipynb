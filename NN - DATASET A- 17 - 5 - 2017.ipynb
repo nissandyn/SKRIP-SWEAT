{
 "cells": [
  {
   "cell_type": "code",
   "execution_count": 1,
   "metadata": {
    "collapsed": false
   },
   "outputs": [
    {
     "name": "stderr",
     "output_type": "stream",
     "text": [
      "Using Theano backend.\n"
     ]
    }
   ],
   "source": [
    "from keras.models import Sequential\n",
    "from keras.layers import Dense\n",
    "from keras.wrappers.scikit_learn import KerasClassifier\n",
    "from sklearn.model_selection import StratifiedKFold\n",
    "from sklearn.model_selection import cross_val_score\n",
    "from keras.models import Sequential\n",
    "from keras.layers import Dense\n",
    "from keras.utils import np_utils"
   ]
  },
  {
   "cell_type": "code",
   "execution_count": 2,
   "metadata": {
    "collapsed": true
   },
   "outputs": [],
   "source": [
    "from keras import optimizers"
   ]
  },
  {
   "cell_type": "code",
   "execution_count": 3,
   "metadata": {
    "collapsed": true
   },
   "outputs": [],
   "source": [
    "def create_model8():\n",
    "    model8 = Sequential()\n",
    "    model8.add(Dense(10, input_dim=9, activation='relu'))\n",
    "    model8.add(Dense(10, activation='relu'))\n",
    "    model8.add(Dense(10, activation='relu'))\n",
    "    model8.add(Dense(10, activation='relu'))\n",
    "    model8.add(Dense(10, activation='relu'))\n",
    "    model8.add(Dense(10, activation='relu'))\n",
    "    model8.add(Dense(10, activation='relu'))\n",
    "    model8.add(Dense(10, activation='relu'))\n",
    "    model8.add(Dense(1, activation='sigmoid'))\n",
    "    adm = optimizers.Adam(lr=0.01, beta_1=0.9, beta_2=0.999, epsilon=1e-08, decay=0.0)\n",
    "    model8.compile(loss='binary_crossentropy', optimizer=adm, metrics=['accuracy'])\n",
    "    return model8"
   ]
  },
  {
   "cell_type": "code",
   "execution_count": 4,
   "metadata": {
    "collapsed": true
   },
   "outputs": [],
   "source": [
    "class_weight = [{0 : 1., 1: 2},\n",
    "                {0 : 1., 1: 4},\n",
    "                {0 : 1., 1: 8},\n",
    "                {0 : 1., 1: 16},\n",
    "                {0 : 1., 1: 32},\n",
    "                {0 : 1., 1: 64}]"
   ]
  },
  {
   "cell_type": "code",
   "execution_count": 5,
   "metadata": {
    "collapsed": true
   },
   "outputs": [],
   "source": [
    "epochs = [10, 20, 50, 100, 200, 500]"
   ]
  },
  {
   "cell_type": "code",
   "execution_count": 6,
   "metadata": {
    "collapsed": true
   },
   "outputs": [],
   "source": [
    "param_gridNN = dict(epochs=epochs, class_weight=class_weight )"
   ]
  },
  {
   "cell_type": "code",
   "execution_count": 7,
   "metadata": {
    "collapsed": true
   },
   "outputs": [],
   "source": [
    "from sklearn.metrics import confusion_matrix"
   ]
  },
  {
   "cell_type": "code",
   "execution_count": 8,
   "metadata": {
    "collapsed": true
   },
   "outputs": [],
   "source": [
    "modelNN = KerasClassifier(build_fn=create_model8, verbose=0)"
   ]
  },
  {
   "cell_type": "code",
   "execution_count": 12,
   "metadata": {
    "collapsed": true
   },
   "outputs": [],
   "source": [
    "import pandas as pd\n",
    "import numpy as np"
   ]
  },
  {
   "cell_type": "code",
   "execution_count": 13,
   "metadata": {
    "collapsed": false
   },
   "outputs": [],
   "source": [
    "dfA = pd.read_csv(\"wbc.csv\")\n",
    "dfA=dfA.replace('?',np.nan)\n",
    "dfA['bare_nuclei'] = pd.to_numeric(dfA.bare_nuclei.fillna(dfA.bare_nuclei.median()))"
   ]
  },
  {
   "cell_type": "code",
   "execution_count": 14,
   "metadata": {
    "collapsed": true
   },
   "outputs": [],
   "source": [
    "X = dfA.drop([dfA.columns[-1]], axis=1)\n",
    "y = dfA.jenis.map({2: 0, 4: 1})"
   ]
  },
  {
   "cell_type": "code",
   "execution_count": 15,
   "metadata": {
    "collapsed": true
   },
   "outputs": [],
   "source": [
    "RAND_SEED_SPLIT = RAND_SEED_TUNING = 168"
   ]
  },
  {
   "cell_type": "code",
   "execution_count": 17,
   "metadata": {
    "collapsed": false
   },
   "outputs": [],
   "source": [
    "from sklearn.model_selection import train_test_split\n",
    "X_train, X_test, y_train, y_test = train_test_split(X, y,test_size=0.33, random_state=RAND_SEED_SPLIT)"
   ]
  },
  {
   "cell_type": "code",
   "execution_count": 18,
   "metadata": {
    "collapsed": true
   },
   "outputs": [],
   "source": [
    "from sklearn.metrics import confusion_matrix"
   ]
  },
  {
   "cell_type": "code",
   "execution_count": 19,
   "metadata": {
    "collapsed": true
   },
   "outputs": [],
   "source": [
    "def cost_breast_cancer(y_true, y_pred):\n",
    "    CM = confusion_matrix(y_true, y_pred)\n",
    "    FN = CM[1][0]\n",
    "    FP = CM[0][1]\n",
    "    costBC=((-1*((228.35*FP)+(2850000*FN))))\n",
    "    return costBC"
   ]
  },
  {
   "cell_type": "code",
   "execution_count": 20,
   "metadata": {
    "collapsed": true
   },
   "outputs": [],
   "source": [
    "def specificity(y_true, y_pred):\n",
    "    CM = confusion_matrix(y_true, y_pred)\n",
    "    TN = CM[0][0]\n",
    "    FN = CM[1][0]\n",
    "    TP = CM[1][1]\n",
    "    FP = CM[0][1]\n",
    "    nilai=(TN/(FP+TN))\n",
    "    return nilai"
   ]
  },
  {
   "cell_type": "code",
   "execution_count": 22,
   "metadata": {
    "collapsed": false
   },
   "outputs": [],
   "source": [
    "from sklearn.metrics import make_scorer\n",
    "my_custom_scorer=make_scorer(cost_breast_cancer, greater_is_better=True)\n",
    "score_specificity=make_scorer(specificity, greater_is_better=True)"
   ]
  },
  {
   "cell_type": "code",
   "execution_count": 24,
   "metadata": {
    "collapsed": true
   },
   "outputs": [],
   "source": [
    "from sklearn.metrics import accuracy_score, precision_recall_fscore_support\n",
    "from sklearn import metrics\n",
    "from sklearn.model_selection import GridSearchCV\n",
    "from __future__ import print_function\n",
    "from sklearn.metrics import classification_report\n",
    "from sklearn.metrics import confusion_matrix\n",
    "from sklearn.metrics import make_scorer\n",
    "from sklearn.model_selection import cross_val_score\n",
    "from sklearn.metrics import roc_curve, roc_auc_score"
   ]
  },
  {
   "cell_type": "code",
   "execution_count": 25,
   "metadata": {
    "collapsed": false
   },
   "outputs": [
    {
     "name": "stdout",
     "output_type": "stream",
     "text": [
      "Automatically created module for IPython interactive environment\n",
      "# Tuning hyper-parameters for make_scorer(cost_breast_cancer)\n",
      "\n",
      "Best parameters set found on development set:\n",
      "\n",
      "{'class_weight': {0: 1.0, 1: 32}, 'epochs': 100}\n",
      "\n",
      "Grid scores on development set:\n",
      "\n",
      "-1132898.701 (+/-2789059.871) for {'class_weight': {0: 1.0, 1: 2}, 'epochs': 10}\n",
      "-852793.428 (+/-2609737.125) for {'class_weight': {0: 1.0, 1: 2}, 'epochs': 20}\n",
      "-572619.358 (+/-2283576.317) for {'class_weight': {0: 1.0, 1: 2}, 'epochs': 50}\n",
      "-852792.940 (+/-2609637.585) for {'class_weight': {0: 1.0, 1: 2}, 'epochs': 100}\n",
      "-12587682.973 (+/-43417508.203) for {'class_weight': {0: 1.0, 1: 2}, 'epochs': 200}\n",
      "-572871.129 (+/-2283324.280) for {'class_weight': {0: 1.0, 1: 2}, 'epochs': 500}\n",
      "-287065.966 (+/-1712680.686) for {'class_weight': {0: 1.0, 1: 4}, 'epochs': 10}\n",
      "-858860.239 (+/-3655804.394) for {'class_weight': {0: 1.0, 1: 4}, 'epochs': 20}\n",
      "-566621.345 (+/-2274226.892) for {'class_weight': {0: 1.0, 1: 4}, 'epochs': 50}\n",
      "-566667.210 (+/-2274181.328) for {'class_weight': {0: 1.0, 1: 4}, 'epochs': 100}\n",
      "-852793.428 (+/-2609636.923) for {'class_weight': {0: 1.0, 1: 4}, 'epochs': 200}\n",
      "-12015247.563 (+/-45230798.270) for {'class_weight': {0: 1.0, 1: 4}, 'epochs': 500}\n",
      "-366.433 (+/-584.995) for {'class_weight': {0: 1.0, 1: 8}, 'epochs': 10}\n",
      "-846909.102 (+/-3628878.292) for {'class_weight': {0: 1.0, 1: 8}, 'epochs': 20}\n",
      "-281137.239 (+/-1696269.789) for {'class_weight': {0: 1.0, 1: 8}, 'epochs': 50}\n",
      "-858906.105 (+/-3655832.804) for {'class_weight': {0: 1.0, 1: 8}, 'epochs': 100}\n",
      "-1425205.905 (+/-3827067.415) for {'class_weight': {0: 1.0, 1: 8}, 'epochs': 200}\n",
      "-3714926.562 (+/-16757236.504) for {'class_weight': {0: 1.0, 1: 8}, 'epochs': 500}\n",
      "-549.406 (+/-1196.242) for {'class_weight': {0: 1.0, 1: 16}, 'epochs': 10}\n",
      "-286561.450 (+/-1713318.797) for {'class_weight': {0: 1.0, 1: 16}, 'epochs': 20}\n",
      "-1054.411 (+/-4825.531) for {'class_weight': {0: 1.0, 1: 16}, 'epochs': 50}\n",
      "-286516.072 (+/-1713349.153) for {'class_weight': {0: 1.0, 1: 16}, 'epochs': 100}\n",
      "-3995124.053 (+/-18627995.814) for {'class_weight': {0: 1.0, 1: 16}, 'epochs': 200}\n",
      "-287892.027 (+/-1712133.407) for {'class_weight': {0: 1.0, 1: 16}, 'epochs': 500}\n",
      "-281387.546 (+/-1696256.855) for {'class_weight': {0: 1.0, 1: 32}, 'epochs': 10}\n",
      "-286721.002 (+/-1713059.862) for {'class_weight': {0: 1.0, 1: 32}, 'epochs': 20}\n",
      "-286860.061 (+/-1712967.802) for {'class_weight': {0: 1.0, 1: 32}, 'epochs': 50}\n",
      "-343.501 (+/-621.606) for {'class_weight': {0: 1.0, 1: 32}, 'epochs': 100}\n",
      "-1017.816 (+/-3788.706) for {'class_weight': {0: 1.0, 1: 32}, 'epochs': 200}\n",
      "-5336151.380 (+/-28557646.879) for {'class_weight': {0: 1.0, 1: 32}, 'epochs': 500}\n",
      "-287088.899 (+/-1712967.084) for {'class_weight': {0: 1.0, 1: 64}, 'epochs': 10}\n",
      "-286584.382 (+/-1713150.901) for {'class_weight': {0: 1.0, 1: 64}, 'epochs': 20}\n",
      "-286837.129 (+/-1713135.058) for {'class_weight': {0: 1.0, 1: 64}, 'epochs': 50}\n",
      "-287181.117 (+/-1712757.303) for {'class_weight': {0: 1.0, 1: 64}, 'epochs': 100}\n",
      "-5725872.525 (+/-32404048.014) for {'class_weight': {0: 1.0, 1: 64}, 'epochs': 200}\n",
      "-10203517.413 (+/-41041013.075) for {'class_weight': {0: 1.0, 1: 64}, 'epochs': 500}\n",
      "\n"
     ]
    }
   ],
   "source": [
    "print(__doc__)\n",
    "\n",
    "\n",
    "scores = [my_custom_scorer]\n",
    "\n",
    "for score in scores:\n",
    "    print(\"# Tuning hyper-parameters for %s\" % score)\n",
    "    print()\n",
    "\n",
    "    clf3 = GridSearchCV(estimator=modelNN, param_grid=param_gridNN, cv=10, \n",
    "                       scoring=my_custom_scorer)\n",
    "    clf3.fit(X_train.as_matrix(), y_train)\n",
    "\n",
    "    print(\"Best parameters set found on development set:\")\n",
    "    print()\n",
    "    print(clf3.best_params_)\n",
    "    print()\n",
    "    print(\"Grid scores on development set:\")\n",
    "    print()\n",
    "    means3 = clf3.cv_results_['mean_test_score']\n",
    "    stds3 = clf3.cv_results_['std_test_score']\n",
    "    for mean, std, params in zip(means3, stds3, clf3.cv_results_['params']):\n",
    "        print(\"%0.3f (+/-%0.03f) for %r\"\n",
    "              % (mean, std * 2, params))\n",
    "    print()"
   ]
  },
  {
   "cell_type": "code",
   "execution_count": 26,
   "metadata": {
    "collapsed": false
   },
   "outputs": [
    {
     "name": "stdout",
     "output_type": "stream",
     "text": [
      "Best score obtained: -343.5008547008547\n",
      "Parameters:\n",
      "\tclass_weight: {0: 1.0, 1: 32}\n",
      "\tepochs: 100\n"
     ]
    }
   ],
   "source": [
    "print(\"Best score obtained: {0}\".format(clf3.best_score_))\n",
    "print(\"Parameters:\")\n",
    "for key, value in clf3.best_params_.items():\n",
    "    print(\"\\t{}: {}\".format(key, value))"
   ]
  },
  {
   "cell_type": "code",
   "execution_count": 28,
   "metadata": {
    "collapsed": true
   },
   "outputs": [],
   "source": [
    "best_class_weight = {0: 1.0, 1: 32}"
   ]
  },
  {
   "cell_type": "code",
   "execution_count": 29,
   "metadata": {
    "collapsed": false
   },
   "outputs": [
    {
     "data": {
      "text/plain": [
       "<keras.callbacks.History at 0xcb9b208>"
      ]
     },
     "execution_count": 29,
     "metadata": {},
     "output_type": "execute_result"
    }
   ],
   "source": [
    "modelNN.fit(X_train.as_matrix(), y_train, epochs= 100, class_weight = best_class_weight)"
   ]
  },
  {
   "cell_type": "code",
   "execution_count": 30,
   "metadata": {
    "collapsed": false
   },
   "outputs": [
    {
     "name": "stdout",
     "output_type": "stream",
     "text": [
      "Score cost: -1140296.8550 (+/- 4559703.1767)\n"
     ]
    }
   ],
   "source": [
    "scores4=cross_val_score(modelNN,X_train.as_matrix(),y_train,cv=10,scoring=my_custom_scorer)\n",
    "print(\"Score cost: %0.4f (+/- %0.4f)\" % (scores4.mean(), scores4.std() * 2))"
   ]
  },
  {
   "cell_type": "code",
   "execution_count": 31,
   "metadata": {
    "collapsed": false
   },
   "outputs": [
    {
     "name": "stdout",
     "output_type": "stream",
     "text": [
      "Specificity: 0.9645 (+/- 0.0811)\n",
      "Accuracy: 0.9765 (+/- 0.0554)\n",
      "Recall: 0.9744 (+/- 0.1209)\n"
     ]
    }
   ],
   "source": [
    "scores1=cross_val_score(modelNN,X_train.as_matrix(),y_train,cv=10,scoring=score_specificity)\n",
    "print(\"Specificity: %0.4f (+/- %0.4f)\" % (scores1.mean(), scores1.std() * 2))\n",
    "scores2=cross_val_score(modelNN,X_train.as_matrix(),y_train,cv=10,scoring='accuracy')\n",
    "print(\"Accuracy: %0.4f (+/- %0.4f)\" % (scores2.mean(), scores2.std() * 2))\n",
    "scores3=cross_val_score(modelNN,X_train.as_matrix(),y_train,cv=10,scoring='recall')\n",
    "print(\"Recall: %0.4f (+/- %0.4f)\" % (scores3.mean(), scores3.std() * 2))\n"
   ]
  },
  {
   "cell_type": "code",
   "execution_count": null,
   "metadata": {
    "collapsed": true
   },
   "outputs": [],
   "source": []
  }
 ],
 "metadata": {
  "kernelspec": {
   "display_name": "Python 3",
   "language": "python",
   "name": "python3"
  },
  "language_info": {
   "codemirror_mode": {
    "name": "ipython",
    "version": 3
   },
   "file_extension": ".py",
   "mimetype": "text/x-python",
   "name": "python",
   "nbconvert_exporter": "python",
   "pygments_lexer": "ipython3",
   "version": "3.5.3"
  }
 },
 "nbformat": 4,
 "nbformat_minor": 2
}
