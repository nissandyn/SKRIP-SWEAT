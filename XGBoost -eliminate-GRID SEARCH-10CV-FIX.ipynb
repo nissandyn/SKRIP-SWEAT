{
 "cells": [
  {
   "cell_type": "code",
   "execution_count": 1,
   "metadata": {
    "collapsed": false
   },
   "outputs": [
    {
     "name": "stderr",
     "output_type": "stream",
     "text": [
      "C:\\Users\\Annisa\\Anaconda3\\lib\\site-packages\\sklearn\\cross_validation.py:44: DeprecationWarning: This module was deprecated in version 0.18 in favor of the model_selection module into which all the refactored classes and functions are moved. Also note that the interface of the new CV iterators are different from that of this module. This module will be removed in 0.20.\n",
      "  \"This module will be removed in 0.20.\", DeprecationWarning)\n"
     ]
    }
   ],
   "source": [
    "%matplotlib inline\n",
    "import pandas as pd\n",
    "import numpy as np\n",
    "import matplotlib.pyplot as plt\n",
    "import seaborn; \n",
    "from scipy import stats\n",
    "import pylab as pl\n",
    "from sklearn.model_selection import train_test_split\n",
    "from xgboost import XGBClassifier\n",
    "from sklearn.model_selection import train_test_split\n",
    "from sklearn.metrics import accuracy_score\n",
    "from sklearn import model_selection\n",
    "seaborn.set()"
   ]
  },
  {
   "cell_type": "code",
   "execution_count": 2,
   "metadata": {
    "collapsed": false
   },
   "outputs": [],
   "source": [
    "df = pd.read_csv(\"wbc.csv\")"
   ]
  },
  {
   "cell_type": "code",
   "execution_count": 4,
   "metadata": {
    "collapsed": false
   },
   "outputs": [
    {
     "name": "stdout",
     "output_type": "stream",
     "text": [
      "<class 'pandas.core.frame.DataFrame'>\n",
      "RangeIndex: 683 entries, 0 to 682\n",
      "Data columns (total 11 columns):\n",
      "index                 683 non-null int64\n",
      "clump_thickness       683 non-null int64\n",
      "cell_size             683 non-null int64\n",
      "cell_shape            683 non-null int64\n",
      "marginal_adhesion     683 non-null int64\n",
      "epitelial_cellsize    683 non-null int64\n",
      "bare_nuclei           683 non-null int32\n",
      "bland_chromatin       683 non-null int64\n",
      "normal_nucleoli       683 non-null int64\n",
      "mitoses               683 non-null int64\n",
      "jenis                 683 non-null int64\n",
      "dtypes: int32(1), int64(10)\n",
      "memory usage: 56.1 KB\n"
     ]
    }
   ],
   "source": [
    "df=df[df.bare_nuclei!='?']\n",
    "df=df.reset_index()\n",
    "df['bare_nuclei']=df['bare_nuclei'].astype(object).astype(int)\n",
    "df.info()"
   ]
  },
  {
   "cell_type": "code",
   "execution_count": 5,
   "metadata": {
    "collapsed": false
   },
   "outputs": [],
   "source": [
    "X = df.drop([df.columns[-1]], axis=1)\n",
    "y = df.jenis"
   ]
  },
  {
   "cell_type": "code",
   "execution_count": 6,
   "metadata": {
    "collapsed": true
   },
   "outputs": [],
   "source": [
    "test_size=0.33"
   ]
  },
  {
   "cell_type": "code",
   "execution_count": 7,
   "metadata": {
    "collapsed": true
   },
   "outputs": [],
   "source": [
    "random_state=42"
   ]
  },
  {
   "cell_type": "code",
   "execution_count": 8,
   "metadata": {
    "collapsed": false
   },
   "outputs": [],
   "source": [
    "X_train, X_test, y_train, y_test = train_test_split(X, y, test_size=test_size, random_state=random_state)"
   ]
  },
  {
   "cell_type": "code",
   "execution_count": 9,
   "metadata": {
    "collapsed": true
   },
   "outputs": [],
   "source": [
    "from sklearn.metrics import accuracy_score, precision_recall_fscore_support"
   ]
  },
  {
   "cell_type": "code",
   "execution_count": 10,
   "metadata": {
    "collapsed": false
   },
   "outputs": [],
   "source": [
    "from sklearn import metrics"
   ]
  },
  {
   "cell_type": "code",
   "execution_count": 11,
   "metadata": {
    "collapsed": false
   },
   "outputs": [],
   "source": [
    "from sklearn.model_selection import GridSearchCV\n",
    "from __future__ import print_function\n",
    "from sklearn.metrics import classification_report"
   ]
  },
  {
   "cell_type": "code",
   "execution_count": 12,
   "metadata": {
    "collapsed": true
   },
   "outputs": [],
   "source": [
    "classifier = XGBClassifier()"
   ]
  },
  {
   "cell_type": "code",
   "execution_count": 13,
   "metadata": {
    "collapsed": true
   },
   "outputs": [],
   "source": [
    "from sklearn.cross_validation import StratifiedKFold"
   ]
  },
  {
   "cell_type": "code",
   "execution_count": 14,
   "metadata": {
    "collapsed": false
   },
   "outputs": [],
   "source": [
    "cv = StratifiedKFold(y_train, n_folds=10, shuffle=True, random_state=random_state)"
   ]
  },
  {
   "cell_type": "code",
   "execution_count": 16,
   "metadata": {
    "collapsed": false
   },
   "outputs": [
    {
     "name": "stdout",
     "output_type": "stream",
     "text": [
      "Automatically created module for IPython interactive environment\n",
      "# Tuning hyper-parameters for recall\n",
      "\n",
      "Best parameters set found on development set:\n",
      "\n",
      "{'colsample_bytree': 0.7, 'learning_rate': 0.1, 'max_depth': 5, 'n_estimators': 75}\n",
      "\n",
      "Grid scores on development set:\n",
      "\n",
      "0.919 (+/-0.067) for {'colsample_bytree': 0.6, 'learning_rate': 0.001, 'max_depth': 1, 'n_estimators': 50}\n",
      "0.921 (+/-0.072) for {'colsample_bytree': 0.6, 'learning_rate': 0.001, 'max_depth': 1, 'n_estimators': 75}\n",
      "0.919 (+/-0.067) for {'colsample_bytree': 0.6, 'learning_rate': 0.001, 'max_depth': 1, 'n_estimators': 100}\n",
      "0.963 (+/-0.032) for {'colsample_bytree': 0.6, 'learning_rate': 0.001, 'max_depth': 3, 'n_estimators': 50}\n",
      "0.960 (+/-0.045) for {'colsample_bytree': 0.6, 'learning_rate': 0.001, 'max_depth': 3, 'n_estimators': 75}\n",
      "0.960 (+/-0.045) for {'colsample_bytree': 0.6, 'learning_rate': 0.001, 'max_depth': 3, 'n_estimators': 100}\n",
      "0.963 (+/-0.051) for {'colsample_bytree': 0.6, 'learning_rate': 0.001, 'max_depth': 5, 'n_estimators': 50}\n",
      "0.964 (+/-0.053) for {'colsample_bytree': 0.6, 'learning_rate': 0.001, 'max_depth': 5, 'n_estimators': 75}\n",
      "0.961 (+/-0.047) for {'colsample_bytree': 0.6, 'learning_rate': 0.001, 'max_depth': 5, 'n_estimators': 100}\n",
      "0.963 (+/-0.051) for {'colsample_bytree': 0.6, 'learning_rate': 0.001, 'max_depth': 7, 'n_estimators': 50}\n",
      "0.964 (+/-0.053) for {'colsample_bytree': 0.6, 'learning_rate': 0.001, 'max_depth': 7, 'n_estimators': 75}\n",
      "0.961 (+/-0.047) for {'colsample_bytree': 0.6, 'learning_rate': 0.001, 'max_depth': 7, 'n_estimators': 100}\n",
      "0.924 (+/-0.071) for {'colsample_bytree': 0.6, 'learning_rate': 0.01, 'max_depth': 1, 'n_estimators': 50}\n",
      "0.938 (+/-0.054) for {'colsample_bytree': 0.6, 'learning_rate': 0.01, 'max_depth': 1, 'n_estimators': 75}\n",
      "0.948 (+/-0.066) for {'colsample_bytree': 0.6, 'learning_rate': 0.01, 'max_depth': 1, 'n_estimators': 100}\n",
      "0.958 (+/-0.045) for {'colsample_bytree': 0.6, 'learning_rate': 0.01, 'max_depth': 3, 'n_estimators': 50}\n",
      "0.968 (+/-0.053) for {'colsample_bytree': 0.6, 'learning_rate': 0.01, 'max_depth': 3, 'n_estimators': 75}\n",
      "0.964 (+/-0.045) for {'colsample_bytree': 0.6, 'learning_rate': 0.01, 'max_depth': 3, 'n_estimators': 100}\n",
      "0.964 (+/-0.048) for {'colsample_bytree': 0.6, 'learning_rate': 0.01, 'max_depth': 5, 'n_estimators': 50}\n",
      "0.966 (+/-0.050) for {'colsample_bytree': 0.6, 'learning_rate': 0.01, 'max_depth': 5, 'n_estimators': 75}\n",
      "0.969 (+/-0.050) for {'colsample_bytree': 0.6, 'learning_rate': 0.01, 'max_depth': 5, 'n_estimators': 100}\n",
      "0.964 (+/-0.048) for {'colsample_bytree': 0.6, 'learning_rate': 0.01, 'max_depth': 7, 'n_estimators': 50}\n",
      "0.966 (+/-0.050) for {'colsample_bytree': 0.6, 'learning_rate': 0.01, 'max_depth': 7, 'n_estimators': 75}\n",
      "0.969 (+/-0.050) for {'colsample_bytree': 0.6, 'learning_rate': 0.01, 'max_depth': 7, 'n_estimators': 100}\n",
      "0.959 (+/-0.050) for {'colsample_bytree': 0.6, 'learning_rate': 0.1, 'max_depth': 1, 'n_estimators': 50}\n",
      "0.956 (+/-0.052) for {'colsample_bytree': 0.6, 'learning_rate': 0.1, 'max_depth': 1, 'n_estimators': 75}\n",
      "0.958 (+/-0.054) for {'colsample_bytree': 0.6, 'learning_rate': 0.1, 'max_depth': 1, 'n_estimators': 100}\n",
      "0.971 (+/-0.048) for {'colsample_bytree': 0.6, 'learning_rate': 0.1, 'max_depth': 3, 'n_estimators': 50}\n",
      "0.971 (+/-0.048) for {'colsample_bytree': 0.6, 'learning_rate': 0.1, 'max_depth': 3, 'n_estimators': 75}\n",
      "0.966 (+/-0.052) for {'colsample_bytree': 0.6, 'learning_rate': 0.1, 'max_depth': 3, 'n_estimators': 100}\n",
      "0.971 (+/-0.048) for {'colsample_bytree': 0.6, 'learning_rate': 0.1, 'max_depth': 5, 'n_estimators': 50}\n",
      "0.971 (+/-0.048) for {'colsample_bytree': 0.6, 'learning_rate': 0.1, 'max_depth': 5, 'n_estimators': 75}\n",
      "0.971 (+/-0.048) for {'colsample_bytree': 0.6, 'learning_rate': 0.1, 'max_depth': 5, 'n_estimators': 100}\n",
      "0.971 (+/-0.048) for {'colsample_bytree': 0.6, 'learning_rate': 0.1, 'max_depth': 7, 'n_estimators': 50}\n",
      "0.971 (+/-0.048) for {'colsample_bytree': 0.6, 'learning_rate': 0.1, 'max_depth': 7, 'n_estimators': 75}\n",
      "0.971 (+/-0.048) for {'colsample_bytree': 0.6, 'learning_rate': 0.1, 'max_depth': 7, 'n_estimators': 100}\n",
      "0.961 (+/-0.052) for {'colsample_bytree': 0.6, 'learning_rate': 0.2, 'max_depth': 1, 'n_estimators': 50}\n",
      "0.958 (+/-0.062) for {'colsample_bytree': 0.6, 'learning_rate': 0.2, 'max_depth': 1, 'n_estimators': 75}\n",
      "0.958 (+/-0.062) for {'colsample_bytree': 0.6, 'learning_rate': 0.2, 'max_depth': 1, 'n_estimators': 100}\n",
      "0.969 (+/-0.045) for {'colsample_bytree': 0.6, 'learning_rate': 0.2, 'max_depth': 3, 'n_estimators': 50}\n",
      "0.969 (+/-0.045) for {'colsample_bytree': 0.6, 'learning_rate': 0.2, 'max_depth': 3, 'n_estimators': 75}\n",
      "0.968 (+/-0.044) for {'colsample_bytree': 0.6, 'learning_rate': 0.2, 'max_depth': 3, 'n_estimators': 100}\n",
      "0.966 (+/-0.050) for {'colsample_bytree': 0.6, 'learning_rate': 0.2, 'max_depth': 5, 'n_estimators': 50}\n",
      "0.969 (+/-0.045) for {'colsample_bytree': 0.6, 'learning_rate': 0.2, 'max_depth': 5, 'n_estimators': 75}\n",
      "0.964 (+/-0.049) for {'colsample_bytree': 0.6, 'learning_rate': 0.2, 'max_depth': 5, 'n_estimators': 100}\n",
      "0.969 (+/-0.045) for {'colsample_bytree': 0.6, 'learning_rate': 0.2, 'max_depth': 7, 'n_estimators': 50}\n",
      "0.969 (+/-0.045) for {'colsample_bytree': 0.6, 'learning_rate': 0.2, 'max_depth': 7, 'n_estimators': 75}\n",
      "0.968 (+/-0.044) for {'colsample_bytree': 0.6, 'learning_rate': 0.2, 'max_depth': 7, 'n_estimators': 100}\n",
      "0.958 (+/-0.062) for {'colsample_bytree': 0.6, 'learning_rate': 0.3, 'max_depth': 1, 'n_estimators': 50}\n",
      "0.958 (+/-0.062) for {'colsample_bytree': 0.6, 'learning_rate': 0.3, 'max_depth': 1, 'n_estimators': 75}\n",
      "0.954 (+/-0.076) for {'colsample_bytree': 0.6, 'learning_rate': 0.3, 'max_depth': 1, 'n_estimators': 100}\n",
      "0.963 (+/-0.063) for {'colsample_bytree': 0.6, 'learning_rate': 0.3, 'max_depth': 3, 'n_estimators': 50}\n",
      "0.963 (+/-0.052) for {'colsample_bytree': 0.6, 'learning_rate': 0.3, 'max_depth': 3, 'n_estimators': 75}\n",
      "0.963 (+/-0.052) for {'colsample_bytree': 0.6, 'learning_rate': 0.3, 'max_depth': 3, 'n_estimators': 100}\n",
      "0.964 (+/-0.049) for {'colsample_bytree': 0.6, 'learning_rate': 0.3, 'max_depth': 5, 'n_estimators': 50}\n",
      "0.964 (+/-0.049) for {'colsample_bytree': 0.6, 'learning_rate': 0.3, 'max_depth': 5, 'n_estimators': 75}\n",
      "0.964 (+/-0.049) for {'colsample_bytree': 0.6, 'learning_rate': 0.3, 'max_depth': 5, 'n_estimators': 100}\n",
      "0.968 (+/-0.044) for {'colsample_bytree': 0.6, 'learning_rate': 0.3, 'max_depth': 7, 'n_estimators': 50}\n",
      "0.968 (+/-0.044) for {'colsample_bytree': 0.6, 'learning_rate': 0.3, 'max_depth': 7, 'n_estimators': 75}\n",
      "0.968 (+/-0.044) for {'colsample_bytree': 0.6, 'learning_rate': 0.3, 'max_depth': 7, 'n_estimators': 100}\n",
      "0.919 (+/-0.067) for {'colsample_bytree': 0.7, 'learning_rate': 0.001, 'max_depth': 1, 'n_estimators': 50}\n",
      "0.919 (+/-0.067) for {'colsample_bytree': 0.7, 'learning_rate': 0.001, 'max_depth': 1, 'n_estimators': 75}\n",
      "0.919 (+/-0.067) for {'colsample_bytree': 0.7, 'learning_rate': 0.001, 'max_depth': 1, 'n_estimators': 100}\n",
      "0.960 (+/-0.045) for {'colsample_bytree': 0.7, 'learning_rate': 0.001, 'max_depth': 3, 'n_estimators': 50}\n",
      "0.956 (+/-0.047) for {'colsample_bytree': 0.7, 'learning_rate': 0.001, 'max_depth': 3, 'n_estimators': 75}\n",
      "0.960 (+/-0.045) for {'colsample_bytree': 0.7, 'learning_rate': 0.001, 'max_depth': 3, 'n_estimators': 100}\n",
      "0.961 (+/-0.047) for {'colsample_bytree': 0.7, 'learning_rate': 0.001, 'max_depth': 5, 'n_estimators': 50}\n",
      "0.961 (+/-0.047) for {'colsample_bytree': 0.7, 'learning_rate': 0.001, 'max_depth': 5, 'n_estimators': 75}\n",
      "0.961 (+/-0.047) for {'colsample_bytree': 0.7, 'learning_rate': 0.001, 'max_depth': 5, 'n_estimators': 100}\n",
      "0.961 (+/-0.047) for {'colsample_bytree': 0.7, 'learning_rate': 0.001, 'max_depth': 7, 'n_estimators': 50}\n",
      "0.961 (+/-0.047) for {'colsample_bytree': 0.7, 'learning_rate': 0.001, 'max_depth': 7, 'n_estimators': 75}\n",
      "0.961 (+/-0.047) for {'colsample_bytree': 0.7, 'learning_rate': 0.001, 'max_depth': 7, 'n_estimators': 100}\n",
      "0.921 (+/-0.071) for {'colsample_bytree': 0.7, 'learning_rate': 0.01, 'max_depth': 1, 'n_estimators': 50}\n",
      "0.938 (+/-0.054) for {'colsample_bytree': 0.7, 'learning_rate': 0.01, 'max_depth': 1, 'n_estimators': 75}\n",
      "0.948 (+/-0.066) for {'colsample_bytree': 0.7, 'learning_rate': 0.01, 'max_depth': 1, 'n_estimators': 100}\n",
      "0.960 (+/-0.045) for {'colsample_bytree': 0.7, 'learning_rate': 0.01, 'max_depth': 3, 'n_estimators': 50}\n",
      "0.960 (+/-0.045) for {'colsample_bytree': 0.7, 'learning_rate': 0.01, 'max_depth': 3, 'n_estimators': 75}\n",
      "0.968 (+/-0.035) for {'colsample_bytree': 0.7, 'learning_rate': 0.01, 'max_depth': 3, 'n_estimators': 100}\n",
      "0.963 (+/-0.051) for {'colsample_bytree': 0.7, 'learning_rate': 0.01, 'max_depth': 5, 'n_estimators': 50}\n",
      "0.964 (+/-0.053) for {'colsample_bytree': 0.7, 'learning_rate': 0.01, 'max_depth': 5, 'n_estimators': 75}\n",
      "0.966 (+/-0.050) for {'colsample_bytree': 0.7, 'learning_rate': 0.01, 'max_depth': 5, 'n_estimators': 100}\n",
      "0.963 (+/-0.051) for {'colsample_bytree': 0.7, 'learning_rate': 0.01, 'max_depth': 7, 'n_estimators': 50}\n",
      "0.964 (+/-0.053) for {'colsample_bytree': 0.7, 'learning_rate': 0.01, 'max_depth': 7, 'n_estimators': 75}\n",
      "0.966 (+/-0.050) for {'colsample_bytree': 0.7, 'learning_rate': 0.01, 'max_depth': 7, 'n_estimators': 100}\n",
      "0.959 (+/-0.050) for {'colsample_bytree': 0.7, 'learning_rate': 0.1, 'max_depth': 1, 'n_estimators': 50}\n",
      "0.956 (+/-0.052) for {'colsample_bytree': 0.7, 'learning_rate': 0.1, 'max_depth': 1, 'n_estimators': 75}\n",
      "0.961 (+/-0.052) for {'colsample_bytree': 0.7, 'learning_rate': 0.1, 'max_depth': 1, 'n_estimators': 100}\n",
      "0.971 (+/-0.048) for {'colsample_bytree': 0.7, 'learning_rate': 0.1, 'max_depth': 3, 'n_estimators': 50}\n",
      "0.971 (+/-0.048) for {'colsample_bytree': 0.7, 'learning_rate': 0.1, 'max_depth': 3, 'n_estimators': 75}\n",
      "0.971 (+/-0.048) for {'colsample_bytree': 0.7, 'learning_rate': 0.1, 'max_depth': 3, 'n_estimators': 100}\n",
      "0.972 (+/-0.035) for {'colsample_bytree': 0.7, 'learning_rate': 0.1, 'max_depth': 5, 'n_estimators': 50}\n",
      "0.974 (+/-0.032) for {'colsample_bytree': 0.7, 'learning_rate': 0.1, 'max_depth': 5, 'n_estimators': 75}\n",
      "0.971 (+/-0.048) for {'colsample_bytree': 0.7, 'learning_rate': 0.1, 'max_depth': 5, 'n_estimators': 100}\n",
      "0.974 (+/-0.032) for {'colsample_bytree': 0.7, 'learning_rate': 0.1, 'max_depth': 7, 'n_estimators': 50}\n",
      "0.974 (+/-0.032) for {'colsample_bytree': 0.7, 'learning_rate': 0.1, 'max_depth': 7, 'n_estimators': 75}\n",
      "0.971 (+/-0.048) for {'colsample_bytree': 0.7, 'learning_rate': 0.1, 'max_depth': 7, 'n_estimators': 100}\n",
      "0.959 (+/-0.050) for {'colsample_bytree': 0.7, 'learning_rate': 0.2, 'max_depth': 1, 'n_estimators': 50}\n",
      "0.958 (+/-0.062) for {'colsample_bytree': 0.7, 'learning_rate': 0.2, 'max_depth': 1, 'n_estimators': 75}\n",
      "0.958 (+/-0.062) for {'colsample_bytree': 0.7, 'learning_rate': 0.2, 'max_depth': 1, 'n_estimators': 100}\n",
      "0.971 (+/-0.048) for {'colsample_bytree': 0.7, 'learning_rate': 0.2, 'max_depth': 3, 'n_estimators': 50}\n",
      "0.966 (+/-0.052) for {'colsample_bytree': 0.7, 'learning_rate': 0.2, 'max_depth': 3, 'n_estimators': 75}\n",
      "0.969 (+/-0.048) for {'colsample_bytree': 0.7, 'learning_rate': 0.2, 'max_depth': 3, 'n_estimators': 100}\n",
      "0.971 (+/-0.048) for {'colsample_bytree': 0.7, 'learning_rate': 0.2, 'max_depth': 5, 'n_estimators': 50}\n",
      "0.966 (+/-0.052) for {'colsample_bytree': 0.7, 'learning_rate': 0.2, 'max_depth': 5, 'n_estimators': 75}\n",
      "0.966 (+/-0.052) for {'colsample_bytree': 0.7, 'learning_rate': 0.2, 'max_depth': 5, 'n_estimators': 100}\n",
      "0.971 (+/-0.048) for {'colsample_bytree': 0.7, 'learning_rate': 0.2, 'max_depth': 7, 'n_estimators': 50}\n",
      "0.969 (+/-0.048) for {'colsample_bytree': 0.7, 'learning_rate': 0.2, 'max_depth': 7, 'n_estimators': 75}\n",
      "0.969 (+/-0.048) for {'colsample_bytree': 0.7, 'learning_rate': 0.2, 'max_depth': 7, 'n_estimators': 100}\n",
      "0.958 (+/-0.062) for {'colsample_bytree': 0.7, 'learning_rate': 0.3, 'max_depth': 1, 'n_estimators': 50}\n",
      "0.958 (+/-0.062) for {'colsample_bytree': 0.7, 'learning_rate': 0.3, 'max_depth': 1, 'n_estimators': 75}\n",
      "0.954 (+/-0.076) for {'colsample_bytree': 0.7, 'learning_rate': 0.3, 'max_depth': 1, 'n_estimators': 100}\n",
      "0.969 (+/-0.054) for {'colsample_bytree': 0.7, 'learning_rate': 0.3, 'max_depth': 3, 'n_estimators': 50}\n",
      "0.968 (+/-0.053) for {'colsample_bytree': 0.7, 'learning_rate': 0.3, 'max_depth': 3, 'n_estimators': 75}\n",
      "0.968 (+/-0.053) for {'colsample_bytree': 0.7, 'learning_rate': 0.3, 'max_depth': 3, 'n_estimators': 100}\n",
      "0.966 (+/-0.052) for {'colsample_bytree': 0.7, 'learning_rate': 0.3, 'max_depth': 5, 'n_estimators': 50}\n",
      "0.966 (+/-0.052) for {'colsample_bytree': 0.7, 'learning_rate': 0.3, 'max_depth': 5, 'n_estimators': 75}\n",
      "0.969 (+/-0.048) for {'colsample_bytree': 0.7, 'learning_rate': 0.3, 'max_depth': 5, 'n_estimators': 100}\n",
      "0.971 (+/-0.048) for {'colsample_bytree': 0.7, 'learning_rate': 0.3, 'max_depth': 7, 'n_estimators': 50}\n",
      "0.971 (+/-0.048) for {'colsample_bytree': 0.7, 'learning_rate': 0.3, 'max_depth': 7, 'n_estimators': 75}\n",
      "0.969 (+/-0.048) for {'colsample_bytree': 0.7, 'learning_rate': 0.3, 'max_depth': 7, 'n_estimators': 100}\n",
      "0.919 (+/-0.067) for {'colsample_bytree': 0.8, 'learning_rate': 0.001, 'max_depth': 1, 'n_estimators': 50}\n",
      "0.919 (+/-0.067) for {'colsample_bytree': 0.8, 'learning_rate': 0.001, 'max_depth': 1, 'n_estimators': 75}\n",
      "0.919 (+/-0.067) for {'colsample_bytree': 0.8, 'learning_rate': 0.001, 'max_depth': 1, 'n_estimators': 100}\n",
      "0.960 (+/-0.045) for {'colsample_bytree': 0.8, 'learning_rate': 0.001, 'max_depth': 3, 'n_estimators': 50}\n",
      "0.956 (+/-0.047) for {'colsample_bytree': 0.8, 'learning_rate': 0.001, 'max_depth': 3, 'n_estimators': 75}\n",
      "0.956 (+/-0.047) for {'colsample_bytree': 0.8, 'learning_rate': 0.001, 'max_depth': 3, 'n_estimators': 100}\n",
      "0.964 (+/-0.053) for {'colsample_bytree': 0.8, 'learning_rate': 0.001, 'max_depth': 5, 'n_estimators': 50}\n",
      "0.964 (+/-0.053) for {'colsample_bytree': 0.8, 'learning_rate': 0.001, 'max_depth': 5, 'n_estimators': 75}\n",
      "0.964 (+/-0.053) for {'colsample_bytree': 0.8, 'learning_rate': 0.001, 'max_depth': 5, 'n_estimators': 100}\n",
      "0.964 (+/-0.053) for {'colsample_bytree': 0.8, 'learning_rate': 0.001, 'max_depth': 7, 'n_estimators': 50}\n",
      "0.964 (+/-0.053) for {'colsample_bytree': 0.8, 'learning_rate': 0.001, 'max_depth': 7, 'n_estimators': 75}\n",
      "0.964 (+/-0.053) for {'colsample_bytree': 0.8, 'learning_rate': 0.001, 'max_depth': 7, 'n_estimators': 100}\n",
      "0.921 (+/-0.071) for {'colsample_bytree': 0.8, 'learning_rate': 0.01, 'max_depth': 1, 'n_estimators': 50}\n",
      "0.938 (+/-0.054) for {'colsample_bytree': 0.8, 'learning_rate': 0.01, 'max_depth': 1, 'n_estimators': 75}\n",
      "0.948 (+/-0.066) for {'colsample_bytree': 0.8, 'learning_rate': 0.01, 'max_depth': 1, 'n_estimators': 100}\n",
      "0.956 (+/-0.047) for {'colsample_bytree': 0.8, 'learning_rate': 0.01, 'max_depth': 3, 'n_estimators': 50}\n",
      "0.968 (+/-0.035) for {'colsample_bytree': 0.8, 'learning_rate': 0.01, 'max_depth': 3, 'n_estimators': 75}\n",
      "0.968 (+/-0.035) for {'colsample_bytree': 0.8, 'learning_rate': 0.01, 'max_depth': 3, 'n_estimators': 100}\n",
      "0.963 (+/-0.051) for {'colsample_bytree': 0.8, 'learning_rate': 0.01, 'max_depth': 5, 'n_estimators': 50}\n",
      "0.963 (+/-0.047) for {'colsample_bytree': 0.8, 'learning_rate': 0.01, 'max_depth': 5, 'n_estimators': 75}\n",
      "0.968 (+/-0.035) for {'colsample_bytree': 0.8, 'learning_rate': 0.01, 'max_depth': 5, 'n_estimators': 100}\n",
      "0.963 (+/-0.051) for {'colsample_bytree': 0.8, 'learning_rate': 0.01, 'max_depth': 7, 'n_estimators': 50}\n",
      "0.963 (+/-0.047) for {'colsample_bytree': 0.8, 'learning_rate': 0.01, 'max_depth': 7, 'n_estimators': 75}\n",
      "0.968 (+/-0.035) for {'colsample_bytree': 0.8, 'learning_rate': 0.01, 'max_depth': 7, 'n_estimators': 100}\n",
      "0.956 (+/-0.052) for {'colsample_bytree': 0.8, 'learning_rate': 0.1, 'max_depth': 1, 'n_estimators': 50}\n",
      "0.956 (+/-0.052) for {'colsample_bytree': 0.8, 'learning_rate': 0.1, 'max_depth': 1, 'n_estimators': 75}\n",
      "0.961 (+/-0.052) for {'colsample_bytree': 0.8, 'learning_rate': 0.1, 'max_depth': 1, 'n_estimators': 100}\n",
      "0.969 (+/-0.050) for {'colsample_bytree': 0.8, 'learning_rate': 0.1, 'max_depth': 3, 'n_estimators': 50}\n",
      "0.969 (+/-0.050) for {'colsample_bytree': 0.8, 'learning_rate': 0.1, 'max_depth': 3, 'n_estimators': 75}\n",
      "0.969 (+/-0.050) for {'colsample_bytree': 0.8, 'learning_rate': 0.1, 'max_depth': 3, 'n_estimators': 100}\n",
      "0.971 (+/-0.048) for {'colsample_bytree': 0.8, 'learning_rate': 0.1, 'max_depth': 5, 'n_estimators': 50}\n",
      "0.968 (+/-0.053) for {'colsample_bytree': 0.8, 'learning_rate': 0.1, 'max_depth': 5, 'n_estimators': 75}\n",
      "0.968 (+/-0.053) for {'colsample_bytree': 0.8, 'learning_rate': 0.1, 'max_depth': 5, 'n_estimators': 100}\n",
      "0.974 (+/-0.032) for {'colsample_bytree': 0.8, 'learning_rate': 0.1, 'max_depth': 7, 'n_estimators': 50}\n",
      "0.968 (+/-0.053) for {'colsample_bytree': 0.8, 'learning_rate': 0.1, 'max_depth': 7, 'n_estimators': 75}\n",
      "0.969 (+/-0.036) for {'colsample_bytree': 0.8, 'learning_rate': 0.1, 'max_depth': 7, 'n_estimators': 100}\n",
      "0.959 (+/-0.050) for {'colsample_bytree': 0.8, 'learning_rate': 0.2, 'max_depth': 1, 'n_estimators': 50}\n",
      "0.958 (+/-0.062) for {'colsample_bytree': 0.8, 'learning_rate': 0.2, 'max_depth': 1, 'n_estimators': 75}\n",
      "0.958 (+/-0.062) for {'colsample_bytree': 0.8, 'learning_rate': 0.2, 'max_depth': 1, 'n_estimators': 100}\n",
      "0.968 (+/-0.053) for {'colsample_bytree': 0.8, 'learning_rate': 0.2, 'max_depth': 3, 'n_estimators': 50}\n",
      "0.971 (+/-0.040) for {'colsample_bytree': 0.8, 'learning_rate': 0.2, 'max_depth': 3, 'n_estimators': 75}\n",
      "0.969 (+/-0.039) for {'colsample_bytree': 0.8, 'learning_rate': 0.2, 'max_depth': 3, 'n_estimators': 100}\n",
      "0.971 (+/-0.048) for {'colsample_bytree': 0.8, 'learning_rate': 0.2, 'max_depth': 5, 'n_estimators': 50}\n",
      "0.971 (+/-0.048) for {'colsample_bytree': 0.8, 'learning_rate': 0.2, 'max_depth': 5, 'n_estimators': 75}\n",
      "0.968 (+/-0.044) for {'colsample_bytree': 0.8, 'learning_rate': 0.2, 'max_depth': 5, 'n_estimators': 100}\n",
      "0.972 (+/-0.032) for {'colsample_bytree': 0.8, 'learning_rate': 0.2, 'max_depth': 7, 'n_estimators': 50}\n",
      "0.972 (+/-0.032) for {'colsample_bytree': 0.8, 'learning_rate': 0.2, 'max_depth': 7, 'n_estimators': 75}\n",
      "0.972 (+/-0.032) for {'colsample_bytree': 0.8, 'learning_rate': 0.2, 'max_depth': 7, 'n_estimators': 100}\n",
      "0.958 (+/-0.062) for {'colsample_bytree': 0.8, 'learning_rate': 0.3, 'max_depth': 1, 'n_estimators': 50}\n",
      "0.958 (+/-0.062) for {'colsample_bytree': 0.8, 'learning_rate': 0.3, 'max_depth': 1, 'n_estimators': 75}\n",
      "0.954 (+/-0.076) for {'colsample_bytree': 0.8, 'learning_rate': 0.3, 'max_depth': 1, 'n_estimators': 100}\n",
      "0.968 (+/-0.053) for {'colsample_bytree': 0.8, 'learning_rate': 0.3, 'max_depth': 3, 'n_estimators': 50}\n",
      "0.966 (+/-0.052) for {'colsample_bytree': 0.8, 'learning_rate': 0.3, 'max_depth': 3, 'n_estimators': 75}\n",
      "0.966 (+/-0.052) for {'colsample_bytree': 0.8, 'learning_rate': 0.3, 'max_depth': 3, 'n_estimators': 100}\n",
      "0.969 (+/-0.048) for {'colsample_bytree': 0.8, 'learning_rate': 0.3, 'max_depth': 5, 'n_estimators': 50}\n",
      "0.969 (+/-0.048) for {'colsample_bytree': 0.8, 'learning_rate': 0.3, 'max_depth': 5, 'n_estimators': 75}\n",
      "0.966 (+/-0.048) for {'colsample_bytree': 0.8, 'learning_rate': 0.3, 'max_depth': 5, 'n_estimators': 100}\n",
      "0.971 (+/-0.048) for {'colsample_bytree': 0.8, 'learning_rate': 0.3, 'max_depth': 7, 'n_estimators': 50}\n",
      "0.969 (+/-0.048) for {'colsample_bytree': 0.8, 'learning_rate': 0.3, 'max_depth': 7, 'n_estimators': 75}\n",
      "0.964 (+/-0.044) for {'colsample_bytree': 0.8, 'learning_rate': 0.3, 'max_depth': 7, 'n_estimators': 100}\n",
      "0.921 (+/-0.072) for {'colsample_bytree': 0.9, 'learning_rate': 0.001, 'max_depth': 1, 'n_estimators': 50}\n",
      "0.921 (+/-0.072) for {'colsample_bytree': 0.9, 'learning_rate': 0.001, 'max_depth': 1, 'n_estimators': 75}\n",
      "0.919 (+/-0.067) for {'colsample_bytree': 0.9, 'learning_rate': 0.001, 'max_depth': 1, 'n_estimators': 100}\n",
      "0.950 (+/-0.064) for {'colsample_bytree': 0.9, 'learning_rate': 0.001, 'max_depth': 3, 'n_estimators': 50}\n",
      "0.953 (+/-0.056) for {'colsample_bytree': 0.9, 'learning_rate': 0.001, 'max_depth': 3, 'n_estimators': 75}\n",
      "0.953 (+/-0.056) for {'colsample_bytree': 0.9, 'learning_rate': 0.001, 'max_depth': 3, 'n_estimators': 100}\n",
      "0.956 (+/-0.050) for {'colsample_bytree': 0.9, 'learning_rate': 0.001, 'max_depth': 5, 'n_estimators': 50}\n",
      "0.956 (+/-0.050) for {'colsample_bytree': 0.9, 'learning_rate': 0.001, 'max_depth': 5, 'n_estimators': 75}\n",
      "0.956 (+/-0.050) for {'colsample_bytree': 0.9, 'learning_rate': 0.001, 'max_depth': 5, 'n_estimators': 100}\n",
      "0.956 (+/-0.050) for {'colsample_bytree': 0.9, 'learning_rate': 0.001, 'max_depth': 7, 'n_estimators': 50}\n",
      "0.956 (+/-0.050) for {'colsample_bytree': 0.9, 'learning_rate': 0.001, 'max_depth': 7, 'n_estimators': 75}\n",
      "0.956 (+/-0.050) for {'colsample_bytree': 0.9, 'learning_rate': 0.001, 'max_depth': 7, 'n_estimators': 100}\n",
      "0.921 (+/-0.071) for {'colsample_bytree': 0.9, 'learning_rate': 0.01, 'max_depth': 1, 'n_estimators': 50}\n",
      "0.938 (+/-0.054) for {'colsample_bytree': 0.9, 'learning_rate': 0.01, 'max_depth': 1, 'n_estimators': 75}\n",
      "0.948 (+/-0.066) for {'colsample_bytree': 0.9, 'learning_rate': 0.01, 'max_depth': 1, 'n_estimators': 100}\n",
      "0.955 (+/-0.046) for {'colsample_bytree': 0.9, 'learning_rate': 0.01, 'max_depth': 3, 'n_estimators': 50}\n",
      "0.964 (+/-0.039) for {'colsample_bytree': 0.9, 'learning_rate': 0.01, 'max_depth': 3, 'n_estimators': 75}\n",
      "0.968 (+/-0.035) for {'colsample_bytree': 0.9, 'learning_rate': 0.01, 'max_depth': 3, 'n_estimators': 100}\n",
      "0.958 (+/-0.049) for {'colsample_bytree': 0.9, 'learning_rate': 0.01, 'max_depth': 5, 'n_estimators': 50}\n",
      "0.966 (+/-0.036) for {'colsample_bytree': 0.9, 'learning_rate': 0.01, 'max_depth': 5, 'n_estimators': 75}\n",
      "0.969 (+/-0.033) for {'colsample_bytree': 0.9, 'learning_rate': 0.01, 'max_depth': 5, 'n_estimators': 100}\n",
      "0.958 (+/-0.049) for {'colsample_bytree': 0.9, 'learning_rate': 0.01, 'max_depth': 7, 'n_estimators': 50}\n",
      "0.966 (+/-0.036) for {'colsample_bytree': 0.9, 'learning_rate': 0.01, 'max_depth': 7, 'n_estimators': 75}\n",
      "0.973 (+/-0.025) for {'colsample_bytree': 0.9, 'learning_rate': 0.01, 'max_depth': 7, 'n_estimators': 100}\n",
      "0.959 (+/-0.050) for {'colsample_bytree': 0.9, 'learning_rate': 0.1, 'max_depth': 1, 'n_estimators': 50}\n",
      "0.956 (+/-0.052) for {'colsample_bytree': 0.9, 'learning_rate': 0.1, 'max_depth': 1, 'n_estimators': 75}\n",
      "0.961 (+/-0.052) for {'colsample_bytree': 0.9, 'learning_rate': 0.1, 'max_depth': 1, 'n_estimators': 100}\n",
      "0.969 (+/-0.047) for {'colsample_bytree': 0.9, 'learning_rate': 0.1, 'max_depth': 3, 'n_estimators': 50}\n",
      "0.969 (+/-0.050) for {'colsample_bytree': 0.9, 'learning_rate': 0.1, 'max_depth': 3, 'n_estimators': 75}\n",
      "0.971 (+/-0.048) for {'colsample_bytree': 0.9, 'learning_rate': 0.1, 'max_depth': 3, 'n_estimators': 100}\n",
      "0.971 (+/-0.048) for {'colsample_bytree': 0.9, 'learning_rate': 0.1, 'max_depth': 5, 'n_estimators': 50}\n",
      "0.971 (+/-0.048) for {'colsample_bytree': 0.9, 'learning_rate': 0.1, 'max_depth': 5, 'n_estimators': 75}\n",
      "0.971 (+/-0.048) for {'colsample_bytree': 0.9, 'learning_rate': 0.1, 'max_depth': 5, 'n_estimators': 100}\n",
      "0.971 (+/-0.048) for {'colsample_bytree': 0.9, 'learning_rate': 0.1, 'max_depth': 7, 'n_estimators': 50}\n",
      "0.971 (+/-0.048) for {'colsample_bytree': 0.9, 'learning_rate': 0.1, 'max_depth': 7, 'n_estimators': 75}\n",
      "0.971 (+/-0.048) for {'colsample_bytree': 0.9, 'learning_rate': 0.1, 'max_depth': 7, 'n_estimators': 100}\n",
      "0.959 (+/-0.050) for {'colsample_bytree': 0.9, 'learning_rate': 0.2, 'max_depth': 1, 'n_estimators': 50}\n",
      "0.958 (+/-0.062) for {'colsample_bytree': 0.9, 'learning_rate': 0.2, 'max_depth': 1, 'n_estimators': 75}\n",
      "0.958 (+/-0.062) for {'colsample_bytree': 0.9, 'learning_rate': 0.2, 'max_depth': 1, 'n_estimators': 100}\n",
      "0.969 (+/-0.050) for {'colsample_bytree': 0.9, 'learning_rate': 0.2, 'max_depth': 3, 'n_estimators': 50}\n",
      "0.966 (+/-0.052) for {'colsample_bytree': 0.9, 'learning_rate': 0.2, 'max_depth': 3, 'n_estimators': 75}\n",
      "0.966 (+/-0.052) for {'colsample_bytree': 0.9, 'learning_rate': 0.2, 'max_depth': 3, 'n_estimators': 100}\n",
      "0.971 (+/-0.048) for {'colsample_bytree': 0.9, 'learning_rate': 0.2, 'max_depth': 5, 'n_estimators': 50}\n",
      "0.971 (+/-0.048) for {'colsample_bytree': 0.9, 'learning_rate': 0.2, 'max_depth': 5, 'n_estimators': 75}\n",
      "0.969 (+/-0.048) for {'colsample_bytree': 0.9, 'learning_rate': 0.2, 'max_depth': 5, 'n_estimators': 100}\n",
      "0.971 (+/-0.048) for {'colsample_bytree': 0.9, 'learning_rate': 0.2, 'max_depth': 7, 'n_estimators': 50}\n",
      "0.969 (+/-0.048) for {'colsample_bytree': 0.9, 'learning_rate': 0.2, 'max_depth': 7, 'n_estimators': 75}\n",
      "0.969 (+/-0.048) for {'colsample_bytree': 0.9, 'learning_rate': 0.2, 'max_depth': 7, 'n_estimators': 100}\n",
      "0.958 (+/-0.062) for {'colsample_bytree': 0.9, 'learning_rate': 0.3, 'max_depth': 1, 'n_estimators': 50}\n",
      "0.961 (+/-0.067) for {'colsample_bytree': 0.9, 'learning_rate': 0.3, 'max_depth': 1, 'n_estimators': 75}\n",
      "0.958 (+/-0.062) for {'colsample_bytree': 0.9, 'learning_rate': 0.3, 'max_depth': 1, 'n_estimators': 100}\n",
      "0.968 (+/-0.053) for {'colsample_bytree': 0.9, 'learning_rate': 0.3, 'max_depth': 3, 'n_estimators': 50}\n",
      "0.966 (+/-0.052) for {'colsample_bytree': 0.9, 'learning_rate': 0.3, 'max_depth': 3, 'n_estimators': 75}\n",
      "0.966 (+/-0.052) for {'colsample_bytree': 0.9, 'learning_rate': 0.3, 'max_depth': 3, 'n_estimators': 100}\n",
      "0.961 (+/-0.047) for {'colsample_bytree': 0.9, 'learning_rate': 0.3, 'max_depth': 5, 'n_estimators': 50}\n",
      "0.961 (+/-0.047) for {'colsample_bytree': 0.9, 'learning_rate': 0.3, 'max_depth': 5, 'n_estimators': 75}\n",
      "0.961 (+/-0.047) for {'colsample_bytree': 0.9, 'learning_rate': 0.3, 'max_depth': 5, 'n_estimators': 100}\n",
      "0.966 (+/-0.052) for {'colsample_bytree': 0.9, 'learning_rate': 0.3, 'max_depth': 7, 'n_estimators': 50}\n",
      "0.961 (+/-0.047) for {'colsample_bytree': 0.9, 'learning_rate': 0.3, 'max_depth': 7, 'n_estimators': 75}\n",
      "0.961 (+/-0.047) for {'colsample_bytree': 0.9, 'learning_rate': 0.3, 'max_depth': 7, 'n_estimators': 100}\n",
      "\n",
      "Detailed classification report:\n",
      "\n",
      "The model is trained on the full development set.\n",
      "The scores are computed on the full evaluation set.\n",
      "\n",
      "             precision    recall  f1-score   support\n",
      "\n",
      "          2       0.95      0.99      0.97       142\n",
      "          4       0.97      0.92      0.94        84\n",
      "\n",
      "avg / total       0.96      0.96      0.96       226\n",
      "\n",
      "\n"
     ]
    }
   ],
   "source": [
    "print(__doc__)\n",
    "\n",
    "# Loading the Digits dataset\n",
    "#digits = datasets.load_digits()\n",
    "\n",
    "# To apply an classifier on this data, we need to flatten the image, to\n",
    "# turn the data in a (samples, feature) matrix:\n",
    "n_samples = len(df)\n",
    "\n",
    "\n",
    "# Set the parameters by cross-validation\n",
    "\n",
    "tuned_parameters = [{'max_depth': [1,3, 5, 7], 'n_estimators': [50,75,100],\n",
    "                     'learning_rate': [0.001, 0.01, 0.1, 0.2, 0.3],\n",
    "                     'colsample_bytree':[i/10.0 for i in range(6,10)]},]\n",
    "params_fixed = {\n",
    "    'objective': 'binary:logistic',\n",
    "    'silent': 1\n",
    "}\n",
    "scores = ['recall']\n",
    "\n",
    "for score in scores:\n",
    "    print(\"# Tuning hyper-parameters for %s\" % score)\n",
    "    print()\n",
    "\n",
    "    clf = GridSearchCV(estimator=XGBClassifier(**params_fixed, seed=random_state),\n",
    "    param_grid=tuned_parameters, cv=cv, scoring='%s_macro' % score)\n",
    "    clf.fit(X_train, y_train)\n",
    "\n",
    "    print(\"Best parameters set found on development set:\")\n",
    "    print()\n",
    "    print(clf.best_params_)\n",
    "    print()\n",
    "    print(\"Grid scores on development set:\")\n",
    "    print()\n",
    "    means = clf.cv_results_['mean_test_score']\n",
    "    stds = clf.cv_results_['std_test_score']\n",
    "    for mean, std, params in zip(means, stds, clf.cv_results_['params']):\n",
    "        print(\"%0.3f (+/-%0.03f) for %r\"\n",
    "              % (mean, std * 2, params))\n",
    "    print()\n",
    "\n",
    "    print(\"Detailed classification report:\")\n",
    "    print()\n",
    "    print(\"The model is trained on the full development set.\")\n",
    "    print(\"The scores are computed on the full evaluation set.\")\n",
    "    print()\n",
    "    y_true, y_pred = y_test, clf.predict(X_test)\n",
    "    print(classification_report(y_true, y_pred))\n",
    "    print()"
   ]
  },
  {
   "cell_type": "code",
   "execution_count": 17,
   "metadata": {
    "collapsed": false
   },
   "outputs": [
    {
     "name": "stderr",
     "output_type": "stream",
     "text": [
      "C:\\Users\\Annisa\\Anaconda3\\lib\\site-packages\\sklearn\\model_selection\\_search.py:667: DeprecationWarning: The grid_scores_ attribute was deprecated in version 0.18 in favor of the more elaborate cv_results_ attribute. The grid_scores_ attribute will not be available from 0.20\n",
      "  DeprecationWarning)\n"
     ]
    },
    {
     "data": {
      "text/plain": [
       "[mean: 0.91903, std: 0.03380, params: {'colsample_bytree': 0.6, 'learning_rate': 0.001, 'max_depth': 1, 'n_estimators': 50},\n",
       " mean: 0.92067, std: 0.03641, params: {'colsample_bytree': 0.6, 'learning_rate': 0.001, 'max_depth': 1, 'n_estimators': 75},\n",
       " mean: 0.91903, std: 0.03380, params: {'colsample_bytree': 0.6, 'learning_rate': 0.001, 'max_depth': 1, 'n_estimators': 100},\n",
       " mean: 0.96273, std: 0.01610, params: {'colsample_bytree': 0.6, 'learning_rate': 0.001, 'max_depth': 3, 'n_estimators': 50},\n",
       " mean: 0.95952, std: 0.02248, params: {'colsample_bytree': 0.6, 'learning_rate': 0.001, 'max_depth': 3, 'n_estimators': 75},\n",
       " mean: 0.95952, std: 0.02248, params: {'colsample_bytree': 0.6, 'learning_rate': 0.001, 'max_depth': 3, 'n_estimators': 100},\n",
       " mean: 0.96266, std: 0.02549, params: {'colsample_bytree': 0.6, 'learning_rate': 0.001, 'max_depth': 5, 'n_estimators': 50},\n",
       " mean: 0.96432, std: 0.02625, params: {'colsample_bytree': 0.6, 'learning_rate': 0.001, 'max_depth': 5, 'n_estimators': 75},\n",
       " mean: 0.96117, std: 0.02355, params: {'colsample_bytree': 0.6, 'learning_rate': 0.001, 'max_depth': 5, 'n_estimators': 100},\n",
       " mean: 0.96266, std: 0.02549, params: {'colsample_bytree': 0.6, 'learning_rate': 0.001, 'max_depth': 7, 'n_estimators': 50},\n",
       " mean: 0.96432, std: 0.02625, params: {'colsample_bytree': 0.6, 'learning_rate': 0.001, 'max_depth': 7, 'n_estimators': 75},\n",
       " mean: 0.96117, std: 0.02355, params: {'colsample_bytree': 0.6, 'learning_rate': 0.001, 'max_depth': 7, 'n_estimators': 100},\n",
       " mean: 0.92375, std: 0.03573, params: {'colsample_bytree': 0.6, 'learning_rate': 0.01, 'max_depth': 1, 'n_estimators': 50},\n",
       " mean: 0.93845, std: 0.02717, params: {'colsample_bytree': 0.6, 'learning_rate': 0.01, 'max_depth': 1, 'n_estimators': 75},\n",
       " mean: 0.94823, std: 0.03323, params: {'colsample_bytree': 0.6, 'learning_rate': 0.01, 'max_depth': 1, 'n_estimators': 100},\n",
       " mean: 0.95787, std: 0.02252, params: {'colsample_bytree': 0.6, 'learning_rate': 0.01, 'max_depth': 3, 'n_estimators': 50},\n",
       " mean: 0.96758, std: 0.02629, params: {'colsample_bytree': 0.6, 'learning_rate': 0.01, 'max_depth': 3, 'n_estimators': 75},\n",
       " mean: 0.96437, std: 0.02279, params: {'colsample_bytree': 0.6, 'learning_rate': 0.01, 'max_depth': 3, 'n_estimators': 100},\n",
       " mean: 0.96430, std: 0.02401, params: {'colsample_bytree': 0.6, 'learning_rate': 0.01, 'max_depth': 5, 'n_estimators': 50},\n",
       " mean: 0.96596, std: 0.02471, params: {'colsample_bytree': 0.6, 'learning_rate': 0.01, 'max_depth': 5, 'n_estimators': 75},\n",
       " mean: 0.96911, std: 0.02471, params: {'colsample_bytree': 0.6, 'learning_rate': 0.01, 'max_depth': 5, 'n_estimators': 100},\n",
       " mean: 0.96430, std: 0.02401, params: {'colsample_bytree': 0.6, 'learning_rate': 0.01, 'max_depth': 7, 'n_estimators': 50},\n",
       " mean: 0.96596, std: 0.02471, params: {'colsample_bytree': 0.6, 'learning_rate': 0.01, 'max_depth': 7, 'n_estimators': 75},\n",
       " mean: 0.96911, std: 0.02471, params: {'colsample_bytree': 0.6, 'learning_rate': 0.01, 'max_depth': 7, 'n_estimators': 100},\n",
       " mean: 0.95938, std: 0.02490, params: {'colsample_bytree': 0.6, 'learning_rate': 0.1, 'max_depth': 1, 'n_estimators': 50},\n",
       " mean: 0.95610, std: 0.02592, params: {'colsample_bytree': 0.6, 'learning_rate': 0.1, 'max_depth': 1, 'n_estimators': 75},\n",
       " mean: 0.95775, std: 0.02707, params: {'colsample_bytree': 0.6, 'learning_rate': 0.1, 'max_depth': 1, 'n_estimators': 100},\n",
       " mean: 0.97088, std: 0.02388, params: {'colsample_bytree': 0.6, 'learning_rate': 0.1, 'max_depth': 3, 'n_estimators': 50},\n",
       " mean: 0.97088, std: 0.02388, params: {'colsample_bytree': 0.6, 'learning_rate': 0.1, 'max_depth': 3, 'n_estimators': 75},\n",
       " mean: 0.96596, std: 0.02594, params: {'colsample_bytree': 0.6, 'learning_rate': 0.1, 'max_depth': 3, 'n_estimators': 100},\n",
       " mean: 0.97088, std: 0.02388, params: {'colsample_bytree': 0.6, 'learning_rate': 0.1, 'max_depth': 5, 'n_estimators': 50},\n",
       " mean: 0.97088, std: 0.02388, params: {'colsample_bytree': 0.6, 'learning_rate': 0.1, 'max_depth': 5, 'n_estimators': 75},\n",
       " mean: 0.97088, std: 0.02388, params: {'colsample_bytree': 0.6, 'learning_rate': 0.1, 'max_depth': 5, 'n_estimators': 100},\n",
       " mean: 0.97088, std: 0.02388, params: {'colsample_bytree': 0.6, 'learning_rate': 0.1, 'max_depth': 7, 'n_estimators': 50},\n",
       " mean: 0.97088, std: 0.02388, params: {'colsample_bytree': 0.6, 'learning_rate': 0.1, 'max_depth': 7, 'n_estimators': 75},\n",
       " mean: 0.97088, std: 0.02388, params: {'colsample_bytree': 0.6, 'learning_rate': 0.1, 'max_depth': 7, 'n_estimators': 100},\n",
       " mean: 0.96104, std: 0.02588, params: {'colsample_bytree': 0.6, 'learning_rate': 0.2, 'max_depth': 1, 'n_estimators': 50},\n",
       " mean: 0.95775, std: 0.03090, params: {'colsample_bytree': 0.6, 'learning_rate': 0.2, 'max_depth': 1, 'n_estimators': 75},\n",
       " mean: 0.95775, std: 0.03090, params: {'colsample_bytree': 0.6, 'learning_rate': 0.2, 'max_depth': 1, 'n_estimators': 100},\n",
       " mean: 0.96924, std: 0.02234, params: {'colsample_bytree': 0.6, 'learning_rate': 0.2, 'max_depth': 3, 'n_estimators': 50},\n",
       " mean: 0.96924, std: 0.02234, params: {'colsample_bytree': 0.6, 'learning_rate': 0.2, 'max_depth': 3, 'n_estimators': 75},\n",
       " mean: 0.96760, std: 0.02185, params: {'colsample_bytree': 0.6, 'learning_rate': 0.2, 'max_depth': 3, 'n_estimators': 100},\n",
       " mean: 0.96596, std: 0.02485, params: {'colsample_bytree': 0.6, 'learning_rate': 0.2, 'max_depth': 5, 'n_estimators': 50},\n",
       " mean: 0.96924, std: 0.02234, params: {'colsample_bytree': 0.6, 'learning_rate': 0.2, 'max_depth': 5, 'n_estimators': 75},\n",
       " mean: 0.96432, std: 0.02419, params: {'colsample_bytree': 0.6, 'learning_rate': 0.2, 'max_depth': 5, 'n_estimators': 100},\n",
       " mean: 0.96924, std: 0.02234, params: {'colsample_bytree': 0.6, 'learning_rate': 0.2, 'max_depth': 7, 'n_estimators': 50},\n",
       " mean: 0.96924, std: 0.02234, params: {'colsample_bytree': 0.6, 'learning_rate': 0.2, 'max_depth': 7, 'n_estimators': 75},\n",
       " mean: 0.96760, std: 0.02185, params: {'colsample_bytree': 0.6, 'learning_rate': 0.2, 'max_depth': 7, 'n_estimators': 100},\n",
       " mean: 0.95775, std: 0.03090, params: {'colsample_bytree': 0.6, 'learning_rate': 0.3, 'max_depth': 1, 'n_estimators': 50},\n",
       " mean: 0.95775, std: 0.03090, params: {'colsample_bytree': 0.6, 'learning_rate': 0.3, 'max_depth': 1, 'n_estimators': 75},\n",
       " mean: 0.95447, std: 0.03795, params: {'colsample_bytree': 0.6, 'learning_rate': 0.3, 'max_depth': 1, 'n_estimators': 100},\n",
       " mean: 0.96268, std: 0.03149, params: {'colsample_bytree': 0.6, 'learning_rate': 0.3, 'max_depth': 3, 'n_estimators': 50},\n",
       " mean: 0.96268, std: 0.02565, params: {'colsample_bytree': 0.6, 'learning_rate': 0.3, 'max_depth': 3, 'n_estimators': 75},\n",
       " mean: 0.96268, std: 0.02565, params: {'colsample_bytree': 0.6, 'learning_rate': 0.3, 'max_depth': 3, 'n_estimators': 100},\n",
       " mean: 0.96432, std: 0.02419, params: {'colsample_bytree': 0.6, 'learning_rate': 0.3, 'max_depth': 5, 'n_estimators': 50},\n",
       " mean: 0.96432, std: 0.02419, params: {'colsample_bytree': 0.6, 'learning_rate': 0.3, 'max_depth': 5, 'n_estimators': 75},\n",
       " mean: 0.96432, std: 0.02419, params: {'colsample_bytree': 0.6, 'learning_rate': 0.3, 'max_depth': 5, 'n_estimators': 100},\n",
       " mean: 0.96760, std: 0.02185, params: {'colsample_bytree': 0.6, 'learning_rate': 0.3, 'max_depth': 7, 'n_estimators': 50},\n",
       " mean: 0.96760, std: 0.02185, params: {'colsample_bytree': 0.6, 'learning_rate': 0.3, 'max_depth': 7, 'n_estimators': 75},\n",
       " mean: 0.96760, std: 0.02185, params: {'colsample_bytree': 0.6, 'learning_rate': 0.3, 'max_depth': 7, 'n_estimators': 100},\n",
       " mean: 0.91903, std: 0.03380, params: {'colsample_bytree': 0.7, 'learning_rate': 0.001, 'max_depth': 1, 'n_estimators': 50},\n",
       " mean: 0.91903, std: 0.03380, params: {'colsample_bytree': 0.7, 'learning_rate': 0.001, 'max_depth': 1, 'n_estimators': 75},\n",
       " mean: 0.91903, std: 0.03380, params: {'colsample_bytree': 0.7, 'learning_rate': 0.001, 'max_depth': 1, 'n_estimators': 100},\n",
       " mean: 0.95952, std: 0.02248, params: {'colsample_bytree': 0.7, 'learning_rate': 0.001, 'max_depth': 3, 'n_estimators': 50},\n",
       " mean: 0.95623, std: 0.02364, params: {'colsample_bytree': 0.7, 'learning_rate': 0.001, 'max_depth': 3, 'n_estimators': 75},\n",
       " mean: 0.95952, std: 0.02248, params: {'colsample_bytree': 0.7, 'learning_rate': 0.001, 'max_depth': 3, 'n_estimators': 100},\n",
       " mean: 0.96117, std: 0.02355, params: {'colsample_bytree': 0.7, 'learning_rate': 0.001, 'max_depth': 5, 'n_estimators': 50},\n",
       " mean: 0.96117, std: 0.02355, params: {'colsample_bytree': 0.7, 'learning_rate': 0.001, 'max_depth': 5, 'n_estimators': 75},\n",
       " mean: 0.96117, std: 0.02355, params: {'colsample_bytree': 0.7, 'learning_rate': 0.001, 'max_depth': 5, 'n_estimators': 100},\n",
       " mean: 0.96117, std: 0.02355, params: {'colsample_bytree': 0.7, 'learning_rate': 0.001, 'max_depth': 7, 'n_estimators': 50},\n",
       " mean: 0.96117, std: 0.02355, params: {'colsample_bytree': 0.7, 'learning_rate': 0.001, 'max_depth': 7, 'n_estimators': 75},\n",
       " mean: 0.96117, std: 0.02355, params: {'colsample_bytree': 0.7, 'learning_rate': 0.001, 'max_depth': 7, 'n_estimators': 100},\n",
       " mean: 0.92054, std: 0.03574, params: {'colsample_bytree': 0.7, 'learning_rate': 0.01, 'max_depth': 1, 'n_estimators': 50},\n",
       " mean: 0.93845, std: 0.02717, params: {'colsample_bytree': 0.7, 'learning_rate': 0.01, 'max_depth': 1, 'n_estimators': 75},\n",
       " mean: 0.94823, std: 0.03323, params: {'colsample_bytree': 0.7, 'learning_rate': 0.01, 'max_depth': 1, 'n_estimators': 100},\n",
       " mean: 0.95952, std: 0.02248, params: {'colsample_bytree': 0.7, 'learning_rate': 0.01, 'max_depth': 3, 'n_estimators': 50},\n",
       " mean: 0.95952, std: 0.02248, params: {'colsample_bytree': 0.7, 'learning_rate': 0.01, 'max_depth': 3, 'n_estimators': 75},\n",
       " mean: 0.96765, std: 0.01733, params: {'colsample_bytree': 0.7, 'learning_rate': 0.01, 'max_depth': 3, 'n_estimators': 100},\n",
       " mean: 0.96280, std: 0.02553, params: {'colsample_bytree': 0.7, 'learning_rate': 0.01, 'max_depth': 5, 'n_estimators': 50},\n",
       " mean: 0.96446, std: 0.02628, params: {'colsample_bytree': 0.7, 'learning_rate': 0.01, 'max_depth': 5, 'n_estimators': 75},\n",
       " mean: 0.96610, std: 0.02472, params: {'colsample_bytree': 0.7, 'learning_rate': 0.01, 'max_depth': 5, 'n_estimators': 100},\n",
       " mean: 0.96280, std: 0.02553, params: {'colsample_bytree': 0.7, 'learning_rate': 0.01, 'max_depth': 7, 'n_estimators': 50},\n",
       " mean: 0.96446, std: 0.02628, params: {'colsample_bytree': 0.7, 'learning_rate': 0.01, 'max_depth': 7, 'n_estimators': 75},\n",
       " mean: 0.96610, std: 0.02472, params: {'colsample_bytree': 0.7, 'learning_rate': 0.01, 'max_depth': 7, 'n_estimators': 100},\n",
       " mean: 0.95938, std: 0.02490, params: {'colsample_bytree': 0.7, 'learning_rate': 0.1, 'max_depth': 1, 'n_estimators': 50},\n",
       " mean: 0.95610, std: 0.02592, params: {'colsample_bytree': 0.7, 'learning_rate': 0.1, 'max_depth': 1, 'n_estimators': 75},\n",
       " mean: 0.96104, std: 0.02588, params: {'colsample_bytree': 0.7, 'learning_rate': 0.1, 'max_depth': 1, 'n_estimators': 100},\n",
       " mean: 0.97088, std: 0.02388, params: {'colsample_bytree': 0.7, 'learning_rate': 0.1, 'max_depth': 3, 'n_estimators': 50},\n",
       " mean: 0.97088, std: 0.02388, params: {'colsample_bytree': 0.7, 'learning_rate': 0.1, 'max_depth': 3, 'n_estimators': 75},\n",
       " mean: 0.97088, std: 0.02388, params: {'colsample_bytree': 0.7, 'learning_rate': 0.1, 'max_depth': 3, 'n_estimators': 100},\n",
       " mean: 0.97246, std: 0.01741, params: {'colsample_bytree': 0.7, 'learning_rate': 0.1, 'max_depth': 5, 'n_estimators': 50},\n",
       " mean: 0.97410, std: 0.01590, params: {'colsample_bytree': 0.7, 'learning_rate': 0.1, 'max_depth': 5, 'n_estimators': 75},\n",
       " mean: 0.97088, std: 0.02388, params: {'colsample_bytree': 0.7, 'learning_rate': 0.1, 'max_depth': 5, 'n_estimators': 100},\n",
       " mean: 0.97410, std: 0.01590, params: {'colsample_bytree': 0.7, 'learning_rate': 0.1, 'max_depth': 7, 'n_estimators': 50},\n",
       " mean: 0.97410, std: 0.01590, params: {'colsample_bytree': 0.7, 'learning_rate': 0.1, 'max_depth': 7, 'n_estimators': 75},\n",
       " mean: 0.97088, std: 0.02388, params: {'colsample_bytree': 0.7, 'learning_rate': 0.1, 'max_depth': 7, 'n_estimators': 100},\n",
       " mean: 0.95938, std: 0.02490, params: {'colsample_bytree': 0.7, 'learning_rate': 0.2, 'max_depth': 1, 'n_estimators': 50},\n",
       " mean: 0.95775, std: 0.03090, params: {'colsample_bytree': 0.7, 'learning_rate': 0.2, 'max_depth': 1, 'n_estimators': 75},\n",
       " mean: 0.95775, std: 0.03090, params: {'colsample_bytree': 0.7, 'learning_rate': 0.2, 'max_depth': 1, 'n_estimators': 100},\n",
       " mean: 0.97088, std: 0.02388, params: {'colsample_bytree': 0.7, 'learning_rate': 0.2, 'max_depth': 3, 'n_estimators': 50},\n",
       " mean: 0.96596, std: 0.02594, params: {'colsample_bytree': 0.7, 'learning_rate': 0.2, 'max_depth': 3, 'n_estimators': 75},\n",
       " mean: 0.96924, std: 0.02355, params: {'colsample_bytree': 0.7, 'learning_rate': 0.2, 'max_depth': 3, 'n_estimators': 100},\n",
       " mean: 0.97088, std: 0.02388, params: {'colsample_bytree': 0.7, 'learning_rate': 0.2, 'max_depth': 5, 'n_estimators': 50},\n",
       " mean: 0.96596, std: 0.02594, params: {'colsample_bytree': 0.7, 'learning_rate': 0.2, 'max_depth': 5, 'n_estimators': 75},\n",
       " mean: 0.96596, std: 0.02594, params: {'colsample_bytree': 0.7, 'learning_rate': 0.2, 'max_depth': 5, 'n_estimators': 100},\n",
       " mean: 0.97088, std: 0.02388, params: {'colsample_bytree': 0.7, 'learning_rate': 0.2, 'max_depth': 7, 'n_estimators': 50},\n",
       " mean: 0.96924, std: 0.02355, params: {'colsample_bytree': 0.7, 'learning_rate': 0.2, 'max_depth': 7, 'n_estimators': 75},\n",
       " mean: 0.96924, std: 0.02355, params: {'colsample_bytree': 0.7, 'learning_rate': 0.2, 'max_depth': 7, 'n_estimators': 100},\n",
       " mean: 0.95775, std: 0.03090, params: {'colsample_bytree': 0.7, 'learning_rate': 0.3, 'max_depth': 1, 'n_estimators': 50},\n",
       " mean: 0.95775, std: 0.03090, params: {'colsample_bytree': 0.7, 'learning_rate': 0.3, 'max_depth': 1, 'n_estimators': 75},\n",
       " mean: 0.95447, std: 0.03795, params: {'colsample_bytree': 0.7, 'learning_rate': 0.3, 'max_depth': 1, 'n_estimators': 100},\n",
       " mean: 0.96924, std: 0.02685, params: {'colsample_bytree': 0.7, 'learning_rate': 0.3, 'max_depth': 3, 'n_estimators': 50},\n",
       " mean: 0.96760, std: 0.02645, params: {'colsample_bytree': 0.7, 'learning_rate': 0.3, 'max_depth': 3, 'n_estimators': 75},\n",
       " mean: 0.96760, std: 0.02645, params: {'colsample_bytree': 0.7, 'learning_rate': 0.3, 'max_depth': 3, 'n_estimators': 100},\n",
       " mean: 0.96596, std: 0.02594, params: {'colsample_bytree': 0.7, 'learning_rate': 0.3, 'max_depth': 5, 'n_estimators': 50},\n",
       " mean: 0.96596, std: 0.02594, params: {'colsample_bytree': 0.7, 'learning_rate': 0.3, 'max_depth': 5, 'n_estimators': 75},\n",
       " mean: 0.96924, std: 0.02355, params: {'colsample_bytree': 0.7, 'learning_rate': 0.3, 'max_depth': 5, 'n_estimators': 100},\n",
       " mean: 0.97088, std: 0.02388, params: {'colsample_bytree': 0.7, 'learning_rate': 0.3, 'max_depth': 7, 'n_estimators': 50},\n",
       " mean: 0.97088, std: 0.02388, params: {'colsample_bytree': 0.7, 'learning_rate': 0.3, 'max_depth': 7, 'n_estimators': 75},\n",
       " mean: 0.96924, std: 0.02355, params: {'colsample_bytree': 0.7, 'learning_rate': 0.3, 'max_depth': 7, 'n_estimators': 100},\n",
       " mean: 0.91903, std: 0.03380, params: {'colsample_bytree': 0.8, 'learning_rate': 0.001, 'max_depth': 1, 'n_estimators': 50},\n",
       " mean: 0.91903, std: 0.03380, params: {'colsample_bytree': 0.8, 'learning_rate': 0.001, 'max_depth': 1, 'n_estimators': 75},\n",
       " mean: 0.91903, std: 0.03380, params: {'colsample_bytree': 0.8, 'learning_rate': 0.001, 'max_depth': 1, 'n_estimators': 100},\n",
       " mean: 0.95952, std: 0.02248, params: {'colsample_bytree': 0.8, 'learning_rate': 0.001, 'max_depth': 3, 'n_estimators': 50},\n",
       " mean: 0.95623, std: 0.02364, params: {'colsample_bytree': 0.8, 'learning_rate': 0.001, 'max_depth': 3, 'n_estimators': 75},\n",
       " mean: 0.95623, std: 0.02364, params: {'colsample_bytree': 0.8, 'learning_rate': 0.001, 'max_depth': 3, 'n_estimators': 100},\n",
       " mean: 0.96446, std: 0.02628, params: {'colsample_bytree': 0.8, 'learning_rate': 0.001, 'max_depth': 5, 'n_estimators': 50},\n",
       " mean: 0.96446, std: 0.02628, params: {'colsample_bytree': 0.8, 'learning_rate': 0.001, 'max_depth': 5, 'n_estimators': 75},\n",
       " mean: 0.96446, std: 0.02628, params: {'colsample_bytree': 0.8, 'learning_rate': 0.001, 'max_depth': 5, 'n_estimators': 100},\n",
       " mean: 0.96446, std: 0.02628, params: {'colsample_bytree': 0.8, 'learning_rate': 0.001, 'max_depth': 7, 'n_estimators': 50},\n",
       " mean: 0.96446, std: 0.02628, params: {'colsample_bytree': 0.8, 'learning_rate': 0.001, 'max_depth': 7, 'n_estimators': 75},\n",
       " mean: 0.96446, std: 0.02628, params: {'colsample_bytree': 0.8, 'learning_rate': 0.001, 'max_depth': 7, 'n_estimators': 100},\n",
       " mean: 0.92054, std: 0.03574, params: {'colsample_bytree': 0.8, 'learning_rate': 0.01, 'max_depth': 1, 'n_estimators': 50},\n",
       " mean: 0.93845, std: 0.02717, params: {'colsample_bytree': 0.8, 'learning_rate': 0.01, 'max_depth': 1, 'n_estimators': 75},\n",
       " mean: 0.94823, std: 0.03323, params: {'colsample_bytree': 0.8, 'learning_rate': 0.01, 'max_depth': 1, 'n_estimators': 100},\n",
       " mean: 0.95623, std: 0.02364, params: {'colsample_bytree': 0.8, 'learning_rate': 0.01, 'max_depth': 3, 'n_estimators': 50},\n",
       " mean: 0.96765, std: 0.01733, params: {'colsample_bytree': 0.8, 'learning_rate': 0.01, 'max_depth': 3, 'n_estimators': 75},\n",
       " mean: 0.96765, std: 0.01733, params: {'colsample_bytree': 0.8, 'learning_rate': 0.01, 'max_depth': 3, 'n_estimators': 100},\n",
       " mean: 0.96280, std: 0.02553, params: {'colsample_bytree': 0.8, 'learning_rate': 0.01, 'max_depth': 5, 'n_estimators': 50},\n",
       " mean: 0.96280, std: 0.02325, params: {'colsample_bytree': 0.8, 'learning_rate': 0.01, 'max_depth': 5, 'n_estimators': 75},\n",
       " mean: 0.96765, std: 0.01733, params: {'colsample_bytree': 0.8, 'learning_rate': 0.01, 'max_depth': 5, 'n_estimators': 100},\n",
       " mean: 0.96280, std: 0.02553, params: {'colsample_bytree': 0.8, 'learning_rate': 0.01, 'max_depth': 7, 'n_estimators': 50},\n",
       " mean: 0.96280, std: 0.02325, params: {'colsample_bytree': 0.8, 'learning_rate': 0.01, 'max_depth': 7, 'n_estimators': 75},\n",
       " mean: 0.96765, std: 0.01733, params: {'colsample_bytree': 0.8, 'learning_rate': 0.01, 'max_depth': 7, 'n_estimators': 100},\n",
       " mean: 0.95610, std: 0.02592, params: {'colsample_bytree': 0.8, 'learning_rate': 0.1, 'max_depth': 1, 'n_estimators': 50},\n",
       " mean: 0.95610, std: 0.02592, params: {'colsample_bytree': 0.8, 'learning_rate': 0.1, 'max_depth': 1, 'n_estimators': 75},\n",
       " mean: 0.96104, std: 0.02588, params: {'colsample_bytree': 0.8, 'learning_rate': 0.1, 'max_depth': 1, 'n_estimators': 100},\n",
       " mean: 0.96921, std: 0.02456, params: {'colsample_bytree': 0.8, 'learning_rate': 0.1, 'max_depth': 3, 'n_estimators': 50},\n",
       " mean: 0.96921, std: 0.02456, params: {'colsample_bytree': 0.8, 'learning_rate': 0.1, 'max_depth': 3, 'n_estimators': 75},\n",
       " mean: 0.96921, std: 0.02456, params: {'colsample_bytree': 0.8, 'learning_rate': 0.1, 'max_depth': 3, 'n_estimators': 100},\n",
       " mean: 0.97088, std: 0.02388, params: {'colsample_bytree': 0.8, 'learning_rate': 0.1, 'max_depth': 5, 'n_estimators': 50},\n",
       " mean: 0.96760, std: 0.02645, params: {'colsample_bytree': 0.8, 'learning_rate': 0.1, 'max_depth': 5, 'n_estimators': 75},\n",
       " mean: 0.96760, std: 0.02645, params: {'colsample_bytree': 0.8, 'learning_rate': 0.1, 'max_depth': 5, 'n_estimators': 100},\n",
       " mean: 0.97410, std: 0.01590, params: {'colsample_bytree': 0.8, 'learning_rate': 0.1, 'max_depth': 7, 'n_estimators': 50},\n",
       " mean: 0.96760, std: 0.02645, params: {'colsample_bytree': 0.8, 'learning_rate': 0.1, 'max_depth': 7, 'n_estimators': 75},\n",
       " mean: 0.96917, std: 0.01820, params: {'colsample_bytree': 0.8, 'learning_rate': 0.1, 'max_depth': 7, 'n_estimators': 100},\n",
       " mean: 0.95938, std: 0.02490, params: {'colsample_bytree': 0.8, 'learning_rate': 0.2, 'max_depth': 1, 'n_estimators': 50},\n",
       " mean: 0.95775, std: 0.03090, params: {'colsample_bytree': 0.8, 'learning_rate': 0.2, 'max_depth': 1, 'n_estimators': 75},\n",
       " mean: 0.95775, std: 0.03090, params: {'colsample_bytree': 0.8, 'learning_rate': 0.2, 'max_depth': 1, 'n_estimators': 100},\n",
       " mean: 0.96760, std: 0.02645, params: {'colsample_bytree': 0.8, 'learning_rate': 0.2, 'max_depth': 3, 'n_estimators': 50},\n",
       " mean: 0.97082, std: 0.02008, params: {'colsample_bytree': 0.8, 'learning_rate': 0.2, 'max_depth': 3, 'n_estimators': 75},\n",
       " mean: 0.96917, std: 0.01967, params: {'colsample_bytree': 0.8, 'learning_rate': 0.2, 'max_depth': 3, 'n_estimators': 100},\n",
       " mean: 0.97088, std: 0.02388, params: {'colsample_bytree': 0.8, 'learning_rate': 0.2, 'max_depth': 5, 'n_estimators': 50},\n",
       " mean: 0.97088, std: 0.02388, params: {'colsample_bytree': 0.8, 'learning_rate': 0.2, 'max_depth': 5, 'n_estimators': 75},\n",
       " mean: 0.96760, std: 0.02185, params: {'colsample_bytree': 0.8, 'learning_rate': 0.2, 'max_depth': 5, 'n_estimators': 100},\n",
       " mean: 0.97246, std: 0.01573, params: {'colsample_bytree': 0.8, 'learning_rate': 0.2, 'max_depth': 7, 'n_estimators': 50},\n",
       " mean: 0.97246, std: 0.01573, params: {'colsample_bytree': 0.8, 'learning_rate': 0.2, 'max_depth': 7, 'n_estimators': 75},\n",
       " mean: 0.97246, std: 0.01573, params: {'colsample_bytree': 0.8, 'learning_rate': 0.2, 'max_depth': 7, 'n_estimators': 100},\n",
       " mean: 0.95775, std: 0.03090, params: {'colsample_bytree': 0.8, 'learning_rate': 0.3, 'max_depth': 1, 'n_estimators': 50},\n",
       " mean: 0.95775, std: 0.03090, params: {'colsample_bytree': 0.8, 'learning_rate': 0.3, 'max_depth': 1, 'n_estimators': 75},\n",
       " mean: 0.95447, std: 0.03795, params: {'colsample_bytree': 0.8, 'learning_rate': 0.3, 'max_depth': 1, 'n_estimators': 100},\n",
       " mean: 0.96760, std: 0.02645, params: {'colsample_bytree': 0.8, 'learning_rate': 0.3, 'max_depth': 3, 'n_estimators': 50},\n",
       " mean: 0.96596, std: 0.02594, params: {'colsample_bytree': 0.8, 'learning_rate': 0.3, 'max_depth': 3, 'n_estimators': 75},\n",
       " mean: 0.96596, std: 0.02594, params: {'colsample_bytree': 0.8, 'learning_rate': 0.3, 'max_depth': 3, 'n_estimators': 100},\n",
       " mean: 0.96924, std: 0.02355, params: {'colsample_bytree': 0.8, 'learning_rate': 0.3, 'max_depth': 5, 'n_estimators': 50},\n",
       " mean: 0.96924, std: 0.02355, params: {'colsample_bytree': 0.8, 'learning_rate': 0.3, 'max_depth': 5, 'n_estimators': 75},\n",
       " mean: 0.96610, std: 0.02357, params: {'colsample_bytree': 0.8, 'learning_rate': 0.3, 'max_depth': 5, 'n_estimators': 100},\n",
       " mean: 0.97088, std: 0.02388, params: {'colsample_bytree': 0.8, 'learning_rate': 0.3, 'max_depth': 7, 'n_estimators': 50},\n",
       " mean: 0.96924, std: 0.02355, params: {'colsample_bytree': 0.8, 'learning_rate': 0.3, 'max_depth': 7, 'n_estimators': 75},\n",
       " mean: 0.96446, std: 0.02164, params: {'colsample_bytree': 0.8, 'learning_rate': 0.3, 'max_depth': 7, 'n_estimators': 100},\n",
       " mean: 0.92067, std: 0.03641, params: {'colsample_bytree': 0.9, 'learning_rate': 0.001, 'max_depth': 1, 'n_estimators': 50},\n",
       " mean: 0.92067, std: 0.03641, params: {'colsample_bytree': 0.9, 'learning_rate': 0.001, 'max_depth': 1, 'n_estimators': 75},\n",
       " mean: 0.91903, std: 0.03380, params: {'colsample_bytree': 0.9, 'learning_rate': 0.001, 'max_depth': 1, 'n_estimators': 100},\n",
       " mean: 0.94960, std: 0.03198, params: {'colsample_bytree': 0.9, 'learning_rate': 0.001, 'max_depth': 3, 'n_estimators': 50},\n",
       " mean: 0.95288, std: 0.02814, params: {'colsample_bytree': 0.9, 'learning_rate': 0.001, 'max_depth': 3, 'n_estimators': 75},\n",
       " mean: 0.95288, std: 0.02814, params: {'colsample_bytree': 0.9, 'learning_rate': 0.001, 'max_depth': 3, 'n_estimators': 100},\n",
       " mean: 0.95621, std: 0.02466, params: {'colsample_bytree': 0.9, 'learning_rate': 0.001, 'max_depth': 5, 'n_estimators': 50},\n",
       " mean: 0.95621, std: 0.02466, params: {'colsample_bytree': 0.9, 'learning_rate': 0.001, 'max_depth': 5, 'n_estimators': 75},\n",
       " mean: 0.95621, std: 0.02466, params: {'colsample_bytree': 0.9, 'learning_rate': 0.001, 'max_depth': 5, 'n_estimators': 100},\n",
       " mean: 0.95621, std: 0.02466, params: {'colsample_bytree': 0.9, 'learning_rate': 0.001, 'max_depth': 7, 'n_estimators': 50},\n",
       " mean: 0.95621, std: 0.02466, params: {'colsample_bytree': 0.9, 'learning_rate': 0.001, 'max_depth': 7, 'n_estimators': 75},\n",
       " mean: 0.95621, std: 0.02466, params: {'colsample_bytree': 0.9, 'learning_rate': 0.001, 'max_depth': 7, 'n_estimators': 100},\n",
       " mean: 0.92054, std: 0.03574, params: {'colsample_bytree': 0.9, 'learning_rate': 0.01, 'max_depth': 1, 'n_estimators': 50},\n",
       " mean: 0.93845, std: 0.02717, params: {'colsample_bytree': 0.9, 'learning_rate': 0.01, 'max_depth': 1, 'n_estimators': 75},\n",
       " mean: 0.94823, std: 0.03323, params: {'colsample_bytree': 0.9, 'learning_rate': 0.01, 'max_depth': 1, 'n_estimators': 100},\n",
       " mean: 0.95466, std: 0.02311, params: {'colsample_bytree': 0.9, 'learning_rate': 0.01, 'max_depth': 3, 'n_estimators': 50},\n",
       " mean: 0.96444, std: 0.01972, params: {'colsample_bytree': 0.9, 'learning_rate': 0.01, 'max_depth': 3, 'n_estimators': 75},\n",
       " mean: 0.96765, std: 0.01733, params: {'colsample_bytree': 0.9, 'learning_rate': 0.01, 'max_depth': 3, 'n_estimators': 100},\n",
       " mean: 0.95791, std: 0.02438, params: {'colsample_bytree': 0.9, 'learning_rate': 0.01, 'max_depth': 5, 'n_estimators': 50},\n",
       " mean: 0.96597, std: 0.01795, params: {'colsample_bytree': 0.9, 'learning_rate': 0.01, 'max_depth': 5, 'n_estimators': 75},\n",
       " mean: 0.96929, std: 0.01631, params: {'colsample_bytree': 0.9, 'learning_rate': 0.01, 'max_depth': 5, 'n_estimators': 100},\n",
       " mean: 0.95791, std: 0.02438, params: {'colsample_bytree': 0.9, 'learning_rate': 0.01, 'max_depth': 7, 'n_estimators': 50},\n",
       " mean: 0.96597, std: 0.01795, params: {'colsample_bytree': 0.9, 'learning_rate': 0.01, 'max_depth': 7, 'n_estimators': 75},\n",
       " mean: 0.97251, std: 0.01241, params: {'colsample_bytree': 0.9, 'learning_rate': 0.01, 'max_depth': 7, 'n_estimators': 100},\n",
       " mean: 0.95938, std: 0.02490, params: {'colsample_bytree': 0.9, 'learning_rate': 0.1, 'max_depth': 1, 'n_estimators': 50},\n",
       " mean: 0.95610, std: 0.02592, params: {'colsample_bytree': 0.9, 'learning_rate': 0.1, 'max_depth': 1, 'n_estimators': 75},\n",
       " mean: 0.96104, std: 0.02588, params: {'colsample_bytree': 0.9, 'learning_rate': 0.1, 'max_depth': 1, 'n_estimators': 100},\n",
       " mean: 0.96923, std: 0.02351, params: {'colsample_bytree': 0.9, 'learning_rate': 0.1, 'max_depth': 3, 'n_estimators': 50},\n",
       " mean: 0.96921, std: 0.02456, params: {'colsample_bytree': 0.9, 'learning_rate': 0.1, 'max_depth': 3, 'n_estimators': 75},\n",
       " mean: 0.97088, std: 0.02388, params: {'colsample_bytree': 0.9, 'learning_rate': 0.1, 'max_depth': 3, 'n_estimators': 100},\n",
       " mean: 0.97088, std: 0.02388, params: {'colsample_bytree': 0.9, 'learning_rate': 0.1, 'max_depth': 5, 'n_estimators': 50},\n",
       " mean: 0.97088, std: 0.02388, params: {'colsample_bytree': 0.9, 'learning_rate': 0.1, 'max_depth': 5, 'n_estimators': 75},\n",
       " mean: 0.97088, std: 0.02388, params: {'colsample_bytree': 0.9, 'learning_rate': 0.1, 'max_depth': 5, 'n_estimators': 100},\n",
       " mean: 0.97088, std: 0.02388, params: {'colsample_bytree': 0.9, 'learning_rate': 0.1, 'max_depth': 7, 'n_estimators': 50},\n",
       " mean: 0.97088, std: 0.02388, params: {'colsample_bytree': 0.9, 'learning_rate': 0.1, 'max_depth': 7, 'n_estimators': 75},\n",
       " mean: 0.97088, std: 0.02388, params: {'colsample_bytree': 0.9, 'learning_rate': 0.1, 'max_depth': 7, 'n_estimators': 100},\n",
       " mean: 0.95938, std: 0.02490, params: {'colsample_bytree': 0.9, 'learning_rate': 0.2, 'max_depth': 1, 'n_estimators': 50},\n",
       " mean: 0.95775, std: 0.03090, params: {'colsample_bytree': 0.9, 'learning_rate': 0.2, 'max_depth': 1, 'n_estimators': 75},\n",
       " mean: 0.95775, std: 0.03090, params: {'colsample_bytree': 0.9, 'learning_rate': 0.2, 'max_depth': 1, 'n_estimators': 100},\n",
       " mean: 0.96921, std: 0.02456, params: {'colsample_bytree': 0.9, 'learning_rate': 0.2, 'max_depth': 3, 'n_estimators': 50},\n",
       " mean: 0.96596, std: 0.02594, params: {'colsample_bytree': 0.9, 'learning_rate': 0.2, 'max_depth': 3, 'n_estimators': 75},\n",
       " mean: 0.96596, std: 0.02594, params: {'colsample_bytree': 0.9, 'learning_rate': 0.2, 'max_depth': 3, 'n_estimators': 100},\n",
       " mean: 0.97088, std: 0.02388, params: {'colsample_bytree': 0.9, 'learning_rate': 0.2, 'max_depth': 5, 'n_estimators': 50},\n",
       " mean: 0.97088, std: 0.02388, params: {'colsample_bytree': 0.9, 'learning_rate': 0.2, 'max_depth': 5, 'n_estimators': 75},\n",
       " mean: 0.96924, std: 0.02355, params: {'colsample_bytree': 0.9, 'learning_rate': 0.2, 'max_depth': 5, 'n_estimators': 100},\n",
       " mean: 0.97088, std: 0.02388, params: {'colsample_bytree': 0.9, 'learning_rate': 0.2, 'max_depth': 7, 'n_estimators': 50},\n",
       " mean: 0.96924, std: 0.02355, params: {'colsample_bytree': 0.9, 'learning_rate': 0.2, 'max_depth': 7, 'n_estimators': 75},\n",
       " mean: 0.96924, std: 0.02355, params: {'colsample_bytree': 0.9, 'learning_rate': 0.2, 'max_depth': 7, 'n_estimators': 100},\n",
       " mean: 0.95775, std: 0.03090, params: {'colsample_bytree': 0.9, 'learning_rate': 0.3, 'max_depth': 1, 'n_estimators': 50},\n",
       " mean: 0.96104, std: 0.03338, params: {'colsample_bytree': 0.9, 'learning_rate': 0.3, 'max_depth': 1, 'n_estimators': 75},\n",
       " mean: 0.95775, std: 0.03090, params: {'colsample_bytree': 0.9, 'learning_rate': 0.3, 'max_depth': 1, 'n_estimators': 100},\n",
       " mean: 0.96760, std: 0.02645, params: {'colsample_bytree': 0.9, 'learning_rate': 0.3, 'max_depth': 3, 'n_estimators': 50},\n",
       " mean: 0.96596, std: 0.02594, params: {'colsample_bytree': 0.9, 'learning_rate': 0.3, 'max_depth': 3, 'n_estimators': 75},\n",
       " mean: 0.96596, std: 0.02594, params: {'colsample_bytree': 0.9, 'learning_rate': 0.3, 'max_depth': 3, 'n_estimators': 100},\n",
       " mean: 0.96117, std: 0.02355, params: {'colsample_bytree': 0.9, 'learning_rate': 0.3, 'max_depth': 5, 'n_estimators': 50},\n",
       " mean: 0.96117, std: 0.02355, params: {'colsample_bytree': 0.9, 'learning_rate': 0.3, 'max_depth': 5, 'n_estimators': 75},\n",
       " mean: 0.96117, std: 0.02355, params: {'colsample_bytree': 0.9, 'learning_rate': 0.3, 'max_depth': 5, 'n_estimators': 100},\n",
       " mean: 0.96596, std: 0.02594, params: {'colsample_bytree': 0.9, 'learning_rate': 0.3, 'max_depth': 7, 'n_estimators': 50},\n",
       " mean: 0.96117, std: 0.02355, params: {'colsample_bytree': 0.9, 'learning_rate': 0.3, 'max_depth': 7, 'n_estimators': 75},\n",
       " mean: 0.96117, std: 0.02355, params: {'colsample_bytree': 0.9, 'learning_rate': 0.3, 'max_depth': 7, 'n_estimators': 100}]"
      ]
     },
     "execution_count": 17,
     "metadata": {},
     "output_type": "execute_result"
    }
   ],
   "source": [
    "clf.grid_scores_"
   ]
  },
  {
   "cell_type": "code",
   "execution_count": 18,
   "metadata": {
    "collapsed": false
   },
   "outputs": [
    {
     "name": "stdout",
     "output_type": "stream",
     "text": [
      "Best accuracy obtained: 0.9740979624008848\n",
      "Parameters:\n",
      "\tcolsample_bytree: 0.7\n",
      "\tlearning_rate: 0.1\n",
      "\tmax_depth: 5\n",
      "\tn_estimators: 75\n"
     ]
    }
   ],
   "source": [
    "print(\"Best accuracy obtained: {0}\".format(clf.best_score_))\n",
    "print(\"Parameters:\")\n",
    "for key, value in clf.best_params_.items():\n",
    "    print(\"\\t{}: {}\".format(key, value))"
   ]
  },
  {
   "cell_type": "code",
   "execution_count": 19,
   "metadata": {
    "collapsed": false
   },
   "outputs": [
    {
     "data": {
      "text/plain": [
       "XGBClassifier(base_score=0.5, colsample_bylevel=1, colsample_bytree=0.7,\n",
       "       gamma=0, learning_rate=0.1, max_delta_step=0, max_depth=5,\n",
       "       min_child_weight=1, missing=None, n_estimators=75, nthread=-1,\n",
       "       objective='binary:logistic', reg_alpha=0, reg_lambda=1,\n",
       "       scale_pos_weight=1, seed=42, silent=1, subsample=1)"
      ]
     },
     "execution_count": 19,
     "metadata": {},
     "output_type": "execute_result"
    }
   ],
   "source": [
    "clf.best_estimator_"
   ]
  },
  {
   "cell_type": "code",
   "execution_count": 20,
   "metadata": {
    "collapsed": false
   },
   "outputs": [
    {
     "data": {
      "text/plain": [
       "XGBClassifier(base_score=0.5, colsample_bylevel=1, colsample_bytree=0.7,\n",
       "       gamma=0, learning_rate=0.1, max_delta_step=0, max_depth=5,\n",
       "       min_child_weight=1, missing=None, n_estimators=75, nthread=-1,\n",
       "       objective='binary:logistic', reg_alpha=0, reg_lambda=1,\n",
       "       scale_pos_weight=1, seed=42, silent=1, subsample=1)"
      ]
     },
     "execution_count": 20,
     "metadata": {},
     "output_type": "execute_result"
    }
   ],
   "source": [
    "xgb1=XGBClassifier(base_score=0.5, colsample_bylevel=1, colsample_bytree=0.7,\n",
    "       gamma=0, learning_rate=0.1, max_delta_step=0, max_depth=5,\n",
    "       min_child_weight=1, missing=None, n_estimators=75, nthread=-1,\n",
    "       objective='binary:logistic', reg_alpha=0, reg_lambda=1,\n",
    "       scale_pos_weight=1, seed=42, silent=1, subsample=1)\n",
    "xgb1.fit(X_train,y_train)"
   ]
  },
  {
   "cell_type": "code",
   "execution_count": 21,
   "metadata": {
    "collapsed": false
   },
   "outputs": [
    {
     "name": "stdout",
     "output_type": "stream",
     "text": [
      "Akurasi: 0.9602\n",
      "Precision: 0.9747\n",
      "Recall: 0.9167\n",
      "F1: 0.9448\n"
     ]
    }
   ],
   "source": [
    "y_pred1 = xgb1.predict(X_test)\n",
    "accuracy = accuracy_score(y_test, y_pred1)\n",
    "precision, recall, f1, _ = precision_recall_fscore_support(y_test, y_pred1)\n",
    "print (('Akurasi: %.4f') % (accuracy))\n",
    "print (('Precision: %.4f') % (precision[1]))\n",
    "print (('Recall: %.4f') % (recall[1]))\n",
    "print (('F1: %.4f') % (f1[1]))"
   ]
  },
  {
   "cell_type": "markdown",
   "metadata": {},
   "source": [
    "# Setelah mendapatkan nilai learning rate, colsample_bytree, gridsearch kembali dilakukan dengan range yang lebih kecil "
   ]
  },
  {
   "cell_type": "code",
   "execution_count": 22,
   "metadata": {
    "collapsed": true
   },
   "outputs": [],
   "source": [
    "tuned_parameters2 = [{'learning_rate': [i/100.0 for i in range(5,20,5)],\n",
    "                      'max_depth': [4,5,6],\n",
    "                     'colsample_bytree':[i/100.0 for i in range(60,80,5)]},]"
   ]
  },
  {
   "cell_type": "code",
   "execution_count": 23,
   "metadata": {
    "collapsed": false
   },
   "outputs": [
    {
     "name": "stdout",
     "output_type": "stream",
     "text": [
      "Automatically created module for IPython interactive environment\n",
      "# Tuning hyper-parameters for recall\n",
      "\n",
      "Best parameters set found on development set:\n",
      "\n",
      "{'colsample_bytree': 0.7, 'learning_rate': 0.1, 'max_depth': 5}\n",
      "\n",
      "Grid scores on development set:\n",
      "\n",
      "0.971 (+/-0.048) for {'colsample_bytree': 0.6, 'learning_rate': 0.05, 'max_depth': 4}\n",
      "0.966 (+/-0.050) for {'colsample_bytree': 0.6, 'learning_rate': 0.05, 'max_depth': 5}\n",
      "0.972 (+/-0.028) for {'colsample_bytree': 0.6, 'learning_rate': 0.05, 'max_depth': 6}\n",
      "0.971 (+/-0.048) for {'colsample_bytree': 0.6, 'learning_rate': 0.1, 'max_depth': 4}\n",
      "0.971 (+/-0.048) for {'colsample_bytree': 0.6, 'learning_rate': 0.1, 'max_depth': 5}\n",
      "0.971 (+/-0.048) for {'colsample_bytree': 0.6, 'learning_rate': 0.1, 'max_depth': 6}\n",
      "0.969 (+/-0.045) for {'colsample_bytree': 0.6, 'learning_rate': 0.15, 'max_depth': 4}\n",
      "0.969 (+/-0.045) for {'colsample_bytree': 0.6, 'learning_rate': 0.15, 'max_depth': 5}\n",
      "0.971 (+/-0.048) for {'colsample_bytree': 0.6, 'learning_rate': 0.15, 'max_depth': 6}\n",
      "0.971 (+/-0.048) for {'colsample_bytree': 0.65, 'learning_rate': 0.05, 'max_depth': 4}\n",
      "0.966 (+/-0.050) for {'colsample_bytree': 0.65, 'learning_rate': 0.05, 'max_depth': 5}\n",
      "0.972 (+/-0.028) for {'colsample_bytree': 0.65, 'learning_rate': 0.05, 'max_depth': 6}\n",
      "0.971 (+/-0.048) for {'colsample_bytree': 0.65, 'learning_rate': 0.1, 'max_depth': 4}\n",
      "0.971 (+/-0.048) for {'colsample_bytree': 0.65, 'learning_rate': 0.1, 'max_depth': 5}\n",
      "0.971 (+/-0.048) for {'colsample_bytree': 0.65, 'learning_rate': 0.1, 'max_depth': 6}\n",
      "0.969 (+/-0.045) for {'colsample_bytree': 0.65, 'learning_rate': 0.15, 'max_depth': 4}\n",
      "0.969 (+/-0.045) for {'colsample_bytree': 0.65, 'learning_rate': 0.15, 'max_depth': 5}\n",
      "0.971 (+/-0.048) for {'colsample_bytree': 0.65, 'learning_rate': 0.15, 'max_depth': 6}\n",
      "0.971 (+/-0.048) for {'colsample_bytree': 0.7, 'learning_rate': 0.05, 'max_depth': 4}\n",
      "0.971 (+/-0.048) for {'colsample_bytree': 0.7, 'learning_rate': 0.05, 'max_depth': 5}\n",
      "0.971 (+/-0.048) for {'colsample_bytree': 0.7, 'learning_rate': 0.05, 'max_depth': 6}\n",
      "0.968 (+/-0.053) for {'colsample_bytree': 0.7, 'learning_rate': 0.1, 'max_depth': 4}\n",
      "0.974 (+/-0.032) for {'colsample_bytree': 0.7, 'learning_rate': 0.1, 'max_depth': 5}\n",
      "0.974 (+/-0.032) for {'colsample_bytree': 0.7, 'learning_rate': 0.1, 'max_depth': 6}\n",
      "0.971 (+/-0.048) for {'colsample_bytree': 0.7, 'learning_rate': 0.15, 'max_depth': 4}\n",
      "0.971 (+/-0.048) for {'colsample_bytree': 0.7, 'learning_rate': 0.15, 'max_depth': 5}\n",
      "0.971 (+/-0.048) for {'colsample_bytree': 0.7, 'learning_rate': 0.15, 'max_depth': 6}\n",
      "0.971 (+/-0.048) for {'colsample_bytree': 0.75, 'learning_rate': 0.05, 'max_depth': 4}\n",
      "0.971 (+/-0.048) for {'colsample_bytree': 0.75, 'learning_rate': 0.05, 'max_depth': 5}\n",
      "0.971 (+/-0.048) for {'colsample_bytree': 0.75, 'learning_rate': 0.05, 'max_depth': 6}\n",
      "0.968 (+/-0.053) for {'colsample_bytree': 0.75, 'learning_rate': 0.1, 'max_depth': 4}\n",
      "0.974 (+/-0.032) for {'colsample_bytree': 0.75, 'learning_rate': 0.1, 'max_depth': 5}\n",
      "0.974 (+/-0.032) for {'colsample_bytree': 0.75, 'learning_rate': 0.1, 'max_depth': 6}\n",
      "0.971 (+/-0.048) for {'colsample_bytree': 0.75, 'learning_rate': 0.15, 'max_depth': 4}\n",
      "0.971 (+/-0.048) for {'colsample_bytree': 0.75, 'learning_rate': 0.15, 'max_depth': 5}\n",
      "0.971 (+/-0.048) for {'colsample_bytree': 0.75, 'learning_rate': 0.15, 'max_depth': 6}\n",
      "\n",
      "Detailed classification report:\n",
      "\n",
      "The model is trained on the full development set.\n",
      "The scores are computed on the full evaluation set.\n",
      "\n",
      "             precision    recall  f1-score   support\n",
      "\n",
      "          2       0.95      0.99      0.97       142\n",
      "          4       0.97      0.92      0.94        84\n",
      "\n",
      "avg / total       0.96      0.96      0.96       226\n",
      "\n",
      "\n"
     ]
    }
   ],
   "source": [
    "print(__doc__)\n",
    "\n",
    "# Loading the Digits dataset\n",
    "#digits = datasets.load_digits()\n",
    "\n",
    "# To apply an classifier on this data, we need to flatten the image, to\n",
    "# turn the data in a (samples, feature) matrix:\n",
    "n_samples = len(df)\n",
    "\n",
    "\n",
    "# Set the parameters by cross-validation\n",
    "\n",
    "params_fixed = {\n",
    "    'objective': 'binary:logistic',\n",
    "    'n_estimators': 75,\n",
    "    'silent': 1\n",
    "}\n",
    "scores = ['recall']\n",
    "\n",
    "for score in scores:\n",
    "    print(\"# Tuning hyper-parameters for %s\" % score)\n",
    "    print()\n",
    "\n",
    "    clf2 = GridSearchCV(estimator=XGBClassifier(**params_fixed, seed=random_state),\n",
    "    param_grid=tuned_parameters2, cv=cv, scoring='%s_macro' % score)\n",
    "    clf2.fit(X_train, y_train)\n",
    "\n",
    "    print(\"Best parameters set found on development set:\")\n",
    "    print()\n",
    "    print(clf2.best_params_)\n",
    "    print()\n",
    "    print(\"Grid scores on development set:\")\n",
    "    print()\n",
    "    means = clf2.cv_results_['mean_test_score']\n",
    "    stds = clf2.cv_results_['std_test_score']\n",
    "    for mean, std, params in zip(means, stds, clf2.cv_results_['params']):\n",
    "        print(\"%0.3f (+/-%0.03f) for %r\"\n",
    "              % (mean, std * 2, params))\n",
    "    print()\n",
    "\n",
    "    print(\"Detailed classification report:\")\n",
    "    print()\n",
    "    print(\"The model is trained on the full development set.\")\n",
    "    print(\"The scores are computed on the full evaluation set.\")\n",
    "    print()\n",
    "    y_true, y_pred = y_test, clf2.predict(X_test)\n",
    "    print(classification_report(y_true, y_pred))\n",
    "    print()"
   ]
  },
  {
   "cell_type": "code",
   "execution_count": 24,
   "metadata": {
    "collapsed": false
   },
   "outputs": [
    {
     "data": {
      "text/plain": [
       "{'colsample_bytree': 0.7, 'learning_rate': 0.1, 'max_depth': 5}"
      ]
     },
     "execution_count": 24,
     "metadata": {},
     "output_type": "execute_result"
    }
   ],
   "source": [
    "clf2.best_params_"
   ]
  },
  {
   "cell_type": "code",
   "execution_count": 25,
   "metadata": {
    "collapsed": false
   },
   "outputs": [
    {
     "data": {
      "text/plain": [
       "XGBClassifier(base_score=0.5, colsample_bylevel=1, colsample_bytree=0.7,\n",
       "       gamma=0, learning_rate=0.1, max_delta_step=0, max_depth=5,\n",
       "       min_child_weight=1, missing=None, n_estimators=75, nthread=-1,\n",
       "       objective='binary:logistic', reg_alpha=0, reg_lambda=1,\n",
       "       scale_pos_weight=1, seed=42, silent=1, subsample=1)"
      ]
     },
     "execution_count": 25,
     "metadata": {},
     "output_type": "execute_result"
    }
   ],
   "source": [
    "clf2.best_estimator_"
   ]
  },
  {
   "cell_type": "code",
   "execution_count": 26,
   "metadata": {
    "collapsed": true
   },
   "outputs": [],
   "source": [
    "xgb2=XGBClassifier(base_score=0.5, colsample_bylevel=1, colsample_bytree=0.7,\n",
    "       gamma=0, learning_rate=0.1, max_delta_step=0, max_depth=5,\n",
    "       min_child_weight=1, missing=None, n_estimators=75, nthread=-1,\n",
    "       objective='binary:logistic', reg_alpha=0, reg_lambda=1,\n",
    "       scale_pos_weight=1, seed=42, silent=1, subsample=1)"
   ]
  },
  {
   "cell_type": "code",
   "execution_count": 27,
   "metadata": {
    "collapsed": false
   },
   "outputs": [
    {
     "data": {
      "text/plain": [
       "XGBClassifier(base_score=0.5, colsample_bylevel=1, colsample_bytree=0.7,\n",
       "       gamma=0, learning_rate=0.1, max_delta_step=0, max_depth=5,\n",
       "       min_child_weight=1, missing=None, n_estimators=75, nthread=-1,\n",
       "       objective='binary:logistic', reg_alpha=0, reg_lambda=1,\n",
       "       scale_pos_weight=1, seed=42, silent=1, subsample=1)"
      ]
     },
     "execution_count": 27,
     "metadata": {},
     "output_type": "execute_result"
    }
   ],
   "source": [
    "xgb2.fit(X_train,y_train)"
   ]
  },
  {
   "cell_type": "code",
   "execution_count": 28,
   "metadata": {
    "collapsed": false
   },
   "outputs": [
    {
     "name": "stdout",
     "output_type": "stream",
     "text": [
      "Akurasi: 0.9602\n",
      "Precision: 0.9747\n",
      "Recall: 0.9167\n",
      "F1: 0.9448\n"
     ]
    }
   ],
   "source": [
    "y_pred2 = xgb2.predict(X_test)\n",
    "accuracy = accuracy_score(y_test, y_pred2)\n",
    "precision, recall, f1, _ = precision_recall_fscore_support(y_test, y_pred2)\n",
    "print (('Akurasi: %.4f') % (accuracy))\n",
    "print (('Precision: %.4f') % (precision[1]))\n",
    "print (('Recall: %.4f') % (recall[1]))\n",
    "print (('F1: %.4f') % (f1[1]))"
   ]
  },
  {
   "cell_type": "code",
   "execution_count": 30,
   "metadata": {
    "collapsed": false
   },
   "outputs": [
    {
     "name": "stdout",
     "output_type": "stream",
     "text": [
      "Automatically created module for IPython interactive environment\n",
      "# Tuning hyper-parameters for recall\n",
      "\n",
      "Best parameters set found on development set:\n",
      "\n",
      "{'min_child_weight': 6, 'reg_alpha': 0.1, 'subsample': 0.8}\n",
      "\n",
      "Grid scores on development set:\n",
      "\n",
      "0.961 (+/-0.043) for {'min_child_weight': 6, 'reg_alpha': 0.0001, 'subsample': 0.6}\n",
      "0.961 (+/-0.047) for {'min_child_weight': 6, 'reg_alpha': 0.0001, 'subsample': 0.7}\n",
      "0.964 (+/-0.053) for {'min_child_weight': 6, 'reg_alpha': 0.0001, 'subsample': 0.8}\n",
      "0.958 (+/-0.053) for {'min_child_weight': 6, 'reg_alpha': 0.0001, 'subsample': 0.9}\n",
      "0.956 (+/-0.057) for {'min_child_weight': 6, 'reg_alpha': 0.1, 'subsample': 0.6}\n",
      "0.963 (+/-0.054) for {'min_child_weight': 6, 'reg_alpha': 0.1, 'subsample': 0.7}\n",
      "0.971 (+/-0.040) for {'min_child_weight': 6, 'reg_alpha': 0.1, 'subsample': 0.8}\n",
      "0.958 (+/-0.053) for {'min_child_weight': 6, 'reg_alpha': 0.1, 'subsample': 0.9}\n",
      "0.956 (+/-0.057) for {'min_child_weight': 6, 'reg_alpha': 0.1, 'subsample': 0.6}\n",
      "0.963 (+/-0.054) for {'min_child_weight': 6, 'reg_alpha': 0.1, 'subsample': 0.7}\n",
      "0.971 (+/-0.040) for {'min_child_weight': 6, 'reg_alpha': 0.1, 'subsample': 0.8}\n",
      "0.958 (+/-0.053) for {'min_child_weight': 6, 'reg_alpha': 0.1, 'subsample': 0.9}\n",
      "0.964 (+/-0.053) for {'min_child_weight': 6, 'reg_alpha': 1, 'subsample': 0.6}\n",
      "0.963 (+/-0.041) for {'min_child_weight': 6, 'reg_alpha': 1, 'subsample': 0.7}\n",
      "0.960 (+/-0.063) for {'min_child_weight': 6, 'reg_alpha': 1, 'subsample': 0.8}\n",
      "0.964 (+/-0.049) for {'min_child_weight': 6, 'reg_alpha': 1, 'subsample': 0.9}\n",
      "0.500 (+/-0.000) for {'min_child_weight': 6, 'reg_alpha': 100, 'subsample': 0.6}\n",
      "0.500 (+/-0.000) for {'min_child_weight': 6, 'reg_alpha': 100, 'subsample': 0.7}\n",
      "0.500 (+/-0.000) for {'min_child_weight': 6, 'reg_alpha': 100, 'subsample': 0.8}\n",
      "0.500 (+/-0.000) for {'min_child_weight': 6, 'reg_alpha': 100, 'subsample': 0.9}\n",
      "0.958 (+/-0.055) for {'min_child_weight': 8, 'reg_alpha': 0.0001, 'subsample': 0.6}\n",
      "0.958 (+/-0.055) for {'min_child_weight': 8, 'reg_alpha': 0.0001, 'subsample': 0.7}\n",
      "0.956 (+/-0.049) for {'min_child_weight': 8, 'reg_alpha': 0.0001, 'subsample': 0.8}\n",
      "0.958 (+/-0.061) for {'min_child_weight': 8, 'reg_alpha': 0.0001, 'subsample': 0.9}\n",
      "0.958 (+/-0.055) for {'min_child_weight': 8, 'reg_alpha': 0.1, 'subsample': 0.6}\n",
      "0.956 (+/-0.062) for {'min_child_weight': 8, 'reg_alpha': 0.1, 'subsample': 0.7}\n",
      "0.960 (+/-0.048) for {'min_child_weight': 8, 'reg_alpha': 0.1, 'subsample': 0.8}\n",
      "0.958 (+/-0.061) for {'min_child_weight': 8, 'reg_alpha': 0.1, 'subsample': 0.9}\n",
      "0.958 (+/-0.055) for {'min_child_weight': 8, 'reg_alpha': 0.1, 'subsample': 0.6}\n",
      "0.956 (+/-0.062) for {'min_child_weight': 8, 'reg_alpha': 0.1, 'subsample': 0.7}\n",
      "0.960 (+/-0.048) for {'min_child_weight': 8, 'reg_alpha': 0.1, 'subsample': 0.8}\n",
      "0.958 (+/-0.061) for {'min_child_weight': 8, 'reg_alpha': 0.1, 'subsample': 0.9}\n",
      "0.955 (+/-0.057) for {'min_child_weight': 8, 'reg_alpha': 1, 'subsample': 0.6}\n",
      "0.966 (+/-0.058) for {'min_child_weight': 8, 'reg_alpha': 1, 'subsample': 0.7}\n",
      "0.960 (+/-0.063) for {'min_child_weight': 8, 'reg_alpha': 1, 'subsample': 0.8}\n",
      "0.958 (+/-0.061) for {'min_child_weight': 8, 'reg_alpha': 1, 'subsample': 0.9}\n",
      "0.500 (+/-0.000) for {'min_child_weight': 8, 'reg_alpha': 100, 'subsample': 0.6}\n",
      "0.500 (+/-0.000) for {'min_child_weight': 8, 'reg_alpha': 100, 'subsample': 0.7}\n",
      "0.500 (+/-0.000) for {'min_child_weight': 8, 'reg_alpha': 100, 'subsample': 0.8}\n",
      "0.500 (+/-0.000) for {'min_child_weight': 8, 'reg_alpha': 100, 'subsample': 0.9}\n",
      "0.958 (+/-0.059) for {'min_child_weight': 10, 'reg_alpha': 0.0001, 'subsample': 0.6}\n",
      "0.955 (+/-0.064) for {'min_child_weight': 10, 'reg_alpha': 0.0001, 'subsample': 0.7}\n",
      "0.964 (+/-0.055) for {'min_child_weight': 10, 'reg_alpha': 0.0001, 'subsample': 0.8}\n",
      "0.961 (+/-0.052) for {'min_child_weight': 10, 'reg_alpha': 0.0001, 'subsample': 0.9}\n",
      "0.955 (+/-0.060) for {'min_child_weight': 10, 'reg_alpha': 0.1, 'subsample': 0.6}\n",
      "0.951 (+/-0.057) for {'min_child_weight': 10, 'reg_alpha': 0.1, 'subsample': 0.7}\n",
      "0.963 (+/-0.056) for {'min_child_weight': 10, 'reg_alpha': 0.1, 'subsample': 0.8}\n",
      "0.961 (+/-0.064) for {'min_child_weight': 10, 'reg_alpha': 0.1, 'subsample': 0.9}\n",
      "0.955 (+/-0.060) for {'min_child_weight': 10, 'reg_alpha': 0.1, 'subsample': 0.6}\n",
      "0.951 (+/-0.057) for {'min_child_weight': 10, 'reg_alpha': 0.1, 'subsample': 0.7}\n",
      "0.963 (+/-0.056) for {'min_child_weight': 10, 'reg_alpha': 0.1, 'subsample': 0.8}\n",
      "0.961 (+/-0.064) for {'min_child_weight': 10, 'reg_alpha': 0.1, 'subsample': 0.9}\n",
      "0.948 (+/-0.070) for {'min_child_weight': 10, 'reg_alpha': 1, 'subsample': 0.6}\n",
      "0.948 (+/-0.064) for {'min_child_weight': 10, 'reg_alpha': 1, 'subsample': 0.7}\n",
      "0.961 (+/-0.061) for {'min_child_weight': 10, 'reg_alpha': 1, 'subsample': 0.8}\n",
      "0.958 (+/-0.055) for {'min_child_weight': 10, 'reg_alpha': 1, 'subsample': 0.9}\n",
      "0.500 (+/-0.000) for {'min_child_weight': 10, 'reg_alpha': 100, 'subsample': 0.6}\n",
      "0.500 (+/-0.000) for {'min_child_weight': 10, 'reg_alpha': 100, 'subsample': 0.7}\n",
      "0.500 (+/-0.000) for {'min_child_weight': 10, 'reg_alpha': 100, 'subsample': 0.8}\n",
      "0.500 (+/-0.000) for {'min_child_weight': 10, 'reg_alpha': 100, 'subsample': 0.9}\n",
      "0.955 (+/-0.066) for {'min_child_weight': 12, 'reg_alpha': 0.0001, 'subsample': 0.6}\n",
      "0.951 (+/-0.083) for {'min_child_weight': 12, 'reg_alpha': 0.0001, 'subsample': 0.7}\n",
      "0.955 (+/-0.056) for {'min_child_weight': 12, 'reg_alpha': 0.0001, 'subsample': 0.8}\n",
      "0.951 (+/-0.068) for {'min_child_weight': 12, 'reg_alpha': 0.0001, 'subsample': 0.9}\n",
      "0.952 (+/-0.063) for {'min_child_weight': 12, 'reg_alpha': 0.1, 'subsample': 0.6}\n",
      "0.955 (+/-0.071) for {'min_child_weight': 12, 'reg_alpha': 0.1, 'subsample': 0.7}\n",
      "0.958 (+/-0.055) for {'min_child_weight': 12, 'reg_alpha': 0.1, 'subsample': 0.8}\n",
      "0.955 (+/-0.060) for {'min_child_weight': 12, 'reg_alpha': 0.1, 'subsample': 0.9}\n",
      "0.952 (+/-0.063) for {'min_child_weight': 12, 'reg_alpha': 0.1, 'subsample': 0.6}\n",
      "0.955 (+/-0.071) for {'min_child_weight': 12, 'reg_alpha': 0.1, 'subsample': 0.7}\n",
      "0.958 (+/-0.055) for {'min_child_weight': 12, 'reg_alpha': 0.1, 'subsample': 0.8}\n",
      "0.955 (+/-0.060) for {'min_child_weight': 12, 'reg_alpha': 0.1, 'subsample': 0.9}\n",
      "0.958 (+/-0.063) for {'min_child_weight': 12, 'reg_alpha': 1, 'subsample': 0.6}\n",
      "0.955 (+/-0.064) for {'min_child_weight': 12, 'reg_alpha': 1, 'subsample': 0.7}\n",
      "0.948 (+/-0.063) for {'min_child_weight': 12, 'reg_alpha': 1, 'subsample': 0.8}\n",
      "0.948 (+/-0.060) for {'min_child_weight': 12, 'reg_alpha': 1, 'subsample': 0.9}\n",
      "0.500 (+/-0.000) for {'min_child_weight': 12, 'reg_alpha': 100, 'subsample': 0.6}\n",
      "0.500 (+/-0.000) for {'min_child_weight': 12, 'reg_alpha': 100, 'subsample': 0.7}\n",
      "0.500 (+/-0.000) for {'min_child_weight': 12, 'reg_alpha': 100, 'subsample': 0.8}\n",
      "0.500 (+/-0.000) for {'min_child_weight': 12, 'reg_alpha': 100, 'subsample': 0.9}\n",
      "\n",
      "Detailed classification report:\n",
      "\n",
      "The model is trained on the full development set.\n",
      "The scores are computed on the full evaluation set.\n",
      "\n",
      "             precision    recall  f1-score   support\n",
      "\n",
      "          2       0.95      0.99      0.97       142\n",
      "          4       0.97      0.92      0.94        84\n",
      "\n",
      "avg / total       0.96      0.96      0.96       226\n",
      "\n",
      "\n"
     ]
    }
   ],
   "source": [
    "print(__doc__)\n",
    "\n",
    "# Loading the Digits dataset\n",
    "#digits = datasets.load_digits()\n",
    "\n",
    "# To apply an classifier on this data, we need to flatten the image, to\n",
    "# turn the data in a (samples, feature) matrix:\n",
    "n_samples = len(df)\n",
    "\n",
    "\n",
    "# Set the parameters by cross-validation\n",
    "\n",
    "tuned_parameters3 = [{'min_child_weight': range(6,14,2), 'subsample': [i/10.0 for i in range(6,10)],\n",
    "                     'reg_alpha': [10e-5, 10e-2, 0.1, 1, 100]},]\n",
    "params_fixed = {\n",
    "    'objective': 'binary:logistic',\n",
    "    'colsample_bytree': 0.7,\n",
    "    'learning_rate': 0.1,\n",
    "    'max_depth': 5,\n",
    "    'n_estimators': 100,\n",
    "    'silent': 1\n",
    "}\n",
    "scores = ['recall']\n",
    "\n",
    "for score in scores:\n",
    "    print(\"# Tuning hyper-parameters for %s\" % score)\n",
    "    print()\n",
    "\n",
    "    clf3 = GridSearchCV(estimator=XGBClassifier(**params_fixed, seed=random_state),\n",
    "    param_grid=tuned_parameters3, cv=cv, scoring='%s_macro' % score)\n",
    "    clf3.fit(X_train, y_train)\n",
    "\n",
    "    print(\"Best parameters set found on development set:\")\n",
    "    print()\n",
    "    print(clf3.best_params_)\n",
    "    print()\n",
    "    print(\"Grid scores on development set:\")\n",
    "    print()\n",
    "    means = clf3.cv_results_['mean_test_score']\n",
    "    stds = clf3.cv_results_['std_test_score']\n",
    "    for mean, std, params in zip(means, stds, clf3.cv_results_['params']):\n",
    "        print(\"%0.3f (+/-%0.03f) for %r\"\n",
    "              % (mean, std * 2, params))\n",
    "    print()\n",
    "\n",
    "    print(\"Detailed classification report:\")\n",
    "    print()\n",
    "    print(\"The model is trained on the full development set.\")\n",
    "    print(\"The scores are computed on the full evaluation set.\")\n",
    "    print()\n",
    "    y_true, y_pred = y_test, clf3.predict(X_test)\n",
    "    print(classification_report(y_true, y_pred))\n",
    "    print()"
   ]
  },
  {
   "cell_type": "code",
   "execution_count": 31,
   "metadata": {
    "collapsed": false
   },
   "outputs": [
    {
     "name": "stderr",
     "output_type": "stream",
     "text": [
      "C:\\Users\\Annisa\\Anaconda3\\lib\\site-packages\\sklearn\\model_selection\\_search.py:667: DeprecationWarning: The grid_scores_ attribute was deprecated in version 0.18 in favor of the more elaborate cv_results_ attribute. The grid_scores_ attribute will not be available from 0.20\n",
      "  DeprecationWarning)\n"
     ]
    },
    {
     "data": {
      "text/plain": [
       "[mean: 0.96124, std: 0.02153, params: {'min_child_weight': 6, 'reg_alpha': 0.0001, 'subsample': 0.6},\n",
       " mean: 0.96117, std: 0.02355, params: {'min_child_weight': 6, 'reg_alpha': 0.0001, 'subsample': 0.7},\n",
       " mean: 0.96446, std: 0.02628, params: {'min_child_weight': 6, 'reg_alpha': 0.0001, 'subsample': 0.8},\n",
       " mean: 0.95803, std: 0.02646, params: {'min_child_weight': 6, 'reg_alpha': 0.0001, 'subsample': 0.9},\n",
       " mean: 0.95639, std: 0.02843, params: {'min_child_weight': 6, 'reg_alpha': 0.1, 'subsample': 0.6},\n",
       " mean: 0.96268, std: 0.02671, params: {'min_child_weight': 6, 'reg_alpha': 0.1, 'subsample': 0.7},\n",
       " mean: 0.97082, std: 0.02008, params: {'min_child_weight': 6, 'reg_alpha': 0.1, 'subsample': 0.8},\n",
       " mean: 0.95803, std: 0.02646, params: {'min_child_weight': 6, 'reg_alpha': 0.1, 'subsample': 0.9},\n",
       " mean: 0.95639, std: 0.02843, params: {'min_child_weight': 6, 'reg_alpha': 0.1, 'subsample': 0.6},\n",
       " mean: 0.96268, std: 0.02671, params: {'min_child_weight': 6, 'reg_alpha': 0.1, 'subsample': 0.7},\n",
       " mean: 0.97082, std: 0.02008, params: {'min_child_weight': 6, 'reg_alpha': 0.1, 'subsample': 0.8},\n",
       " mean: 0.95803, std: 0.02646, params: {'min_child_weight': 6, 'reg_alpha': 0.1, 'subsample': 0.9},\n",
       " mean: 0.96446, std: 0.02628, params: {'min_child_weight': 6, 'reg_alpha': 1, 'subsample': 0.6},\n",
       " mean: 0.96275, std: 0.02067, params: {'min_child_weight': 6, 'reg_alpha': 1, 'subsample': 0.7},\n",
       " mean: 0.95967, std: 0.03124, params: {'min_child_weight': 6, 'reg_alpha': 1, 'subsample': 0.8},\n",
       " mean: 0.96432, std: 0.02419, params: {'min_child_weight': 6, 'reg_alpha': 1, 'subsample': 0.9},\n",
       " mean: 0.50000, std: 0.00000, params: {'min_child_weight': 6, 'reg_alpha': 100, 'subsample': 0.6},\n",
       " mean: 0.50000, std: 0.00000, params: {'min_child_weight': 6, 'reg_alpha': 100, 'subsample': 0.7},\n",
       " mean: 0.50000, std: 0.00000, params: {'min_child_weight': 6, 'reg_alpha': 100, 'subsample': 0.8},\n",
       " mean: 0.50000, std: 0.00000, params: {'min_child_weight': 6, 'reg_alpha': 100, 'subsample': 0.9},\n",
       " mean: 0.95787, std: 0.02791, params: {'min_child_weight': 8, 'reg_alpha': 0.0001, 'subsample': 0.6},\n",
       " mean: 0.95781, std: 0.02791, params: {'min_child_weight': 8, 'reg_alpha': 0.0001, 'subsample': 0.7},\n",
       " mean: 0.95646, std: 0.02475, params: {'min_child_weight': 8, 'reg_alpha': 0.0001, 'subsample': 0.8},\n",
       " mean: 0.95801, std: 0.03036, params: {'min_child_weight': 8, 'reg_alpha': 0.0001, 'subsample': 0.9},\n",
       " mean: 0.95787, std: 0.02791, params: {'min_child_weight': 8, 'reg_alpha': 0.1, 'subsample': 0.6},\n",
       " mean: 0.95632, std: 0.03112, params: {'min_child_weight': 8, 'reg_alpha': 0.1, 'subsample': 0.7},\n",
       " mean: 0.95960, std: 0.02412, params: {'min_child_weight': 8, 'reg_alpha': 0.1, 'subsample': 0.8},\n",
       " mean: 0.95801, std: 0.03036, params: {'min_child_weight': 8, 'reg_alpha': 0.1, 'subsample': 0.9},\n",
       " mean: 0.95787, std: 0.02791, params: {'min_child_weight': 8, 'reg_alpha': 0.1, 'subsample': 0.6},\n",
       " mean: 0.95632, std: 0.03112, params: {'min_child_weight': 8, 'reg_alpha': 0.1, 'subsample': 0.7},\n",
       " mean: 0.95960, std: 0.02412, params: {'min_child_weight': 8, 'reg_alpha': 0.1, 'subsample': 0.8},\n",
       " mean: 0.95801, std: 0.03036, params: {'min_child_weight': 8, 'reg_alpha': 0.1, 'subsample': 0.9},\n",
       " mean: 0.95452, std: 0.02864, params: {'min_child_weight': 8, 'reg_alpha': 1, 'subsample': 0.6},\n",
       " mean: 0.96596, std: 0.02898, params: {'min_child_weight': 8, 'reg_alpha': 1, 'subsample': 0.7},\n",
       " mean: 0.95967, std: 0.03124, params: {'min_child_weight': 8, 'reg_alpha': 1, 'subsample': 0.8},\n",
       " mean: 0.95801, std: 0.03036, params: {'min_child_weight': 8, 'reg_alpha': 1, 'subsample': 0.9},\n",
       " mean: 0.50000, std: 0.00000, params: {'min_child_weight': 8, 'reg_alpha': 100, 'subsample': 0.6},\n",
       " mean: 0.50000, std: 0.00000, params: {'min_child_weight': 8, 'reg_alpha': 100, 'subsample': 0.7},\n",
       " mean: 0.50000, std: 0.00000, params: {'min_child_weight': 8, 'reg_alpha': 100, 'subsample': 0.8},\n",
       " mean: 0.50000, std: 0.00000, params: {'min_child_weight': 8, 'reg_alpha': 100, 'subsample': 0.9},\n",
       " mean: 0.95774, std: 0.02988, params: {'min_child_weight': 10, 'reg_alpha': 0.0001, 'subsample': 0.6},\n",
       " mean: 0.95466, std: 0.03195, params: {'min_child_weight': 10, 'reg_alpha': 0.0001, 'subsample': 0.7},\n",
       " mean: 0.96417, std: 0.02779, params: {'min_child_weight': 10, 'reg_alpha': 0.0001, 'subsample': 0.8},\n",
       " mean: 0.96122, std: 0.02616, params: {'min_child_weight': 10, 'reg_alpha': 0.0001, 'subsample': 0.9},\n",
       " mean: 0.95452, std: 0.03018, params: {'min_child_weight': 10, 'reg_alpha': 0.1, 'subsample': 0.6},\n",
       " mean: 0.95138, std: 0.02861, params: {'min_child_weight': 10, 'reg_alpha': 0.1, 'subsample': 0.7},\n",
       " mean: 0.96268, std: 0.02802, params: {'min_child_weight': 10, 'reg_alpha': 0.1, 'subsample': 0.8},\n",
       " mean: 0.96109, std: 0.03208, params: {'min_child_weight': 10, 'reg_alpha': 0.1, 'subsample': 0.9},\n",
       " mean: 0.95452, std: 0.03018, params: {'min_child_weight': 10, 'reg_alpha': 0.1, 'subsample': 0.6},\n",
       " mean: 0.95138, std: 0.02861, params: {'min_child_weight': 10, 'reg_alpha': 0.1, 'subsample': 0.7},\n",
       " mean: 0.96268, std: 0.02802, params: {'min_child_weight': 10, 'reg_alpha': 0.1, 'subsample': 0.8},\n",
       " mean: 0.96109, std: 0.03208, params: {'min_child_weight': 10, 'reg_alpha': 0.1, 'subsample': 0.9},\n",
       " mean: 0.94823, std: 0.03525, params: {'min_child_weight': 10, 'reg_alpha': 1, 'subsample': 0.6},\n",
       " mean: 0.94810, std: 0.03223, params: {'min_child_weight': 10, 'reg_alpha': 1, 'subsample': 0.7},\n",
       " mean: 0.96116, std: 0.03063, params: {'min_child_weight': 10, 'reg_alpha': 1, 'subsample': 0.8},\n",
       " mean: 0.95794, std: 0.02737, params: {'min_child_weight': 10, 'reg_alpha': 1, 'subsample': 0.9},\n",
       " mean: 0.50000, std: 0.00000, params: {'min_child_weight': 10, 'reg_alpha': 100, 'subsample': 0.6},\n",
       " mean: 0.50000, std: 0.00000, params: {'min_child_weight': 10, 'reg_alpha': 100, 'subsample': 0.7},\n",
       " mean: 0.50000, std: 0.00000, params: {'min_child_weight': 10, 'reg_alpha': 100, 'subsample': 0.8},\n",
       " mean: 0.50000, std: 0.00000, params: {'min_child_weight': 10, 'reg_alpha': 100, 'subsample': 0.9},\n",
       " mean: 0.95466, std: 0.03335, params: {'min_child_weight': 12, 'reg_alpha': 0.0001, 'subsample': 0.6},\n",
       " mean: 0.95131, std: 0.04156, params: {'min_child_weight': 12, 'reg_alpha': 0.0001, 'subsample': 0.7},\n",
       " mean: 0.95466, std: 0.02826, params: {'min_child_weight': 12, 'reg_alpha': 0.0001, 'subsample': 0.8},\n",
       " mean: 0.95124, std: 0.03394, params: {'min_child_weight': 12, 'reg_alpha': 0.0001, 'subsample': 0.9},\n",
       " mean: 0.95151, std: 0.03195, params: {'min_child_weight': 12, 'reg_alpha': 0.1, 'subsample': 0.6},\n",
       " mean: 0.95459, std: 0.03556, params: {'min_child_weight': 12, 'reg_alpha': 0.1, 'subsample': 0.7},\n",
       " mean: 0.95787, std: 0.02791, params: {'min_child_weight': 12, 'reg_alpha': 0.1, 'subsample': 0.8},\n",
       " mean: 0.95452, std: 0.03018, params: {'min_child_weight': 12, 'reg_alpha': 0.1, 'subsample': 0.9},\n",
       " mean: 0.95151, std: 0.03195, params: {'min_child_weight': 12, 'reg_alpha': 0.1, 'subsample': 0.6},\n",
       " mean: 0.95459, std: 0.03556, params: {'min_child_weight': 12, 'reg_alpha': 0.1, 'subsample': 0.7},\n",
       " mean: 0.95787, std: 0.02791, params: {'min_child_weight': 12, 'reg_alpha': 0.1, 'subsample': 0.8},\n",
       " mean: 0.95452, std: 0.03018, params: {'min_child_weight': 12, 'reg_alpha': 0.1, 'subsample': 0.9},\n",
       " mean: 0.95787, std: 0.03164, params: {'min_child_weight': 12, 'reg_alpha': 1, 'subsample': 0.6},\n",
       " mean: 0.95466, std: 0.03195, params: {'min_child_weight': 12, 'reg_alpha': 1, 'subsample': 0.7},\n",
       " mean: 0.94816, std: 0.03152, params: {'min_child_weight': 12, 'reg_alpha': 1, 'subsample': 0.8},\n",
       " mean: 0.94823, std: 0.03003, params: {'min_child_weight': 12, 'reg_alpha': 1, 'subsample': 0.9},\n",
       " mean: 0.50000, std: 0.00000, params: {'min_child_weight': 12, 'reg_alpha': 100, 'subsample': 0.6},\n",
       " mean: 0.50000, std: 0.00000, params: {'min_child_weight': 12, 'reg_alpha': 100, 'subsample': 0.7},\n",
       " mean: 0.50000, std: 0.00000, params: {'min_child_weight': 12, 'reg_alpha': 100, 'subsample': 0.8},\n",
       " mean: 0.50000, std: 0.00000, params: {'min_child_weight': 12, 'reg_alpha': 100, 'subsample': 0.9}]"
      ]
     },
     "execution_count": 31,
     "metadata": {},
     "output_type": "execute_result"
    }
   ],
   "source": [
    "clf3.grid_scores_"
   ]
  },
  {
   "cell_type": "code",
   "execution_count": 32,
   "metadata": {
    "collapsed": false
   },
   "outputs": [
    {
     "name": "stdout",
     "output_type": "stream",
     "text": [
      "Best accuracy obtained: 0.970815686689725\n",
      "Parameters:\n",
      "\tmin_child_weight: 6\n",
      "\treg_alpha: 0.1\n",
      "\tsubsample: 0.8\n"
     ]
    }
   ],
   "source": [
    "print(\"Best accuracy obtained: {0}\".format(clf3.best_score_))\n",
    "print(\"Parameters:\")\n",
    "for key, value in clf3.best_params_.items():\n",
    "    print(\"\\t{}: {}\".format(key, value))"
   ]
  },
  {
   "cell_type": "code",
   "execution_count": 33,
   "metadata": {
    "collapsed": false
   },
   "outputs": [
    {
     "data": {
      "text/plain": [
       "XGBClassifier(base_score=0.5, colsample_bylevel=1, colsample_bytree=0.7,\n",
       "       gamma=0, learning_rate=0.1, max_delta_step=0, max_depth=5,\n",
       "       min_child_weight=6, missing=None, n_estimators=100, nthread=-1,\n",
       "       objective='binary:logistic', reg_alpha=0.1, reg_lambda=1,\n",
       "       scale_pos_weight=1, seed=42, silent=1, subsample=0.8)"
      ]
     },
     "execution_count": 33,
     "metadata": {},
     "output_type": "execute_result"
    }
   ],
   "source": [
    "clf3.best_estimator_"
   ]
  },
  {
   "cell_type": "code",
   "execution_count": 34,
   "metadata": {
    "collapsed": false
   },
   "outputs": [
    {
     "data": {
      "text/plain": [
       "XGBClassifier(base_score=0.5, colsample_bylevel=1, colsample_bytree=0.7,\n",
       "       gamma=0, learning_rate=0.1, max_delta_step=0, max_depth=5,\n",
       "       min_child_weight=6, missing=None, n_estimators=100, nthread=-1,\n",
       "       objective='binary:logistic', reg_alpha=0.1, reg_lambda=1,\n",
       "       scale_pos_weight=1, seed=42, silent=1, subsample=0.8)"
      ]
     },
     "execution_count": 34,
     "metadata": {},
     "output_type": "execute_result"
    }
   ],
   "source": [
    "xgb3=XGBClassifier(base_score=0.5, colsample_bylevel=1, colsample_bytree=0.7,\n",
    "       gamma=0, learning_rate=0.1, max_delta_step=0, max_depth=5,\n",
    "       min_child_weight=6, missing=None, n_estimators=100, nthread=-1,\n",
    "       objective='binary:logistic', reg_alpha=0.1, reg_lambda=1,\n",
    "       scale_pos_weight=1, seed=42, silent=1, subsample=0.8)\n",
    "xgb3.fit(X_train,y_train)"
   ]
  },
  {
   "cell_type": "code",
   "execution_count": 35,
   "metadata": {
    "collapsed": false
   },
   "outputs": [
    {
     "name": "stdout",
     "output_type": "stream",
     "text": [
      "Akurasi: 0.9602\n",
      "Precision: 0.9747\n",
      "Recall: 0.9167\n",
      "F1: 0.9448\n"
     ]
    }
   ],
   "source": [
    "y_pred3 = xgb3.predict(X_test)\n",
    "accuracy = accuracy_score(y_test, y_pred3)\n",
    "precision, recall, f1, _ = precision_recall_fscore_support(y_test, y_pred3)\n",
    "print (('Akurasi: %.4f') % (accuracy))\n",
    "print (('Precision: %.4f') % (precision[1]))\n",
    "print (('Recall: %.4f') % (recall[1]))\n",
    "print (('F1: %.4f') % (f1[1]))"
   ]
  },
  {
   "cell_type": "code",
   "execution_count": 36,
   "metadata": {
    "collapsed": true
   },
   "outputs": [],
   "source": [
    "tuned_parameters4 = [{'min_child_weight': range(5,8,1), 'subsample': [i/100.0 for i in range(70,95,5)],\n",
    "                     'reg_alpha': [i/100.0 for i in range(5,20,5)]},]"
   ]
  },
  {
   "cell_type": "code",
   "execution_count": 37,
   "metadata": {
    "collapsed": false
   },
   "outputs": [
    {
     "name": "stdout",
     "output_type": "stream",
     "text": [
      "Automatically created module for IPython interactive environment\n",
      "# Tuning hyper-parameters for recall\n",
      "\n",
      "Best parameters set found on development set:\n",
      "\n",
      "{'min_child_weight': 6, 'reg_alpha': 0.05, 'subsample': 0.8}\n",
      "\n",
      "Grid scores on development set:\n",
      "\n",
      "0.956 (+/-0.057) for {'min_child_weight': 5, 'reg_alpha': 0.05, 'subsample': 0.7}\n",
      "0.961 (+/-0.047) for {'min_child_weight': 5, 'reg_alpha': 0.05, 'subsample': 0.75}\n",
      "0.960 (+/-0.063) for {'min_child_weight': 5, 'reg_alpha': 0.05, 'subsample': 0.8}\n",
      "0.961 (+/-0.047) for {'min_child_weight': 5, 'reg_alpha': 0.05, 'subsample': 0.85}\n",
      "0.961 (+/-0.047) for {'min_child_weight': 5, 'reg_alpha': 0.05, 'subsample': 0.9}\n",
      "0.956 (+/-0.057) for {'min_child_weight': 5, 'reg_alpha': 0.1, 'subsample': 0.7}\n",
      "0.961 (+/-0.047) for {'min_child_weight': 5, 'reg_alpha': 0.1, 'subsample': 0.75}\n",
      "0.961 (+/-0.059) for {'min_child_weight': 5, 'reg_alpha': 0.1, 'subsample': 0.8}\n",
      "0.961 (+/-0.047) for {'min_child_weight': 5, 'reg_alpha': 0.1, 'subsample': 0.85}\n",
      "0.958 (+/-0.053) for {'min_child_weight': 5, 'reg_alpha': 0.1, 'subsample': 0.9}\n",
      "0.956 (+/-0.057) for {'min_child_weight': 5, 'reg_alpha': 0.15, 'subsample': 0.7}\n",
      "0.961 (+/-0.047) for {'min_child_weight': 5, 'reg_alpha': 0.15, 'subsample': 0.75}\n",
      "0.964 (+/-0.053) for {'min_child_weight': 5, 'reg_alpha': 0.15, 'subsample': 0.8}\n",
      "0.961 (+/-0.047) for {'min_child_weight': 5, 'reg_alpha': 0.15, 'subsample': 0.85}\n",
      "0.961 (+/-0.047) for {'min_child_weight': 5, 'reg_alpha': 0.15, 'subsample': 0.9}\n",
      "0.966 (+/-0.058) for {'min_child_weight': 6, 'reg_alpha': 0.05, 'subsample': 0.7}\n",
      "0.961 (+/-0.047) for {'min_child_weight': 6, 'reg_alpha': 0.05, 'subsample': 0.75}\n",
      "0.971 (+/-0.040) for {'min_child_weight': 6, 'reg_alpha': 0.05, 'subsample': 0.8}\n",
      "0.966 (+/-0.058) for {'min_child_weight': 6, 'reg_alpha': 0.05, 'subsample': 0.85}\n",
      "0.958 (+/-0.053) for {'min_child_weight': 6, 'reg_alpha': 0.05, 'subsample': 0.9}\n",
      "0.963 (+/-0.054) for {'min_child_weight': 6, 'reg_alpha': 0.1, 'subsample': 0.7}\n",
      "0.963 (+/-0.057) for {'min_child_weight': 6, 'reg_alpha': 0.1, 'subsample': 0.75}\n",
      "0.971 (+/-0.040) for {'min_child_weight': 6, 'reg_alpha': 0.1, 'subsample': 0.8}\n",
      "0.960 (+/-0.063) for {'min_child_weight': 6, 'reg_alpha': 0.1, 'subsample': 0.85}\n",
      "0.958 (+/-0.053) for {'min_child_weight': 6, 'reg_alpha': 0.1, 'subsample': 0.9}\n",
      "0.964 (+/-0.053) for {'min_child_weight': 6, 'reg_alpha': 0.15, 'subsample': 0.7}\n",
      "0.963 (+/-0.057) for {'min_child_weight': 6, 'reg_alpha': 0.15, 'subsample': 0.75}\n",
      "0.971 (+/-0.040) for {'min_child_weight': 6, 'reg_alpha': 0.15, 'subsample': 0.8}\n",
      "0.966 (+/-0.058) for {'min_child_weight': 6, 'reg_alpha': 0.15, 'subsample': 0.85}\n",
      "0.958 (+/-0.053) for {'min_child_weight': 6, 'reg_alpha': 0.15, 'subsample': 0.9}\n",
      "0.963 (+/-0.054) for {'min_child_weight': 7, 'reg_alpha': 0.05, 'subsample': 0.7}\n",
      "0.960 (+/-0.052) for {'min_child_weight': 7, 'reg_alpha': 0.05, 'subsample': 0.75}\n",
      "0.964 (+/-0.053) for {'min_child_weight': 7, 'reg_alpha': 0.05, 'subsample': 0.8}\n",
      "0.964 (+/-0.049) for {'min_child_weight': 7, 'reg_alpha': 0.05, 'subsample': 0.85}\n",
      "0.971 (+/-0.057) for {'min_child_weight': 7, 'reg_alpha': 0.05, 'subsample': 0.9}\n",
      "0.963 (+/-0.057) for {'min_child_weight': 7, 'reg_alpha': 0.1, 'subsample': 0.7}\n",
      "0.956 (+/-0.065) for {'min_child_weight': 7, 'reg_alpha': 0.1, 'subsample': 0.75}\n",
      "0.963 (+/-0.051) for {'min_child_weight': 7, 'reg_alpha': 0.1, 'subsample': 0.8}\n",
      "0.963 (+/-0.054) for {'min_child_weight': 7, 'reg_alpha': 0.1, 'subsample': 0.85}\n",
      "0.964 (+/-0.063) for {'min_child_weight': 7, 'reg_alpha': 0.1, 'subsample': 0.9}\n",
      "0.963 (+/-0.057) for {'min_child_weight': 7, 'reg_alpha': 0.15, 'subsample': 0.7}\n",
      "0.956 (+/-0.065) for {'min_child_weight': 7, 'reg_alpha': 0.15, 'subsample': 0.75}\n",
      "0.964 (+/-0.053) for {'min_child_weight': 7, 'reg_alpha': 0.15, 'subsample': 0.8}\n",
      "0.963 (+/-0.054) for {'min_child_weight': 7, 'reg_alpha': 0.15, 'subsample': 0.85}\n",
      "0.964 (+/-0.063) for {'min_child_weight': 7, 'reg_alpha': 0.15, 'subsample': 0.9}\n",
      "\n",
      "Detailed classification report:\n",
      "\n",
      "The model is trained on the full development set.\n",
      "The scores are computed on the full evaluation set.\n",
      "\n",
      "             precision    recall  f1-score   support\n",
      "\n",
      "          2       0.95      0.99      0.97       142\n",
      "          4       0.97      0.90      0.94        84\n",
      "\n",
      "avg / total       0.96      0.96      0.96       226\n",
      "\n",
      "\n"
     ]
    }
   ],
   "source": [
    "print(__doc__)\n",
    "\n",
    "# Loading the Digits dataset\n",
    "#digits = datasets.load_digits()\n",
    "\n",
    "# To apply an classifier on this data, we need to flatten the image, to\n",
    "# turn the data in a (samples, feature) matrix:\n",
    "n_samples = len(df)\n",
    "\n",
    "\n",
    "# Set the parameters by cross-validation\n",
    "\n",
    "params_fixed = {\n",
    "    'objective': 'binary:logistic',\n",
    "    'colsample_bytree': 0.7,\n",
    "    'learning_rate': 0.1,\n",
    "    'max_depth': 5,\n",
    "    'n_estimators': 75,\n",
    "    'silent': 1\n",
    "}\n",
    "scores = ['recall']\n",
    "\n",
    "for score in scores:\n",
    "    print(\"# Tuning hyper-parameters for %s\" % score)\n",
    "    print()\n",
    "\n",
    "    clf4 = GridSearchCV(estimator=XGBClassifier(**params_fixed, seed=random_state),\n",
    "    param_grid=tuned_parameters4, cv=cv, scoring='%s_macro' % score)\n",
    "    clf4.fit(X_train, y_train)\n",
    "\n",
    "    print(\"Best parameters set found on development set:\")\n",
    "    print()\n",
    "    print(clf4.best_params_)\n",
    "    print()\n",
    "    print(\"Grid scores on development set:\")\n",
    "    print()\n",
    "    means = clf4.cv_results_['mean_test_score']\n",
    "    stds = clf4.cv_results_['std_test_score']\n",
    "    for mean, std, params in zip(means, stds, clf4.cv_results_['params']):\n",
    "        print(\"%0.3f (+/-%0.03f) for %r\"\n",
    "              % (mean, std * 2, params))\n",
    "    print()\n",
    "\n",
    "    print(\"Detailed classification report:\")\n",
    "    print()\n",
    "    print(\"The model is trained on the full development set.\")\n",
    "    print(\"The scores are computed on the full evaluation set.\")\n",
    "    print()\n",
    "    y_true, y_pred4 = y_test, clf4.predict(X_test)\n",
    "    print(classification_report(y_true, y_pred4))\n",
    "    print()"
   ]
  },
  {
   "cell_type": "markdown",
   "metadata": {},
   "source": [
    "# sampai sini dan bagusan yang awal"
   ]
  },
  {
   "cell_type": "code",
   "execution_count": 38,
   "metadata": {
    "collapsed": false
   },
   "outputs": [
    {
     "data": {
      "text/plain": [
       "0.97081568668972495"
      ]
     },
     "execution_count": 38,
     "metadata": {},
     "output_type": "execute_result"
    }
   ],
   "source": [
    "clf4.best_score_"
   ]
  },
  {
   "cell_type": "code",
   "execution_count": 39,
   "metadata": {
    "collapsed": false
   },
   "outputs": [
    {
     "data": {
      "text/plain": [
       "XGBClassifier(base_score=0.5, colsample_bylevel=1, colsample_bytree=0.7,\n",
       "       gamma=0, learning_rate=0.1, max_delta_step=0, max_depth=5,\n",
       "       min_child_weight=6, missing=None, n_estimators=75, nthread=-1,\n",
       "       objective='binary:logistic', reg_alpha=0.05, reg_lambda=1,\n",
       "       scale_pos_weight=1, seed=42, silent=1, subsample=0.8)"
      ]
     },
     "execution_count": 39,
     "metadata": {},
     "output_type": "execute_result"
    }
   ],
   "source": [
    "clf4.best_estimator_"
   ]
  },
  {
   "cell_type": "code",
   "execution_count": 67,
   "metadata": {
    "collapsed": false
   },
   "outputs": [
    {
     "data": {
      "text/plain": [
       "XGBClassifier(base_score=0.5, colsample_bylevel=1, colsample_bytree=0.6,\n",
       "       gamma=0, learning_rate=0.0005, max_delta_step=0, max_depth=3,\n",
       "       min_child_weight=7, missing=None, n_estimators=100, nthread=-1,\n",
       "       objective='binary:logistic', reg_alpha=0.05, reg_lambda=1,\n",
       "       scale_pos_weight=1, seed=42, silent=1, subsample=0.75)"
      ]
     },
     "execution_count": 67,
     "metadata": {},
     "output_type": "execute_result"
    }
   ],
   "source": [
    "xgb4=XGBClassifier(base_score=0.5, colsample_bylevel=1, colsample_bytree=0.6,\n",
    "       gamma=0, learning_rate=0.0005, max_delta_step=0, max_depth=3,\n",
    "       min_child_weight=7, missing=None, n_estimators=100, nthread=-1,\n",
    "       objective='binary:logistic', reg_alpha=0.05, reg_lambda=1,\n",
    "       scale_pos_weight=1, seed=42, silent=1, subsample=0.75)\n",
    "xgb4.fit(X_train,y_train)"
   ]
  },
  {
   "cell_type": "code",
   "execution_count": 68,
   "metadata": {
    "collapsed": false
   },
   "outputs": [
    {
     "name": "stdout",
     "output_type": "stream",
     "text": [
      "Akurasi: 0.9610\n",
      "Precision: 0.9474\n",
      "Recall: 0.9351\n",
      "F1: 0.9412\n"
     ]
    }
   ],
   "source": [
    "y_pred4 = xgb4.predict(X_test)\n",
    "accuracy = accuracy_score(y_test, y_pred4)\n",
    "precision, recall, f1, _ = precision_recall_fscore_support(y_test, y_pred4)\n",
    "print (('Akurasi: %.4f') % (accuracy))\n",
    "print (('Precision: %.4f') % (precision[1]))\n",
    "print (('Recall: %.4f') % (recall[1]))\n",
    "print (('F1: %.4f') % (f1[1]))"
   ]
  },
  {
   "cell_type": "code",
   "execution_count": 69,
   "metadata": {
    "collapsed": true
   },
   "outputs": [],
   "source": [
    "tuned_parameters5 = [{'gamma':[i/10.0 for i in range(0,5)],},]"
   ]
  },
  {
   "cell_type": "code",
   "execution_count": 70,
   "metadata": {
    "collapsed": false
   },
   "outputs": [
    {
     "name": "stdout",
     "output_type": "stream",
     "text": [
      "Automatically created module for IPython interactive environment\n",
      "# Tuning hyper-parameters for recall\n",
      "\n",
      "Best parameters set found on development set:\n",
      "\n",
      "{'gamma': 0.0}\n",
      "\n",
      "Grid scores on development set:\n",
      "\n",
      "0.951 (+/-0.069) for {'gamma': 0.0}\n",
      "0.951 (+/-0.069) for {'gamma': 0.1}\n",
      "0.951 (+/-0.069) for {'gamma': 0.2}\n",
      "0.951 (+/-0.069) for {'gamma': 0.3}\n",
      "0.951 (+/-0.069) for {'gamma': 0.4}\n",
      "\n",
      "Detailed classification report:\n",
      "\n",
      "The model is trained on the full development set.\n",
      "The scores are computed on the full evaluation set.\n",
      "\n",
      "             precision    recall  f1-score   support\n",
      "\n",
      "          2       0.97      0.97      0.97       154\n",
      "          4       0.95      0.94      0.94        77\n",
      "\n",
      "avg / total       0.96      0.96      0.96       231\n",
      "\n",
      "\n"
     ]
    }
   ],
   "source": [
    "print(__doc__)\n",
    "\n",
    "# Loading the Digits dataset\n",
    "#digits = datasets.load_digits()\n",
    "\n",
    "# To apply an classifier on this data, we need to flatten the image, to\n",
    "# turn the data in a (samples, feature) matrix:\n",
    "n_samples = len(df)\n",
    "\n",
    "\n",
    "# Set the parameters by cross-validation\n",
    "\n",
    "params_fixed = {\n",
    "    'objective': 'binary:logistic',\n",
    "    'colsample_bytree': 0.6,\n",
    "    'learning_rate': 0.0005,\n",
    "    'max_depth': 3,\n",
    "    'n_estimators': 100,\n",
    "    'min_child_weight': 7, \n",
    "    'reg_alpha': 0.05, \n",
    "    'subsample': 0.75,\n",
    "    'silent': 1\n",
    "}\n",
    "scores = ['recall']\n",
    "\n",
    "for score in scores:\n",
    "    print(\"# Tuning hyper-parameters for %s\" % score)\n",
    "    print()\n",
    "\n",
    "    clf5 = GridSearchCV(estimator=XGBClassifier(**params_fixed, seed=random_state),\n",
    "    param_grid=tuned_parameters5, cv=cv, scoring='%s_macro' % score)\n",
    "    clf5.fit(X_train, y_train)\n",
    "\n",
    "    print(\"Best parameters set found on development set:\")\n",
    "    print()\n",
    "    print(clf5.best_params_)\n",
    "    print()\n",
    "    print(\"Grid scores on development set:\")\n",
    "    print()\n",
    "    means = clf5.cv_results_['mean_test_score']\n",
    "    stds = clf5.cv_results_['std_test_score']\n",
    "    for mean, std, params in zip(means, stds, clf5.cv_results_['params']):\n",
    "        print(\"%0.3f (+/-%0.03f) for %r\"\n",
    "              % (mean, std * 2, params))\n",
    "    print()\n",
    "\n",
    "    print(\"Detailed classification report:\")\n",
    "    print()\n",
    "    print(\"The model is trained on the full development set.\")\n",
    "    print(\"The scores are computed on the full evaluation set.\")\n",
    "    print()\n",
    "    y_true, y_pred5 = y_test, clf5.predict(X_test)\n",
    "    print(classification_report(y_true, y_pred5))\n",
    "    print()"
   ]
  },
  {
   "cell_type": "code",
   "execution_count": 71,
   "metadata": {
    "collapsed": false
   },
   "outputs": [
    {
     "data": {
      "text/plain": [
       "XGBClassifier(base_score=0.5, colsample_bylevel=1, colsample_bytree=0.6,\n",
       "       gamma=0, learning_rate=0.0005, max_delta_step=0, max_depth=3,\n",
       "       min_child_weight=7, missing=None, n_estimators=100, nthread=-1,\n",
       "       objective='binary:logistic', reg_alpha=0.05, reg_lambda=1,\n",
       "       scale_pos_weight=1, seed=42, silent=1, subsample=0.75)"
      ]
     },
     "execution_count": 71,
     "metadata": {},
     "output_type": "execute_result"
    }
   ],
   "source": [
    "xgb_gab=XGBClassifier(base_score=0.5, colsample_bylevel=1, colsample_bytree=0.6,\n",
    "       gamma=0, learning_rate=0.0005, max_delta_step=0, max_depth=3,\n",
    "       min_child_weight=7, missing=None, n_estimators=100, nthread=-1,\n",
    "       objective='binary:logistic', reg_alpha=0.05, reg_lambda=1,\n",
    "       scale_pos_weight=1, seed=42, silent=1, subsample=0.75)\n",
    "xgb_gab.fit(X_train,y_train)"
   ]
  },
  {
   "cell_type": "code",
   "execution_count": 72,
   "metadata": {
    "collapsed": false
   },
   "outputs": [
    {
     "name": "stdout",
     "output_type": "stream",
     "text": [
      "Akurasi: 0.9610\n",
      "Precision: 0.9474\n",
      "Recall: 0.9351\n",
      "F1: 0.9412\n"
     ]
    }
   ],
   "source": [
    "y_pred_gab = xgb_gab.predict(X_test)\n",
    "accuracy = accuracy_score(y_test, y_pred_gab)\n",
    "precision, recall, f1, _ = precision_recall_fscore_support(y_test, y_pred_gab)\n",
    "print (('Akurasi: %.4f') % (accuracy))\n",
    "print (('Precision: %.4f') % (precision[1]))\n",
    "print (('Recall: %.4f') % (recall[1]))\n",
    "print (('F1: %.4f') % (f1[1]))"
   ]
  }
 ],
 "metadata": {
  "anaconda-cloud": {},
  "kernelspec": {
   "display_name": "Python 3",
   "language": "python",
   "name": "python3"
  },
  "language_info": {
   "codemirror_mode": {
    "name": "ipython",
    "version": 3
   },
   "file_extension": ".py",
   "mimetype": "text/x-python",
   "name": "python",
   "nbconvert_exporter": "python",
   "pygments_lexer": "ipython3",
   "version": "3.6.0"
  }
 },
 "nbformat": 4,
 "nbformat_minor": 1
}
