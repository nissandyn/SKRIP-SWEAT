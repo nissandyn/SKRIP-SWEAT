{
 "cells": [
  {
   "cell_type": "code",
   "execution_count": 1,
   "metadata": {
    "collapsed": true
   },
   "outputs": [],
   "source": [
    "import numpy as np\n",
    "seed = 7\n",
    "np.random.seed(seed)"
   ]
  },
  {
   "cell_type": "code",
   "execution_count": 2,
   "metadata": {
    "collapsed": false
   },
   "outputs": [
    {
     "name": "stderr",
     "output_type": "stream",
     "text": [
      "Using Theano backend.\n"
     ]
    }
   ],
   "source": [
    "from keras.models import Sequential\n",
    "from keras.layers import Dense\n",
    "from keras.wrappers.scikit_learn import KerasClassifier\n",
    "from sklearn.model_selection import StratifiedKFold\n",
    "from sklearn.model_selection import cross_val_score\n",
    "from keras.models import Sequential\n",
    "from keras.layers import Dense\n",
    "from keras.utils import np_utils"
   ]
  },
  {
   "cell_type": "code",
   "execution_count": 3,
   "metadata": {
    "collapsed": true
   },
   "outputs": [],
   "source": [
    "from keras import optimizers"
   ]
  },
  {
   "cell_type": "code",
   "execution_count": 4,
   "metadata": {
    "collapsed": true
   },
   "outputs": [],
   "source": [
    "import keras.backend as K"
   ]
  },
  {
   "cell_type": "code",
   "execution_count": 5,
   "metadata": {
    "collapsed": true
   },
   "outputs": [],
   "source": [
    "def recall(y_true, y_pred):\n",
    "    \"\"\"Recall metric.\n",
    "    Only computes a batch-wise average of recall.\n",
    "    Computes the recall, a metric for multi-label classification of\n",
    "    how many relevant items are selected.\n",
    "    \"\"\"\n",
    "    true_positives = K.sum(K.round(K.clip(y_true * y_pred, 0, 1)))\n",
    "    possible_positives = K.sum(K.round(K.clip(y_true, 0, 1)))\n",
    "    recall = true_positives / (possible_positives + K.epsilon())\n",
    "    return recall"
   ]
  },
  {
   "cell_type": "code",
   "execution_count": 6,
   "metadata": {
    "collapsed": true
   },
   "outputs": [],
   "source": [
    "def specificity(y_true, y_pred):\n",
    "    y_pred_pos = K.round(K.clip(y_pred, 0, 1))\n",
    "    y_pred_neg = 1 - y_pred_pos\n",
    "\n",
    "    y_pos = K.round(K.clip(y_true, 0, 1))\n",
    "    y_neg = 1 - y_pos\n",
    "\n",
    "    tp = K.sum(y_pos * y_pred_pos)\n",
    "    tn = K.sum(y_neg * y_pred_neg)\n",
    "\n",
    "    fp = K.sum(y_neg * y_pred_pos)\n",
    "    fn = K.sum(y_pos * y_pred_neg)\n",
    "    \n",
    "    spesifisitas=(tn/(fp+tn))\n",
    "    return spesifisitas"
   ]
  },
  {
   "cell_type": "raw",
   "metadata": {},
   "source": [
    "model = Sequential()\n",
    "model.add(Dense(10, input_dim=9, activation='relu'))\n",
    "model.add(Dense(10, activation='relu'))\n",
    "model.add(Dense(10, activation='relu'))\n",
    "model.add(Dense(10, activation='relu'))\n",
    "model.add(Dense(10, activation='relu'))\n",
    "model.add(Dense(10, activation='relu'))\n",
    "model.add(Dense(10, activation='relu'))\n",
    "model.add(Dense(10, activation='relu'))\n",
    "model.add(Dense(1, activation='sigmoid'))\n",
    "adm = optimizers.Adam(lr=0.01, beta_1=0.9, beta_2=0.999, epsilon=1e-08, decay=0.0)\n",
    "model.compile(loss='binary_crossentropy', optimizer=adm, metrics=['accuracy',recall,specificity])"
   ]
  },
  {
   "cell_type": "code",
   "execution_count": 8,
   "metadata": {
    "collapsed": true
   },
   "outputs": [],
   "source": [
    "from keras.models import load_model"
   ]
  },
  {
   "cell_type": "raw",
   "metadata": {},
   "source": [
    "model.save_weights('my_model_weights.h5')"
   ]
  },
  {
   "cell_type": "code",
   "execution_count": 9,
   "metadata": {
    "collapsed": true
   },
   "outputs": [],
   "source": [
    "import pandas as pd\n",
    "df = pd.read_csv(\"wbc.csv\")"
   ]
  },
  {
   "cell_type": "code",
   "execution_count": 10,
   "metadata": {
    "collapsed": true
   },
   "outputs": [],
   "source": [
    "df=df.replace('?',np.nan)\n",
    "df['bare_nuclei'] = pd.to_numeric(df.bare_nuclei.fillna(df.bare_nuclei.median()))"
   ]
  },
  {
   "cell_type": "code",
   "execution_count": 11,
   "metadata": {
    "collapsed": false
   },
   "outputs": [],
   "source": [
    "X = df.drop([df.columns[-1]], axis=1)\n",
    "y = df.jenis.map({2: 0, 4: 1})"
   ]
  },
  {
   "cell_type": "code",
   "execution_count": 12,
   "metadata": {
    "collapsed": true
   },
   "outputs": [],
   "source": [
    "from sklearn.model_selection import train_test_split\n",
    "X_train, X_test, y_train, y_test = train_test_split(X, y,test_size=0.33, random_state=seed )"
   ]
  },
  {
   "cell_type": "raw",
   "metadata": {},
   "source": [
    "model.load_weights('my_model_weights.h5')"
   ]
  },
  {
   "cell_type": "raw",
   "metadata": {},
   "source": [
    "model.fit(X_train.as_matrix(), y_train, epochs=10, class_weight = {0: 1.0, 1: 8}, verbose=0)"
   ]
  },
  {
   "cell_type": "raw",
   "metadata": {},
   "source": [
    "scores = model.evaluate(X_train.as_matrix(), y_train)\n",
    "print(\"\\n%s: %.2f%%\" % (model.metrics_names[1], scores[1]*100))\n",
    "print(\"\\n%s: %.2f%%\" % (model.metrics_names[2], scores[2]*100))\n",
    "print(\"\\n%s: %.2f%%\" % (model.metrics_names[3], scores[3]*100))"
   ]
  },
  {
   "cell_type": "raw",
   "metadata": {},
   "source": [
    "model.load_weights('my_model_weights.h5')"
   ]
  },
  {
   "cell_type": "raw",
   "metadata": {},
   "source": [
    "model.fit(X_train.as_matrix(), y_train, epochs=10, class_weight = {0: 1.0, 1: 8}, verbose=0)"
   ]
  },
  {
   "cell_type": "raw",
   "metadata": {},
   "source": [
    "scores = model.evaluate(X_train.as_matrix(), y_train)\n",
    "print(\"\\n%s: %.2f%%\" % (model.metrics_names[1], scores[1]*100))\n",
    "print(\"\\n%s: %.2f%%\" % (model.metrics_names[2], scores[2]*100))\n",
    "print(\"\\n%s: %.2f%%\" % (model.metrics_names[3], scores[3]*100))"
   ]
  },
  {
   "cell_type": "raw",
   "metadata": {},
   "source": [
    "model.load_weights('my_model_weights.h5')"
   ]
  },
  {
   "cell_type": "raw",
   "metadata": {},
   "source": [
    "model.fit(X_train.as_matrix(), y_train, epochs=10, class_weight = {0: 1.0, 1: 8}, verbose=0)"
   ]
  },
  {
   "cell_type": "raw",
   "metadata": {},
   "source": [
    "scores = model.evaluate(X_train.as_matrix(), y_train)\n",
    "print(\"\\n%s: %.2f%%\" % (model.metrics_names[1], scores[1]*100))\n",
    "print(\"\\n%s: %.2f%%\" % (model.metrics_names[2], scores[2]*100))\n",
    "print(\"\\n%s: %.2f%%\" % (model.metrics_names[3], scores[3]*100))"
   ]
  },
  {
   "cell_type": "code",
   "execution_count": 13,
   "metadata": {
    "collapsed": true
   },
   "outputs": [],
   "source": [
    "from sklearn.model_selection import StratifiedKFold\n",
    "import numpy as np"
   ]
  },
  {
   "cell_type": "code",
   "execution_count": 14,
   "metadata": {
    "collapsed": true
   },
   "outputs": [],
   "source": [
    "kfold = StratifiedKFold(n_splits=10, shuffle=True, random_state=seed)"
   ]
  },
  {
   "cell_type": "code",
   "execution_count": 15,
   "metadata": {
    "collapsed": true
   },
   "outputs": [],
   "source": [
    "cvscores = []\n",
    "cvscores2 = []\n",
    "cvscores3 = []"
   ]
  },
  {
   "cell_type": "code",
   "execution_count": 17,
   "metadata": {
    "collapsed": false
   },
   "outputs": [
    {
     "name": "stdout",
     "output_type": "stream",
     "text": [
      " 32/468 [=>............................] - ETA: 0s\n",
      "acc: 97.86%\n",
      "recall: 100.00%\n",
      "specificity: 96.96%\n",
      "\n",
      "\n",
      " 32/468 [=>............................] - ETA: 0s\n",
      "acc: 96.58%\n",
      "recall: 100.00%\n",
      "specificity: 94.87%\n",
      "\n",
      "\n",
      " 32/468 [=>............................] - ETA: 0s\n",
      "acc: 97.22%\n",
      "recall: 100.00%\n",
      "specificity: 95.72%\n",
      "\n",
      "\n",
      " 32/468 [=>............................] - ETA: 0s\n",
      "acc: 97.44%\n",
      "recall: 100.00%\n",
      "specificity: 96.05%\n",
      "\n",
      "\n",
      " 32/468 [=>............................] - ETA: 0s\n",
      "acc: 98.50%\n",
      "recall: 100.00%\n",
      "specificity: 97.86%\n",
      "\n",
      "\n",
      " 32/468 [=>............................] - ETA: 0s\n",
      "acc: 97.65%\n",
      "recall: 100.00%\n",
      "specificity: 96.58%\n",
      "\n",
      "\n",
      " 32/468 [=>............................] - ETA: 0s\n",
      "acc: 98.08%\n",
      "recall: 100.00%\n",
      "specificity: 97.08%\n",
      "\n",
      "\n",
      " 32/468 [=>............................] - ETA: 0s\n",
      "acc: 97.22%\n",
      "recall: 98.58%\n",
      "specificity: 96.41%\n",
      "\n",
      "\n",
      " 32/468 [=>............................] - ETA: 0s\n",
      "acc: 98.29%\n",
      "recall: 99.32%\n",
      "specificity: 97.83%\n",
      "\n",
      "\n",
      " 32/468 [=>............................] - ETA: 0s\n",
      "acc: 97.86%\n",
      "recall: 100.00%\n",
      "specificity: 96.86%\n",
      "\n",
      "\n",
      "97.79% (+/- 0.59%)\n",
      "99.85% (+/- 0.39%)\n",
      "96.79% (+/- 0.91%)\n"
     ]
    }
   ],
   "source": [
    "for train in kfold.split(X_train, y_train):\n",
    "  # create model\n",
    "    model = Sequential()\n",
    "    model.add(Dense(10, input_dim=9, activation='relu'))\n",
    "    model.add(Dense(10, activation='relu'))\n",
    "    model.add(Dense(10, activation='relu'))\n",
    "    model.add(Dense(10, activation='relu'))\n",
    "    model.add(Dense(10, activation='relu'))\n",
    "    model.add(Dense(10, activation='relu'))\n",
    "    model.add(Dense(10, activation='relu'))\n",
    "    model.add(Dense(10, activation='relu'))\n",
    "    model.add(Dense(1, activation='sigmoid'))\n",
    "    adm = optimizers.Adam(lr=0.01, beta_1=0.9, beta_2=0.999, epsilon=1e-08, decay=0.0)\n",
    "    model.compile(loss='binary_crossentropy', optimizer=adm, metrics=['accuracy',recall,specificity])\n",
    "    model.save_weights('my_model_weights.h5')\n",
    "    model.load_weights('my_model_weights.h5')\n",
    "    model.fit(X_train.as_matrix(), y_train, epochs=10, class_weight = {0: 1.0, 1: 8}, verbose=0)\n",
    "\n",
    "    scores = model.evaluate(X_train.as_matrix(), y_train)\n",
    "    print(\"\\n%s: %.2f%%\" % (model.metrics_names[1], scores[1]*100))\n",
    "    print(\"%s: %.2f%%\" % (model.metrics_names[2], scores[2]*100))\n",
    "    print(\"%s: %.2f%%\" % (model.metrics_names[3], scores[3]*100))\n",
    "    print()\n",
    "    print()\n",
    "    \n",
    "    cvscores.append(scores[1] * 100)\n",
    "    cvscores2.append(scores[2] * 100)\n",
    "    cvscores3.append(scores[3] * 100)\n",
    "\n",
    "print(\"%.2f%% (+/- %.2f%%)\" % (np.mean(cvscores), np.std(cvscores)))\n",
    "print(\"%.2f%% (+/- %.2f%%)\" % (np.mean(cvscores2), np.std(cvscores2)))   \n",
    "print(\"%.2f%% (+/- %.2f%%)\" % (np.mean(cvscores3), np.std(cvscores3)))   "
   ]
  },
  {
   "cell_type": "code",
   "execution_count": null,
   "metadata": {
    "collapsed": true
   },
   "outputs": [],
   "source": []
  }
 ],
 "metadata": {
  "kernelspec": {
   "display_name": "Python 3",
   "language": "python",
   "name": "python3"
  },
  "language_info": {
   "codemirror_mode": {
    "name": "ipython",
    "version": 3
   },
   "file_extension": ".py",
   "mimetype": "text/x-python",
   "name": "python",
   "nbconvert_exporter": "python",
   "pygments_lexer": "ipython3",
   "version": "3.5.3"
  }
 },
 "nbformat": 4,
 "nbformat_minor": 2
}
