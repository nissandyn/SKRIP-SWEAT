{
 "cells": [
  {
   "cell_type": "code",
   "execution_count": 1,
   "metadata": {
    "collapsed": false
   },
   "outputs": [
    {
     "name": "stderr",
     "output_type": "stream",
     "text": [
      "Using Theano backend.\n"
     ]
    }
   ],
   "source": [
    "from keras.models import Sequential\n",
    "from keras.layers import Dense\n",
    "from keras.wrappers.scikit_learn import KerasClassifier\n",
    "from sklearn.model_selection import StratifiedKFold\n",
    "from sklearn.model_selection import cross_val_score\n",
    "from keras.models import Sequential\n",
    "from keras.layers import Dense\n",
    "from keras.utils import np_utils\n",
    "from keras.wrappers.scikit_learn import KerasClassifier\n",
    "from sklearn.model_selection import StratifiedKFold\n",
    "from sklearn.model_selection import cross_val_score\n",
    "import numpy as np"
   ]
  },
  {
   "cell_type": "code",
   "execution_count": 2,
   "metadata": {
    "collapsed": false
   },
   "outputs": [],
   "source": [
    "from keras import optimizers"
   ]
  },
  {
   "cell_type": "code",
   "execution_count": 3,
   "metadata": {
    "collapsed": false
   },
   "outputs": [],
   "source": [
    "# Function to create model, required for KerasClassifier\n",
    "def create_model1():\n",
    "    model1 = Sequential()\n",
    "    model1.add(Dense(81, input_dim=9, activation='relu'))\n",
    "    model1.add(Dense(1, activation='sigmoid'))\n",
    "    adm = optimizers.Adam(lr=0.01, beta_1=0.9, beta_2=0.999, epsilon=1e-08, decay=0.0)\n",
    "    model1.compile(loss='binary_crossentropy', optimizer=adm, metrics=['accuracy'])\n",
    "    return model1"
   ]
  },
  {
   "cell_type": "code",
   "execution_count": 4,
   "metadata": {
    "collapsed": true
   },
   "outputs": [],
   "source": [
    "seed=84"
   ]
  },
  {
   "cell_type": "code",
   "execution_count": 5,
   "metadata": {
    "collapsed": true
   },
   "outputs": [],
   "source": [
    "np.random.seed(seed)"
   ]
  },
  {
   "cell_type": "code",
   "execution_count": 6,
   "metadata": {
    "collapsed": false
   },
   "outputs": [],
   "source": [
    "import pandas as pd\n",
    "dfb = pd.read_csv(\"wbc.csv\")"
   ]
  },
  {
   "cell_type": "code",
   "execution_count": 7,
   "metadata": {
    "collapsed": false
   },
   "outputs": [],
   "source": [
    "dfb=dfb[dfb.bare_nuclei!='?']\n",
    "dfb['bare_nuclei']=dfb['bare_nuclei'].astype(object).astype(int)"
   ]
  },
  {
   "cell_type": "code",
   "execution_count": 8,
   "metadata": {
    "collapsed": false
   },
   "outputs": [],
   "source": [
    "X = dfb.drop([dfb.columns[-1]], axis=1)\n",
    "y = dfb.jenis.map({2: 0, 4: 1})"
   ]
  },
  {
   "cell_type": "code",
   "execution_count": 9,
   "metadata": {
    "collapsed": false
   },
   "outputs": [],
   "source": [
    "from sklearn.model_selection import train_test_split\n",
    "X_train, X_test, y_train, y_test = train_test_split(X, y, test_size=0.33, random_state=seed)"
   ]
  },
  {
   "cell_type": "raw",
   "metadata": {
    "collapsed": false
   },
   "source": [
    "y_train = np_utils.to_categorical(y_train)"
   ]
  },
  {
   "cell_type": "markdown",
   "metadata": {
    "collapsed": false
   },
   "source": [
    "y_test = np_utils.to_categorical(y_test)\n",
    "#y_test.shape"
   ]
  },
  {
   "cell_type": "code",
   "execution_count": 10,
   "metadata": {
    "collapsed": true
   },
   "outputs": [],
   "source": [
    "def create_model2():\n",
    "    model2 = Sequential()\n",
    "    model2.add(Dense(23, input_dim=9, activation='relu'))\n",
    "    model2.add(Dense(23, activation='relu'))\n",
    "    model2.add(Dense(1, activation='sigmoid'))\n",
    "    adm = optimizers.Adam(lr=0.01, beta_1=0.9, beta_2=0.999, epsilon=1e-08, decay=0.0)\n",
    "    model2.compile(loss='binary_crossentropy', optimizer=adm, metrics=['accuracy'])\n",
    "    return model2"
   ]
  },
  {
   "cell_type": "code",
   "execution_count": 11,
   "metadata": {
    "collapsed": true
   },
   "outputs": [],
   "source": [
    "def create_model3():\n",
    "    model3 = Sequential()\n",
    "    model3.add(Dense(17, input_dim=9, activation='relu'))\n",
    "    model3.add(Dense(17, activation='relu'))\n",
    "    model3.add(Dense(17, activation='relu'))\n",
    "    model3.add(Dense(1, activation='sigmoid'))\n",
    "    adm = optimizers.Adam(lr=0.01, beta_1=0.9, beta_2=0.999, epsilon=1e-08, decay=0.0)\n",
    "    model3.compile(loss='binary_crossentropy', optimizer=adm, metrics=['accuracy'])\n",
    "    return model3"
   ]
  },
  {
   "cell_type": "code",
   "execution_count": 12,
   "metadata": {
    "collapsed": true
   },
   "outputs": [],
   "source": [
    "def create_model4():\n",
    "    model4 = Sequential()\n",
    "    model4.add(Dense(14, input_dim=9, activation='relu'))\n",
    "    model4.add(Dense(14, activation='relu'))\n",
    "    model4.add(Dense(14, activation='relu'))\n",
    "    model4.add(Dense(14, activation='relu'))\n",
    "    model4.add(Dense(1, activation='sigmoid'))\n",
    "    adm = optimizers.Adam(lr=0.01, beta_1=0.9, beta_2=0.999, epsilon=1e-08, decay=0.0)\n",
    "    model4.compile(loss='binary_crossentropy', optimizer=adm, metrics=['accuracy'])\n",
    "    return model4"
   ]
  },
  {
   "cell_type": "code",
   "execution_count": 13,
   "metadata": {
    "collapsed": true
   },
   "outputs": [],
   "source": [
    "def create_model5():\n",
    "    model5 = Sequential()\n",
    "    model5.add(Dense(12, input_dim=9, activation='relu'))\n",
    "    model5.add(Dense(12, activation='relu'))\n",
    "    model5.add(Dense(12, activation='relu'))\n",
    "    model5.add(Dense(12, activation='relu'))\n",
    "    model5.add(Dense(12, activation='relu'))\n",
    "    model5.add(Dense(1, activation='sigmoid'))\n",
    "    adm = optimizers.Adam(lr=0.01, beta_1=0.9, beta_2=0.999, epsilon=1e-08, decay=0.0)\n",
    "    model5.compile(loss='binary_crossentropy', optimizer=adm, metrics=['accuracy'])\n",
    "    return model5"
   ]
  },
  {
   "cell_type": "code",
   "execution_count": 14,
   "metadata": {
    "collapsed": false
   },
   "outputs": [],
   "source": [
    "def create_model6():\n",
    "    model6 = Sequential()\n",
    "    model6.add(Dense(11, input_dim=9, activation='relu'))\n",
    "    model6.add(Dense(11, activation='relu'))\n",
    "    model6.add(Dense(11, activation='relu'))\n",
    "    model6.add(Dense(11, activation='relu'))\n",
    "    model6.add(Dense(11, activation='relu'))\n",
    "    model6.add(Dense(11, activation='relu'))\n",
    "    model6.add(Dense(1, activation='sigmoid'))\n",
    "    adm = optimizers.Adam(lr=0.01, beta_1=0.9, beta_2=0.999, epsilon=1e-08, decay=0.0)\n",
    "    model6.compile(loss='binary_crossentropy', optimizer=adm, metrics=['accuracy'])\n",
    "    return model6"
   ]
  },
  {
   "cell_type": "code",
   "execution_count": 15,
   "metadata": {
    "collapsed": false
   },
   "outputs": [],
   "source": [
    "def create_model7():\n",
    "    model7 = Sequential()\n",
    "    model7.add(Dense(10, input_dim=9, activation='relu'))\n",
    "    model7.add(Dense(10, activation='relu'))\n",
    "    model7.add(Dense(10, activation='relu'))\n",
    "    model7.add(Dense(10, activation='relu'))\n",
    "    model7.add(Dense(10, activation='relu'))\n",
    "    model7.add(Dense(10, activation='relu'))\n",
    "    model7.add(Dense(10, activation='relu'))\n",
    "    model7.add(Dense(2, activation='softmax'))\n",
    "    adm = optimizers.Adam(lr=0.01, beta_1=0.9, beta_2=0.999, epsilon=1e-08, decay=0.0)\n",
    "    model7.compile(loss='categorical_crossentropy', optimizer=adm, metrics=['accuracy'])\n",
    "    return model7"
   ]
  },
  {
   "cell_type": "code",
   "execution_count": 16,
   "metadata": {
    "collapsed": false
   },
   "outputs": [],
   "source": [
    "def create_model8():\n",
    "    model8 = Sequential()\n",
    "    model8.add(Dense(10, input_dim=9, activation='relu'))\n",
    "    model8.add(Dense(10, activation='relu'))\n",
    "    model8.add(Dense(10, activation='relu'))\n",
    "    model8.add(Dense(10, activation='relu'))\n",
    "    model8.add(Dense(10, activation='relu'))\n",
    "    model8.add(Dense(10, activation='relu'))\n",
    "    model8.add(Dense(10, activation='relu'))\n",
    "    model8.add(Dense(10, activation='relu'))\n",
    "    model8.add(Dense(1, activation='sigmoid'))\n",
    "    adm = optimizers.Adam(lr=0.01, beta_1=0.9, beta_2=0.999, epsilon=1e-08, decay=0.0)\n",
    "    model8.compile(loss='binary_crossentropy', optimizer=adm, metrics=['accuracy'])\n",
    "    return model8"
   ]
  },
  {
   "cell_type": "code",
   "execution_count": 17,
   "metadata": {
    "collapsed": false
   },
   "outputs": [],
   "source": [
    "def create_model9():\n",
    "    model9 = Sequential()\n",
    "    model9.add(Dense(9, input_dim=9, activation='relu'))\n",
    "    model9.add(Dense(9, activation='relu'))\n",
    "    model9.add(Dense(9, activation='relu'))\n",
    "    model9.add(Dense(9, activation='relu'))\n",
    "    model9.add(Dense(9, activation='relu'))\n",
    "    model9.add(Dense(9, activation='relu'))\n",
    "    model9.add(Dense(9, activation='relu'))\n",
    "    model9.add(Dense(9, activation='relu'))\n",
    "    model9.add(Dense(9, activation='relu'))\n",
    "    model9.add(Dense(1, activation='sigmoid'))\n",
    "    adm = optimizers.Adam(lr=0.01, beta_1=0.9, beta_2=0.999, epsilon=1e-08, decay=0.0)\n",
    "    model9.compile(loss='binary_crossentropy', optimizer=adm, metrics=['accuracy'])\n",
    "    return model9"
   ]
  },
  {
   "cell_type": "code",
   "execution_count": 18,
   "metadata": {
    "collapsed": false
   },
   "outputs": [],
   "source": [
    "def create_model10():\n",
    "    model10 = Sequential()\n",
    "    model10.add(Dense(9, input_dim=9, activation='relu'))\n",
    "    model10.add(Dense(9, activation='relu'))\n",
    "    model10.add(Dense(9, activation='relu'))\n",
    "    model10.add(Dense(9, activation='relu'))\n",
    "    model10.add(Dense(9, activation='relu'))\n",
    "    model10.add(Dense(9, activation='relu'))\n",
    "    model10.add(Dense(9, activation='relu'))\n",
    "    model10.add(Dense(9, activation='relu'))\n",
    "    model10.add(Dense(9, activation='relu'))\n",
    "    model10.add(Dense(9, activation='relu'))\n",
    "    model10.add(Dense(1, activation='sigmoid'))\n",
    "    adm = optimizers.Adam(lr=0.01, beta_1=0.9, beta_2=0.999, epsilon=1e-08, decay=0.0)\n",
    "    model10.compile(loss='binary_crossentropy', optimizer=adm, metrics=['accuracy'])\n",
    "    return model10"
   ]
  },
  {
   "cell_type": "code",
   "execution_count": 19,
   "metadata": {
    "collapsed": true
   },
   "outputs": [],
   "source": [
    "create_model = [create_model1, create_model2, create_model3, create_model4,\n",
    "                create_model5, create_model6, create_model7, create_model8,\n",
    "                create_model9, create_model10]"
   ]
  },
  {
   "cell_type": "code",
   "execution_count": 22,
   "metadata": {
    "collapsed": false
   },
   "outputs": [
    {
     "name": "stdout",
     "output_type": "stream",
     "text": [
      "Jumlah Hidden Layer : 1\n",
      "Accuracy: 0.9499 (+/- 0.0575)\n",
      "\n",
      "Jumlah Hidden Layer : 2\n",
      "Accuracy: 0.9607 (+/- 0.0289)\n",
      "\n",
      "Jumlah Hidden Layer : 3\n",
      "Accuracy: 0.9717 (+/- 0.0323)\n",
      "\n",
      "Jumlah Hidden Layer : 4\n",
      "Accuracy: 0.9630 (+/- 0.0337)\n",
      "\n",
      "Jumlah Hidden Layer : 5\n",
      "Accuracy: 0.9674 (+/- 0.0479)\n",
      "\n",
      "Jumlah Hidden Layer : 6\n",
      "Accuracy: 0.9630 (+/- 0.0401)\n",
      "\n",
      "Jumlah Hidden Layer : 7\n",
      "Accuracy: 0.9673 (+/- 0.0295)\n",
      "\n",
      "Jumlah Hidden Layer : 8\n",
      "Accuracy: 0.9673 (+/- 0.0437)\n",
      "\n",
      "Jumlah Hidden Layer : 9\n",
      "Accuracy: 0.9695 (+/- 0.0379)\n",
      "\n",
      "Jumlah Hidden Layer : 10\n",
      "Accuracy: 0.9673 (+/- 0.0295)\n",
      "\n"
     ]
    }
   ],
   "source": [
    "results=[]\n",
    "\n",
    "for model_idx in range(len(create_model)):\n",
    "    param1 = create_model[model_idx]\n",
    "    bestmodelNN = KerasClassifier(build_fn=param1,  verbose=0)\n",
    "    print(\"Jumlah Hidden Layer : %r\" % (model_idx+1))\n",
    "    scores2=cross_val_score(bestmodelNN,X_train.as_matrix(),y_train,cv=10,scoring='accuracy')\n",
    "    print(\"Accuracy: %0.4f (+/- %0.4f)\" % (scores2.mean(), scores2.std() ))\n",
    "    results.append(scores2.mean())\n",
    "    print()\n",
    "\n"
   ]
  },
  {
   "cell_type": "code",
   "execution_count": 23,
   "metadata": {
    "collapsed": true
   },
   "outputs": [],
   "source": [
    "hiddenLayer = [1, 2, 3, 4, 5,6,7,8,9,10]"
   ]
  },
  {
   "cell_type": "code",
   "execution_count": 24,
   "metadata": {
    "collapsed": true
   },
   "outputs": [],
   "source": [
    "import matplotlib.pyplot as plt"
   ]
  },
  {
   "cell_type": "code",
   "execution_count": 25,
   "metadata": {
    "collapsed": false
   },
   "outputs": [
    {
     "name": "stderr",
     "output_type": "stream",
     "text": [
      "c:\\users\\annisa\\anaconda3\\envs\\py35\\lib\\site-packages\\matplotlib\\axes\\_axes.py:545: UserWarning: No labelled objects found. Use label='...' kwarg on individual plots.\n",
      "  warnings.warn(\"No labelled objects found. \"\n"
     ]
    },
    {
     "data": {
      "image/png": "[encoded data removed]",
      "text/plain": [
       "<matplotlib.figure.Figure at 0xf87a240>"
      ]
     },
     "metadata": {},
     "output_type": "display_data"
    }
   ],
   "source": [
    "figure = plt.figure(figsize=(9,5))\n",
    "plt.plot(hiddenLayer, results, marker='o', color='green')\n",
    "plt.title(\"Akurasi vs Jumlah Hidden Layer\",fontsize=14)\n",
    "plt.xlabel('Jumlah Hidden Layer',fontsize=14)\n",
    "plt.ylabel('Akurasi',fontsize=14)\n",
    "plt.rc('xtick',labelsize=14)\n",
    "plt.rc('ytick',labelsize=14)\n",
    "plt.legend(prop={'size':14})\n",
    "plt.grid()\n",
    "plt.show()"
   ]
  },
  {
   "cell_type": "code",
   "execution_count": 26,
   "metadata": {
    "collapsed": true
   },
   "outputs": [],
   "source": [
    "dfb = pd.read_csv(\"wbc.csv\")\n",
    "dfb=dfb[dfb.bare_nuclei!='?']\n",
    "dfb['bare_nuclei']=dfb['bare_nuclei'].astype(object).astype(int)"
   ]
  },
  {
   "cell_type": "code",
   "execution_count": 27,
   "metadata": {
    "collapsed": true
   },
   "outputs": [],
   "source": [
    "A = dfb.drop([dfb.columns[-1]], axis=1)\n",
    "b = dfb.jenis.map({2: 0, 4: 1})"
   ]
  },
  {
   "cell_type": "code",
   "execution_count": 28,
   "metadata": {
    "collapsed": true
   },
   "outputs": [],
   "source": [
    "from sklearn.model_selection import train_test_split\n",
    "A_train, A_test, b_train, b_test = train_test_split(A, b, test_size=0.33, random_state=seed)"
   ]
  },
  {
   "cell_type": "code",
   "execution_count": 29,
   "metadata": {
    "collapsed": true
   },
   "outputs": [],
   "source": [
    "def create_model1a():\n",
    "    model1 = Sequential()\n",
    "    model1.add(Dense(63, input_dim=9, activation='relu'))\n",
    "    model1.add(Dense(1, activation='sigmoid'))\n",
    "    adm = optimizers.Adam(lr=0.01, beta_1=0.9, beta_2=0.999, epsilon=1e-08, decay=0.0)\n",
    "    model1.compile(loss='binary_crossentropy', optimizer=adm, metrics=['accuracy'])\n",
    "    return model1"
   ]
  },
  {
   "cell_type": "code",
   "execution_count": 30,
   "metadata": {
    "collapsed": true
   },
   "outputs": [],
   "source": [
    "def create_model2a():\n",
    "    model2 = Sequential()\n",
    "    model2.add(Dense(20, input_dim=9, activation='relu'))\n",
    "    model2.add(Dense(20, activation='relu'))\n",
    "    model2.add(Dense(1, activation='sigmoid'))\n",
    "    adm = optimizers.Adam(lr=0.01, beta_1=0.9, beta_2=0.999, epsilon=1e-08, decay=0.0)\n",
    "    model2.compile(loss='binary_crossentropy', optimizer=adm, metrics=['accuracy'])\n",
    "    return model2"
   ]
  },
  {
   "cell_type": "code",
   "execution_count": 31,
   "metadata": {
    "collapsed": true
   },
   "outputs": [],
   "source": [
    "def create_model3a():\n",
    "    model3 = Sequential()\n",
    "    model3.add(Dense(15, input_dim=9, activation='relu'))\n",
    "    model3.add(Dense(15, activation='relu'))\n",
    "    model3.add(Dense(15, activation='relu'))\n",
    "    model3.add(Dense(1, activation='sigmoid'))\n",
    "    adm = optimizers.Adam(lr=0.01, beta_1=0.9, beta_2=0.999, epsilon=1e-08, decay=0.0)\n",
    "    model3.compile(loss='binary_crossentropy', optimizer=adm, metrics=['accuracy'])\n",
    "    return model3"
   ]
  },
  {
   "cell_type": "code",
   "execution_count": 32,
   "metadata": {
    "collapsed": true
   },
   "outputs": [],
   "source": [
    "def create_model4a():\n",
    "    model4 = Sequential()\n",
    "    model4.add(Dense(12, input_dim=9, activation='relu'))\n",
    "    model4.add(Dense(12, activation='relu'))\n",
    "    model4.add(Dense(12, activation='relu'))\n",
    "    model4.add(Dense(12, activation='relu'))\n",
    "    model4.add(Dense(1, activation='sigmoid'))\n",
    "    adm = optimizers.Adam(lr=0.01, beta_1=0.9, beta_2=0.999, epsilon=1e-08, decay=0.0)\n",
    "    model4.compile(loss='binary_crossentropy', optimizer=adm, metrics=['accuracy'])\n",
    "    return model4"
   ]
  },
  {
   "cell_type": "code",
   "execution_count": 33,
   "metadata": {
    "collapsed": true
   },
   "outputs": [],
   "source": [
    "def create_model5a():\n",
    "    model5 = Sequential()\n",
    "    model5.add(Dense(11, input_dim=9, activation='relu'))\n",
    "    model5.add(Dense(11, activation='relu'))\n",
    "    model5.add(Dense(11, activation='relu'))\n",
    "    model5.add(Dense(11, activation='relu'))\n",
    "    model5.add(Dense(11, activation='relu'))\n",
    "    model5.add(Dense(1, activation='sigmoid'))\n",
    "    adm = optimizers.Adam(lr=0.01, beta_1=0.9, beta_2=0.999, epsilon=1e-08, decay=0.0)\n",
    "    model5.compile(loss='binary_crossentropy', optimizer=adm, metrics=['accuracy'])\n",
    "    return model5"
   ]
  },
  {
   "cell_type": "code",
   "execution_count": 34,
   "metadata": {
    "collapsed": true
   },
   "outputs": [],
   "source": [
    "def create_model6a():\n",
    "    model6 = Sequential()\n",
    "    model6.add(Dense(10, input_dim=9, activation='relu'))\n",
    "    model6.add(Dense(10, activation='relu'))\n",
    "    model6.add(Dense(10, activation='relu'))\n",
    "    model6.add(Dense(10, activation='relu'))\n",
    "    model6.add(Dense(10, activation='relu'))\n",
    "    model6.add(Dense(10, activation='relu'))\n",
    "    model6.add(Dense(1, activation='sigmoid'))\n",
    "    adm = optimizers.Adam(lr=0.01, beta_1=0.9, beta_2=0.999, epsilon=1e-08, decay=0.0)\n",
    "    model6.compile(loss='binary_crossentropy', optimizer=adm, metrics=['accuracy'])\n",
    "    return model6"
   ]
  },
  {
   "cell_type": "code",
   "execution_count": 35,
   "metadata": {
    "collapsed": true
   },
   "outputs": [],
   "source": [
    "def create_model7a():\n",
    "    model7 = Sequential()\n",
    "    model7.add(Dense(9, input_dim=9, activation='relu'))\n",
    "    model7.add(Dense(9, activation='relu'))\n",
    "    model7.add(Dense(9, activation='relu'))\n",
    "    model7.add(Dense(9, activation='relu'))\n",
    "    model7.add(Dense(9, activation='relu'))\n",
    "    model7.add(Dense(9, activation='relu'))\n",
    "    model7.add(Dense(9, activation='relu'))\n",
    "    model7.add(Dense(2, activation='softmax'))\n",
    "    adm = optimizers.Adam(lr=0.01, beta_1=0.9, beta_2=0.999, epsilon=1e-08, decay=0.0)\n",
    "    model7.compile(loss='categorical_crossentropy', optimizer=adm, metrics=['accuracy'])\n",
    "    return model7"
   ]
  },
  {
   "cell_type": "code",
   "execution_count": 36,
   "metadata": {
    "collapsed": true
   },
   "outputs": [],
   "source": [
    "def create_model8a():\n",
    "    model8 = Sequential()\n",
    "    model8.add(Dense(8, input_dim=9, activation='relu'))\n",
    "    model8.add(Dense(8, activation='relu'))\n",
    "    model8.add(Dense(8, activation='relu'))\n",
    "    model8.add(Dense(8, activation='relu'))\n",
    "    model8.add(Dense(8, activation='relu'))\n",
    "    model8.add(Dense(8, activation='relu'))\n",
    "    model8.add(Dense(8, activation='relu'))\n",
    "    model8.add(Dense(8, activation='relu'))\n",
    "    model8.add(Dense(1, activation='sigmoid'))\n",
    "    adm = optimizers.Adam(lr=0.01, beta_1=0.9, beta_2=0.999, epsilon=1e-08, decay=0.0)\n",
    "    model8.compile(loss='binary_crossentropy', optimizer=adm, metrics=['accuracy'])\n",
    "    return model8"
   ]
  },
  {
   "cell_type": "code",
   "execution_count": 37,
   "metadata": {
    "collapsed": true
   },
   "outputs": [],
   "source": [
    "def create_model9a():\n",
    "    model9 = Sequential()\n",
    "    model9.add(Dense(8, input_dim=9, activation='relu'))\n",
    "    model9.add(Dense(8, activation='relu'))\n",
    "    model9.add(Dense(8, activation='relu'))\n",
    "    model9.add(Dense(8, activation='relu'))\n",
    "    model9.add(Dense(8, activation='relu'))\n",
    "    model9.add(Dense(8, activation='relu'))\n",
    "    model9.add(Dense(8, activation='relu'))\n",
    "    model9.add(Dense(8, activation='relu'))\n",
    "    model9.add(Dense(8, activation='relu'))\n",
    "    model9.add(Dense(1, activation='sigmoid'))\n",
    "    adm = optimizers.Adam(lr=0.01, beta_1=0.9, beta_2=0.999, epsilon=1e-08, decay=0.0)\n",
    "    model9.compile(loss='binary_crossentropy', optimizer=adm, metrics=['accuracy'])\n",
    "    return model9"
   ]
  },
  {
   "cell_type": "code",
   "execution_count": 38,
   "metadata": {
    "collapsed": false
   },
   "outputs": [],
   "source": [
    "def create_model10a():\n",
    "    model10 = Sequential()\n",
    "    model10.add(Dense(7, input_dim=9, activation='relu'))\n",
    "    model10.add(Dense(7, activation='relu'))\n",
    "    model10.add(Dense(7, activation='relu'))\n",
    "    model10.add(Dense(7, activation='relu'))\n",
    "    model10.add(Dense(7, activation='relu'))\n",
    "    model10.add(Dense(7, activation='relu'))\n",
    "    model10.add(Dense(7, activation='relu'))\n",
    "    model10.add(Dense(7, activation='relu'))\n",
    "    model10.add(Dense(7, activation='relu'))\n",
    "    model10.add(Dense(7, activation='relu'))\n",
    "    model10.add(Dense(1, activation='sigmoid'))\n",
    "    adm = optimizers.Adam(lr=0.01, beta_1=0.9, beta_2=0.999, epsilon=1e-08, decay=0.0)\n",
    "    model10.compile(loss='binary_crossentropy', optimizer=adm, metrics=['accuracy'])\n",
    "    return model10"
   ]
  },
  {
   "cell_type": "code",
   "execution_count": 39,
   "metadata": {
    "collapsed": true
   },
   "outputs": [],
   "source": [
    "create_modelB = [create_model1a, create_model2a, create_model3a, create_model4a,\n",
    "                create_model5a, create_model6a, create_model7a, create_model8a,\n",
    "                create_model9a, create_model10a]"
   ]
  },
  {
   "cell_type": "code",
   "execution_count": 40,
   "metadata": {
    "collapsed": false
   },
   "outputs": [
    {
     "name": "stdout",
     "output_type": "stream",
     "text": [
      "Jumlah Hidden Layer : 1\n",
      "Accuracy: 0.9608 (+/- 0.0333)\n",
      "\n",
      "Jumlah Hidden Layer : 2\n",
      "Accuracy: 0.9454 (+/- 0.0458)\n",
      "\n",
      "Jumlah Hidden Layer : 3\n",
      "Accuracy: 0.9717 (+/- 0.0276)\n",
      "\n",
      "Jumlah Hidden Layer : 4\n",
      "Accuracy: 0.9520 (+/- 0.0252)\n",
      "\n",
      "Jumlah Hidden Layer : 5\n",
      "Accuracy: 0.9629 (+/- 0.0292)\n",
      "\n",
      "Jumlah Hidden Layer : 6\n",
      "Accuracy: 0.9717 (+/- 0.0323)\n",
      "\n",
      "Jumlah Hidden Layer : 7\n",
      "Accuracy: 0.9739 (+/- 0.0319)\n",
      "\n",
      "Jumlah Hidden Layer : 8\n",
      "Accuracy: 0.9695 (+/- 0.0339)\n",
      "\n",
      "Jumlah Hidden Layer : 9\n",
      "Accuracy: 0.9608 (+/- 0.0474)\n",
      "\n",
      "Jumlah Hidden Layer : 10\n",
      "Accuracy: 0.9630 (+/- 0.0351)\n",
      "\n"
     ]
    }
   ],
   "source": [
    "results2=[]\n",
    "\n",
    "for model_idx in range(len(create_modelB)):\n",
    "    param1 = create_modelB[model_idx]\n",
    "    bestmodelNN = KerasClassifier(build_fn=param1,  verbose=0)\n",
    "    print(\"Jumlah Hidden Layer : %r\" % (model_idx+1))\n",
    "    scores2b=cross_val_score(bestmodelNN,A_train.as_matrix(),b_train,cv=10,scoring='accuracy')\n",
    "    print(\"Accuracy: %0.4f (+/- %0.4f)\" % (scores2b.mean(), scores2b.std() ))\n",
    "    results2.append(scores2b.mean())\n",
    "    print()"
   ]
  },
  {
   "cell_type": "code",
   "execution_count": null,
   "metadata": {
    "collapsed": true
   },
   "outputs": [],
   "source": []
  },
  {
   "cell_type": "code",
   "execution_count": 77,
   "metadata": {
    "collapsed": false
   },
   "outputs": [
    {
     "name": "stderr",
     "output_type": "stream",
     "text": [
      "c:\\users\\annisa\\anaconda3\\envs\\py35\\lib\\site-packages\\matplotlib\\axes\\_axes.py:545: UserWarning: No labelled objects found. Use label='...' kwarg on individual plots.\n",
      "  warnings.warn(\"No labelled objects found. \"\n"
     ]
    },
    {
     "data": {
      "image/png": "[encoded data removed]",
      "text/plain": [
       "<matplotlib.figure.Figure at 0xec67dd8>"
      ]
     },
     "metadata": {},
     "output_type": "display_data"
    }
   ],
   "source": [
    "figure = plt.figure(figsize=(9,5))\n",
    "plt.plot(hiddenLayer, scoresA, marker='o', color='green')\n",
    "plt.title(\"Akurasi vs Jumlah Hidden Layer\",fontsize=14)\n",
    "plt.xlabel('Jumlah Hidden Layer',fontsize=14)\n",
    "plt.ylabel('Akurasi',fontsize=14)\n",
    "plt.rc('xtick',labelsize=14)\n",
    "plt.rc('ytick',labelsize=14)\n",
    "plt.legend(prop={'size':14})\n",
    "plt.grid()\n",
    "plt.show()"
   ]
  },
  {
   "cell_type": "code",
   "execution_count": 41,
   "metadata": {
    "collapsed": false
   },
   "outputs": [
    {
     "data": {
      "image/png": "[encoded data removed]",
      "text/plain": [
       "<matplotlib.figure.Figure at 0x113d16a0>"
      ]
     },
     "metadata": {},
     "output_type": "display_data"
    }
   ],
   "source": [
    "fig, ax = plt.subplots(figsize=(9,5))\n",
    "ax.plot(hiddenLayer, results, marker='o', label='Dataset A')\n",
    "ax.plot(hiddenLayer, results2, marker='o', label='Dataset B')\n",
    "plt.title(\"Akurasi vs Jumlah Hidden Layer\",fontsize=14)\n",
    "plt.xlabel('Jumlah Hidden Layer',fontsize=14)\n",
    "plt.ylabel('Akurasi',fontsize=14)\n",
    "plt.rc('xtick',labelsize=14)\n",
    "plt.rc('ytick',labelsize=14)\n",
    "plt.legend(prop={'size':14})\n",
    "plt.grid()\n",
    "plt.show()"
   ]
  },
  {
   "cell_type": "code",
   "execution_count": 81,
   "metadata": {
    "collapsed": false
   },
   "outputs": [
    {
     "data": {
      "text/plain": [
       "0.97603864436564236"
      ]
     },
     "execution_count": 81,
     "metadata": {},
     "output_type": "execute_result"
    }
   ],
   "source": [
    "scores8.mean()"
   ]
  },
  {
   "cell_type": "code",
   "execution_count": null,
   "metadata": {
    "collapsed": true
   },
   "outputs": [],
   "source": []
  }
 ],
 "metadata": {
  "kernelspec": {
   "display_name": "Python 3",
   "language": "python",
   "name": "python3"
  },
  "language_info": {
   "codemirror_mode": {
    "name": "ipython",
    "version": 3
   },
   "file_extension": ".py",
   "mimetype": "text/x-python",
   "name": "python",
   "nbconvert_exporter": "python",
   "pygments_lexer": "ipython3",
   "version": "3.5.3"
  }
 },
 "nbformat": 4,
 "nbformat_minor": 2
}
